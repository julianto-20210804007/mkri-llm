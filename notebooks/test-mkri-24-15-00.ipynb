{
 "cells": [
  {
   "cell_type": "markdown",
   "id": "2e2aa8f5",
   "metadata": {
    "papermill": {
     "duration": 0.006416,
     "end_time": "2024-01-08T03:05:38.433553",
     "exception": false,
     "start_time": "2024-01-08T03:05:38.427137",
     "status": "completed"
    },
    "tags": []
   },
   "source": [
    "https://www.kaggle.com/code/rkuo2000/chromadb-langchain-gpt4all\n",
    "\n",
    "https://python.langchain.com/docs/integrations/llms/gpt4all\n",
    "\n",
    "https://github.com/nomic-ai/gpt4all/tree/main/gpt4all-bindings/python\n",
    "\n",
    "https://www.kaggle.com/code/gpreda/test-gpt4all-on-kaggle"
   ]
  },
  {
   "cell_type": "code",
   "execution_count": 1,
   "id": "3566a953",
   "metadata": {
    "execution": {
     "iopub.execute_input": "2024-01-08T03:05:38.447642Z",
     "iopub.status.busy": "2024-01-08T03:05:38.446735Z",
     "iopub.status.idle": "2024-01-08T03:05:38.456623Z",
     "shell.execute_reply": "2024-01-08T03:05:38.455764Z"
    },
    "papermill": {
     "duration": 0.018843,
     "end_time": "2024-01-08T03:05:38.458579",
     "exception": false,
     "start_time": "2024-01-08T03:05:38.439736",
     "status": "completed"
    },
    "tags": []
   },
   "outputs": [],
   "source": [
    "import time\n",
    "start = time.time()"
   ]
  },
  {
   "cell_type": "code",
   "execution_count": 2,
   "id": "8d5dc613",
   "metadata": {
    "execution": {
     "iopub.execute_input": "2024-01-08T03:05:38.471775Z",
     "iopub.status.busy": "2024-01-08T03:05:38.471530Z",
     "iopub.status.idle": "2024-01-08T03:05:39.524983Z",
     "shell.execute_reply": "2024-01-08T03:05:39.523882Z"
    },
    "papermill": {
     "duration": 1.063195,
     "end_time": "2024-01-08T03:05:39.527914",
     "exception": false,
     "start_time": "2024-01-08T03:05:38.464719",
     "status": "completed"
    },
    "tags": []
   },
   "outputs": [
    {
     "name": "stdout",
     "output_type": "stream",
     "text": [
      "GPU 0: Tesla T4 (UUID: GPU-0c9bebe6-2fac-8074-de79-f53423b4aa7a)\r\n",
      "GPU 1: Tesla T4 (UUID: GPU-82950972-9464-250d-9e6b-f87624715a1c)\r\n"
     ]
    }
   ],
   "source": [
    "! nvidia-smi -L"
   ]
  },
  {
   "cell_type": "code",
   "execution_count": 3,
   "id": "3c0c6c34",
   "metadata": {
    "execution": {
     "iopub.execute_input": "2024-01-08T03:05:39.542670Z",
     "iopub.status.busy": "2024-01-08T03:05:39.542285Z",
     "iopub.status.idle": "2024-01-08T03:07:42.525250Z",
     "shell.execute_reply": "2024-01-08T03:07:42.523885Z"
    },
    "papermill": {
     "duration": 122.999643,
     "end_time": "2024-01-08T03:07:42.533884",
     "exception": false,
     "start_time": "2024-01-08T03:05:39.534241",
     "status": "completed"
    },
    "tags": []
   },
   "outputs": [
    {
     "name": "stdout",
     "output_type": "stream",
     "text": [
      "\u001b[31mERROR: pip's dependency resolver does not currently take into account all the packages that are installed. This behaviour is the source of the following dependency conflicts.\r\n",
      "cudf 23.8.0 requires cupy-cuda11x>=12.0.0, which is not installed.\r\n",
      "cuml 23.8.0 requires cupy-cuda11x>=12.0.0, which is not installed.\r\n",
      "dask-cudf 23.8.0 requires cupy-cuda11x>=12.0.0, which is not installed.\r\n",
      "apache-beam 2.46.0 requires dill<0.3.2,>=0.3.1.1, but you have dill 0.3.7 which is incompatible.\r\n",
      "apache-beam 2.46.0 requires pyarrow<10.0.0,>=3.0.0, but you have pyarrow 11.0.0 which is incompatible.\r\n",
      "cudf 23.8.0 requires pandas<1.6.0dev0,>=1.3, but you have pandas 2.0.3 which is incompatible.\r\n",
      "cudf 23.8.0 requires protobuf<5,>=4.21, but you have protobuf 3.20.3 which is incompatible.\r\n",
      "cuml 23.8.0 requires dask==2023.7.1, but you have dask 2023.12.0 which is incompatible.\r\n",
      "cuml 23.8.0 requires distributed==2023.7.1, but you have distributed 2023.12.0 which is incompatible.\r\n",
      "dask-cuda 23.8.0 requires dask==2023.7.1, but you have dask 2023.12.0 which is incompatible.\r\n",
      "dask-cuda 23.8.0 requires distributed==2023.7.1, but you have distributed 2023.12.0 which is incompatible.\r\n",
      "dask-cuda 23.8.0 requires pandas<1.6.0dev0,>=1.3, but you have pandas 2.0.3 which is incompatible.\r\n",
      "dask-cudf 23.8.0 requires dask==2023.7.1, but you have dask 2023.12.0 which is incompatible.\r\n",
      "dask-cudf 23.8.0 requires distributed==2023.7.1, but you have distributed 2023.12.0 which is incompatible.\r\n",
      "dask-cudf 23.8.0 requires pandas<1.6.0dev0,>=1.3, but you have pandas 2.0.3 which is incompatible.\r\n",
      "google-cloud-bigquery 2.34.4 requires packaging<22.0dev,>=14.3, but you have packaging 23.2 which is incompatible.\r\n",
      "google-cloud-pubsublite 1.8.3 requires overrides<7.0.0,>=6.0.1, but you have overrides 7.4.0 which is incompatible.\r\n",
      "jupyterlab 4.0.5 requires jupyter-lsp>=2.0.0, but you have jupyter-lsp 1.5.1 which is incompatible.\r\n",
      "jupyterlab-lsp 5.0.1 requires jupyter-lsp>=2.0.0, but you have jupyter-lsp 1.5.1 which is incompatible.\r\n",
      "jupyterlab-lsp 5.0.1 requires jupyterlab<5.0.0a0,>=4.0.6, but you have jupyterlab 4.0.5 which is incompatible.\r\n",
      "kfp 2.0.1 requires google-cloud-storage<3,>=2.2.1, but you have google-cloud-storage 1.44.0 which is incompatible.\r\n",
      "kfp 2.0.1 requires kubernetes<27,>=8.0.0, but you have kubernetes 28.1.0 which is incompatible.\r\n",
      "libpysal 4.9.2 requires shapely>=2.0.1, but you have shapely 1.8.5.post1 which is incompatible.\r\n",
      "momepy 0.7.0 requires shapely>=2, but you have shapely 1.8.5.post1 which is incompatible.\r\n",
      "opentelemetry-exporter-otlp 1.19.0 requires opentelemetry-exporter-otlp-proto-grpc==1.19.0, but you have opentelemetry-exporter-otlp-proto-grpc 1.22.0 which is incompatible.\r\n",
      "opentelemetry-exporter-otlp-proto-http 1.19.0 requires opentelemetry-exporter-otlp-proto-common==1.19.0, but you have opentelemetry-exporter-otlp-proto-common 1.22.0 which is incompatible.\r\n",
      "opentelemetry-exporter-otlp-proto-http 1.19.0 requires opentelemetry-proto==1.19.0, but you have opentelemetry-proto 1.22.0 which is incompatible.\r\n",
      "opentelemetry-exporter-otlp-proto-http 1.19.0 requires opentelemetry-sdk~=1.19.0, but you have opentelemetry-sdk 1.22.0 which is incompatible.\r\n",
      "pymc3 3.11.5 requires numpy<1.22.2,>=1.15.0, but you have numpy 1.24.3 which is incompatible.\r\n",
      "pymc3 3.11.5 requires scipy<1.8.0,>=1.7.3, but you have scipy 1.11.4 which is incompatible.\r\n",
      "raft-dask 23.8.0 requires dask==2023.7.1, but you have dask 2023.12.0 which is incompatible.\r\n",
      "raft-dask 23.8.0 requires distributed==2023.7.1, but you have distributed 2023.12.0 which is incompatible.\r\n",
      "spopt 0.6.0 requires shapely>=2.0.1, but you have shapely 1.8.5.post1 which is incompatible.\r\n",
      "ydata-profiling 4.5.1 requires numpy<1.24,>=1.16.0, but you have numpy 1.24.3 which is incompatible.\u001b[0m\u001b[31m\r\n",
      "\u001b[0mCPU times: user 1.73 s, sys: 391 ms, total: 2.12 s\n",
      "Wall time: 2min 2s\n"
     ]
    }
   ],
   "source": [
    "%%time\n",
    "\n",
    "! pip install -qq -U langchain tiktoken pypdf chromadb faiss-gpu\n",
    "! pip install -qq -U transformers InstructorEmbedding sentence_transformers\n",
    "! pip install -qq -U bitsandbytes bitsandbytes-cuda117\n",
    "! pip install -qq -U gpt4all"
   ]
  },
  {
   "cell_type": "code",
   "execution_count": 4,
   "id": "8f3fe7e1",
   "metadata": {
    "execution": {
     "iopub.execute_input": "2024-01-08T03:07:42.550875Z",
     "iopub.status.busy": "2024-01-08T03:07:42.550462Z",
     "iopub.status.idle": "2024-01-08T03:07:42.555634Z",
     "shell.execute_reply": "2024-01-08T03:07:42.554720Z"
    },
    "papermill": {
     "duration": 0.016535,
     "end_time": "2024-01-08T03:07:42.557911",
     "exception": false,
     "start_time": "2024-01-08T03:07:42.541376",
     "status": "completed"
    },
    "tags": []
   },
   "outputs": [],
   "source": [
    "#!wget https://gpt4all.io/models/ggml-gpt4all-j-v1.3-groovy.bin models"
   ]
  },
  {
   "cell_type": "code",
   "execution_count": 5,
   "id": "f3db7e6c",
   "metadata": {
    "execution": {
     "iopub.execute_input": "2024-01-08T03:07:42.573359Z",
     "iopub.status.busy": "2024-01-08T03:07:42.573054Z",
     "iopub.status.idle": "2024-01-08T03:08:04.205032Z",
     "shell.execute_reply": "2024-01-08T03:08:04.204016Z"
    },
    "papermill": {
     "duration": 21.642244,
     "end_time": "2024-01-08T03:08:04.207420",
     "exception": false,
     "start_time": "2024-01-08T03:07:42.565176",
     "status": "completed"
    },
    "tags": []
   },
   "outputs": [
    {
     "name": "stdout",
     "output_type": "stream",
     "text": [
      "0.1.0\n"
     ]
    }
   ],
   "source": [
    "import warnings\n",
    "warnings.filterwarnings(\"ignore\")\n",
    "\n",
    "import os\n",
    "import textwrap\n",
    "import shutil\n",
    "import pandas as pd\n",
    "import glob\n",
    "\n",
    "import langchain\n",
    "from langchain.llms import HuggingFacePipeline\n",
    "\n",
    "import torch\n",
    "import transformers\n",
    "from transformers import AutoTokenizer, AutoModelForCausalLM\n",
    "from transformers import LlamaTokenizer, LlamaForCausalLM, pipeline\n",
    "\n",
    "#quantization_config = BitsAndBytesConfig(llm_int8_enable_fp32_cpu_offload=True)\n",
    "\n",
    "#os.environ['TRANSFORMERS_CACHE'] = 'cache/'\n",
    "\n",
    "print(langchain.__version__)"
   ]
  },
  {
   "cell_type": "code",
   "execution_count": 6,
   "id": "fe1b3995",
   "metadata": {
    "execution": {
     "iopub.execute_input": "2024-01-08T03:08:04.223466Z",
     "iopub.status.busy": "2024-01-08T03:08:04.222860Z",
     "iopub.status.idle": "2024-01-08T03:08:07.274255Z",
     "shell.execute_reply": "2024-01-08T03:08:07.273371Z"
    },
    "papermill": {
     "duration": 3.062426,
     "end_time": "2024-01-08T03:08:07.276798",
     "exception": false,
     "start_time": "2024-01-08T03:08:04.214372",
     "status": "completed"
    },
    "tags": []
   },
   "outputs": [],
   "source": [
    "### Multi-document retriever\n",
    "from langchain.vectorstores import Chroma, FAISS\n",
    "from langchain.text_splitter import RecursiveCharacterTextSplitter\n",
    "\n",
    "from langchain.chains import RetrievalQA, VectorDBQA\n",
    "from langchain.document_loaders import PyPDFLoader\n",
    "from langchain.document_loaders import DirectoryLoader\n",
    "#from gpt4all import GPT4All\n",
    "from langchain.llms import GPT4All\n",
    "from langchain.prompts import PromptTemplate\n",
    "\n",
    "\n",
    "from InstructorEmbedding import INSTRUCTOR\n",
    "from langchain.embeddings import HuggingFaceInstructEmbeddings"
   ]
  },
  {
   "cell_type": "code",
   "execution_count": 7,
   "id": "6c495fee",
   "metadata": {
    "execution": {
     "iopub.execute_input": "2024-01-08T03:08:07.291512Z",
     "iopub.status.busy": "2024-01-08T03:08:07.290750Z",
     "iopub.status.idle": "2024-01-08T03:08:56.967490Z",
     "shell.execute_reply": "2024-01-08T03:08:56.965990Z"
    },
    "papermill": {
     "duration": 49.687093,
     "end_time": "2024-01-08T03:08:56.970535",
     "exception": false,
     "start_time": "2024-01-08T03:08:07.283442",
     "status": "completed"
    },
    "tags": []
   },
   "outputs": [
    {
     "name": "stdout",
     "output_type": "stream",
     "text": [
      "--2024-01-08 03:08:08--  https://gpt4all.io/models/gguf/mistral-7b-instruct-v0.1.Q4_0.gguf\r\n",
      "Resolving gpt4all.io (gpt4all.io)... 104.26.0.159, 104.26.1.159, 172.67.71.169, ...\r\n",
      "Connecting to gpt4all.io (gpt4all.io)|104.26.0.159|:443... connected.\r\n",
      "HTTP request sent, awaiting response... 200 OK\r\n",
      "Length: 4108916384 (3.8G)\r\n",
      "Saving to: 'mistral-7b-instruct-v0.1.Q4_0.gguf'\r\n",
      "\r\n",
      "mistral-7b-instruct 100%[===================>]   3.83G  83.4MB/s    in 48s     \r\n",
      "\r\n",
      "2024-01-08 03:08:56 (81.2 MB/s) - 'mistral-7b-instruct-v0.1.Q4_0.gguf' saved [4108916384/4108916384]\r\n",
      "\r\n"
     ]
    }
   ],
   "source": [
    "!wget https://gpt4all.io/models/gguf/mistral-7b-instruct-v0.1.Q4_0.gguf"
   ]
  },
  {
   "cell_type": "code",
   "execution_count": 8,
   "id": "176fd3d9",
   "metadata": {
    "execution": {
     "iopub.execute_input": "2024-01-08T03:08:57.059383Z",
     "iopub.status.busy": "2024-01-08T03:08:57.058186Z",
     "iopub.status.idle": "2024-01-08T03:08:59.457644Z",
     "shell.execute_reply": "2024-01-08T03:08:59.456780Z"
    },
    "papermill": {
     "duration": 2.45556,
     "end_time": "2024-01-08T03:08:59.460192",
     "exception": false,
     "start_time": "2024-01-08T03:08:57.004632",
     "status": "completed"
    },
    "tags": []
   },
   "outputs": [],
   "source": [
    "\n",
    "llm = GPT4All(model=\"/kaggle/working/mistral-7b-instruct-v0.1.Q4_0.gguf\")"
   ]
  },
  {
   "cell_type": "code",
   "execution_count": 9,
   "id": "9dcf4878",
   "metadata": {
    "execution": {
     "iopub.execute_input": "2024-01-08T03:08:59.508620Z",
     "iopub.status.busy": "2024-01-08T03:08:59.508323Z",
     "iopub.status.idle": "2024-01-08T03:08:59.512516Z",
     "shell.execute_reply": "2024-01-08T03:08:59.511716Z"
    },
    "papermill": {
     "duration": 0.030165,
     "end_time": "2024-01-08T03:08:59.514456",
     "exception": false,
     "start_time": "2024-01-08T03:08:59.484291",
     "status": "completed"
    },
    "tags": []
   },
   "outputs": [],
   "source": [
    "#print(llm.generate(\"The capital of France is \", max_tokens=1028))"
   ]
  },
  {
   "cell_type": "code",
   "execution_count": 10,
   "id": "0a0081ce",
   "metadata": {
    "execution": {
     "iopub.execute_input": "2024-01-08T03:08:59.562682Z",
     "iopub.status.busy": "2024-01-08T03:08:59.562420Z",
     "iopub.status.idle": "2024-01-08T03:08:59.570473Z",
     "shell.execute_reply": "2024-01-08T03:08:59.569471Z"
    },
    "papermill": {
     "duration": 0.034714,
     "end_time": "2024-01-08T03:08:59.572559",
     "exception": false,
     "start_time": "2024-01-08T03:08:59.537845",
     "status": "completed"
    },
    "tags": []
   },
   "outputs": [
    {
     "data": {
      "text/plain": [
       "GPT4All(model='/kaggle/working/mistral-7b-instruct-v0.1.Q4_0.gguf', client=<gpt4all.gpt4all.GPT4All object at 0x7d2131fb1c00>)"
      ]
     },
     "execution_count": 10,
     "metadata": {},
     "output_type": "execute_result"
    }
   ],
   "source": [
    "llm"
   ]
  },
  {
   "cell_type": "code",
   "execution_count": 11,
   "id": "3deefcc3",
   "metadata": {
    "execution": {
     "iopub.execute_input": "2024-01-08T03:08:59.622831Z",
     "iopub.status.busy": "2024-01-08T03:08:59.622547Z",
     "iopub.status.idle": "2024-01-08T03:10:40.454671Z",
     "shell.execute_reply": "2024-01-08T03:10:40.453496Z"
    },
    "papermill": {
     "duration": 100.887089,
     "end_time": "2024-01-08T03:10:40.484133",
     "exception": false,
     "start_time": "2024-01-08T03:08:59.597044",
     "status": "completed"
    },
    "tags": []
   },
   "outputs": [
    {
     "data": {
      "text/plain": [
       "'/kaggle/working/mk-vectordb-chroma'"
      ]
     },
     "execution_count": 11,
     "metadata": {},
     "output_type": "execute_result"
    }
   ],
   "source": [
    "shutil.copytree('/kaggle/input/mkvc-15-finalmix/kaggle/working/mk-vectordb-chroma-fifteen', '/kaggle/working/mk-vectordb-chroma')"
   ]
  },
  {
   "cell_type": "code",
   "execution_count": 12,
   "id": "249ae879",
   "metadata": {
    "execution": {
     "iopub.execute_input": "2024-01-08T03:10:40.539541Z",
     "iopub.status.busy": "2024-01-08T03:10:40.539158Z",
     "iopub.status.idle": "2024-01-08T03:10:53.969528Z",
     "shell.execute_reply": "2024-01-08T03:10:53.968280Z"
    },
    "papermill": {
     "duration": 13.461189,
     "end_time": "2024-01-08T03:10:53.972379",
     "exception": false,
     "start_time": "2024-01-08T03:10:40.511190",
     "status": "completed"
    },
    "tags": []
   },
   "outputs": [
    {
     "data": {
      "application/vnd.jupyter.widget-view+json": {
       "model_id": "786a11cdfdc941e5acd4e9e4c7d76f7c",
       "version_major": 2,
       "version_minor": 0
      },
      "text/plain": [
       ".gitattributes:   0%|          | 0.00/1.53k [00:00<?, ?B/s]"
      ]
     },
     "metadata": {},
     "output_type": "display_data"
    },
    {
     "data": {
      "application/vnd.jupyter.widget-view+json": {
       "model_id": "fdc2a4fbf84c40f399cfc9aad7e43972",
       "version_major": 2,
       "version_minor": 0
      },
      "text/plain": [
       "1_Pooling/config.json:   0%|          | 0.00/270 [00:00<?, ?B/s]"
      ]
     },
     "metadata": {},
     "output_type": "display_data"
    },
    {
     "data": {
      "application/vnd.jupyter.widget-view+json": {
       "model_id": "8fdb262971d0440fa197e575edb2fc0e",
       "version_major": 2,
       "version_minor": 0
      },
      "text/plain": [
       "README.md:   0%|          | 0.00/4.10k [00:00<?, ?B/s]"
      ]
     },
     "metadata": {},
     "output_type": "display_data"
    },
    {
     "data": {
      "application/vnd.jupyter.widget-view+json": {
       "model_id": "a4fe1e8da2f940e8b953c92e72560e8d",
       "version_major": 2,
       "version_minor": 0
      },
      "text/plain": [
       "config.json:   0%|          | 0.00/1.10k [00:00<?, ?B/s]"
      ]
     },
     "metadata": {},
     "output_type": "display_data"
    },
    {
     "data": {
      "application/vnd.jupyter.widget-view+json": {
       "model_id": "ba826d2952c14dc9a7c13167b5c04aab",
       "version_major": 2,
       "version_minor": 0
      },
      "text/plain": [
       "config_sentence_transformers.json:   0%|          | 0.00/123 [00:00<?, ?B/s]"
      ]
     },
     "metadata": {},
     "output_type": "display_data"
    },
    {
     "data": {
      "application/vnd.jupyter.widget-view+json": {
       "model_id": "9c0e97436c4842c3be2f906dcfea3051",
       "version_major": 2,
       "version_minor": 0
      },
      "text/plain": [
       "pytorch_model.bin:   0%|          | 0.00/498M [00:00<?, ?B/s]"
      ]
     },
     "metadata": {},
     "output_type": "display_data"
    },
    {
     "data": {
      "application/vnd.jupyter.widget-view+json": {
       "model_id": "f6be8739ecbb49fcb090069d6c953fd4",
       "version_major": 2,
       "version_minor": 0
      },
      "text/plain": [
       "sentence_bert_config.json:   0%|          | 0.00/52.0 [00:00<?, ?B/s]"
      ]
     },
     "metadata": {},
     "output_type": "display_data"
    },
    {
     "data": {
      "application/vnd.jupyter.widget-view+json": {
       "model_id": "5c8f043fb10343d3ab1da7e554358dfc",
       "version_major": 2,
       "version_minor": 0
      },
      "text/plain": [
       "special_tokens_map.json:   0%|          | 0.00/125 [00:00<?, ?B/s]"
      ]
     },
     "metadata": {},
     "output_type": "display_data"
    },
    {
     "data": {
      "application/vnd.jupyter.widget-view+json": {
       "model_id": "534a4252452f451c96550d102f354392",
       "version_major": 2,
       "version_minor": 0
      },
      "text/plain": [
       "tokenizer.json:   0%|          | 0.00/709k [00:00<?, ?B/s]"
      ]
     },
     "metadata": {},
     "output_type": "display_data"
    },
    {
     "data": {
      "application/vnd.jupyter.widget-view+json": {
       "model_id": "46138b59d6a440bb9609fd6ee18d42e6",
       "version_major": 2,
       "version_minor": 0
      },
      "text/plain": [
       "tokenizer_config.json:   0%|          | 0.00/394 [00:00<?, ?B/s]"
      ]
     },
     "metadata": {},
     "output_type": "display_data"
    },
    {
     "data": {
      "application/vnd.jupyter.widget-view+json": {
       "model_id": "9419fe7ad0ff4acdbaeec3b1626e2509",
       "version_major": 2,
       "version_minor": 0
      },
      "text/plain": [
       "vocab.txt:   0%|          | 0.00/229k [00:00<?, ?B/s]"
      ]
     },
     "metadata": {},
     "output_type": "display_data"
    },
    {
     "data": {
      "application/vnd.jupyter.widget-view+json": {
       "model_id": "10b2c9a8abbd4361a3460a68abae9c0b",
       "version_major": 2,
       "version_minor": 0
      },
      "text/plain": [
       "modules.json:   0%|          | 0.00/229 [00:00<?, ?B/s]"
      ]
     },
     "metadata": {},
     "output_type": "display_data"
    },
    {
     "name": "stdout",
     "output_type": "stream",
     "text": [
      "load INSTRUCTOR_Transformer\n",
      "max_seq_length  512\n",
      "CPU times: user 1.98 s, sys: 1.66 s, total: 3.65 s\n",
      "Wall time: 13.4 s\n"
     ]
    }
   ],
   "source": [
    "%%time\n",
    "\n",
    "instructor_embeddings = HuggingFaceInstructEmbeddings(model_name=\"LazarusNLP/s-indobert-base-mmarco\", model_kwargs={\"device\": \"cuda\"})\n",
    "\n",
    "vectordb = Chroma(persist_directory='mk-vectordb-chroma',embedding_function=instructor_embeddings,)\n",
    "#vectordb.persist()"
   ]
  },
  {
   "cell_type": "code",
   "execution_count": 13,
   "id": "7e72a142",
   "metadata": {
    "execution": {
     "iopub.execute_input": "2024-01-08T03:10:54.099087Z",
     "iopub.status.busy": "2024-01-08T03:10:54.098673Z",
     "iopub.status.idle": "2024-01-08T03:10:54.107731Z",
     "shell.execute_reply": "2024-01-08T03:10:54.106593Z"
    },
    "papermill": {
     "duration": 0.043826,
     "end_time": "2024-01-08T03:10:54.110287",
     "exception": false,
     "start_time": "2024-01-08T03:10:54.066461",
     "status": "completed"
    },
    "tags": []
   },
   "outputs": [
    {
     "name": "stdout",
     "output_type": "stream",
     "text": [
      "CPU times: user 1.45 ms, sys: 0 ns, total: 1.45 ms\n",
      "Wall time: 1.46 ms\n"
     ]
    }
   ],
   "source": [
    "%%time\n",
    "retriever = vectordb.as_retriever(search_kwargs={\"k\": 3})\n",
    "#retriever = vectordb.as_retriever(search_type=\"mmr\", search_kwargs={\"k\": 6, \"lambda_mult\": 0.25})\n",
    "\n",
    "qa_chain = RetrievalQA.from_chain_type(llm=llm, \n",
    "                                       chain_type=\"stuff\", \n",
    "                                       retriever=retriever, \n",
    "                                       return_source_documents=True,\n",
    "                                       verbose=False)"
   ]
  },
  {
   "cell_type": "code",
   "execution_count": 14,
   "id": "98db84e5",
   "metadata": {
    "execution": {
     "iopub.execute_input": "2024-01-08T03:10:54.175050Z",
     "iopub.status.busy": "2024-01-08T03:10:54.174075Z",
     "iopub.status.idle": "2024-01-08T03:10:54.182237Z",
     "shell.execute_reply": "2024-01-08T03:10:54.181392Z"
    },
    "papermill": {
     "duration": 0.043256,
     "end_time": "2024-01-08T03:10:54.184954",
     "exception": false,
     "start_time": "2024-01-08T03:10:54.141698",
     "status": "completed"
    },
    "tags": []
   },
   "outputs": [
    {
     "data": {
      "text/plain": [
       "RetrievalQA(combine_documents_chain=StuffDocumentsChain(llm_chain=LLMChain(prompt=PromptTemplate(input_variables=['context', 'question'], template=\"Use the following pieces of context to answer the question at the end. If you don't know the answer, just say that you don't know, don't try to make up an answer.\\n\\n{context}\\n\\nQuestion: {question}\\nHelpful Answer:\"), llm=GPT4All(model='/kaggle/working/mistral-7b-instruct-v0.1.Q4_0.gguf', client=<gpt4all.gpt4all.GPT4All object at 0x7d2131fb1c00>)), document_variable_name='context'), return_source_documents=True, retriever=VectorStoreRetriever(tags=['Chroma', 'HuggingFaceInstructEmbeddings'], vectorstore=<langchain_community.vectorstores.chroma.Chroma object at 0x7d2121c0cb50>, search_kwargs={'k': 3}))"
      ]
     },
     "execution_count": 14,
     "metadata": {},
     "output_type": "execute_result"
    }
   ],
   "source": [
    "qa_chain"
   ]
  },
  {
   "cell_type": "code",
   "execution_count": 15,
   "id": "d71b9ef6",
   "metadata": {
    "execution": {
     "iopub.execute_input": "2024-01-08T03:10:54.248676Z",
     "iopub.status.busy": "2024-01-08T03:10:54.248307Z",
     "iopub.status.idle": "2024-01-08T03:10:54.255756Z",
     "shell.execute_reply": "2024-01-08T03:10:54.254674Z"
    },
    "papermill": {
     "duration": 0.042061,
     "end_time": "2024-01-08T03:10:54.258123",
     "exception": false,
     "start_time": "2024-01-08T03:10:54.216062",
     "status": "completed"
    },
    "tags": []
   },
   "outputs": [],
   "source": [
    "def wrap_text_preserve_newlines(text, width=110):\n",
    "    # Split the input text into lines based on newline characters\n",
    "    lines = text.split('\\n')\n",
    "\n",
    "    # Wrap each line individually\n",
    "    wrapped_lines = [textwrap.fill(line, width=width) for line in lines]\n",
    "\n",
    "    # Join the wrapped lines back together using newline characters\n",
    "    wrapped_text = '\\n'.join(wrapped_lines)\n",
    "\n",
    "    return wrapped_text\n",
    "\n",
    "def process_llm_response(llm_response):\n",
    "    print(wrap_text_preserve_newlines(llm_response['result']))\n",
    "    print('\\n\\nSources:')\n",
    "    for source in llm_response[\"source_documents\"]:\n",
    "        print(source.metadata['source'])"
   ]
  },
  {
   "cell_type": "code",
   "execution_count": 16,
   "id": "97f12e61",
   "metadata": {
    "execution": {
     "iopub.execute_input": "2024-01-08T03:10:54.319707Z",
     "iopub.status.busy": "2024-01-08T03:10:54.319369Z",
     "iopub.status.idle": "2024-01-08T03:10:54.324235Z",
     "shell.execute_reply": "2024-01-08T03:10:54.323200Z"
    },
    "papermill": {
     "duration": 0.038094,
     "end_time": "2024-01-08T03:10:54.326510",
     "exception": false,
     "start_time": "2024-01-08T03:10:54.288416",
     "status": "completed"
    },
    "tags": []
   },
   "outputs": [],
   "source": [
    "def llm_ans(query):\n",
    "    llm_response = qa_chain(query)\n",
    "    ans = process_llm_response(llm_response)\n",
    "    return ans"
   ]
  },
  {
   "cell_type": "code",
   "execution_count": 17,
   "id": "fe084747",
   "metadata": {
    "execution": {
     "iopub.execute_input": "2024-01-08T03:10:54.388498Z",
     "iopub.status.busy": "2024-01-08T03:10:54.387536Z",
     "iopub.status.idle": "2024-01-08T03:10:54.392232Z",
     "shell.execute_reply": "2024-01-08T03:10:54.391178Z"
    },
    "papermill": {
     "duration": 0.038447,
     "end_time": "2024-01-08T03:10:54.394631",
     "exception": false,
     "start_time": "2024-01-08T03:10:54.356184",
     "status": "completed"
    },
    "tags": []
   },
   "outputs": [],
   "source": [
    "#model"
   ]
  },
  {
   "cell_type": "code",
   "execution_count": 18,
   "id": "84724f55",
   "metadata": {
    "execution": {
     "iopub.execute_input": "2024-01-08T03:10:54.459096Z",
     "iopub.status.busy": "2024-01-08T03:10:54.458509Z",
     "iopub.status.idle": "2024-01-08T03:10:54.527307Z",
     "shell.execute_reply": "2024-01-08T03:10:54.526097Z"
    },
    "papermill": {
     "duration": 0.104359,
     "end_time": "2024-01-08T03:10:54.530488",
     "exception": false,
     "start_time": "2024-01-08T03:10:54.426129",
     "status": "completed"
    },
    "tags": []
   },
   "outputs": [
    {
     "data": {
      "text/html": [
       "<div>\n",
       "<style scoped>\n",
       "    .dataframe tbody tr th:only-of-type {\n",
       "        vertical-align: middle;\n",
       "    }\n",
       "\n",
       "    .dataframe tbody tr th {\n",
       "        vertical-align: top;\n",
       "    }\n",
       "\n",
       "    .dataframe thead th {\n",
       "        text-align: right;\n",
       "    }\n",
       "</style>\n",
       "<table border=\"1\" class=\"dataframe\">\n",
       "  <thead>\n",
       "    <tr style=\"text-align: right;\">\n",
       "      <th></th>\n",
       "      <th>no</th>\n",
       "      <th>question</th>\n",
       "      <th>a</th>\n",
       "      <th>b</th>\n",
       "      <th>c</th>\n",
       "      <th>d</th>\n",
       "      <th>e</th>\n",
       "      <th>answer</th>\n",
       "      <th>explained</th>\n",
       "      <th>source</th>\n",
       "      <th>qa_comb</th>\n",
       "    </tr>\n",
       "  </thead>\n",
       "  <tbody>\n",
       "    <tr>\n",
       "      <th>0</th>\n",
       "      <td>1</td>\n",
       "      <td>Berdasarkan Pasal 24C ayat (1) Undang-Undang D...</td>\n",
       "      <td>Mahkamah Agung berwenang mengadili pada tingka...</td>\n",
       "      <td>Mahkamah Konstitusi berwenang mengadili pada t...</td>\n",
       "      <td>Kepolisian Negara Indonesia mengadili pada tin...</td>\n",
       "      <td>Presiden Republik Indonesia mengadili pada tin...</td>\n",
       "      <td>Tentara Negara Indonesia mengadili pada tingka...</td>\n",
       "      <td>b</td>\n",
       "      <td>Mahkamah Konstitusi berwenang mengadili pada t...</td>\n",
       "      <td>3282_putusan_mkri_6516.pdf</td>\n",
       "      <td>Berdasarkan Pasal 24C ayat (1) Undang-Undang D...</td>\n",
       "    </tr>\n",
       "    <tr>\n",
       "      <th>1</th>\n",
       "      <td>2</td>\n",
       "      <td>Permohonan diajukan dalam jangka waktu paling ...</td>\n",
       "      <td>Pasal 70 ayat (3) UU MK, Pasal 111 ayat (2) UU...</td>\n",
       "      <td>Pasal 74 ayat (3) UU MK, Pasal 474 ayat (2) UU...</td>\n",
       "      <td>Pasal 74 ayat (3) UU MK, Pasal 474 ayat (2) UU...</td>\n",
       "      <td>Pasal 74 ayat (3) UU MK, Pasal 474 ayat (2) UU...</td>\n",
       "      <td>Pasal 74 ayat (3) UU MK, Pasal 474 ayat (2) UU...</td>\n",
       "      <td>d</td>\n",
       "      <td>Bahwa berdasarkan Pasal 74 ayat (3) UU MK, Pas...</td>\n",
       "      <td>3270_putusan_mkri_6508.pdf</td>\n",
       "      <td>Permohonan diajukan dalam jangka waktu paling ...</td>\n",
       "    </tr>\n",
       "    <tr>\n",
       "      <th>2</th>\n",
       "      <td>3</td>\n",
       "      <td>Pasal 1 ayat (3) UUD 1945 yang berbunyi…</td>\n",
       "      <td>Negara Indonesia adalah negara Hukum</td>\n",
       "      <td>Negara Indonesia adalah negara Islam</td>\n",
       "      <td>Negara Indonesia adalah negara liberal</td>\n",
       "      <td>Negara Indonesia adalah negara kepulauan</td>\n",
       "      <td>Negara Indonesia adalah negara Kristen</td>\n",
       "      <td>a</td>\n",
       "      <td>Pasal 1 ayat (3) UUD 1945 yang berbunyi \"Negar...</td>\n",
       "      <td>1338_putusan_sidang_114%20PUU%202012%20-%20KUH...</td>\n",
       "      <td>Pasal 1 ayat (3) UUD 1945 yang berbunyi…\\n A. ...</td>\n",
       "    </tr>\n",
       "    <tr>\n",
       "      <th>3</th>\n",
       "      <td>4</td>\n",
       "      <td>Bahwa dengan demikian norma Pasal 244 KUHAP te...</td>\n",
       "      <td>Pasal 21D ayat (1) UUD 1945</td>\n",
       "      <td>Pasal 22D ayat (1) UUD 1945</td>\n",
       "      <td>Pasal 23D ayat (1) UUD 1945</td>\n",
       "      <td>Pasal 24D ayat (1) UUD 1945</td>\n",
       "      <td>Pasal 28D ayat (1) UUD 1945</td>\n",
       "      <td>e</td>\n",
       "      <td>Bahwa dengan demikian norma Pasal 244 KUHAP te...</td>\n",
       "      <td>1338_putusan_sidang_114%2520PUU%25202012%2520-...</td>\n",
       "      <td>Bahwa dengan demikian norma Pasal 244 KUHAP te...</td>\n",
       "    </tr>\n",
       "    <tr>\n",
       "      <th>4</th>\n",
       "      <td>5</td>\n",
       "      <td>Bunyi rumusan Pasal 244 KUHAP...</td>\n",
       "      <td>Keputusan perkara pidana tidak dapat diberikan...</td>\n",
       "      <td>Terhadap putusan perkara pidana yang diberikan...</td>\n",
       "      <td>Terhadap putusan perkara pidana yang diberikan...</td>\n",
       "      <td>Mengenai kedudukan hukum para Pemohon Pemerint...</td>\n",
       "      <td>NaN</td>\n",
       "      <td>c</td>\n",
       "      <td>Bunyi rumusan Pasal 244 KUHAP adalah \"Terhadap...</td>\n",
       "      <td>1338_putusan_sidang_114%2520PUU%25202012%2520-...</td>\n",
       "      <td>Bunyi rumusan Pasal 244 KUHAP...\\n A.  Keputus...</td>\n",
       "    </tr>\n",
       "    <tr>\n",
       "      <th>...</th>\n",
       "      <td>...</td>\n",
       "      <td>...</td>\n",
       "      <td>...</td>\n",
       "      <td>...</td>\n",
       "      <td>...</td>\n",
       "      <td>...</td>\n",
       "      <td>...</td>\n",
       "      <td>...</td>\n",
       "      <td>...</td>\n",
       "      <td>...</td>\n",
       "      <td>...</td>\n",
       "    </tr>\n",
       "    <tr>\n",
       "      <th>95</th>\n",
       "      <td>96</td>\n",
       "      <td>Governors, regents and mayors, respectively, a...</td>\n",
       "      <td>1945 Constitution Article 18 paragraph (4)</td>\n",
       "      <td>1945 Constitution Article 22E paragraph (1)</td>\n",
       "      <td>1945 Constitution Article 27 paragraph (1)</td>\n",
       "      <td>1945 Constitution Article 28C paragraph (2)</td>\n",
       "      <td>1945 Constitution Article 28D paragraph (1)</td>\n",
       "      <td>a</td>\n",
       "      <td>1945 Constitution Article 18 paragraph (4): Go...</td>\n",
       "      <td>526_putusan_sidang_PUTUSAN%2520PUU%2520TOLI-TO...</td>\n",
       "      <td>Governors, regents and mayors, respectively, a...</td>\n",
       "    </tr>\n",
       "    <tr>\n",
       "      <th>96</th>\n",
       "      <td>97</td>\n",
       "      <td>General elections are held directly, publicly,...</td>\n",
       "      <td>1946 Constitution Article 18 paragraph (4)</td>\n",
       "      <td>1946 Constitution Article 22E paragraph (1)</td>\n",
       "      <td>1946 Constitution Article 27 paragraph (1)</td>\n",
       "      <td>1946 Constitution Article 28C paragraph (2)</td>\n",
       "      <td>1946 Constitution Article 28D paragraph (1)</td>\n",
       "      <td>b</td>\n",
       "      <td>1945 Constitution Article 22E paragraph (1): G...</td>\n",
       "      <td>526_putusan_sidang_PUTUSAN%2520PUU%2520TOLI-TO...</td>\n",
       "      <td>General elections are held directly, publicly,...</td>\n",
       "    </tr>\n",
       "    <tr>\n",
       "      <th>97</th>\n",
       "      <td>98</td>\n",
       "      <td>All citizens have the same position under the ...</td>\n",
       "      <td>1947 Constitution Article 18 paragraph (4)</td>\n",
       "      <td>1947 Constitution Article 22E paragraph (1)</td>\n",
       "      <td>1947 Constitution Article 27 paragraph (1)</td>\n",
       "      <td>1947 Constitution Article 28C paragraph (2)</td>\n",
       "      <td>1947 Constitution Article 28D paragraph (1)</td>\n",
       "      <td>c</td>\n",
       "      <td>1945 Constitution Article 27 paragraph (1): Al...</td>\n",
       "      <td>526_putusan_sidang_PUTUSAN%2520PUU%2520TOLI-TO...</td>\n",
       "      <td>All citizens have the same position under the ...</td>\n",
       "    </tr>\n",
       "    <tr>\n",
       "      <th>98</th>\n",
       "      <td>99</td>\n",
       "      <td>Everyone has the right to advance themselves i...</td>\n",
       "      <td>1948 Constitution Article 18 paragraph (4)</td>\n",
       "      <td>1948 Constitution Article 22E paragraph (1)</td>\n",
       "      <td>1948 Constitution Article 27 paragraph (1)</td>\n",
       "      <td>1948 Constitution Article 28C paragraph (2)</td>\n",
       "      <td>1948 Constitution Article 28D paragraph (1)</td>\n",
       "      <td>d</td>\n",
       "      <td>1945 Constitution Article 28C paragraph (2): E...</td>\n",
       "      <td>526_putusan_sidang_PUTUSAN%2520PUU%2520TOLI-TO...</td>\n",
       "      <td>Everyone has the right to advance themselves i...</td>\n",
       "    </tr>\n",
       "    <tr>\n",
       "      <th>99</th>\n",
       "      <td>100</td>\n",
       "      <td>Every person has the right to recognition, gua...</td>\n",
       "      <td>1949 Constitution Article 18 paragraph (4)</td>\n",
       "      <td>1949 Constitution Article 22E paragraph (1)</td>\n",
       "      <td>1949 Constitution Article 27 paragraph (1)</td>\n",
       "      <td>1949 Constitution Article 28C paragraph (2)</td>\n",
       "      <td>1949 Constitution Article 28D paragraph (1)</td>\n",
       "      <td>e</td>\n",
       "      <td>1945 Constitution Article 28D paragraph (1): E...</td>\n",
       "      <td>526_putusan_sidang_PUTUSAN%2520PUU%2520TOLI-TO...</td>\n",
       "      <td>Every person has the right to recognition, gua...</td>\n",
       "    </tr>\n",
       "  </tbody>\n",
       "</table>\n",
       "<p>100 rows × 11 columns</p>\n",
       "</div>"
      ],
      "text/plain": [
       "     no                                           question  \\\n",
       "0     1  Berdasarkan Pasal 24C ayat (1) Undang-Undang D...   \n",
       "1     2  Permohonan diajukan dalam jangka waktu paling ...   \n",
       "2     3           Pasal 1 ayat (3) UUD 1945 yang berbunyi…   \n",
       "3     4  Bahwa dengan demikian norma Pasal 244 KUHAP te...   \n",
       "4     5                   Bunyi rumusan Pasal 244 KUHAP...   \n",
       "..  ...                                                ...   \n",
       "95   96  Governors, regents and mayors, respectively, a...   \n",
       "96   97  General elections are held directly, publicly,...   \n",
       "97   98  All citizens have the same position under the ...   \n",
       "98   99  Everyone has the right to advance themselves i...   \n",
       "99  100  Every person has the right to recognition, gua...   \n",
       "\n",
       "                                                    a  \\\n",
       "0   Mahkamah Agung berwenang mengadili pada tingka...   \n",
       "1   Pasal 70 ayat (3) UU MK, Pasal 111 ayat (2) UU...   \n",
       "2                Negara Indonesia adalah negara Hukum   \n",
       "3                         Pasal 21D ayat (1) UUD 1945   \n",
       "4   Keputusan perkara pidana tidak dapat diberikan...   \n",
       "..                                                ...   \n",
       "95         1945 Constitution Article 18 paragraph (4)   \n",
       "96         1946 Constitution Article 18 paragraph (4)   \n",
       "97         1947 Constitution Article 18 paragraph (4)   \n",
       "98         1948 Constitution Article 18 paragraph (4)   \n",
       "99         1949 Constitution Article 18 paragraph (4)   \n",
       "\n",
       "                                                    b  \\\n",
       "0   Mahkamah Konstitusi berwenang mengadili pada t...   \n",
       "1   Pasal 74 ayat (3) UU MK, Pasal 474 ayat (2) UU...   \n",
       "2                Negara Indonesia adalah negara Islam   \n",
       "3                         Pasal 22D ayat (1) UUD 1945   \n",
       "4   Terhadap putusan perkara pidana yang diberikan...   \n",
       "..                                                ...   \n",
       "95        1945 Constitution Article 22E paragraph (1)   \n",
       "96        1946 Constitution Article 22E paragraph (1)   \n",
       "97        1947 Constitution Article 22E paragraph (1)   \n",
       "98        1948 Constitution Article 22E paragraph (1)   \n",
       "99        1949 Constitution Article 22E paragraph (1)   \n",
       "\n",
       "                                                    c  \\\n",
       "0   Kepolisian Negara Indonesia mengadili pada tin...   \n",
       "1   Pasal 74 ayat (3) UU MK, Pasal 474 ayat (2) UU...   \n",
       "2              Negara Indonesia adalah negara liberal   \n",
       "3                         Pasal 23D ayat (1) UUD 1945   \n",
       "4   Terhadap putusan perkara pidana yang diberikan...   \n",
       "..                                                ...   \n",
       "95         1945 Constitution Article 27 paragraph (1)   \n",
       "96         1946 Constitution Article 27 paragraph (1)   \n",
       "97         1947 Constitution Article 27 paragraph (1)   \n",
       "98         1948 Constitution Article 27 paragraph (1)   \n",
       "99         1949 Constitution Article 27 paragraph (1)   \n",
       "\n",
       "                                                    d  \\\n",
       "0   Presiden Republik Indonesia mengadili pada tin...   \n",
       "1   Pasal 74 ayat (3) UU MK, Pasal 474 ayat (2) UU...   \n",
       "2            Negara Indonesia adalah negara kepulauan   \n",
       "3                         Pasal 24D ayat (1) UUD 1945   \n",
       "4   Mengenai kedudukan hukum para Pemohon Pemerint...   \n",
       "..                                                ...   \n",
       "95        1945 Constitution Article 28C paragraph (2)   \n",
       "96        1946 Constitution Article 28C paragraph (2)   \n",
       "97        1947 Constitution Article 28C paragraph (2)   \n",
       "98        1948 Constitution Article 28C paragraph (2)   \n",
       "99        1949 Constitution Article 28C paragraph (2)   \n",
       "\n",
       "                                                    e answer  \\\n",
       "0   Tentara Negara Indonesia mengadili pada tingka...      b   \n",
       "1   Pasal 74 ayat (3) UU MK, Pasal 474 ayat (2) UU...      d   \n",
       "2              Negara Indonesia adalah negara Kristen      a   \n",
       "3                         Pasal 28D ayat (1) UUD 1945      e   \n",
       "4                                                 NaN      c   \n",
       "..                                                ...    ...   \n",
       "95        1945 Constitution Article 28D paragraph (1)      a   \n",
       "96        1946 Constitution Article 28D paragraph (1)      b   \n",
       "97        1947 Constitution Article 28D paragraph (1)      c   \n",
       "98        1948 Constitution Article 28D paragraph (1)      d   \n",
       "99        1949 Constitution Article 28D paragraph (1)      e   \n",
       "\n",
       "                                            explained  \\\n",
       "0   Mahkamah Konstitusi berwenang mengadili pada t...   \n",
       "1   Bahwa berdasarkan Pasal 74 ayat (3) UU MK, Pas...   \n",
       "2   Pasal 1 ayat (3) UUD 1945 yang berbunyi \"Negar...   \n",
       "3   Bahwa dengan demikian norma Pasal 244 KUHAP te...   \n",
       "4   Bunyi rumusan Pasal 244 KUHAP adalah \"Terhadap...   \n",
       "..                                                ...   \n",
       "95  1945 Constitution Article 18 paragraph (4): Go...   \n",
       "96  1945 Constitution Article 22E paragraph (1): G...   \n",
       "97  1945 Constitution Article 27 paragraph (1): Al...   \n",
       "98  1945 Constitution Article 28C paragraph (2): E...   \n",
       "99  1945 Constitution Article 28D paragraph (1): E...   \n",
       "\n",
       "                                               source  \\\n",
       "0                          3282_putusan_mkri_6516.pdf   \n",
       "1                          3270_putusan_mkri_6508.pdf   \n",
       "2   1338_putusan_sidang_114%20PUU%202012%20-%20KUH...   \n",
       "3   1338_putusan_sidang_114%2520PUU%25202012%2520-...   \n",
       "4   1338_putusan_sidang_114%2520PUU%25202012%2520-...   \n",
       "..                                                ...   \n",
       "95  526_putusan_sidang_PUTUSAN%2520PUU%2520TOLI-TO...   \n",
       "96  526_putusan_sidang_PUTUSAN%2520PUU%2520TOLI-TO...   \n",
       "97  526_putusan_sidang_PUTUSAN%2520PUU%2520TOLI-TO...   \n",
       "98  526_putusan_sidang_PUTUSAN%2520PUU%2520TOLI-TO...   \n",
       "99  526_putusan_sidang_PUTUSAN%2520PUU%2520TOLI-TO...   \n",
       "\n",
       "                                              qa_comb  \n",
       "0   Berdasarkan Pasal 24C ayat (1) Undang-Undang D...  \n",
       "1   Permohonan diajukan dalam jangka waktu paling ...  \n",
       "2   Pasal 1 ayat (3) UUD 1945 yang berbunyi…\\n A. ...  \n",
       "3   Bahwa dengan demikian norma Pasal 244 KUHAP te...  \n",
       "4   Bunyi rumusan Pasal 244 KUHAP...\\n A.  Keputus...  \n",
       "..                                                ...  \n",
       "95  Governors, regents and mayors, respectively, a...  \n",
       "96  General elections are held directly, publicly,...  \n",
       "97  All citizens have the same position under the ...  \n",
       "98  Everyone has the right to advance themselves i...  \n",
       "99  Every person has the right to recognition, gua...  \n",
       "\n",
       "[100 rows x 11 columns]"
      ]
     },
     "execution_count": 18,
     "metadata": {},
     "output_type": "execute_result"
    }
   ],
   "source": [
    "dataset = pd.read_csv('/kaggle/input/mkri-qa-3/dataset.csv',sep=';')\n",
    "dataset"
   ]
  },
  {
   "cell_type": "code",
   "execution_count": 19,
   "id": "b6be7343",
   "metadata": {
    "execution": {
     "iopub.execute_input": "2024-01-08T03:10:54.599373Z",
     "iopub.status.busy": "2024-01-08T03:10:54.598389Z",
     "iopub.status.idle": "2024-01-08T05:43:33.445476Z",
     "shell.execute_reply": "2024-01-08T05:43:33.444574Z"
    },
    "papermill": {
     "duration": 9158.926604,
     "end_time": "2024-01-08T05:43:33.491786",
     "exception": false,
     "start_time": "2024-01-08T03:10:54.565182",
     "status": "completed"
    },
    "tags": []
   },
   "outputs": [
    {
     "name": "stdout",
     "output_type": "stream",
     "text": [
      "Nomor:  1\n",
      "Berdasarkan Pasal 24C ayat (1) Undang-Undang Dasar Negara Republik Indonesia Tahun 1945 (selanjutnya disebut UUD 1945) menyatakan bahwa...\\n A.  Mahkamah Agung berwenang mengadili pada tingkat pertama dan terakhir yang putusannya bersifat final, antara lain, untuk memutus perselisihan tentang hasil pemilihan umum\\n B.  Mahkamah Konstitusi berwenang mengadili pada tingkat pertama dan terakhir yang putusannya bersifat final, antara lain, untuk memutus perselisihan tentang hasil pemilihan umum\\n C.  Kepolisian Negara Indonesia mengadili pada tingkat pertama dan terakhir yang putusannya bersifat final, antara lain, untuk memutus perselisihan tentang hasil pemilihan umum\\n D.  Presiden Republik Indonesia mengadili pada tingkat pertama dan terakhir yang putusannya bersifat final, antara lain, untuk memutus perselisihan tentang hasil pemilihan umum\\n E.  Tentara Negara Indonesia mengadili pada tingkat pertama dan terakhir yang putusannya bersifat final, antara lain, untuk memutus perselisihan tentang hasil pemilihan umum\n"
     ]
    },
    {
     "name": "stderr",
     "output_type": "stream",
     "text": [
      "/opt/conda/lib/python3.10/site-packages/langchain_core/_api/deprecation.py:189: LangChainDeprecationWarning: The function `__call__` was deprecated in LangChain 0.1.0 and will be removed in 0.2.0. Use invoke instead.\n",
      "  warn_deprecated(\n",
      "/opt/conda/lib/python3.10/site-packages/langchain_core/_api/deprecation.py:189: LangChainDeprecationWarning: The function `run` was deprecated in LangChain 0.1.0 and will be removed in 0.2.0. Use invoke instead.\n",
      "  warn_deprecated(\n",
      "/opt/conda/lib/python3.10/site-packages/langchain_core/_api/deprecation.py:189: LangChainDeprecationWarning: The function `__call__` was deprecated in LangChain 0.1.0 and will be removed in 0.2.0. Use invoke instead.\n",
      "  warn_deprecated(\n",
      "/opt/conda/lib/python3.10/site-packages/langchain_core/_api/deprecation.py:189: LangChainDeprecationWarning: The function `__call__` was deprecated in LangChain 0.1.0 and will be removed in 0.2.0. Use invoke instead.\n",
      "  warn_deprecated(\n"
     ]
    },
    {
     "name": "stdout",
     "output_type": "stream",
     "text": [
      " B. Mahkamah Konstitusi berwenang mengadili pada tingkat pertama dan terakhir yang putusannya bersifat final,\n",
      "antara lain, untuk memutus perselisihan tentang hasil pemilihan umum\n",
      "\n",
      "\n",
      "Sources:\n",
      "Time:  189.86422085762024\n",
      "==============================================\n",
      "Nomor:  2\n",
      "Permohonan diajukan dalam jangka waktu paling lama 3 X 24 (tiga kali dua puluh empat) jam sejak diumumkan penetapan perolehan suara hasil Pemilu Anggota DPR dan DPRD secara nasional oleh KPU, Isi dari pernyataan ini ada di pasal…\\n A.  Pasal 70 ayat (3) UU MK, Pasal 111 ayat (2) UU Pemilu, dan Pasal 6 ayat (1) PMK Nomor 2 Tahun 2018\\n B.  Pasal 74 ayat (3) UU MK, Pasal 474 ayat (2) UU Pemilu, dan Pasal 2 ayat (1) PMK Nomor 2 Tahun 2011\\n C.  Pasal 74 ayat (3) UU MK, Pasal 474 ayat (2) UU Pemilu, dan Pasal 1 ayat (1) PMK Nomor 2 Tahun 2018\\n D.  Pasal 74 ayat (3) UU MK, Pasal 474 ayat (2) UU Pemilu, dan Pasal 6 ayat (1) PMK Nomor 2 Tahun 2018\\n E.  Pasal 74 ayat (3) UU MK, Pasal 474 ayat (2) UU Pemilu, dan Pasal 4 ayat (1) PMK Nomor 2 Tahun 2018\n"
     ]
    },
    {
     "name": "stderr",
     "output_type": "stream",
     "text": [
      "/opt/conda/lib/python3.10/site-packages/langchain_core/_api/deprecation.py:189: LangChainDeprecationWarning: The function `__call__` was deprecated in LangChain 0.1.0 and will be removed in 0.2.0. Use invoke instead.\n",
      "  warn_deprecated(\n",
      "/opt/conda/lib/python3.10/site-packages/langchain_core/_api/deprecation.py:189: LangChainDeprecationWarning: The function `run` was deprecated in LangChain 0.1.0 and will be removed in 0.2.0. Use invoke instead.\n",
      "  warn_deprecated(\n",
      "/opt/conda/lib/python3.10/site-packages/langchain_core/_api/deprecation.py:189: LangChainDeprecationWarning: The function `__call__` was deprecated in LangChain 0.1.0 and will be removed in 0.2.0. Use invoke instead.\n",
      "  warn_deprecated(\n",
      "/opt/conda/lib/python3.10/site-packages/langchain_core/_api/deprecation.py:189: LangChainDeprecationWarning: The function `__call__` was deprecated in LangChain 0.1.0 and will be removed in 0.2.0. Use invoke instead.\n",
      "  warn_deprecated(\n"
     ]
    },
    {
     "name": "stdout",
     "output_type": "stream",
     "text": [
      " D. Pasal 74 ayat (3) UU MK, Pasal 474 ayat (2) UU Pemilu, dan Pasal 6 ayat (1) PMK Nomor 2 Tahun 2018\n",
      "\n",
      "\n",
      "Sources:\n",
      "Time:  172.99761056900024\n",
      "==============================================\n",
      "Nomor:  3\n",
      "Pasal 1 ayat (3) UUD 1945 yang berbunyi…\\n A.  Negara Indonesia adalah negara Hukum\\n B.  Negara Indonesia adalah negara Islam\\n C.  Negara Indonesia adalah negara liberal\\n D.  Negara Indonesia adalah negara kepulauan\\n E.  Negara Indonesia adalah negara Kristen\n"
     ]
    },
    {
     "name": "stderr",
     "output_type": "stream",
     "text": [
      "/opt/conda/lib/python3.10/site-packages/langchain_core/_api/deprecation.py:189: LangChainDeprecationWarning: The function `__call__` was deprecated in LangChain 0.1.0 and will be removed in 0.2.0. Use invoke instead.\n",
      "  warn_deprecated(\n",
      "/opt/conda/lib/python3.10/site-packages/langchain_core/_api/deprecation.py:189: LangChainDeprecationWarning: The function `run` was deprecated in LangChain 0.1.0 and will be removed in 0.2.0. Use invoke instead.\n",
      "  warn_deprecated(\n",
      "/opt/conda/lib/python3.10/site-packages/langchain_core/_api/deprecation.py:189: LangChainDeprecationWarning: The function `__call__` was deprecated in LangChain 0.1.0 and will be removed in 0.2.0. Use invoke instead.\n",
      "  warn_deprecated(\n",
      "/opt/conda/lib/python3.10/site-packages/langchain_core/_api/deprecation.py:189: LangChainDeprecationWarning: The function `__call__` was deprecated in LangChain 0.1.0 and will be removed in 0.2.0. Use invoke instead.\n",
      "  warn_deprecated(\n"
     ]
    },
    {
     "name": "stdout",
     "output_type": "stream",
     "text": [
      " A. Negara Indonesia adalah negara Hukum\n",
      "\n",
      "\n",
      "Sources:\n",
      "Time:  54.74856162071228\n",
      "==============================================\n",
      "Nomor:  4\n",
      "Bahwa dengan demikian norma Pasal 244 KUHAP telah menimbulkan ketidak-pastian bagi Pemohon dan bahwa ketidak-pastian ini telah merugikan Hak Konstitusionalnya sebagaimana ditentukan dalam…\\n A.  Pasal 21D ayat (1) UUD 1945\\n B.  Pasal 22D ayat (1) UUD 1945\\n C.  Pasal 23D ayat (1) UUD 1945\\n D.  Pasal 24D ayat (1) UUD 1945\\n E.  Pasal 28D ayat (1) UUD 1945\n"
     ]
    },
    {
     "name": "stderr",
     "output_type": "stream",
     "text": [
      "/opt/conda/lib/python3.10/site-packages/langchain_core/_api/deprecation.py:189: LangChainDeprecationWarning: The function `__call__` was deprecated in LangChain 0.1.0 and will be removed in 0.2.0. Use invoke instead.\n",
      "  warn_deprecated(\n",
      "/opt/conda/lib/python3.10/site-packages/langchain_core/_api/deprecation.py:189: LangChainDeprecationWarning: The function `run` was deprecated in LangChain 0.1.0 and will be removed in 0.2.0. Use invoke instead.\n",
      "  warn_deprecated(\n",
      "/opt/conda/lib/python3.10/site-packages/langchain_core/_api/deprecation.py:189: LangChainDeprecationWarning: The function `__call__` was deprecated in LangChain 0.1.0 and will be removed in 0.2.0. Use invoke instead.\n",
      "  warn_deprecated(\n",
      "/opt/conda/lib/python3.10/site-packages/langchain_core/_api/deprecation.py:189: LangChainDeprecationWarning: The function `__call__` was deprecated in LangChain 0.1.0 and will be removed in 0.2.0. Use invoke instead.\n",
      "  warn_deprecated(\n"
     ]
    },
    {
     "name": "stdout",
     "output_type": "stream",
     "text": [
      " B. Pasal 22D ayat (1) UUD 1945\n",
      "\n",
      "\n",
      "Sources:\n",
      "Time:  85.8467755317688\n",
      "==============================================\n",
      "Nomor:  5\n",
      "Bunyi rumusan Pasal 244 KUHAP...\\n A.  Keputusan perkara pidana tidak dapat diberikan oleh Mahkamah Agung, hanya boleh diberikan oleh Mahkamah Konsitusi.\\n B.  Terhadap putusan perkara pidana yang diberikan pada tingkat terakhir oleh pengadilan lain selain daripada Mahkamah Agung, terdakwa atau Penuntut Umum dapat mengajukan permintaan pemeriksaan kasasi kepada Mahkamah Agung terhadap putusan bebas.\\n C.  Terhadap putusan perkara pidana yang diberikan pada tingkat terakhir oleh pengadilan lain selain daripada Mahkamah Agung, terdakwa atau Penuntut Umum dapat mengajukan permintaan pemeriksaan kasasi kepada Mahkamah Agung kecuali terhadap putusan bebas.\\n D.  Mengenai kedudukan hukum para Pemohon Pemerintah menyerahkansepenuhnya kepada Majelis Hakim untuk menilai dan memutusnya.\\n E.  \n"
     ]
    },
    {
     "name": "stderr",
     "output_type": "stream",
     "text": [
      "/opt/conda/lib/python3.10/site-packages/langchain_core/_api/deprecation.py:189: LangChainDeprecationWarning: The function `__call__` was deprecated in LangChain 0.1.0 and will be removed in 0.2.0. Use invoke instead.\n",
      "  warn_deprecated(\n",
      "/opt/conda/lib/python3.10/site-packages/langchain_core/_api/deprecation.py:189: LangChainDeprecationWarning: The function `run` was deprecated in LangChain 0.1.0 and will be removed in 0.2.0. Use invoke instead.\n",
      "  warn_deprecated(\n",
      "/opt/conda/lib/python3.10/site-packages/langchain_core/_api/deprecation.py:189: LangChainDeprecationWarning: The function `__call__` was deprecated in LangChain 0.1.0 and will be removed in 0.2.0. Use invoke instead.\n",
      "  warn_deprecated(\n",
      "/opt/conda/lib/python3.10/site-packages/langchain_core/_api/deprecation.py:189: LangChainDeprecationWarning: The function `__call__` was deprecated in LangChain 0.1.0 and will be removed in 0.2.0. Use invoke instead.\n",
      "  warn_deprecated(\n"
     ]
    },
    {
     "name": "stdout",
     "output_type": "stream",
     "text": [
      " B. Terhadap putusan perkara pidana yang diberikan pada tingkat terakhir oleh pengadilan lain selain daripada\n",
      "Mahkamah Agung, terdakwa atau Penuntut Umum dapat mengajukan permintaan pemeriksaan kasasi kepada Mahkamah\n",
      "Agung terhadap putusan bebas.\n",
      "\n",
      "\n",
      "Sources:\n",
      "Time:  159.1253879070282\n",
      "==============================================\n",
      "Nomor:  6\n",
      "Segala warga negara bersamaankedudukannya di dalam hukum dan Pemerintahan dan wajib menjunjung hukum dan pemerintahan itu dengan tidak ada kecualinya, ada pada pasal…\\n A.  Pasal 27 ayat (1)\\n B.  Pasal 28C ayat (2)\\n C.  Pasal 28D ayat (1)\\n D.  Pasal 28E ayat (3)\\n E.  Pasal 28I ayat (2)\n"
     ]
    },
    {
     "name": "stderr",
     "output_type": "stream",
     "text": [
      "/opt/conda/lib/python3.10/site-packages/langchain_core/_api/deprecation.py:189: LangChainDeprecationWarning: The function `__call__` was deprecated in LangChain 0.1.0 and will be removed in 0.2.0. Use invoke instead.\n",
      "  warn_deprecated(\n",
      "/opt/conda/lib/python3.10/site-packages/langchain_core/_api/deprecation.py:189: LangChainDeprecationWarning: The function `run` was deprecated in LangChain 0.1.0 and will be removed in 0.2.0. Use invoke instead.\n",
      "  warn_deprecated(\n",
      "/opt/conda/lib/python3.10/site-packages/langchain_core/_api/deprecation.py:189: LangChainDeprecationWarning: The function `__call__` was deprecated in LangChain 0.1.0 and will be removed in 0.2.0. Use invoke instead.\n",
      "  warn_deprecated(\n",
      "/opt/conda/lib/python3.10/site-packages/langchain_core/_api/deprecation.py:189: LangChainDeprecationWarning: The function `__call__` was deprecated in LangChain 0.1.0 and will be removed in 0.2.0. Use invoke instead.\n",
      "  warn_deprecated(\n"
     ]
    },
    {
     "name": "stdout",
     "output_type": "stream",
     "text": [
      " A.  Pasal 27 ayat (1)\n",
      "\n",
      "\n",
      "Sources:\n",
      "Time:  67.29346013069153\n",
      "==============================================\n",
      "Nomor:  7\n",
      "Setiap orang berhak untuk memajukan dirinya dalam memperjuangkan haknya secara kolektif untuk membangun masyarakat, bangsa, dan negaranya, ada pada pasal...\\n A.  Pasal 27 ayat (1)\\n B.  Pasal 28C ayat (2)\\n C.  Pasal 28D ayat (1)\\n D.  Pasal 28E ayat (3)\\n E.  Pasal 28I ayat (2)\n"
     ]
    },
    {
     "name": "stderr",
     "output_type": "stream",
     "text": [
      "/opt/conda/lib/python3.10/site-packages/langchain_core/_api/deprecation.py:189: LangChainDeprecationWarning: The function `__call__` was deprecated in LangChain 0.1.0 and will be removed in 0.2.0. Use invoke instead.\n",
      "  warn_deprecated(\n",
      "/opt/conda/lib/python3.10/site-packages/langchain_core/_api/deprecation.py:189: LangChainDeprecationWarning: The function `run` was deprecated in LangChain 0.1.0 and will be removed in 0.2.0. Use invoke instead.\n",
      "  warn_deprecated(\n",
      "/opt/conda/lib/python3.10/site-packages/langchain_core/_api/deprecation.py:189: LangChainDeprecationWarning: The function `__call__` was deprecated in LangChain 0.1.0 and will be removed in 0.2.0. Use invoke instead.\n",
      "  warn_deprecated(\n",
      "/opt/conda/lib/python3.10/site-packages/langchain_core/_api/deprecation.py:189: LangChainDeprecationWarning: The function `__call__` was deprecated in LangChain 0.1.0 and will be removed in 0.2.0. Use invoke instead.\n",
      "  warn_deprecated(\n"
     ]
    },
    {
     "name": "stdout",
     "output_type": "stream",
     "text": [
      " A.  Pasal 27 ayat (1)\n",
      "\n",
      "\n",
      "Sources:\n",
      "Time:  65.81397557258606\n",
      "==============================================\n",
      "Nomor:  8\n",
      "Setiap orang berhak atas pengakuan, jaminan, perlindungan dan kepastian hukum yang adil serta perlakuan yang sama di hadapan hukum, ada pada pasal…\\n A.  Pasal 27 ayat (1)\\n B.  Pasal 28C ayat (2)\\n C.  Pasal 28D ayat (1)\\n D.  Pasal 28E ayat (3)\\n E.  Pasal 28I ayat (2)\n"
     ]
    },
    {
     "name": "stderr",
     "output_type": "stream",
     "text": [
      "/opt/conda/lib/python3.10/site-packages/langchain_core/_api/deprecation.py:189: LangChainDeprecationWarning: The function `__call__` was deprecated in LangChain 0.1.0 and will be removed in 0.2.0. Use invoke instead.\n",
      "  warn_deprecated(\n",
      "/opt/conda/lib/python3.10/site-packages/langchain_core/_api/deprecation.py:189: LangChainDeprecationWarning: The function `run` was deprecated in LangChain 0.1.0 and will be removed in 0.2.0. Use invoke instead.\n",
      "  warn_deprecated(\n",
      "/opt/conda/lib/python3.10/site-packages/langchain_core/_api/deprecation.py:189: LangChainDeprecationWarning: The function `__call__` was deprecated in LangChain 0.1.0 and will be removed in 0.2.0. Use invoke instead.\n",
      "  warn_deprecated(\n",
      "/opt/conda/lib/python3.10/site-packages/langchain_core/_api/deprecation.py:189: LangChainDeprecationWarning: The function `__call__` was deprecated in LangChain 0.1.0 and will be removed in 0.2.0. Use invoke instead.\n",
      "  warn_deprecated(\n"
     ]
    },
    {
     "name": "stdout",
     "output_type": "stream",
     "text": [
      " A.  Pasal 27 ayat (1)\n",
      "\n",
      "\n",
      "Sources:\n",
      "Time:  66.86980938911438\n",
      "==============================================\n",
      "Nomor:  9\n",
      "Setiap orang berhak atas kebebasan berserikat, berkumpul, dan mengeluarkan pendapat, ada pada pasal…\\n A.  Pasal 27 ayat (1)\\n B.  Pasal 28C ayat (2)\\n C.  Pasal 28D ayat (1)\\n D.  Pasal 28E ayat (3)\\n E.  Pasal 28I ayat (2)\n"
     ]
    },
    {
     "name": "stderr",
     "output_type": "stream",
     "text": [
      "/opt/conda/lib/python3.10/site-packages/langchain_core/_api/deprecation.py:189: LangChainDeprecationWarning: The function `__call__` was deprecated in LangChain 0.1.0 and will be removed in 0.2.0. Use invoke instead.\n",
      "  warn_deprecated(\n",
      "/opt/conda/lib/python3.10/site-packages/langchain_core/_api/deprecation.py:189: LangChainDeprecationWarning: The function `run` was deprecated in LangChain 0.1.0 and will be removed in 0.2.0. Use invoke instead.\n",
      "  warn_deprecated(\n",
      "/opt/conda/lib/python3.10/site-packages/langchain_core/_api/deprecation.py:189: LangChainDeprecationWarning: The function `__call__` was deprecated in LangChain 0.1.0 and will be removed in 0.2.0. Use invoke instead.\n",
      "  warn_deprecated(\n",
      "/opt/conda/lib/python3.10/site-packages/langchain_core/_api/deprecation.py:189: LangChainDeprecationWarning: The function `__call__` was deprecated in LangChain 0.1.0 and will be removed in 0.2.0. Use invoke instead.\n",
      "  warn_deprecated(\n"
     ]
    },
    {
     "name": "stdout",
     "output_type": "stream",
     "text": [
      " A.  Pasal 27 ayat (1)\n",
      "\n",
      "\n",
      "Sources:\n",
      "Time:  58.85863208770752\n",
      "==============================================\n",
      "Nomor:  10\n",
      "Setiap orang berhak bebas dari perlakuan yang bersifat diskriminatif atas dasar apapun dan berhak mendapatkan perlindungan terhadap perlakuan yang bersifat diskriminatif itu, ada pada pasal...\\n A.  Pasal 27 ayat (1)\\n B.  Pasal 28C ayat (2)\\n C.  Pasal 28D ayat (1)\\n D.  Pasal 28E ayat (3)\\n E.  Pasal 28I ayat (2)\n"
     ]
    },
    {
     "name": "stderr",
     "output_type": "stream",
     "text": [
      "/opt/conda/lib/python3.10/site-packages/langchain_core/_api/deprecation.py:189: LangChainDeprecationWarning: The function `__call__` was deprecated in LangChain 0.1.0 and will be removed in 0.2.0. Use invoke instead.\n",
      "  warn_deprecated(\n",
      "/opt/conda/lib/python3.10/site-packages/langchain_core/_api/deprecation.py:189: LangChainDeprecationWarning: The function `run` was deprecated in LangChain 0.1.0 and will be removed in 0.2.0. Use invoke instead.\n",
      "  warn_deprecated(\n",
      "/opt/conda/lib/python3.10/site-packages/langchain_core/_api/deprecation.py:189: LangChainDeprecationWarning: The function `__call__` was deprecated in LangChain 0.1.0 and will be removed in 0.2.0. Use invoke instead.\n",
      "  warn_deprecated(\n",
      "/opt/conda/lib/python3.10/site-packages/langchain_core/_api/deprecation.py:189: LangChainDeprecationWarning: The function `__call__` was deprecated in LangChain 0.1.0 and will be removed in 0.2.0. Use invoke instead.\n",
      "  warn_deprecated(\n"
     ]
    },
    {
     "name": "stdout",
     "output_type": "stream",
     "text": [
      " A.  Pasal 27 ayat (1)\n",
      "\n",
      "\n",
      "Sources:\n",
      "Time:  71.03559446334839\n",
      "==============================================\n",
      "Nomor:  11\n",
      "Pemohon dapat menarik kembali permohonannya sebelum atau selama pemeriksaan Mahkamah Konstitusi dilakukan, dan penarikan kembali tersebut mengakibatkan permohonan tidak dapat diajukan kembali, ada di pasal...\\n A.  Pasal 31 Undang-Undang Nomor 24 Tahun 2003 tentang Mahkamah Konstitusi\\n B.  Pasal 32 Undang-Undang Nomor 24 Tahun 2003 tentang Mahkamah Konstitusi\\n C.  Pasal 35 Undang-Undang Nomor 23 Tahun 2003 tentang Mahkamah Konstitusi\\n D.  Pasal 35 Undang-Undang Nomor 24 Tahun 2003 tentang Mahkamah Konstitusi\\n E.  Pasal 35 Undang-Undang Nomor 25 Tahun 2003 tentang Mahkamah Konstitusi\n"
     ]
    },
    {
     "name": "stderr",
     "output_type": "stream",
     "text": [
      "/opt/conda/lib/python3.10/site-packages/langchain_core/_api/deprecation.py:189: LangChainDeprecationWarning: The function `__call__` was deprecated in LangChain 0.1.0 and will be removed in 0.2.0. Use invoke instead.\n",
      "  warn_deprecated(\n",
      "/opt/conda/lib/python3.10/site-packages/langchain_core/_api/deprecation.py:189: LangChainDeprecationWarning: The function `run` was deprecated in LangChain 0.1.0 and will be removed in 0.2.0. Use invoke instead.\n",
      "  warn_deprecated(\n",
      "/opt/conda/lib/python3.10/site-packages/langchain_core/_api/deprecation.py:189: LangChainDeprecationWarning: The function `__call__` was deprecated in LangChain 0.1.0 and will be removed in 0.2.0. Use invoke instead.\n",
      "  warn_deprecated(\n",
      "/opt/conda/lib/python3.10/site-packages/langchain_core/_api/deprecation.py:189: LangChainDeprecationWarning: The function `__call__` was deprecated in LangChain 0.1.0 and will be removed in 0.2.0. Use invoke instead.\n",
      "  warn_deprecated(\n"
     ]
    },
    {
     "name": "stdout",
     "output_type": "stream",
     "text": [
      " D. Pasal 35 Undang-Undang Nomor 24 Tahun 2003 tentang Mahkamah Konstitusi\n",
      "\n",
      "\n",
      "Sources:\n",
      "Time:  117.71639251708984\n",
      "==============================================\n",
      "Nomor:  12\n",
      "Tentang Pemilihan Umum Anggota DPR, DPD, dan DPRD menyebutkan bahwa peserta pemilu dan warga masyarakat melalui saksi peserta pemilu yang hadir dapat mengajukan keberatan terhadap jalannya dan hasil perhitungan suara di TPS, PPS, PPK, KPUD Kota/Kabupaten, KPU Provinsi, dan KPU Pusat apabila ternyata terdapat hal-hal yang tidak sesuai dengan peraturan perundang-undangan, ada pada...\\n A.  Pasal 96 ayat (8), Pasal 95 ayat (3), Pasal 98 ayat (3), Pasal 99 ayat (5), Pasal 100 ayat (5), dan Pasal 101 ayat (6)\\n B.  Pasal 96 ayat (8), Pasal 95 ayat (1), Pasal 98 ayat (3), Pasal 99 ayat (5), Pasal 100 ayat (5), dan Pasal 101 ayat (6)\\n C.  Pasal 96 ayat (8), Pasal 96 ayat (3), Pasal 98 ayat (3), Pasal 99 ayat (5), Pasal 100 ayat (5), dan Pasal 101 ayat (6)\\n D.  Pasal 96 ayat (8), Pasal 97 ayat (9), Pasal 98 ayat (3), Pasal 99 ayat (5), Pasal 100 ayat (5), dan Pasal 101 ayat (6)\\n E.  Pasal 96 ayat (8), Pasal 97 ayat (3), Pasal 98 ayat (3), Pasal 99 ayat (5), Pasal 100 ayat (5), dan Pasal 101 ayat (6)\n"
     ]
    },
    {
     "name": "stderr",
     "output_type": "stream",
     "text": [
      "/opt/conda/lib/python3.10/site-packages/langchain_core/_api/deprecation.py:189: LangChainDeprecationWarning: The function `__call__` was deprecated in LangChain 0.1.0 and will be removed in 0.2.0. Use invoke instead.\n",
      "  warn_deprecated(\n",
      "/opt/conda/lib/python3.10/site-packages/langchain_core/_api/deprecation.py:189: LangChainDeprecationWarning: The function `run` was deprecated in LangChain 0.1.0 and will be removed in 0.2.0. Use invoke instead.\n",
      "  warn_deprecated(\n",
      "/opt/conda/lib/python3.10/site-packages/langchain_core/_api/deprecation.py:189: LangChainDeprecationWarning: The function `__call__` was deprecated in LangChain 0.1.0 and will be removed in 0.2.0. Use invoke instead.\n",
      "  warn_deprecated(\n",
      "/opt/conda/lib/python3.10/site-packages/langchain_core/_api/deprecation.py:189: LangChainDeprecationWarning: The function `__call__` was deprecated in LangChain 0.1.0 and will be removed in 0.2.0. Use invoke instead.\n",
      "  warn_deprecated(\n"
     ]
    },
    {
     "name": "stdout",
     "output_type": "stream",
     "text": [
      " E. Pasal 96 ayat (8), Pasal 97 ayat (3), Pasal 98 ayat (3), Pasal 99 ayat (5), Pasal 100 ayat (5), dan Pasal\n",
      "101 ayat (6)\n",
      "\n",
      "\n",
      "Sources:\n",
      "Time:  199.28503608703613\n",
      "==============================================\n",
      "Nomor:  13\n",
      "Pada pokoknya menyebutkan permohonan hanya dapat dilakukan terhadap Penetapan hasil Pemilihan Umum yang dilakukan secara nasional oleh Komisi Pemilihan Umum yang mempengaruhi terpilihnya calon anggota DPD, Penentuan pasangan calon Presiden dan Wakil Presiden dan Perolehan Kursi Partai Politik, pada...\\n A.  Bahwa pasal 74 ayat (2) Undang-undang nomor 24 Tahun 2003 tentang Mahkamah Konstitusi, Undang-undang nomor 12 Tahun 2003 tentang Pemilihan Umum Anggota DPR, DPD, DPRD\\n B.  Bahwa pasal 73 ayat (2) Undang-undang nomor 24 Tahun 2003 tentang Mahkamah Konstitusi, Undang-undang nomor 12 Tahun 2003 tentang Pemilihan Umum Anggota DPR, DPD, DPRD\\n C.  Bahwa pasal 72 ayat (2) Undang-undang nomor 24 Tahun 2003 tentang Mahkamah Konstitusi, Undang-undang nomor 12 Tahun 2003 tentang Pemilihan Umum Anggota DPR, DPD, DPRD\\n D.  Bahwa pasal 71 ayat (2) Undang-undang nomor 24 Tahun 2003 tentang Mahkamah Konstitusi, Undang-undang nomor 12 Tahun 2003 tentang Pemilihan Umum Anggota DPR, DPD, DPRD\\n E.  Bahwa pasal 70 ayat (2) Undang-undang nomor 24 Tahun 2003 tentang Mahkamah Konstitusi, Undang-undang nomor 12 Tahun 2003 tentang Pemilihan Umum Anggota DPR, DPD, DPRD\n"
     ]
    },
    {
     "name": "stderr",
     "output_type": "stream",
     "text": [
      "/opt/conda/lib/python3.10/site-packages/langchain_core/_api/deprecation.py:189: LangChainDeprecationWarning: The function `__call__` was deprecated in LangChain 0.1.0 and will be removed in 0.2.0. Use invoke instead.\n",
      "  warn_deprecated(\n",
      "/opt/conda/lib/python3.10/site-packages/langchain_core/_api/deprecation.py:189: LangChainDeprecationWarning: The function `run` was deprecated in LangChain 0.1.0 and will be removed in 0.2.0. Use invoke instead.\n",
      "  warn_deprecated(\n",
      "/opt/conda/lib/python3.10/site-packages/langchain_core/_api/deprecation.py:189: LangChainDeprecationWarning: The function `__call__` was deprecated in LangChain 0.1.0 and will be removed in 0.2.0. Use invoke instead.\n",
      "  warn_deprecated(\n",
      "/opt/conda/lib/python3.10/site-packages/langchain_core/_api/deprecation.py:189: LangChainDeprecationWarning: The function `__call__` was deprecated in LangChain 0.1.0 and will be removed in 0.2.0. Use invoke instead.\n",
      "  warn_deprecated(\n"
     ]
    },
    {
     "name": "stdout",
     "output_type": "stream",
     "text": [
      " E. Bahwa pasal 70 ayat (2) Undang-undang nomor 24 Tahun 2003 tentang Mahkamah Konstitusi, Undang-undang nomor\n",
      "12 Tahun 2003 tentang Pemilihan Umum Anggota DPR, DPD, DPRD\n",
      "\n",
      "\n",
      "Sources:\n",
      "Time:  216.9491786956787\n",
      "==============================================\n",
      "Nomor:  14\n",
      "Bahwa seandainya Permohonan pemohon diterima, quod non, pasal 96 ayat (8), pasal 97 ayat (3), pasal 98 ayat (3), pasal 99 ayat (5), pasal 100 ayat (5) dan pasal 101 ayat (6) UU No. 12 tahun 2003 tentang Pemilihan Umum Anggota DPR, DPD, DPRD, berbunyi...\\n A.  Menyebutkan bahwa peserta Pemilu dan warga masyarakat yang mengikuti pemilihan umum harus warga negara Indonesia yang salah secara hukum\\n B.  Menyebutkan bahwa peserta Pemilu dan warga masyarakat melalui saksi peserta pemilu yang hadir dapat mengajukan keberatan terhadap jalannya dan hasil penghitungan suara di TPS, PPS, PPK KPUD Kota/Kabupaten, KPUD Propinsi dan KPU Pusat apabila ternyata terdapat hal-hal yang tidak sesuai dengan peraturan perundang-undangan\\n C.  Menyebutkan bahwa perhitungan suara dilakukan oleh RT/RW sekitar agar lebih baik\\n D.  Menyebutkan bahwa peserta penyedia TPU harus ada saksi dari masing-masing partai yang mengikutkan calon mereka\\n E.  Menyebutkan bahwa peserta harus sesuai dengan aturan\n"
     ]
    },
    {
     "name": "stderr",
     "output_type": "stream",
     "text": [
      "/opt/conda/lib/python3.10/site-packages/langchain_core/_api/deprecation.py:189: LangChainDeprecationWarning: The function `__call__` was deprecated in LangChain 0.1.0 and will be removed in 0.2.0. Use invoke instead.\n",
      "  warn_deprecated(\n",
      "/opt/conda/lib/python3.10/site-packages/langchain_core/_api/deprecation.py:189: LangChainDeprecationWarning: The function `run` was deprecated in LangChain 0.1.0 and will be removed in 0.2.0. Use invoke instead.\n",
      "  warn_deprecated(\n",
      "/opt/conda/lib/python3.10/site-packages/langchain_core/_api/deprecation.py:189: LangChainDeprecationWarning: The function `__call__` was deprecated in LangChain 0.1.0 and will be removed in 0.2.0. Use invoke instead.\n",
      "  warn_deprecated(\n",
      "/opt/conda/lib/python3.10/site-packages/langchain_core/_api/deprecation.py:189: LangChainDeprecationWarning: The function `__call__` was deprecated in LangChain 0.1.0 and will be removed in 0.2.0. Use invoke instead.\n",
      "  warn_deprecated(\n"
     ]
    },
    {
     "name": "stdout",
     "output_type": "stream",
     "text": [
      " D. Menyebutkan bahwa peserta penyedia TPU harus ada saksi dari masing-masing partai yang mengikutkan calon\n",
      "mereka\n",
      "\n",
      "\n",
      "Sources:\n",
      "Time:  171.03261375427246\n",
      "==============================================\n",
      "Nomor:  15\n",
      "Warga negara yang mempunyai hak pilih, pemantau pemilu dan/atau peserta pemilu dapat melaporkan pelanggaran pemilu pada setiap tahapan penyelenggaraan pemilu kepada Pengawas Pemilu (Panwaslu), ada di...\\n A.  Pasal 121 ayat (1) dan ayat (2) UU No. 12 Tahun 2003\\n B.  Pasal 122 ayat (1) dan ayat (2) UU No. 12 Tahun 2003\\n C.  Pasal 127 ayat (1) dan ayat (2) UU No. 12 Tahun 2003\\n D.  Pasal 126 ayat (1) dan ayat (2) UU No. 12 Tahun 2003\\n E.  Pasal 125 ayat (1) dan ayat (2) UU No. 12 Tahun 2003\n"
     ]
    },
    {
     "name": "stderr",
     "output_type": "stream",
     "text": [
      "/opt/conda/lib/python3.10/site-packages/langchain_core/_api/deprecation.py:189: LangChainDeprecationWarning: The function `__call__` was deprecated in LangChain 0.1.0 and will be removed in 0.2.0. Use invoke instead.\n",
      "  warn_deprecated(\n",
      "/opt/conda/lib/python3.10/site-packages/langchain_core/_api/deprecation.py:189: LangChainDeprecationWarning: The function `run` was deprecated in LangChain 0.1.0 and will be removed in 0.2.0. Use invoke instead.\n",
      "  warn_deprecated(\n",
      "/opt/conda/lib/python3.10/site-packages/langchain_core/_api/deprecation.py:189: LangChainDeprecationWarning: The function `__call__` was deprecated in LangChain 0.1.0 and will be removed in 0.2.0. Use invoke instead.\n",
      "  warn_deprecated(\n",
      "/opt/conda/lib/python3.10/site-packages/langchain_core/_api/deprecation.py:189: LangChainDeprecationWarning: The function `__call__` was deprecated in LangChain 0.1.0 and will be removed in 0.2.0. Use invoke instead.\n",
      "  warn_deprecated(\n"
     ]
    },
    {
     "name": "stdout",
     "output_type": "stream",
     "text": [
      " D.  Pasal 126 ayat (1) dan ayat (2) UU No. 12 Tahun 2003\n",
      "\n",
      "\n",
      "Sources:\n",
      "Time:  115.28219771385193\n",
      "==============================================\n",
      "Nomor:  16\n",
      "Laporan yang bersifat sengketa dan tidak mengandung unsur pidana diselesaikan oleh Pengawas Pemilu dan yang berunsur pidana diteruskan ke penyidik dan yang bersifat administratif diteruskan ke KPU, dinyatakan dalam…\\n A.  Pasal 128 dan 130 UU No. 12 tahun 2003\\n B.  Pasal 127 dan 130 UU No. 12 tahun 2003\\n C.  Pasal 126 dan 130 UU No. 12 tahun 2003\\n D.  Pasal 125 dan 130 UU No. 12 tahun 2003\\n E.  Pasal 124 dan 130 UU No. 12 tahun 2003\n"
     ]
    },
    {
     "name": "stderr",
     "output_type": "stream",
     "text": [
      "/opt/conda/lib/python3.10/site-packages/langchain_core/_api/deprecation.py:189: LangChainDeprecationWarning: The function `__call__` was deprecated in LangChain 0.1.0 and will be removed in 0.2.0. Use invoke instead.\n",
      "  warn_deprecated(\n",
      "/opt/conda/lib/python3.10/site-packages/langchain_core/_api/deprecation.py:189: LangChainDeprecationWarning: The function `run` was deprecated in LangChain 0.1.0 and will be removed in 0.2.0. Use invoke instead.\n",
      "  warn_deprecated(\n",
      "/opt/conda/lib/python3.10/site-packages/langchain_core/_api/deprecation.py:189: LangChainDeprecationWarning: The function `__call__` was deprecated in LangChain 0.1.0 and will be removed in 0.2.0. Use invoke instead.\n",
      "  warn_deprecated(\n",
      "/opt/conda/lib/python3.10/site-packages/langchain_core/_api/deprecation.py:189: LangChainDeprecationWarning: The function `__call__` was deprecated in LangChain 0.1.0 and will be removed in 0.2.0. Use invoke instead.\n",
      "  warn_deprecated(\n"
     ]
    },
    {
     "name": "stdout",
     "output_type": "stream",
     "text": [
      " D. Pasal 125 dan 130 UU No. 12 tahun 2003\n",
      "\n",
      "\n",
      "Sources:\n",
      "Time:  103.60250401496887\n",
      "==============================================\n",
      "Nomor:  17\n",
      "Pemohon turut mencalonkan diri sebagai Calon Presiden dan atau Calon Wakil Presiden adalah berdasarkan hak dan kewajiban Pemohon sebagai warga negara Republik Indonesia yang dibenarkan, disahkan, dijamin dan dilindungi oleh, Salah satu dari daftar pasal adalah...\\n A.  Pasal 21 A ayat 1 UUD Negara RI Tahun 1945\\n B.  Pasal 20 A ayat 1 UUD Negara RI Tahun 1945\\n C.  Pembukaan UUD Negara RI Tahun 1945\\n D.  Pasal 10 A ayat 1 UUD Negara RI Tahun 1945\\n E.  Pasal 10 B ayat 1 UUD Negara RI Tahun 1945\n"
     ]
    },
    {
     "name": "stderr",
     "output_type": "stream",
     "text": [
      "/opt/conda/lib/python3.10/site-packages/langchain_core/_api/deprecation.py:189: LangChainDeprecationWarning: The function `__call__` was deprecated in LangChain 0.1.0 and will be removed in 0.2.0. Use invoke instead.\n",
      "  warn_deprecated(\n",
      "/opt/conda/lib/python3.10/site-packages/langchain_core/_api/deprecation.py:189: LangChainDeprecationWarning: The function `run` was deprecated in LangChain 0.1.0 and will be removed in 0.2.0. Use invoke instead.\n",
      "  warn_deprecated(\n",
      "/opt/conda/lib/python3.10/site-packages/langchain_core/_api/deprecation.py:189: LangChainDeprecationWarning: The function `__call__` was deprecated in LangChain 0.1.0 and will be removed in 0.2.0. Use invoke instead.\n",
      "  warn_deprecated(\n",
      "/opt/conda/lib/python3.10/site-packages/langchain_core/_api/deprecation.py:189: LangChainDeprecationWarning: The function `__call__` was deprecated in LangChain 0.1.0 and will be removed in 0.2.0. Use invoke instead.\n",
      "  warn_deprecated(\n"
     ]
    },
    {
     "name": "stdout",
     "output_type": "stream",
     "text": [
      " C. Pembukaan UUD Negara RI Tahun 1945\n",
      "\n",
      "\n",
      "Sources:\n",
      "Time:  100.83628535270691\n",
      "==============================================\n",
      "Nomor:  18\n",
      "Pemohon turut mencalonkan diri sebagai Calon Presiden dan atau Calon Wakil Presiden adalah berdasarkan hak dan kewajiban Pemohon sebagai warga negara Republik Indonesia yang dibenarkan, disahkan, dijamin dan dilindungi oleh, Salah satu dari daftar pasal adalah...\\n A.  Pasal 21 A ayat 1 UUD Negara RI Tahun 1945\\n B.  Pasal 20 A ayat 1 UUD Negara RI Tahun 1945\\n C.  Pasal 10 A ayat 1 UUD Negara RI Tahun 1945\\n D.  Pasal 10 B ayat 1 UUD Negara RI Tahun 1945\\n E.  Pasal 28 J ayat 1 UUD Negara RI Tahun 1944\n"
     ]
    },
    {
     "name": "stderr",
     "output_type": "stream",
     "text": [
      "/opt/conda/lib/python3.10/site-packages/langchain_core/_api/deprecation.py:189: LangChainDeprecationWarning: The function `__call__` was deprecated in LangChain 0.1.0 and will be removed in 0.2.0. Use invoke instead.\n",
      "  warn_deprecated(\n",
      "/opt/conda/lib/python3.10/site-packages/langchain_core/_api/deprecation.py:189: LangChainDeprecationWarning: The function `run` was deprecated in LangChain 0.1.0 and will be removed in 0.2.0. Use invoke instead.\n",
      "  warn_deprecated(\n",
      "/opt/conda/lib/python3.10/site-packages/langchain_core/_api/deprecation.py:189: LangChainDeprecationWarning: The function `__call__` was deprecated in LangChain 0.1.0 and will be removed in 0.2.0. Use invoke instead.\n",
      "  warn_deprecated(\n",
      "/opt/conda/lib/python3.10/site-packages/langchain_core/_api/deprecation.py:189: LangChainDeprecationWarning: The function `__call__` was deprecated in LangChain 0.1.0 and will be removed in 0.2.0. Use invoke instead.\n",
      "  warn_deprecated(\n"
     ]
    },
    {
     "name": "stdout",
     "output_type": "stream",
     "text": [
      " C. Pasal 10 A ayat 1 UUD Negara RI Tahun 1945\n",
      "\n",
      "\n",
      "Sources:\n",
      "Time:  103.90014600753784\n",
      "==============================================\n",
      "Nomor:  19\n",
      "Pemohon turut mencalonkan diri sebagai Calon Presiden dan atau Calon Wakil Presiden adalah berdasarkan hak dan kewajiban Pemohon sebagai warga negara Republik Indonesia yang dibenarkan, disahkan, dijamin dan dilindungi oleh, Salah satu dari daftar pasal adalah...\\n A.  Pasal 28 I ayat 2 UUD Negara RI Tahun 1945\\n B.  Pasal 21 A ayat 1 UUD Negara RI Tahun 1945\\n C.  Pasal 20 A ayat 1 UUD Negara RI Tahun 1945\\n D.  Pasal 10 A ayat 1 UUD Negara RI Tahun 1945\\n E.  Pasal 10 B ayat 1 UUD Negara RI Tahun 1945\n"
     ]
    },
    {
     "name": "stderr",
     "output_type": "stream",
     "text": [
      "/opt/conda/lib/python3.10/site-packages/langchain_core/_api/deprecation.py:189: LangChainDeprecationWarning: The function `__call__` was deprecated in LangChain 0.1.0 and will be removed in 0.2.0. Use invoke instead.\n",
      "  warn_deprecated(\n",
      "/opt/conda/lib/python3.10/site-packages/langchain_core/_api/deprecation.py:189: LangChainDeprecationWarning: The function `run` was deprecated in LangChain 0.1.0 and will be removed in 0.2.0. Use invoke instead.\n",
      "  warn_deprecated(\n",
      "/opt/conda/lib/python3.10/site-packages/langchain_core/_api/deprecation.py:189: LangChainDeprecationWarning: The function `__call__` was deprecated in LangChain 0.1.0 and will be removed in 0.2.0. Use invoke instead.\n",
      "  warn_deprecated(\n",
      "/opt/conda/lib/python3.10/site-packages/langchain_core/_api/deprecation.py:189: LangChainDeprecationWarning: The function `__call__` was deprecated in LangChain 0.1.0 and will be removed in 0.2.0. Use invoke instead.\n",
      "  warn_deprecated(\n"
     ]
    },
    {
     "name": "stdout",
     "output_type": "stream",
     "text": [
      " C. Pasal 20 A ayat 1 UUD Negara RI Tahun 1945\n",
      "\n",
      "\n",
      "Sources:\n",
      "Time:  103.77864122390747\n",
      "==============================================\n",
      "Nomor:  20\n",
      "Pemohon turut mencalonkan diri sebagai Calon Presiden dan atau Calon Wakil Presiden adalah berdasarkan hak dan kewajiban Pemohon sebagai warga negara Republik Indonesia yang dibenarkan, disahkan, dijamin dan dilindungi oleh, Salah satu dari daftar pasal adalah...\\n A.  Pasal 21 A ayat 1 UUD Negara RI Tahun 1945\\n B.  Pasal 28 H ayat 2 UUD Negara RI Tahun 1945\\n C.  Pasal 20 A ayat 1 UUD Negara RI Tahun 1945\\n D.  Pasal 2G A ayat 1 UUD Negara RI Tahun 1945\\n E.  Pasal 2X A ayat 1 UUD Negara RI Tahun 1945\n"
     ]
    },
    {
     "name": "stderr",
     "output_type": "stream",
     "text": [
      "/opt/conda/lib/python3.10/site-packages/langchain_core/_api/deprecation.py:189: LangChainDeprecationWarning: The function `__call__` was deprecated in LangChain 0.1.0 and will be removed in 0.2.0. Use invoke instead.\n",
      "  warn_deprecated(\n",
      "/opt/conda/lib/python3.10/site-packages/langchain_core/_api/deprecation.py:189: LangChainDeprecationWarning: The function `run` was deprecated in LangChain 0.1.0 and will be removed in 0.2.0. Use invoke instead.\n",
      "  warn_deprecated(\n",
      "/opt/conda/lib/python3.10/site-packages/langchain_core/_api/deprecation.py:189: LangChainDeprecationWarning: The function `__call__` was deprecated in LangChain 0.1.0 and will be removed in 0.2.0. Use invoke instead.\n",
      "  warn_deprecated(\n",
      "/opt/conda/lib/python3.10/site-packages/langchain_core/_api/deprecation.py:189: LangChainDeprecationWarning: The function `__call__` was deprecated in LangChain 0.1.0 and will be removed in 0.2.0. Use invoke instead.\n",
      "  warn_deprecated(\n"
     ]
    },
    {
     "name": "stdout",
     "output_type": "stream",
     "text": [
      " B. Pasal 28 H ayat 2 UUD Negara RI Tahun 1945\n",
      "\n",
      "\n",
      "Sources:\n",
      "Time:  105.54580736160278\n",
      "==============================================\n",
      "Nomor:  21\n",
      "Pemohon turut mencalonkan diri sebagai Calon Presiden dan atau Calon Wakil Presiden adalah berdasarkan hak dan kewajiban Pemohon sebagai warga negara Republik Indonesia yang dibenarkan, disahkan, dijamin dan dilindungi oleh, Salah satu dari daftar pasal adalah...\\n A.  Pasal 28 D ayat 1 dan ayat 3 UUD Negara RI Tahun 1945\\n B.  Pasal 20 A ayat 1 UUD Negara RI Tahun 1945\\n C.  Pasal 21 Y ayat 1 UUD Negara RI Tahun 1945\\n D.  Pasal 20 Y ayat 1 UUD Negara RI Tahun 1945\\n E.  Pasal 21 A ayat 1 UUD Negara RI Tahun 1945\n"
     ]
    },
    {
     "name": "stderr",
     "output_type": "stream",
     "text": [
      "/opt/conda/lib/python3.10/site-packages/langchain_core/_api/deprecation.py:189: LangChainDeprecationWarning: The function `__call__` was deprecated in LangChain 0.1.0 and will be removed in 0.2.0. Use invoke instead.\n",
      "  warn_deprecated(\n",
      "/opt/conda/lib/python3.10/site-packages/langchain_core/_api/deprecation.py:189: LangChainDeprecationWarning: The function `run` was deprecated in LangChain 0.1.0 and will be removed in 0.2.0. Use invoke instead.\n",
      "  warn_deprecated(\n",
      "/opt/conda/lib/python3.10/site-packages/langchain_core/_api/deprecation.py:189: LangChainDeprecationWarning: The function `__call__` was deprecated in LangChain 0.1.0 and will be removed in 0.2.0. Use invoke instead.\n",
      "  warn_deprecated(\n",
      "/opt/conda/lib/python3.10/site-packages/langchain_core/_api/deprecation.py:189: LangChainDeprecationWarning: The function `__call__` was deprecated in LangChain 0.1.0 and will be removed in 0.2.0. Use invoke instead.\n",
      "  warn_deprecated(\n"
     ]
    },
    {
     "name": "stdout",
     "output_type": "stream",
     "text": [
      " B. Pasal 20 A ayat 1 UUD Negara RI Tahun 1945\n",
      "\n",
      "\n",
      "Sources:\n",
      "Time:  104.8702278137207\n",
      "==============================================\n",
      "Nomor:  22\n",
      "Pemohon turut mencalonkan diri sebagai Calon Presiden dan atau Calon Wakil Presiden adalah berdasarkan hak dan kewajiban Pemohon sebagai warga negara Republik Indonesia yang dibenarkan, disahkan, dijamin dan dilindungi oleh, Salah satu dari daftar pasal adalah...\\n A.  Pasal 21 A ayat 1 UUD Negara RI Tahun 1945\\n B.  Pasal 21 Z ayat 1 UUD Negara RI Tahun 1945\\n C.  Pasal 21 Y ayat 1 UUD Negara RI Tahun 1945\\n D.  Pasal 20 Y ayat 1 UUD Negara RI Tahun 1945\\n E.  Pasal 28 C ayat 2 UUD Negara RI Tahun 1945\n"
     ]
    },
    {
     "name": "stderr",
     "output_type": "stream",
     "text": [
      "/opt/conda/lib/python3.10/site-packages/langchain_core/_api/deprecation.py:189: LangChainDeprecationWarning: The function `__call__` was deprecated in LangChain 0.1.0 and will be removed in 0.2.0. Use invoke instead.\n",
      "  warn_deprecated(\n",
      "/opt/conda/lib/python3.10/site-packages/langchain_core/_api/deprecation.py:189: LangChainDeprecationWarning: The function `run` was deprecated in LangChain 0.1.0 and will be removed in 0.2.0. Use invoke instead.\n",
      "  warn_deprecated(\n",
      "/opt/conda/lib/python3.10/site-packages/langchain_core/_api/deprecation.py:189: LangChainDeprecationWarning: The function `__call__` was deprecated in LangChain 0.1.0 and will be removed in 0.2.0. Use invoke instead.\n",
      "  warn_deprecated(\n",
      "/opt/conda/lib/python3.10/site-packages/langchain_core/_api/deprecation.py:189: LangChainDeprecationWarning: The function `__call__` was deprecated in LangChain 0.1.0 and will be removed in 0.2.0. Use invoke instead.\n",
      "  warn_deprecated(\n"
     ]
    },
    {
     "name": "stdout",
     "output_type": "stream",
     "text": [
      " A.  Pasal 21 A ayat 1 UUD Negara RI Tahun 1945\n",
      "\n",
      "\n",
      "Sources:\n",
      "Time:  103.49254202842712\n",
      "==============================================\n",
      "Nomor:  23\n",
      "Pemohon turut mencalonkan diri sebagai Calon Presiden dan atau Calon Wakil Presiden adalah berdasarkan hak dan kewajiban Pemohon sebagai warga negara Republik Indonesia yang dibenarkan, disahkan, dijamin dan dilindungi oleh, Salah satu dari daftar pasal adalah...\\n A.  Pasal 21 A ayat 1 UUD Negara RI Tahun 1945\\n B.  Pasal 21 Z ayat 1 UUD Negara RI Tahun 1945\\n C.  Pasal 21 Y ayat 1 UUD Negara RI Tahun 1945\\n D.  Pasal 20 Y ayat 1 UUD Negara RI Tahun 1945\\n E.  Pasal 27 ayat 1 ayat 3 UUD Negara RI Tahun 1945\n"
     ]
    },
    {
     "name": "stderr",
     "output_type": "stream",
     "text": [
      "/opt/conda/lib/python3.10/site-packages/langchain_core/_api/deprecation.py:189: LangChainDeprecationWarning: The function `__call__` was deprecated in LangChain 0.1.0 and will be removed in 0.2.0. Use invoke instead.\n",
      "  warn_deprecated(\n",
      "/opt/conda/lib/python3.10/site-packages/langchain_core/_api/deprecation.py:189: LangChainDeprecationWarning: The function `run` was deprecated in LangChain 0.1.0 and will be removed in 0.2.0. Use invoke instead.\n",
      "  warn_deprecated(\n",
      "/opt/conda/lib/python3.10/site-packages/langchain_core/_api/deprecation.py:189: LangChainDeprecationWarning: The function `__call__` was deprecated in LangChain 0.1.0 and will be removed in 0.2.0. Use invoke instead.\n",
      "  warn_deprecated(\n",
      "/opt/conda/lib/python3.10/site-packages/langchain_core/_api/deprecation.py:189: LangChainDeprecationWarning: The function `__call__` was deprecated in LangChain 0.1.0 and will be removed in 0.2.0. Use invoke instead.\n",
      "  warn_deprecated(\n"
     ]
    },
    {
     "name": "stdout",
     "output_type": "stream",
     "text": [
      " A. Pasal 21 A ayat 1 UUD Negara RI Tahun 1945\n",
      "\n",
      "\n",
      "Sources:\n",
      "Time:  105.27112936973572\n",
      "==============================================\n",
      "Nomor:  24\n",
      "Pemohon turut mencalonkan diri sebagai Calon Presiden dan atau Calon Wakil Presiden adalah berdasarkan hak dan kewajiban Pemohon sebagai warga negara Republik Indonesia yang dibenarkan, disahkan, dijamin dan dilindungi oleh, Salah satu dari daftar pasal adalah...\\n A.  Pasal 21 A ayat 1 UUD Negara RI Tahun 1945\\n B.  Pasal 21 Z ayat 1 UUD Negara RI Tahun 1945\\n C.  Pasal 21 Y ayat 1 UUD Negara RI Tahun 1945\\n D.  Pasal 1 ayat 2 UUD Negara RI Tahun 1945\\n E.  Pasal 20 Y ayat 1 UUD Negara RI Tahun 1945\n"
     ]
    },
    {
     "name": "stderr",
     "output_type": "stream",
     "text": [
      "/opt/conda/lib/python3.10/site-packages/langchain_core/_api/deprecation.py:189: LangChainDeprecationWarning: The function `__call__` was deprecated in LangChain 0.1.0 and will be removed in 0.2.0. Use invoke instead.\n",
      "  warn_deprecated(\n",
      "/opt/conda/lib/python3.10/site-packages/langchain_core/_api/deprecation.py:189: LangChainDeprecationWarning: The function `run` was deprecated in LangChain 0.1.0 and will be removed in 0.2.0. Use invoke instead.\n",
      "  warn_deprecated(\n",
      "/opt/conda/lib/python3.10/site-packages/langchain_core/_api/deprecation.py:189: LangChainDeprecationWarning: The function `__call__` was deprecated in LangChain 0.1.0 and will be removed in 0.2.0. Use invoke instead.\n",
      "  warn_deprecated(\n",
      "/opt/conda/lib/python3.10/site-packages/langchain_core/_api/deprecation.py:189: LangChainDeprecationWarning: The function `__call__` was deprecated in LangChain 0.1.0 and will be removed in 0.2.0. Use invoke instead.\n",
      "  warn_deprecated(\n"
     ]
    },
    {
     "name": "stdout",
     "output_type": "stream",
     "text": [
      " A. Pasal 21 A ayat 1 UUD Negara RI Tahun 1945\n",
      "\n",
      "\n",
      "Sources:\n",
      "Time:  105.76590085029602\n",
      "==============================================\n",
      "Nomor:  25\n",
      "Setiap orang berhak mendapat kemudahan dan perlakuan khusus untuk memperoleh kesempatan dan manfaat yang sama gunamencapai persamaan dan keadilan, ada pada...\\n A.  Undang-undang Nomor 23 tahun 2003 khususnya Pasal 5 ayat (1,2,3 dan 4)\\n B.  Pasal 21 A ayat 1 UUD Negara RI Tahun 1945\\n C.  Pasal 21 Z ayat 1 UUD Negara RI Tahun 1945\\n D.  Pasal 21 Y ayat 1 UUD Negara RI Tahun 1945\\n E.  Pasal 1 ayat 2 UUD Negara RI Tahun 1945\n"
     ]
    },
    {
     "name": "stderr",
     "output_type": "stream",
     "text": [
      "/opt/conda/lib/python3.10/site-packages/langchain_core/_api/deprecation.py:189: LangChainDeprecationWarning: The function `__call__` was deprecated in LangChain 0.1.0 and will be removed in 0.2.0. Use invoke instead.\n",
      "  warn_deprecated(\n",
      "/opt/conda/lib/python3.10/site-packages/langchain_core/_api/deprecation.py:189: LangChainDeprecationWarning: The function `run` was deprecated in LangChain 0.1.0 and will be removed in 0.2.0. Use invoke instead.\n",
      "  warn_deprecated(\n",
      "/opt/conda/lib/python3.10/site-packages/langchain_core/_api/deprecation.py:189: LangChainDeprecationWarning: The function `__call__` was deprecated in LangChain 0.1.0 and will be removed in 0.2.0. Use invoke instead.\n",
      "  warn_deprecated(\n",
      "/opt/conda/lib/python3.10/site-packages/langchain_core/_api/deprecation.py:189: LangChainDeprecationWarning: The function `__call__` was deprecated in LangChain 0.1.0 and will be removed in 0.2.0. Use invoke instead.\n",
      "  warn_deprecated(\n"
     ]
    },
    {
     "name": "stdout",
     "output_type": "stream",
     "text": [
      " A. Undang-undang Nomor 23 tahun 2003 khususnya Pasal 5 ayat (1,2,3 dan 4)\n",
      "\n",
      "\n",
      "Sources:\n",
      "Time:  101.80779004096985\n",
      "==============================================\n",
      "Nomor:  26\n",
      "Setiap orang berhak mendapat kemudahan dan perlakuan khusus untuk memperoleh kesempatan dan manfaat yang sama gunamencapai persamaan dan keadilan, ada pada...\\n A.  Pasal 21 A ayat 1 UUD Negara RI Tahun 1945\\n B.  Pasal 21 Z ayat 1 UUD Negara RI Tahun 1945\\n C.  Pasal 21 Y ayat 1 UUD Negara RI Tahun 1945\\n D.  Pasal 1 ayat 2 UUD Negara RI Tahun 1945\\n E.  Undang-undang Nomor 23 tahun 2003 khususnya Pasal 1 ayat (6)\n"
     ]
    },
    {
     "name": "stderr",
     "output_type": "stream",
     "text": [
      "/opt/conda/lib/python3.10/site-packages/langchain_core/_api/deprecation.py:189: LangChainDeprecationWarning: The function `__call__` was deprecated in LangChain 0.1.0 and will be removed in 0.2.0. Use invoke instead.\n",
      "  warn_deprecated(\n",
      "/opt/conda/lib/python3.10/site-packages/langchain_core/_api/deprecation.py:189: LangChainDeprecationWarning: The function `run` was deprecated in LangChain 0.1.0 and will be removed in 0.2.0. Use invoke instead.\n",
      "  warn_deprecated(\n",
      "/opt/conda/lib/python3.10/site-packages/langchain_core/_api/deprecation.py:189: LangChainDeprecationWarning: The function `__call__` was deprecated in LangChain 0.1.0 and will be removed in 0.2.0. Use invoke instead.\n",
      "  warn_deprecated(\n",
      "/opt/conda/lib/python3.10/site-packages/langchain_core/_api/deprecation.py:189: LangChainDeprecationWarning: The function `__call__` was deprecated in LangChain 0.1.0 and will be removed in 0.2.0. Use invoke instead.\n",
      "  warn_deprecated(\n"
     ]
    },
    {
     "name": "stdout",
     "output_type": "stream",
     "text": [
      " D. Pasal 1 ayat 2 UUD Negara RI Tahun 1945\n",
      "\n",
      "\n",
      "Sources:\n",
      "Time:  94.12002611160278\n",
      "==============================================\n",
      "Nomor:  27\n",
      "Setiap orang berhak mendapat kemudahan dan perlakuan khusus untuk memperoleh kesempatan dan manfaat yang sama gunamencapai persamaan dan keadilan, ada pada...\\n A.  Undang-undang Nomor 23 tahun 2003 khususnya Pasal 6 L\\n B.  Pasal 21 A ayat 1 UUD Negara RI Tahun 1945\\n C.  Pasal 21 Z ayat 1 UUD Negara RI Tahun 1945\\n D.  Pasal 21 Y ayat 1 UUD Negara RI Tahun 1945\\n E.  Pasal 1 ayat 2 UUD Negara RI Tahun 1945\n"
     ]
    },
    {
     "name": "stderr",
     "output_type": "stream",
     "text": [
      "/opt/conda/lib/python3.10/site-packages/langchain_core/_api/deprecation.py:189: LangChainDeprecationWarning: The function `__call__` was deprecated in LangChain 0.1.0 and will be removed in 0.2.0. Use invoke instead.\n",
      "  warn_deprecated(\n",
      "/opt/conda/lib/python3.10/site-packages/langchain_core/_api/deprecation.py:189: LangChainDeprecationWarning: The function `run` was deprecated in LangChain 0.1.0 and will be removed in 0.2.0. Use invoke instead.\n",
      "  warn_deprecated(\n",
      "/opt/conda/lib/python3.10/site-packages/langchain_core/_api/deprecation.py:189: LangChainDeprecationWarning: The function `__call__` was deprecated in LangChain 0.1.0 and will be removed in 0.2.0. Use invoke instead.\n",
      "  warn_deprecated(\n",
      "/opt/conda/lib/python3.10/site-packages/langchain_core/_api/deprecation.py:189: LangChainDeprecationWarning: The function `__call__` was deprecated in LangChain 0.1.0 and will be removed in 0.2.0. Use invoke instead.\n",
      "  warn_deprecated(\n"
     ]
    },
    {
     "name": "stdout",
     "output_type": "stream",
     "text": [
      " A. Undang-undang Nomor 23 tahun 2003 khususnya Pasal 6 L\n",
      "\n",
      "\n",
      "Sources:\n",
      "Time:  94.7915186882019\n",
      "==============================================\n",
      "Nomor:  28\n",
      "Setiap orang berhak mendapat kemudahan dan perlakuan khusus untuk memperoleh kesempatan dan manfaat yang sama gunamencapai persamaan dan keadilan, ada pada...\\n A.  Pasal 21 A ayat 1 UUD Negara RI Tahun 1945\\n B.  Pasal 21 Z ayat 1 UUD Negara RI Tahun 1945\\n C.  Pasal 21 Y ayat 1 UUD Negara RI Tahun 1945\\n D.  Pasal 1 ayat 2 UUD Negara RI Tahun 1945\\n E.  Undang-undang Nomor 23 tahun 2003 khususnya Pasal 28 H ayat (2)\n"
     ]
    },
    {
     "name": "stderr",
     "output_type": "stream",
     "text": [
      "/opt/conda/lib/python3.10/site-packages/langchain_core/_api/deprecation.py:189: LangChainDeprecationWarning: The function `__call__` was deprecated in LangChain 0.1.0 and will be removed in 0.2.0. Use invoke instead.\n",
      "  warn_deprecated(\n",
      "/opt/conda/lib/python3.10/site-packages/langchain_core/_api/deprecation.py:189: LangChainDeprecationWarning: The function `run` was deprecated in LangChain 0.1.0 and will be removed in 0.2.0. Use invoke instead.\n",
      "  warn_deprecated(\n",
      "/opt/conda/lib/python3.10/site-packages/langchain_core/_api/deprecation.py:189: LangChainDeprecationWarning: The function `__call__` was deprecated in LangChain 0.1.0 and will be removed in 0.2.0. Use invoke instead.\n",
      "  warn_deprecated(\n",
      "/opt/conda/lib/python3.10/site-packages/langchain_core/_api/deprecation.py:189: LangChainDeprecationWarning: The function `__call__` was deprecated in LangChain 0.1.0 and will be removed in 0.2.0. Use invoke instead.\n",
      "  warn_deprecated(\n"
     ]
    },
    {
     "name": "stdout",
     "output_type": "stream",
     "text": [
      " D. Pasal 1 ayat 2 UUD Negara RI Tahun 1945\n",
      "\n",
      "\n",
      "Sources:\n",
      "Time:  94.2687463760376\n",
      "==============================================\n",
      "Nomor:  29\n",
      "Setiap orang berhak bebas dari perlakuan yang bersifat diskriminatif atas dasar apapun dan berhak mendapatkan perlindungan terhadap perlakuan yang bersifat diskriminatif itu, ada pada...\\n A.  Undang-undang Nomor 23 Tahun 2003 khususnya Pasal 5 ayat (1,2,3 dan 4)\\n B.  Pasal 21 A ayat 1 UUD Negara RI Tahun 1945\\n C.  Pasal 21 Z ayat 1 UUD Negara RI Tahun 1945\\n D.  Pasal 21 Y ayat 1 UUD Negara RI Tahun 1945\\n E.  Pasal 1 ayat 2 UUD Negara RI Tahun 1945\n"
     ]
    },
    {
     "name": "stderr",
     "output_type": "stream",
     "text": [
      "/opt/conda/lib/python3.10/site-packages/langchain_core/_api/deprecation.py:189: LangChainDeprecationWarning: The function `__call__` was deprecated in LangChain 0.1.0 and will be removed in 0.2.0. Use invoke instead.\n",
      "  warn_deprecated(\n",
      "/opt/conda/lib/python3.10/site-packages/langchain_core/_api/deprecation.py:189: LangChainDeprecationWarning: The function `run` was deprecated in LangChain 0.1.0 and will be removed in 0.2.0. Use invoke instead.\n",
      "  warn_deprecated(\n",
      "/opt/conda/lib/python3.10/site-packages/langchain_core/_api/deprecation.py:189: LangChainDeprecationWarning: The function `__call__` was deprecated in LangChain 0.1.0 and will be removed in 0.2.0. Use invoke instead.\n",
      "  warn_deprecated(\n",
      "/opt/conda/lib/python3.10/site-packages/langchain_core/_api/deprecation.py:189: LangChainDeprecationWarning: The function `__call__` was deprecated in LangChain 0.1.0 and will be removed in 0.2.0. Use invoke instead.\n",
      "  warn_deprecated(\n"
     ]
    },
    {
     "name": "stdout",
     "output_type": "stream",
     "text": [
      " A. Undang-undang Nomor 23 Tahun 2003 khususnya Pasal 5 ayat (1,2,3 dan 4)\n",
      "\n",
      "\n",
      "Sources:\n",
      "Time:  105.64157128334045\n",
      "==============================================\n",
      "Nomor:  30\n",
      "Setiap orang berhak bebas dari perlakuan yang bersifat diskriminatif atas dasar apapun dan berhak mendapatkan perlindungan terhadap perlakuan yang bersifat diskriminatif itu, ada pada...\\n A.  Pasal 21 A ayat 1 UUD Negara RI Tahun 1945\\n B.  Pasal 21 Z ayat 1 UUD Negara RI Tahun 1945\\n C.  Pasal 21 Y ayat 1 UUD Negara RI Tahun 1945\\n D.  Pasal 1 ayat 2 UUD Negara RI Tahun 1945\\n E.  Undang-undang Nomor 23 Tahun 2003 khususnya Pasal 1 ayat (6)\n"
     ]
    },
    {
     "name": "stderr",
     "output_type": "stream",
     "text": [
      "/opt/conda/lib/python3.10/site-packages/langchain_core/_api/deprecation.py:189: LangChainDeprecationWarning: The function `__call__` was deprecated in LangChain 0.1.0 and will be removed in 0.2.0. Use invoke instead.\n",
      "  warn_deprecated(\n",
      "/opt/conda/lib/python3.10/site-packages/langchain_core/_api/deprecation.py:189: LangChainDeprecationWarning: The function `run` was deprecated in LangChain 0.1.0 and will be removed in 0.2.0. Use invoke instead.\n",
      "  warn_deprecated(\n",
      "/opt/conda/lib/python3.10/site-packages/langchain_core/_api/deprecation.py:189: LangChainDeprecationWarning: The function `__call__` was deprecated in LangChain 0.1.0 and will be removed in 0.2.0. Use invoke instead.\n",
      "  warn_deprecated(\n",
      "/opt/conda/lib/python3.10/site-packages/langchain_core/_api/deprecation.py:189: LangChainDeprecationWarning: The function `__call__` was deprecated in LangChain 0.1.0 and will be removed in 0.2.0. Use invoke instead.\n",
      "  warn_deprecated(\n"
     ]
    },
    {
     "name": "stdout",
     "output_type": "stream",
     "text": [
      " D. Pasal 1 ayat 2 UUD Negara RI Tahun 1945\n",
      "\n",
      "\n",
      "Sources:\n",
      "Time:  98.91571140289307\n",
      "==============================================\n",
      "Nomor:  31\n",
      "Setiap orang berhak bebas dari perlakuan yang bersifat diskriminatif atas dasar apapun dan berhak mendapatkan perlindungan terhadap perlakuan yang bersifat diskriminatif itu, ada pada...\\n A.  Undang-undang Nomor 23 Tahun 2003 khususnya Pasal 6 I\\n B.  Pasal 21 A ayat 1 UUD Negara RI Tahun 1945\\n C.  Pasal 21 Z ayat 1 UUD Negara RI Tahun 1945\\n D.  Pasal 21 Y ayat 1 UUD Negara RI Tahun 1945\\n E.  Pasal 1 ayat 2 UUD Negara RI Tahun 1945\n"
     ]
    },
    {
     "name": "stderr",
     "output_type": "stream",
     "text": [
      "/opt/conda/lib/python3.10/site-packages/langchain_core/_api/deprecation.py:189: LangChainDeprecationWarning: The function `__call__` was deprecated in LangChain 0.1.0 and will be removed in 0.2.0. Use invoke instead.\n",
      "  warn_deprecated(\n",
      "/opt/conda/lib/python3.10/site-packages/langchain_core/_api/deprecation.py:189: LangChainDeprecationWarning: The function `run` was deprecated in LangChain 0.1.0 and will be removed in 0.2.0. Use invoke instead.\n",
      "  warn_deprecated(\n",
      "/opt/conda/lib/python3.10/site-packages/langchain_core/_api/deprecation.py:189: LangChainDeprecationWarning: The function `__call__` was deprecated in LangChain 0.1.0 and will be removed in 0.2.0. Use invoke instead.\n",
      "  warn_deprecated(\n",
      "/opt/conda/lib/python3.10/site-packages/langchain_core/_api/deprecation.py:189: LangChainDeprecationWarning: The function `__call__` was deprecated in LangChain 0.1.0 and will be removed in 0.2.0. Use invoke instead.\n",
      "  warn_deprecated(\n"
     ]
    },
    {
     "name": "stdout",
     "output_type": "stream",
     "text": [
      " A. Undang-undang Nomor 23 Tahun 2003 khususnya Pasal 6 I\n",
      "\n",
      "\n",
      "Sources:\n",
      "Time:  99.56612014770508\n",
      "==============================================\n",
      "Nomor:  32\n",
      "Setiap orang wajib menghormati hak azasi manusia orang lain dalam tertib kehidupan bermasyarakat, berbangsa dan bernegara, ada pada...\\n A.  Undang-undang Nomor 23 Tahun 2003 khususnya Pasal 5 ayat (1, 2, 3 dan 4)\\n B.  Pasal 21 A ayat 1 UUD Negara RI Tahun 1945\\n C.  Pasal 21 Z ayat 1 UUD Negara RI Tahun 1945\\n D.  Pasal 21 Y ayat 1 UUD Negara RI Tahun 1945\\n E.  Pasal 1 ayat 2 UUD Negara RI Tahun 1945\n"
     ]
    },
    {
     "name": "stderr",
     "output_type": "stream",
     "text": [
      "/opt/conda/lib/python3.10/site-packages/langchain_core/_api/deprecation.py:189: LangChainDeprecationWarning: The function `__call__` was deprecated in LangChain 0.1.0 and will be removed in 0.2.0. Use invoke instead.\n",
      "  warn_deprecated(\n",
      "/opt/conda/lib/python3.10/site-packages/langchain_core/_api/deprecation.py:189: LangChainDeprecationWarning: The function `run` was deprecated in LangChain 0.1.0 and will be removed in 0.2.0. Use invoke instead.\n",
      "  warn_deprecated(\n",
      "/opt/conda/lib/python3.10/site-packages/langchain_core/_api/deprecation.py:189: LangChainDeprecationWarning: The function `__call__` was deprecated in LangChain 0.1.0 and will be removed in 0.2.0. Use invoke instead.\n",
      "  warn_deprecated(\n",
      "/opt/conda/lib/python3.10/site-packages/langchain_core/_api/deprecation.py:189: LangChainDeprecationWarning: The function `__call__` was deprecated in LangChain 0.1.0 and will be removed in 0.2.0. Use invoke instead.\n",
      "  warn_deprecated(\n"
     ]
    },
    {
     "name": "stdout",
     "output_type": "stream",
     "text": [
      " A. Undang-undang Nomor 23 Tahun 2003 khususnya Pasal 5 ayat (1, 2, 3 dan 4)\n",
      "\n",
      "\n",
      "Sources:\n",
      "Time:  99.57052755355835\n",
      "==============================================\n",
      "Nomor:  33\n",
      "Setiap orang wajib menghormati hak azasi manusia orang lain dalam tertib kehidupan bermasyarakat, berbangsa dan bernegara, ada pada...\\n A.  Pasal 21 A ayat 1 UUD Negara RI Tahun 1945\\n B.  Pasal 21 Z ayat 1 UUD Negara RI Tahun 1945\\n C.  Pasal 21 Y ayat 1 UUD Negara RI Tahun 1945\\n D.  Pasal 1 ayat 2 UUD Negara RI Tahun 1945\\n E.  Undang-undang Nomor 23 Tahun 2003 khususnya Pasal 1 ayat (6)\n"
     ]
    },
    {
     "name": "stderr",
     "output_type": "stream",
     "text": [
      "/opt/conda/lib/python3.10/site-packages/langchain_core/_api/deprecation.py:189: LangChainDeprecationWarning: The function `__call__` was deprecated in LangChain 0.1.0 and will be removed in 0.2.0. Use invoke instead.\n",
      "  warn_deprecated(\n",
      "/opt/conda/lib/python3.10/site-packages/langchain_core/_api/deprecation.py:189: LangChainDeprecationWarning: The function `run` was deprecated in LangChain 0.1.0 and will be removed in 0.2.0. Use invoke instead.\n",
      "  warn_deprecated(\n",
      "/opt/conda/lib/python3.10/site-packages/langchain_core/_api/deprecation.py:189: LangChainDeprecationWarning: The function `__call__` was deprecated in LangChain 0.1.0 and will be removed in 0.2.0. Use invoke instead.\n",
      "  warn_deprecated(\n",
      "/opt/conda/lib/python3.10/site-packages/langchain_core/_api/deprecation.py:189: LangChainDeprecationWarning: The function `__call__` was deprecated in LangChain 0.1.0 and will be removed in 0.2.0. Use invoke instead.\n",
      "  warn_deprecated(\n"
     ]
    },
    {
     "name": "stdout",
     "output_type": "stream",
     "text": [
      " D. Pasal 1 ayat 2 UUD Negara RI Tahun 1945\n",
      "\n",
      "\n",
      "Sources:\n",
      "Time:  90.90208697319031\n",
      "==============================================\n",
      "Nomor:  34\n",
      "Setiap orang wajib menghormati hak azasi manusia orang lain dalam tertib kehidupan bermasyarakat, berbangsa dan bernegara, ada pada...\\n A.  Undang-undang Nomor 23 Tahun 2003 khususnya Pasal 6L\\n B.  Pasal 21 A ayat 1 UUD Negara RI Tahun 1945\\n C.  Pasal 21 Z ayat 1 UUD Negara RI Tahun 1945\\n D.  Pasal 21 Y ayat 1 UUD Negara RI Tahun 1945\\n E.  Pasal 1 ayat 2 UUD Negara RI Tahun 1945\n"
     ]
    },
    {
     "name": "stderr",
     "output_type": "stream",
     "text": [
      "/opt/conda/lib/python3.10/site-packages/langchain_core/_api/deprecation.py:189: LangChainDeprecationWarning: The function `__call__` was deprecated in LangChain 0.1.0 and will be removed in 0.2.0. Use invoke instead.\n",
      "  warn_deprecated(\n",
      "/opt/conda/lib/python3.10/site-packages/langchain_core/_api/deprecation.py:189: LangChainDeprecationWarning: The function `run` was deprecated in LangChain 0.1.0 and will be removed in 0.2.0. Use invoke instead.\n",
      "  warn_deprecated(\n",
      "/opt/conda/lib/python3.10/site-packages/langchain_core/_api/deprecation.py:189: LangChainDeprecationWarning: The function `__call__` was deprecated in LangChain 0.1.0 and will be removed in 0.2.0. Use invoke instead.\n",
      "  warn_deprecated(\n",
      "/opt/conda/lib/python3.10/site-packages/langchain_core/_api/deprecation.py:189: LangChainDeprecationWarning: The function `__call__` was deprecated in LangChain 0.1.0 and will be removed in 0.2.0. Use invoke instead.\n",
      "  warn_deprecated(\n"
     ]
    },
    {
     "name": "stdout",
     "output_type": "stream",
     "text": [
      " A. Undang-undang Nomor 23 Tahun 2003 khususnya Pasal 6L\n",
      "\n",
      "\n",
      "Sources:\n",
      "Time:  91.59460091590881\n",
      "==============================================\n",
      "Nomor:  35\n",
      "Setiap orang berhak hidup sejahtera lahir dan batin, bertempat tinggal dan mendapatkan lingkungan hidup yang baik dan sehat serta memperoleh pelayanan kesehatan, pada...\\n A.  Pasal 21 H ayat 1 (Konstitusi/UUD 1945)\\n B.  Pasal 28 H ayat 1 (Konstitusi/UUD 1945)\\n C.  Pasal 28 A ayat 1 (Konstitusi/UUD 1945)\\n D.  Pasal 28 B ayat 1 (Konstitusi/UUD 1945)\\n E.  Pasal 28 C ayat 1 (Konstitusi/UUD 1945)\n"
     ]
    },
    {
     "name": "stderr",
     "output_type": "stream",
     "text": [
      "/opt/conda/lib/python3.10/site-packages/langchain_core/_api/deprecation.py:189: LangChainDeprecationWarning: The function `__call__` was deprecated in LangChain 0.1.0 and will be removed in 0.2.0. Use invoke instead.\n",
      "  warn_deprecated(\n",
      "/opt/conda/lib/python3.10/site-packages/langchain_core/_api/deprecation.py:189: LangChainDeprecationWarning: The function `run` was deprecated in LangChain 0.1.0 and will be removed in 0.2.0. Use invoke instead.\n",
      "  warn_deprecated(\n",
      "/opt/conda/lib/python3.10/site-packages/langchain_core/_api/deprecation.py:189: LangChainDeprecationWarning: The function `__call__` was deprecated in LangChain 0.1.0 and will be removed in 0.2.0. Use invoke instead.\n",
      "  warn_deprecated(\n",
      "/opt/conda/lib/python3.10/site-packages/langchain_core/_api/deprecation.py:189: LangChainDeprecationWarning: The function `__call__` was deprecated in LangChain 0.1.0 and will be removed in 0.2.0. Use invoke instead.\n",
      "  warn_deprecated(\n"
     ]
    },
    {
     "name": "stdout",
     "output_type": "stream",
     "text": [
      " D. Pasal 28 B ayat 1 (Konstitusi/UUD 1945)\n",
      "\n",
      "\n",
      "Sources:\n",
      "Time:  95.51285672187805\n",
      "==============================================\n",
      "Nomor:  36\n",
      "Pada Pasal 51 ayat (1) Undang-undang Nomor 24 Tahun 2003 tentang Mahkamah Konstitusi. Pihak yang menganggap hak dan/atau kewenangan konstitusionalnya dirugikan oleh berlakunya suatu undang-undang adalah...\\n A.  Presiden\\n B.  Pemohon\\n C.  Wakil Presiden\\n D.  Polisi\\n E.  Tentara\n"
     ]
    },
    {
     "name": "stderr",
     "output_type": "stream",
     "text": [
      "/opt/conda/lib/python3.10/site-packages/langchain_core/_api/deprecation.py:189: LangChainDeprecationWarning: The function `__call__` was deprecated in LangChain 0.1.0 and will be removed in 0.2.0. Use invoke instead.\n",
      "  warn_deprecated(\n",
      "/opt/conda/lib/python3.10/site-packages/langchain_core/_api/deprecation.py:189: LangChainDeprecationWarning: The function `run` was deprecated in LangChain 0.1.0 and will be removed in 0.2.0. Use invoke instead.\n",
      "  warn_deprecated(\n",
      "/opt/conda/lib/python3.10/site-packages/langchain_core/_api/deprecation.py:189: LangChainDeprecationWarning: The function `__call__` was deprecated in LangChain 0.1.0 and will be removed in 0.2.0. Use invoke instead.\n",
      "  warn_deprecated(\n",
      "/opt/conda/lib/python3.10/site-packages/langchain_core/_api/deprecation.py:189: LangChainDeprecationWarning: The function `__call__` was deprecated in LangChain 0.1.0 and will be removed in 0.2.0. Use invoke instead.\n",
      "  warn_deprecated(\n"
     ]
    },
    {
     "name": "stdout",
     "output_type": "stream",
     "text": [
      " D. Polisi\n",
      "\n",
      "\n",
      "Sources:\n",
      "Time:  61.13517236709595\n",
      "==============================================\n",
      "Nomor:  37\n",
      "Pasal 51 ayat (1) Undang-undang Nomor 24 Tahun 2003 tentang Mahkamah Konstitusi menyatakan, Pemohon adalah pihak yang menganggap hak dan/atau kewenangan konstitusionalnya dirugikan oleh berlakunya suatu undang-undang, yaitu...\\n A.  perorangan warga negara Indonesia, kesatuan masyarakat hukum adat sepanjang masih hidup dan sesuai dengan perkembangan masyarakat dan prinsip-prinsip Negara Kesatuan Republik Indonesia yang diatur dalam undang-undang, badan hukum publik atau privat, atau lembaga negara\\n B.  Perorangan warga negara Indonesia, mempunyai darah daging, atau lembaga negara\\n C.  perorangan warga negara Indonesia, bekerja didalam pemeritahan, atau lembaga negara\\n D.  perorangan warga negara Indonesia, bisa berbahasa indonesia, badan hukum publik atau privat, atau lembaga negara\\n E.  perorangan warga negara Indonesia, kriminal, badan hukum publik atau privat, atau lembaga negara\n"
     ]
    },
    {
     "name": "stderr",
     "output_type": "stream",
     "text": [
      "/opt/conda/lib/python3.10/site-packages/langchain_core/_api/deprecation.py:189: LangChainDeprecationWarning: The function `__call__` was deprecated in LangChain 0.1.0 and will be removed in 0.2.0. Use invoke instead.\n",
      "  warn_deprecated(\n",
      "/opt/conda/lib/python3.10/site-packages/langchain_core/_api/deprecation.py:189: LangChainDeprecationWarning: The function `run` was deprecated in LangChain 0.1.0 and will be removed in 0.2.0. Use invoke instead.\n",
      "  warn_deprecated(\n",
      "/opt/conda/lib/python3.10/site-packages/langchain_core/_api/deprecation.py:189: LangChainDeprecationWarning: The function `__call__` was deprecated in LangChain 0.1.0 and will be removed in 0.2.0. Use invoke instead.\n",
      "  warn_deprecated(\n",
      "/opt/conda/lib/python3.10/site-packages/langchain_core/_api/deprecation.py:189: LangChainDeprecationWarning: The function `__call__` was deprecated in LangChain 0.1.0 and will be removed in 0.2.0. Use invoke instead.\n",
      "  warn_deprecated(\n"
     ]
    },
    {
     "name": "stdout",
     "output_type": "stream",
     "text": [
      " A\n",
      "\n",
      "\n",
      "Sources:\n",
      "Time:  129.7269630432129\n",
      "==============================================\n",
      "Nomor:  38\n",
      "Setiap orang berhak atas pengakuan, jaminan, perlindungan, dan kepastian hukum yang adil serta perlakuan yang sama di hadapan hukum, bunyi dari…\\n A.  Pasal 28D ayat (1) UUD 1945\\n B.  Pasal 27D ayat (1) UUD 1945\\n C.  Pasal 26D ayat (1) UUD 1945\\n D.  Pasal 25D ayat (1) UUD 1945\\n E.  Pasal 24D ayat (1) UUD 1945\n"
     ]
    },
    {
     "name": "stderr",
     "output_type": "stream",
     "text": [
      "/opt/conda/lib/python3.10/site-packages/langchain_core/_api/deprecation.py:189: LangChainDeprecationWarning: The function `__call__` was deprecated in LangChain 0.1.0 and will be removed in 0.2.0. Use invoke instead.\n",
      "  warn_deprecated(\n",
      "/opt/conda/lib/python3.10/site-packages/langchain_core/_api/deprecation.py:189: LangChainDeprecationWarning: The function `run` was deprecated in LangChain 0.1.0 and will be removed in 0.2.0. Use invoke instead.\n",
      "  warn_deprecated(\n",
      "/opt/conda/lib/python3.10/site-packages/langchain_core/_api/deprecation.py:189: LangChainDeprecationWarning: The function `__call__` was deprecated in LangChain 0.1.0 and will be removed in 0.2.0. Use invoke instead.\n",
      "  warn_deprecated(\n",
      "/opt/conda/lib/python3.10/site-packages/langchain_core/_api/deprecation.py:189: LangChainDeprecationWarning: The function `__call__` was deprecated in LangChain 0.1.0 and will be removed in 0.2.0. Use invoke instead.\n",
      "  warn_deprecated(\n"
     ]
    },
    {
     "name": "stdout",
     "output_type": "stream",
     "text": [
      " A.  Pasal 28D ayat (1) UUD 1945\n",
      "\n",
      "\n",
      "Sources:\n",
      "Time:  81.56698083877563\n",
      "==============================================\n",
      "Nomor:  39\n",
      "Setiap orang berhak atas kebebasan meyakini kepercayaan, menyatakan pikiran dan sikap, sesuai dengan hati nuraninya, dari pasal…\\n A.  Pasal 28F ayat (2) UUD 1945\\n B.  Pasal 28A ayat (2) UUD 1945\\n C.  Pasal 28B ayat (2) UUD 1945\\n D.  Pasal 28C ayat (2) UUD 1945\\n E.  Pasal 28E ayat (2) UUD 1945\n"
     ]
    },
    {
     "name": "stderr",
     "output_type": "stream",
     "text": [
      "/opt/conda/lib/python3.10/site-packages/langchain_core/_api/deprecation.py:189: LangChainDeprecationWarning: The function `__call__` was deprecated in LangChain 0.1.0 and will be removed in 0.2.0. Use invoke instead.\n",
      "  warn_deprecated(\n",
      "/opt/conda/lib/python3.10/site-packages/langchain_core/_api/deprecation.py:189: LangChainDeprecationWarning: The function `run` was deprecated in LangChain 0.1.0 and will be removed in 0.2.0. Use invoke instead.\n",
      "  warn_deprecated(\n",
      "/opt/conda/lib/python3.10/site-packages/langchain_core/_api/deprecation.py:189: LangChainDeprecationWarning: The function `__call__` was deprecated in LangChain 0.1.0 and will be removed in 0.2.0. Use invoke instead.\n",
      "  warn_deprecated(\n",
      "/opt/conda/lib/python3.10/site-packages/langchain_core/_api/deprecation.py:189: LangChainDeprecationWarning: The function `__call__` was deprecated in LangChain 0.1.0 and will be removed in 0.2.0. Use invoke instead.\n",
      "  warn_deprecated(\n"
     ]
    },
    {
     "name": "stdout",
     "output_type": "stream",
     "text": [
      " C. Pasal 28B ayat (2) UUD 1945\n",
      "\n",
      "\n",
      "Sources:\n",
      "Time:  77.8651647567749\n",
      "==============================================\n",
      "Nomor:  40\n",
      "Setiap orang berhak atas kebebasan berserikat, berkumpul dan mengeluarkan pendapat, dari pasal…\\n A.  Pasal 28A ayat (3) UUD 1945\\n B.  Pasal 28E ayat (3) UUD 1945\\n C.  Pasal 28B ayat (3) UUD 1945\\n D.  Pasal 28C ayat (3) UUD 1945\\n E.  Pasal 28D ayat (3) UUD 1945\n"
     ]
    },
    {
     "name": "stderr",
     "output_type": "stream",
     "text": [
      "/opt/conda/lib/python3.10/site-packages/langchain_core/_api/deprecation.py:189: LangChainDeprecationWarning: The function `__call__` was deprecated in LangChain 0.1.0 and will be removed in 0.2.0. Use invoke instead.\n",
      "  warn_deprecated(\n",
      "/opt/conda/lib/python3.10/site-packages/langchain_core/_api/deprecation.py:189: LangChainDeprecationWarning: The function `run` was deprecated in LangChain 0.1.0 and will be removed in 0.2.0. Use invoke instead.\n",
      "  warn_deprecated(\n",
      "/opt/conda/lib/python3.10/site-packages/langchain_core/_api/deprecation.py:189: LangChainDeprecationWarning: The function `__call__` was deprecated in LangChain 0.1.0 and will be removed in 0.2.0. Use invoke instead.\n",
      "  warn_deprecated(\n",
      "/opt/conda/lib/python3.10/site-packages/langchain_core/_api/deprecation.py:189: LangChainDeprecationWarning: The function `__call__` was deprecated in LangChain 0.1.0 and will be removed in 0.2.0. Use invoke instead.\n",
      "  warn_deprecated(\n"
     ]
    },
    {
     "name": "stdout",
     "output_type": "stream",
     "text": [
      " A\n",
      "\n",
      "\n",
      "Sources:\n",
      "Time:  67.41931796073914\n",
      "==============================================\n",
      "Nomor:  41\n",
      "Setiap orang berhak untuk berkomunikasi dan memperoleh informasi untuk mengembangkan pribadi dan lingkungan sosialnya, serta berhak untuk mencari, memperoleh, memiliki, menyimpan, mengolah, dan menyampaikan informasi dengan menggunakan segala jenis saluran yang tersedia, ada pada pasal...\\n A.  Pasal 28B UUD 1945\\n B.  Pasal 28C UUD 1945\\n C.  Pasal 28E UUD 1945\\n D.  Pasal 28E UUD 1945\\n E.  Pasal 28F UUD 1945\n"
     ]
    },
    {
     "name": "stderr",
     "output_type": "stream",
     "text": [
      "/opt/conda/lib/python3.10/site-packages/langchain_core/_api/deprecation.py:189: LangChainDeprecationWarning: The function `__call__` was deprecated in LangChain 0.1.0 and will be removed in 0.2.0. Use invoke instead.\n",
      "  warn_deprecated(\n",
      "/opt/conda/lib/python3.10/site-packages/langchain_core/_api/deprecation.py:189: LangChainDeprecationWarning: The function `run` was deprecated in LangChain 0.1.0 and will be removed in 0.2.0. Use invoke instead.\n",
      "  warn_deprecated(\n",
      "/opt/conda/lib/python3.10/site-packages/langchain_core/_api/deprecation.py:189: LangChainDeprecationWarning: The function `__call__` was deprecated in LangChain 0.1.0 and will be removed in 0.2.0. Use invoke instead.\n",
      "  warn_deprecated(\n",
      "/opt/conda/lib/python3.10/site-packages/langchain_core/_api/deprecation.py:189: LangChainDeprecationWarning: The function `__call__` was deprecated in LangChain 0.1.0 and will be removed in 0.2.0. Use invoke instead.\n",
      "  warn_deprecated(\n"
     ]
    },
    {
     "name": "stdout",
     "output_type": "stream",
     "text": [
      " A.  Pasal 28B UUD 1945\n",
      "\n",
      "\n",
      "Sources:\n",
      "Time:  86.96174359321594\n",
      "==============================================\n",
      "Nomor:  42\n",
      "Setiap orang yang memenuhi unsur sebagaimana dimaksud dalam Pasal 27 ayat (1), ayat (2), ayat (3), atau ayat (4) dipidana dengan pidana penjara paling lama…\\n A.  5 (lima) tahun\\n B.  6 (enam) tahun\\n C.  7 (tujuh) tahun\\n D.  8 (delapan) tahun\\n E.  9 (sembilan) tahun\n"
     ]
    },
    {
     "name": "stderr",
     "output_type": "stream",
     "text": [
      "/opt/conda/lib/python3.10/site-packages/langchain_core/_api/deprecation.py:189: LangChainDeprecationWarning: The function `__call__` was deprecated in LangChain 0.1.0 and will be removed in 0.2.0. Use invoke instead.\n",
      "  warn_deprecated(\n",
      "/opt/conda/lib/python3.10/site-packages/langchain_core/_api/deprecation.py:189: LangChainDeprecationWarning: The function `run` was deprecated in LangChain 0.1.0 and will be removed in 0.2.0. Use invoke instead.\n",
      "  warn_deprecated(\n",
      "/opt/conda/lib/python3.10/site-packages/langchain_core/_api/deprecation.py:189: LangChainDeprecationWarning: The function `__call__` was deprecated in LangChain 0.1.0 and will be removed in 0.2.0. Use invoke instead.\n",
      "  warn_deprecated(\n",
      "/opt/conda/lib/python3.10/site-packages/langchain_core/_api/deprecation.py:189: LangChainDeprecationWarning: The function `__call__` was deprecated in LangChain 0.1.0 and will be removed in 0.2.0. Use invoke instead.\n",
      "  warn_deprecated(\n"
     ]
    },
    {
     "name": "stdout",
     "output_type": "stream",
     "text": [
      " D. 8 TAHUN\n",
      "\n",
      "\n",
      "Sources:\n",
      "Time:  61.29560685157776\n",
      "==============================================\n",
      "Nomor:  43\n",
      "Setiap orang yang memenuhi unsur sebagaimana dimaksud dalam Pasal 27 ayat (1), ayat (2), ayat (3), atau ayat (4) dipidana dengan pidana penjara paling lama 6 (enam) tahun dan/atau denda paling banyak…\\n A.  Rp 2.000.000.000,00 (dua miliar rupiah)\\n B.  Rp 3.000.000.000,00 (tiga miliar rupiah)\\n C.  Rp 1.000.000.000,00 (satu miliar rupiah)\\n D.  Rp 4.000.000.000,00 (empat miliar rupiah)\\n E.  Rp 5.000.000.000,00 (lima miliar rupiah)\n"
     ]
    },
    {
     "name": "stderr",
     "output_type": "stream",
     "text": [
      "/opt/conda/lib/python3.10/site-packages/langchain_core/_api/deprecation.py:189: LangChainDeprecationWarning: The function `__call__` was deprecated in LangChain 0.1.0 and will be removed in 0.2.0. Use invoke instead.\n",
      "  warn_deprecated(\n",
      "/opt/conda/lib/python3.10/site-packages/langchain_core/_api/deprecation.py:189: LangChainDeprecationWarning: The function `run` was deprecated in LangChain 0.1.0 and will be removed in 0.2.0. Use invoke instead.\n",
      "  warn_deprecated(\n",
      "/opt/conda/lib/python3.10/site-packages/langchain_core/_api/deprecation.py:189: LangChainDeprecationWarning: The function `__call__` was deprecated in LangChain 0.1.0 and will be removed in 0.2.0. Use invoke instead.\n",
      "  warn_deprecated(\n",
      "/opt/conda/lib/python3.10/site-packages/langchain_core/_api/deprecation.py:189: LangChainDeprecationWarning: The function `__call__` was deprecated in LangChain 0.1.0 and will be removed in 0.2.0. Use invoke instead.\n",
      "  warn_deprecated(\n"
     ]
    },
    {
     "name": "stdout",
     "output_type": "stream",
     "text": [
      " D.  Rp 4.000.000.000,00 (empat miliar rupiah)\n",
      "\n",
      "\n",
      "Sources:\n",
      "Time:  105.9566261768341\n",
      "==============================================\n",
      "Nomor:  44\n",
      "Undang-Undang Nomor 32 Tahun 2004, sebagaimana tertakhir telah diubah dengan…\\n A.  Undang-Undang Nomor 11 Tahun 2008\\n B.  Undang-Undang Nomor 12 Tahun 2008\\n C.  Undang-Undang Nomor 13 Tahun 2008\\n D.  Undang-Undang Nomor 14 Tahun 2008\\n E.  Undang-Undang Nomor 15 Tahun 2008\n"
     ]
    },
    {
     "name": "stderr",
     "output_type": "stream",
     "text": [
      "/opt/conda/lib/python3.10/site-packages/langchain_core/_api/deprecation.py:189: LangChainDeprecationWarning: The function `__call__` was deprecated in LangChain 0.1.0 and will be removed in 0.2.0. Use invoke instead.\n",
      "  warn_deprecated(\n",
      "/opt/conda/lib/python3.10/site-packages/langchain_core/_api/deprecation.py:189: LangChainDeprecationWarning: The function `run` was deprecated in LangChain 0.1.0 and will be removed in 0.2.0. Use invoke instead.\n",
      "  warn_deprecated(\n",
      "/opt/conda/lib/python3.10/site-packages/langchain_core/_api/deprecation.py:189: LangChainDeprecationWarning: The function `__call__` was deprecated in LangChain 0.1.0 and will be removed in 0.2.0. Use invoke instead.\n",
      "  warn_deprecated(\n",
      "/opt/conda/lib/python3.10/site-packages/langchain_core/_api/deprecation.py:189: LangChainDeprecationWarning: The function `__call__` was deprecated in LangChain 0.1.0 and will be removed in 0.2.0. Use invoke instead.\n",
      "  warn_deprecated(\n"
     ]
    },
    {
     "name": "stdout",
     "output_type": "stream",
     "text": [
      " B.  Undang-Undang Nomor 12 Tahun 2008\n",
      "\n",
      "\n",
      "Sources:\n",
      "Time:  72.65984463691711\n",
      "==============================================\n",
      "Nomor:  45\n",
      "Undang-Undang Nomor 12 Tahun 2008 tentang Perubahan Kedua Atas Undang-Undang Nomor 32 Tahun 2004 tentang Pemerintahan Daerah, dalam Pasal  236C menetapkan...\\n A.  Penanganan sengketa hasil penghitungan suara pemilihan kepala daerah dan wakil kepala daerah oleh Mahkamah Agung dialihkan kepada Mahkamah Konstitusi paling lama 18 (delapan belas) bulan sejak Undang-Undang ini diundangkan\\n B.  Mahkamah Agung berwenang mengadili pada tingkat pertama dan terakhir yang putusannya bersifat final, antara lain, untuk memutus perselisihan tentang hasil pemilihan umum\\n C.  Mahkamah Konstitusi berwenang mengadili pada tingkat pertama dan terakhir yang putusannya bersifat final, antara lain, untuk memutus perselisihan tentang hasil pemilihan umum\\n D.  Kepolisian Negara Indonesia mengadili pada tingkat pertama dan terakhir yang putusannya bersifat final, antara lain, untuk memutus perselisihan tentang hasil pemilihan umum\\n E.  Presiden Republik Indonesia mengadili pada tingkat pertama dan terakhir yang putusannya bersifat final, antara lain, untuk memutus perselisihan tentang hasil pemilihan umum\n"
     ]
    },
    {
     "name": "stderr",
     "output_type": "stream",
     "text": [
      "/opt/conda/lib/python3.10/site-packages/langchain_core/_api/deprecation.py:189: LangChainDeprecationWarning: The function `__call__` was deprecated in LangChain 0.1.0 and will be removed in 0.2.0. Use invoke instead.\n",
      "  warn_deprecated(\n",
      "/opt/conda/lib/python3.10/site-packages/langchain_core/_api/deprecation.py:189: LangChainDeprecationWarning: The function `run` was deprecated in LangChain 0.1.0 and will be removed in 0.2.0. Use invoke instead.\n",
      "  warn_deprecated(\n",
      "/opt/conda/lib/python3.10/site-packages/langchain_core/_api/deprecation.py:189: LangChainDeprecationWarning: The function `__call__` was deprecated in LangChain 0.1.0 and will be removed in 0.2.0. Use invoke instead.\n",
      "  warn_deprecated(\n",
      "/opt/conda/lib/python3.10/site-packages/langchain_core/_api/deprecation.py:189: LangChainDeprecationWarning: The function `__call__` was deprecated in LangChain 0.1.0 and will be removed in 0.2.0. Use invoke instead.\n",
      "  warn_deprecated(\n"
     ]
    },
    {
     "name": "stdout",
     "output_type": "stream",
     "text": [
      " E. Presiden Republik Indonesia mengadili pada tingkat pertama dan terakhir yang putusannya bersifat final,\n",
      "antara lain, untuk memputus perselisihan tentang hasil pemilihan umum\n",
      "\n",
      "\n",
      "Sources:\n",
      "Time:  175.02115154266357\n",
      "==============================================\n",
      "Nomor:  46\n",
      "Gubernur, Bupati, dan walikota masing-masing sebagai kepala pemerintah daerah provinsi, kabupaten, dan kota dipilih secara demokratis, ada pada pasal…\\n A.  UU Dasar 1945 Pasal 18 ayat (4)\\n B.  UU Dasar 1945 Pasal 22E ayat (1)\\n C.  UU Dasar 1945 Pasal 27 ayat (1)\\n D.  UU Dasar 1945 Pasal 28C ayat (2)\\n E.  UU Dasar 1945 Pasal 28D ayat (1)\n"
     ]
    },
    {
     "name": "stderr",
     "output_type": "stream",
     "text": [
      "/opt/conda/lib/python3.10/site-packages/langchain_core/_api/deprecation.py:189: LangChainDeprecationWarning: The function `__call__` was deprecated in LangChain 0.1.0 and will be removed in 0.2.0. Use invoke instead.\n",
      "  warn_deprecated(\n",
      "/opt/conda/lib/python3.10/site-packages/langchain_core/_api/deprecation.py:189: LangChainDeprecationWarning: The function `run` was deprecated in LangChain 0.1.0 and will be removed in 0.2.0. Use invoke instead.\n",
      "  warn_deprecated(\n",
      "/opt/conda/lib/python3.10/site-packages/langchain_core/_api/deprecation.py:189: LangChainDeprecationWarning: The function `__call__` was deprecated in LangChain 0.1.0 and will be removed in 0.2.0. Use invoke instead.\n",
      "  warn_deprecated(\n",
      "/opt/conda/lib/python3.10/site-packages/langchain_core/_api/deprecation.py:189: LangChainDeprecationWarning: The function `__call__` was deprecated in LangChain 0.1.0 and will be removed in 0.2.0. Use invoke instead.\n",
      "  warn_deprecated(\n"
     ]
    },
    {
     "name": "stdout",
     "output_type": "stream",
     "text": [
      " A.  UU Dasar 1945 Pasal 18 ayat (4)\n",
      "\n",
      "\n",
      "Sources:\n",
      "Time:  80.19088649749756\n",
      "==============================================\n",
      "Nomor:  47\n",
      "Pemilihan umum dilaksanakan secara langsung, umum, bebas, rahasia, jujur, dan adil setiap lima tahun sekali, pada pasal…\\n A.  UU Dasar 1945 Pasal 18 ayat (4)\\n B.  UU Dasar 1945 Pasal 22E ayat (1)\\n C.  UU Dasar 1945 Pasal 27 ayat (1)\\n D.  UU Dasar 1945 Pasal 28C ayat (2)\\n E.  UU Dasar 1945 Pasal 28D ayat (1)\n"
     ]
    },
    {
     "name": "stderr",
     "output_type": "stream",
     "text": [
      "/opt/conda/lib/python3.10/site-packages/langchain_core/_api/deprecation.py:189: LangChainDeprecationWarning: The function `__call__` was deprecated in LangChain 0.1.0 and will be removed in 0.2.0. Use invoke instead.\n",
      "  warn_deprecated(\n",
      "/opt/conda/lib/python3.10/site-packages/langchain_core/_api/deprecation.py:189: LangChainDeprecationWarning: The function `run` was deprecated in LangChain 0.1.0 and will be removed in 0.2.0. Use invoke instead.\n",
      "  warn_deprecated(\n",
      "/opt/conda/lib/python3.10/site-packages/langchain_core/_api/deprecation.py:189: LangChainDeprecationWarning: The function `__call__` was deprecated in LangChain 0.1.0 and will be removed in 0.2.0. Use invoke instead.\n",
      "  warn_deprecated(\n",
      "/opt/conda/lib/python3.10/site-packages/langchain_core/_api/deprecation.py:189: LangChainDeprecationWarning: The function `__call__` was deprecated in LangChain 0.1.0 and will be removed in 0.2.0. Use invoke instead.\n",
      "  warn_deprecated(\n"
     ]
    },
    {
     "name": "stdout",
     "output_type": "stream",
     "text": [
      " C.  UU Dasar 1945 Pasal 27 ayat (1)\n",
      "\n",
      "\n",
      "Sources:\n",
      "Time:  79.20440220832825\n",
      "==============================================\n",
      "Nomor:  48\n",
      "Segala warga negara bersamaan kedudukannya didalam hukum dan pemerintahan dan wajib menjunjung hukum dan pemerintahan itu dengan tidak ada kecualinya, pada pasal…\\n A.  UU Dasar 1945 Pasal 18 ayat (4)\\n B.  UU Dasar 1945 Pasal 22E ayat (1)\\n C.  UU Dasar 1945 Pasal 27 ayat (1)\\n D.  UU Dasar 1945 Pasal 28C ayat (2)\\n E.  UU Dasar 1945 Pasal 28D ayat (1)\n"
     ]
    },
    {
     "name": "stderr",
     "output_type": "stream",
     "text": [
      "/opt/conda/lib/python3.10/site-packages/langchain_core/_api/deprecation.py:189: LangChainDeprecationWarning: The function `__call__` was deprecated in LangChain 0.1.0 and will be removed in 0.2.0. Use invoke instead.\n",
      "  warn_deprecated(\n",
      "/opt/conda/lib/python3.10/site-packages/langchain_core/_api/deprecation.py:189: LangChainDeprecationWarning: The function `run` was deprecated in LangChain 0.1.0 and will be removed in 0.2.0. Use invoke instead.\n",
      "  warn_deprecated(\n",
      "/opt/conda/lib/python3.10/site-packages/langchain_core/_api/deprecation.py:189: LangChainDeprecationWarning: The function `__call__` was deprecated in LangChain 0.1.0 and will be removed in 0.2.0. Use invoke instead.\n",
      "  warn_deprecated(\n",
      "/opt/conda/lib/python3.10/site-packages/langchain_core/_api/deprecation.py:189: LangChainDeprecationWarning: The function `__call__` was deprecated in LangChain 0.1.0 and will be removed in 0.2.0. Use invoke instead.\n",
      "  warn_deprecated(\n"
     ]
    },
    {
     "name": "stdout",
     "output_type": "stream",
     "text": [
      " A.  UU Dasar 1945 Pasal 18 ayat (4)\n",
      "\n",
      "\n",
      "Sources:\n",
      "Time:  83.60034775733948\n",
      "==============================================\n",
      "Nomor:  49\n",
      "Setiap orang berhak untuk memajukan dirinya dalam memperjuangkan haknya secara kolektif untuk membangun masyarakat, bangsa dan negaranya, ada pada pasal…\\n A.  UU Dasar 1945 Pasal 18 ayat (4)\\n B.  UU Dasar 1945 Pasal 22E ayat (1)\\n C.  UU Dasar 1945 Pasal 27 ayat (1)\\n D.  UU Dasar 1945 Pasal 28C ayat (2)\\n E.  UU Dasar 1945 Pasal 28D ayat (1)\n"
     ]
    },
    {
     "name": "stderr",
     "output_type": "stream",
     "text": [
      "/opt/conda/lib/python3.10/site-packages/langchain_core/_api/deprecation.py:189: LangChainDeprecationWarning: The function `__call__` was deprecated in LangChain 0.1.0 and will be removed in 0.2.0. Use invoke instead.\n",
      "  warn_deprecated(\n",
      "/opt/conda/lib/python3.10/site-packages/langchain_core/_api/deprecation.py:189: LangChainDeprecationWarning: The function `run` was deprecated in LangChain 0.1.0 and will be removed in 0.2.0. Use invoke instead.\n",
      "  warn_deprecated(\n",
      "/opt/conda/lib/python3.10/site-packages/langchain_core/_api/deprecation.py:189: LangChainDeprecationWarning: The function `__call__` was deprecated in LangChain 0.1.0 and will be removed in 0.2.0. Use invoke instead.\n",
      "  warn_deprecated(\n",
      "/opt/conda/lib/python3.10/site-packages/langchain_core/_api/deprecation.py:189: LangChainDeprecationWarning: The function `__call__` was deprecated in LangChain 0.1.0 and will be removed in 0.2.0. Use invoke instead.\n",
      "  warn_deprecated(\n"
     ]
    },
    {
     "name": "stdout",
     "output_type": "stream",
     "text": [
      " A.  UU Dasar 1945 Pasal 18 ayat (4)\n",
      "\n",
      "\n",
      "Sources:\n",
      "Time:  83.35847806930542\n",
      "==============================================\n",
      "Nomor:  50\n",
      "Setiap orang berhak atas pengakuan, jaminan, perlindungan, dan kepastian hukum yan adil serta perlakuan yang sama dihadapan hukum, ada pada pasal…\\n A.  UU Dasar 1945 Pasal 18 ayat (4)\\n B.  UU Dasar 1945 Pasal 22E ayat (1)\\n C.  UU Dasar 1945 Pasal 27 ayat (1)\\n D.  UU Dasar 1945 Pasal 28C ayat (2)\\n E.  UU Dasar 1945 Pasal 28D ayat (1)\n"
     ]
    },
    {
     "name": "stderr",
     "output_type": "stream",
     "text": [
      "/opt/conda/lib/python3.10/site-packages/langchain_core/_api/deprecation.py:189: LangChainDeprecationWarning: The function `__call__` was deprecated in LangChain 0.1.0 and will be removed in 0.2.0. Use invoke instead.\n",
      "  warn_deprecated(\n",
      "/opt/conda/lib/python3.10/site-packages/langchain_core/_api/deprecation.py:189: LangChainDeprecationWarning: The function `run` was deprecated in LangChain 0.1.0 and will be removed in 0.2.0. Use invoke instead.\n",
      "  warn_deprecated(\n",
      "/opt/conda/lib/python3.10/site-packages/langchain_core/_api/deprecation.py:189: LangChainDeprecationWarning: The function `__call__` was deprecated in LangChain 0.1.0 and will be removed in 0.2.0. Use invoke instead.\n",
      "  warn_deprecated(\n",
      "/opt/conda/lib/python3.10/site-packages/langchain_core/_api/deprecation.py:189: LangChainDeprecationWarning: The function `__call__` was deprecated in LangChain 0.1.0 and will be removed in 0.2.0. Use invoke instead.\n",
      "  warn_deprecated(\n"
     ]
    },
    {
     "name": "stdout",
     "output_type": "stream",
     "text": [
      " A.  UU Dasar 1945 Pasal 18 ayat (4)\n",
      "\n",
      "\n",
      "Sources:\n",
      "Time:  81.73833012580872\n",
      "==============================================\n",
      "Nomor:  51\n",
      "Based on Article 24C paragraph (1) of the 1945 Constitution of the Republic of Indonesia (hereinafter referred to as the 1945 Constitution) states that…\\n A.  The Supreme Court has the authority to adjudicate at the first and final level whose decisions are final, among other things, to decide disputes regarding the results of general elections \\n B.  The Constitutional Court has the authority to adjudicate at the first and final level whose decisions are final, among other things, to decide disputes regarding the results of general elections \\n C.  The Indonesian National Police adjudicates at the first and final level whose decision is final, among other things, to decide disputes regarding the results of the general election\\n D.  Presiden Republik Indonesia mengadili pada tingkat pertama dan terakhir yang putusannya bersifat final, antara lain, untuk memutus perselisihan tentang hasil pemilihan umum\\n E.  The President of the Republic of Indonesia adjudicates at the first and final level whose decision is final, among other things, to decide disputes regarding the results of the general election \n"
     ]
    },
    {
     "name": "stderr",
     "output_type": "stream",
     "text": [
      "/opt/conda/lib/python3.10/site-packages/langchain_core/_api/deprecation.py:189: LangChainDeprecationWarning: The function `__call__` was deprecated in LangChain 0.1.0 and will be removed in 0.2.0. Use invoke instead.\n",
      "  warn_deprecated(\n",
      "/opt/conda/lib/python3.10/site-packages/langchain_core/_api/deprecation.py:189: LangChainDeprecationWarning: The function `run` was deprecated in LangChain 0.1.0 and will be removed in 0.2.0. Use invoke instead.\n",
      "  warn_deprecated(\n",
      "/opt/conda/lib/python3.10/site-packages/langchain_core/_api/deprecation.py:189: LangChainDeprecationWarning: The function `__call__` was deprecated in LangChain 0.1.0 and will be removed in 0.2.0. Use invoke instead.\n",
      "  warn_deprecated(\n",
      "/opt/conda/lib/python3.10/site-packages/langchain_core/_api/deprecation.py:189: LangChainDeprecationWarning: The function `__call__` was deprecated in LangChain 0.1.0 and will be removed in 0.2.0. Use invoke instead.\n",
      "  warn_deprecated(\n"
     ]
    },
    {
     "name": "stdout",
     "output_type": "stream",
     "text": [
      " B. The Constitutional Court has the authority to adjudicate at the first and final level whose decisions are\n",
      "final, among other things, to decide disputes regarding the results of general elections\n",
      "\n",
      "\n",
      "Sources:\n",
      "Time:  110.25400876998901\n",
      "==============================================\n",
      "Nomor:  52\n",
      "Applications are submitted within a maximum period of 3 x 24 (three times twenty four) hours from the announcement of the determination of the vote results for the National DPR and DPRD Member Elections by the KPU. The contents of this statement are in article...\\n A.  Article 70 paragraph (3) of the Constitutional Court Law, Article 111 paragraph (2) of the Election Law, and Article 6 paragraph (1) of PMK Number 2 of 2018\\n B.  Article 74 paragraph (3) of the Constitutional Court Law, Article 474 paragraph (2) of the Election Law, and Article 2 paragraph (1) of PMK Number 2 of 2011\\n C.  Article 74 paragraph (3) of the Constitutional Court Law, Article 474 paragraph (2) of the Election Law, and Article 1 paragraph (1) of PMK Number 2 of 2018\\n D.  Pasal 74 ayat (3) UU MK, Pasal 474 ayat (2) UU Pemilu, dan Pasal 6 ayat (1) PMK Nomor 2 Tahun 2018\\n E.  Article 74 paragraph (3) of the Constitutional Court Law, Article 474 paragraph (2) of the Election Law, and Article 6 paragraph (1) of PMK Number 2 of 2018\n"
     ]
    },
    {
     "name": "stderr",
     "output_type": "stream",
     "text": [
      "/opt/conda/lib/python3.10/site-packages/langchain_core/_api/deprecation.py:189: LangChainDeprecationWarning: The function `__call__` was deprecated in LangChain 0.1.0 and will be removed in 0.2.0. Use invoke instead.\n",
      "  warn_deprecated(\n",
      "/opt/conda/lib/python3.10/site-packages/langchain_core/_api/deprecation.py:189: LangChainDeprecationWarning: The function `run` was deprecated in LangChain 0.1.0 and will be removed in 0.2.0. Use invoke instead.\n",
      "  warn_deprecated(\n",
      "/opt/conda/lib/python3.10/site-packages/langchain_core/_api/deprecation.py:189: LangChainDeprecationWarning: The function `__call__` was deprecated in LangChain 0.1.0 and will be removed in 0.2.0. Use invoke instead.\n",
      "  warn_deprecated(\n",
      "/opt/conda/lib/python3.10/site-packages/langchain_core/_api/deprecation.py:189: LangChainDeprecationWarning: The function `__call__` was deprecated in LangChain 0.1.0 and will be removed in 0.2.0. Use invoke instead.\n",
      "  warn_deprecated(\n"
     ]
    },
    {
     "name": "stdout",
     "output_type": "stream",
     "text": [
      " D\n",
      "\n",
      "\n",
      "Sources:\n",
      "Time:  123.37673306465149\n",
      "==============================================\n",
      "Nomor:  53\n",
      "Article 1 paragraph (3) of the 1945 Constitution which reads…\\n A.  Indonesia is a country of law\\n B.  Indonesia is an Islamic country\\n C.  Indonesia is a liberal country\\n D.  Negara Indonesia adalah negara kepulauan\\n E.  Indonesia is an archipelagic country\n"
     ]
    },
    {
     "name": "stderr",
     "output_type": "stream",
     "text": [
      "/opt/conda/lib/python3.10/site-packages/langchain_core/_api/deprecation.py:189: LangChainDeprecationWarning: The function `__call__` was deprecated in LangChain 0.1.0 and will be removed in 0.2.0. Use invoke instead.\n",
      "  warn_deprecated(\n",
      "/opt/conda/lib/python3.10/site-packages/langchain_core/_api/deprecation.py:189: LangChainDeprecationWarning: The function `run` was deprecated in LangChain 0.1.0 and will be removed in 0.2.0. Use invoke instead.\n",
      "  warn_deprecated(\n",
      "/opt/conda/lib/python3.10/site-packages/langchain_core/_api/deprecation.py:189: LangChainDeprecationWarning: The function `__call__` was deprecated in LangChain 0.1.0 and will be removed in 0.2.0. Use invoke instead.\n",
      "  warn_deprecated(\n",
      "/opt/conda/lib/python3.10/site-packages/langchain_core/_api/deprecation.py:189: LangChainDeprecationWarning: The function `__call__` was deprecated in LangChain 0.1.0 and will be removed in 0.2.0. Use invoke instead.\n",
      "  warn_deprecated(\n"
     ]
    },
    {
     "name": "stdout",
     "output_type": "stream",
     "text": [
      " D. Negara Indonesia adalah negara kepulauan\n",
      "\n",
      "\n",
      "Sources:\n",
      "Time:  45.929194688797\n",
      "==============================================\n",
      "Nomor:  54\n",
      "Whereas the norm of Article 244 of the KUHP has created uncertainty for the Petitioner and that this uncertainty has harmed his Constitutional Rights as stipulated in…\\n A.  Article 21D paragraph (1) of the 1945 Constitution\\n B.  Article 22D paragraph (1) of the 1945 Constitution\\n C.  Article 23D paragraph (1) of the 1945 Constitution\\n D.  Pasal 24D ayat (1) UUD 1945\\n E.  Article 24D paragraph (1) of the 1945 Constitution\n"
     ]
    },
    {
     "name": "stderr",
     "output_type": "stream",
     "text": [
      "/opt/conda/lib/python3.10/site-packages/langchain_core/_api/deprecation.py:189: LangChainDeprecationWarning: The function `__call__` was deprecated in LangChain 0.1.0 and will be removed in 0.2.0. Use invoke instead.\n",
      "  warn_deprecated(\n",
      "/opt/conda/lib/python3.10/site-packages/langchain_core/_api/deprecation.py:189: LangChainDeprecationWarning: The function `run` was deprecated in LangChain 0.1.0 and will be removed in 0.2.0. Use invoke instead.\n",
      "  warn_deprecated(\n",
      "/opt/conda/lib/python3.10/site-packages/langchain_core/_api/deprecation.py:189: LangChainDeprecationWarning: The function `__call__` was deprecated in LangChain 0.1.0 and will be removed in 0.2.0. Use invoke instead.\n",
      "  warn_deprecated(\n",
      "/opt/conda/lib/python3.10/site-packages/langchain_core/_api/deprecation.py:189: LangChainDeprecationWarning: The function `__call__` was deprecated in LangChain 0.1.0 and will be removed in 0.2.0. Use invoke instead.\n",
      "  warn_deprecated(\n"
     ]
    },
    {
     "name": "stdout",
     "output_type": "stream",
     "text": [
      " E. Article 24D paragraph (1) of the 1945 Constitution\n",
      "\n",
      "\n",
      "Sources:\n",
      "Time:  70.96532845497131\n",
      "==============================================\n",
      "Nomor:  55\n",
      "The formulation of Article 244 of the KUHP reads...\\n A.  Decisions in criminal cases cannot be given by the Supreme Court, they can only be given by the Constitutional Court.\\n B.  Regarding a criminal case decision given at the final level by a court other than the Supreme Court, the defendant or Public Prosecutor may submit a request for a cassation hearing to the Supreme Court against the acquittal decision.\\n C.  Regarding criminal case decisions rendered at the final level by courts other than the Supreme Court, the defendant or Public Prosecutor may submit a request for a cassation hearing to the Supreme Court except for acquittal decisions.\\n D.  Mengenai kedudukan hukum para Pemohon Pemerintah menyerahkansepenuhnya kepada Majelis Hakim untuk menilai dan memutusnya.\\n E.  Regarding the legal status of the Petitioners, the Government has left it entirely up to the Panel of Judges to assess and decide.\n"
     ]
    },
    {
     "name": "stderr",
     "output_type": "stream",
     "text": [
      "/opt/conda/lib/python3.10/site-packages/langchain_core/_api/deprecation.py:189: LangChainDeprecationWarning: The function `__call__` was deprecated in LangChain 0.1.0 and will be removed in 0.2.0. Use invoke instead.\n",
      "  warn_deprecated(\n",
      "/opt/conda/lib/python3.10/site-packages/langchain_core/_api/deprecation.py:189: LangChainDeprecationWarning: The function `run` was deprecated in LangChain 0.1.0 and will be removed in 0.2.0. Use invoke instead.\n",
      "  warn_deprecated(\n",
      "/opt/conda/lib/python3.10/site-packages/langchain_core/_api/deprecation.py:189: LangChainDeprecationWarning: The function `__call__` was deprecated in LangChain 0.1.0 and will be removed in 0.2.0. Use invoke instead.\n",
      "  warn_deprecated(\n",
      "/opt/conda/lib/python3.10/site-packages/langchain_core/_api/deprecation.py:189: LangChainDeprecationWarning: The function `__call__` was deprecated in LangChain 0.1.0 and will be removed in 0.2.0. Use invoke instead.\n",
      "  warn_deprecated(\n"
     ]
    },
    {
     "name": "stdout",
     "output_type": "stream",
     "text": [
      " D\n",
      "\n",
      "\n",
      "Sources:\n",
      "Time:  89.54915952682495\n",
      "==============================================\n",
      "Nomor:  56\n",
      "All citizens are equal under the law and government and are obliged to uphold the law and government without exception, as stated in Article…\\n A.  Article 27 paragraph (1)\\n B.  Article 28C paragraph (2)\\n C.  Article 28D paragraph (1)\\n D.  Article 28E paragraph (3)\\n E.  Article 28I paragraph (2)\n"
     ]
    },
    {
     "name": "stderr",
     "output_type": "stream",
     "text": [
      "/opt/conda/lib/python3.10/site-packages/langchain_core/_api/deprecation.py:189: LangChainDeprecationWarning: The function `__call__` was deprecated in LangChain 0.1.0 and will be removed in 0.2.0. Use invoke instead.\n",
      "  warn_deprecated(\n",
      "/opt/conda/lib/python3.10/site-packages/langchain_core/_api/deprecation.py:189: LangChainDeprecationWarning: The function `run` was deprecated in LangChain 0.1.0 and will be removed in 0.2.0. Use invoke instead.\n",
      "  warn_deprecated(\n",
      "/opt/conda/lib/python3.10/site-packages/langchain_core/_api/deprecation.py:189: LangChainDeprecationWarning: The function `__call__` was deprecated in LangChain 0.1.0 and will be removed in 0.2.0. Use invoke instead.\n",
      "  warn_deprecated(\n",
      "/opt/conda/lib/python3.10/site-packages/langchain_core/_api/deprecation.py:189: LangChainDeprecationWarning: The function `__call__` was deprecated in LangChain 0.1.0 and will be removed in 0.2.0. Use invoke instead.\n",
      "  warn_deprecated(\n"
     ]
    },
    {
     "name": "stdout",
     "output_type": "stream",
     "text": [
      " All citizens are equal under the law and government and are obliged to uphold the law and government without\n",
      "exception, as stated in Article 27 paragraph (1).\n",
      "\n",
      "\n",
      "Sources:\n",
      "Time:  57.259910583496094\n",
      "==============================================\n",
      "Nomor:  57\n",
      "Everyone has the right to advance themselves in fighting for their rights collectively to develop their society, nation and state, as stated in Article…\\n A.  Article 27 paragraph (1)\\n B.  Article 28C paragraph (2)\\n C.  Article 28D paragraph (1)\\n D.  Article 28E paragraph (3)\\n E.  Article 28I paragraph (2)\n"
     ]
    },
    {
     "name": "stderr",
     "output_type": "stream",
     "text": [
      "/opt/conda/lib/python3.10/site-packages/langchain_core/_api/deprecation.py:189: LangChainDeprecationWarning: The function `__call__` was deprecated in LangChain 0.1.0 and will be removed in 0.2.0. Use invoke instead.\n",
      "  warn_deprecated(\n",
      "/opt/conda/lib/python3.10/site-packages/langchain_core/_api/deprecation.py:189: LangChainDeprecationWarning: The function `run` was deprecated in LangChain 0.1.0 and will be removed in 0.2.0. Use invoke instead.\n",
      "  warn_deprecated(\n",
      "/opt/conda/lib/python3.10/site-packages/langchain_core/_api/deprecation.py:189: LangChainDeprecationWarning: The function `__call__` was deprecated in LangChain 0.1.0 and will be removed in 0.2.0. Use invoke instead.\n",
      "  warn_deprecated(\n",
      "/opt/conda/lib/python3.10/site-packages/langchain_core/_api/deprecation.py:189: LangChainDeprecationWarning: The function `__call__` was deprecated in LangChain 0.1.0 and will be removed in 0.2.0. Use invoke instead.\n",
      "  warn_deprecated(\n"
     ]
    },
    {
     "name": "stdout",
     "output_type": "stream",
     "text": [
      " Everyone has the right to advance themselves in fighting for their rights collectively to develop their\n",
      "society, nation and state, as stated in Article 27 paragraph (1).\n",
      "\n",
      "\n",
      "Sources:\n",
      "Time:  57.401394844055176\n",
      "==============================================\n",
      "Nomor:  58\n",
      "Everyone has the right to recognition, guarantees, protection and fair legal certainty as well as equal treatment before the law, as stated in Article…\\n A.  Article 27 paragraph (1)\\n B.  Article 28C paragraph (2)\\n C.  Article 28D paragraph (1)\\n D.  Article 28E paragraph (3)\\n E.  Article 28I paragraph (2)\n"
     ]
    },
    {
     "name": "stderr",
     "output_type": "stream",
     "text": [
      "/opt/conda/lib/python3.10/site-packages/langchain_core/_api/deprecation.py:189: LangChainDeprecationWarning: The function `__call__` was deprecated in LangChain 0.1.0 and will be removed in 0.2.0. Use invoke instead.\n",
      "  warn_deprecated(\n",
      "/opt/conda/lib/python3.10/site-packages/langchain_core/_api/deprecation.py:189: LangChainDeprecationWarning: The function `run` was deprecated in LangChain 0.1.0 and will be removed in 0.2.0. Use invoke instead.\n",
      "  warn_deprecated(\n",
      "/opt/conda/lib/python3.10/site-packages/langchain_core/_api/deprecation.py:189: LangChainDeprecationWarning: The function `__call__` was deprecated in LangChain 0.1.0 and will be removed in 0.2.0. Use invoke instead.\n",
      "  warn_deprecated(\n",
      "/opt/conda/lib/python3.10/site-packages/langchain_core/_api/deprecation.py:189: LangChainDeprecationWarning: The function `__call__` was deprecated in LangChain 0.1.0 and will be removed in 0.2.0. Use invoke instead.\n",
      "  warn_deprecated(\n"
     ]
    },
    {
     "name": "stdout",
     "output_type": "stream",
     "text": [
      " Everyone has the right to recognition, guarantees, protection and fair legal certainty as well as equal\n",
      "treatment before the law, as stated in Article 28C paragraph (2).\n",
      "\n",
      "\n",
      "Sources:\n",
      "Time:  59.39592623710632\n",
      "==============================================\n",
      "Nomor:  59\n",
      "Everyone has the right to freedom of association, assembly and expression of opinion, as stated in Article…\\n A.  Article 27 paragraph (1)\\n B.  Article 28C paragraph (2)\\n C.  Article 28D paragraph (1)\\n D.  Article 28E paragraph (3)\\n E.  Article 28I paragraph (2)\n"
     ]
    },
    {
     "name": "stderr",
     "output_type": "stream",
     "text": [
      "/opt/conda/lib/python3.10/site-packages/langchain_core/_api/deprecation.py:189: LangChainDeprecationWarning: The function `__call__` was deprecated in LangChain 0.1.0 and will be removed in 0.2.0. Use invoke instead.\n",
      "  warn_deprecated(\n",
      "/opt/conda/lib/python3.10/site-packages/langchain_core/_api/deprecation.py:189: LangChainDeprecationWarning: The function `run` was deprecated in LangChain 0.1.0 and will be removed in 0.2.0. Use invoke instead.\n",
      "  warn_deprecated(\n",
      "/opt/conda/lib/python3.10/site-packages/langchain_core/_api/deprecation.py:189: LangChainDeprecationWarning: The function `__call__` was deprecated in LangChain 0.1.0 and will be removed in 0.2.0. Use invoke instead.\n",
      "  warn_deprecated(\n",
      "/opt/conda/lib/python3.10/site-packages/langchain_core/_api/deprecation.py:189: LangChainDeprecationWarning: The function `__call__` was deprecated in LangChain 0.1.0 and will be removed in 0.2.0. Use invoke instead.\n",
      "  warn_deprecated(\n"
     ]
    },
    {
     "name": "stdout",
     "output_type": "stream",
     "text": [
      " Everyone has the right to freedom of association, assembly and expression of opinion, as stated in Article 27\n",
      "paragraph (1).\n",
      "\n",
      "\n",
      "Sources:\n",
      "Time:  51.25429892539978\n",
      "==============================================\n",
      "Nomor:  60\n",
      "Every person has the right to be free from discriminatory treatment on any basis and has the right to receive protection against such discriminatory treatment, as stated in Article…\\n A.  Article 27 paragraph (1)\\n B.  Article 28C paragraph (2)\\n C.  Article 28D paragraph (1)\\n D.  Article 28E paragraph (3)\\n E.  Article 28I paragraph (2)\n"
     ]
    },
    {
     "name": "stderr",
     "output_type": "stream",
     "text": [
      "/opt/conda/lib/python3.10/site-packages/langchain_core/_api/deprecation.py:189: LangChainDeprecationWarning: The function `__call__` was deprecated in LangChain 0.1.0 and will be removed in 0.2.0. Use invoke instead.\n",
      "  warn_deprecated(\n",
      "/opt/conda/lib/python3.10/site-packages/langchain_core/_api/deprecation.py:189: LangChainDeprecationWarning: The function `run` was deprecated in LangChain 0.1.0 and will be removed in 0.2.0. Use invoke instead.\n",
      "  warn_deprecated(\n",
      "/opt/conda/lib/python3.10/site-packages/langchain_core/_api/deprecation.py:189: LangChainDeprecationWarning: The function `__call__` was deprecated in LangChain 0.1.0 and will be removed in 0.2.0. Use invoke instead.\n",
      "  warn_deprecated(\n",
      "/opt/conda/lib/python3.10/site-packages/langchain_core/_api/deprecation.py:189: LangChainDeprecationWarning: The function `__call__` was deprecated in LangChain 0.1.0 and will be removed in 0.2.0. Use invoke instead.\n",
      "  warn_deprecated(\n"
     ]
    },
    {
     "name": "stdout",
     "output_type": "stream",
     "text": [
      " A.  Article 27 paragraph (1)\n",
      "\n",
      "\n",
      "Sources:\n",
      "Time:  51.70811438560486\n",
      "==============================================\n",
      "Nomor:  61\n",
      "The applicant can withdraw his application before or during the Constitutional Court examination, and such withdrawal means that the application cannot be resubmitted, in article…\\n A.  Article 31 of Law Number 24 of 2003 concerning the Constitutional Court\\n B.  Article 32 of Law Number 24 of 2003 concerning the Constitutional Court\\n C.  Article 35 of Law Number 23 of 2003 concerning the Constitutional Court\\n D.  Article 35 of Law Number 24 of 2003 concerning the Constitutional Court\\n E.  Article 35 of Law Number 25 of 2003 concerning the Constitutional Court\n"
     ]
    },
    {
     "name": "stderr",
     "output_type": "stream",
     "text": [
      "/opt/conda/lib/python3.10/site-packages/langchain_core/_api/deprecation.py:189: LangChainDeprecationWarning: The function `__call__` was deprecated in LangChain 0.1.0 and will be removed in 0.2.0. Use invoke instead.\n",
      "  warn_deprecated(\n",
      "/opt/conda/lib/python3.10/site-packages/langchain_core/_api/deprecation.py:189: LangChainDeprecationWarning: The function `run` was deprecated in LangChain 0.1.0 and will be removed in 0.2.0. Use invoke instead.\n",
      "  warn_deprecated(\n",
      "/opt/conda/lib/python3.10/site-packages/langchain_core/_api/deprecation.py:189: LangChainDeprecationWarning: The function `__call__` was deprecated in LangChain 0.1.0 and will be removed in 0.2.0. Use invoke instead.\n",
      "  warn_deprecated(\n",
      "/opt/conda/lib/python3.10/site-packages/langchain_core/_api/deprecation.py:189: LangChainDeprecationWarning: The function `__call__` was deprecated in LangChain 0.1.0 and will be removed in 0.2.0. Use invoke instead.\n",
      "  warn_deprecated(\n"
     ]
    },
    {
     "name": "stdout",
     "output_type": "stream",
     "text": [
      " The applicant can withdraw his application before or during the Constitutional Court examination, and such\n",
      "withdrawal means that the application cannot be resubmitted, in article A.\n",
      "\n",
      "\n",
      "Sources:\n",
      "Time:  78.91567587852478\n",
      "==============================================\n",
      "Nomor:  62\n",
      "Regarding the General Election, Members of the DPR, DPD, and DPRD stated that election participants and members of the public, through witnesses who were present, could submit objections to the course and results of the vote count at the TPS, PPS, PPK, City/Regency KPUD, Provincial KPU, and Central KPU. If it turns out that there are things that are not in accordance with statutory regulations, it is on...\\n A.  Article 96 paragraph (8), Article 95 paragraph (3), Article 98 paragraph (3), Article 99 paragraph (5), Article 100 paragraph (5), and Article 101 paragraph (6)\\n B.  Article 96 paragraph (8), Article 95 paragraph (1), Article 98 paragraph (3), Article 99 paragraph (5), Article 100 paragraph (5), and Article 101 paragraph (6)\\n C.  Article 96 paragraph (8), Article 96 paragraph (3), Article 98 paragraph (3), Article 99 paragraph (5), Article 100 paragraph (5), and Article 101 paragraph (6)\\n D.  Article 96 paragraph (8), Article 97 paragraph (9), Article 98 paragraph (3), Article 99 paragraph (5), Article 100 paragraph (5), and Article 101 paragraph (6)\\n E.  Article 96 paragraph (8), Article 97 paragraph (3), Article 98 paragraph (3), Article 99 paragraph (5), Article 100 paragraph (5), and Article 101 paragraph (6)\n"
     ]
    },
    {
     "name": "stderr",
     "output_type": "stream",
     "text": [
      "/opt/conda/lib/python3.10/site-packages/langchain_core/_api/deprecation.py:189: LangChainDeprecationWarning: The function `__call__` was deprecated in LangChain 0.1.0 and will be removed in 0.2.0. Use invoke instead.\n",
      "  warn_deprecated(\n",
      "/opt/conda/lib/python3.10/site-packages/langchain_core/_api/deprecation.py:189: LangChainDeprecationWarning: The function `run` was deprecated in LangChain 0.1.0 and will be removed in 0.2.0. Use invoke instead.\n",
      "  warn_deprecated(\n",
      "/opt/conda/lib/python3.10/site-packages/langchain_core/_api/deprecation.py:189: LangChainDeprecationWarning: The function `__call__` was deprecated in LangChain 0.1.0 and will be removed in 0.2.0. Use invoke instead.\n",
      "  warn_deprecated(\n",
      "/opt/conda/lib/python3.10/site-packages/langchain_core/_api/deprecation.py:189: LangChainDeprecationWarning: The function `__call__` was deprecated in LangChain 0.1.0 and will be removed in 0.2.0. Use invoke instead.\n",
      "  warn_deprecated(\n"
     ]
    },
    {
     "name": "stdout",
     "output_type": "stream",
     "text": [
      " D. Article 96 paragraph (8), Article 97 paragraph (9), Article 98 paragraph (3), Article 99 paragraph (5),\n",
      "Article 100 paragraph (5), and Article 101 paragraph (6)\n",
      "\n",
      "\n",
      "Sources:\n",
      "Time:  150.65174794197083\n",
      "==============================================\n",
      "Nomor:  63\n",
      "In essence, it states that applications can only be made regarding the determination of the results of the General Election conducted nationally by the General Election Commission which influences the election of DPD member candidates, the determination of the presidential and vice presidential candidate pairs and the acquisition of political party seats, on...\\n A.  Whereas article 74 paragraph (2) of Law number 24 of 2003 concerning the Constitutional Court, Law number 12 of 2003 concerning General Election of Members of the DPR, DPD, DPRD\\n B.  Whereas article 73 paragraph (2) of Law number 24 of 2003 concerning the Constitutional Court, Law number 12 of 2003 concerning General Election of Members of the DPR, DPD, DPRD\\n C.  Whereas article 72 paragraph (2) of Law number 24 of 2003 concerning the Constitutional Court, Law number 12 of 2003 concerning General Election of Members of the DPR, DPD, DPRD\\n D.  Whereas article 71 paragraph (2) of Law number 24 of 2003 concerning the Constitutional Court, Law number 12 of 2003 concerning General Election of Members of the DPR, DPD, DPRD\\n E.  Whereas article 70 paragraph (2) of Law number 24 of 2003 concerning the Constitutional Court, Law number 12 of 2003 concerning General Election of Members of the DPR, DPD, DPRD\n"
     ]
    },
    {
     "name": "stderr",
     "output_type": "stream",
     "text": [
      "/opt/conda/lib/python3.10/site-packages/langchain_core/_api/deprecation.py:189: LangChainDeprecationWarning: The function `__call__` was deprecated in LangChain 0.1.0 and will be removed in 0.2.0. Use invoke instead.\n",
      "  warn_deprecated(\n",
      "/opt/conda/lib/python3.10/site-packages/langchain_core/_api/deprecation.py:189: LangChainDeprecationWarning: The function `run` was deprecated in LangChain 0.1.0 and will be removed in 0.2.0. Use invoke instead.\n",
      "  warn_deprecated(\n",
      "/opt/conda/lib/python3.10/site-packages/langchain_core/_api/deprecation.py:189: LangChainDeprecationWarning: The function `__call__` was deprecated in LangChain 0.1.0 and will be removed in 0.2.0. Use invoke instead.\n",
      "  warn_deprecated(\n",
      "/opt/conda/lib/python3.10/site-packages/langchain_core/_api/deprecation.py:189: LangChainDeprecationWarning: The function `__call__` was deprecated in LangChain 0.1.0 and will be removed in 0.2.0. Use invoke instead.\n",
      "  warn_deprecated(\n"
     ]
    },
    {
     "name": "stdout",
     "output_type": "stream",
     "text": [
      " B\n",
      "\n",
      "\n",
      "Sources:\n",
      "Time:  131.07440066337585\n",
      "==============================================\n",
      "Nomor:  64\n",
      "That if the applicant's application is accepted, quod non, article 96 paragraph (8), article 97 paragraph (3), article 98 paragraph (3), article 99 paragraph (5), article 100 paragraph (5) and article 101 paragraph (6) UU no. 12 of 2003 concerning the General Election of Members of the DPR, DPD, DPRD, reads...\\n A.  Mentioning that election participants and members of the public who take part in general elections must be Indonesian citizens is legally wrong\\n B.  Mentions that election participants and members of the public, through witnesses who are present, can submit objections to the process and results of vote counting at TPS, PPS, PPK, City/Regency KPUD, Provincial KPUD and Central KPU if it turns out that there are things that are not in accordance with statutory regulations.\\n C.  Mentioned that the vote counting was carried out by the surrounding RT/RW to make it better\\n D.  Mention that TPU provider participants must have witnesses from each party who submits their candidate\\n E.  Mentions that participants must comply with the rules\n"
     ]
    },
    {
     "name": "stderr",
     "output_type": "stream",
     "text": [
      "/opt/conda/lib/python3.10/site-packages/langchain_core/_api/deprecation.py:189: LangChainDeprecationWarning: The function `__call__` was deprecated in LangChain 0.1.0 and will be removed in 0.2.0. Use invoke instead.\n",
      "  warn_deprecated(\n",
      "/opt/conda/lib/python3.10/site-packages/langchain_core/_api/deprecation.py:189: LangChainDeprecationWarning: The function `run` was deprecated in LangChain 0.1.0 and will be removed in 0.2.0. Use invoke instead.\n",
      "  warn_deprecated(\n",
      "/opt/conda/lib/python3.10/site-packages/langchain_core/_api/deprecation.py:189: LangChainDeprecationWarning: The function `__call__` was deprecated in LangChain 0.1.0 and will be removed in 0.2.0. Use invoke instead.\n",
      "  warn_deprecated(\n",
      "/opt/conda/lib/python3.10/site-packages/langchain_core/_api/deprecation.py:189: LangChainDeprecationWarning: The function `__call__` was deprecated in LangChain 0.1.0 and will be removed in 0.2.0. Use invoke instead.\n",
      "  warn_deprecated(\n"
     ]
    },
    {
     "name": "stdout",
     "output_type": "stream",
     "text": [
      " B\n",
      "\n",
      "\n",
      "Sources:\n",
      "Time:  109.70165801048279\n",
      "==============================================\n",
      "Nomor:  65\n",
      "Citizens who have the right to vote, election observers and/or election participants can report election violations at any stage of election implementation to the Election Supervisor (Panwaslu), located at…\\n A.  Article 121 paragraph (1) and paragraph (2) of Law no. 12 of 2003\\n B.  Article 122 paragraph (1) and paragraph (2) of Law no. 12 of 2003\\n C.  Article 127 paragraph (1) and paragraph (2) of Law no. 12 of 2003\\n D.  Article 126 paragraph (1) and paragraph (2) of Law no. 12 of 2003\\n E.  Article 125 paragraph (1) and paragraph (2) of Law no. 12 of 2003\n"
     ]
    },
    {
     "name": "stderr",
     "output_type": "stream",
     "text": [
      "/opt/conda/lib/python3.10/site-packages/langchain_core/_api/deprecation.py:189: LangChainDeprecationWarning: The function `__call__` was deprecated in LangChain 0.1.0 and will be removed in 0.2.0. Use invoke instead.\n",
      "  warn_deprecated(\n",
      "/opt/conda/lib/python3.10/site-packages/langchain_core/_api/deprecation.py:189: LangChainDeprecationWarning: The function `run` was deprecated in LangChain 0.1.0 and will be removed in 0.2.0. Use invoke instead.\n",
      "  warn_deprecated(\n",
      "/opt/conda/lib/python3.10/site-packages/langchain_core/_api/deprecation.py:189: LangChainDeprecationWarning: The function `__call__` was deprecated in LangChain 0.1.0 and will be removed in 0.2.0. Use invoke instead.\n",
      "  warn_deprecated(\n",
      "/opt/conda/lib/python3.10/site-packages/langchain_core/_api/deprecation.py:189: LangChainDeprecationWarning: The function `__call__` was deprecated in LangChain 0.1.0 and will be removed in 0.2.0. Use invoke instead.\n",
      "  warn_deprecated(\n"
     ]
    },
    {
     "name": "stdout",
     "output_type": "stream",
     "text": [
      " D. Article 126 paragraph (1) and paragraph (2) of Law no. 12 of 2003\n",
      "\n",
      "\n",
      "Sources:\n",
      "Time:  96.88390183448792\n",
      "==============================================\n",
      "Nomor:  66\n",
      "Reports that are disputed in nature and do not contain criminal elements are resolved by the Election Supervisor and those that contain criminal elements are forwarded to investigators and those that are administrative in nature are forwarded to the KPU, stated in...\\n A.  Articles 128 and 130 of Law no. 12 of 2003\\n B.  Articles 127 and 130 of Law no. 12 of 2003\\n C.  Articles 126 and 130 of Law no. 12 of 2003\\n D.  Articles 125 and 130 of Law no. 12 of 2003\\n E.  Articles 124 and 130 of Law no. 12 of 2003\n"
     ]
    },
    {
     "name": "stderr",
     "output_type": "stream",
     "text": [
      "/opt/conda/lib/python3.10/site-packages/langchain_core/_api/deprecation.py:189: LangChainDeprecationWarning: The function `__call__` was deprecated in LangChain 0.1.0 and will be removed in 0.2.0. Use invoke instead.\n",
      "  warn_deprecated(\n",
      "/opt/conda/lib/python3.10/site-packages/langchain_core/_api/deprecation.py:189: LangChainDeprecationWarning: The function `run` was deprecated in LangChain 0.1.0 and will be removed in 0.2.0. Use invoke instead.\n",
      "  warn_deprecated(\n",
      "/opt/conda/lib/python3.10/site-packages/langchain_core/_api/deprecation.py:189: LangChainDeprecationWarning: The function `__call__` was deprecated in LangChain 0.1.0 and will be removed in 0.2.0. Use invoke instead.\n",
      "  warn_deprecated(\n",
      "/opt/conda/lib/python3.10/site-packages/langchain_core/_api/deprecation.py:189: LangChainDeprecationWarning: The function `__call__` was deprecated in LangChain 0.1.0 and will be removed in 0.2.0. Use invoke instead.\n",
      "  warn_deprecated(\n"
     ]
    },
    {
     "name": "stdout",
     "output_type": "stream",
     "text": [
      " B. Articles 127 and 130 of Law no. 12 of 2003\n",
      "\n",
      "\n",
      "Sources:\n",
      "Time:  91.61937308311462\n",
      "==============================================\n",
      "Nomor:  67\n",
      "The Petitioner's candidacy as a Presidential Candidate and/or Vice Presidential Candidate is based on the Petitioner's rights and obligations as a citizen of the Republic of Indonesia which are justified, ratified, guaranteed and protected by, One of the list of articles is...\\n A.  Article 21 A paragraph 1 of the 1945 Republic of Indonesia Constitution\\n B.  Article 20 A paragraph 1 of the 1945 Republic of Indonesia Constitution\\n C.  Preamble to the 1945 Constitution of the Republic of Indonesia\\n D.  Article 10 A paragraph 1 of the 1945 Republic of Indonesia Constitution\\n E.  Article 10 B paragraph 1 of the 1945 Republic of Indonesia Constitution\n"
     ]
    },
    {
     "name": "stderr",
     "output_type": "stream",
     "text": [
      "/opt/conda/lib/python3.10/site-packages/langchain_core/_api/deprecation.py:189: LangChainDeprecationWarning: The function `__call__` was deprecated in LangChain 0.1.0 and will be removed in 0.2.0. Use invoke instead.\n",
      "  warn_deprecated(\n",
      "/opt/conda/lib/python3.10/site-packages/langchain_core/_api/deprecation.py:189: LangChainDeprecationWarning: The function `run` was deprecated in LangChain 0.1.0 and will be removed in 0.2.0. Use invoke instead.\n",
      "  warn_deprecated(\n",
      "/opt/conda/lib/python3.10/site-packages/langchain_core/_api/deprecation.py:189: LangChainDeprecationWarning: The function `__call__` was deprecated in LangChain 0.1.0 and will be removed in 0.2.0. Use invoke instead.\n",
      "  warn_deprecated(\n",
      "/opt/conda/lib/python3.10/site-packages/langchain_core/_api/deprecation.py:189: LangChainDeprecationWarning: The function `__call__` was deprecated in LangChain 0.1.0 and will be removed in 0.2.0. Use invoke instead.\n",
      "  warn_deprecated(\n"
     ]
    },
    {
     "name": "stdout",
     "output_type": "stream",
     "text": [
      " The Petitioner's candidacy as a Presidential Candidate and/or Vice Presidential Candidate is based on the\n",
      "Petitioner's rights and obligations as a citizen of the Republic of Indonesia which are justified, ratified,\n",
      "guaranteed and protected by... D. Article 10 A paragraph 1 of the 1945 Republic of Indonesia Constitution\n",
      "\n",
      "\n",
      "Sources:\n",
      "Time:  96.81960797309875\n",
      "==============================================\n",
      "Nomor:  68\n",
      "The Petitioner's candidacy as a Presidential Candidate and/or Vice Presidential Candidate is based on the Petitioner's rights and obligations as a citizen of the Republic of Indonesia which are justified, ratified, guaranteed and protected by, One of the list of articles is...\\n A.  Article 21 A paragraph 1 of the 1945 Republic of Indonesia Constitution\\n B.  Article 20 A paragraph 1 of the 1945 Republic of Indonesia Constitution\\n C.  Article 10 A paragraph 1 of the 1945 Republic of Indonesia Constitution\\n D.  Article 10 B paragraph 1 of the 1945 Republic of Indonesia Constitution\\n E.  Article 28 J paragraph 1 of the 1944 Republic of Indonesia Constitution\n"
     ]
    },
    {
     "name": "stderr",
     "output_type": "stream",
     "text": [
      "/opt/conda/lib/python3.10/site-packages/langchain_core/_api/deprecation.py:189: LangChainDeprecationWarning: The function `__call__` was deprecated in LangChain 0.1.0 and will be removed in 0.2.0. Use invoke instead.\n",
      "  warn_deprecated(\n",
      "/opt/conda/lib/python3.10/site-packages/langchain_core/_api/deprecation.py:189: LangChainDeprecationWarning: The function `run` was deprecated in LangChain 0.1.0 and will be removed in 0.2.0. Use invoke instead.\n",
      "  warn_deprecated(\n",
      "/opt/conda/lib/python3.10/site-packages/langchain_core/_api/deprecation.py:189: LangChainDeprecationWarning: The function `__call__` was deprecated in LangChain 0.1.0 and will be removed in 0.2.0. Use invoke instead.\n",
      "  warn_deprecated(\n",
      "/opt/conda/lib/python3.10/site-packages/langchain_core/_api/deprecation.py:189: LangChainDeprecationWarning: The function `__call__` was deprecated in LangChain 0.1.0 and will be removed in 0.2.0. Use invoke instead.\n",
      "  warn_deprecated(\n"
     ]
    },
    {
     "name": "stdout",
     "output_type": "stream",
     "text": [
      " The Petitioner's candidacy as a Presidential Candidate and/or Vice Presidential Candidate is based on the\n",
      "Petitioner's rights and obligations as a citizen of the Republic of Indonesia which are justified, ratified,\n",
      "guaranteed and protected by... A. Article 21 A paragraph 1 of the 1945 Republic of Indonesia Constitution\n",
      "\n",
      "\n",
      "Sources:\n",
      "Time:  96.74984312057495\n",
      "==============================================\n",
      "Nomor:  69\n",
      "The Petitioner's candidacy as a Presidential Candidate and/or Vice Presidential Candidate is based on the Petitioner's rights and obligations as a citizen of the Republic of Indonesia which are justified, ratified, guaranteed and protected by, One of the list of articles is...\\n A.  Article 28 I paragraph 2 of the 1945 Republic of Indonesia Constitution\\n B.  Article 21 A paragraph 1 of the 1945 Republic of Indonesia Constitution\\n C.  Article 20 A paragraph 1 of the 1945 Republic of Indonesia Constitution\\n D.  Article 10 A paragraph 1 of the 1945 Republic of Indonesia Constitution\\n E.  Article 10 B paragraph 1 of the 1945 Republic of Indonesia Constitution\n"
     ]
    },
    {
     "name": "stderr",
     "output_type": "stream",
     "text": [
      "/opt/conda/lib/python3.10/site-packages/langchain_core/_api/deprecation.py:189: LangChainDeprecationWarning: The function `__call__` was deprecated in LangChain 0.1.0 and will be removed in 0.2.0. Use invoke instead.\n",
      "  warn_deprecated(\n",
      "/opt/conda/lib/python3.10/site-packages/langchain_core/_api/deprecation.py:189: LangChainDeprecationWarning: The function `run` was deprecated in LangChain 0.1.0 and will be removed in 0.2.0. Use invoke instead.\n",
      "  warn_deprecated(\n",
      "/opt/conda/lib/python3.10/site-packages/langchain_core/_api/deprecation.py:189: LangChainDeprecationWarning: The function `__call__` was deprecated in LangChain 0.1.0 and will be removed in 0.2.0. Use invoke instead.\n",
      "  warn_deprecated(\n",
      "/opt/conda/lib/python3.10/site-packages/langchain_core/_api/deprecation.py:189: LangChainDeprecationWarning: The function `__call__` was deprecated in LangChain 0.1.0 and will be removed in 0.2.0. Use invoke instead.\n",
      "  warn_deprecated(\n"
     ]
    },
    {
     "name": "stdout",
     "output_type": "stream",
     "text": [
      " The Petitioner's candidacy as a Presidential Candidate and/or Vice Presidential Candidate is based on the\n",
      "Petitioner's rights and obligations as a citizen of the Republic of Indonesia which are justified, ratified,\n",
      "guaranteed and protected by... D. Article 10 A paragraph 1 of the 1945 Republic of Indonesia Constitution\n",
      "\n",
      "\n",
      "Sources:\n",
      "Time:  97.02603006362915\n",
      "==============================================\n",
      "Nomor:  70\n",
      "The Petitioner's candidacy as a Presidential Candidate and/or Vice Presidential Candidate is based on the Petitioner's rights and obligations as a citizen of the Republic of Indonesia which are justified, ratified, guaranteed and protected by, One of the list of articles is...\\n A.  Article 21 A paragraph 1 of the 1945 Republic of Indonesia Constitution\\n B.  Article 28 H paragraph 2 of the 1945 Republic of Indonesia Constitution\\n C.  Article 20 A paragraph 1 of the 1945 Republic of Indonesia Constitution\\n D.  Article 2G A paragraph 1 of the 1945 Republic of Indonesia Constitution\\n E.  Article 2X A paragraph 1 of the 1945 Republic of Indonesia Constitution\n"
     ]
    },
    {
     "name": "stderr",
     "output_type": "stream",
     "text": [
      "/opt/conda/lib/python3.10/site-packages/langchain_core/_api/deprecation.py:189: LangChainDeprecationWarning: The function `__call__` was deprecated in LangChain 0.1.0 and will be removed in 0.2.0. Use invoke instead.\n",
      "  warn_deprecated(\n",
      "/opt/conda/lib/python3.10/site-packages/langchain_core/_api/deprecation.py:189: LangChainDeprecationWarning: The function `run` was deprecated in LangChain 0.1.0 and will be removed in 0.2.0. Use invoke instead.\n",
      "  warn_deprecated(\n",
      "/opt/conda/lib/python3.10/site-packages/langchain_core/_api/deprecation.py:189: LangChainDeprecationWarning: The function `__call__` was deprecated in LangChain 0.1.0 and will be removed in 0.2.0. Use invoke instead.\n",
      "  warn_deprecated(\n",
      "/opt/conda/lib/python3.10/site-packages/langchain_core/_api/deprecation.py:189: LangChainDeprecationWarning: The function `__call__` was deprecated in LangChain 0.1.0 and will be removed in 0.2.0. Use invoke instead.\n",
      "  warn_deprecated(\n"
     ]
    },
    {
     "name": "stdout",
     "output_type": "stream",
     "text": [
      " The Petitioner's candidacy as a Presidential Candidate and/or Vice Presidential Candidate is based on the\n",
      "Petitioner's rights and obligations as a citizen of the Republic of Indonesia which are justified, ratified,\n",
      "guaranteed and protected by...B. Article 28 H paragraph 2 of the 1945 Republic of Indonesia Constitution\n",
      "\n",
      "\n",
      "Sources:\n",
      "Time:  97.20603322982788\n",
      "==============================================\n",
      "Nomor:  71\n",
      "The Petitioner's candidacy as a Presidential Candidate and/or Vice Presidential Candidate is based on the Petitioner's rights and obligations as a citizen of the Republic of Indonesia which are justified, ratified, guaranteed and protected by, One of the list of articles is...\\n A.  Article 28 D paragraph 1 and paragraph 3 of the 1945 Republic of Indonesia Constitution\\n B.  Article 20 A paragraph 1 of the 1945 Republic of Indonesia Constitution\\n C.  Article 21 Y paragraph 1 of the 1945 Republic of Indonesia Constitution\\n D.  Article 20 Y paragraph 1 of the 1945 Republic of Indonesia Constitution\\n E.  Article 21 A paragraph 1 of the 1945 Republic of Indonesia Constitution\n"
     ]
    },
    {
     "name": "stderr",
     "output_type": "stream",
     "text": [
      "/opt/conda/lib/python3.10/site-packages/langchain_core/_api/deprecation.py:189: LangChainDeprecationWarning: The function `__call__` was deprecated in LangChain 0.1.0 and will be removed in 0.2.0. Use invoke instead.\n",
      "  warn_deprecated(\n",
      "/opt/conda/lib/python3.10/site-packages/langchain_core/_api/deprecation.py:189: LangChainDeprecationWarning: The function `run` was deprecated in LangChain 0.1.0 and will be removed in 0.2.0. Use invoke instead.\n",
      "  warn_deprecated(\n",
      "/opt/conda/lib/python3.10/site-packages/langchain_core/_api/deprecation.py:189: LangChainDeprecationWarning: The function `__call__` was deprecated in LangChain 0.1.0 and will be removed in 0.2.0. Use invoke instead.\n",
      "  warn_deprecated(\n",
      "/opt/conda/lib/python3.10/site-packages/langchain_core/_api/deprecation.py:189: LangChainDeprecationWarning: The function `__call__` was deprecated in LangChain 0.1.0 and will be removed in 0.2.0. Use invoke instead.\n",
      "  warn_deprecated(\n"
     ]
    },
    {
     "name": "stdout",
     "output_type": "stream",
     "text": [
      " The Petitioner's candidacy as a Presidential Candidate and/or Vice Presidential Candidate is based on the\n",
      "Petitioner's rights and obligations as a citizen of the Republic of Indonesia which are justified, ratified,\n",
      "guaranteed and protected by Article 28 D paragraph 1 and paragraph 3 of the 1945 Republic of Indonesia\n",
      "Constitution.\n",
      "\n",
      "\n",
      "Sources:\n",
      "Time:  100.08803391456604\n",
      "==============================================\n",
      "Nomor:  72\n",
      "The Petitioner's candidacy as a Presidential Candidate and/or Vice Presidential Candidate is based on the Petitioner's rights and obligations as a citizen of the Republic of Indonesia which are justified, ratified, guaranteed and protected by, One of the list of articles is...\\n A.  Article 21 A paragraph 1 of the 1945 Republic of Indonesia Constitution\\n B.  Article 21 Z paragraph 1 of the 1945 Republic of Indonesia Constitution\\n C.  Article 21 Y paragraph 1 of the 1945 Republic of Indonesia Constitution\\n D.  Article 20 Y paragraph 1 of the 1945 Republic of Indonesia Constitution\\n E.  Article 28 C paragraph 2 of the 1945 Republic of Indonesia Constitution\n"
     ]
    },
    {
     "name": "stderr",
     "output_type": "stream",
     "text": [
      "/opt/conda/lib/python3.10/site-packages/langchain_core/_api/deprecation.py:189: LangChainDeprecationWarning: The function `__call__` was deprecated in LangChain 0.1.0 and will be removed in 0.2.0. Use invoke instead.\n",
      "  warn_deprecated(\n",
      "/opt/conda/lib/python3.10/site-packages/langchain_core/_api/deprecation.py:189: LangChainDeprecationWarning: The function `run` was deprecated in LangChain 0.1.0 and will be removed in 0.2.0. Use invoke instead.\n",
      "  warn_deprecated(\n",
      "/opt/conda/lib/python3.10/site-packages/langchain_core/_api/deprecation.py:189: LangChainDeprecationWarning: The function `__call__` was deprecated in LangChain 0.1.0 and will be removed in 0.2.0. Use invoke instead.\n",
      "  warn_deprecated(\n",
      "/opt/conda/lib/python3.10/site-packages/langchain_core/_api/deprecation.py:189: LangChainDeprecationWarning: The function `__call__` was deprecated in LangChain 0.1.0 and will be removed in 0.2.0. Use invoke instead.\n",
      "  warn_deprecated(\n"
     ]
    },
    {
     "name": "stdout",
     "output_type": "stream",
     "text": [
      " The Petitioner's candidacy as a Presidential Candidate and/or Vice Presidential Candidate is based on the\n",
      "Petitioner's rights and obligations as a citizen of the Republic of Indonesia which are justified, ratified,\n",
      "guaranteed and protected by...\\n A.  Article 21 A paragraph 1 of the 1945 Republic of Indonesia Constitution\n",
      "\n",
      "\n",
      "Sources:\n",
      "Time:  103.92693948745728\n",
      "==============================================\n",
      "Nomor:  73\n",
      "The Petitioner's candidacy as a Presidential Candidate and/or Vice Presidential Candidate is based on the Petitioner's rights and obligations as a citizen of the Republic of Indonesia which are justified, ratified, guaranteed and protected by, One of the list of articles is...\\n A.  Article 21 A paragraph 1 of the 1945 Republic of Indonesia Constitution\\n B.  Article 21 Z paragraph 1 of the 1945 Republic of Indonesia Constitution\\n C.  Article 21 Y paragraph 1 of the 1945 Republic of Indonesia Constitution\\n D.  Article 20 Y paragraph 1 of the 1945 Republic of Indonesia Constitution\\n E.  Article 27 paragraph 1 paragraph 3 of the 1945 Republic of Indonesia Constitution\n"
     ]
    },
    {
     "name": "stderr",
     "output_type": "stream",
     "text": [
      "/opt/conda/lib/python3.10/site-packages/langchain_core/_api/deprecation.py:189: LangChainDeprecationWarning: The function `__call__` was deprecated in LangChain 0.1.0 and will be removed in 0.2.0. Use invoke instead.\n",
      "  warn_deprecated(\n",
      "/opt/conda/lib/python3.10/site-packages/langchain_core/_api/deprecation.py:189: LangChainDeprecationWarning: The function `run` was deprecated in LangChain 0.1.0 and will be removed in 0.2.0. Use invoke instead.\n",
      "  warn_deprecated(\n",
      "/opt/conda/lib/python3.10/site-packages/langchain_core/_api/deprecation.py:189: LangChainDeprecationWarning: The function `__call__` was deprecated in LangChain 0.1.0 and will be removed in 0.2.0. Use invoke instead.\n",
      "  warn_deprecated(\n",
      "/opt/conda/lib/python3.10/site-packages/langchain_core/_api/deprecation.py:189: LangChainDeprecationWarning: The function `__call__` was deprecated in LangChain 0.1.0 and will be removed in 0.2.0. Use invoke instead.\n",
      "  warn_deprecated(\n"
     ]
    },
    {
     "name": "stdout",
     "output_type": "stream",
     "text": [
      " The Petitioner's candidacy as a Presidential Candidate and/or Vice Presidential Candidate is based on the\n",
      "Petitioner's rights and obligations as a citizen of the Republic of Indonesia which are justified, ratified,\n",
      "guaranteed and protected by...\\n A.  Article 21 A paragraph 1 of the 1945 Republic of Indonesia Constitution\n",
      "\n",
      "\n",
      "Sources:\n",
      "Time:  99.75843238830566\n",
      "==============================================\n",
      "Nomor:  74\n",
      "The Petitioner's candidacy as a Presidential Candidate and/or Vice Presidential Candidate is based on the Petitioner's rights and obligations as a citizen of the Republic of Indonesia which are justified, ratified, guaranteed and protected by, One of the list of articles is...\\n A.  Article 21 A paragraph 1 of the 1945 Republic of Indonesia Constitution\\n B.  Article 21 Z paragraph 1 of the 1945 Republic of Indonesia Constitution\\n C.  Article 21 Y paragraph 1 of the 1945 Republic of Indonesia Constitution\\n D.  Article 1 paragraph 2 of the 1945 Republic of Indonesia Constitution\\n E.  Article 20 Y paragraph 1 of the 1945 Republic of Indonesia Constitution\n"
     ]
    },
    {
     "name": "stderr",
     "output_type": "stream",
     "text": [
      "/opt/conda/lib/python3.10/site-packages/langchain_core/_api/deprecation.py:189: LangChainDeprecationWarning: The function `__call__` was deprecated in LangChain 0.1.0 and will be removed in 0.2.0. Use invoke instead.\n",
      "  warn_deprecated(\n",
      "/opt/conda/lib/python3.10/site-packages/langchain_core/_api/deprecation.py:189: LangChainDeprecationWarning: The function `run` was deprecated in LangChain 0.1.0 and will be removed in 0.2.0. Use invoke instead.\n",
      "  warn_deprecated(\n",
      "/opt/conda/lib/python3.10/site-packages/langchain_core/_api/deprecation.py:189: LangChainDeprecationWarning: The function `__call__` was deprecated in LangChain 0.1.0 and will be removed in 0.2.0. Use invoke instead.\n",
      "  warn_deprecated(\n",
      "/opt/conda/lib/python3.10/site-packages/langchain_core/_api/deprecation.py:189: LangChainDeprecationWarning: The function `__call__` was deprecated in LangChain 0.1.0 and will be removed in 0.2.0. Use invoke instead.\n",
      "  warn_deprecated(\n"
     ]
    },
    {
     "name": "stdout",
     "output_type": "stream",
     "text": [
      " The Petitioner's candidacy as a Presidential Candidate and/or Vice Presidential Candidate is based on the\n",
      "Petitioner's rights and obligations as a citizen of the Republic of Indonesia which are justified, ratified,\n",
      "guaranteed and protected by Article 21 A paragraph 1 of the 1945 Republic of Indonesia Constitution.\n",
      "\n",
      "\n",
      "Sources:\n",
      "Time:  96.26838278770447\n",
      "==============================================\n",
      "Nomor:  75\n",
      "Everyone has the right to receive facilities and special treatment to obtain the same opportunities and benefits in order to achieve equality and justice, which is in...\\n A.  Law Number 23 of 2003, especially Article 5 paragraphs (1,2,3 and 4)\\n B.  Article 21 A paragraph 1 of the 1945 Republic of Indonesia Constitution\\n C.  Article 21 Z paragraph 1 of the 1945 Republic of Indonesia Constitution\\n D.  Article 21 Y paragraph 1 of the 1945 Republic of Indonesia Constitution\\n E.  Article 1 paragraph 2 of the 1945 Republic of Indonesia Constitution\n"
     ]
    },
    {
     "name": "stderr",
     "output_type": "stream",
     "text": [
      "/opt/conda/lib/python3.10/site-packages/langchain_core/_api/deprecation.py:189: LangChainDeprecationWarning: The function `__call__` was deprecated in LangChain 0.1.0 and will be removed in 0.2.0. Use invoke instead.\n",
      "  warn_deprecated(\n",
      "/opt/conda/lib/python3.10/site-packages/langchain_core/_api/deprecation.py:189: LangChainDeprecationWarning: The function `run` was deprecated in LangChain 0.1.0 and will be removed in 0.2.0. Use invoke instead.\n",
      "  warn_deprecated(\n",
      "/opt/conda/lib/python3.10/site-packages/langchain_core/_api/deprecation.py:189: LangChainDeprecationWarning: The function `__call__` was deprecated in LangChain 0.1.0 and will be removed in 0.2.0. Use invoke instead.\n",
      "  warn_deprecated(\n",
      "/opt/conda/lib/python3.10/site-packages/langchain_core/_api/deprecation.py:189: LangChainDeprecationWarning: The function `__call__` was deprecated in LangChain 0.1.0 and will be removed in 0.2.0. Use invoke instead.\n",
      "  warn_deprecated(\n"
     ]
    },
    {
     "name": "stdout",
     "output_type": "stream",
     "text": [
      " B.  Article 21 A paragraph 1 of the 1945 Republic of Indonesia Constitution\n",
      "\n",
      "\n",
      "Sources:\n",
      "Time:  73.9510269165039\n",
      "==============================================\n",
      "Nomor:  76\n",
      "Everyone has the right to receive facilities and special treatment to obtain the same opportunities and benefits in order to achieve equality and justice, which is in...\\n A.  Article 21 A paragraph 1 of the 1945 Republic of Indonesia Constitution\\n B.  Article 21 Z paragraph 1 of the 1945 Republic of Indonesia Constitution\\n C.  Article 21 Y paragraph 1 of the 1945 Republic of Indonesia Constitution\\n D.  Article 1 paragraph 2 of the 1945 Republic of Indonesia Constitution\\n E.  Law Number 23 of 2003, especially Article 1 paragraph (6)\n"
     ]
    },
    {
     "name": "stderr",
     "output_type": "stream",
     "text": [
      "/opt/conda/lib/python3.10/site-packages/langchain_core/_api/deprecation.py:189: LangChainDeprecationWarning: The function `__call__` was deprecated in LangChain 0.1.0 and will be removed in 0.2.0. Use invoke instead.\n",
      "  warn_deprecated(\n",
      "/opt/conda/lib/python3.10/site-packages/langchain_core/_api/deprecation.py:189: LangChainDeprecationWarning: The function `run` was deprecated in LangChain 0.1.0 and will be removed in 0.2.0. Use invoke instead.\n",
      "  warn_deprecated(\n",
      "/opt/conda/lib/python3.10/site-packages/langchain_core/_api/deprecation.py:189: LangChainDeprecationWarning: The function `__call__` was deprecated in LangChain 0.1.0 and will be removed in 0.2.0. Use invoke instead.\n",
      "  warn_deprecated(\n",
      "/opt/conda/lib/python3.10/site-packages/langchain_core/_api/deprecation.py:189: LangChainDeprecationWarning: The function `__call__` was deprecated in LangChain 0.1.0 and will be removed in 0.2.0. Use invoke instead.\n",
      "  warn_deprecated(\n"
     ]
    },
    {
     "name": "stdout",
     "output_type": "stream",
     "text": [
      " A.  Article 21 A paragraph 1 of the 1945 Republic of Indonesia Constitution\n",
      "\n",
      "\n",
      "Sources:\n",
      "Time:  70.36957168579102\n",
      "==============================================\n",
      "Nomor:  77\n",
      "Everyone has the right to receive facilities and special treatment to obtain the same opportunities and benefits in order to achieve equality and justice, which is in...\\n A.  Law Number 23 of 2003, especially Article 6 L\\n B.  Article 21 A paragraph 1 of the 1945 Republic of Indonesia Constitution\\n C.  Article 21 Z paragraph 1 of the 1945 Republic of Indonesia Constitution\\n D.  Article 21 Y paragraph 1 of the 1945 Republic of Indonesia Constitution\\n E.  Article 1 paragraph 2 of the 1945 Republic of Indonesia Constitution\n"
     ]
    },
    {
     "name": "stderr",
     "output_type": "stream",
     "text": [
      "/opt/conda/lib/python3.10/site-packages/langchain_core/_api/deprecation.py:189: LangChainDeprecationWarning: The function `__call__` was deprecated in LangChain 0.1.0 and will be removed in 0.2.0. Use invoke instead.\n",
      "  warn_deprecated(\n",
      "/opt/conda/lib/python3.10/site-packages/langchain_core/_api/deprecation.py:189: LangChainDeprecationWarning: The function `run` was deprecated in LangChain 0.1.0 and will be removed in 0.2.0. Use invoke instead.\n",
      "  warn_deprecated(\n",
      "/opt/conda/lib/python3.10/site-packages/langchain_core/_api/deprecation.py:189: LangChainDeprecationWarning: The function `__call__` was deprecated in LangChain 0.1.0 and will be removed in 0.2.0. Use invoke instead.\n",
      "  warn_deprecated(\n",
      "/opt/conda/lib/python3.10/site-packages/langchain_core/_api/deprecation.py:189: LangChainDeprecationWarning: The function `__call__` was deprecated in LangChain 0.1.0 and will be removed in 0.2.0. Use invoke instead.\n",
      "  warn_deprecated(\n"
     ]
    },
    {
     "name": "stdout",
     "output_type": "stream",
     "text": [
      " B.  Article 21 A paragraph 1 of the 1945 Republic of Indonesia Constitution\n",
      "\n",
      "\n",
      "Sources:\n",
      "Time:  69.2436535358429\n",
      "==============================================\n",
      "Nomor:  78\n",
      "Everyone has the right to receive facilities and special treatment to obtain the same opportunities and benefits in order to achieve equality and justice, which is in...\\n A.  Article 21 A paragraph 1 of the 1945 Republic of Indonesia Constitution\\n B.  Article 21 Z paragraph 1 of the 1945 Republic of Indonesia Constitution\\n C.  Article 21 Y paragraph 1 of the 1945 Republic of Indonesia Constitution\\n D.  Article 1 paragraph 2 of the 1945 Republic of Indonesia Constitution\\n E.  Law Number 23 of 2003, especially Article 28 H paragraph (2)\n"
     ]
    },
    {
     "name": "stderr",
     "output_type": "stream",
     "text": [
      "/opt/conda/lib/python3.10/site-packages/langchain_core/_api/deprecation.py:189: LangChainDeprecationWarning: The function `__call__` was deprecated in LangChain 0.1.0 and will be removed in 0.2.0. Use invoke instead.\n",
      "  warn_deprecated(\n",
      "/opt/conda/lib/python3.10/site-packages/langchain_core/_api/deprecation.py:189: LangChainDeprecationWarning: The function `run` was deprecated in LangChain 0.1.0 and will be removed in 0.2.0. Use invoke instead.\n",
      "  warn_deprecated(\n",
      "/opt/conda/lib/python3.10/site-packages/langchain_core/_api/deprecation.py:189: LangChainDeprecationWarning: The function `__call__` was deprecated in LangChain 0.1.0 and will be removed in 0.2.0. Use invoke instead.\n",
      "  warn_deprecated(\n",
      "/opt/conda/lib/python3.10/site-packages/langchain_core/_api/deprecation.py:189: LangChainDeprecationWarning: The function `__call__` was deprecated in LangChain 0.1.0 and will be removed in 0.2.0. Use invoke instead.\n",
      "  warn_deprecated(\n"
     ]
    },
    {
     "name": "stdout",
     "output_type": "stream",
     "text": [
      " A.  Article 21 A paragraph 1 of the 1945 Republic of Indonesia Constitution\n",
      "\n",
      "\n",
      "Sources:\n",
      "Time:  69.82934617996216\n",
      "==============================================\n",
      "Nomor:  79\n",
      "Every person has the right to be free from discriminatory treatment on any basis and has the right to receive protection against such discriminatory treatment, in...\\n A.  Law Number 23 of 2003, especially Article 5 paragraphs (1,2,3 and 4)\\n B.  Article 21 A paragraph 1 of the 1945 Republic of Indonesia Constitution\\n C.  Article 21 Z paragraph 1 of the 1945 Republic of Indonesia Constitution\\n D.  Article 21 Y paragraph 1 of the 1945 Republic of Indonesia Constitution\\n E.  Article 1 paragraph 2 of the 1945 Republic of Indonesia Constitution\n"
     ]
    },
    {
     "name": "stderr",
     "output_type": "stream",
     "text": [
      "/opt/conda/lib/python3.10/site-packages/langchain_core/_api/deprecation.py:189: LangChainDeprecationWarning: The function `__call__` was deprecated in LangChain 0.1.0 and will be removed in 0.2.0. Use invoke instead.\n",
      "  warn_deprecated(\n",
      "/opt/conda/lib/python3.10/site-packages/langchain_core/_api/deprecation.py:189: LangChainDeprecationWarning: The function `run` was deprecated in LangChain 0.1.0 and will be removed in 0.2.0. Use invoke instead.\n",
      "  warn_deprecated(\n",
      "/opt/conda/lib/python3.10/site-packages/langchain_core/_api/deprecation.py:189: LangChainDeprecationWarning: The function `__call__` was deprecated in LangChain 0.1.0 and will be removed in 0.2.0. Use invoke instead.\n",
      "  warn_deprecated(\n",
      "/opt/conda/lib/python3.10/site-packages/langchain_core/_api/deprecation.py:189: LangChainDeprecationWarning: The function `__call__` was deprecated in LangChain 0.1.0 and will be removed in 0.2.0. Use invoke instead.\n",
      "  warn_deprecated(\n"
     ]
    },
    {
     "name": "stdout",
     "output_type": "stream",
     "text": [
      " B. Article 21 A paragraph 1 of the 1945 Republic of Indonesia Constitution\n",
      "\n",
      "\n",
      "Sources:\n",
      "Time:  73.40309429168701\n",
      "==============================================\n",
      "Nomor:  80\n",
      "Every person has the right to be free from discriminatory treatment on any basis and has the right to receive protection against such discriminatory treatment, in...\\n A.  Article 21 A paragraph 1 of the 1945 Republic of Indonesia Constitution\\n B.  Article 21 Z paragraph 1 of the 1945 Republic of Indonesia Constitution\\n C.  Article 21 Y paragraph 1 of the 1945 Republic of Indonesia Constitution\\n D.  Article 1 paragraph 2 of the 1945 Republic of Indonesia Constitution\\n E.  Law Number 23 of 2003, especially Article 1 paragraph (6)\n"
     ]
    },
    {
     "name": "stderr",
     "output_type": "stream",
     "text": [
      "/opt/conda/lib/python3.10/site-packages/langchain_core/_api/deprecation.py:189: LangChainDeprecationWarning: The function `__call__` was deprecated in LangChain 0.1.0 and will be removed in 0.2.0. Use invoke instead.\n",
      "  warn_deprecated(\n",
      "/opt/conda/lib/python3.10/site-packages/langchain_core/_api/deprecation.py:189: LangChainDeprecationWarning: The function `run` was deprecated in LangChain 0.1.0 and will be removed in 0.2.0. Use invoke instead.\n",
      "  warn_deprecated(\n",
      "/opt/conda/lib/python3.10/site-packages/langchain_core/_api/deprecation.py:189: LangChainDeprecationWarning: The function `__call__` was deprecated in LangChain 0.1.0 and will be removed in 0.2.0. Use invoke instead.\n",
      "  warn_deprecated(\n",
      "/opt/conda/lib/python3.10/site-packages/langchain_core/_api/deprecation.py:189: LangChainDeprecationWarning: The function `__call__` was deprecated in LangChain 0.1.0 and will be removed in 0.2.0. Use invoke instead.\n",
      "  warn_deprecated(\n"
     ]
    },
    {
     "name": "stdout",
     "output_type": "stream",
     "text": [
      " A.  Article 21 A paragraph 1 of the 1945 Republic of Indonesia Constitution\n",
      "\n",
      "\n",
      "Sources:\n",
      "Time:  70.09046578407288\n",
      "==============================================\n",
      "Nomor:  81\n",
      "Every person has the right to be free from discriminatory treatment on any basis and has the right to receive protection against such discriminatory treatment, in...\\n A.  Law Number 23 of 2003, especially Article 6 I\\n B.  Article 21 A paragraph 1 of the 1945 Republic of Indonesia Constitution\\n C.  Article 21 Z paragraph 1 of the 1945 Republic of Indonesia Constitution\\n D.  Article 21 Y paragraph 1 of the 1945 Republic of Indonesia Constitution\\n E.  Article 1 paragraph 2 of the 1945 Republic of Indonesia Constitution\n"
     ]
    },
    {
     "name": "stderr",
     "output_type": "stream",
     "text": [
      "/opt/conda/lib/python3.10/site-packages/langchain_core/_api/deprecation.py:189: LangChainDeprecationWarning: The function `__call__` was deprecated in LangChain 0.1.0 and will be removed in 0.2.0. Use invoke instead.\n",
      "  warn_deprecated(\n",
      "/opt/conda/lib/python3.10/site-packages/langchain_core/_api/deprecation.py:189: LangChainDeprecationWarning: The function `run` was deprecated in LangChain 0.1.0 and will be removed in 0.2.0. Use invoke instead.\n",
      "  warn_deprecated(\n",
      "/opt/conda/lib/python3.10/site-packages/langchain_core/_api/deprecation.py:189: LangChainDeprecationWarning: The function `__call__` was deprecated in LangChain 0.1.0 and will be removed in 0.2.0. Use invoke instead.\n",
      "  warn_deprecated(\n",
      "/opt/conda/lib/python3.10/site-packages/langchain_core/_api/deprecation.py:189: LangChainDeprecationWarning: The function `__call__` was deprecated in LangChain 0.1.0 and will be removed in 0.2.0. Use invoke instead.\n",
      "  warn_deprecated(\n"
     ]
    },
    {
     "name": "stdout",
     "output_type": "stream",
     "text": [
      " B.  Article 21 A paragraph 1 of the 1945 Republic of Indonesia Constitution\n",
      "\n",
      "\n",
      "Sources:\n",
      "Time:  69.12060523033142\n",
      "==============================================\n",
      "Nomor:  82\n",
      "Everyone is obliged to respect the human rights of others in the orderly life of society, nation and state, which is...\\n A.  Law Number 23 of 2003, especially Article 5 paragraphs (1, 2, 3 and 4)\\n B.  Article 21 A paragraph 1 of the 1945 Republic of Indonesia Constitution\\n C.  Article 21 Z paragraph 1 of the 1945 Republic of Indonesia Constitution\\n D.  Article 21 Y paragraph 1 of the 1945 Republic of Indonesia Constitution\\n E.  Article 1 paragraph 2 of the 1945 Republic of Indonesia Constitution\n"
     ]
    },
    {
     "name": "stderr",
     "output_type": "stream",
     "text": [
      "/opt/conda/lib/python3.10/site-packages/langchain_core/_api/deprecation.py:189: LangChainDeprecationWarning: The function `__call__` was deprecated in LangChain 0.1.0 and will be removed in 0.2.0. Use invoke instead.\n",
      "  warn_deprecated(\n",
      "/opt/conda/lib/python3.10/site-packages/langchain_core/_api/deprecation.py:189: LangChainDeprecationWarning: The function `run` was deprecated in LangChain 0.1.0 and will be removed in 0.2.0. Use invoke instead.\n",
      "  warn_deprecated(\n",
      "/opt/conda/lib/python3.10/site-packages/langchain_core/_api/deprecation.py:189: LangChainDeprecationWarning: The function `__call__` was deprecated in LangChain 0.1.0 and will be removed in 0.2.0. Use invoke instead.\n",
      "  warn_deprecated(\n",
      "/opt/conda/lib/python3.10/site-packages/langchain_core/_api/deprecation.py:189: LangChainDeprecationWarning: The function `__call__` was deprecated in LangChain 0.1.0 and will be removed in 0.2.0. Use invoke instead.\n",
      "  warn_deprecated(\n"
     ]
    },
    {
     "name": "stdout",
     "output_type": "stream",
     "text": [
      " B.  Article 21 A paragraph 1 of the 1945 Republic of Indonesia Constitution\n",
      "\n",
      "\n",
      "Sources:\n",
      "Time:  73.05808591842651\n",
      "==============================================\n",
      "Nomor:  83\n",
      "Everyone is obliged to respect the human rights of others in the orderly life of society, nation and state, which is...\\n A.  Article 21 A paragraph 1 of the 1945 Republic of Indonesia Constitution\\n B.  Article 21 Z paragraph 1 of the 1945 Republic of Indonesia Constitution\\n C.  Article 21 Y paragraph 1 of the 1945 Republic of Indonesia Constitution\\n D.  Article 1 paragraph 2 of the 1945 Republic of Indonesia Constitution\\n E.  Law Number 23 of 2003, especially Article 1 paragraph (6)\n"
     ]
    },
    {
     "name": "stderr",
     "output_type": "stream",
     "text": [
      "/opt/conda/lib/python3.10/site-packages/langchain_core/_api/deprecation.py:189: LangChainDeprecationWarning: The function `__call__` was deprecated in LangChain 0.1.0 and will be removed in 0.2.0. Use invoke instead.\n",
      "  warn_deprecated(\n",
      "/opt/conda/lib/python3.10/site-packages/langchain_core/_api/deprecation.py:189: LangChainDeprecationWarning: The function `run` was deprecated in LangChain 0.1.0 and will be removed in 0.2.0. Use invoke instead.\n",
      "  warn_deprecated(\n",
      "/opt/conda/lib/python3.10/site-packages/langchain_core/_api/deprecation.py:189: LangChainDeprecationWarning: The function `__call__` was deprecated in LangChain 0.1.0 and will be removed in 0.2.0. Use invoke instead.\n",
      "  warn_deprecated(\n",
      "/opt/conda/lib/python3.10/site-packages/langchain_core/_api/deprecation.py:189: LangChainDeprecationWarning: The function `__call__` was deprecated in LangChain 0.1.0 and will be removed in 0.2.0. Use invoke instead.\n",
      "  warn_deprecated(\n"
     ]
    },
    {
     "name": "stdout",
     "output_type": "stream",
     "text": [
      " A.  Article 21 A paragraph 1 of the 1945 Republic of Indonesia Constitution\n",
      "\n",
      "\n",
      "Sources:\n",
      "Time:  69.71384477615356\n",
      "==============================================\n",
      "Nomor:  84\n",
      "Everyone is obliged to respect the human rights of others in the orderly life of society, nation and state, which is...\\n A.  Law Number 23 of 2003, especially Article 6L\\n B.  Article 21 A paragraph 1 of the 1945 Republic of Indonesia Constitution\\n C.  Article 21 Z paragraph 1 of the 1945 Republic of Indonesia Constitution\\n D.  Article 21 Y paragraph 1 of the 1945 Republic of Indonesia Constitution\\n E.  Article 1 paragraph 2 of the 1945 Republic of Indonesia Constitution\n"
     ]
    },
    {
     "name": "stderr",
     "output_type": "stream",
     "text": [
      "/opt/conda/lib/python3.10/site-packages/langchain_core/_api/deprecation.py:189: LangChainDeprecationWarning: The function `__call__` was deprecated in LangChain 0.1.0 and will be removed in 0.2.0. Use invoke instead.\n",
      "  warn_deprecated(\n",
      "/opt/conda/lib/python3.10/site-packages/langchain_core/_api/deprecation.py:189: LangChainDeprecationWarning: The function `run` was deprecated in LangChain 0.1.0 and will be removed in 0.2.0. Use invoke instead.\n",
      "  warn_deprecated(\n",
      "/opt/conda/lib/python3.10/site-packages/langchain_core/_api/deprecation.py:189: LangChainDeprecationWarning: The function `__call__` was deprecated in LangChain 0.1.0 and will be removed in 0.2.0. Use invoke instead.\n",
      "  warn_deprecated(\n",
      "/opt/conda/lib/python3.10/site-packages/langchain_core/_api/deprecation.py:189: LangChainDeprecationWarning: The function `__call__` was deprecated in LangChain 0.1.0 and will be removed in 0.2.0. Use invoke instead.\n",
      "  warn_deprecated(\n"
     ]
    },
    {
     "name": "stdout",
     "output_type": "stream",
     "text": [
      " B.  Article 21 A paragraph 1 of the 1945 Republic of Indonesia Constitution\n",
      "\n",
      "\n",
      "Sources:\n",
      "Time:  70.449392080307\n",
      "==============================================\n",
      "Nomor:  85\n",
      "Every person has the right to live in physical and spiritual prosperity, to have a place to live and to have a good and healthy living environment and to receive health services, at...\\n A.  Article 21 H paragraph 1 (Constitution/UUD 1945)\\n B.  Article 28 H paragraph 1 (Constitution/UUD 1945)\\n C.  Article 28 A paragraph 1 (Constitution/UUD 1945)\\n D.  Article 28 B paragraph 1 (Constitution/UUD 1945)\\n E.  Article 28 C paragraph 1 (1945 Constitution/UUD)\n"
     ]
    },
    {
     "name": "stderr",
     "output_type": "stream",
     "text": [
      "/opt/conda/lib/python3.10/site-packages/langchain_core/_api/deprecation.py:189: LangChainDeprecationWarning: The function `__call__` was deprecated in LangChain 0.1.0 and will be removed in 0.2.0. Use invoke instead.\n",
      "  warn_deprecated(\n",
      "/opt/conda/lib/python3.10/site-packages/langchain_core/_api/deprecation.py:189: LangChainDeprecationWarning: The function `run` was deprecated in LangChain 0.1.0 and will be removed in 0.2.0. Use invoke instead.\n",
      "  warn_deprecated(\n",
      "/opt/conda/lib/python3.10/site-packages/langchain_core/_api/deprecation.py:189: LangChainDeprecationWarning: The function `__call__` was deprecated in LangChain 0.1.0 and will be removed in 0.2.0. Use invoke instead.\n",
      "  warn_deprecated(\n",
      "/opt/conda/lib/python3.10/site-packages/langchain_core/_api/deprecation.py:189: LangChainDeprecationWarning: The function `__call__` was deprecated in LangChain 0.1.0 and will be removed in 0.2.0. Use invoke instead.\n",
      "  warn_deprecated(\n"
     ]
    },
    {
     "name": "stdout",
     "output_type": "stream",
     "text": [
      " \\_\\_\\_\\_\\_\\_\\_\\_\\_\\_\\_\\_\\_\\_\\_\\_\\_\\_\\_\\_\\_\\_\\_\\_\\_\\_\\_\\_\\_\\_\\_\\_\\_\\_\\_\\_\\_\\_\\_\\_\\_\\_\\_\\_\\_\\_\\_\\_\\_\\_\\_\\_\\_\\_\\\n",
      "_\\_\\_\\_\\_\\_\\_\\_\\_\\_\\_\\_\\_\\_\\_\\_\\_\\_\\_\\_\\_\\_\\_\\_\\_\\_\\_\\_\\_\\_\\_\\_\\_\\_\\_\\_\\_\\_\\_\\_\\_\\_\\_\\_\\_\\_\\_\\_\\_\\_\\_\\_\\_\\_\\_\\\n",
      "_\\_\\_\\_\\_\\_\\_\\_\\_\\_\\_\\_\\_\\_\\_\\_\\_\\_\\_\\_\\_\\_\\_\\_\\_\\_\\_\\_\\_\\_\\_\\_\\_\\_\\_\\_\\_\\_\\_\\_\\_\\_\\_\\_\\_\\_\\_\\_\\_\\_\\_\\_\\_\\_\\_\\\n",
      "_\\_\\_\\_\\_\\_\\_\\_\\_\\_\\_\\_\\_\\_\\_\\_\\_\\_\\_\\_\\_\\_\\_\\_\\_\\_\\_\\_\\_\\_\\_\\_\\_\\_\\_\\_\\_\\_\\_\\_\\_\\_\\_\\_\\_\\_\\_\\_\\_\\_\\_\\_\\_\\_\\_\\\n",
      "_\\_\\_\\_\\_\\_\\_\\_\\_\\_\\_\\_\\_\\_\\_\\_\\_\\_\\_\\_\\_\\_\\_\\_\\_\\_\\_\\_\\_\\_\\_\\_\\_\\_\\_\\_\\\n",
      "\n",
      "\n",
      "Sources:\n",
      "Time:  152.5386893749237\n",
      "==============================================\n",
      "Nomor:  86\n",
      "In Article 51 paragraph (1) of Law Number 24 of 2003 concerning the Constitutional Court. A party who considers their constitutional rights and/or authority to be impaired by the enactment of a law is...\\n A.  President\\n B.  Applicant\\n C.  vice President\\n D.  Police\\n E.  Soldier\n"
     ]
    },
    {
     "name": "stderr",
     "output_type": "stream",
     "text": [
      "/opt/conda/lib/python3.10/site-packages/langchain_core/_api/deprecation.py:189: LangChainDeprecationWarning: The function `__call__` was deprecated in LangChain 0.1.0 and will be removed in 0.2.0. Use invoke instead.\n",
      "  warn_deprecated(\n",
      "/opt/conda/lib/python3.10/site-packages/langchain_core/_api/deprecation.py:189: LangChainDeprecationWarning: The function `run` was deprecated in LangChain 0.1.0 and will be removed in 0.2.0. Use invoke instead.\n",
      "  warn_deprecated(\n",
      "/opt/conda/lib/python3.10/site-packages/langchain_core/_api/deprecation.py:189: LangChainDeprecationWarning: The function `__call__` was deprecated in LangChain 0.1.0 and will be removed in 0.2.0. Use invoke instead.\n",
      "  warn_deprecated(\n",
      "/opt/conda/lib/python3.10/site-packages/langchain_core/_api/deprecation.py:189: LangChainDeprecationWarning: The function `__call__` was deprecated in LangChain 0.1.0 and will be removed in 0.2.0. Use invoke instead.\n",
      "  warn_deprecated(\n"
     ]
    },
    {
     "name": "stdout",
     "output_type": "stream",
     "text": [
      " B. Applicant\n",
      "\n",
      "\n",
      "Sources:\n",
      "Time:  46.148021936416626\n",
      "==============================================\n",
      "Nomor:  87\n",
      "Article 51 paragraph (1) of Law Number 24 of 2003 concerning the Constitutional Court states, the Petitioner is a party who considers their constitutional rights and/or authority to be impaired by the enactment of a law, namely...\\n A.  individual Indonesian citizens, the unity of the customary law community as long as it is still alive and in accordance with the development of society and the principles of the Unitary State of the Republic of Indonesia as regulated in law, public or private legal entity, or state institutions\\n B.  Individual Indonesian citizens, have flesh and blood, or state institutions\\n C.  individual Indonesian citizens, working in government, or state institutions\\n D.  individual Indonesian citizens, can speak Indonesian,  public or private legal entity, or state institutions\\n E.  individual Indonesian citizens, criminal, public or private legal entity, or state institutions\n"
     ]
    },
    {
     "name": "stderr",
     "output_type": "stream",
     "text": [
      "/opt/conda/lib/python3.10/site-packages/langchain_core/_api/deprecation.py:189: LangChainDeprecationWarning: The function `__call__` was deprecated in LangChain 0.1.0 and will be removed in 0.2.0. Use invoke instead.\n",
      "  warn_deprecated(\n",
      "/opt/conda/lib/python3.10/site-packages/langchain_core/_api/deprecation.py:189: LangChainDeprecationWarning: The function `run` was deprecated in LangChain 0.1.0 and will be removed in 0.2.0. Use invoke instead.\n",
      "  warn_deprecated(\n",
      "/opt/conda/lib/python3.10/site-packages/langchain_core/_api/deprecation.py:189: LangChainDeprecationWarning: The function `__call__` was deprecated in LangChain 0.1.0 and will be removed in 0.2.0. Use invoke instead.\n",
      "  warn_deprecated(\n",
      "/opt/conda/lib/python3.10/site-packages/langchain_core/_api/deprecation.py:189: LangChainDeprecationWarning: The function `__call__` was deprecated in LangChain 0.1.0 and will be removed in 0.2.0. Use invoke instead.\n",
      "  warn_deprecated(\n"
     ]
    },
    {
     "name": "stdout",
     "output_type": "stream",
     "text": [
      " A\n",
      "\n",
      "\n",
      "Sources:\n",
      "Time:  79.95099020004272\n",
      "==============================================\n",
      "Nomor:  88\n",
      "Every person has the right to recognition, guarantees, protection and fair legal certainty as well as equal treatment before the law, reads the...\\n A.  Article 28D paragraph (1) of the 1945 Constitution\\n B.  Article 27D paragraph (1) of the 1945 Constitution\\n C.  Article 26D paragraph (1) of the 1945 Constitution\\n D.  Article 25D paragraph (1) of the 1945 Constitution\\n E.  Article 24D paragraph (1) of the 1945 Constitution\n"
     ]
    },
    {
     "name": "stderr",
     "output_type": "stream",
     "text": [
      "/opt/conda/lib/python3.10/site-packages/langchain_core/_api/deprecation.py:189: LangChainDeprecationWarning: The function `__call__` was deprecated in LangChain 0.1.0 and will be removed in 0.2.0. Use invoke instead.\n",
      "  warn_deprecated(\n",
      "/opt/conda/lib/python3.10/site-packages/langchain_core/_api/deprecation.py:189: LangChainDeprecationWarning: The function `run` was deprecated in LangChain 0.1.0 and will be removed in 0.2.0. Use invoke instead.\n",
      "  warn_deprecated(\n",
      "/opt/conda/lib/python3.10/site-packages/langchain_core/_api/deprecation.py:189: LangChainDeprecationWarning: The function `__call__` was deprecated in LangChain 0.1.0 and will be removed in 0.2.0. Use invoke instead.\n",
      "  warn_deprecated(\n",
      "/opt/conda/lib/python3.10/site-packages/langchain_core/_api/deprecation.py:189: LangChainDeprecationWarning: The function `__call__` was deprecated in LangChain 0.1.0 and will be removed in 0.2.0. Use invoke instead.\n",
      "  warn_deprecated(\n"
     ]
    },
    {
     "name": "stdout",
     "output_type": "stream",
     "text": [
      " C.  Article 26D paragraph (1) of the 1945 Constitution\n",
      "\n",
      "\n",
      "Sources:\n",
      "Time:  68.91258215904236\n",
      "==============================================\n",
      "Nomor:  89\n",
      "Every person has the right to freedom of belief, expression of thoughts and attitudes, in accordance with his conscience, according to article...\\n A.  Article 28F paragraph (2) of the 1945 Constitution\\n B.  Article 28A paragraph (2) of the 1945 Constitution\\n C.  Article 28B paragraph (2) of the 1945 Constitution\\n D.  Article 28C paragraph (2) of the 1945 Constitution\\n E.  Article 28E paragraph (2) of the 1945 Constitution\n"
     ]
    },
    {
     "name": "stderr",
     "output_type": "stream",
     "text": [
      "/opt/conda/lib/python3.10/site-packages/langchain_core/_api/deprecation.py:189: LangChainDeprecationWarning: The function `__call__` was deprecated in LangChain 0.1.0 and will be removed in 0.2.0. Use invoke instead.\n",
      "  warn_deprecated(\n",
      "/opt/conda/lib/python3.10/site-packages/langchain_core/_api/deprecation.py:189: LangChainDeprecationWarning: The function `run` was deprecated in LangChain 0.1.0 and will be removed in 0.2.0. Use invoke instead.\n",
      "  warn_deprecated(\n",
      "/opt/conda/lib/python3.10/site-packages/langchain_core/_api/deprecation.py:189: LangChainDeprecationWarning: The function `__call__` was deprecated in LangChain 0.1.0 and will be removed in 0.2.0. Use invoke instead.\n",
      "  warn_deprecated(\n",
      "/opt/conda/lib/python3.10/site-packages/langchain_core/_api/deprecation.py:189: LangChainDeprecationWarning: The function `__call__` was deprecated in LangChain 0.1.0 and will be removed in 0.2.0. Use invoke instead.\n",
      "  warn_deprecated(\n"
     ]
    },
    {
     "name": "stdout",
     "output_type": "stream",
     "text": [
      " Every person has the right to freedom of belief, expression of thoughts and attitudes, in accordance with his\n",
      "conscience, according to article A.  Article 28F paragraph (2) of the 1945 Constitution\n",
      "\n",
      "\n",
      "Sources:\n",
      "Time:  75.0257077217102\n",
      "==============================================\n",
      "Nomor:  90\n",
      "Everyone has the right to freedom of association, assembly and expression of opinion, from article...\\n A.  Article 28A paragraph (3) of the 1945 Constitution\\n B.  Article 28E paragraph (3) of the 1945 Constitution\\n C.  Article 28B paragraph (3) of the 1945 Constitution\\n D.  Article 28C paragraph (3) of the 1945 Constitution\\n E.  Article 28D paragraph (3) of the 1945 Constitution\n"
     ]
    },
    {
     "name": "stderr",
     "output_type": "stream",
     "text": [
      "/opt/conda/lib/python3.10/site-packages/langchain_core/_api/deprecation.py:189: LangChainDeprecationWarning: The function `__call__` was deprecated in LangChain 0.1.0 and will be removed in 0.2.0. Use invoke instead.\n",
      "  warn_deprecated(\n",
      "/opt/conda/lib/python3.10/site-packages/langchain_core/_api/deprecation.py:189: LangChainDeprecationWarning: The function `run` was deprecated in LangChain 0.1.0 and will be removed in 0.2.0. Use invoke instead.\n",
      "  warn_deprecated(\n",
      "/opt/conda/lib/python3.10/site-packages/langchain_core/_api/deprecation.py:189: LangChainDeprecationWarning: The function `__call__` was deprecated in LangChain 0.1.0 and will be removed in 0.2.0. Use invoke instead.\n",
      "  warn_deprecated(\n",
      "/opt/conda/lib/python3.10/site-packages/langchain_core/_api/deprecation.py:189: LangChainDeprecationWarning: The function `__call__` was deprecated in LangChain 0.1.0 and will be removed in 0.2.0. Use invoke instead.\n",
      "  warn_deprecated(\n"
     ]
    },
    {
     "name": "stdout",
     "output_type": "stream",
     "text": [
      " Everyone has the right to freedom of association, assembly and expression of opinion, from article...\\n A.\n",
      "Article 28A paragraph (3) of the 1945 Constitution\n",
      "\n",
      "\n",
      "Sources:\n",
      "Time:  70.7080352306366\n",
      "==============================================\n",
      "Nomor:  91\n",
      "Everyone has the right to communicate and obtain information to develop their personal and social environment, and has the right to seek, obtain, own, store, process and convey information using all types of available channels, as stated in article...\\n A.  Article 28B of the 1945 Constitution\\n B.  Article 28C of the 1945 Constitution\\n C.  Article 28E of the 1945 Constitution\\n D.  Article 28E of the 1945 Constitution\\n E.  Article 28F of the 1945 Constitution\n"
     ]
    },
    {
     "name": "stderr",
     "output_type": "stream",
     "text": [
      "/opt/conda/lib/python3.10/site-packages/langchain_core/_api/deprecation.py:189: LangChainDeprecationWarning: The function `__call__` was deprecated in LangChain 0.1.0 and will be removed in 0.2.0. Use invoke instead.\n",
      "  warn_deprecated(\n",
      "/opt/conda/lib/python3.10/site-packages/langchain_core/_api/deprecation.py:189: LangChainDeprecationWarning: The function `run` was deprecated in LangChain 0.1.0 and will be removed in 0.2.0. Use invoke instead.\n",
      "  warn_deprecated(\n",
      "/opt/conda/lib/python3.10/site-packages/langchain_core/_api/deprecation.py:189: LangChainDeprecationWarning: The function `__call__` was deprecated in LangChain 0.1.0 and will be removed in 0.2.0. Use invoke instead.\n",
      "  warn_deprecated(\n",
      "/opt/conda/lib/python3.10/site-packages/langchain_core/_api/deprecation.py:189: LangChainDeprecationWarning: The function `__call__` was deprecated in LangChain 0.1.0 and will be removed in 0.2.0. Use invoke instead.\n",
      "  warn_deprecated(\n"
     ]
    },
    {
     "name": "stdout",
     "output_type": "stream",
     "text": [
      " Everyone has the right to communicate and obtain information to develop their personal and social\n",
      "environment, and has the right to seek, obtain, own, store, process and convey information using all types of\n",
      "available channels, as stated in article...\\n A.  Article 28B of the 1945 Constitution\n",
      "\n",
      "\n",
      "Sources:\n",
      "Time:  82.39819526672363\n",
      "==============================================\n",
      "Nomor:  92\n",
      "Every person who meets the elements as intended in Article 27 paragraph (1), paragraph (2), paragraph (3), or paragraph (4) shall be punished with a maximum imprisonment...\\n A.  5 (five) years\\n B.  6 (six) years\\n C.  7 (seven) years\\n D.  8 (eight) years\\n E.  9 (nine) years\n"
     ]
    },
    {
     "name": "stderr",
     "output_type": "stream",
     "text": [
      "/opt/conda/lib/python3.10/site-packages/langchain_core/_api/deprecation.py:189: LangChainDeprecationWarning: The function `__call__` was deprecated in LangChain 0.1.0 and will be removed in 0.2.0. Use invoke instead.\n",
      "  warn_deprecated(\n",
      "/opt/conda/lib/python3.10/site-packages/langchain_core/_api/deprecation.py:189: LangChainDeprecationWarning: The function `run` was deprecated in LangChain 0.1.0 and will be removed in 0.2.0. Use invoke instead.\n",
      "  warn_deprecated(\n",
      "/opt/conda/lib/python3.10/site-packages/langchain_core/_api/deprecation.py:189: LangChainDeprecationWarning: The function `__call__` was deprecated in LangChain 0.1.0 and will be removed in 0.2.0. Use invoke instead.\n",
      "  warn_deprecated(\n",
      "/opt/conda/lib/python3.10/site-packages/langchain_core/_api/deprecation.py:189: LangChainDeprecationWarning: The function `__call__` was deprecated in LangChain 0.1.0 and will be removed in 0.2.0. Use invoke instead.\n",
      "  warn_deprecated(\n"
     ]
    },
    {
     "name": "stdout",
     "output_type": "stream",
     "text": [
      " D. 8 (eight) years\n",
      "\n",
      "\n",
      "Sources:\n",
      "Time:  48.05383539199829\n",
      "==============================================\n",
      "Nomor:  93\n",
      "Every person who meets the elements as intended in Article 27 paragraph (1), paragraph (2), paragraph (3), or paragraph (4) shall be punished with imprisonment for a maximum of 6 (six) years and/or a fine of a maximum...\\n A.  IDR 2,000,000,000.00 (two billion rupiah)\\n B.  IDR 3,000,000,000.00 (three billion rupiah)\\n C.  IDR 1,000,000,000.00 (one billion rupiah)\\n D.  IDR 4,000,000,000.00 (four billion rupiah)\\n E.  IDR 5,000,000,000.00 (five billion rupiah)\n"
     ]
    },
    {
     "name": "stderr",
     "output_type": "stream",
     "text": [
      "/opt/conda/lib/python3.10/site-packages/langchain_core/_api/deprecation.py:189: LangChainDeprecationWarning: The function `__call__` was deprecated in LangChain 0.1.0 and will be removed in 0.2.0. Use invoke instead.\n",
      "  warn_deprecated(\n",
      "/opt/conda/lib/python3.10/site-packages/langchain_core/_api/deprecation.py:189: LangChainDeprecationWarning: The function `run` was deprecated in LangChain 0.1.0 and will be removed in 0.2.0. Use invoke instead.\n",
      "  warn_deprecated(\n",
      "/opt/conda/lib/python3.10/site-packages/langchain_core/_api/deprecation.py:189: LangChainDeprecationWarning: The function `__call__` was deprecated in LangChain 0.1.0 and will be removed in 0.2.0. Use invoke instead.\n",
      "  warn_deprecated(\n",
      "/opt/conda/lib/python3.10/site-packages/langchain_core/_api/deprecation.py:189: LangChainDeprecationWarning: The function `__call__` was deprecated in LangChain 0.1.0 and will be removed in 0.2.0. Use invoke instead.\n",
      "  warn_deprecated(\n"
     ]
    },
    {
     "name": "stdout",
     "output_type": "stream",
     "text": [
      " C. IDR 1,000,000,000.00 (one billion rupiah)\n",
      "\n",
      "\n",
      "Sources:\n",
      "Time:  91.19779849052429\n",
      "==============================================\n",
      "Nomor:  94\n",
      "Law Number 32 of 2004, as most recently amended by...\\n A.  Law Number 11 of 2008\\n B.  Law Number 12 of 2008\\n C.  Law Number 13 of 2008\\n D.  Law Number 14 of 2008\\n E.  Law Number 15 of 2008\n"
     ]
    },
    {
     "name": "stderr",
     "output_type": "stream",
     "text": [
      "/opt/conda/lib/python3.10/site-packages/langchain_core/_api/deprecation.py:189: LangChainDeprecationWarning: The function `__call__` was deprecated in LangChain 0.1.0 and will be removed in 0.2.0. Use invoke instead.\n",
      "  warn_deprecated(\n",
      "/opt/conda/lib/python3.10/site-packages/langchain_core/_api/deprecation.py:189: LangChainDeprecationWarning: The function `run` was deprecated in LangChain 0.1.0 and will be removed in 0.2.0. Use invoke instead.\n",
      "  warn_deprecated(\n",
      "/opt/conda/lib/python3.10/site-packages/langchain_core/_api/deprecation.py:189: LangChainDeprecationWarning: The function `__call__` was deprecated in LangChain 0.1.0 and will be removed in 0.2.0. Use invoke instead.\n",
      "  warn_deprecated(\n",
      "/opt/conda/lib/python3.10/site-packages/langchain_core/_api/deprecation.py:189: LangChainDeprecationWarning: The function `__call__` was deprecated in LangChain 0.1.0 and will be removed in 0.2.0. Use invoke instead.\n",
      "  warn_deprecated(\n"
     ]
    },
    {
     "name": "stdout",
     "output_type": "stream",
     "text": [
      " A.  Law Number 11 of 2008\n",
      "\n",
      "\n",
      "Sources:\n",
      "Time:  52.934438705444336\n",
      "==============================================\n",
      "Nomor:  95\n",
      "Law Number 12 of 2008 concerning the Second Amendment to Law Number 32 of 2004 concerning Regional Government, in Article 236C stipulates...\\n A.  Handling of disputes over the vote counting results of regional head and deputy regional head elections by the Supreme Court shall be transferred to the Constitutional Court no later than 18 (eighteen) months from the promulgation of this Law.\\n B.  The Supreme Court has the authority to adjudicate at the first and final level whose decisions are final, among other things, to decide disputes regarding the results of general elections\\n C.  The Constitutional Court has the authority to adjudicate at the first and final level whose decisions are final, among other things, to decide disputes regarding the results of general elections\\n D.  The Indonesian National Police adjudicates at the first and final level whose decision is final, among other things, to decide disputes regarding the results of the general election\\n E.  The President of the Republic of Indonesia adjudicates at the first and final level whose decision is final, among other things, to decide disputes regarding the results of the general election\n"
     ]
    },
    {
     "name": "stderr",
     "output_type": "stream",
     "text": [
      "/opt/conda/lib/python3.10/site-packages/langchain_core/_api/deprecation.py:189: LangChainDeprecationWarning: The function `__call__` was deprecated in LangChain 0.1.0 and will be removed in 0.2.0. Use invoke instead.\n",
      "  warn_deprecated(\n",
      "/opt/conda/lib/python3.10/site-packages/langchain_core/_api/deprecation.py:189: LangChainDeprecationWarning: The function `run` was deprecated in LangChain 0.1.0 and will be removed in 0.2.0. Use invoke instead.\n",
      "  warn_deprecated(\n",
      "/opt/conda/lib/python3.10/site-packages/langchain_core/_api/deprecation.py:189: LangChainDeprecationWarning: The function `__call__` was deprecated in LangChain 0.1.0 and will be removed in 0.2.0. Use invoke instead.\n",
      "  warn_deprecated(\n",
      "/opt/conda/lib/python3.10/site-packages/langchain_core/_api/deprecation.py:189: LangChainDeprecationWarning: The function `__call__` was deprecated in LangChain 0.1.0 and will be removed in 0.2.0. Use invoke instead.\n",
      "  warn_deprecated(\n"
     ]
    },
    {
     "name": "stdout",
     "output_type": "stream",
     "text": [
      " B\n",
      "\n",
      "\n",
      "Sources:\n",
      "Time:  98.0103588104248\n",
      "==============================================\n",
      "Nomor:  96\n",
      "Governors, regents and mayors, respectively, as heads of provincial, district and city regional governments are elected democratically, as stated in article...\\n A.  1945 Constitution Article 18 paragraph (4)\\n B.  1945 Constitution Article 22E paragraph (1)\\n C.  1945 Constitution Article 27 paragraph (1)\\n D.  1945 Constitution Article 28C paragraph (2)\\n E.  1945 Constitution Article 28D paragraph (1)\n"
     ]
    },
    {
     "name": "stderr",
     "output_type": "stream",
     "text": [
      "/opt/conda/lib/python3.10/site-packages/langchain_core/_api/deprecation.py:189: LangChainDeprecationWarning: The function `__call__` was deprecated in LangChain 0.1.0 and will be removed in 0.2.0. Use invoke instead.\n",
      "  warn_deprecated(\n",
      "/opt/conda/lib/python3.10/site-packages/langchain_core/_api/deprecation.py:189: LangChainDeprecationWarning: The function `run` was deprecated in LangChain 0.1.0 and will be removed in 0.2.0. Use invoke instead.\n",
      "  warn_deprecated(\n",
      "/opt/conda/lib/python3.10/site-packages/langchain_core/_api/deprecation.py:189: LangChainDeprecationWarning: The function `__call__` was deprecated in LangChain 0.1.0 and will be removed in 0.2.0. Use invoke instead.\n",
      "  warn_deprecated(\n",
      "/opt/conda/lib/python3.10/site-packages/langchain_core/_api/deprecation.py:189: LangChainDeprecationWarning: The function `__call__` was deprecated in LangChain 0.1.0 and will be removed in 0.2.0. Use invoke instead.\n",
      "  warn_deprecated(\n"
     ]
    },
    {
     "name": "stdout",
     "output_type": "stream",
     "text": [
      " B.\n",
      "\n",
      "\n",
      "Sources:\n",
      "Time:  53.55147910118103\n",
      "==============================================\n",
      "Nomor:  97\n",
      "General elections are held directly, publicly, freely, secretly, honestly and fairly once every five years, in article...\\n A.  1946 Constitution Article 18 paragraph (4)\\n B.  1946 Constitution Article 22E paragraph (1)\\n C.  1946 Constitution Article 27 paragraph (1)\\n D.  1946 Constitution Article 28C paragraph (2)\\n E.  1946 Constitution Article 28D paragraph (1)\n"
     ]
    },
    {
     "name": "stderr",
     "output_type": "stream",
     "text": [
      "/opt/conda/lib/python3.10/site-packages/langchain_core/_api/deprecation.py:189: LangChainDeprecationWarning: The function `__call__` was deprecated in LangChain 0.1.0 and will be removed in 0.2.0. Use invoke instead.\n",
      "  warn_deprecated(\n",
      "/opt/conda/lib/python3.10/site-packages/langchain_core/_api/deprecation.py:189: LangChainDeprecationWarning: The function `run` was deprecated in LangChain 0.1.0 and will be removed in 0.2.0. Use invoke instead.\n",
      "  warn_deprecated(\n",
      "/opt/conda/lib/python3.10/site-packages/langchain_core/_api/deprecation.py:189: LangChainDeprecationWarning: The function `__call__` was deprecated in LangChain 0.1.0 and will be removed in 0.2.0. Use invoke instead.\n",
      "  warn_deprecated(\n",
      "/opt/conda/lib/python3.10/site-packages/langchain_core/_api/deprecation.py:189: LangChainDeprecationWarning: The function `__call__` was deprecated in LangChain 0.1.0 and will be removed in 0.2.0. Use invoke instead.\n",
      "  warn_deprecated(\n"
     ]
    },
    {
     "name": "stdout",
     "output_type": "stream",
     "text": [
      " B.  1946 Constitution Article 22E paragraph (1)\n",
      "\n",
      "\n",
      "Sources:\n",
      "Time:  57.11045718193054\n",
      "==============================================\n",
      "Nomor:  98\n",
      "All citizens have the same position under the law and government and are obliged to uphold the law and government without exception, in article...\\n A.  1947 Constitution Article 18 paragraph (4)\\n B.  1947 Constitution Article 22E paragraph (1)\\n C.  1947 Constitution Article 27 paragraph (1)\\n D.  1947 Constitution Article 28C paragraph (2)\\n E.  1947 Constitution Article 28D paragraph (1)\n"
     ]
    },
    {
     "name": "stderr",
     "output_type": "stream",
     "text": [
      "/opt/conda/lib/python3.10/site-packages/langchain_core/_api/deprecation.py:189: LangChainDeprecationWarning: The function `__call__` was deprecated in LangChain 0.1.0 and will be removed in 0.2.0. Use invoke instead.\n",
      "  warn_deprecated(\n",
      "/opt/conda/lib/python3.10/site-packages/langchain_core/_api/deprecation.py:189: LangChainDeprecationWarning: The function `run` was deprecated in LangChain 0.1.0 and will be removed in 0.2.0. Use invoke instead.\n",
      "  warn_deprecated(\n",
      "/opt/conda/lib/python3.10/site-packages/langchain_core/_api/deprecation.py:189: LangChainDeprecationWarning: The function `__call__` was deprecated in LangChain 0.1.0 and will be removed in 0.2.0. Use invoke instead.\n",
      "  warn_deprecated(\n",
      "/opt/conda/lib/python3.10/site-packages/langchain_core/_api/deprecation.py:189: LangChainDeprecationWarning: The function `__call__` was deprecated in LangChain 0.1.0 and will be removed in 0.2.0. Use invoke instead.\n",
      "  warn_deprecated(\n"
     ]
    },
    {
     "name": "stdout",
     "output_type": "stream",
     "text": [
      " A.\n",
      "\n",
      "\n",
      "Sources:\n",
      "Time:  53.61092972755432\n",
      "==============================================\n",
      "Nomor:  99\n",
      "Everyone has the right to advance themselves in fighting for their rights collectively to develop their society, nation and state, as stated in article...\\n A.  1948 Constitution Article 18 paragraph (4)\\n B.  1948 Constitution Article 22E paragraph (1)\\n C.  1948 Constitution Article 27 paragraph (1)\\n D.  1948 Constitution Article 28C paragraph (2)\\n E.  1948 Constitution Article 28D paragraph (1)\n"
     ]
    },
    {
     "name": "stderr",
     "output_type": "stream",
     "text": [
      "/opt/conda/lib/python3.10/site-packages/langchain_core/_api/deprecation.py:189: LangChainDeprecationWarning: The function `__call__` was deprecated in LangChain 0.1.0 and will be removed in 0.2.0. Use invoke instead.\n",
      "  warn_deprecated(\n",
      "/opt/conda/lib/python3.10/site-packages/langchain_core/_api/deprecation.py:189: LangChainDeprecationWarning: The function `run` was deprecated in LangChain 0.1.0 and will be removed in 0.2.0. Use invoke instead.\n",
      "  warn_deprecated(\n",
      "/opt/conda/lib/python3.10/site-packages/langchain_core/_api/deprecation.py:189: LangChainDeprecationWarning: The function `__call__` was deprecated in LangChain 0.1.0 and will be removed in 0.2.0. Use invoke instead.\n",
      "  warn_deprecated(\n",
      "/opt/conda/lib/python3.10/site-packages/langchain_core/_api/deprecation.py:189: LangChainDeprecationWarning: The function `__call__` was deprecated in LangChain 0.1.0 and will be removed in 0.2.0. Use invoke instead.\n",
      "  warn_deprecated(\n"
     ]
    },
    {
     "name": "stdout",
     "output_type": "stream",
     "text": [
      " B.\n",
      "\n",
      "\n",
      "Sources:\n",
      "Time:  53.55345916748047\n",
      "==============================================\n",
      "Nomor:  100\n",
      "Every person has the right to recognition, guarantees, protection and fair legal certainty as well as equal treatment before the law, as stated in Article...\\n A.  1949 Constitution Article 18 paragraph (4)\\n B.  1949 Constitution Article 22E paragraph (1)\\n C.  1949 Constitution Article 27 paragraph (1)\\n D.  1949 Constitution Article 28C paragraph (2)\\n E.  1949 Constitution Article 28D paragraph (1)\n"
     ]
    },
    {
     "name": "stderr",
     "output_type": "stream",
     "text": [
      "/opt/conda/lib/python3.10/site-packages/langchain_core/_api/deprecation.py:189: LangChainDeprecationWarning: The function `__call__` was deprecated in LangChain 0.1.0 and will be removed in 0.2.0. Use invoke instead.\n",
      "  warn_deprecated(\n",
      "/opt/conda/lib/python3.10/site-packages/langchain_core/_api/deprecation.py:189: LangChainDeprecationWarning: The function `run` was deprecated in LangChain 0.1.0 and will be removed in 0.2.0. Use invoke instead.\n",
      "  warn_deprecated(\n",
      "/opt/conda/lib/python3.10/site-packages/langchain_core/_api/deprecation.py:189: LangChainDeprecationWarning: The function `__call__` was deprecated in LangChain 0.1.0 and will be removed in 0.2.0. Use invoke instead.\n",
      "  warn_deprecated(\n",
      "/opt/conda/lib/python3.10/site-packages/langchain_core/_api/deprecation.py:189: LangChainDeprecationWarning: The function `__call__` was deprecated in LangChain 0.1.0 and will be removed in 0.2.0. Use invoke instead.\n",
      "  warn_deprecated(\n"
     ]
    },
    {
     "name": "stdout",
     "output_type": "stream",
     "text": [
      " B.  1949 Constitution Article 22E paragraph (1)\n",
      "\n",
      "\n",
      "Sources:\n",
      "Time:  57.9424352645874\n",
      "==============================================\n",
      "CPU times: user 9h 55min 25s, sys: 29.4 s, total: 9h 55min 54s\n",
      "Wall time: 2h 32min 38s\n"
     ]
    }
   ],
   "source": [
    "%%time\n",
    "for x,y in zip(dataset.no,dataset.qa_comb):\n",
    "    llm_time_start = time.time()\n",
    "    print(\"Nomor: \",x)\n",
    "    print(y)\n",
    "    llm_ans(y)\n",
    "    llm_time_end = time.time()\n",
    "    print(\"Time: \",llm_time_end - llm_time_start)\n",
    "    print(\"==============================================\")"
   ]
  },
  {
   "cell_type": "code",
   "execution_count": 20,
   "id": "ae823384",
   "metadata": {
    "execution": {
     "iopub.execute_input": "2024-01-08T05:43:33.582062Z",
     "iopub.status.busy": "2024-01-08T05:43:33.581379Z",
     "iopub.status.idle": "2024-01-08T05:43:33.586470Z",
     "shell.execute_reply": "2024-01-08T05:43:33.585504Z"
    },
    "papermill": {
     "duration": 0.052281,
     "end_time": "2024-01-08T05:43:33.588486",
     "exception": false,
     "start_time": "2024-01-08T05:43:33.536205",
     "status": "completed"
    },
    "tags": []
   },
   "outputs": [
    {
     "name": "stdout",
     "output_type": "stream",
     "text": [
      "9475.128822088242\n"
     ]
    }
   ],
   "source": [
    "end = time.time()\n",
    "print(end - start)"
   ]
  }
 ],
 "metadata": {
  "kaggle": {
   "accelerator": "nvidiaTeslaT4",
   "dataSources": [
    {
     "datasetId": 3946974,
     "sourceId": 6867918,
     "sourceType": "datasetVersion"
    },
    {
     "datasetId": 3821002,
     "sourceId": 6620688,
     "sourceType": "datasetVersion"
    }
   ],
   "dockerImageVersionId": 30627,
   "isGpuEnabled": true,
   "isInternetEnabled": true,
   "language": "python",
   "sourceType": "notebook"
  },
  "kernelspec": {
   "display_name": "Python 3",
   "language": "python",
   "name": "python3"
  },
  "language_info": {
   "codemirror_mode": {
    "name": "ipython",
    "version": 3
   },
   "file_extension": ".py",
   "mimetype": "text/x-python",
   "name": "python",
   "nbconvert_exporter": "python",
   "pygments_lexer": "ipython3",
   "version": "3.10.12"
  },
  "papermill": {
   "default_parameters": {},
   "duration": 9482.11845,
   "end_time": "2024-01-08T05:43:36.719896",
   "environment_variables": {},
   "exception": null,
   "input_path": "__notebook__.ipynb",
   "output_path": "__notebook__.ipynb",
   "parameters": {},
   "start_time": "2024-01-08T03:05:34.601446",
   "version": "2.4.0"
  },
  "widgets": {
   "application/vnd.jupyter.widget-state+json": {
    "state": {
     "01548e69efa84e19aff03c84fb27952e": {
      "model_module": "@jupyter-widgets/base",
      "model_module_version": "1.2.0",
      "model_name": "LayoutModel",
      "state": {
       "_model_module": "@jupyter-widgets/base",
       "_model_module_version": "1.2.0",
       "_model_name": "LayoutModel",
       "_view_count": null,
       "_view_module": "@jupyter-widgets/base",
       "_view_module_version": "1.2.0",
       "_view_name": "LayoutView",
       "align_content": null,
       "align_items": null,
       "align_self": null,
       "border": null,
       "bottom": null,
       "display": null,
       "flex": null,
       "flex_flow": null,
       "grid_area": null,
       "grid_auto_columns": null,
       "grid_auto_flow": null,
       "grid_auto_rows": null,
       "grid_column": null,
       "grid_gap": null,
       "grid_row": null,
       "grid_template_areas": null,
       "grid_template_columns": null,
       "grid_template_rows": null,
       "height": null,
       "justify_content": null,
       "justify_items": null,
       "left": null,
       "margin": null,
       "max_height": null,
       "max_width": null,
       "min_height": null,
       "min_width": null,
       "object_fit": null,
       "object_position": null,
       "order": null,
       "overflow": null,
       "overflow_x": null,
       "overflow_y": null,
       "padding": null,
       "right": null,
       "top": null,
       "visibility": null,
       "width": null
      }
     },
     "018d319d5b4249af89f0201dc384ca77": {
      "model_module": "@jupyter-widgets/controls",
      "model_module_version": "1.5.0",
      "model_name": "FloatProgressModel",
      "state": {
       "_dom_classes": [],
       "_model_module": "@jupyter-widgets/controls",
       "_model_module_version": "1.5.0",
       "_model_name": "FloatProgressModel",
       "_view_count": null,
       "_view_module": "@jupyter-widgets/controls",
       "_view_module_version": "1.5.0",
       "_view_name": "ProgressView",
       "bar_style": "success",
       "description": "",
       "description_tooltip": null,
       "layout": "IPY_MODEL_dccad7621c0449ad8526cec62a54635b",
       "max": 52.0,
       "min": 0.0,
       "orientation": "horizontal",
       "style": "IPY_MODEL_5b227e992cea4253a245794027176037",
       "value": 52.0
      }
     },
     "01bee3a55f7548a6906a6d9e93cba1d7": {
      "model_module": "@jupyter-widgets/base",
      "model_module_version": "1.2.0",
      "model_name": "LayoutModel",
      "state": {
       "_model_module": "@jupyter-widgets/base",
       "_model_module_version": "1.2.0",
       "_model_name": "LayoutModel",
       "_view_count": null,
       "_view_module": "@jupyter-widgets/base",
       "_view_module_version": "1.2.0",
       "_view_name": "LayoutView",
       "align_content": null,
       "align_items": null,
       "align_self": null,
       "border": null,
       "bottom": null,
       "display": null,
       "flex": null,
       "flex_flow": null,
       "grid_area": null,
       "grid_auto_columns": null,
       "grid_auto_flow": null,
       "grid_auto_rows": null,
       "grid_column": null,
       "grid_gap": null,
       "grid_row": null,
       "grid_template_areas": null,
       "grid_template_columns": null,
       "grid_template_rows": null,
       "height": null,
       "justify_content": null,
       "justify_items": null,
       "left": null,
       "margin": null,
       "max_height": null,
       "max_width": null,
       "min_height": null,
       "min_width": null,
       "object_fit": null,
       "object_position": null,
       "order": null,
       "overflow": null,
       "overflow_x": null,
       "overflow_y": null,
       "padding": null,
       "right": null,
       "top": null,
       "visibility": null,
       "width": null
      }
     },
     "07709e2937834889b7a4369a9cf6e451": {
      "model_module": "@jupyter-widgets/controls",
      "model_module_version": "1.5.0",
      "model_name": "FloatProgressModel",
      "state": {
       "_dom_classes": [],
       "_model_module": "@jupyter-widgets/controls",
       "_model_module_version": "1.5.0",
       "_model_name": "FloatProgressModel",
       "_view_count": null,
       "_view_module": "@jupyter-widgets/controls",
       "_view_module_version": "1.5.0",
       "_view_name": "ProgressView",
       "bar_style": "success",
       "description": "",
       "description_tooltip": null,
       "layout": "IPY_MODEL_01548e69efa84e19aff03c84fb27952e",
       "max": 1531.0,
       "min": 0.0,
       "orientation": "horizontal",
       "style": "IPY_MODEL_9577c7ec143d4333ba67cd15c7bb4171",
       "value": 1531.0
      }
     },
     "089c32a46a954779ae8a3595495f3ce2": {
      "model_module": "@jupyter-widgets/base",
      "model_module_version": "1.2.0",
      "model_name": "LayoutModel",
      "state": {
       "_model_module": "@jupyter-widgets/base",
       "_model_module_version": "1.2.0",
       "_model_name": "LayoutModel",
       "_view_count": null,
       "_view_module": "@jupyter-widgets/base",
       "_view_module_version": "1.2.0",
       "_view_name": "LayoutView",
       "align_content": null,
       "align_items": null,
       "align_self": null,
       "border": null,
       "bottom": null,
       "display": null,
       "flex": null,
       "flex_flow": null,
       "grid_area": null,
       "grid_auto_columns": null,
       "grid_auto_flow": null,
       "grid_auto_rows": null,
       "grid_column": null,
       "grid_gap": null,
       "grid_row": null,
       "grid_template_areas": null,
       "grid_template_columns": null,
       "grid_template_rows": null,
       "height": null,
       "justify_content": null,
       "justify_items": null,
       "left": null,
       "margin": null,
       "max_height": null,
       "max_width": null,
       "min_height": null,
       "min_width": null,
       "object_fit": null,
       "object_position": null,
       "order": null,
       "overflow": null,
       "overflow_x": null,
       "overflow_y": null,
       "padding": null,
       "right": null,
       "top": null,
       "visibility": null,
       "width": null
      }
     },
     "0bfdf53686454254940672593a7c2928": {
      "model_module": "@jupyter-widgets/base",
      "model_module_version": "1.2.0",
      "model_name": "LayoutModel",
      "state": {
       "_model_module": "@jupyter-widgets/base",
       "_model_module_version": "1.2.0",
       "_model_name": "LayoutModel",
       "_view_count": null,
       "_view_module": "@jupyter-widgets/base",
       "_view_module_version": "1.2.0",
       "_view_name": "LayoutView",
       "align_content": null,
       "align_items": null,
       "align_self": null,
       "border": null,
       "bottom": null,
       "display": null,
       "flex": null,
       "flex_flow": null,
       "grid_area": null,
       "grid_auto_columns": null,
       "grid_auto_flow": null,
       "grid_auto_rows": null,
       "grid_column": null,
       "grid_gap": null,
       "grid_row": null,
       "grid_template_areas": null,
       "grid_template_columns": null,
       "grid_template_rows": null,
       "height": null,
       "justify_content": null,
       "justify_items": null,
       "left": null,
       "margin": null,
       "max_height": null,
       "max_width": null,
       "min_height": null,
       "min_width": null,
       "object_fit": null,
       "object_position": null,
       "order": null,
       "overflow": null,
       "overflow_x": null,
       "overflow_y": null,
       "padding": null,
       "right": null,
       "top": null,
       "visibility": null,
       "width": null
      }
     },
     "0c2e5c76912649948645ebdaad8caf3e": {
      "model_module": "@jupyter-widgets/controls",
      "model_module_version": "1.5.0",
      "model_name": "DescriptionStyleModel",
      "state": {
       "_model_module": "@jupyter-widgets/controls",
       "_model_module_version": "1.5.0",
       "_model_name": "DescriptionStyleModel",
       "_view_count": null,
       "_view_module": "@jupyter-widgets/base",
       "_view_module_version": "1.2.0",
       "_view_name": "StyleView",
       "description_width": ""
      }
     },
     "0c4e2e5fcc3b48c1b132369fa63941ee": {
      "model_module": "@jupyter-widgets/base",
      "model_module_version": "1.2.0",
      "model_name": "LayoutModel",
      "state": {
       "_model_module": "@jupyter-widgets/base",
       "_model_module_version": "1.2.0",
       "_model_name": "LayoutModel",
       "_view_count": null,
       "_view_module": "@jupyter-widgets/base",
       "_view_module_version": "1.2.0",
       "_view_name": "LayoutView",
       "align_content": null,
       "align_items": null,
       "align_self": null,
       "border": null,
       "bottom": null,
       "display": null,
       "flex": null,
       "flex_flow": null,
       "grid_area": null,
       "grid_auto_columns": null,
       "grid_auto_flow": null,
       "grid_auto_rows": null,
       "grid_column": null,
       "grid_gap": null,
       "grid_row": null,
       "grid_template_areas": null,
       "grid_template_columns": null,
       "grid_template_rows": null,
       "height": null,
       "justify_content": null,
       "justify_items": null,
       "left": null,
       "margin": null,
       "max_height": null,
       "max_width": null,
       "min_height": null,
       "min_width": null,
       "object_fit": null,
       "object_position": null,
       "order": null,
       "overflow": null,
       "overflow_x": null,
       "overflow_y": null,
       "padding": null,
       "right": null,
       "top": null,
       "visibility": null,
       "width": null
      }
     },
     "0cdbb4653ddd4bc89a889d3bf3c2d9e9": {
      "model_module": "@jupyter-widgets/controls",
      "model_module_version": "1.5.0",
      "model_name": "DescriptionStyleModel",
      "state": {
       "_model_module": "@jupyter-widgets/controls",
       "_model_module_version": "1.5.0",
       "_model_name": "DescriptionStyleModel",
       "_view_count": null,
       "_view_module": "@jupyter-widgets/base",
       "_view_module_version": "1.2.0",
       "_view_name": "StyleView",
       "description_width": ""
      }
     },
     "0d8e7c8c916e4065a7e0fa443daac1d7": {
      "model_module": "@jupyter-widgets/controls",
      "model_module_version": "1.5.0",
      "model_name": "HTMLModel",
      "state": {
       "_dom_classes": [],
       "_model_module": "@jupyter-widgets/controls",
       "_model_module_version": "1.5.0",
       "_model_name": "HTMLModel",
       "_view_count": null,
       "_view_module": "@jupyter-widgets/controls",
       "_view_module_version": "1.5.0",
       "_view_name": "HTMLView",
       "description": "",
       "description_tooltip": null,
       "layout": "IPY_MODEL_581d466710604da8ab02a2d88655833a",
       "placeholder": "​",
       "style": "IPY_MODEL_643487a5ed2840dfaea2820e9fe9e200",
       "value": "config.json: 100%"
      }
     },
     "10379bbe1c7347ac9a93b796464586a3": {
      "model_module": "@jupyter-widgets/controls",
      "model_module_version": "1.5.0",
      "model_name": "DescriptionStyleModel",
      "state": {
       "_model_module": "@jupyter-widgets/controls",
       "_model_module_version": "1.5.0",
       "_model_name": "DescriptionStyleModel",
       "_view_count": null,
       "_view_module": "@jupyter-widgets/base",
       "_view_module_version": "1.2.0",
       "_view_name": "StyleView",
       "description_width": ""
      }
     },
     "10b2c9a8abbd4361a3460a68abae9c0b": {
      "model_module": "@jupyter-widgets/controls",
      "model_module_version": "1.5.0",
      "model_name": "HBoxModel",
      "state": {
       "_dom_classes": [],
       "_model_module": "@jupyter-widgets/controls",
       "_model_module_version": "1.5.0",
       "_model_name": "HBoxModel",
       "_view_count": null,
       "_view_module": "@jupyter-widgets/controls",
       "_view_module_version": "1.5.0",
       "_view_name": "HBoxView",
       "box_style": "",
       "children": [
        "IPY_MODEL_529873d5f1ab4abe9e1ff3856af27fea",
        "IPY_MODEL_e4c33c9355d6464dbc6ecfbc4aedfcd0",
        "IPY_MODEL_f200c797c46f4abf8d6eb37090f032ee"
       ],
       "layout": "IPY_MODEL_fab7bdf1a5f34f9788e324e2aa025a5a"
      }
     },
     "1121b630d70b40389f3d09ccdcce2f3e": {
      "model_module": "@jupyter-widgets/base",
      "model_module_version": "1.2.0",
      "model_name": "LayoutModel",
      "state": {
       "_model_module": "@jupyter-widgets/base",
       "_model_module_version": "1.2.0",
       "_model_name": "LayoutModel",
       "_view_count": null,
       "_view_module": "@jupyter-widgets/base",
       "_view_module_version": "1.2.0",
       "_view_name": "LayoutView",
       "align_content": null,
       "align_items": null,
       "align_self": null,
       "border": null,
       "bottom": null,
       "display": null,
       "flex": null,
       "flex_flow": null,
       "grid_area": null,
       "grid_auto_columns": null,
       "grid_auto_flow": null,
       "grid_auto_rows": null,
       "grid_column": null,
       "grid_gap": null,
       "grid_row": null,
       "grid_template_areas": null,
       "grid_template_columns": null,
       "grid_template_rows": null,
       "height": null,
       "justify_content": null,
       "justify_items": null,
       "left": null,
       "margin": null,
       "max_height": null,
       "max_width": null,
       "min_height": null,
       "min_width": null,
       "object_fit": null,
       "object_position": null,
       "order": null,
       "overflow": null,
       "overflow_x": null,
       "overflow_y": null,
       "padding": null,
       "right": null,
       "top": null,
       "visibility": null,
       "width": null
      }
     },
     "16bda96cff3a47928146365d56fb7056": {
      "model_module": "@jupyter-widgets/controls",
      "model_module_version": "1.5.0",
      "model_name": "FloatProgressModel",
      "state": {
       "_dom_classes": [],
       "_model_module": "@jupyter-widgets/controls",
       "_model_module_version": "1.5.0",
       "_model_name": "FloatProgressModel",
       "_view_count": null,
       "_view_module": "@jupyter-widgets/controls",
       "_view_module_version": "1.5.0",
       "_view_name": "ProgressView",
       "bar_style": "success",
       "description": "",
       "description_tooltip": null,
       "layout": "IPY_MODEL_517bc221d07c49b0abd9ba34aba430f1",
       "max": 229167.0,
       "min": 0.0,
       "orientation": "horizontal",
       "style": "IPY_MODEL_8facb3ad9ea1473daf20e87fa3a4e8a1",
       "value": 229167.0
      }
     },
     "1875a650c78d45b084671c20df20b389": {
      "model_module": "@jupyter-widgets/controls",
      "model_module_version": "1.5.0",
      "model_name": "DescriptionStyleModel",
      "state": {
       "_model_module": "@jupyter-widgets/controls",
       "_model_module_version": "1.5.0",
       "_model_name": "DescriptionStyleModel",
       "_view_count": null,
       "_view_module": "@jupyter-widgets/base",
       "_view_module_version": "1.2.0",
       "_view_name": "StyleView",
       "description_width": ""
      }
     },
     "1ba892310c144945b6d952d12c50f462": {
      "model_module": "@jupyter-widgets/base",
      "model_module_version": "1.2.0",
      "model_name": "LayoutModel",
      "state": {
       "_model_module": "@jupyter-widgets/base",
       "_model_module_version": "1.2.0",
       "_model_name": "LayoutModel",
       "_view_count": null,
       "_view_module": "@jupyter-widgets/base",
       "_view_module_version": "1.2.0",
       "_view_name": "LayoutView",
       "align_content": null,
       "align_items": null,
       "align_self": null,
       "border": null,
       "bottom": null,
       "display": null,
       "flex": null,
       "flex_flow": null,
       "grid_area": null,
       "grid_auto_columns": null,
       "grid_auto_flow": null,
       "grid_auto_rows": null,
       "grid_column": null,
       "grid_gap": null,
       "grid_row": null,
       "grid_template_areas": null,
       "grid_template_columns": null,
       "grid_template_rows": null,
       "height": null,
       "justify_content": null,
       "justify_items": null,
       "left": null,
       "margin": null,
       "max_height": null,
       "max_width": null,
       "min_height": null,
       "min_width": null,
       "object_fit": null,
       "object_position": null,
       "order": null,
       "overflow": null,
       "overflow_x": null,
       "overflow_y": null,
       "padding": null,
       "right": null,
       "top": null,
       "visibility": null,
       "width": null
      }
     },
     "1f51bab6af244763931fd7475179a47e": {
      "model_module": "@jupyter-widgets/controls",
      "model_module_version": "1.5.0",
      "model_name": "HTMLModel",
      "state": {
       "_dom_classes": [],
       "_model_module": "@jupyter-widgets/controls",
       "_model_module_version": "1.5.0",
       "_model_name": "HTMLModel",
       "_view_count": null,
       "_view_module": "@jupyter-widgets/controls",
       "_view_module_version": "1.5.0",
       "_view_name": "HTMLView",
       "description": "",
       "description_tooltip": null,
       "layout": "IPY_MODEL_b6b5b11680e14b729ce54ca7f2d0842b",
       "placeholder": "​",
       "style": "IPY_MODEL_8d0841178c7e40b7abcc927ed9c0b14a",
       "value": " 4.10k/4.10k [00:00&lt;00:00, 249kB/s]"
      }
     },
     "25127aa78af948379b43a3309700eae4": {
      "model_module": "@jupyter-widgets/base",
      "model_module_version": "1.2.0",
      "model_name": "LayoutModel",
      "state": {
       "_model_module": "@jupyter-widgets/base",
       "_model_module_version": "1.2.0",
       "_model_name": "LayoutModel",
       "_view_count": null,
       "_view_module": "@jupyter-widgets/base",
       "_view_module_version": "1.2.0",
       "_view_name": "LayoutView",
       "align_content": null,
       "align_items": null,
       "align_self": null,
       "border": null,
       "bottom": null,
       "display": null,
       "flex": null,
       "flex_flow": null,
       "grid_area": null,
       "grid_auto_columns": null,
       "grid_auto_flow": null,
       "grid_auto_rows": null,
       "grid_column": null,
       "grid_gap": null,
       "grid_row": null,
       "grid_template_areas": null,
       "grid_template_columns": null,
       "grid_template_rows": null,
       "height": null,
       "justify_content": null,
       "justify_items": null,
       "left": null,
       "margin": null,
       "max_height": null,
       "max_width": null,
       "min_height": null,
       "min_width": null,
       "object_fit": null,
       "object_position": null,
       "order": null,
       "overflow": null,
       "overflow_x": null,
       "overflow_y": null,
       "padding": null,
       "right": null,
       "top": null,
       "visibility": null,
       "width": null
      }
     },
     "290b866aa2d14919a5d1ff090c4a2202": {
      "model_module": "@jupyter-widgets/controls",
      "model_module_version": "1.5.0",
      "model_name": "DescriptionStyleModel",
      "state": {
       "_model_module": "@jupyter-widgets/controls",
       "_model_module_version": "1.5.0",
       "_model_name": "DescriptionStyleModel",
       "_view_count": null,
       "_view_module": "@jupyter-widgets/base",
       "_view_module_version": "1.2.0",
       "_view_name": "StyleView",
       "description_width": ""
      }
     },
     "2ec69c048c594ff18f80147a4896878a": {
      "model_module": "@jupyter-widgets/controls",
      "model_module_version": "1.5.0",
      "model_name": "HTMLModel",
      "state": {
       "_dom_classes": [],
       "_model_module": "@jupyter-widgets/controls",
       "_model_module_version": "1.5.0",
       "_model_name": "HTMLModel",
       "_view_count": null,
       "_view_module": "@jupyter-widgets/controls",
       "_view_module_version": "1.5.0",
       "_view_name": "HTMLView",
       "description": "",
       "description_tooltip": null,
       "layout": "IPY_MODEL_be6073577f334d8ca9a8771a80df207e",
       "placeholder": "​",
       "style": "IPY_MODEL_10379bbe1c7347ac9a93b796464586a3",
       "value": "vocab.txt: 100%"
      }
     },
     "348f8a378cc14c798460694d0f7af116": {
      "model_module": "@jupyter-widgets/base",
      "model_module_version": "1.2.0",
      "model_name": "LayoutModel",
      "state": {
       "_model_module": "@jupyter-widgets/base",
       "_model_module_version": "1.2.0",
       "_model_name": "LayoutModel",
       "_view_count": null,
       "_view_module": "@jupyter-widgets/base",
       "_view_module_version": "1.2.0",
       "_view_name": "LayoutView",
       "align_content": null,
       "align_items": null,
       "align_self": null,
       "border": null,
       "bottom": null,
       "display": null,
       "flex": null,
       "flex_flow": null,
       "grid_area": null,
       "grid_auto_columns": null,
       "grid_auto_flow": null,
       "grid_auto_rows": null,
       "grid_column": null,
       "grid_gap": null,
       "grid_row": null,
       "grid_template_areas": null,
       "grid_template_columns": null,
       "grid_template_rows": null,
       "height": null,
       "justify_content": null,
       "justify_items": null,
       "left": null,
       "margin": null,
       "max_height": null,
       "max_width": null,
       "min_height": null,
       "min_width": null,
       "object_fit": null,
       "object_position": null,
       "order": null,
       "overflow": null,
       "overflow_x": null,
       "overflow_y": null,
       "padding": null,
       "right": null,
       "top": null,
       "visibility": null,
       "width": null
      }
     },
     "36966d155592454d9761410386876783": {
      "model_module": "@jupyter-widgets/base",
      "model_module_version": "1.2.0",
      "model_name": "LayoutModel",
      "state": {
       "_model_module": "@jupyter-widgets/base",
       "_model_module_version": "1.2.0",
       "_model_name": "LayoutModel",
       "_view_count": null,
       "_view_module": "@jupyter-widgets/base",
       "_view_module_version": "1.2.0",
       "_view_name": "LayoutView",
       "align_content": null,
       "align_items": null,
       "align_self": null,
       "border": null,
       "bottom": null,
       "display": null,
       "flex": null,
       "flex_flow": null,
       "grid_area": null,
       "grid_auto_columns": null,
       "grid_auto_flow": null,
       "grid_auto_rows": null,
       "grid_column": null,
       "grid_gap": null,
       "grid_row": null,
       "grid_template_areas": null,
       "grid_template_columns": null,
       "grid_template_rows": null,
       "height": null,
       "justify_content": null,
       "justify_items": null,
       "left": null,
       "margin": null,
       "max_height": null,
       "max_width": null,
       "min_height": null,
       "min_width": null,
       "object_fit": null,
       "object_position": null,
       "order": null,
       "overflow": null,
       "overflow_x": null,
       "overflow_y": null,
       "padding": null,
       "right": null,
       "top": null,
       "visibility": null,
       "width": null
      }
     },
     "36d20b9e16e747769c5f696f40a1cf49": {
      "model_module": "@jupyter-widgets/controls",
      "model_module_version": "1.5.0",
      "model_name": "HTMLModel",
      "state": {
       "_dom_classes": [],
       "_model_module": "@jupyter-widgets/controls",
       "_model_module_version": "1.5.0",
       "_model_name": "HTMLModel",
       "_view_count": null,
       "_view_module": "@jupyter-widgets/controls",
       "_view_module_version": "1.5.0",
       "_view_name": "HTMLView",
       "description": "",
       "description_tooltip": null,
       "layout": "IPY_MODEL_01bee3a55f7548a6906a6d9e93cba1d7",
       "placeholder": "​",
       "style": "IPY_MODEL_e2961a3fb94b43439c7727427d514bdc",
       "value": " 123/123 [00:00&lt;00:00, 10.9kB/s]"
      }
     },
     "3838ce86dd0c47a8b05816a51953dbb9": {
      "model_module": "@jupyter-widgets/controls",
      "model_module_version": "1.5.0",
      "model_name": "FloatProgressModel",
      "state": {
       "_dom_classes": [],
       "_model_module": "@jupyter-widgets/controls",
       "_model_module_version": "1.5.0",
       "_model_name": "FloatProgressModel",
       "_view_count": null,
       "_view_module": "@jupyter-widgets/controls",
       "_view_module_version": "1.5.0",
       "_view_name": "ProgressView",
       "bar_style": "success",
       "description": "",
       "description_tooltip": null,
       "layout": "IPY_MODEL_089c32a46a954779ae8a3595495f3ce2",
       "max": 125.0,
       "min": 0.0,
       "orientation": "horizontal",
       "style": "IPY_MODEL_fd52557cf45d4c03b3590a4d94f310b7",
       "value": 125.0
      }
     },
     "38e6e264c974422ba8f2a944d6605e23": {
      "model_module": "@jupyter-widgets/base",
      "model_module_version": "1.2.0",
      "model_name": "LayoutModel",
      "state": {
       "_model_module": "@jupyter-widgets/base",
       "_model_module_version": "1.2.0",
       "_model_name": "LayoutModel",
       "_view_count": null,
       "_view_module": "@jupyter-widgets/base",
       "_view_module_version": "1.2.0",
       "_view_name": "LayoutView",
       "align_content": null,
       "align_items": null,
       "align_self": null,
       "border": null,
       "bottom": null,
       "display": null,
       "flex": null,
       "flex_flow": null,
       "grid_area": null,
       "grid_auto_columns": null,
       "grid_auto_flow": null,
       "grid_auto_rows": null,
       "grid_column": null,
       "grid_gap": null,
       "grid_row": null,
       "grid_template_areas": null,
       "grid_template_columns": null,
       "grid_template_rows": null,
       "height": null,
       "justify_content": null,
       "justify_items": null,
       "left": null,
       "margin": null,
       "max_height": null,
       "max_width": null,
       "min_height": null,
       "min_width": null,
       "object_fit": null,
       "object_position": null,
       "order": null,
       "overflow": null,
       "overflow_x": null,
       "overflow_y": null,
       "padding": null,
       "right": null,
       "top": null,
       "visibility": null,
       "width": null
      }
     },
     "3e644eb7b6cf48e0a8d1aa6df3bbf53e": {
      "model_module": "@jupyter-widgets/controls",
      "model_module_version": "1.5.0",
      "model_name": "HTMLModel",
      "state": {
       "_dom_classes": [],
       "_model_module": "@jupyter-widgets/controls",
       "_model_module_version": "1.5.0",
       "_model_name": "HTMLModel",
       "_view_count": null,
       "_view_module": "@jupyter-widgets/controls",
       "_view_module_version": "1.5.0",
       "_view_name": "HTMLView",
       "description": "",
       "description_tooltip": null,
       "layout": "IPY_MODEL_36966d155592454d9761410386876783",
       "placeholder": "​",
       "style": "IPY_MODEL_b4335da6174e4a08a58d9fc8f4b2812f",
       "value": " 270/270 [00:00&lt;00:00, 22.6kB/s]"
      }
     },
     "420754707b284fe5b4577af11b254142": {
      "model_module": "@jupyter-widgets/base",
      "model_module_version": "1.2.0",
      "model_name": "LayoutModel",
      "state": {
       "_model_module": "@jupyter-widgets/base",
       "_model_module_version": "1.2.0",
       "_model_name": "LayoutModel",
       "_view_count": null,
       "_view_module": "@jupyter-widgets/base",
       "_view_module_version": "1.2.0",
       "_view_name": "LayoutView",
       "align_content": null,
       "align_items": null,
       "align_self": null,
       "border": null,
       "bottom": null,
       "display": null,
       "flex": null,
       "flex_flow": null,
       "grid_area": null,
       "grid_auto_columns": null,
       "grid_auto_flow": null,
       "grid_auto_rows": null,
       "grid_column": null,
       "grid_gap": null,
       "grid_row": null,
       "grid_template_areas": null,
       "grid_template_columns": null,
       "grid_template_rows": null,
       "height": null,
       "justify_content": null,
       "justify_items": null,
       "left": null,
       "margin": null,
       "max_height": null,
       "max_width": null,
       "min_height": null,
       "min_width": null,
       "object_fit": null,
       "object_position": null,
       "order": null,
       "overflow": null,
       "overflow_x": null,
       "overflow_y": null,
       "padding": null,
       "right": null,
       "top": null,
       "visibility": null,
       "width": null
      }
     },
     "424e83a623804319a07f47b23379709f": {
      "model_module": "@jupyter-widgets/controls",
      "model_module_version": "1.5.0",
      "model_name": "HTMLModel",
      "state": {
       "_dom_classes": [],
       "_model_module": "@jupyter-widgets/controls",
       "_model_module_version": "1.5.0",
       "_model_name": "HTMLModel",
       "_view_count": null,
       "_view_module": "@jupyter-widgets/controls",
       "_view_module_version": "1.5.0",
       "_view_name": "HTMLView",
       "description": "",
       "description_tooltip": null,
       "layout": "IPY_MODEL_7871104d580d430ca3ccdb1b43a84b3f",
       "placeholder": "​",
       "style": "IPY_MODEL_ad1d7f2a63ad48cf9431dd34f0754690",
       "value": "tokenizer_config.json: 100%"
      }
     },
     "46138b59d6a440bb9609fd6ee18d42e6": {
      "model_module": "@jupyter-widgets/controls",
      "model_module_version": "1.5.0",
      "model_name": "HBoxModel",
      "state": {
       "_dom_classes": [],
       "_model_module": "@jupyter-widgets/controls",
       "_model_module_version": "1.5.0",
       "_model_name": "HBoxModel",
       "_view_count": null,
       "_view_module": "@jupyter-widgets/controls",
       "_view_module_version": "1.5.0",
       "_view_name": "HBoxView",
       "box_style": "",
       "children": [
        "IPY_MODEL_424e83a623804319a07f47b23379709f",
        "IPY_MODEL_bde45bd2e55148d493099686fb755342",
        "IPY_MODEL_a6c41bf3ae7a4169b65233b3ac3cc58e"
       ],
       "layout": "IPY_MODEL_d78c45e0126145c48444862468f5fe85"
      }
     },
     "4aab44c6c224442c824334eb3e4af7da": {
      "model_module": "@jupyter-widgets/controls",
      "model_module_version": "1.5.0",
      "model_name": "FloatProgressModel",
      "state": {
       "_dom_classes": [],
       "_model_module": "@jupyter-widgets/controls",
       "_model_module_version": "1.5.0",
       "_model_name": "FloatProgressModel",
       "_view_count": null,
       "_view_module": "@jupyter-widgets/controls",
       "_view_module_version": "1.5.0",
       "_view_name": "ProgressView",
       "bar_style": "success",
       "description": "",
       "description_tooltip": null,
       "layout": "IPY_MODEL_25127aa78af948379b43a3309700eae4",
       "max": 709279.0,
       "min": 0.0,
       "orientation": "horizontal",
       "style": "IPY_MODEL_c4c21b52a4e4482791bb20c5bd21ef7e",
       "value": 709279.0
      }
     },
     "4b941c28211440f1b90e37781bab562d": {
      "model_module": "@jupyter-widgets/base",
      "model_module_version": "1.2.0",
      "model_name": "LayoutModel",
      "state": {
       "_model_module": "@jupyter-widgets/base",
       "_model_module_version": "1.2.0",
       "_model_name": "LayoutModel",
       "_view_count": null,
       "_view_module": "@jupyter-widgets/base",
       "_view_module_version": "1.2.0",
       "_view_name": "LayoutView",
       "align_content": null,
       "align_items": null,
       "align_self": null,
       "border": null,
       "bottom": null,
       "display": null,
       "flex": null,
       "flex_flow": null,
       "grid_area": null,
       "grid_auto_columns": null,
       "grid_auto_flow": null,
       "grid_auto_rows": null,
       "grid_column": null,
       "grid_gap": null,
       "grid_row": null,
       "grid_template_areas": null,
       "grid_template_columns": null,
       "grid_template_rows": null,
       "height": null,
       "justify_content": null,
       "justify_items": null,
       "left": null,
       "margin": null,
       "max_height": null,
       "max_width": null,
       "min_height": null,
       "min_width": null,
       "object_fit": null,
       "object_position": null,
       "order": null,
       "overflow": null,
       "overflow_x": null,
       "overflow_y": null,
       "padding": null,
       "right": null,
       "top": null,
       "visibility": null,
       "width": null
      }
     },
     "4d5581ea03534a058c12a0f2feeed246": {
      "model_module": "@jupyter-widgets/base",
      "model_module_version": "1.2.0",
      "model_name": "LayoutModel",
      "state": {
       "_model_module": "@jupyter-widgets/base",
       "_model_module_version": "1.2.0",
       "_model_name": "LayoutModel",
       "_view_count": null,
       "_view_module": "@jupyter-widgets/base",
       "_view_module_version": "1.2.0",
       "_view_name": "LayoutView",
       "align_content": null,
       "align_items": null,
       "align_self": null,
       "border": null,
       "bottom": null,
       "display": null,
       "flex": null,
       "flex_flow": null,
       "grid_area": null,
       "grid_auto_columns": null,
       "grid_auto_flow": null,
       "grid_auto_rows": null,
       "grid_column": null,
       "grid_gap": null,
       "grid_row": null,
       "grid_template_areas": null,
       "grid_template_columns": null,
       "grid_template_rows": null,
       "height": null,
       "justify_content": null,
       "justify_items": null,
       "left": null,
       "margin": null,
       "max_height": null,
       "max_width": null,
       "min_height": null,
       "min_width": null,
       "object_fit": null,
       "object_position": null,
       "order": null,
       "overflow": null,
       "overflow_x": null,
       "overflow_y": null,
       "padding": null,
       "right": null,
       "top": null,
       "visibility": null,
       "width": null
      }
     },
     "501b9c526332488f9f3973b3b5742096": {
      "model_module": "@jupyter-widgets/base",
      "model_module_version": "1.2.0",
      "model_name": "LayoutModel",
      "state": {
       "_model_module": "@jupyter-widgets/base",
       "_model_module_version": "1.2.0",
       "_model_name": "LayoutModel",
       "_view_count": null,
       "_view_module": "@jupyter-widgets/base",
       "_view_module_version": "1.2.0",
       "_view_name": "LayoutView",
       "align_content": null,
       "align_items": null,
       "align_self": null,
       "border": null,
       "bottom": null,
       "display": null,
       "flex": null,
       "flex_flow": null,
       "grid_area": null,
       "grid_auto_columns": null,
       "grid_auto_flow": null,
       "grid_auto_rows": null,
       "grid_column": null,
       "grid_gap": null,
       "grid_row": null,
       "grid_template_areas": null,
       "grid_template_columns": null,
       "grid_template_rows": null,
       "height": null,
       "justify_content": null,
       "justify_items": null,
       "left": null,
       "margin": null,
       "max_height": null,
       "max_width": null,
       "min_height": null,
       "min_width": null,
       "object_fit": null,
       "object_position": null,
       "order": null,
       "overflow": null,
       "overflow_x": null,
       "overflow_y": null,
       "padding": null,
       "right": null,
       "top": null,
       "visibility": null,
       "width": null
      }
     },
     "517bc221d07c49b0abd9ba34aba430f1": {
      "model_module": "@jupyter-widgets/base",
      "model_module_version": "1.2.0",
      "model_name": "LayoutModel",
      "state": {
       "_model_module": "@jupyter-widgets/base",
       "_model_module_version": "1.2.0",
       "_model_name": "LayoutModel",
       "_view_count": null,
       "_view_module": "@jupyter-widgets/base",
       "_view_module_version": "1.2.0",
       "_view_name": "LayoutView",
       "align_content": null,
       "align_items": null,
       "align_self": null,
       "border": null,
       "bottom": null,
       "display": null,
       "flex": null,
       "flex_flow": null,
       "grid_area": null,
       "grid_auto_columns": null,
       "grid_auto_flow": null,
       "grid_auto_rows": null,
       "grid_column": null,
       "grid_gap": null,
       "grid_row": null,
       "grid_template_areas": null,
       "grid_template_columns": null,
       "grid_template_rows": null,
       "height": null,
       "justify_content": null,
       "justify_items": null,
       "left": null,
       "margin": null,
       "max_height": null,
       "max_width": null,
       "min_height": null,
       "min_width": null,
       "object_fit": null,
       "object_position": null,
       "order": null,
       "overflow": null,
       "overflow_x": null,
       "overflow_y": null,
       "padding": null,
       "right": null,
       "top": null,
       "visibility": null,
       "width": null
      }
     },
     "529873d5f1ab4abe9e1ff3856af27fea": {
      "model_module": "@jupyter-widgets/controls",
      "model_module_version": "1.5.0",
      "model_name": "HTMLModel",
      "state": {
       "_dom_classes": [],
       "_model_module": "@jupyter-widgets/controls",
       "_model_module_version": "1.5.0",
       "_model_name": "HTMLModel",
       "_view_count": null,
       "_view_module": "@jupyter-widgets/controls",
       "_view_module_version": "1.5.0",
       "_view_name": "HTMLView",
       "description": "",
       "description_tooltip": null,
       "layout": "IPY_MODEL_348f8a378cc14c798460694d0f7af116",
       "placeholder": "​",
       "style": "IPY_MODEL_0cdbb4653ddd4bc89a889d3bf3c2d9e9",
       "value": "modules.json: 100%"
      }
     },
     "534a4252452f451c96550d102f354392": {
      "model_module": "@jupyter-widgets/controls",
      "model_module_version": "1.5.0",
      "model_name": "HBoxModel",
      "state": {
       "_dom_classes": [],
       "_model_module": "@jupyter-widgets/controls",
       "_model_module_version": "1.5.0",
       "_model_name": "HBoxModel",
       "_view_count": null,
       "_view_module": "@jupyter-widgets/controls",
       "_view_module_version": "1.5.0",
       "_view_name": "HBoxView",
       "box_style": "",
       "children": [
        "IPY_MODEL_580580af85394f5f9b4ebd01d065bbd6",
        "IPY_MODEL_4aab44c6c224442c824334eb3e4af7da",
        "IPY_MODEL_643e570fdeaf496390b0649985f5177c"
       ],
       "layout": "IPY_MODEL_93beb8b75cd44e0fb597ce603d098ff5"
      }
     },
     "54893a07c8bb4244a4b5ce12b76af2bc": {
      "model_module": "@jupyter-widgets/controls",
      "model_module_version": "1.5.0",
      "model_name": "HTMLModel",
      "state": {
       "_dom_classes": [],
       "_model_module": "@jupyter-widgets/controls",
       "_model_module_version": "1.5.0",
       "_model_name": "HTMLModel",
       "_view_count": null,
       "_view_module": "@jupyter-widgets/controls",
       "_view_module_version": "1.5.0",
       "_view_name": "HTMLView",
       "description": "",
       "description_tooltip": null,
       "layout": "IPY_MODEL_c4f4c92dab544a30b5e39c6692582d41",
       "placeholder": "​",
       "style": "IPY_MODEL_c24db31794e24b9286983bcb017acdd0",
       "value": " 1.53k/1.53k [00:00&lt;00:00, 127kB/s]"
      }
     },
     "57948971937947878424ea55b61dbe9e": {
      "model_module": "@jupyter-widgets/base",
      "model_module_version": "1.2.0",
      "model_name": "LayoutModel",
      "state": {
       "_model_module": "@jupyter-widgets/base",
       "_model_module_version": "1.2.0",
       "_model_name": "LayoutModel",
       "_view_count": null,
       "_view_module": "@jupyter-widgets/base",
       "_view_module_version": "1.2.0",
       "_view_name": "LayoutView",
       "align_content": null,
       "align_items": null,
       "align_self": null,
       "border": null,
       "bottom": null,
       "display": null,
       "flex": null,
       "flex_flow": null,
       "grid_area": null,
       "grid_auto_columns": null,
       "grid_auto_flow": null,
       "grid_auto_rows": null,
       "grid_column": null,
       "grid_gap": null,
       "grid_row": null,
       "grid_template_areas": null,
       "grid_template_columns": null,
       "grid_template_rows": null,
       "height": null,
       "justify_content": null,
       "justify_items": null,
       "left": null,
       "margin": null,
       "max_height": null,
       "max_width": null,
       "min_height": null,
       "min_width": null,
       "object_fit": null,
       "object_position": null,
       "order": null,
       "overflow": null,
       "overflow_x": null,
       "overflow_y": null,
       "padding": null,
       "right": null,
       "top": null,
       "visibility": null,
       "width": null
      }
     },
     "5796ff12d8d747a09b001151bd492701": {
      "model_module": "@jupyter-widgets/base",
      "model_module_version": "1.2.0",
      "model_name": "LayoutModel",
      "state": {
       "_model_module": "@jupyter-widgets/base",
       "_model_module_version": "1.2.0",
       "_model_name": "LayoutModel",
       "_view_count": null,
       "_view_module": "@jupyter-widgets/base",
       "_view_module_version": "1.2.0",
       "_view_name": "LayoutView",
       "align_content": null,
       "align_items": null,
       "align_self": null,
       "border": null,
       "bottom": null,
       "display": null,
       "flex": null,
       "flex_flow": null,
       "grid_area": null,
       "grid_auto_columns": null,
       "grid_auto_flow": null,
       "grid_auto_rows": null,
       "grid_column": null,
       "grid_gap": null,
       "grid_row": null,
       "grid_template_areas": null,
       "grid_template_columns": null,
       "grid_template_rows": null,
       "height": null,
       "justify_content": null,
       "justify_items": null,
       "left": null,
       "margin": null,
       "max_height": null,
       "max_width": null,
       "min_height": null,
       "min_width": null,
       "object_fit": null,
       "object_position": null,
       "order": null,
       "overflow": null,
       "overflow_x": null,
       "overflow_y": null,
       "padding": null,
       "right": null,
       "top": null,
       "visibility": null,
       "width": null
      }
     },
     "580580af85394f5f9b4ebd01d065bbd6": {
      "model_module": "@jupyter-widgets/controls",
      "model_module_version": "1.5.0",
      "model_name": "HTMLModel",
      "state": {
       "_dom_classes": [],
       "_model_module": "@jupyter-widgets/controls",
       "_model_module_version": "1.5.0",
       "_model_name": "HTMLModel",
       "_view_count": null,
       "_view_module": "@jupyter-widgets/controls",
       "_view_module_version": "1.5.0",
       "_view_name": "HTMLView",
       "description": "",
       "description_tooltip": null,
       "layout": "IPY_MODEL_ff11c82c59f949d88e5283339a475900",
       "placeholder": "​",
       "style": "IPY_MODEL_9d9c7fc547164c4687c8113ee6d80d1d",
       "value": "tokenizer.json: 100%"
      }
     },
     "581d466710604da8ab02a2d88655833a": {
      "model_module": "@jupyter-widgets/base",
      "model_module_version": "1.2.0",
      "model_name": "LayoutModel",
      "state": {
       "_model_module": "@jupyter-widgets/base",
       "_model_module_version": "1.2.0",
       "_model_name": "LayoutModel",
       "_view_count": null,
       "_view_module": "@jupyter-widgets/base",
       "_view_module_version": "1.2.0",
       "_view_name": "LayoutView",
       "align_content": null,
       "align_items": null,
       "align_self": null,
       "border": null,
       "bottom": null,
       "display": null,
       "flex": null,
       "flex_flow": null,
       "grid_area": null,
       "grid_auto_columns": null,
       "grid_auto_flow": null,
       "grid_auto_rows": null,
       "grid_column": null,
       "grid_gap": null,
       "grid_row": null,
       "grid_template_areas": null,
       "grid_template_columns": null,
       "grid_template_rows": null,
       "height": null,
       "justify_content": null,
       "justify_items": null,
       "left": null,
       "margin": null,
       "max_height": null,
       "max_width": null,
       "min_height": null,
       "min_width": null,
       "object_fit": null,
       "object_position": null,
       "order": null,
       "overflow": null,
       "overflow_x": null,
       "overflow_y": null,
       "padding": null,
       "right": null,
       "top": null,
       "visibility": null,
       "width": null
      }
     },
     "5a4e0d7636c142d0b331e7a3d5fa5827": {
      "model_module": "@jupyter-widgets/controls",
      "model_module_version": "1.5.0",
      "model_name": "FloatProgressModel",
      "state": {
       "_dom_classes": [],
       "_model_module": "@jupyter-widgets/controls",
       "_model_module_version": "1.5.0",
       "_model_name": "FloatProgressModel",
       "_view_count": null,
       "_view_module": "@jupyter-widgets/controls",
       "_view_module_version": "1.5.0",
       "_view_name": "ProgressView",
       "bar_style": "success",
       "description": "",
       "description_tooltip": null,
       "layout": "IPY_MODEL_1121b630d70b40389f3d09ccdcce2f3e",
       "max": 1100.0,
       "min": 0.0,
       "orientation": "horizontal",
       "style": "IPY_MODEL_fbf018ccc51445d08a60f8de64f704c2",
       "value": 1100.0
      }
     },
     "5b227e992cea4253a245794027176037": {
      "model_module": "@jupyter-widgets/controls",
      "model_module_version": "1.5.0",
      "model_name": "ProgressStyleModel",
      "state": {
       "_model_module": "@jupyter-widgets/controls",
       "_model_module_version": "1.5.0",
       "_model_name": "ProgressStyleModel",
       "_view_count": null,
       "_view_module": "@jupyter-widgets/base",
       "_view_module_version": "1.2.0",
       "_view_name": "StyleView",
       "bar_color": null,
       "description_width": ""
      }
     },
     "5c8f043fb10343d3ab1da7e554358dfc": {
      "model_module": "@jupyter-widgets/controls",
      "model_module_version": "1.5.0",
      "model_name": "HBoxModel",
      "state": {
       "_dom_classes": [],
       "_model_module": "@jupyter-widgets/controls",
       "_model_module_version": "1.5.0",
       "_model_name": "HBoxModel",
       "_view_count": null,
       "_view_module": "@jupyter-widgets/controls",
       "_view_module_version": "1.5.0",
       "_view_name": "HBoxView",
       "box_style": "",
       "children": [
        "IPY_MODEL_b950e60413e8400db08e6f0aadefb61f",
        "IPY_MODEL_3838ce86dd0c47a8b05816a51953dbb9",
        "IPY_MODEL_b83718408647436eace84f30f0635adf"
       ],
       "layout": "IPY_MODEL_ff9955da4c994729add44201cd976dab"
      }
     },
     "5f91c3eef0c0458ea74550280e104bed": {
      "model_module": "@jupyter-widgets/controls",
      "model_module_version": "1.5.0",
      "model_name": "ProgressStyleModel",
      "state": {
       "_model_module": "@jupyter-widgets/controls",
       "_model_module_version": "1.5.0",
       "_model_name": "ProgressStyleModel",
       "_view_count": null,
       "_view_module": "@jupyter-widgets/base",
       "_view_module_version": "1.2.0",
       "_view_name": "StyleView",
       "bar_color": null,
       "description_width": ""
      }
     },
     "602ace2aaee341c98f942bce1ce1d0ba": {
      "model_module": "@jupyter-widgets/controls",
      "model_module_version": "1.5.0",
      "model_name": "DescriptionStyleModel",
      "state": {
       "_model_module": "@jupyter-widgets/controls",
       "_model_module_version": "1.5.0",
       "_model_name": "DescriptionStyleModel",
       "_view_count": null,
       "_view_module": "@jupyter-widgets/base",
       "_view_module_version": "1.2.0",
       "_view_name": "StyleView",
       "description_width": ""
      }
     },
     "60d5f73b560242118ef2f0374e6854e3": {
      "model_module": "@jupyter-widgets/controls",
      "model_module_version": "1.5.0",
      "model_name": "ProgressStyleModel",
      "state": {
       "_model_module": "@jupyter-widgets/controls",
       "_model_module_version": "1.5.0",
       "_model_name": "ProgressStyleModel",
       "_view_count": null,
       "_view_module": "@jupyter-widgets/base",
       "_view_module_version": "1.2.0",
       "_view_name": "StyleView",
       "bar_color": null,
       "description_width": ""
      }
     },
     "62979fe70ffd4f908dc5a81b75b61c3b": {
      "model_module": "@jupyter-widgets/controls",
      "model_module_version": "1.5.0",
      "model_name": "HTMLModel",
      "state": {
       "_dom_classes": [],
       "_model_module": "@jupyter-widgets/controls",
       "_model_module_version": "1.5.0",
       "_model_name": "HTMLModel",
       "_view_count": null,
       "_view_module": "@jupyter-widgets/controls",
       "_view_module_version": "1.5.0",
       "_view_name": "HTMLView",
       "description": "",
       "description_tooltip": null,
       "layout": "IPY_MODEL_f9a7b384f28947fdb8e4a546e160de3b",
       "placeholder": "​",
       "style": "IPY_MODEL_602ace2aaee341c98f942bce1ce1d0ba",
       "value": " 1.10k/1.10k [00:00&lt;00:00, 86.5kB/s]"
      }
     },
     "643487a5ed2840dfaea2820e9fe9e200": {
      "model_module": "@jupyter-widgets/controls",
      "model_module_version": "1.5.0",
      "model_name": "DescriptionStyleModel",
      "state": {
       "_model_module": "@jupyter-widgets/controls",
       "_model_module_version": "1.5.0",
       "_model_name": "DescriptionStyleModel",
       "_view_count": null,
       "_view_module": "@jupyter-widgets/base",
       "_view_module_version": "1.2.0",
       "_view_name": "StyleView",
       "description_width": ""
      }
     },
     "643e570fdeaf496390b0649985f5177c": {
      "model_module": "@jupyter-widgets/controls",
      "model_module_version": "1.5.0",
      "model_name": "HTMLModel",
      "state": {
       "_dom_classes": [],
       "_model_module": "@jupyter-widgets/controls",
       "_model_module_version": "1.5.0",
       "_model_name": "HTMLModel",
       "_view_count": null,
       "_view_module": "@jupyter-widgets/controls",
       "_view_module_version": "1.5.0",
       "_view_name": "HTMLView",
       "description": "",
       "description_tooltip": null,
       "layout": "IPY_MODEL_1ba892310c144945b6d952d12c50f462",
       "placeholder": "​",
       "style": "IPY_MODEL_8bbf3be006724740921e8d312d589b43",
       "value": " 709k/709k [00:00&lt;00:00, 14.8MB/s]"
      }
     },
     "6ddd4edc8ed94f58a364a5cf6b5d19cf": {
      "model_module": "@jupyter-widgets/base",
      "model_module_version": "1.2.0",
      "model_name": "LayoutModel",
      "state": {
       "_model_module": "@jupyter-widgets/base",
       "_model_module_version": "1.2.0",
       "_model_name": "LayoutModel",
       "_view_count": null,
       "_view_module": "@jupyter-widgets/base",
       "_view_module_version": "1.2.0",
       "_view_name": "LayoutView",
       "align_content": null,
       "align_items": null,
       "align_self": null,
       "border": null,
       "bottom": null,
       "display": null,
       "flex": null,
       "flex_flow": null,
       "grid_area": null,
       "grid_auto_columns": null,
       "grid_auto_flow": null,
       "grid_auto_rows": null,
       "grid_column": null,
       "grid_gap": null,
       "grid_row": null,
       "grid_template_areas": null,
       "grid_template_columns": null,
       "grid_template_rows": null,
       "height": null,
       "justify_content": null,
       "justify_items": null,
       "left": null,
       "margin": null,
       "max_height": null,
       "max_width": null,
       "min_height": null,
       "min_width": null,
       "object_fit": null,
       "object_position": null,
       "order": null,
       "overflow": null,
       "overflow_x": null,
       "overflow_y": null,
       "padding": null,
       "right": null,
       "top": null,
       "visibility": null,
       "width": null
      }
     },
     "6f4875a6394945e49fadc8a17edce92c": {
      "model_module": "@jupyter-widgets/controls",
      "model_module_version": "1.5.0",
      "model_name": "HTMLModel",
      "state": {
       "_dom_classes": [],
       "_model_module": "@jupyter-widgets/controls",
       "_model_module_version": "1.5.0",
       "_model_name": "HTMLModel",
       "_view_count": null,
       "_view_module": "@jupyter-widgets/controls",
       "_view_module_version": "1.5.0",
       "_view_name": "HTMLView",
       "description": "",
       "description_tooltip": null,
       "layout": "IPY_MODEL_0bfdf53686454254940672593a7c2928",
       "placeholder": "​",
       "style": "IPY_MODEL_ac4acac45d53469887e5d4cb99f62173",
       "value": " 498M/498M [00:08&lt;00:00, 86.4MB/s]"
      }
     },
     "6fa675aa31b042e2b9a01963aa032924": {
      "model_module": "@jupyter-widgets/base",
      "model_module_version": "1.2.0",
      "model_name": "LayoutModel",
      "state": {
       "_model_module": "@jupyter-widgets/base",
       "_model_module_version": "1.2.0",
       "_model_name": "LayoutModel",
       "_view_count": null,
       "_view_module": "@jupyter-widgets/base",
       "_view_module_version": "1.2.0",
       "_view_name": "LayoutView",
       "align_content": null,
       "align_items": null,
       "align_self": null,
       "border": null,
       "bottom": null,
       "display": null,
       "flex": null,
       "flex_flow": null,
       "grid_area": null,
       "grid_auto_columns": null,
       "grid_auto_flow": null,
       "grid_auto_rows": null,
       "grid_column": null,
       "grid_gap": null,
       "grid_row": null,
       "grid_template_areas": null,
       "grid_template_columns": null,
       "grid_template_rows": null,
       "height": null,
       "justify_content": null,
       "justify_items": null,
       "left": null,
       "margin": null,
       "max_height": null,
       "max_width": null,
       "min_height": null,
       "min_width": null,
       "object_fit": null,
       "object_position": null,
       "order": null,
       "overflow": null,
       "overflow_x": null,
       "overflow_y": null,
       "padding": null,
       "right": null,
       "top": null,
       "visibility": null,
       "width": null
      }
     },
     "717f128eb5fb4b0d8231b929d0232909": {
      "model_module": "@jupyter-widgets/base",
      "model_module_version": "1.2.0",
      "model_name": "LayoutModel",
      "state": {
       "_model_module": "@jupyter-widgets/base",
       "_model_module_version": "1.2.0",
       "_model_name": "LayoutModel",
       "_view_count": null,
       "_view_module": "@jupyter-widgets/base",
       "_view_module_version": "1.2.0",
       "_view_name": "LayoutView",
       "align_content": null,
       "align_items": null,
       "align_self": null,
       "border": null,
       "bottom": null,
       "display": null,
       "flex": null,
       "flex_flow": null,
       "grid_area": null,
       "grid_auto_columns": null,
       "grid_auto_flow": null,
       "grid_auto_rows": null,
       "grid_column": null,
       "grid_gap": null,
       "grid_row": null,
       "grid_template_areas": null,
       "grid_template_columns": null,
       "grid_template_rows": null,
       "height": null,
       "justify_content": null,
       "justify_items": null,
       "left": null,
       "margin": null,
       "max_height": null,
       "max_width": null,
       "min_height": null,
       "min_width": null,
       "object_fit": null,
       "object_position": null,
       "order": null,
       "overflow": null,
       "overflow_x": null,
       "overflow_y": null,
       "padding": null,
       "right": null,
       "top": null,
       "visibility": null,
       "width": null
      }
     },
     "73354ce7e19943c29c01fd4700a6c3dd": {
      "model_module": "@jupyter-widgets/base",
      "model_module_version": "1.2.0",
      "model_name": "LayoutModel",
      "state": {
       "_model_module": "@jupyter-widgets/base",
       "_model_module_version": "1.2.0",
       "_model_name": "LayoutModel",
       "_view_count": null,
       "_view_module": "@jupyter-widgets/base",
       "_view_module_version": "1.2.0",
       "_view_name": "LayoutView",
       "align_content": null,
       "align_items": null,
       "align_self": null,
       "border": null,
       "bottom": null,
       "display": null,
       "flex": null,
       "flex_flow": null,
       "grid_area": null,
       "grid_auto_columns": null,
       "grid_auto_flow": null,
       "grid_auto_rows": null,
       "grid_column": null,
       "grid_gap": null,
       "grid_row": null,
       "grid_template_areas": null,
       "grid_template_columns": null,
       "grid_template_rows": null,
       "height": null,
       "justify_content": null,
       "justify_items": null,
       "left": null,
       "margin": null,
       "max_height": null,
       "max_width": null,
       "min_height": null,
       "min_width": null,
       "object_fit": null,
       "object_position": null,
       "order": null,
       "overflow": null,
       "overflow_x": null,
       "overflow_y": null,
       "padding": null,
       "right": null,
       "top": null,
       "visibility": null,
       "width": null
      }
     },
     "763d956e111a4d76a95f5af5a21d0e2c": {
      "model_module": "@jupyter-widgets/controls",
      "model_module_version": "1.5.0",
      "model_name": "DescriptionStyleModel",
      "state": {
       "_model_module": "@jupyter-widgets/controls",
       "_model_module_version": "1.5.0",
       "_model_name": "DescriptionStyleModel",
       "_view_count": null,
       "_view_module": "@jupyter-widgets/base",
       "_view_module_version": "1.2.0",
       "_view_name": "StyleView",
       "description_width": ""
      }
     },
     "786a11cdfdc941e5acd4e9e4c7d76f7c": {
      "model_module": "@jupyter-widgets/controls",
      "model_module_version": "1.5.0",
      "model_name": "HBoxModel",
      "state": {
       "_dom_classes": [],
       "_model_module": "@jupyter-widgets/controls",
       "_model_module_version": "1.5.0",
       "_model_name": "HBoxModel",
       "_view_count": null,
       "_view_module": "@jupyter-widgets/controls",
       "_view_module_version": "1.5.0",
       "_view_name": "HBoxView",
       "box_style": "",
       "children": [
        "IPY_MODEL_c9de705e696943d6b045539cc1128db2",
        "IPY_MODEL_07709e2937834889b7a4369a9cf6e451",
        "IPY_MODEL_54893a07c8bb4244a4b5ce12b76af2bc"
       ],
       "layout": "IPY_MODEL_d1892366f468416785acb4fbf541ab97"
      }
     },
     "7871104d580d430ca3ccdb1b43a84b3f": {
      "model_module": "@jupyter-widgets/base",
      "model_module_version": "1.2.0",
      "model_name": "LayoutModel",
      "state": {
       "_model_module": "@jupyter-widgets/base",
       "_model_module_version": "1.2.0",
       "_model_name": "LayoutModel",
       "_view_count": null,
       "_view_module": "@jupyter-widgets/base",
       "_view_module_version": "1.2.0",
       "_view_name": "LayoutView",
       "align_content": null,
       "align_items": null,
       "align_self": null,
       "border": null,
       "bottom": null,
       "display": null,
       "flex": null,
       "flex_flow": null,
       "grid_area": null,
       "grid_auto_columns": null,
       "grid_auto_flow": null,
       "grid_auto_rows": null,
       "grid_column": null,
       "grid_gap": null,
       "grid_row": null,
       "grid_template_areas": null,
       "grid_template_columns": null,
       "grid_template_rows": null,
       "height": null,
       "justify_content": null,
       "justify_items": null,
       "left": null,
       "margin": null,
       "max_height": null,
       "max_width": null,
       "min_height": null,
       "min_width": null,
       "object_fit": null,
       "object_position": null,
       "order": null,
       "overflow": null,
       "overflow_x": null,
       "overflow_y": null,
       "padding": null,
       "right": null,
       "top": null,
       "visibility": null,
       "width": null
      }
     },
     "7956fed7e6f340f9a66741353391f12a": {
      "model_module": "@jupyter-widgets/controls",
      "model_module_version": "1.5.0",
      "model_name": "DescriptionStyleModel",
      "state": {
       "_model_module": "@jupyter-widgets/controls",
       "_model_module_version": "1.5.0",
       "_model_name": "DescriptionStyleModel",
       "_view_count": null,
       "_view_module": "@jupyter-widgets/base",
       "_view_module_version": "1.2.0",
       "_view_name": "StyleView",
       "description_width": ""
      }
     },
     "7973f58b43e14558ac673aff88d3e3dc": {
      "model_module": "@jupyter-widgets/controls",
      "model_module_version": "1.5.0",
      "model_name": "DescriptionStyleModel",
      "state": {
       "_model_module": "@jupyter-widgets/controls",
       "_model_module_version": "1.5.0",
       "_model_name": "DescriptionStyleModel",
       "_view_count": null,
       "_view_module": "@jupyter-widgets/base",
       "_view_module_version": "1.2.0",
       "_view_name": "StyleView",
       "description_width": ""
      }
     },
     "7e99fef914ad40038522d3d757894ff7": {
      "model_module": "@jupyter-widgets/base",
      "model_module_version": "1.2.0",
      "model_name": "LayoutModel",
      "state": {
       "_model_module": "@jupyter-widgets/base",
       "_model_module_version": "1.2.0",
       "_model_name": "LayoutModel",
       "_view_count": null,
       "_view_module": "@jupyter-widgets/base",
       "_view_module_version": "1.2.0",
       "_view_name": "LayoutView",
       "align_content": null,
       "align_items": null,
       "align_self": null,
       "border": null,
       "bottom": null,
       "display": null,
       "flex": null,
       "flex_flow": null,
       "grid_area": null,
       "grid_auto_columns": null,
       "grid_auto_flow": null,
       "grid_auto_rows": null,
       "grid_column": null,
       "grid_gap": null,
       "grid_row": null,
       "grid_template_areas": null,
       "grid_template_columns": null,
       "grid_template_rows": null,
       "height": null,
       "justify_content": null,
       "justify_items": null,
       "left": null,
       "margin": null,
       "max_height": null,
       "max_width": null,
       "min_height": null,
       "min_width": null,
       "object_fit": null,
       "object_position": null,
       "order": null,
       "overflow": null,
       "overflow_x": null,
       "overflow_y": null,
       "padding": null,
       "right": null,
       "top": null,
       "visibility": null,
       "width": null
      }
     },
     "84eb2f043e1541d090b484f31623e8cd": {
      "model_module": "@jupyter-widgets/controls",
      "model_module_version": "1.5.0",
      "model_name": "DescriptionStyleModel",
      "state": {
       "_model_module": "@jupyter-widgets/controls",
       "_model_module_version": "1.5.0",
       "_model_name": "DescriptionStyleModel",
       "_view_count": null,
       "_view_module": "@jupyter-widgets/base",
       "_view_module_version": "1.2.0",
       "_view_name": "StyleView",
       "description_width": ""
      }
     },
     "8bbf3be006724740921e8d312d589b43": {
      "model_module": "@jupyter-widgets/controls",
      "model_module_version": "1.5.0",
      "model_name": "DescriptionStyleModel",
      "state": {
       "_model_module": "@jupyter-widgets/controls",
       "_model_module_version": "1.5.0",
       "_model_name": "DescriptionStyleModel",
       "_view_count": null,
       "_view_module": "@jupyter-widgets/base",
       "_view_module_version": "1.2.0",
       "_view_name": "StyleView",
       "description_width": ""
      }
     },
     "8d0841178c7e40b7abcc927ed9c0b14a": {
      "model_module": "@jupyter-widgets/controls",
      "model_module_version": "1.5.0",
      "model_name": "DescriptionStyleModel",
      "state": {
       "_model_module": "@jupyter-widgets/controls",
       "_model_module_version": "1.5.0",
       "_model_name": "DescriptionStyleModel",
       "_view_count": null,
       "_view_module": "@jupyter-widgets/base",
       "_view_module_version": "1.2.0",
       "_view_name": "StyleView",
       "description_width": ""
      }
     },
     "8f4a642e079643cfaef329a8c8d0b9d6": {
      "model_module": "@jupyter-widgets/controls",
      "model_module_version": "1.5.0",
      "model_name": "FloatProgressModel",
      "state": {
       "_dom_classes": [],
       "_model_module": "@jupyter-widgets/controls",
       "_model_module_version": "1.5.0",
       "_model_name": "FloatProgressModel",
       "_view_count": null,
       "_view_module": "@jupyter-widgets/controls",
       "_view_module_version": "1.5.0",
       "_view_name": "ProgressView",
       "bar_style": "success",
       "description": "",
       "description_tooltip": null,
       "layout": "IPY_MODEL_501b9c526332488f9f3973b3b5742096",
       "max": 4098.0,
       "min": 0.0,
       "orientation": "horizontal",
       "style": "IPY_MODEL_5f91c3eef0c0458ea74550280e104bed",
       "value": 4098.0
      }
     },
     "8facb3ad9ea1473daf20e87fa3a4e8a1": {
      "model_module": "@jupyter-widgets/controls",
      "model_module_version": "1.5.0",
      "model_name": "ProgressStyleModel",
      "state": {
       "_model_module": "@jupyter-widgets/controls",
       "_model_module_version": "1.5.0",
       "_model_name": "ProgressStyleModel",
       "_view_count": null,
       "_view_module": "@jupyter-widgets/base",
       "_view_module_version": "1.2.0",
       "_view_name": "StyleView",
       "bar_color": null,
       "description_width": ""
      }
     },
     "8fdb262971d0440fa197e575edb2fc0e": {
      "model_module": "@jupyter-widgets/controls",
      "model_module_version": "1.5.0",
      "model_name": "HBoxModel",
      "state": {
       "_dom_classes": [],
       "_model_module": "@jupyter-widgets/controls",
       "_model_module_version": "1.5.0",
       "_model_name": "HBoxModel",
       "_view_count": null,
       "_view_module": "@jupyter-widgets/controls",
       "_view_module_version": "1.5.0",
       "_view_name": "HBoxView",
       "box_style": "",
       "children": [
        "IPY_MODEL_da525d6264e842098c3c586b030b84c4",
        "IPY_MODEL_8f4a642e079643cfaef329a8c8d0b9d6",
        "IPY_MODEL_1f51bab6af244763931fd7475179a47e"
       ],
       "layout": "IPY_MODEL_420754707b284fe5b4577af11b254142"
      }
     },
     "90b254ce809946b1a9cc35ab42ed0a61": {
      "model_module": "@jupyter-widgets/controls",
      "model_module_version": "1.5.0",
      "model_name": "HTMLModel",
      "state": {
       "_dom_classes": [],
       "_model_module": "@jupyter-widgets/controls",
       "_model_module_version": "1.5.0",
       "_model_name": "HTMLModel",
       "_view_count": null,
       "_view_module": "@jupyter-widgets/controls",
       "_view_module_version": "1.5.0",
       "_view_name": "HTMLView",
       "description": "",
       "description_tooltip": null,
       "layout": "IPY_MODEL_e03765d1e82b49009770a119befeeeb5",
       "placeholder": "​",
       "style": "IPY_MODEL_f879a5016d9a4d62842dd1efc79385bb",
       "value": "sentence_bert_config.json: 100%"
      }
     },
     "93beb8b75cd44e0fb597ce603d098ff5": {
      "model_module": "@jupyter-widgets/base",
      "model_module_version": "1.2.0",
      "model_name": "LayoutModel",
      "state": {
       "_model_module": "@jupyter-widgets/base",
       "_model_module_version": "1.2.0",
       "_model_name": "LayoutModel",
       "_view_count": null,
       "_view_module": "@jupyter-widgets/base",
       "_view_module_version": "1.2.0",
       "_view_name": "LayoutView",
       "align_content": null,
       "align_items": null,
       "align_self": null,
       "border": null,
       "bottom": null,
       "display": null,
       "flex": null,
       "flex_flow": null,
       "grid_area": null,
       "grid_auto_columns": null,
       "grid_auto_flow": null,
       "grid_auto_rows": null,
       "grid_column": null,
       "grid_gap": null,
       "grid_row": null,
       "grid_template_areas": null,
       "grid_template_columns": null,
       "grid_template_rows": null,
       "height": null,
       "justify_content": null,
       "justify_items": null,
       "left": null,
       "margin": null,
       "max_height": null,
       "max_width": null,
       "min_height": null,
       "min_width": null,
       "object_fit": null,
       "object_position": null,
       "order": null,
       "overflow": null,
       "overflow_x": null,
       "overflow_y": null,
       "padding": null,
       "right": null,
       "top": null,
       "visibility": null,
       "width": null
      }
     },
     "9419fe7ad0ff4acdbaeec3b1626e2509": {
      "model_module": "@jupyter-widgets/controls",
      "model_module_version": "1.5.0",
      "model_name": "HBoxModel",
      "state": {
       "_dom_classes": [],
       "_model_module": "@jupyter-widgets/controls",
       "_model_module_version": "1.5.0",
       "_model_name": "HBoxModel",
       "_view_count": null,
       "_view_module": "@jupyter-widgets/controls",
       "_view_module_version": "1.5.0",
       "_view_name": "HBoxView",
       "box_style": "",
       "children": [
        "IPY_MODEL_2ec69c048c594ff18f80147a4896878a",
        "IPY_MODEL_16bda96cff3a47928146365d56fb7056",
        "IPY_MODEL_9e326272a91e42c4be207fdef284a13f"
       ],
       "layout": "IPY_MODEL_dfae7fbbbb3b4d999ffb7a3347b68ec6"
      }
     },
     "9577c7ec143d4333ba67cd15c7bb4171": {
      "model_module": "@jupyter-widgets/controls",
      "model_module_version": "1.5.0",
      "model_name": "ProgressStyleModel",
      "state": {
       "_model_module": "@jupyter-widgets/controls",
       "_model_module_version": "1.5.0",
       "_model_name": "ProgressStyleModel",
       "_view_count": null,
       "_view_module": "@jupyter-widgets/base",
       "_view_module_version": "1.2.0",
       "_view_name": "StyleView",
       "bar_color": null,
       "description_width": ""
      }
     },
     "9c0e97436c4842c3be2f906dcfea3051": {
      "model_module": "@jupyter-widgets/controls",
      "model_module_version": "1.5.0",
      "model_name": "HBoxModel",
      "state": {
       "_dom_classes": [],
       "_model_module": "@jupyter-widgets/controls",
       "_model_module_version": "1.5.0",
       "_model_name": "HBoxModel",
       "_view_count": null,
       "_view_module": "@jupyter-widgets/controls",
       "_view_module_version": "1.5.0",
       "_view_name": "HBoxView",
       "box_style": "",
       "children": [
        "IPY_MODEL_c054843331a34b3bac03715bd6c721cb",
        "IPY_MODEL_a8df11be18944193845dabe9f98ee6ff",
        "IPY_MODEL_6f4875a6394945e49fadc8a17edce92c"
       ],
       "layout": "IPY_MODEL_73354ce7e19943c29c01fd4700a6c3dd"
      }
     },
     "9d9c7fc547164c4687c8113ee6d80d1d": {
      "model_module": "@jupyter-widgets/controls",
      "model_module_version": "1.5.0",
      "model_name": "DescriptionStyleModel",
      "state": {
       "_model_module": "@jupyter-widgets/controls",
       "_model_module_version": "1.5.0",
       "_model_name": "DescriptionStyleModel",
       "_view_count": null,
       "_view_module": "@jupyter-widgets/base",
       "_view_module_version": "1.2.0",
       "_view_name": "StyleView",
       "description_width": ""
      }
     },
     "9e326272a91e42c4be207fdef284a13f": {
      "model_module": "@jupyter-widgets/controls",
      "model_module_version": "1.5.0",
      "model_name": "HTMLModel",
      "state": {
       "_dom_classes": [],
       "_model_module": "@jupyter-widgets/controls",
       "_model_module_version": "1.5.0",
       "_model_name": "HTMLModel",
       "_view_count": null,
       "_view_module": "@jupyter-widgets/controls",
       "_view_module_version": "1.5.0",
       "_view_name": "HTMLView",
       "description": "",
       "description_tooltip": null,
       "layout": "IPY_MODEL_ff10cfa2d84746e6a4f969e11a608633",
       "placeholder": "​",
       "style": "IPY_MODEL_f8b3dec6bae3480f86751a6115d3396d",
       "value": " 229k/229k [00:00&lt;00:00, 5.60MB/s]"
      }
     },
     "a4fe1e8da2f940e8b953c92e72560e8d": {
      "model_module": "@jupyter-widgets/controls",
      "model_module_version": "1.5.0",
      "model_name": "HBoxModel",
      "state": {
       "_dom_classes": [],
       "_model_module": "@jupyter-widgets/controls",
       "_model_module_version": "1.5.0",
       "_model_name": "HBoxModel",
       "_view_count": null,
       "_view_module": "@jupyter-widgets/controls",
       "_view_module_version": "1.5.0",
       "_view_name": "HBoxView",
       "box_style": "",
       "children": [
        "IPY_MODEL_0d8e7c8c916e4065a7e0fa443daac1d7",
        "IPY_MODEL_5a4e0d7636c142d0b331e7a3d5fa5827",
        "IPY_MODEL_62979fe70ffd4f908dc5a81b75b61c3b"
       ],
       "layout": "IPY_MODEL_4d5581ea03534a058c12a0f2feeed246"
      }
     },
     "a6c41bf3ae7a4169b65233b3ac3cc58e": {
      "model_module": "@jupyter-widgets/controls",
      "model_module_version": "1.5.0",
      "model_name": "HTMLModel",
      "state": {
       "_dom_classes": [],
       "_model_module": "@jupyter-widgets/controls",
       "_model_module_version": "1.5.0",
       "_model_name": "HTMLModel",
       "_view_count": null,
       "_view_module": "@jupyter-widgets/controls",
       "_view_module_version": "1.5.0",
       "_view_name": "HTMLView",
       "description": "",
       "description_tooltip": null,
       "layout": "IPY_MODEL_f584df40e4134e278f4b7cfdb6893858",
       "placeholder": "​",
       "style": "IPY_MODEL_290b866aa2d14919a5d1ff090c4a2202",
       "value": " 394/394 [00:00&lt;00:00, 22.3kB/s]"
      }
     },
     "a82eda5fbd4b4950ac40ab15b107cb97": {
      "model_module": "@jupyter-widgets/base",
      "model_module_version": "1.2.0",
      "model_name": "LayoutModel",
      "state": {
       "_model_module": "@jupyter-widgets/base",
       "_model_module_version": "1.2.0",
       "_model_name": "LayoutModel",
       "_view_count": null,
       "_view_module": "@jupyter-widgets/base",
       "_view_module_version": "1.2.0",
       "_view_name": "LayoutView",
       "align_content": null,
       "align_items": null,
       "align_self": null,
       "border": null,
       "bottom": null,
       "display": null,
       "flex": null,
       "flex_flow": null,
       "grid_area": null,
       "grid_auto_columns": null,
       "grid_auto_flow": null,
       "grid_auto_rows": null,
       "grid_column": null,
       "grid_gap": null,
       "grid_row": null,
       "grid_template_areas": null,
       "grid_template_columns": null,
       "grid_template_rows": null,
       "height": null,
       "justify_content": null,
       "justify_items": null,
       "left": null,
       "margin": null,
       "max_height": null,
       "max_width": null,
       "min_height": null,
       "min_width": null,
       "object_fit": null,
       "object_position": null,
       "order": null,
       "overflow": null,
       "overflow_x": null,
       "overflow_y": null,
       "padding": null,
       "right": null,
       "top": null,
       "visibility": null,
       "width": null
      }
     },
     "a8df11be18944193845dabe9f98ee6ff": {
      "model_module": "@jupyter-widgets/controls",
      "model_module_version": "1.5.0",
      "model_name": "FloatProgressModel",
      "state": {
       "_dom_classes": [],
       "_model_module": "@jupyter-widgets/controls",
       "_model_module_version": "1.5.0",
       "_model_name": "FloatProgressModel",
       "_view_count": null,
       "_view_module": "@jupyter-widgets/controls",
       "_view_module_version": "1.5.0",
       "_view_name": "ProgressView",
       "bar_style": "success",
       "description": "",
       "description_tooltip": null,
       "layout": "IPY_MODEL_0c4e2e5fcc3b48c1b132369fa63941ee",
       "max": 497836589.0,
       "min": 0.0,
       "orientation": "horizontal",
       "style": "IPY_MODEL_eb2f332510be48c98824cb1d0a6a39fe",
       "value": 497836589.0
      }
     },
     "ac4acac45d53469887e5d4cb99f62173": {
      "model_module": "@jupyter-widgets/controls",
      "model_module_version": "1.5.0",
      "model_name": "DescriptionStyleModel",
      "state": {
       "_model_module": "@jupyter-widgets/controls",
       "_model_module_version": "1.5.0",
       "_model_name": "DescriptionStyleModel",
       "_view_count": null,
       "_view_module": "@jupyter-widgets/base",
       "_view_module_version": "1.2.0",
       "_view_name": "StyleView",
       "description_width": ""
      }
     },
     "ad1d7f2a63ad48cf9431dd34f0754690": {
      "model_module": "@jupyter-widgets/controls",
      "model_module_version": "1.5.0",
      "model_name": "DescriptionStyleModel",
      "state": {
       "_model_module": "@jupyter-widgets/controls",
       "_model_module_version": "1.5.0",
       "_model_name": "DescriptionStyleModel",
       "_view_count": null,
       "_view_module": "@jupyter-widgets/base",
       "_view_module_version": "1.2.0",
       "_view_name": "StyleView",
       "description_width": ""
      }
     },
     "b4335da6174e4a08a58d9fc8f4b2812f": {
      "model_module": "@jupyter-widgets/controls",
      "model_module_version": "1.5.0",
      "model_name": "DescriptionStyleModel",
      "state": {
       "_model_module": "@jupyter-widgets/controls",
       "_model_module_version": "1.5.0",
       "_model_name": "DescriptionStyleModel",
       "_view_count": null,
       "_view_module": "@jupyter-widgets/base",
       "_view_module_version": "1.2.0",
       "_view_name": "StyleView",
       "description_width": ""
      }
     },
     "b5320488fa66421aa04623fd028a8f6e": {
      "model_module": "@jupyter-widgets/base",
      "model_module_version": "1.2.0",
      "model_name": "LayoutModel",
      "state": {
       "_model_module": "@jupyter-widgets/base",
       "_model_module_version": "1.2.0",
       "_model_name": "LayoutModel",
       "_view_count": null,
       "_view_module": "@jupyter-widgets/base",
       "_view_module_version": "1.2.0",
       "_view_name": "LayoutView",
       "align_content": null,
       "align_items": null,
       "align_self": null,
       "border": null,
       "bottom": null,
       "display": null,
       "flex": null,
       "flex_flow": null,
       "grid_area": null,
       "grid_auto_columns": null,
       "grid_auto_flow": null,
       "grid_auto_rows": null,
       "grid_column": null,
       "grid_gap": null,
       "grid_row": null,
       "grid_template_areas": null,
       "grid_template_columns": null,
       "grid_template_rows": null,
       "height": null,
       "justify_content": null,
       "justify_items": null,
       "left": null,
       "margin": null,
       "max_height": null,
       "max_width": null,
       "min_height": null,
       "min_width": null,
       "object_fit": null,
       "object_position": null,
       "order": null,
       "overflow": null,
       "overflow_x": null,
       "overflow_y": null,
       "padding": null,
       "right": null,
       "top": null,
       "visibility": null,
       "width": null
      }
     },
     "b6b5b11680e14b729ce54ca7f2d0842b": {
      "model_module": "@jupyter-widgets/base",
      "model_module_version": "1.2.0",
      "model_name": "LayoutModel",
      "state": {
       "_model_module": "@jupyter-widgets/base",
       "_model_module_version": "1.2.0",
       "_model_name": "LayoutModel",
       "_view_count": null,
       "_view_module": "@jupyter-widgets/base",
       "_view_module_version": "1.2.0",
       "_view_name": "LayoutView",
       "align_content": null,
       "align_items": null,
       "align_self": null,
       "border": null,
       "bottom": null,
       "display": null,
       "flex": null,
       "flex_flow": null,
       "grid_area": null,
       "grid_auto_columns": null,
       "grid_auto_flow": null,
       "grid_auto_rows": null,
       "grid_column": null,
       "grid_gap": null,
       "grid_row": null,
       "grid_template_areas": null,
       "grid_template_columns": null,
       "grid_template_rows": null,
       "height": null,
       "justify_content": null,
       "justify_items": null,
       "left": null,
       "margin": null,
       "max_height": null,
       "max_width": null,
       "min_height": null,
       "min_width": null,
       "object_fit": null,
       "object_position": null,
       "order": null,
       "overflow": null,
       "overflow_x": null,
       "overflow_y": null,
       "padding": null,
       "right": null,
       "top": null,
       "visibility": null,
       "width": null
      }
     },
     "b83718408647436eace84f30f0635adf": {
      "model_module": "@jupyter-widgets/controls",
      "model_module_version": "1.5.0",
      "model_name": "HTMLModel",
      "state": {
       "_dom_classes": [],
       "_model_module": "@jupyter-widgets/controls",
       "_model_module_version": "1.5.0",
       "_model_name": "HTMLModel",
       "_view_count": null,
       "_view_module": "@jupyter-widgets/controls",
       "_view_module_version": "1.5.0",
       "_view_name": "HTMLView",
       "description": "",
       "description_tooltip": null,
       "layout": "IPY_MODEL_d9e7df35ac724e0ca3b6c6f6a646bf0c",
       "placeholder": "​",
       "style": "IPY_MODEL_763d956e111a4d76a95f5af5a21d0e2c",
       "value": " 125/125 [00:00&lt;00:00, 8.80kB/s]"
      }
     },
     "b950e60413e8400db08e6f0aadefb61f": {
      "model_module": "@jupyter-widgets/controls",
      "model_module_version": "1.5.0",
      "model_name": "HTMLModel",
      "state": {
       "_dom_classes": [],
       "_model_module": "@jupyter-widgets/controls",
       "_model_module_version": "1.5.0",
       "_model_name": "HTMLModel",
       "_view_count": null,
       "_view_module": "@jupyter-widgets/controls",
       "_view_module_version": "1.5.0",
       "_view_name": "HTMLView",
       "description": "",
       "description_tooltip": null,
       "layout": "IPY_MODEL_d71f048edb994bea9d06d1451b23c285",
       "placeholder": "​",
       "style": "IPY_MODEL_ff30bc8f3fd841aa9ae3795c186f140e",
       "value": "special_tokens_map.json: 100%"
      }
     },
     "ba826d2952c14dc9a7c13167b5c04aab": {
      "model_module": "@jupyter-widgets/controls",
      "model_module_version": "1.5.0",
      "model_name": "HBoxModel",
      "state": {
       "_dom_classes": [],
       "_model_module": "@jupyter-widgets/controls",
       "_model_module_version": "1.5.0",
       "_model_name": "HBoxModel",
       "_view_count": null,
       "_view_module": "@jupyter-widgets/controls",
       "_view_module_version": "1.5.0",
       "_view_name": "HBoxView",
       "box_style": "",
       "children": [
        "IPY_MODEL_c4be7fbc58c84e9ab63d5ea39cd07c71",
        "IPY_MODEL_e5cb478f89984fe69800f39caac4b167",
        "IPY_MODEL_36d20b9e16e747769c5f696f40a1cf49"
       ],
       "layout": "IPY_MODEL_f0a568451c47425ea1f46b00678f65de"
      }
     },
     "bde45bd2e55148d493099686fb755342": {
      "model_module": "@jupyter-widgets/controls",
      "model_module_version": "1.5.0",
      "model_name": "FloatProgressModel",
      "state": {
       "_dom_classes": [],
       "_model_module": "@jupyter-widgets/controls",
       "_model_module_version": "1.5.0",
       "_model_name": "FloatProgressModel",
       "_view_count": null,
       "_view_module": "@jupyter-widgets/controls",
       "_view_module_version": "1.5.0",
       "_view_name": "ProgressView",
       "bar_style": "success",
       "description": "",
       "description_tooltip": null,
       "layout": "IPY_MODEL_6fa675aa31b042e2b9a01963aa032924",
       "max": 394.0,
       "min": 0.0,
       "orientation": "horizontal",
       "style": "IPY_MODEL_60d5f73b560242118ef2f0374e6854e3",
       "value": 394.0
      }
     },
     "be6073577f334d8ca9a8771a80df207e": {
      "model_module": "@jupyter-widgets/base",
      "model_module_version": "1.2.0",
      "model_name": "LayoutModel",
      "state": {
       "_model_module": "@jupyter-widgets/base",
       "_model_module_version": "1.2.0",
       "_model_name": "LayoutModel",
       "_view_count": null,
       "_view_module": "@jupyter-widgets/base",
       "_view_module_version": "1.2.0",
       "_view_name": "LayoutView",
       "align_content": null,
       "align_items": null,
       "align_self": null,
       "border": null,
       "bottom": null,
       "display": null,
       "flex": null,
       "flex_flow": null,
       "grid_area": null,
       "grid_auto_columns": null,
       "grid_auto_flow": null,
       "grid_auto_rows": null,
       "grid_column": null,
       "grid_gap": null,
       "grid_row": null,
       "grid_template_areas": null,
       "grid_template_columns": null,
       "grid_template_rows": null,
       "height": null,
       "justify_content": null,
       "justify_items": null,
       "left": null,
       "margin": null,
       "max_height": null,
       "max_width": null,
       "min_height": null,
       "min_width": null,
       "object_fit": null,
       "object_position": null,
       "order": null,
       "overflow": null,
       "overflow_x": null,
       "overflow_y": null,
       "padding": null,
       "right": null,
       "top": null,
       "visibility": null,
       "width": null
      }
     },
     "c04bea0ff3e243c082c149efb656b752": {
      "model_module": "@jupyter-widgets/base",
      "model_module_version": "1.2.0",
      "model_name": "LayoutModel",
      "state": {
       "_model_module": "@jupyter-widgets/base",
       "_model_module_version": "1.2.0",
       "_model_name": "LayoutModel",
       "_view_count": null,
       "_view_module": "@jupyter-widgets/base",
       "_view_module_version": "1.2.0",
       "_view_name": "LayoutView",
       "align_content": null,
       "align_items": null,
       "align_self": null,
       "border": null,
       "bottom": null,
       "display": null,
       "flex": null,
       "flex_flow": null,
       "grid_area": null,
       "grid_auto_columns": null,
       "grid_auto_flow": null,
       "grid_auto_rows": null,
       "grid_column": null,
       "grid_gap": null,
       "grid_row": null,
       "grid_template_areas": null,
       "grid_template_columns": null,
       "grid_template_rows": null,
       "height": null,
       "justify_content": null,
       "justify_items": null,
       "left": null,
       "margin": null,
       "max_height": null,
       "max_width": null,
       "min_height": null,
       "min_width": null,
       "object_fit": null,
       "object_position": null,
       "order": null,
       "overflow": null,
       "overflow_x": null,
       "overflow_y": null,
       "padding": null,
       "right": null,
       "top": null,
       "visibility": null,
       "width": null
      }
     },
     "c054843331a34b3bac03715bd6c721cb": {
      "model_module": "@jupyter-widgets/controls",
      "model_module_version": "1.5.0",
      "model_name": "HTMLModel",
      "state": {
       "_dom_classes": [],
       "_model_module": "@jupyter-widgets/controls",
       "_model_module_version": "1.5.0",
       "_model_name": "HTMLModel",
       "_view_count": null,
       "_view_module": "@jupyter-widgets/controls",
       "_view_module_version": "1.5.0",
       "_view_name": "HTMLView",
       "description": "",
       "description_tooltip": null,
       "layout": "IPY_MODEL_38e6e264c974422ba8f2a944d6605e23",
       "placeholder": "​",
       "style": "IPY_MODEL_1875a650c78d45b084671c20df20b389",
       "value": "pytorch_model.bin: 100%"
      }
     },
     "c20e623303e24c24b205a595297640e4": {
      "model_module": "@jupyter-widgets/controls",
      "model_module_version": "1.5.0",
      "model_name": "DescriptionStyleModel",
      "state": {
       "_model_module": "@jupyter-widgets/controls",
       "_model_module_version": "1.5.0",
       "_model_name": "DescriptionStyleModel",
       "_view_count": null,
       "_view_module": "@jupyter-widgets/base",
       "_view_module_version": "1.2.0",
       "_view_name": "StyleView",
       "description_width": ""
      }
     },
     "c24db31794e24b9286983bcb017acdd0": {
      "model_module": "@jupyter-widgets/controls",
      "model_module_version": "1.5.0",
      "model_name": "DescriptionStyleModel",
      "state": {
       "_model_module": "@jupyter-widgets/controls",
       "_model_module_version": "1.5.0",
       "_model_name": "DescriptionStyleModel",
       "_view_count": null,
       "_view_module": "@jupyter-widgets/base",
       "_view_module_version": "1.2.0",
       "_view_name": "StyleView",
       "description_width": ""
      }
     },
     "c4be7fbc58c84e9ab63d5ea39cd07c71": {
      "model_module": "@jupyter-widgets/controls",
      "model_module_version": "1.5.0",
      "model_name": "HTMLModel",
      "state": {
       "_dom_classes": [],
       "_model_module": "@jupyter-widgets/controls",
       "_model_module_version": "1.5.0",
       "_model_name": "HTMLModel",
       "_view_count": null,
       "_view_module": "@jupyter-widgets/controls",
       "_view_module_version": "1.5.0",
       "_view_name": "HTMLView",
       "description": "",
       "description_tooltip": null,
       "layout": "IPY_MODEL_db1533356e524f56b3aecd5ef391af72",
       "placeholder": "​",
       "style": "IPY_MODEL_da77b77f7a624f7d9260f585ce6bf66f",
       "value": "config_sentence_transformers.json: 100%"
      }
     },
     "c4c21b52a4e4482791bb20c5bd21ef7e": {
      "model_module": "@jupyter-widgets/controls",
      "model_module_version": "1.5.0",
      "model_name": "ProgressStyleModel",
      "state": {
       "_model_module": "@jupyter-widgets/controls",
       "_model_module_version": "1.5.0",
       "_model_name": "ProgressStyleModel",
       "_view_count": null,
       "_view_module": "@jupyter-widgets/base",
       "_view_module_version": "1.2.0",
       "_view_name": "StyleView",
       "bar_color": null,
       "description_width": ""
      }
     },
     "c4f4c92dab544a30b5e39c6692582d41": {
      "model_module": "@jupyter-widgets/base",
      "model_module_version": "1.2.0",
      "model_name": "LayoutModel",
      "state": {
       "_model_module": "@jupyter-widgets/base",
       "_model_module_version": "1.2.0",
       "_model_name": "LayoutModel",
       "_view_count": null,
       "_view_module": "@jupyter-widgets/base",
       "_view_module_version": "1.2.0",
       "_view_name": "LayoutView",
       "align_content": null,
       "align_items": null,
       "align_self": null,
       "border": null,
       "bottom": null,
       "display": null,
       "flex": null,
       "flex_flow": null,
       "grid_area": null,
       "grid_auto_columns": null,
       "grid_auto_flow": null,
       "grid_auto_rows": null,
       "grid_column": null,
       "grid_gap": null,
       "grid_row": null,
       "grid_template_areas": null,
       "grid_template_columns": null,
       "grid_template_rows": null,
       "height": null,
       "justify_content": null,
       "justify_items": null,
       "left": null,
       "margin": null,
       "max_height": null,
       "max_width": null,
       "min_height": null,
       "min_width": null,
       "object_fit": null,
       "object_position": null,
       "order": null,
       "overflow": null,
       "overflow_x": null,
       "overflow_y": null,
       "padding": null,
       "right": null,
       "top": null,
       "visibility": null,
       "width": null
      }
     },
     "c5022d9a43b743e880e6d322a977b611": {
      "model_module": "@jupyter-widgets/controls",
      "model_module_version": "1.5.0",
      "model_name": "HTMLModel",
      "state": {
       "_dom_classes": [],
       "_model_module": "@jupyter-widgets/controls",
       "_model_module_version": "1.5.0",
       "_model_name": "HTMLModel",
       "_view_count": null,
       "_view_module": "@jupyter-widgets/controls",
       "_view_module_version": "1.5.0",
       "_view_name": "HTMLView",
       "description": "",
       "description_tooltip": null,
       "layout": "IPY_MODEL_5796ff12d8d747a09b001151bd492701",
       "placeholder": "​",
       "style": "IPY_MODEL_7973f58b43e14558ac673aff88d3e3dc",
       "value": " 52.0/52.0 [00:00&lt;00:00, 3.92kB/s]"
      }
     },
     "c9de705e696943d6b045539cc1128db2": {
      "model_module": "@jupyter-widgets/controls",
      "model_module_version": "1.5.0",
      "model_name": "HTMLModel",
      "state": {
       "_dom_classes": [],
       "_model_module": "@jupyter-widgets/controls",
       "_model_module_version": "1.5.0",
       "_model_name": "HTMLModel",
       "_view_count": null,
       "_view_module": "@jupyter-widgets/controls",
       "_view_module_version": "1.5.0",
       "_view_name": "HTMLView",
       "description": "",
       "description_tooltip": null,
       "layout": "IPY_MODEL_6ddd4edc8ed94f58a364a5cf6b5d19cf",
       "placeholder": "​",
       "style": "IPY_MODEL_0c2e5c76912649948645ebdaad8caf3e",
       "value": ".gitattributes: 100%"
      }
     },
     "cd47fbc187d4426a9d5e0483bb9b34d7": {
      "model_module": "@jupyter-widgets/controls",
      "model_module_version": "1.5.0",
      "model_name": "ProgressStyleModel",
      "state": {
       "_model_module": "@jupyter-widgets/controls",
       "_model_module_version": "1.5.0",
       "_model_name": "ProgressStyleModel",
       "_view_count": null,
       "_view_module": "@jupyter-widgets/base",
       "_view_module_version": "1.2.0",
       "_view_name": "StyleView",
       "bar_color": null,
       "description_width": ""
      }
     },
     "d1892366f468416785acb4fbf541ab97": {
      "model_module": "@jupyter-widgets/base",
      "model_module_version": "1.2.0",
      "model_name": "LayoutModel",
      "state": {
       "_model_module": "@jupyter-widgets/base",
       "_model_module_version": "1.2.0",
       "_model_name": "LayoutModel",
       "_view_count": null,
       "_view_module": "@jupyter-widgets/base",
       "_view_module_version": "1.2.0",
       "_view_name": "LayoutView",
       "align_content": null,
       "align_items": null,
       "align_self": null,
       "border": null,
       "bottom": null,
       "display": null,
       "flex": null,
       "flex_flow": null,
       "grid_area": null,
       "grid_auto_columns": null,
       "grid_auto_flow": null,
       "grid_auto_rows": null,
       "grid_column": null,
       "grid_gap": null,
       "grid_row": null,
       "grid_template_areas": null,
       "grid_template_columns": null,
       "grid_template_rows": null,
       "height": null,
       "justify_content": null,
       "justify_items": null,
       "left": null,
       "margin": null,
       "max_height": null,
       "max_width": null,
       "min_height": null,
       "min_width": null,
       "object_fit": null,
       "object_position": null,
       "order": null,
       "overflow": null,
       "overflow_x": null,
       "overflow_y": null,
       "padding": null,
       "right": null,
       "top": null,
       "visibility": null,
       "width": null
      }
     },
     "d71f048edb994bea9d06d1451b23c285": {
      "model_module": "@jupyter-widgets/base",
      "model_module_version": "1.2.0",
      "model_name": "LayoutModel",
      "state": {
       "_model_module": "@jupyter-widgets/base",
       "_model_module_version": "1.2.0",
       "_model_name": "LayoutModel",
       "_view_count": null,
       "_view_module": "@jupyter-widgets/base",
       "_view_module_version": "1.2.0",
       "_view_name": "LayoutView",
       "align_content": null,
       "align_items": null,
       "align_self": null,
       "border": null,
       "bottom": null,
       "display": null,
       "flex": null,
       "flex_flow": null,
       "grid_area": null,
       "grid_auto_columns": null,
       "grid_auto_flow": null,
       "grid_auto_rows": null,
       "grid_column": null,
       "grid_gap": null,
       "grid_row": null,
       "grid_template_areas": null,
       "grid_template_columns": null,
       "grid_template_rows": null,
       "height": null,
       "justify_content": null,
       "justify_items": null,
       "left": null,
       "margin": null,
       "max_height": null,
       "max_width": null,
       "min_height": null,
       "min_width": null,
       "object_fit": null,
       "object_position": null,
       "order": null,
       "overflow": null,
       "overflow_x": null,
       "overflow_y": null,
       "padding": null,
       "right": null,
       "top": null,
       "visibility": null,
       "width": null
      }
     },
     "d78c45e0126145c48444862468f5fe85": {
      "model_module": "@jupyter-widgets/base",
      "model_module_version": "1.2.0",
      "model_name": "LayoutModel",
      "state": {
       "_model_module": "@jupyter-widgets/base",
       "_model_module_version": "1.2.0",
       "_model_name": "LayoutModel",
       "_view_count": null,
       "_view_module": "@jupyter-widgets/base",
       "_view_module_version": "1.2.0",
       "_view_name": "LayoutView",
       "align_content": null,
       "align_items": null,
       "align_self": null,
       "border": null,
       "bottom": null,
       "display": null,
       "flex": null,
       "flex_flow": null,
       "grid_area": null,
       "grid_auto_columns": null,
       "grid_auto_flow": null,
       "grid_auto_rows": null,
       "grid_column": null,
       "grid_gap": null,
       "grid_row": null,
       "grid_template_areas": null,
       "grid_template_columns": null,
       "grid_template_rows": null,
       "height": null,
       "justify_content": null,
       "justify_items": null,
       "left": null,
       "margin": null,
       "max_height": null,
       "max_width": null,
       "min_height": null,
       "min_width": null,
       "object_fit": null,
       "object_position": null,
       "order": null,
       "overflow": null,
       "overflow_x": null,
       "overflow_y": null,
       "padding": null,
       "right": null,
       "top": null,
       "visibility": null,
       "width": null
      }
     },
     "d7bcc643896649859e7b327d0a0ef2f5": {
      "model_module": "@jupyter-widgets/controls",
      "model_module_version": "1.5.0",
      "model_name": "FloatProgressModel",
      "state": {
       "_dom_classes": [],
       "_model_module": "@jupyter-widgets/controls",
       "_model_module_version": "1.5.0",
       "_model_name": "FloatProgressModel",
       "_view_count": null,
       "_view_module": "@jupyter-widgets/controls",
       "_view_module_version": "1.5.0",
       "_view_name": "ProgressView",
       "bar_style": "success",
       "description": "",
       "description_tooltip": null,
       "layout": "IPY_MODEL_717f128eb5fb4b0d8231b929d0232909",
       "max": 270.0,
       "min": 0.0,
       "orientation": "horizontal",
       "style": "IPY_MODEL_cd47fbc187d4426a9d5e0483bb9b34d7",
       "value": 270.0
      }
     },
     "d9e7df35ac724e0ca3b6c6f6a646bf0c": {
      "model_module": "@jupyter-widgets/base",
      "model_module_version": "1.2.0",
      "model_name": "LayoutModel",
      "state": {
       "_model_module": "@jupyter-widgets/base",
       "_model_module_version": "1.2.0",
       "_model_name": "LayoutModel",
       "_view_count": null,
       "_view_module": "@jupyter-widgets/base",
       "_view_module_version": "1.2.0",
       "_view_name": "LayoutView",
       "align_content": null,
       "align_items": null,
       "align_self": null,
       "border": null,
       "bottom": null,
       "display": null,
       "flex": null,
       "flex_flow": null,
       "grid_area": null,
       "grid_auto_columns": null,
       "grid_auto_flow": null,
       "grid_auto_rows": null,
       "grid_column": null,
       "grid_gap": null,
       "grid_row": null,
       "grid_template_areas": null,
       "grid_template_columns": null,
       "grid_template_rows": null,
       "height": null,
       "justify_content": null,
       "justify_items": null,
       "left": null,
       "margin": null,
       "max_height": null,
       "max_width": null,
       "min_height": null,
       "min_width": null,
       "object_fit": null,
       "object_position": null,
       "order": null,
       "overflow": null,
       "overflow_x": null,
       "overflow_y": null,
       "padding": null,
       "right": null,
       "top": null,
       "visibility": null,
       "width": null
      }
     },
     "da525d6264e842098c3c586b030b84c4": {
      "model_module": "@jupyter-widgets/controls",
      "model_module_version": "1.5.0",
      "model_name": "HTMLModel",
      "state": {
       "_dom_classes": [],
       "_model_module": "@jupyter-widgets/controls",
       "_model_module_version": "1.5.0",
       "_model_name": "HTMLModel",
       "_view_count": null,
       "_view_module": "@jupyter-widgets/controls",
       "_view_module_version": "1.5.0",
       "_view_name": "HTMLView",
       "description": "",
       "description_tooltip": null,
       "layout": "IPY_MODEL_4b941c28211440f1b90e37781bab562d",
       "placeholder": "​",
       "style": "IPY_MODEL_84eb2f043e1541d090b484f31623e8cd",
       "value": "README.md: 100%"
      }
     },
     "da77b77f7a624f7d9260f585ce6bf66f": {
      "model_module": "@jupyter-widgets/controls",
      "model_module_version": "1.5.0",
      "model_name": "DescriptionStyleModel",
      "state": {
       "_model_module": "@jupyter-widgets/controls",
       "_model_module_version": "1.5.0",
       "_model_name": "DescriptionStyleModel",
       "_view_count": null,
       "_view_module": "@jupyter-widgets/base",
       "_view_module_version": "1.2.0",
       "_view_name": "StyleView",
       "description_width": ""
      }
     },
     "db1533356e524f56b3aecd5ef391af72": {
      "model_module": "@jupyter-widgets/base",
      "model_module_version": "1.2.0",
      "model_name": "LayoutModel",
      "state": {
       "_model_module": "@jupyter-widgets/base",
       "_model_module_version": "1.2.0",
       "_model_name": "LayoutModel",
       "_view_count": null,
       "_view_module": "@jupyter-widgets/base",
       "_view_module_version": "1.2.0",
       "_view_name": "LayoutView",
       "align_content": null,
       "align_items": null,
       "align_self": null,
       "border": null,
       "bottom": null,
       "display": null,
       "flex": null,
       "flex_flow": null,
       "grid_area": null,
       "grid_auto_columns": null,
       "grid_auto_flow": null,
       "grid_auto_rows": null,
       "grid_column": null,
       "grid_gap": null,
       "grid_row": null,
       "grid_template_areas": null,
       "grid_template_columns": null,
       "grid_template_rows": null,
       "height": null,
       "justify_content": null,
       "justify_items": null,
       "left": null,
       "margin": null,
       "max_height": null,
       "max_width": null,
       "min_height": null,
       "min_width": null,
       "object_fit": null,
       "object_position": null,
       "order": null,
       "overflow": null,
       "overflow_x": null,
       "overflow_y": null,
       "padding": null,
       "right": null,
       "top": null,
       "visibility": null,
       "width": null
      }
     },
     "dccad7621c0449ad8526cec62a54635b": {
      "model_module": "@jupyter-widgets/base",
      "model_module_version": "1.2.0",
      "model_name": "LayoutModel",
      "state": {
       "_model_module": "@jupyter-widgets/base",
       "_model_module_version": "1.2.0",
       "_model_name": "LayoutModel",
       "_view_count": null,
       "_view_module": "@jupyter-widgets/base",
       "_view_module_version": "1.2.0",
       "_view_name": "LayoutView",
       "align_content": null,
       "align_items": null,
       "align_self": null,
       "border": null,
       "bottom": null,
       "display": null,
       "flex": null,
       "flex_flow": null,
       "grid_area": null,
       "grid_auto_columns": null,
       "grid_auto_flow": null,
       "grid_auto_rows": null,
       "grid_column": null,
       "grid_gap": null,
       "grid_row": null,
       "grid_template_areas": null,
       "grid_template_columns": null,
       "grid_template_rows": null,
       "height": null,
       "justify_content": null,
       "justify_items": null,
       "left": null,
       "margin": null,
       "max_height": null,
       "max_width": null,
       "min_height": null,
       "min_width": null,
       "object_fit": null,
       "object_position": null,
       "order": null,
       "overflow": null,
       "overflow_x": null,
       "overflow_y": null,
       "padding": null,
       "right": null,
       "top": null,
       "visibility": null,
       "width": null
      }
     },
     "df518e7ca1df4c1daa95d99b5367b4c1": {
      "model_module": "@jupyter-widgets/controls",
      "model_module_version": "1.5.0",
      "model_name": "ProgressStyleModel",
      "state": {
       "_model_module": "@jupyter-widgets/controls",
       "_model_module_version": "1.5.0",
       "_model_name": "ProgressStyleModel",
       "_view_count": null,
       "_view_module": "@jupyter-widgets/base",
       "_view_module_version": "1.2.0",
       "_view_name": "StyleView",
       "bar_color": null,
       "description_width": ""
      }
     },
     "df6c6f1a8d254e69a682ec523881f121": {
      "model_module": "@jupyter-widgets/controls",
      "model_module_version": "1.5.0",
      "model_name": "ProgressStyleModel",
      "state": {
       "_model_module": "@jupyter-widgets/controls",
       "_model_module_version": "1.5.0",
       "_model_name": "ProgressStyleModel",
       "_view_count": null,
       "_view_module": "@jupyter-widgets/base",
       "_view_module_version": "1.2.0",
       "_view_name": "StyleView",
       "bar_color": null,
       "description_width": ""
      }
     },
     "dfae7fbbbb3b4d999ffb7a3347b68ec6": {
      "model_module": "@jupyter-widgets/base",
      "model_module_version": "1.2.0",
      "model_name": "LayoutModel",
      "state": {
       "_model_module": "@jupyter-widgets/base",
       "_model_module_version": "1.2.0",
       "_model_name": "LayoutModel",
       "_view_count": null,
       "_view_module": "@jupyter-widgets/base",
       "_view_module_version": "1.2.0",
       "_view_name": "LayoutView",
       "align_content": null,
       "align_items": null,
       "align_self": null,
       "border": null,
       "bottom": null,
       "display": null,
       "flex": null,
       "flex_flow": null,
       "grid_area": null,
       "grid_auto_columns": null,
       "grid_auto_flow": null,
       "grid_auto_rows": null,
       "grid_column": null,
       "grid_gap": null,
       "grid_row": null,
       "grid_template_areas": null,
       "grid_template_columns": null,
       "grid_template_rows": null,
       "height": null,
       "justify_content": null,
       "justify_items": null,
       "left": null,
       "margin": null,
       "max_height": null,
       "max_width": null,
       "min_height": null,
       "min_width": null,
       "object_fit": null,
       "object_position": null,
       "order": null,
       "overflow": null,
       "overflow_x": null,
       "overflow_y": null,
       "padding": null,
       "right": null,
       "top": null,
       "visibility": null,
       "width": null
      }
     },
     "e03765d1e82b49009770a119befeeeb5": {
      "model_module": "@jupyter-widgets/base",
      "model_module_version": "1.2.0",
      "model_name": "LayoutModel",
      "state": {
       "_model_module": "@jupyter-widgets/base",
       "_model_module_version": "1.2.0",
       "_model_name": "LayoutModel",
       "_view_count": null,
       "_view_module": "@jupyter-widgets/base",
       "_view_module_version": "1.2.0",
       "_view_name": "LayoutView",
       "align_content": null,
       "align_items": null,
       "align_self": null,
       "border": null,
       "bottom": null,
       "display": null,
       "flex": null,
       "flex_flow": null,
       "grid_area": null,
       "grid_auto_columns": null,
       "grid_auto_flow": null,
       "grid_auto_rows": null,
       "grid_column": null,
       "grid_gap": null,
       "grid_row": null,
       "grid_template_areas": null,
       "grid_template_columns": null,
       "grid_template_rows": null,
       "height": null,
       "justify_content": null,
       "justify_items": null,
       "left": null,
       "margin": null,
       "max_height": null,
       "max_width": null,
       "min_height": null,
       "min_width": null,
       "object_fit": null,
       "object_position": null,
       "order": null,
       "overflow": null,
       "overflow_x": null,
       "overflow_y": null,
       "padding": null,
       "right": null,
       "top": null,
       "visibility": null,
       "width": null
      }
     },
     "e2961a3fb94b43439c7727427d514bdc": {
      "model_module": "@jupyter-widgets/controls",
      "model_module_version": "1.5.0",
      "model_name": "DescriptionStyleModel",
      "state": {
       "_model_module": "@jupyter-widgets/controls",
       "_model_module_version": "1.5.0",
       "_model_name": "DescriptionStyleModel",
       "_view_count": null,
       "_view_module": "@jupyter-widgets/base",
       "_view_module_version": "1.2.0",
       "_view_name": "StyleView",
       "description_width": ""
      }
     },
     "e4c33c9355d6464dbc6ecfbc4aedfcd0": {
      "model_module": "@jupyter-widgets/controls",
      "model_module_version": "1.5.0",
      "model_name": "FloatProgressModel",
      "state": {
       "_dom_classes": [],
       "_model_module": "@jupyter-widgets/controls",
       "_model_module_version": "1.5.0",
       "_model_name": "FloatProgressModel",
       "_view_count": null,
       "_view_module": "@jupyter-widgets/controls",
       "_view_module_version": "1.5.0",
       "_view_name": "ProgressView",
       "bar_style": "success",
       "description": "",
       "description_tooltip": null,
       "layout": "IPY_MODEL_a82eda5fbd4b4950ac40ab15b107cb97",
       "max": 229.0,
       "min": 0.0,
       "orientation": "horizontal",
       "style": "IPY_MODEL_df518e7ca1df4c1daa95d99b5367b4c1",
       "value": 229.0
      }
     },
     "e5cb478f89984fe69800f39caac4b167": {
      "model_module": "@jupyter-widgets/controls",
      "model_module_version": "1.5.0",
      "model_name": "FloatProgressModel",
      "state": {
       "_dom_classes": [],
       "_model_module": "@jupyter-widgets/controls",
       "_model_module_version": "1.5.0",
       "_model_name": "FloatProgressModel",
       "_view_count": null,
       "_view_module": "@jupyter-widgets/controls",
       "_view_module_version": "1.5.0",
       "_view_name": "ProgressView",
       "bar_style": "success",
       "description": "",
       "description_tooltip": null,
       "layout": "IPY_MODEL_7e99fef914ad40038522d3d757894ff7",
       "max": 123.0,
       "min": 0.0,
       "orientation": "horizontal",
       "style": "IPY_MODEL_df6c6f1a8d254e69a682ec523881f121",
       "value": 123.0
      }
     },
     "eb2f332510be48c98824cb1d0a6a39fe": {
      "model_module": "@jupyter-widgets/controls",
      "model_module_version": "1.5.0",
      "model_name": "ProgressStyleModel",
      "state": {
       "_model_module": "@jupyter-widgets/controls",
       "_model_module_version": "1.5.0",
       "_model_name": "ProgressStyleModel",
       "_view_count": null,
       "_view_module": "@jupyter-widgets/base",
       "_view_module_version": "1.2.0",
       "_view_name": "StyleView",
       "bar_color": null,
       "description_width": ""
      }
     },
     "f05f167aba33415e9160483e57446c0e": {
      "model_module": "@jupyter-widgets/controls",
      "model_module_version": "1.5.0",
      "model_name": "HTMLModel",
      "state": {
       "_dom_classes": [],
       "_model_module": "@jupyter-widgets/controls",
       "_model_module_version": "1.5.0",
       "_model_name": "HTMLModel",
       "_view_count": null,
       "_view_module": "@jupyter-widgets/controls",
       "_view_module_version": "1.5.0",
       "_view_name": "HTMLView",
       "description": "",
       "description_tooltip": null,
       "layout": "IPY_MODEL_f4c6884ea9ef45a391ed2193062602e7",
       "placeholder": "​",
       "style": "IPY_MODEL_7956fed7e6f340f9a66741353391f12a",
       "value": "1_Pooling/config.json: 100%"
      }
     },
     "f0a568451c47425ea1f46b00678f65de": {
      "model_module": "@jupyter-widgets/base",
      "model_module_version": "1.2.0",
      "model_name": "LayoutModel",
      "state": {
       "_model_module": "@jupyter-widgets/base",
       "_model_module_version": "1.2.0",
       "_model_name": "LayoutModel",
       "_view_count": null,
       "_view_module": "@jupyter-widgets/base",
       "_view_module_version": "1.2.0",
       "_view_name": "LayoutView",
       "align_content": null,
       "align_items": null,
       "align_self": null,
       "border": null,
       "bottom": null,
       "display": null,
       "flex": null,
       "flex_flow": null,
       "grid_area": null,
       "grid_auto_columns": null,
       "grid_auto_flow": null,
       "grid_auto_rows": null,
       "grid_column": null,
       "grid_gap": null,
       "grid_row": null,
       "grid_template_areas": null,
       "grid_template_columns": null,
       "grid_template_rows": null,
       "height": null,
       "justify_content": null,
       "justify_items": null,
       "left": null,
       "margin": null,
       "max_height": null,
       "max_width": null,
       "min_height": null,
       "min_width": null,
       "object_fit": null,
       "object_position": null,
       "order": null,
       "overflow": null,
       "overflow_x": null,
       "overflow_y": null,
       "padding": null,
       "right": null,
       "top": null,
       "visibility": null,
       "width": null
      }
     },
     "f200c797c46f4abf8d6eb37090f032ee": {
      "model_module": "@jupyter-widgets/controls",
      "model_module_version": "1.5.0",
      "model_name": "HTMLModel",
      "state": {
       "_dom_classes": [],
       "_model_module": "@jupyter-widgets/controls",
       "_model_module_version": "1.5.0",
       "_model_name": "HTMLModel",
       "_view_count": null,
       "_view_module": "@jupyter-widgets/controls",
       "_view_module_version": "1.5.0",
       "_view_name": "HTMLView",
       "description": "",
       "description_tooltip": null,
       "layout": "IPY_MODEL_c04bea0ff3e243c082c149efb656b752",
       "placeholder": "​",
       "style": "IPY_MODEL_c20e623303e24c24b205a595297640e4",
       "value": " 229/229 [00:00&lt;00:00, 18.9kB/s]"
      }
     },
     "f4c6884ea9ef45a391ed2193062602e7": {
      "model_module": "@jupyter-widgets/base",
      "model_module_version": "1.2.0",
      "model_name": "LayoutModel",
      "state": {
       "_model_module": "@jupyter-widgets/base",
       "_model_module_version": "1.2.0",
       "_model_name": "LayoutModel",
       "_view_count": null,
       "_view_module": "@jupyter-widgets/base",
       "_view_module_version": "1.2.0",
       "_view_name": "LayoutView",
       "align_content": null,
       "align_items": null,
       "align_self": null,
       "border": null,
       "bottom": null,
       "display": null,
       "flex": null,
       "flex_flow": null,
       "grid_area": null,
       "grid_auto_columns": null,
       "grid_auto_flow": null,
       "grid_auto_rows": null,
       "grid_column": null,
       "grid_gap": null,
       "grid_row": null,
       "grid_template_areas": null,
       "grid_template_columns": null,
       "grid_template_rows": null,
       "height": null,
       "justify_content": null,
       "justify_items": null,
       "left": null,
       "margin": null,
       "max_height": null,
       "max_width": null,
       "min_height": null,
       "min_width": null,
       "object_fit": null,
       "object_position": null,
       "order": null,
       "overflow": null,
       "overflow_x": null,
       "overflow_y": null,
       "padding": null,
       "right": null,
       "top": null,
       "visibility": null,
       "width": null
      }
     },
     "f584df40e4134e278f4b7cfdb6893858": {
      "model_module": "@jupyter-widgets/base",
      "model_module_version": "1.2.0",
      "model_name": "LayoutModel",
      "state": {
       "_model_module": "@jupyter-widgets/base",
       "_model_module_version": "1.2.0",
       "_model_name": "LayoutModel",
       "_view_count": null,
       "_view_module": "@jupyter-widgets/base",
       "_view_module_version": "1.2.0",
       "_view_name": "LayoutView",
       "align_content": null,
       "align_items": null,
       "align_self": null,
       "border": null,
       "bottom": null,
       "display": null,
       "flex": null,
       "flex_flow": null,
       "grid_area": null,
       "grid_auto_columns": null,
       "grid_auto_flow": null,
       "grid_auto_rows": null,
       "grid_column": null,
       "grid_gap": null,
       "grid_row": null,
       "grid_template_areas": null,
       "grid_template_columns": null,
       "grid_template_rows": null,
       "height": null,
       "justify_content": null,
       "justify_items": null,
       "left": null,
       "margin": null,
       "max_height": null,
       "max_width": null,
       "min_height": null,
       "min_width": null,
       "object_fit": null,
       "object_position": null,
       "order": null,
       "overflow": null,
       "overflow_x": null,
       "overflow_y": null,
       "padding": null,
       "right": null,
       "top": null,
       "visibility": null,
       "width": null
      }
     },
     "f6be8739ecbb49fcb090069d6c953fd4": {
      "model_module": "@jupyter-widgets/controls",
      "model_module_version": "1.5.0",
      "model_name": "HBoxModel",
      "state": {
       "_dom_classes": [],
       "_model_module": "@jupyter-widgets/controls",
       "_model_module_version": "1.5.0",
       "_model_name": "HBoxModel",
       "_view_count": null,
       "_view_module": "@jupyter-widgets/controls",
       "_view_module_version": "1.5.0",
       "_view_name": "HBoxView",
       "box_style": "",
       "children": [
        "IPY_MODEL_90b254ce809946b1a9cc35ab42ed0a61",
        "IPY_MODEL_018d319d5b4249af89f0201dc384ca77",
        "IPY_MODEL_c5022d9a43b743e880e6d322a977b611"
       ],
       "layout": "IPY_MODEL_b5320488fa66421aa04623fd028a8f6e"
      }
     },
     "f879a5016d9a4d62842dd1efc79385bb": {
      "model_module": "@jupyter-widgets/controls",
      "model_module_version": "1.5.0",
      "model_name": "DescriptionStyleModel",
      "state": {
       "_model_module": "@jupyter-widgets/controls",
       "_model_module_version": "1.5.0",
       "_model_name": "DescriptionStyleModel",
       "_view_count": null,
       "_view_module": "@jupyter-widgets/base",
       "_view_module_version": "1.2.0",
       "_view_name": "StyleView",
       "description_width": ""
      }
     },
     "f8b3dec6bae3480f86751a6115d3396d": {
      "model_module": "@jupyter-widgets/controls",
      "model_module_version": "1.5.0",
      "model_name": "DescriptionStyleModel",
      "state": {
       "_model_module": "@jupyter-widgets/controls",
       "_model_module_version": "1.5.0",
       "_model_name": "DescriptionStyleModel",
       "_view_count": null,
       "_view_module": "@jupyter-widgets/base",
       "_view_module_version": "1.2.0",
       "_view_name": "StyleView",
       "description_width": ""
      }
     },
     "f9a7b384f28947fdb8e4a546e160de3b": {
      "model_module": "@jupyter-widgets/base",
      "model_module_version": "1.2.0",
      "model_name": "LayoutModel",
      "state": {
       "_model_module": "@jupyter-widgets/base",
       "_model_module_version": "1.2.0",
       "_model_name": "LayoutModel",
       "_view_count": null,
       "_view_module": "@jupyter-widgets/base",
       "_view_module_version": "1.2.0",
       "_view_name": "LayoutView",
       "align_content": null,
       "align_items": null,
       "align_self": null,
       "border": null,
       "bottom": null,
       "display": null,
       "flex": null,
       "flex_flow": null,
       "grid_area": null,
       "grid_auto_columns": null,
       "grid_auto_flow": null,
       "grid_auto_rows": null,
       "grid_column": null,
       "grid_gap": null,
       "grid_row": null,
       "grid_template_areas": null,
       "grid_template_columns": null,
       "grid_template_rows": null,
       "height": null,
       "justify_content": null,
       "justify_items": null,
       "left": null,
       "margin": null,
       "max_height": null,
       "max_width": null,
       "min_height": null,
       "min_width": null,
       "object_fit": null,
       "object_position": null,
       "order": null,
       "overflow": null,
       "overflow_x": null,
       "overflow_y": null,
       "padding": null,
       "right": null,
       "top": null,
       "visibility": null,
       "width": null
      }
     },
     "fab7bdf1a5f34f9788e324e2aa025a5a": {
      "model_module": "@jupyter-widgets/base",
      "model_module_version": "1.2.0",
      "model_name": "LayoutModel",
      "state": {
       "_model_module": "@jupyter-widgets/base",
       "_model_module_version": "1.2.0",
       "_model_name": "LayoutModel",
       "_view_count": null,
       "_view_module": "@jupyter-widgets/base",
       "_view_module_version": "1.2.0",
       "_view_name": "LayoutView",
       "align_content": null,
       "align_items": null,
       "align_self": null,
       "border": null,
       "bottom": null,
       "display": null,
       "flex": null,
       "flex_flow": null,
       "grid_area": null,
       "grid_auto_columns": null,
       "grid_auto_flow": null,
       "grid_auto_rows": null,
       "grid_column": null,
       "grid_gap": null,
       "grid_row": null,
       "grid_template_areas": null,
       "grid_template_columns": null,
       "grid_template_rows": null,
       "height": null,
       "justify_content": null,
       "justify_items": null,
       "left": null,
       "margin": null,
       "max_height": null,
       "max_width": null,
       "min_height": null,
       "min_width": null,
       "object_fit": null,
       "object_position": null,
       "order": null,
       "overflow": null,
       "overflow_x": null,
       "overflow_y": null,
       "padding": null,
       "right": null,
       "top": null,
       "visibility": null,
       "width": null
      }
     },
     "fbf018ccc51445d08a60f8de64f704c2": {
      "model_module": "@jupyter-widgets/controls",
      "model_module_version": "1.5.0",
      "model_name": "ProgressStyleModel",
      "state": {
       "_model_module": "@jupyter-widgets/controls",
       "_model_module_version": "1.5.0",
       "_model_name": "ProgressStyleModel",
       "_view_count": null,
       "_view_module": "@jupyter-widgets/base",
       "_view_module_version": "1.2.0",
       "_view_name": "StyleView",
       "bar_color": null,
       "description_width": ""
      }
     },
     "fd52557cf45d4c03b3590a4d94f310b7": {
      "model_module": "@jupyter-widgets/controls",
      "model_module_version": "1.5.0",
      "model_name": "ProgressStyleModel",
      "state": {
       "_model_module": "@jupyter-widgets/controls",
       "_model_module_version": "1.5.0",
       "_model_name": "ProgressStyleModel",
       "_view_count": null,
       "_view_module": "@jupyter-widgets/base",
       "_view_module_version": "1.2.0",
       "_view_name": "StyleView",
       "bar_color": null,
       "description_width": ""
      }
     },
     "fdc2a4fbf84c40f399cfc9aad7e43972": {
      "model_module": "@jupyter-widgets/controls",
      "model_module_version": "1.5.0",
      "model_name": "HBoxModel",
      "state": {
       "_dom_classes": [],
       "_model_module": "@jupyter-widgets/controls",
       "_model_module_version": "1.5.0",
       "_model_name": "HBoxModel",
       "_view_count": null,
       "_view_module": "@jupyter-widgets/controls",
       "_view_module_version": "1.5.0",
       "_view_name": "HBoxView",
       "box_style": "",
       "children": [
        "IPY_MODEL_f05f167aba33415e9160483e57446c0e",
        "IPY_MODEL_d7bcc643896649859e7b327d0a0ef2f5",
        "IPY_MODEL_3e644eb7b6cf48e0a8d1aa6df3bbf53e"
       ],
       "layout": "IPY_MODEL_57948971937947878424ea55b61dbe9e"
      }
     },
     "ff10cfa2d84746e6a4f969e11a608633": {
      "model_module": "@jupyter-widgets/base",
      "model_module_version": "1.2.0",
      "model_name": "LayoutModel",
      "state": {
       "_model_module": "@jupyter-widgets/base",
       "_model_module_version": "1.2.0",
       "_model_name": "LayoutModel",
       "_view_count": null,
       "_view_module": "@jupyter-widgets/base",
       "_view_module_version": "1.2.0",
       "_view_name": "LayoutView",
       "align_content": null,
       "align_items": null,
       "align_self": null,
       "border": null,
       "bottom": null,
       "display": null,
       "flex": null,
       "flex_flow": null,
       "grid_area": null,
       "grid_auto_columns": null,
       "grid_auto_flow": null,
       "grid_auto_rows": null,
       "grid_column": null,
       "grid_gap": null,
       "grid_row": null,
       "grid_template_areas": null,
       "grid_template_columns": null,
       "grid_template_rows": null,
       "height": null,
       "justify_content": null,
       "justify_items": null,
       "left": null,
       "margin": null,
       "max_height": null,
       "max_width": null,
       "min_height": null,
       "min_width": null,
       "object_fit": null,
       "object_position": null,
       "order": null,
       "overflow": null,
       "overflow_x": null,
       "overflow_y": null,
       "padding": null,
       "right": null,
       "top": null,
       "visibility": null,
       "width": null
      }
     },
     "ff11c82c59f949d88e5283339a475900": {
      "model_module": "@jupyter-widgets/base",
      "model_module_version": "1.2.0",
      "model_name": "LayoutModel",
      "state": {
       "_model_module": "@jupyter-widgets/base",
       "_model_module_version": "1.2.0",
       "_model_name": "LayoutModel",
       "_view_count": null,
       "_view_module": "@jupyter-widgets/base",
       "_view_module_version": "1.2.0",
       "_view_name": "LayoutView",
       "align_content": null,
       "align_items": null,
       "align_self": null,
       "border": null,
       "bottom": null,
       "display": null,
       "flex": null,
       "flex_flow": null,
       "grid_area": null,
       "grid_auto_columns": null,
       "grid_auto_flow": null,
       "grid_auto_rows": null,
       "grid_column": null,
       "grid_gap": null,
       "grid_row": null,
       "grid_template_areas": null,
       "grid_template_columns": null,
       "grid_template_rows": null,
       "height": null,
       "justify_content": null,
       "justify_items": null,
       "left": null,
       "margin": null,
       "max_height": null,
       "max_width": null,
       "min_height": null,
       "min_width": null,
       "object_fit": null,
       "object_position": null,
       "order": null,
       "overflow": null,
       "overflow_x": null,
       "overflow_y": null,
       "padding": null,
       "right": null,
       "top": null,
       "visibility": null,
       "width": null
      }
     },
     "ff30bc8f3fd841aa9ae3795c186f140e": {
      "model_module": "@jupyter-widgets/controls",
      "model_module_version": "1.5.0",
      "model_name": "DescriptionStyleModel",
      "state": {
       "_model_module": "@jupyter-widgets/controls",
       "_model_module_version": "1.5.0",
       "_model_name": "DescriptionStyleModel",
       "_view_count": null,
       "_view_module": "@jupyter-widgets/base",
       "_view_module_version": "1.2.0",
       "_view_name": "StyleView",
       "description_width": ""
      }
     },
     "ff9955da4c994729add44201cd976dab": {
      "model_module": "@jupyter-widgets/base",
      "model_module_version": "1.2.0",
      "model_name": "LayoutModel",
      "state": {
       "_model_module": "@jupyter-widgets/base",
       "_model_module_version": "1.2.0",
       "_model_name": "LayoutModel",
       "_view_count": null,
       "_view_module": "@jupyter-widgets/base",
       "_view_module_version": "1.2.0",
       "_view_name": "LayoutView",
       "align_content": null,
       "align_items": null,
       "align_self": null,
       "border": null,
       "bottom": null,
       "display": null,
       "flex": null,
       "flex_flow": null,
       "grid_area": null,
       "grid_auto_columns": null,
       "grid_auto_flow": null,
       "grid_auto_rows": null,
       "grid_column": null,
       "grid_gap": null,
       "grid_row": null,
       "grid_template_areas": null,
       "grid_template_columns": null,
       "grid_template_rows": null,
       "height": null,
       "justify_content": null,
       "justify_items": null,
       "left": null,
       "margin": null,
       "max_height": null,
       "max_width": null,
       "min_height": null,
       "min_width": null,
       "object_fit": null,
       "object_position": null,
       "order": null,
       "overflow": null,
       "overflow_x": null,
       "overflow_y": null,
       "padding": null,
       "right": null,
       "top": null,
       "visibility": null,
       "width": null
      }
     }
    },
    "version_major": 2,
    "version_minor": 0
   }
  }
 },
 "nbformat": 4,
 "nbformat_minor": 5
}
