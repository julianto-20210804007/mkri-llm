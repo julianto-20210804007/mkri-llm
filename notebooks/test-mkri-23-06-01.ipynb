{
 "cells": [
  {
   "cell_type": "markdown",
   "id": "974b3c11",
   "metadata": {
    "papermill": {
     "duration": 0.036374,
     "end_time": "2024-01-31T15:40:51.725937",
     "exception": false,
     "start_time": "2024-01-31T15:40:51.689563",
     "status": "completed"
    },
    "tags": []
   },
   "source": [
    "https://www.kaggle.com/code/rkuo2000/chromadb-langchain-gpt4all\n",
    "\n",
    "https://python.langchain.com/docs/integrations/llms/gpt4all\n",
    "\n",
    "https://github.com/nomic-ai/gpt4all/tree/main/gpt4all-bindings/python\n",
    "\n",
    "https://www.kaggle.com/code/gpreda/test-gpt4all-on-kaggle"
   ]
  },
  {
   "cell_type": "code",
   "execution_count": 1,
   "id": "8ce21363",
   "metadata": {
    "execution": {
     "iopub.execute_input": "2024-01-31T15:40:51.799277Z",
     "iopub.status.busy": "2024-01-31T15:40:51.798903Z",
     "iopub.status.idle": "2024-01-31T15:40:51.809370Z",
     "shell.execute_reply": "2024-01-31T15:40:51.808435Z"
    },
    "papermill": {
     "duration": 0.050219,
     "end_time": "2024-01-31T15:40:51.811550",
     "exception": false,
     "start_time": "2024-01-31T15:40:51.761331",
     "status": "completed"
    },
    "tags": []
   },
   "outputs": [],
   "source": [
    "import time\n",
    "start = time.time()"
   ]
  },
  {
   "cell_type": "code",
   "execution_count": 2,
   "id": "c19a7926",
   "metadata": {
    "execution": {
     "iopub.execute_input": "2024-01-31T15:40:51.883307Z",
     "iopub.status.busy": "2024-01-31T15:40:51.882625Z",
     "iopub.status.idle": "2024-01-31T15:40:52.894215Z",
     "shell.execute_reply": "2024-01-31T15:40:52.893199Z"
    },
    "papermill": {
     "duration": 1.050477,
     "end_time": "2024-01-31T15:40:52.896764",
     "exception": false,
     "start_time": "2024-01-31T15:40:51.846287",
     "status": "completed"
    },
    "tags": []
   },
   "outputs": [
    {
     "name": "stdout",
     "output_type": "stream",
     "text": [
      "GPU 0: Tesla T4 (UUID: GPU-06d21f9a-0e92-126c-feac-b07e92af6edf)\r\n",
      "GPU 1: Tesla T4 (UUID: GPU-987eb799-3fbb-d0ce-7766-9aafab03934f)\r\n"
     ]
    }
   ],
   "source": [
    "! nvidia-smi -L"
   ]
  },
  {
   "cell_type": "code",
   "execution_count": 3,
   "id": "7c4eb1d1",
   "metadata": {
    "execution": {
     "iopub.execute_input": "2024-01-31T15:40:52.974595Z",
     "iopub.status.busy": "2024-01-31T15:40:52.973846Z",
     "iopub.status.idle": "2024-01-31T15:42:48.049834Z",
     "shell.execute_reply": "2024-01-31T15:42:48.048615Z"
    },
    "papermill": {
     "duration": 115.154315,
     "end_time": "2024-01-31T15:42:48.087876",
     "exception": false,
     "start_time": "2024-01-31T15:40:52.933561",
     "status": "completed"
    },
    "tags": []
   },
   "outputs": [
    {
     "name": "stdout",
     "output_type": "stream",
     "text": [
      "\u001b[31mERROR: pip's dependency resolver does not currently take into account all the packages that are installed. This behaviour is the source of the following dependency conflicts.\r\n",
      "cudf 23.8.0 requires cupy-cuda11x>=12.0.0, which is not installed.\r\n",
      "cuml 23.8.0 requires cupy-cuda11x>=12.0.0, which is not installed.\r\n",
      "dask-cudf 23.8.0 requires cupy-cuda11x>=12.0.0, which is not installed.\r\n",
      "apache-beam 2.46.0 requires dill<0.3.2,>=0.3.1.1, but you have dill 0.3.7 which is incompatible.\r\n",
      "apache-beam 2.46.0 requires pyarrow<10.0.0,>=3.0.0, but you have pyarrow 11.0.0 which is incompatible.\r\n",
      "cudf 23.8.0 requires pandas<1.6.0dev0,>=1.3, but you have pandas 2.0.3 which is incompatible.\r\n",
      "cudf 23.8.0 requires protobuf<5,>=4.21, but you have protobuf 3.20.3 which is incompatible.\r\n",
      "cuml 23.8.0 requires dask==2023.7.1, but you have dask 2023.12.1 which is incompatible.\r\n",
      "cuml 23.8.0 requires distributed==2023.7.1, but you have distributed 2023.12.1 which is incompatible.\r\n",
      "dask-cuda 23.8.0 requires dask==2023.7.1, but you have dask 2023.12.1 which is incompatible.\r\n",
      "dask-cuda 23.8.0 requires distributed==2023.7.1, but you have distributed 2023.12.1 which is incompatible.\r\n",
      "dask-cuda 23.8.0 requires pandas<1.6.0dev0,>=1.3, but you have pandas 2.0.3 which is incompatible.\r\n",
      "dask-cudf 23.8.0 requires dask==2023.7.1, but you have dask 2023.12.1 which is incompatible.\r\n",
      "dask-cudf 23.8.0 requires distributed==2023.7.1, but you have distributed 2023.12.1 which is incompatible.\r\n",
      "dask-cudf 23.8.0 requires pandas<1.6.0dev0,>=1.3, but you have pandas 2.0.3 which is incompatible.\r\n",
      "google-cloud-bigquery 2.34.4 requires packaging<22.0dev,>=14.3, but you have packaging 23.2 which is incompatible.\r\n",
      "google-cloud-pubsublite 1.8.3 requires overrides<7.0.0,>=6.0.1, but you have overrides 7.7.0 which is incompatible.\r\n",
      "jupyterlab 4.0.10 requires jupyter-lsp>=2.0.0, but you have jupyter-lsp 1.5.1 which is incompatible.\r\n",
      "jupyterlab-lsp 5.0.1 requires jupyter-lsp>=2.0.0, but you have jupyter-lsp 1.5.1 which is incompatible.\r\n",
      "kfp 2.0.1 requires google-cloud-storage<3,>=2.2.1, but you have google-cloud-storage 1.44.0 which is incompatible.\r\n",
      "kfp 2.0.1 requires kubernetes<27,>=8.0.0, but you have kubernetes 29.0.0 which is incompatible.\r\n",
      "libpysal 4.9.2 requires shapely>=2.0.1, but you have shapely 1.8.5.post1 which is incompatible.\r\n",
      "momepy 0.7.0 requires shapely>=2, but you have shapely 1.8.5.post1 which is incompatible.\r\n",
      "opentelemetry-exporter-otlp 1.19.0 requires opentelemetry-exporter-otlp-proto-grpc==1.19.0, but you have opentelemetry-exporter-otlp-proto-grpc 1.22.0 which is incompatible.\r\n",
      "opentelemetry-exporter-otlp-proto-http 1.19.0 requires opentelemetry-exporter-otlp-proto-common==1.19.0, but you have opentelemetry-exporter-otlp-proto-common 1.22.0 which is incompatible.\r\n",
      "opentelemetry-exporter-otlp-proto-http 1.19.0 requires opentelemetry-proto==1.19.0, but you have opentelemetry-proto 1.22.0 which is incompatible.\r\n",
      "opentelemetry-exporter-otlp-proto-http 1.19.0 requires opentelemetry-sdk~=1.19.0, but you have opentelemetry-sdk 1.22.0 which is incompatible.\r\n",
      "pymc3 3.11.5 requires numpy<1.22.2,>=1.15.0, but you have numpy 1.24.3 which is incompatible.\r\n",
      "pymc3 3.11.5 requires scipy<1.8.0,>=1.7.3, but you have scipy 1.11.4 which is incompatible.\r\n",
      "raft-dask 23.8.0 requires dask==2023.7.1, but you have dask 2023.12.1 which is incompatible.\r\n",
      "raft-dask 23.8.0 requires distributed==2023.7.1, but you have distributed 2023.12.1 which is incompatible.\r\n",
      "spopt 0.6.0 requires shapely>=2.0.1, but you have shapely 1.8.5.post1 which is incompatible.\r\n",
      "ydata-profiling 4.5.1 requires numpy<1.24,>=1.16.0, but you have numpy 1.24.3 which is incompatible.\u001b[0m\u001b[31m\r\n",
      "\u001b[0mCPU times: user 1.78 s, sys: 406 ms, total: 2.18 s\n",
      "Wall time: 1min 55s\n"
     ]
    }
   ],
   "source": [
    "%%time\n",
    "\n",
    "! pip install -qq -U langchain tiktoken pypdf chromadb faiss-gpu\n",
    "! pip install -qq -U transformers InstructorEmbedding sentence_transformers\n",
    "! pip install -qq -U bitsandbytes bitsandbytes-cuda117\n",
    "! pip install -qq -U gpt4all"
   ]
  },
  {
   "cell_type": "code",
   "execution_count": 4,
   "id": "b51e8239",
   "metadata": {
    "execution": {
     "iopub.execute_input": "2024-01-31T15:42:48.217535Z",
     "iopub.status.busy": "2024-01-31T15:42:48.217143Z",
     "iopub.status.idle": "2024-01-31T15:42:48.222295Z",
     "shell.execute_reply": "2024-01-31T15:42:48.221336Z"
    },
    "papermill": {
     "duration": 0.10057,
     "end_time": "2024-01-31T15:42:48.224566",
     "exception": false,
     "start_time": "2024-01-31T15:42:48.123996",
     "status": "completed"
    },
    "tags": []
   },
   "outputs": [],
   "source": [
    "#!wget https://gpt4all.io/models/ggml-gpt4all-j-v1.3-groovy.bin models"
   ]
  },
  {
   "cell_type": "code",
   "execution_count": 5,
   "id": "90d58c17",
   "metadata": {
    "execution": {
     "iopub.execute_input": "2024-01-31T15:42:48.299406Z",
     "iopub.status.busy": "2024-01-31T15:42:48.299007Z",
     "iopub.status.idle": "2024-01-31T15:43:07.827959Z",
     "shell.execute_reply": "2024-01-31T15:43:07.826884Z"
    },
    "papermill": {
     "duration": 19.569187,
     "end_time": "2024-01-31T15:43:07.830464",
     "exception": false,
     "start_time": "2024-01-31T15:42:48.261277",
     "status": "completed"
    },
    "tags": []
   },
   "outputs": [
    {
     "name": "stdout",
     "output_type": "stream",
     "text": [
      "0.1.4\n"
     ]
    }
   ],
   "source": [
    "import warnings\n",
    "warnings.filterwarnings(\"ignore\")\n",
    "\n",
    "import os\n",
    "import textwrap\n",
    "import shutil\n",
    "import pandas as pd\n",
    "import glob\n",
    "\n",
    "import langchain\n",
    "from langchain.llms import HuggingFacePipeline\n",
    "\n",
    "import torch\n",
    "import transformers\n",
    "from transformers import AutoTokenizer, AutoModelForCausalLM\n",
    "from transformers import LlamaTokenizer, LlamaForCausalLM, pipeline\n",
    "\n",
    "#quantization_config = BitsAndBytesConfig(llm_int8_enable_fp32_cpu_offload=True)\n",
    "\n",
    "#os.environ['TRANSFORMERS_CACHE'] = 'cache/'\n",
    "\n",
    "print(langchain.__version__)"
   ]
  },
  {
   "cell_type": "code",
   "execution_count": 6,
   "id": "18997ca3",
   "metadata": {
    "execution": {
     "iopub.execute_input": "2024-01-31T15:43:07.913950Z",
     "iopub.status.busy": "2024-01-31T15:43:07.913216Z",
     "iopub.status.idle": "2024-01-31T15:43:10.901312Z",
     "shell.execute_reply": "2024-01-31T15:43:10.900268Z"
    },
    "papermill": {
     "duration": 3.032753,
     "end_time": "2024-01-31T15:43:10.903883",
     "exception": false,
     "start_time": "2024-01-31T15:43:07.871130",
     "status": "completed"
    },
    "tags": []
   },
   "outputs": [],
   "source": [
    "### Multi-document retriever\n",
    "from langchain.vectorstores import Chroma, FAISS\n",
    "from langchain.text_splitter import RecursiveCharacterTextSplitter\n",
    "\n",
    "from langchain.chains import RetrievalQA, VectorDBQA\n",
    "from langchain.document_loaders import PyPDFLoader\n",
    "from langchain.document_loaders import DirectoryLoader\n",
    "#from gpt4all import GPT4All\n",
    "from langchain.llms import GPT4All\n",
    "from langchain.prompts import PromptTemplate\n",
    "\n",
    "\n",
    "from InstructorEmbedding import INSTRUCTOR\n",
    "from langchain.embeddings import HuggingFaceInstructEmbeddings"
   ]
  },
  {
   "cell_type": "code",
   "execution_count": 7,
   "id": "cbc26f21",
   "metadata": {
    "execution": {
     "iopub.execute_input": "2024-01-31T15:43:10.979379Z",
     "iopub.status.busy": "2024-01-31T15:43:10.978131Z",
     "iopub.status.idle": "2024-01-31T15:44:07.949037Z",
     "shell.execute_reply": "2024-01-31T15:44:07.947750Z"
    },
    "papermill": {
     "duration": 57.010278,
     "end_time": "2024-01-31T15:44:07.951716",
     "exception": false,
     "start_time": "2024-01-31T15:43:10.941438",
     "status": "completed"
    },
    "tags": []
   },
   "outputs": [
    {
     "name": "stdout",
     "output_type": "stream",
     "text": [
      "--2024-01-31 15:43:11--  https://gpt4all.io/models/gguf/mistral-7b-openorca.Q4_0.gguf\r\n",
      "Resolving gpt4all.io (gpt4all.io)... 104.26.0.159, 104.26.1.159, 172.67.71.169, ...\r\n",
      "Connecting to gpt4all.io (gpt4all.io)|104.26.0.159|:443... connected.\r\n",
      "HTTP request sent, awaiting response... 200 OK\r\n",
      "Length: 4108927744 (3.8G)\r\n",
      "Saving to: 'mistral-7b-openorca.Q4_0.gguf'\r\n",
      "\r\n",
      "mistral-7b-openorca 100%[===================>]   3.83G  48.1MB/s    in 56s     \r\n",
      "\r\n",
      "2024-01-31 15:44:07 (70.5 MB/s) - 'mistral-7b-openorca.Q4_0.gguf' saved [4108927744/4108927744]\r\n",
      "\r\n"
     ]
    }
   ],
   "source": [
    "!wget https://gpt4all.io/models/gguf/mistral-7b-openorca.Q4_0.gguf"
   ]
  },
  {
   "cell_type": "code",
   "execution_count": 8,
   "id": "76e11998",
   "metadata": {
    "execution": {
     "iopub.execute_input": "2024-01-31T15:44:08.069712Z",
     "iopub.status.busy": "2024-01-31T15:44:08.069304Z",
     "iopub.status.idle": "2024-01-31T15:44:10.705211Z",
     "shell.execute_reply": "2024-01-31T15:44:10.704104Z"
    },
    "papermill": {
     "duration": 2.69757,
     "end_time": "2024-01-31T15:44:10.707725",
     "exception": false,
     "start_time": "2024-01-31T15:44:08.010155",
     "status": "completed"
    },
    "tags": []
   },
   "outputs": [],
   "source": [
    "\n",
    "llm = GPT4All(model=\"/kaggle/working/mistral-7b-openorca.Q4_0.gguf\")"
   ]
  },
  {
   "cell_type": "code",
   "execution_count": 9,
   "id": "6da78489",
   "metadata": {
    "execution": {
     "iopub.execute_input": "2024-01-31T15:44:10.837360Z",
     "iopub.status.busy": "2024-01-31T15:44:10.836417Z",
     "iopub.status.idle": "2024-01-31T15:44:10.841218Z",
     "shell.execute_reply": "2024-01-31T15:44:10.840164Z"
    },
    "papermill": {
     "duration": 0.073982,
     "end_time": "2024-01-31T15:44:10.843713",
     "exception": false,
     "start_time": "2024-01-31T15:44:10.769731",
     "status": "completed"
    },
    "tags": []
   },
   "outputs": [],
   "source": [
    "#print(llm.generate(\"The capital of France is \", max_tokens=1028))"
   ]
  },
  {
   "cell_type": "code",
   "execution_count": 10,
   "id": "bd2ede8a",
   "metadata": {
    "execution": {
     "iopub.execute_input": "2024-01-31T15:44:10.978609Z",
     "iopub.status.busy": "2024-01-31T15:44:10.978176Z",
     "iopub.status.idle": "2024-01-31T15:44:10.987068Z",
     "shell.execute_reply": "2024-01-31T15:44:10.986073Z"
    },
    "papermill": {
     "duration": 0.07721,
     "end_time": "2024-01-31T15:44:10.989305",
     "exception": false,
     "start_time": "2024-01-31T15:44:10.912095",
     "status": "completed"
    },
    "tags": []
   },
   "outputs": [
    {
     "data": {
      "text/plain": [
       "GPT4All(model='/kaggle/working/mistral-7b-openorca.Q4_0.gguf', client=<gpt4all.gpt4all.GPT4All object at 0x7d8a03f22710>)"
      ]
     },
     "execution_count": 10,
     "metadata": {},
     "output_type": "execute_result"
    }
   ],
   "source": [
    "llm"
   ]
  },
  {
   "cell_type": "code",
   "execution_count": 11,
   "id": "90526c55",
   "metadata": {
    "execution": {
     "iopub.execute_input": "2024-01-31T15:44:11.120130Z",
     "iopub.status.busy": "2024-01-31T15:44:11.119683Z",
     "iopub.status.idle": "2024-01-31T15:45:38.609392Z",
     "shell.execute_reply": "2024-01-31T15:45:38.608261Z"
    },
    "papermill": {
     "duration": 87.625226,
     "end_time": "2024-01-31T15:45:38.679573",
     "exception": false,
     "start_time": "2024-01-31T15:44:11.054347",
     "status": "completed"
    },
    "tags": []
   },
   "outputs": [
    {
     "data": {
      "text/plain": [
       "'/kaggle/working/mk-vectordb-chroma'"
      ]
     },
     "execution_count": 11,
     "metadata": {},
     "output_type": "execute_result"
    }
   ],
   "source": [
    "shutil.copytree('/kaggle/input/mkvc-6-finalmix/kaggle/working/mk-vectordb-chroma-six', '/kaggle/working/mk-vectordb-chroma')"
   ]
  },
  {
   "cell_type": "code",
   "execution_count": 12,
   "id": "b50b48fe",
   "metadata": {
    "execution": {
     "iopub.execute_input": "2024-01-31T15:45:38.806937Z",
     "iopub.status.busy": "2024-01-31T15:45:38.806506Z",
     "iopub.status.idle": "2024-01-31T15:45:40.529889Z",
     "shell.execute_reply": "2024-01-31T15:45:40.528768Z"
    },
    "papermill": {
     "duration": 1.790682,
     "end_time": "2024-01-31T15:45:40.532192",
     "exception": false,
     "start_time": "2024-01-31T15:45:38.741510",
     "status": "completed"
    },
    "tags": []
   },
   "outputs": [
    {
     "data": {
      "application/vnd.jupyter.widget-view+json": {
       "model_id": "6e25b853018e450ab69275579b47e217",
       "version_major": 2,
       "version_minor": 0
      },
      "text/plain": [
       "modules.json:   0%|          | 0.00/387 [00:00<?, ?B/s]"
      ]
     },
     "metadata": {},
     "output_type": "display_data"
    },
    {
     "ename": "TypeError",
     "evalue": "INSTRUCTOR._load_sbert_model() got an unexpected keyword argument 'token'",
     "output_type": "error",
     "traceback": [
      "\u001b[0;31m---------------------------------------------------------------------------\u001b[0m",
      "\u001b[0;31mTypeError\u001b[0m                                 Traceback (most recent call last)",
      "File \u001b[0;32m<timed exec>:1\u001b[0m\n",
      "File \u001b[0;32m/opt/conda/lib/python3.10/site-packages/langchain_community/embeddings/huggingface.py:149\u001b[0m, in \u001b[0;36mHuggingFaceInstructEmbeddings.__init__\u001b[0;34m(self, **kwargs)\u001b[0m\n\u001b[1;32m    146\u001b[0m \u001b[38;5;28;01mtry\u001b[39;00m:\n\u001b[1;32m    147\u001b[0m     \u001b[38;5;28;01mfrom\u001b[39;00m \u001b[38;5;21;01mInstructorEmbedding\u001b[39;00m \u001b[38;5;28;01mimport\u001b[39;00m INSTRUCTOR\n\u001b[0;32m--> 149\u001b[0m     \u001b[38;5;28mself\u001b[39m\u001b[38;5;241m.\u001b[39mclient \u001b[38;5;241m=\u001b[39m \u001b[43mINSTRUCTOR\u001b[49m\u001b[43m(\u001b[49m\n\u001b[1;32m    150\u001b[0m \u001b[43m        \u001b[49m\u001b[38;5;28;43mself\u001b[39;49m\u001b[38;5;241;43m.\u001b[39;49m\u001b[43mmodel_name\u001b[49m\u001b[43m,\u001b[49m\u001b[43m \u001b[49m\u001b[43mcache_folder\u001b[49m\u001b[38;5;241;43m=\u001b[39;49m\u001b[38;5;28;43mself\u001b[39;49m\u001b[38;5;241;43m.\u001b[39;49m\u001b[43mcache_folder\u001b[49m\u001b[43m,\u001b[49m\u001b[43m \u001b[49m\u001b[38;5;241;43m*\u001b[39;49m\u001b[38;5;241;43m*\u001b[39;49m\u001b[38;5;28;43mself\u001b[39;49m\u001b[38;5;241;43m.\u001b[39;49m\u001b[43mmodel_kwargs\u001b[49m\n\u001b[1;32m    151\u001b[0m \u001b[43m    \u001b[49m\u001b[43m)\u001b[49m\n\u001b[1;32m    152\u001b[0m \u001b[38;5;28;01mexcept\u001b[39;00m \u001b[38;5;167;01mImportError\u001b[39;00m \u001b[38;5;28;01mas\u001b[39;00m e:\n\u001b[1;32m    153\u001b[0m     \u001b[38;5;28;01mraise\u001b[39;00m \u001b[38;5;167;01mImportError\u001b[39;00m(\u001b[38;5;124m\"\u001b[39m\u001b[38;5;124mDependencies for InstructorEmbedding not found.\u001b[39m\u001b[38;5;124m\"\u001b[39m) \u001b[38;5;28;01mfrom\u001b[39;00m \u001b[38;5;21;01me\u001b[39;00m\n",
      "File \u001b[0;32m/opt/conda/lib/python3.10/site-packages/sentence_transformers/SentenceTransformer.py:194\u001b[0m, in \u001b[0;36mSentenceTransformer.__init__\u001b[0;34m(self, model_name_or_path, modules, device, cache_folder, trust_remote_code, revision, token, use_auth_token)\u001b[0m\n\u001b[1;32m    191\u001b[0m         model_name_or_path \u001b[38;5;241m=\u001b[39m __MODEL_HUB_ORGANIZATION__ \u001b[38;5;241m+\u001b[39m \u001b[38;5;124m\"\u001b[39m\u001b[38;5;124m/\u001b[39m\u001b[38;5;124m\"\u001b[39m \u001b[38;5;241m+\u001b[39m model_name_or_path\n\u001b[1;32m    193\u001b[0m \u001b[38;5;28;01mif\u001b[39;00m is_sentence_transformer_model(model_name_or_path, token, cache_folder\u001b[38;5;241m=\u001b[39mcache_folder, revision\u001b[38;5;241m=\u001b[39mrevision):\n\u001b[0;32m--> 194\u001b[0m     modules \u001b[38;5;241m=\u001b[39m \u001b[38;5;28;43mself\u001b[39;49m\u001b[38;5;241;43m.\u001b[39;49m\u001b[43m_load_sbert_model\u001b[49m\u001b[43m(\u001b[49m\n\u001b[1;32m    195\u001b[0m \u001b[43m        \u001b[49m\u001b[43mmodel_name_or_path\u001b[49m\u001b[43m,\u001b[49m\n\u001b[1;32m    196\u001b[0m \u001b[43m        \u001b[49m\u001b[43mtoken\u001b[49m\u001b[38;5;241;43m=\u001b[39;49m\u001b[43mtoken\u001b[49m\u001b[43m,\u001b[49m\n\u001b[1;32m    197\u001b[0m \u001b[43m        \u001b[49m\u001b[43mcache_folder\u001b[49m\u001b[38;5;241;43m=\u001b[39;49m\u001b[43mcache_folder\u001b[49m\u001b[43m,\u001b[49m\n\u001b[1;32m    198\u001b[0m \u001b[43m        \u001b[49m\u001b[43mrevision\u001b[49m\u001b[38;5;241;43m=\u001b[39;49m\u001b[43mrevision\u001b[49m\u001b[43m,\u001b[49m\n\u001b[1;32m    199\u001b[0m \u001b[43m        \u001b[49m\u001b[43mtrust_remote_code\u001b[49m\u001b[38;5;241;43m=\u001b[39;49m\u001b[43mtrust_remote_code\u001b[49m\u001b[43m,\u001b[49m\n\u001b[1;32m    200\u001b[0m \u001b[43m    \u001b[49m\u001b[43m)\u001b[49m\n\u001b[1;32m    201\u001b[0m \u001b[38;5;28;01melse\u001b[39;00m:\n\u001b[1;32m    202\u001b[0m     modules \u001b[38;5;241m=\u001b[39m \u001b[38;5;28mself\u001b[39m\u001b[38;5;241m.\u001b[39m_load_auto_model(\n\u001b[1;32m    203\u001b[0m         model_name_or_path,\n\u001b[1;32m    204\u001b[0m         token\u001b[38;5;241m=\u001b[39mtoken,\n\u001b[0;32m   (...)\u001b[0m\n\u001b[1;32m    207\u001b[0m         trust_remote_code\u001b[38;5;241m=\u001b[39mtrust_remote_code,\n\u001b[1;32m    208\u001b[0m     )\n",
      "\u001b[0;31mTypeError\u001b[0m: INSTRUCTOR._load_sbert_model() got an unexpected keyword argument 'token'"
     ]
    }
   ],
   "source": [
    "%%time\n",
    "\n",
    "instructor_embeddings = HuggingFaceInstructEmbeddings(model_name=\"intfloat/multilingual-e5-base\", model_kwargs={\"device\": \"cuda\"})\n",
    "\n",
    "vectordb = Chroma(persist_directory='mk-vectordb-chroma',embedding_function=instructor_embeddings,)\n",
    "#vectordb.persist()"
   ]
  },
  {
   "cell_type": "code",
   "execution_count": 13,
   "id": "29d47ead",
   "metadata": {
    "execution": {
     "iopub.execute_input": "2024-01-31T15:45:42.076247Z",
     "iopub.status.busy": "2024-01-31T15:45:42.075589Z",
     "iopub.status.idle": "2024-01-31T15:45:42.128099Z",
     "shell.execute_reply": "2024-01-31T15:45:42.126808Z"
    },
    "papermill": {
     "duration": 0.160337,
     "end_time": "2024-01-31T15:45:42.131647",
     "exception": false,
     "start_time": "2024-01-31T15:45:41.971310",
     "status": "completed"
    },
    "tags": []
   },
   "outputs": [
    {
     "ename": "NameError",
     "evalue": "name 'vectordb' is not defined",
     "output_type": "error",
     "traceback": [
      "\u001b[0;31m---------------------------------------------------------------------------\u001b[0m",
      "\u001b[0;31mNameError\u001b[0m                                 Traceback (most recent call last)",
      "File \u001b[0;32m<timed exec>:1\u001b[0m\n",
      "\u001b[0;31mNameError\u001b[0m: name 'vectordb' is not defined"
     ]
    }
   ],
   "source": [
    "%%time\n",
    "retriever = vectordb.as_retriever(search_kwargs={\"k\": 3})\n",
    "#retriever = vectordb.as_retriever(search_type=\"mmr\", search_kwargs={\"k\": 6, \"lambda_mult\": 0.25})\n",
    "\n",
    "qa_chain = RetrievalQA.from_chain_type(llm=llm, \n",
    "                                       chain_type=\"stuff\", \n",
    "                                       retriever=retriever, \n",
    "                                       return_source_documents=True,\n",
    "                                       verbose=False)"
   ]
  },
  {
   "cell_type": "code",
   "execution_count": 14,
   "id": "dc3643eb",
   "metadata": {
    "execution": {
     "iopub.execute_input": "2024-01-31T15:45:42.326225Z",
     "iopub.status.busy": "2024-01-31T15:45:42.325427Z",
     "iopub.status.idle": "2024-01-31T15:45:42.550748Z",
     "shell.execute_reply": "2024-01-31T15:45:42.549256Z"
    },
    "papermill": {
     "duration": 0.325629,
     "end_time": "2024-01-31T15:45:42.552590",
     "exception": true,
     "start_time": "2024-01-31T15:45:42.226961",
     "status": "failed"
    },
    "tags": []
   },
   "outputs": [
    {
     "ename": "NameError",
     "evalue": "name 'qa_chain' is not defined",
     "output_type": "error",
     "traceback": [
      "\u001b[0;31m---------------------------------------------------------------------------\u001b[0m",
      "\u001b[0;31mNameError\u001b[0m                                 Traceback (most recent call last)",
      "Cell \u001b[0;32mIn[14], line 1\u001b[0m\n\u001b[0;32m----> 1\u001b[0m \u001b[43mqa_chain\u001b[49m\n",
      "\u001b[0;31mNameError\u001b[0m: name 'qa_chain' is not defined"
     ]
    }
   ],
   "source": [
    "qa_chain"
   ]
  },
  {
   "cell_type": "code",
   "execution_count": null,
   "id": "34cf6443",
   "metadata": {
    "execution": {
     "iopub.execute_input": "2024-01-08T16:05:16.149075Z",
     "iopub.status.busy": "2024-01-08T16:05:16.148735Z",
     "iopub.status.idle": "2024-01-08T16:05:16.154959Z",
     "shell.execute_reply": "2024-01-08T16:05:16.154141Z"
    },
    "papermill": {
     "duration": null,
     "end_time": null,
     "exception": null,
     "start_time": null,
     "status": "pending"
    },
    "tags": []
   },
   "outputs": [],
   "source": [
    "def wrap_text_preserve_newlines(text, width=110):\n",
    "    # Split the input text into lines based on newline characters\n",
    "    lines = text.split('\\n')\n",
    "\n",
    "    # Wrap each line individually\n",
    "    wrapped_lines = [textwrap.fill(line, width=width) for line in lines]\n",
    "\n",
    "    # Join the wrapped lines back together using newline characters\n",
    "    wrapped_text = '\\n'.join(wrapped_lines)\n",
    "\n",
    "    return wrapped_text\n",
    "\n",
    "def process_llm_response(llm_response):\n",
    "    print(wrap_text_preserve_newlines(llm_response['result']))\n",
    "    print('\\n\\nSources:')\n",
    "    for source in llm_response[\"source_documents\"]:\n",
    "        print(source.metadata['source'])"
   ]
  },
  {
   "cell_type": "code",
   "execution_count": null,
   "id": "49751fd4",
   "metadata": {
    "execution": {
     "iopub.execute_input": "2024-01-08T16:05:16.246168Z",
     "iopub.status.busy": "2024-01-08T16:05:16.245827Z",
     "iopub.status.idle": "2024-01-08T16:05:16.250340Z",
     "shell.execute_reply": "2024-01-08T16:05:16.249420Z"
    },
    "papermill": {
     "duration": null,
     "end_time": null,
     "exception": null,
     "start_time": null,
     "status": "pending"
    },
    "tags": []
   },
   "outputs": [],
   "source": [
    "def llm_ans(query):\n",
    "    llm_response = qa_chain(query)\n",
    "    ans = process_llm_response(llm_response)\n",
    "    return ans"
   ]
  },
  {
   "cell_type": "code",
   "execution_count": null,
   "id": "1b517c2c",
   "metadata": {
    "execution": {
     "iopub.execute_input": "2024-01-08T16:05:16.346249Z",
     "iopub.status.busy": "2024-01-08T16:05:16.345597Z",
     "iopub.status.idle": "2024-01-08T16:05:16.349632Z",
     "shell.execute_reply": "2024-01-08T16:05:16.348938Z"
    },
    "papermill": {
     "duration": null,
     "end_time": null,
     "exception": null,
     "start_time": null,
     "status": "pending"
    },
    "tags": []
   },
   "outputs": [],
   "source": [
    "#model"
   ]
  },
  {
   "cell_type": "code",
   "execution_count": null,
   "id": "75ef4f57",
   "metadata": {
    "execution": {
     "iopub.execute_input": "2024-01-08T16:05:16.444508Z",
     "iopub.status.busy": "2024-01-08T16:05:16.443761Z",
     "iopub.status.idle": "2024-01-08T16:05:16.509526Z",
     "shell.execute_reply": "2024-01-08T16:05:16.508621Z"
    },
    "papermill": {
     "duration": null,
     "end_time": null,
     "exception": null,
     "start_time": null,
     "status": "pending"
    },
    "tags": []
   },
   "outputs": [],
   "source": [
    "dataset = pd.read_csv('/kaggle/input/mkri-qa-3/dataset.csv',sep=';')\n",
    "dataset"
   ]
  },
  {
   "cell_type": "code",
   "execution_count": null,
   "id": "43e53a57",
   "metadata": {
    "execution": {
     "iopub.execute_input": "2024-01-08T16:05:16.614847Z",
     "iopub.status.busy": "2024-01-08T16:05:16.614523Z",
     "iopub.status.idle": "2024-01-08T18:38:49.128296Z",
     "shell.execute_reply": "2024-01-08T18:38:49.127220Z"
    },
    "papermill": {
     "duration": null,
     "end_time": null,
     "exception": null,
     "start_time": null,
     "status": "pending"
    },
    "tags": []
   },
   "outputs": [],
   "source": [
    "%%time\n",
    "for x,y in zip(dataset.no,dataset.qa_comb):\n",
    "    llm_time_start = time.time()\n",
    "    print(\"Nomor: \",x)\n",
    "    print(y)\n",
    "    llm_ans(y)\n",
    "    llm_time_end = time.time()\n",
    "    print(\"Time: \",llm_time_end - llm_time_start)\n",
    "    print(\"==============================================\")"
   ]
  },
  {
   "cell_type": "code",
   "execution_count": null,
   "id": "af6aa3f8",
   "metadata": {
    "execution": {
     "iopub.execute_input": "2024-01-08T18:38:49.303253Z",
     "iopub.status.busy": "2024-01-08T18:38:49.302904Z",
     "iopub.status.idle": "2024-01-08T18:38:49.308093Z",
     "shell.execute_reply": "2024-01-08T18:38:49.307042Z"
    },
    "papermill": {
     "duration": null,
     "end_time": null,
     "exception": null,
     "start_time": null,
     "status": "pending"
    },
    "tags": []
   },
   "outputs": [],
   "source": [
    "end = time.time()\n",
    "print(end - start)"
   ]
  }
 ],
 "metadata": {
  "kaggle": {
   "accelerator": "nvidiaTeslaT4",
   "dataSources": [
    {
     "datasetId": 3809209,
     "sourceId": 6602260,
     "sourceType": "datasetVersion"
    },
    {
     "datasetId": 3946908,
     "sourceId": 6867748,
     "sourceType": "datasetVersion"
    }
   ],
   "dockerImageVersionId": 30636,
   "isGpuEnabled": true,
   "isInternetEnabled": true,
   "language": "python",
   "sourceType": "notebook"
  },
  "kernelspec": {
   "display_name": "Python 3",
   "language": "python",
   "name": "python3"
  },
  "language_info": {
   "codemirror_mode": {
    "name": "ipython",
    "version": 3
   },
   "file_extension": ".py",
   "mimetype": "text/x-python",
   "name": "python",
   "nbconvert_exporter": "python",
   "pygments_lexer": "ipython3",
   "version": "3.10.12"
  },
  "papermill": {
   "default_parameters": {},
   "duration": 297.837174,
   "end_time": "2024-01-31T15:45:45.864182",
   "environment_variables": {},
   "exception": true,
   "input_path": "__notebook__.ipynb",
   "output_path": "__notebook__.ipynb",
   "parameters": {},
   "start_time": "2024-01-31T15:40:48.027008",
   "version": "2.4.0"
  },
  "widgets": {
   "application/vnd.jupyter.widget-state+json": {
    "state": {
     "01da9bb358134473a6eb62d12f7d34f2": {
      "model_module": "@jupyter-widgets/controls",
      "model_module_version": "1.5.0",
      "model_name": "HTMLModel",
      "state": {
       "_dom_classes": [],
       "_model_module": "@jupyter-widgets/controls",
       "_model_module_version": "1.5.0",
       "_model_name": "HTMLModel",
       "_view_count": null,
       "_view_module": "@jupyter-widgets/controls",
       "_view_module_version": "1.5.0",
       "_view_name": "HTMLView",
       "description": "",
       "description_tooltip": null,
       "layout": "IPY_MODEL_f90dcc81eecc47c4880186f3b161158b",
       "placeholder": "​",
       "style": "IPY_MODEL_47a57db2b31743509553516717d8a1da",
       "value": " 387/387 [00:00&lt;00:00, 22.2kB/s]"
      }
     },
     "0f5d70c0604442a5a8ea8341c0c37a61": {
      "model_module": "@jupyter-widgets/base",
      "model_module_version": "1.2.0",
      "model_name": "LayoutModel",
      "state": {
       "_model_module": "@jupyter-widgets/base",
       "_model_module_version": "1.2.0",
       "_model_name": "LayoutModel",
       "_view_count": null,
       "_view_module": "@jupyter-widgets/base",
       "_view_module_version": "1.2.0",
       "_view_name": "LayoutView",
       "align_content": null,
       "align_items": null,
       "align_self": null,
       "border": null,
       "bottom": null,
       "display": null,
       "flex": null,
       "flex_flow": null,
       "grid_area": null,
       "grid_auto_columns": null,
       "grid_auto_flow": null,
       "grid_auto_rows": null,
       "grid_column": null,
       "grid_gap": null,
       "grid_row": null,
       "grid_template_areas": null,
       "grid_template_columns": null,
       "grid_template_rows": null,
       "height": null,
       "justify_content": null,
       "justify_items": null,
       "left": null,
       "margin": null,
       "max_height": null,
       "max_width": null,
       "min_height": null,
       "min_width": null,
       "object_fit": null,
       "object_position": null,
       "order": null,
       "overflow": null,
       "overflow_x": null,
       "overflow_y": null,
       "padding": null,
       "right": null,
       "top": null,
       "visibility": null,
       "width": null
      }
     },
     "3c46add53ba5495b9edc348500756e2a": {
      "model_module": "@jupyter-widgets/base",
      "model_module_version": "1.2.0",
      "model_name": "LayoutModel",
      "state": {
       "_model_module": "@jupyter-widgets/base",
       "_model_module_version": "1.2.0",
       "_model_name": "LayoutModel",
       "_view_count": null,
       "_view_module": "@jupyter-widgets/base",
       "_view_module_version": "1.2.0",
       "_view_name": "LayoutView",
       "align_content": null,
       "align_items": null,
       "align_self": null,
       "border": null,
       "bottom": null,
       "display": null,
       "flex": null,
       "flex_flow": null,
       "grid_area": null,
       "grid_auto_columns": null,
       "grid_auto_flow": null,
       "grid_auto_rows": null,
       "grid_column": null,
       "grid_gap": null,
       "grid_row": null,
       "grid_template_areas": null,
       "grid_template_columns": null,
       "grid_template_rows": null,
       "height": null,
       "justify_content": null,
       "justify_items": null,
       "left": null,
       "margin": null,
       "max_height": null,
       "max_width": null,
       "min_height": null,
       "min_width": null,
       "object_fit": null,
       "object_position": null,
       "order": null,
       "overflow": null,
       "overflow_x": null,
       "overflow_y": null,
       "padding": null,
       "right": null,
       "top": null,
       "visibility": null,
       "width": null
      }
     },
     "47a57db2b31743509553516717d8a1da": {
      "model_module": "@jupyter-widgets/controls",
      "model_module_version": "1.5.0",
      "model_name": "DescriptionStyleModel",
      "state": {
       "_model_module": "@jupyter-widgets/controls",
       "_model_module_version": "1.5.0",
       "_model_name": "DescriptionStyleModel",
       "_view_count": null,
       "_view_module": "@jupyter-widgets/base",
       "_view_module_version": "1.2.0",
       "_view_name": "StyleView",
       "description_width": ""
      }
     },
     "6e25b853018e450ab69275579b47e217": {
      "model_module": "@jupyter-widgets/controls",
      "model_module_version": "1.5.0",
      "model_name": "HBoxModel",
      "state": {
       "_dom_classes": [],
       "_model_module": "@jupyter-widgets/controls",
       "_model_module_version": "1.5.0",
       "_model_name": "HBoxModel",
       "_view_count": null,
       "_view_module": "@jupyter-widgets/controls",
       "_view_module_version": "1.5.0",
       "_view_name": "HBoxView",
       "box_style": "",
       "children": [
        "IPY_MODEL_88472ae80df042e591259d90e21c9fbe",
        "IPY_MODEL_c3fb987657d443228fb29839504d5763",
        "IPY_MODEL_01da9bb358134473a6eb62d12f7d34f2"
       ],
       "layout": "IPY_MODEL_0f5d70c0604442a5a8ea8341c0c37a61"
      }
     },
     "88472ae80df042e591259d90e21c9fbe": {
      "model_module": "@jupyter-widgets/controls",
      "model_module_version": "1.5.0",
      "model_name": "HTMLModel",
      "state": {
       "_dom_classes": [],
       "_model_module": "@jupyter-widgets/controls",
       "_model_module_version": "1.5.0",
       "_model_name": "HTMLModel",
       "_view_count": null,
       "_view_module": "@jupyter-widgets/controls",
       "_view_module_version": "1.5.0",
       "_view_name": "HTMLView",
       "description": "",
       "description_tooltip": null,
       "layout": "IPY_MODEL_9fd70bd8615641feb0e6d4a75a8211fa",
       "placeholder": "​",
       "style": "IPY_MODEL_fb65e2abf89e4a8991b2890306ea8d32",
       "value": "modules.json: 100%"
      }
     },
     "9fd70bd8615641feb0e6d4a75a8211fa": {
      "model_module": "@jupyter-widgets/base",
      "model_module_version": "1.2.0",
      "model_name": "LayoutModel",
      "state": {
       "_model_module": "@jupyter-widgets/base",
       "_model_module_version": "1.2.0",
       "_model_name": "LayoutModel",
       "_view_count": null,
       "_view_module": "@jupyter-widgets/base",
       "_view_module_version": "1.2.0",
       "_view_name": "LayoutView",
       "align_content": null,
       "align_items": null,
       "align_self": null,
       "border": null,
       "bottom": null,
       "display": null,
       "flex": null,
       "flex_flow": null,
       "grid_area": null,
       "grid_auto_columns": null,
       "grid_auto_flow": null,
       "grid_auto_rows": null,
       "grid_column": null,
       "grid_gap": null,
       "grid_row": null,
       "grid_template_areas": null,
       "grid_template_columns": null,
       "grid_template_rows": null,
       "height": null,
       "justify_content": null,
       "justify_items": null,
       "left": null,
       "margin": null,
       "max_height": null,
       "max_width": null,
       "min_height": null,
       "min_width": null,
       "object_fit": null,
       "object_position": null,
       "order": null,
       "overflow": null,
       "overflow_x": null,
       "overflow_y": null,
       "padding": null,
       "right": null,
       "top": null,
       "visibility": null,
       "width": null
      }
     },
     "ad1deefc690b46438b0fb1138ef86efb": {
      "model_module": "@jupyter-widgets/controls",
      "model_module_version": "1.5.0",
      "model_name": "ProgressStyleModel",
      "state": {
       "_model_module": "@jupyter-widgets/controls",
       "_model_module_version": "1.5.0",
       "_model_name": "ProgressStyleModel",
       "_view_count": null,
       "_view_module": "@jupyter-widgets/base",
       "_view_module_version": "1.2.0",
       "_view_name": "StyleView",
       "bar_color": null,
       "description_width": ""
      }
     },
     "c3fb987657d443228fb29839504d5763": {
      "model_module": "@jupyter-widgets/controls",
      "model_module_version": "1.5.0",
      "model_name": "FloatProgressModel",
      "state": {
       "_dom_classes": [],
       "_model_module": "@jupyter-widgets/controls",
       "_model_module_version": "1.5.0",
       "_model_name": "FloatProgressModel",
       "_view_count": null,
       "_view_module": "@jupyter-widgets/controls",
       "_view_module_version": "1.5.0",
       "_view_name": "ProgressView",
       "bar_style": "success",
       "description": "",
       "description_tooltip": null,
       "layout": "IPY_MODEL_3c46add53ba5495b9edc348500756e2a",
       "max": 387.0,
       "min": 0.0,
       "orientation": "horizontal",
       "style": "IPY_MODEL_ad1deefc690b46438b0fb1138ef86efb",
       "value": 387.0
      }
     },
     "f90dcc81eecc47c4880186f3b161158b": {
      "model_module": "@jupyter-widgets/base",
      "model_module_version": "1.2.0",
      "model_name": "LayoutModel",
      "state": {
       "_model_module": "@jupyter-widgets/base",
       "_model_module_version": "1.2.0",
       "_model_name": "LayoutModel",
       "_view_count": null,
       "_view_module": "@jupyter-widgets/base",
       "_view_module_version": "1.2.0",
       "_view_name": "LayoutView",
       "align_content": null,
       "align_items": null,
       "align_self": null,
       "border": null,
       "bottom": null,
       "display": null,
       "flex": null,
       "flex_flow": null,
       "grid_area": null,
       "grid_auto_columns": null,
       "grid_auto_flow": null,
       "grid_auto_rows": null,
       "grid_column": null,
       "grid_gap": null,
       "grid_row": null,
       "grid_template_areas": null,
       "grid_template_columns": null,
       "grid_template_rows": null,
       "height": null,
       "justify_content": null,
       "justify_items": null,
       "left": null,
       "margin": null,
       "max_height": null,
       "max_width": null,
       "min_height": null,
       "min_width": null,
       "object_fit": null,
       "object_position": null,
       "order": null,
       "overflow": null,
       "overflow_x": null,
       "overflow_y": null,
       "padding": null,
       "right": null,
       "top": null,
       "visibility": null,
       "width": null
      }
     },
     "fb65e2abf89e4a8991b2890306ea8d32": {
      "model_module": "@jupyter-widgets/controls",
      "model_module_version": "1.5.0",
      "model_name": "DescriptionStyleModel",
      "state": {
       "_model_module": "@jupyter-widgets/controls",
       "_model_module_version": "1.5.0",
       "_model_name": "DescriptionStyleModel",
       "_view_count": null,
       "_view_module": "@jupyter-widgets/base",
       "_view_module_version": "1.2.0",
       "_view_name": "StyleView",
       "description_width": ""
      }
     }
    },
    "version_major": 2,
    "version_minor": 0
   }
  }
 },
 "nbformat": 4,
 "nbformat_minor": 5
}
