{
 "cells": [
  {
   "cell_type": "markdown",
   "id": "42756384",
   "metadata": {
    "papermill": {
     "duration": 0.006479,
     "end_time": "2024-01-07T11:06:49.004135",
     "exception": false,
     "start_time": "2024-01-07T11:06:48.997656",
     "status": "completed"
    },
    "tags": []
   },
   "source": [
    "https://www.kaggle.com/code/rkuo2000/chromadb-langchain-gpt4all\n",
    "\n",
    "https://python.langchain.com/docs/integrations/llms/gpt4all\n",
    "\n",
    "https://github.com/nomic-ai/gpt4all/tree/main/gpt4all-bindings/python\n",
    "\n",
    "https://www.kaggle.com/code/gpreda/test-gpt4all-on-kaggle"
   ]
  },
  {
   "cell_type": "code",
   "execution_count": 1,
   "id": "ff5cf639",
   "metadata": {
    "execution": {
     "iopub.execute_input": "2024-01-07T11:06:49.017254Z",
     "iopub.status.busy": "2024-01-07T11:06:49.016872Z",
     "iopub.status.idle": "2024-01-07T11:06:49.026655Z",
     "shell.execute_reply": "2024-01-07T11:06:49.025789Z"
    },
    "papermill": {
     "duration": 0.018354,
     "end_time": "2024-01-07T11:06:49.028608",
     "exception": false,
     "start_time": "2024-01-07T11:06:49.010254",
     "status": "completed"
    },
    "tags": []
   },
   "outputs": [],
   "source": [
    "import time\n",
    "start = time.time()"
   ]
  },
  {
   "cell_type": "code",
   "execution_count": 2,
   "id": "d7ca8371",
   "metadata": {
    "execution": {
     "iopub.execute_input": "2024-01-07T11:06:49.041532Z",
     "iopub.status.busy": "2024-01-07T11:06:49.041264Z",
     "iopub.status.idle": "2024-01-07T11:06:50.004101Z",
     "shell.execute_reply": "2024-01-07T11:06:50.002979Z"
    },
    "papermill": {
     "duration": 0.971738,
     "end_time": "2024-01-07T11:06:50.006361",
     "exception": false,
     "start_time": "2024-01-07T11:06:49.034623",
     "status": "completed"
    },
    "tags": []
   },
   "outputs": [
    {
     "name": "stdout",
     "output_type": "stream",
     "text": [
      "GPU 0: Tesla T4 (UUID: GPU-b486f664-d241-3f16-175e-05b41a0169f8)\r\n",
      "GPU 1: Tesla T4 (UUID: GPU-3ee59c1b-4620-7a2b-43f7-48ab5f68079c)\r\n"
     ]
    }
   ],
   "source": [
    "! nvidia-smi -L"
   ]
  },
  {
   "cell_type": "code",
   "execution_count": 3,
   "id": "61c5be44",
   "metadata": {
    "execution": {
     "iopub.execute_input": "2024-01-07T11:06:50.020008Z",
     "iopub.status.busy": "2024-01-07T11:06:50.019699Z",
     "iopub.status.idle": "2024-01-07T11:08:45.725394Z",
     "shell.execute_reply": "2024-01-07T11:08:45.724079Z"
    },
    "papermill": {
     "duration": 115.721195,
     "end_time": "2024-01-07T11:08:45.733743",
     "exception": false,
     "start_time": "2024-01-07T11:06:50.012548",
     "status": "completed"
    },
    "tags": []
   },
   "outputs": [
    {
     "name": "stdout",
     "output_type": "stream",
     "text": [
      "\u001b[31mERROR: pip's dependency resolver does not currently take into account all the packages that are installed. This behaviour is the source of the following dependency conflicts.\r\n",
      "cudf 23.8.0 requires cupy-cuda11x>=12.0.0, which is not installed.\r\n",
      "cuml 23.8.0 requires cupy-cuda11x>=12.0.0, which is not installed.\r\n",
      "dask-cudf 23.8.0 requires cupy-cuda11x>=12.0.0, which is not installed.\r\n",
      "apache-beam 2.46.0 requires dill<0.3.2,>=0.3.1.1, but you have dill 0.3.7 which is incompatible.\r\n",
      "apache-beam 2.46.0 requires pyarrow<10.0.0,>=3.0.0, but you have pyarrow 11.0.0 which is incompatible.\r\n",
      "cudf 23.8.0 requires pandas<1.6.0dev0,>=1.3, but you have pandas 2.0.2 which is incompatible.\r\n",
      "cudf 23.8.0 requires protobuf<5,>=4.21, but you have protobuf 3.20.3 which is incompatible.\r\n",
      "cuml 23.8.0 requires dask==2023.7.1, but you have dask 2023.9.0 which is incompatible.\r\n",
      "dask-cuda 23.8.0 requires dask==2023.7.1, but you have dask 2023.9.0 which is incompatible.\r\n",
      "dask-cuda 23.8.0 requires pandas<1.6.0dev0,>=1.3, but you have pandas 2.0.2 which is incompatible.\r\n",
      "dask-cudf 23.8.0 requires dask==2023.7.1, but you have dask 2023.9.0 which is incompatible.\r\n",
      "dask-cudf 23.8.0 requires pandas<1.6.0dev0,>=1.3, but you have pandas 2.0.2 which is incompatible.\r\n",
      "distributed 2023.7.1 requires dask==2023.7.1, but you have dask 2023.9.0 which is incompatible.\r\n",
      "google-cloud-bigquery 2.34.4 requires packaging<22.0dev,>=14.3, but you have packaging 23.2 which is incompatible.\r\n",
      "google-cloud-pubsublite 1.8.2 requires overrides<7.0.0,>=6.0.1, but you have overrides 7.4.0 which is incompatible.\r\n",
      "jupyterlab-lsp 4.2.0 requires jupyter-lsp>=2.0.0, but you have jupyter-lsp 1.5.1 which is incompatible.\r\n",
      "kfp 2.0.1 requires google-cloud-storage<3,>=2.2.1, but you have google-cloud-storage 1.44.0 which is incompatible.\r\n",
      "kfp 2.0.1 requires kubernetes<27,>=8.0.0, but you have kubernetes 28.1.0 which is incompatible.\r\n",
      "momepy 0.6.0 requires shapely>=2, but you have shapely 1.8.5.post1 which is incompatible.\r\n",
      "opentelemetry-exporter-otlp 1.18.0 requires opentelemetry-exporter-otlp-proto-grpc==1.18.0, but you have opentelemetry-exporter-otlp-proto-grpc 1.22.0 which is incompatible.\r\n",
      "opentelemetry-exporter-otlp-proto-http 1.18.0 requires opentelemetry-exporter-otlp-proto-common==1.18.0, but you have opentelemetry-exporter-otlp-proto-common 1.22.0 which is incompatible.\r\n",
      "opentelemetry-exporter-otlp-proto-http 1.18.0 requires opentelemetry-proto==1.18.0, but you have opentelemetry-proto 1.22.0 which is incompatible.\r\n",
      "opentelemetry-exporter-otlp-proto-http 1.18.0 requires opentelemetry-sdk~=1.18.0, but you have opentelemetry-sdk 1.22.0 which is incompatible.\r\n",
      "pymc3 3.11.5 requires numpy<1.22.2,>=1.15.0, but you have numpy 1.23.5 which is incompatible.\r\n",
      "pymc3 3.11.5 requires scipy<1.8.0,>=1.7.3, but you have scipy 1.11.2 which is incompatible.\r\n",
      "raft-dask 23.8.0 requires dask==2023.7.1, but you have dask 2023.9.0 which is incompatible.\r\n",
      "ray 2.5.1 requires grpcio<=1.51.3,>=1.42.0; python_version >= \"3.10\" and sys_platform != \"darwin\", but you have grpcio 1.60.0 which is incompatible.\r\n",
      "ydata-profiling 4.3.1 requires scipy<1.11,>=1.4.1, but you have scipy 1.11.2 which is incompatible.\u001b[0m\u001b[31m\r\n",
      "\u001b[0m\u001b[31mERROR: pip's dependency resolver does not currently take into account all the packages that are installed. This behaviour is the source of the following dependency conflicts.\r\n",
      "chromadb 0.4.22 requires grpcio>=1.58.0, but you have grpcio 1.51.3 which is incompatible.\u001b[0m\u001b[31m\r\n",
      "\u001b[0mCPU times: user 1.31 s, sys: 331 ms, total: 1.64 s\n",
      "Wall time: 1min 55s\n"
     ]
    }
   ],
   "source": [
    "%%time\n",
    "\n",
    "! pip install -qq -U langchain tiktoken pypdf chromadb faiss-gpu\n",
    "! pip install -qq -U transformers InstructorEmbedding sentence_transformers\n",
    "! pip install -qq -U bitsandbytes bitsandbytes-cuda117\n",
    "! pip install -qq -U gpt4all"
   ]
  },
  {
   "cell_type": "code",
   "execution_count": 4,
   "id": "b0a89c9f",
   "metadata": {
    "execution": {
     "iopub.execute_input": "2024-01-07T11:08:45.748287Z",
     "iopub.status.busy": "2024-01-07T11:08:45.747943Z",
     "iopub.status.idle": "2024-01-07T11:08:45.752460Z",
     "shell.execute_reply": "2024-01-07T11:08:45.751499Z"
    },
    "papermill": {
     "duration": 0.014072,
     "end_time": "2024-01-07T11:08:45.754338",
     "exception": false,
     "start_time": "2024-01-07T11:08:45.740266",
     "status": "completed"
    },
    "tags": []
   },
   "outputs": [],
   "source": [
    "#!wget https://gpt4all.io/models/ggml-gpt4all-j-v1.3-groovy.bin models"
   ]
  },
  {
   "cell_type": "code",
   "execution_count": 5,
   "id": "00d51da4",
   "metadata": {
    "execution": {
     "iopub.execute_input": "2024-01-07T11:08:45.768445Z",
     "iopub.status.busy": "2024-01-07T11:08:45.768166Z",
     "iopub.status.idle": "2024-01-07T11:09:02.553192Z",
     "shell.execute_reply": "2024-01-07T11:09:02.552244Z"
    },
    "papermill": {
     "duration": 16.794304,
     "end_time": "2024-01-07T11:09:02.555177",
     "exception": false,
     "start_time": "2024-01-07T11:08:45.760873",
     "status": "completed"
    },
    "tags": []
   },
   "outputs": [
    {
     "name": "stdout",
     "output_type": "stream",
     "text": [
      "0.1.0\n"
     ]
    }
   ],
   "source": [
    "import warnings\n",
    "warnings.filterwarnings(\"ignore\")\n",
    "\n",
    "import os\n",
    "import textwrap\n",
    "import shutil\n",
    "import pandas as pd\n",
    "import glob\n",
    "\n",
    "import langchain\n",
    "from langchain.llms import HuggingFacePipeline\n",
    "\n",
    "import torch\n",
    "import transformers\n",
    "from transformers import AutoTokenizer, AutoModelForCausalLM\n",
    "from transformers import LlamaTokenizer, LlamaForCausalLM, pipeline\n",
    "\n",
    "#quantization_config = BitsAndBytesConfig(llm_int8_enable_fp32_cpu_offload=True)\n",
    "\n",
    "#os.environ['TRANSFORMERS_CACHE'] = 'cache/'\n",
    "\n",
    "print(langchain.__version__)"
   ]
  },
  {
   "cell_type": "code",
   "execution_count": 6,
   "id": "ab7dbcf2",
   "metadata": {
    "execution": {
     "iopub.execute_input": "2024-01-07T11:09:02.570081Z",
     "iopub.status.busy": "2024-01-07T11:09:02.569808Z",
     "iopub.status.idle": "2024-01-07T11:09:05.312569Z",
     "shell.execute_reply": "2024-01-07T11:09:05.311751Z"
    },
    "papermill": {
     "duration": 2.752446,
     "end_time": "2024-01-07T11:09:05.314798",
     "exception": false,
     "start_time": "2024-01-07T11:09:02.562352",
     "status": "completed"
    },
    "tags": []
   },
   "outputs": [],
   "source": [
    "### Multi-document retriever\n",
    "from langchain.vectorstores import Chroma, FAISS\n",
    "from langchain.text_splitter import RecursiveCharacterTextSplitter\n",
    "\n",
    "from langchain.chains import RetrievalQA, VectorDBQA\n",
    "from langchain.document_loaders import PyPDFLoader\n",
    "from langchain.document_loaders import DirectoryLoader\n",
    "#from gpt4all import GPT4All\n",
    "from langchain.llms import GPT4All\n",
    "from langchain.prompts import PromptTemplate\n",
    "\n",
    "\n",
    "from InstructorEmbedding import INSTRUCTOR\n",
    "from langchain.embeddings import HuggingFaceInstructEmbeddings"
   ]
  },
  {
   "cell_type": "code",
   "execution_count": 7,
   "id": "398d0b80",
   "metadata": {
    "execution": {
     "iopub.execute_input": "2024-01-07T11:09:05.329627Z",
     "iopub.status.busy": "2024-01-07T11:09:05.328888Z",
     "iopub.status.idle": "2024-01-07T11:10:01.734105Z",
     "shell.execute_reply": "2024-01-07T11:10:01.733012Z"
    },
    "papermill": {
     "duration": 56.41457,
     "end_time": "2024-01-07T11:10:01.736241",
     "exception": false,
     "start_time": "2024-01-07T11:09:05.321671",
     "status": "completed"
    },
    "tags": []
   },
   "outputs": [
    {
     "name": "stdout",
     "output_type": "stream",
     "text": [
      "--2024-01-07 11:09:06--  https://gpt4all.io/models/gguf/mistral-7b-openorca.Q4_0.gguf\r\n",
      "Resolving gpt4all.io (gpt4all.io)... 104.26.0.159, 172.67.71.169, 104.26.1.159, ...\r\n",
      "Connecting to gpt4all.io (gpt4all.io)|104.26.0.159|:443... connected.\r\n",
      "HTTP request sent, awaiting response... 200 OK\r\n",
      "Length: 4108927744 (3.8G)\r\n",
      "Saving to: ‘mistral-7b-openorca.Q4_0.gguf’\r\n",
      "\r\n",
      "mistral-7b-openorca 100%[===================>]   3.83G  47.0MB/s    in 55s     \r\n",
      "\r\n",
      "2024-01-07 11:10:01 (71.1 MB/s) - ‘mistral-7b-openorca.Q4_0.gguf’ saved [4108927744/4108927744]\r\n",
      "\r\n"
     ]
    }
   ],
   "source": [
    "!wget https://gpt4all.io/models/gguf/mistral-7b-openorca.Q4_0.gguf"
   ]
  },
  {
   "cell_type": "code",
   "execution_count": 8,
   "id": "ee38c920",
   "metadata": {
    "execution": {
     "iopub.execute_input": "2024-01-07T11:10:01.798560Z",
     "iopub.status.busy": "2024-01-07T11:10:01.798139Z",
     "iopub.status.idle": "2024-01-07T11:10:04.042034Z",
     "shell.execute_reply": "2024-01-07T11:10:04.041155Z"
    },
    "papermill": {
     "duration": 2.280903,
     "end_time": "2024-01-07T11:10:04.044605",
     "exception": false,
     "start_time": "2024-01-07T11:10:01.763702",
     "status": "completed"
    },
    "tags": []
   },
   "outputs": [],
   "source": [
    "\n",
    "llm = GPT4All(model=\"/kaggle/working/mistral-7b-openorca.Q4_0.gguf\")"
   ]
  },
  {
   "cell_type": "code",
   "execution_count": 9,
   "id": "c8f4aa75",
   "metadata": {
    "execution": {
     "iopub.execute_input": "2024-01-07T11:10:04.100066Z",
     "iopub.status.busy": "2024-01-07T11:10:04.099763Z",
     "iopub.status.idle": "2024-01-07T11:10:04.103790Z",
     "shell.execute_reply": "2024-01-07T11:10:04.103027Z"
    },
    "papermill": {
     "duration": 0.033585,
     "end_time": "2024-01-07T11:10:04.105851",
     "exception": false,
     "start_time": "2024-01-07T11:10:04.072266",
     "status": "completed"
    },
    "tags": []
   },
   "outputs": [],
   "source": [
    "#print(llm.generate(\"The capital of France is \", max_tokens=1028))"
   ]
  },
  {
   "cell_type": "code",
   "execution_count": 10,
   "id": "a474ab96",
   "metadata": {
    "execution": {
     "iopub.execute_input": "2024-01-07T11:10:04.160680Z",
     "iopub.status.busy": "2024-01-07T11:10:04.160364Z",
     "iopub.status.idle": "2024-01-07T11:10:04.171491Z",
     "shell.execute_reply": "2024-01-07T11:10:04.170585Z"
    },
    "papermill": {
     "duration": 0.041221,
     "end_time": "2024-01-07T11:10:04.173550",
     "exception": false,
     "start_time": "2024-01-07T11:10:04.132329",
     "status": "completed"
    },
    "tags": []
   },
   "outputs": [
    {
     "data": {
      "text/plain": [
       "GPT4All(model='/kaggle/working/mistral-7b-openorca.Q4_0.gguf', client=<gpt4all.gpt4all.GPT4All object at 0x7ccd39f9ae90>)"
      ]
     },
     "execution_count": 10,
     "metadata": {},
     "output_type": "execute_result"
    }
   ],
   "source": [
    "llm"
   ]
  },
  {
   "cell_type": "code",
   "execution_count": 11,
   "id": "f6e75a39",
   "metadata": {
    "execution": {
     "iopub.execute_input": "2024-01-07T11:10:04.225153Z",
     "iopub.status.busy": "2024-01-07T11:10:04.224896Z",
     "iopub.status.idle": "2024-01-07T11:11:40.979372Z",
     "shell.execute_reply": "2024-01-07T11:11:40.978376Z"
    },
    "papermill": {
     "duration": 96.819061,
     "end_time": "2024-01-07T11:11:41.018529",
     "exception": false,
     "start_time": "2024-01-07T11:10:04.199468",
     "status": "completed"
    },
    "tags": []
   },
   "outputs": [
    {
     "data": {
      "text/plain": [
       "'/kaggle/working/mk-vectordb-chroma'"
      ]
     },
     "execution_count": 11,
     "metadata": {},
     "output_type": "execute_result"
    }
   ],
   "source": [
    "shutil.copytree('/kaggle/input/mkvc-part-19/kaggle/working/mk-vectordb-chroma-nineteen', '/kaggle/working/mk-vectordb-chroma')"
   ]
  },
  {
   "cell_type": "code",
   "execution_count": 12,
   "id": "42357d41",
   "metadata": {
    "execution": {
     "iopub.execute_input": "2024-01-07T11:11:41.070100Z",
     "iopub.status.busy": "2024-01-07T11:11:41.069277Z",
     "iopub.status.idle": "2024-01-07T11:11:49.941458Z",
     "shell.execute_reply": "2024-01-07T11:11:49.940428Z"
    },
    "papermill": {
     "duration": 8.900136,
     "end_time": "2024-01-07T11:11:49.943509",
     "exception": false,
     "start_time": "2024-01-07T11:11:41.043373",
     "status": "completed"
    },
    "tags": []
   },
   "outputs": [
    {
     "name": "stdout",
     "output_type": "stream",
     "text": [
      "load INSTRUCTOR_Transformer\n",
      "max_seq_length  512\n",
      "CPU times: user 959 ms, sys: 959 ms, total: 1.92 s\n",
      "Wall time: 8.87 s\n"
     ]
    }
   ],
   "source": [
    "%%time\n",
    "\n",
    "instructor_embeddings = HuggingFaceInstructEmbeddings(model_name=\"/kaggle/input/mkbertdx\", model_kwargs={\"device\": \"cuda\"})\n",
    "\n",
    "vectordb = Chroma(persist_directory='mk-vectordb-chroma',embedding_function=instructor_embeddings,)\n",
    "#vectordb.persist()"
   ]
  },
  {
   "cell_type": "code",
   "execution_count": 13,
   "id": "70fb7ccb",
   "metadata": {
    "execution": {
     "iopub.execute_input": "2024-01-07T11:11:50.039802Z",
     "iopub.status.busy": "2024-01-07T11:11:50.038977Z",
     "iopub.status.idle": "2024-01-07T11:11:50.046653Z",
     "shell.execute_reply": "2024-01-07T11:11:50.045737Z"
    },
    "papermill": {
     "duration": 0.079823,
     "end_time": "2024-01-07T11:11:50.048669",
     "exception": false,
     "start_time": "2024-01-07T11:11:49.968846",
     "status": "completed"
    },
    "tags": []
   },
   "outputs": [
    {
     "name": "stdout",
     "output_type": "stream",
     "text": [
      "CPU times: user 1.1 ms, sys: 84 µs, total: 1.19 ms\n",
      "Wall time: 1.2 ms\n"
     ]
    }
   ],
   "source": [
    "%%time\n",
    "retriever = vectordb.as_retriever(search_kwargs={\"k\": 3})\n",
    "#retriever = vectordb.as_retriever(search_type=\"mmr\", search_kwargs={\"k\": 6, \"lambda_mult\": 0.25})\n",
    "\n",
    "qa_chain = RetrievalQA.from_chain_type(llm=llm, \n",
    "                                       chain_type=\"stuff\", \n",
    "                                       retriever=retriever, \n",
    "                                       return_source_documents=True,\n",
    "                                       verbose=False)"
   ]
  },
  {
   "cell_type": "code",
   "execution_count": 14,
   "id": "9e73cbad",
   "metadata": {
    "execution": {
     "iopub.execute_input": "2024-01-07T11:11:50.099745Z",
     "iopub.status.busy": "2024-01-07T11:11:50.099496Z",
     "iopub.status.idle": "2024-01-07T11:11:50.106168Z",
     "shell.execute_reply": "2024-01-07T11:11:50.105347Z"
    },
    "papermill": {
     "duration": 0.034338,
     "end_time": "2024-01-07T11:11:50.108075",
     "exception": false,
     "start_time": "2024-01-07T11:11:50.073737",
     "status": "completed"
    },
    "tags": []
   },
   "outputs": [
    {
     "data": {
      "text/plain": [
       "RetrievalQA(combine_documents_chain=StuffDocumentsChain(llm_chain=LLMChain(prompt=PromptTemplate(input_variables=['context', 'question'], template=\"Use the following pieces of context to answer the question at the end. If you don't know the answer, just say that you don't know, don't try to make up an answer.\\n\\n{context}\\n\\nQuestion: {question}\\nHelpful Answer:\"), llm=GPT4All(model='/kaggle/working/mistral-7b-openorca.Q4_0.gguf', client=<gpt4all.gpt4all.GPT4All object at 0x7ccd39f9ae90>)), document_variable_name='context'), return_source_documents=True, retriever=VectorStoreRetriever(tags=['Chroma', 'HuggingFaceInstructEmbeddings'], vectorstore=<langchain_community.vectorstores.chroma.Chroma object at 0x7ccd2991be50>, search_kwargs={'k': 3}))"
      ]
     },
     "execution_count": 14,
     "metadata": {},
     "output_type": "execute_result"
    }
   ],
   "source": [
    "qa_chain"
   ]
  },
  {
   "cell_type": "code",
   "execution_count": 15,
   "id": "23e58bed",
   "metadata": {
    "execution": {
     "iopub.execute_input": "2024-01-07T11:11:50.159742Z",
     "iopub.status.busy": "2024-01-07T11:11:50.159475Z",
     "iopub.status.idle": "2024-01-07T11:11:50.165257Z",
     "shell.execute_reply": "2024-01-07T11:11:50.164392Z"
    },
    "papermill": {
     "duration": 0.033988,
     "end_time": "2024-01-07T11:11:50.167121",
     "exception": false,
     "start_time": "2024-01-07T11:11:50.133133",
     "status": "completed"
    },
    "tags": []
   },
   "outputs": [],
   "source": [
    "def wrap_text_preserve_newlines(text, width=110):\n",
    "    # Split the input text into lines based on newline characters\n",
    "    lines = text.split('\\n')\n",
    "\n",
    "    # Wrap each line individually\n",
    "    wrapped_lines = [textwrap.fill(line, width=width) for line in lines]\n",
    "\n",
    "    # Join the wrapped lines back together using newline characters\n",
    "    wrapped_text = '\\n'.join(wrapped_lines)\n",
    "\n",
    "    return wrapped_text\n",
    "\n",
    "def process_llm_response(llm_response):\n",
    "    print(wrap_text_preserve_newlines(llm_response['result']))\n",
    "    print('\\n\\nSources:')\n",
    "    for source in llm_response[\"source_documents\"]:\n",
    "        print(source.metadata['source'])"
   ]
  },
  {
   "cell_type": "code",
   "execution_count": 16,
   "id": "e950a86e",
   "metadata": {
    "execution": {
     "iopub.execute_input": "2024-01-07T11:11:50.219518Z",
     "iopub.status.busy": "2024-01-07T11:11:50.219268Z",
     "iopub.status.idle": "2024-01-07T11:11:50.223406Z",
     "shell.execute_reply": "2024-01-07T11:11:50.222627Z"
    },
    "papermill": {
     "duration": 0.032258,
     "end_time": "2024-01-07T11:11:50.225313",
     "exception": false,
     "start_time": "2024-01-07T11:11:50.193055",
     "status": "completed"
    },
    "tags": []
   },
   "outputs": [],
   "source": [
    "def llm_ans(query):\n",
    "    llm_response = qa_chain(query)\n",
    "    ans = process_llm_response(llm_response)\n",
    "    return ans"
   ]
  },
  {
   "cell_type": "code",
   "execution_count": 17,
   "id": "166a44ec",
   "metadata": {
    "execution": {
     "iopub.execute_input": "2024-01-07T11:11:50.277734Z",
     "iopub.status.busy": "2024-01-07T11:11:50.277485Z",
     "iopub.status.idle": "2024-01-07T11:11:50.281067Z",
     "shell.execute_reply": "2024-01-07T11:11:50.280212Z"
    },
    "papermill": {
     "duration": 0.031618,
     "end_time": "2024-01-07T11:11:50.282920",
     "exception": false,
     "start_time": "2024-01-07T11:11:50.251302",
     "status": "completed"
    },
    "tags": []
   },
   "outputs": [],
   "source": [
    "#model"
   ]
  },
  {
   "cell_type": "code",
   "execution_count": 18,
   "id": "5b35acce",
   "metadata": {
    "execution": {
     "iopub.execute_input": "2024-01-07T11:11:50.334544Z",
     "iopub.status.busy": "2024-01-07T11:11:50.334300Z",
     "iopub.status.idle": "2024-01-07T11:11:50.393935Z",
     "shell.execute_reply": "2024-01-07T11:11:50.393069Z"
    },
    "papermill": {
     "duration": 0.087568,
     "end_time": "2024-01-07T11:11:50.395944",
     "exception": false,
     "start_time": "2024-01-07T11:11:50.308376",
     "status": "completed"
    },
    "tags": []
   },
   "outputs": [
    {
     "data": {
      "text/html": [
       "<div>\n",
       "<style scoped>\n",
       "    .dataframe tbody tr th:only-of-type {\n",
       "        vertical-align: middle;\n",
       "    }\n",
       "\n",
       "    .dataframe tbody tr th {\n",
       "        vertical-align: top;\n",
       "    }\n",
       "\n",
       "    .dataframe thead th {\n",
       "        text-align: right;\n",
       "    }\n",
       "</style>\n",
       "<table border=\"1\" class=\"dataframe\">\n",
       "  <thead>\n",
       "    <tr style=\"text-align: right;\">\n",
       "      <th></th>\n",
       "      <th>no</th>\n",
       "      <th>question</th>\n",
       "      <th>a</th>\n",
       "      <th>b</th>\n",
       "      <th>c</th>\n",
       "      <th>d</th>\n",
       "      <th>e</th>\n",
       "      <th>answer</th>\n",
       "      <th>explained</th>\n",
       "      <th>source</th>\n",
       "      <th>qa_comb</th>\n",
       "    </tr>\n",
       "  </thead>\n",
       "  <tbody>\n",
       "    <tr>\n",
       "      <th>0</th>\n",
       "      <td>1</td>\n",
       "      <td>Berdasarkan Pasal 24C ayat (1) Undang-Undang D...</td>\n",
       "      <td>Mahkamah Agung berwenang mengadili pada tingka...</td>\n",
       "      <td>Mahkamah Konstitusi berwenang mengadili pada t...</td>\n",
       "      <td>Kepolisian Negara Indonesia mengadili pada tin...</td>\n",
       "      <td>Presiden Republik Indonesia mengadili pada tin...</td>\n",
       "      <td>Tentara Negara Indonesia mengadili pada tingka...</td>\n",
       "      <td>b</td>\n",
       "      <td>Mahkamah Konstitusi berwenang mengadili pada t...</td>\n",
       "      <td>3282_putusan_mkri_6516.pdf</td>\n",
       "      <td>Berdasarkan Pasal 24C ayat (1) Undang-Undang D...</td>\n",
       "    </tr>\n",
       "    <tr>\n",
       "      <th>1</th>\n",
       "      <td>2</td>\n",
       "      <td>Permohonan diajukan dalam jangka waktu paling ...</td>\n",
       "      <td>Pasal 70 ayat (3) UU MK, Pasal 111 ayat (2) UU...</td>\n",
       "      <td>Pasal 74 ayat (3) UU MK, Pasal 474 ayat (2) UU...</td>\n",
       "      <td>Pasal 74 ayat (3) UU MK, Pasal 474 ayat (2) UU...</td>\n",
       "      <td>Pasal 74 ayat (3) UU MK, Pasal 474 ayat (2) UU...</td>\n",
       "      <td>Pasal 74 ayat (3) UU MK, Pasal 474 ayat (2) UU...</td>\n",
       "      <td>d</td>\n",
       "      <td>Bahwa berdasarkan Pasal 74 ayat (3) UU MK, Pas...</td>\n",
       "      <td>3270_putusan_mkri_6508.pdf</td>\n",
       "      <td>Permohonan diajukan dalam jangka waktu paling ...</td>\n",
       "    </tr>\n",
       "    <tr>\n",
       "      <th>2</th>\n",
       "      <td>3</td>\n",
       "      <td>Pasal 1 ayat (3) UUD 1945 yang berbunyi…</td>\n",
       "      <td>Negara Indonesia adalah negara Hukum</td>\n",
       "      <td>Negara Indonesia adalah negara Islam</td>\n",
       "      <td>Negara Indonesia adalah negara liberal</td>\n",
       "      <td>Negara Indonesia adalah negara kepulauan</td>\n",
       "      <td>Negara Indonesia adalah negara Kristen</td>\n",
       "      <td>a</td>\n",
       "      <td>Pasal 1 ayat (3) UUD 1945 yang berbunyi \"Negar...</td>\n",
       "      <td>1338_putusan_sidang_114%20PUU%202012%20-%20KUH...</td>\n",
       "      <td>Pasal 1 ayat (3) UUD 1945 yang berbunyi…\\n A. ...</td>\n",
       "    </tr>\n",
       "    <tr>\n",
       "      <th>3</th>\n",
       "      <td>4</td>\n",
       "      <td>Bahwa dengan demikian norma Pasal 244 KUHAP te...</td>\n",
       "      <td>Pasal 21D ayat (1) UUD 1945</td>\n",
       "      <td>Pasal 22D ayat (1) UUD 1945</td>\n",
       "      <td>Pasal 23D ayat (1) UUD 1945</td>\n",
       "      <td>Pasal 24D ayat (1) UUD 1945</td>\n",
       "      <td>Pasal 28D ayat (1) UUD 1945</td>\n",
       "      <td>e</td>\n",
       "      <td>Bahwa dengan demikian norma Pasal 244 KUHAP te...</td>\n",
       "      <td>1338_putusan_sidang_114%2520PUU%25202012%2520-...</td>\n",
       "      <td>Bahwa dengan demikian norma Pasal 244 KUHAP te...</td>\n",
       "    </tr>\n",
       "    <tr>\n",
       "      <th>4</th>\n",
       "      <td>5</td>\n",
       "      <td>Bunyi rumusan Pasal 244 KUHAP...</td>\n",
       "      <td>Keputusan perkara pidana tidak dapat diberikan...</td>\n",
       "      <td>Terhadap putusan perkara pidana yang diberikan...</td>\n",
       "      <td>Terhadap putusan perkara pidana yang diberikan...</td>\n",
       "      <td>Mengenai kedudukan hukum para Pemohon Pemerint...</td>\n",
       "      <td>NaN</td>\n",
       "      <td>c</td>\n",
       "      <td>Bunyi rumusan Pasal 244 KUHAP adalah \"Terhadap...</td>\n",
       "      <td>1338_putusan_sidang_114%2520PUU%25202012%2520-...</td>\n",
       "      <td>Bunyi rumusan Pasal 244 KUHAP...\\n A.  Keputus...</td>\n",
       "    </tr>\n",
       "    <tr>\n",
       "      <th>...</th>\n",
       "      <td>...</td>\n",
       "      <td>...</td>\n",
       "      <td>...</td>\n",
       "      <td>...</td>\n",
       "      <td>...</td>\n",
       "      <td>...</td>\n",
       "      <td>...</td>\n",
       "      <td>...</td>\n",
       "      <td>...</td>\n",
       "      <td>...</td>\n",
       "      <td>...</td>\n",
       "    </tr>\n",
       "    <tr>\n",
       "      <th>95</th>\n",
       "      <td>96</td>\n",
       "      <td>Governors, regents and mayors, respectively, a...</td>\n",
       "      <td>1945 Constitution Article 18 paragraph (4)</td>\n",
       "      <td>1945 Constitution Article 22E paragraph (1)</td>\n",
       "      <td>1945 Constitution Article 27 paragraph (1)</td>\n",
       "      <td>1945 Constitution Article 28C paragraph (2)</td>\n",
       "      <td>1945 Constitution Article 28D paragraph (1)</td>\n",
       "      <td>a</td>\n",
       "      <td>1945 Constitution Article 18 paragraph (4): Go...</td>\n",
       "      <td>526_putusan_sidang_PUTUSAN%2520PUU%2520TOLI-TO...</td>\n",
       "      <td>Governors, regents and mayors, respectively, a...</td>\n",
       "    </tr>\n",
       "    <tr>\n",
       "      <th>96</th>\n",
       "      <td>97</td>\n",
       "      <td>General elections are held directly, publicly,...</td>\n",
       "      <td>1946 Constitution Article 18 paragraph (4)</td>\n",
       "      <td>1946 Constitution Article 22E paragraph (1)</td>\n",
       "      <td>1946 Constitution Article 27 paragraph (1)</td>\n",
       "      <td>1946 Constitution Article 28C paragraph (2)</td>\n",
       "      <td>1946 Constitution Article 28D paragraph (1)</td>\n",
       "      <td>b</td>\n",
       "      <td>1945 Constitution Article 22E paragraph (1): G...</td>\n",
       "      <td>526_putusan_sidang_PUTUSAN%2520PUU%2520TOLI-TO...</td>\n",
       "      <td>General elections are held directly, publicly,...</td>\n",
       "    </tr>\n",
       "    <tr>\n",
       "      <th>97</th>\n",
       "      <td>98</td>\n",
       "      <td>All citizens have the same position under the ...</td>\n",
       "      <td>1947 Constitution Article 18 paragraph (4)</td>\n",
       "      <td>1947 Constitution Article 22E paragraph (1)</td>\n",
       "      <td>1947 Constitution Article 27 paragraph (1)</td>\n",
       "      <td>1947 Constitution Article 28C paragraph (2)</td>\n",
       "      <td>1947 Constitution Article 28D paragraph (1)</td>\n",
       "      <td>c</td>\n",
       "      <td>1945 Constitution Article 27 paragraph (1): Al...</td>\n",
       "      <td>526_putusan_sidang_PUTUSAN%2520PUU%2520TOLI-TO...</td>\n",
       "      <td>All citizens have the same position under the ...</td>\n",
       "    </tr>\n",
       "    <tr>\n",
       "      <th>98</th>\n",
       "      <td>99</td>\n",
       "      <td>Everyone has the right to advance themselves i...</td>\n",
       "      <td>1948 Constitution Article 18 paragraph (4)</td>\n",
       "      <td>1948 Constitution Article 22E paragraph (1)</td>\n",
       "      <td>1948 Constitution Article 27 paragraph (1)</td>\n",
       "      <td>1948 Constitution Article 28C paragraph (2)</td>\n",
       "      <td>1948 Constitution Article 28D paragraph (1)</td>\n",
       "      <td>d</td>\n",
       "      <td>1945 Constitution Article 28C paragraph (2): E...</td>\n",
       "      <td>526_putusan_sidang_PUTUSAN%2520PUU%2520TOLI-TO...</td>\n",
       "      <td>Everyone has the right to advance themselves i...</td>\n",
       "    </tr>\n",
       "    <tr>\n",
       "      <th>99</th>\n",
       "      <td>100</td>\n",
       "      <td>Every person has the right to recognition, gua...</td>\n",
       "      <td>1949 Constitution Article 18 paragraph (4)</td>\n",
       "      <td>1949 Constitution Article 22E paragraph (1)</td>\n",
       "      <td>1949 Constitution Article 27 paragraph (1)</td>\n",
       "      <td>1949 Constitution Article 28C paragraph (2)</td>\n",
       "      <td>1949 Constitution Article 28D paragraph (1)</td>\n",
       "      <td>e</td>\n",
       "      <td>1945 Constitution Article 28D paragraph (1): E...</td>\n",
       "      <td>526_putusan_sidang_PUTUSAN%2520PUU%2520TOLI-TO...</td>\n",
       "      <td>Every person has the right to recognition, gua...</td>\n",
       "    </tr>\n",
       "  </tbody>\n",
       "</table>\n",
       "<p>100 rows × 11 columns</p>\n",
       "</div>"
      ],
      "text/plain": [
       "     no                                           question  \\\n",
       "0     1  Berdasarkan Pasal 24C ayat (1) Undang-Undang D...   \n",
       "1     2  Permohonan diajukan dalam jangka waktu paling ...   \n",
       "2     3           Pasal 1 ayat (3) UUD 1945 yang berbunyi…   \n",
       "3     4  Bahwa dengan demikian norma Pasal 244 KUHAP te...   \n",
       "4     5                   Bunyi rumusan Pasal 244 KUHAP...   \n",
       "..  ...                                                ...   \n",
       "95   96  Governors, regents and mayors, respectively, a...   \n",
       "96   97  General elections are held directly, publicly,...   \n",
       "97   98  All citizens have the same position under the ...   \n",
       "98   99  Everyone has the right to advance themselves i...   \n",
       "99  100  Every person has the right to recognition, gua...   \n",
       "\n",
       "                                                    a  \\\n",
       "0   Mahkamah Agung berwenang mengadili pada tingka...   \n",
       "1   Pasal 70 ayat (3) UU MK, Pasal 111 ayat (2) UU...   \n",
       "2                Negara Indonesia adalah negara Hukum   \n",
       "3                         Pasal 21D ayat (1) UUD 1945   \n",
       "4   Keputusan perkara pidana tidak dapat diberikan...   \n",
       "..                                                ...   \n",
       "95         1945 Constitution Article 18 paragraph (4)   \n",
       "96         1946 Constitution Article 18 paragraph (4)   \n",
       "97         1947 Constitution Article 18 paragraph (4)   \n",
       "98         1948 Constitution Article 18 paragraph (4)   \n",
       "99         1949 Constitution Article 18 paragraph (4)   \n",
       "\n",
       "                                                    b  \\\n",
       "0   Mahkamah Konstitusi berwenang mengadili pada t...   \n",
       "1   Pasal 74 ayat (3) UU MK, Pasal 474 ayat (2) UU...   \n",
       "2                Negara Indonesia adalah negara Islam   \n",
       "3                         Pasal 22D ayat (1) UUD 1945   \n",
       "4   Terhadap putusan perkara pidana yang diberikan...   \n",
       "..                                                ...   \n",
       "95        1945 Constitution Article 22E paragraph (1)   \n",
       "96        1946 Constitution Article 22E paragraph (1)   \n",
       "97        1947 Constitution Article 22E paragraph (1)   \n",
       "98        1948 Constitution Article 22E paragraph (1)   \n",
       "99        1949 Constitution Article 22E paragraph (1)   \n",
       "\n",
       "                                                    c  \\\n",
       "0   Kepolisian Negara Indonesia mengadili pada tin...   \n",
       "1   Pasal 74 ayat (3) UU MK, Pasal 474 ayat (2) UU...   \n",
       "2              Negara Indonesia adalah negara liberal   \n",
       "3                         Pasal 23D ayat (1) UUD 1945   \n",
       "4   Terhadap putusan perkara pidana yang diberikan...   \n",
       "..                                                ...   \n",
       "95         1945 Constitution Article 27 paragraph (1)   \n",
       "96         1946 Constitution Article 27 paragraph (1)   \n",
       "97         1947 Constitution Article 27 paragraph (1)   \n",
       "98         1948 Constitution Article 27 paragraph (1)   \n",
       "99         1949 Constitution Article 27 paragraph (1)   \n",
       "\n",
       "                                                    d  \\\n",
       "0   Presiden Republik Indonesia mengadili pada tin...   \n",
       "1   Pasal 74 ayat (3) UU MK, Pasal 474 ayat (2) UU...   \n",
       "2            Negara Indonesia adalah negara kepulauan   \n",
       "3                         Pasal 24D ayat (1) UUD 1945   \n",
       "4   Mengenai kedudukan hukum para Pemohon Pemerint...   \n",
       "..                                                ...   \n",
       "95        1945 Constitution Article 28C paragraph (2)   \n",
       "96        1946 Constitution Article 28C paragraph (2)   \n",
       "97        1947 Constitution Article 28C paragraph (2)   \n",
       "98        1948 Constitution Article 28C paragraph (2)   \n",
       "99        1949 Constitution Article 28C paragraph (2)   \n",
       "\n",
       "                                                    e answer  \\\n",
       "0   Tentara Negara Indonesia mengadili pada tingka...      b   \n",
       "1   Pasal 74 ayat (3) UU MK, Pasal 474 ayat (2) UU...      d   \n",
       "2              Negara Indonesia adalah negara Kristen      a   \n",
       "3                         Pasal 28D ayat (1) UUD 1945      e   \n",
       "4                                                 NaN      c   \n",
       "..                                                ...    ...   \n",
       "95        1945 Constitution Article 28D paragraph (1)      a   \n",
       "96        1946 Constitution Article 28D paragraph (1)      b   \n",
       "97        1947 Constitution Article 28D paragraph (1)      c   \n",
       "98        1948 Constitution Article 28D paragraph (1)      d   \n",
       "99        1949 Constitution Article 28D paragraph (1)      e   \n",
       "\n",
       "                                            explained  \\\n",
       "0   Mahkamah Konstitusi berwenang mengadili pada t...   \n",
       "1   Bahwa berdasarkan Pasal 74 ayat (3) UU MK, Pas...   \n",
       "2   Pasal 1 ayat (3) UUD 1945 yang berbunyi \"Negar...   \n",
       "3   Bahwa dengan demikian norma Pasal 244 KUHAP te...   \n",
       "4   Bunyi rumusan Pasal 244 KUHAP adalah \"Terhadap...   \n",
       "..                                                ...   \n",
       "95  1945 Constitution Article 18 paragraph (4): Go...   \n",
       "96  1945 Constitution Article 22E paragraph (1): G...   \n",
       "97  1945 Constitution Article 27 paragraph (1): Al...   \n",
       "98  1945 Constitution Article 28C paragraph (2): E...   \n",
       "99  1945 Constitution Article 28D paragraph (1): E...   \n",
       "\n",
       "                                               source  \\\n",
       "0                          3282_putusan_mkri_6516.pdf   \n",
       "1                          3270_putusan_mkri_6508.pdf   \n",
       "2   1338_putusan_sidang_114%20PUU%202012%20-%20KUH...   \n",
       "3   1338_putusan_sidang_114%2520PUU%25202012%2520-...   \n",
       "4   1338_putusan_sidang_114%2520PUU%25202012%2520-...   \n",
       "..                                                ...   \n",
       "95  526_putusan_sidang_PUTUSAN%2520PUU%2520TOLI-TO...   \n",
       "96  526_putusan_sidang_PUTUSAN%2520PUU%2520TOLI-TO...   \n",
       "97  526_putusan_sidang_PUTUSAN%2520PUU%2520TOLI-TO...   \n",
       "98  526_putusan_sidang_PUTUSAN%2520PUU%2520TOLI-TO...   \n",
       "99  526_putusan_sidang_PUTUSAN%2520PUU%2520TOLI-TO...   \n",
       "\n",
       "                                              qa_comb  \n",
       "0   Berdasarkan Pasal 24C ayat (1) Undang-Undang D...  \n",
       "1   Permohonan diajukan dalam jangka waktu paling ...  \n",
       "2   Pasal 1 ayat (3) UUD 1945 yang berbunyi…\\n A. ...  \n",
       "3   Bahwa dengan demikian norma Pasal 244 KUHAP te...  \n",
       "4   Bunyi rumusan Pasal 244 KUHAP...\\n A.  Keputus...  \n",
       "..                                                ...  \n",
       "95  Governors, regents and mayors, respectively, a...  \n",
       "96  General elections are held directly, publicly,...  \n",
       "97  All citizens have the same position under the ...  \n",
       "98  Everyone has the right to advance themselves i...  \n",
       "99  Every person has the right to recognition, gua...  \n",
       "\n",
       "[100 rows x 11 columns]"
      ]
     },
     "execution_count": 18,
     "metadata": {},
     "output_type": "execute_result"
    }
   ],
   "source": [
    "dataset = pd.read_csv('/kaggle/input/mkri-qa-3/dataset.csv',sep=';')\n",
    "dataset"
   ]
  },
  {
   "cell_type": "code",
   "execution_count": 19,
   "id": "049a0b44",
   "metadata": {
    "execution": {
     "iopub.execute_input": "2024-01-07T11:11:50.448619Z",
     "iopub.status.busy": "2024-01-07T11:11:50.448335Z",
     "iopub.status.idle": "2024-01-07T13:41:01.072122Z",
     "shell.execute_reply": "2024-01-07T13:41:01.071159Z"
    },
    "papermill": {
     "duration": 8950.695785,
     "end_time": "2024-01-07T13:41:01.117526",
     "exception": false,
     "start_time": "2024-01-07T11:11:50.421741",
     "status": "completed"
    },
    "tags": []
   },
   "outputs": [
    {
     "name": "stdout",
     "output_type": "stream",
     "text": [
      "Nomor:  1\n",
      "Berdasarkan Pasal 24C ayat (1) Undang-Undang Dasar Negara Republik Indonesia Tahun 1945 (selanjutnya disebut UUD 1945) menyatakan bahwa...\\n A.  Mahkamah Agung berwenang mengadili pada tingkat pertama dan terakhir yang putusannya bersifat final, antara lain, untuk memutus perselisihan tentang hasil pemilihan umum\\n B.  Mahkamah Konstitusi berwenang mengadili pada tingkat pertama dan terakhir yang putusannya bersifat final, antara lain, untuk memutus perselisihan tentang hasil pemilihan umum\\n C.  Kepolisian Negara Indonesia mengadili pada tingkat pertama dan terakhir yang putusannya bersifat final, antara lain, untuk memutus perselisihan tentang hasil pemilihan umum\\n D.  Presiden Republik Indonesia mengadili pada tingkat pertama dan terakhir yang putusannya bersifat final, antara lain, untuk memutus perselisihan tentang hasil pemilihan umum\\n E.  Tentara Negara Indonesia mengadili pada tingkat pertama dan terakhir yang putusannya bersifat final, antara lain, untuk memutus perselisihan tentang hasil pemilihan umum\n"
     ]
    },
    {
     "name": "stderr",
     "output_type": "stream",
     "text": [
      "/opt/conda/lib/python3.10/site-packages/langchain_core/_api/deprecation.py:189: LangChainDeprecationWarning: The function `__call__` was deprecated in LangChain 0.1.0 and will be removed in 0.2.0. Use invoke instead.\n",
      "  warn_deprecated(\n",
      "/opt/conda/lib/python3.10/site-packages/langchain_core/_api/deprecation.py:189: LangChainDeprecationWarning: The function `run` was deprecated in LangChain 0.1.0 and will be removed in 0.2.0. Use invoke instead.\n",
      "  warn_deprecated(\n",
      "/opt/conda/lib/python3.10/site-packages/langchain_core/_api/deprecation.py:189: LangChainDeprecationWarning: The function `__call__` was deprecated in LangChain 0.1.0 and will be removed in 0.2.0. Use invoke instead.\n",
      "  warn_deprecated(\n",
      "/opt/conda/lib/python3.10/site-packages/langchain_core/_api/deprecation.py:189: LangChainDeprecationWarning: The function `__call__` was deprecated in LangChain 0.1.0 and will be removed in 0.2.0. Use invoke instead.\n",
      "  warn_deprecated(\n"
     ]
    },
    {
     "name": "stdout",
     "output_type": "stream",
     "text": [
      " B. Mahkamah Konstitusi berwenang mengadili pada tingkat pertama dan terakhir yang putusannya bersifat final,\n",
      "antara lain, untuk memutus perselisihan tentang hasil pemilihan umum\n",
      "\n",
      "\n",
      "Sources:\n",
      "Time:  159.07358574867249\n",
      "==============================================\n",
      "Nomor:  2\n",
      "Permohonan diajukan dalam jangka waktu paling lama 3 X 24 (tiga kali dua puluh empat) jam sejak diumumkan penetapan perolehan suara hasil Pemilu Anggota DPR dan DPRD secara nasional oleh KPU, Isi dari pernyataan ini ada di pasal…\\n A.  Pasal 70 ayat (3) UU MK, Pasal 111 ayat (2) UU Pemilu, dan Pasal 6 ayat (1) PMK Nomor 2 Tahun 2018\\n B.  Pasal 74 ayat (3) UU MK, Pasal 474 ayat (2) UU Pemilu, dan Pasal 2 ayat (1) PMK Nomor 2 Tahun 2011\\n C.  Pasal 74 ayat (3) UU MK, Pasal 474 ayat (2) UU Pemilu, dan Pasal 1 ayat (1) PMK Nomor 2 Tahun 2018\\n D.  Pasal 74 ayat (3) UU MK, Pasal 474 ayat (2) UU Pemilu, dan Pasal 6 ayat (1) PMK Nomor 2 Tahun 2018\\n E.  Pasal 74 ayat (3) UU MK, Pasal 474 ayat (2) UU Pemilu, dan Pasal 4 ayat (1) PMK Nomor 2 Tahun 2018\n"
     ]
    },
    {
     "name": "stderr",
     "output_type": "stream",
     "text": [
      "/opt/conda/lib/python3.10/site-packages/langchain_core/_api/deprecation.py:189: LangChainDeprecationWarning: The function `__call__` was deprecated in LangChain 0.1.0 and will be removed in 0.2.0. Use invoke instead.\n",
      "  warn_deprecated(\n",
      "/opt/conda/lib/python3.10/site-packages/langchain_core/_api/deprecation.py:189: LangChainDeprecationWarning: The function `run` was deprecated in LangChain 0.1.0 and will be removed in 0.2.0. Use invoke instead.\n",
      "  warn_deprecated(\n",
      "/opt/conda/lib/python3.10/site-packages/langchain_core/_api/deprecation.py:189: LangChainDeprecationWarning: The function `__call__` was deprecated in LangChain 0.1.0 and will be removed in 0.2.0. Use invoke instead.\n",
      "  warn_deprecated(\n",
      "/opt/conda/lib/python3.10/site-packages/langchain_core/_api/deprecation.py:189: LangChainDeprecationWarning: The function `__call__` was deprecated in LangChain 0.1.0 and will be removed in 0.2.0. Use invoke instead.\n",
      "  warn_deprecated(\n"
     ]
    },
    {
     "name": "stdout",
     "output_type": "stream",
     "text": [
      " D. Pasal 74 ayat (3) UU MK, Pasal 474 ayat (2) UU Pemilu, dan Pasal 6 ayat (1) PMK Nomor 2 Tahun 2018\n",
      "\n",
      "\n",
      "Sources:\n",
      "Time:  157.13252806663513\n",
      "==============================================\n",
      "Nomor:  3\n",
      "Pasal 1 ayat (3) UUD 1945 yang berbunyi…\\n A.  Negara Indonesia adalah negara Hukum\\n B.  Negara Indonesia adalah negara Islam\\n C.  Negara Indonesia adalah negara liberal\\n D.  Negara Indonesia adalah negara kepulauan\\n E.  Negara Indonesia adalah negara Kristen\n"
     ]
    },
    {
     "name": "stderr",
     "output_type": "stream",
     "text": [
      "/opt/conda/lib/python3.10/site-packages/langchain_core/_api/deprecation.py:189: LangChainDeprecationWarning: The function `__call__` was deprecated in LangChain 0.1.0 and will be removed in 0.2.0. Use invoke instead.\n",
      "  warn_deprecated(\n",
      "/opt/conda/lib/python3.10/site-packages/langchain_core/_api/deprecation.py:189: LangChainDeprecationWarning: The function `run` was deprecated in LangChain 0.1.0 and will be removed in 0.2.0. Use invoke instead.\n",
      "  warn_deprecated(\n",
      "/opt/conda/lib/python3.10/site-packages/langchain_core/_api/deprecation.py:189: LangChainDeprecationWarning: The function `__call__` was deprecated in LangChain 0.1.0 and will be removed in 0.2.0. Use invoke instead.\n",
      "  warn_deprecated(\n",
      "/opt/conda/lib/python3.10/site-packages/langchain_core/_api/deprecation.py:189: LangChainDeprecationWarning: The function `__call__` was deprecated in LangChain 0.1.0 and will be removed in 0.2.0. Use invoke instead.\n",
      "  warn_deprecated(\n"
     ]
    },
    {
     "name": "stdout",
     "output_type": "stream",
     "text": [
      " A. Negara Indonesia adalas negara Hukum\n",
      "\n",
      "\n",
      "Sources:\n",
      "Time:  51.278239727020264\n",
      "==============================================\n",
      "Nomor:  4\n",
      "Bahwa dengan demikian norma Pasal 244 KUHAP telah menimbulkan ketidak-pastian bagi Pemohon dan bahwa ketidak-pastian ini telah merugikan Hak Konstitusionalnya sebagaimana ditentukan dalam…\\n A.  Pasal 21D ayat (1) UUD 1945\\n B.  Pasal 22D ayat (1) UUD 1945\\n C.  Pasal 23D ayat (1) UUD 1945\\n D.  Pasal 24D ayat (1) UUD 1945\\n E.  Pasal 28D ayat (1) UUD 1945\n"
     ]
    },
    {
     "name": "stderr",
     "output_type": "stream",
     "text": [
      "/opt/conda/lib/python3.10/site-packages/langchain_core/_api/deprecation.py:189: LangChainDeprecationWarning: The function `__call__` was deprecated in LangChain 0.1.0 and will be removed in 0.2.0. Use invoke instead.\n",
      "  warn_deprecated(\n",
      "/opt/conda/lib/python3.10/site-packages/langchain_core/_api/deprecation.py:189: LangChainDeprecationWarning: The function `run` was deprecated in LangChain 0.1.0 and will be removed in 0.2.0. Use invoke instead.\n",
      "  warn_deprecated(\n",
      "/opt/conda/lib/python3.10/site-packages/langchain_core/_api/deprecation.py:189: LangChainDeprecationWarning: The function `__call__` was deprecated in LangChain 0.1.0 and will be removed in 0.2.0. Use invoke instead.\n",
      "  warn_deprecated(\n",
      "/opt/conda/lib/python3.10/site-packages/langchain_core/_api/deprecation.py:189: LangChainDeprecationWarning: The function `__call__` was deprecated in LangChain 0.1.0 and will be removed in 0.2.0. Use invoke instead.\n",
      "  warn_deprecated(\n"
     ]
    },
    {
     "name": "stdout",
     "output_type": "stream",
     "text": [
      " B. Pasal 22D ayat (1) UUD 1945\n",
      "\n",
      "\n",
      "Sources:\n",
      "Time:  82.06371068954468\n",
      "==============================================\n",
      "Nomor:  5\n",
      "Bunyi rumusan Pasal 244 KUHAP...\\n A.  Keputusan perkara pidana tidak dapat diberikan oleh Mahkamah Agung, hanya boleh diberikan oleh Mahkamah Konsitusi.\\n B.  Terhadap putusan perkara pidana yang diberikan pada tingkat terakhir oleh pengadilan lain selain daripada Mahkamah Agung, terdakwa atau Penuntut Umum dapat mengajukan permintaan pemeriksaan kasasi kepada Mahkamah Agung terhadap putusan bebas.\\n C.  Terhadap putusan perkara pidana yang diberikan pada tingkat terakhir oleh pengadilan lain selain daripada Mahkamah Agung, terdakwa atau Penuntut Umum dapat mengajukan permintaan pemeriksaan kasasi kepada Mahkamah Agung kecuali terhadap putusan bebas.\\n D.  Mengenai kedudukan hukum para Pemohon Pemerintah menyerahkansepenuhnya kepada Majelis Hakim untuk menilai dan memutusnya.\\n E.  \n"
     ]
    },
    {
     "name": "stderr",
     "output_type": "stream",
     "text": [
      "/opt/conda/lib/python3.10/site-packages/langchain_core/_api/deprecation.py:189: LangChainDeprecationWarning: The function `__call__` was deprecated in LangChain 0.1.0 and will be removed in 0.2.0. Use invoke instead.\n",
      "  warn_deprecated(\n",
      "/opt/conda/lib/python3.10/site-packages/langchain_core/_api/deprecation.py:189: LangChainDeprecationWarning: The function `run` was deprecated in LangChain 0.1.0 and will be removed in 0.2.0. Use invoke instead.\n",
      "  warn_deprecated(\n",
      "/opt/conda/lib/python3.10/site-packages/langchain_core/_api/deprecation.py:189: LangChainDeprecationWarning: The function `__call__` was deprecated in LangChain 0.1.0 and will be removed in 0.2.0. Use invoke instead.\n",
      "  warn_deprecated(\n",
      "/opt/conda/lib/python3.10/site-packages/langchain_core/_api/deprecation.py:189: LangChainDeprecationWarning: The function `__call__` was deprecated in LangChain 0.1.0 and will be removed in 0.2.0. Use invoke instead.\n",
      "  warn_deprecated(\n"
     ]
    },
    {
     "name": "stdout",
     "output_type": "stream",
     "text": [
      " B. Terhadap putusan perkara pidana yang diberikan pada tingkat terakhir oleh pengadilan lain selain daripada\n",
      "Mahkamah Agung, terdakwa atau Penuntut Umum dapat mengajukan permintaan pemeriksaan kasasi kepada Mahkamah\n",
      "Agung terhadap putusan bebas.\n",
      "\n",
      "\n",
      "Sources:\n",
      "Time:  147.8678958415985\n",
      "==============================================\n",
      "Nomor:  6\n",
      "Segala warga negara bersamaankedudukannya di dalam hukum dan Pemerintahan dan wajib menjunjung hukum dan pemerintahan itu dengan tidak ada kecualinya, ada pada pasal…\\n A.  Pasal 27 ayat (1)\\n B.  Pasal 28C ayat (2)\\n C.  Pasal 28D ayat (1)\\n D.  Pasal 28E ayat (3)\\n E.  Pasal 28I ayat (2)\n"
     ]
    },
    {
     "name": "stderr",
     "output_type": "stream",
     "text": [
      "/opt/conda/lib/python3.10/site-packages/langchain_core/_api/deprecation.py:189: LangChainDeprecationWarning: The function `__call__` was deprecated in LangChain 0.1.0 and will be removed in 0.2.0. Use invoke instead.\n",
      "  warn_deprecated(\n",
      "/opt/conda/lib/python3.10/site-packages/langchain_core/_api/deprecation.py:189: LangChainDeprecationWarning: The function `run` was deprecated in LangChain 0.1.0 and will be removed in 0.2.0. Use invoke instead.\n",
      "  warn_deprecated(\n",
      "/opt/conda/lib/python3.10/site-packages/langchain_core/_api/deprecation.py:189: LangChainDeprecationWarning: The function `__call__` was deprecated in LangChain 0.1.0 and will be removed in 0.2.0. Use invoke instead.\n",
      "  warn_deprecated(\n",
      "/opt/conda/lib/python3.10/site-packages/langchain_core/_api/deprecation.py:189: LangChainDeprecationWarning: The function `__call__` was deprecated in LangChain 0.1.0 and will be removed in 0.2.0. Use invoke instead.\n",
      "  warn_deprecated(\n"
     ]
    },
    {
     "name": "stdout",
     "output_type": "stream",
     "text": [
      " A. Pasal 27 ayat (1)\n",
      "\n",
      "\n",
      "Sources:\n",
      "Time:  62.51116323471069\n",
      "==============================================\n",
      "Nomor:  7\n",
      "Setiap orang berhak untuk memajukan dirinya dalam memperjuangkan haknya secara kolektif untuk membangun masyarakat, bangsa, dan negaranya, ada pada pasal...\\n A.  Pasal 27 ayat (1)\\n B.  Pasal 28C ayat (2)\\n C.  Pasal 28D ayat (1)\\n D.  Pasal 28E ayat (3)\\n E.  Pasal 28I ayat (2)\n"
     ]
    },
    {
     "name": "stderr",
     "output_type": "stream",
     "text": [
      "/opt/conda/lib/python3.10/site-packages/langchain_core/_api/deprecation.py:189: LangChainDeprecationWarning: The function `__call__` was deprecated in LangChain 0.1.0 and will be removed in 0.2.0. Use invoke instead.\n",
      "  warn_deprecated(\n",
      "/opt/conda/lib/python3.10/site-packages/langchain_core/_api/deprecation.py:189: LangChainDeprecationWarning: The function `run` was deprecated in LangChain 0.1.0 and will be removed in 0.2.0. Use invoke instead.\n",
      "  warn_deprecated(\n",
      "/opt/conda/lib/python3.10/site-packages/langchain_core/_api/deprecation.py:189: LangChainDeprecationWarning: The function `__call__` was deprecated in LangChain 0.1.0 and will be removed in 0.2.0. Use invoke instead.\n",
      "  warn_deprecated(\n",
      "/opt/conda/lib/python3.10/site-packages/langchain_core/_api/deprecation.py:189: LangChainDeprecationWarning: The function `__call__` was deprecated in LangChain 0.1.0 and will be removed in 0.2.0. Use invoke instead.\n",
      "  warn_deprecated(\n"
     ]
    },
    {
     "name": "stdout",
     "output_type": "stream",
     "text": [
      " A. Pasal 27 ayat (1)\n",
      "\n",
      "Context: The question is about the right of every person to strive for collective rights in building their\n",
      "society, nation, and country. This context refers to a legal document or constitution that contains provisions\n",
      "on these rights. Among the options provided, option A states \"Pasal 27 ayat (1)\" which means Article 27\n",
      "paragraph (1) in Indonesian language. Therefore, it is most likely the correct answer as it directly relates\n",
      "to the context of individual and collective rights for building societies, nations, and countries.\n",
      "\n",
      "\n",
      "Sources:\n",
      "Time:  97.25206518173218\n",
      "==============================================\n",
      "Nomor:  8\n",
      "Setiap orang berhak atas pengakuan, jaminan, perlindungan dan kepastian hukum yang adil serta perlakuan yang sama di hadapan hukum, ada pada pasal…\\n A.  Pasal 27 ayat (1)\\n B.  Pasal 28C ayat (2)\\n C.  Pasal 28D ayat (1)\\n D.  Pasal 28E ayat (3)\\n E.  Pasal 28I ayat (2)\n"
     ]
    },
    {
     "name": "stderr",
     "output_type": "stream",
     "text": [
      "/opt/conda/lib/python3.10/site-packages/langchain_core/_api/deprecation.py:189: LangChainDeprecationWarning: The function `__call__` was deprecated in LangChain 0.1.0 and will be removed in 0.2.0. Use invoke instead.\n",
      "  warn_deprecated(\n",
      "/opt/conda/lib/python3.10/site-packages/langchain_core/_api/deprecation.py:189: LangChainDeprecationWarning: The function `run` was deprecated in LangChain 0.1.0 and will be removed in 0.2.0. Use invoke instead.\n",
      "  warn_deprecated(\n",
      "/opt/conda/lib/python3.10/site-packages/langchain_core/_api/deprecation.py:189: LangChainDeprecationWarning: The function `__call__` was deprecated in LangChain 0.1.0 and will be removed in 0.2.0. Use invoke instead.\n",
      "  warn_deprecated(\n",
      "/opt/conda/lib/python3.10/site-packages/langchain_core/_api/deprecation.py:189: LangChainDeprecationWarning: The function `__call__` was deprecated in LangChain 0.1.0 and will be removed in 0.2.0. Use invoke instead.\n",
      "  warn_deprecated(\n"
     ]
    },
    {
     "name": "stdout",
     "output_type": "stream",
     "text": [
      " A. Pasal 27 ayat (1)\n",
      "\n",
      "Context: The question is asking for the article number and paragraph of a legal document that states \"every\n",
      "person has the right to recognition, just guarantee, protection and legal certainty, equal treatment before\n",
      "the law.\" This statement can be found in Article 27, Paragraph 1. Therefore, the answer is A. Pasal 27 ayat\n",
      "(1).\n",
      "\n",
      "\n",
      "Sources:\n",
      "Time:  86.35222339630127\n",
      "==============================================\n",
      "Nomor:  9\n",
      "Setiap orang berhak atas kebebasan berserikat, berkumpul, dan mengeluarkan pendapat, ada pada pasal…\\n A.  Pasal 27 ayat (1)\\n B.  Pasal 28C ayat (2)\\n C.  Pasal 28D ayat (1)\\n D.  Pasal 28E ayat (3)\\n E.  Pasal 28I ayat (2)\n"
     ]
    },
    {
     "name": "stderr",
     "output_type": "stream",
     "text": [
      "/opt/conda/lib/python3.10/site-packages/langchain_core/_api/deprecation.py:189: LangChainDeprecationWarning: The function `__call__` was deprecated in LangChain 0.1.0 and will be removed in 0.2.0. Use invoke instead.\n",
      "  warn_deprecated(\n",
      "/opt/conda/lib/python3.10/site-packages/langchain_core/_api/deprecation.py:189: LangChainDeprecationWarning: The function `run` was deprecated in LangChain 0.1.0 and will be removed in 0.2.0. Use invoke instead.\n",
      "  warn_deprecated(\n",
      "/opt/conda/lib/python3.10/site-packages/langchain_core/_api/deprecation.py:189: LangChainDeprecationWarning: The function `__call__` was deprecated in LangChain 0.1.0 and will be removed in 0.2.0. Use invoke instead.\n",
      "  warn_deprecated(\n",
      "/opt/conda/lib/python3.10/site-packages/langchain_core/_api/deprecation.py:189: LangChainDeprecationWarning: The function `__call__` was deprecated in LangChain 0.1.0 and will be removed in 0.2.0. Use invoke instead.\n",
      "  warn_deprecated(\n"
     ]
    },
    {
     "name": "stdout",
     "output_type": "stream",
     "text": [
      " A. Pasal 27 ayat (1)\n",
      "\n",
      "Context: In the Indonesian Constitution, Article 27 states that every citizen has the right to freedom of\n",
      "association and expression of opinion. This is a fundamental principle in democratic societies, ensuring that\n",
      "people can come together and express their thoughts without fear of reprisals or censorship. The specific\n",
      "article number may vary depending on the edition of the constitution being referred to, but it generally falls\n",
      "within this range (27-30).\n",
      "\n",
      "Answer: A. Pasal 27 ayat (1)\n",
      "\n",
      "\n",
      "Sources:\n",
      "Time:  92.7836537361145\n",
      "==============================================\n",
      "Nomor:  10\n",
      "Setiap orang berhak bebas dari perlakuan yang bersifat diskriminatif atas dasar apapun dan berhak mendapatkan perlindungan terhadap perlakuan yang bersifat diskriminatif itu, ada pada pasal...\\n A.  Pasal 27 ayat (1)\\n B.  Pasal 28C ayat (2)\\n C.  Pasal 28D ayat (1)\\n D.  Pasal 28E ayat (3)\\n E.  Pasal 28I ayat (2)\n"
     ]
    },
    {
     "name": "stderr",
     "output_type": "stream",
     "text": [
      "/opt/conda/lib/python3.10/site-packages/langchain_core/_api/deprecation.py:189: LangChainDeprecationWarning: The function `__call__` was deprecated in LangChain 0.1.0 and will be removed in 0.2.0. Use invoke instead.\n",
      "  warn_deprecated(\n",
      "/opt/conda/lib/python3.10/site-packages/langchain_core/_api/deprecation.py:189: LangChainDeprecationWarning: The function `run` was deprecated in LangChain 0.1.0 and will be removed in 0.2.0. Use invoke instead.\n",
      "  warn_deprecated(\n",
      "/opt/conda/lib/python3.10/site-packages/langchain_core/_api/deprecation.py:189: LangChainDeprecationWarning: The function `__call__` was deprecated in LangChain 0.1.0 and will be removed in 0.2.0. Use invoke instead.\n",
      "  warn_deprecated(\n",
      "/opt/conda/lib/python3.10/site-packages/langchain_core/_api/deprecation.py:189: LangChainDeprecationWarning: The function `__call__` was deprecated in LangChain 0.1.0 and will be removed in 0.2.0. Use invoke instead.\n",
      "  warn_deprecated(\n"
     ]
    },
    {
     "name": "stdout",
     "output_type": "stream",
     "text": [
      " A. Pasal 27 ayat (1)\n",
      "\n",
      "Explanation: The question is asking about a specific law that protects people from discrimination and provides\n",
      "them with the right to be free from it. In this case, the answer is Pasal 27 ayat (1), which states that every\n",
      "person has the right to be free from any form of discrimination based on any grounds whatsoever. This article\n",
      "also ensures protection against such discriminatory treatment.\n",
      "\n",
      "\n",
      "Sources:\n",
      "Time:  94.82656645774841\n",
      "==============================================\n",
      "Nomor:  11\n",
      "Pemohon dapat menarik kembali permohonannya sebelum atau selama pemeriksaan Mahkamah Konstitusi dilakukan, dan penarikan kembali tersebut mengakibatkan permohonan tidak dapat diajukan kembali, ada di pasal...\\n A.  Pasal 31 Undang-Undang Nomor 24 Tahun 2003 tentang Mahkamah Konstitusi\\n B.  Pasal 32 Undang-Undang Nomor 24 Tahun 2003 tentang Mahkamah Konstitusi\\n C.  Pasal 35 Undang-Undang Nomor 23 Tahun 2003 tentang Mahkamah Konstitusi\\n D.  Pasal 35 Undang-Undang Nomor 24 Tahun 2003 tentang Mahkamah Konstitusi\\n E.  Pasal 35 Undang-Undang Nomor 25 Tahun 2003 tentang Mahkamah Konstitusi\n"
     ]
    },
    {
     "name": "stderr",
     "output_type": "stream",
     "text": [
      "/opt/conda/lib/python3.10/site-packages/langchain_core/_api/deprecation.py:189: LangChainDeprecationWarning: The function `__call__` was deprecated in LangChain 0.1.0 and will be removed in 0.2.0. Use invoke instead.\n",
      "  warn_deprecated(\n",
      "/opt/conda/lib/python3.10/site-packages/langchain_core/_api/deprecation.py:189: LangChainDeprecationWarning: The function `run` was deprecated in LangChain 0.1.0 and will be removed in 0.2.0. Use invoke instead.\n",
      "  warn_deprecated(\n",
      "/opt/conda/lib/python3.10/site-packages/langchain_core/_api/deprecation.py:189: LangChainDeprecationWarning: The function `__call__` was deprecated in LangChain 0.1.0 and will be removed in 0.2.0. Use invoke instead.\n",
      "  warn_deprecated(\n",
      "/opt/conda/lib/python3.10/site-packages/langchain_core/_api/deprecation.py:189: LangChainDeprecationWarning: The function `__call__` was deprecated in LangChain 0.1.0 and will be removed in 0.2.0. Use invoke instead.\n",
      "  warn_deprecated(\n"
     ]
    },
    {
     "name": "stdout",
     "output_type": "stream",
     "text": [
      " A. Pasal 31 Undang-Undang Nomor 24 Tahun 2003 tentang Mahkamah Konstitusi\n",
      "\n",
      "\n",
      "Sources:\n",
      "Time:  111.94052767753601\n",
      "==============================================\n",
      "Nomor:  12\n",
      "Tentang Pemilihan Umum Anggota DPR, DPD, dan DPRD menyebutkan bahwa peserta pemilu dan warga masyarakat melalui saksi peserta pemilu yang hadir dapat mengajukan keberatan terhadap jalannya dan hasil perhitungan suara di TPS, PPS, PPK, KPUD Kota/Kabupaten, KPU Provinsi, dan KPU Pusat apabila ternyata terdapat hal-hal yang tidak sesuai dengan peraturan perundang-undangan, ada pada...\\n A.  Pasal 96 ayat (8), Pasal 95 ayat (3), Pasal 98 ayat (3), Pasal 99 ayat (5), Pasal 100 ayat (5), dan Pasal 101 ayat (6)\\n B.  Pasal 96 ayat (8), Pasal 95 ayat (1), Pasal 98 ayat (3), Pasal 99 ayat (5), Pasal 100 ayat (5), dan Pasal 101 ayat (6)\\n C.  Pasal 96 ayat (8), Pasal 96 ayat (3), Pasal 98 ayat (3), Pasal 99 ayat (5), Pasal 100 ayat (5), dan Pasal 101 ayat (6)\\n D.  Pasal 96 ayat (8), Pasal 97 ayat (9), Pasal 98 ayat (3), Pasal 99 ayat (5), Pasal 100 ayat (5), dan Pasal 101 ayat (6)\\n E.  Pasal 96 ayat (8), Pasal 97 ayat (3), Pasal 98 ayat (3), Pasal 99 ayat (5), Pasal 100 ayat (5), dan Pasal 101 ayat (6)\n"
     ]
    },
    {
     "name": "stderr",
     "output_type": "stream",
     "text": [
      "/opt/conda/lib/python3.10/site-packages/langchain_core/_api/deprecation.py:189: LangChainDeprecationWarning: The function `__call__` was deprecated in LangChain 0.1.0 and will be removed in 0.2.0. Use invoke instead.\n",
      "  warn_deprecated(\n",
      "/opt/conda/lib/python3.10/site-packages/langchain_core/_api/deprecation.py:189: LangChainDeprecationWarning: The function `run` was deprecated in LangChain 0.1.0 and will be removed in 0.2.0. Use invoke instead.\n",
      "  warn_deprecated(\n",
      "/opt/conda/lib/python3.10/site-packages/langchain_core/_api/deprecation.py:189: LangChainDeprecationWarning: The function `__call__` was deprecated in LangChain 0.1.0 and will be removed in 0.2.0. Use invoke instead.\n",
      "  warn_deprecated(\n",
      "/opt/conda/lib/python3.10/site-packages/langchain_core/_api/deprecation.py:189: LangChainDeprecationWarning: The function `__call__` was deprecated in LangChain 0.1.0 and will be removed in 0.2.0. Use invoke instead.\n",
      "  warn_deprecated(\n"
     ]
    },
    {
     "name": "stdout",
     "output_type": "stream",
     "text": [
      " B. Pasal 96 ayat (8), Pasal 95 ayat (1), Pasal 98 ayat (3), Pasal 99 ayat (5), Pasal 100 ayat (5), dan Pasal\n",
      "101 ayat (6)\n",
      "\n",
      "\n",
      "Sources:\n",
      "Time:  189.45948553085327\n",
      "==============================================\n",
      "Nomor:  13\n",
      "Pada pokoknya menyebutkan permohonan hanya dapat dilakukan terhadap Penetapan hasil Pemilihan Umum yang dilakukan secara nasional oleh Komisi Pemilihan Umum yang mempengaruhi terpilihnya calon anggota DPD, Penentuan pasangan calon Presiden dan Wakil Presiden dan Perolehan Kursi Partai Politik, pada...\\n A.  Bahwa pasal 74 ayat (2) Undang-undang nomor 24 Tahun 2003 tentang Mahkamah Konstitusi, Undang-undang nomor 12 Tahun 2003 tentang Pemilihan Umum Anggota DPR, DPD, DPRD\\n B.  Bahwa pasal 73 ayat (2) Undang-undang nomor 24 Tahun 2003 tentang Mahkamah Konstitusi, Undang-undang nomor 12 Tahun 2003 tentang Pemilihan Umum Anggota DPR, DPD, DPRD\\n C.  Bahwa pasal 72 ayat (2) Undang-undang nomor 24 Tahun 2003 tentang Mahkamah Konstitusi, Undang-undang nomor 12 Tahun 2003 tentang Pemilihan Umum Anggota DPR, DPD, DPRD\\n D.  Bahwa pasal 71 ayat (2) Undang-undang nomor 24 Tahun 2003 tentang Mahkamah Konstitusi, Undang-undang nomor 12 Tahun 2003 tentang Pemilihan Umum Anggota DPR, DPD, DPRD\\n E.  Bahwa pasal 70 ayat (2) Undang-undang nomor 24 Tahun 2003 tentang Mahkamah Konstitusi, Undang-undang nomor 12 Tahun 2003 tentang Pemilihan Umum Anggota DPR, DPD, DPRD\n"
     ]
    },
    {
     "name": "stderr",
     "output_type": "stream",
     "text": [
      "/opt/conda/lib/python3.10/site-packages/langchain_core/_api/deprecation.py:189: LangChainDeprecationWarning: The function `__call__` was deprecated in LangChain 0.1.0 and will be removed in 0.2.0. Use invoke instead.\n",
      "  warn_deprecated(\n",
      "/opt/conda/lib/python3.10/site-packages/langchain_core/_api/deprecation.py:189: LangChainDeprecationWarning: The function `run` was deprecated in LangChain 0.1.0 and will be removed in 0.2.0. Use invoke instead.\n",
      "  warn_deprecated(\n",
      "/opt/conda/lib/python3.10/site-packages/langchain_core/_api/deprecation.py:189: LangChainDeprecationWarning: The function `__call__` was deprecated in LangChain 0.1.0 and will be removed in 0.2.0. Use invoke instead.\n",
      "  warn_deprecated(\n",
      "/opt/conda/lib/python3.10/site-packages/langchain_core/_api/deprecation.py:189: LangChainDeprecationWarning: The function `__call__` was deprecated in LangChain 0.1.0 and will be removed in 0.2.0. Use invoke instead.\n",
      "  warn_deprecated(\n"
     ]
    },
    {
     "name": "stdout",
     "output_type": "stream",
     "text": [
      " B. Bahwa pasal 73 ayat (2) Undang-undang nomor 24 Tahun 2003 tentang Mahkamah Konstitusi, Undang-undang nomor\n",
      "12 Tahun 2003 tentang Pemilihan Umum Anggota DPR, DPD, DPRD\n",
      "\n",
      "\n",
      "Sources:\n",
      "Time:  209.1444330215454\n",
      "==============================================\n",
      "Nomor:  14\n",
      "Bahwa seandainya Permohonan pemohon diterima, quod non, pasal 96 ayat (8), pasal 97 ayat (3), pasal 98 ayat (3), pasal 99 ayat (5), pasal 100 ayat (5) dan pasal 101 ayat (6) UU No. 12 tahun 2003 tentang Pemilihan Umum Anggota DPR, DPD, DPRD, berbunyi...\\n A.  Menyebutkan bahwa peserta Pemilu dan warga masyarakat yang mengikuti pemilihan umum harus warga negara Indonesia yang salah secara hukum\\n B.  Menyebutkan bahwa peserta Pemilu dan warga masyarakat melalui saksi peserta pemilu yang hadir dapat mengajukan keberatan terhadap jalannya dan hasil penghitungan suara di TPS, PPS, PPK KPUD Kota/Kabupaten, KPUD Propinsi dan KPU Pusat apabila ternyata terdapat hal-hal yang tidak sesuai dengan peraturan perundang-undangan\\n C.  Menyebutkan bahwa perhitungan suara dilakukan oleh RT/RW sekitar agar lebih baik\\n D.  Menyebutkan bahwa peserta penyedia TPU harus ada saksi dari masing-masing partai yang mengikutkan calon mereka\\n E.  Menyebutkan bahwa peserta harus sesuai dengan aturan\n"
     ]
    },
    {
     "name": "stderr",
     "output_type": "stream",
     "text": [
      "/opt/conda/lib/python3.10/site-packages/langchain_core/_api/deprecation.py:189: LangChainDeprecationWarning: The function `__call__` was deprecated in LangChain 0.1.0 and will be removed in 0.2.0. Use invoke instead.\n",
      "  warn_deprecated(\n",
      "/opt/conda/lib/python3.10/site-packages/langchain_core/_api/deprecation.py:189: LangChainDeprecationWarning: The function `run` was deprecated in LangChain 0.1.0 and will be removed in 0.2.0. Use invoke instead.\n",
      "  warn_deprecated(\n",
      "/opt/conda/lib/python3.10/site-packages/langchain_core/_api/deprecation.py:189: LangChainDeprecationWarning: The function `__call__` was deprecated in LangChain 0.1.0 and will be removed in 0.2.0. Use invoke instead.\n",
      "  warn_deprecated(\n",
      "/opt/conda/lib/python3.10/site-packages/langchain_core/_api/deprecation.py:189: LangChainDeprecationWarning: The function `__call__` was deprecated in LangChain 0.1.0 and will be removed in 0.2.0. Use invoke instead.\n",
      "  warn_deprecated(\n"
     ]
    },
    {
     "name": "stdout",
     "output_type": "stream",
     "text": [
      " B. Menyebatkan bahwa peserta Pemilu dan warga masyarakat melalui saksi peserta pemilu yang hadir dapat\n",
      "mengajukan keberatan terhadap jalannya dan hasil penghitungan suara di TPS, PPS, PPK KPUD Kota/Kabupaten, KPUD\n",
      "Propinsi dan KPU Pusat apabila ternyata terdapat hal-hal yang tidak sesuai dengan peraturan perundang-\n",
      "undangan.\n",
      "\n",
      "\n",
      "Sources:\n",
      "Time:  191.74462819099426\n",
      "==============================================\n",
      "Nomor:  15\n",
      "Warga negara yang mempunyai hak pilih, pemantau pemilu dan/atau peserta pemilu dapat melaporkan pelanggaran pemilu pada setiap tahapan penyelenggaraan pemilu kepada Pengawas Pemilu (Panwaslu), ada di...\\n A.  Pasal 121 ayat (1) dan ayat (2) UU No. 12 Tahun 2003\\n B.  Pasal 122 ayat (1) dan ayat (2) UU No. 12 Tahun 2003\\n C.  Pasal 127 ayat (1) dan ayat (2) UU No. 12 Tahun 2003\\n D.  Pasal 126 ayat (1) dan ayat (2) UU No. 12 Tahun 2003\\n E.  Pasal 125 ayat (1) dan ayat (2) UU No. 12 Tahun 2003\n"
     ]
    },
    {
     "name": "stderr",
     "output_type": "stream",
     "text": [
      "/opt/conda/lib/python3.10/site-packages/langchain_core/_api/deprecation.py:189: LangChainDeprecationWarning: The function `__call__` was deprecated in LangChain 0.1.0 and will be removed in 0.2.0. Use invoke instead.\n",
      "  warn_deprecated(\n",
      "/opt/conda/lib/python3.10/site-packages/langchain_core/_api/deprecation.py:189: LangChainDeprecationWarning: The function `run` was deprecated in LangChain 0.1.0 and will be removed in 0.2.0. Use invoke instead.\n",
      "  warn_deprecated(\n",
      "/opt/conda/lib/python3.10/site-packages/langchain_core/_api/deprecation.py:189: LangChainDeprecationWarning: The function `__call__` was deprecated in LangChain 0.1.0 and will be removed in 0.2.0. Use invoke instead.\n",
      "  warn_deprecated(\n",
      "/opt/conda/lib/python3.10/site-packages/langchain_core/_api/deprecation.py:189: LangChainDeprecationWarning: The function `__call__` was deprecated in LangChain 0.1.0 and will be removed in 0.2.0. Use invoke instead.\n",
      "  warn_deprecated(\n"
     ]
    },
    {
     "name": "stdout",
     "output_type": "stream",
     "text": [
      " B. Pasal 122 ayat (1) dan ayat (2) UU No. 12 Tahun 2003\n",
      "\n",
      "\n",
      "Sources:\n",
      "Time:  109.40543007850647\n",
      "==============================================\n",
      "Nomor:  16\n",
      "Laporan yang bersifat sengketa dan tidak mengandung unsur pidana diselesaikan oleh Pengawas Pemilu dan yang berunsur pidana diteruskan ke penyidik dan yang bersifat administratif diteruskan ke KPU, dinyatakan dalam…\\n A.  Pasal 128 dan 130 UU No. 12 tahun 2003\\n B.  Pasal 127 dan 130 UU No. 12 tahun 2003\\n C.  Pasal 126 dan 130 UU No. 12 tahun 2003\\n D.  Pasal 125 dan 130 UU No. 12 tahun 2003\\n E.  Pasal 124 dan 130 UU No. 12 tahun 2003\n"
     ]
    },
    {
     "name": "stderr",
     "output_type": "stream",
     "text": [
      "/opt/conda/lib/python3.10/site-packages/langchain_core/_api/deprecation.py:189: LangChainDeprecationWarning: The function `__call__` was deprecated in LangChain 0.1.0 and will be removed in 0.2.0. Use invoke instead.\n",
      "  warn_deprecated(\n",
      "/opt/conda/lib/python3.10/site-packages/langchain_core/_api/deprecation.py:189: LangChainDeprecationWarning: The function `run` was deprecated in LangChain 0.1.0 and will be removed in 0.2.0. Use invoke instead.\n",
      "  warn_deprecated(\n",
      "/opt/conda/lib/python3.10/site-packages/langchain_core/_api/deprecation.py:189: LangChainDeprecationWarning: The function `__call__` was deprecated in LangChain 0.1.0 and will be removed in 0.2.0. Use invoke instead.\n",
      "  warn_deprecated(\n",
      "/opt/conda/lib/python3.10/site-packages/langchain_core/_api/deprecation.py:189: LangChainDeprecationWarning: The function `__call__` was deprecated in LangChain 0.1.0 and will be removed in 0.2.0. Use invoke instead.\n",
      "  warn_deprecated(\n"
     ]
    },
    {
     "name": "stdout",
     "output_type": "stream",
     "text": [
      " B. Pasal 127 dan 130 UU No. 12 tahun 2003\n",
      "\n",
      "\n",
      "Sources:\n",
      "Time:  96.667720079422\n",
      "==============================================\n",
      "Nomor:  17\n",
      "Pemohon turut mencalonkan diri sebagai Calon Presiden dan atau Calon Wakil Presiden adalah berdasarkan hak dan kewajiban Pemohon sebagai warga negara Republik Indonesia yang dibenarkan, disahkan, dijamin dan dilindungi oleh, Salah satu dari daftar pasal adalah...\\n A.  Pasal 21 A ayat 1 UUD Negara RI Tahun 1945\\n B.  Pasal 20 A ayat 1 UUD Negara RI Tahun 1945\\n C.  Pembukaan UUD Negara RI Tahun 1945\\n D.  Pasal 10 A ayat 1 UUD Negara RI Tahun 1945\\n E.  Pasal 10 B ayat 1 UUD Negara RI Tahun 1945\n"
     ]
    },
    {
     "name": "stderr",
     "output_type": "stream",
     "text": [
      "/opt/conda/lib/python3.10/site-packages/langchain_core/_api/deprecation.py:189: LangChainDeprecationWarning: The function `__call__` was deprecated in LangChain 0.1.0 and will be removed in 0.2.0. Use invoke instead.\n",
      "  warn_deprecated(\n",
      "/opt/conda/lib/python3.10/site-packages/langchain_core/_api/deprecation.py:189: LangChainDeprecationWarning: The function `run` was deprecated in LangChain 0.1.0 and will be removed in 0.2.0. Use invoke instead.\n",
      "  warn_deprecated(\n",
      "/opt/conda/lib/python3.10/site-packages/langchain_core/_api/deprecation.py:189: LangChainDeprecationWarning: The function `__call__` was deprecated in LangChain 0.1.0 and will be removed in 0.2.0. Use invoke instead.\n",
      "  warn_deprecated(\n",
      "/opt/conda/lib/python3.10/site-packages/langchain_core/_api/deprecation.py:189: LangChainDeprecationWarning: The function `__call__` was deprecated in LangChain 0.1.0 and will be removed in 0.2.0. Use invoke instead.\n",
      "  warn_deprecated(\n"
     ]
    },
    {
     "name": "stdout",
     "output_type": "stream",
     "text": [
      " A. Pasal 21 A ayat 1 UUD Negara RI Tahun 1945\n",
      "\n",
      "\n",
      "Sources:\n",
      "Time:  96.95003700256348\n",
      "==============================================\n",
      "Nomor:  18\n",
      "Pemohon turut mencalonkan diri sebagai Calon Presiden dan atau Calon Wakil Presiden adalah berdasarkan hak dan kewajiban Pemohon sebagai warga negara Republik Indonesia yang dibenarkan, disahkan, dijamin dan dilindungi oleh, Salah satu dari daftar pasal adalah...\\n A.  Pasal 21 A ayat 1 UUD Negara RI Tahun 1945\\n B.  Pasal 20 A ayat 1 UUD Negara RI Tahun 1945\\n C.  Pasal 10 A ayat 1 UUD Negara RI Tahun 1945\\n D.  Pasal 10 B ayat 1 UUD Negara RI Tahun 1945\\n E.  Pasal 28 J ayat 1 UUD Negara RI Tahun 1944\n"
     ]
    },
    {
     "name": "stderr",
     "output_type": "stream",
     "text": [
      "/opt/conda/lib/python3.10/site-packages/langchain_core/_api/deprecation.py:189: LangChainDeprecationWarning: The function `__call__` was deprecated in LangChain 0.1.0 and will be removed in 0.2.0. Use invoke instead.\n",
      "  warn_deprecated(\n",
      "/opt/conda/lib/python3.10/site-packages/langchain_core/_api/deprecation.py:189: LangChainDeprecationWarning: The function `run` was deprecated in LangChain 0.1.0 and will be removed in 0.2.0. Use invoke instead.\n",
      "  warn_deprecated(\n",
      "/opt/conda/lib/python3.10/site-packages/langchain_core/_api/deprecation.py:189: LangChainDeprecationWarning: The function `__call__` was deprecated in LangChain 0.1.0 and will be removed in 0.2.0. Use invoke instead.\n",
      "  warn_deprecated(\n",
      "/opt/conda/lib/python3.10/site-packages/langchain_core/_api/deprecation.py:189: LangChainDeprecationWarning: The function `__call__` was deprecated in LangChain 0.1.0 and will be removed in 0.2.0. Use invoke instead.\n",
      "  warn_deprecated(\n"
     ]
    },
    {
     "name": "stdout",
     "output_type": "stream",
     "text": [
      " A. Pasal 21 A ayat 1 UUD Negara RI Tahun 1945\n",
      "\n",
      "\n",
      "Sources:\n",
      "Time:  99.48013401031494\n",
      "==============================================\n",
      "Nomor:  19\n",
      "Pemohon turut mencalonkan diri sebagai Calon Presiden dan atau Calon Wakil Presiden adalah berdasarkan hak dan kewajiban Pemohon sebagai warga negara Republik Indonesia yang dibenarkan, disahkan, dijamin dan dilindungi oleh, Salah satu dari daftar pasal adalah...\\n A.  Pasal 28 I ayat 2 UUD Negara RI Tahun 1945\\n B.  Pasal 21 A ayat 1 UUD Negara RI Tahun 1945\\n C.  Pasal 20 A ayat 1 UUD Negara RI Tahun 1945\\n D.  Pasal 10 A ayat 1 UUD Negara RI Tahun 1945\\n E.  Pasal 10 B ayat 1 UUD Negara RI Tahun 1945\n"
     ]
    },
    {
     "name": "stderr",
     "output_type": "stream",
     "text": [
      "/opt/conda/lib/python3.10/site-packages/langchain_core/_api/deprecation.py:189: LangChainDeprecationWarning: The function `__call__` was deprecated in LangChain 0.1.0 and will be removed in 0.2.0. Use invoke instead.\n",
      "  warn_deprecated(\n",
      "/opt/conda/lib/python3.10/site-packages/langchain_core/_api/deprecation.py:189: LangChainDeprecationWarning: The function `run` was deprecated in LangChain 0.1.0 and will be removed in 0.2.0. Use invoke instead.\n",
      "  warn_deprecated(\n",
      "/opt/conda/lib/python3.10/site-packages/langchain_core/_api/deprecation.py:189: LangChainDeprecationWarning: The function `__call__` was deprecated in LangChain 0.1.0 and will be removed in 0.2.0. Use invoke instead.\n",
      "  warn_deprecated(\n",
      "/opt/conda/lib/python3.10/site-packages/langchain_core/_api/deprecation.py:189: LangChainDeprecationWarning: The function `__call__` was deprecated in LangChain 0.1.0 and will be removed in 0.2.0. Use invoke instead.\n",
      "  warn_deprecated(\n"
     ]
    },
    {
     "name": "stdout",
     "output_type": "stream",
     "text": [
      " A. Pasal 28 I ayat 2 UUD Negara RI Tahun 1945\n",
      "\n",
      "\n",
      "Sources:\n",
      "Time:  99.77934265136719\n",
      "==============================================\n",
      "Nomor:  20\n",
      "Pemohon turut mencalonkan diri sebagai Calon Presiden dan atau Calon Wakil Presiden adalah berdasarkan hak dan kewajiban Pemohon sebagai warga negara Republik Indonesia yang dibenarkan, disahkan, dijamin dan dilindungi oleh, Salah satu dari daftar pasal adalah...\\n A.  Pasal 21 A ayat 1 UUD Negara RI Tahun 1945\\n B.  Pasal 28 H ayat 2 UUD Negara RI Tahun 1945\\n C.  Pasal 20 A ayat 1 UUD Negara RI Tahun 1945\\n D.  Pasal 2G A ayat 1 UUD Negara RI Tahun 1945\\n E.  Pasal 2X A ayat 1 UUD Negara RI Tahun 1945\n"
     ]
    },
    {
     "name": "stderr",
     "output_type": "stream",
     "text": [
      "/opt/conda/lib/python3.10/site-packages/langchain_core/_api/deprecation.py:189: LangChainDeprecationWarning: The function `__call__` was deprecated in LangChain 0.1.0 and will be removed in 0.2.0. Use invoke instead.\n",
      "  warn_deprecated(\n",
      "/opt/conda/lib/python3.10/site-packages/langchain_core/_api/deprecation.py:189: LangChainDeprecationWarning: The function `run` was deprecated in LangChain 0.1.0 and will be removed in 0.2.0. Use invoke instead.\n",
      "  warn_deprecated(\n",
      "/opt/conda/lib/python3.10/site-packages/langchain_core/_api/deprecation.py:189: LangChainDeprecationWarning: The function `__call__` was deprecated in LangChain 0.1.0 and will be removed in 0.2.0. Use invoke instead.\n",
      "  warn_deprecated(\n",
      "/opt/conda/lib/python3.10/site-packages/langchain_core/_api/deprecation.py:189: LangChainDeprecationWarning: The function `__call__` was deprecated in LangChain 0.1.0 and will be removed in 0.2.0. Use invoke instead.\n",
      "  warn_deprecated(\n"
     ]
    },
    {
     "name": "stdout",
     "output_type": "stream",
     "text": [
      " C. Pasal 20 A ayat 1 UUD Negara RI Tahun 1945\n",
      "\n",
      "\n",
      "Sources:\n",
      "Time:  99.7619161605835\n",
      "==============================================\n",
      "Nomor:  21\n",
      "Pemohon turut mencalonkan diri sebagai Calon Presiden dan atau Calon Wakil Presiden adalah berdasarkan hak dan kewajiban Pemohon sebagai warga negara Republik Indonesia yang dibenarkan, disahkan, dijamin dan dilindungi oleh, Salah satu dari daftar pasal adalah...\\n A.  Pasal 28 D ayat 1 dan ayat 3 UUD Negara RI Tahun 1945\\n B.  Pasal 20 A ayat 1 UUD Negara RI Tahun 1945\\n C.  Pasal 21 Y ayat 1 UUD Negara RI Tahun 1945\\n D.  Pasal 20 Y ayat 1 UUD Negara RI Tahun 1945\\n E.  Pasal 21 A ayat 1 UUD Negara RI Tahun 1945\n"
     ]
    },
    {
     "name": "stderr",
     "output_type": "stream",
     "text": [
      "/opt/conda/lib/python3.10/site-packages/langchain_core/_api/deprecation.py:189: LangChainDeprecationWarning: The function `__call__` was deprecated in LangChain 0.1.0 and will be removed in 0.2.0. Use invoke instead.\n",
      "  warn_deprecated(\n",
      "/opt/conda/lib/python3.10/site-packages/langchain_core/_api/deprecation.py:189: LangChainDeprecationWarning: The function `run` was deprecated in LangChain 0.1.0 and will be removed in 0.2.0. Use invoke instead.\n",
      "  warn_deprecated(\n",
      "/opt/conda/lib/python3.10/site-packages/langchain_core/_api/deprecation.py:189: LangChainDeprecationWarning: The function `__call__` was deprecated in LangChain 0.1.0 and will be removed in 0.2.0. Use invoke instead.\n",
      "  warn_deprecated(\n",
      "/opt/conda/lib/python3.10/site-packages/langchain_core/_api/deprecation.py:189: LangChainDeprecationWarning: The function `__call__` was deprecated in LangChain 0.1.0 and will be removed in 0.2.0. Use invoke instead.\n",
      "  warn_deprecated(\n"
     ]
    },
    {
     "name": "stdout",
     "output_type": "stream",
     "text": [
      " B. Pasal 20 A ayat 1 UUD Negara RI Tahun 1945\n",
      "\n",
      "\n",
      "Sources:\n",
      "Time:  102.57513046264648\n",
      "==============================================\n",
      "Nomor:  22\n",
      "Pemohon turut mencalonkan diri sebagai Calon Presiden dan atau Calon Wakil Presiden adalah berdasarkan hak dan kewajiban Pemohon sebagai warga negara Republik Indonesia yang dibenarkan, disahkan, dijamin dan dilindungi oleh, Salah satu dari daftar pasal adalah...\\n A.  Pasal 21 A ayat 1 UUD Negara RI Tahun 1945\\n B.  Pasal 21 Z ayat 1 UUD Negara RI Tahun 1945\\n C.  Pasal 21 Y ayat 1 UUD Negara RI Tahun 1945\\n D.  Pasal 20 Y ayat 1 UUD Negara RI Tahun 1945\\n E.  Pasal 28 C ayat 2 UUD Negara RI Tahun 1945\n"
     ]
    },
    {
     "name": "stderr",
     "output_type": "stream",
     "text": [
      "/opt/conda/lib/python3.10/site-packages/langchain_core/_api/deprecation.py:189: LangChainDeprecationWarning: The function `__call__` was deprecated in LangChain 0.1.0 and will be removed in 0.2.0. Use invoke instead.\n",
      "  warn_deprecated(\n",
      "/opt/conda/lib/python3.10/site-packages/langchain_core/_api/deprecation.py:189: LangChainDeprecationWarning: The function `run` was deprecated in LangChain 0.1.0 and will be removed in 0.2.0. Use invoke instead.\n",
      "  warn_deprecated(\n",
      "/opt/conda/lib/python3.10/site-packages/langchain_core/_api/deprecation.py:189: LangChainDeprecationWarning: The function `__call__` was deprecated in LangChain 0.1.0 and will be removed in 0.2.0. Use invoke instead.\n",
      "  warn_deprecated(\n",
      "/opt/conda/lib/python3.10/site-packages/langchain_core/_api/deprecation.py:189: LangChainDeprecationWarning: The function `__call__` was deprecated in LangChain 0.1.0 and will be removed in 0.2.0. Use invoke instead.\n",
      "  warn_deprecated(\n"
     ]
    },
    {
     "name": "stdout",
     "output_type": "stream",
     "text": [
      " A. Pasal 21 A ayat 1 UUD Negara RI Tahun 1945\n",
      "\n",
      "\n",
      "Sources:\n",
      "Time:  99.8983223438263\n",
      "==============================================\n",
      "Nomor:  23\n",
      "Pemohon turut mencalonkan diri sebagai Calon Presiden dan atau Calon Wakil Presiden adalah berdasarkan hak dan kewajiban Pemohon sebagai warga negara Republik Indonesia yang dibenarkan, disahkan, dijamin dan dilindungi oleh, Salah satu dari daftar pasal adalah...\\n A.  Pasal 21 A ayat 1 UUD Negara RI Tahun 1945\\n B.  Pasal 21 Z ayat 1 UUD Negara RI Tahun 1945\\n C.  Pasal 21 Y ayat 1 UUD Negara RI Tahun 1945\\n D.  Pasal 20 Y ayat 1 UUD Negara RI Tahun 1945\\n E.  Pasal 27 ayat 1 ayat 3 UUD Negara RI Tahun 1945\n"
     ]
    },
    {
     "name": "stderr",
     "output_type": "stream",
     "text": [
      "/opt/conda/lib/python3.10/site-packages/langchain_core/_api/deprecation.py:189: LangChainDeprecationWarning: The function `__call__` was deprecated in LangChain 0.1.0 and will be removed in 0.2.0. Use invoke instead.\n",
      "  warn_deprecated(\n",
      "/opt/conda/lib/python3.10/site-packages/langchain_core/_api/deprecation.py:189: LangChainDeprecationWarning: The function `run` was deprecated in LangChain 0.1.0 and will be removed in 0.2.0. Use invoke instead.\n",
      "  warn_deprecated(\n",
      "/opt/conda/lib/python3.10/site-packages/langchain_core/_api/deprecation.py:189: LangChainDeprecationWarning: The function `__call__` was deprecated in LangChain 0.1.0 and will be removed in 0.2.0. Use invoke instead.\n",
      "  warn_deprecated(\n",
      "/opt/conda/lib/python3.10/site-packages/langchain_core/_api/deprecation.py:189: LangChainDeprecationWarning: The function `__call__` was deprecated in LangChain 0.1.0 and will be removed in 0.2.0. Use invoke instead.\n",
      "  warn_deprecated(\n"
     ]
    },
    {
     "name": "stdout",
     "output_type": "stream",
     "text": [
      " A. Pasal 21 A ayat 1 UUD Negara RI Tahun 1945\n",
      "\n",
      "\n",
      "Sources:\n",
      "Time:  100.70893096923828\n",
      "==============================================\n",
      "Nomor:  24\n",
      "Pemohon turut mencalonkan diri sebagai Calon Presiden dan atau Calon Wakil Presiden adalah berdasarkan hak dan kewajiban Pemohon sebagai warga negara Republik Indonesia yang dibenarkan, disahkan, dijamin dan dilindungi oleh, Salah satu dari daftar pasal adalah...\\n A.  Pasal 21 A ayat 1 UUD Negara RI Tahun 1945\\n B.  Pasal 21 Z ayat 1 UUD Negara RI Tahun 1945\\n C.  Pasal 21 Y ayat 1 UUD Negara RI Tahun 1945\\n D.  Pasal 1 ayat 2 UUD Negara RI Tahun 1945\\n E.  Pasal 20 Y ayat 1 UUD Negara RI Tahun 1945\n"
     ]
    },
    {
     "name": "stderr",
     "output_type": "stream",
     "text": [
      "/opt/conda/lib/python3.10/site-packages/langchain_core/_api/deprecation.py:189: LangChainDeprecationWarning: The function `__call__` was deprecated in LangChain 0.1.0 and will be removed in 0.2.0. Use invoke instead.\n",
      "  warn_deprecated(\n",
      "/opt/conda/lib/python3.10/site-packages/langchain_core/_api/deprecation.py:189: LangChainDeprecationWarning: The function `run` was deprecated in LangChain 0.1.0 and will be removed in 0.2.0. Use invoke instead.\n",
      "  warn_deprecated(\n",
      "/opt/conda/lib/python3.10/site-packages/langchain_core/_api/deprecation.py:189: LangChainDeprecationWarning: The function `__call__` was deprecated in LangChain 0.1.0 and will be removed in 0.2.0. Use invoke instead.\n",
      "  warn_deprecated(\n",
      "/opt/conda/lib/python3.10/site-packages/langchain_core/_api/deprecation.py:189: LangChainDeprecationWarning: The function `__call__` was deprecated in LangChain 0.1.0 and will be removed in 0.2.0. Use invoke instead.\n",
      "  warn_deprecated(\n"
     ]
    },
    {
     "name": "stdout",
     "output_type": "stream",
     "text": [
      " A. Pasal 21 A ayat 1 UUD Negara RI Tahun 1945\n",
      "\n",
      "\n",
      "Sources:\n",
      "Time:  98.54965662956238\n",
      "==============================================\n",
      "Nomor:  25\n",
      "Setiap orang berhak mendapat kemudahan dan perlakuan khusus untuk memperoleh kesempatan dan manfaat yang sama gunamencapai persamaan dan keadilan, ada pada...\\n A.  Undang-undang Nomor 23 tahun 2003 khususnya Pasal 5 ayat (1,2,3 dan 4)\\n B.  Pasal 21 A ayat 1 UUD Negara RI Tahun 1945\\n C.  Pasal 21 Z ayat 1 UUD Negara RI Tahun 1945\\n D.  Pasal 21 Y ayat 1 UUD Negara RI Tahun 1945\\n E.  Pasal 1 ayat 2 UUD Negara RI Tahun 1945\n"
     ]
    },
    {
     "name": "stderr",
     "output_type": "stream",
     "text": [
      "/opt/conda/lib/python3.10/site-packages/langchain_core/_api/deprecation.py:189: LangChainDeprecationWarning: The function `__call__` was deprecated in LangChain 0.1.0 and will be removed in 0.2.0. Use invoke instead.\n",
      "  warn_deprecated(\n",
      "/opt/conda/lib/python3.10/site-packages/langchain_core/_api/deprecation.py:189: LangChainDeprecationWarning: The function `run` was deprecated in LangChain 0.1.0 and will be removed in 0.2.0. Use invoke instead.\n",
      "  warn_deprecated(\n",
      "/opt/conda/lib/python3.10/site-packages/langchain_core/_api/deprecation.py:189: LangChainDeprecationWarning: The function `__call__` was deprecated in LangChain 0.1.0 and will be removed in 0.2.0. Use invoke instead.\n",
      "  warn_deprecated(\n",
      "/opt/conda/lib/python3.10/site-packages/langchain_core/_api/deprecation.py:189: LangChainDeprecationWarning: The function `__call__` was deprecated in LangChain 0.1.0 and will be removed in 0.2.0. Use invoke instead.\n",
      "  warn_deprecated(\n"
     ]
    },
    {
     "name": "stdout",
     "output_type": "stream",
     "text": [
      " B. Pasal 21 A ayat 1 UUD Negara RI Tahun 1945\n",
      "\n",
      "\n",
      "Sources:\n",
      "Time:  91.0128722190857\n",
      "==============================================\n",
      "Nomor:  26\n",
      "Setiap orang berhak mendapat kemudahan dan perlakuan khusus untuk memperoleh kesempatan dan manfaat yang sama gunamencapai persamaan dan keadilan, ada pada...\\n A.  Pasal 21 A ayat 1 UUD Negara RI Tahun 1945\\n B.  Pasal 21 Z ayat 1 UUD Negara RI Tahun 1945\\n C.  Pasal 21 Y ayat 1 UUD Negara RI Tahun 1945\\n D.  Pasal 1 ayat 2 UUD Negara RI Tahun 1945\\n E.  Undang-undang Nomor 23 tahun 2003 khususnya Pasal 1 ayat (6)\n"
     ]
    },
    {
     "name": "stderr",
     "output_type": "stream",
     "text": [
      "/opt/conda/lib/python3.10/site-packages/langchain_core/_api/deprecation.py:189: LangChainDeprecationWarning: The function `__call__` was deprecated in LangChain 0.1.0 and will be removed in 0.2.0. Use invoke instead.\n",
      "  warn_deprecated(\n",
      "/opt/conda/lib/python3.10/site-packages/langchain_core/_api/deprecation.py:189: LangChainDeprecationWarning: The function `run` was deprecated in LangChain 0.1.0 and will be removed in 0.2.0. Use invoke instead.\n",
      "  warn_deprecated(\n",
      "/opt/conda/lib/python3.10/site-packages/langchain_core/_api/deprecation.py:189: LangChainDeprecationWarning: The function `__call__` was deprecated in LangChain 0.1.0 and will be removed in 0.2.0. Use invoke instead.\n",
      "  warn_deprecated(\n",
      "/opt/conda/lib/python3.10/site-packages/langchain_core/_api/deprecation.py:189: LangChainDeprecationWarning: The function `__call__` was deprecated in LangChain 0.1.0 and will be removed in 0.2.0. Use invoke instead.\n",
      "  warn_deprecated(\n"
     ]
    },
    {
     "name": "stdout",
     "output_type": "stream",
     "text": [
      " A. Pasal 21 A ayat 1 UUD Negara RI Tahun 1945\n",
      "\n",
      "\n",
      "Sources:\n",
      "Time:  90.20178985595703\n",
      "==============================================\n",
      "Nomor:  27\n",
      "Setiap orang berhak mendapat kemudahan dan perlakuan khusus untuk memperoleh kesempatan dan manfaat yang sama gunamencapai persamaan dan keadilan, ada pada...\\n A.  Undang-undang Nomor 23 tahun 2003 khususnya Pasal 6 L\\n B.  Pasal 21 A ayat 1 UUD Negara RI Tahun 1945\\n C.  Pasal 21 Z ayat 1 UUD Negara RI Tahun 1945\\n D.  Pasal 21 Y ayat 1 UUD Negara RI Tahun 1945\\n E.  Pasal 1 ayat 2 UUD Negara RI Tahun 1945\n"
     ]
    },
    {
     "name": "stderr",
     "output_type": "stream",
     "text": [
      "/opt/conda/lib/python3.10/site-packages/langchain_core/_api/deprecation.py:189: LangChainDeprecationWarning: The function `__call__` was deprecated in LangChain 0.1.0 and will be removed in 0.2.0. Use invoke instead.\n",
      "  warn_deprecated(\n",
      "/opt/conda/lib/python3.10/site-packages/langchain_core/_api/deprecation.py:189: LangChainDeprecationWarning: The function `run` was deprecated in LangChain 0.1.0 and will be removed in 0.2.0. Use invoke instead.\n",
      "  warn_deprecated(\n",
      "/opt/conda/lib/python3.10/site-packages/langchain_core/_api/deprecation.py:189: LangChainDeprecationWarning: The function `__call__` was deprecated in LangChain 0.1.0 and will be removed in 0.2.0. Use invoke instead.\n",
      "  warn_deprecated(\n",
      "/opt/conda/lib/python3.10/site-packages/langchain_core/_api/deprecation.py:189: LangChainDeprecationWarning: The function `__call__` was deprecated in LangChain 0.1.0 and will be removed in 0.2.0. Use invoke instead.\n",
      "  warn_deprecated(\n"
     ]
    },
    {
     "name": "stdout",
     "output_type": "stream",
     "text": [
      " B. Pasal 21 A ayat 1 UUD Negara RI Tahun 1945\n",
      "\n",
      "\n",
      "Sources:\n",
      "Time:  87.55106568336487\n",
      "==============================================\n",
      "Nomor:  28\n",
      "Setiap orang berhak mendapat kemudahan dan perlakuan khusus untuk memperoleh kesempatan dan manfaat yang sama gunamencapai persamaan dan keadilan, ada pada...\\n A.  Pasal 21 A ayat 1 UUD Negara RI Tahun 1945\\n B.  Pasal 21 Z ayat 1 UUD Negara RI Tahun 1945\\n C.  Pasal 21 Y ayat 1 UUD Negara RI Tahun 1945\\n D.  Pasal 1 ayat 2 UUD Negara RI Tahun 1945\\n E.  Undang-undang Nomor 23 tahun 2003 khususnya Pasal 28 H ayat (2)\n"
     ]
    },
    {
     "name": "stderr",
     "output_type": "stream",
     "text": [
      "/opt/conda/lib/python3.10/site-packages/langchain_core/_api/deprecation.py:189: LangChainDeprecationWarning: The function `__call__` was deprecated in LangChain 0.1.0 and will be removed in 0.2.0. Use invoke instead.\n",
      "  warn_deprecated(\n",
      "/opt/conda/lib/python3.10/site-packages/langchain_core/_api/deprecation.py:189: LangChainDeprecationWarning: The function `run` was deprecated in LangChain 0.1.0 and will be removed in 0.2.0. Use invoke instead.\n",
      "  warn_deprecated(\n",
      "/opt/conda/lib/python3.10/site-packages/langchain_core/_api/deprecation.py:189: LangChainDeprecationWarning: The function `__call__` was deprecated in LangChain 0.1.0 and will be removed in 0.2.0. Use invoke instead.\n",
      "  warn_deprecated(\n",
      "/opt/conda/lib/python3.10/site-packages/langchain_core/_api/deprecation.py:189: LangChainDeprecationWarning: The function `__call__` was deprecated in LangChain 0.1.0 and will be removed in 0.2.0. Use invoke instead.\n",
      "  warn_deprecated(\n"
     ]
    },
    {
     "name": "stdout",
     "output_type": "stream",
     "text": [
      " A. Pasal 21 A ayat 1 UUD Negara RI Tahun 1945\n",
      "\n",
      "\n",
      "Sources:\n",
      "Time:  90.96679162979126\n",
      "==============================================\n",
      "Nomor:  29\n",
      "Setiap orang berhak bebas dari perlakuan yang bersifat diskriminatif atas dasar apapun dan berhak mendapatkan perlindungan terhadap perlakuan yang bersifat diskriminatif itu, ada pada...\\n A.  Undang-undang Nomor 23 Tahun 2003 khususnya Pasal 5 ayat (1,2,3 dan 4)\\n B.  Pasal 21 A ayat 1 UUD Negara RI Tahun 1945\\n C.  Pasal 21 Z ayat 1 UUD Negara RI Tahun 1945\\n D.  Pasal 21 Y ayat 1 UUD Negara RI Tahun 1945\\n E.  Pasal 1 ayat 2 UUD Negara RI Tahun 1945\n"
     ]
    },
    {
     "name": "stderr",
     "output_type": "stream",
     "text": [
      "/opt/conda/lib/python3.10/site-packages/langchain_core/_api/deprecation.py:189: LangChainDeprecationWarning: The function `__call__` was deprecated in LangChain 0.1.0 and will be removed in 0.2.0. Use invoke instead.\n",
      "  warn_deprecated(\n",
      "/opt/conda/lib/python3.10/site-packages/langchain_core/_api/deprecation.py:189: LangChainDeprecationWarning: The function `run` was deprecated in LangChain 0.1.0 and will be removed in 0.2.0. Use invoke instead.\n",
      "  warn_deprecated(\n",
      "/opt/conda/lib/python3.10/site-packages/langchain_core/_api/deprecation.py:189: LangChainDeprecationWarning: The function `__call__` was deprecated in LangChain 0.1.0 and will be removed in 0.2.0. Use invoke instead.\n",
      "  warn_deprecated(\n",
      "/opt/conda/lib/python3.10/site-packages/langchain_core/_api/deprecation.py:189: LangChainDeprecationWarning: The function `__call__` was deprecated in LangChain 0.1.0 and will be removed in 0.2.0. Use invoke instead.\n",
      "  warn_deprecated(\n"
     ]
    },
    {
     "name": "stdout",
     "output_type": "stream",
     "text": [
      " B. Pasal 21 A ayat 1 UUD Negara RI Tahun 1945\n",
      "\n",
      "\n",
      "Sources:\n",
      "Time:  96.33495283126831\n",
      "==============================================\n",
      "Nomor:  30\n",
      "Setiap orang berhak bebas dari perlakuan yang bersifat diskriminatif atas dasar apapun dan berhak mendapatkan perlindungan terhadap perlakuan yang bersifat diskriminatif itu, ada pada...\\n A.  Pasal 21 A ayat 1 UUD Negara RI Tahun 1945\\n B.  Pasal 21 Z ayat 1 UUD Negara RI Tahun 1945\\n C.  Pasal 21 Y ayat 1 UUD Negara RI Tahun 1945\\n D.  Pasal 1 ayat 2 UUD Negara RI Tahun 1945\\n E.  Undang-undang Nomor 23 Tahun 2003 khususnya Pasal 1 ayat (6)\n"
     ]
    },
    {
     "name": "stderr",
     "output_type": "stream",
     "text": [
      "/opt/conda/lib/python3.10/site-packages/langchain_core/_api/deprecation.py:189: LangChainDeprecationWarning: The function `__call__` was deprecated in LangChain 0.1.0 and will be removed in 0.2.0. Use invoke instead.\n",
      "  warn_deprecated(\n",
      "/opt/conda/lib/python3.10/site-packages/langchain_core/_api/deprecation.py:189: LangChainDeprecationWarning: The function `run` was deprecated in LangChain 0.1.0 and will be removed in 0.2.0. Use invoke instead.\n",
      "  warn_deprecated(\n",
      "/opt/conda/lib/python3.10/site-packages/langchain_core/_api/deprecation.py:189: LangChainDeprecationWarning: The function `__call__` was deprecated in LangChain 0.1.0 and will be removed in 0.2.0. Use invoke instead.\n",
      "  warn_deprecated(\n",
      "/opt/conda/lib/python3.10/site-packages/langchain_core/_api/deprecation.py:189: LangChainDeprecationWarning: The function `__call__` was deprecated in LangChain 0.1.0 and will be removed in 0.2.0. Use invoke instead.\n",
      "  warn_deprecated(\n"
     ]
    },
    {
     "name": "stdout",
     "output_type": "stream",
     "text": [
      " A. Pasal 21 A ayat 1 UUD Negara RI Tahun 1945\n",
      "\n",
      "\n",
      "Sources:\n",
      "Time:  94.1522285938263\n",
      "==============================================\n",
      "Nomor:  31\n",
      "Setiap orang berhak bebas dari perlakuan yang bersifat diskriminatif atas dasar apapun dan berhak mendapatkan perlindungan terhadap perlakuan yang bersifat diskriminatif itu, ada pada...\\n A.  Undang-undang Nomor 23 Tahun 2003 khususnya Pasal 6 I\\n B.  Pasal 21 A ayat 1 UUD Negara RI Tahun 1945\\n C.  Pasal 21 Z ayat 1 UUD Negara RI Tahun 1945\\n D.  Pasal 21 Y ayat 1 UUD Negara RI Tahun 1945\\n E.  Pasal 1 ayat 2 UUD Negara RI Tahun 1945\n"
     ]
    },
    {
     "name": "stderr",
     "output_type": "stream",
     "text": [
      "/opt/conda/lib/python3.10/site-packages/langchain_core/_api/deprecation.py:189: LangChainDeprecationWarning: The function `__call__` was deprecated in LangChain 0.1.0 and will be removed in 0.2.0. Use invoke instead.\n",
      "  warn_deprecated(\n",
      "/opt/conda/lib/python3.10/site-packages/langchain_core/_api/deprecation.py:189: LangChainDeprecationWarning: The function `run` was deprecated in LangChain 0.1.0 and will be removed in 0.2.0. Use invoke instead.\n",
      "  warn_deprecated(\n",
      "/opt/conda/lib/python3.10/site-packages/langchain_core/_api/deprecation.py:189: LangChainDeprecationWarning: The function `__call__` was deprecated in LangChain 0.1.0 and will be removed in 0.2.0. Use invoke instead.\n",
      "  warn_deprecated(\n",
      "/opt/conda/lib/python3.10/site-packages/langchain_core/_api/deprecation.py:189: LangChainDeprecationWarning: The function `__call__` was deprecated in LangChain 0.1.0 and will be removed in 0.2.0. Use invoke instead.\n",
      "  warn_deprecated(\n"
     ]
    },
    {
     "name": "stdout",
     "output_type": "stream",
     "text": [
      " B. Pasal 21 A ayat 1 UUD Negara RI Tahun 1945\n",
      "\n",
      "\n",
      "Sources:\n",
      "Time:  93.3431408405304\n",
      "==============================================\n",
      "Nomor:  32\n",
      "Setiap orang wajib menghormati hak azasi manusia orang lain dalam tertib kehidupan bermasyarakat, berbangsa dan bernegara, ada pada...\\n A.  Undang-undang Nomor 23 Tahun 2003 khususnya Pasal 5 ayat (1, 2, 3 dan 4)\\n B.  Pasal 21 A ayat 1 UUD Negara RI Tahun 1945\\n C.  Pasal 21 Z ayat 1 UUD Negara RI Tahun 1945\\n D.  Pasal 21 Y ayat 1 UUD Negara RI Tahun 1945\\n E.  Pasal 1 ayat 2 UUD Negara RI Tahun 1945\n"
     ]
    },
    {
     "name": "stderr",
     "output_type": "stream",
     "text": [
      "/opt/conda/lib/python3.10/site-packages/langchain_core/_api/deprecation.py:189: LangChainDeprecationWarning: The function `__call__` was deprecated in LangChain 0.1.0 and will be removed in 0.2.0. Use invoke instead.\n",
      "  warn_deprecated(\n",
      "/opt/conda/lib/python3.10/site-packages/langchain_core/_api/deprecation.py:189: LangChainDeprecationWarning: The function `run` was deprecated in LangChain 0.1.0 and will be removed in 0.2.0. Use invoke instead.\n",
      "  warn_deprecated(\n",
      "/opt/conda/lib/python3.10/site-packages/langchain_core/_api/deprecation.py:189: LangChainDeprecationWarning: The function `__call__` was deprecated in LangChain 0.1.0 and will be removed in 0.2.0. Use invoke instead.\n",
      "  warn_deprecated(\n",
      "/opt/conda/lib/python3.10/site-packages/langchain_core/_api/deprecation.py:189: LangChainDeprecationWarning: The function `__call__` was deprecated in LangChain 0.1.0 and will be removed in 0.2.0. Use invoke instead.\n",
      "  warn_deprecated(\n"
     ]
    },
    {
     "name": "stdout",
     "output_type": "stream",
     "text": [
      " B. Pasal 21 A ayat 1 UUD Negara RI Tahun 1945\n",
      "\n",
      "\n",
      "Sources:\n",
      "Time:  89.59893798828125\n",
      "==============================================\n",
      "Nomor:  33\n",
      "Setiap orang wajib menghormati hak azasi manusia orang lain dalam tertib kehidupan bermasyarakat, berbangsa dan bernegara, ada pada...\\n A.  Pasal 21 A ayat 1 UUD Negara RI Tahun 1945\\n B.  Pasal 21 Z ayat 1 UUD Negara RI Tahun 1945\\n C.  Pasal 21 Y ayat 1 UUD Negara RI Tahun 1945\\n D.  Pasal 1 ayat 2 UUD Negara RI Tahun 1945\\n E.  Undang-undang Nomor 23 Tahun 2003 khususnya Pasal 1 ayat (6)\n"
     ]
    },
    {
     "name": "stderr",
     "output_type": "stream",
     "text": [
      "/opt/conda/lib/python3.10/site-packages/langchain_core/_api/deprecation.py:189: LangChainDeprecationWarning: The function `__call__` was deprecated in LangChain 0.1.0 and will be removed in 0.2.0. Use invoke instead.\n",
      "  warn_deprecated(\n",
      "/opt/conda/lib/python3.10/site-packages/langchain_core/_api/deprecation.py:189: LangChainDeprecationWarning: The function `run` was deprecated in LangChain 0.1.0 and will be removed in 0.2.0. Use invoke instead.\n",
      "  warn_deprecated(\n",
      "/opt/conda/lib/python3.10/site-packages/langchain_core/_api/deprecation.py:189: LangChainDeprecationWarning: The function `__call__` was deprecated in LangChain 0.1.0 and will be removed in 0.2.0. Use invoke instead.\n",
      "  warn_deprecated(\n",
      "/opt/conda/lib/python3.10/site-packages/langchain_core/_api/deprecation.py:189: LangChainDeprecationWarning: The function `__call__` was deprecated in LangChain 0.1.0 and will be removed in 0.2.0. Use invoke instead.\n",
      "  warn_deprecated(\n"
     ]
    },
    {
     "name": "stdout",
     "output_type": "stream",
     "text": [
      " A. Pasal 21 A ayat 1 UUD Negara RI Tahun 1945\n",
      "\n",
      "\n",
      "Sources:\n",
      "Time:  87.2155647277832\n",
      "==============================================\n",
      "Nomor:  34\n",
      "Setiap orang wajib menghormati hak azasi manusia orang lain dalam tertib kehidupan bermasyarakat, berbangsa dan bernegara, ada pada...\\n A.  Undang-undang Nomor 23 Tahun 2003 khususnya Pasal 6L\\n B.  Pasal 21 A ayat 1 UUD Negara RI Tahun 1945\\n C.  Pasal 21 Z ayat 1 UUD Negara RI Tahun 1945\\n D.  Pasal 21 Y ayat 1 UUD Negara RI Tahun 1945\\n E.  Pasal 1 ayat 2 UUD Negara RI Tahun 1945\n"
     ]
    },
    {
     "name": "stderr",
     "output_type": "stream",
     "text": [
      "/opt/conda/lib/python3.10/site-packages/langchain_core/_api/deprecation.py:189: LangChainDeprecationWarning: The function `__call__` was deprecated in LangChain 0.1.0 and will be removed in 0.2.0. Use invoke instead.\n",
      "  warn_deprecated(\n",
      "/opt/conda/lib/python3.10/site-packages/langchain_core/_api/deprecation.py:189: LangChainDeprecationWarning: The function `run` was deprecated in LangChain 0.1.0 and will be removed in 0.2.0. Use invoke instead.\n",
      "  warn_deprecated(\n",
      "/opt/conda/lib/python3.10/site-packages/langchain_core/_api/deprecation.py:189: LangChainDeprecationWarning: The function `__call__` was deprecated in LangChain 0.1.0 and will be removed in 0.2.0. Use invoke instead.\n",
      "  warn_deprecated(\n",
      "/opt/conda/lib/python3.10/site-packages/langchain_core/_api/deprecation.py:189: LangChainDeprecationWarning: The function `__call__` was deprecated in LangChain 0.1.0 and will be removed in 0.2.0. Use invoke instead.\n",
      "  warn_deprecated(\n"
     ]
    },
    {
     "name": "stdout",
     "output_type": "stream",
     "text": [
      " B. Pasal 21 A ayat 1 UUD Negara RI Tahun 1945\n",
      "\n",
      "\n",
      "Sources:\n",
      "Time:  84.58546853065491\n",
      "==============================================\n",
      "Nomor:  35\n",
      "Setiap orang berhak hidup sejahtera lahir dan batin, bertempat tinggal dan mendapatkan lingkungan hidup yang baik dan sehat serta memperoleh pelayanan kesehatan, pada...\\n A.  Pasal 21 H ayat 1 (Konstitusi/UUD 1945)\\n B.  Pasal 28 H ayat 1 (Konstitusi/UUD 1945)\\n C.  Pasal 28 A ayat 1 (Konstitusi/UUD 1945)\\n D.  Pasal 28 B ayat 1 (Konstitusi/UUD 1945)\\n E.  Pasal 28 C ayat 1 (Konstitusi/UUD 1945)\n"
     ]
    },
    {
     "name": "stderr",
     "output_type": "stream",
     "text": [
      "/opt/conda/lib/python3.10/site-packages/langchain_core/_api/deprecation.py:189: LangChainDeprecationWarning: The function `__call__` was deprecated in LangChain 0.1.0 and will be removed in 0.2.0. Use invoke instead.\n",
      "  warn_deprecated(\n",
      "/opt/conda/lib/python3.10/site-packages/langchain_core/_api/deprecation.py:189: LangChainDeprecationWarning: The function `run` was deprecated in LangChain 0.1.0 and will be removed in 0.2.0. Use invoke instead.\n",
      "  warn_deprecated(\n",
      "/opt/conda/lib/python3.10/site-packages/langchain_core/_api/deprecation.py:189: LangChainDeprecationWarning: The function `__call__` was deprecated in LangChain 0.1.0 and will be removed in 0.2.0. Use invoke instead.\n",
      "  warn_deprecated(\n",
      "/opt/conda/lib/python3.10/site-packages/langchain_core/_api/deprecation.py:189: LangChainDeprecationWarning: The function `__call__` was deprecated in LangChain 0.1.0 and will be removed in 0.2.0. Use invoke instead.\n",
      "  warn_deprecated(\n"
     ]
    },
    {
     "name": "stdout",
     "output_type": "stream",
     "text": [
      " B. Pasal 28 H ayat 1 (Konstitusi/UUD 1945)\n",
      "\n",
      "\n",
      "Sources:\n",
      "Time:  91.77742648124695\n",
      "==============================================\n",
      "Nomor:  36\n",
      "Pada Pasal 51 ayat (1) Undang-undang Nomor 24 Tahun 2003 tentang Mahkamah Konstitusi. Pihak yang menganggap hak dan/atau kewenangan konstitusionalnya dirugikan oleh berlakunya suatu undang-undang adalah...\\n A.  Presiden\\n B.  Pemohon\\n C.  Wakil Presiden\\n D.  Polisi\\n E.  Tentara\n"
     ]
    },
    {
     "name": "stderr",
     "output_type": "stream",
     "text": [
      "/opt/conda/lib/python3.10/site-packages/langchain_core/_api/deprecation.py:189: LangChainDeprecationWarning: The function `__call__` was deprecated in LangChain 0.1.0 and will be removed in 0.2.0. Use invoke instead.\n",
      "  warn_deprecated(\n",
      "/opt/conda/lib/python3.10/site-packages/langchain_core/_api/deprecation.py:189: LangChainDeprecationWarning: The function `run` was deprecated in LangChain 0.1.0 and will be removed in 0.2.0. Use invoke instead.\n",
      "  warn_deprecated(\n",
      "/opt/conda/lib/python3.10/site-packages/langchain_core/_api/deprecation.py:189: LangChainDeprecationWarning: The function `__call__` was deprecated in LangChain 0.1.0 and will be removed in 0.2.0. Use invoke instead.\n",
      "  warn_deprecated(\n",
      "/opt/conda/lib/python3.10/site-packages/langchain_core/_api/deprecation.py:189: LangChainDeprecationWarning: The function `__call__` was deprecated in LangChain 0.1.0 and will be removed in 0.2.0. Use invoke instead.\n",
      "  warn_deprecated(\n"
     ]
    },
    {
     "name": "stdout",
     "output_type": "stream",
     "text": [
      " B. Pemohon\n",
      "\n",
      "\n",
      "Sources:\n",
      "Time:  59.07964038848877\n",
      "==============================================\n",
      "Nomor:  37\n",
      "Pasal 51 ayat (1) Undang-undang Nomor 24 Tahun 2003 tentang Mahkamah Konstitusi menyatakan, Pemohon adalah pihak yang menganggap hak dan/atau kewenangan konstitusionalnya dirugikan oleh berlakunya suatu undang-undang, yaitu...\\n A.  perorangan warga negara Indonesia, kesatuan masyarakat hukum adat sepanjang masih hidup dan sesuai dengan perkembangan masyarakat dan prinsip-prinsip Negara Kesatuan Republik Indonesia yang diatur dalam undang-undang, badan hukum publik atau privat, atau lembaga negara\\n B.  Perorangan warga negara Indonesia, mempunyai darah daging, atau lembaga negara\\n C.  perorangan warga negara Indonesia, bekerja didalam pemeritahan, atau lembaga negara\\n D.  perorangan warga negara Indonesia, bisa berbahasa indonesia, badan hukum publik atau privat, atau lembaga negara\\n E.  perorangan warga negara Indonesia, kriminal, badan hukum publik atau privat, atau lembaga negara\n"
     ]
    },
    {
     "name": "stderr",
     "output_type": "stream",
     "text": [
      "/opt/conda/lib/python3.10/site-packages/langchain_core/_api/deprecation.py:189: LangChainDeprecationWarning: The function `__call__` was deprecated in LangChain 0.1.0 and will be removed in 0.2.0. Use invoke instead.\n",
      "  warn_deprecated(\n",
      "/opt/conda/lib/python3.10/site-packages/langchain_core/_api/deprecation.py:189: LangChainDeprecationWarning: The function `run` was deprecated in LangChain 0.1.0 and will be removed in 0.2.0. Use invoke instead.\n",
      "  warn_deprecated(\n",
      "/opt/conda/lib/python3.10/site-packages/langchain_core/_api/deprecation.py:189: LangChainDeprecationWarning: The function `__call__` was deprecated in LangChain 0.1.0 and will be removed in 0.2.0. Use invoke instead.\n",
      "  warn_deprecated(\n",
      "/opt/conda/lib/python3.10/site-packages/langchain_core/_api/deprecation.py:189: LangChainDeprecationWarning: The function `__call__` was deprecated in LangChain 0.1.0 and will be removed in 0.2.0. Use invoke instead.\n",
      "  warn_deprecated(\n"
     ]
    },
    {
     "name": "stdout",
     "output_type": "stream",
     "text": [
      " A. Perorangan warga negara Indonesia, kesatuan masyarakat hukum adat sepanjang masih hidup dan sesuai dengan\n",
      "perkembangan masyarakat dan prinsip-prinsip Negara Kesatuan Republik Indonesia yang diatur dalam undang-\n",
      "undang, badan hukum publik atau privat, atau lembaga negara\n",
      "\n",
      "\n",
      "Sources:\n",
      "Time:  156.54513573646545\n",
      "==============================================\n",
      "Nomor:  38\n",
      "Setiap orang berhak atas pengakuan, jaminan, perlindungan, dan kepastian hukum yang adil serta perlakuan yang sama di hadapan hukum, bunyi dari…\\n A.  Pasal 28D ayat (1) UUD 1945\\n B.  Pasal 27D ayat (1) UUD 1945\\n C.  Pasal 26D ayat (1) UUD 1945\\n D.  Pasal 25D ayat (1) UUD 1945\\n E.  Pasal 24D ayat (1) UUD 1945\n"
     ]
    },
    {
     "name": "stderr",
     "output_type": "stream",
     "text": [
      "/opt/conda/lib/python3.10/site-packages/langchain_core/_api/deprecation.py:189: LangChainDeprecationWarning: The function `__call__` was deprecated in LangChain 0.1.0 and will be removed in 0.2.0. Use invoke instead.\n",
      "  warn_deprecated(\n",
      "/opt/conda/lib/python3.10/site-packages/langchain_core/_api/deprecation.py:189: LangChainDeprecationWarning: The function `run` was deprecated in LangChain 0.1.0 and will be removed in 0.2.0. Use invoke instead.\n",
      "  warn_deprecated(\n",
      "/opt/conda/lib/python3.10/site-packages/langchain_core/_api/deprecation.py:189: LangChainDeprecationWarning: The function `__call__` was deprecated in LangChain 0.1.0 and will be removed in 0.2.0. Use invoke instead.\n",
      "  warn_deprecated(\n",
      "/opt/conda/lib/python3.10/site-packages/langchain_core/_api/deprecation.py:189: LangChainDeprecationWarning: The function `__call__` was deprecated in LangChain 0.1.0 and will be removed in 0.2.0. Use invoke instead.\n",
      "  warn_deprecated(\n"
     ]
    },
    {
     "name": "stdout",
     "output_type": "stream",
     "text": [
      " A. Pasal 28D ayat (1) UUD 1945\n",
      "\n",
      "\n",
      "Sources:\n",
      "Time:  75.58943629264832\n",
      "==============================================\n",
      "Nomor:  39\n",
      "Setiap orang berhak atas kebebasan meyakini kepercayaan, menyatakan pikiran dan sikap, sesuai dengan hati nuraninya, dari pasal…\\n A.  Pasal 28F ayat (2) UUD 1945\\n B.  Pasal 28A ayat (2) UUD 1945\\n C.  Pasal 28B ayat (2) UUD 1945\\n D.  Pasal 28C ayat (2) UUD 1945\\n E.  Pasal 28E ayat (2) UUD 1945\n"
     ]
    },
    {
     "name": "stderr",
     "output_type": "stream",
     "text": [
      "/opt/conda/lib/python3.10/site-packages/langchain_core/_api/deprecation.py:189: LangChainDeprecationWarning: The function `__call__` was deprecated in LangChain 0.1.0 and will be removed in 0.2.0. Use invoke instead.\n",
      "  warn_deprecated(\n",
      "/opt/conda/lib/python3.10/site-packages/langchain_core/_api/deprecation.py:189: LangChainDeprecationWarning: The function `run` was deprecated in LangChain 0.1.0 and will be removed in 0.2.0. Use invoke instead.\n",
      "  warn_deprecated(\n",
      "/opt/conda/lib/python3.10/site-packages/langchain_core/_api/deprecation.py:189: LangChainDeprecationWarning: The function `__call__` was deprecated in LangChain 0.1.0 and will be removed in 0.2.0. Use invoke instead.\n",
      "  warn_deprecated(\n",
      "/opt/conda/lib/python3.10/site-packages/langchain_core/_api/deprecation.py:189: LangChainDeprecationWarning: The function `__call__` was deprecated in LangChain 0.1.0 and will be removed in 0.2.0. Use invoke instead.\n",
      "  warn_deprecated(\n"
     ]
    },
    {
     "name": "stdout",
     "output_type": "stream",
     "text": [
      " B. Pasal 28A ayat (2) UUD 1945\n",
      "\n",
      "\n",
      "Sources:\n",
      "Time:  74.20336198806763\n",
      "==============================================\n",
      "Nomor:  40\n",
      "Setiap orang berhak atas kebebasan berserikat, berkumpul dan mengeluarkan pendapat, dari pasal…\\n A.  Pasal 28A ayat (3) UUD 1945\\n B.  Pasal 28E ayat (3) UUD 1945\\n C.  Pasal 28B ayat (3) UUD 1945\\n D.  Pasal 28C ayat (3) UUD 1945\\n E.  Pasal 28D ayat (3) UUD 1945\n"
     ]
    },
    {
     "name": "stderr",
     "output_type": "stream",
     "text": [
      "/opt/conda/lib/python3.10/site-packages/langchain_core/_api/deprecation.py:189: LangChainDeprecationWarning: The function `__call__` was deprecated in LangChain 0.1.0 and will be removed in 0.2.0. Use invoke instead.\n",
      "  warn_deprecated(\n",
      "/opt/conda/lib/python3.10/site-packages/langchain_core/_api/deprecation.py:189: LangChainDeprecationWarning: The function `run` was deprecated in LangChain 0.1.0 and will be removed in 0.2.0. Use invoke instead.\n",
      "  warn_deprecated(\n",
      "/opt/conda/lib/python3.10/site-packages/langchain_core/_api/deprecation.py:189: LangChainDeprecationWarning: The function `__call__` was deprecated in LangChain 0.1.0 and will be removed in 0.2.0. Use invoke instead.\n",
      "  warn_deprecated(\n",
      "/opt/conda/lib/python3.10/site-packages/langchain_core/_api/deprecation.py:189: LangChainDeprecationWarning: The function `__call__` was deprecated in LangChain 0.1.0 and will be removed in 0.2.0. Use invoke instead.\n",
      "  warn_deprecated(\n"
     ]
    },
    {
     "name": "stdout",
     "output_type": "stream",
     "text": [
      " B. Pasal 28E ayat (3) UUD 1945\n",
      "\n",
      "\n",
      "Sources:\n",
      "Time:  71.42426061630249\n",
      "==============================================\n",
      "Nomor:  41\n",
      "Setiap orang berhak untuk berkomunikasi dan memperoleh informasi untuk mengembangkan pribadi dan lingkungan sosialnya, serta berhak untuk mencari, memperoleh, memiliki, menyimpan, mengolah, dan menyampaikan informasi dengan menggunakan segala jenis saluran yang tersedia, ada pada pasal...\\n A.  Pasal 28B UUD 1945\\n B.  Pasal 28C UUD 1945\\n C.  Pasal 28E UUD 1945\\n D.  Pasal 28E UUD 1945\\n E.  Pasal 28F UUD 1945\n"
     ]
    },
    {
     "name": "stderr",
     "output_type": "stream",
     "text": [
      "/opt/conda/lib/python3.10/site-packages/langchain_core/_api/deprecation.py:189: LangChainDeprecationWarning: The function `__call__` was deprecated in LangChain 0.1.0 and will be removed in 0.2.0. Use invoke instead.\n",
      "  warn_deprecated(\n",
      "/opt/conda/lib/python3.10/site-packages/langchain_core/_api/deprecation.py:189: LangChainDeprecationWarning: The function `run` was deprecated in LangChain 0.1.0 and will be removed in 0.2.0. Use invoke instead.\n",
      "  warn_deprecated(\n",
      "/opt/conda/lib/python3.10/site-packages/langchain_core/_api/deprecation.py:189: LangChainDeprecationWarning: The function `__call__` was deprecated in LangChain 0.1.0 and will be removed in 0.2.0. Use invoke instead.\n",
      "  warn_deprecated(\n",
      "/opt/conda/lib/python3.10/site-packages/langchain_core/_api/deprecation.py:189: LangChainDeprecationWarning: The function `__call__` was deprecated in LangChain 0.1.0 and will be removed in 0.2.0. Use invoke instead.\n",
      "  warn_deprecated(\n"
     ]
    },
    {
     "name": "stdout",
     "output_type": "stream",
     "text": [
      " A. Pasal 28B UUD 1945\n",
      "\n",
      "\n",
      "Sources:\n",
      "Time:  81.1121814250946\n",
      "==============================================\n",
      "Nomor:  42\n",
      "Setiap orang yang memenuhi unsur sebagaimana dimaksud dalam Pasal 27 ayat (1), ayat (2), ayat (3), atau ayat (4) dipidana dengan pidana penjara paling lama…\\n A.  5 (lima) tahun\\n B.  6 (enam) tahun\\n C.  7 (tujuh) tahun\\n D.  8 (delapan) tahun\\n E.  9 (sembilan) tahun\n"
     ]
    },
    {
     "name": "stderr",
     "output_type": "stream",
     "text": [
      "/opt/conda/lib/python3.10/site-packages/langchain_core/_api/deprecation.py:189: LangChainDeprecationWarning: The function `__call__` was deprecated in LangChain 0.1.0 and will be removed in 0.2.0. Use invoke instead.\n",
      "  warn_deprecated(\n",
      "/opt/conda/lib/python3.10/site-packages/langchain_core/_api/deprecation.py:189: LangChainDeprecationWarning: The function `run` was deprecated in LangChain 0.1.0 and will be removed in 0.2.0. Use invoke instead.\n",
      "  warn_deprecated(\n",
      "/opt/conda/lib/python3.10/site-packages/langchain_core/_api/deprecation.py:189: LangChainDeprecationWarning: The function `__call__` was deprecated in LangChain 0.1.0 and will be removed in 0.2.0. Use invoke instead.\n",
      "  warn_deprecated(\n",
      "/opt/conda/lib/python3.10/site-packages/langchain_core/_api/deprecation.py:189: LangChainDeprecationWarning: The function `__call__` was deprecated in LangChain 0.1.0 and will be removed in 0.2.0. Use invoke instead.\n",
      "  warn_deprecated(\n"
     ]
    },
    {
     "name": "stdout",
     "output_type": "stream",
     "text": [
      " A. 5 (five) years\n",
      "\n",
      "Explanation: The question is asking about the punishment for someone who meets the conditions described in\n",
      "Section 27, subsections (1), (2), (3), or (4). However, there are no specific punishments listed in those\n",
      "sections. Therefore, we cannot determine the correct answer from the given options.\n",
      "\n",
      "\n",
      "Sources:\n",
      "Time:  81.97001910209656\n",
      "==============================================\n",
      "Nomor:  43\n",
      "Setiap orang yang memenuhi unsur sebagaimana dimaksud dalam Pasal 27 ayat (1), ayat (2), ayat (3), atau ayat (4) dipidana dengan pidana penjara paling lama 6 (enam) tahun dan/atau denda paling banyak…\\n A.  Rp 2.000.000.000,00 (dua miliar rupiah)\\n B.  Rp 3.000.000.000,00 (tiga miliar rupiah)\\n C.  Rp 1.000.000.000,00 (satu miliar rupiah)\\n D.  Rp 4.000.000.000,00 (empat miliar rupiah)\\n E.  Rp 5.000.000.000,00 (lima miliar rupiah)\n"
     ]
    },
    {
     "name": "stderr",
     "output_type": "stream",
     "text": [
      "/opt/conda/lib/python3.10/site-packages/langchain_core/_api/deprecation.py:189: LangChainDeprecationWarning: The function `__call__` was deprecated in LangChain 0.1.0 and will be removed in 0.2.0. Use invoke instead.\n",
      "  warn_deprecated(\n",
      "/opt/conda/lib/python3.10/site-packages/langchain_core/_api/deprecation.py:189: LangChainDeprecationWarning: The function `run` was deprecated in LangChain 0.1.0 and will be removed in 0.2.0. Use invoke instead.\n",
      "  warn_deprecated(\n",
      "/opt/conda/lib/python3.10/site-packages/langchain_core/_api/deprecation.py:189: LangChainDeprecationWarning: The function `__call__` was deprecated in LangChain 0.1.0 and will be removed in 0.2.0. Use invoke instead.\n",
      "  warn_deprecated(\n",
      "/opt/conda/lib/python3.10/site-packages/langchain_core/_api/deprecation.py:189: LangChainDeprecationWarning: The function `__call__` was deprecated in LangChain 0.1.0 and will be removed in 0.2.0. Use invoke instead.\n",
      "  warn_deprecated(\n"
     ]
    },
    {
     "name": "stdout",
     "output_type": "stream",
     "text": [
      " C. Rp 1.000.000.000,00 (satu miliar rupiah)\n",
      "\n",
      "\n",
      "Sources:\n",
      "Time:  101.05024361610413\n",
      "==============================================\n",
      "Nomor:  44\n",
      "Undang-Undang Nomor 32 Tahun 2004, sebagaimana tertakhir telah diubah dengan…\\n A.  Undang-Undang Nomor 11 Tahun 2008\\n B.  Undang-Undang Nomor 12 Tahun 2008\\n C.  Undang-Undang Nomor 13 Tahun 2008\\n D.  Undang-Undang Nomor 14 Tahun 2008\\n E.  Undang-Undang Nomor 15 Tahun 2008\n"
     ]
    },
    {
     "name": "stderr",
     "output_type": "stream",
     "text": [
      "/opt/conda/lib/python3.10/site-packages/langchain_core/_api/deprecation.py:189: LangChainDeprecationWarning: The function `__call__` was deprecated in LangChain 0.1.0 and will be removed in 0.2.0. Use invoke instead.\n",
      "  warn_deprecated(\n",
      "/opt/conda/lib/python3.10/site-packages/langchain_core/_api/deprecation.py:189: LangChainDeprecationWarning: The function `run` was deprecated in LangChain 0.1.0 and will be removed in 0.2.0. Use invoke instead.\n",
      "  warn_deprecated(\n",
      "/opt/conda/lib/python3.10/site-packages/langchain_core/_api/deprecation.py:189: LangChainDeprecationWarning: The function `__call__` was deprecated in LangChain 0.1.0 and will be removed in 0.2.0. Use invoke instead.\n",
      "  warn_deprecated(\n",
      "/opt/conda/lib/python3.10/site-packages/langchain_core/_api/deprecation.py:189: LangChainDeprecationWarning: The function `__call__` was deprecated in LangChain 0.1.0 and will be removed in 0.2.0. Use invoke instead.\n",
      "  warn_deprecated(\n"
     ]
    },
    {
     "name": "stdout",
     "output_type": "stream",
     "text": [
      " A. Undang-Undang Nomor 11 Tahun 2008\n",
      "\n",
      "\n",
      "Sources:\n",
      "Time:  69.3445451259613\n",
      "==============================================\n",
      "Nomor:  45\n",
      "Undang-Undang Nomor 12 Tahun 2008 tentang Perubahan Kedua Atas Undang-Undang Nomor 32 Tahun 2004 tentang Pemerintahan Daerah, dalam Pasal  236C menetapkan...\\n A.  Penanganan sengketa hasil penghitungan suara pemilihan kepala daerah dan wakil kepala daerah oleh Mahkamah Agung dialihkan kepada Mahkamah Konstitusi paling lama 18 (delapan belas) bulan sejak Undang-Undang ini diundangkan\\n B.  Mahkamah Agung berwenang mengadili pada tingkat pertama dan terakhir yang putusannya bersifat final, antara lain, untuk memutus perselisihan tentang hasil pemilihan umum\\n C.  Mahkamah Konstitusi berwenang mengadili pada tingkat pertama dan terakhir yang putusannya bersifat final, antara lain, untuk memutus perselisihan tentang hasil pemilihan umum\\n D.  Kepolisian Negara Indonesia mengadili pada tingkat pertama dan terakhir yang putusannya bersifat final, antara lain, untuk memutus perselisihan tentang hasil pemilihan umum\\n E.  Presiden Republik Indonesia mengadili pada tingkat pertama dan terakhir yang putusannya bersifat final, antara lain, untuk memutus perselisihan tentang hasil pemilihan umum\n"
     ]
    },
    {
     "name": "stderr",
     "output_type": "stream",
     "text": [
      "/opt/conda/lib/python3.10/site-packages/langchain_core/_api/deprecation.py:189: LangChainDeprecationWarning: The function `__call__` was deprecated in LangChain 0.1.0 and will be removed in 0.2.0. Use invoke instead.\n",
      "  warn_deprecated(\n",
      "/opt/conda/lib/python3.10/site-packages/langchain_core/_api/deprecation.py:189: LangChainDeprecationWarning: The function `run` was deprecated in LangChain 0.1.0 and will be removed in 0.2.0. Use invoke instead.\n",
      "  warn_deprecated(\n",
      "/opt/conda/lib/python3.10/site-packages/langchain_core/_api/deprecation.py:189: LangChainDeprecationWarning: The function `__call__` was deprecated in LangChain 0.1.0 and will be removed in 0.2.0. Use invoke instead.\n",
      "  warn_deprecated(\n",
      "/opt/conda/lib/python3.10/site-packages/langchain_core/_api/deprecation.py:189: LangChainDeprecationWarning: The function `__call__` was deprecated in LangChain 0.1.0 and will be removed in 0.2.0. Use invoke instead.\n",
      "  warn_deprecated(\n"
     ]
    },
    {
     "name": "stdout",
     "output_type": "stream",
     "text": [
      " C. Mahkamah Konstitusi berwenang mengadili pada tingkat pertama dan terakhir yang putusannya bersifat final,\n",
      "antara lain, untuk memutus perselisihan tentang hasil pemilihan umum\n",
      "\n",
      "\n",
      "Sources:\n",
      "Time:  169.70773839950562\n",
      "==============================================\n",
      "Nomor:  46\n",
      "Gubernur, Bupati, dan walikota masing-masing sebagai kepala pemerintah daerah provinsi, kabupaten, dan kota dipilih secara demokratis, ada pada pasal…\\n A.  UU Dasar 1945 Pasal 18 ayat (4)\\n B.  UU Dasar 1945 Pasal 22E ayat (1)\\n C.  UU Dasar 1945 Pasal 27 ayat (1)\\n D.  UU Dasar 1945 Pasal 28C ayat (2)\\n E.  UU Dasar 1945 Pasal 28D ayat (1)\n"
     ]
    },
    {
     "name": "stderr",
     "output_type": "stream",
     "text": [
      "/opt/conda/lib/python3.10/site-packages/langchain_core/_api/deprecation.py:189: LangChainDeprecationWarning: The function `__call__` was deprecated in LangChain 0.1.0 and will be removed in 0.2.0. Use invoke instead.\n",
      "  warn_deprecated(\n",
      "/opt/conda/lib/python3.10/site-packages/langchain_core/_api/deprecation.py:189: LangChainDeprecationWarning: The function `run` was deprecated in LangChain 0.1.0 and will be removed in 0.2.0. Use invoke instead.\n",
      "  warn_deprecated(\n",
      "/opt/conda/lib/python3.10/site-packages/langchain_core/_api/deprecation.py:189: LangChainDeprecationWarning: The function `__call__` was deprecated in LangChain 0.1.0 and will be removed in 0.2.0. Use invoke instead.\n",
      "  warn_deprecated(\n",
      "/opt/conda/lib/python3.10/site-packages/langchain_core/_api/deprecation.py:189: LangChainDeprecationWarning: The function `__call__` was deprecated in LangChain 0.1.0 and will be removed in 0.2.0. Use invoke instead.\n",
      "  warn_deprecated(\n"
     ]
    },
    {
     "name": "stdout",
     "output_type": "stream",
     "text": [
      " B. UU Dasar 1945 Pasal 22E ayat (1)\n",
      "\n",
      "\n",
      "Sources:\n",
      "Time:  78.74020004272461\n",
      "==============================================\n",
      "Nomor:  47\n",
      "Pemilihan umum dilaksanakan secara langsung, umum, bebas, rahasia, jujur, dan adil setiap lima tahun sekali, pada pasal…\\n A.  UU Dasar 1945 Pasal 18 ayat (4)\\n B.  UU Dasar 1945 Pasal 22E ayat (1)\\n C.  UU Dasar 1945 Pasal 27 ayat (1)\\n D.  UU Dasar 1945 Pasal 28C ayat (2)\\n E.  UU Dasar 1945 Pasal 28D ayat (1)\n"
     ]
    },
    {
     "name": "stderr",
     "output_type": "stream",
     "text": [
      "/opt/conda/lib/python3.10/site-packages/langchain_core/_api/deprecation.py:189: LangChainDeprecationWarning: The function `__call__` was deprecated in LangChain 0.1.0 and will be removed in 0.2.0. Use invoke instead.\n",
      "  warn_deprecated(\n",
      "/opt/conda/lib/python3.10/site-packages/langchain_core/_api/deprecation.py:189: LangChainDeprecationWarning: The function `run` was deprecated in LangChain 0.1.0 and will be removed in 0.2.0. Use invoke instead.\n",
      "  warn_deprecated(\n",
      "/opt/conda/lib/python3.10/site-packages/langchain_core/_api/deprecation.py:189: LangChainDeprecationWarning: The function `__call__` was deprecated in LangChain 0.1.0 and will be removed in 0.2.0. Use invoke instead.\n",
      "  warn_deprecated(\n",
      "/opt/conda/lib/python3.10/site-packages/langchain_core/_api/deprecation.py:189: LangChainDeprecationWarning: The function `__call__` was deprecated in LangChain 0.1.0 and will be removed in 0.2.0. Use invoke instead.\n",
      "  warn_deprecated(\n"
     ]
    },
    {
     "name": "stdout",
     "output_type": "stream",
     "text": [
      " B. UU Dasar 1945 Pasal 22E ayat (1)\n",
      "\n",
      "\n",
      "Sources:\n",
      "Time:  75.17010474205017\n",
      "==============================================\n",
      "Nomor:  48\n",
      "Segala warga negara bersamaan kedudukannya didalam hukum dan pemerintahan dan wajib menjunjung hukum dan pemerintahan itu dengan tidak ada kecualinya, pada pasal…\\n A.  UU Dasar 1945 Pasal 18 ayat (4)\\n B.  UU Dasar 1945 Pasal 22E ayat (1)\\n C.  UU Dasar 1945 Pasal 27 ayat (1)\\n D.  UU Dasar 1945 Pasal 28C ayat (2)\\n E.  UU Dasar 1945 Pasal 28D ayat (1)\n"
     ]
    },
    {
     "name": "stderr",
     "output_type": "stream",
     "text": [
      "/opt/conda/lib/python3.10/site-packages/langchain_core/_api/deprecation.py:189: LangChainDeprecationWarning: The function `__call__` was deprecated in LangChain 0.1.0 and will be removed in 0.2.0. Use invoke instead.\n",
      "  warn_deprecated(\n",
      "/opt/conda/lib/python3.10/site-packages/langchain_core/_api/deprecation.py:189: LangChainDeprecationWarning: The function `run` was deprecated in LangChain 0.1.0 and will be removed in 0.2.0. Use invoke instead.\n",
      "  warn_deprecated(\n",
      "/opt/conda/lib/python3.10/site-packages/langchain_core/_api/deprecation.py:189: LangChainDeprecationWarning: The function `__call__` was deprecated in LangChain 0.1.0 and will be removed in 0.2.0. Use invoke instead.\n",
      "  warn_deprecated(\n",
      "/opt/conda/lib/python3.10/site-packages/langchain_core/_api/deprecation.py:189: LangChainDeprecationWarning: The function `__call__` was deprecated in LangChain 0.1.0 and will be removed in 0.2.0. Use invoke instead.\n",
      "  warn_deprecated(\n"
     ]
    },
    {
     "name": "stdout",
     "output_type": "stream",
     "text": [
      " A. UU Dasar 1945 Pasal 18 ayat (4)\n",
      "\n",
      "\n",
      "Sources:\n",
      "Time:  81.16301894187927\n",
      "==============================================\n",
      "Nomor:  49\n",
      "Setiap orang berhak untuk memajukan dirinya dalam memperjuangkan haknya secara kolektif untuk membangun masyarakat, bangsa dan negaranya, ada pada pasal…\\n A.  UU Dasar 1945 Pasal 18 ayat (4)\\n B.  UU Dasar 1945 Pasal 22E ayat (1)\\n C.  UU Dasar 1945 Pasal 27 ayat (1)\\n D.  UU Dasar 1945 Pasal 28C ayat (2)\\n E.  UU Dasar 1945 Pasal 28D ayat (1)\n"
     ]
    },
    {
     "name": "stderr",
     "output_type": "stream",
     "text": [
      "/opt/conda/lib/python3.10/site-packages/langchain_core/_api/deprecation.py:189: LangChainDeprecationWarning: The function `__call__` was deprecated in LangChain 0.1.0 and will be removed in 0.2.0. Use invoke instead.\n",
      "  warn_deprecated(\n",
      "/opt/conda/lib/python3.10/site-packages/langchain_core/_api/deprecation.py:189: LangChainDeprecationWarning: The function `run` was deprecated in LangChain 0.1.0 and will be removed in 0.2.0. Use invoke instead.\n",
      "  warn_deprecated(\n",
      "/opt/conda/lib/python3.10/site-packages/langchain_core/_api/deprecation.py:189: LangChainDeprecationWarning: The function `__call__` was deprecated in LangChain 0.1.0 and will be removed in 0.2.0. Use invoke instead.\n",
      "  warn_deprecated(\n",
      "/opt/conda/lib/python3.10/site-packages/langchain_core/_api/deprecation.py:189: LangChainDeprecationWarning: The function `__call__` was deprecated in LangChain 0.1.0 and will be removed in 0.2.0. Use invoke instead.\n",
      "  warn_deprecated(\n"
     ]
    },
    {
     "name": "stdout",
     "output_type": "stream",
     "text": [
      " A. UU Dasar 1945 Pasal 18 ayat (4)\n",
      "\n",
      "\n",
      "Sources:\n",
      "Time:  77.57173252105713\n",
      "==============================================\n",
      "Nomor:  50\n",
      "Setiap orang berhak atas pengakuan, jaminan, perlindungan, dan kepastian hukum yan adil serta perlakuan yang sama dihadapan hukum, ada pada pasal…\\n A.  UU Dasar 1945 Pasal 18 ayat (4)\\n B.  UU Dasar 1945 Pasal 22E ayat (1)\\n C.  UU Dasar 1945 Pasal 27 ayat (1)\\n D.  UU Dasar 1945 Pasal 28C ayat (2)\\n E.  UU Dasar 1945 Pasal 28D ayat (1)\n"
     ]
    },
    {
     "name": "stderr",
     "output_type": "stream",
     "text": [
      "/opt/conda/lib/python3.10/site-packages/langchain_core/_api/deprecation.py:189: LangChainDeprecationWarning: The function `__call__` was deprecated in LangChain 0.1.0 and will be removed in 0.2.0. Use invoke instead.\n",
      "  warn_deprecated(\n",
      "/opt/conda/lib/python3.10/site-packages/langchain_core/_api/deprecation.py:189: LangChainDeprecationWarning: The function `run` was deprecated in LangChain 0.1.0 and will be removed in 0.2.0. Use invoke instead.\n",
      "  warn_deprecated(\n",
      "/opt/conda/lib/python3.10/site-packages/langchain_core/_api/deprecation.py:189: LangChainDeprecationWarning: The function `__call__` was deprecated in LangChain 0.1.0 and will be removed in 0.2.0. Use invoke instead.\n",
      "  warn_deprecated(\n",
      "/opt/conda/lib/python3.10/site-packages/langchain_core/_api/deprecation.py:189: LangChainDeprecationWarning: The function `__call__` was deprecated in LangChain 0.1.0 and will be removed in 0.2.0. Use invoke instead.\n",
      "  warn_deprecated(\n"
     ]
    },
    {
     "name": "stdout",
     "output_type": "stream",
     "text": [
      " A. UU Dasar 1945 Pasal 18 ayat (4)\n",
      "\n",
      "Explanation: The answer is A because the question refers to every person's right to recognition, just\n",
      "guarantee, protection, and legal certainty of a fair and equal treatment before the law. This principle can be\n",
      "found in Article 27(1) of the 1945 Constitution which states that everyone has the right to be free from any\n",
      "discrimination.\n",
      "\n",
      "Source: UU Dasar 1945 Pasal 18 ayat (4), UU Dasar 1945 Pasal 22E ayat (1), UU Dasar 1945 Pasal 27 ayat (1), UU\n",
      "Dasar 1945 Pasal 28C ayat (2), and UU Dasar 1945 Pasal 28D ayat (1) are all provisions in the Indonesian\n",
      "Constitution that address various aspects of human rights, equality before the law, and non-discrimination.\n",
      "However, only Article 18(4) directly addresses recognition, just guarantee, protection, and legal certainty of\n",
      "a fair and\n",
      "\n",
      "\n",
      "Sources:\n",
      "Time:  156.9986171722412\n",
      "==============================================\n",
      "Nomor:  51\n",
      "Based on Article 24C paragraph (1) of the 1945 Constitution of the Republic of Indonesia (hereinafter referred to as the 1945 Constitution) states that…\\n A.  The Supreme Court has the authority to adjudicate at the first and final level whose decisions are final, among other things, to decide disputes regarding the results of general elections \\n B.  The Constitutional Court has the authority to adjudicate at the first and final level whose decisions are final, among other things, to decide disputes regarding the results of general elections \\n C.  The Indonesian National Police adjudicates at the first and final level whose decision is final, among other things, to decide disputes regarding the results of the general election\\n D.  Presiden Republik Indonesia mengadili pada tingkat pertama dan terakhir yang putusannya bersifat final, antara lain, untuk memutus perselisihan tentang hasil pemilihan umum\\n E.  The President of the Republic of Indonesia adjudicates at the first and final level whose decision is final, among other things, to decide disputes regarding the results of the general election \n"
     ]
    },
    {
     "name": "stderr",
     "output_type": "stream",
     "text": [
      "/opt/conda/lib/python3.10/site-packages/langchain_core/_api/deprecation.py:189: LangChainDeprecationWarning: The function `__call__` was deprecated in LangChain 0.1.0 and will be removed in 0.2.0. Use invoke instead.\n",
      "  warn_deprecated(\n",
      "/opt/conda/lib/python3.10/site-packages/langchain_core/_api/deprecation.py:189: LangChainDeprecationWarning: The function `run` was deprecated in LangChain 0.1.0 and will be removed in 0.2.0. Use invoke instead.\n",
      "  warn_deprecated(\n",
      "/opt/conda/lib/python3.10/site-packages/langchain_core/_api/deprecation.py:189: LangChainDeprecationWarning: The function `__call__` was deprecated in LangChain 0.1.0 and will be removed in 0.2.0. Use invoke instead.\n",
      "  warn_deprecated(\n",
      "/opt/conda/lib/python3.10/site-packages/langchain_core/_api/deprecation.py:189: LangChainDeprecationWarning: The function `__call__` was deprecated in LangChain 0.1.0 and will be removed in 0.2.0. Use invoke instead.\n",
      "  warn_deprecated(\n"
     ]
    },
    {
     "name": "stdout",
     "output_type": "stream",
     "text": [
      " B. The Constitutional Court has the authority to adjudicate at the first and final level whose decisions are\n",
      "final, among other things, to decide disputes regarding the results of general elections\n",
      "\n",
      "\n",
      "Sources:\n",
      "Time:  109.4884922504425\n",
      "==============================================\n",
      "Nomor:  52\n",
      "Applications are submitted within a maximum period of 3 x 24 (three times twenty four) hours from the announcement of the determination of the vote results for the National DPR and DPRD Member Elections by the KPU. The contents of this statement are in article...\\n A.  Article 70 paragraph (3) of the Constitutional Court Law, Article 111 paragraph (2) of the Election Law, and Article 6 paragraph (1) of PMK Number 2 of 2018\\n B.  Article 74 paragraph (3) of the Constitutional Court Law, Article 474 paragraph (2) of the Election Law, and Article 2 paragraph (1) of PMK Number 2 of 2011\\n C.  Article 74 paragraph (3) of the Constitutional Court Law, Article 474 paragraph (2) of the Election Law, and Article 1 paragraph (1) of PMK Number 2 of 2018\\n D.  Pasal 74 ayat (3) UU MK, Pasal 474 ayat (2) UU Pemilu, dan Pasal 6 ayat (1) PMK Nomor 2 Tahun 2018\\n E.  Article 74 paragraph (3) of the Constitutional Court Law, Article 474 paragraph (2) of the Election Law, and Article 6 paragraph (1) of PMK Number 2 of 2018\n"
     ]
    },
    {
     "name": "stderr",
     "output_type": "stream",
     "text": [
      "/opt/conda/lib/python3.10/site-packages/langchain_core/_api/deprecation.py:189: LangChainDeprecationWarning: The function `__call__` was deprecated in LangChain 0.1.0 and will be removed in 0.2.0. Use invoke instead.\n",
      "  warn_deprecated(\n",
      "/opt/conda/lib/python3.10/site-packages/langchain_core/_api/deprecation.py:189: LangChainDeprecationWarning: The function `run` was deprecated in LangChain 0.1.0 and will be removed in 0.2.0. Use invoke instead.\n",
      "  warn_deprecated(\n",
      "/opt/conda/lib/python3.10/site-packages/langchain_core/_api/deprecation.py:189: LangChainDeprecationWarning: The function `__call__` was deprecated in LangChain 0.1.0 and will be removed in 0.2.0. Use invoke instead.\n",
      "  warn_deprecated(\n",
      "/opt/conda/lib/python3.10/site-packages/langchain_core/_api/deprecation.py:189: LangChainDeprecationWarning: The function `__call__` was deprecated in LangChain 0.1.0 and will be removed in 0.2.0. Use invoke instead.\n",
      "  warn_deprecated(\n"
     ]
    },
    {
     "name": "stdout",
     "output_type": "stream",
     "text": [
      " A. Article 70 paragraph (3) of the Constitutional Court Law, Article 111 paragraph (2) of the Election Law,\n",
      "and Article 6 paragraph (1) of PMK Number 2 of 2018\n",
      "\n",
      "\n",
      "Sources:\n",
      "Time:  139.17122435569763\n",
      "==============================================\n",
      "Nomor:  53\n",
      "Article 1 paragraph (3) of the 1945 Constitution which reads…\\n A.  Indonesia is a country of law\\n B.  Indonesia is an Islamic country\\n C.  Indonesia is a liberal country\\n D.  Negara Indonesia adalah negara kepulauan\\n E.  Indonesia is an archipelagic country\n"
     ]
    },
    {
     "name": "stderr",
     "output_type": "stream",
     "text": [
      "/opt/conda/lib/python3.10/site-packages/langchain_core/_api/deprecation.py:189: LangChainDeprecationWarning: The function `__call__` was deprecated in LangChain 0.1.0 and will be removed in 0.2.0. Use invoke instead.\n",
      "  warn_deprecated(\n",
      "/opt/conda/lib/python3.10/site-packages/langchain_core/_api/deprecation.py:189: LangChainDeprecationWarning: The function `run` was deprecated in LangChain 0.1.0 and will be removed in 0.2.0. Use invoke instead.\n",
      "  warn_deprecated(\n",
      "/opt/conda/lib/python3.10/site-packages/langchain_core/_api/deprecation.py:189: LangChainDeprecationWarning: The function `__call__` was deprecated in LangChain 0.1.0 and will be removed in 0.2.0. Use invoke instead.\n",
      "  warn_deprecated(\n",
      "/opt/conda/lib/python3.10/site-packages/langchain_core/_api/deprecation.py:189: LangChainDeprecationWarning: The function `__call__` was deprecated in LangChain 0.1.0 and will be removed in 0.2.0. Use invoke instead.\n",
      "  warn_deprecated(\n"
     ]
    },
    {
     "name": "stdout",
     "output_type": "stream",
     "text": [
      " E. Indonesia is an archipelagic country\n",
      "\n",
      "\n",
      "Sources:\n",
      "Time:  43.8772349357605\n",
      "==============================================\n",
      "Nomor:  54\n",
      "Whereas the norm of Article 244 of the KUHP has created uncertainty for the Petitioner and that this uncertainty has harmed his Constitutional Rights as stipulated in…\\n A.  Article 21D paragraph (1) of the 1945 Constitution\\n B.  Article 22D paragraph (1) of the 1945 Constitution\\n C.  Article 23D paragraph (1) of the 1945 Constitution\\n D.  Pasal 24D ayat (1) UUD 1945\\n E.  Article 24D paragraph (1) of the 1945 Constitution\n"
     ]
    },
    {
     "name": "stderr",
     "output_type": "stream",
     "text": [
      "/opt/conda/lib/python3.10/site-packages/langchain_core/_api/deprecation.py:189: LangChainDeprecationWarning: The function `__call__` was deprecated in LangChain 0.1.0 and will be removed in 0.2.0. Use invoke instead.\n",
      "  warn_deprecated(\n",
      "/opt/conda/lib/python3.10/site-packages/langchain_core/_api/deprecation.py:189: LangChainDeprecationWarning: The function `run` was deprecated in LangChain 0.1.0 and will be removed in 0.2.0. Use invoke instead.\n",
      "  warn_deprecated(\n",
      "/opt/conda/lib/python3.10/site-packages/langchain_core/_api/deprecation.py:189: LangChainDeprecationWarning: The function `__call__` was deprecated in LangChain 0.1.0 and will be removed in 0.2.0. Use invoke instead.\n",
      "  warn_deprecated(\n",
      "/opt/conda/lib/python3.10/site-packages/langchain_core/_api/deprecation.py:189: LangChainDeprecationWarning: The function `__call__` was deprecated in LangChain 0.1.0 and will be removed in 0.2.0. Use invoke instead.\n",
      "  warn_deprecated(\n"
     ]
    },
    {
     "name": "stdout",
     "output_type": "stream",
     "text": [
      " A. Article 21D paragraph (1) of the 1945 Constitution\n",
      "\n",
      "\n",
      "Sources:\n",
      "Time:  68.19222021102905\n",
      "==============================================\n",
      "Nomor:  55\n",
      "The formulation of Article 244 of the KUHP reads...\\n A.  Decisions in criminal cases cannot be given by the Supreme Court, they can only be given by the Constitutional Court.\\n B.  Regarding a criminal case decision given at the final level by a court other than the Supreme Court, the defendant or Public Prosecutor may submit a request for a cassation hearing to the Supreme Court against the acquittal decision.\\n C.  Regarding criminal case decisions rendered at the final level by courts other than the Supreme Court, the defendant or Public Prosecutor may submit a request for a cassation hearing to the Supreme Court except for acquittal decisions.\\n D.  Mengenai kedudukan hukum para Pemohon Pemerintah menyerahkansepenuhnya kepada Majelis Hakim untuk menilai dan memutusnya.\\n E.  Regarding the legal status of the Petitioners, the Government has left it entirely up to the Panel of Judges to assess and decide.\n"
     ]
    },
    {
     "name": "stderr",
     "output_type": "stream",
     "text": [
      "/opt/conda/lib/python3.10/site-packages/langchain_core/_api/deprecation.py:189: LangChainDeprecationWarning: The function `__call__` was deprecated in LangChain 0.1.0 and will be removed in 0.2.0. Use invoke instead.\n",
      "  warn_deprecated(\n",
      "/opt/conda/lib/python3.10/site-packages/langchain_core/_api/deprecation.py:189: LangChainDeprecationWarning: The function `run` was deprecated in LangChain 0.1.0 and will be removed in 0.2.0. Use invoke instead.\n",
      "  warn_deprecated(\n",
      "/opt/conda/lib/python3.10/site-packages/langchain_core/_api/deprecation.py:189: LangChainDeprecationWarning: The function `__call__` was deprecated in LangChain 0.1.0 and will be removed in 0.2.0. Use invoke instead.\n",
      "  warn_deprecated(\n",
      "/opt/conda/lib/python3.10/site-packages/langchain_core/_api/deprecation.py:189: LangChainDeprecationWarning: The function `__call__` was deprecated in LangChain 0.1.0 and will be removed in 0.2.0. Use invoke instead.\n",
      "  warn_deprecated(\n"
     ]
    },
    {
     "name": "stdout",
     "output_type": "stream",
     "text": [
      " B. Regarding a criminal case decision given at the final level by a court other than the Supreme Court, the\n",
      "defendant or Public Prosecutor may submit a request for a cassation hearing to the Supreme Court against the\n",
      "acquittal decision.\n",
      "\n",
      "\n",
      "Sources:\n",
      "Time:  106.63947200775146\n",
      "==============================================\n",
      "Nomor:  56\n",
      "All citizens are equal under the law and government and are obliged to uphold the law and government without exception, as stated in Article…\\n A.  Article 27 paragraph (1)\\n B.  Article 28C paragraph (2)\\n C.  Article 28D paragraph (1)\\n D.  Article 28E paragraph (3)\\n E.  Article 28I paragraph (2)\n"
     ]
    },
    {
     "name": "stderr",
     "output_type": "stream",
     "text": [
      "/opt/conda/lib/python3.10/site-packages/langchain_core/_api/deprecation.py:189: LangChainDeprecationWarning: The function `__call__` was deprecated in LangChain 0.1.0 and will be removed in 0.2.0. Use invoke instead.\n",
      "  warn_deprecated(\n",
      "/opt/conda/lib/python3.10/site-packages/langchain_core/_api/deprecation.py:189: LangChainDeprecationWarning: The function `run` was deprecated in LangChain 0.1.0 and will be removed in 0.2.0. Use invoke instead.\n",
      "  warn_deprecated(\n",
      "/opt/conda/lib/python3.10/site-packages/langchain_core/_api/deprecation.py:189: LangChainDeprecationWarning: The function `__call__` was deprecated in LangChain 0.1.0 and will be removed in 0.2.0. Use invoke instead.\n",
      "  warn_deprecated(\n",
      "/opt/conda/lib/python3.10/site-packages/langchain_core/_api/deprecation.py:189: LangChainDeprecationWarning: The function `__call__` was deprecated in LangChain 0.1.0 and will be removed in 0.2.0. Use invoke instead.\n",
      "  warn_deprecated(\n"
     ]
    },
    {
     "name": "stdout",
     "output_type": "stream",
     "text": [
      " A. Article 27 paragraph (1)\n",
      "\n",
      "\n",
      "Sources:\n",
      "Time:  47.410094261169434\n",
      "==============================================\n",
      "Nomor:  57\n",
      "Everyone has the right to advance themselves in fighting for their rights collectively to develop their society, nation and state, as stated in Article…\\n A.  Article 27 paragraph (1)\\n B.  Article 28C paragraph (2)\\n C.  Article 28D paragraph (1)\\n D.  Article 28E paragraph (3)\\n E.  Article 28I paragraph (2)\n"
     ]
    },
    {
     "name": "stderr",
     "output_type": "stream",
     "text": [
      "/opt/conda/lib/python3.10/site-packages/langchain_core/_api/deprecation.py:189: LangChainDeprecationWarning: The function `__call__` was deprecated in LangChain 0.1.0 and will be removed in 0.2.0. Use invoke instead.\n",
      "  warn_deprecated(\n",
      "/opt/conda/lib/python3.10/site-packages/langchain_core/_api/deprecation.py:189: LangChainDeprecationWarning: The function `run` was deprecated in LangChain 0.1.0 and will be removed in 0.2.0. Use invoke instead.\n",
      "  warn_deprecated(\n",
      "/opt/conda/lib/python3.10/site-packages/langchain_core/_api/deprecation.py:189: LangChainDeprecationWarning: The function `__call__` was deprecated in LangChain 0.1.0 and will be removed in 0.2.0. Use invoke instead.\n",
      "  warn_deprecated(\n",
      "/opt/conda/lib/python3.10/site-packages/langchain_core/_api/deprecation.py:189: LangChainDeprecationWarning: The function `__call__` was deprecated in LangChain 0.1.0 and will be removed in 0.2.0. Use invoke instead.\n",
      "  warn_deprecated(\n"
     ]
    },
    {
     "name": "stdout",
     "output_type": "stream",
     "text": [
      " A. Article 27 paragraph (1)\n",
      "\n",
      "\n",
      "Sources:\n",
      "Time:  48.91781044006348\n",
      "==============================================\n",
      "Nomor:  58\n",
      "Everyone has the right to recognition, guarantees, protection and fair legal certainty as well as equal treatment before the law, as stated in Article…\\n A.  Article 27 paragraph (1)\\n B.  Article 28C paragraph (2)\\n C.  Article 28D paragraph (1)\\n D.  Article 28E paragraph (3)\\n E.  Article 28I paragraph (2)\n"
     ]
    },
    {
     "name": "stderr",
     "output_type": "stream",
     "text": [
      "/opt/conda/lib/python3.10/site-packages/langchain_core/_api/deprecation.py:189: LangChainDeprecationWarning: The function `__call__` was deprecated in LangChain 0.1.0 and will be removed in 0.2.0. Use invoke instead.\n",
      "  warn_deprecated(\n",
      "/opt/conda/lib/python3.10/site-packages/langchain_core/_api/deprecation.py:189: LangChainDeprecationWarning: The function `run` was deprecated in LangChain 0.1.0 and will be removed in 0.2.0. Use invoke instead.\n",
      "  warn_deprecated(\n",
      "/opt/conda/lib/python3.10/site-packages/langchain_core/_api/deprecation.py:189: LangChainDeprecationWarning: The function `__call__` was deprecated in LangChain 0.1.0 and will be removed in 0.2.0. Use invoke instead.\n",
      "  warn_deprecated(\n",
      "/opt/conda/lib/python3.10/site-packages/langchain_core/_api/deprecation.py:189: LangChainDeprecationWarning: The function `__call__` was deprecated in LangChain 0.1.0 and will be removed in 0.2.0. Use invoke instead.\n",
      "  warn_deprecated(\n"
     ]
    },
    {
     "name": "stdout",
     "output_type": "stream",
     "text": [
      " A. Article 27 paragraph (1)\n",
      "\n",
      "\n",
      "Sources:\n",
      "Time:  47.689072132110596\n",
      "==============================================\n",
      "Nomor:  59\n",
      "Everyone has the right to freedom of association, assembly and expression of opinion, as stated in Article…\\n A.  Article 27 paragraph (1)\\n B.  Article 28C paragraph (2)\\n C.  Article 28D paragraph (1)\\n D.  Article 28E paragraph (3)\\n E.  Article 28I paragraph (2)\n"
     ]
    },
    {
     "name": "stderr",
     "output_type": "stream",
     "text": [
      "/opt/conda/lib/python3.10/site-packages/langchain_core/_api/deprecation.py:189: LangChainDeprecationWarning: The function `__call__` was deprecated in LangChain 0.1.0 and will be removed in 0.2.0. Use invoke instead.\n",
      "  warn_deprecated(\n",
      "/opt/conda/lib/python3.10/site-packages/langchain_core/_api/deprecation.py:189: LangChainDeprecationWarning: The function `run` was deprecated in LangChain 0.1.0 and will be removed in 0.2.0. Use invoke instead.\n",
      "  warn_deprecated(\n",
      "/opt/conda/lib/python3.10/site-packages/langchain_core/_api/deprecation.py:189: LangChainDeprecationWarning: The function `__call__` was deprecated in LangChain 0.1.0 and will be removed in 0.2.0. Use invoke instead.\n",
      "  warn_deprecated(\n",
      "/opt/conda/lib/python3.10/site-packages/langchain_core/_api/deprecation.py:189: LangChainDeprecationWarning: The function `__call__` was deprecated in LangChain 0.1.0 and will be removed in 0.2.0. Use invoke instead.\n",
      "  warn_deprecated(\n"
     ]
    },
    {
     "name": "stdout",
     "output_type": "stream",
     "text": [
      " A. Article 27 paragraph (1)\n",
      "\n",
      "\n",
      "Sources:\n",
      "Time:  46.37712335586548\n",
      "==============================================\n",
      "Nomor:  60\n",
      "Every person has the right to be free from discriminatory treatment on any basis and has the right to receive protection against such discriminatory treatment, as stated in Article…\\n A.  Article 27 paragraph (1)\\n B.  Article 28C paragraph (2)\\n C.  Article 28D paragraph (1)\\n D.  Article 28E paragraph (3)\\n E.  Article 28I paragraph (2)\n"
     ]
    },
    {
     "name": "stderr",
     "output_type": "stream",
     "text": [
      "/opt/conda/lib/python3.10/site-packages/langchain_core/_api/deprecation.py:189: LangChainDeprecationWarning: The function `__call__` was deprecated in LangChain 0.1.0 and will be removed in 0.2.0. Use invoke instead.\n",
      "  warn_deprecated(\n",
      "/opt/conda/lib/python3.10/site-packages/langchain_core/_api/deprecation.py:189: LangChainDeprecationWarning: The function `run` was deprecated in LangChain 0.1.0 and will be removed in 0.2.0. Use invoke instead.\n",
      "  warn_deprecated(\n",
      "/opt/conda/lib/python3.10/site-packages/langchain_core/_api/deprecation.py:189: LangChainDeprecationWarning: The function `__call__` was deprecated in LangChain 0.1.0 and will be removed in 0.2.0. Use invoke instead.\n",
      "  warn_deprecated(\n",
      "/opt/conda/lib/python3.10/site-packages/langchain_core/_api/deprecation.py:189: LangChainDeprecationWarning: The function `__call__` was deprecated in LangChain 0.1.0 and will be removed in 0.2.0. Use invoke instead.\n",
      "  warn_deprecated(\n"
     ]
    },
    {
     "name": "stdout",
     "output_type": "stream",
     "text": [
      " A. Article 27 paragraph (1)\n",
      "\n",
      "\n",
      "Sources:\n",
      "Time:  49.18539881706238\n",
      "==============================================\n",
      "Nomor:  61\n",
      "The applicant can withdraw his application before or during the Constitutional Court examination, and such withdrawal means that the application cannot be resubmitted, in article…\\n A.  Article 31 of Law Number 24 of 2003 concerning the Constitutional Court\\n B.  Article 32 of Law Number 24 of 2003 concerning the Constitutional Court\\n C.  Article 35 of Law Number 23 of 2003 concerning the Constitutional Court\\n D.  Article 35 of Law Number 24 of 2003 concerning the Constitutional Court\\n E.  Article 35 of Law Number 25 of 2003 concerning the Constitutional Court\n"
     ]
    },
    {
     "name": "stderr",
     "output_type": "stream",
     "text": [
      "/opt/conda/lib/python3.10/site-packages/langchain_core/_api/deprecation.py:189: LangChainDeprecationWarning: The function `__call__` was deprecated in LangChain 0.1.0 and will be removed in 0.2.0. Use invoke instead.\n",
      "  warn_deprecated(\n",
      "/opt/conda/lib/python3.10/site-packages/langchain_core/_api/deprecation.py:189: LangChainDeprecationWarning: The function `run` was deprecated in LangChain 0.1.0 and will be removed in 0.2.0. Use invoke instead.\n",
      "  warn_deprecated(\n",
      "/opt/conda/lib/python3.10/site-packages/langchain_core/_api/deprecation.py:189: LangChainDeprecationWarning: The function `__call__` was deprecated in LangChain 0.1.0 and will be removed in 0.2.0. Use invoke instead.\n",
      "  warn_deprecated(\n",
      "/opt/conda/lib/python3.10/site-packages/langchain_core/_api/deprecation.py:189: LangChainDeprecationWarning: The function `__call__` was deprecated in LangChain 0.1.0 and will be removed in 0.2.0. Use invoke instead.\n",
      "  warn_deprecated(\n"
     ]
    },
    {
     "name": "stdout",
     "output_type": "stream",
     "text": [
      " B. Article 32 of Law Number 24 of 2003 concerning the Constitutional Court\n",
      "\n",
      "\n",
      "Sources:\n",
      "Time:  72.48929476737976\n",
      "==============================================\n",
      "Nomor:  62\n",
      "Regarding the General Election, Members of the DPR, DPD, and DPRD stated that election participants and members of the public, through witnesses who were present, could submit objections to the course and results of the vote count at the TPS, PPS, PPK, City/Regency KPUD, Provincial KPU, and Central KPU. If it turns out that there are things that are not in accordance with statutory regulations, it is on...\\n A.  Article 96 paragraph (8), Article 95 paragraph (3), Article 98 paragraph (3), Article 99 paragraph (5), Article 100 paragraph (5), and Article 101 paragraph (6)\\n B.  Article 96 paragraph (8), Article 95 paragraph (1), Article 98 paragraph (3), Article 99 paragraph (5), Article 100 paragraph (5), and Article 101 paragraph (6)\\n C.  Article 96 paragraph (8), Article 96 paragraph (3), Article 98 paragraph (3), Article 99 paragraph (5), Article 100 paragraph (5), and Article 101 paragraph (6)\\n D.  Article 96 paragraph (8), Article 97 paragraph (9), Article 98 paragraph (3), Article 99 paragraph (5), Article 100 paragraph (5), and Article 101 paragraph (6)\\n E.  Article 96 paragraph (8), Article 97 paragraph (3), Article 98 paragraph (3), Article 99 paragraph (5), Article 100 paragraph (5), and Article 101 paragraph (6)\n"
     ]
    },
    {
     "name": "stderr",
     "output_type": "stream",
     "text": [
      "/opt/conda/lib/python3.10/site-packages/langchain_core/_api/deprecation.py:189: LangChainDeprecationWarning: The function `__call__` was deprecated in LangChain 0.1.0 and will be removed in 0.2.0. Use invoke instead.\n",
      "  warn_deprecated(\n",
      "/opt/conda/lib/python3.10/site-packages/langchain_core/_api/deprecation.py:189: LangChainDeprecationWarning: The function `run` was deprecated in LangChain 0.1.0 and will be removed in 0.2.0. Use invoke instead.\n",
      "  warn_deprecated(\n",
      "/opt/conda/lib/python3.10/site-packages/langchain_core/_api/deprecation.py:189: LangChainDeprecationWarning: The function `__call__` was deprecated in LangChain 0.1.0 and will be removed in 0.2.0. Use invoke instead.\n",
      "  warn_deprecated(\n",
      "/opt/conda/lib/python3.10/site-packages/langchain_core/_api/deprecation.py:189: LangChainDeprecationWarning: The function `__call__` was deprecated in LangChain 0.1.0 and will be removed in 0.2.0. Use invoke instead.\n",
      "  warn_deprecated(\n"
     ]
    },
    {
     "name": "stdout",
     "output_type": "stream",
     "text": [
      " B. Article 96 paragraph (8), Article 95 paragraph (1), Article 98 paragraph (3), Article 99 paragraph (5),\n",
      "Article 100 paragraph (5), and Article 101 paragraph (6).\n",
      "\n",
      "\n",
      "Sources:\n",
      "Time:  148.37248158454895\n",
      "==============================================\n",
      "Nomor:  63\n",
      "In essence, it states that applications can only be made regarding the determination of the results of the General Election conducted nationally by the General Election Commission which influences the election of DPD member candidates, the determination of the presidential and vice presidential candidate pairs and the acquisition of political party seats, on...\\n A.  Whereas article 74 paragraph (2) of Law number 24 of 2003 concerning the Constitutional Court, Law number 12 of 2003 concerning General Election of Members of the DPR, DPD, DPRD\\n B.  Whereas article 73 paragraph (2) of Law number 24 of 2003 concerning the Constitutional Court, Law number 12 of 2003 concerning General Election of Members of the DPR, DPD, DPRD\\n C.  Whereas article 72 paragraph (2) of Law number 24 of 2003 concerning the Constitutional Court, Law number 12 of 2003 concerning General Election of Members of the DPR, DPD, DPRD\\n D.  Whereas article 71 paragraph (2) of Law number 24 of 2003 concerning the Constitutional Court, Law number 12 of 2003 concerning General Election of Members of the DPR, DPD, DPRD\\n E.  Whereas article 70 paragraph (2) of Law number 24 of 2003 concerning the Constitutional Court, Law number 12 of 2003 concerning General Election of Members of the DPR, DPD, DPRD\n"
     ]
    },
    {
     "name": "stderr",
     "output_type": "stream",
     "text": [
      "/opt/conda/lib/python3.10/site-packages/langchain_core/_api/deprecation.py:189: LangChainDeprecationWarning: The function `__call__` was deprecated in LangChain 0.1.0 and will be removed in 0.2.0. Use invoke instead.\n",
      "  warn_deprecated(\n",
      "/opt/conda/lib/python3.10/site-packages/langchain_core/_api/deprecation.py:189: LangChainDeprecationWarning: The function `run` was deprecated in LangChain 0.1.0 and will be removed in 0.2.0. Use invoke instead.\n",
      "  warn_deprecated(\n",
      "/opt/conda/lib/python3.10/site-packages/langchain_core/_api/deprecation.py:189: LangChainDeprecationWarning: The function `__call__` was deprecated in LangChain 0.1.0 and will be removed in 0.2.0. Use invoke instead.\n",
      "  warn_deprecated(\n",
      "/opt/conda/lib/python3.10/site-packages/langchain_core/_api/deprecation.py:189: LangChainDeprecationWarning: The function `__call__` was deprecated in LangChain 0.1.0 and will be removed in 0.2.0. Use invoke instead.\n",
      "  warn_deprecated(\n"
     ]
    },
    {
     "name": "stdout",
     "output_type": "stream",
     "text": [
      " B. Whereas article 73 paragraph (2) of Law number 24 of 2003 concerning the Constitutional Court, Law number\n",
      "12 of 2003 concerning General Election of Members of the DPR, DPD, DPRD\n",
      "\n",
      "\n",
      "Sources:\n",
      "Time:  147.73754477500916\n",
      "==============================================\n",
      "Nomor:  64\n",
      "That if the applicant's application is accepted, quod non, article 96 paragraph (8), article 97 paragraph (3), article 98 paragraph (3), article 99 paragraph (5), article 100 paragraph (5) and article 101 paragraph (6) UU no. 12 of 2003 concerning the General Election of Members of the DPR, DPD, DPRD, reads...\\n A.  Mentioning that election participants and members of the public who take part in general elections must be Indonesian citizens is legally wrong\\n B.  Mentions that election participants and members of the public, through witnesses who are present, can submit objections to the process and results of vote counting at TPS, PPS, PPK, City/Regency KPUD, Provincial KPUD and Central KPU if it turns out that there are things that are not in accordance with statutory regulations.\\n C.  Mentioned that the vote counting was carried out by the surrounding RT/RW to make it better\\n D.  Mention that TPU provider participants must have witnesses from each party who submits their candidate\\n E.  Mentions that participants must comply with the rules\n"
     ]
    },
    {
     "name": "stderr",
     "output_type": "stream",
     "text": [
      "/opt/conda/lib/python3.10/site-packages/langchain_core/_api/deprecation.py:189: LangChainDeprecationWarning: The function `__call__` was deprecated in LangChain 0.1.0 and will be removed in 0.2.0. Use invoke instead.\n",
      "  warn_deprecated(\n",
      "/opt/conda/lib/python3.10/site-packages/langchain_core/_api/deprecation.py:189: LangChainDeprecationWarning: The function `run` was deprecated in LangChain 0.1.0 and will be removed in 0.2.0. Use invoke instead.\n",
      "  warn_deprecated(\n",
      "/opt/conda/lib/python3.10/site-packages/langchain_core/_api/deprecation.py:189: LangChainDeprecationWarning: The function `__call__` was deprecated in LangChain 0.1.0 and will be removed in 0.2.0. Use invoke instead.\n",
      "  warn_deprecated(\n",
      "/opt/conda/lib/python3.10/site-packages/langchain_core/_api/deprecation.py:189: LangChainDeprecationWarning: The function `__call__` was deprecated in LangChain 0.1.0 and will be removed in 0.2.0. Use invoke instead.\n",
      "  warn_deprecated(\n"
     ]
    },
    {
     "name": "stdout",
     "output_type": "stream",
     "text": [
      " B. Mentions that election participants and members of the public, through witnesses who are present, can\n",
      "submit objections to the process and results of vote counting at TPS, PPS, PPK, City/Regency KPUD, Provincial\n",
      "KPUD and Central KPU if it turns out that there are things that are not in accordance with statutory\n",
      "regulations.\n",
      "\n",
      "\n",
      "Sources:\n",
      "Time:  123.66366624832153\n",
      "==============================================\n",
      "Nomor:  65\n",
      "Citizens who have the right to vote, election observers and/or election participants can report election violations at any stage of election implementation to the Election Supervisor (Panwaslu), located at…\\n A.  Article 121 paragraph (1) and paragraph (2) of Law no. 12 of 2003\\n B.  Article 122 paragraph (1) and paragraph (2) of Law no. 12 of 2003\\n C.  Article 127 paragraph (1) and paragraph (2) of Law no. 12 of 2003\\n D.  Article 126 paragraph (1) and paragraph (2) of Law no. 12 of 2003\\n E.  Article 125 paragraph (1) and paragraph (2) of Law no. 12 of 2003\n"
     ]
    },
    {
     "name": "stderr",
     "output_type": "stream",
     "text": [
      "/opt/conda/lib/python3.10/site-packages/langchain_core/_api/deprecation.py:189: LangChainDeprecationWarning: The function `__call__` was deprecated in LangChain 0.1.0 and will be removed in 0.2.0. Use invoke instead.\n",
      "  warn_deprecated(\n",
      "/opt/conda/lib/python3.10/site-packages/langchain_core/_api/deprecation.py:189: LangChainDeprecationWarning: The function `run` was deprecated in LangChain 0.1.0 and will be removed in 0.2.0. Use invoke instead.\n",
      "  warn_deprecated(\n",
      "/opt/conda/lib/python3.10/site-packages/langchain_core/_api/deprecation.py:189: LangChainDeprecationWarning: The function `__call__` was deprecated in LangChain 0.1.0 and will be removed in 0.2.0. Use invoke instead.\n",
      "  warn_deprecated(\n",
      "/opt/conda/lib/python3.10/site-packages/langchain_core/_api/deprecation.py:189: LangChainDeprecationWarning: The function `__call__` was deprecated in LangChain 0.1.0 and will be removed in 0.2.0. Use invoke instead.\n",
      "  warn_deprecated(\n"
     ]
    },
    {
     "name": "stdout",
     "output_type": "stream",
     "text": [
      " C. Article 127 paragraph (1) and paragraph (2) of Law no. 12 of 2003\n",
      "\n",
      "\n",
      "Sources:\n",
      "Time:  87.12106966972351\n",
      "==============================================\n",
      "Nomor:  66\n",
      "Reports that are disputed in nature and do not contain criminal elements are resolved by the Election Supervisor and those that contain criminal elements are forwarded to investigators and those that are administrative in nature are forwarded to the KPU, stated in...\\n A.  Articles 128 and 130 of Law no. 12 of 2003\\n B.  Articles 127 and 130 of Law no. 12 of 2003\\n C.  Articles 126 and 130 of Law no. 12 of 2003\\n D.  Articles 125 and 130 of Law no. 12 of 2003\\n E.  Articles 124 and 130 of Law no. 12 of 2003\n"
     ]
    },
    {
     "name": "stderr",
     "output_type": "stream",
     "text": [
      "/opt/conda/lib/python3.10/site-packages/langchain_core/_api/deprecation.py:189: LangChainDeprecationWarning: The function `__call__` was deprecated in LangChain 0.1.0 and will be removed in 0.2.0. Use invoke instead.\n",
      "  warn_deprecated(\n",
      "/opt/conda/lib/python3.10/site-packages/langchain_core/_api/deprecation.py:189: LangChainDeprecationWarning: The function `run` was deprecated in LangChain 0.1.0 and will be removed in 0.2.0. Use invoke instead.\n",
      "  warn_deprecated(\n",
      "/opt/conda/lib/python3.10/site-packages/langchain_core/_api/deprecation.py:189: LangChainDeprecationWarning: The function `__call__` was deprecated in LangChain 0.1.0 and will be removed in 0.2.0. Use invoke instead.\n",
      "  warn_deprecated(\n",
      "/opt/conda/lib/python3.10/site-packages/langchain_core/_api/deprecation.py:189: LangChainDeprecationWarning: The function `__call__` was deprecated in LangChain 0.1.0 and will be removed in 0.2.0. Use invoke instead.\n",
      "  warn_deprecated(\n"
     ]
    },
    {
     "name": "stdout",
     "output_type": "stream",
     "text": [
      " B. Articles 127 and 130 of Law no. 12 of 2003\n",
      "\n",
      "\n",
      "Sources:\n",
      "Time:  84.94244194030762\n",
      "==============================================\n",
      "Nomor:  67\n",
      "The Petitioner's candidacy as a Presidential Candidate and/or Vice Presidential Candidate is based on the Petitioner's rights and obligations as a citizen of the Republic of Indonesia which are justified, ratified, guaranteed and protected by, One of the list of articles is...\\n A.  Article 21 A paragraph 1 of the 1945 Republic of Indonesia Constitution\\n B.  Article 20 A paragraph 1 of the 1945 Republic of Indonesia Constitution\\n C.  Preamble to the 1945 Constitution of the Republic of Indonesia\\n D.  Article 10 A paragraph 1 of the 1945 Republic of Indonesia Constitution\\n E.  Article 10 B paragraph 1 of the 1945 Republic of Indonesia Constitution\n"
     ]
    },
    {
     "name": "stderr",
     "output_type": "stream",
     "text": [
      "/opt/conda/lib/python3.10/site-packages/langchain_core/_api/deprecation.py:189: LangChainDeprecationWarning: The function `__call__` was deprecated in LangChain 0.1.0 and will be removed in 0.2.0. Use invoke instead.\n",
      "  warn_deprecated(\n",
      "/opt/conda/lib/python3.10/site-packages/langchain_core/_api/deprecation.py:189: LangChainDeprecationWarning: The function `run` was deprecated in LangChain 0.1.0 and will be removed in 0.2.0. Use invoke instead.\n",
      "  warn_deprecated(\n",
      "/opt/conda/lib/python3.10/site-packages/langchain_core/_api/deprecation.py:189: LangChainDeprecationWarning: The function `__call__` was deprecated in LangChain 0.1.0 and will be removed in 0.2.0. Use invoke instead.\n",
      "  warn_deprecated(\n",
      "/opt/conda/lib/python3.10/site-packages/langchain_core/_api/deprecation.py:189: LangChainDeprecationWarning: The function `__call__` was deprecated in LangChain 0.1.0 and will be removed in 0.2.0. Use invoke instead.\n",
      "  warn_deprecated(\n"
     ]
    },
    {
     "name": "stdout",
     "output_type": "stream",
     "text": [
      " The Petitioner's candidacy as a Presidential Candidate and/or Vice Presidential Candidate is based on the\n",
      "Petitioner's rights and obligations as a citizen of the Republic of Indonesia which are justified, ratified,\n",
      "guaranteed and protected by A. Article 21 A paragraph 1 of the 1945 Republic of Indonesia Constitution\n",
      "\n",
      "\n",
      "Sources:\n",
      "Time:  93.77076458930969\n",
      "==============================================\n",
      "Nomor:  68\n",
      "The Petitioner's candidacy as a Presidential Candidate and/or Vice Presidential Candidate is based on the Petitioner's rights and obligations as a citizen of the Republic of Indonesia which are justified, ratified, guaranteed and protected by, One of the list of articles is...\\n A.  Article 21 A paragraph 1 of the 1945 Republic of Indonesia Constitution\\n B.  Article 20 A paragraph 1 of the 1945 Republic of Indonesia Constitution\\n C.  Article 10 A paragraph 1 of the 1945 Republic of Indonesia Constitution\\n D.  Article 10 B paragraph 1 of the 1945 Republic of Indonesia Constitution\\n E.  Article 28 J paragraph 1 of the 1944 Republic of Indonesia Constitution\n"
     ]
    },
    {
     "name": "stderr",
     "output_type": "stream",
     "text": [
      "/opt/conda/lib/python3.10/site-packages/langchain_core/_api/deprecation.py:189: LangChainDeprecationWarning: The function `__call__` was deprecated in LangChain 0.1.0 and will be removed in 0.2.0. Use invoke instead.\n",
      "  warn_deprecated(\n",
      "/opt/conda/lib/python3.10/site-packages/langchain_core/_api/deprecation.py:189: LangChainDeprecationWarning: The function `run` was deprecated in LangChain 0.1.0 and will be removed in 0.2.0. Use invoke instead.\n",
      "  warn_deprecated(\n",
      "/opt/conda/lib/python3.10/site-packages/langchain_core/_api/deprecation.py:189: LangChainDeprecationWarning: The function `__call__` was deprecated in LangChain 0.1.0 and will be removed in 0.2.0. Use invoke instead.\n",
      "  warn_deprecated(\n",
      "/opt/conda/lib/python3.10/site-packages/langchain_core/_api/deprecation.py:189: LangChainDeprecationWarning: The function `__call__` was deprecated in LangChain 0.1.0 and will be removed in 0.2.0. Use invoke instead.\n",
      "  warn_deprecated(\n"
     ]
    },
    {
     "name": "stdout",
     "output_type": "stream",
     "text": [
      " A. Article 21 A paragraph 1 of the 1945 Republic of Indonesia Constitution\n",
      "\n",
      "\n",
      "Sources:\n",
      "Time:  77.47900700569153\n",
      "==============================================\n",
      "Nomor:  69\n",
      "The Petitioner's candidacy as a Presidential Candidate and/or Vice Presidential Candidate is based on the Petitioner's rights and obligations as a citizen of the Republic of Indonesia which are justified, ratified, guaranteed and protected by, One of the list of articles is...\\n A.  Article 28 I paragraph 2 of the 1945 Republic of Indonesia Constitution\\n B.  Article 21 A paragraph 1 of the 1945 Republic of Indonesia Constitution\\n C.  Article 20 A paragraph 1 of the 1945 Republic of Indonesia Constitution\\n D.  Article 10 A paragraph 1 of the 1945 Republic of Indonesia Constitution\\n E.  Article 10 B paragraph 1 of the 1945 Republic of Indonesia Constitution\n"
     ]
    },
    {
     "name": "stderr",
     "output_type": "stream",
     "text": [
      "/opt/conda/lib/python3.10/site-packages/langchain_core/_api/deprecation.py:189: LangChainDeprecationWarning: The function `__call__` was deprecated in LangChain 0.1.0 and will be removed in 0.2.0. Use invoke instead.\n",
      "  warn_deprecated(\n",
      "/opt/conda/lib/python3.10/site-packages/langchain_core/_api/deprecation.py:189: LangChainDeprecationWarning: The function `run` was deprecated in LangChain 0.1.0 and will be removed in 0.2.0. Use invoke instead.\n",
      "  warn_deprecated(\n",
      "/opt/conda/lib/python3.10/site-packages/langchain_core/_api/deprecation.py:189: LangChainDeprecationWarning: The function `__call__` was deprecated in LangChain 0.1.0 and will be removed in 0.2.0. Use invoke instead.\n",
      "  warn_deprecated(\n",
      "/opt/conda/lib/python3.10/site-packages/langchain_core/_api/deprecation.py:189: LangChainDeprecationWarning: The function `__call__` was deprecated in LangChain 0.1.0 and will be removed in 0.2.0. Use invoke instead.\n",
      "  warn_deprecated(\n"
     ]
    },
    {
     "name": "stdout",
     "output_type": "stream",
     "text": [
      " The Petitioner's candidacy as a Presidential Candidate and/or Vice Presidential Candidate is based on the\n",
      "Petitioner's rights and obligations as a citizen of the Republic of Indonesia which are justified, ratified,\n",
      "guaranteed and protected by, One of the list of articles is...\\n A.  Article 28 I paragraph 2 of the 1945\n",
      "Republic of Indonesia Constitution\n",
      "\n",
      "\n",
      "Sources:\n",
      "Time:  98.46447992324829\n",
      "==============================================\n",
      "Nomor:  70\n",
      "The Petitioner's candidacy as a Presidential Candidate and/or Vice Presidential Candidate is based on the Petitioner's rights and obligations as a citizen of the Republic of Indonesia which are justified, ratified, guaranteed and protected by, One of the list of articles is...\\n A.  Article 21 A paragraph 1 of the 1945 Republic of Indonesia Constitution\\n B.  Article 28 H paragraph 2 of the 1945 Republic of Indonesia Constitution\\n C.  Article 20 A paragraph 1 of the 1945 Republic of Indonesia Constitution\\n D.  Article 2G A paragraph 1 of the 1945 Republic of Indonesia Constitution\\n E.  Article 2X A paragraph 1 of the 1945 Republic of Indonesia Constitution\n"
     ]
    },
    {
     "name": "stderr",
     "output_type": "stream",
     "text": [
      "/opt/conda/lib/python3.10/site-packages/langchain_core/_api/deprecation.py:189: LangChainDeprecationWarning: The function `__call__` was deprecated in LangChain 0.1.0 and will be removed in 0.2.0. Use invoke instead.\n",
      "  warn_deprecated(\n",
      "/opt/conda/lib/python3.10/site-packages/langchain_core/_api/deprecation.py:189: LangChainDeprecationWarning: The function `run` was deprecated in LangChain 0.1.0 and will be removed in 0.2.0. Use invoke instead.\n",
      "  warn_deprecated(\n",
      "/opt/conda/lib/python3.10/site-packages/langchain_core/_api/deprecation.py:189: LangChainDeprecationWarning: The function `__call__` was deprecated in LangChain 0.1.0 and will be removed in 0.2.0. Use invoke instead.\n",
      "  warn_deprecated(\n",
      "/opt/conda/lib/python3.10/site-packages/langchain_core/_api/deprecation.py:189: LangChainDeprecationWarning: The function `__call__` was deprecated in LangChain 0.1.0 and will be removed in 0.2.0. Use invoke instead.\n",
      "  warn_deprecated(\n"
     ]
    },
    {
     "name": "stdout",
     "output_type": "stream",
     "text": [
      " B. Article 28 H paragraph 2 of the 1945 Republic of Indonesia Constitution\n",
      "\n",
      "\n",
      "Sources:\n",
      "Time:  78.57244777679443\n",
      "==============================================\n",
      "Nomor:  71\n",
      "The Petitioner's candidacy as a Presidential Candidate and/or Vice Presidential Candidate is based on the Petitioner's rights and obligations as a citizen of the Republic of Indonesia which are justified, ratified, guaranteed and protected by, One of the list of articles is...\\n A.  Article 28 D paragraph 1 and paragraph 3 of the 1945 Republic of Indonesia Constitution\\n B.  Article 20 A paragraph 1 of the 1945 Republic of Indonesia Constitution\\n C.  Article 21 Y paragraph 1 of the 1945 Republic of Indonesia Constitution\\n D.  Article 20 Y paragraph 1 of the 1945 Republic of Indonesia Constitution\\n E.  Article 21 A paragraph 1 of the 1945 Republic of Indonesia Constitution\n"
     ]
    },
    {
     "name": "stderr",
     "output_type": "stream",
     "text": [
      "/opt/conda/lib/python3.10/site-packages/langchain_core/_api/deprecation.py:189: LangChainDeprecationWarning: The function `__call__` was deprecated in LangChain 0.1.0 and will be removed in 0.2.0. Use invoke instead.\n",
      "  warn_deprecated(\n",
      "/opt/conda/lib/python3.10/site-packages/langchain_core/_api/deprecation.py:189: LangChainDeprecationWarning: The function `run` was deprecated in LangChain 0.1.0 and will be removed in 0.2.0. Use invoke instead.\n",
      "  warn_deprecated(\n",
      "/opt/conda/lib/python3.10/site-packages/langchain_core/_api/deprecation.py:189: LangChainDeprecationWarning: The function `__call__` was deprecated in LangChain 0.1.0 and will be removed in 0.2.0. Use invoke instead.\n",
      "  warn_deprecated(\n",
      "/opt/conda/lib/python3.10/site-packages/langchain_core/_api/deprecation.py:189: LangChainDeprecationWarning: The function `__call__` was deprecated in LangChain 0.1.0 and will be removed in 0.2.0. Use invoke instead.\n",
      "  warn_deprecated(\n"
     ]
    },
    {
     "name": "stdout",
     "output_type": "stream",
     "text": [
      " The Petitioner's candidacy as a Presidential Candidate and/or Vice Presidential Candidate is based on the\n",
      "Petitioner's rights and obligations as a citizen of the Republic of Indonesia which are justified, ratified,\n",
      "guaranteed and protected by, One of the list of articles is...\\n A.  Article 28 D paragraph 1 and paragraph 3\n",
      "of the 1945 Republic of Indonesia Constitution\n",
      "\n",
      "\n",
      "Sources:\n",
      "Time:  100.5178964138031\n",
      "==============================================\n",
      "Nomor:  72\n",
      "The Petitioner's candidacy as a Presidential Candidate and/or Vice Presidential Candidate is based on the Petitioner's rights and obligations as a citizen of the Republic of Indonesia which are justified, ratified, guaranteed and protected by, One of the list of articles is...\\n A.  Article 21 A paragraph 1 of the 1945 Republic of Indonesia Constitution\\n B.  Article 21 Z paragraph 1 of the 1945 Republic of Indonesia Constitution\\n C.  Article 21 Y paragraph 1 of the 1945 Republic of Indonesia Constitution\\n D.  Article 20 Y paragraph 1 of the 1945 Republic of Indonesia Constitution\\n E.  Article 28 C paragraph 2 of the 1945 Republic of Indonesia Constitution\n"
     ]
    },
    {
     "name": "stderr",
     "output_type": "stream",
     "text": [
      "/opt/conda/lib/python3.10/site-packages/langchain_core/_api/deprecation.py:189: LangChainDeprecationWarning: The function `__call__` was deprecated in LangChain 0.1.0 and will be removed in 0.2.0. Use invoke instead.\n",
      "  warn_deprecated(\n",
      "/opt/conda/lib/python3.10/site-packages/langchain_core/_api/deprecation.py:189: LangChainDeprecationWarning: The function `run` was deprecated in LangChain 0.1.0 and will be removed in 0.2.0. Use invoke instead.\n",
      "  warn_deprecated(\n",
      "/opt/conda/lib/python3.10/site-packages/langchain_core/_api/deprecation.py:189: LangChainDeprecationWarning: The function `__call__` was deprecated in LangChain 0.1.0 and will be removed in 0.2.0. Use invoke instead.\n",
      "  warn_deprecated(\n",
      "/opt/conda/lib/python3.10/site-packages/langchain_core/_api/deprecation.py:189: LangChainDeprecationWarning: The function `__call__` was deprecated in LangChain 0.1.0 and will be removed in 0.2.0. Use invoke instead.\n",
      "  warn_deprecated(\n"
     ]
    },
    {
     "name": "stdout",
     "output_type": "stream",
     "text": [
      " A. Article 21 A paragraph 1 of the 1945 Republic of Indonesia Constitution\n",
      "\n",
      "\n",
      "Sources:\n",
      "Time:  77.2313961982727\n",
      "==============================================\n",
      "Nomor:  73\n",
      "The Petitioner's candidacy as a Presidential Candidate and/or Vice Presidential Candidate is based on the Petitioner's rights and obligations as a citizen of the Republic of Indonesia which are justified, ratified, guaranteed and protected by, One of the list of articles is...\\n A.  Article 21 A paragraph 1 of the 1945 Republic of Indonesia Constitution\\n B.  Article 21 Z paragraph 1 of the 1945 Republic of Indonesia Constitution\\n C.  Article 21 Y paragraph 1 of the 1945 Republic of Indonesia Constitution\\n D.  Article 20 Y paragraph 1 of the 1945 Republic of Indonesia Constitution\\n E.  Article 27 paragraph 1 paragraph 3 of the 1945 Republic of Indonesia Constitution\n"
     ]
    },
    {
     "name": "stderr",
     "output_type": "stream",
     "text": [
      "/opt/conda/lib/python3.10/site-packages/langchain_core/_api/deprecation.py:189: LangChainDeprecationWarning: The function `__call__` was deprecated in LangChain 0.1.0 and will be removed in 0.2.0. Use invoke instead.\n",
      "  warn_deprecated(\n",
      "/opt/conda/lib/python3.10/site-packages/langchain_core/_api/deprecation.py:189: LangChainDeprecationWarning: The function `run` was deprecated in LangChain 0.1.0 and will be removed in 0.2.0. Use invoke instead.\n",
      "  warn_deprecated(\n",
      "/opt/conda/lib/python3.10/site-packages/langchain_core/_api/deprecation.py:189: LangChainDeprecationWarning: The function `__call__` was deprecated in LangChain 0.1.0 and will be removed in 0.2.0. Use invoke instead.\n",
      "  warn_deprecated(\n",
      "/opt/conda/lib/python3.10/site-packages/langchain_core/_api/deprecation.py:189: LangChainDeprecationWarning: The function `__call__` was deprecated in LangChain 0.1.0 and will be removed in 0.2.0. Use invoke instead.\n",
      "  warn_deprecated(\n"
     ]
    },
    {
     "name": "stdout",
     "output_type": "stream",
     "text": [
      " A. Article 21 A paragraph 1 of the 1945 Republic of Indonesia Constitution\n",
      "\n",
      "\n",
      "Sources:\n",
      "Time:  79.0100405216217\n",
      "==============================================\n",
      "Nomor:  74\n",
      "The Petitioner's candidacy as a Presidential Candidate and/or Vice Presidential Candidate is based on the Petitioner's rights and obligations as a citizen of the Republic of Indonesia which are justified, ratified, guaranteed and protected by, One of the list of articles is...\\n A.  Article 21 A paragraph 1 of the 1945 Republic of Indonesia Constitution\\n B.  Article 21 Z paragraph 1 of the 1945 Republic of Indonesia Constitution\\n C.  Article 21 Y paragraph 1 of the 1945 Republic of Indonesia Constitution\\n D.  Article 1 paragraph 2 of the 1945 Republic of Indonesia Constitution\\n E.  Article 20 Y paragraph 1 of the 1945 Republic of Indonesia Constitution\n"
     ]
    },
    {
     "name": "stderr",
     "output_type": "stream",
     "text": [
      "/opt/conda/lib/python3.10/site-packages/langchain_core/_api/deprecation.py:189: LangChainDeprecationWarning: The function `__call__` was deprecated in LangChain 0.1.0 and will be removed in 0.2.0. Use invoke instead.\n",
      "  warn_deprecated(\n",
      "/opt/conda/lib/python3.10/site-packages/langchain_core/_api/deprecation.py:189: LangChainDeprecationWarning: The function `run` was deprecated in LangChain 0.1.0 and will be removed in 0.2.0. Use invoke instead.\n",
      "  warn_deprecated(\n",
      "/opt/conda/lib/python3.10/site-packages/langchain_core/_api/deprecation.py:189: LangChainDeprecationWarning: The function `__call__` was deprecated in LangChain 0.1.0 and will be removed in 0.2.0. Use invoke instead.\n",
      "  warn_deprecated(\n",
      "/opt/conda/lib/python3.10/site-packages/langchain_core/_api/deprecation.py:189: LangChainDeprecationWarning: The function `__call__` was deprecated in LangChain 0.1.0 and will be removed in 0.2.0. Use invoke instead.\n",
      "  warn_deprecated(\n"
     ]
    },
    {
     "name": "stdout",
     "output_type": "stream",
     "text": [
      " A. Article 21 A paragraph 1 of the 1945 Republic of Indonesia Constitution\n",
      "\n",
      "\n",
      "Sources:\n",
      "Time:  76.61682868003845\n",
      "==============================================\n",
      "Nomor:  75\n",
      "Everyone has the right to receive facilities and special treatment to obtain the same opportunities and benefits in order to achieve equality and justice, which is in...\\n A.  Law Number 23 of 2003, especially Article 5 paragraphs (1,2,3 and 4)\\n B.  Article 21 A paragraph 1 of the 1945 Republic of Indonesia Constitution\\n C.  Article 21 Z paragraph 1 of the 1945 Republic of Indonesia Constitution\\n D.  Article 21 Y paragraph 1 of the 1945 Republic of Indonesia Constitution\\n E.  Article 1 paragraph 2 of the 1945 Republic of Indonesia Constitution\n"
     ]
    },
    {
     "name": "stderr",
     "output_type": "stream",
     "text": [
      "/opt/conda/lib/python3.10/site-packages/langchain_core/_api/deprecation.py:189: LangChainDeprecationWarning: The function `__call__` was deprecated in LangChain 0.1.0 and will be removed in 0.2.0. Use invoke instead.\n",
      "  warn_deprecated(\n",
      "/opt/conda/lib/python3.10/site-packages/langchain_core/_api/deprecation.py:189: LangChainDeprecationWarning: The function `run` was deprecated in LangChain 0.1.0 and will be removed in 0.2.0. Use invoke instead.\n",
      "  warn_deprecated(\n",
      "/opt/conda/lib/python3.10/site-packages/langchain_core/_api/deprecation.py:189: LangChainDeprecationWarning: The function `__call__` was deprecated in LangChain 0.1.0 and will be removed in 0.2.0. Use invoke instead.\n",
      "  warn_deprecated(\n",
      "/opt/conda/lib/python3.10/site-packages/langchain_core/_api/deprecation.py:189: LangChainDeprecationWarning: The function `__call__` was deprecated in LangChain 0.1.0 and will be removed in 0.2.0. Use invoke instead.\n",
      "  warn_deprecated(\n"
     ]
    },
    {
     "name": "stdout",
     "output_type": "stream",
     "text": [
      " B. Article 21 A paragraph 1 of the 1945 Republic of Indonesia Constitution\n",
      "\n",
      "\n",
      "Sources:\n",
      "Time:  69.54333281517029\n",
      "==============================================\n",
      "Nomor:  76\n",
      "Everyone has the right to receive facilities and special treatment to obtain the same opportunities and benefits in order to achieve equality and justice, which is in...\\n A.  Article 21 A paragraph 1 of the 1945 Republic of Indonesia Constitution\\n B.  Article 21 Z paragraph 1 of the 1945 Republic of Indonesia Constitution\\n C.  Article 21 Y paragraph 1 of the 1945 Republic of Indonesia Constitution\\n D.  Article 1 paragraph 2 of the 1945 Republic of Indonesia Constitution\\n E.  Law Number 23 of 2003, especially Article 1 paragraph (6)\n"
     ]
    },
    {
     "name": "stderr",
     "output_type": "stream",
     "text": [
      "/opt/conda/lib/python3.10/site-packages/langchain_core/_api/deprecation.py:189: LangChainDeprecationWarning: The function `__call__` was deprecated in LangChain 0.1.0 and will be removed in 0.2.0. Use invoke instead.\n",
      "  warn_deprecated(\n",
      "/opt/conda/lib/python3.10/site-packages/langchain_core/_api/deprecation.py:189: LangChainDeprecationWarning: The function `run` was deprecated in LangChain 0.1.0 and will be removed in 0.2.0. Use invoke instead.\n",
      "  warn_deprecated(\n",
      "/opt/conda/lib/python3.10/site-packages/langchain_core/_api/deprecation.py:189: LangChainDeprecationWarning: The function `__call__` was deprecated in LangChain 0.1.0 and will be removed in 0.2.0. Use invoke instead.\n",
      "  warn_deprecated(\n",
      "/opt/conda/lib/python3.10/site-packages/langchain_core/_api/deprecation.py:189: LangChainDeprecationWarning: The function `__call__` was deprecated in LangChain 0.1.0 and will be removed in 0.2.0. Use invoke instead.\n",
      "  warn_deprecated(\n"
     ]
    },
    {
     "name": "stdout",
     "output_type": "stream",
     "text": [
      " A. Article 21 A paragraph 1 of the 1945 Republic of Indonesia Constitution\n",
      "\n",
      "\n",
      "Sources:\n",
      "Time:  68.27572011947632\n",
      "==============================================\n",
      "Nomor:  77\n",
      "Everyone has the right to receive facilities and special treatment to obtain the same opportunities and benefits in order to achieve equality and justice, which is in...\\n A.  Law Number 23 of 2003, especially Article 6 L\\n B.  Article 21 A paragraph 1 of the 1945 Republic of Indonesia Constitution\\n C.  Article 21 Z paragraph 1 of the 1945 Republic of Indonesia Constitution\\n D.  Article 21 Y paragraph 1 of the 1945 Republic of Indonesia Constitution\\n E.  Article 1 paragraph 2 of the 1945 Republic of Indonesia Constitution\n"
     ]
    },
    {
     "name": "stderr",
     "output_type": "stream",
     "text": [
      "/opt/conda/lib/python3.10/site-packages/langchain_core/_api/deprecation.py:189: LangChainDeprecationWarning: The function `__call__` was deprecated in LangChain 0.1.0 and will be removed in 0.2.0. Use invoke instead.\n",
      "  warn_deprecated(\n",
      "/opt/conda/lib/python3.10/site-packages/langchain_core/_api/deprecation.py:189: LangChainDeprecationWarning: The function `run` was deprecated in LangChain 0.1.0 and will be removed in 0.2.0. Use invoke instead.\n",
      "  warn_deprecated(\n",
      "/opt/conda/lib/python3.10/site-packages/langchain_core/_api/deprecation.py:189: LangChainDeprecationWarning: The function `__call__` was deprecated in LangChain 0.1.0 and will be removed in 0.2.0. Use invoke instead.\n",
      "  warn_deprecated(\n",
      "/opt/conda/lib/python3.10/site-packages/langchain_core/_api/deprecation.py:189: LangChainDeprecationWarning: The function `__call__` was deprecated in LangChain 0.1.0 and will be removed in 0.2.0. Use invoke instead.\n",
      "  warn_deprecated(\n"
     ]
    },
    {
     "name": "stdout",
     "output_type": "stream",
     "text": [
      " B. Article 21 A paragraph 1 of the 1945 Republic of Indonesia Constitution\n",
      "\n",
      "\n",
      "Sources:\n",
      "Time:  69.02617764472961\n",
      "==============================================\n",
      "Nomor:  78\n",
      "Everyone has the right to receive facilities and special treatment to obtain the same opportunities and benefits in order to achieve equality and justice, which is in...\\n A.  Article 21 A paragraph 1 of the 1945 Republic of Indonesia Constitution\\n B.  Article 21 Z paragraph 1 of the 1945 Republic of Indonesia Constitution\\n C.  Article 21 Y paragraph 1 of the 1945 Republic of Indonesia Constitution\\n D.  Article 1 paragraph 2 of the 1945 Republic of Indonesia Constitution\\n E.  Law Number 23 of 2003, especially Article 28 H paragraph (2)\n"
     ]
    },
    {
     "name": "stderr",
     "output_type": "stream",
     "text": [
      "/opt/conda/lib/python3.10/site-packages/langchain_core/_api/deprecation.py:189: LangChainDeprecationWarning: The function `__call__` was deprecated in LangChain 0.1.0 and will be removed in 0.2.0. Use invoke instead.\n",
      "  warn_deprecated(\n",
      "/opt/conda/lib/python3.10/site-packages/langchain_core/_api/deprecation.py:189: LangChainDeprecationWarning: The function `run` was deprecated in LangChain 0.1.0 and will be removed in 0.2.0. Use invoke instead.\n",
      "  warn_deprecated(\n",
      "/opt/conda/lib/python3.10/site-packages/langchain_core/_api/deprecation.py:189: LangChainDeprecationWarning: The function `__call__` was deprecated in LangChain 0.1.0 and will be removed in 0.2.0. Use invoke instead.\n",
      "  warn_deprecated(\n",
      "/opt/conda/lib/python3.10/site-packages/langchain_core/_api/deprecation.py:189: LangChainDeprecationWarning: The function `__call__` was deprecated in LangChain 0.1.0 and will be removed in 0.2.0. Use invoke instead.\n",
      "  warn_deprecated(\n"
     ]
    },
    {
     "name": "stdout",
     "output_type": "stream",
     "text": [
      " A. Article 21 A paragraph 1 of the 1945 Republic of Indonesia Constitution\n",
      "\n",
      "\n",
      "Sources:\n",
      "Time:  69.20369052886963\n",
      "==============================================\n",
      "Nomor:  79\n",
      "Every person has the right to be free from discriminatory treatment on any basis and has the right to receive protection against such discriminatory treatment, in...\\n A.  Law Number 23 of 2003, especially Article 5 paragraphs (1,2,3 and 4)\\n B.  Article 21 A paragraph 1 of the 1945 Republic of Indonesia Constitution\\n C.  Article 21 Z paragraph 1 of the 1945 Republic of Indonesia Constitution\\n D.  Article 21 Y paragraph 1 of the 1945 Republic of Indonesia Constitution\\n E.  Article 1 paragraph 2 of the 1945 Republic of Indonesia Constitution\n"
     ]
    },
    {
     "name": "stderr",
     "output_type": "stream",
     "text": [
      "/opt/conda/lib/python3.10/site-packages/langchain_core/_api/deprecation.py:189: LangChainDeprecationWarning: The function `__call__` was deprecated in LangChain 0.1.0 and will be removed in 0.2.0. Use invoke instead.\n",
      "  warn_deprecated(\n",
      "/opt/conda/lib/python3.10/site-packages/langchain_core/_api/deprecation.py:189: LangChainDeprecationWarning: The function `run` was deprecated in LangChain 0.1.0 and will be removed in 0.2.0. Use invoke instead.\n",
      "  warn_deprecated(\n",
      "/opt/conda/lib/python3.10/site-packages/langchain_core/_api/deprecation.py:189: LangChainDeprecationWarning: The function `__call__` was deprecated in LangChain 0.1.0 and will be removed in 0.2.0. Use invoke instead.\n",
      "  warn_deprecated(\n",
      "/opt/conda/lib/python3.10/site-packages/langchain_core/_api/deprecation.py:189: LangChainDeprecationWarning: The function `__call__` was deprecated in LangChain 0.1.0 and will be removed in 0.2.0. Use invoke instead.\n",
      "  warn_deprecated(\n"
     ]
    },
    {
     "name": "stdout",
     "output_type": "stream",
     "text": [
      " B. Article 21 A paragraph 1 of the 1945 Republic of Indonesia Constitution\n",
      "\n",
      "\n",
      "Sources:\n",
      "Time:  70.52780389785767\n",
      "==============================================\n",
      "Nomor:  80\n",
      "Every person has the right to be free from discriminatory treatment on any basis and has the right to receive protection against such discriminatory treatment, in...\\n A.  Article 21 A paragraph 1 of the 1945 Republic of Indonesia Constitution\\n B.  Article 21 Z paragraph 1 of the 1945 Republic of Indonesia Constitution\\n C.  Article 21 Y paragraph 1 of the 1945 Republic of Indonesia Constitution\\n D.  Article 1 paragraph 2 of the 1945 Republic of Indonesia Constitution\\n E.  Law Number 23 of 2003, especially Article 1 paragraph (6)\n"
     ]
    },
    {
     "name": "stderr",
     "output_type": "stream",
     "text": [
      "/opt/conda/lib/python3.10/site-packages/langchain_core/_api/deprecation.py:189: LangChainDeprecationWarning: The function `__call__` was deprecated in LangChain 0.1.0 and will be removed in 0.2.0. Use invoke instead.\n",
      "  warn_deprecated(\n",
      "/opt/conda/lib/python3.10/site-packages/langchain_core/_api/deprecation.py:189: LangChainDeprecationWarning: The function `run` was deprecated in LangChain 0.1.0 and will be removed in 0.2.0. Use invoke instead.\n",
      "  warn_deprecated(\n",
      "/opt/conda/lib/python3.10/site-packages/langchain_core/_api/deprecation.py:189: LangChainDeprecationWarning: The function `__call__` was deprecated in LangChain 0.1.0 and will be removed in 0.2.0. Use invoke instead.\n",
      "  warn_deprecated(\n",
      "/opt/conda/lib/python3.10/site-packages/langchain_core/_api/deprecation.py:189: LangChainDeprecationWarning: The function `__call__` was deprecated in LangChain 0.1.0 and will be removed in 0.2.0. Use invoke instead.\n",
      "  warn_deprecated(\n"
     ]
    },
    {
     "name": "stdout",
     "output_type": "stream",
     "text": [
      " A. Article 21 A paragraph 1 of the 1945 Republic of Indonesia Constitution\n",
      "\n",
      "\n",
      "Sources:\n",
      "Time:  68.28648829460144\n",
      "==============================================\n",
      "Nomor:  81\n",
      "Every person has the right to be free from discriminatory treatment on any basis and has the right to receive protection against such discriminatory treatment, in...\\n A.  Law Number 23 of 2003, especially Article 6 I\\n B.  Article 21 A paragraph 1 of the 1945 Republic of Indonesia Constitution\\n C.  Article 21 Z paragraph 1 of the 1945 Republic of Indonesia Constitution\\n D.  Article 21 Y paragraph 1 of the 1945 Republic of Indonesia Constitution\\n E.  Article 1 paragraph 2 of the 1945 Republic of Indonesia Constitution\n"
     ]
    },
    {
     "name": "stderr",
     "output_type": "stream",
     "text": [
      "/opt/conda/lib/python3.10/site-packages/langchain_core/_api/deprecation.py:189: LangChainDeprecationWarning: The function `__call__` was deprecated in LangChain 0.1.0 and will be removed in 0.2.0. Use invoke instead.\n",
      "  warn_deprecated(\n",
      "/opt/conda/lib/python3.10/site-packages/langchain_core/_api/deprecation.py:189: LangChainDeprecationWarning: The function `run` was deprecated in LangChain 0.1.0 and will be removed in 0.2.0. Use invoke instead.\n",
      "  warn_deprecated(\n",
      "/opt/conda/lib/python3.10/site-packages/langchain_core/_api/deprecation.py:189: LangChainDeprecationWarning: The function `__call__` was deprecated in LangChain 0.1.0 and will be removed in 0.2.0. Use invoke instead.\n",
      "  warn_deprecated(\n",
      "/opt/conda/lib/python3.10/site-packages/langchain_core/_api/deprecation.py:189: LangChainDeprecationWarning: The function `__call__` was deprecated in LangChain 0.1.0 and will be removed in 0.2.0. Use invoke instead.\n",
      "  warn_deprecated(\n"
     ]
    },
    {
     "name": "stdout",
     "output_type": "stream",
     "text": [
      " B. Article 21 A paragraph 1 of the 1945 Republic of Indonesia Constitution\n",
      "\n",
      "\n",
      "Sources:\n",
      "Time:  67.64264988899231\n",
      "==============================================\n",
      "Nomor:  82\n",
      "Everyone is obliged to respect the human rights of others in the orderly life of society, nation and state, which is...\\n A.  Law Number 23 of 2003, especially Article 5 paragraphs (1, 2, 3 and 4)\\n B.  Article 21 A paragraph 1 of the 1945 Republic of Indonesia Constitution\\n C.  Article 21 Z paragraph 1 of the 1945 Republic of Indonesia Constitution\\n D.  Article 21 Y paragraph 1 of the 1945 Republic of Indonesia Constitution\\n E.  Article 1 paragraph 2 of the 1945 Republic of Indonesia Constitution\n"
     ]
    },
    {
     "name": "stderr",
     "output_type": "stream",
     "text": [
      "/opt/conda/lib/python3.10/site-packages/langchain_core/_api/deprecation.py:189: LangChainDeprecationWarning: The function `__call__` was deprecated in LangChain 0.1.0 and will be removed in 0.2.0. Use invoke instead.\n",
      "  warn_deprecated(\n",
      "/opt/conda/lib/python3.10/site-packages/langchain_core/_api/deprecation.py:189: LangChainDeprecationWarning: The function `run` was deprecated in LangChain 0.1.0 and will be removed in 0.2.0. Use invoke instead.\n",
      "  warn_deprecated(\n",
      "/opt/conda/lib/python3.10/site-packages/langchain_core/_api/deprecation.py:189: LangChainDeprecationWarning: The function `__call__` was deprecated in LangChain 0.1.0 and will be removed in 0.2.0. Use invoke instead.\n",
      "  warn_deprecated(\n",
      "/opt/conda/lib/python3.10/site-packages/langchain_core/_api/deprecation.py:189: LangChainDeprecationWarning: The function `__call__` was deprecated in LangChain 0.1.0 and will be removed in 0.2.0. Use invoke instead.\n",
      "  warn_deprecated(\n"
     ]
    },
    {
     "name": "stdout",
     "output_type": "stream",
     "text": [
      " B. Article 21 A paragraph 1 of the 1945 Republic of Indonesia Constitution\n",
      "\n",
      "\n",
      "Sources:\n",
      "Time:  69.58350586891174\n",
      "==============================================\n",
      "Nomor:  83\n",
      "Everyone is obliged to respect the human rights of others in the orderly life of society, nation and state, which is...\\n A.  Article 21 A paragraph 1 of the 1945 Republic of Indonesia Constitution\\n B.  Article 21 Z paragraph 1 of the 1945 Republic of Indonesia Constitution\\n C.  Article 21 Y paragraph 1 of the 1945 Republic of Indonesia Constitution\\n D.  Article 1 paragraph 2 of the 1945 Republic of Indonesia Constitution\\n E.  Law Number 23 of 2003, especially Article 1 paragraph (6)\n"
     ]
    },
    {
     "name": "stderr",
     "output_type": "stream",
     "text": [
      "/opt/conda/lib/python3.10/site-packages/langchain_core/_api/deprecation.py:189: LangChainDeprecationWarning: The function `__call__` was deprecated in LangChain 0.1.0 and will be removed in 0.2.0. Use invoke instead.\n",
      "  warn_deprecated(\n",
      "/opt/conda/lib/python3.10/site-packages/langchain_core/_api/deprecation.py:189: LangChainDeprecationWarning: The function `run` was deprecated in LangChain 0.1.0 and will be removed in 0.2.0. Use invoke instead.\n",
      "  warn_deprecated(\n",
      "/opt/conda/lib/python3.10/site-packages/langchain_core/_api/deprecation.py:189: LangChainDeprecationWarning: The function `__call__` was deprecated in LangChain 0.1.0 and will be removed in 0.2.0. Use invoke instead.\n",
      "  warn_deprecated(\n",
      "/opt/conda/lib/python3.10/site-packages/langchain_core/_api/deprecation.py:189: LangChainDeprecationWarning: The function `__call__` was deprecated in LangChain 0.1.0 and will be removed in 0.2.0. Use invoke instead.\n",
      "  warn_deprecated(\n"
     ]
    },
    {
     "name": "stdout",
     "output_type": "stream",
     "text": [
      " A. Article 21 A paragraph 1 of the 1945 Republic of Indonesia Constitution\n",
      "\n",
      "\n",
      "Sources:\n",
      "Time:  66.56336688995361\n",
      "==============================================\n",
      "Nomor:  84\n",
      "Everyone is obliged to respect the human rights of others in the orderly life of society, nation and state, which is...\\n A.  Law Number 23 of 2003, especially Article 6L\\n B.  Article 21 A paragraph 1 of the 1945 Republic of Indonesia Constitution\\n C.  Article 21 Z paragraph 1 of the 1945 Republic of Indonesia Constitution\\n D.  Article 21 Y paragraph 1 of the 1945 Republic of Indonesia Constitution\\n E.  Article 1 paragraph 2 of the 1945 Republic of Indonesia Constitution\n"
     ]
    },
    {
     "name": "stderr",
     "output_type": "stream",
     "text": [
      "/opt/conda/lib/python3.10/site-packages/langchain_core/_api/deprecation.py:189: LangChainDeprecationWarning: The function `__call__` was deprecated in LangChain 0.1.0 and will be removed in 0.2.0. Use invoke instead.\n",
      "  warn_deprecated(\n",
      "/opt/conda/lib/python3.10/site-packages/langchain_core/_api/deprecation.py:189: LangChainDeprecationWarning: The function `run` was deprecated in LangChain 0.1.0 and will be removed in 0.2.0. Use invoke instead.\n",
      "  warn_deprecated(\n",
      "/opt/conda/lib/python3.10/site-packages/langchain_core/_api/deprecation.py:189: LangChainDeprecationWarning: The function `__call__` was deprecated in LangChain 0.1.0 and will be removed in 0.2.0. Use invoke instead.\n",
      "  warn_deprecated(\n",
      "/opt/conda/lib/python3.10/site-packages/langchain_core/_api/deprecation.py:189: LangChainDeprecationWarning: The function `__call__` was deprecated in LangChain 0.1.0 and will be removed in 0.2.0. Use invoke instead.\n",
      "  warn_deprecated(\n"
     ]
    },
    {
     "name": "stdout",
     "output_type": "stream",
     "text": [
      " B. Article 21 A paragraph 1 of the 1945 Republic of Indonesia Constitution\n",
      "\n",
      "\n",
      "Sources:\n",
      "Time:  67.4175136089325\n",
      "==============================================\n",
      "Nomor:  85\n",
      "Every person has the right to live in physical and spiritual prosperity, to have a place to live and to have a good and healthy living environment and to receive health services, at...\\n A.  Article 21 H paragraph 1 (Constitution/UUD 1945)\\n B.  Article 28 H paragraph 1 (Constitution/UUD 1945)\\n C.  Article 28 A paragraph 1 (Constitution/UUD 1945)\\n D.  Article 28 B paragraph 1 (Constitution/UUD 1945)\\n E.  Article 28 C paragraph 1 (1945 Constitution/UUD)\n"
     ]
    },
    {
     "name": "stderr",
     "output_type": "stream",
     "text": [
      "/opt/conda/lib/python3.10/site-packages/langchain_core/_api/deprecation.py:189: LangChainDeprecationWarning: The function `__call__` was deprecated in LangChain 0.1.0 and will be removed in 0.2.0. Use invoke instead.\n",
      "  warn_deprecated(\n",
      "/opt/conda/lib/python3.10/site-packages/langchain_core/_api/deprecation.py:189: LangChainDeprecationWarning: The function `run` was deprecated in LangChain 0.1.0 and will be removed in 0.2.0. Use invoke instead.\n",
      "  warn_deprecated(\n",
      "/opt/conda/lib/python3.10/site-packages/langchain_core/_api/deprecation.py:189: LangChainDeprecationWarning: The function `__call__` was deprecated in LangChain 0.1.0 and will be removed in 0.2.0. Use invoke instead.\n",
      "  warn_deprecated(\n",
      "/opt/conda/lib/python3.10/site-packages/langchain_core/_api/deprecation.py:189: LangChainDeprecationWarning: The function `__call__` was deprecated in LangChain 0.1.0 and will be removed in 0.2.0. Use invoke instead.\n",
      "  warn_deprecated(\n"
     ]
    },
    {
     "name": "stdout",
     "output_type": "stream",
     "text": [
      " A. Article 21 H paragraph 1 (Constitution/UUD 1945)\n",
      "\n",
      "\n",
      "Sources:\n",
      "Time:  70.39855432510376\n",
      "==============================================\n",
      "Nomor:  86\n",
      "In Article 51 paragraph (1) of Law Number 24 of 2003 concerning the Constitutional Court. A party who considers their constitutional rights and/or authority to be impaired by the enactment of a law is...\\n A.  President\\n B.  Applicant\\n C.  vice President\\n D.  Police\\n E.  Soldier\n"
     ]
    },
    {
     "name": "stderr",
     "output_type": "stream",
     "text": [
      "/opt/conda/lib/python3.10/site-packages/langchain_core/_api/deprecation.py:189: LangChainDeprecationWarning: The function `__call__` was deprecated in LangChain 0.1.0 and will be removed in 0.2.0. Use invoke instead.\n",
      "  warn_deprecated(\n",
      "/opt/conda/lib/python3.10/site-packages/langchain_core/_api/deprecation.py:189: LangChainDeprecationWarning: The function `run` was deprecated in LangChain 0.1.0 and will be removed in 0.2.0. Use invoke instead.\n",
      "  warn_deprecated(\n",
      "/opt/conda/lib/python3.10/site-packages/langchain_core/_api/deprecation.py:189: LangChainDeprecationWarning: The function `__call__` was deprecated in LangChain 0.1.0 and will be removed in 0.2.0. Use invoke instead.\n",
      "  warn_deprecated(\n",
      "/opt/conda/lib/python3.10/site-packages/langchain_core/_api/deprecation.py:189: LangChainDeprecationWarning: The function `__call__` was deprecated in LangChain 0.1.0 and will be removed in 0.2.0. Use invoke instead.\n",
      "  warn_deprecated(\n"
     ]
    },
    {
     "name": "stdout",
     "output_type": "stream",
     "text": [
      " In Article 51 paragraph (1) of Law Number 24 of 2003 concerning the Constitutional Court, a party who\n",
      "considers their constitutional rights and/or authority to be impaired by the enactment of a law is B.\n",
      "Applicant.\n",
      "\n",
      "\n",
      "Sources:\n",
      "Time:  61.42091107368469\n",
      "==============================================\n",
      "Nomor:  87\n",
      "Article 51 paragraph (1) of Law Number 24 of 2003 concerning the Constitutional Court states, the Petitioner is a party who considers their constitutional rights and/or authority to be impaired by the enactment of a law, namely...\\n A.  individual Indonesian citizens, the unity of the customary law community as long as it is still alive and in accordance with the development of society and the principles of the Unitary State of the Republic of Indonesia as regulated in law, public or private legal entity, or state institutions\\n B.  Individual Indonesian citizens, have flesh and blood, or state institutions\\n C.  individual Indonesian citizens, working in government, or state institutions\\n D.  individual Indonesian citizens, can speak Indonesian,  public or private legal entity, or state institutions\\n E.  individual Indonesian citizens, criminal, public or private legal entity, or state institutions\n"
     ]
    },
    {
     "name": "stderr",
     "output_type": "stream",
     "text": [
      "/opt/conda/lib/python3.10/site-packages/langchain_core/_api/deprecation.py:189: LangChainDeprecationWarning: The function `__call__` was deprecated in LangChain 0.1.0 and will be removed in 0.2.0. Use invoke instead.\n",
      "  warn_deprecated(\n",
      "/opt/conda/lib/python3.10/site-packages/langchain_core/_api/deprecation.py:189: LangChainDeprecationWarning: The function `run` was deprecated in LangChain 0.1.0 and will be removed in 0.2.0. Use invoke instead.\n",
      "  warn_deprecated(\n",
      "/opt/conda/lib/python3.10/site-packages/langchain_core/_api/deprecation.py:189: LangChainDeprecationWarning: The function `__call__` was deprecated in LangChain 0.1.0 and will be removed in 0.2.0. Use invoke instead.\n",
      "  warn_deprecated(\n",
      "/opt/conda/lib/python3.10/site-packages/langchain_core/_api/deprecation.py:189: LangChainDeprecationWarning: The function `__call__` was deprecated in LangChain 0.1.0 and will be removed in 0.2.0. Use invoke instead.\n",
      "  warn_deprecated(\n"
     ]
    },
    {
     "name": "stdout",
     "output_type": "stream",
     "text": [
      " A. Individual Indonesian citizens, the unity of the customary law community as long as it is still alive and\n",
      "in accordance with the development of society and the principles of the Unitary State of the Republic of\n",
      "Indonesia as regulated in law, public or private legal entity, or state institutions\n",
      "\n",
      "\n",
      "Sources:\n",
      "Time:  95.90467262268066\n",
      "==============================================\n",
      "Nomor:  88\n",
      "Every person has the right to recognition, guarantees, protection and fair legal certainty as well as equal treatment before the law, reads the...\\n A.  Article 28D paragraph (1) of the 1945 Constitution\\n B.  Article 27D paragraph (1) of the 1945 Constitution\\n C.  Article 26D paragraph (1) of the 1945 Constitution\\n D.  Article 25D paragraph (1) of the 1945 Constitution\\n E.  Article 24D paragraph (1) of the 1945 Constitution\n"
     ]
    },
    {
     "name": "stderr",
     "output_type": "stream",
     "text": [
      "/opt/conda/lib/python3.10/site-packages/langchain_core/_api/deprecation.py:189: LangChainDeprecationWarning: The function `__call__` was deprecated in LangChain 0.1.0 and will be removed in 0.2.0. Use invoke instead.\n",
      "  warn_deprecated(\n",
      "/opt/conda/lib/python3.10/site-packages/langchain_core/_api/deprecation.py:189: LangChainDeprecationWarning: The function `run` was deprecated in LangChain 0.1.0 and will be removed in 0.2.0. Use invoke instead.\n",
      "  warn_deprecated(\n",
      "/opt/conda/lib/python3.10/site-packages/langchain_core/_api/deprecation.py:189: LangChainDeprecationWarning: The function `__call__` was deprecated in LangChain 0.1.0 and will be removed in 0.2.0. Use invoke instead.\n",
      "  warn_deprecated(\n",
      "/opt/conda/lib/python3.10/site-packages/langchain_core/_api/deprecation.py:189: LangChainDeprecationWarning: The function `__call__` was deprecated in LangChain 0.1.0 and will be removed in 0.2.0. Use invoke instead.\n",
      "  warn_deprecated(\n"
     ]
    },
    {
     "name": "stdout",
     "output_type": "stream",
     "text": [
      " C. Article 26D paragraph (1) of the 1945 Constitution\n",
      "\n",
      "\n",
      "Sources:\n",
      "Time:  64.7650978565216\n",
      "==============================================\n",
      "Nomor:  89\n",
      "Every person has the right to freedom of belief, expression of thoughts and attitudes, in accordance with his conscience, according to article...\\n A.  Article 28F paragraph (2) of the 1945 Constitution\\n B.  Article 28A paragraph (2) of the 1945 Constitution\\n C.  Article 28B paragraph (2) of the 1945 Constitution\\n D.  Article 28C paragraph (2) of the 1945 Constitution\\n E.  Article 28E paragraph (2) of the 1945 Constitution\n"
     ]
    },
    {
     "name": "stderr",
     "output_type": "stream",
     "text": [
      "/opt/conda/lib/python3.10/site-packages/langchain_core/_api/deprecation.py:189: LangChainDeprecationWarning: The function `__call__` was deprecated in LangChain 0.1.0 and will be removed in 0.2.0. Use invoke instead.\n",
      "  warn_deprecated(\n",
      "/opt/conda/lib/python3.10/site-packages/langchain_core/_api/deprecation.py:189: LangChainDeprecationWarning: The function `run` was deprecated in LangChain 0.1.0 and will be removed in 0.2.0. Use invoke instead.\n",
      "  warn_deprecated(\n",
      "/opt/conda/lib/python3.10/site-packages/langchain_core/_api/deprecation.py:189: LangChainDeprecationWarning: The function `__call__` was deprecated in LangChain 0.1.0 and will be removed in 0.2.0. Use invoke instead.\n",
      "  warn_deprecated(\n",
      "/opt/conda/lib/python3.10/site-packages/langchain_core/_api/deprecation.py:189: LangChainDeprecationWarning: The function `__call__` was deprecated in LangChain 0.1.0 and will be removed in 0.2.0. Use invoke instead.\n",
      "  warn_deprecated(\n"
     ]
    },
    {
     "name": "stdout",
     "output_type": "stream",
     "text": [
      " A. Article 28F paragraph (2) of the 1945 Constitution\n",
      "\n",
      "\n",
      "Sources:\n",
      "Time:  64.14756393432617\n",
      "==============================================\n",
      "Nomor:  90\n",
      "Everyone has the right to freedom of association, assembly and expression of opinion, from article...\\n A.  Article 28A paragraph (3) of the 1945 Constitution\\n B.  Article 28E paragraph (3) of the 1945 Constitution\\n C.  Article 28B paragraph (3) of the 1945 Constitution\\n D.  Article 28C paragraph (3) of the 1945 Constitution\\n E.  Article 28D paragraph (3) of the 1945 Constitution\n"
     ]
    },
    {
     "name": "stderr",
     "output_type": "stream",
     "text": [
      "/opt/conda/lib/python3.10/site-packages/langchain_core/_api/deprecation.py:189: LangChainDeprecationWarning: The function `__call__` was deprecated in LangChain 0.1.0 and will be removed in 0.2.0. Use invoke instead.\n",
      "  warn_deprecated(\n",
      "/opt/conda/lib/python3.10/site-packages/langchain_core/_api/deprecation.py:189: LangChainDeprecationWarning: The function `run` was deprecated in LangChain 0.1.0 and will be removed in 0.2.0. Use invoke instead.\n",
      "  warn_deprecated(\n",
      "/opt/conda/lib/python3.10/site-packages/langchain_core/_api/deprecation.py:189: LangChainDeprecationWarning: The function `__call__` was deprecated in LangChain 0.1.0 and will be removed in 0.2.0. Use invoke instead.\n",
      "  warn_deprecated(\n",
      "/opt/conda/lib/python3.10/site-packages/langchain_core/_api/deprecation.py:189: LangChainDeprecationWarning: The function `__call__` was deprecated in LangChain 0.1.0 and will be removed in 0.2.0. Use invoke instead.\n",
      "  warn_deprecated(\n"
     ]
    },
    {
     "name": "stdout",
     "output_type": "stream",
     "text": [
      " A. Article 28A paragraph (3) of the 1945 Constitution\n",
      "\n",
      "\n",
      "Sources:\n",
      "Time:  61.38435983657837\n",
      "==============================================\n",
      "Nomor:  91\n",
      "Everyone has the right to communicate and obtain information to develop their personal and social environment, and has the right to seek, obtain, own, store, process and convey information using all types of available channels, as stated in article...\\n A.  Article 28B of the 1945 Constitution\\n B.  Article 28C of the 1945 Constitution\\n C.  Article 28E of the 1945 Constitution\\n D.  Article 28E of the 1945 Constitution\\n E.  Article 28F of the 1945 Constitution\n"
     ]
    },
    {
     "name": "stderr",
     "output_type": "stream",
     "text": [
      "/opt/conda/lib/python3.10/site-packages/langchain_core/_api/deprecation.py:189: LangChainDeprecationWarning: The function `__call__` was deprecated in LangChain 0.1.0 and will be removed in 0.2.0. Use invoke instead.\n",
      "  warn_deprecated(\n",
      "/opt/conda/lib/python3.10/site-packages/langchain_core/_api/deprecation.py:189: LangChainDeprecationWarning: The function `run` was deprecated in LangChain 0.1.0 and will be removed in 0.2.0. Use invoke instead.\n",
      "  warn_deprecated(\n",
      "/opt/conda/lib/python3.10/site-packages/langchain_core/_api/deprecation.py:189: LangChainDeprecationWarning: The function `__call__` was deprecated in LangChain 0.1.0 and will be removed in 0.2.0. Use invoke instead.\n",
      "  warn_deprecated(\n",
      "/opt/conda/lib/python3.10/site-packages/langchain_core/_api/deprecation.py:189: LangChainDeprecationWarning: The function `__call__` was deprecated in LangChain 0.1.0 and will be removed in 0.2.0. Use invoke instead.\n",
      "  warn_deprecated(\n"
     ]
    },
    {
     "name": "stdout",
     "output_type": "stream",
     "text": [
      " A. Article 28B of the 1945 Constitution\n",
      "\n",
      "\n",
      "Sources:\n",
      "Time:  62.7752206325531\n",
      "==============================================\n",
      "Nomor:  92\n",
      "Every person who meets the elements as intended in Article 27 paragraph (1), paragraph (2), paragraph (3), or paragraph (4) shall be punished with a maximum imprisonment...\\n A.  5 (five) years\\n B.  6 (six) years\\n C.  7 (seven) years\\n D.  8 (eight) years\\n E.  9 (nine) years\n"
     ]
    },
    {
     "name": "stderr",
     "output_type": "stream",
     "text": [
      "/opt/conda/lib/python3.10/site-packages/langchain_core/_api/deprecation.py:189: LangChainDeprecationWarning: The function `__call__` was deprecated in LangChain 0.1.0 and will be removed in 0.2.0. Use invoke instead.\n",
      "  warn_deprecated(\n",
      "/opt/conda/lib/python3.10/site-packages/langchain_core/_api/deprecation.py:189: LangChainDeprecationWarning: The function `run` was deprecated in LangChain 0.1.0 and will be removed in 0.2.0. Use invoke instead.\n",
      "  warn_deprecated(\n",
      "/opt/conda/lib/python3.10/site-packages/langchain_core/_api/deprecation.py:189: LangChainDeprecationWarning: The function `__call__` was deprecated in LangChain 0.1.0 and will be removed in 0.2.0. Use invoke instead.\n",
      "  warn_deprecated(\n",
      "/opt/conda/lib/python3.10/site-packages/langchain_core/_api/deprecation.py:189: LangChainDeprecationWarning: The function `__call__` was deprecated in LangChain 0.1.0 and will be removed in 0.2.0. Use invoke instead.\n",
      "  warn_deprecated(\n"
     ]
    },
    {
     "name": "stdout",
     "output_type": "stream",
     "text": [
      " I don't know the answer to this question, as there is no information provided about the specific elements or\n",
      "Article 27 in the given context.\n",
      "\n",
      "\n",
      "Sources:\n",
      "Time:  53.39508605003357\n",
      "==============================================\n",
      "Nomor:  93\n",
      "Every person who meets the elements as intended in Article 27 paragraph (1), paragraph (2), paragraph (3), or paragraph (4) shall be punished with imprisonment for a maximum of 6 (six) years and/or a fine of a maximum...\\n A.  IDR 2,000,000,000.00 (two billion rupiah)\\n B.  IDR 3,000,000,000.00 (three billion rupiah)\\n C.  IDR 1,000,000,000.00 (one billion rupiah)\\n D.  IDR 4,000,000,000.00 (four billion rupiah)\\n E.  IDR 5,000,000,000.00 (five billion rupiah)\n"
     ]
    },
    {
     "name": "stderr",
     "output_type": "stream",
     "text": [
      "/opt/conda/lib/python3.10/site-packages/langchain_core/_api/deprecation.py:189: LangChainDeprecationWarning: The function `__call__` was deprecated in LangChain 0.1.0 and will be removed in 0.2.0. Use invoke instead.\n",
      "  warn_deprecated(\n",
      "/opt/conda/lib/python3.10/site-packages/langchain_core/_api/deprecation.py:189: LangChainDeprecationWarning: The function `run` was deprecated in LangChain 0.1.0 and will be removed in 0.2.0. Use invoke instead.\n",
      "  warn_deprecated(\n",
      "/opt/conda/lib/python3.10/site-packages/langchain_core/_api/deprecation.py:189: LangChainDeprecationWarning: The function `__call__` was deprecated in LangChain 0.1.0 and will be removed in 0.2.0. Use invoke instead.\n",
      "  warn_deprecated(\n",
      "/opt/conda/lib/python3.10/site-packages/langchain_core/_api/deprecation.py:189: LangChainDeprecationWarning: The function `__call__` was deprecated in LangChain 0.1.0 and will be removed in 0.2.0. Use invoke instead.\n",
      "  warn_deprecated(\n"
     ]
    },
    {
     "name": "stdout",
     "output_type": "stream",
     "text": [
      " C. IDR 1,000,000,000.00 (one billion rupiah)\n",
      "\n",
      "\n",
      "Sources:\n",
      "Time:  88.70831203460693\n",
      "==============================================\n",
      "Nomor:  94\n",
      "Law Number 32 of 2004, as most recently amended by...\\n A.  Law Number 11 of 2008\\n B.  Law Number 12 of 2008\\n C.  Law Number 13 of 2008\\n D.  Law Number 14 of 2008\\n E.  Law Number 15 of 2008\n"
     ]
    },
    {
     "name": "stderr",
     "output_type": "stream",
     "text": [
      "/opt/conda/lib/python3.10/site-packages/langchain_core/_api/deprecation.py:189: LangChainDeprecationWarning: The function `__call__` was deprecated in LangChain 0.1.0 and will be removed in 0.2.0. Use invoke instead.\n",
      "  warn_deprecated(\n",
      "/opt/conda/lib/python3.10/site-packages/langchain_core/_api/deprecation.py:189: LangChainDeprecationWarning: The function `run` was deprecated in LangChain 0.1.0 and will be removed in 0.2.0. Use invoke instead.\n",
      "  warn_deprecated(\n",
      "/opt/conda/lib/python3.10/site-packages/langchain_core/_api/deprecation.py:189: LangChainDeprecationWarning: The function `__call__` was deprecated in LangChain 0.1.0 and will be removed in 0.2.0. Use invoke instead.\n",
      "  warn_deprecated(\n",
      "/opt/conda/lib/python3.10/site-packages/langchain_core/_api/deprecation.py:189: LangChainDeprecationWarning: The function `__call__` was deprecated in LangChain 0.1.0 and will be removed in 0.2.0. Use invoke instead.\n",
      "  warn_deprecated(\n"
     ]
    },
    {
     "name": "stdout",
     "output_type": "stream",
     "text": [
      " B. Law Number 12 of 2008\n",
      "\n",
      "\n",
      "Sources:\n",
      "Time:  51.52121901512146\n",
      "==============================================\n",
      "Nomor:  95\n",
      "Law Number 12 of 2008 concerning the Second Amendment to Law Number 32 of 2004 concerning Regional Government, in Article 236C stipulates...\\n A.  Handling of disputes over the vote counting results of regional head and deputy regional head elections by the Supreme Court shall be transferred to the Constitutional Court no later than 18 (eighteen) months from the promulgation of this Law.\\n B.  The Supreme Court has the authority to adjudicate at the first and final level whose decisions are final, among other things, to decide disputes regarding the results of general elections\\n C.  The Constitutional Court has the authority to adjudicate at the first and final level whose decisions are final, among other things, to decide disputes regarding the results of general elections\\n D.  The Indonesian National Police adjudicates at the first and final level whose decision is final, among other things, to decide disputes regarding the results of the general election\\n E.  The President of the Republic of Indonesia adjudicates at the first and final level whose decision is final, among other things, to decide disputes regarding the results of the general election\n"
     ]
    },
    {
     "name": "stderr",
     "output_type": "stream",
     "text": [
      "/opt/conda/lib/python3.10/site-packages/langchain_core/_api/deprecation.py:189: LangChainDeprecationWarning: The function `__call__` was deprecated in LangChain 0.1.0 and will be removed in 0.2.0. Use invoke instead.\n",
      "  warn_deprecated(\n",
      "/opt/conda/lib/python3.10/site-packages/langchain_core/_api/deprecation.py:189: LangChainDeprecationWarning: The function `run` was deprecated in LangChain 0.1.0 and will be removed in 0.2.0. Use invoke instead.\n",
      "  warn_deprecated(\n",
      "/opt/conda/lib/python3.10/site-packages/langchain_core/_api/deprecation.py:189: LangChainDeprecationWarning: The function `__call__` was deprecated in LangChain 0.1.0 and will be removed in 0.2.0. Use invoke instead.\n",
      "  warn_deprecated(\n",
      "/opt/conda/lib/python3.10/site-packages/langchain_core/_api/deprecation.py:189: LangChainDeprecationWarning: The function `__call__` was deprecated in LangChain 0.1.0 and will be removed in 0.2.0. Use invoke instead.\n",
      "  warn_deprecated(\n"
     ]
    },
    {
     "name": "stdout",
     "output_type": "stream",
     "text": [
      " C. The Constitutional Court has the authority to adjudicate at the first and final level whose decisions are\n",
      "final, among other things, to decide disputes regarding the results of general elections\n",
      "\n",
      "\n",
      "Sources:\n",
      "Time:  107.12145018577576\n",
      "==============================================\n",
      "Nomor:  96\n",
      "Governors, regents and mayors, respectively, as heads of provincial, district and city regional governments are elected democratically, as stated in article...\\n A.  1945 Constitution Article 18 paragraph (4)\\n B.  1945 Constitution Article 22E paragraph (1)\\n C.  1945 Constitution Article 27 paragraph (1)\\n D.  1945 Constitution Article 28C paragraph (2)\\n E.  1945 Constitution Article 28D paragraph (1)\n"
     ]
    },
    {
     "name": "stderr",
     "output_type": "stream",
     "text": [
      "/opt/conda/lib/python3.10/site-packages/langchain_core/_api/deprecation.py:189: LangChainDeprecationWarning: The function `__call__` was deprecated in LangChain 0.1.0 and will be removed in 0.2.0. Use invoke instead.\n",
      "  warn_deprecated(\n",
      "/opt/conda/lib/python3.10/site-packages/langchain_core/_api/deprecation.py:189: LangChainDeprecationWarning: The function `run` was deprecated in LangChain 0.1.0 and will be removed in 0.2.0. Use invoke instead.\n",
      "  warn_deprecated(\n",
      "/opt/conda/lib/python3.10/site-packages/langchain_core/_api/deprecation.py:189: LangChainDeprecationWarning: The function `__call__` was deprecated in LangChain 0.1.0 and will be removed in 0.2.0. Use invoke instead.\n",
      "  warn_deprecated(\n",
      "/opt/conda/lib/python3.10/site-packages/langchain_core/_api/deprecation.py:189: LangChainDeprecationWarning: The function `__call__` was deprecated in LangChain 0.1.0 and will be removed in 0.2.0. Use invoke instead.\n",
      "  warn_deprecated(\n"
     ]
    },
    {
     "name": "stdout",
     "output_type": "stream",
     "text": [
      " A. 1945 Constitution Article 18 paragraph (4)\n",
      "\n",
      "\n",
      "Sources:\n",
      "Time:  58.37147808074951\n",
      "==============================================\n",
      "Nomor:  97\n",
      "General elections are held directly, publicly, freely, secretly, honestly and fairly once every five years, in article...\\n A.  1946 Constitution Article 18 paragraph (4)\\n B.  1946 Constitution Article 22E paragraph (1)\\n C.  1946 Constitution Article 27 paragraph (1)\\n D.  1946 Constitution Article 28C paragraph (2)\\n E.  1946 Constitution Article 28D paragraph (1)\n"
     ]
    },
    {
     "name": "stderr",
     "output_type": "stream",
     "text": [
      "/opt/conda/lib/python3.10/site-packages/langchain_core/_api/deprecation.py:189: LangChainDeprecationWarning: The function `__call__` was deprecated in LangChain 0.1.0 and will be removed in 0.2.0. Use invoke instead.\n",
      "  warn_deprecated(\n",
      "/opt/conda/lib/python3.10/site-packages/langchain_core/_api/deprecation.py:189: LangChainDeprecationWarning: The function `run` was deprecated in LangChain 0.1.0 and will be removed in 0.2.0. Use invoke instead.\n",
      "  warn_deprecated(\n",
      "/opt/conda/lib/python3.10/site-packages/langchain_core/_api/deprecation.py:189: LangChainDeprecationWarning: The function `__call__` was deprecated in LangChain 0.1.0 and will be removed in 0.2.0. Use invoke instead.\n",
      "  warn_deprecated(\n",
      "/opt/conda/lib/python3.10/site-packages/langchain_core/_api/deprecation.py:189: LangChainDeprecationWarning: The function `__call__` was deprecated in LangChain 0.1.0 and will be removed in 0.2.0. Use invoke instead.\n",
      "  warn_deprecated(\n"
     ]
    },
    {
     "name": "stdout",
     "output_type": "stream",
     "text": [
      " B. 1946 Constitution Article 22E paragraph (1)\n",
      "\n",
      "\n",
      "Sources:\n",
      "Time:  55.03627038002014\n",
      "==============================================\n",
      "Nomor:  98\n",
      "All citizens have the same position under the law and government and are obliged to uphold the law and government without exception, in article...\\n A.  1947 Constitution Article 18 paragraph (4)\\n B.  1947 Constitution Article 22E paragraph (1)\\n C.  1947 Constitution Article 27 paragraph (1)\\n D.  1947 Constitution Article 28C paragraph (2)\\n E.  1947 Constitution Article 28D paragraph (1)\n"
     ]
    },
    {
     "name": "stderr",
     "output_type": "stream",
     "text": [
      "/opt/conda/lib/python3.10/site-packages/langchain_core/_api/deprecation.py:189: LangChainDeprecationWarning: The function `__call__` was deprecated in LangChain 0.1.0 and will be removed in 0.2.0. Use invoke instead.\n",
      "  warn_deprecated(\n",
      "/opt/conda/lib/python3.10/site-packages/langchain_core/_api/deprecation.py:189: LangChainDeprecationWarning: The function `run` was deprecated in LangChain 0.1.0 and will be removed in 0.2.0. Use invoke instead.\n",
      "  warn_deprecated(\n",
      "/opt/conda/lib/python3.10/site-packages/langchain_core/_api/deprecation.py:189: LangChainDeprecationWarning: The function `__call__` was deprecated in LangChain 0.1.0 and will be removed in 0.2.0. Use invoke instead.\n",
      "  warn_deprecated(\n",
      "/opt/conda/lib/python3.10/site-packages/langchain_core/_api/deprecation.py:189: LangChainDeprecationWarning: The function `__call__` was deprecated in LangChain 0.1.0 and will be removed in 0.2.0. Use invoke instead.\n",
      "  warn_deprecated(\n"
     ]
    },
    {
     "name": "stdout",
     "output_type": "stream",
     "text": [
      " A. 1947 Constitution Article 18 paragraph (4)\n",
      "\n",
      "\n",
      "Sources:\n",
      "Time:  57.295756816864014\n",
      "==============================================\n",
      "Nomor:  99\n",
      "Everyone has the right to advance themselves in fighting for their rights collectively to develop their society, nation and state, as stated in article...\\n A.  1948 Constitution Article 18 paragraph (4)\\n B.  1948 Constitution Article 22E paragraph (1)\\n C.  1948 Constitution Article 27 paragraph (1)\\n D.  1948 Constitution Article 28C paragraph (2)\\n E.  1948 Constitution Article 28D paragraph (1)\n"
     ]
    },
    {
     "name": "stderr",
     "output_type": "stream",
     "text": [
      "/opt/conda/lib/python3.10/site-packages/langchain_core/_api/deprecation.py:189: LangChainDeprecationWarning: The function `__call__` was deprecated in LangChain 0.1.0 and will be removed in 0.2.0. Use invoke instead.\n",
      "  warn_deprecated(\n",
      "/opt/conda/lib/python3.10/site-packages/langchain_core/_api/deprecation.py:189: LangChainDeprecationWarning: The function `run` was deprecated in LangChain 0.1.0 and will be removed in 0.2.0. Use invoke instead.\n",
      "  warn_deprecated(\n",
      "/opt/conda/lib/python3.10/site-packages/langchain_core/_api/deprecation.py:189: LangChainDeprecationWarning: The function `__call__` was deprecated in LangChain 0.1.0 and will be removed in 0.2.0. Use invoke instead.\n",
      "  warn_deprecated(\n",
      "/opt/conda/lib/python3.10/site-packages/langchain_core/_api/deprecation.py:189: LangChainDeprecationWarning: The function `__call__` was deprecated in LangChain 0.1.0 and will be removed in 0.2.0. Use invoke instead.\n",
      "  warn_deprecated(\n"
     ]
    },
    {
     "name": "stdout",
     "output_type": "stream",
     "text": [
      " B. 1948 Constitution Article 22E paragraph (1)\n",
      "\n",
      "\n",
      "Sources:\n",
      "Time:  57.57652139663696\n",
      "==============================================\n",
      "Nomor:  100\n",
      "Every person has the right to recognition, guarantees, protection and fair legal certainty as well as equal treatment before the law, as stated in Article...\\n A.  1949 Constitution Article 18 paragraph (4)\\n B.  1949 Constitution Article 22E paragraph (1)\\n C.  1949 Constitution Article 27 paragraph (1)\\n D.  1949 Constitution Article 28C paragraph (2)\\n E.  1949 Constitution Article 28D paragraph (1)\n"
     ]
    },
    {
     "name": "stderr",
     "output_type": "stream",
     "text": [
      "/opt/conda/lib/python3.10/site-packages/langchain_core/_api/deprecation.py:189: LangChainDeprecationWarning: The function `__call__` was deprecated in LangChain 0.1.0 and will be removed in 0.2.0. Use invoke instead.\n",
      "  warn_deprecated(\n",
      "/opt/conda/lib/python3.10/site-packages/langchain_core/_api/deprecation.py:189: LangChainDeprecationWarning: The function `run` was deprecated in LangChain 0.1.0 and will be removed in 0.2.0. Use invoke instead.\n",
      "  warn_deprecated(\n",
      "/opt/conda/lib/python3.10/site-packages/langchain_core/_api/deprecation.py:189: LangChainDeprecationWarning: The function `__call__` was deprecated in LangChain 0.1.0 and will be removed in 0.2.0. Use invoke instead.\n",
      "  warn_deprecated(\n",
      "/opt/conda/lib/python3.10/site-packages/langchain_core/_api/deprecation.py:189: LangChainDeprecationWarning: The function `__call__` was deprecated in LangChain 0.1.0 and will be removed in 0.2.0. Use invoke instead.\n",
      "  warn_deprecated(\n"
     ]
    },
    {
     "name": "stdout",
     "output_type": "stream",
     "text": [
      " A. 1949 Constitution Article 18 paragraph (4)\n",
      "\n",
      "\n",
      "Sources:\n",
      "Time:  58.16520142555237\n",
      "==============================================\n",
      "CPU times: user 9h 42min 53s, sys: 31.2 s, total: 9h 43min 25s\n",
      "Wall time: 2h 29min 10s\n"
     ]
    }
   ],
   "source": [
    "%%time\n",
    "for x,y in zip(dataset.no,dataset.qa_comb):\n",
    "    llm_time_start = time.time()\n",
    "    print(\"Nomor: \",x)\n",
    "    print(y)\n",
    "    llm_ans(y)\n",
    "    llm_time_end = time.time()\n",
    "    print(\"Time: \",llm_time_end - llm_time_start)\n",
    "    print(\"==============================================\")"
   ]
  },
  {
   "cell_type": "code",
   "execution_count": 20,
   "id": "c55a59d8",
   "metadata": {
    "execution": {
     "iopub.execute_input": "2024-01-07T13:41:01.205929Z",
     "iopub.status.busy": "2024-01-07T13:41:01.205593Z",
     "iopub.status.idle": "2024-01-07T13:41:01.210608Z",
     "shell.execute_reply": "2024-01-07T13:41:01.209655Z"
    },
    "papermill": {
     "duration": 0.052179,
     "end_time": "2024-01-07T13:41:01.212638",
     "exception": false,
     "start_time": "2024-01-07T13:41:01.160459",
     "status": "completed"
    },
    "tags": []
   },
   "outputs": [
    {
     "name": "stdout",
     "output_type": "stream",
     "text": [
      "9252.18257021904\n"
     ]
    }
   ],
   "source": [
    "end = time.time()\n",
    "print(end - start)"
   ]
  }
 ],
 "metadata": {
  "kaggle": {
   "accelerator": "nvidiaTeslaT4",
   "dataSources": [
    {
     "datasetId": 3947022,
     "sourceId": 6868021,
     "sourceType": "datasetVersion"
    },
    {
     "datasetId": 3880840,
     "sourceId": 6739194,
     "sourceType": "datasetVersion"
    },
    {
     "datasetId": 3873724,
     "sourceId": 6724091,
     "sourceType": "datasetVersion"
    }
   ],
   "dockerImageVersionId": 30559,
   "isGpuEnabled": true,
   "isInternetEnabled": true,
   "language": "python",
   "sourceType": "notebook"
  },
  "kernelspec": {
   "display_name": "Python 3",
   "language": "python",
   "name": "python3"
  },
  "language_info": {
   "codemirror_mode": {
    "name": "ipython",
    "version": 3
   },
   "file_extension": ".py",
   "mimetype": "text/x-python",
   "name": "python",
   "nbconvert_exporter": "python",
   "pygments_lexer": "ipython3",
   "version": "3.10.12"
  },
  "papermill": {
   "default_parameters": {},
   "duration": 9258.896395,
   "end_time": "2024-01-07T13:41:04.259684",
   "environment_variables": {},
   "exception": null,
   "input_path": "__notebook__.ipynb",
   "output_path": "__notebook__.ipynb",
   "parameters": {},
   "start_time": "2024-01-07T11:06:45.363289",
   "version": "2.4.0"
  }
 },
 "nbformat": 4,
 "nbformat_minor": 5
}
