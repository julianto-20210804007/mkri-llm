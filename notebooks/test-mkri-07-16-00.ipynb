{
 "cells": [
  {
   "cell_type": "code",
   "execution_count": 1,
   "id": "5a6854ce",
   "metadata": {
    "execution": {
     "iopub.execute_input": "2023-11-04T04:23:10.667013Z",
     "iopub.status.busy": "2023-11-04T04:23:10.666650Z",
     "iopub.status.idle": "2023-11-04T04:23:10.676457Z",
     "shell.execute_reply": "2023-11-04T04:23:10.675573Z"
    },
    "papermill": {
     "duration": 0.018061,
     "end_time": "2023-11-04T04:23:10.678392",
     "exception": false,
     "start_time": "2023-11-04T04:23:10.660331",
     "status": "completed"
    },
    "tags": []
   },
   "outputs": [],
   "source": [
    "import time\n",
    "start = time.time()"
   ]
  },
  {
   "cell_type": "code",
   "execution_count": 2,
   "id": "112da575",
   "metadata": {
    "execution": {
     "iopub.execute_input": "2023-11-04T04:23:10.688586Z",
     "iopub.status.busy": "2023-11-04T04:23:10.688303Z",
     "iopub.status.idle": "2023-11-04T04:23:11.623177Z",
     "shell.execute_reply": "2023-11-04T04:23:11.621950Z"
    },
    "papermill": {
     "duration": 0.942355,
     "end_time": "2023-11-04T04:23:11.625521",
     "exception": false,
     "start_time": "2023-11-04T04:23:10.683166",
     "status": "completed"
    },
    "tags": []
   },
   "outputs": [
    {
     "name": "stdout",
     "output_type": "stream",
     "text": [
      "GPU 0: Tesla P100-PCIE-16GB (UUID: GPU-4e4df902-b892-025d-017f-2d12ad7d7ff1)\r\n"
     ]
    }
   ],
   "source": [
    "! nvidia-smi -L"
   ]
  },
  {
   "cell_type": "code",
   "execution_count": 3,
   "id": "17617857",
   "metadata": {
    "execution": {
     "iopub.execute_input": "2023-11-04T04:23:11.637238Z",
     "iopub.status.busy": "2023-11-04T04:23:11.636082Z",
     "iopub.status.idle": "2023-11-04T04:24:39.132676Z",
     "shell.execute_reply": "2023-11-04T04:24:39.131522Z"
    },
    "papermill": {
     "duration": 87.509005,
     "end_time": "2023-11-04T04:24:39.139267",
     "exception": false,
     "start_time": "2023-11-04T04:23:11.630262",
     "status": "completed"
    },
    "tags": []
   },
   "outputs": [
    {
     "name": "stdout",
     "output_type": "stream",
     "text": [
      "\u001b[31mERROR: pip's dependency resolver does not currently take into account all the packages that are installed. This behaviour is the source of the following dependency conflicts.\r\n",
      "dask-cudf 23.8.0 requires cupy-cuda11x>=12.0.0, which is not installed.\r\n",
      "apache-beam 2.46.0 requires dill<0.3.2,>=0.3.1.1, but you have dill 0.3.7 which is incompatible.\r\n",
      "apache-beam 2.46.0 requires pyarrow<10.0.0,>=3.0.0, but you have pyarrow 11.0.0 which is incompatible.\r\n",
      "cmudict 1.0.13 requires importlib-metadata<6.0.0,>=5.1.0, but you have importlib-metadata 6.0.1 which is incompatible.\r\n",
      "dask-cuda 23.8.0 requires dask==2023.7.1, but you have dask 2023.9.0 which is incompatible.\r\n",
      "dask-cuda 23.8.0 requires pandas<1.6.0dev0,>=1.3, but you have pandas 2.0.2 which is incompatible.\r\n",
      "dask-cudf 23.8.0 requires dask==2023.7.1, but you have dask 2023.9.0 which is incompatible.\r\n",
      "dask-cudf 23.8.0 requires pandas<1.6.0dev0,>=1.3, but you have pandas 2.0.2 which is incompatible.\r\n",
      "distributed 2023.7.1 requires dask==2023.7.1, but you have dask 2023.9.0 which is incompatible.\r\n",
      "google-cloud-pubsublite 1.8.2 requires overrides<7.0.0,>=6.0.1, but you have overrides 7.4.0 which is incompatible.\r\n",
      "jupyterlab-lsp 4.2.0 requires jupyter-lsp>=2.0.0, but you have jupyter-lsp 1.5.1 which is incompatible.\r\n",
      "kfp 2.0.1 requires google-cloud-storage<3,>=2.2.1, but you have google-cloud-storage 1.44.0 which is incompatible.\r\n",
      "kfp 2.0.1 requires kubernetes<27,>=8.0.0, but you have kubernetes 28.1.0 which is incompatible.\r\n",
      "raft-dask 23.8.0 requires dask==2023.7.1, but you have dask 2023.9.0 which is incompatible.\r\n",
      "ray 2.5.1 requires grpcio<=1.51.3,>=1.42.0; python_version >= \"3.10\" and sys_platform != \"darwin\", but you have grpcio 1.59.2 which is incompatible.\r\n",
      "yapf 0.40.1 requires importlib-metadata>=6.6.0, but you have importlib-metadata 6.0.1 which is incompatible.\u001b[0m\u001b[31m\r\n",
      "\u001b[0m\u001b[31mERROR: pip's dependency resolver does not currently take into account all the packages that are installed. This behaviour is the source of the following dependency conflicts.\r\n",
      "chromadb 0.4.15 requires grpcio>=1.58.0, but you have grpcio 1.51.3 which is incompatible.\u001b[0m\u001b[31m\r\n",
      "\u001b[0mCPU times: user 1.34 s, sys: 320 ms, total: 1.66 s\n",
      "Wall time: 1min 27s\n"
     ]
    }
   ],
   "source": [
    "%%time\n",
    "\n",
    "! pip install -qq -U langchain tiktoken pypdf chromadb faiss-gpu\n",
    "! pip install -qq -U transformers InstructorEmbedding sentence_transformers\n",
    "! pip install -qq -U bitsandbytes bitsandbytes-cuda117 "
   ]
  },
  {
   "cell_type": "code",
   "execution_count": 4,
   "id": "df6de747",
   "metadata": {
    "execution": {
     "iopub.execute_input": "2023-11-04T04:24:39.150540Z",
     "iopub.status.busy": "2023-11-04T04:24:39.150171Z",
     "iopub.status.idle": "2023-11-04T04:24:53.544904Z",
     "shell.execute_reply": "2023-11-04T04:24:53.543991Z"
    },
    "papermill": {
     "duration": 14.40312,
     "end_time": "2023-11-04T04:24:53.547257",
     "exception": false,
     "start_time": "2023-11-04T04:24:39.144137",
     "status": "completed"
    },
    "tags": []
   },
   "outputs": [
    {
     "name": "stdout",
     "output_type": "stream",
     "text": [
      "0.0.330\n"
     ]
    }
   ],
   "source": [
    "import warnings\n",
    "warnings.filterwarnings(\"ignore\")\n",
    "\n",
    "import os\n",
    "import textwrap\n",
    "import shutil\n",
    "import pandas as pd\n",
    "import glob\n",
    "\n",
    "import langchain\n",
    "from langchain.llms import HuggingFacePipeline\n",
    "\n",
    "import torch\n",
    "import transformers\n",
    "from transformers import AutoTokenizer, AutoModelForCausalLM\n",
    "from transformers import LlamaTokenizer, LlamaForCausalLM, pipeline\n",
    "\n",
    "#quantization_config = BitsAndBytesConfig(llm_int8_enable_fp32_cpu_offload=True)\n",
    "\n",
    "#os.environ['TRANSFORMERS_CACHE'] = 'cache/'\n",
    "\n",
    "print(langchain.__version__)"
   ]
  },
  {
   "cell_type": "code",
   "execution_count": 5,
   "id": "4fb951a5",
   "metadata": {
    "execution": {
     "iopub.execute_input": "2023-11-04T04:24:53.559135Z",
     "iopub.status.busy": "2023-11-04T04:24:53.558760Z",
     "iopub.status.idle": "2023-11-04T04:24:56.046611Z",
     "shell.execute_reply": "2023-11-04T04:24:56.045804Z"
    },
    "papermill": {
     "duration": 2.496662,
     "end_time": "2023-11-04T04:24:56.048994",
     "exception": false,
     "start_time": "2023-11-04T04:24:53.552332",
     "status": "completed"
    },
    "tags": []
   },
   "outputs": [],
   "source": [
    "### Multi-document retriever\n",
    "from langchain.vectorstores import Chroma, FAISS\n",
    "from langchain.text_splitter import RecursiveCharacterTextSplitter\n",
    "\n",
    "from langchain.chains import RetrievalQA, VectorDBQA\n",
    "from langchain.document_loaders import PyPDFLoader\n",
    "from langchain.document_loaders import DirectoryLoader\n",
    "\n",
    "\n",
    "from InstructorEmbedding import INSTRUCTOR\n",
    "from langchain.embeddings import HuggingFaceInstructEmbeddings"
   ]
  },
  {
   "cell_type": "code",
   "execution_count": 6,
   "id": "251019f2",
   "metadata": {
    "execution": {
     "iopub.execute_input": "2023-11-04T04:24:56.061350Z",
     "iopub.status.busy": "2023-11-04T04:24:56.060444Z",
     "iopub.status.idle": "2023-11-04T04:40:57.501282Z",
     "shell.execute_reply": "2023-11-04T04:40:57.500194Z"
    },
    "papermill": {
     "duration": 961.44946,
     "end_time": "2023-11-04T04:40:57.503670",
     "exception": false,
     "start_time": "2023-11-04T04:24:56.054210",
     "status": "completed"
    },
    "tags": []
   },
   "outputs": [
    {
     "name": "stdout",
     "output_type": "stream",
     "text": [
      "\n",
      "Downloading model:  \n",
      "\n",
      "\n"
     ]
    },
    {
     "data": {
      "application/vnd.jupyter.widget-view+json": {
       "model_id": "eea364a47f434172b0f2402a60857963",
       "version_major": 2,
       "version_minor": 0
      },
      "text/plain": [
       "Downloading (…)okenizer_config.json:   0%|          | 0.00/878 [00:00<?, ?B/s]"
      ]
     },
     "metadata": {},
     "output_type": "display_data"
    },
    {
     "data": {
      "application/vnd.jupyter.widget-view+json": {
       "model_id": "3e4525edfca6427da9310d2e4aa1659c",
       "version_major": 2,
       "version_minor": 0
      },
      "text/plain": [
       "Downloading tokenizer.model:   0%|          | 0.00/500k [00:00<?, ?B/s]"
      ]
     },
     "metadata": {},
     "output_type": "display_data"
    },
    {
     "data": {
      "application/vnd.jupyter.widget-view+json": {
       "model_id": "d6cfa9b9a5484ffc9b1e6326d1e596e3",
       "version_major": 2,
       "version_minor": 0
      },
      "text/plain": [
       "Downloading (…)cial_tokens_map.json:   0%|          | 0.00/95.0 [00:00<?, ?B/s]"
      ]
     },
     "metadata": {},
     "output_type": "display_data"
    },
    {
     "data": {
      "application/vnd.jupyter.widget-view+json": {
       "model_id": "69617bbbcd1b403fbaff3ed2371293a2",
       "version_major": 2,
       "version_minor": 0
      },
      "text/plain": [
       "Downloading (…)lve/main/config.json:   0%|          | 0.00/662 [00:00<?, ?B/s]"
      ]
     },
     "metadata": {},
     "output_type": "display_data"
    },
    {
     "data": {
      "application/vnd.jupyter.widget-view+json": {
       "model_id": "b80d83c52c074fb08c1a39b02cbf4037",
       "version_major": 2,
       "version_minor": 0
      },
      "text/plain": [
       "Downloading (…)model.bin.index.json:   0%|          | 0.00/23.9k [00:00<?, ?B/s]"
      ]
     },
     "metadata": {},
     "output_type": "display_data"
    },
    {
     "data": {
      "application/vnd.jupyter.widget-view+json": {
       "model_id": "87a74ed13aa64669a80fd6af395a5dc6",
       "version_major": 2,
       "version_minor": 0
      },
      "text/plain": [
       "Downloading shards:   0%|          | 0/4 [00:00<?, ?it/s]"
      ]
     },
     "metadata": {},
     "output_type": "display_data"
    },
    {
     "data": {
      "application/vnd.jupyter.widget-view+json": {
       "model_id": "9474213f9d0d47299cb0b49901a313e2",
       "version_major": 2,
       "version_minor": 0
      },
      "text/plain": [
       "Downloading (…)l-00001-of-00004.bin:   0%|          | 0.00/3.97G [00:00<?, ?B/s]"
      ]
     },
     "metadata": {},
     "output_type": "display_data"
    },
    {
     "data": {
      "application/vnd.jupyter.widget-view+json": {
       "model_id": "43720445a1df4702944def028c58da7c",
       "version_major": 2,
       "version_minor": 0
      },
      "text/plain": [
       "Downloading (…)l-00002-of-00004.bin:   0%|          | 0.00/3.98G [00:00<?, ?B/s]"
      ]
     },
     "metadata": {},
     "output_type": "display_data"
    },
    {
     "data": {
      "application/vnd.jupyter.widget-view+json": {
       "model_id": "5ebb651cb8874ac9b792b0e98442b897",
       "version_major": 2,
       "version_minor": 0
      },
      "text/plain": [
       "Downloading (…)l-00003-of-00004.bin:   0%|          | 0.00/3.96G [00:00<?, ?B/s]"
      ]
     },
     "metadata": {},
     "output_type": "display_data"
    },
    {
     "data": {
      "application/vnd.jupyter.widget-view+json": {
       "model_id": "514c99a4fa4a431d908b7f5519005a16",
       "version_major": 2,
       "version_minor": 0
      },
      "text/plain": [
       "Downloading (…)l-00004-of-00004.bin:   0%|          | 0.00/1.57G [00:00<?, ?B/s]"
      ]
     },
     "metadata": {},
     "output_type": "display_data"
    },
    {
     "data": {
      "application/vnd.jupyter.widget-view+json": {
       "model_id": "f3a11228a49742ab84bf3ebabacba02b",
       "version_major": 2,
       "version_minor": 0
      },
      "text/plain": [
       "Loading checkpoint shards:   0%|          | 0/4 [00:00<?, ?it/s]"
      ]
     },
     "metadata": {},
     "output_type": "display_data"
    },
    {
     "data": {
      "application/vnd.jupyter.widget-view+json": {
       "model_id": "9abf02821eb544fca7dc8d69da22f295",
       "version_major": 2,
       "version_minor": 0
      },
      "text/plain": [
       "Downloading (…)neration_config.json:   0%|          | 0.00/154 [00:00<?, ?B/s]"
      ]
     },
     "metadata": {},
     "output_type": "display_data"
    },
    {
     "name": "stdout",
     "output_type": "stream",
     "text": [
      "CPU times: user 25.1 s, sys: 35.3 s, total: 1min\n",
      "Wall time: 16min 1s\n"
     ]
    }
   ],
   "source": [
    "%%time\n",
    "print('\\nDownloading model: ', '\\n\\n')\n",
    "tokenizer = AutoTokenizer.from_pretrained(\"asyafiqe/Merak-7B-v3-Mini-Orca-Indo\", use_fast=True)\n",
    "model = AutoModelForCausalLM.from_pretrained(\"asyafiqe/Merak-7B-v3-Mini-Orca-Indo\",\n",
    "                                             load_in_8bit=True,\n",
    "                                             device_map='auto',\n",
    "                                             torch_dtype=torch.float16,\n",
    "                                             low_cpu_mem_usage=True,\n",
    "                                             #cache_dir=\"cache/\",\n",
    "                                             #offload_folder=\"save_folder\"\n",
    "#                                            rope_scaling = {'type': 'dynamic', 'factor': 2.0}\n",
    "                                            )\n",
    "max_len = 1024 # 512\n",
    "task = \"text-generation\"\n",
    "T = 0.1"
   ]
  },
  {
   "cell_type": "code",
   "execution_count": 7,
   "id": "83ba9ee2",
   "metadata": {
    "execution": {
     "iopub.execute_input": "2023-11-04T04:40:57.519720Z",
     "iopub.status.busy": "2023-11-04T04:40:57.519381Z",
     "iopub.status.idle": "2023-11-04T04:40:57.525125Z",
     "shell.execute_reply": "2023-11-04T04:40:57.524249Z"
    },
    "papermill": {
     "duration": 0.015939,
     "end_time": "2023-11-04T04:40:57.526935",
     "exception": false,
     "start_time": "2023-11-04T04:40:57.510996",
     "status": "completed"
    },
    "tags": []
   },
   "outputs": [],
   "source": [
    "pipe = pipeline(\n",
    "    task=task,\n",
    "    model=model, \n",
    "    tokenizer=tokenizer, \n",
    "    max_length=max_len,\n",
    "    temperature=T,\n",
    "    top_p=0.95,\n",
    "    repetition_penalty=1.15,\n",
    "    max_new_tokens=1024\n",
    ")\n",
    "\n",
    "llm = HuggingFacePipeline(pipeline=pipe)"
   ]
  },
  {
   "cell_type": "code",
   "execution_count": 8,
   "id": "36d3e3c5",
   "metadata": {
    "execution": {
     "iopub.execute_input": "2023-11-04T04:40:57.543064Z",
     "iopub.status.busy": "2023-11-04T04:40:57.542627Z",
     "iopub.status.idle": "2023-11-04T04:40:57.549759Z",
     "shell.execute_reply": "2023-11-04T04:40:57.548865Z"
    },
    "papermill": {
     "duration": 0.017297,
     "end_time": "2023-11-04T04:40:57.551600",
     "exception": false,
     "start_time": "2023-11-04T04:40:57.534303",
     "status": "completed"
    },
    "tags": []
   },
   "outputs": [
    {
     "data": {
      "text/plain": [
       "HuggingFacePipeline(pipeline=<transformers.pipelines.text_generation.TextGenerationPipeline object at 0x79328a51f3d0>)"
      ]
     },
     "execution_count": 8,
     "metadata": {},
     "output_type": "execute_result"
    }
   ],
   "source": [
    "llm"
   ]
  },
  {
   "cell_type": "code",
   "execution_count": 9,
   "id": "117167f9",
   "metadata": {
    "execution": {
     "iopub.execute_input": "2023-11-04T04:40:57.568629Z",
     "iopub.status.busy": "2023-11-04T04:40:57.567829Z",
     "iopub.status.idle": "2023-11-04T04:42:08.010725Z",
     "shell.execute_reply": "2023-11-04T04:42:08.009471Z"
    },
    "papermill": {
     "duration": 70.48262,
     "end_time": "2023-11-04T04:42:08.041708",
     "exception": false,
     "start_time": "2023-11-04T04:40:57.559088",
     "status": "completed"
    },
    "tags": []
   },
   "outputs": [
    {
     "data": {
      "text/plain": [
       "'/kaggle/working/mk-vectordb-chroma'"
      ]
     },
     "execution_count": 9,
     "metadata": {},
     "output_type": "execute_result"
    }
   ],
   "source": [
    "shutil.copytree('/kaggle/input/mkvc-16-finalmix/kaggle/working/mk-vectordb-chroma-sixteen', '/kaggle/working/mk-vectordb-chroma')"
   ]
  },
  {
   "cell_type": "code",
   "execution_count": 10,
   "id": "baa2f09f",
   "metadata": {
    "execution": {
     "iopub.execute_input": "2023-11-04T04:42:08.127978Z",
     "iopub.status.busy": "2023-11-04T04:42:08.125196Z",
     "iopub.status.idle": "2023-11-04T04:43:02.083341Z",
     "shell.execute_reply": "2023-11-04T04:43:02.082373Z"
    },
    "papermill": {
     "duration": 54.007458,
     "end_time": "2023-11-04T04:43:02.085409",
     "exception": false,
     "start_time": "2023-11-04T04:42:08.077951",
     "status": "completed"
    },
    "tags": []
   },
   "outputs": [
    {
     "data": {
      "application/vnd.jupyter.widget-view+json": {
       "model_id": "e37d5d128ca14a2e827424c87cc44cc3",
       "version_major": 2,
       "version_minor": 0
      },
      "text/plain": [
       "Downloading (…)23897/.gitattributes:   0%|          | 0.00/1.58k [00:00<?, ?B/s]"
      ]
     },
     "metadata": {},
     "output_type": "display_data"
    },
    {
     "data": {
      "application/vnd.jupyter.widget-view+json": {
       "model_id": "7bd9aceba3a640a5b4a4642d8ae35c89",
       "version_major": 2,
       "version_minor": 0
      },
      "text/plain": [
       "Downloading (…)_Pooling/config.json:   0%|          | 0.00/144 [00:00<?, ?B/s]"
      ]
     },
     "metadata": {},
     "output_type": "display_data"
    },
    {
     "data": {
      "application/vnd.jupyter.widget-view+json": {
       "model_id": "b3cbdc6e102a45b9a20fb03a30b43be2",
       "version_major": 2,
       "version_minor": 0
      },
      "text/plain": [
       "Downloading (…)790f723897/README.md:   0%|          | 0.00/3.02k [00:00<?, ?B/s]"
      ]
     },
     "metadata": {},
     "output_type": "display_data"
    },
    {
     "data": {
      "application/vnd.jupyter.widget-view+json": {
       "model_id": "888641869fb64f63aea1ffcc4a5eea66",
       "version_major": 2,
       "version_minor": 0
      },
      "text/plain": [
       "Downloading (…)0f723897/config.json:   0%|          | 0.00/705 [00:00<?, ?B/s]"
      ]
     },
     "metadata": {},
     "output_type": "display_data"
    },
    {
     "data": {
      "application/vnd.jupyter.widget-view+json": {
       "model_id": "04f899351e7a45ec9e866008fc2c50f2",
       "version_major": 2,
       "version_minor": 0
      },
      "text/plain": [
       "Downloading (…)ce_transformers.json:   0%|          | 0.00/123 [00:00<?, ?B/s]"
      ]
     },
     "metadata": {},
     "output_type": "display_data"
    },
    {
     "data": {
      "application/vnd.jupyter.widget-view+json": {
       "model_id": "8c73bcd63c7647019d7f63f110a75938",
       "version_major": 2,
       "version_minor": 0
      },
      "text/plain": [
       "Downloading pytorch_model.bin:   0%|          | 0.00/428M [00:00<?, ?B/s]"
      ]
     },
     "metadata": {},
     "output_type": "display_data"
    },
    {
     "data": {
      "application/vnd.jupyter.widget-view+json": {
       "model_id": "9ff0f72d78f442d5a2d50a5aca8f0f20",
       "version_major": 2,
       "version_minor": 0
      },
      "text/plain": [
       "Downloading (…)nce_bert_config.json:   0%|          | 0.00/53.0 [00:00<?, ?B/s]"
      ]
     },
     "metadata": {},
     "output_type": "display_data"
    },
    {
     "data": {
      "application/vnd.jupyter.widget-view+json": {
       "model_id": "8015f9c590a246799aa5c9734340d354",
       "version_major": 2,
       "version_minor": 0
      },
      "text/plain": [
       "Downloading (…)tencepiece.bpe.model:   0%|          | 0.00/5.07M [00:00<?, ?B/s]"
      ]
     },
     "metadata": {},
     "output_type": "display_data"
    },
    {
     "data": {
      "application/vnd.jupyter.widget-view+json": {
       "model_id": "955f1ead64684fdb8c83da4696d74f9c",
       "version_major": 2,
       "version_minor": 0
      },
      "text/plain": [
       "Downloading (…)cial_tokens_map.json:   0%|          | 0.00/280 [00:00<?, ?B/s]"
      ]
     },
     "metadata": {},
     "output_type": "display_data"
    },
    {
     "data": {
      "application/vnd.jupyter.widget-view+json": {
       "model_id": "7a0cce813eee480c800c7ca6267d93c6",
       "version_major": 2,
       "version_minor": 0
      },
      "text/plain": [
       "Downloading tokenizer.json:   0%|          | 0.00/17.1M [00:00<?, ?B/s]"
      ]
     },
     "metadata": {},
     "output_type": "display_data"
    },
    {
     "data": {
      "application/vnd.jupyter.widget-view+json": {
       "model_id": "e3b4460f7794450c8f621dd9bdfbec40",
       "version_major": 2,
       "version_minor": 0
      },
      "text/plain": [
       "Downloading (…)okenizer_config.json:   0%|          | 0.00/418 [00:00<?, ?B/s]"
      ]
     },
     "metadata": {},
     "output_type": "display_data"
    },
    {
     "data": {
      "application/vnd.jupyter.widget-view+json": {
       "model_id": "3a98fc3161a24a12a8764442298ad477",
       "version_major": 2,
       "version_minor": 0
      },
      "text/plain": [
       "Downloading (…)f723897/modules.json:   0%|          | 0.00/229 [00:00<?, ?B/s]"
      ]
     },
     "metadata": {},
     "output_type": "display_data"
    },
    {
     "name": "stdout",
     "output_type": "stream",
     "text": [
      "load INSTRUCTOR_Transformer\n",
      "max_seq_length  512\n",
      "CPU times: user 3 s, sys: 1.46 s, total: 4.47 s\n",
      "Wall time: 53.9 s\n"
     ]
    }
   ],
   "source": [
    "%%time\n",
    "\n",
    "instructor_embeddings = HuggingFaceInstructEmbeddings(model_name=\"carlesoctav/indo-sentence-bert-KD\", model_kwargs={\"device\": \"cuda\"})\n",
    "\n",
    "vectordb = Chroma(persist_directory='mk-vectordb-chroma',embedding_function=instructor_embeddings,)\n",
    "#vectordb.persist()"
   ]
  },
  {
   "cell_type": "code",
   "execution_count": 11,
   "id": "ca18a1bb",
   "metadata": {
    "execution": {
     "iopub.execute_input": "2023-11-04T04:43:02.107400Z",
     "iopub.status.busy": "2023-11-04T04:43:02.106983Z",
     "iopub.status.idle": "2023-11-04T04:43:02.114067Z",
     "shell.execute_reply": "2023-11-04T04:43:02.113187Z"
    },
    "papermill": {
     "duration": 0.020344,
     "end_time": "2023-11-04T04:43:02.116154",
     "exception": false,
     "start_time": "2023-11-04T04:43:02.095810",
     "status": "completed"
    },
    "tags": []
   },
   "outputs": [
    {
     "name": "stdout",
     "output_type": "stream",
     "text": [
      "CPU times: user 693 µs, sys: 0 ns, total: 693 µs\n",
      "Wall time: 703 µs\n"
     ]
    }
   ],
   "source": [
    "%%time\n",
    "retriever = vectordb.as_retriever(search_kwargs={\"k\": 3, \"search_type\" : \"similarity\"})\n",
    "#retriever = vectordb.as_retriever(search_type=\"mmr\", search_kwargs={\"k\": 6, \"lambda_mult\": 0.25})\n",
    "\n",
    "qa_chain = RetrievalQA.from_chain_type(llm=llm, \n",
    "                                       chain_type=\"stuff\", \n",
    "                                       retriever=retriever, \n",
    "                                       return_source_documents=True,\n",
    "                                       verbose=False)"
   ]
  },
  {
   "cell_type": "code",
   "execution_count": 12,
   "id": "c7d8fe2a",
   "metadata": {
    "execution": {
     "iopub.execute_input": "2023-11-04T04:43:02.137520Z",
     "iopub.status.busy": "2023-11-04T04:43:02.137214Z",
     "iopub.status.idle": "2023-11-04T04:43:02.144221Z",
     "shell.execute_reply": "2023-11-04T04:43:02.143369Z"
    },
    "papermill": {
     "duration": 0.019965,
     "end_time": "2023-11-04T04:43:02.146189",
     "exception": false,
     "start_time": "2023-11-04T04:43:02.126224",
     "status": "completed"
    },
    "tags": []
   },
   "outputs": [
    {
     "data": {
      "text/plain": [
       "RetrievalQA(combine_documents_chain=StuffDocumentsChain(llm_chain=LLMChain(prompt=PromptTemplate(input_variables=['context', 'question'], template=\"Use the following pieces of context to answer the question at the end. If you don't know the answer, just say that you don't know, don't try to make up an answer.\\n\\n{context}\\n\\nQuestion: {question}\\nHelpful Answer:\"), llm=HuggingFacePipeline(pipeline=<transformers.pipelines.text_generation.TextGenerationPipeline object at 0x79328a51f3d0>)), document_variable_name='context'), return_source_documents=True, retriever=VectorStoreRetriever(tags=['Chroma', 'HuggingFaceInstructEmbeddings'], vectorstore=<langchain.vectorstores.chroma.Chroma object at 0x793289a95ff0>, search_kwargs={'k': 3, 'search_type': 'similarity'}))"
      ]
     },
     "execution_count": 12,
     "metadata": {},
     "output_type": "execute_result"
    }
   ],
   "source": [
    "qa_chain"
   ]
  },
  {
   "cell_type": "code",
   "execution_count": 13,
   "id": "60e26c95",
   "metadata": {
    "execution": {
     "iopub.execute_input": "2023-11-04T04:43:02.168351Z",
     "iopub.status.busy": "2023-11-04T04:43:02.168012Z",
     "iopub.status.idle": "2023-11-04T04:43:02.174468Z",
     "shell.execute_reply": "2023-11-04T04:43:02.173473Z"
    },
    "papermill": {
     "duration": 0.019851,
     "end_time": "2023-11-04T04:43:02.176470",
     "exception": false,
     "start_time": "2023-11-04T04:43:02.156619",
     "status": "completed"
    },
    "tags": []
   },
   "outputs": [],
   "source": [
    "def wrap_text_preserve_newlines(text, width=110):\n",
    "    # Split the input text into lines based on newline characters\n",
    "    lines = text.split('\\n')\n",
    "\n",
    "    # Wrap each line individually\n",
    "    wrapped_lines = [textwrap.fill(line, width=width) for line in lines]\n",
    "\n",
    "    # Join the wrapped lines back together using newline characters\n",
    "    wrapped_text = '\\n'.join(wrapped_lines)\n",
    "\n",
    "    return wrapped_text\n",
    "\n",
    "def process_llm_response(llm_response):\n",
    "    print(wrap_text_preserve_newlines(llm_response['result']))\n",
    "    print('\\n\\nSources:')\n",
    "    for source in llm_response[\"source_documents\"]:\n",
    "        print(source.metadata['source'])"
   ]
  },
  {
   "cell_type": "code",
   "execution_count": 14,
   "id": "f0664fa4",
   "metadata": {
    "execution": {
     "iopub.execute_input": "2023-11-04T04:43:02.198673Z",
     "iopub.status.busy": "2023-11-04T04:43:02.198344Z",
     "iopub.status.idle": "2023-11-04T04:43:02.203019Z",
     "shell.execute_reply": "2023-11-04T04:43:02.202082Z"
    },
    "papermill": {
     "duration": 0.017778,
     "end_time": "2023-11-04T04:43:02.204906",
     "exception": false,
     "start_time": "2023-11-04T04:43:02.187128",
     "status": "completed"
    },
    "tags": []
   },
   "outputs": [],
   "source": [
    "def llm_ans(query):\n",
    "    llm_response = qa_chain(query)\n",
    "    ans = process_llm_response(llm_response)\n",
    "    return ans"
   ]
  },
  {
   "cell_type": "code",
   "execution_count": 15,
   "id": "8b911297",
   "metadata": {
    "execution": {
     "iopub.execute_input": "2023-11-04T04:43:02.227124Z",
     "iopub.status.busy": "2023-11-04T04:43:02.226808Z",
     "iopub.status.idle": "2023-11-04T04:43:02.236383Z",
     "shell.execute_reply": "2023-11-04T04:43:02.235453Z"
    },
    "papermill": {
     "duration": 0.023786,
     "end_time": "2023-11-04T04:43:02.238909",
     "exception": false,
     "start_time": "2023-11-04T04:43:02.215123",
     "status": "completed"
    },
    "tags": []
   },
   "outputs": [
    {
     "data": {
      "text/plain": [
       "LlamaForCausalLM(\n",
       "  (model): LlamaModel(\n",
       "    (embed_tokens): Embedding(32000, 4096, padding_idx=0)\n",
       "    (layers): ModuleList(\n",
       "      (0-31): 32 x LlamaDecoderLayer(\n",
       "        (self_attn): LlamaAttention(\n",
       "          (q_proj): Linear8bitLt(in_features=4096, out_features=4096, bias=False)\n",
       "          (k_proj): Linear8bitLt(in_features=4096, out_features=4096, bias=False)\n",
       "          (v_proj): Linear8bitLt(in_features=4096, out_features=4096, bias=False)\n",
       "          (o_proj): Linear8bitLt(in_features=4096, out_features=4096, bias=False)\n",
       "          (rotary_emb): LlamaRotaryEmbedding()\n",
       "        )\n",
       "        (mlp): LlamaMLP(\n",
       "          (gate_proj): Linear8bitLt(in_features=4096, out_features=11008, bias=False)\n",
       "          (up_proj): Linear8bitLt(in_features=4096, out_features=11008, bias=False)\n",
       "          (down_proj): Linear8bitLt(in_features=11008, out_features=4096, bias=False)\n",
       "          (act_fn): SiLUActivation()\n",
       "        )\n",
       "        (input_layernorm): LlamaRMSNorm()\n",
       "        (post_attention_layernorm): LlamaRMSNorm()\n",
       "      )\n",
       "    )\n",
       "    (norm): LlamaRMSNorm()\n",
       "  )\n",
       "  (lm_head): Linear(in_features=4096, out_features=32000, bias=False)\n",
       ")"
      ]
     },
     "execution_count": 15,
     "metadata": {},
     "output_type": "execute_result"
    }
   ],
   "source": [
    "model"
   ]
  },
  {
   "cell_type": "code",
   "execution_count": 16,
   "id": "1fa28549",
   "metadata": {
    "execution": {
     "iopub.execute_input": "2023-11-04T04:43:02.265554Z",
     "iopub.status.busy": "2023-11-04T04:43:02.264896Z",
     "iopub.status.idle": "2023-11-04T04:43:02.356625Z",
     "shell.execute_reply": "2023-11-04T04:43:02.355679Z"
    },
    "papermill": {
     "duration": 0.107976,
     "end_time": "2023-11-04T04:43:02.358653",
     "exception": false,
     "start_time": "2023-11-04T04:43:02.250677",
     "status": "completed"
    },
    "tags": []
   },
   "outputs": [
    {
     "data": {
      "text/html": [
       "<div>\n",
       "<style scoped>\n",
       "    .dataframe tbody tr th:only-of-type {\n",
       "        vertical-align: middle;\n",
       "    }\n",
       "\n",
       "    .dataframe tbody tr th {\n",
       "        vertical-align: top;\n",
       "    }\n",
       "\n",
       "    .dataframe thead th {\n",
       "        text-align: right;\n",
       "    }\n",
       "</style>\n",
       "<table border=\"1\" class=\"dataframe\">\n",
       "  <thead>\n",
       "    <tr style=\"text-align: right;\">\n",
       "      <th></th>\n",
       "      <th>no</th>\n",
       "      <th>question</th>\n",
       "      <th>a</th>\n",
       "      <th>b</th>\n",
       "      <th>c</th>\n",
       "      <th>d</th>\n",
       "      <th>e</th>\n",
       "      <th>answer</th>\n",
       "      <th>explained</th>\n",
       "      <th>source</th>\n",
       "      <th>qa_comb</th>\n",
       "    </tr>\n",
       "  </thead>\n",
       "  <tbody>\n",
       "    <tr>\n",
       "      <th>0</th>\n",
       "      <td>1</td>\n",
       "      <td>Berdasarkan Pasal 24C ayat (1) Undang-Undang D...</td>\n",
       "      <td>Mahkamah Agung berwenang mengadili pada tingka...</td>\n",
       "      <td>Mahkamah Konstitusi berwenang mengadili pada t...</td>\n",
       "      <td>Kepolisian Negara Indonesia mengadili pada tin...</td>\n",
       "      <td>Presiden Republik Indonesia mengadili pada tin...</td>\n",
       "      <td>Tentara Negara Indonesia mengadili pada tingka...</td>\n",
       "      <td>b</td>\n",
       "      <td>Mahkamah Konstitusi berwenang mengadili pada t...</td>\n",
       "      <td>3282_putusan_mkri_6516.pdf</td>\n",
       "      <td>Berdasarkan Pasal 24C ayat (1) Undang-Undang D...</td>\n",
       "    </tr>\n",
       "    <tr>\n",
       "      <th>1</th>\n",
       "      <td>2</td>\n",
       "      <td>Permohonan diajukan dalam jangka waktu paling ...</td>\n",
       "      <td>Pasal 70 ayat (3) UU MK, Pasal 111 ayat (2) UU...</td>\n",
       "      <td>Pasal 74 ayat (3) UU MK, Pasal 474 ayat (2) UU...</td>\n",
       "      <td>Pasal 74 ayat (3) UU MK, Pasal 474 ayat (2) UU...</td>\n",
       "      <td>Pasal 74 ayat (3) UU MK, Pasal 474 ayat (2) UU...</td>\n",
       "      <td>Pasal 74 ayat (3) UU MK, Pasal 474 ayat (2) UU...</td>\n",
       "      <td>d</td>\n",
       "      <td>Bahwa berdasarkan Pasal 74 ayat (3) UU MK, Pas...</td>\n",
       "      <td>3270_putusan_mkri_6508.pdf</td>\n",
       "      <td>Permohonan diajukan dalam jangka waktu paling ...</td>\n",
       "    </tr>\n",
       "    <tr>\n",
       "      <th>2</th>\n",
       "      <td>3</td>\n",
       "      <td>Pasal 1 ayat (3) UUD 1945 yang berbunyi…</td>\n",
       "      <td>Negara Indonesia adalah negara Hukum</td>\n",
       "      <td>Negara Indonesia adalah negara Islam</td>\n",
       "      <td>Negara Indonesia adalah negara liberal</td>\n",
       "      <td>Negara Indonesia adalah negara kepulauan</td>\n",
       "      <td>Negara Indonesia adalah negara Kristen</td>\n",
       "      <td>a</td>\n",
       "      <td>Pasal 1 ayat (3) UUD 1945 yang berbunyi \"Negar...</td>\n",
       "      <td>1338_putusan_sidang_114%20PUU%202012%20-%20KUH...</td>\n",
       "      <td>Pasal 1 ayat (3) UUD 1945 yang berbunyi…\\n A. ...</td>\n",
       "    </tr>\n",
       "    <tr>\n",
       "      <th>3</th>\n",
       "      <td>4</td>\n",
       "      <td>Bahwa dengan demikian norma Pasal 244 KUHAP te...</td>\n",
       "      <td>Pasal 21D ayat (1) UUD 1945</td>\n",
       "      <td>Pasal 22D ayat (1) UUD 1945</td>\n",
       "      <td>Pasal 23D ayat (1) UUD 1945</td>\n",
       "      <td>Pasal 24D ayat (1) UUD 1945</td>\n",
       "      <td>Pasal 28D ayat (1) UUD 1945</td>\n",
       "      <td>e</td>\n",
       "      <td>Bahwa dengan demikian norma Pasal 244 KUHAP te...</td>\n",
       "      <td>1338_putusan_sidang_114%2520PUU%25202012%2520-...</td>\n",
       "      <td>Bahwa dengan demikian norma Pasal 244 KUHAP te...</td>\n",
       "    </tr>\n",
       "    <tr>\n",
       "      <th>4</th>\n",
       "      <td>5</td>\n",
       "      <td>Bunyi rumusan Pasal 244 KUHAP...</td>\n",
       "      <td>Keputusan perkara pidana tidak dapat diberikan...</td>\n",
       "      <td>Terhadap putusan perkara pidana yang diberikan...</td>\n",
       "      <td>Terhadap putusan perkara pidana yang diberikan...</td>\n",
       "      <td>Mengenai kedudukan hukum para Pemohon Pemerint...</td>\n",
       "      <td>NaN</td>\n",
       "      <td>c</td>\n",
       "      <td>Bunyi rumusan Pasal 244 KUHAP adalah \"Terhadap...</td>\n",
       "      <td>1338_putusan_sidang_114%2520PUU%25202012%2520-...</td>\n",
       "      <td>Bunyi rumusan Pasal 244 KUHAP...\\n A.  Keputus...</td>\n",
       "    </tr>\n",
       "    <tr>\n",
       "      <th>...</th>\n",
       "      <td>...</td>\n",
       "      <td>...</td>\n",
       "      <td>...</td>\n",
       "      <td>...</td>\n",
       "      <td>...</td>\n",
       "      <td>...</td>\n",
       "      <td>...</td>\n",
       "      <td>...</td>\n",
       "      <td>...</td>\n",
       "      <td>...</td>\n",
       "      <td>...</td>\n",
       "    </tr>\n",
       "    <tr>\n",
       "      <th>95</th>\n",
       "      <td>96</td>\n",
       "      <td>Governors, regents and mayors, respectively, a...</td>\n",
       "      <td>1945 Constitution Article 18 paragraph (4)</td>\n",
       "      <td>1945 Constitution Article 22E paragraph (1)</td>\n",
       "      <td>1945 Constitution Article 27 paragraph (1)</td>\n",
       "      <td>1945 Constitution Article 28C paragraph (2)</td>\n",
       "      <td>1945 Constitution Article 28D paragraph (1)</td>\n",
       "      <td>a</td>\n",
       "      <td>1945 Constitution Article 18 paragraph (4): Go...</td>\n",
       "      <td>526_putusan_sidang_PUTUSAN%2520PUU%2520TOLI-TO...</td>\n",
       "      <td>Governors, regents and mayors, respectively, a...</td>\n",
       "    </tr>\n",
       "    <tr>\n",
       "      <th>96</th>\n",
       "      <td>97</td>\n",
       "      <td>General elections are held directly, publicly,...</td>\n",
       "      <td>1946 Constitution Article 18 paragraph (4)</td>\n",
       "      <td>1946 Constitution Article 22E paragraph (1)</td>\n",
       "      <td>1946 Constitution Article 27 paragraph (1)</td>\n",
       "      <td>1946 Constitution Article 28C paragraph (2)</td>\n",
       "      <td>1946 Constitution Article 28D paragraph (1)</td>\n",
       "      <td>b</td>\n",
       "      <td>1945 Constitution Article 22E paragraph (1): G...</td>\n",
       "      <td>526_putusan_sidang_PUTUSAN%2520PUU%2520TOLI-TO...</td>\n",
       "      <td>General elections are held directly, publicly,...</td>\n",
       "    </tr>\n",
       "    <tr>\n",
       "      <th>97</th>\n",
       "      <td>98</td>\n",
       "      <td>All citizens have the same position under the ...</td>\n",
       "      <td>1947 Constitution Article 18 paragraph (4)</td>\n",
       "      <td>1947 Constitution Article 22E paragraph (1)</td>\n",
       "      <td>1947 Constitution Article 27 paragraph (1)</td>\n",
       "      <td>1947 Constitution Article 28C paragraph (2)</td>\n",
       "      <td>1947 Constitution Article 28D paragraph (1)</td>\n",
       "      <td>c</td>\n",
       "      <td>1945 Constitution Article 27 paragraph (1): Al...</td>\n",
       "      <td>526_putusan_sidang_PUTUSAN%2520PUU%2520TOLI-TO...</td>\n",
       "      <td>All citizens have the same position under the ...</td>\n",
       "    </tr>\n",
       "    <tr>\n",
       "      <th>98</th>\n",
       "      <td>99</td>\n",
       "      <td>Everyone has the right to advance themselves i...</td>\n",
       "      <td>1948 Constitution Article 18 paragraph (4)</td>\n",
       "      <td>1948 Constitution Article 22E paragraph (1)</td>\n",
       "      <td>1948 Constitution Article 27 paragraph (1)</td>\n",
       "      <td>1948 Constitution Article 28C paragraph (2)</td>\n",
       "      <td>1948 Constitution Article 28D paragraph (1)</td>\n",
       "      <td>d</td>\n",
       "      <td>1945 Constitution Article 28C paragraph (2): E...</td>\n",
       "      <td>526_putusan_sidang_PUTUSAN%2520PUU%2520TOLI-TO...</td>\n",
       "      <td>Everyone has the right to advance themselves i...</td>\n",
       "    </tr>\n",
       "    <tr>\n",
       "      <th>99</th>\n",
       "      <td>100</td>\n",
       "      <td>Every person has the right to recognition, gua...</td>\n",
       "      <td>1949 Constitution Article 18 paragraph (4)</td>\n",
       "      <td>1949 Constitution Article 22E paragraph (1)</td>\n",
       "      <td>1949 Constitution Article 27 paragraph (1)</td>\n",
       "      <td>1949 Constitution Article 28C paragraph (2)</td>\n",
       "      <td>1949 Constitution Article 28D paragraph (1)</td>\n",
       "      <td>e</td>\n",
       "      <td>1945 Constitution Article 28D paragraph (1): E...</td>\n",
       "      <td>526_putusan_sidang_PUTUSAN%2520PUU%2520TOLI-TO...</td>\n",
       "      <td>Every person has the right to recognition, gua...</td>\n",
       "    </tr>\n",
       "  </tbody>\n",
       "</table>\n",
       "<p>100 rows × 11 columns</p>\n",
       "</div>"
      ],
      "text/plain": [
       "     no                                           question  \\\n",
       "0     1  Berdasarkan Pasal 24C ayat (1) Undang-Undang D...   \n",
       "1     2  Permohonan diajukan dalam jangka waktu paling ...   \n",
       "2     3           Pasal 1 ayat (3) UUD 1945 yang berbunyi…   \n",
       "3     4  Bahwa dengan demikian norma Pasal 244 KUHAP te...   \n",
       "4     5                   Bunyi rumusan Pasal 244 KUHAP...   \n",
       "..  ...                                                ...   \n",
       "95   96  Governors, regents and mayors, respectively, a...   \n",
       "96   97  General elections are held directly, publicly,...   \n",
       "97   98  All citizens have the same position under the ...   \n",
       "98   99  Everyone has the right to advance themselves i...   \n",
       "99  100  Every person has the right to recognition, gua...   \n",
       "\n",
       "                                                    a  \\\n",
       "0   Mahkamah Agung berwenang mengadili pada tingka...   \n",
       "1   Pasal 70 ayat (3) UU MK, Pasal 111 ayat (2) UU...   \n",
       "2                Negara Indonesia adalah negara Hukum   \n",
       "3                         Pasal 21D ayat (1) UUD 1945   \n",
       "4   Keputusan perkara pidana tidak dapat diberikan...   \n",
       "..                                                ...   \n",
       "95         1945 Constitution Article 18 paragraph (4)   \n",
       "96         1946 Constitution Article 18 paragraph (4)   \n",
       "97         1947 Constitution Article 18 paragraph (4)   \n",
       "98         1948 Constitution Article 18 paragraph (4)   \n",
       "99         1949 Constitution Article 18 paragraph (4)   \n",
       "\n",
       "                                                    b  \\\n",
       "0   Mahkamah Konstitusi berwenang mengadili pada t...   \n",
       "1   Pasal 74 ayat (3) UU MK, Pasal 474 ayat (2) UU...   \n",
       "2                Negara Indonesia adalah negara Islam   \n",
       "3                         Pasal 22D ayat (1) UUD 1945   \n",
       "4   Terhadap putusan perkara pidana yang diberikan...   \n",
       "..                                                ...   \n",
       "95        1945 Constitution Article 22E paragraph (1)   \n",
       "96        1946 Constitution Article 22E paragraph (1)   \n",
       "97        1947 Constitution Article 22E paragraph (1)   \n",
       "98        1948 Constitution Article 22E paragraph (1)   \n",
       "99        1949 Constitution Article 22E paragraph (1)   \n",
       "\n",
       "                                                    c  \\\n",
       "0   Kepolisian Negara Indonesia mengadili pada tin...   \n",
       "1   Pasal 74 ayat (3) UU MK, Pasal 474 ayat (2) UU...   \n",
       "2              Negara Indonesia adalah negara liberal   \n",
       "3                         Pasal 23D ayat (1) UUD 1945   \n",
       "4   Terhadap putusan perkara pidana yang diberikan...   \n",
       "..                                                ...   \n",
       "95         1945 Constitution Article 27 paragraph (1)   \n",
       "96         1946 Constitution Article 27 paragraph (1)   \n",
       "97         1947 Constitution Article 27 paragraph (1)   \n",
       "98         1948 Constitution Article 27 paragraph (1)   \n",
       "99         1949 Constitution Article 27 paragraph (1)   \n",
       "\n",
       "                                                    d  \\\n",
       "0   Presiden Republik Indonesia mengadili pada tin...   \n",
       "1   Pasal 74 ayat (3) UU MK, Pasal 474 ayat (2) UU...   \n",
       "2            Negara Indonesia adalah negara kepulauan   \n",
       "3                         Pasal 24D ayat (1) UUD 1945   \n",
       "4   Mengenai kedudukan hukum para Pemohon Pemerint...   \n",
       "..                                                ...   \n",
       "95        1945 Constitution Article 28C paragraph (2)   \n",
       "96        1946 Constitution Article 28C paragraph (2)   \n",
       "97        1947 Constitution Article 28C paragraph (2)   \n",
       "98        1948 Constitution Article 28C paragraph (2)   \n",
       "99        1949 Constitution Article 28C paragraph (2)   \n",
       "\n",
       "                                                    e answer  \\\n",
       "0   Tentara Negara Indonesia mengadili pada tingka...      b   \n",
       "1   Pasal 74 ayat (3) UU MK, Pasal 474 ayat (2) UU...      d   \n",
       "2              Negara Indonesia adalah negara Kristen      a   \n",
       "3                         Pasal 28D ayat (1) UUD 1945      e   \n",
       "4                                                 NaN      c   \n",
       "..                                                ...    ...   \n",
       "95        1945 Constitution Article 28D paragraph (1)      a   \n",
       "96        1946 Constitution Article 28D paragraph (1)      b   \n",
       "97        1947 Constitution Article 28D paragraph (1)      c   \n",
       "98        1948 Constitution Article 28D paragraph (1)      d   \n",
       "99        1949 Constitution Article 28D paragraph (1)      e   \n",
       "\n",
       "                                            explained  \\\n",
       "0   Mahkamah Konstitusi berwenang mengadili pada t...   \n",
       "1   Bahwa berdasarkan Pasal 74 ayat (3) UU MK, Pas...   \n",
       "2   Pasal 1 ayat (3) UUD 1945 yang berbunyi \"Negar...   \n",
       "3   Bahwa dengan demikian norma Pasal 244 KUHAP te...   \n",
       "4   Bunyi rumusan Pasal 244 KUHAP adalah \"Terhadap...   \n",
       "..                                                ...   \n",
       "95  1945 Constitution Article 18 paragraph (4): Go...   \n",
       "96  1945 Constitution Article 22E paragraph (1): G...   \n",
       "97  1945 Constitution Article 27 paragraph (1): Al...   \n",
       "98  1945 Constitution Article 28C paragraph (2): E...   \n",
       "99  1945 Constitution Article 28D paragraph (1): E...   \n",
       "\n",
       "                                               source  \\\n",
       "0                          3282_putusan_mkri_6516.pdf   \n",
       "1                          3270_putusan_mkri_6508.pdf   \n",
       "2   1338_putusan_sidang_114%20PUU%202012%20-%20KUH...   \n",
       "3   1338_putusan_sidang_114%2520PUU%25202012%2520-...   \n",
       "4   1338_putusan_sidang_114%2520PUU%25202012%2520-...   \n",
       "..                                                ...   \n",
       "95  526_putusan_sidang_PUTUSAN%2520PUU%2520TOLI-TO...   \n",
       "96  526_putusan_sidang_PUTUSAN%2520PUU%2520TOLI-TO...   \n",
       "97  526_putusan_sidang_PUTUSAN%2520PUU%2520TOLI-TO...   \n",
       "98  526_putusan_sidang_PUTUSAN%2520PUU%2520TOLI-TO...   \n",
       "99  526_putusan_sidang_PUTUSAN%2520PUU%2520TOLI-TO...   \n",
       "\n",
       "                                              qa_comb  \n",
       "0   Berdasarkan Pasal 24C ayat (1) Undang-Undang D...  \n",
       "1   Permohonan diajukan dalam jangka waktu paling ...  \n",
       "2   Pasal 1 ayat (3) UUD 1945 yang berbunyi…\\n A. ...  \n",
       "3   Bahwa dengan demikian norma Pasal 244 KUHAP te...  \n",
       "4   Bunyi rumusan Pasal 244 KUHAP...\\n A.  Keputus...  \n",
       "..                                                ...  \n",
       "95  Governors, regents and mayors, respectively, a...  \n",
       "96  General elections are held directly, publicly,...  \n",
       "97  All citizens have the same position under the ...  \n",
       "98  Everyone has the right to advance themselves i...  \n",
       "99  Every person has the right to recognition, gua...  \n",
       "\n",
       "[100 rows x 11 columns]"
      ]
     },
     "execution_count": 16,
     "metadata": {},
     "output_type": "execute_result"
    }
   ],
   "source": [
    "dataset = pd.read_csv('/kaggle/input/mkri-qa-3/dataset.csv',sep=';')\n",
    "dataset"
   ]
  },
  {
   "cell_type": "code",
   "execution_count": 17,
   "id": "c87d46d7",
   "metadata": {
    "execution": {
     "iopub.execute_input": "2023-11-04T04:43:02.382386Z",
     "iopub.status.busy": "2023-11-04T04:43:02.382022Z",
     "iopub.status.idle": "2023-11-04T06:30:59.011126Z",
     "shell.execute_reply": "2023-11-04T06:30:59.010066Z"
    },
    "papermill": {
     "duration": 6476.643516,
     "end_time": "2023-11-04T06:30:59.013231",
     "exception": false,
     "start_time": "2023-11-04T04:43:02.369715",
     "status": "completed"
    },
    "tags": []
   },
   "outputs": [
    {
     "name": "stdout",
     "output_type": "stream",
     "text": [
      "Nomor:  1\n",
      "Berdasarkan Pasal 24C ayat (1) Undang-Undang Dasar Negara Republik Indonesia Tahun 1945 (selanjutnya disebut UUD 1945) menyatakan bahwa...\\n A.  Mahkamah Agung berwenang mengadili pada tingkat pertama dan terakhir yang putusannya bersifat final, antara lain, untuk memutus perselisihan tentang hasil pemilihan umum\\n B.  Mahkamah Konstitusi berwenang mengadili pada tingkat pertama dan terakhir yang putusannya bersifat final, antara lain, untuk memutus perselisihan tentang hasil pemilihan umum\\n C.  Kepolisian Negara Indonesia mengadili pada tingkat pertama dan terakhir yang putusannya bersifat final, antara lain, untuk memutus perselisihan tentang hasil pemilihan umum\\n D.  Presiden Republik Indonesia mengadili pada tingkat pertama dan terakhir yang putusannya bersifat final, antara lain, untuk memutus perselisihan tentang hasil pemilihan umum\\n E.  Tentara Negara Indonesia mengadili pada tingkat pertama dan terakhir yang putusannya bersifat final, antara lain, untuk memutus perselisihan tentang hasil pemilihan umum\n"
     ]
    },
    {
     "name": "stderr",
     "output_type": "stream",
     "text": [
      "Both `max_new_tokens` (=1024) and `max_length`(=1024) seem to have been set. `max_new_tokens` will take precedence. Please refer to the documentation for more information. (https://huggingface.co/docs/transformers/main/en/main_classes/text_generation)\n",
      "Both `max_new_tokens` (=1024) and `max_length`(=1024) seem to have been set. `max_new_tokens` will take precedence. Please refer to the documentation for more information. (https://huggingface.co/docs/transformers/main/en/main_classes/text_generation)\n"
     ]
    },
    {
     "name": "stdout",
     "output_type": "stream",
     "text": [
      " Pasal 24C ayat (1) Undang-Undang Dasar Negara Republik Indonesia Tahun 1945 menyatakan bahwa Mahkamah Agung\n",
      "berwenang mengadili pada tingkat pertama dan terakhir yang putusannya bersifat final, antara lain, untuk\n",
      "memutus perselisihan tentang hasil pemilihan umum.\n",
      "\n",
      "\n",
      "Sources:\n",
      "Time:  148.94682002067566\n",
      "==============================================\n",
      "Nomor:  2\n",
      "Permohonan diajukan dalam jangka waktu paling lama 3 X 24 (tiga kali dua puluh empat) jam sejak diumumkan penetapan perolehan suara hasil Pemilu Anggota DPR dan DPRD secara nasional oleh KPU, Isi dari pernyataan ini ada di pasal…\\n A.  Pasal 70 ayat (3) UU MK, Pasal 111 ayat (2) UU Pemilu, dan Pasal 6 ayat (1) PMK Nomor 2 Tahun 2018\\n B.  Pasal 74 ayat (3) UU MK, Pasal 474 ayat (2) UU Pemilu, dan Pasal 2 ayat (1) PMK Nomor 2 Tahun 2011\\n C.  Pasal 74 ayat (3) UU MK, Pasal 474 ayat (2) UU Pemilu, dan Pasal 1 ayat (1) PMK Nomor 2 Tahun 2018\\n D.  Pasal 74 ayat (3) UU MK, Pasal 474 ayat (2) UU Pemilu, dan Pasal 6 ayat (1) PMK Nomor 2 Tahun 2018\\n E.  Pasal 74 ayat (3) UU MK, Pasal 474 ayat (2) UU Pemilu, dan Pasal 4 ayat (1) PMK Nomor 2 Tahun 2018\n"
     ]
    },
    {
     "name": "stderr",
     "output_type": "stream",
     "text": [
      "Both `max_new_tokens` (=1024) and `max_length`(=1024) seem to have been set. `max_new_tokens` will take precedence. Please refer to the documentation for more information. (https://huggingface.co/docs/transformers/main/en/main_classes/text_generation)\n"
     ]
    },
    {
     "name": "stdout",
     "output_type": "stream",
     "text": [
      "\n",
      "A. Pasal 70 ayat (3) UU MK, Pasal 111 ayat (2) UU Pemilu, dan Pasal 6 ayat (1) PMK Nomor 2 Tahun 2018\n",
      "\n",
      "\n",
      "Sources:\n",
      "Time:  82.20260405540466\n",
      "==============================================\n",
      "Nomor:  3\n",
      "Pasal 1 ayat (3) UUD 1945 yang berbunyi…\\n A.  Negara Indonesia adalah negara Hukum\\n B.  Negara Indonesia adalah negara Islam\\n C.  Negara Indonesia adalah negara liberal\\n D.  Negara Indonesia adalah negara kepulauan\\n E.  Negara Indonesia adalah negara Kristen\n"
     ]
    },
    {
     "name": "stderr",
     "output_type": "stream",
     "text": [
      "Both `max_new_tokens` (=1024) and `max_length`(=1024) seem to have been set. `max_new_tokens` will take precedence. Please refer to the documentation for more information. (https://huggingface.co/docs/transformers/main/en/main_classes/text_generation)\n"
     ]
    },
    {
     "name": "stdout",
     "output_type": "stream",
     "text": [
      " Pasal 1 ayat (3) UUD 1945 menyatakan bahwa Negara Indonesia adalah negara hukum.\n",
      "\n",
      "\n",
      "Sources:\n",
      "Time:  24.451231479644775\n",
      "==============================================\n",
      "Nomor:  4\n",
      "Bahwa dengan demikian norma Pasal 244 KUHAP telah menimbulkan ketidak-pastian bagi Pemohon dan bahwa ketidak-pastian ini telah merugikan Hak Konstitusionalnya sebagaimana ditentukan dalam…\\n A.  Pasal 21D ayat (1) UUD 1945\\n B.  Pasal 22D ayat (1) UUD 1945\\n C.  Pasal 23D ayat (1) UUD 1945\\n D.  Pasal 24D ayat (1) UUD 1945\\n E.  Pasal 28D ayat (1) UUD 1945\n"
     ]
    },
    {
     "name": "stderr",
     "output_type": "stream",
     "text": [
      "Both `max_new_tokens` (=1024) and `max_length`(=1024) seem to have been set. `max_new_tokens` will take precedence. Please refer to the documentation for more information. (https://huggingface.co/docs/transformers/main/en/main_classes/text_generation)\n"
     ]
    },
    {
     "name": "stdout",
     "output_type": "stream",
     "text": [
      "\n",
      "A.  Pasal 21D ayat (1) UUD 1945\n",
      "B.  Pasal 22D ayat (1) UUD 1945\n",
      "C.  Pasal 23D ayat (1) UUD 1945\n",
      "D.  Pasal 24D ayat (1) UUD 1945\n",
      "E.  Pasal 28D ayat (1) UUD 1945\n",
      "\n",
      "\n",
      "Sources:\n",
      "Time:  103.97691345214844\n",
      "==============================================\n",
      "Nomor:  5\n",
      "Bunyi rumusan Pasal 244 KUHAP...\\n A.  Keputusan perkara pidana tidak dapat diberikan oleh Mahkamah Agung, hanya boleh diberikan oleh Mahkamah Konsitusi.\\n B.  Terhadap putusan perkara pidana yang diberikan pada tingkat terakhir oleh pengadilan lain selain daripada Mahkamah Agung, terdakwa atau Penuntut Umum dapat mengajukan permintaan pemeriksaan kasasi kepada Mahkamah Agung terhadap putusan bebas.\\n C.  Terhadap putusan perkara pidana yang diberikan pada tingkat terakhir oleh pengadilan lain selain daripada Mahkamah Agung, terdakwa atau Penuntut Umum dapat mengajukan permintaan pemeriksaan kasasi kepada Mahkamah Agung kecuali terhadap putusan bebas.\\n D.  Mengenai kedudukan hukum para Pemohon Pemerintah menyerahkansepenuhnya kepada Majelis Hakim untuk menilai dan memutusnya.\\n E.  \n"
     ]
    },
    {
     "name": "stderr",
     "output_type": "stream",
     "text": [
      "Both `max_new_tokens` (=1024) and `max_length`(=1024) seem to have been set. `max_new_tokens` will take precedence. Please refer to the documentation for more information. (https://huggingface.co/docs/transformers/main/en/main_classes/text_generation)\n"
     ]
    },
    {
     "name": "stdout",
     "output_type": "stream",
     "text": [
      " A.\n",
      "\n",
      "\n",
      "Sources:\n",
      "Time:  3.2995612621307373\n",
      "==============================================\n",
      "Nomor:  6\n",
      "Segala warga negara bersamaankedudukannya di dalam hukum dan Pemerintahan dan wajib menjunjung hukum dan pemerintahan itu dengan tidak ada kecualinya, ada pada pasal…\\n A.  Pasal 27 ayat (1)\\n B.  Pasal 28C ayat (2)\\n C.  Pasal 28D ayat (1)\\n D.  Pasal 28E ayat (3)\\n E.  Pasal 28I ayat (2)\n"
     ]
    },
    {
     "name": "stderr",
     "output_type": "stream",
     "text": [
      "Both `max_new_tokens` (=1024) and `max_length`(=1024) seem to have been set. `max_new_tokens` will take precedence. Please refer to the documentation for more information. (https://huggingface.co/docs/transformers/main/en/main_classes/text_generation)\n"
     ]
    },
    {
     "name": "stdout",
     "output_type": "stream",
     "text": [
      "\n",
      "A. Pasal 27 ayat (1) - \"Segala warga negara bersamaankedudukannya di dalam hukum dan Pemerintahan.\"\n",
      "B. Pasal 28C ayat (2) - \"Wajib menjunjung hukum dan pemerintahan itu dengan tidak ada kecuali.\"\n",
      "C. Pasal 28D ayat (1) - \"Pasal ini berlaku untuk segala warga negara yang menghadiri sekolah atau universitas\n",
      "di luar negeri.\"\n",
      "D. Pasal 28E ayat (3) - \"Pasal ini berlaku untuk segala warga negara yang bekerja di luar negeri.\"\n",
      "E. Pasal 28I ayat (2) - \"Pasal ini berlaku untuk segala warga negara yang tinggal di luar negeri.\"\n",
      "\n",
      "\n",
      "Sources:\n",
      "Time:  220.22145891189575\n",
      "==============================================\n",
      "Nomor:  7\n",
      "Setiap orang berhak untuk memajukan dirinya dalam memperjuangkan haknya secara kolektif untuk membangun masyarakat, bangsa, dan negaranya, ada pada pasal...\\n A.  Pasal 27 ayat (1)\\n B.  Pasal 28C ayat (2)\\n C.  Pasal 28D ayat (1)\\n D.  Pasal 28E ayat (3)\\n E.  Pasal 28I ayat (2)\n"
     ]
    },
    {
     "name": "stderr",
     "output_type": "stream",
     "text": [
      "Both `max_new_tokens` (=1024) and `max_length`(=1024) seem to have been set. `max_new_tokens` will take precedence. Please refer to the documentation for more information. (https://huggingface.co/docs/transformers/main/en/main_classes/text_generation)\n"
     ]
    },
    {
     "name": "stdout",
     "output_type": "stream",
     "text": [
      " Pasal 28A ayat (1)\n",
      "\n",
      "\n",
      "Sources:\n",
      "Time:  8.52252984046936\n",
      "==============================================\n",
      "Nomor:  8\n",
      "Setiap orang berhak atas pengakuan, jaminan, perlindungan dan kepastian hukum yang adil serta perlakuan yang sama di hadapan hukum, ada pada pasal…\\n A.  Pasal 27 ayat (1)\\n B.  Pasal 28C ayat (2)\\n C.  Pasal 28D ayat (1)\\n D.  Pasal 28E ayat (3)\\n E.  Pasal 28I ayat (2)\n"
     ]
    },
    {
     "name": "stderr",
     "output_type": "stream",
     "text": [
      "Both `max_new_tokens` (=1024) and `max_length`(=1024) seem to have been set. `max_new_tokens` will take precedence. Please refer to the documentation for more information. (https://huggingface.co/docs/transformers/main/en/main_classes/text_generation)\n"
     ]
    },
    {
     "name": "stdout",
     "output_type": "stream",
     "text": [
      " Pasal 28A ayat (1)\n",
      "\n",
      "\n",
      "Sources:\n",
      "Time:  8.390862703323364\n",
      "==============================================\n",
      "Nomor:  9\n",
      "Setiap orang berhak atas kebebasan berserikat, berkumpul, dan mengeluarkan pendapat, ada pada pasal…\\n A.  Pasal 27 ayat (1)\\n B.  Pasal 28C ayat (2)\\n C.  Pasal 28D ayat (1)\\n D.  Pasal 28E ayat (3)\\n E.  Pasal 28I ayat (2)\n"
     ]
    },
    {
     "name": "stderr",
     "output_type": "stream",
     "text": [
      "Both `max_new_tokens` (=1024) and `max_length`(=1024) seem to have been set. `max_new_tokens` will take precedence. Please refer to the documentation for more information. (https://huggingface.co/docs/transformers/main/en/main_classes/text_generation)\n"
     ]
    },
    {
     "name": "stdout",
     "output_type": "stream",
     "text": [
      " Pasal 28A ayat (1)\n",
      "\n",
      "\n",
      "Sources:\n",
      "Time:  7.960797548294067\n",
      "==============================================\n",
      "Nomor:  10\n",
      "Setiap orang berhak bebas dari perlakuan yang bersifat diskriminatif atas dasar apapun dan berhak mendapatkan perlindungan terhadap perlakuan yang bersifat diskriminatif itu, ada pada pasal...\\n A.  Pasal 27 ayat (1)\\n B.  Pasal 28C ayat (2)\\n C.  Pasal 28D ayat (1)\\n D.  Pasal 28E ayat (3)\\n E.  Pasal 28I ayat (2)\n"
     ]
    },
    {
     "name": "stderr",
     "output_type": "stream",
     "text": [
      "Both `max_new_tokens` (=1024) and `max_length`(=1024) seem to have been set. `max_new_tokens` will take precedence. Please refer to the documentation for more information. (https://huggingface.co/docs/transformers/main/en/main_classes/text_generation)\n"
     ]
    },
    {
     "name": "stdout",
     "output_type": "stream",
     "text": [
      " Pasal 28A ayat (1)\n",
      "\n",
      "\n",
      "Sources:\n",
      "Time:  8.809599876403809\n",
      "==============================================\n",
      "Nomor:  11\n",
      "Pemohon dapat menarik kembali permohonannya sebelum atau selama pemeriksaan Mahkamah Konstitusi dilakukan, dan penarikan kembali tersebut mengakibatkan permohonan tidak dapat diajukan kembali, ada di pasal...\\n A.  Pasal 31 Undang-Undang Nomor 24 Tahun 2003 tentang Mahkamah Konstitusi\\n B.  Pasal 32 Undang-Undang Nomor 24 Tahun 2003 tentang Mahkamah Konstitusi\\n C.  Pasal 35 Undang-Undang Nomor 23 Tahun 2003 tentang Mahkamah Konstitusi\\n D.  Pasal 35 Undang-Undang Nomor 24 Tahun 2003 tentang Mahkamah Konstitusi\\n E.  Pasal 35 Undang-Undang Nomor 25 Tahun 2003 tentang Mahkamah Konstitusi\n"
     ]
    },
    {
     "name": "stderr",
     "output_type": "stream",
     "text": [
      "Both `max_new_tokens` (=1024) and `max_length`(=1024) seem to have been set. `max_new_tokens` will take precedence. Please refer to the documentation for more information. (https://huggingface.co/docs/transformers/main/en/main_classes/text_generation)\n"
     ]
    },
    {
     "name": "stdout",
     "output_type": "stream",
     "text": [
      " The correct answer is (D) Pasal 35 Undang-Undang Nomor 24 Tahun 2003 tentang Mahkamah Konstitusi.\n",
      "\n",
      "\n",
      "Sources:\n",
      "Time:  43.52815771102905\n",
      "==============================================\n",
      "Nomor:  12\n",
      "Tentang Pemilihan Umum Anggota DPR, DPD, dan DPRD menyebutkan bahwa peserta pemilu dan warga masyarakat melalui saksi peserta pemilu yang hadir dapat mengajukan keberatan terhadap jalannya dan hasil perhitungan suara di TPS, PPS, PPK, KPUD Kota/Kabupaten, KPU Provinsi, dan KPU Pusat apabila ternyata terdapat hal-hal yang tidak sesuai dengan peraturan perundang-undangan, ada pada...\\n A.  Pasal 96 ayat (8), Pasal 95 ayat (3), Pasal 98 ayat (3), Pasal 99 ayat (5), Pasal 100 ayat (5), dan Pasal 101 ayat (6)\\n B.  Pasal 96 ayat (8), Pasal 95 ayat (1), Pasal 98 ayat (3), Pasal 99 ayat (5), Pasal 100 ayat (5), dan Pasal 101 ayat (6)\\n C.  Pasal 96 ayat (8), Pasal 96 ayat (3), Pasal 98 ayat (3), Pasal 99 ayat (5), Pasal 100 ayat (5), dan Pasal 101 ayat (6)\\n D.  Pasal 96 ayat (8), Pasal 97 ayat (9), Pasal 98 ayat (3), Pasal 99 ayat (5), Pasal 100 ayat (5), dan Pasal 101 ayat (6)\\n E.  Pasal 96 ayat (8), Pasal 97 ayat (3), Pasal 98 ayat (3), Pasal 99 ayat (5), Pasal 100 ayat (5), dan Pasal 101 ayat (6)\n"
     ]
    },
    {
     "name": "stderr",
     "output_type": "stream",
     "text": [
      "Both `max_new_tokens` (=1024) and `max_length`(=1024) seem to have been set. `max_new_tokens` will take precedence. Please refer to the documentation for more information. (https://huggingface.co/docs/transformers/main/en/main_classes/text_generation)\n"
     ]
    },
    {
     "name": "stdout",
     "output_type": "stream",
     "text": [
      "\n",
      "A. Pasal 96 ayat (8), Pasal 95 ayat (3), Pasal 98 ayat (3), Pasal 99 ayat (5), Pasal 100 ayat (5), dan Pasal\n",
      "101 ayat (6).\n",
      "\n",
      "\n",
      "Sources:\n",
      "Time:  103.13747096061707\n",
      "==============================================\n",
      "Nomor:  13\n",
      "Pada pokoknya menyebutkan permohonan hanya dapat dilakukan terhadap Penetapan hasil Pemilihan Umum yang dilakukan secara nasional oleh Komisi Pemilihan Umum yang mempengaruhi terpilihnya calon anggota DPD, Penentuan pasangan calon Presiden dan Wakil Presiden dan Perolehan Kursi Partai Politik, pada...\\n A.  Bahwa pasal 74 ayat (2) Undang-undang nomor 24 Tahun 2003 tentang Mahkamah Konstitusi, Undang-undang nomor 12 Tahun 2003 tentang Pemilihan Umum Anggota DPR, DPD, DPRD\\n B.  Bahwa pasal 73 ayat (2) Undang-undang nomor 24 Tahun 2003 tentang Mahkamah Konstitusi, Undang-undang nomor 12 Tahun 2003 tentang Pemilihan Umum Anggota DPR, DPD, DPRD\\n C.  Bahwa pasal 72 ayat (2) Undang-undang nomor 24 Tahun 2003 tentang Mahkamah Konstitusi, Undang-undang nomor 12 Tahun 2003 tentang Pemilihan Umum Anggota DPR, DPD, DPRD\\n D.  Bahwa pasal 71 ayat (2) Undang-undang nomor 24 Tahun 2003 tentang Mahkamah Konstitusi, Undang-undang nomor 12 Tahun 2003 tentang Pemilihan Umum Anggota DPR, DPD, DPRD\\n E.  Bahwa pasal 70 ayat (2) Undang-undang nomor 24 Tahun 2003 tentang Mahkamah Konstitusi, Undang-undang nomor 12 Tahun 2003 tentang Pemilihan Umum Anggota DPR, DPD, DPRD\n"
     ]
    },
    {
     "name": "stderr",
     "output_type": "stream",
     "text": [
      "Both `max_new_tokens` (=1024) and `max_length`(=1024) seem to have been set. `max_new_tokens` will take precedence. Please refer to the documentation for more information. (https://huggingface.co/docs/transformers/main/en/main_classes/text_generation)\n"
     ]
    },
    {
     "name": "stdout",
     "output_type": "stream",
     "text": [
      " Pasal 74 ayat (2) Undang-Undang Nomor 24 Tahun 2003 tentang Mahkamah Konstitusi mengatur bahwa permohonan\n",
      "hanya dapat dilakukan terhadap penetapan hasil pemilihan umum yang dilaksanakan secara nasional oleh Komisi\n",
      "Pemilihan Umum yang mempengaruhi terpilihnya calon anggota DPD, penentuan pasangan calon presiden dan wakil\n",
      "presiden, dan perolehan kursi partai politik.\n",
      "\n",
      "\n",
      "Sources:\n",
      "Time:  240.54196643829346\n",
      "==============================================\n",
      "Nomor:  14\n",
      "Bahwa seandainya Permohonan pemohon diterima, quod non, pasal 96 ayat (8), pasal 97 ayat (3), pasal 98 ayat (3), pasal 99 ayat (5), pasal 100 ayat (5) dan pasal 101 ayat (6) UU No. 12 tahun 2003 tentang Pemilihan Umum Anggota DPR, DPD, DPRD, berbunyi...\\n A.  Menyebutkan bahwa peserta Pemilu dan warga masyarakat yang mengikuti pemilihan umum harus warga negara Indonesia yang salah secara hukum\\n B.  Menyebutkan bahwa peserta Pemilu dan warga masyarakat melalui saksi peserta pemilu yang hadir dapat mengajukan keberatan terhadap jalannya dan hasil penghitungan suara di TPS, PPS, PPK KPUD Kota/Kabupaten, KPUD Propinsi dan KPU Pusat apabila ternyata terdapat hal-hal yang tidak sesuai dengan peraturan perundang-undangan\\n C.  Menyebutkan bahwa perhitungan suara dilakukan oleh RT/RW sekitar agar lebih baik\\n D.  Menyebutkan bahwa peserta penyedia TPU harus ada saksi dari masing-masing partai yang mengikutkan calon mereka\\n E.  Menyebutkan bahwa peserta harus sesuai dengan aturan\n"
     ]
    },
    {
     "name": "stderr",
     "output_type": "stream",
     "text": [
      "Both `max_new_tokens` (=1024) and `max_length`(=1024) seem to have been set. `max_new_tokens` will take precedence. Please refer to the documentation for more information. (https://huggingface.co/docs/transformers/main/en/main_classes/text_generation)\n"
     ]
    },
    {
     "name": "stdout",
     "output_type": "stream",
     "text": [
      "\n",
      "A. Menyebutkan bahwa peserta Pemilu dan warga masyarakat yang mengikuti pemilihan umum harus warga negara\n",
      "Indonesia yang salah secara hukum.\n",
      "\n",
      "\n",
      "Sources:\n",
      "Time:  76.48187303543091\n",
      "==============================================\n",
      "Nomor:  15\n",
      "Warga negara yang mempunyai hak pilih, pemantau pemilu dan/atau peserta pemilu dapat melaporkan pelanggaran pemilu pada setiap tahapan penyelenggaraan pemilu kepada Pengawas Pemilu (Panwaslu), ada di...\\n A.  Pasal 121 ayat (1) dan ayat (2) UU No. 12 Tahun 2003\\n B.  Pasal 122 ayat (1) dan ayat (2) UU No. 12 Tahun 2003\\n C.  Pasal 127 ayat (1) dan ayat (2) UU No. 12 Tahun 2003\\n D.  Pasal 126 ayat (1) dan ayat (2) UU No. 12 Tahun 2003\\n E.  Pasal 125 ayat (1) dan ayat (2) UU No. 12 Tahun 2003\n"
     ]
    },
    {
     "name": "stderr",
     "output_type": "stream",
     "text": [
      "Both `max_new_tokens` (=1024) and `max_length`(=1024) seem to have been set. `max_new_tokens` will take precedence. Please refer to the documentation for more information. (https://huggingface.co/docs/transformers/main/en/main_classes/text_generation)\n"
     ]
    },
    {
     "name": "stdout",
     "output_type": "stream",
     "text": [
      " Pasal 121 ayat (1) dan ayat (2) UU No. 12 Tahun 2003\n",
      "\n",
      "\n",
      "Sources:\n",
      "Time:  34.05941605567932\n",
      "==============================================\n",
      "Nomor:  16\n",
      "Laporan yang bersifat sengketa dan tidak mengandung unsur pidana diselesaikan oleh Pengawas Pemilu dan yang berunsur pidana diteruskan ke penyidik dan yang bersifat administratif diteruskan ke KPU, dinyatakan dalam…\\n A.  Pasal 128 dan 130 UU No. 12 tahun 2003\\n B.  Pasal 127 dan 130 UU No. 12 tahun 2003\\n C.  Pasal 126 dan 130 UU No. 12 tahun 2003\\n D.  Pasal 125 dan 130 UU No. 12 tahun 2003\\n E.  Pasal 124 dan 130 UU No. 12 tahun 2003\n"
     ]
    },
    {
     "name": "stderr",
     "output_type": "stream",
     "text": [
      "Both `max_new_tokens` (=1024) and `max_length`(=1024) seem to have been set. `max_new_tokens` will take precedence. Please refer to the documentation for more information. (https://huggingface.co/docs/transformers/main/en/main_classes/text_generation)\n"
     ]
    },
    {
     "name": "stdout",
     "output_type": "stream",
     "text": [
      "\n",
      "A. Pasal 128 dan 130 UU No. 12 tahun 2003\n",
      "B. Pasal 127 dan 130 UU No. 12 tahun 2003\n",
      "C. Pasal 126 dan 130 UU No. 12 tahun 2003\n",
      "D. Pasal 125 dan 130 UU No. 12 tahun 2003\n",
      "E. Pasal 124 dan 130 UU No. 12 tahun 2003\n",
      "\n",
      "\n",
      "Sources:\n",
      "Time:  156.43491339683533\n",
      "==============================================\n",
      "Nomor:  17\n",
      "Pemohon turut mencalonkan diri sebagai Calon Presiden dan atau Calon Wakil Presiden adalah berdasarkan hak dan kewajiban Pemohon sebagai warga negara Republik Indonesia yang dibenarkan, disahkan, dijamin dan dilindungi oleh, Salah satu dari daftar pasal adalah...\\n A.  Pasal 21 A ayat 1 UUD Negara RI Tahun 1945\\n B.  Pasal 20 A ayat 1 UUD Negara RI Tahun 1945\\n C.  Pembukaan UUD Negara RI Tahun 1945\\n D.  Pasal 10 A ayat 1 UUD Negara RI Tahun 1945\\n E.  Pasal 10 B ayat 1 UUD Negara RI Tahun 1945\n"
     ]
    },
    {
     "name": "stderr",
     "output_type": "stream",
     "text": [
      "Both `max_new_tokens` (=1024) and `max_length`(=1024) seem to have been set. `max_new_tokens` will take precedence. Please refer to the documentation for more information. (https://huggingface.co/docs/transformers/main/en/main_classes/text_generation)\n"
     ]
    },
    {
     "name": "stdout",
     "output_type": "stream",
     "text": [
      " The correct answer is (D) Pasal 10A ayat 1 UUD Negara RI Tahun 1945.\n",
      "\n",
      "\n",
      "Sources:\n",
      "Time:  31.08687162399292\n",
      "==============================================\n",
      "Nomor:  18\n",
      "Pemohon turut mencalonkan diri sebagai Calon Presiden dan atau Calon Wakil Presiden adalah berdasarkan hak dan kewajiban Pemohon sebagai warga negara Republik Indonesia yang dibenarkan, disahkan, dijamin dan dilindungi oleh, Salah satu dari daftar pasal adalah...\\n A.  Pasal 21 A ayat 1 UUD Negara RI Tahun 1945\\n B.  Pasal 20 A ayat 1 UUD Negara RI Tahun 1945\\n C.  Pasal 10 A ayat 1 UUD Negara RI Tahun 1945\\n D.  Pasal 10 B ayat 1 UUD Negara RI Tahun 1945\\n E.  Pasal 28 J ayat 1 UUD Negara RI Tahun 1944\n"
     ]
    },
    {
     "name": "stderr",
     "output_type": "stream",
     "text": [
      "Both `max_new_tokens` (=1024) and `max_length`(=1024) seem to have been set. `max_new_tokens` will take precedence. Please refer to the documentation for more information. (https://huggingface.co/docs/transformers/main/en/main_classes/text_generation)\n"
     ]
    },
    {
     "name": "stdout",
     "output_type": "stream",
     "text": [
      " The correct answer is (D) Pasal 10B ayat 1 UUD Negara RI Tahun 1945.\n",
      "\n",
      "\n",
      "Sources:\n",
      "Time:  31.630857706069946\n",
      "==============================================\n",
      "Nomor:  19\n",
      "Pemohon turut mencalonkan diri sebagai Calon Presiden dan atau Calon Wakil Presiden adalah berdasarkan hak dan kewajiban Pemohon sebagai warga negara Republik Indonesia yang dibenarkan, disahkan, dijamin dan dilindungi oleh, Salah satu dari daftar pasal adalah...\\n A.  Pasal 28 I ayat 2 UUD Negara RI Tahun 1945\\n B.  Pasal 21 A ayat 1 UUD Negara RI Tahun 1945\\n C.  Pasal 20 A ayat 1 UUD Negara RI Tahun 1945\\n D.  Pasal 10 A ayat 1 UUD Negara RI Tahun 1945\\n E.  Pasal 10 B ayat 1 UUD Negara RI Tahun 1945\n"
     ]
    },
    {
     "name": "stderr",
     "output_type": "stream",
     "text": [
      "Both `max_new_tokens` (=1024) and `max_length`(=1024) seem to have been set. `max_new_tokens` will take precedence. Please refer to the documentation for more information. (https://huggingface.co/docs/transformers/main/en/main_classes/text_generation)\n"
     ]
    },
    {
     "name": "stdout",
     "output_type": "stream",
     "text": [
      " The correct answer is (D) Pasal 10A ayat 1 UUD Negara RI Tahun 1945.\n",
      "\n",
      "\n",
      "Sources:\n",
      "Time:  31.607192993164062\n",
      "==============================================\n",
      "Nomor:  20\n",
      "Pemohon turut mencalonkan diri sebagai Calon Presiden dan atau Calon Wakil Presiden adalah berdasarkan hak dan kewajiban Pemohon sebagai warga negara Republik Indonesia yang dibenarkan, disahkan, dijamin dan dilindungi oleh, Salah satu dari daftar pasal adalah...\\n A.  Pasal 21 A ayat 1 UUD Negara RI Tahun 1945\\n B.  Pasal 28 H ayat 2 UUD Negara RI Tahun 1945\\n C.  Pasal 20 A ayat 1 UUD Negara RI Tahun 1945\\n D.  Pasal 2G A ayat 1 UUD Negara RI Tahun 1945\\n E.  Pasal 2X A ayat 1 UUD Negara RI Tahun 1945\n"
     ]
    },
    {
     "name": "stderr",
     "output_type": "stream",
     "text": [
      "Both `max_new_tokens` (=1024) and `max_length`(=1024) seem to have been set. `max_new_tokens` will take precedence. Please refer to the documentation for more information. (https://huggingface.co/docs/transformers/main/en/main_classes/text_generation)\n"
     ]
    },
    {
     "name": "stdout",
     "output_type": "stream",
     "text": [
      " The correct answer is (D) Pasal 2G A ayat 1 UUD Negara RI Tahun 1945.\n",
      "\n",
      "\n",
      "Sources:\n",
      "Time:  31.61437153816223\n",
      "==============================================\n",
      "Nomor:  21\n",
      "Pemohon turut mencalonkan diri sebagai Calon Presiden dan atau Calon Wakil Presiden adalah berdasarkan hak dan kewajiban Pemohon sebagai warga negara Republik Indonesia yang dibenarkan, disahkan, dijamin dan dilindungi oleh, Salah satu dari daftar pasal adalah...\\n A.  Pasal 28 D ayat 1 dan ayat 3 UUD Negara RI Tahun 1945\\n B.  Pasal 20 A ayat 1 UUD Negara RI Tahun 1945\\n C.  Pasal 21 Y ayat 1 UUD Negara RI Tahun 1945\\n D.  Pasal 20 Y ayat 1 UUD Negara RI Tahun 1945\\n E.  Pasal 21 A ayat 1 UUD Negara RI Tahun 1945\n"
     ]
    },
    {
     "name": "stderr",
     "output_type": "stream",
     "text": [
      "Both `max_new_tokens` (=1024) and `max_length`(=1024) seem to have been set. `max_new_tokens` will take precedence. Please refer to the documentation for more information. (https://huggingface.co/docs/transformers/main/en/main_classes/text_generation)\n"
     ]
    },
    {
     "name": "stdout",
     "output_type": "stream",
     "text": [
      " The correct answer is (D) Pasal 20 Y ayat 1 UUD Negara RI Tahun 1945.\n",
      "\n",
      "\n",
      "Sources:\n",
      "Time:  32.00601649284363\n",
      "==============================================\n",
      "Nomor:  22\n",
      "Pemohon turut mencalonkan diri sebagai Calon Presiden dan atau Calon Wakil Presiden adalah berdasarkan hak dan kewajiban Pemohon sebagai warga negara Republik Indonesia yang dibenarkan, disahkan, dijamin dan dilindungi oleh, Salah satu dari daftar pasal adalah...\\n A.  Pasal 21 A ayat 1 UUD Negara RI Tahun 1945\\n B.  Pasal 21 Z ayat 1 UUD Negara RI Tahun 1945\\n C.  Pasal 21 Y ayat 1 UUD Negara RI Tahun 1945\\n D.  Pasal 20 Y ayat 1 UUD Negara RI Tahun 1945\\n E.  Pasal 28 C ayat 2 UUD Negara RI Tahun 1945\n"
     ]
    },
    {
     "name": "stderr",
     "output_type": "stream",
     "text": [
      "Both `max_new_tokens` (=1024) and `max_length`(=1024) seem to have been set. `max_new_tokens` will take precedence. Please refer to the documentation for more information. (https://huggingface.co/docs/transformers/main/en/main_classes/text_generation)\n"
     ]
    },
    {
     "name": "stdout",
     "output_type": "stream",
     "text": [
      " The correct answer is (E) Pasal 28C ayat 2 UUD Negara RI Tahun 1945.\n",
      "\n",
      "\n",
      "Sources:\n",
      "Time:  31.62875485420227\n",
      "==============================================\n",
      "Nomor:  23\n",
      "Pemohon turut mencalonkan diri sebagai Calon Presiden dan atau Calon Wakil Presiden adalah berdasarkan hak dan kewajiban Pemohon sebagai warga negara Republik Indonesia yang dibenarkan, disahkan, dijamin dan dilindungi oleh, Salah satu dari daftar pasal adalah...\\n A.  Pasal 21 A ayat 1 UUD Negara RI Tahun 1945\\n B.  Pasal 21 Z ayat 1 UUD Negara RI Tahun 1945\\n C.  Pasal 21 Y ayat 1 UUD Negara RI Tahun 1945\\n D.  Pasal 20 Y ayat 1 UUD Negara RI Tahun 1945\\n E.  Pasal 27 ayat 1 ayat 3 UUD Negara RI Tahun 1945\n"
     ]
    },
    {
     "name": "stderr",
     "output_type": "stream",
     "text": [
      "Both `max_new_tokens` (=1024) and `max_length`(=1024) seem to have been set. `max_new_tokens` will take precedence. Please refer to the documentation for more information. (https://huggingface.co/docs/transformers/main/en/main_classes/text_generation)\n"
     ]
    },
    {
     "name": "stdout",
     "output_type": "stream",
     "text": [
      " The correct answer is (E) Pasal 27 ayat 1 ayat 3 UUD Negara RI Tahun 1945.\n",
      "\n",
      "\n",
      "Sources:\n",
      "Time:  34.949634313583374\n",
      "==============================================\n",
      "Nomor:  24\n",
      "Pemohon turut mencalonkan diri sebagai Calon Presiden dan atau Calon Wakil Presiden adalah berdasarkan hak dan kewajiban Pemohon sebagai warga negara Republik Indonesia yang dibenarkan, disahkan, dijamin dan dilindungi oleh, Salah satu dari daftar pasal adalah...\\n A.  Pasal 21 A ayat 1 UUD Negara RI Tahun 1945\\n B.  Pasal 21 Z ayat 1 UUD Negara RI Tahun 1945\\n C.  Pasal 21 Y ayat 1 UUD Negara RI Tahun 1945\\n D.  Pasal 1 ayat 2 UUD Negara RI Tahun 1945\\n E.  Pasal 20 Y ayat 1 UUD Negara RI Tahun 1945\n"
     ]
    },
    {
     "name": "stderr",
     "output_type": "stream",
     "text": [
      "Both `max_new_tokens` (=1024) and `max_length`(=1024) seem to have been set. `max_new_tokens` will take precedence. Please refer to the documentation for more information. (https://huggingface.co/docs/transformers/main/en/main_classes/text_generation)\n"
     ]
    },
    {
     "name": "stdout",
     "output_type": "stream",
     "text": [
      " The correct answer is (D) Pasal 1 ayat 2 UUD Negara RI Tahun 1945.\n",
      "\n",
      "\n",
      "Sources:\n",
      "Time:  29.47421956062317\n",
      "==============================================\n",
      "Nomor:  25\n",
      "Setiap orang berhak mendapat kemudahan dan perlakuan khusus untuk memperoleh kesempatan dan manfaat yang sama gunamencapai persamaan dan keadilan, ada pada...\\n A.  Undang-undang Nomor 23 tahun 2003 khususnya Pasal 5 ayat (1,2,3 dan 4)\\n B.  Pasal 21 A ayat 1 UUD Negara RI Tahun 1945\\n C.  Pasal 21 Z ayat 1 UUD Negara RI Tahun 1945\\n D.  Pasal 21 Y ayat 1 UUD Negara RI Tahun 1945\\n E.  Pasal 1 ayat 2 UUD Negara RI Tahun 1945\n"
     ]
    },
    {
     "name": "stderr",
     "output_type": "stream",
     "text": [
      "Both `max_new_tokens` (=1024) and `max_length`(=1024) seem to have been set. `max_new_tokens` will take precedence. Please refer to the documentation for more information. (https://huggingface.co/docs/transformers/main/en/main_classes/text_generation)\n"
     ]
    },
    {
     "name": "stdout",
     "output_type": "stream",
     "text": [
      "\n",
      "A) Undang-Undang Nomor 23 tahun 2003 khususnya Pasal 5 ayat (1,2,3 dan 4) menyatakan bahwa setiap orang berhak\n",
      "mendapat kemudahan dan perlakuan khusus dalam hal hak asasi manusia, termasuk kebebasan beragama, tanpa\n",
      "diskriminasi apa pun terhadap individu karena agama mereka.\n",
      "\n",
      "\n",
      "Sources:\n",
      "Time:  115.51236653327942\n",
      "==============================================\n",
      "Nomor:  26\n",
      "Setiap orang berhak mendapat kemudahan dan perlakuan khusus untuk memperoleh kesempatan dan manfaat yang sama gunamencapai persamaan dan keadilan, ada pada...\\n A.  Pasal 21 A ayat 1 UUD Negara RI Tahun 1945\\n B.  Pasal 21 Z ayat 1 UUD Negara RI Tahun 1945\\n C.  Pasal 21 Y ayat 1 UUD Negara RI Tahun 1945\\n D.  Pasal 1 ayat 2 UUD Negara RI Tahun 1945\\n E.  Undang-undang Nomor 23 tahun 2003 khususnya Pasal 1 ayat (6)\n"
     ]
    },
    {
     "name": "stderr",
     "output_type": "stream",
     "text": [
      "Both `max_new_tokens` (=1024) and `max_length`(=1024) seem to have been set. `max_new_tokens` will take precedence. Please refer to the documentation for more information. (https://huggingface.co/docs/transformers/main/en/main_classes/text_generation)\n"
     ]
    },
    {
     "name": "stdout",
     "output_type": "stream",
     "text": [
      " Saya tidak mengetahuinya.\n",
      "\n",
      "\n",
      "Sources:\n",
      "Time:  9.614633321762085\n",
      "==============================================\n",
      "Nomor:  27\n",
      "Setiap orang berhak mendapat kemudahan dan perlakuan khusus untuk memperoleh kesempatan dan manfaat yang sama gunamencapai persamaan dan keadilan, ada pada...\\n A.  Undang-undang Nomor 23 tahun 2003 khususnya Pasal 6 L\\n B.  Pasal 21 A ayat 1 UUD Negara RI Tahun 1945\\n C.  Pasal 21 Z ayat 1 UUD Negara RI Tahun 1945\\n D.  Pasal 21 Y ayat 1 UUD Negara RI Tahun 1945\\n E.  Pasal 1 ayat 2 UUD Negara RI Tahun 1945\n"
     ]
    },
    {
     "name": "stderr",
     "output_type": "stream",
     "text": [
      "Both `max_new_tokens` (=1024) and `max_length`(=1024) seem to have been set. `max_new_tokens` will take precedence. Please refer to the documentation for more information. (https://huggingface.co/docs/transformers/main/en/main_classes/text_generation)\n"
     ]
    },
    {
     "name": "stdout",
     "output_type": "stream",
     "text": [
      "\n",
      "A) Undang-Undang Nomor 23 tahun 2003 khususnya Pasal 6 L\n",
      "B) Pasal 21 A ayat 1 UUD Negara RI Tahun 1945\n",
      "C) Pasal 21 Z ayat 1 UUD Negara RI Tahun 1945\n",
      "D) Pasal 21 Y ayat 1 UUD Negara RI Tahun 1945\n",
      "E) Pasal 1 ayat 2 UUD Negara RI Tahun 1945\n",
      "\n",
      "\n",
      "Sources:\n",
      "Time:  138.08487486839294\n",
      "==============================================\n",
      "Nomor:  28\n",
      "Setiap orang berhak mendapat kemudahan dan perlakuan khusus untuk memperoleh kesempatan dan manfaat yang sama gunamencapai persamaan dan keadilan, ada pada...\\n A.  Pasal 21 A ayat 1 UUD Negara RI Tahun 1945\\n B.  Pasal 21 Z ayat 1 UUD Negara RI Tahun 1945\\n C.  Pasal 21 Y ayat 1 UUD Negara RI Tahun 1945\\n D.  Pasal 1 ayat 2 UUD Negara RI Tahun 1945\\n E.  Undang-undang Nomor 23 tahun 2003 khususnya Pasal 28 H ayat (2)\n"
     ]
    },
    {
     "name": "stderr",
     "output_type": "stream",
     "text": [
      "Both `max_new_tokens` (=1024) and `max_length`(=1024) seem to have been set. `max_new_tokens` will take precedence. Please refer to the documentation for more information. (https://huggingface.co/docs/transformers/main/en/main_classes/text_generation)\n"
     ]
    },
    {
     "name": "stdout",
     "output_type": "stream",
     "text": [
      " Saya tidak mengetahuinya.\n",
      "\n",
      "\n",
      "Sources:\n",
      "Time:  9.585817813873291\n",
      "==============================================\n",
      "Nomor:  29\n",
      "Setiap orang berhak bebas dari perlakuan yang bersifat diskriminatif atas dasar apapun dan berhak mendapatkan perlindungan terhadap perlakuan yang bersifat diskriminatif itu, ada pada...\\n A.  Undang-undang Nomor 23 Tahun 2003 khususnya Pasal 5 ayat (1,2,3 dan 4)\\n B.  Pasal 21 A ayat 1 UUD Negara RI Tahun 1945\\n C.  Pasal 21 Z ayat 1 UUD Negara RI Tahun 1945\\n D.  Pasal 21 Y ayat 1 UUD Negara RI Tahun 1945\\n E.  Pasal 1 ayat 2 UUD Negara RI Tahun 1945\n"
     ]
    },
    {
     "name": "stderr",
     "output_type": "stream",
     "text": [
      "Both `max_new_tokens` (=1024) and `max_length`(=1024) seem to have been set. `max_new_tokens` will take precedence. Please refer to the documentation for more information. (https://huggingface.co/docs/transformers/main/en/main_classes/text_generation)\n"
     ]
    },
    {
     "name": "stdout",
     "output_type": "stream",
     "text": [
      "\n",
      "A. Undang-Undang Nomor 23 Tahun 2003 khususnya Pasal 5 ayat (1,2,3 dan 4) menyatakan bahwa setiap orang berhak\n",
      "bebas dari perlakuan yang bersifat diskriminatif atas dasar apapun dan berhak mendapatkan perlindungan\n",
      "terhadap perlakuan yang bersifat diskriminatif itu.\n",
      "\n",
      "\n",
      "Sources:\n",
      "Time:  113.72996830940247\n",
      "==============================================\n",
      "Nomor:  30\n",
      "Setiap orang berhak bebas dari perlakuan yang bersifat diskriminatif atas dasar apapun dan berhak mendapatkan perlindungan terhadap perlakuan yang bersifat diskriminatif itu, ada pada...\\n A.  Pasal 21 A ayat 1 UUD Negara RI Tahun 1945\\n B.  Pasal 21 Z ayat 1 UUD Negara RI Tahun 1945\\n C.  Pasal 21 Y ayat 1 UUD Negara RI Tahun 1945\\n D.  Pasal 1 ayat 2 UUD Negara RI Tahun 1945\\n E.  Undang-undang Nomor 23 Tahun 2003 khususnya Pasal 1 ayat (6)\n"
     ]
    },
    {
     "name": "stderr",
     "output_type": "stream",
     "text": [
      "Both `max_new_tokens` (=1024) and `max_length`(=1024) seem to have been set. `max_new_tokens` will take precedence. Please refer to the documentation for more information. (https://huggingface.co/docs/transformers/main/en/main_classes/text_generation)\n"
     ]
    },
    {
     "name": "stdout",
     "output_type": "stream",
     "text": [
      "\n",
      "A. Pasal 21 A ayat 1 UUD Negara RI Tahun 1945\n",
      "\n",
      "\n",
      "Sources:\n",
      "Time:  25.168715476989746\n",
      "==============================================\n",
      "Nomor:  31\n",
      "Setiap orang berhak bebas dari perlakuan yang bersifat diskriminatif atas dasar apapun dan berhak mendapatkan perlindungan terhadap perlakuan yang bersifat diskriminatif itu, ada pada...\\n A.  Undang-undang Nomor 23 Tahun 2003 khususnya Pasal 6 I\\n B.  Pasal 21 A ayat 1 UUD Negara RI Tahun 1945\\n C.  Pasal 21 Z ayat 1 UUD Negara RI Tahun 1945\\n D.  Pasal 21 Y ayat 1 UUD Negara RI Tahun 1945\\n E.  Pasal 1 ayat 2 UUD Negara RI Tahun 1945\n"
     ]
    },
    {
     "name": "stderr",
     "output_type": "stream",
     "text": [
      "Both `max_new_tokens` (=1024) and `max_length`(=1024) seem to have been set. `max_new_tokens` will take precedence. Please refer to the documentation for more information. (https://huggingface.co/docs/transformers/main/en/main_classes/text_generation)\n"
     ]
    },
    {
     "name": "stdout",
     "output_type": "stream",
     "text": [
      "\n",
      "A. Undang-Undang Nomor 23 Tahun 2003 khususnya Pasal 6 I\n",
      "B. Pasal 21 A ayat 1 UUD Negara RI Tahun 1945\n",
      "C. Pasal 21 Z ayat 1 UUD Negara RI Tahun 1945\n",
      "D. Pasal 21 Y ayat 1 UUD Negara RI Tahun 1945\n",
      "E. Pasal 1 ayat 2 UUD Negara RI Tahun 1945\n",
      "\n",
      "\n",
      "Sources:\n",
      "Time:  139.71037602424622\n",
      "==============================================\n",
      "Nomor:  32\n",
      "Setiap orang wajib menghormati hak azasi manusia orang lain dalam tertib kehidupan bermasyarakat, berbangsa dan bernegara, ada pada...\\n A.  Undang-undang Nomor 23 Tahun 2003 khususnya Pasal 5 ayat (1, 2, 3 dan 4)\\n B.  Pasal 21 A ayat 1 UUD Negara RI Tahun 1945\\n C.  Pasal 21 Z ayat 1 UUD Negara RI Tahun 1945\\n D.  Pasal 21 Y ayat 1 UUD Negara RI Tahun 1945\\n E.  Pasal 1 ayat 2 UUD Negara RI Tahun 1945\n"
     ]
    },
    {
     "name": "stderr",
     "output_type": "stream",
     "text": [
      "Both `max_new_tokens` (=1024) and `max_length`(=1024) seem to have been set. `max_new_tokens` will take precedence. Please refer to the documentation for more information. (https://huggingface.co/docs/transformers/main/en/main_classes/text_generation)\n"
     ]
    },
    {
     "name": "stdout",
     "output_type": "stream",
     "text": [
      "\n",
      "A) Undang-Undang Nomor 23 Tahun 2003 khususnya Pasal 5 ayat (1, 2, 3 dan 4) tidak menyebutkan tentang hukum\n",
      "yang melindungi hak asasi manusia orang lain di masyarakat, berbangsa, dan bernegara.\n",
      "B) Pasal 21 Ayat 1 UUD Negara RI Tahun 1945 tidak menyebutkan tentang hukum yang melindungi hak asasi manusia\n",
      "orang lain di masyarakat, berbangsa, dan bernegara.\n",
      "C) Pasal 21 Z ayat 1 UUD Negara RI Tahun 1945 tidak menyebutkan tentang hukum yang melindungi hak asasi\n",
      "manusia orang lain di masyarakat, berbangsa, dan bernegara.\n",
      "D) Pasal 21 Y ayat 1 UUD Negara RI Tahun 1945 tidak menyebutkan tentang hukum yang melindungi hak asasi\n",
      "manusia orang lain di masyarakat, berbangsa, dan bernegara.\n",
      "E) Pasal 1 ayat 2 UUD Negara RI Tahun 1945 tidak menyebutkan tentang hukum yang melindungi hak asasi manusia\n",
      "orang lain di masyarakat, berbangsa, dan bernegara.\n",
      "\n",
      "\n",
      "Sources:\n",
      "Time:  476.26960849761963\n",
      "==============================================\n",
      "Nomor:  33\n",
      "Setiap orang wajib menghormati hak azasi manusia orang lain dalam tertib kehidupan bermasyarakat, berbangsa dan bernegara, ada pada...\\n A.  Pasal 21 A ayat 1 UUD Negara RI Tahun 1945\\n B.  Pasal 21 Z ayat 1 UUD Negara RI Tahun 1945\\n C.  Pasal 21 Y ayat 1 UUD Negara RI Tahun 1945\\n D.  Pasal 1 ayat 2 UUD Negara RI Tahun 1945\\n E.  Undang-undang Nomor 23 Tahun 2003 khususnya Pasal 1 ayat (6)\n"
     ]
    },
    {
     "name": "stderr",
     "output_type": "stream",
     "text": [
      "Both `max_new_tokens` (=1024) and `max_length`(=1024) seem to have been set. `max_new_tokens` will take precedence. Please refer to the documentation for more information. (https://huggingface.co/docs/transformers/main/en/main_classes/text_generation)\n"
     ]
    },
    {
     "name": "stdout",
     "output_type": "stream",
     "text": [
      "\n",
      "A. Pasal 21 A ayat 1 UUD Negara RI Tahun 1945\n",
      "\n",
      "\n",
      "Sources:\n",
      "Time:  24.392048597335815\n",
      "==============================================\n",
      "Nomor:  34\n",
      "Setiap orang wajib menghormati hak azasi manusia orang lain dalam tertib kehidupan bermasyarakat, berbangsa dan bernegara, ada pada...\\n A.  Undang-undang Nomor 23 Tahun 2003 khususnya Pasal 6L\\n B.  Pasal 21 A ayat 1 UUD Negara RI Tahun 1945\\n C.  Pasal 21 Z ayat 1 UUD Negara RI Tahun 1945\\n D.  Pasal 21 Y ayat 1 UUD Negara RI Tahun 1945\\n E.  Pasal 1 ayat 2 UUD Negara RI Tahun 1945\n"
     ]
    },
    {
     "name": "stderr",
     "output_type": "stream",
     "text": [
      "Both `max_new_tokens` (=1024) and `max_length`(=1024) seem to have been set. `max_new_tokens` will take precedence. Please refer to the documentation for more information. (https://huggingface.co/docs/transformers/main/en/main_classes/text_generation)\n"
     ]
    },
    {
     "name": "stdout",
     "output_type": "stream",
     "text": [
      "\n",
      "A) Undang-Undang Nomor 23 Tahun 2003 khususnya Pasal 6L menetapkan bahwa setiap individu memiliki hak untuk\n",
      "hidup dengan aman dan bebas dari penindasan, diskriminasi, dan perlakuan tidak adil apa pun. Namun, hal ini\n",
      "bukanlah undang-undang yang secara eksplisit menyatakan bahwa setiap individu harus dihormati hak asasi\n",
      "manusia orang lain. Oleh karena itu, jawaban A tidak tepat.\n",
      "B) Pasal 21 Ayat 1 UUD Negara RI Tahun 1945 menyatakan bahwa semua orang sama sebelum hukum dan merupakan hak\n",
      "mereka untuk dihargai dan dihormati. Namun, pasal tersebut tidak memberikan detail spesifik tentang cara\n",
      "membantu orang lain melestarikan hak asasi manusianya. Oleh karena itu, jawaban B juga tidak tepat.\n",
      "C) Pasal 21 Z Ayat 1 UUD Negara RI Tahun 1945 menyatakan bahwa setiap individu memiliki hak untuk mendapatkan\n",
      "perlindungan dan dukungan dari negara terhadap hak-haknya. Namun, hal ini bukanlah hak asasi manusia yang\n",
      "disebutkan dalam jawabannya. Oleh karena itu, jawaban C tidak tepat.\n",
      "D) Pasal 21 Y Ayat 1 UUD Negara RI Tahun 1945 menyatakan bahwa setiap individu memiliki hak untuk menerima\n",
      "layanan dan dukungan dari negara terhadap hak-haknya. Namun, hal ini bukanlah hak asasi manusia yang\n",
      "disebutkan dalam jawabannya. Oleh karena itu, jawaban D juga tidak tepat.\n",
      "E) Pasal 1 Ayat 2 UUD Negara RI Tahun 1945 menyatakan bahwa semua orang sama sebelum hukum dan merupakan hak\n",
      "mereka untuk dihargai dan dihormati. Namun, hal ini bukanlah hak asasi manusia yang disebutkan dalam\n",
      "jawabannya. Oleh karena itu, jawaban E juga tidak tepat.\n",
      "\n",
      "\n",
      "Sources:\n",
      "Time:  970.1912310123444\n",
      "==============================================\n",
      "Nomor:  35\n",
      "Setiap orang berhak hidup sejahtera lahir dan batin, bertempat tinggal dan mendapatkan lingkungan hidup yang baik dan sehat serta memperoleh pelayanan kesehatan, pada...\\n A.  Pasal 21 H ayat 1 (Konstitusi/UUD 1945)\\n B.  Pasal 28 H ayat 1 (Konstitusi/UUD 1945)\\n C.  Pasal 28 A ayat 1 (Konstitusi/UUD 1945)\\n D.  Pasal 28 B ayat 1 (Konstitusi/UUD 1945)\\n E.  Pasal 28 C ayat 1 (Konstitusi/UUD 1945)\n"
     ]
    },
    {
     "name": "stderr",
     "output_type": "stream",
     "text": [
      "Both `max_new_tokens` (=1024) and `max_length`(=1024) seem to have been set. `max_new_tokens` will take precedence. Please refer to the documentation for more information. (https://huggingface.co/docs/transformers/main/en/main_classes/text_generation)\n"
     ]
    },
    {
     "name": "stdout",
     "output_type": "stream",
     "text": [
      "\n",
      "A. Pasal 21 H ayat 1 Konstitusi/UUD 1945 menyatakan bahwa setiap orang berhak hidup sejahtera, termasuk hak\n",
      "untuk mengakses layanan kesehatan.\n",
      "\n",
      "\n",
      "Sources:\n",
      "Time:  63.86764574050903\n",
      "==============================================\n",
      "Nomor:  36\n",
      "Pada Pasal 51 ayat (1) Undang-undang Nomor 24 Tahun 2003 tentang Mahkamah Konstitusi. Pihak yang menganggap hak dan/atau kewenangan konstitusionalnya dirugikan oleh berlakunya suatu undang-undang adalah...\\n A.  Presiden\\n B.  Pemohon\\n C.  Wakil Presiden\\n D.  Polisi\\n E.  Tentara\n"
     ]
    },
    {
     "name": "stderr",
     "output_type": "stream",
     "text": [
      "Both `max_new_tokens` (=1024) and `max_length`(=1024) seem to have been set. `max_new_tokens` will take precedence. Please refer to the documentation for more information. (https://huggingface.co/docs/transformers/main/en/main_classes/text_generation)\n"
     ]
    },
    {
     "name": "stdout",
     "output_type": "stream",
     "text": [
      " The correct answer is \"A. President\".\n",
      "\n",
      "\n",
      "Sources:\n",
      "Time:  6.6743645668029785\n",
      "==============================================\n",
      "Nomor:  37\n",
      "Pasal 51 ayat (1) Undang-undang Nomor 24 Tahun 2003 tentang Mahkamah Konstitusi menyatakan, Pemohon adalah pihak yang menganggap hak dan/atau kewenangan konstitusionalnya dirugikan oleh berlakunya suatu undang-undang, yaitu...\\n A.  perorangan warga negara Indonesia, kesatuan masyarakat hukum adat sepanjang masih hidup dan sesuai dengan perkembangan masyarakat dan prinsip-prinsip Negara Kesatuan Republik Indonesia yang diatur dalam undang-undang, badan hukum publik atau privat, atau lembaga negara\\n B.  Perorangan warga negara Indonesia, mempunyai darah daging, atau lembaga negara\\n C.  perorangan warga negara Indonesia, bekerja didalam pemeritahan, atau lembaga negara\\n D.  perorangan warga negara Indonesia, bisa berbahasa indonesia, badan hukum publik atau privat, atau lembaga negara\\n E.  perorangan warga negara Indonesia, kriminal, badan hukum publik atau privat, atau lembaga negara\n"
     ]
    },
    {
     "name": "stderr",
     "output_type": "stream",
     "text": [
      "Both `max_new_tokens` (=1024) and `max_length`(=1024) seem to have been set. `max_new_tokens` will take precedence. Please refer to the documentation for more information. (https://huggingface.co/docs/transformers/main/en/main_classes/text_generation)\n"
     ]
    },
    {
     "name": "stdout",
     "output_type": "stream",
     "text": [
      " Pasal 51 ayat (1) Undang-Undang No. 24 tahun 2003 tentang Mahkamah Konstitusi mendefinisikan Pemohon sebagai\n",
      "orang yang menganggap hak dan/atau kewenangannya terbentur oleh berlakunya suatu undang-undang. Oleh karena\n",
      "itu, jawaban yang benar adalah A. Orang warga negara Indonesia, kesatuan masyarakat hukum adat sepanjang masih\n",
      "hidup dan sesuai dengan perkembangan masyarakat dan prinsip-prinsip Negara Kesatuan Republik Indonesia yang\n",
      "diatur dalam undang-undang, badan hukum publik atau privat, atau lembaga negara.\n",
      "\n",
      "\n",
      "Sources:\n",
      "Time:  278.6908962726593\n",
      "==============================================\n",
      "Nomor:  38\n",
      "Setiap orang berhak atas pengakuan, jaminan, perlindungan, dan kepastian hukum yang adil serta perlakuan yang sama di hadapan hukum, bunyi dari…\\n A.  Pasal 28D ayat (1) UUD 1945\\n B.  Pasal 27D ayat (1) UUD 1945\\n C.  Pasal 26D ayat (1) UUD 1945\\n D.  Pasal 25D ayat (1) UUD 1945\\n E.  Pasal 24D ayat (1) UUD 1945\n"
     ]
    },
    {
     "name": "stderr",
     "output_type": "stream",
     "text": [
      "Both `max_new_tokens` (=1024) and `max_length`(=1024) seem to have been set. `max_new_tokens` will take precedence. Please refer to the documentation for more information. (https://huggingface.co/docs/transformers/main/en/main_classes/text_generation)\n"
     ]
    },
    {
     "name": "stdout",
     "output_type": "stream",
     "text": [
      "\n",
      "A. Pasal 28D ayat (1) UUD 1945 menyatakan bahwa setiap orang mempunyai hak untuk mendapatkan pengakuan,\n",
      "jaminan, perlindungan, dan kepastian hukum yang adil serta perlakuan yang sama di hadapan hukum.\n",
      "\n",
      "\n",
      "Sources:\n",
      "Time:  79.47066259384155\n",
      "==============================================\n",
      "Nomor:  39\n",
      "Setiap orang berhak atas kebebasan meyakini kepercayaan, menyatakan pikiran dan sikap, sesuai dengan hati nuraninya, dari pasal…\\n A.  Pasal 28F ayat (2) UUD 1945\\n B.  Pasal 28A ayat (2) UUD 1945\\n C.  Pasal 28B ayat (2) UUD 1945\\n D.  Pasal 28C ayat (2) UUD 1945\\n E.  Pasal 28E ayat (2) UUD 1945\n"
     ]
    },
    {
     "name": "stderr",
     "output_type": "stream",
     "text": [
      "Both `max_new_tokens` (=1024) and `max_length`(=1024) seem to have been set. `max_new_tokens` will take precedence. Please refer to the documentation for more information. (https://huggingface.co/docs/transformers/main/en/main_classes/text_generation)\n"
     ]
    },
    {
     "name": "stdout",
     "output_type": "stream",
     "text": [
      "\n",
      "D. Pasal 28C ayat (2) UUD 1945\n",
      "\n",
      "\n",
      "Sources:\n",
      "Time:  17.532296180725098\n",
      "==============================================\n",
      "Nomor:  40\n",
      "Setiap orang berhak atas kebebasan berserikat, berkumpul dan mengeluarkan pendapat, dari pasal…\\n A.  Pasal 28A ayat (3) UUD 1945\\n B.  Pasal 28E ayat (3) UUD 1945\\n C.  Pasal 28B ayat (3) UUD 1945\\n D.  Pasal 28C ayat (3) UUD 1945\\n E.  Pasal 28D ayat (3) UUD 1945\n"
     ]
    },
    {
     "name": "stderr",
     "output_type": "stream",
     "text": [
      "Both `max_new_tokens` (=1024) and `max_length`(=1024) seem to have been set. `max_new_tokens` will take precedence. Please refer to the documentation for more information. (https://huggingface.co/docs/transformers/main/en/main_classes/text_generation)\n"
     ]
    },
    {
     "name": "stdout",
     "output_type": "stream",
     "text": [
      "\n",
      "Setiap orang berhak untuk menyampaikan pendapatnya di hadapan publik, termasuk melalui media, tanpa adanya\n",
      "hambatan apa pun yang tidak terkait dengan keamanan negara, keamanan nasional, atau kepentingan umum.\n",
      "\n",
      "\n",
      "Sources:\n",
      "Time:  62.69398355484009\n",
      "==============================================\n",
      "Nomor:  41\n",
      "Setiap orang berhak untuk berkomunikasi dan memperoleh informasi untuk mengembangkan pribadi dan lingkungan sosialnya, serta berhak untuk mencari, memperoleh, memiliki, menyimpan, mengolah, dan menyampaikan informasi dengan menggunakan segala jenis saluran yang tersedia, ada pada pasal...\\n A.  Pasal 28B UUD 1945\\n B.  Pasal 28C UUD 1945\\n C.  Pasal 28E UUD 1945\\n D.  Pasal 28E UUD 1945\\n E.  Pasal 28F UUD 1945\n"
     ]
    },
    {
     "name": "stderr",
     "output_type": "stream",
     "text": [
      "Both `max_new_tokens` (=1024) and `max_length`(=1024) seem to have been set. `max_new_tokens` will take precedence. Please refer to the documentation for more information. (https://huggingface.co/docs/transformers/main/en/main_classes/text_generation)\n"
     ]
    },
    {
     "name": "stdout",
     "output_type": "stream",
     "text": [
      "\n",
      "A. Pasal 28B UUD 1945\n",
      "\n",
      "\n",
      "Sources:\n",
      "Time:  14.64028024673462\n",
      "==============================================\n",
      "Nomor:  42\n",
      "Setiap orang yang memenuhi unsur sebagaimana dimaksud dalam Pasal 27 ayat (1), ayat (2), ayat (3), atau ayat (4) dipidana dengan pidana penjara paling lama…\\n A.  5 (lima) tahun\\n B.  6 (enam) tahun\\n C.  7 (tujuh) tahun\\n D.  8 (delapan) tahun\\n E.  9 (sembilan) tahun\n"
     ]
    },
    {
     "name": "stderr",
     "output_type": "stream",
     "text": [
      "Both `max_new_tokens` (=1024) and `max_length`(=1024) seem to have been set. `max_new_tokens` will take precedence. Please refer to the documentation for more information. (https://huggingface.co/docs/transformers/main/en/main_classes/text_generation)\n"
     ]
    },
    {
     "name": "stdout",
     "output_type": "stream",
     "text": [
      "\n",
      "A. 5 (lima) tahun\n",
      "B. 6 (enam) tahun\n",
      "C. 7 (tujuh) tahun\n",
      "D. 8 (delapan) tahun\n",
      "E. 9 (sembilan) tahun\n",
      "\n",
      "\n",
      "Sources:\n",
      "Time:  48.08039593696594\n",
      "==============================================\n",
      "Nomor:  43\n",
      "Setiap orang yang memenuhi unsur sebagaimana dimaksud dalam Pasal 27 ayat (1), ayat (2), ayat (3), atau ayat (4) dipidana dengan pidana penjara paling lama 6 (enam) tahun dan/atau denda paling banyak…\\n A.  Rp 2.000.000.000,00 (dua miliar rupiah)\\n B.  Rp 3.000.000.000,00 (tiga miliar rupiah)\\n C.  Rp 1.000.000.000,00 (satu miliar rupiah)\\n D.  Rp 4.000.000.000,00 (empat miliar rupiah)\\n E.  Rp 5.000.000.000,00 (lima miliar rupiah)\n"
     ]
    },
    {
     "name": "stderr",
     "output_type": "stream",
     "text": [
      "Both `max_new_tokens` (=1024) and `max_length`(=1024) seem to have been set. `max_new_tokens` will take precedence. Please refer to the documentation for more information. (https://huggingface.co/docs/transformers/main/en/main_classes/text_generation)\n"
     ]
    },
    {
     "name": "stdout",
     "output_type": "stream",
     "text": [
      "\n",
      "A. Rp 2.000.000.000,00 (dua miliar rupiah)\n",
      "B. Rp 3.000.000.000,00 (tiga miliar rupiah)\n",
      "C. Rp 1.000.000.000,00 (satu miliar rupiah)\n",
      "D. Rp 4.000.000.000,00 (empat miliar rupiah)\n",
      "E. Rp 5.000.000.000,00 ( Lima miliar rupiah)\n",
      "\n",
      "\n",
      "Sources:\n",
      "Time:  170.4765260219574\n",
      "==============================================\n",
      "Nomor:  44\n",
      "Undang-Undang Nomor 32 Tahun 2004, sebagaimana tertakhir telah diubah dengan…\\n A.  Undang-Undang Nomor 11 Tahun 2008\\n B.  Undang-Undang Nomor 12 Tahun 2008\\n C.  Undang-Undang Nomor 13 Tahun 2008\\n D.  Undang-Undang Nomor 14 Tahun 2008\\n E.  Undang-Undang Nomor 15 Tahun 2008\n"
     ]
    },
    {
     "name": "stderr",
     "output_type": "stream",
     "text": [
      "Both `max_new_tokens` (=1024) and `max_length`(=1024) seem to have been set. `max_new_tokens` will take precedence. Please refer to the documentation for more information. (https://huggingface.co/docs/transformers/main/en/main_classes/text_generation)\n"
     ]
    },
    {
     "name": "stdout",
     "output_type": "stream",
     "text": [
      " The correct answer is (D) Undang-Undang Nomor 14 Tahun 2008.\n",
      "\n",
      "\n",
      "Sources:\n",
      "Time:  20.2211971282959\n",
      "==============================================\n",
      "Nomor:  45\n",
      "Undang-Undang Nomor 12 Tahun 2008 tentang Perubahan Kedua Atas Undang-Undang Nomor 32 Tahun 2004 tentang Pemerintahan Daerah, dalam Pasal  236C menetapkan...\\n A.  Penanganan sengketa hasil penghitungan suara pemilihan kepala daerah dan wakil kepala daerah oleh Mahkamah Agung dialihkan kepada Mahkamah Konstitusi paling lama 18 (delapan belas) bulan sejak Undang-Undang ini diundangkan\\n B.  Mahkamah Agung berwenang mengadili pada tingkat pertama dan terakhir yang putusannya bersifat final, antara lain, untuk memutus perselisihan tentang hasil pemilihan umum\\n C.  Mahkamah Konstitusi berwenang mengadili pada tingkat pertama dan terakhir yang putusannya bersifat final, antara lain, untuk memutus perselisihan tentang hasil pemilihan umum\\n D.  Kepolisian Negara Indonesia mengadili pada tingkat pertama dan terakhir yang putusannya bersifat final, antara lain, untuk memutus perselisihan tentang hasil pemilihan umum\\n E.  Presiden Republik Indonesia mengadili pada tingkat pertama dan terakhir yang putusannya bersifat final, antara lain, untuk memutus perselisihan tentang hasil pemilihan umum\n"
     ]
    },
    {
     "name": "stderr",
     "output_type": "stream",
     "text": [
      "Both `max_new_tokens` (=1024) and `max_length`(=1024) seem to have been set. `max_new_tokens` will take precedence. Please refer to the documentation for more information. (https://huggingface.co/docs/transformers/main/en/main_classes/text_generation)\n"
     ]
    },
    {
     "name": "stdout",
     "output_type": "stream",
     "text": [
      " Menurut Undang-Undang Nomor 12 Tahun 2008, penanganan sengketa hasil penghitungan suara pemilihan kepala\n",
      "daerah dan wakil kepala daerah oleh Mahkamah Agung dialihkan kepada Mahkamah Konstitusi paling lama 18\n",
      "(delapan belas) bulan sejak Undang-Undang ini diundangkan.\n",
      "\n",
      "\n",
      "Sources:\n",
      "Time:  166.9020073413849\n",
      "==============================================\n",
      "Nomor:  46\n",
      "Gubernur, Bupati, dan walikota masing-masing sebagai kepala pemerintah daerah provinsi, kabupaten, dan kota dipilih secara demokratis, ada pada pasal…\\n A.  UU Dasar 1945 Pasal 18 ayat (4)\\n B.  UU Dasar 1945 Pasal 22E ayat (1)\\n C.  UU Dasar 1945 Pasal 27 ayat (1)\\n D.  UU Dasar 1945 Pasal 28C ayat (2)\\n E.  UU Dasar 1945 Pasal 28D ayat (1)\n"
     ]
    },
    {
     "name": "stderr",
     "output_type": "stream",
     "text": [
      "Both `max_new_tokens` (=1024) and `max_length`(=1024) seem to have been set. `max_new_tokens` will take precedence. Please refer to the documentation for more information. (https://huggingface.co/docs/transformers/main/en/main_classes/text_generation)\n"
     ]
    },
    {
     "name": "stdout",
     "output_type": "stream",
     "text": [
      "\n",
      "A. UUD 1945 Pasal 18 Ayat (4): \"Kepala Pemerintah Daerah diangkat oleh Menteri Dalam Negeri dengan persetujuan\n",
      "Presiden.\"\n",
      "B. UUD 1945 Pasal 22E Ayat (1): \"Pemilihan Gubernur, Bupati, dan Walikota dilakukan melalui pemungutan suara\n",
      "rakyat yang merata.\"\n",
      "C. UUD 1945 Pasal 27 Ayat (1): \"Gubernur, Bupati, dan Walikota mempunyai hak untuk menjadi anggota Partai\n",
      "politik.\"\n",
      "D. UUD 1945 Pasal 28C Ayat (2): \"Mereka dapat mengajukan permohonan pensiun setelah menjalankan jabatan selama\n",
      "dua periode berturut-turut.\"\n",
      "E. UUD 1945 Pasal 28D Ayat (1): \"Mereka dapat diganti oleh Presiden dalam hal perlu.\"\n",
      "\n",
      "\n",
      "Sources:\n",
      "Time:  294.2357361316681\n",
      "==============================================\n",
      "Nomor:  47\n",
      "Pemilihan umum dilaksanakan secara langsung, umum, bebas, rahasia, jujur, dan adil setiap lima tahun sekali, pada pasal…\\n A.  UU Dasar 1945 Pasal 18 ayat (4)\\n B.  UU Dasar 1945 Pasal 22E ayat (1)\\n C.  UU Dasar 1945 Pasal 27 ayat (1)\\n D.  UU Dasar 1945 Pasal 28C ayat (2)\\n E.  UU Dasar 1945 Pasal 28D ayat (1)\n"
     ]
    },
    {
     "name": "stderr",
     "output_type": "stream",
     "text": [
      "Both `max_new_tokens` (=1024) and `max_length`(=1024) seem to have been set. `max_new_tokens` will take precedence. Please refer to the documentation for more information. (https://huggingface.co/docs/transformers/main/en/main_classes/text_generation)\n"
     ]
    },
    {
     "name": "stdout",
     "output_type": "stream",
     "text": [
      "\n",
      "A. UU Dasar 1945 Pasal 18 ayat (4)\n",
      "B. UU Dasar 1945 Pasal 22E ayat (1)\n",
      "C. UU Dasar 1945 Pasal 27 ayat (1)\n",
      "D. UU Dasar 1945 Pasal 28C ayat (2)\n",
      "E. UU Dasar 1945 Pasal 28D ayat (1)\n",
      "\n",
      "\n",
      "Sources:\n",
      "Time:  101.50234913825989\n",
      "==============================================\n",
      "Nomor:  48\n",
      "Segala warga negara bersamaan kedudukannya didalam hukum dan pemerintahan dan wajib menjunjung hukum dan pemerintahan itu dengan tidak ada kecualinya, pada pasal…\\n A.  UU Dasar 1945 Pasal 18 ayat (4)\\n B.  UU Dasar 1945 Pasal 22E ayat (1)\\n C.  UU Dasar 1945 Pasal 27 ayat (1)\\n D.  UU Dasar 1945 Pasal 28C ayat (2)\\n E.  UU Dasar 1945 Pasal 28D ayat (1)\n"
     ]
    },
    {
     "name": "stderr",
     "output_type": "stream",
     "text": [
      "Both `max_new_tokens` (=1024) and `max_length`(=1024) seem to have been set. `max_new_tokens` will take precedence. Please refer to the documentation for more information. (https://huggingface.co/docs/transformers/main/en/main_classes/text_generation)\n"
     ]
    },
    {
     "name": "stdout",
     "output_type": "stream",
     "text": [
      "\n",
      "A. UU Dasar 1945 Pasal 18 ayat (4)\n",
      "B. UU Dasar 1945 Pasal 22E ayat (1)\n",
      "C. UU Dasar 1945 Pasal 27 ayat (1)\n",
      "D. UU Dasar 1945 Pasal 28C ayat (2)\n",
      "E. UU Dasar 1945 Pasal 28D ayat (1)\n",
      "\n",
      "\n",
      "Sources:\n",
      "Time:  104.84399962425232\n",
      "==============================================\n",
      "Nomor:  49\n",
      "Setiap orang berhak untuk memajukan dirinya dalam memperjuangkan haknya secara kolektif untuk membangun masyarakat, bangsa dan negaranya, ada pada pasal…\\n A.  UU Dasar 1945 Pasal 18 ayat (4)\\n B.  UU Dasar 1945 Pasal 22E ayat (1)\\n C.  UU Dasar 1945 Pasal 27 ayat (1)\\n D.  UU Dasar 1945 Pasal 28C ayat (2)\\n E.  UU Dasar 1945 Pasal 28D ayat (1)\n"
     ]
    },
    {
     "name": "stderr",
     "output_type": "stream",
     "text": [
      "Both `max_new_tokens` (=1024) and `max_length`(=1024) seem to have been set. `max_new_tokens` will take precedence. Please refer to the documentation for more information. (https://huggingface.co/docs/transformers/main/en/main_classes/text_generation)\n"
     ]
    },
    {
     "name": "stdout",
     "output_type": "stream",
     "text": [
      "\n",
      "A. UU Dasar 1945 Pasal 18 ayat (4) menyatakan bahwa setiap individu berhak untuk memajukan dirinya sendiri\n",
      "dalam memperjuangkan hak-haknya secara kolektif untuk membangun masyarakat, bangsa, dan negaranya.\n",
      "\n",
      "\n",
      "Sources:\n",
      "Time:  78.21818709373474\n",
      "==============================================\n",
      "Nomor:  50\n",
      "Setiap orang berhak atas pengakuan, jaminan, perlindungan, dan kepastian hukum yan adil serta perlakuan yang sama dihadapan hukum, ada pada pasal…\\n A.  UU Dasar 1945 Pasal 18 ayat (4)\\n B.  UU Dasar 1945 Pasal 22E ayat (1)\\n C.  UU Dasar 1945 Pasal 27 ayat (1)\\n D.  UU Dasar 1945 Pasal 28C ayat (2)\\n E.  UU Dasar 1945 Pasal 28D ayat (1)\n"
     ]
    },
    {
     "name": "stderr",
     "output_type": "stream",
     "text": [
      "Both `max_new_tokens` (=1024) and `max_length`(=1024) seem to have been set. `max_new_tokens` will take precedence. Please refer to the documentation for more information. (https://huggingface.co/docs/transformers/main/en/main_classes/text_generation)\n"
     ]
    },
    {
     "name": "stdout",
     "output_type": "stream",
     "text": [
      "\n",
      "A. UU Dasar 1945 Pasal 18 ayat (4) menyatakan bahwa setiap orang berhak atas pengakuan, jaminan, perlindungan,\n",
      "dan kepastian hukum yang adil serta perlakuan yang sama di hadapan hukum.\n",
      "\n",
      "\n",
      "Sources:\n",
      "Time:  72.44629240036011\n",
      "==============================================\n",
      "Nomor:  51\n",
      "Based on Article 24C paragraph (1) of the 1945 Constitution of the Republic of Indonesia (hereinafter referred to as the 1945 Constitution) states that…\\n A.  The Supreme Court has the authority to adjudicate at the first and final level whose decisions are final, among other things, to decide disputes regarding the results of general elections \\n B.  The Constitutional Court has the authority to adjudicate at the first and final level whose decisions are final, among other things, to decide disputes regarding the results of general elections \\n C.  The Indonesian National Police adjudicates at the first and final level whose decision is final, among other things, to decide disputes regarding the results of the general election\\n D.  Presiden Republik Indonesia mengadili pada tingkat pertama dan terakhir yang putusannya bersifat final, antara lain, untuk memutus perselisihan tentang hasil pemilihan umum\\n E.  The President of the Republic of Indonesia adjudicates at the first and final level whose decision is final, among other things, to decide disputes regarding the results of the general election \n"
     ]
    },
    {
     "name": "stderr",
     "output_type": "stream",
     "text": [
      "Both `max_new_tokens` (=1024) and `max_length`(=1024) seem to have been set. `max_new_tokens` will take precedence. Please refer to the documentation for more information. (https://huggingface.co/docs/transformers/main/en/main_classes/text_generation)\n"
     ]
    },
    {
     "name": "stdout",
     "output_type": "stream",
     "text": [
      "\n",
      "Based on the given text, the correct answer is B. The Constitutional Court has the authority to adjudicate at\n",
      "the first and final level whose decisions are final, among other things, to decide disputes regarding the\n",
      "results of general elections.\n",
      "\n",
      "\n",
      "Sources:\n",
      "Time:  55.78286814689636\n",
      "==============================================\n",
      "Nomor:  52\n",
      "Applications are submitted within a maximum period of 3 x 24 (three times twenty four) hours from the announcement of the determination of the vote results for the National DPR and DPRD Member Elections by the KPU. The contents of this statement are in article...\\n A.  Article 70 paragraph (3) of the Constitutional Court Law, Article 111 paragraph (2) of the Election Law, and Article 6 paragraph (1) of PMK Number 2 of 2018\\n B.  Article 74 paragraph (3) of the Constitutional Court Law, Article 474 paragraph (2) of the Election Law, and Article 2 paragraph (1) of PMK Number 2 of 2011\\n C.  Article 74 paragraph (3) of the Constitutional Court Law, Article 474 paragraph (2) of the Election Law, and Article 1 paragraph (1) of PMK Number 2 of 2018\\n D.  Pasal 74 ayat (3) UU MK, Pasal 474 ayat (2) UU Pemilu, dan Pasal 6 ayat (1) PMK Nomor 2 Tahun 2018\\n E.  Article 74 paragraph (3) of the Constitutional Court Law, Article 474 paragraph (2) of the Election Law, and Article 6 paragraph (1) of PMK Number 2 of 2018\n"
     ]
    },
    {
     "name": "stderr",
     "output_type": "stream",
     "text": [
      "Both `max_new_tokens` (=1024) and `max_length`(=1024) seem to have been set. `max_new_tokens` will take precedence. Please refer to the documentation for more information. (https://huggingface.co/docs/transformers/main/en/main_classes/text_generation)\n"
     ]
    },
    {
     "name": "stdout",
     "output_type": "stream",
     "text": [
      "\n",
      "The correct answer is E.\n",
      "\n",
      "\n",
      "Sources:\n",
      "Time:  9.19454026222229\n",
      "==============================================\n",
      "Nomor:  53\n",
      "Article 1 paragraph (3) of the 1945 Constitution which reads…\\n A.  Indonesia is a country of law\\n B.  Indonesia is an Islamic country\\n C.  Indonesia is a liberal country\\n D.  Negara Indonesia adalah negara kepulauan\\n E.  Indonesia is an archipelagic country\n"
     ]
    },
    {
     "name": "stderr",
     "output_type": "stream",
     "text": [
      "Both `max_new_tokens` (=1024) and `max_length`(=1024) seem to have been set. `max_new_tokens` will take precedence. Please refer to the documentation for more information. (https://huggingface.co/docs/transformers/main/en/main_classes/text_generation)\n"
     ]
    },
    {
     "name": "stdout",
     "output_type": "stream",
     "text": [
      " The correct answer is E. Indonesia is an archipelagic country.\n",
      "\n",
      "\n",
      "Sources:\n",
      "Time:  10.672702550888062\n",
      "==============================================\n",
      "Nomor:  54\n",
      "Whereas the norm of Article 244 of the KUHP has created uncertainty for the Petitioner and that this uncertainty has harmed his Constitutional Rights as stipulated in…\\n A.  Article 21D paragraph (1) of the 1945 Constitution\\n B.  Article 22D paragraph (1) of the 1945 Constitution\\n C.  Article 23D paragraph (1) of the 1945 Constitution\\n D.  Pasal 24D ayat (1) UUD 1945\\n E.  Article 24D paragraph (1) of the 1945 Constitution\n"
     ]
    },
    {
     "name": "stderr",
     "output_type": "stream",
     "text": [
      "Both `max_new_tokens` (=1024) and `max_length`(=1024) seem to have been set. `max_new_tokens` will take precedence. Please refer to the documentation for more information. (https://huggingface.co/docs/transformers/main/en/main_classes/text_generation)\n"
     ]
    },
    {
     "name": "stdout",
     "output_type": "stream",
     "text": [
      " The correct answer is (A).\n",
      "\n",
      "\n",
      "Sources:\n",
      "Time:  5.871869802474976\n",
      "==============================================\n",
      "Nomor:  55\n",
      "The formulation of Article 244 of the KUHP reads...\\n A.  Decisions in criminal cases cannot be given by the Supreme Court, they can only be given by the Constitutional Court.\\n B.  Regarding a criminal case decision given at the final level by a court other than the Supreme Court, the defendant or Public Prosecutor may submit a request for a cassation hearing to the Supreme Court against the acquittal decision.\\n C.  Regarding criminal case decisions rendered at the final level by courts other than the Supreme Court, the defendant or Public Prosecutor may submit a request for a cassation hearing to the Supreme Court except for acquittal decisions.\\n D.  Mengenai kedudukan hukum para Pemohon Pemerintah menyerahkansepenuhnya kepada Majelis Hakim untuk menilai dan memutusnya.\\n E.  Regarding the legal status of the Petitioners, the Government has left it entirely up to the Panel of Judges to assess and decide.\n"
     ]
    },
    {
     "name": "stderr",
     "output_type": "stream",
     "text": [
      "Both `max_new_tokens` (=1024) and `max_length`(=1024) seem to have been set. `max_new_tokens` will take precedence. Please refer to the documentation for more information. (https://huggingface.co/docs/transformers/main/en/main_classes/text_generation)\n"
     ]
    },
    {
     "name": "stdout",
     "output_type": "stream",
     "text": [
      "\n",
      "The correct answer is (B). According to Article 244 of the KUHP, regarding a criminal case decision given at\n",
      "the final level by a court other than the Supreme Court, the defendant or Public Prosecutor may submit a\n",
      "request for a cassation hearing to the Supreme Court against the acquittal decision. This means that if a\n",
      "lower court renders a guilty verdict but the defendant or Public Prosecutor believe that the verdict was\n",
      "incorrect, they have the right to appeal to the Supreme Court. However, this does not apply to all criminal\n",
      "case decisions; only those related to acquittals are exempt from this provision.\n",
      "\n",
      "\n",
      "Sources:\n",
      "Time:  147.12871956825256\n",
      "==============================================\n",
      "Nomor:  56\n",
      "All citizens are equal under the law and government and are obliged to uphold the law and government without exception, as stated in Article…\\n A.  Article 27 paragraph (1)\\n B.  Article 28C paragraph (2)\\n C.  Article 28D paragraph (1)\\n D.  Article 28E paragraph (3)\\n E.  Article 28I paragraph (2)\n"
     ]
    },
    {
     "name": "stderr",
     "output_type": "stream",
     "text": [
      "Both `max_new_tokens` (=1024) and `max_length`(=1024) seem to have been set. `max_new_tokens` will take precedence. Please refer to the documentation for more information. (https://huggingface.co/docs/transformers/main/en/main_classes/text_generation)\n"
     ]
    },
    {
     "name": "stdout",
     "output_type": "stream",
     "text": [
      " The correct answer is (A) Article 27(1).\n",
      "\n",
      "\n",
      "Sources:\n",
      "Time:  8.910874128341675\n",
      "==============================================\n",
      "Nomor:  57\n",
      "Everyone has the right to advance themselves in fighting for their rights collectively to develop their society, nation and state, as stated in Article…\\n A.  Article 27 paragraph (1)\\n B.  Article 28C paragraph (2)\\n C.  Article 28D paragraph (1)\\n D.  Article 28E paragraph (3)\\n E.  Article 28I paragraph (2)\n"
     ]
    },
    {
     "name": "stderr",
     "output_type": "stream",
     "text": [
      "Both `max_new_tokens` (=1024) and `max_length`(=1024) seem to have been set. `max_new_tokens` will take precedence. Please refer to the documentation for more information. (https://huggingface.co/docs/transformers/main/en/main_classes/text_generation)\n"
     ]
    },
    {
     "name": "stdout",
     "output_type": "stream",
     "text": [
      " The correct answer is (B).\n",
      "\n",
      "\n",
      "Sources:\n",
      "Time:  4.773754119873047\n",
      "==============================================\n",
      "Nomor:  58\n",
      "Everyone has the right to recognition, guarantees, protection and fair legal certainty as well as equal treatment before the law, as stated in Article…\\n A.  Article 27 paragraph (1)\\n B.  Article 28C paragraph (2)\\n C.  Article 28D paragraph (1)\\n D.  Article 28E paragraph (3)\\n E.  Article 28I paragraph (2)\n"
     ]
    },
    {
     "name": "stderr",
     "output_type": "stream",
     "text": [
      "Both `max_new_tokens` (=1024) and `max_length`(=1024) seem to have been set. `max_new_tokens` will take precedence. Please refer to the documentation for more information. (https://huggingface.co/docs/transformers/main/en/main_classes/text_generation)\n"
     ]
    },
    {
     "name": "stdout",
     "output_type": "stream",
     "text": [
      " The correct answer is (A) Article 27(1).\n",
      "\n",
      "\n",
      "Sources:\n",
      "Time:  9.11033844947815\n",
      "==============================================\n",
      "Nomor:  59\n",
      "Everyone has the right to freedom of association, assembly and expression of opinion, as stated in Article…\\n A.  Article 27 paragraph (1)\\n B.  Article 28C paragraph (2)\\n C.  Article 28D paragraph (1)\\n D.  Article 28E paragraph (3)\\n E.  Article 28I paragraph (2)\n"
     ]
    },
    {
     "name": "stderr",
     "output_type": "stream",
     "text": [
      "Both `max_new_tokens` (=1024) and `max_length`(=1024) seem to have been set. `max_new_tokens` will take precedence. Please refer to the documentation for more information. (https://huggingface.co/docs/transformers/main/en/main_classes/text_generation)\n"
     ]
    },
    {
     "name": "stdout",
     "output_type": "stream",
     "text": [
      " The correct answer is (A) Article 27(1).\n",
      "\n",
      "\n",
      "Sources:\n",
      "Time:  8.895970582962036\n",
      "==============================================\n",
      "Nomor:  60\n",
      "Every person has the right to be free from discriminatory treatment on any basis and has the right to receive protection against such discriminatory treatment, as stated in Article…\\n A.  Article 27 paragraph (1)\\n B.  Article 28C paragraph (2)\\n C.  Article 28D paragraph (1)\\n D.  Article 28E paragraph (3)\\n E.  Article 28I paragraph (2)\n"
     ]
    },
    {
     "name": "stderr",
     "output_type": "stream",
     "text": [
      "Both `max_new_tokens` (=1024) and `max_length`(=1024) seem to have been set. `max_new_tokens` will take precedence. Please refer to the documentation for more information. (https://huggingface.co/docs/transformers/main/en/main_classes/text_generation)\n"
     ]
    },
    {
     "name": "stdout",
     "output_type": "stream",
     "text": [
      " The correct answer is (A) Article 27(1).\n",
      "\n",
      "\n",
      "Sources:\n",
      "Time:  9.36192774772644\n",
      "==============================================\n",
      "Nomor:  61\n",
      "The applicant can withdraw his application before or during the Constitutional Court examination, and such withdrawal means that the application cannot be resubmitted, in article…\\n A.  Article 31 of Law Number 24 of 2003 concerning the Constitutional Court\\n B.  Article 32 of Law Number 24 of 2003 concerning the Constitutional Court\\n C.  Article 35 of Law Number 23 of 2003 concerning the Constitutional Court\\n D.  Article 35 of Law Number 24 of 2003 concerning the Constitutional Court\\n E.  Article 35 of Law Number 25 of 2003 concerning the Constitutional Court\n"
     ]
    },
    {
     "name": "stderr",
     "output_type": "stream",
     "text": [
      "Both `max_new_tokens` (=1024) and `max_length`(=1024) seem to have been set. `max_new_tokens` will take precedence. Please refer to the documentation for more information. (https://huggingface.co/docs/transformers/main/en/main_classes/text_generation)\n"
     ]
    },
    {
     "name": "stdout",
     "output_type": "stream",
     "text": [
      " I apologize, but without additional information about the specific case or situation, it is difficult for me\n",
      "to provide a definitive answer regarding whether the applicant can withdraw their application before or during\n",
      "the Constitutional Court examination. Please provide more details so that I may better assist you.\n",
      "\n",
      "\n",
      "Sources:\n",
      "Time:  47.66926145553589\n",
      "==============================================\n",
      "Nomor:  62\n",
      "Regarding the General Election, Members of the DPR, DPD, and DPRD stated that election participants and members of the public, through witnesses who were present, could submit objections to the course and results of the vote count at the TPS, PPS, PPK, City/Regency KPUD, Provincial KPU, and Central KPU. If it turns out that there are things that are not in accordance with statutory regulations, it is on...\\n A.  Article 96 paragraph (8), Article 95 paragraph (3), Article 98 paragraph (3), Article 99 paragraph (5), Article 100 paragraph (5), and Article 101 paragraph (6)\\n B.  Article 96 paragraph (8), Article 95 paragraph (1), Article 98 paragraph (3), Article 99 paragraph (5), Article 100 paragraph (5), and Article 101 paragraph (6)\\n C.  Article 96 paragraph (8), Article 96 paragraph (3), Article 98 paragraph (3), Article 99 paragraph (5), Article 100 paragraph (5), and Article 101 paragraph (6)\\n D.  Article 96 paragraph (8), Article 97 paragraph (9), Article 98 paragraph (3), Article 99 paragraph (5), Article 100 paragraph (5), and Article 101 paragraph (6)\\n E.  Article 96 paragraph (8), Article 97 paragraph (3), Article 98 paragraph (3), Article 99 paragraph (5), Article 100 paragraph (5), and Article 101 paragraph (6)\n"
     ]
    },
    {
     "name": "stderr",
     "output_type": "stream",
     "text": [
      "Both `max_new_tokens` (=1024) and `max_length`(=1024) seem to have been set. `max_new_tokens` will take precedence. Please refer to the documentation for more information. (https://huggingface.co/docs/transformers/main/en/main_classes/text_generation)\n"
     ]
    },
    {
     "name": "stdout",
     "output_type": "stream",
     "text": [
      " The correct answer is E.\n",
      "\n",
      "\n",
      "Sources:\n",
      "Time:  8.691563367843628\n",
      "==============================================\n",
      "Nomor:  63\n",
      "In essence, it states that applications can only be made regarding the determination of the results of the General Election conducted nationally by the General Election Commission which influences the election of DPD member candidates, the determination of the presidential and vice presidential candidate pairs and the acquisition of political party seats, on...\\n A.  Whereas article 74 paragraph (2) of Law number 24 of 2003 concerning the Constitutional Court, Law number 12 of 2003 concerning General Election of Members of the DPR, DPD, DPRD\\n B.  Whereas article 73 paragraph (2) of Law number 24 of 2003 concerning the Constitutional Court, Law number 12 of 2003 concerning General Election of Members of the DPR, DPD, DPRD\\n C.  Whereas article 72 paragraph (2) of Law number 24 of 2003 concerning the Constitutional Court, Law number 12 of 2003 concerning General Election of Members of the DPR, DPD, DPRD\\n D.  Whereas article 71 paragraph (2) of Law number 24 of 2003 concerning the Constitutional Court, Law number 12 of 2003 concerning General Election of Members of the DPR, DPD, DPRD\\n E.  Whereas article 70 paragraph (2) of Law number 24 of 2003 concerning the Constitutional Court, Law number 12 of 2003 concerning General Election of Members of the DPR, DPD, DPRD\n"
     ]
    },
    {
     "name": "stderr",
     "output_type": "stream",
     "text": [
      "Both `max_new_tokens` (=1024) and `max_length`(=1024) seem to have been set. `max_new_tokens` will take precedence. Please refer to the documentation for more information. (https://huggingface.co/docs/transformers/main/en/main_classes/text_generation)\n"
     ]
    },
    {
     "name": "stdout",
     "output_type": "stream",
     "text": [
      " The correct answer is A.\n",
      "\n",
      "\n",
      "Sources:\n",
      "Time:  8.720264911651611\n",
      "==============================================\n",
      "Nomor:  64\n",
      "That if the applicant's application is accepted, quod non, article 96 paragraph (8), article 97 paragraph (3), article 98 paragraph (3), article 99 paragraph (5), article 100 paragraph (5) and article 101 paragraph (6) UU no. 12 of 2003 concerning the General Election of Members of the DPR, DPD, DPRD, reads...\\n A.  Mentioning that election participants and members of the public who take part in general elections must be Indonesian citizens is legally wrong\\n B.  Mentions that election participants and members of the public, through witnesses who are present, can submit objections to the process and results of vote counting at TPS, PPS, PPK, City/Regency KPUD, Provincial KPUD and Central KPU if it turns out that there are things that are not in accordance with statutory regulations.\\n C.  Mentioned that the vote counting was carried out by the surrounding RT/RW to make it better\\n D.  Mention that TPU provider participants must have witnesses from each party who submits their candidate\\n E.  Mentions that participants must comply with the rules\n"
     ]
    },
    {
     "name": "stderr",
     "output_type": "stream",
     "text": [
      "Both `max_new_tokens` (=1024) and `max_length`(=1024) seem to have been set. `max_new_tokens` will take precedence. Please refer to the documentation for more information. (https://huggingface.co/docs/transformers/main/en/main_classes/text_generation)\n"
     ]
    },
    {
     "name": "stdout",
     "output_type": "stream",
     "text": [
      " I cannot provide a helpful answer without knowing more about the specific context of the question. Please\n",
      "provide additional information or clarify which piece of context you would like me to use to answer your\n",
      "question.\n",
      "\n",
      "\n",
      "Sources:\n",
      "Time:  41.2466824054718\n",
      "==============================================\n",
      "Nomor:  65\n",
      "Citizens who have the right to vote, election observers and/or election participants can report election violations at any stage of election implementation to the Election Supervisor (Panwaslu), located at…\\n A.  Article 121 paragraph (1) and paragraph (2) of Law no. 12 of 2003\\n B.  Article 122 paragraph (1) and paragraph (2) of Law no. 12 of 2003\\n C.  Article 127 paragraph (1) and paragraph (2) of Law no. 12 of 2003\\n D.  Article 126 paragraph (1) and paragraph (2) of Law no. 12 of 2003\\n E.  Article 125 paragraph (1) and paragraph (2) of Law no. 12 of 2003\n"
     ]
    },
    {
     "name": "stderr",
     "output_type": "stream",
     "text": [
      "Both `max_new_tokens` (=1024) and `max_length`(=1024) seem to have been set. `max_new_tokens` will take precedence. Please refer to the documentation for more information. (https://huggingface.co/docs/transformers/main/en/main_classes/text_generation)\n"
     ]
    },
    {
     "name": "stdout",
     "output_type": "stream",
     "text": [
      " The correct answer is E. Article 125 paragraph (1) and paragraph (2) of Law no. 12 of 2003.\n",
      "\n",
      "\n",
      "Sources:\n",
      "Time:  30.71137046813965\n",
      "==============================================\n",
      "Nomor:  66\n",
      "Reports that are disputed in nature and do not contain criminal elements are resolved by the Election Supervisor and those that contain criminal elements are forwarded to investigators and those that are administrative in nature are forwarded to the KPU, stated in...\\n A.  Articles 128 and 130 of Law no. 12 of 2003\\n B.  Articles 127 and 130 of Law no. 12 of 2003\\n C.  Articles 126 and 130 of Law no. 12 of 2003\\n D.  Articles 125 and 130 of Law no. 12 of 2003\\n E.  Articles 124 and 130 of Law no. 12 of 2003\n"
     ]
    },
    {
     "name": "stderr",
     "output_type": "stream",
     "text": [
      "Both `max_new_tokens` (=1024) and `max_length`(=1024) seem to have been set. `max_new_tokens` will take precedence. Please refer to the documentation for more information. (https://huggingface.co/docs/transformers/main/en/main_classes/text_generation)\n"
     ]
    },
    {
     "name": "stdout",
     "output_type": "stream",
     "text": [
      " The correct answer is (A) Articles 128 and 130 of Law no. 12 of 2003.\n",
      "\n",
      "\n",
      "Sources:\n",
      "Time:  27.144275665283203\n",
      "==============================================\n",
      "Nomor:  67\n",
      "The Petitioner's candidacy as a Presidential Candidate and/or Vice Presidential Candidate is based on the Petitioner's rights and obligations as a citizen of the Republic of Indonesia which are justified, ratified, guaranteed and protected by, One of the list of articles is...\\n A.  Article 21 A paragraph 1 of the 1945 Republic of Indonesia Constitution\\n B.  Article 20 A paragraph 1 of the 1945 Republic of Indonesia Constitution\\n C.  Preamble to the 1945 Constitution of the Republic of Indonesia\\n D.  Article 10 A paragraph 1 of the 1945 Republic of Indonesia Constitution\\n E.  Article 10 B paragraph 1 of the 1945 Republic of Indonesia Constitution\n"
     ]
    },
    {
     "name": "stderr",
     "output_type": "stream",
     "text": [
      "Both `max_new_tokens` (=1024) and `max_length`(=1024) seem to have been set. `max_new_tokens` will take precedence. Please refer to the documentation for more information. (https://huggingface.co/docs/transformers/main/en/main_classes/text_generation)\n"
     ]
    },
    {
     "name": "stdout",
     "output_type": "stream",
     "text": [
      " Based on the information provided in the passage, it appears that the petitioner's candidacy for president or\n",
      "vice-president is based on their rights and responsibilities as a citizen of the Republic of Indonesia, which\n",
      "are justified, ratified, guaranteed, and protected by one of the constitutional provisions listed above.\n",
      "However, without additional information about the specific provision cited in the passage, I cannot accurately\n",
      "identify the correct answer.\n",
      "\n",
      "\n",
      "Sources:\n",
      "Time:  87.31091380119324\n",
      "==============================================\n",
      "Nomor:  68\n",
      "The Petitioner's candidacy as a Presidential Candidate and/or Vice Presidential Candidate is based on the Petitioner's rights and obligations as a citizen of the Republic of Indonesia which are justified, ratified, guaranteed and protected by, One of the list of articles is...\\n A.  Article 21 A paragraph 1 of the 1945 Republic of Indonesia Constitution\\n B.  Article 20 A paragraph 1 of the 1945 Republic of Indonesia Constitution\\n C.  Article 10 A paragraph 1 of the 1945 Republic of Indonesia Constitution\\n D.  Article 10 B paragraph 1 of the 1945 Republic of Indonesia Constitution\\n E.  Article 28 J paragraph 1 of the 1944 Republic of Indonesia Constitution\n"
     ]
    },
    {
     "name": "stderr",
     "output_type": "stream",
     "text": [
      "Both `max_new_tokens` (=1024) and `max_length`(=1024) seem to have been set. `max_new_tokens` will take precedence. Please refer to the documentation for more information. (https://huggingface.co/docs/transformers/main/en/main_classes/text_generation)\n"
     ]
    },
    {
     "name": "stdout",
     "output_type": "stream",
     "text": [
      " Based on the information provided in the passage, it appears that the petitioner's candidacy for president or\n",
      "vice-president is based on their rights and obligations as a citizen of the Republic of Indonesia, which are\n",
      "justified, ratified, guaranteed, and protected by one of the constitutional provisions listed above. However,\n",
      "without additional information about the specific provision cited in the passage, I cannot accurately identify\n",
      "the correct answer.\n",
      "\n",
      "\n",
      "Sources:\n",
      "Time:  86.549800157547\n",
      "==============================================\n",
      "Nomor:  69\n",
      "The Petitioner's candidacy as a Presidential Candidate and/or Vice Presidential Candidate is based on the Petitioner's rights and obligations as a citizen of the Republic of Indonesia which are justified, ratified, guaranteed and protected by, One of the list of articles is...\\n A.  Article 28 I paragraph 2 of the 1945 Republic of Indonesia Constitution\\n B.  Article 21 A paragraph 1 of the 1945 Republic of Indonesia Constitution\\n C.  Article 20 A paragraph 1 of the 1945 Republic of Indonesia Constitution\\n D.  Article 10 A paragraph 1 of the 1945 Republic of Indonesia Constitution\\n E.  Article 10 B paragraph 1 of the 1945 Republic of Indonesia Constitution\n"
     ]
    },
    {
     "name": "stderr",
     "output_type": "stream",
     "text": [
      "Both `max_new_tokens` (=1024) and `max_length`(=1024) seem to have been set. `max_new_tokens` will take precedence. Please refer to the documentation for more information. (https://huggingface.co/docs/transformers/main/en/main_classes/text_generation)\n"
     ]
    },
    {
     "name": "stdout",
     "output_type": "stream",
     "text": [
      " The correct answer is (D) Article 10A paragraph 1 of the 1945 Republic of Indonesia Constitution.\n",
      "\n",
      "\n",
      "Sources:\n",
      "Time:  24.512115716934204\n",
      "==============================================\n",
      "Nomor:  70\n",
      "The Petitioner's candidacy as a Presidential Candidate and/or Vice Presidential Candidate is based on the Petitioner's rights and obligations as a citizen of the Republic of Indonesia which are justified, ratified, guaranteed and protected by, One of the list of articles is...\\n A.  Article 21 A paragraph 1 of the 1945 Republic of Indonesia Constitution\\n B.  Article 28 H paragraph 2 of the 1945 Republic of Indonesia Constitution\\n C.  Article 20 A paragraph 1 of the 1945 Republic of Indonesia Constitution\\n D.  Article 2G A paragraph 1 of the 1945 Republic of Indonesia Constitution\\n E.  Article 2X A paragraph 1 of the 1945 Republic of Indonesia Constitution\n"
     ]
    },
    {
     "name": "stderr",
     "output_type": "stream",
     "text": [
      "Both `max_new_tokens` (=1024) and `max_length`(=1024) seem to have been set. `max_new_tokens` will take precedence. Please refer to the documentation for more information. (https://huggingface.co/docs/transformers/main/en/main_classes/text_generation)\n"
     ]
    },
    {
     "name": "stdout",
     "output_type": "stream",
     "text": [
      " Based on the information provided in the passage, it appears that the petitioner's candidacy for president or\n",
      "vice-president is based on their rights and obligations as a citizen of the Republic of Indonesia, which are\n",
      "justified, ratified, guaranteed, and protected by one of the constitutional provisions listed above. However,\n",
      "without additional information about the specific provision(s) involved, I cannot accurately identify the\n",
      "correct answer.\n",
      "\n",
      "\n",
      "Sources:\n",
      "Time:  85.33247470855713\n",
      "==============================================\n",
      "Nomor:  71\n",
      "The Petitioner's candidacy as a Presidential Candidate and/or Vice Presidential Candidate is based on the Petitioner's rights and obligations as a citizen of the Republic of Indonesia which are justified, ratified, guaranteed and protected by, One of the list of articles is...\\n A.  Article 28 D paragraph 1 and paragraph 3 of the 1945 Republic of Indonesia Constitution\\n B.  Article 20 A paragraph 1 of the 1945 Republic of Indonesia Constitution\\n C.  Article 21 Y paragraph 1 of the 1945 Republic of Indonesia Constitution\\n D.  Article 20 Y paragraph 1 of the 1945 Republic of Indonesia Constitution\\n E.  Article 21 A paragraph 1 of the 1945 Republic of Indonesia Constitution\n"
     ]
    },
    {
     "name": "stderr",
     "output_type": "stream",
     "text": [
      "Both `max_new_tokens` (=1024) and `max_length`(=1024) seem to have been set. `max_new_tokens` will take precedence. Please refer to the documentation for more information. (https://huggingface.co/docs/transformers/main/en/main_classes/text_generation)\n"
     ]
    },
    {
     "name": "stdout",
     "output_type": "stream",
     "text": [
      " The correct answer is (D) Article 20 Y paragraph 1 of the 1945 Republic of Indonesia Constitution.\n",
      "\n",
      "\n",
      "Sources:\n",
      "Time:  24.81389546394348\n",
      "==============================================\n",
      "Nomor:  72\n",
      "The Petitioner's candidacy as a Presidential Candidate and/or Vice Presidential Candidate is based on the Petitioner's rights and obligations as a citizen of the Republic of Indonesia which are justified, ratified, guaranteed and protected by, One of the list of articles is...\\n A.  Article 21 A paragraph 1 of the 1945 Republic of Indonesia Constitution\\n B.  Article 21 Z paragraph 1 of the 1945 Republic of Indonesia Constitution\\n C.  Article 21 Y paragraph 1 of the 1945 Republic of Indonesia Constitution\\n D.  Article 20 Y paragraph 1 of the 1945 Republic of Indonesia Constitution\\n E.  Article 28 C paragraph 2 of the 1945 Republic of Indonesia Constitution\n"
     ]
    },
    {
     "name": "stderr",
     "output_type": "stream",
     "text": [
      "Both `max_new_tokens` (=1024) and `max_length`(=1024) seem to have been set. `max_new_tokens` will take precedence. Please refer to the documentation for more information. (https://huggingface.co/docs/transformers/main/en/main_classes/text_generation)\n"
     ]
    },
    {
     "name": "stdout",
     "output_type": "stream",
     "text": [
      " Based on the information provided in the passage, it appears that the petitioner's candidacy for president or\n",
      "vice-president is based on their rights and obligations as a citizen of the Republic of Indonesia, which are\n",
      "justified, ratified, guaranteed, and protected by one of the constitutional provisions listed above. However,\n",
      "without additional information about the specific provision cited in the passage, I cannot accurately identify\n",
      "the correct answer.\n",
      "\n",
      "\n",
      "Sources:\n",
      "Time:  86.46535015106201\n",
      "==============================================\n",
      "Nomor:  73\n",
      "The Petitioner's candidacy as a Presidential Candidate and/or Vice Presidential Candidate is based on the Petitioner's rights and obligations as a citizen of the Republic of Indonesia which are justified, ratified, guaranteed and protected by, One of the list of articles is...\\n A.  Article 21 A paragraph 1 of the 1945 Republic of Indonesia Constitution\\n B.  Article 21 Z paragraph 1 of the 1945 Republic of Indonesia Constitution\\n C.  Article 21 Y paragraph 1 of the 1945 Republic of Indonesia Constitution\\n D.  Article 20 Y paragraph 1 of the 1945 Republic of Indonesia Constitution\\n E.  Article 27 paragraph 1 paragraph 3 of the 1945 Republic of Indonesia Constitution\n"
     ]
    },
    {
     "name": "stderr",
     "output_type": "stream",
     "text": [
      "Both `max_new_tokens` (=1024) and `max_length`(=1024) seem to have been set. `max_new_tokens` will take precedence. Please refer to the documentation for more information. (https://huggingface.co/docs/transformers/main/en/main_classes/text_generation)\n"
     ]
    },
    {
     "name": "stdout",
     "output_type": "stream",
     "text": [
      " Based on the information provided in the passage, it appears that the petitioner's candidacy for president or\n",
      "vice-president is based on their rights and obligations as a citizen of the Republic of Indonesia, which are\n",
      "justified, ratified, guaranteed, and protected by one of the constitutional provisions listed above. However,\n",
      "without additional information about the specific provision cited in the passage, I cannot accurately identify\n",
      "the correct answer.\n",
      "\n",
      "\n",
      "Sources:\n",
      "Time:  86.83669185638428\n",
      "==============================================\n",
      "Nomor:  74\n",
      "The Petitioner's candidacy as a Presidential Candidate and/or Vice Presidential Candidate is based on the Petitioner's rights and obligations as a citizen of the Republic of Indonesia which are justified, ratified, guaranteed and protected by, One of the list of articles is...\\n A.  Article 21 A paragraph 1 of the 1945 Republic of Indonesia Constitution\\n B.  Article 21 Z paragraph 1 of the 1945 Republic of Indonesia Constitution\\n C.  Article 21 Y paragraph 1 of the 1945 Republic of Indonesia Constitution\\n D.  Article 1 paragraph 2 of the 1945 Republic of Indonesia Constitution\\n E.  Article 20 Y paragraph 1 of the 1945 Republic of Indonesia Constitution\n"
     ]
    },
    {
     "name": "stderr",
     "output_type": "stream",
     "text": [
      "Both `max_new_tokens` (=1024) and `max_length`(=1024) seem to have been set. `max_new_tokens` will take precedence. Please refer to the documentation for more information. (https://huggingface.co/docs/transformers/main/en/main_classes/text_generation)\n"
     ]
    },
    {
     "name": "stdout",
     "output_type": "stream",
     "text": [
      " Based on the information provided in the passage, it appears that the petitioner's candidacy for president or\n",
      "vice-president is based on their rights and obligations as a citizen of the Republic of Indonesia, which are\n",
      "justified, ratified, guaranteed, and protected by one of the constitutional provisions listed above. However,\n",
      "without additional information about the specific provision cited in the passage, I cannot accurately identify\n",
      "the correct answer.\n",
      "\n",
      "\n",
      "Sources:\n",
      "Time:  85.93628025054932\n",
      "==============================================\n",
      "Nomor:  75\n",
      "Everyone has the right to receive facilities and special treatment to obtain the same opportunities and benefits in order to achieve equality and justice, which is in...\\n A.  Law Number 23 of 2003, especially Article 5 paragraphs (1,2,3 and 4)\\n B.  Article 21 A paragraph 1 of the 1945 Republic of Indonesia Constitution\\n C.  Article 21 Z paragraph 1 of the 1945 Republic of Indonesia Constitution\\n D.  Article 21 Y paragraph 1 of the 1945 Republic of Indonesia Constitution\\n E.  Article 1 paragraph 2 of the 1945 Republic of Indonesia Constitution\n"
     ]
    },
    {
     "name": "stderr",
     "output_type": "stream",
     "text": [
      "Both `max_new_tokens` (=1024) and `max_length`(=1024) seem to have been set. `max_new_tokens` will take precedence. Please refer to the documentation for more information. (https://huggingface.co/docs/transformers/main/en/main_classes/text_generation)\n"
     ]
    },
    {
     "name": "stdout",
     "output_type": "stream",
     "text": [
      " The correct answer is A.\n",
      "\n",
      "\n",
      "Sources:\n",
      "Time:  5.1870317459106445\n",
      "==============================================\n",
      "Nomor:  76\n",
      "Everyone has the right to receive facilities and special treatment to obtain the same opportunities and benefits in order to achieve equality and justice, which is in...\\n A.  Article 21 A paragraph 1 of the 1945 Republic of Indonesia Constitution\\n B.  Article 21 Z paragraph 1 of the 1945 Republic of Indonesia Constitution\\n C.  Article 21 Y paragraph 1 of the 1945 Republic of Indonesia Constitution\\n D.  Article 1 paragraph 2 of the 1945 Republic of Indonesia Constitution\\n E.  Law Number 23 of 2003, especially Article 1 paragraph (6)\n"
     ]
    },
    {
     "name": "stderr",
     "output_type": "stream",
     "text": [
      "Both `max_new_tokens` (=1024) and `max_length`(=1024) seem to have been set. `max_new_tokens` will take precedence. Please refer to the documentation for more information. (https://huggingface.co/docs/transformers/main/en/main_classes/text_generation)\n"
     ]
    },
    {
     "name": "stdout",
     "output_type": "stream",
     "text": [
      " The correct answer is (B) Article 21Z paragraph 1 of the 1945 Republic of Indonesia Constitution.\n",
      "\n",
      "\n",
      "Sources:\n",
      "Time:  22.055538415908813\n",
      "==============================================\n",
      "Nomor:  77\n",
      "Everyone has the right to receive facilities and special treatment to obtain the same opportunities and benefits in order to achieve equality and justice, which is in...\\n A.  Law Number 23 of 2003, especially Article 6 L\\n B.  Article 21 A paragraph 1 of the 1945 Republic of Indonesia Constitution\\n C.  Article 21 Z paragraph 1 of the 1945 Republic of Indonesia Constitution\\n D.  Article 21 Y paragraph 1 of the 1945 Republic of Indonesia Constitution\\n E.  Article 1 paragraph 2 of the 1945 Republic of Indonesia Constitution\n"
     ]
    },
    {
     "name": "stderr",
     "output_type": "stream",
     "text": [
      "Both `max_new_tokens` (=1024) and `max_length`(=1024) seem to have been set. `max_new_tokens` will take precedence. Please refer to the documentation for more information. (https://huggingface.co/docs/transformers/main/en/main_classes/text_generation)\n"
     ]
    },
    {
     "name": "stdout",
     "output_type": "stream",
     "text": [
      " The correct answer is (B) Article 21A paragraph 1 of the 1945 Republic of Indonesia Constitution.\n",
      "\n",
      "\n",
      "Sources:\n",
      "Time:  21.855467796325684\n",
      "==============================================\n",
      "Nomor:  78\n",
      "Everyone has the right to receive facilities and special treatment to obtain the same opportunities and benefits in order to achieve equality and justice, which is in...\\n A.  Article 21 A paragraph 1 of the 1945 Republic of Indonesia Constitution\\n B.  Article 21 Z paragraph 1 of the 1945 Republic of Indonesia Constitution\\n C.  Article 21 Y paragraph 1 of the 1945 Republic of Indonesia Constitution\\n D.  Article 1 paragraph 2 of the 1945 Republic of Indonesia Constitution\\n E.  Law Number 23 of 2003, especially Article 28 H paragraph (2)\n"
     ]
    },
    {
     "name": "stderr",
     "output_type": "stream",
     "text": [
      "Both `max_new_tokens` (=1024) and `max_length`(=1024) seem to have been set. `max_new_tokens` will take precedence. Please refer to the documentation for more information. (https://huggingface.co/docs/transformers/main/en/main_classes/text_generation)\n"
     ]
    },
    {
     "name": "stdout",
     "output_type": "stream",
     "text": [
      " The correct answer is (B) Article 21 Z paragraph 1 of the 1945 Republic of Indonesia Constitution.\n",
      "\n",
      "\n",
      "Sources:\n",
      "Time:  22.232052326202393\n",
      "==============================================\n",
      "Nomor:  79\n",
      "Every person has the right to be free from discriminatory treatment on any basis and has the right to receive protection against such discriminatory treatment, in...\\n A.  Law Number 23 of 2003, especially Article 5 paragraphs (1,2,3 and 4)\\n B.  Article 21 A paragraph 1 of the 1945 Republic of Indonesia Constitution\\n C.  Article 21 Z paragraph 1 of the 1945 Republic of Indonesia Constitution\\n D.  Article 21 Y paragraph 1 of the 1945 Republic of Indonesia Constitution\\n E.  Article 1 paragraph 2 of the 1945 Republic of Indonesia Constitution\n"
     ]
    },
    {
     "name": "stderr",
     "output_type": "stream",
     "text": [
      "Both `max_new_tokens` (=1024) and `max_length`(=1024) seem to have been set. `max_new_tokens` will take precedence. Please refer to the documentation for more information. (https://huggingface.co/docs/transformers/main/en/main_classes/text_generation)\n"
     ]
    },
    {
     "name": "stdout",
     "output_type": "stream",
     "text": [
      " The correct answer is A.\n",
      "\n",
      "\n",
      "Sources:\n",
      "Time:  5.1684300899505615\n",
      "==============================================\n",
      "Nomor:  80\n",
      "Every person has the right to be free from discriminatory treatment on any basis and has the right to receive protection against such discriminatory treatment, in...\\n A.  Article 21 A paragraph 1 of the 1945 Republic of Indonesia Constitution\\n B.  Article 21 Z paragraph 1 of the 1945 Republic of Indonesia Constitution\\n C.  Article 21 Y paragraph 1 of the 1945 Republic of Indonesia Constitution\\n D.  Article 1 paragraph 2 of the 1945 Republic of Indonesia Constitution\\n E.  Law Number 23 of 2003, especially Article 1 paragraph (6)\n"
     ]
    },
    {
     "name": "stderr",
     "output_type": "stream",
     "text": [
      "Both `max_new_tokens` (=1024) and `max_length`(=1024) seem to have been set. `max_new_tokens` will take precedence. Please refer to the documentation for more information. (https://huggingface.co/docs/transformers/main/en/main_classes/text_generation)\n"
     ]
    },
    {
     "name": "stdout",
     "output_type": "stream",
     "text": [
      " The correct answer is (E) Law Number 23 of 2003, especially Article 1 paragraph (6).\n",
      "\n",
      "\n",
      "Sources:\n",
      "Time:  21.33132290840149\n",
      "==============================================\n",
      "Nomor:  81\n",
      "Every person has the right to be free from discriminatory treatment on any basis and has the right to receive protection against such discriminatory treatment, in...\\n A.  Law Number 23 of 2003, especially Article 6 I\\n B.  Article 21 A paragraph 1 of the 1945 Republic of Indonesia Constitution\\n C.  Article 21 Z paragraph 1 of the 1945 Republic of Indonesia Constitution\\n D.  Article 21 Y paragraph 1 of the 1945 Republic of Indonesia Constitution\\n E.  Article 1 paragraph 2 of the 1945 Republic of Indonesia Constitution\n"
     ]
    },
    {
     "name": "stderr",
     "output_type": "stream",
     "text": [
      "Both `max_new_tokens` (=1024) and `max_length`(=1024) seem to have been set. `max_new_tokens` will take precedence. Please refer to the documentation for more information. (https://huggingface.co/docs/transformers/main/en/main_classes/text_generation)\n"
     ]
    },
    {
     "name": "stdout",
     "output_type": "stream",
     "text": [
      " The correct answer is (B) Article 21A paragraph 1 of the 1945 Republic of Indonesia Constitution.\n",
      "\n",
      "\n",
      "Sources:\n",
      "Time:  21.930180072784424\n",
      "==============================================\n",
      "Nomor:  82\n",
      "Everyone is obliged to respect the human rights of others in the orderly life of society, nation and state, which is...\\n A.  Law Number 23 of 2003, especially Article 5 paragraphs (1, 2, 3 and 4)\\n B.  Article 21 A paragraph 1 of the 1945 Republic of Indonesia Constitution\\n C.  Article 21 Z paragraph 1 of the 1945 Republic of Indonesia Constitution\\n D.  Article 21 Y paragraph 1 of the 1945 Republic of Indonesia Constitution\\n E.  Article 1 paragraph 2 of the 1945 Republic of Indonesia Constitution\n"
     ]
    },
    {
     "name": "stderr",
     "output_type": "stream",
     "text": [
      "Both `max_new_tokens` (=1024) and `max_length`(=1024) seem to have been set. `max_new_tokens` will take precedence. Please refer to the documentation for more information. (https://huggingface.co/docs/transformers/main/en/main_classes/text_generation)\n"
     ]
    },
    {
     "name": "stdout",
     "output_type": "stream",
     "text": [
      " The correct answer is A.\n",
      "\n",
      "\n",
      "Sources:\n",
      "Time:  5.176026821136475\n",
      "==============================================\n",
      "Nomor:  83\n",
      "Everyone is obliged to respect the human rights of others in the orderly life of society, nation and state, which is...\\n A.  Article 21 A paragraph 1 of the 1945 Republic of Indonesia Constitution\\n B.  Article 21 Z paragraph 1 of the 1945 Republic of Indonesia Constitution\\n C.  Article 21 Y paragraph 1 of the 1945 Republic of Indonesia Constitution\\n D.  Article 1 paragraph 2 of the 1945 Republic of Indonesia Constitution\\n E.  Law Number 23 of 2003, especially Article 1 paragraph (6)\n"
     ]
    },
    {
     "name": "stderr",
     "output_type": "stream",
     "text": [
      "Both `max_new_tokens` (=1024) and `max_length`(=1024) seem to have been set. `max_new_tokens` will take precedence. Please refer to the documentation for more information. (https://huggingface.co/docs/transformers/main/en/main_classes/text_generation)\n"
     ]
    },
    {
     "name": "stdout",
     "output_type": "stream",
     "text": [
      " The correct answer is (D) Article 1 paragraph 2 of the 1945 Republic of Indonesia Constitution.\n",
      "\n",
      "\n",
      "Sources:\n",
      "Time:  20.11743664741516\n",
      "==============================================\n",
      "Nomor:  84\n",
      "Everyone is obliged to respect the human rights of others in the orderly life of society, nation and state, which is...\\n A.  Law Number 23 of 2003, especially Article 6L\\n B.  Article 21 A paragraph 1 of the 1945 Republic of Indonesia Constitution\\n C.  Article 21 Z paragraph 1 of the 1945 Republic of Indonesia Constitution\\n D.  Article 21 Y paragraph 1 of the 1945 Republic of Indonesia Constitution\\n E.  Article 1 paragraph 2 of the 1945 Republic of Indonesia Constitution\n"
     ]
    },
    {
     "name": "stderr",
     "output_type": "stream",
     "text": [
      "Both `max_new_tokens` (=1024) and `max_length`(=1024) seem to have been set. `max_new_tokens` will take precedence. Please refer to the documentation for more information. (https://huggingface.co/docs/transformers/main/en/main_classes/text_generation)\n"
     ]
    },
    {
     "name": "stdout",
     "output_type": "stream",
     "text": [
      " The correct answer is (B) Article 21A paragraph 1 of the 1945 Republic of Indonesia Constitution.\n",
      "\n",
      "\n",
      "Sources:\n",
      "Time:  21.502076148986816\n",
      "==============================================\n",
      "Nomor:  85\n",
      "Every person has the right to live in physical and spiritual prosperity, to have a place to live and to have a good and healthy living environment and to receive health services, at...\\n A.  Article 21 H paragraph 1 (Constitution/UUD 1945)\\n B.  Article 28 H paragraph 1 (Constitution/UUD 1945)\\n C.  Article 28 A paragraph 1 (Constitution/UUD 1945)\\n D.  Article 28 B paragraph 1 (Constitution/UUD 1945)\\n E.  Article 28 C paragraph 1 (1945 Constitution/UUD)\n"
     ]
    },
    {
     "name": "stderr",
     "output_type": "stream",
     "text": [
      "Both `max_new_tokens` (=1024) and `max_length`(=1024) seem to have been set. `max_new_tokens` will take precedence. Please refer to the documentation for more information. (https://huggingface.co/docs/transformers/main/en/main_classes/text_generation)\n"
     ]
    },
    {
     "name": "stdout",
     "output_type": "stream",
     "text": [
      " The correct answer is A.\n",
      "\n",
      "\n",
      "Sources:\n",
      "Time:  5.183465242385864\n",
      "==============================================\n",
      "Nomor:  86\n",
      "In Article 51 paragraph (1) of Law Number 24 of 2003 concerning the Constitutional Court. A party who considers their constitutional rights and/or authority to be impaired by the enactment of a law is...\\n A.  President\\n B.  Applicant\\n C.  vice President\\n D.  Police\\n E.  Soldier\n"
     ]
    },
    {
     "name": "stderr",
     "output_type": "stream",
     "text": [
      "Both `max_new_tokens` (=1024) and `max_length`(=1024) seem to have been set. `max_new_tokens` will take precedence. Please refer to the documentation for more information. (https://huggingface.co/docs/transformers/main/en/main_classes/text_generation)\n"
     ]
    },
    {
     "name": "stdout",
     "output_type": "stream",
     "text": [
      " The correct answer is (B) Applicant.\n",
      "\n",
      "\n",
      "Sources:\n",
      "Time:  7.131722450256348\n",
      "==============================================\n",
      "Nomor:  87\n",
      "Article 51 paragraph (1) of Law Number 24 of 2003 concerning the Constitutional Court states, the Petitioner is a party who considers their constitutional rights and/or authority to be impaired by the enactment of a law, namely...\\n A.  individual Indonesian citizens, the unity of the customary law community as long as it is still alive and in accordance with the development of society and the principles of the Unitary State of the Republic of Indonesia as regulated in law, public or private legal entity, or state institutions\\n B.  Individual Indonesian citizens, have flesh and blood, or state institutions\\n C.  individual Indonesian citizens, working in government, or state institutions\\n D.  individual Indonesian citizens, can speak Indonesian,  public or private legal entity, or state institutions\\n E.  individual Indonesian citizens, criminal, public or private legal entity, or state institutions\n"
     ]
    },
    {
     "name": "stderr",
     "output_type": "stream",
     "text": [
      "Both `max_new_tokens` (=1024) and `max_length`(=1024) seem to have been set. `max_new_tokens` will take precedence. Please refer to the documentation for more information. (https://huggingface.co/docs/transformers/main/en/main_classes/text_generation)\n"
     ]
    },
    {
     "name": "stdout",
     "output_type": "stream",
     "text": [
      " The correct answer is (A).\n",
      "\n",
      "\n",
      "Sources:\n",
      "Time:  6.974188327789307\n",
      "==============================================\n",
      "Nomor:  88\n",
      "Every person has the right to recognition, guarantees, protection and fair legal certainty as well as equal treatment before the law, reads the...\\n A.  Article 28D paragraph (1) of the 1945 Constitution\\n B.  Article 27D paragraph (1) of the 1945 Constitution\\n C.  Article 26D paragraph (1) of the 1945 Constitution\\n D.  Article 25D paragraph (1) of the 1945 Constitution\\n E.  Article 24D paragraph (1) of the 1945 Constitution\n"
     ]
    },
    {
     "name": "stderr",
     "output_type": "stream",
     "text": [
      "Both `max_new_tokens` (=1024) and `max_length`(=1024) seem to have been set. `max_new_tokens` will take precedence. Please refer to the documentation for more information. (https://huggingface.co/docs/transformers/main/en/main_classes/text_generation)\n"
     ]
    },
    {
     "name": "stdout",
     "output_type": "stream",
     "text": [
      " The correct answer is (B).\n",
      "\n",
      "\n",
      "Sources:\n",
      "Time:  5.806039810180664\n",
      "==============================================\n",
      "Nomor:  89\n",
      "Every person has the right to freedom of belief, expression of thoughts and attitudes, in accordance with his conscience, according to article...\\n A.  Article 28F paragraph (2) of the 1945 Constitution\\n B.  Article 28A paragraph (2) of the 1945 Constitution\\n C.  Article 28B paragraph (2) of the 1945 Constitution\\n D.  Article 28C paragraph (2) of the 1945 Constitution\\n E.  Article 28E paragraph (2) of the 1945 Constitution\n"
     ]
    },
    {
     "name": "stderr",
     "output_type": "stream",
     "text": [
      "Both `max_new_tokens` (=1024) and `max_length`(=1024) seem to have been set. `max_new_tokens` will take precedence. Please refer to the documentation for more information. (https://huggingface.co/docs/transformers/main/en/main_classes/text_generation)\n"
     ]
    },
    {
     "name": "stdout",
     "output_type": "stream",
     "text": [
      " The correct answer is (D) Article 28C paragraph (2) of the 1945 Constitution.\n",
      "\n",
      "\n",
      "Sources:\n",
      "Time:  18.950612783432007\n",
      "==============================================\n",
      "Nomor:  90\n",
      "Everyone has the right to freedom of association, assembly and expression of opinion, from article...\\n A.  Article 28A paragraph (3) of the 1945 Constitution\\n B.  Article 28E paragraph (3) of the 1945 Constitution\\n C.  Article 28B paragraph (3) of the 1945 Constitution\\n D.  Article 28C paragraph (3) of the 1945 Constitution\\n E.  Article 28D paragraph (3) of the 1945 Constitution\n"
     ]
    },
    {
     "name": "stderr",
     "output_type": "stream",
     "text": [
      "Both `max_new_tokens` (=1024) and `max_length`(=1024) seem to have been set. `max_new_tokens` will take precedence. Please refer to the documentation for more information. (https://huggingface.co/docs/transformers/main/en/main_classes/text_generation)\n"
     ]
    },
    {
     "name": "stdout",
     "output_type": "stream",
     "text": [
      " The correct answer is (B).\n",
      "\n",
      "\n",
      "Sources:\n",
      "Time:  5.350553274154663\n",
      "==============================================\n",
      "Nomor:  91\n",
      "Everyone has the right to communicate and obtain information to develop their personal and social environment, and has the right to seek, obtain, own, store, process and convey information using all types of available channels, as stated in article...\\n A.  Article 28B of the 1945 Constitution\\n B.  Article 28C of the 1945 Constitution\\n C.  Article 28E of the 1945 Constitution\\n D.  Article 28E of the 1945 Constitution\\n E.  Article 28F of the 1945 Constitution\n"
     ]
    },
    {
     "name": "stderr",
     "output_type": "stream",
     "text": [
      "Both `max_new_tokens` (=1024) and `max_length`(=1024) seem to have been set. `max_new_tokens` will take precedence. Please refer to the documentation for more information. (https://huggingface.co/docs/transformers/main/en/main_classes/text_generation)\n"
     ]
    },
    {
     "name": "stdout",
     "output_type": "stream",
     "text": [
      " The correct answer is (D) Article 28E of the 1945 Constitution.\n",
      "\n",
      "\n",
      "Sources:\n",
      "Time:  15.942789316177368\n",
      "==============================================\n",
      "Nomor:  92\n",
      "Every person who meets the elements as intended in Article 27 paragraph (1), paragraph (2), paragraph (3), or paragraph (4) shall be punished with a maximum imprisonment...\\n A.  5 (five) years\\n B.  6 (six) years\\n C.  7 (seven) years\\n D.  8 (eight) years\\n E.  9 (nine) years\n"
     ]
    },
    {
     "name": "stderr",
     "output_type": "stream",
     "text": [
      "Both `max_new_tokens` (=1024) and `max_length`(=1024) seem to have been set. `max_new_tokens` will take precedence. Please refer to the documentation for more information. (https://huggingface.co/docs/transformers/main/en/main_classes/text_generation)\n"
     ]
    },
    {
     "name": "stdout",
     "output_type": "stream",
     "text": [
      " The correct answer is B. 6 (six) years.\n",
      "\n",
      "\n",
      "Sources:\n",
      "Time:  8.303303480148315\n",
      "==============================================\n",
      "Nomor:  93\n",
      "Every person who meets the elements as intended in Article 27 paragraph (1), paragraph (2), paragraph (3), or paragraph (4) shall be punished with imprisonment for a maximum of 6 (six) years and/or a fine of a maximum...\\n A.  IDR 2,000,000,000.00 (two billion rupiah)\\n B.  IDR 3,000,000,000.00 (three billion rupiah)\\n C.  IDR 1,000,000,000.00 (one billion rupiah)\\n D.  IDR 4,000,000,000.00 (four billion rupiah)\\n E.  IDR 5,000,000,000.00 (five billion rupiah)\n"
     ]
    },
    {
     "name": "stderr",
     "output_type": "stream",
     "text": [
      "Both `max_new_tokens` (=1024) and `max_length`(=1024) seem to have been set. `max_new_tokens` will take precedence. Please refer to the documentation for more information. (https://huggingface.co/docs/transformers/main/en/main_classes/text_generation)\n"
     ]
    },
    {
     "name": "stdout",
     "output_type": "stream",
     "text": [
      " The correct answer is D.  IDR 4,000,000,000.00 (four billion rupiah).\n",
      "\n",
      "\n",
      "Sources:\n",
      "Time:  29.97092342376709\n",
      "==============================================\n",
      "Nomor:  94\n",
      "Law Number 32 of 2004, as most recently amended by...\\n A.  Law Number 11 of 2008\\n B.  Law Number 12 of 2008\\n C.  Law Number 13 of 2008\\n D.  Law Number 14 of 2008\\n E.  Law Number 15 of 2008\n"
     ]
    },
    {
     "name": "stderr",
     "output_type": "stream",
     "text": [
      "Both `max_new_tokens` (=1024) and `max_length`(=1024) seem to have been set. `max_new_tokens` will take precedence. Please refer to the documentation for more information. (https://huggingface.co/docs/transformers/main/en/main_classes/text_generation)\n"
     ]
    },
    {
     "name": "stdout",
     "output_type": "stream",
     "text": [
      " The correct answer is (B) Law Number 12 of 2008.\n",
      "\n",
      "\n",
      "Sources:\n",
      "Time:  12.610538005828857\n",
      "==============================================\n",
      "Nomor:  95\n",
      "Law Number 12 of 2008 concerning the Second Amendment to Law Number 32 of 2004 concerning Regional Government, in Article 236C stipulates...\\n A.  Handling of disputes over the vote counting results of regional head and deputy regional head elections by the Supreme Court shall be transferred to the Constitutional Court no later than 18 (eighteen) months from the promulgation of this Law.\\n B.  The Supreme Court has the authority to adjudicate at the first and final level whose decisions are final, among other things, to decide disputes regarding the results of general elections\\n C.  The Constitutional Court has the authority to adjudicate at the first and final level whose decisions are final, among other things, to decide disputes regarding the results of general elections\\n D.  The Indonesian National Police adjudicates at the first and final level whose decision is final, among other things, to decide disputes regarding the results of the general election\\n E.  The President of the Republic of Indonesia adjudicates at the first and final level whose decision is final, among other things, to decide disputes regarding the results of the general election\n"
     ]
    },
    {
     "name": "stderr",
     "output_type": "stream",
     "text": [
      "Both `max_new_tokens` (=1024) and `max_length`(=1024) seem to have been set. `max_new_tokens` will take precedence. Please refer to the documentation for more information. (https://huggingface.co/docs/transformers/main/en/main_classes/text_generation)\n"
     ]
    },
    {
     "name": "stdout",
     "output_type": "stream",
     "text": [
      " I can't tell you which option is correct because I don't have enough information about the specific context\n",
      "or the relevant laws.\n",
      "\n",
      "\n",
      "Sources:\n",
      "Time:  28.58954954147339\n",
      "==============================================\n",
      "Nomor:  96\n",
      "Governors, regents and mayors, respectively, as heads of provincial, district and city regional governments are elected democratically, as stated in article...\\n A.  1945 Constitution Article 18 paragraph (4)\\n B.  1945 Constitution Article 22E paragraph (1)\\n C.  1945 Constitution Article 27 paragraph (1)\\n D.  1945 Constitution Article 28C paragraph (2)\\n E.  1945 Constitution Article 28D paragraph (1)\n"
     ]
    },
    {
     "name": "stderr",
     "output_type": "stream",
     "text": [
      "Both `max_new_tokens` (=1024) and `max_length`(=1024) seem to have been set. `max_new_tokens` will take precedence. Please refer to the documentation for more information. (https://huggingface.co/docs/transformers/main/en/main_classes/text_generation)\n"
     ]
    },
    {
     "name": "stdout",
     "output_type": "stream",
     "text": [
      " The correct answer is (A).\n",
      "\n",
      "\n",
      "Sources:\n",
      "Time:  5.32504677772522\n",
      "==============================================\n",
      "Nomor:  97\n",
      "General elections are held directly, publicly, freely, secretly, honestly and fairly once every five years, in article...\\n A.  1946 Constitution Article 18 paragraph (4)\\n B.  1946 Constitution Article 22E paragraph (1)\\n C.  1946 Constitution Article 27 paragraph (1)\\n D.  1946 Constitution Article 28C paragraph (2)\\n E.  1946 Constitution Article 28D paragraph (1)\n"
     ]
    },
    {
     "name": "stderr",
     "output_type": "stream",
     "text": [
      "Both `max_new_tokens` (=1024) and `max_length`(=1024) seem to have been set. `max_new_tokens` will take precedence. Please refer to the documentation for more information. (https://huggingface.co/docs/transformers/main/en/main_classes/text_generation)\n"
     ]
    },
    {
     "name": "stdout",
     "output_type": "stream",
     "text": [
      " The correct answer is (B).\n",
      "\n",
      "\n",
      "Sources:\n",
      "Time:  5.323779344558716\n",
      "==============================================\n",
      "Nomor:  98\n",
      "All citizens have the same position under the law and government and are obliged to uphold the law and government without exception, in article...\\n A.  1947 Constitution Article 18 paragraph (4)\\n B.  1947 Constitution Article 22E paragraph (1)\\n C.  1947 Constitution Article 27 paragraph (1)\\n D.  1947 Constitution Article 28C paragraph (2)\\n E.  1947 Constitution Article 28D paragraph (1)\n"
     ]
    },
    {
     "name": "stderr",
     "output_type": "stream",
     "text": [
      "Both `max_new_tokens` (=1024) and `max_length`(=1024) seem to have been set. `max_new_tokens` will take precedence. Please refer to the documentation for more information. (https://huggingface.co/docs/transformers/main/en/main_classes/text_generation)\n"
     ]
    },
    {
     "name": "stdout",
     "output_type": "stream",
     "text": [
      " The correct answer is (A) 1947 Constitution Article 18 paragraph (4).\n",
      "\n",
      "\n",
      "Sources:\n",
      "Time:  14.619417667388916\n",
      "==============================================\n",
      "Nomor:  99\n",
      "Everyone has the right to advance themselves in fighting for their rights collectively to develop their society, nation and state, as stated in article...\\n A.  1948 Constitution Article 18 paragraph (4)\\n B.  1948 Constitution Article 22E paragraph (1)\\n C.  1948 Constitution Article 27 paragraph (1)\\n D.  1948 Constitution Article 28C paragraph (2)\\n E.  1948 Constitution Article 28D paragraph (1)\n"
     ]
    },
    {
     "name": "stderr",
     "output_type": "stream",
     "text": [
      "Both `max_new_tokens` (=1024) and `max_length`(=1024) seem to have been set. `max_new_tokens` will take precedence. Please refer to the documentation for more information. (https://huggingface.co/docs/transformers/main/en/main_classes/text_generation)\n"
     ]
    },
    {
     "name": "stdout",
     "output_type": "stream",
     "text": [
      " The correct answer is (A).\n",
      "\n",
      "\n",
      "Sources:\n",
      "Time:  5.304415702819824\n",
      "==============================================\n",
      "Nomor:  100\n",
      "Every person has the right to recognition, guarantees, protection and fair legal certainty as well as equal treatment before the law, as stated in Article...\\n A.  1949 Constitution Article 18 paragraph (4)\\n B.  1949 Constitution Article 22E paragraph (1)\\n C.  1949 Constitution Article 27 paragraph (1)\\n D.  1949 Constitution Article 28C paragraph (2)\\n E.  1949 Constitution Article 28D paragraph (1)\n",
      " The correct answer is (A).\n",
      "\n",
      "\n",
      "Sources:\n",
      "Time:  5.312114000320435\n",
      "==============================================\n",
      "CPU times: user 1h 47min 56s, sys: 4.37 s, total: 1h 48min\n",
      "Wall time: 1h 47min 56s\n"
     ]
    }
   ],
   "source": [
    "%%time\n",
    "for x,y in zip(dataset.no,dataset.qa_comb):\n",
    "    llm_time_start = time.time()\n",
    "    print(\"Nomor: \",x)\n",
    "    print(y)\n",
    "    llm_ans(y)\n",
    "    llm_time_end = time.time()\n",
    "    print(\"Time: \",llm_time_end - llm_time_start)\n",
    "    print(\"==============================================\")"
   ]
  },
  {
   "cell_type": "code",
   "execution_count": 18,
   "id": "e5a071ce",
   "metadata": {
    "execution": {
     "iopub.execute_input": "2023-11-04T06:30:59.071515Z",
     "iopub.status.busy": "2023-11-04T06:30:59.070639Z",
     "iopub.status.idle": "2023-11-04T06:30:59.075685Z",
     "shell.execute_reply": "2023-11-04T06:30:59.074754Z"
    },
    "papermill": {
     "duration": 0.036392,
     "end_time": "2023-11-04T06:30:59.077789",
     "exception": false,
     "start_time": "2023-11-04T06:30:59.041397",
     "status": "completed"
    },
    "tags": []
   },
   "outputs": [
    {
     "name": "stdout",
     "output_type": "stream",
     "text": [
      "7668.3984496593475\n"
     ]
    }
   ],
   "source": [
    "end = time.time()\n",
    "print(end - start)"
   ]
  }
 ],
 "metadata": {
  "kernelspec": {
   "display_name": "Python 3",
   "language": "python",
   "name": "python3"
  },
  "language_info": {
   "codemirror_mode": {
    "name": "ipython",
    "version": 3
   },
   "file_extension": ".py",
   "mimetype": "text/x-python",
   "name": "python",
   "nbconvert_exporter": "python",
   "pygments_lexer": "ipython3",
   "version": "3.10.12"
  },
  "papermill": {
   "default_parameters": {},
   "duration": 7674.576365,
   "end_time": "2023-11-04T06:31:01.948814",
   "environment_variables": {},
   "exception": null,
   "input_path": "__notebook__.ipynb",
   "output_path": "__notebook__.ipynb",
   "parameters": {},
   "start_time": "2023-11-04T04:23:07.372449",
   "version": "2.4.0"
  },
  "widgets": {
   "application/vnd.jupyter.widget-state+json": {
    "state": {
     "010a10731d294df29dfd4142de5c2740": {
      "model_module": "@jupyter-widgets/base",
      "model_module_version": "1.2.0",
      "model_name": "LayoutModel",
      "state": {
       "_model_module": "@jupyter-widgets/base",
       "_model_module_version": "1.2.0",
       "_model_name": "LayoutModel",
       "_view_count": null,
       "_view_module": "@jupyter-widgets/base",
       "_view_module_version": "1.2.0",
       "_view_name": "LayoutView",
       "align_content": null,
       "align_items": null,
       "align_self": null,
       "border": null,
       "bottom": null,
       "display": null,
       "flex": null,
       "flex_flow": null,
       "grid_area": null,
       "grid_auto_columns": null,
       "grid_auto_flow": null,
       "grid_auto_rows": null,
       "grid_column": null,
       "grid_gap": null,
       "grid_row": null,
       "grid_template_areas": null,
       "grid_template_columns": null,
       "grid_template_rows": null,
       "height": null,
       "justify_content": null,
       "justify_items": null,
       "left": null,
       "margin": null,
       "max_height": null,
       "max_width": null,
       "min_height": null,
       "min_width": null,
       "object_fit": null,
       "object_position": null,
       "order": null,
       "overflow": null,
       "overflow_x": null,
       "overflow_y": null,
       "padding": null,
       "right": null,
       "top": null,
       "visibility": null,
       "width": null
      }
     },
     "0244bc52d001422fbf98777605545c57": {
      "model_module": "@jupyter-widgets/controls",
      "model_module_version": "1.5.0",
      "model_name": "ProgressStyleModel",
      "state": {
       "_model_module": "@jupyter-widgets/controls",
       "_model_module_version": "1.5.0",
       "_model_name": "ProgressStyleModel",
       "_view_count": null,
       "_view_module": "@jupyter-widgets/base",
       "_view_module_version": "1.2.0",
       "_view_name": "StyleView",
       "bar_color": null,
       "description_width": ""
      }
     },
     "0357bdcfd9ac49fd9f071771e21cc204": {
      "model_module": "@jupyter-widgets/controls",
      "model_module_version": "1.5.0",
      "model_name": "ProgressStyleModel",
      "state": {
       "_model_module": "@jupyter-widgets/controls",
       "_model_module_version": "1.5.0",
       "_model_name": "ProgressStyleModel",
       "_view_count": null,
       "_view_module": "@jupyter-widgets/base",
       "_view_module_version": "1.2.0",
       "_view_name": "StyleView",
       "bar_color": null,
       "description_width": ""
      }
     },
     "04e916ef4e934c85b36bd65df520c4e4": {
      "model_module": "@jupyter-widgets/controls",
      "model_module_version": "1.5.0",
      "model_name": "DescriptionStyleModel",
      "state": {
       "_model_module": "@jupyter-widgets/controls",
       "_model_module_version": "1.5.0",
       "_model_name": "DescriptionStyleModel",
       "_view_count": null,
       "_view_module": "@jupyter-widgets/base",
       "_view_module_version": "1.2.0",
       "_view_name": "StyleView",
       "description_width": ""
      }
     },
     "04f899351e7a45ec9e866008fc2c50f2": {
      "model_module": "@jupyter-widgets/controls",
      "model_module_version": "1.5.0",
      "model_name": "HBoxModel",
      "state": {
       "_dom_classes": [],
       "_model_module": "@jupyter-widgets/controls",
       "_model_module_version": "1.5.0",
       "_model_name": "HBoxModel",
       "_view_count": null,
       "_view_module": "@jupyter-widgets/controls",
       "_view_module_version": "1.5.0",
       "_view_name": "HBoxView",
       "box_style": "",
       "children": [
        "IPY_MODEL_a6b5699e0e5842a69eb12d689bdb3651",
        "IPY_MODEL_0942db0c987e4188a9c95ec63d460889",
        "IPY_MODEL_d039ee7a7cca4b63958c1a95078de92c"
       ],
       "layout": "IPY_MODEL_179d3b7c9ce348388520774ee9a51104"
      }
     },
     "05f75d2ec53944b0ab175d078c78e229": {
      "model_module": "@jupyter-widgets/base",
      "model_module_version": "1.2.0",
      "model_name": "LayoutModel",
      "state": {
       "_model_module": "@jupyter-widgets/base",
       "_model_module_version": "1.2.0",
       "_model_name": "LayoutModel",
       "_view_count": null,
       "_view_module": "@jupyter-widgets/base",
       "_view_module_version": "1.2.0",
       "_view_name": "LayoutView",
       "align_content": null,
       "align_items": null,
       "align_self": null,
       "border": null,
       "bottom": null,
       "display": null,
       "flex": null,
       "flex_flow": null,
       "grid_area": null,
       "grid_auto_columns": null,
       "grid_auto_flow": null,
       "grid_auto_rows": null,
       "grid_column": null,
       "grid_gap": null,
       "grid_row": null,
       "grid_template_areas": null,
       "grid_template_columns": null,
       "grid_template_rows": null,
       "height": null,
       "justify_content": null,
       "justify_items": null,
       "left": null,
       "margin": null,
       "max_height": null,
       "max_width": null,
       "min_height": null,
       "min_width": null,
       "object_fit": null,
       "object_position": null,
       "order": null,
       "overflow": null,
       "overflow_x": null,
       "overflow_y": null,
       "padding": null,
       "right": null,
       "top": null,
       "visibility": null,
       "width": null
      }
     },
     "070426957f81423c89ea825461f261bd": {
      "model_module": "@jupyter-widgets/controls",
      "model_module_version": "1.5.0",
      "model_name": "DescriptionStyleModel",
      "state": {
       "_model_module": "@jupyter-widgets/controls",
       "_model_module_version": "1.5.0",
       "_model_name": "DescriptionStyleModel",
       "_view_count": null,
       "_view_module": "@jupyter-widgets/base",
       "_view_module_version": "1.2.0",
       "_view_name": "StyleView",
       "description_width": ""
      }
     },
     "08bee9332d0d4e3b862554d54b82a569": {
      "model_module": "@jupyter-widgets/base",
      "model_module_version": "1.2.0",
      "model_name": "LayoutModel",
      "state": {
       "_model_module": "@jupyter-widgets/base",
       "_model_module_version": "1.2.0",
       "_model_name": "LayoutModel",
       "_view_count": null,
       "_view_module": "@jupyter-widgets/base",
       "_view_module_version": "1.2.0",
       "_view_name": "LayoutView",
       "align_content": null,
       "align_items": null,
       "align_self": null,
       "border": null,
       "bottom": null,
       "display": null,
       "flex": null,
       "flex_flow": null,
       "grid_area": null,
       "grid_auto_columns": null,
       "grid_auto_flow": null,
       "grid_auto_rows": null,
       "grid_column": null,
       "grid_gap": null,
       "grid_row": null,
       "grid_template_areas": null,
       "grid_template_columns": null,
       "grid_template_rows": null,
       "height": null,
       "justify_content": null,
       "justify_items": null,
       "left": null,
       "margin": null,
       "max_height": null,
       "max_width": null,
       "min_height": null,
       "min_width": null,
       "object_fit": null,
       "object_position": null,
       "order": null,
       "overflow": null,
       "overflow_x": null,
       "overflow_y": null,
       "padding": null,
       "right": null,
       "top": null,
       "visibility": null,
       "width": null
      }
     },
     "0919d258b9264440aa6df28bc4e9a03f": {
      "model_module": "@jupyter-widgets/controls",
      "model_module_version": "1.5.0",
      "model_name": "HTMLModel",
      "state": {
       "_dom_classes": [],
       "_model_module": "@jupyter-widgets/controls",
       "_model_module_version": "1.5.0",
       "_model_name": "HTMLModel",
       "_view_count": null,
       "_view_module": "@jupyter-widgets/controls",
       "_view_module_version": "1.5.0",
       "_view_name": "HTMLView",
       "description": "",
       "description_tooltip": null,
       "layout": "IPY_MODEL_cf41fcfc45cf48fab8e0206bf66138ce",
       "placeholder": "​",
       "style": "IPY_MODEL_a464f5e6908d467ba70abbbe9813aaf8",
       "value": "Downloading (…)f723897/modules.json: 100%"
      }
     },
     "0942db0c987e4188a9c95ec63d460889": {
      "model_module": "@jupyter-widgets/controls",
      "model_module_version": "1.5.0",
      "model_name": "FloatProgressModel",
      "state": {
       "_dom_classes": [],
       "_model_module": "@jupyter-widgets/controls",
       "_model_module_version": "1.5.0",
       "_model_name": "FloatProgressModel",
       "_view_count": null,
       "_view_module": "@jupyter-widgets/controls",
       "_view_module_version": "1.5.0",
       "_view_name": "ProgressView",
       "bar_style": "success",
       "description": "",
       "description_tooltip": null,
       "layout": "IPY_MODEL_ee8597f2d2bc4523b5b76af5f6018293",
       "max": 123.0,
       "min": 0.0,
       "orientation": "horizontal",
       "style": "IPY_MODEL_615e29a362754cd583707e56c506eb3f",
       "value": 123.0
      }
     },
     "0a70acf4552d4426851d0950571967fa": {
      "model_module": "@jupyter-widgets/base",
      "model_module_version": "1.2.0",
      "model_name": "LayoutModel",
      "state": {
       "_model_module": "@jupyter-widgets/base",
       "_model_module_version": "1.2.0",
       "_model_name": "LayoutModel",
       "_view_count": null,
       "_view_module": "@jupyter-widgets/base",
       "_view_module_version": "1.2.0",
       "_view_name": "LayoutView",
       "align_content": null,
       "align_items": null,
       "align_self": null,
       "border": null,
       "bottom": null,
       "display": null,
       "flex": null,
       "flex_flow": null,
       "grid_area": null,
       "grid_auto_columns": null,
       "grid_auto_flow": null,
       "grid_auto_rows": null,
       "grid_column": null,
       "grid_gap": null,
       "grid_row": null,
       "grid_template_areas": null,
       "grid_template_columns": null,
       "grid_template_rows": null,
       "height": null,
       "justify_content": null,
       "justify_items": null,
       "left": null,
       "margin": null,
       "max_height": null,
       "max_width": null,
       "min_height": null,
       "min_width": null,
       "object_fit": null,
       "object_position": null,
       "order": null,
       "overflow": null,
       "overflow_x": null,
       "overflow_y": null,
       "padding": null,
       "right": null,
       "top": null,
       "visibility": null,
       "width": null
      }
     },
     "0c3c7ff35f3247efbef9b716c263a105": {
      "model_module": "@jupyter-widgets/controls",
      "model_module_version": "1.5.0",
      "model_name": "FloatProgressModel",
      "state": {
       "_dom_classes": [],
       "_model_module": "@jupyter-widgets/controls",
       "_model_module_version": "1.5.0",
       "_model_name": "FloatProgressModel",
       "_view_count": null,
       "_view_module": "@jupyter-widgets/controls",
       "_view_module_version": "1.5.0",
       "_view_name": "ProgressView",
       "bar_style": "success",
       "description": "",
       "description_tooltip": null,
       "layout": "IPY_MODEL_31a5e765d25a470898abd63864a7e824",
       "max": 3980589119.0,
       "min": 0.0,
       "orientation": "horizontal",
       "style": "IPY_MODEL_d44b8d6c99f849689aa7a08266a99a92",
       "value": 3980589119.0
      }
     },
     "0ce66ca655fb4f388e6dd071c69615f0": {
      "model_module": "@jupyter-widgets/controls",
      "model_module_version": "1.5.0",
      "model_name": "HTMLModel",
      "state": {
       "_dom_classes": [],
       "_model_module": "@jupyter-widgets/controls",
       "_model_module_version": "1.5.0",
       "_model_name": "HTMLModel",
       "_view_count": null,
       "_view_module": "@jupyter-widgets/controls",
       "_view_module_version": "1.5.0",
       "_view_name": "HTMLView",
       "description": "",
       "description_tooltip": null,
       "layout": "IPY_MODEL_f8fffb923ac14631a65b4e3cd85f2072",
       "placeholder": "​",
       "style": "IPY_MODEL_83bade8d98c646bdb1a70c1459a6426f",
       "value": "Downloading (…)tencepiece.bpe.model: 100%"
      }
     },
     "0d54e3e0648e4f8bbac9187adb1f4e03": {
      "model_module": "@jupyter-widgets/base",
      "model_module_version": "1.2.0",
      "model_name": "LayoutModel",
      "state": {
       "_model_module": "@jupyter-widgets/base",
       "_model_module_version": "1.2.0",
       "_model_name": "LayoutModel",
       "_view_count": null,
       "_view_module": "@jupyter-widgets/base",
       "_view_module_version": "1.2.0",
       "_view_name": "LayoutView",
       "align_content": null,
       "align_items": null,
       "align_self": null,
       "border": null,
       "bottom": null,
       "display": null,
       "flex": null,
       "flex_flow": null,
       "grid_area": null,
       "grid_auto_columns": null,
       "grid_auto_flow": null,
       "grid_auto_rows": null,
       "grid_column": null,
       "grid_gap": null,
       "grid_row": null,
       "grid_template_areas": null,
       "grid_template_columns": null,
       "grid_template_rows": null,
       "height": null,
       "justify_content": null,
       "justify_items": null,
       "left": null,
       "margin": null,
       "max_height": null,
       "max_width": null,
       "min_height": null,
       "min_width": null,
       "object_fit": null,
       "object_position": null,
       "order": null,
       "overflow": null,
       "overflow_x": null,
       "overflow_y": null,
       "padding": null,
       "right": null,
       "top": null,
       "visibility": null,
       "width": null
      }
     },
     "0e228001351f46e581c2dbfabaa8fd4e": {
      "model_module": "@jupyter-widgets/controls",
      "model_module_version": "1.5.0",
      "model_name": "HTMLModel",
      "state": {
       "_dom_classes": [],
       "_model_module": "@jupyter-widgets/controls",
       "_model_module_version": "1.5.0",
       "_model_name": "HTMLModel",
       "_view_count": null,
       "_view_module": "@jupyter-widgets/controls",
       "_view_module_version": "1.5.0",
       "_view_name": "HTMLView",
       "description": "",
       "description_tooltip": null,
       "layout": "IPY_MODEL_5888ec957c20455192519d7f55b0dcac",
       "placeholder": "​",
       "style": "IPY_MODEL_c478c14b262943c2bad5c2de62a40138",
       "value": " 3.96G/3.96G [04:15&lt;00:00, 16.6MB/s]"
      }
     },
     "0e3b99288b6a4ca59b4b5847c78bb895": {
      "model_module": "@jupyter-widgets/base",
      "model_module_version": "1.2.0",
      "model_name": "LayoutModel",
      "state": {
       "_model_module": "@jupyter-widgets/base",
       "_model_module_version": "1.2.0",
       "_model_name": "LayoutModel",
       "_view_count": null,
       "_view_module": "@jupyter-widgets/base",
       "_view_module_version": "1.2.0",
       "_view_name": "LayoutView",
       "align_content": null,
       "align_items": null,
       "align_self": null,
       "border": null,
       "bottom": null,
       "display": null,
       "flex": null,
       "flex_flow": null,
       "grid_area": null,
       "grid_auto_columns": null,
       "grid_auto_flow": null,
       "grid_auto_rows": null,
       "grid_column": null,
       "grid_gap": null,
       "grid_row": null,
       "grid_template_areas": null,
       "grid_template_columns": null,
       "grid_template_rows": null,
       "height": null,
       "justify_content": null,
       "justify_items": null,
       "left": null,
       "margin": null,
       "max_height": null,
       "max_width": null,
       "min_height": null,
       "min_width": null,
       "object_fit": null,
       "object_position": null,
       "order": null,
       "overflow": null,
       "overflow_x": null,
       "overflow_y": null,
       "padding": null,
       "right": null,
       "top": null,
       "visibility": null,
       "width": null
      }
     },
     "0e458dd20fd04af09596e1033ac885bd": {
      "model_module": "@jupyter-widgets/controls",
      "model_module_version": "1.5.0",
      "model_name": "HTMLModel",
      "state": {
       "_dom_classes": [],
       "_model_module": "@jupyter-widgets/controls",
       "_model_module_version": "1.5.0",
       "_model_name": "HTMLModel",
       "_view_count": null,
       "_view_module": "@jupyter-widgets/controls",
       "_view_module_version": "1.5.0",
       "_view_name": "HTMLView",
       "description": "",
       "description_tooltip": null,
       "layout": "IPY_MODEL_c0ac256f663e4f979834884cca68ccb7",
       "placeholder": "​",
       "style": "IPY_MODEL_545d1964d0de458daa72cbae2c0ab332",
       "value": " 3.98G/3.98G [04:43&lt;00:00, 14.8MB/s]"
      }
     },
     "0ee3a5e4ee0e4e58bfb597ef2a70ad47": {
      "model_module": "@jupyter-widgets/controls",
      "model_module_version": "1.5.0",
      "model_name": "HTMLModel",
      "state": {
       "_dom_classes": [],
       "_model_module": "@jupyter-widgets/controls",
       "_model_module_version": "1.5.0",
       "_model_name": "HTMLModel",
       "_view_count": null,
       "_view_module": "@jupyter-widgets/controls",
       "_view_module_version": "1.5.0",
       "_view_name": "HTMLView",
       "description": "",
       "description_tooltip": null,
       "layout": "IPY_MODEL_96055a30bd79442ca7d21d83dbc182e4",
       "placeholder": "​",
       "style": "IPY_MODEL_5a4ff31b5b7d489f8b3d67b15e882949",
       "value": "Downloading (…)790f723897/README.md: 100%"
      }
     },
     "103598d281f54b2c8e81230ac70107ef": {
      "model_module": "@jupyter-widgets/controls",
      "model_module_version": "1.5.0",
      "model_name": "FloatProgressModel",
      "state": {
       "_dom_classes": [],
       "_model_module": "@jupyter-widgets/controls",
       "_model_module_version": "1.5.0",
       "_model_name": "FloatProgressModel",
       "_view_count": null,
       "_view_module": "@jupyter-widgets/controls",
       "_view_module_version": "1.5.0",
       "_view_name": "ProgressView",
       "bar_style": "success",
       "description": "",
       "description_tooltip": null,
       "layout": "IPY_MODEL_88c7504bf071454d92f9e8b3ffe7221a",
       "max": 4.0,
       "min": 0.0,
       "orientation": "horizontal",
       "style": "IPY_MODEL_1a859edbd84f45a7ac0a37008449129f",
       "value": 4.0
      }
     },
     "1310b1375f034654b30452c3ca9ef17d": {
      "model_module": "@jupyter-widgets/base",
      "model_module_version": "1.2.0",
      "model_name": "LayoutModel",
      "state": {
       "_model_module": "@jupyter-widgets/base",
       "_model_module_version": "1.2.0",
       "_model_name": "LayoutModel",
       "_view_count": null,
       "_view_module": "@jupyter-widgets/base",
       "_view_module_version": "1.2.0",
       "_view_name": "LayoutView",
       "align_content": null,
       "align_items": null,
       "align_self": null,
       "border": null,
       "bottom": null,
       "display": null,
       "flex": null,
       "flex_flow": null,
       "grid_area": null,
       "grid_auto_columns": null,
       "grid_auto_flow": null,
       "grid_auto_rows": null,
       "grid_column": null,
       "grid_gap": null,
       "grid_row": null,
       "grid_template_areas": null,
       "grid_template_columns": null,
       "grid_template_rows": null,
       "height": null,
       "justify_content": null,
       "justify_items": null,
       "left": null,
       "margin": null,
       "max_height": null,
       "max_width": null,
       "min_height": null,
       "min_width": null,
       "object_fit": null,
       "object_position": null,
       "order": null,
       "overflow": null,
       "overflow_x": null,
       "overflow_y": null,
       "padding": null,
       "right": null,
       "top": null,
       "visibility": null,
       "width": null
      }
     },
     "1388d6dd14624555a761e6058cbdc04a": {
      "model_module": "@jupyter-widgets/controls",
      "model_module_version": "1.5.0",
      "model_name": "DescriptionStyleModel",
      "state": {
       "_model_module": "@jupyter-widgets/controls",
       "_model_module_version": "1.5.0",
       "_model_name": "DescriptionStyleModel",
       "_view_count": null,
       "_view_module": "@jupyter-widgets/base",
       "_view_module_version": "1.2.0",
       "_view_name": "StyleView",
       "description_width": ""
      }
     },
     "14ab37c8f6024bc092337f2dab3faeff": {
      "model_module": "@jupyter-widgets/controls",
      "model_module_version": "1.5.0",
      "model_name": "DescriptionStyleModel",
      "state": {
       "_model_module": "@jupyter-widgets/controls",
       "_model_module_version": "1.5.0",
       "_model_name": "DescriptionStyleModel",
       "_view_count": null,
       "_view_module": "@jupyter-widgets/base",
       "_view_module_version": "1.2.0",
       "_view_name": "StyleView",
       "description_width": ""
      }
     },
     "14bc293c6ea746b6900cdd51488dde16": {
      "model_module": "@jupyter-widgets/controls",
      "model_module_version": "1.5.0",
      "model_name": "HTMLModel",
      "state": {
       "_dom_classes": [],
       "_model_module": "@jupyter-widgets/controls",
       "_model_module_version": "1.5.0",
       "_model_name": "HTMLModel",
       "_view_count": null,
       "_view_module": "@jupyter-widgets/controls",
       "_view_module_version": "1.5.0",
       "_view_name": "HTMLView",
       "description": "",
       "description_tooltip": null,
       "layout": "IPY_MODEL_f21e5b5b7da9430b817bfb342adab610",
       "placeholder": "​",
       "style": "IPY_MODEL_87ad01e88f59458291b24936ae0732fd",
       "value": "Downloading (…)l-00001-of-00004.bin: 100%"
      }
     },
     "1567e74b72e443c8a81caa0ee31615a8": {
      "model_module": "@jupyter-widgets/base",
      "model_module_version": "1.2.0",
      "model_name": "LayoutModel",
      "state": {
       "_model_module": "@jupyter-widgets/base",
       "_model_module_version": "1.2.0",
       "_model_name": "LayoutModel",
       "_view_count": null,
       "_view_module": "@jupyter-widgets/base",
       "_view_module_version": "1.2.0",
       "_view_name": "LayoutView",
       "align_content": null,
       "align_items": null,
       "align_self": null,
       "border": null,
       "bottom": null,
       "display": null,
       "flex": null,
       "flex_flow": null,
       "grid_area": null,
       "grid_auto_columns": null,
       "grid_auto_flow": null,
       "grid_auto_rows": null,
       "grid_column": null,
       "grid_gap": null,
       "grid_row": null,
       "grid_template_areas": null,
       "grid_template_columns": null,
       "grid_template_rows": null,
       "height": null,
       "justify_content": null,
       "justify_items": null,
       "left": null,
       "margin": null,
       "max_height": null,
       "max_width": null,
       "min_height": null,
       "min_width": null,
       "object_fit": null,
       "object_position": null,
       "order": null,
       "overflow": null,
       "overflow_x": null,
       "overflow_y": null,
       "padding": null,
       "right": null,
       "top": null,
       "visibility": null,
       "width": null
      }
     },
     "15e8b098776445d48ddcf4683b4668c9": {
      "model_module": "@jupyter-widgets/base",
      "model_module_version": "1.2.0",
      "model_name": "LayoutModel",
      "state": {
       "_model_module": "@jupyter-widgets/base",
       "_model_module_version": "1.2.0",
       "_model_name": "LayoutModel",
       "_view_count": null,
       "_view_module": "@jupyter-widgets/base",
       "_view_module_version": "1.2.0",
       "_view_name": "LayoutView",
       "align_content": null,
       "align_items": null,
       "align_self": null,
       "border": null,
       "bottom": null,
       "display": null,
       "flex": null,
       "flex_flow": null,
       "grid_area": null,
       "grid_auto_columns": null,
       "grid_auto_flow": null,
       "grid_auto_rows": null,
       "grid_column": null,
       "grid_gap": null,
       "grid_row": null,
       "grid_template_areas": null,
       "grid_template_columns": null,
       "grid_template_rows": null,
       "height": null,
       "justify_content": null,
       "justify_items": null,
       "left": null,
       "margin": null,
       "max_height": null,
       "max_width": null,
       "min_height": null,
       "min_width": null,
       "object_fit": null,
       "object_position": null,
       "order": null,
       "overflow": null,
       "overflow_x": null,
       "overflow_y": null,
       "padding": null,
       "right": null,
       "top": null,
       "visibility": null,
       "width": null
      }
     },
     "17559304db294acaa2aba57eaf05b7cf": {
      "model_module": "@jupyter-widgets/controls",
      "model_module_version": "1.5.0",
      "model_name": "DescriptionStyleModel",
      "state": {
       "_model_module": "@jupyter-widgets/controls",
       "_model_module_version": "1.5.0",
       "_model_name": "DescriptionStyleModel",
       "_view_count": null,
       "_view_module": "@jupyter-widgets/base",
       "_view_module_version": "1.2.0",
       "_view_name": "StyleView",
       "description_width": ""
      }
     },
     "179d3b7c9ce348388520774ee9a51104": {
      "model_module": "@jupyter-widgets/base",
      "model_module_version": "1.2.0",
      "model_name": "LayoutModel",
      "state": {
       "_model_module": "@jupyter-widgets/base",
       "_model_module_version": "1.2.0",
       "_model_name": "LayoutModel",
       "_view_count": null,
       "_view_module": "@jupyter-widgets/base",
       "_view_module_version": "1.2.0",
       "_view_name": "LayoutView",
       "align_content": null,
       "align_items": null,
       "align_self": null,
       "border": null,
       "bottom": null,
       "display": null,
       "flex": null,
       "flex_flow": null,
       "grid_area": null,
       "grid_auto_columns": null,
       "grid_auto_flow": null,
       "grid_auto_rows": null,
       "grid_column": null,
       "grid_gap": null,
       "grid_row": null,
       "grid_template_areas": null,
       "grid_template_columns": null,
       "grid_template_rows": null,
       "height": null,
       "justify_content": null,
       "justify_items": null,
       "left": null,
       "margin": null,
       "max_height": null,
       "max_width": null,
       "min_height": null,
       "min_width": null,
       "object_fit": null,
       "object_position": null,
       "order": null,
       "overflow": null,
       "overflow_x": null,
       "overflow_y": null,
       "padding": null,
       "right": null,
       "top": null,
       "visibility": null,
       "width": null
      }
     },
     "1a3f6c07c98146ec90427b6292690025": {
      "model_module": "@jupyter-widgets/controls",
      "model_module_version": "1.5.0",
      "model_name": "DescriptionStyleModel",
      "state": {
       "_model_module": "@jupyter-widgets/controls",
       "_model_module_version": "1.5.0",
       "_model_name": "DescriptionStyleModel",
       "_view_count": null,
       "_view_module": "@jupyter-widgets/base",
       "_view_module_version": "1.2.0",
       "_view_name": "StyleView",
       "description_width": ""
      }
     },
     "1a859edbd84f45a7ac0a37008449129f": {
      "model_module": "@jupyter-widgets/controls",
      "model_module_version": "1.5.0",
      "model_name": "ProgressStyleModel",
      "state": {
       "_model_module": "@jupyter-widgets/controls",
       "_model_module_version": "1.5.0",
       "_model_name": "ProgressStyleModel",
       "_view_count": null,
       "_view_module": "@jupyter-widgets/base",
       "_view_module_version": "1.2.0",
       "_view_name": "StyleView",
       "bar_color": null,
       "description_width": ""
      }
     },
     "1b59a371319f461693058b965738f554": {
      "model_module": "@jupyter-widgets/controls",
      "model_module_version": "1.5.0",
      "model_name": "FloatProgressModel",
      "state": {
       "_dom_classes": [],
       "_model_module": "@jupyter-widgets/controls",
       "_model_module_version": "1.5.0",
       "_model_name": "FloatProgressModel",
       "_view_count": null,
       "_view_module": "@jupyter-widgets/controls",
       "_view_module_version": "1.5.0",
       "_view_name": "ProgressView",
       "bar_style": "success",
       "description": "",
       "description_tooltip": null,
       "layout": "IPY_MODEL_897b9828d3684242aa7d7093347df59c",
       "max": 229.0,
       "min": 0.0,
       "orientation": "horizontal",
       "style": "IPY_MODEL_db4695e9f233463cb6061c1b84790221",
       "value": 229.0
      }
     },
     "1bafe31a22e045adbf63ca6b76783abe": {
      "model_module": "@jupyter-widgets/controls",
      "model_module_version": "1.5.0",
      "model_name": "FloatProgressModel",
      "state": {
       "_dom_classes": [],
       "_model_module": "@jupyter-widgets/controls",
       "_model_module_version": "1.5.0",
       "_model_name": "FloatProgressModel",
       "_view_count": null,
       "_view_module": "@jupyter-widgets/controls",
       "_view_module_version": "1.5.0",
       "_view_name": "ProgressView",
       "bar_style": "success",
       "description": "",
       "description_tooltip": null,
       "layout": "IPY_MODEL_cea77ac9d1e243828c2aa38c43d1cb29",
       "max": 428012973.0,
       "min": 0.0,
       "orientation": "horizontal",
       "style": "IPY_MODEL_42586dbb53e9475fb452aa36a3b3ec38",
       "value": 428012973.0
      }
     },
     "1bdf4fe14a9d43d096744e9ea9a63e2a": {
      "model_module": "@jupyter-widgets/controls",
      "model_module_version": "1.5.0",
      "model_name": "HTMLModel",
      "state": {
       "_dom_classes": [],
       "_model_module": "@jupyter-widgets/controls",
       "_model_module_version": "1.5.0",
       "_model_name": "HTMLModel",
       "_view_count": null,
       "_view_module": "@jupyter-widgets/controls",
       "_view_module_version": "1.5.0",
       "_view_name": "HTMLView",
       "description": "",
       "description_tooltip": null,
       "layout": "IPY_MODEL_cefe58c5e5db4440adb689995cb40b9d",
       "placeholder": "​",
       "style": "IPY_MODEL_eda2699c64004c32ba178f77e8f5e2b4",
       "value": " 4/4 [00:56&lt;00:00, 12.58s/it]"
      }
     },
     "1ccccd511cdf47dfae7027ad63dc7c24": {
      "model_module": "@jupyter-widgets/controls",
      "model_module_version": "1.5.0",
      "model_name": "HTMLModel",
      "state": {
       "_dom_classes": [],
       "_model_module": "@jupyter-widgets/controls",
       "_model_module_version": "1.5.0",
       "_model_name": "HTMLModel",
       "_view_count": null,
       "_view_module": "@jupyter-widgets/controls",
       "_view_module_version": "1.5.0",
       "_view_name": "HTMLView",
       "description": "",
       "description_tooltip": null,
       "layout": "IPY_MODEL_abe9a84b1bf84d53b064499c809430ec",
       "placeholder": "​",
       "style": "IPY_MODEL_77ac92d8ad5547ad9942daaac17d00ec",
       "value": " 3.02k/3.02k [00:00&lt;00:00, 240kB/s]"
      }
     },
     "1d1900b3a2ca4fe0a41256bd1ff5e97c": {
      "model_module": "@jupyter-widgets/controls",
      "model_module_version": "1.5.0",
      "model_name": "DescriptionStyleModel",
      "state": {
       "_model_module": "@jupyter-widgets/controls",
       "_model_module_version": "1.5.0",
       "_model_name": "DescriptionStyleModel",
       "_view_count": null,
       "_view_module": "@jupyter-widgets/base",
       "_view_module_version": "1.2.0",
       "_view_name": "StyleView",
       "description_width": ""
      }
     },
     "1e2bbc1e1a714c0d8793d8f02f67bc6a": {
      "model_module": "@jupyter-widgets/controls",
      "model_module_version": "1.5.0",
      "model_name": "HTMLModel",
      "state": {
       "_dom_classes": [],
       "_model_module": "@jupyter-widgets/controls",
       "_model_module_version": "1.5.0",
       "_model_name": "HTMLModel",
       "_view_count": null,
       "_view_module": "@jupyter-widgets/controls",
       "_view_module_version": "1.5.0",
       "_view_name": "HTMLView",
       "description": "",
       "description_tooltip": null,
       "layout": "IPY_MODEL_69a60ec08287440484eb381312979ce6",
       "placeholder": "​",
       "style": "IPY_MODEL_61aa16a1fa714d6cb0482a60e04b9eda",
       "value": "Downloading pytorch_model.bin: 100%"
      }
     },
     "1e593ed21d154604ae32ac3dda8a936a": {
      "model_module": "@jupyter-widgets/base",
      "model_module_version": "1.2.0",
      "model_name": "LayoutModel",
      "state": {
       "_model_module": "@jupyter-widgets/base",
       "_model_module_version": "1.2.0",
       "_model_name": "LayoutModel",
       "_view_count": null,
       "_view_module": "@jupyter-widgets/base",
       "_view_module_version": "1.2.0",
       "_view_name": "LayoutView",
       "align_content": null,
       "align_items": null,
       "align_self": null,
       "border": null,
       "bottom": null,
       "display": null,
       "flex": null,
       "flex_flow": null,
       "grid_area": null,
       "grid_auto_columns": null,
       "grid_auto_flow": null,
       "grid_auto_rows": null,
       "grid_column": null,
       "grid_gap": null,
       "grid_row": null,
       "grid_template_areas": null,
       "grid_template_columns": null,
       "grid_template_rows": null,
       "height": null,
       "justify_content": null,
       "justify_items": null,
       "left": null,
       "margin": null,
       "max_height": null,
       "max_width": null,
       "min_height": null,
       "min_width": null,
       "object_fit": null,
       "object_position": null,
       "order": null,
       "overflow": null,
       "overflow_x": null,
       "overflow_y": null,
       "padding": null,
       "right": null,
       "top": null,
       "visibility": null,
       "width": null
      }
     },
     "1ef5860338ef4421a9c61c7cedfd28f8": {
      "model_module": "@jupyter-widgets/base",
      "model_module_version": "1.2.0",
      "model_name": "LayoutModel",
      "state": {
       "_model_module": "@jupyter-widgets/base",
       "_model_module_version": "1.2.0",
       "_model_name": "LayoutModel",
       "_view_count": null,
       "_view_module": "@jupyter-widgets/base",
       "_view_module_version": "1.2.0",
       "_view_name": "LayoutView",
       "align_content": null,
       "align_items": null,
       "align_self": null,
       "border": null,
       "bottom": null,
       "display": null,
       "flex": null,
       "flex_flow": null,
       "grid_area": null,
       "grid_auto_columns": null,
       "grid_auto_flow": null,
       "grid_auto_rows": null,
       "grid_column": null,
       "grid_gap": null,
       "grid_row": null,
       "grid_template_areas": null,
       "grid_template_columns": null,
       "grid_template_rows": null,
       "height": null,
       "justify_content": null,
       "justify_items": null,
       "left": null,
       "margin": null,
       "max_height": null,
       "max_width": null,
       "min_height": null,
       "min_width": null,
       "object_fit": null,
       "object_position": null,
       "order": null,
       "overflow": null,
       "overflow_x": null,
       "overflow_y": null,
       "padding": null,
       "right": null,
       "top": null,
       "visibility": null,
       "width": null
      }
     },
     "212d5902fcc9455e86daea53a9f677af": {
      "model_module": "@jupyter-widgets/controls",
      "model_module_version": "1.5.0",
      "model_name": "DescriptionStyleModel",
      "state": {
       "_model_module": "@jupyter-widgets/controls",
       "_model_module_version": "1.5.0",
       "_model_name": "DescriptionStyleModel",
       "_view_count": null,
       "_view_module": "@jupyter-widgets/base",
       "_view_module_version": "1.2.0",
       "_view_name": "StyleView",
       "description_width": ""
      }
     },
     "23de6c5ba8e8413bb006dc66548b11a7": {
      "model_module": "@jupyter-widgets/base",
      "model_module_version": "1.2.0",
      "model_name": "LayoutModel",
      "state": {
       "_model_module": "@jupyter-widgets/base",
       "_model_module_version": "1.2.0",
       "_model_name": "LayoutModel",
       "_view_count": null,
       "_view_module": "@jupyter-widgets/base",
       "_view_module_version": "1.2.0",
       "_view_name": "LayoutView",
       "align_content": null,
       "align_items": null,
       "align_self": null,
       "border": null,
       "bottom": null,
       "display": null,
       "flex": null,
       "flex_flow": null,
       "grid_area": null,
       "grid_auto_columns": null,
       "grid_auto_flow": null,
       "grid_auto_rows": null,
       "grid_column": null,
       "grid_gap": null,
       "grid_row": null,
       "grid_template_areas": null,
       "grid_template_columns": null,
       "grid_template_rows": null,
       "height": null,
       "justify_content": null,
       "justify_items": null,
       "left": null,
       "margin": null,
       "max_height": null,
       "max_width": null,
       "min_height": null,
       "min_width": null,
       "object_fit": null,
       "object_position": null,
       "order": null,
       "overflow": null,
       "overflow_x": null,
       "overflow_y": null,
       "padding": null,
       "right": null,
       "top": null,
       "visibility": null,
       "width": null
      }
     },
     "25ddccd9eecf465a959b7b25d786d366": {
      "model_module": "@jupyter-widgets/controls",
      "model_module_version": "1.5.0",
      "model_name": "FloatProgressModel",
      "state": {
       "_dom_classes": [],
       "_model_module": "@jupyter-widgets/controls",
       "_model_module_version": "1.5.0",
       "_model_name": "FloatProgressModel",
       "_view_count": null,
       "_view_module": "@jupyter-widgets/controls",
       "_view_module_version": "1.5.0",
       "_view_name": "ProgressView",
       "bar_style": "success",
       "description": "",
       "description_tooltip": null,
       "layout": "IPY_MODEL_23de6c5ba8e8413bb006dc66548b11a7",
       "max": 705.0,
       "min": 0.0,
       "orientation": "horizontal",
       "style": "IPY_MODEL_adf993ec26014a2083b09d3ffb044016",
       "value": 705.0
      }
     },
     "26ed03ee3c81463f9a46f8473a3f7a2b": {
      "model_module": "@jupyter-widgets/base",
      "model_module_version": "1.2.0",
      "model_name": "LayoutModel",
      "state": {
       "_model_module": "@jupyter-widgets/base",
       "_model_module_version": "1.2.0",
       "_model_name": "LayoutModel",
       "_view_count": null,
       "_view_module": "@jupyter-widgets/base",
       "_view_module_version": "1.2.0",
       "_view_name": "LayoutView",
       "align_content": null,
       "align_items": null,
       "align_self": null,
       "border": null,
       "bottom": null,
       "display": null,
       "flex": null,
       "flex_flow": null,
       "grid_area": null,
       "grid_auto_columns": null,
       "grid_auto_flow": null,
       "grid_auto_rows": null,
       "grid_column": null,
       "grid_gap": null,
       "grid_row": null,
       "grid_template_areas": null,
       "grid_template_columns": null,
       "grid_template_rows": null,
       "height": null,
       "justify_content": null,
       "justify_items": null,
       "left": null,
       "margin": null,
       "max_height": null,
       "max_width": null,
       "min_height": null,
       "min_width": null,
       "object_fit": null,
       "object_position": null,
       "order": null,
       "overflow": null,
       "overflow_x": null,
       "overflow_y": null,
       "padding": null,
       "right": null,
       "top": null,
       "visibility": null,
       "width": null
      }
     },
     "2cf2dfa0c71d4dfea4fd51bb5804046e": {
      "model_module": "@jupyter-widgets/controls",
      "model_module_version": "1.5.0",
      "model_name": "ProgressStyleModel",
      "state": {
       "_model_module": "@jupyter-widgets/controls",
       "_model_module_version": "1.5.0",
       "_model_name": "ProgressStyleModel",
       "_view_count": null,
       "_view_module": "@jupyter-widgets/base",
       "_view_module_version": "1.2.0",
       "_view_name": "StyleView",
       "bar_color": null,
       "description_width": ""
      }
     },
     "2d31a3afb960442095aced5995ef19b5": {
      "model_module": "@jupyter-widgets/controls",
      "model_module_version": "1.5.0",
      "model_name": "ProgressStyleModel",
      "state": {
       "_model_module": "@jupyter-widgets/controls",
       "_model_module_version": "1.5.0",
       "_model_name": "ProgressStyleModel",
       "_view_count": null,
       "_view_module": "@jupyter-widgets/base",
       "_view_module_version": "1.2.0",
       "_view_name": "StyleView",
       "bar_color": null,
       "description_width": ""
      }
     },
     "2e6528d53747409d921c2caa20ce0bd8": {
      "model_module": "@jupyter-widgets/base",
      "model_module_version": "1.2.0",
      "model_name": "LayoutModel",
      "state": {
       "_model_module": "@jupyter-widgets/base",
       "_model_module_version": "1.2.0",
       "_model_name": "LayoutModel",
       "_view_count": null,
       "_view_module": "@jupyter-widgets/base",
       "_view_module_version": "1.2.0",
       "_view_name": "LayoutView",
       "align_content": null,
       "align_items": null,
       "align_self": null,
       "border": null,
       "bottom": null,
       "display": null,
       "flex": null,
       "flex_flow": null,
       "grid_area": null,
       "grid_auto_columns": null,
       "grid_auto_flow": null,
       "grid_auto_rows": null,
       "grid_column": null,
       "grid_gap": null,
       "grid_row": null,
       "grid_template_areas": null,
       "grid_template_columns": null,
       "grid_template_rows": null,
       "height": null,
       "justify_content": null,
       "justify_items": null,
       "left": null,
       "margin": null,
       "max_height": null,
       "max_width": null,
       "min_height": null,
       "min_width": null,
       "object_fit": null,
       "object_position": null,
       "order": null,
       "overflow": null,
       "overflow_x": null,
       "overflow_y": null,
       "padding": null,
       "right": null,
       "top": null,
       "visibility": null,
       "width": null
      }
     },
     "30229c9820e14ecf8b3a7a8c54ec80e6": {
      "model_module": "@jupyter-widgets/controls",
      "model_module_version": "1.5.0",
      "model_name": "ProgressStyleModel",
      "state": {
       "_model_module": "@jupyter-widgets/controls",
       "_model_module_version": "1.5.0",
       "_model_name": "ProgressStyleModel",
       "_view_count": null,
       "_view_module": "@jupyter-widgets/base",
       "_view_module_version": "1.2.0",
       "_view_name": "StyleView",
       "bar_color": null,
       "description_width": ""
      }
     },
     "304a8132bb59477eaa60a9425f513a5e": {
      "model_module": "@jupyter-widgets/base",
      "model_module_version": "1.2.0",
      "model_name": "LayoutModel",
      "state": {
       "_model_module": "@jupyter-widgets/base",
       "_model_module_version": "1.2.0",
       "_model_name": "LayoutModel",
       "_view_count": null,
       "_view_module": "@jupyter-widgets/base",
       "_view_module_version": "1.2.0",
       "_view_name": "LayoutView",
       "align_content": null,
       "align_items": null,
       "align_self": null,
       "border": null,
       "bottom": null,
       "display": null,
       "flex": null,
       "flex_flow": null,
       "grid_area": null,
       "grid_auto_columns": null,
       "grid_auto_flow": null,
       "grid_auto_rows": null,
       "grid_column": null,
       "grid_gap": null,
       "grid_row": null,
       "grid_template_areas": null,
       "grid_template_columns": null,
       "grid_template_rows": null,
       "height": null,
       "justify_content": null,
       "justify_items": null,
       "left": null,
       "margin": null,
       "max_height": null,
       "max_width": null,
       "min_height": null,
       "min_width": null,
       "object_fit": null,
       "object_position": null,
       "order": null,
       "overflow": null,
       "overflow_x": null,
       "overflow_y": null,
       "padding": null,
       "right": null,
       "top": null,
       "visibility": null,
       "width": null
      }
     },
     "31a5e765d25a470898abd63864a7e824": {
      "model_module": "@jupyter-widgets/base",
      "model_module_version": "1.2.0",
      "model_name": "LayoutModel",
      "state": {
       "_model_module": "@jupyter-widgets/base",
       "_model_module_version": "1.2.0",
       "_model_name": "LayoutModel",
       "_view_count": null,
       "_view_module": "@jupyter-widgets/base",
       "_view_module_version": "1.2.0",
       "_view_name": "LayoutView",
       "align_content": null,
       "align_items": null,
       "align_self": null,
       "border": null,
       "bottom": null,
       "display": null,
       "flex": null,
       "flex_flow": null,
       "grid_area": null,
       "grid_auto_columns": null,
       "grid_auto_flow": null,
       "grid_auto_rows": null,
       "grid_column": null,
       "grid_gap": null,
       "grid_row": null,
       "grid_template_areas": null,
       "grid_template_columns": null,
       "grid_template_rows": null,
       "height": null,
       "justify_content": null,
       "justify_items": null,
       "left": null,
       "margin": null,
       "max_height": null,
       "max_width": null,
       "min_height": null,
       "min_width": null,
       "object_fit": null,
       "object_position": null,
       "order": null,
       "overflow": null,
       "overflow_x": null,
       "overflow_y": null,
       "padding": null,
       "right": null,
       "top": null,
       "visibility": null,
       "width": null
      }
     },
     "3230189cd34147ec934e25e6c8536c59": {
      "model_module": "@jupyter-widgets/controls",
      "model_module_version": "1.5.0",
      "model_name": "HTMLModel",
      "state": {
       "_dom_classes": [],
       "_model_module": "@jupyter-widgets/controls",
       "_model_module_version": "1.5.0",
       "_model_name": "HTMLModel",
       "_view_count": null,
       "_view_module": "@jupyter-widgets/controls",
       "_view_module_version": "1.5.0",
       "_view_name": "HTMLView",
       "description": "",
       "description_tooltip": null,
       "layout": "IPY_MODEL_51fb0de10b9a4b2a9f80d7b2120f2643",
       "placeholder": "​",
       "style": "IPY_MODEL_17559304db294acaa2aba57eaf05b7cf",
       "value": " 705/705 [00:00&lt;00:00, 59.2kB/s]"
      }
     },
     "331ff4d773334f549eba8673d02debe8": {
      "model_module": "@jupyter-widgets/controls",
      "model_module_version": "1.5.0",
      "model_name": "DescriptionStyleModel",
      "state": {
       "_model_module": "@jupyter-widgets/controls",
       "_model_module_version": "1.5.0",
       "_model_name": "DescriptionStyleModel",
       "_view_count": null,
       "_view_module": "@jupyter-widgets/base",
       "_view_module_version": "1.2.0",
       "_view_name": "StyleView",
       "description_width": ""
      }
     },
     "3363744d0ac440999d7ede3801502151": {
      "model_module": "@jupyter-widgets/controls",
      "model_module_version": "1.5.0",
      "model_name": "HTMLModel",
      "state": {
       "_dom_classes": [],
       "_model_module": "@jupyter-widgets/controls",
       "_model_module_version": "1.5.0",
       "_model_name": "HTMLModel",
       "_view_count": null,
       "_view_module": "@jupyter-widgets/controls",
       "_view_module_version": "1.5.0",
       "_view_name": "HTMLView",
       "description": "",
       "description_tooltip": null,
       "layout": "IPY_MODEL_f2a5674156c7412d90595ac4db337d29",
       "placeholder": "​",
       "style": "IPY_MODEL_b6027d18519e462aa5e5ffd5e3d44ee1",
       "value": "Downloading (…)okenizer_config.json: 100%"
      }
     },
     "3473893b24f34c51b06701724b35e515": {
      "model_module": "@jupyter-widgets/base",
      "model_module_version": "1.2.0",
      "model_name": "LayoutModel",
      "state": {
       "_model_module": "@jupyter-widgets/base",
       "_model_module_version": "1.2.0",
       "_model_name": "LayoutModel",
       "_view_count": null,
       "_view_module": "@jupyter-widgets/base",
       "_view_module_version": "1.2.0",
       "_view_name": "LayoutView",
       "align_content": null,
       "align_items": null,
       "align_self": null,
       "border": null,
       "bottom": null,
       "display": null,
       "flex": null,
       "flex_flow": null,
       "grid_area": null,
       "grid_auto_columns": null,
       "grid_auto_flow": null,
       "grid_auto_rows": null,
       "grid_column": null,
       "grid_gap": null,
       "grid_row": null,
       "grid_template_areas": null,
       "grid_template_columns": null,
       "grid_template_rows": null,
       "height": null,
       "justify_content": null,
       "justify_items": null,
       "left": null,
       "margin": null,
       "max_height": null,
       "max_width": null,
       "min_height": null,
       "min_width": null,
       "object_fit": null,
       "object_position": null,
       "order": null,
       "overflow": null,
       "overflow_x": null,
       "overflow_y": null,
       "padding": null,
       "right": null,
       "top": null,
       "visibility": null,
       "width": null
      }
     },
     "34791bb898b145d8b6a9d2d525d922b8": {
      "model_module": "@jupyter-widgets/base",
      "model_module_version": "1.2.0",
      "model_name": "LayoutModel",
      "state": {
       "_model_module": "@jupyter-widgets/base",
       "_model_module_version": "1.2.0",
       "_model_name": "LayoutModel",
       "_view_count": null,
       "_view_module": "@jupyter-widgets/base",
       "_view_module_version": "1.2.0",
       "_view_name": "LayoutView",
       "align_content": null,
       "align_items": null,
       "align_self": null,
       "border": null,
       "bottom": null,
       "display": null,
       "flex": null,
       "flex_flow": null,
       "grid_area": null,
       "grid_auto_columns": null,
       "grid_auto_flow": null,
       "grid_auto_rows": null,
       "grid_column": null,
       "grid_gap": null,
       "grid_row": null,
       "grid_template_areas": null,
       "grid_template_columns": null,
       "grid_template_rows": null,
       "height": null,
       "justify_content": null,
       "justify_items": null,
       "left": null,
       "margin": null,
       "max_height": null,
       "max_width": null,
       "min_height": null,
       "min_width": null,
       "object_fit": null,
       "object_position": null,
       "order": null,
       "overflow": null,
       "overflow_x": null,
       "overflow_y": null,
       "padding": null,
       "right": null,
       "top": null,
       "visibility": null,
       "width": null
      }
     },
     "356778a7dcfd40709e09be2a932611c6": {
      "model_module": "@jupyter-widgets/base",
      "model_module_version": "1.2.0",
      "model_name": "LayoutModel",
      "state": {
       "_model_module": "@jupyter-widgets/base",
       "_model_module_version": "1.2.0",
       "_model_name": "LayoutModel",
       "_view_count": null,
       "_view_module": "@jupyter-widgets/base",
       "_view_module_version": "1.2.0",
       "_view_name": "LayoutView",
       "align_content": null,
       "align_items": null,
       "align_self": null,
       "border": null,
       "bottom": null,
       "display": null,
       "flex": null,
       "flex_flow": null,
       "grid_area": null,
       "grid_auto_columns": null,
       "grid_auto_flow": null,
       "grid_auto_rows": null,
       "grid_column": null,
       "grid_gap": null,
       "grid_row": null,
       "grid_template_areas": null,
       "grid_template_columns": null,
       "grid_template_rows": null,
       "height": null,
       "justify_content": null,
       "justify_items": null,
       "left": null,
       "margin": null,
       "max_height": null,
       "max_width": null,
       "min_height": null,
       "min_width": null,
       "object_fit": null,
       "object_position": null,
       "order": null,
       "overflow": null,
       "overflow_x": null,
       "overflow_y": null,
       "padding": null,
       "right": null,
       "top": null,
       "visibility": null,
       "width": null
      }
     },
     "38ec27002b1a4c65b8ace9c1dabe1996": {
      "model_module": "@jupyter-widgets/base",
      "model_module_version": "1.2.0",
      "model_name": "LayoutModel",
      "state": {
       "_model_module": "@jupyter-widgets/base",
       "_model_module_version": "1.2.0",
       "_model_name": "LayoutModel",
       "_view_count": null,
       "_view_module": "@jupyter-widgets/base",
       "_view_module_version": "1.2.0",
       "_view_name": "LayoutView",
       "align_content": null,
       "align_items": null,
       "align_self": null,
       "border": null,
       "bottom": null,
       "display": null,
       "flex": null,
       "flex_flow": null,
       "grid_area": null,
       "grid_auto_columns": null,
       "grid_auto_flow": null,
       "grid_auto_rows": null,
       "grid_column": null,
       "grid_gap": null,
       "grid_row": null,
       "grid_template_areas": null,
       "grid_template_columns": null,
       "grid_template_rows": null,
       "height": null,
       "justify_content": null,
       "justify_items": null,
       "left": null,
       "margin": null,
       "max_height": null,
       "max_width": null,
       "min_height": null,
       "min_width": null,
       "object_fit": null,
       "object_position": null,
       "order": null,
       "overflow": null,
       "overflow_x": null,
       "overflow_y": null,
       "padding": null,
       "right": null,
       "top": null,
       "visibility": null,
       "width": null
      }
     },
     "3a98fc3161a24a12a8764442298ad477": {
      "model_module": "@jupyter-widgets/controls",
      "model_module_version": "1.5.0",
      "model_name": "HBoxModel",
      "state": {
       "_dom_classes": [],
       "_model_module": "@jupyter-widgets/controls",
       "_model_module_version": "1.5.0",
       "_model_name": "HBoxModel",
       "_view_count": null,
       "_view_module": "@jupyter-widgets/controls",
       "_view_module_version": "1.5.0",
       "_view_name": "HBoxView",
       "box_style": "",
       "children": [
        "IPY_MODEL_0919d258b9264440aa6df28bc4e9a03f",
        "IPY_MODEL_1b59a371319f461693058b965738f554",
        "IPY_MODEL_491ece6db2bd4cb2af7b1f05084b4148"
       ],
       "layout": "IPY_MODEL_90cf7d52a2e14968ba0460df82ce7787"
      }
     },
     "3ad6016987294c24ae28c18463295f65": {
      "model_module": "@jupyter-widgets/base",
      "model_module_version": "1.2.0",
      "model_name": "LayoutModel",
      "state": {
       "_model_module": "@jupyter-widgets/base",
       "_model_module_version": "1.2.0",
       "_model_name": "LayoutModel",
       "_view_count": null,
       "_view_module": "@jupyter-widgets/base",
       "_view_module_version": "1.2.0",
       "_view_name": "LayoutView",
       "align_content": null,
       "align_items": null,
       "align_self": null,
       "border": null,
       "bottom": null,
       "display": null,
       "flex": null,
       "flex_flow": null,
       "grid_area": null,
       "grid_auto_columns": null,
       "grid_auto_flow": null,
       "grid_auto_rows": null,
       "grid_column": null,
       "grid_gap": null,
       "grid_row": null,
       "grid_template_areas": null,
       "grid_template_columns": null,
       "grid_template_rows": null,
       "height": null,
       "justify_content": null,
       "justify_items": null,
       "left": null,
       "margin": null,
       "max_height": null,
       "max_width": null,
       "min_height": null,
       "min_width": null,
       "object_fit": null,
       "object_position": null,
       "order": null,
       "overflow": null,
       "overflow_x": null,
       "overflow_y": null,
       "padding": null,
       "right": null,
       "top": null,
       "visibility": null,
       "width": null
      }
     },
     "3e06a31eb48a44ccb43f20e7d37de109": {
      "model_module": "@jupyter-widgets/base",
      "model_module_version": "1.2.0",
      "model_name": "LayoutModel",
      "state": {
       "_model_module": "@jupyter-widgets/base",
       "_model_module_version": "1.2.0",
       "_model_name": "LayoutModel",
       "_view_count": null,
       "_view_module": "@jupyter-widgets/base",
       "_view_module_version": "1.2.0",
       "_view_name": "LayoutView",
       "align_content": null,
       "align_items": null,
       "align_self": null,
       "border": null,
       "bottom": null,
       "display": null,
       "flex": null,
       "flex_flow": null,
       "grid_area": null,
       "grid_auto_columns": null,
       "grid_auto_flow": null,
       "grid_auto_rows": null,
       "grid_column": null,
       "grid_gap": null,
       "grid_row": null,
       "grid_template_areas": null,
       "grid_template_columns": null,
       "grid_template_rows": null,
       "height": null,
       "justify_content": null,
       "justify_items": null,
       "left": null,
       "margin": null,
       "max_height": null,
       "max_width": null,
       "min_height": null,
       "min_width": null,
       "object_fit": null,
       "object_position": null,
       "order": null,
       "overflow": null,
       "overflow_x": null,
       "overflow_y": null,
       "padding": null,
       "right": null,
       "top": null,
       "visibility": null,
       "width": null
      }
     },
     "3e4525edfca6427da9310d2e4aa1659c": {
      "model_module": "@jupyter-widgets/controls",
      "model_module_version": "1.5.0",
      "model_name": "HBoxModel",
      "state": {
       "_dom_classes": [],
       "_model_module": "@jupyter-widgets/controls",
       "_model_module_version": "1.5.0",
       "_model_name": "HBoxModel",
       "_view_count": null,
       "_view_module": "@jupyter-widgets/controls",
       "_view_module_version": "1.5.0",
       "_view_name": "HBoxView",
       "box_style": "",
       "children": [
        "IPY_MODEL_61bc7f3eb0104cc1b25b59a186541e99",
        "IPY_MODEL_64f6eec26710449a8485e73a39649b6b",
        "IPY_MODEL_a83078ee9d0940f99a7719a7ef6777c7"
       ],
       "layout": "IPY_MODEL_d3c2d2d7f3ec48f781eadd1f88275409"
      }
     },
     "3f2f09e600d94f92bbc112752cc7b24b": {
      "model_module": "@jupyter-widgets/controls",
      "model_module_version": "1.5.0",
      "model_name": "DescriptionStyleModel",
      "state": {
       "_model_module": "@jupyter-widgets/controls",
       "_model_module_version": "1.5.0",
       "_model_name": "DescriptionStyleModel",
       "_view_count": null,
       "_view_module": "@jupyter-widgets/base",
       "_view_module_version": "1.2.0",
       "_view_name": "StyleView",
       "description_width": ""
      }
     },
     "3faf09dacd9047f0b2767a630e0662a7": {
      "model_module": "@jupyter-widgets/controls",
      "model_module_version": "1.5.0",
      "model_name": "HTMLModel",
      "state": {
       "_dom_classes": [],
       "_model_module": "@jupyter-widgets/controls",
       "_model_module_version": "1.5.0",
       "_model_name": "HTMLModel",
       "_view_count": null,
       "_view_module": "@jupyter-widgets/controls",
       "_view_module_version": "1.5.0",
       "_view_name": "HTMLView",
       "description": "",
       "description_tooltip": null,
       "layout": "IPY_MODEL_304a8132bb59477eaa60a9425f513a5e",
       "placeholder": "​",
       "style": "IPY_MODEL_c55f88a8014d4983b47ea82018deb8d5",
       "value": "Downloading (…)l-00004-of-00004.bin: 100%"
      }
     },
     "418b94bc0c094311894cb97e12dc60cb": {
      "model_module": "@jupyter-widgets/controls",
      "model_module_version": "1.5.0",
      "model_name": "FloatProgressModel",
      "state": {
       "_dom_classes": [],
       "_model_module": "@jupyter-widgets/controls",
       "_model_module_version": "1.5.0",
       "_model_name": "FloatProgressModel",
       "_view_count": null,
       "_view_module": "@jupyter-widgets/controls",
       "_view_module_version": "1.5.0",
       "_view_name": "ProgressView",
       "bar_style": "success",
       "description": "",
       "description_tooltip": null,
       "layout": "IPY_MODEL_e345580f7de340a192f8b065ab3f0818",
       "max": 23950.0,
       "min": 0.0,
       "orientation": "horizontal",
       "style": "IPY_MODEL_30229c9820e14ecf8b3a7a8c54ec80e6",
       "value": 23950.0
      }
     },
     "42586dbb53e9475fb452aa36a3b3ec38": {
      "model_module": "@jupyter-widgets/controls",
      "model_module_version": "1.5.0",
      "model_name": "ProgressStyleModel",
      "state": {
       "_model_module": "@jupyter-widgets/controls",
       "_model_module_version": "1.5.0",
       "_model_name": "ProgressStyleModel",
       "_view_count": null,
       "_view_module": "@jupyter-widgets/base",
       "_view_module_version": "1.2.0",
       "_view_name": "StyleView",
       "bar_color": null,
       "description_width": ""
      }
     },
     "436592700b954d6696f85eb0d34f8db9": {
      "model_module": "@jupyter-widgets/controls",
      "model_module_version": "1.5.0",
      "model_name": "DescriptionStyleModel",
      "state": {
       "_model_module": "@jupyter-widgets/controls",
       "_model_module_version": "1.5.0",
       "_model_name": "DescriptionStyleModel",
       "_view_count": null,
       "_view_module": "@jupyter-widgets/base",
       "_view_module_version": "1.2.0",
       "_view_name": "StyleView",
       "description_width": ""
      }
     },
     "43720445a1df4702944def028c58da7c": {
      "model_module": "@jupyter-widgets/controls",
      "model_module_version": "1.5.0",
      "model_name": "HBoxModel",
      "state": {
       "_dom_classes": [],
       "_model_module": "@jupyter-widgets/controls",
       "_model_module_version": "1.5.0",
       "_model_name": "HBoxModel",
       "_view_count": null,
       "_view_module": "@jupyter-widgets/controls",
       "_view_module_version": "1.5.0",
       "_view_name": "HBoxView",
       "box_style": "",
       "children": [
        "IPY_MODEL_a2f536860bd74a4e9c8cf75609947fe7",
        "IPY_MODEL_0c3c7ff35f3247efbef9b716c263a105",
        "IPY_MODEL_0e458dd20fd04af09596e1033ac885bd"
       ],
       "layout": "IPY_MODEL_449af6075a344e15af0fa477528004b1"
      }
     },
     "449af6075a344e15af0fa477528004b1": {
      "model_module": "@jupyter-widgets/base",
      "model_module_version": "1.2.0",
      "model_name": "LayoutModel",
      "state": {
       "_model_module": "@jupyter-widgets/base",
       "_model_module_version": "1.2.0",
       "_model_name": "LayoutModel",
       "_view_count": null,
       "_view_module": "@jupyter-widgets/base",
       "_view_module_version": "1.2.0",
       "_view_name": "LayoutView",
       "align_content": null,
       "align_items": null,
       "align_self": null,
       "border": null,
       "bottom": null,
       "display": null,
       "flex": null,
       "flex_flow": null,
       "grid_area": null,
       "grid_auto_columns": null,
       "grid_auto_flow": null,
       "grid_auto_rows": null,
       "grid_column": null,
       "grid_gap": null,
       "grid_row": null,
       "grid_template_areas": null,
       "grid_template_columns": null,
       "grid_template_rows": null,
       "height": null,
       "justify_content": null,
       "justify_items": null,
       "left": null,
       "margin": null,
       "max_height": null,
       "max_width": null,
       "min_height": null,
       "min_width": null,
       "object_fit": null,
       "object_position": null,
       "order": null,
       "overflow": null,
       "overflow_x": null,
       "overflow_y": null,
       "padding": null,
       "right": null,
       "top": null,
       "visibility": null,
       "width": null
      }
     },
     "46c297f305394e549bc6eaaf7242410e": {
      "model_module": "@jupyter-widgets/base",
      "model_module_version": "1.2.0",
      "model_name": "LayoutModel",
      "state": {
       "_model_module": "@jupyter-widgets/base",
       "_model_module_version": "1.2.0",
       "_model_name": "LayoutModel",
       "_view_count": null,
       "_view_module": "@jupyter-widgets/base",
       "_view_module_version": "1.2.0",
       "_view_name": "LayoutView",
       "align_content": null,
       "align_items": null,
       "align_self": null,
       "border": null,
       "bottom": null,
       "display": null,
       "flex": null,
       "flex_flow": null,
       "grid_area": null,
       "grid_auto_columns": null,
       "grid_auto_flow": null,
       "grid_auto_rows": null,
       "grid_column": null,
       "grid_gap": null,
       "grid_row": null,
       "grid_template_areas": null,
       "grid_template_columns": null,
       "grid_template_rows": null,
       "height": null,
       "justify_content": null,
       "justify_items": null,
       "left": null,
       "margin": null,
       "max_height": null,
       "max_width": null,
       "min_height": null,
       "min_width": null,
       "object_fit": null,
       "object_position": null,
       "order": null,
       "overflow": null,
       "overflow_x": null,
       "overflow_y": null,
       "padding": null,
       "right": null,
       "top": null,
       "visibility": null,
       "width": null
      }
     },
     "47d54899084d4e2ab41393112cf104df": {
      "model_module": "@jupyter-widgets/base",
      "model_module_version": "1.2.0",
      "model_name": "LayoutModel",
      "state": {
       "_model_module": "@jupyter-widgets/base",
       "_model_module_version": "1.2.0",
       "_model_name": "LayoutModel",
       "_view_count": null,
       "_view_module": "@jupyter-widgets/base",
       "_view_module_version": "1.2.0",
       "_view_name": "LayoutView",
       "align_content": null,
       "align_items": null,
       "align_self": null,
       "border": null,
       "bottom": null,
       "display": null,
       "flex": null,
       "flex_flow": null,
       "grid_area": null,
       "grid_auto_columns": null,
       "grid_auto_flow": null,
       "grid_auto_rows": null,
       "grid_column": null,
       "grid_gap": null,
       "grid_row": null,
       "grid_template_areas": null,
       "grid_template_columns": null,
       "grid_template_rows": null,
       "height": null,
       "justify_content": null,
       "justify_items": null,
       "left": null,
       "margin": null,
       "max_height": null,
       "max_width": null,
       "min_height": null,
       "min_width": null,
       "object_fit": null,
       "object_position": null,
       "order": null,
       "overflow": null,
       "overflow_x": null,
       "overflow_y": null,
       "padding": null,
       "right": null,
       "top": null,
       "visibility": null,
       "width": null
      }
     },
     "484a6bc0ea3a445d9368e821f352ec3f": {
      "model_module": "@jupyter-widgets/controls",
      "model_module_version": "1.5.0",
      "model_name": "FloatProgressModel",
      "state": {
       "_dom_classes": [],
       "_model_module": "@jupyter-widgets/controls",
       "_model_module_version": "1.5.0",
       "_model_name": "FloatProgressModel",
       "_view_count": null,
       "_view_module": "@jupyter-widgets/controls",
       "_view_module_version": "1.5.0",
       "_view_name": "ProgressView",
       "bar_style": "success",
       "description": "",
       "description_tooltip": null,
       "layout": "IPY_MODEL_a2b75443ecf6458bba2dcfeeeac3422e",
       "max": 1566657295.0,
       "min": 0.0,
       "orientation": "horizontal",
       "style": "IPY_MODEL_0357bdcfd9ac49fd9f071771e21cc204",
       "value": 1566657295.0
      }
     },
     "491ece6db2bd4cb2af7b1f05084b4148": {
      "model_module": "@jupyter-widgets/controls",
      "model_module_version": "1.5.0",
      "model_name": "HTMLModel",
      "state": {
       "_dom_classes": [],
       "_model_module": "@jupyter-widgets/controls",
       "_model_module_version": "1.5.0",
       "_model_name": "HTMLModel",
       "_view_count": null,
       "_view_module": "@jupyter-widgets/controls",
       "_view_module_version": "1.5.0",
       "_view_name": "HTMLView",
       "description": "",
       "description_tooltip": null,
       "layout": "IPY_MODEL_2e6528d53747409d921c2caa20ce0bd8",
       "placeholder": "​",
       "style": "IPY_MODEL_f24ee6209bf24bc880a5d77497ecaa04",
       "value": " 229/229 [00:00&lt;00:00, 17.1kB/s]"
      }
     },
     "4a0eebdba89a4542b4b4d0e6726a00ff": {
      "model_module": "@jupyter-widgets/base",
      "model_module_version": "1.2.0",
      "model_name": "LayoutModel",
      "state": {
       "_model_module": "@jupyter-widgets/base",
       "_model_module_version": "1.2.0",
       "_model_name": "LayoutModel",
       "_view_count": null,
       "_view_module": "@jupyter-widgets/base",
       "_view_module_version": "1.2.0",
       "_view_name": "LayoutView",
       "align_content": null,
       "align_items": null,
       "align_self": null,
       "border": null,
       "bottom": null,
       "display": null,
       "flex": null,
       "flex_flow": null,
       "grid_area": null,
       "grid_auto_columns": null,
       "grid_auto_flow": null,
       "grid_auto_rows": null,
       "grid_column": null,
       "grid_gap": null,
       "grid_row": null,
       "grid_template_areas": null,
       "grid_template_columns": null,
       "grid_template_rows": null,
       "height": null,
       "justify_content": null,
       "justify_items": null,
       "left": null,
       "margin": null,
       "max_height": null,
       "max_width": null,
       "min_height": null,
       "min_width": null,
       "object_fit": null,
       "object_position": null,
       "order": null,
       "overflow": null,
       "overflow_x": null,
       "overflow_y": null,
       "padding": null,
       "right": null,
       "top": null,
       "visibility": null,
       "width": null
      }
     },
     "4ded0859fa574d3188f094878b5ab2fc": {
      "model_module": "@jupyter-widgets/controls",
      "model_module_version": "1.5.0",
      "model_name": "DescriptionStyleModel",
      "state": {
       "_model_module": "@jupyter-widgets/controls",
       "_model_module_version": "1.5.0",
       "_model_name": "DescriptionStyleModel",
       "_view_count": null,
       "_view_module": "@jupyter-widgets/base",
       "_view_module_version": "1.2.0",
       "_view_name": "StyleView",
       "description_width": ""
      }
     },
     "4f0b2f78c801468fab445188d93a6900": {
      "model_module": "@jupyter-widgets/controls",
      "model_module_version": "1.5.0",
      "model_name": "DescriptionStyleModel",
      "state": {
       "_model_module": "@jupyter-widgets/controls",
       "_model_module_version": "1.5.0",
       "_model_name": "DescriptionStyleModel",
       "_view_count": null,
       "_view_module": "@jupyter-widgets/base",
       "_view_module_version": "1.2.0",
       "_view_name": "StyleView",
       "description_width": ""
      }
     },
     "4fc7b9ed8de6491994733774fc522895": {
      "model_module": "@jupyter-widgets/base",
      "model_module_version": "1.2.0",
      "model_name": "LayoutModel",
      "state": {
       "_model_module": "@jupyter-widgets/base",
       "_model_module_version": "1.2.0",
       "_model_name": "LayoutModel",
       "_view_count": null,
       "_view_module": "@jupyter-widgets/base",
       "_view_module_version": "1.2.0",
       "_view_name": "LayoutView",
       "align_content": null,
       "align_items": null,
       "align_self": null,
       "border": null,
       "bottom": null,
       "display": null,
       "flex": null,
       "flex_flow": null,
       "grid_area": null,
       "grid_auto_columns": null,
       "grid_auto_flow": null,
       "grid_auto_rows": null,
       "grid_column": null,
       "grid_gap": null,
       "grid_row": null,
       "grid_template_areas": null,
       "grid_template_columns": null,
       "grid_template_rows": null,
       "height": null,
       "justify_content": null,
       "justify_items": null,
       "left": null,
       "margin": null,
       "max_height": null,
       "max_width": null,
       "min_height": null,
       "min_width": null,
       "object_fit": null,
       "object_position": null,
       "order": null,
       "overflow": null,
       "overflow_x": null,
       "overflow_y": null,
       "padding": null,
       "right": null,
       "top": null,
       "visibility": null,
       "width": null
      }
     },
     "514c99a4fa4a431d908b7f5519005a16": {
      "model_module": "@jupyter-widgets/controls",
      "model_module_version": "1.5.0",
      "model_name": "HBoxModel",
      "state": {
       "_dom_classes": [],
       "_model_module": "@jupyter-widgets/controls",
       "_model_module_version": "1.5.0",
       "_model_name": "HBoxModel",
       "_view_count": null,
       "_view_module": "@jupyter-widgets/controls",
       "_view_module_version": "1.5.0",
       "_view_name": "HBoxView",
       "box_style": "",
       "children": [
        "IPY_MODEL_3faf09dacd9047f0b2767a630e0662a7",
        "IPY_MODEL_484a6bc0ea3a445d9368e821f352ec3f",
        "IPY_MODEL_70194a799d1e4bafbe83d9585a5de5dc"
       ],
       "layout": "IPY_MODEL_b50ba8feef4e466f8ddb95253626dc84"
      }
     },
     "51fb0de10b9a4b2a9f80d7b2120f2643": {
      "model_module": "@jupyter-widgets/base",
      "model_module_version": "1.2.0",
      "model_name": "LayoutModel",
      "state": {
       "_model_module": "@jupyter-widgets/base",
       "_model_module_version": "1.2.0",
       "_model_name": "LayoutModel",
       "_view_count": null,
       "_view_module": "@jupyter-widgets/base",
       "_view_module_version": "1.2.0",
       "_view_name": "LayoutView",
       "align_content": null,
       "align_items": null,
       "align_self": null,
       "border": null,
       "bottom": null,
       "display": null,
       "flex": null,
       "flex_flow": null,
       "grid_area": null,
       "grid_auto_columns": null,
       "grid_auto_flow": null,
       "grid_auto_rows": null,
       "grid_column": null,
       "grid_gap": null,
       "grid_row": null,
       "grid_template_areas": null,
       "grid_template_columns": null,
       "grid_template_rows": null,
       "height": null,
       "justify_content": null,
       "justify_items": null,
       "left": null,
       "margin": null,
       "max_height": null,
       "max_width": null,
       "min_height": null,
       "min_width": null,
       "object_fit": null,
       "object_position": null,
       "order": null,
       "overflow": null,
       "overflow_x": null,
       "overflow_y": null,
       "padding": null,
       "right": null,
       "top": null,
       "visibility": null,
       "width": null
      }
     },
     "52fc8e786aa94e8bbd538720d35d6548": {
      "model_module": "@jupyter-widgets/controls",
      "model_module_version": "1.5.0",
      "model_name": "HTMLModel",
      "state": {
       "_dom_classes": [],
       "_model_module": "@jupyter-widgets/controls",
       "_model_module_version": "1.5.0",
       "_model_name": "HTMLModel",
       "_view_count": null,
       "_view_module": "@jupyter-widgets/controls",
       "_view_module_version": "1.5.0",
       "_view_name": "HTMLView",
       "description": "",
       "description_tooltip": null,
       "layout": "IPY_MODEL_7aee878bcd264f9184a8694d238c3a2f",
       "placeholder": "​",
       "style": "IPY_MODEL_fc1e66e2a08947249c4a0045dd312729",
       "value": " 95.0/95.0 [00:00&lt;00:00, 8.05kB/s]"
      }
     },
     "545d1964d0de458daa72cbae2c0ab332": {
      "model_module": "@jupyter-widgets/controls",
      "model_module_version": "1.5.0",
      "model_name": "DescriptionStyleModel",
      "state": {
       "_model_module": "@jupyter-widgets/controls",
       "_model_module_version": "1.5.0",
       "_model_name": "DescriptionStyleModel",
       "_view_count": null,
       "_view_module": "@jupyter-widgets/base",
       "_view_module_version": "1.2.0",
       "_view_name": "StyleView",
       "description_width": ""
      }
     },
     "55245802d3ab49b9bf4acefd3fa8f41b": {
      "model_module": "@jupyter-widgets/controls",
      "model_module_version": "1.5.0",
      "model_name": "HTMLModel",
      "state": {
       "_dom_classes": [],
       "_model_module": "@jupyter-widgets/controls",
       "_model_module_version": "1.5.0",
       "_model_name": "HTMLModel",
       "_view_count": null,
       "_view_module": "@jupyter-widgets/controls",
       "_view_module_version": "1.5.0",
       "_view_name": "HTMLView",
       "description": "",
       "description_tooltip": null,
       "layout": "IPY_MODEL_da1d394cedbc4c3099653b40da3473bb",
       "placeholder": "​",
       "style": "IPY_MODEL_6d55c8d3e5b84ed78396df7f638c98cc",
       "value": " 3.97G/3.97G [03:51&lt;00:00, 17.1MB/s]"
      }
     },
     "552b3118a80d49b1ba4743c03609a167": {
      "model_module": "@jupyter-widgets/base",
      "model_module_version": "1.2.0",
      "model_name": "LayoutModel",
      "state": {
       "_model_module": "@jupyter-widgets/base",
       "_model_module_version": "1.2.0",
       "_model_name": "LayoutModel",
       "_view_count": null,
       "_view_module": "@jupyter-widgets/base",
       "_view_module_version": "1.2.0",
       "_view_name": "LayoutView",
       "align_content": null,
       "align_items": null,
       "align_self": null,
       "border": null,
       "bottom": null,
       "display": null,
       "flex": null,
       "flex_flow": null,
       "grid_area": null,
       "grid_auto_columns": null,
       "grid_auto_flow": null,
       "grid_auto_rows": null,
       "grid_column": null,
       "grid_gap": null,
       "grid_row": null,
       "grid_template_areas": null,
       "grid_template_columns": null,
       "grid_template_rows": null,
       "height": null,
       "justify_content": null,
       "justify_items": null,
       "left": null,
       "margin": null,
       "max_height": null,
       "max_width": null,
       "min_height": null,
       "min_width": null,
       "object_fit": null,
       "object_position": null,
       "order": null,
       "overflow": null,
       "overflow_x": null,
       "overflow_y": null,
       "padding": null,
       "right": null,
       "top": null,
       "visibility": null,
       "width": null
      }
     },
     "564834317a34484da048fbb0a89ab8bf": {
      "model_module": "@jupyter-widgets/controls",
      "model_module_version": "1.5.0",
      "model_name": "FloatProgressModel",
      "state": {
       "_dom_classes": [],
       "_model_module": "@jupyter-widgets/controls",
       "_model_module_version": "1.5.0",
       "_model_name": "FloatProgressModel",
       "_view_count": null,
       "_view_module": "@jupyter-widgets/controls",
       "_view_module_version": "1.5.0",
       "_view_name": "ProgressView",
       "bar_style": "success",
       "description": "",
       "description_tooltip": null,
       "layout": "IPY_MODEL_3ad6016987294c24ae28c18463295f65",
       "max": 17082913.0,
       "min": 0.0,
       "orientation": "horizontal",
       "style": "IPY_MODEL_cc808f7090bb4398b5459c869465431b",
       "value": 17082913.0
      }
     },
     "5888ec957c20455192519d7f55b0dcac": {
      "model_module": "@jupyter-widgets/base",
      "model_module_version": "1.2.0",
      "model_name": "LayoutModel",
      "state": {
       "_model_module": "@jupyter-widgets/base",
       "_model_module_version": "1.2.0",
       "_model_name": "LayoutModel",
       "_view_count": null,
       "_view_module": "@jupyter-widgets/base",
       "_view_module_version": "1.2.0",
       "_view_name": "LayoutView",
       "align_content": null,
       "align_items": null,
       "align_self": null,
       "border": null,
       "bottom": null,
       "display": null,
       "flex": null,
       "flex_flow": null,
       "grid_area": null,
       "grid_auto_columns": null,
       "grid_auto_flow": null,
       "grid_auto_rows": null,
       "grid_column": null,
       "grid_gap": null,
       "grid_row": null,
       "grid_template_areas": null,
       "grid_template_columns": null,
       "grid_template_rows": null,
       "height": null,
       "justify_content": null,
       "justify_items": null,
       "left": null,
       "margin": null,
       "max_height": null,
       "max_width": null,
       "min_height": null,
       "min_width": null,
       "object_fit": null,
       "object_position": null,
       "order": null,
       "overflow": null,
       "overflow_x": null,
       "overflow_y": null,
       "padding": null,
       "right": null,
       "top": null,
       "visibility": null,
       "width": null
      }
     },
     "5a20ca99ed054644a730ee788a64e7a5": {
      "model_module": "@jupyter-widgets/base",
      "model_module_version": "1.2.0",
      "model_name": "LayoutModel",
      "state": {
       "_model_module": "@jupyter-widgets/base",
       "_model_module_version": "1.2.0",
       "_model_name": "LayoutModel",
       "_view_count": null,
       "_view_module": "@jupyter-widgets/base",
       "_view_module_version": "1.2.0",
       "_view_name": "LayoutView",
       "align_content": null,
       "align_items": null,
       "align_self": null,
       "border": null,
       "bottom": null,
       "display": null,
       "flex": null,
       "flex_flow": null,
       "grid_area": null,
       "grid_auto_columns": null,
       "grid_auto_flow": null,
       "grid_auto_rows": null,
       "grid_column": null,
       "grid_gap": null,
       "grid_row": null,
       "grid_template_areas": null,
       "grid_template_columns": null,
       "grid_template_rows": null,
       "height": null,
       "justify_content": null,
       "justify_items": null,
       "left": null,
       "margin": null,
       "max_height": null,
       "max_width": null,
       "min_height": null,
       "min_width": null,
       "object_fit": null,
       "object_position": null,
       "order": null,
       "overflow": null,
       "overflow_x": null,
       "overflow_y": null,
       "padding": null,
       "right": null,
       "top": null,
       "visibility": null,
       "width": null
      }
     },
     "5a4ff31b5b7d489f8b3d67b15e882949": {
      "model_module": "@jupyter-widgets/controls",
      "model_module_version": "1.5.0",
      "model_name": "DescriptionStyleModel",
      "state": {
       "_model_module": "@jupyter-widgets/controls",
       "_model_module_version": "1.5.0",
       "_model_name": "DescriptionStyleModel",
       "_view_count": null,
       "_view_module": "@jupyter-widgets/base",
       "_view_module_version": "1.2.0",
       "_view_name": "StyleView",
       "description_width": ""
      }
     },
     "5c5eacfe58f649da9f9a2a5269ea0028": {
      "model_module": "@jupyter-widgets/base",
      "model_module_version": "1.2.0",
      "model_name": "LayoutModel",
      "state": {
       "_model_module": "@jupyter-widgets/base",
       "_model_module_version": "1.2.0",
       "_model_name": "LayoutModel",
       "_view_count": null,
       "_view_module": "@jupyter-widgets/base",
       "_view_module_version": "1.2.0",
       "_view_name": "LayoutView",
       "align_content": null,
       "align_items": null,
       "align_self": null,
       "border": null,
       "bottom": null,
       "display": null,
       "flex": null,
       "flex_flow": null,
       "grid_area": null,
       "grid_auto_columns": null,
       "grid_auto_flow": null,
       "grid_auto_rows": null,
       "grid_column": null,
       "grid_gap": null,
       "grid_row": null,
       "grid_template_areas": null,
       "grid_template_columns": null,
       "grid_template_rows": null,
       "height": null,
       "justify_content": null,
       "justify_items": null,
       "left": null,
       "margin": null,
       "max_height": null,
       "max_width": null,
       "min_height": null,
       "min_width": null,
       "object_fit": null,
       "object_position": null,
       "order": null,
       "overflow": null,
       "overflow_x": null,
       "overflow_y": null,
       "padding": null,
       "right": null,
       "top": null,
       "visibility": null,
       "width": null
      }
     },
     "5e696b31bcaa41dfa71de8cdc4a682b4": {
      "model_module": "@jupyter-widgets/controls",
      "model_module_version": "1.5.0",
      "model_name": "ProgressStyleModel",
      "state": {
       "_model_module": "@jupyter-widgets/controls",
       "_model_module_version": "1.5.0",
       "_model_name": "ProgressStyleModel",
       "_view_count": null,
       "_view_module": "@jupyter-widgets/base",
       "_view_module_version": "1.2.0",
       "_view_name": "StyleView",
       "bar_color": null,
       "description_width": ""
      }
     },
     "5e6d2fd2320d411996df227c6993f6f5": {
      "model_module": "@jupyter-widgets/controls",
      "model_module_version": "1.5.0",
      "model_name": "HTMLModel",
      "state": {
       "_dom_classes": [],
       "_model_module": "@jupyter-widgets/controls",
       "_model_module_version": "1.5.0",
       "_model_name": "HTMLModel",
       "_view_count": null,
       "_view_module": "@jupyter-widgets/controls",
       "_view_module_version": "1.5.0",
       "_view_name": "HTMLView",
       "description": "",
       "description_tooltip": null,
       "layout": "IPY_MODEL_e37e94087c334e13a9759b36d5e48c73",
       "placeholder": "​",
       "style": "IPY_MODEL_3f2f09e600d94f92bbc112752cc7b24b",
       "value": "Downloading (…)neration_config.json: 100%"
      }
     },
     "5ebb651cb8874ac9b792b0e98442b897": {
      "model_module": "@jupyter-widgets/controls",
      "model_module_version": "1.5.0",
      "model_name": "HBoxModel",
      "state": {
       "_dom_classes": [],
       "_model_module": "@jupyter-widgets/controls",
       "_model_module_version": "1.5.0",
       "_model_name": "HBoxModel",
       "_view_count": null,
       "_view_module": "@jupyter-widgets/controls",
       "_view_module_version": "1.5.0",
       "_view_name": "HBoxView",
       "box_style": "",
       "children": [
        "IPY_MODEL_80025b3abf214be8812342efbed9e513",
        "IPY_MODEL_980a277009a248339158a9c6aa4dd146",
        "IPY_MODEL_0e228001351f46e581c2dbfabaa8fd4e"
       ],
       "layout": "IPY_MODEL_6ee8673b75714ba7b8d9b168343a490a"
      }
     },
     "5ed915493533457aacd1a9547680f87f": {
      "model_module": "@jupyter-widgets/controls",
      "model_module_version": "1.5.0",
      "model_name": "FloatProgressModel",
      "state": {
       "_dom_classes": [],
       "_model_module": "@jupyter-widgets/controls",
       "_model_module_version": "1.5.0",
       "_model_name": "FloatProgressModel",
       "_view_count": null,
       "_view_module": "@jupyter-widgets/controls",
       "_view_module_version": "1.5.0",
       "_view_name": "ProgressView",
       "bar_style": "success",
       "description": "",
       "description_tooltip": null,
       "layout": "IPY_MODEL_76443d53d5ca4fb9b8c0adbfcf6a1333",
       "max": 53.0,
       "min": 0.0,
       "orientation": "horizontal",
       "style": "IPY_MODEL_c26ffb0caa734a82ac713b3efec16867",
       "value": 53.0
      }
     },
     "5f6b6c1d150a4da58bea55f1f28cab9f": {
      "model_module": "@jupyter-widgets/controls",
      "model_module_version": "1.5.0",
      "model_name": "HTMLModel",
      "state": {
       "_dom_classes": [],
       "_model_module": "@jupyter-widgets/controls",
       "_model_module_version": "1.5.0",
       "_model_name": "HTMLModel",
       "_view_count": null,
       "_view_module": "@jupyter-widgets/controls",
       "_view_module_version": "1.5.0",
       "_view_name": "HTMLView",
       "description": "",
       "description_tooltip": null,
       "layout": "IPY_MODEL_e4a61ec6533f45439dfde6f59c8d31f5",
       "placeholder": "​",
       "style": "IPY_MODEL_436592700b954d6696f85eb0d34f8db9",
       "value": "Downloading (…)okenizer_config.json: 100%"
      }
     },
     "6021eff313e8402fa15730add4d9b436": {
      "model_module": "@jupyter-widgets/controls",
      "model_module_version": "1.5.0",
      "model_name": "HTMLModel",
      "state": {
       "_dom_classes": [],
       "_model_module": "@jupyter-widgets/controls",
       "_model_module_version": "1.5.0",
       "_model_name": "HTMLModel",
       "_view_count": null,
       "_view_module": "@jupyter-widgets/controls",
       "_view_module_version": "1.5.0",
       "_view_name": "HTMLView",
       "description": "",
       "description_tooltip": null,
       "layout": "IPY_MODEL_baf10410ddbf433ab95fab20d622fc2c",
       "placeholder": "​",
       "style": "IPY_MODEL_c0b05639726f4210b3fff66b1ffb3b96",
       "value": " 280/280 [00:00&lt;00:00, 23.4kB/s]"
      }
     },
     "60e809e5b9a249cfba30b7425d38c398": {
      "model_module": "@jupyter-widgets/controls",
      "model_module_version": "1.5.0",
      "model_name": "HTMLModel",
      "state": {
       "_dom_classes": [],
       "_model_module": "@jupyter-widgets/controls",
       "_model_module_version": "1.5.0",
       "_model_name": "HTMLModel",
       "_view_count": null,
       "_view_module": "@jupyter-widgets/controls",
       "_view_module_version": "1.5.0",
       "_view_name": "HTMLView",
       "description": "",
       "description_tooltip": null,
       "layout": "IPY_MODEL_e4416def628c46ef865b504c05c885f8",
       "placeholder": "​",
       "style": "IPY_MODEL_1388d6dd14624555a761e6058cbdc04a",
       "value": "Downloading (…)nce_bert_config.json: 100%"
      }
     },
     "611ed3be05b142ea81ae275112df438c": {
      "model_module": "@jupyter-widgets/controls",
      "model_module_version": "1.5.0",
      "model_name": "HTMLModel",
      "state": {
       "_dom_classes": [],
       "_model_module": "@jupyter-widgets/controls",
       "_model_module_version": "1.5.0",
       "_model_name": "HTMLModel",
       "_view_count": null,
       "_view_module": "@jupyter-widgets/controls",
       "_view_module_version": "1.5.0",
       "_view_name": "HTMLView",
       "description": "",
       "description_tooltip": null,
       "layout": "IPY_MODEL_0e3b99288b6a4ca59b4b5847c78bb895",
       "placeholder": "​",
       "style": "IPY_MODEL_4f0b2f78c801468fab445188d93a6900",
       "value": " 23.9k/23.9k [00:00&lt;00:00, 1.73MB/s]"
      }
     },
     "613b2a37d0b74b5fbc8c656bf93eebe2": {
      "model_module": "@jupyter-widgets/controls",
      "model_module_version": "1.5.0",
      "model_name": "DescriptionStyleModel",
      "state": {
       "_model_module": "@jupyter-widgets/controls",
       "_model_module_version": "1.5.0",
       "_model_name": "DescriptionStyleModel",
       "_view_count": null,
       "_view_module": "@jupyter-widgets/base",
       "_view_module_version": "1.2.0",
       "_view_name": "StyleView",
       "description_width": ""
      }
     },
     "615e29a362754cd583707e56c506eb3f": {
      "model_module": "@jupyter-widgets/controls",
      "model_module_version": "1.5.0",
      "model_name": "ProgressStyleModel",
      "state": {
       "_model_module": "@jupyter-widgets/controls",
       "_model_module_version": "1.5.0",
       "_model_name": "ProgressStyleModel",
       "_view_count": null,
       "_view_module": "@jupyter-widgets/base",
       "_view_module_version": "1.2.0",
       "_view_name": "StyleView",
       "bar_color": null,
       "description_width": ""
      }
     },
     "61aa16a1fa714d6cb0482a60e04b9eda": {
      "model_module": "@jupyter-widgets/controls",
      "model_module_version": "1.5.0",
      "model_name": "DescriptionStyleModel",
      "state": {
       "_model_module": "@jupyter-widgets/controls",
       "_model_module_version": "1.5.0",
       "_model_name": "DescriptionStyleModel",
       "_view_count": null,
       "_view_module": "@jupyter-widgets/base",
       "_view_module_version": "1.2.0",
       "_view_name": "StyleView",
       "description_width": ""
      }
     },
     "61bc7f3eb0104cc1b25b59a186541e99": {
      "model_module": "@jupyter-widgets/controls",
      "model_module_version": "1.5.0",
      "model_name": "HTMLModel",
      "state": {
       "_dom_classes": [],
       "_model_module": "@jupyter-widgets/controls",
       "_model_module_version": "1.5.0",
       "_model_name": "HTMLModel",
       "_view_count": null,
       "_view_module": "@jupyter-widgets/controls",
       "_view_module_version": "1.5.0",
       "_view_name": "HTMLView",
       "description": "",
       "description_tooltip": null,
       "layout": "IPY_MODEL_fca47ac2e3ca4d0b8fce355a12c72cb1",
       "placeholder": "​",
       "style": "IPY_MODEL_89ca530006694b6aa90ee89e37fd5cf7",
       "value": "Downloading tokenizer.model: 100%"
      }
     },
     "6384c8ffa0a14937b9ff9afa045b1595": {
      "model_module": "@jupyter-widgets/base",
      "model_module_version": "1.2.0",
      "model_name": "LayoutModel",
      "state": {
       "_model_module": "@jupyter-widgets/base",
       "_model_module_version": "1.2.0",
       "_model_name": "LayoutModel",
       "_view_count": null,
       "_view_module": "@jupyter-widgets/base",
       "_view_module_version": "1.2.0",
       "_view_name": "LayoutView",
       "align_content": null,
       "align_items": null,
       "align_self": null,
       "border": null,
       "bottom": null,
       "display": null,
       "flex": null,
       "flex_flow": null,
       "grid_area": null,
       "grid_auto_columns": null,
       "grid_auto_flow": null,
       "grid_auto_rows": null,
       "grid_column": null,
       "grid_gap": null,
       "grid_row": null,
       "grid_template_areas": null,
       "grid_template_columns": null,
       "grid_template_rows": null,
       "height": null,
       "justify_content": null,
       "justify_items": null,
       "left": null,
       "margin": null,
       "max_height": null,
       "max_width": null,
       "min_height": null,
       "min_width": null,
       "object_fit": null,
       "object_position": null,
       "order": null,
       "overflow": null,
       "overflow_x": null,
       "overflow_y": null,
       "padding": null,
       "right": null,
       "top": null,
       "visibility": null,
       "width": null
      }
     },
     "64317a1a82f342418280eb621b79654f": {
      "model_module": "@jupyter-widgets/base",
      "model_module_version": "1.2.0",
      "model_name": "LayoutModel",
      "state": {
       "_model_module": "@jupyter-widgets/base",
       "_model_module_version": "1.2.0",
       "_model_name": "LayoutModel",
       "_view_count": null,
       "_view_module": "@jupyter-widgets/base",
       "_view_module_version": "1.2.0",
       "_view_name": "LayoutView",
       "align_content": null,
       "align_items": null,
       "align_self": null,
       "border": null,
       "bottom": null,
       "display": null,
       "flex": null,
       "flex_flow": null,
       "grid_area": null,
       "grid_auto_columns": null,
       "grid_auto_flow": null,
       "grid_auto_rows": null,
       "grid_column": null,
       "grid_gap": null,
       "grid_row": null,
       "grid_template_areas": null,
       "grid_template_columns": null,
       "grid_template_rows": null,
       "height": null,
       "justify_content": null,
       "justify_items": null,
       "left": null,
       "margin": null,
       "max_height": null,
       "max_width": null,
       "min_height": null,
       "min_width": null,
       "object_fit": null,
       "object_position": null,
       "order": null,
       "overflow": null,
       "overflow_x": null,
       "overflow_y": null,
       "padding": null,
       "right": null,
       "top": null,
       "visibility": null,
       "width": null
      }
     },
     "64f6eec26710449a8485e73a39649b6b": {
      "model_module": "@jupyter-widgets/controls",
      "model_module_version": "1.5.0",
      "model_name": "FloatProgressModel",
      "state": {
       "_dom_classes": [],
       "_model_module": "@jupyter-widgets/controls",
       "_model_module_version": "1.5.0",
       "_model_name": "FloatProgressModel",
       "_view_count": null,
       "_view_module": "@jupyter-widgets/controls",
       "_view_module_version": "1.5.0",
       "_view_name": "ProgressView",
       "bar_style": "success",
       "description": "",
       "description_tooltip": null,
       "layout": "IPY_MODEL_832b2b2a2fc54e46a30fe59464185086",
       "max": 499723.0,
       "min": 0.0,
       "orientation": "horizontal",
       "style": "IPY_MODEL_96cfa4aee4f34019995e79ce0ce1f44a",
       "value": 499723.0
      }
     },
     "66fa6cc0d89b4c49a3d0cdcb19035656": {
      "model_module": "@jupyter-widgets/controls",
      "model_module_version": "1.5.0",
      "model_name": "DescriptionStyleModel",
      "state": {
       "_model_module": "@jupyter-widgets/controls",
       "_model_module_version": "1.5.0",
       "_model_name": "DescriptionStyleModel",
       "_view_count": null,
       "_view_module": "@jupyter-widgets/base",
       "_view_module_version": "1.2.0",
       "_view_name": "StyleView",
       "description_width": ""
      }
     },
     "69617bbbcd1b403fbaff3ed2371293a2": {
      "model_module": "@jupyter-widgets/controls",
      "model_module_version": "1.5.0",
      "model_name": "HBoxModel",
      "state": {
       "_dom_classes": [],
       "_model_module": "@jupyter-widgets/controls",
       "_model_module_version": "1.5.0",
       "_model_name": "HBoxModel",
       "_view_count": null,
       "_view_module": "@jupyter-widgets/controls",
       "_view_module_version": "1.5.0",
       "_view_name": "HBoxView",
       "box_style": "",
       "children": [
        "IPY_MODEL_a1905074b2a6439f8a126cc62db98303",
        "IPY_MODEL_775270dc08dd41e69d90312ec5b94e7e",
        "IPY_MODEL_a73e52ec852a4842be73b35daf011547"
       ],
       "layout": "IPY_MODEL_af1b0c809f524c60a2042af76ee1d503"
      }
     },
     "69a60ec08287440484eb381312979ce6": {
      "model_module": "@jupyter-widgets/base",
      "model_module_version": "1.2.0",
      "model_name": "LayoutModel",
      "state": {
       "_model_module": "@jupyter-widgets/base",
       "_model_module_version": "1.2.0",
       "_model_name": "LayoutModel",
       "_view_count": null,
       "_view_module": "@jupyter-widgets/base",
       "_view_module_version": "1.2.0",
       "_view_name": "LayoutView",
       "align_content": null,
       "align_items": null,
       "align_self": null,
       "border": null,
       "bottom": null,
       "display": null,
       "flex": null,
       "flex_flow": null,
       "grid_area": null,
       "grid_auto_columns": null,
       "grid_auto_flow": null,
       "grid_auto_rows": null,
       "grid_column": null,
       "grid_gap": null,
       "grid_row": null,
       "grid_template_areas": null,
       "grid_template_columns": null,
       "grid_template_rows": null,
       "height": null,
       "justify_content": null,
       "justify_items": null,
       "left": null,
       "margin": null,
       "max_height": null,
       "max_width": null,
       "min_height": null,
       "min_width": null,
       "object_fit": null,
       "object_position": null,
       "order": null,
       "overflow": null,
       "overflow_x": null,
       "overflow_y": null,
       "padding": null,
       "right": null,
       "top": null,
       "visibility": null,
       "width": null
      }
     },
     "6ad64d483a8a42c28aa85e1a18b6b4d2": {
      "model_module": "@jupyter-widgets/controls",
      "model_module_version": "1.5.0",
      "model_name": "ProgressStyleModel",
      "state": {
       "_model_module": "@jupyter-widgets/controls",
       "_model_module_version": "1.5.0",
       "_model_name": "ProgressStyleModel",
       "_view_count": null,
       "_view_module": "@jupyter-widgets/base",
       "_view_module_version": "1.2.0",
       "_view_name": "StyleView",
       "bar_color": null,
       "description_width": ""
      }
     },
     "6ba7bff0ca2d44a8bc5c77d8fbf78c0f": {
      "model_module": "@jupyter-widgets/controls",
      "model_module_version": "1.5.0",
      "model_name": "FloatProgressModel",
      "state": {
       "_dom_classes": [],
       "_model_module": "@jupyter-widgets/controls",
       "_model_module_version": "1.5.0",
       "_model_name": "FloatProgressModel",
       "_view_count": null,
       "_view_module": "@jupyter-widgets/controls",
       "_view_module_version": "1.5.0",
       "_view_name": "ProgressView",
       "bar_style": "success",
       "description": "",
       "description_tooltip": null,
       "layout": "IPY_MODEL_dd93faa333a84671be6529e61a92f58b",
       "max": 3972182647.0,
       "min": 0.0,
       "orientation": "horizontal",
       "style": "IPY_MODEL_93bf754516eb4473bd79a04adcb92fc1",
       "value": 3972182647.0
      }
     },
     "6c4ef67fdfde4ee99615e5add8f4d34b": {
      "model_module": "@jupyter-widgets/base",
      "model_module_version": "1.2.0",
      "model_name": "LayoutModel",
      "state": {
       "_model_module": "@jupyter-widgets/base",
       "_model_module_version": "1.2.0",
       "_model_name": "LayoutModel",
       "_view_count": null,
       "_view_module": "@jupyter-widgets/base",
       "_view_module_version": "1.2.0",
       "_view_name": "LayoutView",
       "align_content": null,
       "align_items": null,
       "align_self": null,
       "border": null,
       "bottom": null,
       "display": null,
       "flex": null,
       "flex_flow": null,
       "grid_area": null,
       "grid_auto_columns": null,
       "grid_auto_flow": null,
       "grid_auto_rows": null,
       "grid_column": null,
       "grid_gap": null,
       "grid_row": null,
       "grid_template_areas": null,
       "grid_template_columns": null,
       "grid_template_rows": null,
       "height": null,
       "justify_content": null,
       "justify_items": null,
       "left": null,
       "margin": null,
       "max_height": null,
       "max_width": null,
       "min_height": null,
       "min_width": null,
       "object_fit": null,
       "object_position": null,
       "order": null,
       "overflow": null,
       "overflow_x": null,
       "overflow_y": null,
       "padding": null,
       "right": null,
       "top": null,
       "visibility": null,
       "width": null
      }
     },
     "6d55c8d3e5b84ed78396df7f638c98cc": {
      "model_module": "@jupyter-widgets/controls",
      "model_module_version": "1.5.0",
      "model_name": "DescriptionStyleModel",
      "state": {
       "_model_module": "@jupyter-widgets/controls",
       "_model_module_version": "1.5.0",
       "_model_name": "DescriptionStyleModel",
       "_view_count": null,
       "_view_module": "@jupyter-widgets/base",
       "_view_module_version": "1.2.0",
       "_view_name": "StyleView",
       "description_width": ""
      }
     },
     "6ee8673b75714ba7b8d9b168343a490a": {
      "model_module": "@jupyter-widgets/base",
      "model_module_version": "1.2.0",
      "model_name": "LayoutModel",
      "state": {
       "_model_module": "@jupyter-widgets/base",
       "_model_module_version": "1.2.0",
       "_model_name": "LayoutModel",
       "_view_count": null,
       "_view_module": "@jupyter-widgets/base",
       "_view_module_version": "1.2.0",
       "_view_name": "LayoutView",
       "align_content": null,
       "align_items": null,
       "align_self": null,
       "border": null,
       "bottom": null,
       "display": null,
       "flex": null,
       "flex_flow": null,
       "grid_area": null,
       "grid_auto_columns": null,
       "grid_auto_flow": null,
       "grid_auto_rows": null,
       "grid_column": null,
       "grid_gap": null,
       "grid_row": null,
       "grid_template_areas": null,
       "grid_template_columns": null,
       "grid_template_rows": null,
       "height": null,
       "justify_content": null,
       "justify_items": null,
       "left": null,
       "margin": null,
       "max_height": null,
       "max_width": null,
       "min_height": null,
       "min_width": null,
       "object_fit": null,
       "object_position": null,
       "order": null,
       "overflow": null,
       "overflow_x": null,
       "overflow_y": null,
       "padding": null,
       "right": null,
       "top": null,
       "visibility": null,
       "width": null
      }
     },
     "70194a799d1e4bafbe83d9585a5de5dc": {
      "model_module": "@jupyter-widgets/controls",
      "model_module_version": "1.5.0",
      "model_name": "HTMLModel",
      "state": {
       "_dom_classes": [],
       "_model_module": "@jupyter-widgets/controls",
       "_model_module_version": "1.5.0",
       "_model_name": "HTMLModel",
       "_view_count": null,
       "_view_module": "@jupyter-widgets/controls",
       "_view_module_version": "1.5.0",
       "_view_name": "HTMLView",
       "description": "",
       "description_tooltip": null,
       "layout": "IPY_MODEL_e2b88a407eab49bf94e2388d9fa8dd7a",
       "placeholder": "​",
       "style": "IPY_MODEL_b660d6540aaa490595652aa546bee34c",
       "value": " 1.57G/1.57G [01:54&lt;00:00, 13.2MB/s]"
      }
     },
     "7560d2e77dae4d5fbcddda3b7162b768": {
      "model_module": "@jupyter-widgets/controls",
      "model_module_version": "1.5.0",
      "model_name": "DescriptionStyleModel",
      "state": {
       "_model_module": "@jupyter-widgets/controls",
       "_model_module_version": "1.5.0",
       "_model_name": "DescriptionStyleModel",
       "_view_count": null,
       "_view_module": "@jupyter-widgets/base",
       "_view_module_version": "1.2.0",
       "_view_name": "StyleView",
       "description_width": ""
      }
     },
     "759b36e1649a4b8695c0e6f4da7d4e6d": {
      "model_module": "@jupyter-widgets/base",
      "model_module_version": "1.2.0",
      "model_name": "LayoutModel",
      "state": {
       "_model_module": "@jupyter-widgets/base",
       "_model_module_version": "1.2.0",
       "_model_name": "LayoutModel",
       "_view_count": null,
       "_view_module": "@jupyter-widgets/base",
       "_view_module_version": "1.2.0",
       "_view_name": "LayoutView",
       "align_content": null,
       "align_items": null,
       "align_self": null,
       "border": null,
       "bottom": null,
       "display": null,
       "flex": null,
       "flex_flow": null,
       "grid_area": null,
       "grid_auto_columns": null,
       "grid_auto_flow": null,
       "grid_auto_rows": null,
       "grid_column": null,
       "grid_gap": null,
       "grid_row": null,
       "grid_template_areas": null,
       "grid_template_columns": null,
       "grid_template_rows": null,
       "height": null,
       "justify_content": null,
       "justify_items": null,
       "left": null,
       "margin": null,
       "max_height": null,
       "max_width": null,
       "min_height": null,
       "min_width": null,
       "object_fit": null,
       "object_position": null,
       "order": null,
       "overflow": null,
       "overflow_x": null,
       "overflow_y": null,
       "padding": null,
       "right": null,
       "top": null,
       "visibility": null,
       "width": null
      }
     },
     "76443d53d5ca4fb9b8c0adbfcf6a1333": {
      "model_module": "@jupyter-widgets/base",
      "model_module_version": "1.2.0",
      "model_name": "LayoutModel",
      "state": {
       "_model_module": "@jupyter-widgets/base",
       "_model_module_version": "1.2.0",
       "_model_name": "LayoutModel",
       "_view_count": null,
       "_view_module": "@jupyter-widgets/base",
       "_view_module_version": "1.2.0",
       "_view_name": "LayoutView",
       "align_content": null,
       "align_items": null,
       "align_self": null,
       "border": null,
       "bottom": null,
       "display": null,
       "flex": null,
       "flex_flow": null,
       "grid_area": null,
       "grid_auto_columns": null,
       "grid_auto_flow": null,
       "grid_auto_rows": null,
       "grid_column": null,
       "grid_gap": null,
       "grid_row": null,
       "grid_template_areas": null,
       "grid_template_columns": null,
       "grid_template_rows": null,
       "height": null,
       "justify_content": null,
       "justify_items": null,
       "left": null,
       "margin": null,
       "max_height": null,
       "max_width": null,
       "min_height": null,
       "min_width": null,
       "object_fit": null,
       "object_position": null,
       "order": null,
       "overflow": null,
       "overflow_x": null,
       "overflow_y": null,
       "padding": null,
       "right": null,
       "top": null,
       "visibility": null,
       "width": null
      }
     },
     "775270dc08dd41e69d90312ec5b94e7e": {
      "model_module": "@jupyter-widgets/controls",
      "model_module_version": "1.5.0",
      "model_name": "FloatProgressModel",
      "state": {
       "_dom_classes": [],
       "_model_module": "@jupyter-widgets/controls",
       "_model_module_version": "1.5.0",
       "_model_name": "FloatProgressModel",
       "_view_count": null,
       "_view_module": "@jupyter-widgets/controls",
       "_view_module_version": "1.5.0",
       "_view_name": "ProgressView",
       "bar_style": "success",
       "description": "",
       "description_tooltip": null,
       "layout": "IPY_MODEL_e2303422d72641ea9c5643ce33192a2c",
       "max": 662.0,
       "min": 0.0,
       "orientation": "horizontal",
       "style": "IPY_MODEL_ef9b94510dfb48bfae8814949f8bb84e",
       "value": 662.0
      }
     },
     "77ac92d8ad5547ad9942daaac17d00ec": {
      "model_module": "@jupyter-widgets/controls",
      "model_module_version": "1.5.0",
      "model_name": "DescriptionStyleModel",
      "state": {
       "_model_module": "@jupyter-widgets/controls",
       "_model_module_version": "1.5.0",
       "_model_name": "DescriptionStyleModel",
       "_view_count": null,
       "_view_module": "@jupyter-widgets/base",
       "_view_module_version": "1.2.0",
       "_view_name": "StyleView",
       "description_width": ""
      }
     },
     "78e166fb64944cf780169dbf6ae9f6cf": {
      "model_module": "@jupyter-widgets/controls",
      "model_module_version": "1.5.0",
      "model_name": "ProgressStyleModel",
      "state": {
       "_model_module": "@jupyter-widgets/controls",
       "_model_module_version": "1.5.0",
       "_model_name": "ProgressStyleModel",
       "_view_count": null,
       "_view_module": "@jupyter-widgets/base",
       "_view_module_version": "1.2.0",
       "_view_name": "StyleView",
       "bar_color": null,
       "description_width": ""
      }
     },
     "792b0838505d468ba5cb9e2abe5e6f12": {
      "model_module": "@jupyter-widgets/controls",
      "model_module_version": "1.5.0",
      "model_name": "HTMLModel",
      "state": {
       "_dom_classes": [],
       "_model_module": "@jupyter-widgets/controls",
       "_model_module_version": "1.5.0",
       "_model_name": "HTMLModel",
       "_view_count": null,
       "_view_module": "@jupyter-widgets/controls",
       "_view_module_version": "1.5.0",
       "_view_name": "HTMLView",
       "description": "",
       "description_tooltip": null,
       "layout": "IPY_MODEL_5c5eacfe58f649da9f9a2a5269ea0028",
       "placeholder": "​",
       "style": "IPY_MODEL_a922888562a0415c8eee977ce7ab836d",
       "value": " 154/154 [00:00&lt;00:00, 13.3kB/s]"
      }
     },
     "7a0cce813eee480c800c7ca6267d93c6": {
      "model_module": "@jupyter-widgets/controls",
      "model_module_version": "1.5.0",
      "model_name": "HBoxModel",
      "state": {
       "_dom_classes": [],
       "_model_module": "@jupyter-widgets/controls",
       "_model_module_version": "1.5.0",
       "_model_name": "HBoxModel",
       "_view_count": null,
       "_view_module": "@jupyter-widgets/controls",
       "_view_module_version": "1.5.0",
       "_view_name": "HBoxView",
       "box_style": "",
       "children": [
        "IPY_MODEL_7fae03863fa0484687ba77fb20f006d0",
        "IPY_MODEL_564834317a34484da048fbb0a89ab8bf",
        "IPY_MODEL_ab891a17ce0f47abbc6f0ce885a190b8"
       ],
       "layout": "IPY_MODEL_a69cc306277b48bebece4141a0aee0ec"
      }
     },
     "7aee878bcd264f9184a8694d238c3a2f": {
      "model_module": "@jupyter-widgets/base",
      "model_module_version": "1.2.0",
      "model_name": "LayoutModel",
      "state": {
       "_model_module": "@jupyter-widgets/base",
       "_model_module_version": "1.2.0",
       "_model_name": "LayoutModel",
       "_view_count": null,
       "_view_module": "@jupyter-widgets/base",
       "_view_module_version": "1.2.0",
       "_view_name": "LayoutView",
       "align_content": null,
       "align_items": null,
       "align_self": null,
       "border": null,
       "bottom": null,
       "display": null,
       "flex": null,
       "flex_flow": null,
       "grid_area": null,
       "grid_auto_columns": null,
       "grid_auto_flow": null,
       "grid_auto_rows": null,
       "grid_column": null,
       "grid_gap": null,
       "grid_row": null,
       "grid_template_areas": null,
       "grid_template_columns": null,
       "grid_template_rows": null,
       "height": null,
       "justify_content": null,
       "justify_items": null,
       "left": null,
       "margin": null,
       "max_height": null,
       "max_width": null,
       "min_height": null,
       "min_width": null,
       "object_fit": null,
       "object_position": null,
       "order": null,
       "overflow": null,
       "overflow_x": null,
       "overflow_y": null,
       "padding": null,
       "right": null,
       "top": null,
       "visibility": null,
       "width": null
      }
     },
     "7bab3e3e9e5d4a6096f7af3f728fe9ee": {
      "model_module": "@jupyter-widgets/controls",
      "model_module_version": "1.5.0",
      "model_name": "ProgressStyleModel",
      "state": {
       "_model_module": "@jupyter-widgets/controls",
       "_model_module_version": "1.5.0",
       "_model_name": "ProgressStyleModel",
       "_view_count": null,
       "_view_module": "@jupyter-widgets/base",
       "_view_module_version": "1.2.0",
       "_view_name": "StyleView",
       "bar_color": null,
       "description_width": ""
      }
     },
     "7bd9aceba3a640a5b4a4642d8ae35c89": {
      "model_module": "@jupyter-widgets/controls",
      "model_module_version": "1.5.0",
      "model_name": "HBoxModel",
      "state": {
       "_dom_classes": [],
       "_model_module": "@jupyter-widgets/controls",
       "_model_module_version": "1.5.0",
       "_model_name": "HBoxModel",
       "_view_count": null,
       "_view_module": "@jupyter-widgets/controls",
       "_view_module_version": "1.5.0",
       "_view_name": "HBoxView",
       "box_style": "",
       "children": [
        "IPY_MODEL_cd65ce2efa694b9e8e4a5f46ef6b73df",
        "IPY_MODEL_903ab6574c5847d29dc319779efe812d",
        "IPY_MODEL_8f15107a3ed744eca09a925049cc6d8f"
       ],
       "layout": "IPY_MODEL_64317a1a82f342418280eb621b79654f"
      }
     },
     "7eb2f133373249339f85d5f9a2378c4a": {
      "model_module": "@jupyter-widgets/controls",
      "model_module_version": "1.5.0",
      "model_name": "FloatProgressModel",
      "state": {
       "_dom_classes": [],
       "_model_module": "@jupyter-widgets/controls",
       "_model_module_version": "1.5.0",
       "_model_name": "FloatProgressModel",
       "_view_count": null,
       "_view_module": "@jupyter-widgets/controls",
       "_view_module_version": "1.5.0",
       "_view_name": "ProgressView",
       "bar_style": "success",
       "description": "",
       "description_tooltip": null,
       "layout": "IPY_MODEL_8df095a39d0a46f4b75f97116aa094b4",
       "max": 95.0,
       "min": 0.0,
       "orientation": "horizontal",
       "style": "IPY_MODEL_2cf2dfa0c71d4dfea4fd51bb5804046e",
       "value": 95.0
      }
     },
     "7fae03863fa0484687ba77fb20f006d0": {
      "model_module": "@jupyter-widgets/controls",
      "model_module_version": "1.5.0",
      "model_name": "HTMLModel",
      "state": {
       "_dom_classes": [],
       "_model_module": "@jupyter-widgets/controls",
       "_model_module_version": "1.5.0",
       "_model_name": "HTMLModel",
       "_view_count": null,
       "_view_module": "@jupyter-widgets/controls",
       "_view_module_version": "1.5.0",
       "_view_name": "HTMLView",
       "description": "",
       "description_tooltip": null,
       "layout": "IPY_MODEL_d7e6c93d08a1475bb06d97ca570f7255",
       "placeholder": "​",
       "style": "IPY_MODEL_613b2a37d0b74b5fbc8c656bf93eebe2",
       "value": "Downloading tokenizer.json: 100%"
      }
     },
     "80025b3abf214be8812342efbed9e513": {
      "model_module": "@jupyter-widgets/controls",
      "model_module_version": "1.5.0",
      "model_name": "HTMLModel",
      "state": {
       "_dom_classes": [],
       "_model_module": "@jupyter-widgets/controls",
       "_model_module_version": "1.5.0",
       "_model_name": "HTMLModel",
       "_view_count": null,
       "_view_module": "@jupyter-widgets/controls",
       "_view_module_version": "1.5.0",
       "_view_name": "HTMLView",
       "description": "",
       "description_tooltip": null,
       "layout": "IPY_MODEL_34791bb898b145d8b6a9d2d525d922b8",
       "placeholder": "​",
       "style": "IPY_MODEL_331ff4d773334f549eba8673d02debe8",
       "value": "Downloading (…)l-00003-of-00004.bin: 100%"
      }
     },
     "8015f9c590a246799aa5c9734340d354": {
      "model_module": "@jupyter-widgets/controls",
      "model_module_version": "1.5.0",
      "model_name": "HBoxModel",
      "state": {
       "_dom_classes": [],
       "_model_module": "@jupyter-widgets/controls",
       "_model_module_version": "1.5.0",
       "_model_name": "HBoxModel",
       "_view_count": null,
       "_view_module": "@jupyter-widgets/controls",
       "_view_module_version": "1.5.0",
       "_view_name": "HBoxView",
       "box_style": "",
       "children": [
        "IPY_MODEL_0ce66ca655fb4f388e6dd071c69615f0",
        "IPY_MODEL_a3222861a3c34e70aad934380f7338b6",
        "IPY_MODEL_98b4814b45e84a87a99f47d8eb70831a"
       ],
       "layout": "IPY_MODEL_df732b7ab0d4461f8ea500dcc77c67f3"
      }
     },
     "809228d851914e8e9e225b12ef4a4bf1": {
      "model_module": "@jupyter-widgets/base",
      "model_module_version": "1.2.0",
      "model_name": "LayoutModel",
      "state": {
       "_model_module": "@jupyter-widgets/base",
       "_model_module_version": "1.2.0",
       "_model_name": "LayoutModel",
       "_view_count": null,
       "_view_module": "@jupyter-widgets/base",
       "_view_module_version": "1.2.0",
       "_view_name": "LayoutView",
       "align_content": null,
       "align_items": null,
       "align_self": null,
       "border": null,
       "bottom": null,
       "display": null,
       "flex": null,
       "flex_flow": null,
       "grid_area": null,
       "grid_auto_columns": null,
       "grid_auto_flow": null,
       "grid_auto_rows": null,
       "grid_column": null,
       "grid_gap": null,
       "grid_row": null,
       "grid_template_areas": null,
       "grid_template_columns": null,
       "grid_template_rows": null,
       "height": null,
       "justify_content": null,
       "justify_items": null,
       "left": null,
       "margin": null,
       "max_height": null,
       "max_width": null,
       "min_height": null,
       "min_width": null,
       "object_fit": null,
       "object_position": null,
       "order": null,
       "overflow": null,
       "overflow_x": null,
       "overflow_y": null,
       "padding": null,
       "right": null,
       "top": null,
       "visibility": null,
       "width": null
      }
     },
     "832b2b2a2fc54e46a30fe59464185086": {
      "model_module": "@jupyter-widgets/base",
      "model_module_version": "1.2.0",
      "model_name": "LayoutModel",
      "state": {
       "_model_module": "@jupyter-widgets/base",
       "_model_module_version": "1.2.0",
       "_model_name": "LayoutModel",
       "_view_count": null,
       "_view_module": "@jupyter-widgets/base",
       "_view_module_version": "1.2.0",
       "_view_name": "LayoutView",
       "align_content": null,
       "align_items": null,
       "align_self": null,
       "border": null,
       "bottom": null,
       "display": null,
       "flex": null,
       "flex_flow": null,
       "grid_area": null,
       "grid_auto_columns": null,
       "grid_auto_flow": null,
       "grid_auto_rows": null,
       "grid_column": null,
       "grid_gap": null,
       "grid_row": null,
       "grid_template_areas": null,
       "grid_template_columns": null,
       "grid_template_rows": null,
       "height": null,
       "justify_content": null,
       "justify_items": null,
       "left": null,
       "margin": null,
       "max_height": null,
       "max_width": null,
       "min_height": null,
       "min_width": null,
       "object_fit": null,
       "object_position": null,
       "order": null,
       "overflow": null,
       "overflow_x": null,
       "overflow_y": null,
       "padding": null,
       "right": null,
       "top": null,
       "visibility": null,
       "width": null
      }
     },
     "83bade8d98c646bdb1a70c1459a6426f": {
      "model_module": "@jupyter-widgets/controls",
      "model_module_version": "1.5.0",
      "model_name": "DescriptionStyleModel",
      "state": {
       "_model_module": "@jupyter-widgets/controls",
       "_model_module_version": "1.5.0",
       "_model_name": "DescriptionStyleModel",
       "_view_count": null,
       "_view_module": "@jupyter-widgets/base",
       "_view_module_version": "1.2.0",
       "_view_name": "StyleView",
       "description_width": ""
      }
     },
     "849c19cad49d4488a2cee8190ff6ab40": {
      "model_module": "@jupyter-widgets/controls",
      "model_module_version": "1.5.0",
      "model_name": "ProgressStyleModel",
      "state": {
       "_model_module": "@jupyter-widgets/controls",
       "_model_module_version": "1.5.0",
       "_model_name": "ProgressStyleModel",
       "_view_count": null,
       "_view_module": "@jupyter-widgets/base",
       "_view_module_version": "1.2.0",
       "_view_name": "StyleView",
       "bar_color": null,
       "description_width": ""
      }
     },
     "875e3740b7744b4f8a3dd9b72ea6e14b": {
      "model_module": "@jupyter-widgets/base",
      "model_module_version": "1.2.0",
      "model_name": "LayoutModel",
      "state": {
       "_model_module": "@jupyter-widgets/base",
       "_model_module_version": "1.2.0",
       "_model_name": "LayoutModel",
       "_view_count": null,
       "_view_module": "@jupyter-widgets/base",
       "_view_module_version": "1.2.0",
       "_view_name": "LayoutView",
       "align_content": null,
       "align_items": null,
       "align_self": null,
       "border": null,
       "bottom": null,
       "display": null,
       "flex": null,
       "flex_flow": null,
       "grid_area": null,
       "grid_auto_columns": null,
       "grid_auto_flow": null,
       "grid_auto_rows": null,
       "grid_column": null,
       "grid_gap": null,
       "grid_row": null,
       "grid_template_areas": null,
       "grid_template_columns": null,
       "grid_template_rows": null,
       "height": null,
       "justify_content": null,
       "justify_items": null,
       "left": null,
       "margin": null,
       "max_height": null,
       "max_width": null,
       "min_height": null,
       "min_width": null,
       "object_fit": null,
       "object_position": null,
       "order": null,
       "overflow": null,
       "overflow_x": null,
       "overflow_y": null,
       "padding": null,
       "right": null,
       "top": null,
       "visibility": null,
       "width": null
      }
     },
     "87a74ed13aa64669a80fd6af395a5dc6": {
      "model_module": "@jupyter-widgets/controls",
      "model_module_version": "1.5.0",
      "model_name": "HBoxModel",
      "state": {
       "_dom_classes": [],
       "_model_module": "@jupyter-widgets/controls",
       "_model_module_version": "1.5.0",
       "_model_name": "HBoxModel",
       "_view_count": null,
       "_view_module": "@jupyter-widgets/controls",
       "_view_module_version": "1.5.0",
       "_view_name": "HBoxView",
       "box_style": "",
       "children": [
        "IPY_MODEL_f7a26fd615074fc19811cfdf7b739666",
        "IPY_MODEL_9aed13201098499396d45f28d2a4bf04",
        "IPY_MODEL_dbb86f7afa5d423dbe34ad303582df8b"
       ],
       "layout": "IPY_MODEL_8c9f4e82d0524c8881217a581e8a921e"
      }
     },
     "87ad01e88f59458291b24936ae0732fd": {
      "model_module": "@jupyter-widgets/controls",
      "model_module_version": "1.5.0",
      "model_name": "DescriptionStyleModel",
      "state": {
       "_model_module": "@jupyter-widgets/controls",
       "_model_module_version": "1.5.0",
       "_model_name": "DescriptionStyleModel",
       "_view_count": null,
       "_view_module": "@jupyter-widgets/base",
       "_view_module_version": "1.2.0",
       "_view_name": "StyleView",
       "description_width": ""
      }
     },
     "88571dae9689497aaf3ad936d49601f3": {
      "model_module": "@jupyter-widgets/base",
      "model_module_version": "1.2.0",
      "model_name": "LayoutModel",
      "state": {
       "_model_module": "@jupyter-widgets/base",
       "_model_module_version": "1.2.0",
       "_model_name": "LayoutModel",
       "_view_count": null,
       "_view_module": "@jupyter-widgets/base",
       "_view_module_version": "1.2.0",
       "_view_name": "LayoutView",
       "align_content": null,
       "align_items": null,
       "align_self": null,
       "border": null,
       "bottom": null,
       "display": null,
       "flex": null,
       "flex_flow": null,
       "grid_area": null,
       "grid_auto_columns": null,
       "grid_auto_flow": null,
       "grid_auto_rows": null,
       "grid_column": null,
       "grid_gap": null,
       "grid_row": null,
       "grid_template_areas": null,
       "grid_template_columns": null,
       "grid_template_rows": null,
       "height": null,
       "justify_content": null,
       "justify_items": null,
       "left": null,
       "margin": null,
       "max_height": null,
       "max_width": null,
       "min_height": null,
       "min_width": null,
       "object_fit": null,
       "object_position": null,
       "order": null,
       "overflow": null,
       "overflow_x": null,
       "overflow_y": null,
       "padding": null,
       "right": null,
       "top": null,
       "visibility": null,
       "width": null
      }
     },
     "888641869fb64f63aea1ffcc4a5eea66": {
      "model_module": "@jupyter-widgets/controls",
      "model_module_version": "1.5.0",
      "model_name": "HBoxModel",
      "state": {
       "_dom_classes": [],
       "_model_module": "@jupyter-widgets/controls",
       "_model_module_version": "1.5.0",
       "_model_name": "HBoxModel",
       "_view_count": null,
       "_view_module": "@jupyter-widgets/controls",
       "_view_module_version": "1.5.0",
       "_view_name": "HBoxView",
       "box_style": "",
       "children": [
        "IPY_MODEL_ad7aff22d30c49dda3ad9a48a6d7117d",
        "IPY_MODEL_25ddccd9eecf465a959b7b25d786d366",
        "IPY_MODEL_3230189cd34147ec934e25e6c8536c59"
       ],
       "layout": "IPY_MODEL_47d54899084d4e2ab41393112cf104df"
      }
     },
     "88c7504bf071454d92f9e8b3ffe7221a": {
      "model_module": "@jupyter-widgets/base",
      "model_module_version": "1.2.0",
      "model_name": "LayoutModel",
      "state": {
       "_model_module": "@jupyter-widgets/base",
       "_model_module_version": "1.2.0",
       "_model_name": "LayoutModel",
       "_view_count": null,
       "_view_module": "@jupyter-widgets/base",
       "_view_module_version": "1.2.0",
       "_view_name": "LayoutView",
       "align_content": null,
       "align_items": null,
       "align_self": null,
       "border": null,
       "bottom": null,
       "display": null,
       "flex": null,
       "flex_flow": null,
       "grid_area": null,
       "grid_auto_columns": null,
       "grid_auto_flow": null,
       "grid_auto_rows": null,
       "grid_column": null,
       "grid_gap": null,
       "grid_row": null,
       "grid_template_areas": null,
       "grid_template_columns": null,
       "grid_template_rows": null,
       "height": null,
       "justify_content": null,
       "justify_items": null,
       "left": null,
       "margin": null,
       "max_height": null,
       "max_width": null,
       "min_height": null,
       "min_width": null,
       "object_fit": null,
       "object_position": null,
       "order": null,
       "overflow": null,
       "overflow_x": null,
       "overflow_y": null,
       "padding": null,
       "right": null,
       "top": null,
       "visibility": null,
       "width": null
      }
     },
     "88fa7e748dec42379d26b6f0e85a153e": {
      "model_module": "@jupyter-widgets/controls",
      "model_module_version": "1.5.0",
      "model_name": "DescriptionStyleModel",
      "state": {
       "_model_module": "@jupyter-widgets/controls",
       "_model_module_version": "1.5.0",
       "_model_name": "DescriptionStyleModel",
       "_view_count": null,
       "_view_module": "@jupyter-widgets/base",
       "_view_module_version": "1.2.0",
       "_view_name": "StyleView",
       "description_width": ""
      }
     },
     "897b9828d3684242aa7d7093347df59c": {
      "model_module": "@jupyter-widgets/base",
      "model_module_version": "1.2.0",
      "model_name": "LayoutModel",
      "state": {
       "_model_module": "@jupyter-widgets/base",
       "_model_module_version": "1.2.0",
       "_model_name": "LayoutModel",
       "_view_count": null,
       "_view_module": "@jupyter-widgets/base",
       "_view_module_version": "1.2.0",
       "_view_name": "LayoutView",
       "align_content": null,
       "align_items": null,
       "align_self": null,
       "border": null,
       "bottom": null,
       "display": null,
       "flex": null,
       "flex_flow": null,
       "grid_area": null,
       "grid_auto_columns": null,
       "grid_auto_flow": null,
       "grid_auto_rows": null,
       "grid_column": null,
       "grid_gap": null,
       "grid_row": null,
       "grid_template_areas": null,
       "grid_template_columns": null,
       "grid_template_rows": null,
       "height": null,
       "justify_content": null,
       "justify_items": null,
       "left": null,
       "margin": null,
       "max_height": null,
       "max_width": null,
       "min_height": null,
       "min_width": null,
       "object_fit": null,
       "object_position": null,
       "order": null,
       "overflow": null,
       "overflow_x": null,
       "overflow_y": null,
       "padding": null,
       "right": null,
       "top": null,
       "visibility": null,
       "width": null
      }
     },
     "89ca530006694b6aa90ee89e37fd5cf7": {
      "model_module": "@jupyter-widgets/controls",
      "model_module_version": "1.5.0",
      "model_name": "DescriptionStyleModel",
      "state": {
       "_model_module": "@jupyter-widgets/controls",
       "_model_module_version": "1.5.0",
       "_model_name": "DescriptionStyleModel",
       "_view_count": null,
       "_view_module": "@jupyter-widgets/base",
       "_view_module_version": "1.2.0",
       "_view_name": "StyleView",
       "description_width": ""
      }
     },
     "8b15881d47c94ed187db4341eeef4056": {
      "model_module": "@jupyter-widgets/base",
      "model_module_version": "1.2.0",
      "model_name": "LayoutModel",
      "state": {
       "_model_module": "@jupyter-widgets/base",
       "_model_module_version": "1.2.0",
       "_model_name": "LayoutModel",
       "_view_count": null,
       "_view_module": "@jupyter-widgets/base",
       "_view_module_version": "1.2.0",
       "_view_name": "LayoutView",
       "align_content": null,
       "align_items": null,
       "align_self": null,
       "border": null,
       "bottom": null,
       "display": null,
       "flex": null,
       "flex_flow": null,
       "grid_area": null,
       "grid_auto_columns": null,
       "grid_auto_flow": null,
       "grid_auto_rows": null,
       "grid_column": null,
       "grid_gap": null,
       "grid_row": null,
       "grid_template_areas": null,
       "grid_template_columns": null,
       "grid_template_rows": null,
       "height": null,
       "justify_content": null,
       "justify_items": null,
       "left": null,
       "margin": null,
       "max_height": null,
       "max_width": null,
       "min_height": null,
       "min_width": null,
       "object_fit": null,
       "object_position": null,
       "order": null,
       "overflow": null,
       "overflow_x": null,
       "overflow_y": null,
       "padding": null,
       "right": null,
       "top": null,
       "visibility": null,
       "width": null
      }
     },
     "8b2065ca47084803b6f49cb71bd9a188": {
      "model_module": "@jupyter-widgets/base",
      "model_module_version": "1.2.0",
      "model_name": "LayoutModel",
      "state": {
       "_model_module": "@jupyter-widgets/base",
       "_model_module_version": "1.2.0",
       "_model_name": "LayoutModel",
       "_view_count": null,
       "_view_module": "@jupyter-widgets/base",
       "_view_module_version": "1.2.0",
       "_view_name": "LayoutView",
       "align_content": null,
       "align_items": null,
       "align_self": null,
       "border": null,
       "bottom": null,
       "display": null,
       "flex": null,
       "flex_flow": null,
       "grid_area": null,
       "grid_auto_columns": null,
       "grid_auto_flow": null,
       "grid_auto_rows": null,
       "grid_column": null,
       "grid_gap": null,
       "grid_row": null,
       "grid_template_areas": null,
       "grid_template_columns": null,
       "grid_template_rows": null,
       "height": null,
       "justify_content": null,
       "justify_items": null,
       "left": null,
       "margin": null,
       "max_height": null,
       "max_width": null,
       "min_height": null,
       "min_width": null,
       "object_fit": null,
       "object_position": null,
       "order": null,
       "overflow": null,
       "overflow_x": null,
       "overflow_y": null,
       "padding": null,
       "right": null,
       "top": null,
       "visibility": null,
       "width": null
      }
     },
     "8c73bcd63c7647019d7f63f110a75938": {
      "model_module": "@jupyter-widgets/controls",
      "model_module_version": "1.5.0",
      "model_name": "HBoxModel",
      "state": {
       "_dom_classes": [],
       "_model_module": "@jupyter-widgets/controls",
       "_model_module_version": "1.5.0",
       "_model_name": "HBoxModel",
       "_view_count": null,
       "_view_module": "@jupyter-widgets/controls",
       "_view_module_version": "1.5.0",
       "_view_name": "HBoxView",
       "box_style": "",
       "children": [
        "IPY_MODEL_1e2bbc1e1a714c0d8793d8f02f67bc6a",
        "IPY_MODEL_1bafe31a22e045adbf63ca6b76783abe",
        "IPY_MODEL_d2927f31fcd445d0a53f0150a0c51971"
       ],
       "layout": "IPY_MODEL_bcc06e3c28314b09a212d32714e55702"
      }
     },
     "8c9f4e82d0524c8881217a581e8a921e": {
      "model_module": "@jupyter-widgets/base",
      "model_module_version": "1.2.0",
      "model_name": "LayoutModel",
      "state": {
       "_model_module": "@jupyter-widgets/base",
       "_model_module_version": "1.2.0",
       "_model_name": "LayoutModel",
       "_view_count": null,
       "_view_module": "@jupyter-widgets/base",
       "_view_module_version": "1.2.0",
       "_view_name": "LayoutView",
       "align_content": null,
       "align_items": null,
       "align_self": null,
       "border": null,
       "bottom": null,
       "display": null,
       "flex": null,
       "flex_flow": null,
       "grid_area": null,
       "grid_auto_columns": null,
       "grid_auto_flow": null,
       "grid_auto_rows": null,
       "grid_column": null,
       "grid_gap": null,
       "grid_row": null,
       "grid_template_areas": null,
       "grid_template_columns": null,
       "grid_template_rows": null,
       "height": null,
       "justify_content": null,
       "justify_items": null,
       "left": null,
       "margin": null,
       "max_height": null,
       "max_width": null,
       "min_height": null,
       "min_width": null,
       "object_fit": null,
       "object_position": null,
       "order": null,
       "overflow": null,
       "overflow_x": null,
       "overflow_y": null,
       "padding": null,
       "right": null,
       "top": null,
       "visibility": null,
       "width": null
      }
     },
     "8df095a39d0a46f4b75f97116aa094b4": {
      "model_module": "@jupyter-widgets/base",
      "model_module_version": "1.2.0",
      "model_name": "LayoutModel",
      "state": {
       "_model_module": "@jupyter-widgets/base",
       "_model_module_version": "1.2.0",
       "_model_name": "LayoutModel",
       "_view_count": null,
       "_view_module": "@jupyter-widgets/base",
       "_view_module_version": "1.2.0",
       "_view_name": "LayoutView",
       "align_content": null,
       "align_items": null,
       "align_self": null,
       "border": null,
       "bottom": null,
       "display": null,
       "flex": null,
       "flex_flow": null,
       "grid_area": null,
       "grid_auto_columns": null,
       "grid_auto_flow": null,
       "grid_auto_rows": null,
       "grid_column": null,
       "grid_gap": null,
       "grid_row": null,
       "grid_template_areas": null,
       "grid_template_columns": null,
       "grid_template_rows": null,
       "height": null,
       "justify_content": null,
       "justify_items": null,
       "left": null,
       "margin": null,
       "max_height": null,
       "max_width": null,
       "min_height": null,
       "min_width": null,
       "object_fit": null,
       "object_position": null,
       "order": null,
       "overflow": null,
       "overflow_x": null,
       "overflow_y": null,
       "padding": null,
       "right": null,
       "top": null,
       "visibility": null,
       "width": null
      }
     },
     "8ea9a8ef5f7448c99f92082e9cf5c601": {
      "model_module": "@jupyter-widgets/controls",
      "model_module_version": "1.5.0",
      "model_name": "FloatProgressModel",
      "state": {
       "_dom_classes": [],
       "_model_module": "@jupyter-widgets/controls",
       "_model_module_version": "1.5.0",
       "_model_name": "FloatProgressModel",
       "_view_count": null,
       "_view_module": "@jupyter-widgets/controls",
       "_view_module_version": "1.5.0",
       "_view_name": "ProgressView",
       "bar_style": "success",
       "description": "",
       "description_tooltip": null,
       "layout": "IPY_MODEL_010a10731d294df29dfd4142de5c2740",
       "max": 280.0,
       "min": 0.0,
       "orientation": "horizontal",
       "style": "IPY_MODEL_ff142861868a46fabbcdd159503d3678",
       "value": 280.0
      }
     },
     "8f15107a3ed744eca09a925049cc6d8f": {
      "model_module": "@jupyter-widgets/controls",
      "model_module_version": "1.5.0",
      "model_name": "HTMLModel",
      "state": {
       "_dom_classes": [],
       "_model_module": "@jupyter-widgets/controls",
       "_model_module_version": "1.5.0",
       "_model_name": "HTMLModel",
       "_view_count": null,
       "_view_module": "@jupyter-widgets/controls",
       "_view_module_version": "1.5.0",
       "_view_name": "HTMLView",
       "description": "",
       "description_tooltip": null,
       "layout": "IPY_MODEL_3473893b24f34c51b06701724b35e515",
       "placeholder": "​",
       "style": "IPY_MODEL_04e916ef4e934c85b36bd65df520c4e4",
       "value": " 144/144 [00:00&lt;00:00, 11.8kB/s]"
      }
     },
     "903ab6574c5847d29dc319779efe812d": {
      "model_module": "@jupyter-widgets/controls",
      "model_module_version": "1.5.0",
      "model_name": "FloatProgressModel",
      "state": {
       "_dom_classes": [],
       "_model_module": "@jupyter-widgets/controls",
       "_model_module_version": "1.5.0",
       "_model_name": "FloatProgressModel",
       "_view_count": null,
       "_view_module": "@jupyter-widgets/controls",
       "_view_module_version": "1.5.0",
       "_view_name": "ProgressView",
       "bar_style": "success",
       "description": "",
       "description_tooltip": null,
       "layout": "IPY_MODEL_88571dae9689497aaf3ad936d49601f3",
       "max": 144.0,
       "min": 0.0,
       "orientation": "horizontal",
       "style": "IPY_MODEL_78e166fb64944cf780169dbf6ae9f6cf",
       "value": 144.0
      }
     },
     "90cf7d52a2e14968ba0460df82ce7787": {
      "model_module": "@jupyter-widgets/base",
      "model_module_version": "1.2.0",
      "model_name": "LayoutModel",
      "state": {
       "_model_module": "@jupyter-widgets/base",
       "_model_module_version": "1.2.0",
       "_model_name": "LayoutModel",
       "_view_count": null,
       "_view_module": "@jupyter-widgets/base",
       "_view_module_version": "1.2.0",
       "_view_name": "LayoutView",
       "align_content": null,
       "align_items": null,
       "align_self": null,
       "border": null,
       "bottom": null,
       "display": null,
       "flex": null,
       "flex_flow": null,
       "grid_area": null,
       "grid_auto_columns": null,
       "grid_auto_flow": null,
       "grid_auto_rows": null,
       "grid_column": null,
       "grid_gap": null,
       "grid_row": null,
       "grid_template_areas": null,
       "grid_template_columns": null,
       "grid_template_rows": null,
       "height": null,
       "justify_content": null,
       "justify_items": null,
       "left": null,
       "margin": null,
       "max_height": null,
       "max_width": null,
       "min_height": null,
       "min_width": null,
       "object_fit": null,
       "object_position": null,
       "order": null,
       "overflow": null,
       "overflow_x": null,
       "overflow_y": null,
       "padding": null,
       "right": null,
       "top": null,
       "visibility": null,
       "width": null
      }
     },
     "93bf754516eb4473bd79a04adcb92fc1": {
      "model_module": "@jupyter-widgets/controls",
      "model_module_version": "1.5.0",
      "model_name": "ProgressStyleModel",
      "state": {
       "_model_module": "@jupyter-widgets/controls",
       "_model_module_version": "1.5.0",
       "_model_name": "ProgressStyleModel",
       "_view_count": null,
       "_view_module": "@jupyter-widgets/base",
       "_view_module_version": "1.2.0",
       "_view_name": "StyleView",
       "bar_color": null,
       "description_width": ""
      }
     },
     "9474213f9d0d47299cb0b49901a313e2": {
      "model_module": "@jupyter-widgets/controls",
      "model_module_version": "1.5.0",
      "model_name": "HBoxModel",
      "state": {
       "_dom_classes": [],
       "_model_module": "@jupyter-widgets/controls",
       "_model_module_version": "1.5.0",
       "_model_name": "HBoxModel",
       "_view_count": null,
       "_view_module": "@jupyter-widgets/controls",
       "_view_module_version": "1.5.0",
       "_view_name": "HBoxView",
       "box_style": "",
       "children": [
        "IPY_MODEL_14bc293c6ea746b6900cdd51488dde16",
        "IPY_MODEL_6ba7bff0ca2d44a8bc5c77d8fbf78c0f",
        "IPY_MODEL_55245802d3ab49b9bf4acefd3fa8f41b"
       ],
       "layout": "IPY_MODEL_f8ab753a8b0745a6b365dcba1af7848e"
      }
     },
     "955f1ead64684fdb8c83da4696d74f9c": {
      "model_module": "@jupyter-widgets/controls",
      "model_module_version": "1.5.0",
      "model_name": "HBoxModel",
      "state": {
       "_dom_classes": [],
       "_model_module": "@jupyter-widgets/controls",
       "_model_module_version": "1.5.0",
       "_model_name": "HBoxModel",
       "_view_count": null,
       "_view_module": "@jupyter-widgets/controls",
       "_view_module_version": "1.5.0",
       "_view_name": "HBoxView",
       "box_style": "",
       "children": [
        "IPY_MODEL_d77dfc8f2bf345efbb25654a3dc02469",
        "IPY_MODEL_8ea9a8ef5f7448c99f92082e9cf5c601",
        "IPY_MODEL_6021eff313e8402fa15730add4d9b436"
       ],
       "layout": "IPY_MODEL_b2dd6fba7a814a4b91ec174656d8eb5e"
      }
     },
     "96055a30bd79442ca7d21d83dbc182e4": {
      "model_module": "@jupyter-widgets/base",
      "model_module_version": "1.2.0",
      "model_name": "LayoutModel",
      "state": {
       "_model_module": "@jupyter-widgets/base",
       "_model_module_version": "1.2.0",
       "_model_name": "LayoutModel",
       "_view_count": null,
       "_view_module": "@jupyter-widgets/base",
       "_view_module_version": "1.2.0",
       "_view_name": "LayoutView",
       "align_content": null,
       "align_items": null,
       "align_self": null,
       "border": null,
       "bottom": null,
       "display": null,
       "flex": null,
       "flex_flow": null,
       "grid_area": null,
       "grid_auto_columns": null,
       "grid_auto_flow": null,
       "grid_auto_rows": null,
       "grid_column": null,
       "grid_gap": null,
       "grid_row": null,
       "grid_template_areas": null,
       "grid_template_columns": null,
       "grid_template_rows": null,
       "height": null,
       "justify_content": null,
       "justify_items": null,
       "left": null,
       "margin": null,
       "max_height": null,
       "max_width": null,
       "min_height": null,
       "min_width": null,
       "object_fit": null,
       "object_position": null,
       "order": null,
       "overflow": null,
       "overflow_x": null,
       "overflow_y": null,
       "padding": null,
       "right": null,
       "top": null,
       "visibility": null,
       "width": null
      }
     },
     "96cfa4aee4f34019995e79ce0ce1f44a": {
      "model_module": "@jupyter-widgets/controls",
      "model_module_version": "1.5.0",
      "model_name": "ProgressStyleModel",
      "state": {
       "_model_module": "@jupyter-widgets/controls",
       "_model_module_version": "1.5.0",
       "_model_name": "ProgressStyleModel",
       "_view_count": null,
       "_view_module": "@jupyter-widgets/base",
       "_view_module_version": "1.2.0",
       "_view_name": "StyleView",
       "bar_color": null,
       "description_width": ""
      }
     },
     "980a277009a248339158a9c6aa4dd146": {
      "model_module": "@jupyter-widgets/controls",
      "model_module_version": "1.5.0",
      "model_name": "FloatProgressModel",
      "state": {
       "_dom_classes": [],
       "_model_module": "@jupyter-widgets/controls",
       "_model_module_version": "1.5.0",
       "_model_name": "FloatProgressModel",
       "_view_count": null,
       "_view_module": "@jupyter-widgets/controls",
       "_view_module_version": "1.5.0",
       "_view_name": "ProgressView",
       "bar_style": "success",
       "description": "",
       "description_tooltip": null,
       "layout": "IPY_MODEL_08bee9332d0d4e3b862554d54b82a569",
       "max": 3957503725.0,
       "min": 0.0,
       "orientation": "horizontal",
       "style": "IPY_MODEL_2d31a3afb960442095aced5995ef19b5",
       "value": 3957503725.0
      }
     },
     "98b4814b45e84a87a99f47d8eb70831a": {
      "model_module": "@jupyter-widgets/controls",
      "model_module_version": "1.5.0",
      "model_name": "HTMLModel",
      "state": {
       "_dom_classes": [],
       "_model_module": "@jupyter-widgets/controls",
       "_model_module_version": "1.5.0",
       "_model_name": "HTMLModel",
       "_view_count": null,
       "_view_module": "@jupyter-widgets/controls",
       "_view_module_version": "1.5.0",
       "_view_name": "HTMLView",
       "description": "",
       "description_tooltip": null,
       "layout": "IPY_MODEL_b7de135da0964e1a8753be1895dd3fd6",
       "placeholder": "​",
       "style": "IPY_MODEL_f6b017e00ddf461ba370865e695da3da",
       "value": " 5.07M/5.07M [00:01&lt;00:00, 2.63MB/s]"
      }
     },
     "9a1f7ab7bdfd49909f0eb462a4c9a5da": {
      "model_module": "@jupyter-widgets/controls",
      "model_module_version": "1.5.0",
      "model_name": "DescriptionStyleModel",
      "state": {
       "_model_module": "@jupyter-widgets/controls",
       "_model_module_version": "1.5.0",
       "_model_name": "DescriptionStyleModel",
       "_view_count": null,
       "_view_module": "@jupyter-widgets/base",
       "_view_module_version": "1.2.0",
       "_view_name": "StyleView",
       "description_width": ""
      }
     },
     "9abf02821eb544fca7dc8d69da22f295": {
      "model_module": "@jupyter-widgets/controls",
      "model_module_version": "1.5.0",
      "model_name": "HBoxModel",
      "state": {
       "_dom_classes": [],
       "_model_module": "@jupyter-widgets/controls",
       "_model_module_version": "1.5.0",
       "_model_name": "HBoxModel",
       "_view_count": null,
       "_view_module": "@jupyter-widgets/controls",
       "_view_module_version": "1.5.0",
       "_view_name": "HBoxView",
       "box_style": "",
       "children": [
        "IPY_MODEL_5e6d2fd2320d411996df227c6993f6f5",
        "IPY_MODEL_a04ccc12bd4e46faadd1a88fd168144d",
        "IPY_MODEL_792b0838505d468ba5cb9e2abe5e6f12"
       ],
       "layout": "IPY_MODEL_9f8b4444fd7d452d819c239ce7f3bdaa"
      }
     },
     "9aed13201098499396d45f28d2a4bf04": {
      "model_module": "@jupyter-widgets/controls",
      "model_module_version": "1.5.0",
      "model_name": "FloatProgressModel",
      "state": {
       "_dom_classes": [],
       "_model_module": "@jupyter-widgets/controls",
       "_model_module_version": "1.5.0",
       "_model_name": "FloatProgressModel",
       "_view_count": null,
       "_view_module": "@jupyter-widgets/controls",
       "_view_module_version": "1.5.0",
       "_view_name": "ProgressView",
       "bar_style": "success",
       "description": "",
       "description_tooltip": null,
       "layout": "IPY_MODEL_8b2065ca47084803b6f49cb71bd9a188",
       "max": 4.0,
       "min": 0.0,
       "orientation": "horizontal",
       "style": "IPY_MODEL_f0005974b04345b495566d98851fe80b",
       "value": 4.0
      }
     },
     "9da2214eec494b8aa70bf4bf4f3930f3": {
      "model_module": "@jupyter-widgets/controls",
      "model_module_version": "1.5.0",
      "model_name": "HTMLModel",
      "state": {
       "_dom_classes": [],
       "_model_module": "@jupyter-widgets/controls",
       "_model_module_version": "1.5.0",
       "_model_name": "HTMLModel",
       "_view_count": null,
       "_view_module": "@jupyter-widgets/controls",
       "_view_module_version": "1.5.0",
       "_view_name": "HTMLView",
       "description": "",
       "description_tooltip": null,
       "layout": "IPY_MODEL_ae000ddebb244b0bb34ae2db6d7c6470",
       "placeholder": "​",
       "style": "IPY_MODEL_212d5902fcc9455e86daea53a9f677af",
       "value": " 418/418 [00:00&lt;00:00, 38.1kB/s]"
      }
     },
     "9f8b4444fd7d452d819c239ce7f3bdaa": {
      "model_module": "@jupyter-widgets/base",
      "model_module_version": "1.2.0",
      "model_name": "LayoutModel",
      "state": {
       "_model_module": "@jupyter-widgets/base",
       "_model_module_version": "1.2.0",
       "_model_name": "LayoutModel",
       "_view_count": null,
       "_view_module": "@jupyter-widgets/base",
       "_view_module_version": "1.2.0",
       "_view_name": "LayoutView",
       "align_content": null,
       "align_items": null,
       "align_self": null,
       "border": null,
       "bottom": null,
       "display": null,
       "flex": null,
       "flex_flow": null,
       "grid_area": null,
       "grid_auto_columns": null,
       "grid_auto_flow": null,
       "grid_auto_rows": null,
       "grid_column": null,
       "grid_gap": null,
       "grid_row": null,
       "grid_template_areas": null,
       "grid_template_columns": null,
       "grid_template_rows": null,
       "height": null,
       "justify_content": null,
       "justify_items": null,
       "left": null,
       "margin": null,
       "max_height": null,
       "max_width": null,
       "min_height": null,
       "min_width": null,
       "object_fit": null,
       "object_position": null,
       "order": null,
       "overflow": null,
       "overflow_x": null,
       "overflow_y": null,
       "padding": null,
       "right": null,
       "top": null,
       "visibility": null,
       "width": null
      }
     },
     "9ff0f72d78f442d5a2d50a5aca8f0f20": {
      "model_module": "@jupyter-widgets/controls",
      "model_module_version": "1.5.0",
      "model_name": "HBoxModel",
      "state": {
       "_dom_classes": [],
       "_model_module": "@jupyter-widgets/controls",
       "_model_module_version": "1.5.0",
       "_model_name": "HBoxModel",
       "_view_count": null,
       "_view_module": "@jupyter-widgets/controls",
       "_view_module_version": "1.5.0",
       "_view_name": "HBoxView",
       "box_style": "",
       "children": [
        "IPY_MODEL_60e809e5b9a249cfba30b7425d38c398",
        "IPY_MODEL_5ed915493533457aacd1a9547680f87f",
        "IPY_MODEL_c1cff6bbce764e51878a68636fb72c02"
       ],
       "layout": "IPY_MODEL_875e3740b7744b4f8a3dd9b72ea6e14b"
      }
     },
     "a04ccc12bd4e46faadd1a88fd168144d": {
      "model_module": "@jupyter-widgets/controls",
      "model_module_version": "1.5.0",
      "model_name": "FloatProgressModel",
      "state": {
       "_dom_classes": [],
       "_model_module": "@jupyter-widgets/controls",
       "_model_module_version": "1.5.0",
       "_model_name": "FloatProgressModel",
       "_view_count": null,
       "_view_module": "@jupyter-widgets/controls",
       "_view_module_version": "1.5.0",
       "_view_name": "ProgressView",
       "bar_style": "success",
       "description": "",
       "description_tooltip": null,
       "layout": "IPY_MODEL_3e06a31eb48a44ccb43f20e7d37de109",
       "max": 154.0,
       "min": 0.0,
       "orientation": "horizontal",
       "style": "IPY_MODEL_e4ff51a4e3224faa92ce529f2d58c288",
       "value": 154.0
      }
     },
     "a159ab8b6115495ba9d80af5c0583ec2": {
      "model_module": "@jupyter-widgets/controls",
      "model_module_version": "1.5.0",
      "model_name": "DescriptionStyleModel",
      "state": {
       "_model_module": "@jupyter-widgets/controls",
       "_model_module_version": "1.5.0",
       "_model_name": "DescriptionStyleModel",
       "_view_count": null,
       "_view_module": "@jupyter-widgets/base",
       "_view_module_version": "1.2.0",
       "_view_name": "StyleView",
       "description_width": ""
      }
     },
     "a1905074b2a6439f8a126cc62db98303": {
      "model_module": "@jupyter-widgets/controls",
      "model_module_version": "1.5.0",
      "model_name": "HTMLModel",
      "state": {
       "_dom_classes": [],
       "_model_module": "@jupyter-widgets/controls",
       "_model_module_version": "1.5.0",
       "_model_name": "HTMLModel",
       "_view_count": null,
       "_view_module": "@jupyter-widgets/controls",
       "_view_module_version": "1.5.0",
       "_view_name": "HTMLView",
       "description": "",
       "description_tooltip": null,
       "layout": "IPY_MODEL_759b36e1649a4b8695c0e6f4da7d4e6d",
       "placeholder": "​",
       "style": "IPY_MODEL_b8e08f0ca0f8490ba6c476dc1cf9dd38",
       "value": "Downloading (…)lve/main/config.json: 100%"
      }
     },
     "a1e432eaa1434a30866460d91aa2de97": {
      "model_module": "@jupyter-widgets/controls",
      "model_module_version": "1.5.0",
      "model_name": "DescriptionStyleModel",
      "state": {
       "_model_module": "@jupyter-widgets/controls",
       "_model_module_version": "1.5.0",
       "_model_name": "DescriptionStyleModel",
       "_view_count": null,
       "_view_module": "@jupyter-widgets/base",
       "_view_module_version": "1.2.0",
       "_view_name": "StyleView",
       "description_width": ""
      }
     },
     "a2b75443ecf6458bba2dcfeeeac3422e": {
      "model_module": "@jupyter-widgets/base",
      "model_module_version": "1.2.0",
      "model_name": "LayoutModel",
      "state": {
       "_model_module": "@jupyter-widgets/base",
       "_model_module_version": "1.2.0",
       "_model_name": "LayoutModel",
       "_view_count": null,
       "_view_module": "@jupyter-widgets/base",
       "_view_module_version": "1.2.0",
       "_view_name": "LayoutView",
       "align_content": null,
       "align_items": null,
       "align_self": null,
       "border": null,
       "bottom": null,
       "display": null,
       "flex": null,
       "flex_flow": null,
       "grid_area": null,
       "grid_auto_columns": null,
       "grid_auto_flow": null,
       "grid_auto_rows": null,
       "grid_column": null,
       "grid_gap": null,
       "grid_row": null,
       "grid_template_areas": null,
       "grid_template_columns": null,
       "grid_template_rows": null,
       "height": null,
       "justify_content": null,
       "justify_items": null,
       "left": null,
       "margin": null,
       "max_height": null,
       "max_width": null,
       "min_height": null,
       "min_width": null,
       "object_fit": null,
       "object_position": null,
       "order": null,
       "overflow": null,
       "overflow_x": null,
       "overflow_y": null,
       "padding": null,
       "right": null,
       "top": null,
       "visibility": null,
       "width": null
      }
     },
     "a2f536860bd74a4e9c8cf75609947fe7": {
      "model_module": "@jupyter-widgets/controls",
      "model_module_version": "1.5.0",
      "model_name": "HTMLModel",
      "state": {
       "_dom_classes": [],
       "_model_module": "@jupyter-widgets/controls",
       "_model_module_version": "1.5.0",
       "_model_name": "HTMLModel",
       "_view_count": null,
       "_view_module": "@jupyter-widgets/controls",
       "_view_module_version": "1.5.0",
       "_view_name": "HTMLView",
       "description": "",
       "description_tooltip": null,
       "layout": "IPY_MODEL_38ec27002b1a4c65b8ace9c1dabe1996",
       "placeholder": "​",
       "style": "IPY_MODEL_4ded0859fa574d3188f094878b5ab2fc",
       "value": "Downloading (…)l-00002-of-00004.bin: 100%"
      }
     },
     "a3222861a3c34e70aad934380f7338b6": {
      "model_module": "@jupyter-widgets/controls",
      "model_module_version": "1.5.0",
      "model_name": "FloatProgressModel",
      "state": {
       "_dom_classes": [],
       "_model_module": "@jupyter-widgets/controls",
       "_model_module_version": "1.5.0",
       "_model_name": "FloatProgressModel",
       "_view_count": null,
       "_view_module": "@jupyter-widgets/controls",
       "_view_module_version": "1.5.0",
       "_view_name": "ProgressView",
       "bar_style": "success",
       "description": "",
       "description_tooltip": null,
       "layout": "IPY_MODEL_1567e74b72e443c8a81caa0ee31615a8",
       "max": 5069051.0,
       "min": 0.0,
       "orientation": "horizontal",
       "style": "IPY_MODEL_6ad64d483a8a42c28aa85e1a18b6b4d2",
       "value": 5069051.0
      }
     },
     "a369bf6b130e4a2a9cc775b12015846f": {
      "model_module": "@jupyter-widgets/base",
      "model_module_version": "1.2.0",
      "model_name": "LayoutModel",
      "state": {
       "_model_module": "@jupyter-widgets/base",
       "_model_module_version": "1.2.0",
       "_model_name": "LayoutModel",
       "_view_count": null,
       "_view_module": "@jupyter-widgets/base",
       "_view_module_version": "1.2.0",
       "_view_name": "LayoutView",
       "align_content": null,
       "align_items": null,
       "align_self": null,
       "border": null,
       "bottom": null,
       "display": null,
       "flex": null,
       "flex_flow": null,
       "grid_area": null,
       "grid_auto_columns": null,
       "grid_auto_flow": null,
       "grid_auto_rows": null,
       "grid_column": null,
       "grid_gap": null,
       "grid_row": null,
       "grid_template_areas": null,
       "grid_template_columns": null,
       "grid_template_rows": null,
       "height": null,
       "justify_content": null,
       "justify_items": null,
       "left": null,
       "margin": null,
       "max_height": null,
       "max_width": null,
       "min_height": null,
       "min_width": null,
       "object_fit": null,
       "object_position": null,
       "order": null,
       "overflow": null,
       "overflow_x": null,
       "overflow_y": null,
       "padding": null,
       "right": null,
       "top": null,
       "visibility": null,
       "width": null
      }
     },
     "a464f5e6908d467ba70abbbe9813aaf8": {
      "model_module": "@jupyter-widgets/controls",
      "model_module_version": "1.5.0",
      "model_name": "DescriptionStyleModel",
      "state": {
       "_model_module": "@jupyter-widgets/controls",
       "_model_module_version": "1.5.0",
       "_model_name": "DescriptionStyleModel",
       "_view_count": null,
       "_view_module": "@jupyter-widgets/base",
       "_view_module_version": "1.2.0",
       "_view_name": "StyleView",
       "description_width": ""
      }
     },
     "a69cc306277b48bebece4141a0aee0ec": {
      "model_module": "@jupyter-widgets/base",
      "model_module_version": "1.2.0",
      "model_name": "LayoutModel",
      "state": {
       "_model_module": "@jupyter-widgets/base",
       "_model_module_version": "1.2.0",
       "_model_name": "LayoutModel",
       "_view_count": null,
       "_view_module": "@jupyter-widgets/base",
       "_view_module_version": "1.2.0",
       "_view_name": "LayoutView",
       "align_content": null,
       "align_items": null,
       "align_self": null,
       "border": null,
       "bottom": null,
       "display": null,
       "flex": null,
       "flex_flow": null,
       "grid_area": null,
       "grid_auto_columns": null,
       "grid_auto_flow": null,
       "grid_auto_rows": null,
       "grid_column": null,
       "grid_gap": null,
       "grid_row": null,
       "grid_template_areas": null,
       "grid_template_columns": null,
       "grid_template_rows": null,
       "height": null,
       "justify_content": null,
       "justify_items": null,
       "left": null,
       "margin": null,
       "max_height": null,
       "max_width": null,
       "min_height": null,
       "min_width": null,
       "object_fit": null,
       "object_position": null,
       "order": null,
       "overflow": null,
       "overflow_x": null,
       "overflow_y": null,
       "padding": null,
       "right": null,
       "top": null,
       "visibility": null,
       "width": null
      }
     },
     "a6b5699e0e5842a69eb12d689bdb3651": {
      "model_module": "@jupyter-widgets/controls",
      "model_module_version": "1.5.0",
      "model_name": "HTMLModel",
      "state": {
       "_dom_classes": [],
       "_model_module": "@jupyter-widgets/controls",
       "_model_module_version": "1.5.0",
       "_model_name": "HTMLModel",
       "_view_count": null,
       "_view_module": "@jupyter-widgets/controls",
       "_view_module_version": "1.5.0",
       "_view_name": "HTMLView",
       "description": "",
       "description_tooltip": null,
       "layout": "IPY_MODEL_46c297f305394e549bc6eaaf7242410e",
       "placeholder": "​",
       "style": "IPY_MODEL_66fa6cc0d89b4c49a3d0cdcb19035656",
       "value": "Downloading (…)ce_transformers.json: 100%"
      }
     },
     "a73e52ec852a4842be73b35daf011547": {
      "model_module": "@jupyter-widgets/controls",
      "model_module_version": "1.5.0",
      "model_name": "HTMLModel",
      "state": {
       "_dom_classes": [],
       "_model_module": "@jupyter-widgets/controls",
       "_model_module_version": "1.5.0",
       "_model_name": "HTMLModel",
       "_view_count": null,
       "_view_module": "@jupyter-widgets/controls",
       "_view_module_version": "1.5.0",
       "_view_name": "HTMLView",
       "description": "",
       "description_tooltip": null,
       "layout": "IPY_MODEL_ed11ddd4f61e4931a44a38eeb018b06b",
       "placeholder": "​",
       "style": "IPY_MODEL_1a3f6c07c98146ec90427b6292690025",
       "value": " 662/662 [00:00&lt;00:00, 56.9kB/s]"
      }
     },
     "a83078ee9d0940f99a7719a7ef6777c7": {
      "model_module": "@jupyter-widgets/controls",
      "model_module_version": "1.5.0",
      "model_name": "HTMLModel",
      "state": {
       "_dom_classes": [],
       "_model_module": "@jupyter-widgets/controls",
       "_model_module_version": "1.5.0",
       "_model_name": "HTMLModel",
       "_view_count": null,
       "_view_module": "@jupyter-widgets/controls",
       "_view_module_version": "1.5.0",
       "_view_name": "HTMLView",
       "description": "",
       "description_tooltip": null,
       "layout": "IPY_MODEL_e357f398da0c4aad908e71c3acbe0c33",
       "placeholder": "​",
       "style": "IPY_MODEL_a1e432eaa1434a30866460d91aa2de97",
       "value": " 500k/500k [00:01&lt;00:00, 424kB/s]"
      }
     },
     "a888bd7a7a2f440eb15e3de8e3716e1d": {
      "model_module": "@jupyter-widgets/base",
      "model_module_version": "1.2.0",
      "model_name": "LayoutModel",
      "state": {
       "_model_module": "@jupyter-widgets/base",
       "_model_module_version": "1.2.0",
       "_model_name": "LayoutModel",
       "_view_count": null,
       "_view_module": "@jupyter-widgets/base",
       "_view_module_version": "1.2.0",
       "_view_name": "LayoutView",
       "align_content": null,
       "align_items": null,
       "align_self": null,
       "border": null,
       "bottom": null,
       "display": null,
       "flex": null,
       "flex_flow": null,
       "grid_area": null,
       "grid_auto_columns": null,
       "grid_auto_flow": null,
       "grid_auto_rows": null,
       "grid_column": null,
       "grid_gap": null,
       "grid_row": null,
       "grid_template_areas": null,
       "grid_template_columns": null,
       "grid_template_rows": null,
       "height": null,
       "justify_content": null,
       "justify_items": null,
       "left": null,
       "margin": null,
       "max_height": null,
       "max_width": null,
       "min_height": null,
       "min_width": null,
       "object_fit": null,
       "object_position": null,
       "order": null,
       "overflow": null,
       "overflow_x": null,
       "overflow_y": null,
       "padding": null,
       "right": null,
       "top": null,
       "visibility": null,
       "width": null
      }
     },
     "a922888562a0415c8eee977ce7ab836d": {
      "model_module": "@jupyter-widgets/controls",
      "model_module_version": "1.5.0",
      "model_name": "DescriptionStyleModel",
      "state": {
       "_model_module": "@jupyter-widgets/controls",
       "_model_module_version": "1.5.0",
       "_model_name": "DescriptionStyleModel",
       "_view_count": null,
       "_view_module": "@jupyter-widgets/base",
       "_view_module_version": "1.2.0",
       "_view_name": "StyleView",
       "description_width": ""
      }
     },
     "ab891a17ce0f47abbc6f0ce885a190b8": {
      "model_module": "@jupyter-widgets/controls",
      "model_module_version": "1.5.0",
      "model_name": "HTMLModel",
      "state": {
       "_dom_classes": [],
       "_model_module": "@jupyter-widgets/controls",
       "_model_module_version": "1.5.0",
       "_model_name": "HTMLModel",
       "_view_count": null,
       "_view_module": "@jupyter-widgets/controls",
       "_view_module_version": "1.5.0",
       "_view_name": "HTMLView",
       "description": "",
       "description_tooltip": null,
       "layout": "IPY_MODEL_8b15881d47c94ed187db4341eeef4056",
       "placeholder": "​",
       "style": "IPY_MODEL_a159ab8b6115495ba9d80af5c0583ec2",
       "value": " 17.1M/17.1M [00:13&lt;00:00, 1.45MB/s]"
      }
     },
     "abe9a84b1bf84d53b064499c809430ec": {
      "model_module": "@jupyter-widgets/base",
      "model_module_version": "1.2.0",
      "model_name": "LayoutModel",
      "state": {
       "_model_module": "@jupyter-widgets/base",
       "_model_module_version": "1.2.0",
       "_model_name": "LayoutModel",
       "_view_count": null,
       "_view_module": "@jupyter-widgets/base",
       "_view_module_version": "1.2.0",
       "_view_name": "LayoutView",
       "align_content": null,
       "align_items": null,
       "align_self": null,
       "border": null,
       "bottom": null,
       "display": null,
       "flex": null,
       "flex_flow": null,
       "grid_area": null,
       "grid_auto_columns": null,
       "grid_auto_flow": null,
       "grid_auto_rows": null,
       "grid_column": null,
       "grid_gap": null,
       "grid_row": null,
       "grid_template_areas": null,
       "grid_template_columns": null,
       "grid_template_rows": null,
       "height": null,
       "justify_content": null,
       "justify_items": null,
       "left": null,
       "margin": null,
       "max_height": null,
       "max_width": null,
       "min_height": null,
       "min_width": null,
       "object_fit": null,
       "object_position": null,
       "order": null,
       "overflow": null,
       "overflow_x": null,
       "overflow_y": null,
       "padding": null,
       "right": null,
       "top": null,
       "visibility": null,
       "width": null
      }
     },
     "ad7aff22d30c49dda3ad9a48a6d7117d": {
      "model_module": "@jupyter-widgets/controls",
      "model_module_version": "1.5.0",
      "model_name": "HTMLModel",
      "state": {
       "_dom_classes": [],
       "_model_module": "@jupyter-widgets/controls",
       "_model_module_version": "1.5.0",
       "_model_name": "HTMLModel",
       "_view_count": null,
       "_view_module": "@jupyter-widgets/controls",
       "_view_module_version": "1.5.0",
       "_view_name": "HTMLView",
       "description": "",
       "description_tooltip": null,
       "layout": "IPY_MODEL_0a70acf4552d4426851d0950571967fa",
       "placeholder": "​",
       "style": "IPY_MODEL_ce044a354b6a4bb6bcbb6e8456f50c51",
       "value": "Downloading (…)0f723897/config.json: 100%"
      }
     },
     "adf993ec26014a2083b09d3ffb044016": {
      "model_module": "@jupyter-widgets/controls",
      "model_module_version": "1.5.0",
      "model_name": "ProgressStyleModel",
      "state": {
       "_model_module": "@jupyter-widgets/controls",
       "_model_module_version": "1.5.0",
       "_model_name": "ProgressStyleModel",
       "_view_count": null,
       "_view_module": "@jupyter-widgets/base",
       "_view_module_version": "1.2.0",
       "_view_name": "StyleView",
       "bar_color": null,
       "description_width": ""
      }
     },
     "ae000ddebb244b0bb34ae2db6d7c6470": {
      "model_module": "@jupyter-widgets/base",
      "model_module_version": "1.2.0",
      "model_name": "LayoutModel",
      "state": {
       "_model_module": "@jupyter-widgets/base",
       "_model_module_version": "1.2.0",
       "_model_name": "LayoutModel",
       "_view_count": null,
       "_view_module": "@jupyter-widgets/base",
       "_view_module_version": "1.2.0",
       "_view_name": "LayoutView",
       "align_content": null,
       "align_items": null,
       "align_self": null,
       "border": null,
       "bottom": null,
       "display": null,
       "flex": null,
       "flex_flow": null,
       "grid_area": null,
       "grid_auto_columns": null,
       "grid_auto_flow": null,
       "grid_auto_rows": null,
       "grid_column": null,
       "grid_gap": null,
       "grid_row": null,
       "grid_template_areas": null,
       "grid_template_columns": null,
       "grid_template_rows": null,
       "height": null,
       "justify_content": null,
       "justify_items": null,
       "left": null,
       "margin": null,
       "max_height": null,
       "max_width": null,
       "min_height": null,
       "min_width": null,
       "object_fit": null,
       "object_position": null,
       "order": null,
       "overflow": null,
       "overflow_x": null,
       "overflow_y": null,
       "padding": null,
       "right": null,
       "top": null,
       "visibility": null,
       "width": null
      }
     },
     "af1b0c809f524c60a2042af76ee1d503": {
      "model_module": "@jupyter-widgets/base",
      "model_module_version": "1.2.0",
      "model_name": "LayoutModel",
      "state": {
       "_model_module": "@jupyter-widgets/base",
       "_model_module_version": "1.2.0",
       "_model_name": "LayoutModel",
       "_view_count": null,
       "_view_module": "@jupyter-widgets/base",
       "_view_module_version": "1.2.0",
       "_view_name": "LayoutView",
       "align_content": null,
       "align_items": null,
       "align_self": null,
       "border": null,
       "bottom": null,
       "display": null,
       "flex": null,
       "flex_flow": null,
       "grid_area": null,
       "grid_auto_columns": null,
       "grid_auto_flow": null,
       "grid_auto_rows": null,
       "grid_column": null,
       "grid_gap": null,
       "grid_row": null,
       "grid_template_areas": null,
       "grid_template_columns": null,
       "grid_template_rows": null,
       "height": null,
       "justify_content": null,
       "justify_items": null,
       "left": null,
       "margin": null,
       "max_height": null,
       "max_width": null,
       "min_height": null,
       "min_width": null,
       "object_fit": null,
       "object_position": null,
       "order": null,
       "overflow": null,
       "overflow_x": null,
       "overflow_y": null,
       "padding": null,
       "right": null,
       "top": null,
       "visibility": null,
       "width": null
      }
     },
     "b26634ab42714a3e99adb6c88930e578": {
      "model_module": "@jupyter-widgets/controls",
      "model_module_version": "1.5.0",
      "model_name": "FloatProgressModel",
      "state": {
       "_dom_classes": [],
       "_model_module": "@jupyter-widgets/controls",
       "_model_module_version": "1.5.0",
       "_model_name": "FloatProgressModel",
       "_view_count": null,
       "_view_module": "@jupyter-widgets/controls",
       "_view_module_version": "1.5.0",
       "_view_name": "ProgressView",
       "bar_style": "success",
       "description": "",
       "description_tooltip": null,
       "layout": "IPY_MODEL_c7d6a5dc009848e19e5a031ecef93f04",
       "max": 1582.0,
       "min": 0.0,
       "orientation": "horizontal",
       "style": "IPY_MODEL_7bab3e3e9e5d4a6096f7af3f728fe9ee",
       "value": 1582.0
      }
     },
     "b2dd6fba7a814a4b91ec174656d8eb5e": {
      "model_module": "@jupyter-widgets/base",
      "model_module_version": "1.2.0",
      "model_name": "LayoutModel",
      "state": {
       "_model_module": "@jupyter-widgets/base",
       "_model_module_version": "1.2.0",
       "_model_name": "LayoutModel",
       "_view_count": null,
       "_view_module": "@jupyter-widgets/base",
       "_view_module_version": "1.2.0",
       "_view_name": "LayoutView",
       "align_content": null,
       "align_items": null,
       "align_self": null,
       "border": null,
       "bottom": null,
       "display": null,
       "flex": null,
       "flex_flow": null,
       "grid_area": null,
       "grid_auto_columns": null,
       "grid_auto_flow": null,
       "grid_auto_rows": null,
       "grid_column": null,
       "grid_gap": null,
       "grid_row": null,
       "grid_template_areas": null,
       "grid_template_columns": null,
       "grid_template_rows": null,
       "height": null,
       "justify_content": null,
       "justify_items": null,
       "left": null,
       "margin": null,
       "max_height": null,
       "max_width": null,
       "min_height": null,
       "min_width": null,
       "object_fit": null,
       "object_position": null,
       "order": null,
       "overflow": null,
       "overflow_x": null,
       "overflow_y": null,
       "padding": null,
       "right": null,
       "top": null,
       "visibility": null,
       "width": null
      }
     },
     "b3cbdc6e102a45b9a20fb03a30b43be2": {
      "model_module": "@jupyter-widgets/controls",
      "model_module_version": "1.5.0",
      "model_name": "HBoxModel",
      "state": {
       "_dom_classes": [],
       "_model_module": "@jupyter-widgets/controls",
       "_model_module_version": "1.5.0",
       "_model_name": "HBoxModel",
       "_view_count": null,
       "_view_module": "@jupyter-widgets/controls",
       "_view_module_version": "1.5.0",
       "_view_name": "HBoxView",
       "box_style": "",
       "children": [
        "IPY_MODEL_0ee3a5e4ee0e4e58bfb597ef2a70ad47",
        "IPY_MODEL_cb3f4af16f8446c1baa11b4a2e491632",
        "IPY_MODEL_1ccccd511cdf47dfae7027ad63dc7c24"
       ],
       "layout": "IPY_MODEL_c0eb6035648d43178732cf607591d926"
      }
     },
     "b50ba8feef4e466f8ddb95253626dc84": {
      "model_module": "@jupyter-widgets/base",
      "model_module_version": "1.2.0",
      "model_name": "LayoutModel",
      "state": {
       "_model_module": "@jupyter-widgets/base",
       "_model_module_version": "1.2.0",
       "_model_name": "LayoutModel",
       "_view_count": null,
       "_view_module": "@jupyter-widgets/base",
       "_view_module_version": "1.2.0",
       "_view_name": "LayoutView",
       "align_content": null,
       "align_items": null,
       "align_self": null,
       "border": null,
       "bottom": null,
       "display": null,
       "flex": null,
       "flex_flow": null,
       "grid_area": null,
       "grid_auto_columns": null,
       "grid_auto_flow": null,
       "grid_auto_rows": null,
       "grid_column": null,
       "grid_gap": null,
       "grid_row": null,
       "grid_template_areas": null,
       "grid_template_columns": null,
       "grid_template_rows": null,
       "height": null,
       "justify_content": null,
       "justify_items": null,
       "left": null,
       "margin": null,
       "max_height": null,
       "max_width": null,
       "min_height": null,
       "min_width": null,
       "object_fit": null,
       "object_position": null,
       "order": null,
       "overflow": null,
       "overflow_x": null,
       "overflow_y": null,
       "padding": null,
       "right": null,
       "top": null,
       "visibility": null,
       "width": null
      }
     },
     "b6027d18519e462aa5e5ffd5e3d44ee1": {
      "model_module": "@jupyter-widgets/controls",
      "model_module_version": "1.5.0",
      "model_name": "DescriptionStyleModel",
      "state": {
       "_model_module": "@jupyter-widgets/controls",
       "_model_module_version": "1.5.0",
       "_model_name": "DescriptionStyleModel",
       "_view_count": null,
       "_view_module": "@jupyter-widgets/base",
       "_view_module_version": "1.2.0",
       "_view_name": "StyleView",
       "description_width": ""
      }
     },
     "b660d6540aaa490595652aa546bee34c": {
      "model_module": "@jupyter-widgets/controls",
      "model_module_version": "1.5.0",
      "model_name": "DescriptionStyleModel",
      "state": {
       "_model_module": "@jupyter-widgets/controls",
       "_model_module_version": "1.5.0",
       "_model_name": "DescriptionStyleModel",
       "_view_count": null,
       "_view_module": "@jupyter-widgets/base",
       "_view_module_version": "1.2.0",
       "_view_name": "StyleView",
       "description_width": ""
      }
     },
     "b779b5ee213a4129b47b03853a919cbc": {
      "model_module": "@jupyter-widgets/base",
      "model_module_version": "1.2.0",
      "model_name": "LayoutModel",
      "state": {
       "_model_module": "@jupyter-widgets/base",
       "_model_module_version": "1.2.0",
       "_model_name": "LayoutModel",
       "_view_count": null,
       "_view_module": "@jupyter-widgets/base",
       "_view_module_version": "1.2.0",
       "_view_name": "LayoutView",
       "align_content": null,
       "align_items": null,
       "align_self": null,
       "border": null,
       "bottom": null,
       "display": null,
       "flex": null,
       "flex_flow": null,
       "grid_area": null,
       "grid_auto_columns": null,
       "grid_auto_flow": null,
       "grid_auto_rows": null,
       "grid_column": null,
       "grid_gap": null,
       "grid_row": null,
       "grid_template_areas": null,
       "grid_template_columns": null,
       "grid_template_rows": null,
       "height": null,
       "justify_content": null,
       "justify_items": null,
       "left": null,
       "margin": null,
       "max_height": null,
       "max_width": null,
       "min_height": null,
       "min_width": null,
       "object_fit": null,
       "object_position": null,
       "order": null,
       "overflow": null,
       "overflow_x": null,
       "overflow_y": null,
       "padding": null,
       "right": null,
       "top": null,
       "visibility": null,
       "width": null
      }
     },
     "b7de135da0964e1a8753be1895dd3fd6": {
      "model_module": "@jupyter-widgets/base",
      "model_module_version": "1.2.0",
      "model_name": "LayoutModel",
      "state": {
       "_model_module": "@jupyter-widgets/base",
       "_model_module_version": "1.2.0",
       "_model_name": "LayoutModel",
       "_view_count": null,
       "_view_module": "@jupyter-widgets/base",
       "_view_module_version": "1.2.0",
       "_view_name": "LayoutView",
       "align_content": null,
       "align_items": null,
       "align_self": null,
       "border": null,
       "bottom": null,
       "display": null,
       "flex": null,
       "flex_flow": null,
       "grid_area": null,
       "grid_auto_columns": null,
       "grid_auto_flow": null,
       "grid_auto_rows": null,
       "grid_column": null,
       "grid_gap": null,
       "grid_row": null,
       "grid_template_areas": null,
       "grid_template_columns": null,
       "grid_template_rows": null,
       "height": null,
       "justify_content": null,
       "justify_items": null,
       "left": null,
       "margin": null,
       "max_height": null,
       "max_width": null,
       "min_height": null,
       "min_width": null,
       "object_fit": null,
       "object_position": null,
       "order": null,
       "overflow": null,
       "overflow_x": null,
       "overflow_y": null,
       "padding": null,
       "right": null,
       "top": null,
       "visibility": null,
       "width": null
      }
     },
     "b80d83c52c074fb08c1a39b02cbf4037": {
      "model_module": "@jupyter-widgets/controls",
      "model_module_version": "1.5.0",
      "model_name": "HBoxModel",
      "state": {
       "_dom_classes": [],
       "_model_module": "@jupyter-widgets/controls",
       "_model_module_version": "1.5.0",
       "_model_name": "HBoxModel",
       "_view_count": null,
       "_view_module": "@jupyter-widgets/controls",
       "_view_module_version": "1.5.0",
       "_view_name": "HBoxView",
       "box_style": "",
       "children": [
        "IPY_MODEL_c5b7ed9dbe6c4c7b9c9627ea27b9eabd",
        "IPY_MODEL_418b94bc0c094311894cb97e12dc60cb",
        "IPY_MODEL_611ed3be05b142ea81ae275112df438c"
       ],
       "layout": "IPY_MODEL_05f75d2ec53944b0ab175d078c78e229"
      }
     },
     "b8e08f0ca0f8490ba6c476dc1cf9dd38": {
      "model_module": "@jupyter-widgets/controls",
      "model_module_version": "1.5.0",
      "model_name": "DescriptionStyleModel",
      "state": {
       "_model_module": "@jupyter-widgets/controls",
       "_model_module_version": "1.5.0",
       "_model_name": "DescriptionStyleModel",
       "_view_count": null,
       "_view_module": "@jupyter-widgets/base",
       "_view_module_version": "1.2.0",
       "_view_name": "StyleView",
       "description_width": ""
      }
     },
     "ba2ad0f7d45046498cb1336e549a9812": {
      "model_module": "@jupyter-widgets/controls",
      "model_module_version": "1.5.0",
      "model_name": "HTMLModel",
      "state": {
       "_dom_classes": [],
       "_model_module": "@jupyter-widgets/controls",
       "_model_module_version": "1.5.0",
       "_model_name": "HTMLModel",
       "_view_count": null,
       "_view_module": "@jupyter-widgets/controls",
       "_view_module_version": "1.5.0",
       "_view_name": "HTMLView",
       "description": "",
       "description_tooltip": null,
       "layout": "IPY_MODEL_552b3118a80d49b1ba4743c03609a167",
       "placeholder": "​",
       "style": "IPY_MODEL_ed3b82ff944241b58c0af8a35641c463",
       "value": "Loading checkpoint shards: 100%"
      }
     },
     "baf10410ddbf433ab95fab20d622fc2c": {
      "model_module": "@jupyter-widgets/base",
      "model_module_version": "1.2.0",
      "model_name": "LayoutModel",
      "state": {
       "_model_module": "@jupyter-widgets/base",
       "_model_module_version": "1.2.0",
       "_model_name": "LayoutModel",
       "_view_count": null,
       "_view_module": "@jupyter-widgets/base",
       "_view_module_version": "1.2.0",
       "_view_name": "LayoutView",
       "align_content": null,
       "align_items": null,
       "align_self": null,
       "border": null,
       "bottom": null,
       "display": null,
       "flex": null,
       "flex_flow": null,
       "grid_area": null,
       "grid_auto_columns": null,
       "grid_auto_flow": null,
       "grid_auto_rows": null,
       "grid_column": null,
       "grid_gap": null,
       "grid_row": null,
       "grid_template_areas": null,
       "grid_template_columns": null,
       "grid_template_rows": null,
       "height": null,
       "justify_content": null,
       "justify_items": null,
       "left": null,
       "margin": null,
       "max_height": null,
       "max_width": null,
       "min_height": null,
       "min_width": null,
       "object_fit": null,
       "object_position": null,
       "order": null,
       "overflow": null,
       "overflow_x": null,
       "overflow_y": null,
       "padding": null,
       "right": null,
       "top": null,
       "visibility": null,
       "width": null
      }
     },
     "bcc06e3c28314b09a212d32714e55702": {
      "model_module": "@jupyter-widgets/base",
      "model_module_version": "1.2.0",
      "model_name": "LayoutModel",
      "state": {
       "_model_module": "@jupyter-widgets/base",
       "_model_module_version": "1.2.0",
       "_model_name": "LayoutModel",
       "_view_count": null,
       "_view_module": "@jupyter-widgets/base",
       "_view_module_version": "1.2.0",
       "_view_name": "LayoutView",
       "align_content": null,
       "align_items": null,
       "align_self": null,
       "border": null,
       "bottom": null,
       "display": null,
       "flex": null,
       "flex_flow": null,
       "grid_area": null,
       "grid_auto_columns": null,
       "grid_auto_flow": null,
       "grid_auto_rows": null,
       "grid_column": null,
       "grid_gap": null,
       "grid_row": null,
       "grid_template_areas": null,
       "grid_template_columns": null,
       "grid_template_rows": null,
       "height": null,
       "justify_content": null,
       "justify_items": null,
       "left": null,
       "margin": null,
       "max_height": null,
       "max_width": null,
       "min_height": null,
       "min_width": null,
       "object_fit": null,
       "object_position": null,
       "order": null,
       "overflow": null,
       "overflow_x": null,
       "overflow_y": null,
       "padding": null,
       "right": null,
       "top": null,
       "visibility": null,
       "width": null
      }
     },
     "c0ac256f663e4f979834884cca68ccb7": {
      "model_module": "@jupyter-widgets/base",
      "model_module_version": "1.2.0",
      "model_name": "LayoutModel",
      "state": {
       "_model_module": "@jupyter-widgets/base",
       "_model_module_version": "1.2.0",
       "_model_name": "LayoutModel",
       "_view_count": null,
       "_view_module": "@jupyter-widgets/base",
       "_view_module_version": "1.2.0",
       "_view_name": "LayoutView",
       "align_content": null,
       "align_items": null,
       "align_self": null,
       "border": null,
       "bottom": null,
       "display": null,
       "flex": null,
       "flex_flow": null,
       "grid_area": null,
       "grid_auto_columns": null,
       "grid_auto_flow": null,
       "grid_auto_rows": null,
       "grid_column": null,
       "grid_gap": null,
       "grid_row": null,
       "grid_template_areas": null,
       "grid_template_columns": null,
       "grid_template_rows": null,
       "height": null,
       "justify_content": null,
       "justify_items": null,
       "left": null,
       "margin": null,
       "max_height": null,
       "max_width": null,
       "min_height": null,
       "min_width": null,
       "object_fit": null,
       "object_position": null,
       "order": null,
       "overflow": null,
       "overflow_x": null,
       "overflow_y": null,
       "padding": null,
       "right": null,
       "top": null,
       "visibility": null,
       "width": null
      }
     },
     "c0b05639726f4210b3fff66b1ffb3b96": {
      "model_module": "@jupyter-widgets/controls",
      "model_module_version": "1.5.0",
      "model_name": "DescriptionStyleModel",
      "state": {
       "_model_module": "@jupyter-widgets/controls",
       "_model_module_version": "1.5.0",
       "_model_name": "DescriptionStyleModel",
       "_view_count": null,
       "_view_module": "@jupyter-widgets/base",
       "_view_module_version": "1.2.0",
       "_view_name": "StyleView",
       "description_width": ""
      }
     },
     "c0eb6035648d43178732cf607591d926": {
      "model_module": "@jupyter-widgets/base",
      "model_module_version": "1.2.0",
      "model_name": "LayoutModel",
      "state": {
       "_model_module": "@jupyter-widgets/base",
       "_model_module_version": "1.2.0",
       "_model_name": "LayoutModel",
       "_view_count": null,
       "_view_module": "@jupyter-widgets/base",
       "_view_module_version": "1.2.0",
       "_view_name": "LayoutView",
       "align_content": null,
       "align_items": null,
       "align_self": null,
       "border": null,
       "bottom": null,
       "display": null,
       "flex": null,
       "flex_flow": null,
       "grid_area": null,
       "grid_auto_columns": null,
       "grid_auto_flow": null,
       "grid_auto_rows": null,
       "grid_column": null,
       "grid_gap": null,
       "grid_row": null,
       "grid_template_areas": null,
       "grid_template_columns": null,
       "grid_template_rows": null,
       "height": null,
       "justify_content": null,
       "justify_items": null,
       "left": null,
       "margin": null,
       "max_height": null,
       "max_width": null,
       "min_height": null,
       "min_width": null,
       "object_fit": null,
       "object_position": null,
       "order": null,
       "overflow": null,
       "overflow_x": null,
       "overflow_y": null,
       "padding": null,
       "right": null,
       "top": null,
       "visibility": null,
       "width": null
      }
     },
     "c1cff6bbce764e51878a68636fb72c02": {
      "model_module": "@jupyter-widgets/controls",
      "model_module_version": "1.5.0",
      "model_name": "HTMLModel",
      "state": {
       "_dom_classes": [],
       "_model_module": "@jupyter-widgets/controls",
       "_model_module_version": "1.5.0",
       "_model_name": "HTMLModel",
       "_view_count": null,
       "_view_module": "@jupyter-widgets/controls",
       "_view_module_version": "1.5.0",
       "_view_name": "HTMLView",
       "description": "",
       "description_tooltip": null,
       "layout": "IPY_MODEL_0d54e3e0648e4f8bbac9187adb1f4e03",
       "placeholder": "​",
       "style": "IPY_MODEL_14ab37c8f6024bc092337f2dab3faeff",
       "value": " 53.0/53.0 [00:00&lt;00:00, 3.68kB/s]"
      }
     },
     "c26eef33d14b4043b106ee60ec2885a4": {
      "model_module": "@jupyter-widgets/controls",
      "model_module_version": "1.5.0",
      "model_name": "HTMLModel",
      "state": {
       "_dom_classes": [],
       "_model_module": "@jupyter-widgets/controls",
       "_model_module_version": "1.5.0",
       "_model_name": "HTMLModel",
       "_view_count": null,
       "_view_module": "@jupyter-widgets/controls",
       "_view_module_version": "1.5.0",
       "_view_name": "HTMLView",
       "description": "",
       "description_tooltip": null,
       "layout": "IPY_MODEL_5a20ca99ed054644a730ee788a64e7a5",
       "placeholder": "​",
       "style": "IPY_MODEL_9a1f7ab7bdfd49909f0eb462a4c9a5da",
       "value": "Downloading (…)cial_tokens_map.json: 100%"
      }
     },
     "c26ffb0caa734a82ac713b3efec16867": {
      "model_module": "@jupyter-widgets/controls",
      "model_module_version": "1.5.0",
      "model_name": "ProgressStyleModel",
      "state": {
       "_model_module": "@jupyter-widgets/controls",
       "_model_module_version": "1.5.0",
       "_model_name": "ProgressStyleModel",
       "_view_count": null,
       "_view_module": "@jupyter-widgets/base",
       "_view_module_version": "1.2.0",
       "_view_name": "StyleView",
       "bar_color": null,
       "description_width": ""
      }
     },
     "c30b00a7703c48efb1ade7266c49fb1c": {
      "model_module": "@jupyter-widgets/controls",
      "model_module_version": "1.5.0",
      "model_name": "HTMLModel",
      "state": {
       "_dom_classes": [],
       "_model_module": "@jupyter-widgets/controls",
       "_model_module_version": "1.5.0",
       "_model_name": "HTMLModel",
       "_view_count": null,
       "_view_module": "@jupyter-widgets/controls",
       "_view_module_version": "1.5.0",
       "_view_name": "HTMLView",
       "description": "",
       "description_tooltip": null,
       "layout": "IPY_MODEL_809228d851914e8e9e225b12ef4a4bf1",
       "placeholder": "​",
       "style": "IPY_MODEL_fa1868cac3ca4217a6a3e0f170a90c3c",
       "value": "Downloading (…)23897/.gitattributes: 100%"
      }
     },
     "c3c6190cef3f42b3a6332681b91cde76": {
      "model_module": "@jupyter-widgets/controls",
      "model_module_version": "1.5.0",
      "model_name": "FloatProgressModel",
      "state": {
       "_dom_classes": [],
       "_model_module": "@jupyter-widgets/controls",
       "_model_module_version": "1.5.0",
       "_model_name": "FloatProgressModel",
       "_view_count": null,
       "_view_module": "@jupyter-widgets/controls",
       "_view_module_version": "1.5.0",
       "_view_name": "ProgressView",
       "bar_style": "success",
       "description": "",
       "description_tooltip": null,
       "layout": "IPY_MODEL_26ed03ee3c81463f9a46f8473a3f7a2b",
       "max": 878.0,
       "min": 0.0,
       "orientation": "horizontal",
       "style": "IPY_MODEL_849c19cad49d4488a2cee8190ff6ab40",
       "value": 878.0
      }
     },
     "c478c14b262943c2bad5c2de62a40138": {
      "model_module": "@jupyter-widgets/controls",
      "model_module_version": "1.5.0",
      "model_name": "DescriptionStyleModel",
      "state": {
       "_model_module": "@jupyter-widgets/controls",
       "_model_module_version": "1.5.0",
       "_model_name": "DescriptionStyleModel",
       "_view_count": null,
       "_view_module": "@jupyter-widgets/base",
       "_view_module_version": "1.2.0",
       "_view_name": "StyleView",
       "description_width": ""
      }
     },
     "c5069f86935542bba63aef0332c76144": {
      "model_module": "@jupyter-widgets/controls",
      "model_module_version": "1.5.0",
      "model_name": "DescriptionStyleModel",
      "state": {
       "_model_module": "@jupyter-widgets/controls",
       "_model_module_version": "1.5.0",
       "_model_name": "DescriptionStyleModel",
       "_view_count": null,
       "_view_module": "@jupyter-widgets/base",
       "_view_module_version": "1.2.0",
       "_view_name": "StyleView",
       "description_width": ""
      }
     },
     "c5291f83637e4b3c9b94f2163e29aba2": {
      "model_module": "@jupyter-widgets/base",
      "model_module_version": "1.2.0",
      "model_name": "LayoutModel",
      "state": {
       "_model_module": "@jupyter-widgets/base",
       "_model_module_version": "1.2.0",
       "_model_name": "LayoutModel",
       "_view_count": null,
       "_view_module": "@jupyter-widgets/base",
       "_view_module_version": "1.2.0",
       "_view_name": "LayoutView",
       "align_content": null,
       "align_items": null,
       "align_self": null,
       "border": null,
       "bottom": null,
       "display": null,
       "flex": null,
       "flex_flow": null,
       "grid_area": null,
       "grid_auto_columns": null,
       "grid_auto_flow": null,
       "grid_auto_rows": null,
       "grid_column": null,
       "grid_gap": null,
       "grid_row": null,
       "grid_template_areas": null,
       "grid_template_columns": null,
       "grid_template_rows": null,
       "height": null,
       "justify_content": null,
       "justify_items": null,
       "left": null,
       "margin": null,
       "max_height": null,
       "max_width": null,
       "min_height": null,
       "min_width": null,
       "object_fit": null,
       "object_position": null,
       "order": null,
       "overflow": null,
       "overflow_x": null,
       "overflow_y": null,
       "padding": null,
       "right": null,
       "top": null,
       "visibility": null,
       "width": null
      }
     },
     "c55f88a8014d4983b47ea82018deb8d5": {
      "model_module": "@jupyter-widgets/controls",
      "model_module_version": "1.5.0",
      "model_name": "DescriptionStyleModel",
      "state": {
       "_model_module": "@jupyter-widgets/controls",
       "_model_module_version": "1.5.0",
       "_model_name": "DescriptionStyleModel",
       "_view_count": null,
       "_view_module": "@jupyter-widgets/base",
       "_view_module_version": "1.2.0",
       "_view_name": "StyleView",
       "description_width": ""
      }
     },
     "c5b7ed9dbe6c4c7b9c9627ea27b9eabd": {
      "model_module": "@jupyter-widgets/controls",
      "model_module_version": "1.5.0",
      "model_name": "HTMLModel",
      "state": {
       "_dom_classes": [],
       "_model_module": "@jupyter-widgets/controls",
       "_model_module_version": "1.5.0",
       "_model_name": "HTMLModel",
       "_view_count": null,
       "_view_module": "@jupyter-widgets/controls",
       "_view_module_version": "1.5.0",
       "_view_name": "HTMLView",
       "description": "",
       "description_tooltip": null,
       "layout": "IPY_MODEL_4fc7b9ed8de6491994733774fc522895",
       "placeholder": "​",
       "style": "IPY_MODEL_7560d2e77dae4d5fbcddda3b7162b768",
       "value": "Downloading (…)model.bin.index.json: 100%"
      }
     },
     "c74a11aed7be43c89f9a09c5903f9ab7": {
      "model_module": "@jupyter-widgets/controls",
      "model_module_version": "1.5.0",
      "model_name": "DescriptionStyleModel",
      "state": {
       "_model_module": "@jupyter-widgets/controls",
       "_model_module_version": "1.5.0",
       "_model_name": "DescriptionStyleModel",
       "_view_count": null,
       "_view_module": "@jupyter-widgets/base",
       "_view_module_version": "1.2.0",
       "_view_name": "StyleView",
       "description_width": ""
      }
     },
     "c7d6a5dc009848e19e5a031ecef93f04": {
      "model_module": "@jupyter-widgets/base",
      "model_module_version": "1.2.0",
      "model_name": "LayoutModel",
      "state": {
       "_model_module": "@jupyter-widgets/base",
       "_model_module_version": "1.2.0",
       "_model_name": "LayoutModel",
       "_view_count": null,
       "_view_module": "@jupyter-widgets/base",
       "_view_module_version": "1.2.0",
       "_view_name": "LayoutView",
       "align_content": null,
       "align_items": null,
       "align_self": null,
       "border": null,
       "bottom": null,
       "display": null,
       "flex": null,
       "flex_flow": null,
       "grid_area": null,
       "grid_auto_columns": null,
       "grid_auto_flow": null,
       "grid_auto_rows": null,
       "grid_column": null,
       "grid_gap": null,
       "grid_row": null,
       "grid_template_areas": null,
       "grid_template_columns": null,
       "grid_template_rows": null,
       "height": null,
       "justify_content": null,
       "justify_items": null,
       "left": null,
       "margin": null,
       "max_height": null,
       "max_width": null,
       "min_height": null,
       "min_width": null,
       "object_fit": null,
       "object_position": null,
       "order": null,
       "overflow": null,
       "overflow_x": null,
       "overflow_y": null,
       "padding": null,
       "right": null,
       "top": null,
       "visibility": null,
       "width": null
      }
     },
     "cb3f4af16f8446c1baa11b4a2e491632": {
      "model_module": "@jupyter-widgets/controls",
      "model_module_version": "1.5.0",
      "model_name": "FloatProgressModel",
      "state": {
       "_dom_classes": [],
       "_model_module": "@jupyter-widgets/controls",
       "_model_module_version": "1.5.0",
       "_model_name": "FloatProgressModel",
       "_view_count": null,
       "_view_module": "@jupyter-widgets/controls",
       "_view_module_version": "1.5.0",
       "_view_name": "ProgressView",
       "bar_style": "success",
       "description": "",
       "description_tooltip": null,
       "layout": "IPY_MODEL_15e8b098776445d48ddcf4683b4668c9",
       "max": 3025.0,
       "min": 0.0,
       "orientation": "horizontal",
       "style": "IPY_MODEL_0244bc52d001422fbf98777605545c57",
       "value": 3025.0
      }
     },
     "cc808f7090bb4398b5459c869465431b": {
      "model_module": "@jupyter-widgets/controls",
      "model_module_version": "1.5.0",
      "model_name": "ProgressStyleModel",
      "state": {
       "_model_module": "@jupyter-widgets/controls",
       "_model_module_version": "1.5.0",
       "_model_name": "ProgressStyleModel",
       "_view_count": null,
       "_view_module": "@jupyter-widgets/base",
       "_view_module_version": "1.2.0",
       "_view_name": "StyleView",
       "bar_color": null,
       "description_width": ""
      }
     },
     "cd65ce2efa694b9e8e4a5f46ef6b73df": {
      "model_module": "@jupyter-widgets/controls",
      "model_module_version": "1.5.0",
      "model_name": "HTMLModel",
      "state": {
       "_dom_classes": [],
       "_model_module": "@jupyter-widgets/controls",
       "_model_module_version": "1.5.0",
       "_model_name": "HTMLModel",
       "_view_count": null,
       "_view_module": "@jupyter-widgets/controls",
       "_view_module_version": "1.5.0",
       "_view_name": "HTMLView",
       "description": "",
       "description_tooltip": null,
       "layout": "IPY_MODEL_1310b1375f034654b30452c3ca9ef17d",
       "placeholder": "​",
       "style": "IPY_MODEL_1d1900b3a2ca4fe0a41256bd1ff5e97c",
       "value": "Downloading (…)_Pooling/config.json: 100%"
      }
     },
     "ce044a354b6a4bb6bcbb6e8456f50c51": {
      "model_module": "@jupyter-widgets/controls",
      "model_module_version": "1.5.0",
      "model_name": "DescriptionStyleModel",
      "state": {
       "_model_module": "@jupyter-widgets/controls",
       "_model_module_version": "1.5.0",
       "_model_name": "DescriptionStyleModel",
       "_view_count": null,
       "_view_module": "@jupyter-widgets/base",
       "_view_module_version": "1.2.0",
       "_view_name": "StyleView",
       "description_width": ""
      }
     },
     "cea77ac9d1e243828c2aa38c43d1cb29": {
      "model_module": "@jupyter-widgets/base",
      "model_module_version": "1.2.0",
      "model_name": "LayoutModel",
      "state": {
       "_model_module": "@jupyter-widgets/base",
       "_model_module_version": "1.2.0",
       "_model_name": "LayoutModel",
       "_view_count": null,
       "_view_module": "@jupyter-widgets/base",
       "_view_module_version": "1.2.0",
       "_view_name": "LayoutView",
       "align_content": null,
       "align_items": null,
       "align_self": null,
       "border": null,
       "bottom": null,
       "display": null,
       "flex": null,
       "flex_flow": null,
       "grid_area": null,
       "grid_auto_columns": null,
       "grid_auto_flow": null,
       "grid_auto_rows": null,
       "grid_column": null,
       "grid_gap": null,
       "grid_row": null,
       "grid_template_areas": null,
       "grid_template_columns": null,
       "grid_template_rows": null,
       "height": null,
       "justify_content": null,
       "justify_items": null,
       "left": null,
       "margin": null,
       "max_height": null,
       "max_width": null,
       "min_height": null,
       "min_width": null,
       "object_fit": null,
       "object_position": null,
       "order": null,
       "overflow": null,
       "overflow_x": null,
       "overflow_y": null,
       "padding": null,
       "right": null,
       "top": null,
       "visibility": null,
       "width": null
      }
     },
     "cefe58c5e5db4440adb689995cb40b9d": {
      "model_module": "@jupyter-widgets/base",
      "model_module_version": "1.2.0",
      "model_name": "LayoutModel",
      "state": {
       "_model_module": "@jupyter-widgets/base",
       "_model_module_version": "1.2.0",
       "_model_name": "LayoutModel",
       "_view_count": null,
       "_view_module": "@jupyter-widgets/base",
       "_view_module_version": "1.2.0",
       "_view_name": "LayoutView",
       "align_content": null,
       "align_items": null,
       "align_self": null,
       "border": null,
       "bottom": null,
       "display": null,
       "flex": null,
       "flex_flow": null,
       "grid_area": null,
       "grid_auto_columns": null,
       "grid_auto_flow": null,
       "grid_auto_rows": null,
       "grid_column": null,
       "grid_gap": null,
       "grid_row": null,
       "grid_template_areas": null,
       "grid_template_columns": null,
       "grid_template_rows": null,
       "height": null,
       "justify_content": null,
       "justify_items": null,
       "left": null,
       "margin": null,
       "max_height": null,
       "max_width": null,
       "min_height": null,
       "min_width": null,
       "object_fit": null,
       "object_position": null,
       "order": null,
       "overflow": null,
       "overflow_x": null,
       "overflow_y": null,
       "padding": null,
       "right": null,
       "top": null,
       "visibility": null,
       "width": null
      }
     },
     "cf41fcfc45cf48fab8e0206bf66138ce": {
      "model_module": "@jupyter-widgets/base",
      "model_module_version": "1.2.0",
      "model_name": "LayoutModel",
      "state": {
       "_model_module": "@jupyter-widgets/base",
       "_model_module_version": "1.2.0",
       "_model_name": "LayoutModel",
       "_view_count": null,
       "_view_module": "@jupyter-widgets/base",
       "_view_module_version": "1.2.0",
       "_view_name": "LayoutView",
       "align_content": null,
       "align_items": null,
       "align_self": null,
       "border": null,
       "bottom": null,
       "display": null,
       "flex": null,
       "flex_flow": null,
       "grid_area": null,
       "grid_auto_columns": null,
       "grid_auto_flow": null,
       "grid_auto_rows": null,
       "grid_column": null,
       "grid_gap": null,
       "grid_row": null,
       "grid_template_areas": null,
       "grid_template_columns": null,
       "grid_template_rows": null,
       "height": null,
       "justify_content": null,
       "justify_items": null,
       "left": null,
       "margin": null,
       "max_height": null,
       "max_width": null,
       "min_height": null,
       "min_width": null,
       "object_fit": null,
       "object_position": null,
       "order": null,
       "overflow": null,
       "overflow_x": null,
       "overflow_y": null,
       "padding": null,
       "right": null,
       "top": null,
       "visibility": null,
       "width": null
      }
     },
     "d039ee7a7cca4b63958c1a95078de92c": {
      "model_module": "@jupyter-widgets/controls",
      "model_module_version": "1.5.0",
      "model_name": "HTMLModel",
      "state": {
       "_dom_classes": [],
       "_model_module": "@jupyter-widgets/controls",
       "_model_module_version": "1.5.0",
       "_model_name": "HTMLModel",
       "_view_count": null,
       "_view_module": "@jupyter-widgets/controls",
       "_view_module_version": "1.5.0",
       "_view_name": "HTMLView",
       "description": "",
       "description_tooltip": null,
       "layout": "IPY_MODEL_6c4ef67fdfde4ee99615e5add8f4d34b",
       "placeholder": "​",
       "style": "IPY_MODEL_ee7be04d24304e9e8b622ff4c8c57a28",
       "value": " 123/123 [00:00&lt;00:00, 9.48kB/s]"
      }
     },
     "d2927f31fcd445d0a53f0150a0c51971": {
      "model_module": "@jupyter-widgets/controls",
      "model_module_version": "1.5.0",
      "model_name": "HTMLModel",
      "state": {
       "_dom_classes": [],
       "_model_module": "@jupyter-widgets/controls",
       "_model_module_version": "1.5.0",
       "_model_name": "HTMLModel",
       "_view_count": null,
       "_view_module": "@jupyter-widgets/controls",
       "_view_module_version": "1.5.0",
       "_view_name": "HTMLView",
       "description": "",
       "description_tooltip": null,
       "layout": "IPY_MODEL_6384c8ffa0a14937b9ff9afa045b1595",
       "placeholder": "​",
       "style": "IPY_MODEL_f5133c0e971f44a18faa363e4df2866d",
       "value": " 428M/428M [00:26&lt;00:00, 17.6MB/s]"
      }
     },
     "d2c8ec61b8434d8a8e96afe9c8df8e29": {
      "model_module": "@jupyter-widgets/base",
      "model_module_version": "1.2.0",
      "model_name": "LayoutModel",
      "state": {
       "_model_module": "@jupyter-widgets/base",
       "_model_module_version": "1.2.0",
       "_model_name": "LayoutModel",
       "_view_count": null,
       "_view_module": "@jupyter-widgets/base",
       "_view_module_version": "1.2.0",
       "_view_name": "LayoutView",
       "align_content": null,
       "align_items": null,
       "align_self": null,
       "border": null,
       "bottom": null,
       "display": null,
       "flex": null,
       "flex_flow": null,
       "grid_area": null,
       "grid_auto_columns": null,
       "grid_auto_flow": null,
       "grid_auto_rows": null,
       "grid_column": null,
       "grid_gap": null,
       "grid_row": null,
       "grid_template_areas": null,
       "grid_template_columns": null,
       "grid_template_rows": null,
       "height": null,
       "justify_content": null,
       "justify_items": null,
       "left": null,
       "margin": null,
       "max_height": null,
       "max_width": null,
       "min_height": null,
       "min_width": null,
       "object_fit": null,
       "object_position": null,
       "order": null,
       "overflow": null,
       "overflow_x": null,
       "overflow_y": null,
       "padding": null,
       "right": null,
       "top": null,
       "visibility": null,
       "width": null
      }
     },
     "d3c2d2d7f3ec48f781eadd1f88275409": {
      "model_module": "@jupyter-widgets/base",
      "model_module_version": "1.2.0",
      "model_name": "LayoutModel",
      "state": {
       "_model_module": "@jupyter-widgets/base",
       "_model_module_version": "1.2.0",
       "_model_name": "LayoutModel",
       "_view_count": null,
       "_view_module": "@jupyter-widgets/base",
       "_view_module_version": "1.2.0",
       "_view_name": "LayoutView",
       "align_content": null,
       "align_items": null,
       "align_self": null,
       "border": null,
       "bottom": null,
       "display": null,
       "flex": null,
       "flex_flow": null,
       "grid_area": null,
       "grid_auto_columns": null,
       "grid_auto_flow": null,
       "grid_auto_rows": null,
       "grid_column": null,
       "grid_gap": null,
       "grid_row": null,
       "grid_template_areas": null,
       "grid_template_columns": null,
       "grid_template_rows": null,
       "height": null,
       "justify_content": null,
       "justify_items": null,
       "left": null,
       "margin": null,
       "max_height": null,
       "max_width": null,
       "min_height": null,
       "min_width": null,
       "object_fit": null,
       "object_position": null,
       "order": null,
       "overflow": null,
       "overflow_x": null,
       "overflow_y": null,
       "padding": null,
       "right": null,
       "top": null,
       "visibility": null,
       "width": null
      }
     },
     "d44b8d6c99f849689aa7a08266a99a92": {
      "model_module": "@jupyter-widgets/controls",
      "model_module_version": "1.5.0",
      "model_name": "ProgressStyleModel",
      "state": {
       "_model_module": "@jupyter-widgets/controls",
       "_model_module_version": "1.5.0",
       "_model_name": "ProgressStyleModel",
       "_view_count": null,
       "_view_module": "@jupyter-widgets/base",
       "_view_module_version": "1.2.0",
       "_view_name": "StyleView",
       "bar_color": null,
       "description_width": ""
      }
     },
     "d6cfa9b9a5484ffc9b1e6326d1e596e3": {
      "model_module": "@jupyter-widgets/controls",
      "model_module_version": "1.5.0",
      "model_name": "HBoxModel",
      "state": {
       "_dom_classes": [],
       "_model_module": "@jupyter-widgets/controls",
       "_model_module_version": "1.5.0",
       "_model_name": "HBoxModel",
       "_view_count": null,
       "_view_module": "@jupyter-widgets/controls",
       "_view_module_version": "1.5.0",
       "_view_name": "HBoxView",
       "box_style": "",
       "children": [
        "IPY_MODEL_c26eef33d14b4043b106ee60ec2885a4",
        "IPY_MODEL_7eb2f133373249339f85d5f9a2378c4a",
        "IPY_MODEL_52fc8e786aa94e8bbd538720d35d6548"
       ],
       "layout": "IPY_MODEL_a888bd7a7a2f440eb15e3de8e3716e1d"
      }
     },
     "d77dfc8f2bf345efbb25654a3dc02469": {
      "model_module": "@jupyter-widgets/controls",
      "model_module_version": "1.5.0",
      "model_name": "HTMLModel",
      "state": {
       "_dom_classes": [],
       "_model_module": "@jupyter-widgets/controls",
       "_model_module_version": "1.5.0",
       "_model_name": "HTMLModel",
       "_view_count": null,
       "_view_module": "@jupyter-widgets/controls",
       "_view_module_version": "1.5.0",
       "_view_name": "HTMLView",
       "description": "",
       "description_tooltip": null,
       "layout": "IPY_MODEL_fdb0292a448f4803a6c3f25f942dbdb7",
       "placeholder": "​",
       "style": "IPY_MODEL_c74a11aed7be43c89f9a09c5903f9ab7",
       "value": "Downloading (…)cial_tokens_map.json: 100%"
      }
     },
     "d7e6c93d08a1475bb06d97ca570f7255": {
      "model_module": "@jupyter-widgets/base",
      "model_module_version": "1.2.0",
      "model_name": "LayoutModel",
      "state": {
       "_model_module": "@jupyter-widgets/base",
       "_model_module_version": "1.2.0",
       "_model_name": "LayoutModel",
       "_view_count": null,
       "_view_module": "@jupyter-widgets/base",
       "_view_module_version": "1.2.0",
       "_view_name": "LayoutView",
       "align_content": null,
       "align_items": null,
       "align_self": null,
       "border": null,
       "bottom": null,
       "display": null,
       "flex": null,
       "flex_flow": null,
       "grid_area": null,
       "grid_auto_columns": null,
       "grid_auto_flow": null,
       "grid_auto_rows": null,
       "grid_column": null,
       "grid_gap": null,
       "grid_row": null,
       "grid_template_areas": null,
       "grid_template_columns": null,
       "grid_template_rows": null,
       "height": null,
       "justify_content": null,
       "justify_items": null,
       "left": null,
       "margin": null,
       "max_height": null,
       "max_width": null,
       "min_height": null,
       "min_width": null,
       "object_fit": null,
       "object_position": null,
       "order": null,
       "overflow": null,
       "overflow_x": null,
       "overflow_y": null,
       "padding": null,
       "right": null,
       "top": null,
       "visibility": null,
       "width": null
      }
     },
     "da1d394cedbc4c3099653b40da3473bb": {
      "model_module": "@jupyter-widgets/base",
      "model_module_version": "1.2.0",
      "model_name": "LayoutModel",
      "state": {
       "_model_module": "@jupyter-widgets/base",
       "_model_module_version": "1.2.0",
       "_model_name": "LayoutModel",
       "_view_count": null,
       "_view_module": "@jupyter-widgets/base",
       "_view_module_version": "1.2.0",
       "_view_name": "LayoutView",
       "align_content": null,
       "align_items": null,
       "align_self": null,
       "border": null,
       "bottom": null,
       "display": null,
       "flex": null,
       "flex_flow": null,
       "grid_area": null,
       "grid_auto_columns": null,
       "grid_auto_flow": null,
       "grid_auto_rows": null,
       "grid_column": null,
       "grid_gap": null,
       "grid_row": null,
       "grid_template_areas": null,
       "grid_template_columns": null,
       "grid_template_rows": null,
       "height": null,
       "justify_content": null,
       "justify_items": null,
       "left": null,
       "margin": null,
       "max_height": null,
       "max_width": null,
       "min_height": null,
       "min_width": null,
       "object_fit": null,
       "object_position": null,
       "order": null,
       "overflow": null,
       "overflow_x": null,
       "overflow_y": null,
       "padding": null,
       "right": null,
       "top": null,
       "visibility": null,
       "width": null
      }
     },
     "dacf492446954199803efec6fbcaa2fb": {
      "model_module": "@jupyter-widgets/controls",
      "model_module_version": "1.5.0",
      "model_name": "HTMLModel",
      "state": {
       "_dom_classes": [],
       "_model_module": "@jupyter-widgets/controls",
       "_model_module_version": "1.5.0",
       "_model_name": "HTMLModel",
       "_view_count": null,
       "_view_module": "@jupyter-widgets/controls",
       "_view_module_version": "1.5.0",
       "_view_name": "HTMLView",
       "description": "",
       "description_tooltip": null,
       "layout": "IPY_MODEL_1e593ed21d154604ae32ac3dda8a936a",
       "placeholder": "​",
       "style": "IPY_MODEL_c5069f86935542bba63aef0332c76144",
       "value": " 1.58k/1.58k [00:00&lt;00:00, 135kB/s]"
      }
     },
     "db4695e9f233463cb6061c1b84790221": {
      "model_module": "@jupyter-widgets/controls",
      "model_module_version": "1.5.0",
      "model_name": "ProgressStyleModel",
      "state": {
       "_model_module": "@jupyter-widgets/controls",
       "_model_module_version": "1.5.0",
       "_model_name": "ProgressStyleModel",
       "_view_count": null,
       "_view_module": "@jupyter-widgets/base",
       "_view_module_version": "1.2.0",
       "_view_name": "StyleView",
       "bar_color": null,
       "description_width": ""
      }
     },
     "dbb86f7afa5d423dbe34ad303582df8b": {
      "model_module": "@jupyter-widgets/controls",
      "model_module_version": "1.5.0",
      "model_name": "HTMLModel",
      "state": {
       "_dom_classes": [],
       "_model_module": "@jupyter-widgets/controls",
       "_model_module_version": "1.5.0",
       "_model_name": "HTMLModel",
       "_view_count": null,
       "_view_module": "@jupyter-widgets/controls",
       "_view_module_version": "1.5.0",
       "_view_name": "HTMLView",
       "description": "",
       "description_tooltip": null,
       "layout": "IPY_MODEL_a369bf6b130e4a2a9cc775b12015846f",
       "placeholder": "​",
       "style": "IPY_MODEL_88fa7e748dec42379d26b6f0e85a153e",
       "value": " 4/4 [14:51&lt;00:00, 203.61s/it]"
      }
     },
     "dd93faa333a84671be6529e61a92f58b": {
      "model_module": "@jupyter-widgets/base",
      "model_module_version": "1.2.0",
      "model_name": "LayoutModel",
      "state": {
       "_model_module": "@jupyter-widgets/base",
       "_model_module_version": "1.2.0",
       "_model_name": "LayoutModel",
       "_view_count": null,
       "_view_module": "@jupyter-widgets/base",
       "_view_module_version": "1.2.0",
       "_view_name": "LayoutView",
       "align_content": null,
       "align_items": null,
       "align_self": null,
       "border": null,
       "bottom": null,
       "display": null,
       "flex": null,
       "flex_flow": null,
       "grid_area": null,
       "grid_auto_columns": null,
       "grid_auto_flow": null,
       "grid_auto_rows": null,
       "grid_column": null,
       "grid_gap": null,
       "grid_row": null,
       "grid_template_areas": null,
       "grid_template_columns": null,
       "grid_template_rows": null,
       "height": null,
       "justify_content": null,
       "justify_items": null,
       "left": null,
       "margin": null,
       "max_height": null,
       "max_width": null,
       "min_height": null,
       "min_width": null,
       "object_fit": null,
       "object_position": null,
       "order": null,
       "overflow": null,
       "overflow_x": null,
       "overflow_y": null,
       "padding": null,
       "right": null,
       "top": null,
       "visibility": null,
       "width": null
      }
     },
     "df732b7ab0d4461f8ea500dcc77c67f3": {
      "model_module": "@jupyter-widgets/base",
      "model_module_version": "1.2.0",
      "model_name": "LayoutModel",
      "state": {
       "_model_module": "@jupyter-widgets/base",
       "_model_module_version": "1.2.0",
       "_model_name": "LayoutModel",
       "_view_count": null,
       "_view_module": "@jupyter-widgets/base",
       "_view_module_version": "1.2.0",
       "_view_name": "LayoutView",
       "align_content": null,
       "align_items": null,
       "align_self": null,
       "border": null,
       "bottom": null,
       "display": null,
       "flex": null,
       "flex_flow": null,
       "grid_area": null,
       "grid_auto_columns": null,
       "grid_auto_flow": null,
       "grid_auto_rows": null,
       "grid_column": null,
       "grid_gap": null,
       "grid_row": null,
       "grid_template_areas": null,
       "grid_template_columns": null,
       "grid_template_rows": null,
       "height": null,
       "justify_content": null,
       "justify_items": null,
       "left": null,
       "margin": null,
       "max_height": null,
       "max_width": null,
       "min_height": null,
       "min_width": null,
       "object_fit": null,
       "object_position": null,
       "order": null,
       "overflow": null,
       "overflow_x": null,
       "overflow_y": null,
       "padding": null,
       "right": null,
       "top": null,
       "visibility": null,
       "width": null
      }
     },
     "e00e823af608444686ba4b4136f01424": {
      "model_module": "@jupyter-widgets/base",
      "model_module_version": "1.2.0",
      "model_name": "LayoutModel",
      "state": {
       "_model_module": "@jupyter-widgets/base",
       "_model_module_version": "1.2.0",
       "_model_name": "LayoutModel",
       "_view_count": null,
       "_view_module": "@jupyter-widgets/base",
       "_view_module_version": "1.2.0",
       "_view_name": "LayoutView",
       "align_content": null,
       "align_items": null,
       "align_self": null,
       "border": null,
       "bottom": null,
       "display": null,
       "flex": null,
       "flex_flow": null,
       "grid_area": null,
       "grid_auto_columns": null,
       "grid_auto_flow": null,
       "grid_auto_rows": null,
       "grid_column": null,
       "grid_gap": null,
       "grid_row": null,
       "grid_template_areas": null,
       "grid_template_columns": null,
       "grid_template_rows": null,
       "height": null,
       "justify_content": null,
       "justify_items": null,
       "left": null,
       "margin": null,
       "max_height": null,
       "max_width": null,
       "min_height": null,
       "min_width": null,
       "object_fit": null,
       "object_position": null,
       "order": null,
       "overflow": null,
       "overflow_x": null,
       "overflow_y": null,
       "padding": null,
       "right": null,
       "top": null,
       "visibility": null,
       "width": null
      }
     },
     "e2303422d72641ea9c5643ce33192a2c": {
      "model_module": "@jupyter-widgets/base",
      "model_module_version": "1.2.0",
      "model_name": "LayoutModel",
      "state": {
       "_model_module": "@jupyter-widgets/base",
       "_model_module_version": "1.2.0",
       "_model_name": "LayoutModel",
       "_view_count": null,
       "_view_module": "@jupyter-widgets/base",
       "_view_module_version": "1.2.0",
       "_view_name": "LayoutView",
       "align_content": null,
       "align_items": null,
       "align_self": null,
       "border": null,
       "bottom": null,
       "display": null,
       "flex": null,
       "flex_flow": null,
       "grid_area": null,
       "grid_auto_columns": null,
       "grid_auto_flow": null,
       "grid_auto_rows": null,
       "grid_column": null,
       "grid_gap": null,
       "grid_row": null,
       "grid_template_areas": null,
       "grid_template_columns": null,
       "grid_template_rows": null,
       "height": null,
       "justify_content": null,
       "justify_items": null,
       "left": null,
       "margin": null,
       "max_height": null,
       "max_width": null,
       "min_height": null,
       "min_width": null,
       "object_fit": null,
       "object_position": null,
       "order": null,
       "overflow": null,
       "overflow_x": null,
       "overflow_y": null,
       "padding": null,
       "right": null,
       "top": null,
       "visibility": null,
       "width": null
      }
     },
     "e2b88a407eab49bf94e2388d9fa8dd7a": {
      "model_module": "@jupyter-widgets/base",
      "model_module_version": "1.2.0",
      "model_name": "LayoutModel",
      "state": {
       "_model_module": "@jupyter-widgets/base",
       "_model_module_version": "1.2.0",
       "_model_name": "LayoutModel",
       "_view_count": null,
       "_view_module": "@jupyter-widgets/base",
       "_view_module_version": "1.2.0",
       "_view_name": "LayoutView",
       "align_content": null,
       "align_items": null,
       "align_self": null,
       "border": null,
       "bottom": null,
       "display": null,
       "flex": null,
       "flex_flow": null,
       "grid_area": null,
       "grid_auto_columns": null,
       "grid_auto_flow": null,
       "grid_auto_rows": null,
       "grid_column": null,
       "grid_gap": null,
       "grid_row": null,
       "grid_template_areas": null,
       "grid_template_columns": null,
       "grid_template_rows": null,
       "height": null,
       "justify_content": null,
       "justify_items": null,
       "left": null,
       "margin": null,
       "max_height": null,
       "max_width": null,
       "min_height": null,
       "min_width": null,
       "object_fit": null,
       "object_position": null,
       "order": null,
       "overflow": null,
       "overflow_x": null,
       "overflow_y": null,
       "padding": null,
       "right": null,
       "top": null,
       "visibility": null,
       "width": null
      }
     },
     "e345580f7de340a192f8b065ab3f0818": {
      "model_module": "@jupyter-widgets/base",
      "model_module_version": "1.2.0",
      "model_name": "LayoutModel",
      "state": {
       "_model_module": "@jupyter-widgets/base",
       "_model_module_version": "1.2.0",
       "_model_name": "LayoutModel",
       "_view_count": null,
       "_view_module": "@jupyter-widgets/base",
       "_view_module_version": "1.2.0",
       "_view_name": "LayoutView",
       "align_content": null,
       "align_items": null,
       "align_self": null,
       "border": null,
       "bottom": null,
       "display": null,
       "flex": null,
       "flex_flow": null,
       "grid_area": null,
       "grid_auto_columns": null,
       "grid_auto_flow": null,
       "grid_auto_rows": null,
       "grid_column": null,
       "grid_gap": null,
       "grid_row": null,
       "grid_template_areas": null,
       "grid_template_columns": null,
       "grid_template_rows": null,
       "height": null,
       "justify_content": null,
       "justify_items": null,
       "left": null,
       "margin": null,
       "max_height": null,
       "max_width": null,
       "min_height": null,
       "min_width": null,
       "object_fit": null,
       "object_position": null,
       "order": null,
       "overflow": null,
       "overflow_x": null,
       "overflow_y": null,
       "padding": null,
       "right": null,
       "top": null,
       "visibility": null,
       "width": null
      }
     },
     "e357f398da0c4aad908e71c3acbe0c33": {
      "model_module": "@jupyter-widgets/base",
      "model_module_version": "1.2.0",
      "model_name": "LayoutModel",
      "state": {
       "_model_module": "@jupyter-widgets/base",
       "_model_module_version": "1.2.0",
       "_model_name": "LayoutModel",
       "_view_count": null,
       "_view_module": "@jupyter-widgets/base",
       "_view_module_version": "1.2.0",
       "_view_name": "LayoutView",
       "align_content": null,
       "align_items": null,
       "align_self": null,
       "border": null,
       "bottom": null,
       "display": null,
       "flex": null,
       "flex_flow": null,
       "grid_area": null,
       "grid_auto_columns": null,
       "grid_auto_flow": null,
       "grid_auto_rows": null,
       "grid_column": null,
       "grid_gap": null,
       "grid_row": null,
       "grid_template_areas": null,
       "grid_template_columns": null,
       "grid_template_rows": null,
       "height": null,
       "justify_content": null,
       "justify_items": null,
       "left": null,
       "margin": null,
       "max_height": null,
       "max_width": null,
       "min_height": null,
       "min_width": null,
       "object_fit": null,
       "object_position": null,
       "order": null,
       "overflow": null,
       "overflow_x": null,
       "overflow_y": null,
       "padding": null,
       "right": null,
       "top": null,
       "visibility": null,
       "width": null
      }
     },
     "e37d5d128ca14a2e827424c87cc44cc3": {
      "model_module": "@jupyter-widgets/controls",
      "model_module_version": "1.5.0",
      "model_name": "HBoxModel",
      "state": {
       "_dom_classes": [],
       "_model_module": "@jupyter-widgets/controls",
       "_model_module_version": "1.5.0",
       "_model_name": "HBoxModel",
       "_view_count": null,
       "_view_module": "@jupyter-widgets/controls",
       "_view_module_version": "1.5.0",
       "_view_name": "HBoxView",
       "box_style": "",
       "children": [
        "IPY_MODEL_c30b00a7703c48efb1ade7266c49fb1c",
        "IPY_MODEL_b26634ab42714a3e99adb6c88930e578",
        "IPY_MODEL_dacf492446954199803efec6fbcaa2fb"
       ],
       "layout": "IPY_MODEL_1ef5860338ef4421a9c61c7cedfd28f8"
      }
     },
     "e37e94087c334e13a9759b36d5e48c73": {
      "model_module": "@jupyter-widgets/base",
      "model_module_version": "1.2.0",
      "model_name": "LayoutModel",
      "state": {
       "_model_module": "@jupyter-widgets/base",
       "_model_module_version": "1.2.0",
       "_model_name": "LayoutModel",
       "_view_count": null,
       "_view_module": "@jupyter-widgets/base",
       "_view_module_version": "1.2.0",
       "_view_name": "LayoutView",
       "align_content": null,
       "align_items": null,
       "align_self": null,
       "border": null,
       "bottom": null,
       "display": null,
       "flex": null,
       "flex_flow": null,
       "grid_area": null,
       "grid_auto_columns": null,
       "grid_auto_flow": null,
       "grid_auto_rows": null,
       "grid_column": null,
       "grid_gap": null,
       "grid_row": null,
       "grid_template_areas": null,
       "grid_template_columns": null,
       "grid_template_rows": null,
       "height": null,
       "justify_content": null,
       "justify_items": null,
       "left": null,
       "margin": null,
       "max_height": null,
       "max_width": null,
       "min_height": null,
       "min_width": null,
       "object_fit": null,
       "object_position": null,
       "order": null,
       "overflow": null,
       "overflow_x": null,
       "overflow_y": null,
       "padding": null,
       "right": null,
       "top": null,
       "visibility": null,
       "width": null
      }
     },
     "e3b4460f7794450c8f621dd9bdfbec40": {
      "model_module": "@jupyter-widgets/controls",
      "model_module_version": "1.5.0",
      "model_name": "HBoxModel",
      "state": {
       "_dom_classes": [],
       "_model_module": "@jupyter-widgets/controls",
       "_model_module_version": "1.5.0",
       "_model_name": "HBoxModel",
       "_view_count": null,
       "_view_module": "@jupyter-widgets/controls",
       "_view_module_version": "1.5.0",
       "_view_name": "HBoxView",
       "box_style": "",
       "children": [
        "IPY_MODEL_3363744d0ac440999d7ede3801502151",
        "IPY_MODEL_f4ef8e867b5b4226aced4728c70fde0c",
        "IPY_MODEL_9da2214eec494b8aa70bf4bf4f3930f3"
       ],
       "layout": "IPY_MODEL_356778a7dcfd40709e09be2a932611c6"
      }
     },
     "e4416def628c46ef865b504c05c885f8": {
      "model_module": "@jupyter-widgets/base",
      "model_module_version": "1.2.0",
      "model_name": "LayoutModel",
      "state": {
       "_model_module": "@jupyter-widgets/base",
       "_model_module_version": "1.2.0",
       "_model_name": "LayoutModel",
       "_view_count": null,
       "_view_module": "@jupyter-widgets/base",
       "_view_module_version": "1.2.0",
       "_view_name": "LayoutView",
       "align_content": null,
       "align_items": null,
       "align_self": null,
       "border": null,
       "bottom": null,
       "display": null,
       "flex": null,
       "flex_flow": null,
       "grid_area": null,
       "grid_auto_columns": null,
       "grid_auto_flow": null,
       "grid_auto_rows": null,
       "grid_column": null,
       "grid_gap": null,
       "grid_row": null,
       "grid_template_areas": null,
       "grid_template_columns": null,
       "grid_template_rows": null,
       "height": null,
       "justify_content": null,
       "justify_items": null,
       "left": null,
       "margin": null,
       "max_height": null,
       "max_width": null,
       "min_height": null,
       "min_width": null,
       "object_fit": null,
       "object_position": null,
       "order": null,
       "overflow": null,
       "overflow_x": null,
       "overflow_y": null,
       "padding": null,
       "right": null,
       "top": null,
       "visibility": null,
       "width": null
      }
     },
     "e4a61ec6533f45439dfde6f59c8d31f5": {
      "model_module": "@jupyter-widgets/base",
      "model_module_version": "1.2.0",
      "model_name": "LayoutModel",
      "state": {
       "_model_module": "@jupyter-widgets/base",
       "_model_module_version": "1.2.0",
       "_model_name": "LayoutModel",
       "_view_count": null,
       "_view_module": "@jupyter-widgets/base",
       "_view_module_version": "1.2.0",
       "_view_name": "LayoutView",
       "align_content": null,
       "align_items": null,
       "align_self": null,
       "border": null,
       "bottom": null,
       "display": null,
       "flex": null,
       "flex_flow": null,
       "grid_area": null,
       "grid_auto_columns": null,
       "grid_auto_flow": null,
       "grid_auto_rows": null,
       "grid_column": null,
       "grid_gap": null,
       "grid_row": null,
       "grid_template_areas": null,
       "grid_template_columns": null,
       "grid_template_rows": null,
       "height": null,
       "justify_content": null,
       "justify_items": null,
       "left": null,
       "margin": null,
       "max_height": null,
       "max_width": null,
       "min_height": null,
       "min_width": null,
       "object_fit": null,
       "object_position": null,
       "order": null,
       "overflow": null,
       "overflow_x": null,
       "overflow_y": null,
       "padding": null,
       "right": null,
       "top": null,
       "visibility": null,
       "width": null
      }
     },
     "e4ff51a4e3224faa92ce529f2d58c288": {
      "model_module": "@jupyter-widgets/controls",
      "model_module_version": "1.5.0",
      "model_name": "ProgressStyleModel",
      "state": {
       "_model_module": "@jupyter-widgets/controls",
       "_model_module_version": "1.5.0",
       "_model_name": "ProgressStyleModel",
       "_view_count": null,
       "_view_module": "@jupyter-widgets/base",
       "_view_module_version": "1.2.0",
       "_view_name": "StyleView",
       "bar_color": null,
       "description_width": ""
      }
     },
     "ed11ddd4f61e4931a44a38eeb018b06b": {
      "model_module": "@jupyter-widgets/base",
      "model_module_version": "1.2.0",
      "model_name": "LayoutModel",
      "state": {
       "_model_module": "@jupyter-widgets/base",
       "_model_module_version": "1.2.0",
       "_model_name": "LayoutModel",
       "_view_count": null,
       "_view_module": "@jupyter-widgets/base",
       "_view_module_version": "1.2.0",
       "_view_name": "LayoutView",
       "align_content": null,
       "align_items": null,
       "align_self": null,
       "border": null,
       "bottom": null,
       "display": null,
       "flex": null,
       "flex_flow": null,
       "grid_area": null,
       "grid_auto_columns": null,
       "grid_auto_flow": null,
       "grid_auto_rows": null,
       "grid_column": null,
       "grid_gap": null,
       "grid_row": null,
       "grid_template_areas": null,
       "grid_template_columns": null,
       "grid_template_rows": null,
       "height": null,
       "justify_content": null,
       "justify_items": null,
       "left": null,
       "margin": null,
       "max_height": null,
       "max_width": null,
       "min_height": null,
       "min_width": null,
       "object_fit": null,
       "object_position": null,
       "order": null,
       "overflow": null,
       "overflow_x": null,
       "overflow_y": null,
       "padding": null,
       "right": null,
       "top": null,
       "visibility": null,
       "width": null
      }
     },
     "ed3b82ff944241b58c0af8a35641c463": {
      "model_module": "@jupyter-widgets/controls",
      "model_module_version": "1.5.0",
      "model_name": "DescriptionStyleModel",
      "state": {
       "_model_module": "@jupyter-widgets/controls",
       "_model_module_version": "1.5.0",
       "_model_name": "DescriptionStyleModel",
       "_view_count": null,
       "_view_module": "@jupyter-widgets/base",
       "_view_module_version": "1.2.0",
       "_view_name": "StyleView",
       "description_width": ""
      }
     },
     "eda2699c64004c32ba178f77e8f5e2b4": {
      "model_module": "@jupyter-widgets/controls",
      "model_module_version": "1.5.0",
      "model_name": "DescriptionStyleModel",
      "state": {
       "_model_module": "@jupyter-widgets/controls",
       "_model_module_version": "1.5.0",
       "_model_name": "DescriptionStyleModel",
       "_view_count": null,
       "_view_module": "@jupyter-widgets/base",
       "_view_module_version": "1.2.0",
       "_view_name": "StyleView",
       "description_width": ""
      }
     },
     "ee7be04d24304e9e8b622ff4c8c57a28": {
      "model_module": "@jupyter-widgets/controls",
      "model_module_version": "1.5.0",
      "model_name": "DescriptionStyleModel",
      "state": {
       "_model_module": "@jupyter-widgets/controls",
       "_model_module_version": "1.5.0",
       "_model_name": "DescriptionStyleModel",
       "_view_count": null,
       "_view_module": "@jupyter-widgets/base",
       "_view_module_version": "1.2.0",
       "_view_name": "StyleView",
       "description_width": ""
      }
     },
     "ee8597f2d2bc4523b5b76af5f6018293": {
      "model_module": "@jupyter-widgets/base",
      "model_module_version": "1.2.0",
      "model_name": "LayoutModel",
      "state": {
       "_model_module": "@jupyter-widgets/base",
       "_model_module_version": "1.2.0",
       "_model_name": "LayoutModel",
       "_view_count": null,
       "_view_module": "@jupyter-widgets/base",
       "_view_module_version": "1.2.0",
       "_view_name": "LayoutView",
       "align_content": null,
       "align_items": null,
       "align_self": null,
       "border": null,
       "bottom": null,
       "display": null,
       "flex": null,
       "flex_flow": null,
       "grid_area": null,
       "grid_auto_columns": null,
       "grid_auto_flow": null,
       "grid_auto_rows": null,
       "grid_column": null,
       "grid_gap": null,
       "grid_row": null,
       "grid_template_areas": null,
       "grid_template_columns": null,
       "grid_template_rows": null,
       "height": null,
       "justify_content": null,
       "justify_items": null,
       "left": null,
       "margin": null,
       "max_height": null,
       "max_width": null,
       "min_height": null,
       "min_width": null,
       "object_fit": null,
       "object_position": null,
       "order": null,
       "overflow": null,
       "overflow_x": null,
       "overflow_y": null,
       "padding": null,
       "right": null,
       "top": null,
       "visibility": null,
       "width": null
      }
     },
     "eea364a47f434172b0f2402a60857963": {
      "model_module": "@jupyter-widgets/controls",
      "model_module_version": "1.5.0",
      "model_name": "HBoxModel",
      "state": {
       "_dom_classes": [],
       "_model_module": "@jupyter-widgets/controls",
       "_model_module_version": "1.5.0",
       "_model_name": "HBoxModel",
       "_view_count": null,
       "_view_module": "@jupyter-widgets/controls",
       "_view_module_version": "1.5.0",
       "_view_name": "HBoxView",
       "box_style": "",
       "children": [
        "IPY_MODEL_5f6b6c1d150a4da58bea55f1f28cab9f",
        "IPY_MODEL_c3c6190cef3f42b3a6332681b91cde76",
        "IPY_MODEL_ef8899f2d73b429e8688f03a7ae68571"
       ],
       "layout": "IPY_MODEL_b779b5ee213a4129b47b03853a919cbc"
      }
     },
     "ef8899f2d73b429e8688f03a7ae68571": {
      "model_module": "@jupyter-widgets/controls",
      "model_module_version": "1.5.0",
      "model_name": "HTMLModel",
      "state": {
       "_dom_classes": [],
       "_model_module": "@jupyter-widgets/controls",
       "_model_module_version": "1.5.0",
       "_model_name": "HTMLModel",
       "_view_count": null,
       "_view_module": "@jupyter-widgets/controls",
       "_view_module_version": "1.5.0",
       "_view_name": "HTMLView",
       "description": "",
       "description_tooltip": null,
       "layout": "IPY_MODEL_d2c8ec61b8434d8a8e96afe9c8df8e29",
       "placeholder": "​",
       "style": "IPY_MODEL_f3b33b8553b8450f9ed189dac1e410f0",
       "value": " 878/878 [00:00&lt;00:00, 73.9kB/s]"
      }
     },
     "ef9b94510dfb48bfae8814949f8bb84e": {
      "model_module": "@jupyter-widgets/controls",
      "model_module_version": "1.5.0",
      "model_name": "ProgressStyleModel",
      "state": {
       "_model_module": "@jupyter-widgets/controls",
       "_model_module_version": "1.5.0",
       "_model_name": "ProgressStyleModel",
       "_view_count": null,
       "_view_module": "@jupyter-widgets/base",
       "_view_module_version": "1.2.0",
       "_view_name": "StyleView",
       "bar_color": null,
       "description_width": ""
      }
     },
     "f0005974b04345b495566d98851fe80b": {
      "model_module": "@jupyter-widgets/controls",
      "model_module_version": "1.5.0",
      "model_name": "ProgressStyleModel",
      "state": {
       "_model_module": "@jupyter-widgets/controls",
       "_model_module_version": "1.5.0",
       "_model_name": "ProgressStyleModel",
       "_view_count": null,
       "_view_module": "@jupyter-widgets/base",
       "_view_module_version": "1.2.0",
       "_view_name": "StyleView",
       "bar_color": null,
       "description_width": ""
      }
     },
     "f21e5b5b7da9430b817bfb342adab610": {
      "model_module": "@jupyter-widgets/base",
      "model_module_version": "1.2.0",
      "model_name": "LayoutModel",
      "state": {
       "_model_module": "@jupyter-widgets/base",
       "_model_module_version": "1.2.0",
       "_model_name": "LayoutModel",
       "_view_count": null,
       "_view_module": "@jupyter-widgets/base",
       "_view_module_version": "1.2.0",
       "_view_name": "LayoutView",
       "align_content": null,
       "align_items": null,
       "align_self": null,
       "border": null,
       "bottom": null,
       "display": null,
       "flex": null,
       "flex_flow": null,
       "grid_area": null,
       "grid_auto_columns": null,
       "grid_auto_flow": null,
       "grid_auto_rows": null,
       "grid_column": null,
       "grid_gap": null,
       "grid_row": null,
       "grid_template_areas": null,
       "grid_template_columns": null,
       "grid_template_rows": null,
       "height": null,
       "justify_content": null,
       "justify_items": null,
       "left": null,
       "margin": null,
       "max_height": null,
       "max_width": null,
       "min_height": null,
       "min_width": null,
       "object_fit": null,
       "object_position": null,
       "order": null,
       "overflow": null,
       "overflow_x": null,
       "overflow_y": null,
       "padding": null,
       "right": null,
       "top": null,
       "visibility": null,
       "width": null
      }
     },
     "f24ee6209bf24bc880a5d77497ecaa04": {
      "model_module": "@jupyter-widgets/controls",
      "model_module_version": "1.5.0",
      "model_name": "DescriptionStyleModel",
      "state": {
       "_model_module": "@jupyter-widgets/controls",
       "_model_module_version": "1.5.0",
       "_model_name": "DescriptionStyleModel",
       "_view_count": null,
       "_view_module": "@jupyter-widgets/base",
       "_view_module_version": "1.2.0",
       "_view_name": "StyleView",
       "description_width": ""
      }
     },
     "f2a5674156c7412d90595ac4db337d29": {
      "model_module": "@jupyter-widgets/base",
      "model_module_version": "1.2.0",
      "model_name": "LayoutModel",
      "state": {
       "_model_module": "@jupyter-widgets/base",
       "_model_module_version": "1.2.0",
       "_model_name": "LayoutModel",
       "_view_count": null,
       "_view_module": "@jupyter-widgets/base",
       "_view_module_version": "1.2.0",
       "_view_name": "LayoutView",
       "align_content": null,
       "align_items": null,
       "align_self": null,
       "border": null,
       "bottom": null,
       "display": null,
       "flex": null,
       "flex_flow": null,
       "grid_area": null,
       "grid_auto_columns": null,
       "grid_auto_flow": null,
       "grid_auto_rows": null,
       "grid_column": null,
       "grid_gap": null,
       "grid_row": null,
       "grid_template_areas": null,
       "grid_template_columns": null,
       "grid_template_rows": null,
       "height": null,
       "justify_content": null,
       "justify_items": null,
       "left": null,
       "margin": null,
       "max_height": null,
       "max_width": null,
       "min_height": null,
       "min_width": null,
       "object_fit": null,
       "object_position": null,
       "order": null,
       "overflow": null,
       "overflow_x": null,
       "overflow_y": null,
       "padding": null,
       "right": null,
       "top": null,
       "visibility": null,
       "width": null
      }
     },
     "f3a11228a49742ab84bf3ebabacba02b": {
      "model_module": "@jupyter-widgets/controls",
      "model_module_version": "1.5.0",
      "model_name": "HBoxModel",
      "state": {
       "_dom_classes": [],
       "_model_module": "@jupyter-widgets/controls",
       "_model_module_version": "1.5.0",
       "_model_name": "HBoxModel",
       "_view_count": null,
       "_view_module": "@jupyter-widgets/controls",
       "_view_module_version": "1.5.0",
       "_view_name": "HBoxView",
       "box_style": "",
       "children": [
        "IPY_MODEL_ba2ad0f7d45046498cb1336e549a9812",
        "IPY_MODEL_103598d281f54b2c8e81230ac70107ef",
        "IPY_MODEL_1bdf4fe14a9d43d096744e9ea9a63e2a"
       ],
       "layout": "IPY_MODEL_4a0eebdba89a4542b4b4d0e6726a00ff"
      }
     },
     "f3b33b8553b8450f9ed189dac1e410f0": {
      "model_module": "@jupyter-widgets/controls",
      "model_module_version": "1.5.0",
      "model_name": "DescriptionStyleModel",
      "state": {
       "_model_module": "@jupyter-widgets/controls",
       "_model_module_version": "1.5.0",
       "_model_name": "DescriptionStyleModel",
       "_view_count": null,
       "_view_module": "@jupyter-widgets/base",
       "_view_module_version": "1.2.0",
       "_view_name": "StyleView",
       "description_width": ""
      }
     },
     "f4ef8e867b5b4226aced4728c70fde0c": {
      "model_module": "@jupyter-widgets/controls",
      "model_module_version": "1.5.0",
      "model_name": "FloatProgressModel",
      "state": {
       "_dom_classes": [],
       "_model_module": "@jupyter-widgets/controls",
       "_model_module_version": "1.5.0",
       "_model_name": "FloatProgressModel",
       "_view_count": null,
       "_view_module": "@jupyter-widgets/controls",
       "_view_module_version": "1.5.0",
       "_view_name": "ProgressView",
       "bar_style": "success",
       "description": "",
       "description_tooltip": null,
       "layout": "IPY_MODEL_e00e823af608444686ba4b4136f01424",
       "max": 418.0,
       "min": 0.0,
       "orientation": "horizontal",
       "style": "IPY_MODEL_5e696b31bcaa41dfa71de8cdc4a682b4",
       "value": 418.0
      }
     },
     "f5133c0e971f44a18faa363e4df2866d": {
      "model_module": "@jupyter-widgets/controls",
      "model_module_version": "1.5.0",
      "model_name": "DescriptionStyleModel",
      "state": {
       "_model_module": "@jupyter-widgets/controls",
       "_model_module_version": "1.5.0",
       "_model_name": "DescriptionStyleModel",
       "_view_count": null,
       "_view_module": "@jupyter-widgets/base",
       "_view_module_version": "1.2.0",
       "_view_name": "StyleView",
       "description_width": ""
      }
     },
     "f6b017e00ddf461ba370865e695da3da": {
      "model_module": "@jupyter-widgets/controls",
      "model_module_version": "1.5.0",
      "model_name": "DescriptionStyleModel",
      "state": {
       "_model_module": "@jupyter-widgets/controls",
       "_model_module_version": "1.5.0",
       "_model_name": "DescriptionStyleModel",
       "_view_count": null,
       "_view_module": "@jupyter-widgets/base",
       "_view_module_version": "1.2.0",
       "_view_name": "StyleView",
       "description_width": ""
      }
     },
     "f7a26fd615074fc19811cfdf7b739666": {
      "model_module": "@jupyter-widgets/controls",
      "model_module_version": "1.5.0",
      "model_name": "HTMLModel",
      "state": {
       "_dom_classes": [],
       "_model_module": "@jupyter-widgets/controls",
       "_model_module_version": "1.5.0",
       "_model_name": "HTMLModel",
       "_view_count": null,
       "_view_module": "@jupyter-widgets/controls",
       "_view_module_version": "1.5.0",
       "_view_name": "HTMLView",
       "description": "",
       "description_tooltip": null,
       "layout": "IPY_MODEL_c5291f83637e4b3c9b94f2163e29aba2",
       "placeholder": "​",
       "style": "IPY_MODEL_070426957f81423c89ea825461f261bd",
       "value": "Downloading shards: 100%"
      }
     },
     "f8ab753a8b0745a6b365dcba1af7848e": {
      "model_module": "@jupyter-widgets/base",
      "model_module_version": "1.2.0",
      "model_name": "LayoutModel",
      "state": {
       "_model_module": "@jupyter-widgets/base",
       "_model_module_version": "1.2.0",
       "_model_name": "LayoutModel",
       "_view_count": null,
       "_view_module": "@jupyter-widgets/base",
       "_view_module_version": "1.2.0",
       "_view_name": "LayoutView",
       "align_content": null,
       "align_items": null,
       "align_self": null,
       "border": null,
       "bottom": null,
       "display": null,
       "flex": null,
       "flex_flow": null,
       "grid_area": null,
       "grid_auto_columns": null,
       "grid_auto_flow": null,
       "grid_auto_rows": null,
       "grid_column": null,
       "grid_gap": null,
       "grid_row": null,
       "grid_template_areas": null,
       "grid_template_columns": null,
       "grid_template_rows": null,
       "height": null,
       "justify_content": null,
       "justify_items": null,
       "left": null,
       "margin": null,
       "max_height": null,
       "max_width": null,
       "min_height": null,
       "min_width": null,
       "object_fit": null,
       "object_position": null,
       "order": null,
       "overflow": null,
       "overflow_x": null,
       "overflow_y": null,
       "padding": null,
       "right": null,
       "top": null,
       "visibility": null,
       "width": null
      }
     },
     "f8fffb923ac14631a65b4e3cd85f2072": {
      "model_module": "@jupyter-widgets/base",
      "model_module_version": "1.2.0",
      "model_name": "LayoutModel",
      "state": {
       "_model_module": "@jupyter-widgets/base",
       "_model_module_version": "1.2.0",
       "_model_name": "LayoutModel",
       "_view_count": null,
       "_view_module": "@jupyter-widgets/base",
       "_view_module_version": "1.2.0",
       "_view_name": "LayoutView",
       "align_content": null,
       "align_items": null,
       "align_self": null,
       "border": null,
       "bottom": null,
       "display": null,
       "flex": null,
       "flex_flow": null,
       "grid_area": null,
       "grid_auto_columns": null,
       "grid_auto_flow": null,
       "grid_auto_rows": null,
       "grid_column": null,
       "grid_gap": null,
       "grid_row": null,
       "grid_template_areas": null,
       "grid_template_columns": null,
       "grid_template_rows": null,
       "height": null,
       "justify_content": null,
       "justify_items": null,
       "left": null,
       "margin": null,
       "max_height": null,
       "max_width": null,
       "min_height": null,
       "min_width": null,
       "object_fit": null,
       "object_position": null,
       "order": null,
       "overflow": null,
       "overflow_x": null,
       "overflow_y": null,
       "padding": null,
       "right": null,
       "top": null,
       "visibility": null,
       "width": null
      }
     },
     "fa1868cac3ca4217a6a3e0f170a90c3c": {
      "model_module": "@jupyter-widgets/controls",
      "model_module_version": "1.5.0",
      "model_name": "DescriptionStyleModel",
      "state": {
       "_model_module": "@jupyter-widgets/controls",
       "_model_module_version": "1.5.0",
       "_model_name": "DescriptionStyleModel",
       "_view_count": null,
       "_view_module": "@jupyter-widgets/base",
       "_view_module_version": "1.2.0",
       "_view_name": "StyleView",
       "description_width": ""
      }
     },
     "fc1e66e2a08947249c4a0045dd312729": {
      "model_module": "@jupyter-widgets/controls",
      "model_module_version": "1.5.0",
      "model_name": "DescriptionStyleModel",
      "state": {
       "_model_module": "@jupyter-widgets/controls",
       "_model_module_version": "1.5.0",
       "_model_name": "DescriptionStyleModel",
       "_view_count": null,
       "_view_module": "@jupyter-widgets/base",
       "_view_module_version": "1.2.0",
       "_view_name": "StyleView",
       "description_width": ""
      }
     },
     "fca47ac2e3ca4d0b8fce355a12c72cb1": {
      "model_module": "@jupyter-widgets/base",
      "model_module_version": "1.2.0",
      "model_name": "LayoutModel",
      "state": {
       "_model_module": "@jupyter-widgets/base",
       "_model_module_version": "1.2.0",
       "_model_name": "LayoutModel",
       "_view_count": null,
       "_view_module": "@jupyter-widgets/base",
       "_view_module_version": "1.2.0",
       "_view_name": "LayoutView",
       "align_content": null,
       "align_items": null,
       "align_self": null,
       "border": null,
       "bottom": null,
       "display": null,
       "flex": null,
       "flex_flow": null,
       "grid_area": null,
       "grid_auto_columns": null,
       "grid_auto_flow": null,
       "grid_auto_rows": null,
       "grid_column": null,
       "grid_gap": null,
       "grid_row": null,
       "grid_template_areas": null,
       "grid_template_columns": null,
       "grid_template_rows": null,
       "height": null,
       "justify_content": null,
       "justify_items": null,
       "left": null,
       "margin": null,
       "max_height": null,
       "max_width": null,
       "min_height": null,
       "min_width": null,
       "object_fit": null,
       "object_position": null,
       "order": null,
       "overflow": null,
       "overflow_x": null,
       "overflow_y": null,
       "padding": null,
       "right": null,
       "top": null,
       "visibility": null,
       "width": null
      }
     },
     "fdb0292a448f4803a6c3f25f942dbdb7": {
      "model_module": "@jupyter-widgets/base",
      "model_module_version": "1.2.0",
      "model_name": "LayoutModel",
      "state": {
       "_model_module": "@jupyter-widgets/base",
       "_model_module_version": "1.2.0",
       "_model_name": "LayoutModel",
       "_view_count": null,
       "_view_module": "@jupyter-widgets/base",
       "_view_module_version": "1.2.0",
       "_view_name": "LayoutView",
       "align_content": null,
       "align_items": null,
       "align_self": null,
       "border": null,
       "bottom": null,
       "display": null,
       "flex": null,
       "flex_flow": null,
       "grid_area": null,
       "grid_auto_columns": null,
       "grid_auto_flow": null,
       "grid_auto_rows": null,
       "grid_column": null,
       "grid_gap": null,
       "grid_row": null,
       "grid_template_areas": null,
       "grid_template_columns": null,
       "grid_template_rows": null,
       "height": null,
       "justify_content": null,
       "justify_items": null,
       "left": null,
       "margin": null,
       "max_height": null,
       "max_width": null,
       "min_height": null,
       "min_width": null,
       "object_fit": null,
       "object_position": null,
       "order": null,
       "overflow": null,
       "overflow_x": null,
       "overflow_y": null,
       "padding": null,
       "right": null,
       "top": null,
       "visibility": null,
       "width": null
      }
     },
     "ff142861868a46fabbcdd159503d3678": {
      "model_module": "@jupyter-widgets/controls",
      "model_module_version": "1.5.0",
      "model_name": "ProgressStyleModel",
      "state": {
       "_model_module": "@jupyter-widgets/controls",
       "_model_module_version": "1.5.0",
       "_model_name": "ProgressStyleModel",
       "_view_count": null,
       "_view_module": "@jupyter-widgets/base",
       "_view_module_version": "1.2.0",
       "_view_name": "StyleView",
       "bar_color": null,
       "description_width": ""
      }
     }
    },
    "version_major": 2,
    "version_minor": 0
   }
  }
 },
 "nbformat": 4,
 "nbformat_minor": 5
}
