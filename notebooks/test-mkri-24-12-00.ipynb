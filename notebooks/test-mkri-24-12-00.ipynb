{
 "cells": [
  {
   "cell_type": "markdown",
   "id": "c48b6429",
   "metadata": {
    "papermill": {
     "duration": 0.006454,
     "end_time": "2024-01-06T02:10:44.912823",
     "exception": false,
     "start_time": "2024-01-06T02:10:44.906369",
     "status": "completed"
    },
    "tags": []
   },
   "source": [
    "https://www.kaggle.com/code/rkuo2000/chromadb-langchain-gpt4all\n",
    "\n",
    "https://python.langchain.com/docs/integrations/llms/gpt4all\n",
    "\n",
    "https://github.com/nomic-ai/gpt4all/tree/main/gpt4all-bindings/python\n",
    "\n",
    "https://www.kaggle.com/code/gpreda/test-gpt4all-on-kaggle"
   ]
  },
  {
   "cell_type": "code",
   "execution_count": 1,
   "id": "7c8e9833",
   "metadata": {
    "execution": {
     "iopub.execute_input": "2024-01-06T02:10:44.925708Z",
     "iopub.status.busy": "2024-01-06T02:10:44.925373Z",
     "iopub.status.idle": "2024-01-06T02:10:44.934846Z",
     "shell.execute_reply": "2024-01-06T02:10:44.933972Z"
    },
    "papermill": {
     "duration": 0.018094,
     "end_time": "2024-01-06T02:10:44.936798",
     "exception": false,
     "start_time": "2024-01-06T02:10:44.918704",
     "status": "completed"
    },
    "tags": []
   },
   "outputs": [],
   "source": [
    "import time\n",
    "start = time.time()"
   ]
  },
  {
   "cell_type": "code",
   "execution_count": 2,
   "id": "aa7161b9",
   "metadata": {
    "execution": {
     "iopub.execute_input": "2024-01-06T02:10:44.950130Z",
     "iopub.status.busy": "2024-01-06T02:10:44.949808Z",
     "iopub.status.idle": "2024-01-06T02:10:45.923001Z",
     "shell.execute_reply": "2024-01-06T02:10:45.922051Z"
    },
    "papermill": {
     "duration": 0.982504,
     "end_time": "2024-01-06T02:10:45.925327",
     "exception": false,
     "start_time": "2024-01-06T02:10:44.942823",
     "status": "completed"
    },
    "tags": []
   },
   "outputs": [
    {
     "name": "stdout",
     "output_type": "stream",
     "text": [
      "GPU 0: Tesla T4 (UUID: GPU-03819910-979e-66f4-dc28-c8f379ba4c6a)\r\n",
      "GPU 1: Tesla T4 (UUID: GPU-021f7aba-7031-789c-8677-e122a6a52ceb)\r\n"
     ]
    }
   ],
   "source": [
    "! nvidia-smi -L"
   ]
  },
  {
   "cell_type": "code",
   "execution_count": 3,
   "id": "c12bde2e",
   "metadata": {
    "execution": {
     "iopub.execute_input": "2024-01-06T02:10:45.939198Z",
     "iopub.status.busy": "2024-01-06T02:10:45.938890Z",
     "iopub.status.idle": "2024-01-06T02:12:38.307310Z",
     "shell.execute_reply": "2024-01-06T02:12:38.306179Z"
    },
    "papermill": {
     "duration": 112.383526,
     "end_time": "2024-01-06T02:12:38.315158",
     "exception": false,
     "start_time": "2024-01-06T02:10:45.931632",
     "status": "completed"
    },
    "tags": []
   },
   "outputs": [
    {
     "name": "stdout",
     "output_type": "stream",
     "text": [
      "\u001b[31mERROR: pip's dependency resolver does not currently take into account all the packages that are installed. This behaviour is the source of the following dependency conflicts.\r\n",
      "cudf 23.8.0 requires cupy-cuda11x>=12.0.0, which is not installed.\r\n",
      "cuml 23.8.0 requires cupy-cuda11x>=12.0.0, which is not installed.\r\n",
      "dask-cudf 23.8.0 requires cupy-cuda11x>=12.0.0, which is not installed.\r\n",
      "apache-beam 2.46.0 requires dill<0.3.2,>=0.3.1.1, but you have dill 0.3.7 which is incompatible.\r\n",
      "apache-beam 2.46.0 requires pyarrow<10.0.0,>=3.0.0, but you have pyarrow 11.0.0 which is incompatible.\r\n",
      "cudf 23.8.0 requires pandas<1.6.0dev0,>=1.3, but you have pandas 2.0.3 which is incompatible.\r\n",
      "cudf 23.8.0 requires protobuf<5,>=4.21, but you have protobuf 3.20.3 which is incompatible.\r\n",
      "cuml 23.8.0 requires dask==2023.7.1, but you have dask 2023.12.0 which is incompatible.\r\n",
      "cuml 23.8.0 requires distributed==2023.7.1, but you have distributed 2023.12.0 which is incompatible.\r\n",
      "dask-cuda 23.8.0 requires dask==2023.7.1, but you have dask 2023.12.0 which is incompatible.\r\n",
      "dask-cuda 23.8.0 requires distributed==2023.7.1, but you have distributed 2023.12.0 which is incompatible.\r\n",
      "dask-cuda 23.8.0 requires pandas<1.6.0dev0,>=1.3, but you have pandas 2.0.3 which is incompatible.\r\n",
      "dask-cudf 23.8.0 requires dask==2023.7.1, but you have dask 2023.12.0 which is incompatible.\r\n",
      "dask-cudf 23.8.0 requires distributed==2023.7.1, but you have distributed 2023.12.0 which is incompatible.\r\n",
      "dask-cudf 23.8.0 requires pandas<1.6.0dev0,>=1.3, but you have pandas 2.0.3 which is incompatible.\r\n",
      "google-cloud-bigquery 2.34.4 requires packaging<22.0dev,>=14.3, but you have packaging 23.2 which is incompatible.\r\n",
      "google-cloud-pubsublite 1.8.3 requires overrides<7.0.0,>=6.0.1, but you have overrides 7.4.0 which is incompatible.\r\n",
      "jupyterlab 4.0.5 requires jupyter-lsp>=2.0.0, but you have jupyter-lsp 1.5.1 which is incompatible.\r\n",
      "jupyterlab-lsp 5.0.1 requires jupyter-lsp>=2.0.0, but you have jupyter-lsp 1.5.1 which is incompatible.\r\n",
      "jupyterlab-lsp 5.0.1 requires jupyterlab<5.0.0a0,>=4.0.6, but you have jupyterlab 4.0.5 which is incompatible.\r\n",
      "kfp 2.0.1 requires google-cloud-storage<3,>=2.2.1, but you have google-cloud-storage 1.44.0 which is incompatible.\r\n",
      "kfp 2.0.1 requires kubernetes<27,>=8.0.0, but you have kubernetes 28.1.0 which is incompatible.\r\n",
      "libpysal 4.9.2 requires shapely>=2.0.1, but you have shapely 1.8.5.post1 which is incompatible.\r\n",
      "momepy 0.7.0 requires shapely>=2, but you have shapely 1.8.5.post1 which is incompatible.\r\n",
      "opentelemetry-exporter-otlp 1.19.0 requires opentelemetry-exporter-otlp-proto-grpc==1.19.0, but you have opentelemetry-exporter-otlp-proto-grpc 1.22.0 which is incompatible.\r\n",
      "opentelemetry-exporter-otlp-proto-http 1.19.0 requires opentelemetry-exporter-otlp-proto-common==1.19.0, but you have opentelemetry-exporter-otlp-proto-common 1.22.0 which is incompatible.\r\n",
      "opentelemetry-exporter-otlp-proto-http 1.19.0 requires opentelemetry-proto==1.19.0, but you have opentelemetry-proto 1.22.0 which is incompatible.\r\n",
      "opentelemetry-exporter-otlp-proto-http 1.19.0 requires opentelemetry-sdk~=1.19.0, but you have opentelemetry-sdk 1.22.0 which is incompatible.\r\n",
      "pymc3 3.11.5 requires numpy<1.22.2,>=1.15.0, but you have numpy 1.24.3 which is incompatible.\r\n",
      "pymc3 3.11.5 requires scipy<1.8.0,>=1.7.3, but you have scipy 1.11.4 which is incompatible.\r\n",
      "raft-dask 23.8.0 requires dask==2023.7.1, but you have dask 2023.12.0 which is incompatible.\r\n",
      "raft-dask 23.8.0 requires distributed==2023.7.1, but you have distributed 2023.12.0 which is incompatible.\r\n",
      "spopt 0.6.0 requires shapely>=2.0.1, but you have shapely 1.8.5.post1 which is incompatible.\r\n",
      "ydata-profiling 4.5.1 requires numpy<1.24,>=1.16.0, but you have numpy 1.24.3 which is incompatible.\u001b[0m\u001b[31m\r\n",
      "\u001b[0mCPU times: user 1.52 s, sys: 305 ms, total: 1.83 s\n",
      "Wall time: 1min 52s\n"
     ]
    }
   ],
   "source": [
    "%%time\n",
    "\n",
    "! pip install -qq -U langchain tiktoken pypdf chromadb faiss-gpu\n",
    "! pip install -qq -U transformers InstructorEmbedding sentence_transformers\n",
    "! pip install -qq -U bitsandbytes bitsandbytes-cuda117\n",
    "! pip install -qq -U gpt4all"
   ]
  },
  {
   "cell_type": "code",
   "execution_count": 4,
   "id": "45ae9383",
   "metadata": {
    "execution": {
     "iopub.execute_input": "2024-01-06T02:12:38.329117Z",
     "iopub.status.busy": "2024-01-06T02:12:38.328768Z",
     "iopub.status.idle": "2024-01-06T02:12:38.333499Z",
     "shell.execute_reply": "2024-01-06T02:12:38.332637Z"
    },
    "papermill": {
     "duration": 0.014157,
     "end_time": "2024-01-06T02:12:38.335513",
     "exception": false,
     "start_time": "2024-01-06T02:12:38.321356",
     "status": "completed"
    },
    "tags": []
   },
   "outputs": [],
   "source": [
    "#!wget https://gpt4all.io/models/ggml-gpt4all-j-v1.3-groovy.bin models"
   ]
  },
  {
   "cell_type": "code",
   "execution_count": 5,
   "id": "7df78ff8",
   "metadata": {
    "execution": {
     "iopub.execute_input": "2024-01-06T02:12:38.349201Z",
     "iopub.status.busy": "2024-01-06T02:12:38.348917Z",
     "iopub.status.idle": "2024-01-06T02:12:58.571758Z",
     "shell.execute_reply": "2024-01-06T02:12:58.570740Z"
    },
    "papermill": {
     "duration": 20.232572,
     "end_time": "2024-01-06T02:12:58.574329",
     "exception": false,
     "start_time": "2024-01-06T02:12:38.341757",
     "status": "completed"
    },
    "tags": []
   },
   "outputs": [
    {
     "name": "stdout",
     "output_type": "stream",
     "text": [
      "0.1.0\n"
     ]
    }
   ],
   "source": [
    "import warnings\n",
    "warnings.filterwarnings(\"ignore\")\n",
    "\n",
    "import os\n",
    "import textwrap\n",
    "import shutil\n",
    "import pandas as pd\n",
    "import glob\n",
    "\n",
    "import langchain\n",
    "from langchain.llms import HuggingFacePipeline\n",
    "\n",
    "import torch\n",
    "import transformers\n",
    "from transformers import AutoTokenizer, AutoModelForCausalLM\n",
    "from transformers import LlamaTokenizer, LlamaForCausalLM, pipeline\n",
    "\n",
    "#quantization_config = BitsAndBytesConfig(llm_int8_enable_fp32_cpu_offload=True)\n",
    "\n",
    "#os.environ['TRANSFORMERS_CACHE'] = 'cache/'\n",
    "\n",
    "print(langchain.__version__)"
   ]
  },
  {
   "cell_type": "code",
   "execution_count": 6,
   "id": "b14aa5c5",
   "metadata": {
    "execution": {
     "iopub.execute_input": "2024-01-06T02:12:58.588750Z",
     "iopub.status.busy": "2024-01-06T02:12:58.587898Z",
     "iopub.status.idle": "2024-01-06T02:13:01.544083Z",
     "shell.execute_reply": "2024-01-06T02:13:01.543285Z"
    },
    "papermill": {
     "duration": 2.965632,
     "end_time": "2024-01-06T02:13:01.546335",
     "exception": false,
     "start_time": "2024-01-06T02:12:58.580703",
     "status": "completed"
    },
    "tags": []
   },
   "outputs": [],
   "source": [
    "### Multi-document retriever\n",
    "from langchain.vectorstores import Chroma, FAISS\n",
    "from langchain.text_splitter import RecursiveCharacterTextSplitter\n",
    "\n",
    "from langchain.chains import RetrievalQA, VectorDBQA\n",
    "from langchain.document_loaders import PyPDFLoader\n",
    "from langchain.document_loaders import DirectoryLoader\n",
    "#from gpt4all import GPT4All\n",
    "from langchain.llms import GPT4All\n",
    "from langchain.prompts import PromptTemplate\n",
    "\n",
    "\n",
    "from InstructorEmbedding import INSTRUCTOR\n",
    "from langchain.embeddings import HuggingFaceInstructEmbeddings"
   ]
  },
  {
   "cell_type": "code",
   "execution_count": 7,
   "id": "be327e08",
   "metadata": {
    "execution": {
     "iopub.execute_input": "2024-01-06T02:13:01.561245Z",
     "iopub.status.busy": "2024-01-06T02:13:01.560474Z",
     "iopub.status.idle": "2024-01-06T02:14:23.543840Z",
     "shell.execute_reply": "2024-01-06T02:14:23.542851Z"
    },
    "papermill": {
     "duration": 81.993338,
     "end_time": "2024-01-06T02:14:23.546246",
     "exception": false,
     "start_time": "2024-01-06T02:13:01.552908",
     "status": "completed"
    },
    "tags": []
   },
   "outputs": [
    {
     "name": "stdout",
     "output_type": "stream",
     "text": [
      "--2024-01-06 02:13:02--  https://gpt4all.io/models/gguf/mistral-7b-instruct-v0.1.Q4_0.gguf\r\n",
      "Resolving gpt4all.io (gpt4all.io)... 104.26.0.159, 104.26.1.159, 172.67.71.169, ...\r\n",
      "Connecting to gpt4all.io (gpt4all.io)|104.26.0.159|:443... connected.\r\n",
      "HTTP request sent, awaiting response... 200 OK\r\n",
      "Length: 4108916384 (3.8G)\r\n",
      "Saving to: 'mistral-7b-instruct-v0.1.Q4_0.gguf'\r\n",
      "\r\n",
      "mistral-7b-instruct 100%[===================>]   3.83G  41.9MB/s    in 81s     \r\n",
      "\r\n",
      "2024-01-06 02:14:23 (48.6 MB/s) - 'mistral-7b-instruct-v0.1.Q4_0.gguf' saved [4108916384/4108916384]\r\n",
      "\r\n"
     ]
    }
   ],
   "source": [
    "!wget https://gpt4all.io/models/gguf/mistral-7b-instruct-v0.1.Q4_0.gguf"
   ]
  },
  {
   "cell_type": "code",
   "execution_count": 8,
   "id": "2a7d6737",
   "metadata": {
    "execution": {
     "iopub.execute_input": "2024-01-06T02:14:23.611050Z",
     "iopub.status.busy": "2024-01-06T02:14:23.610492Z",
     "iopub.status.idle": "2024-01-06T02:14:25.839418Z",
     "shell.execute_reply": "2024-01-06T02:14:25.838591Z"
    },
    "papermill": {
     "duration": 2.262985,
     "end_time": "2024-01-06T02:14:25.841818",
     "exception": false,
     "start_time": "2024-01-06T02:14:23.578833",
     "status": "completed"
    },
    "tags": []
   },
   "outputs": [],
   "source": [
    "\n",
    "llm = GPT4All(model=\"/kaggle/working/mistral-7b-instruct-v0.1.Q4_0.gguf\")"
   ]
  },
  {
   "cell_type": "code",
   "execution_count": 9,
   "id": "61361654",
   "metadata": {
    "execution": {
     "iopub.execute_input": "2024-01-06T02:14:25.905332Z",
     "iopub.status.busy": "2024-01-06T02:14:25.905047Z",
     "iopub.status.idle": "2024-01-06T02:14:25.908942Z",
     "shell.execute_reply": "2024-01-06T02:14:25.908173Z"
    },
    "papermill": {
     "duration": 0.037315,
     "end_time": "2024-01-06T02:14:25.910934",
     "exception": false,
     "start_time": "2024-01-06T02:14:25.873619",
     "status": "completed"
    },
    "tags": []
   },
   "outputs": [],
   "source": [
    "#print(llm.generate(\"The capital of France is \", max_tokens=1028))"
   ]
  },
  {
   "cell_type": "code",
   "execution_count": 10,
   "id": "f0ff2f21",
   "metadata": {
    "execution": {
     "iopub.execute_input": "2024-01-06T02:14:25.972026Z",
     "iopub.status.busy": "2024-01-06T02:14:25.971770Z",
     "iopub.status.idle": "2024-01-06T02:14:25.979305Z",
     "shell.execute_reply": "2024-01-06T02:14:25.978477Z"
    },
    "papermill": {
     "duration": 0.040424,
     "end_time": "2024-01-06T02:14:25.981070",
     "exception": false,
     "start_time": "2024-01-06T02:14:25.940646",
     "status": "completed"
    },
    "tags": []
   },
   "outputs": [
    {
     "data": {
      "text/plain": [
       "GPT4All(model='/kaggle/working/mistral-7b-instruct-v0.1.Q4_0.gguf', client=<gpt4all.gpt4all.GPT4All object at 0x7dbd24661750>)"
      ]
     },
     "execution_count": 10,
     "metadata": {},
     "output_type": "execute_result"
    }
   ],
   "source": [
    "llm"
   ]
  },
  {
   "cell_type": "code",
   "execution_count": 11,
   "id": "8cf44766",
   "metadata": {
    "execution": {
     "iopub.execute_input": "2024-01-06T02:14:26.041653Z",
     "iopub.status.busy": "2024-01-06T02:14:26.041357Z",
     "iopub.status.idle": "2024-01-06T02:15:59.402483Z",
     "shell.execute_reply": "2024-01-06T02:15:59.400744Z"
    },
    "papermill": {
     "duration": 93.438603,
     "end_time": "2024-01-06T02:15:59.449408",
     "exception": false,
     "start_time": "2024-01-06T02:14:26.010805",
     "status": "completed"
    },
    "tags": []
   },
   "outputs": [
    {
     "data": {
      "text/plain": [
       "'/kaggle/working/mk-vectordb-chroma'"
      ]
     },
     "execution_count": 11,
     "metadata": {},
     "output_type": "execute_result"
    }
   ],
   "source": [
    "shutil.copytree('/kaggle/input/mkvc-12-finalmix/kaggle/working/mk-vectordb-chroma-twelve', '/kaggle/working/mk-vectordb-chroma')"
   ]
  },
  {
   "cell_type": "code",
   "execution_count": 12,
   "id": "67a8d40f",
   "metadata": {
    "execution": {
     "iopub.execute_input": "2024-01-06T02:15:59.568690Z",
     "iopub.status.busy": "2024-01-06T02:15:59.567905Z",
     "iopub.status.idle": "2024-01-06T02:16:17.006152Z",
     "shell.execute_reply": "2024-01-06T02:16:17.005184Z"
    },
    "papermill": {
     "duration": 17.474401,
     "end_time": "2024-01-06T02:16:17.008234",
     "exception": false,
     "start_time": "2024-01-06T02:15:59.533833",
     "status": "completed"
    },
    "tags": []
   },
   "outputs": [
    {
     "data": {
      "application/vnd.jupyter.widget-view+json": {
       "model_id": "c8389c9ba58e4ed09f111333a115ef75",
       "version_major": 2,
       "version_minor": 0
      },
      "text/plain": [
       ".gitattributes:   0%|          | 0.00/1.48k [00:00<?, ?B/s]"
      ]
     },
     "metadata": {},
     "output_type": "display_data"
    },
    {
     "data": {
      "application/vnd.jupyter.widget-view+json": {
       "model_id": "e7d8b410bfbe44ed99b4d54c16437083",
       "version_major": 2,
       "version_minor": 0
      },
      "text/plain": [
       "0_Transformer/config.json:   0%|          | 0.00/1.10k [00:00<?, ?B/s]"
      ]
     },
     "metadata": {},
     "output_type": "display_data"
    },
    {
     "data": {
      "application/vnd.jupyter.widget-view+json": {
       "model_id": "8c12d71e3250454eb2047a26cee526ad",
       "version_major": 2,
       "version_minor": 0
      },
      "text/plain": [
       "pytorch_model.bin:   0%|          | 0.00/498M [00:00<?, ?B/s]"
      ]
     },
     "metadata": {},
     "output_type": "display_data"
    },
    {
     "data": {
      "application/vnd.jupyter.widget-view+json": {
       "model_id": "26e18aaded03478a8f81d1d87b4bd33f",
       "version_major": 2,
       "version_minor": 0
      },
      "text/plain": [
       "0_Transformer/sentence_bert_config.json:   0%|          | 0.00/52.0 [00:00<?, ?B/s]"
      ]
     },
     "metadata": {},
     "output_type": "display_data"
    },
    {
     "data": {
      "application/vnd.jupyter.widget-view+json": {
       "model_id": "1a50bb01cc7449448ea17626d633af9e",
       "version_major": 2,
       "version_minor": 0
      },
      "text/plain": [
       "0_Transformer/special_tokens_map.json:   0%|          | 0.00/125 [00:00<?, ?B/s]"
      ]
     },
     "metadata": {},
     "output_type": "display_data"
    },
    {
     "data": {
      "application/vnd.jupyter.widget-view+json": {
       "model_id": "2aa2310d91b249838f22fdd1dbf74aa8",
       "version_major": 2,
       "version_minor": 0
      },
      "text/plain": [
       "0_Transformer/tokenizer.json:   0%|          | 0.00/709k [00:00<?, ?B/s]"
      ]
     },
     "metadata": {},
     "output_type": "display_data"
    },
    {
     "data": {
      "application/vnd.jupyter.widget-view+json": {
       "model_id": "b6eb6d1ab7b04ab59071f1a9409bf03a",
       "version_major": 2,
       "version_minor": 0
      },
      "text/plain": [
       "0_Transformer/tokenizer_config.json:   0%|          | 0.00/394 [00:00<?, ?B/s]"
      ]
     },
     "metadata": {},
     "output_type": "display_data"
    },
    {
     "data": {
      "application/vnd.jupyter.widget-view+json": {
       "model_id": "1d0772dc82ea4cb99c5f0c1fa9ffa3b5",
       "version_major": 2,
       "version_minor": 0
      },
      "text/plain": [
       "0_Transformer/vocab.txt:   0%|          | 0.00/229k [00:00<?, ?B/s]"
      ]
     },
     "metadata": {},
     "output_type": "display_data"
    },
    {
     "data": {
      "application/vnd.jupyter.widget-view+json": {
       "model_id": "9319948651b54fd49af9c4ac63f4afec",
       "version_major": 2,
       "version_minor": 0
      },
      "text/plain": [
       "1_Pooling/config.json:   0%|          | 0.00/270 [00:00<?, ?B/s]"
      ]
     },
     "metadata": {},
     "output_type": "display_data"
    },
    {
     "data": {
      "application/vnd.jupyter.widget-view+json": {
       "model_id": "3f4a5ea09d6442e099ea5997a2a8e386",
       "version_major": 2,
       "version_minor": 0
      },
      "text/plain": [
       "2_Dense/config.json:   0%|          | 0.00/114 [00:00<?, ?B/s]"
      ]
     },
     "metadata": {},
     "output_type": "display_data"
    },
    {
     "data": {
      "application/vnd.jupyter.widget-view+json": {
       "model_id": "e17195e567c14a8ea2d68e06b366280e",
       "version_major": 2,
       "version_minor": 0
      },
      "text/plain": [
       "pytorch_model.bin:   0%|          | 0.00/2.36M [00:00<?, ?B/s]"
      ]
     },
     "metadata": {},
     "output_type": "display_data"
    },
    {
     "data": {
      "application/vnd.jupyter.widget-view+json": {
       "model_id": "652bd22f50cb4aa4a95624bf9f1cedab",
       "version_major": 2,
       "version_minor": 0
      },
      "text/plain": [
       "README.md:   0%|          | 0.00/2.65k [00:00<?, ?B/s]"
      ]
     },
     "metadata": {},
     "output_type": "display_data"
    },
    {
     "data": {
      "application/vnd.jupyter.widget-view+json": {
       "model_id": "f496185ffd134fc3a3494bbdc1835fee",
       "version_major": 2,
       "version_minor": 0
      },
      "text/plain": [
       "config_sentence_transformers.json:   0%|          | 0.00/123 [00:00<?, ?B/s]"
      ]
     },
     "metadata": {},
     "output_type": "display_data"
    },
    {
     "data": {
      "application/vnd.jupyter.widget-view+json": {
       "model_id": "7796a01295a5411193496ff6b7694ac0",
       "version_major": 2,
       "version_minor": 0
      },
      "text/plain": [
       "eval/similarity_evaluation_results.csv:   0%|          | 0.00/2.82k [00:00<?, ?B/s]"
      ]
     },
     "metadata": {},
     "output_type": "display_data"
    },
    {
     "data": {
      "application/vnd.jupyter.widget-view+json": {
       "model_id": "fa73f7f77aa0416480b45670a28e1bc3",
       "version_major": 2,
       "version_minor": 0
      },
      "text/plain": [
       "modules.json:   0%|          | 0.00/354 [00:00<?, ?B/s]"
      ]
     },
     "metadata": {},
     "output_type": "display_data"
    },
    {
     "name": "stdout",
     "output_type": "stream",
     "text": [
      "load INSTRUCTOR_Transformer\n",
      "max_seq_length  512\n",
      "CPU times: user 1.89 s, sys: 1.51 s, total: 3.4 s\n",
      "Wall time: 17.4 s\n"
     ]
    }
   ],
   "source": [
    "%%time\n",
    "\n",
    "instructor_embeddings = HuggingFaceInstructEmbeddings(model_name=\"LazarusNLP/congen-simcse-indobert-base\", model_kwargs={\"device\": \"cuda\"})\n",
    "\n",
    "vectordb = Chroma(persist_directory='mk-vectordb-chroma',embedding_function=instructor_embeddings,)\n",
    "#vectordb.persist()"
   ]
  },
  {
   "cell_type": "code",
   "execution_count": 13,
   "id": "df7d69b9",
   "metadata": {
    "execution": {
     "iopub.execute_input": "2024-01-06T02:16:17.077271Z",
     "iopub.status.busy": "2024-01-06T02:16:17.076991Z",
     "iopub.status.idle": "2024-01-06T02:16:17.084296Z",
     "shell.execute_reply": "2024-01-06T02:16:17.083348Z"
    },
    "papermill": {
     "duration": 0.04345,
     "end_time": "2024-01-06T02:16:17.086212",
     "exception": false,
     "start_time": "2024-01-06T02:16:17.042762",
     "status": "completed"
    },
    "tags": []
   },
   "outputs": [
    {
     "name": "stdout",
     "output_type": "stream",
     "text": [
      "CPU times: user 1.09 ms, sys: 47 µs, total: 1.14 ms\n",
      "Wall time: 1.14 ms\n"
     ]
    }
   ],
   "source": [
    "%%time\n",
    "retriever = vectordb.as_retriever(search_kwargs={\"k\": 3})\n",
    "#retriever = vectordb.as_retriever(search_type=\"mmr\", search_kwargs={\"k\": 6, \"lambda_mult\": 0.25})\n",
    "\n",
    "qa_chain = RetrievalQA.from_chain_type(llm=llm, \n",
    "                                       chain_type=\"stuff\", \n",
    "                                       retriever=retriever, \n",
    "                                       return_source_documents=True,\n",
    "                                       verbose=False)"
   ]
  },
  {
   "cell_type": "code",
   "execution_count": 14,
   "id": "dd2be06e",
   "metadata": {
    "execution": {
     "iopub.execute_input": "2024-01-06T02:16:17.159573Z",
     "iopub.status.busy": "2024-01-06T02:16:17.159237Z",
     "iopub.status.idle": "2024-01-06T02:16:17.166334Z",
     "shell.execute_reply": "2024-01-06T02:16:17.165409Z"
    },
    "papermill": {
     "duration": 0.045795,
     "end_time": "2024-01-06T02:16:17.168431",
     "exception": false,
     "start_time": "2024-01-06T02:16:17.122636",
     "status": "completed"
    },
    "tags": []
   },
   "outputs": [
    {
     "data": {
      "text/plain": [
       "RetrievalQA(combine_documents_chain=StuffDocumentsChain(llm_chain=LLMChain(prompt=PromptTemplate(input_variables=['context', 'question'], template=\"Use the following pieces of context to answer the question at the end. If you don't know the answer, just say that you don't know, don't try to make up an answer.\\n\\n{context}\\n\\nQuestion: {question}\\nHelpful Answer:\"), llm=GPT4All(model='/kaggle/working/mistral-7b-instruct-v0.1.Q4_0.gguf', client=<gpt4all.gpt4all.GPT4All object at 0x7dbd24661750>)), document_variable_name='context'), return_source_documents=True, retriever=VectorStoreRetriever(tags=['Chroma', 'HuggingFaceInstructEmbeddings'], vectorstore=<langchain_community.vectorstores.chroma.Chroma object at 0x7dbbd7e6a560>, search_kwargs={'k': 3}))"
      ]
     },
     "execution_count": 14,
     "metadata": {},
     "output_type": "execute_result"
    }
   ],
   "source": [
    "qa_chain"
   ]
  },
  {
   "cell_type": "code",
   "execution_count": 15,
   "id": "3efa7294",
   "metadata": {
    "execution": {
     "iopub.execute_input": "2024-01-06T02:16:17.241477Z",
     "iopub.status.busy": "2024-01-06T02:16:17.241214Z",
     "iopub.status.idle": "2024-01-06T02:16:17.247635Z",
     "shell.execute_reply": "2024-01-06T02:16:17.246741Z"
    },
    "papermill": {
     "duration": 0.045181,
     "end_time": "2024-01-06T02:16:17.249781",
     "exception": false,
     "start_time": "2024-01-06T02:16:17.204600",
     "status": "completed"
    },
    "tags": []
   },
   "outputs": [],
   "source": [
    "def wrap_text_preserve_newlines(text, width=110):\n",
    "    # Split the input text into lines based on newline characters\n",
    "    lines = text.split('\\n')\n",
    "\n",
    "    # Wrap each line individually\n",
    "    wrapped_lines = [textwrap.fill(line, width=width) for line in lines]\n",
    "\n",
    "    # Join the wrapped lines back together using newline characters\n",
    "    wrapped_text = '\\n'.join(wrapped_lines)\n",
    "\n",
    "    return wrapped_text\n",
    "\n",
    "def process_llm_response(llm_response):\n",
    "    print(wrap_text_preserve_newlines(llm_response['result']))\n",
    "    print('\\n\\nSources:')\n",
    "    for source in llm_response[\"source_documents\"]:\n",
    "        print(source.metadata['source'])"
   ]
  },
  {
   "cell_type": "code",
   "execution_count": 16,
   "id": "b16020a5",
   "metadata": {
    "execution": {
     "iopub.execute_input": "2024-01-06T02:16:17.326404Z",
     "iopub.status.busy": "2024-01-06T02:16:17.326093Z",
     "iopub.status.idle": "2024-01-06T02:16:17.330613Z",
     "shell.execute_reply": "2024-01-06T02:16:17.329680Z"
    },
    "papermill": {
     "duration": 0.045634,
     "end_time": "2024-01-06T02:16:17.332858",
     "exception": false,
     "start_time": "2024-01-06T02:16:17.287224",
     "status": "completed"
    },
    "tags": []
   },
   "outputs": [],
   "source": [
    "def llm_ans(query):\n",
    "    llm_response = qa_chain(query)\n",
    "    ans = process_llm_response(llm_response)\n",
    "    return ans"
   ]
  },
  {
   "cell_type": "code",
   "execution_count": 17,
   "id": "129b1c77",
   "metadata": {
    "execution": {
     "iopub.execute_input": "2024-01-06T02:16:17.406066Z",
     "iopub.status.busy": "2024-01-06T02:16:17.405766Z",
     "iopub.status.idle": "2024-01-06T02:16:17.409722Z",
     "shell.execute_reply": "2024-01-06T02:16:17.408814Z"
    },
    "papermill": {
     "duration": 0.042725,
     "end_time": "2024-01-06T02:16:17.411665",
     "exception": false,
     "start_time": "2024-01-06T02:16:17.368940",
     "status": "completed"
    },
    "tags": []
   },
   "outputs": [],
   "source": [
    "#model"
   ]
  },
  {
   "cell_type": "code",
   "execution_count": 18,
   "id": "c6254598",
   "metadata": {
    "execution": {
     "iopub.execute_input": "2024-01-06T02:16:17.481480Z",
     "iopub.status.busy": "2024-01-06T02:16:17.481206Z",
     "iopub.status.idle": "2024-01-06T02:16:17.541263Z",
     "shell.execute_reply": "2024-01-06T02:16:17.540204Z"
    },
    "papermill": {
     "duration": 0.097283,
     "end_time": "2024-01-06T02:16:17.543460",
     "exception": false,
     "start_time": "2024-01-06T02:16:17.446177",
     "status": "completed"
    },
    "tags": []
   },
   "outputs": [
    {
     "data": {
      "text/html": [
       "<div>\n",
       "<style scoped>\n",
       "    .dataframe tbody tr th:only-of-type {\n",
       "        vertical-align: middle;\n",
       "    }\n",
       "\n",
       "    .dataframe tbody tr th {\n",
       "        vertical-align: top;\n",
       "    }\n",
       "\n",
       "    .dataframe thead th {\n",
       "        text-align: right;\n",
       "    }\n",
       "</style>\n",
       "<table border=\"1\" class=\"dataframe\">\n",
       "  <thead>\n",
       "    <tr style=\"text-align: right;\">\n",
       "      <th></th>\n",
       "      <th>no</th>\n",
       "      <th>question</th>\n",
       "      <th>a</th>\n",
       "      <th>b</th>\n",
       "      <th>c</th>\n",
       "      <th>d</th>\n",
       "      <th>e</th>\n",
       "      <th>answer</th>\n",
       "      <th>explained</th>\n",
       "      <th>source</th>\n",
       "      <th>qa_comb</th>\n",
       "    </tr>\n",
       "  </thead>\n",
       "  <tbody>\n",
       "    <tr>\n",
       "      <th>0</th>\n",
       "      <td>1</td>\n",
       "      <td>Berdasarkan Pasal 24C ayat (1) Undang-Undang D...</td>\n",
       "      <td>Mahkamah Agung berwenang mengadili pada tingka...</td>\n",
       "      <td>Mahkamah Konstitusi berwenang mengadili pada t...</td>\n",
       "      <td>Kepolisian Negara Indonesia mengadili pada tin...</td>\n",
       "      <td>Presiden Republik Indonesia mengadili pada tin...</td>\n",
       "      <td>Tentara Negara Indonesia mengadili pada tingka...</td>\n",
       "      <td>b</td>\n",
       "      <td>Mahkamah Konstitusi berwenang mengadili pada t...</td>\n",
       "      <td>3282_putusan_mkri_6516.pdf</td>\n",
       "      <td>Berdasarkan Pasal 24C ayat (1) Undang-Undang D...</td>\n",
       "    </tr>\n",
       "    <tr>\n",
       "      <th>1</th>\n",
       "      <td>2</td>\n",
       "      <td>Permohonan diajukan dalam jangka waktu paling ...</td>\n",
       "      <td>Pasal 70 ayat (3) UU MK, Pasal 111 ayat (2) UU...</td>\n",
       "      <td>Pasal 74 ayat (3) UU MK, Pasal 474 ayat (2) UU...</td>\n",
       "      <td>Pasal 74 ayat (3) UU MK, Pasal 474 ayat (2) UU...</td>\n",
       "      <td>Pasal 74 ayat (3) UU MK, Pasal 474 ayat (2) UU...</td>\n",
       "      <td>Pasal 74 ayat (3) UU MK, Pasal 474 ayat (2) UU...</td>\n",
       "      <td>d</td>\n",
       "      <td>Bahwa berdasarkan Pasal 74 ayat (3) UU MK, Pas...</td>\n",
       "      <td>3270_putusan_mkri_6508.pdf</td>\n",
       "      <td>Permohonan diajukan dalam jangka waktu paling ...</td>\n",
       "    </tr>\n",
       "    <tr>\n",
       "      <th>2</th>\n",
       "      <td>3</td>\n",
       "      <td>Pasal 1 ayat (3) UUD 1945 yang berbunyi…</td>\n",
       "      <td>Negara Indonesia adalah negara Hukum</td>\n",
       "      <td>Negara Indonesia adalah negara Islam</td>\n",
       "      <td>Negara Indonesia adalah negara liberal</td>\n",
       "      <td>Negara Indonesia adalah negara kepulauan</td>\n",
       "      <td>Negara Indonesia adalah negara Kristen</td>\n",
       "      <td>a</td>\n",
       "      <td>Pasal 1 ayat (3) UUD 1945 yang berbunyi \"Negar...</td>\n",
       "      <td>1338_putusan_sidang_114%20PUU%202012%20-%20KUH...</td>\n",
       "      <td>Pasal 1 ayat (3) UUD 1945 yang berbunyi…\\n A. ...</td>\n",
       "    </tr>\n",
       "    <tr>\n",
       "      <th>3</th>\n",
       "      <td>4</td>\n",
       "      <td>Bahwa dengan demikian norma Pasal 244 KUHAP te...</td>\n",
       "      <td>Pasal 21D ayat (1) UUD 1945</td>\n",
       "      <td>Pasal 22D ayat (1) UUD 1945</td>\n",
       "      <td>Pasal 23D ayat (1) UUD 1945</td>\n",
       "      <td>Pasal 24D ayat (1) UUD 1945</td>\n",
       "      <td>Pasal 28D ayat (1) UUD 1945</td>\n",
       "      <td>e</td>\n",
       "      <td>Bahwa dengan demikian norma Pasal 244 KUHAP te...</td>\n",
       "      <td>1338_putusan_sidang_114%2520PUU%25202012%2520-...</td>\n",
       "      <td>Bahwa dengan demikian norma Pasal 244 KUHAP te...</td>\n",
       "    </tr>\n",
       "    <tr>\n",
       "      <th>4</th>\n",
       "      <td>5</td>\n",
       "      <td>Bunyi rumusan Pasal 244 KUHAP...</td>\n",
       "      <td>Keputusan perkara pidana tidak dapat diberikan...</td>\n",
       "      <td>Terhadap putusan perkara pidana yang diberikan...</td>\n",
       "      <td>Terhadap putusan perkara pidana yang diberikan...</td>\n",
       "      <td>Mengenai kedudukan hukum para Pemohon Pemerint...</td>\n",
       "      <td>NaN</td>\n",
       "      <td>c</td>\n",
       "      <td>Bunyi rumusan Pasal 244 KUHAP adalah \"Terhadap...</td>\n",
       "      <td>1338_putusan_sidang_114%2520PUU%25202012%2520-...</td>\n",
       "      <td>Bunyi rumusan Pasal 244 KUHAP...\\n A.  Keputus...</td>\n",
       "    </tr>\n",
       "    <tr>\n",
       "      <th>...</th>\n",
       "      <td>...</td>\n",
       "      <td>...</td>\n",
       "      <td>...</td>\n",
       "      <td>...</td>\n",
       "      <td>...</td>\n",
       "      <td>...</td>\n",
       "      <td>...</td>\n",
       "      <td>...</td>\n",
       "      <td>...</td>\n",
       "      <td>...</td>\n",
       "      <td>...</td>\n",
       "    </tr>\n",
       "    <tr>\n",
       "      <th>95</th>\n",
       "      <td>96</td>\n",
       "      <td>Governors, regents and mayors, respectively, a...</td>\n",
       "      <td>1945 Constitution Article 18 paragraph (4)</td>\n",
       "      <td>1945 Constitution Article 22E paragraph (1)</td>\n",
       "      <td>1945 Constitution Article 27 paragraph (1)</td>\n",
       "      <td>1945 Constitution Article 28C paragraph (2)</td>\n",
       "      <td>1945 Constitution Article 28D paragraph (1)</td>\n",
       "      <td>a</td>\n",
       "      <td>1945 Constitution Article 18 paragraph (4): Go...</td>\n",
       "      <td>526_putusan_sidang_PUTUSAN%2520PUU%2520TOLI-TO...</td>\n",
       "      <td>Governors, regents and mayors, respectively, a...</td>\n",
       "    </tr>\n",
       "    <tr>\n",
       "      <th>96</th>\n",
       "      <td>97</td>\n",
       "      <td>General elections are held directly, publicly,...</td>\n",
       "      <td>1946 Constitution Article 18 paragraph (4)</td>\n",
       "      <td>1946 Constitution Article 22E paragraph (1)</td>\n",
       "      <td>1946 Constitution Article 27 paragraph (1)</td>\n",
       "      <td>1946 Constitution Article 28C paragraph (2)</td>\n",
       "      <td>1946 Constitution Article 28D paragraph (1)</td>\n",
       "      <td>b</td>\n",
       "      <td>1945 Constitution Article 22E paragraph (1): G...</td>\n",
       "      <td>526_putusan_sidang_PUTUSAN%2520PUU%2520TOLI-TO...</td>\n",
       "      <td>General elections are held directly, publicly,...</td>\n",
       "    </tr>\n",
       "    <tr>\n",
       "      <th>97</th>\n",
       "      <td>98</td>\n",
       "      <td>All citizens have the same position under the ...</td>\n",
       "      <td>1947 Constitution Article 18 paragraph (4)</td>\n",
       "      <td>1947 Constitution Article 22E paragraph (1)</td>\n",
       "      <td>1947 Constitution Article 27 paragraph (1)</td>\n",
       "      <td>1947 Constitution Article 28C paragraph (2)</td>\n",
       "      <td>1947 Constitution Article 28D paragraph (1)</td>\n",
       "      <td>c</td>\n",
       "      <td>1945 Constitution Article 27 paragraph (1): Al...</td>\n",
       "      <td>526_putusan_sidang_PUTUSAN%2520PUU%2520TOLI-TO...</td>\n",
       "      <td>All citizens have the same position under the ...</td>\n",
       "    </tr>\n",
       "    <tr>\n",
       "      <th>98</th>\n",
       "      <td>99</td>\n",
       "      <td>Everyone has the right to advance themselves i...</td>\n",
       "      <td>1948 Constitution Article 18 paragraph (4)</td>\n",
       "      <td>1948 Constitution Article 22E paragraph (1)</td>\n",
       "      <td>1948 Constitution Article 27 paragraph (1)</td>\n",
       "      <td>1948 Constitution Article 28C paragraph (2)</td>\n",
       "      <td>1948 Constitution Article 28D paragraph (1)</td>\n",
       "      <td>d</td>\n",
       "      <td>1945 Constitution Article 28C paragraph (2): E...</td>\n",
       "      <td>526_putusan_sidang_PUTUSAN%2520PUU%2520TOLI-TO...</td>\n",
       "      <td>Everyone has the right to advance themselves i...</td>\n",
       "    </tr>\n",
       "    <tr>\n",
       "      <th>99</th>\n",
       "      <td>100</td>\n",
       "      <td>Every person has the right to recognition, gua...</td>\n",
       "      <td>1949 Constitution Article 18 paragraph (4)</td>\n",
       "      <td>1949 Constitution Article 22E paragraph (1)</td>\n",
       "      <td>1949 Constitution Article 27 paragraph (1)</td>\n",
       "      <td>1949 Constitution Article 28C paragraph (2)</td>\n",
       "      <td>1949 Constitution Article 28D paragraph (1)</td>\n",
       "      <td>e</td>\n",
       "      <td>1945 Constitution Article 28D paragraph (1): E...</td>\n",
       "      <td>526_putusan_sidang_PUTUSAN%2520PUU%2520TOLI-TO...</td>\n",
       "      <td>Every person has the right to recognition, gua...</td>\n",
       "    </tr>\n",
       "  </tbody>\n",
       "</table>\n",
       "<p>100 rows × 11 columns</p>\n",
       "</div>"
      ],
      "text/plain": [
       "     no                                           question  \\\n",
       "0     1  Berdasarkan Pasal 24C ayat (1) Undang-Undang D...   \n",
       "1     2  Permohonan diajukan dalam jangka waktu paling ...   \n",
       "2     3           Pasal 1 ayat (3) UUD 1945 yang berbunyi…   \n",
       "3     4  Bahwa dengan demikian norma Pasal 244 KUHAP te...   \n",
       "4     5                   Bunyi rumusan Pasal 244 KUHAP...   \n",
       "..  ...                                                ...   \n",
       "95   96  Governors, regents and mayors, respectively, a...   \n",
       "96   97  General elections are held directly, publicly,...   \n",
       "97   98  All citizens have the same position under the ...   \n",
       "98   99  Everyone has the right to advance themselves i...   \n",
       "99  100  Every person has the right to recognition, gua...   \n",
       "\n",
       "                                                    a  \\\n",
       "0   Mahkamah Agung berwenang mengadili pada tingka...   \n",
       "1   Pasal 70 ayat (3) UU MK, Pasal 111 ayat (2) UU...   \n",
       "2                Negara Indonesia adalah negara Hukum   \n",
       "3                         Pasal 21D ayat (1) UUD 1945   \n",
       "4   Keputusan perkara pidana tidak dapat diberikan...   \n",
       "..                                                ...   \n",
       "95         1945 Constitution Article 18 paragraph (4)   \n",
       "96         1946 Constitution Article 18 paragraph (4)   \n",
       "97         1947 Constitution Article 18 paragraph (4)   \n",
       "98         1948 Constitution Article 18 paragraph (4)   \n",
       "99         1949 Constitution Article 18 paragraph (4)   \n",
       "\n",
       "                                                    b  \\\n",
       "0   Mahkamah Konstitusi berwenang mengadili pada t...   \n",
       "1   Pasal 74 ayat (3) UU MK, Pasal 474 ayat (2) UU...   \n",
       "2                Negara Indonesia adalah negara Islam   \n",
       "3                         Pasal 22D ayat (1) UUD 1945   \n",
       "4   Terhadap putusan perkara pidana yang diberikan...   \n",
       "..                                                ...   \n",
       "95        1945 Constitution Article 22E paragraph (1)   \n",
       "96        1946 Constitution Article 22E paragraph (1)   \n",
       "97        1947 Constitution Article 22E paragraph (1)   \n",
       "98        1948 Constitution Article 22E paragraph (1)   \n",
       "99        1949 Constitution Article 22E paragraph (1)   \n",
       "\n",
       "                                                    c  \\\n",
       "0   Kepolisian Negara Indonesia mengadili pada tin...   \n",
       "1   Pasal 74 ayat (3) UU MK, Pasal 474 ayat (2) UU...   \n",
       "2              Negara Indonesia adalah negara liberal   \n",
       "3                         Pasal 23D ayat (1) UUD 1945   \n",
       "4   Terhadap putusan perkara pidana yang diberikan...   \n",
       "..                                                ...   \n",
       "95         1945 Constitution Article 27 paragraph (1)   \n",
       "96         1946 Constitution Article 27 paragraph (1)   \n",
       "97         1947 Constitution Article 27 paragraph (1)   \n",
       "98         1948 Constitution Article 27 paragraph (1)   \n",
       "99         1949 Constitution Article 27 paragraph (1)   \n",
       "\n",
       "                                                    d  \\\n",
       "0   Presiden Republik Indonesia mengadili pada tin...   \n",
       "1   Pasal 74 ayat (3) UU MK, Pasal 474 ayat (2) UU...   \n",
       "2            Negara Indonesia adalah negara kepulauan   \n",
       "3                         Pasal 24D ayat (1) UUD 1945   \n",
       "4   Mengenai kedudukan hukum para Pemohon Pemerint...   \n",
       "..                                                ...   \n",
       "95        1945 Constitution Article 28C paragraph (2)   \n",
       "96        1946 Constitution Article 28C paragraph (2)   \n",
       "97        1947 Constitution Article 28C paragraph (2)   \n",
       "98        1948 Constitution Article 28C paragraph (2)   \n",
       "99        1949 Constitution Article 28C paragraph (2)   \n",
       "\n",
       "                                                    e answer  \\\n",
       "0   Tentara Negara Indonesia mengadili pada tingka...      b   \n",
       "1   Pasal 74 ayat (3) UU MK, Pasal 474 ayat (2) UU...      d   \n",
       "2              Negara Indonesia adalah negara Kristen      a   \n",
       "3                         Pasal 28D ayat (1) UUD 1945      e   \n",
       "4                                                 NaN      c   \n",
       "..                                                ...    ...   \n",
       "95        1945 Constitution Article 28D paragraph (1)      a   \n",
       "96        1946 Constitution Article 28D paragraph (1)      b   \n",
       "97        1947 Constitution Article 28D paragraph (1)      c   \n",
       "98        1948 Constitution Article 28D paragraph (1)      d   \n",
       "99        1949 Constitution Article 28D paragraph (1)      e   \n",
       "\n",
       "                                            explained  \\\n",
       "0   Mahkamah Konstitusi berwenang mengadili pada t...   \n",
       "1   Bahwa berdasarkan Pasal 74 ayat (3) UU MK, Pas...   \n",
       "2   Pasal 1 ayat (3) UUD 1945 yang berbunyi \"Negar...   \n",
       "3   Bahwa dengan demikian norma Pasal 244 KUHAP te...   \n",
       "4   Bunyi rumusan Pasal 244 KUHAP adalah \"Terhadap...   \n",
       "..                                                ...   \n",
       "95  1945 Constitution Article 18 paragraph (4): Go...   \n",
       "96  1945 Constitution Article 22E paragraph (1): G...   \n",
       "97  1945 Constitution Article 27 paragraph (1): Al...   \n",
       "98  1945 Constitution Article 28C paragraph (2): E...   \n",
       "99  1945 Constitution Article 28D paragraph (1): E...   \n",
       "\n",
       "                                               source  \\\n",
       "0                          3282_putusan_mkri_6516.pdf   \n",
       "1                          3270_putusan_mkri_6508.pdf   \n",
       "2   1338_putusan_sidang_114%20PUU%202012%20-%20KUH...   \n",
       "3   1338_putusan_sidang_114%2520PUU%25202012%2520-...   \n",
       "4   1338_putusan_sidang_114%2520PUU%25202012%2520-...   \n",
       "..                                                ...   \n",
       "95  526_putusan_sidang_PUTUSAN%2520PUU%2520TOLI-TO...   \n",
       "96  526_putusan_sidang_PUTUSAN%2520PUU%2520TOLI-TO...   \n",
       "97  526_putusan_sidang_PUTUSAN%2520PUU%2520TOLI-TO...   \n",
       "98  526_putusan_sidang_PUTUSAN%2520PUU%2520TOLI-TO...   \n",
       "99  526_putusan_sidang_PUTUSAN%2520PUU%2520TOLI-TO...   \n",
       "\n",
       "                                              qa_comb  \n",
       "0   Berdasarkan Pasal 24C ayat (1) Undang-Undang D...  \n",
       "1   Permohonan diajukan dalam jangka waktu paling ...  \n",
       "2   Pasal 1 ayat (3) UUD 1945 yang berbunyi…\\n A. ...  \n",
       "3   Bahwa dengan demikian norma Pasal 244 KUHAP te...  \n",
       "4   Bunyi rumusan Pasal 244 KUHAP...\\n A.  Keputus...  \n",
       "..                                                ...  \n",
       "95  Governors, regents and mayors, respectively, a...  \n",
       "96  General elections are held directly, publicly,...  \n",
       "97  All citizens have the same position under the ...  \n",
       "98  Everyone has the right to advance themselves i...  \n",
       "99  Every person has the right to recognition, gua...  \n",
       "\n",
       "[100 rows x 11 columns]"
      ]
     },
     "execution_count": 18,
     "metadata": {},
     "output_type": "execute_result"
    }
   ],
   "source": [
    "dataset = pd.read_csv('/kaggle/input/mkri-qa-3/dataset.csv',sep=';')\n",
    "dataset"
   ]
  },
  {
   "cell_type": "code",
   "execution_count": 19,
   "id": "326b1b95",
   "metadata": {
    "execution": {
     "iopub.execute_input": "2024-01-06T02:16:17.612768Z",
     "iopub.status.busy": "2024-01-06T02:16:17.612443Z",
     "iopub.status.idle": "2024-01-06T04:41:22.463402Z",
     "shell.execute_reply": "2024-01-06T04:41:22.462395Z"
    },
    "papermill": {
     "duration": 8704.939458,
     "end_time": "2024-01-06T04:41:22.517169",
     "exception": false,
     "start_time": "2024-01-06T02:16:17.577711",
     "status": "completed"
    },
    "tags": []
   },
   "outputs": [
    {
     "name": "stdout",
     "output_type": "stream",
     "text": [
      "Nomor:  1\n",
      "Berdasarkan Pasal 24C ayat (1) Undang-Undang Dasar Negara Republik Indonesia Tahun 1945 (selanjutnya disebut UUD 1945) menyatakan bahwa...\\n A.  Mahkamah Agung berwenang mengadili pada tingkat pertama dan terakhir yang putusannya bersifat final, antara lain, untuk memutus perselisihan tentang hasil pemilihan umum\\n B.  Mahkamah Konstitusi berwenang mengadili pada tingkat pertama dan terakhir yang putusannya bersifat final, antara lain, untuk memutus perselisihan tentang hasil pemilihan umum\\n C.  Kepolisian Negara Indonesia mengadili pada tingkat pertama dan terakhir yang putusannya bersifat final, antara lain, untuk memutus perselisihan tentang hasil pemilihan umum\\n D.  Presiden Republik Indonesia mengadili pada tingkat pertama dan terakhir yang putusannya bersifat final, antara lain, untuk memutus perselisihan tentang hasil pemilihan umum\\n E.  Tentara Negara Indonesia mengadili pada tingkat pertama dan terakhir yang putusannya bersifat final, antara lain, untuk memutus perselisihan tentang hasil pemilihan umum\n"
     ]
    },
    {
     "name": "stderr",
     "output_type": "stream",
     "text": [
      "/opt/conda/lib/python3.10/site-packages/langchain_core/_api/deprecation.py:189: LangChainDeprecationWarning: The function `__call__` was deprecated in LangChain 0.1.0 and will be removed in 0.2.0. Use invoke instead.\n",
      "  warn_deprecated(\n",
      "/opt/conda/lib/python3.10/site-packages/langchain_core/_api/deprecation.py:189: LangChainDeprecationWarning: The function `run` was deprecated in LangChain 0.1.0 and will be removed in 0.2.0. Use invoke instead.\n",
      "  warn_deprecated(\n",
      "/opt/conda/lib/python3.10/site-packages/langchain_core/_api/deprecation.py:189: LangChainDeprecationWarning: The function `__call__` was deprecated in LangChain 0.1.0 and will be removed in 0.2.0. Use invoke instead.\n",
      "  warn_deprecated(\n",
      "/opt/conda/lib/python3.10/site-packages/langchain_core/_api/deprecation.py:189: LangChainDeprecationWarning: The function `__call__` was deprecated in LangChain 0.1.0 and will be removed in 0.2.0. Use invoke instead.\n",
      "  warn_deprecated(\n"
     ]
    },
    {
     "name": "stdout",
     "output_type": "stream",
     "text": [
      " B. Mahkamah Konstitusi berwenang mengadili pada tingkat pertama dan terakhir yang putusannya bersifat final,\n",
      "antara lain, untuk memutus perselisihan tentang hasil pemilihan umum\n",
      "\n",
      "\n",
      "Sources:\n",
      "Time:  171.27881264686584\n",
      "==============================================\n",
      "Nomor:  2\n",
      "Permohonan diajukan dalam jangka waktu paling lama 3 X 24 (tiga kali dua puluh empat) jam sejak diumumkan penetapan perolehan suara hasil Pemilu Anggota DPR dan DPRD secara nasional oleh KPU, Isi dari pernyataan ini ada di pasal…\\n A.  Pasal 70 ayat (3) UU MK, Pasal 111 ayat (2) UU Pemilu, dan Pasal 6 ayat (1) PMK Nomor 2 Tahun 2018\\n B.  Pasal 74 ayat (3) UU MK, Pasal 474 ayat (2) UU Pemilu, dan Pasal 2 ayat (1) PMK Nomor 2 Tahun 2011\\n C.  Pasal 74 ayat (3) UU MK, Pasal 474 ayat (2) UU Pemilu, dan Pasal 1 ayat (1) PMK Nomor 2 Tahun 2018\\n D.  Pasal 74 ayat (3) UU MK, Pasal 474 ayat (2) UU Pemilu, dan Pasal 6 ayat (1) PMK Nomor 2 Tahun 2018\\n E.  Pasal 74 ayat (3) UU MK, Pasal 474 ayat (2) UU Pemilu, dan Pasal 4 ayat (1) PMK Nomor 2 Tahun 2018\n"
     ]
    },
    {
     "name": "stderr",
     "output_type": "stream",
     "text": [
      "/opt/conda/lib/python3.10/site-packages/langchain_core/_api/deprecation.py:189: LangChainDeprecationWarning: The function `__call__` was deprecated in LangChain 0.1.0 and will be removed in 0.2.0. Use invoke instead.\n",
      "  warn_deprecated(\n",
      "/opt/conda/lib/python3.10/site-packages/langchain_core/_api/deprecation.py:189: LangChainDeprecationWarning: The function `run` was deprecated in LangChain 0.1.0 and will be removed in 0.2.0. Use invoke instead.\n",
      "  warn_deprecated(\n",
      "/opt/conda/lib/python3.10/site-packages/langchain_core/_api/deprecation.py:189: LangChainDeprecationWarning: The function `__call__` was deprecated in LangChain 0.1.0 and will be removed in 0.2.0. Use invoke instead.\n",
      "  warn_deprecated(\n",
      "/opt/conda/lib/python3.10/site-packages/langchain_core/_api/deprecation.py:189: LangChainDeprecationWarning: The function `__call__` was deprecated in LangChain 0.1.0 and will be removed in 0.2.0. Use invoke instead.\n",
      "  warn_deprecated(\n"
     ]
    },
    {
     "name": "stdout",
     "output_type": "stream",
     "text": [
      " D. Pasal 74 ayat (3) UU MK, Pasal 474 ayat (2) UU Pemilu, dan Pasal 6 ayat (1) PMK Nomor 2 Tahun 2018\n",
      "\n",
      "\n",
      "Sources:\n",
      "Time:  159.83725380897522\n",
      "==============================================\n",
      "Nomor:  3\n",
      "Pasal 1 ayat (3) UUD 1945 yang berbunyi…\\n A.  Negara Indonesia adalah negara Hukum\\n B.  Negara Indonesia adalah negara Islam\\n C.  Negara Indonesia adalah negara liberal\\n D.  Negara Indonesia adalah negara kepulauan\\n E.  Negara Indonesia adalah negara Kristen\n"
     ]
    },
    {
     "name": "stderr",
     "output_type": "stream",
     "text": [
      "/opt/conda/lib/python3.10/site-packages/langchain_core/_api/deprecation.py:189: LangChainDeprecationWarning: The function `__call__` was deprecated in LangChain 0.1.0 and will be removed in 0.2.0. Use invoke instead.\n",
      "  warn_deprecated(\n",
      "/opt/conda/lib/python3.10/site-packages/langchain_core/_api/deprecation.py:189: LangChainDeprecationWarning: The function `run` was deprecated in LangChain 0.1.0 and will be removed in 0.2.0. Use invoke instead.\n",
      "  warn_deprecated(\n",
      "/opt/conda/lib/python3.10/site-packages/langchain_core/_api/deprecation.py:189: LangChainDeprecationWarning: The function `__call__` was deprecated in LangChain 0.1.0 and will be removed in 0.2.0. Use invoke instead.\n",
      "  warn_deprecated(\n",
      "/opt/conda/lib/python3.10/site-packages/langchain_core/_api/deprecation.py:189: LangChainDeprecationWarning: The function `__call__` was deprecated in LangChain 0.1.0 and will be removed in 0.2.0. Use invoke instead.\n",
      "  warn_deprecated(\n"
     ]
    },
    {
     "name": "stdout",
     "output_type": "stream",
     "text": [
      " A. Negara Indonesia adalah negara Hukum\n",
      "\n",
      "\n",
      "Sources:\n",
      "Time:  51.29987072944641\n",
      "==============================================\n",
      "Nomor:  4\n",
      "Bahwa dengan demikian norma Pasal 244 KUHAP telah menimbulkan ketidak-pastian bagi Pemohon dan bahwa ketidak-pastian ini telah merugikan Hak Konstitusionalnya sebagaimana ditentukan dalam…\\n A.  Pasal 21D ayat (1) UUD 1945\\n B.  Pasal 22D ayat (1) UUD 1945\\n C.  Pasal 23D ayat (1) UUD 1945\\n D.  Pasal 24D ayat (1) UUD 1945\\n E.  Pasal 28D ayat (1) UUD 1945\n"
     ]
    },
    {
     "name": "stderr",
     "output_type": "stream",
     "text": [
      "/opt/conda/lib/python3.10/site-packages/langchain_core/_api/deprecation.py:189: LangChainDeprecationWarning: The function `__call__` was deprecated in LangChain 0.1.0 and will be removed in 0.2.0. Use invoke instead.\n",
      "  warn_deprecated(\n",
      "/opt/conda/lib/python3.10/site-packages/langchain_core/_api/deprecation.py:189: LangChainDeprecationWarning: The function `run` was deprecated in LangChain 0.1.0 and will be removed in 0.2.0. Use invoke instead.\n",
      "  warn_deprecated(\n",
      "/opt/conda/lib/python3.10/site-packages/langchain_core/_api/deprecation.py:189: LangChainDeprecationWarning: The function `__call__` was deprecated in LangChain 0.1.0 and will be removed in 0.2.0. Use invoke instead.\n",
      "  warn_deprecated(\n",
      "/opt/conda/lib/python3.10/site-packages/langchain_core/_api/deprecation.py:189: LangChainDeprecationWarning: The function `__call__` was deprecated in LangChain 0.1.0 and will be removed in 0.2.0. Use invoke instead.\n",
      "  warn_deprecated(\n"
     ]
    },
    {
     "name": "stdout",
     "output_type": "stream",
     "text": [
      " B. Pasal 22D ayat (1) UUD 1945\n",
      "\n",
      "\n",
      "Sources:\n",
      "Time:  81.13445520401001\n",
      "==============================================\n",
      "Nomor:  5\n",
      "Bunyi rumusan Pasal 244 KUHAP...\\n A.  Keputusan perkara pidana tidak dapat diberikan oleh Mahkamah Agung, hanya boleh diberikan oleh Mahkamah Konsitusi.\\n B.  Terhadap putusan perkara pidana yang diberikan pada tingkat terakhir oleh pengadilan lain selain daripada Mahkamah Agung, terdakwa atau Penuntut Umum dapat mengajukan permintaan pemeriksaan kasasi kepada Mahkamah Agung terhadap putusan bebas.\\n C.  Terhadap putusan perkara pidana yang diberikan pada tingkat terakhir oleh pengadilan lain selain daripada Mahkamah Agung, terdakwa atau Penuntut Umum dapat mengajukan permintaan pemeriksaan kasasi kepada Mahkamah Agung kecuali terhadap putusan bebas.\\n D.  Mengenai kedudukan hukum para Pemohon Pemerintah menyerahkansepenuhnya kepada Majelis Hakim untuk menilai dan memutusnya.\\n E.  \n"
     ]
    },
    {
     "name": "stderr",
     "output_type": "stream",
     "text": [
      "/opt/conda/lib/python3.10/site-packages/langchain_core/_api/deprecation.py:189: LangChainDeprecationWarning: The function `__call__` was deprecated in LangChain 0.1.0 and will be removed in 0.2.0. Use invoke instead.\n",
      "  warn_deprecated(\n",
      "/opt/conda/lib/python3.10/site-packages/langchain_core/_api/deprecation.py:189: LangChainDeprecationWarning: The function `run` was deprecated in LangChain 0.1.0 and will be removed in 0.2.0. Use invoke instead.\n",
      "  warn_deprecated(\n",
      "/opt/conda/lib/python3.10/site-packages/langchain_core/_api/deprecation.py:189: LangChainDeprecationWarning: The function `__call__` was deprecated in LangChain 0.1.0 and will be removed in 0.2.0. Use invoke instead.\n",
      "  warn_deprecated(\n",
      "/opt/conda/lib/python3.10/site-packages/langchain_core/_api/deprecation.py:189: LangChainDeprecationWarning: The function `__call__` was deprecated in LangChain 0.1.0 and will be removed in 0.2.0. Use invoke instead.\n",
      "  warn_deprecated(\n"
     ]
    },
    {
     "name": "stdout",
     "output_type": "stream",
     "text": [
      " B. Terhadap putusan perkara pidana yang diberikan pada tingkat terakhir oleh pengadilan lain selain daripada\n",
      "Mahkamah Agung, terdakwa atau Penuntut Umum dapat mengajukan permintaan pemeriksaan kasasi kepada Mahkamah\n",
      "Agung terhadap putusan bebas.\n",
      "\n",
      "\n",
      "Sources:\n",
      "Time:  148.98398804664612\n",
      "==============================================\n",
      "Nomor:  6\n",
      "Segala warga negara bersamaankedudukannya di dalam hukum dan Pemerintahan dan wajib menjunjung hukum dan pemerintahan itu dengan tidak ada kecualinya, ada pada pasal…\\n A.  Pasal 27 ayat (1)\\n B.  Pasal 28C ayat (2)\\n C.  Pasal 28D ayat (1)\\n D.  Pasal 28E ayat (3)\\n E.  Pasal 28I ayat (2)\n"
     ]
    },
    {
     "name": "stderr",
     "output_type": "stream",
     "text": [
      "/opt/conda/lib/python3.10/site-packages/langchain_core/_api/deprecation.py:189: LangChainDeprecationWarning: The function `__call__` was deprecated in LangChain 0.1.0 and will be removed in 0.2.0. Use invoke instead.\n",
      "  warn_deprecated(\n",
      "/opt/conda/lib/python3.10/site-packages/langchain_core/_api/deprecation.py:189: LangChainDeprecationWarning: The function `run` was deprecated in LangChain 0.1.0 and will be removed in 0.2.0. Use invoke instead.\n",
      "  warn_deprecated(\n",
      "/opt/conda/lib/python3.10/site-packages/langchain_core/_api/deprecation.py:189: LangChainDeprecationWarning: The function `__call__` was deprecated in LangChain 0.1.0 and will be removed in 0.2.0. Use invoke instead.\n",
      "  warn_deprecated(\n",
      "/opt/conda/lib/python3.10/site-packages/langchain_core/_api/deprecation.py:189: LangChainDeprecationWarning: The function `__call__` was deprecated in LangChain 0.1.0 and will be removed in 0.2.0. Use invoke instead.\n",
      "  warn_deprecated(\n"
     ]
    },
    {
     "name": "stdout",
     "output_type": "stream",
     "text": [
      " A.  Pasal 27 ayat (1)\n",
      "\n",
      "\n",
      "Sources:\n",
      "Time:  62.94717025756836\n",
      "==============================================\n",
      "Nomor:  7\n",
      "Setiap orang berhak untuk memajukan dirinya dalam memperjuangkan haknya secara kolektif untuk membangun masyarakat, bangsa, dan negaranya, ada pada pasal...\\n A.  Pasal 27 ayat (1)\\n B.  Pasal 28C ayat (2)\\n C.  Pasal 28D ayat (1)\\n D.  Pasal 28E ayat (3)\\n E.  Pasal 28I ayat (2)\n"
     ]
    },
    {
     "name": "stderr",
     "output_type": "stream",
     "text": [
      "/opt/conda/lib/python3.10/site-packages/langchain_core/_api/deprecation.py:189: LangChainDeprecationWarning: The function `__call__` was deprecated in LangChain 0.1.0 and will be removed in 0.2.0. Use invoke instead.\n",
      "  warn_deprecated(\n",
      "/opt/conda/lib/python3.10/site-packages/langchain_core/_api/deprecation.py:189: LangChainDeprecationWarning: The function `run` was deprecated in LangChain 0.1.0 and will be removed in 0.2.0. Use invoke instead.\n",
      "  warn_deprecated(\n",
      "/opt/conda/lib/python3.10/site-packages/langchain_core/_api/deprecation.py:189: LangChainDeprecationWarning: The function `__call__` was deprecated in LangChain 0.1.0 and will be removed in 0.2.0. Use invoke instead.\n",
      "  warn_deprecated(\n",
      "/opt/conda/lib/python3.10/site-packages/langchain_core/_api/deprecation.py:189: LangChainDeprecationWarning: The function `__call__` was deprecated in LangChain 0.1.0 and will be removed in 0.2.0. Use invoke instead.\n",
      "  warn_deprecated(\n"
     ]
    },
    {
     "name": "stdout",
     "output_type": "stream",
     "text": [
      " A.  Pasal 27 ayat (1)\n",
      "\n",
      "\n",
      "Sources:\n",
      "Time:  61.63489270210266\n",
      "==============================================\n",
      "Nomor:  8\n",
      "Setiap orang berhak atas pengakuan, jaminan, perlindungan dan kepastian hukum yang adil serta perlakuan yang sama di hadapan hukum, ada pada pasal…\\n A.  Pasal 27 ayat (1)\\n B.  Pasal 28C ayat (2)\\n C.  Pasal 28D ayat (1)\\n D.  Pasal 28E ayat (3)\\n E.  Pasal 28I ayat (2)\n"
     ]
    },
    {
     "name": "stderr",
     "output_type": "stream",
     "text": [
      "/opt/conda/lib/python3.10/site-packages/langchain_core/_api/deprecation.py:189: LangChainDeprecationWarning: The function `__call__` was deprecated in LangChain 0.1.0 and will be removed in 0.2.0. Use invoke instead.\n",
      "  warn_deprecated(\n",
      "/opt/conda/lib/python3.10/site-packages/langchain_core/_api/deprecation.py:189: LangChainDeprecationWarning: The function `run` was deprecated in LangChain 0.1.0 and will be removed in 0.2.0. Use invoke instead.\n",
      "  warn_deprecated(\n",
      "/opt/conda/lib/python3.10/site-packages/langchain_core/_api/deprecation.py:189: LangChainDeprecationWarning: The function `__call__` was deprecated in LangChain 0.1.0 and will be removed in 0.2.0. Use invoke instead.\n",
      "  warn_deprecated(\n",
      "/opt/conda/lib/python3.10/site-packages/langchain_core/_api/deprecation.py:189: LangChainDeprecationWarning: The function `__call__` was deprecated in LangChain 0.1.0 and will be removed in 0.2.0. Use invoke instead.\n",
      "  warn_deprecated(\n"
     ]
    },
    {
     "name": "stdout",
     "output_type": "stream",
     "text": [
      " A.  Pasal 27 ayat (1)\n",
      "\n",
      "\n",
      "Sources:\n",
      "Time:  61.51788306236267\n",
      "==============================================\n",
      "Nomor:  9\n",
      "Setiap orang berhak atas kebebasan berserikat, berkumpul, dan mengeluarkan pendapat, ada pada pasal…\\n A.  Pasal 27 ayat (1)\\n B.  Pasal 28C ayat (2)\\n C.  Pasal 28D ayat (1)\\n D.  Pasal 28E ayat (3)\\n E.  Pasal 28I ayat (2)\n"
     ]
    },
    {
     "name": "stderr",
     "output_type": "stream",
     "text": [
      "/opt/conda/lib/python3.10/site-packages/langchain_core/_api/deprecation.py:189: LangChainDeprecationWarning: The function `__call__` was deprecated in LangChain 0.1.0 and will be removed in 0.2.0. Use invoke instead.\n",
      "  warn_deprecated(\n",
      "/opt/conda/lib/python3.10/site-packages/langchain_core/_api/deprecation.py:189: LangChainDeprecationWarning: The function `run` was deprecated in LangChain 0.1.0 and will be removed in 0.2.0. Use invoke instead.\n",
      "  warn_deprecated(\n",
      "/opt/conda/lib/python3.10/site-packages/langchain_core/_api/deprecation.py:189: LangChainDeprecationWarning: The function `__call__` was deprecated in LangChain 0.1.0 and will be removed in 0.2.0. Use invoke instead.\n",
      "  warn_deprecated(\n",
      "/opt/conda/lib/python3.10/site-packages/langchain_core/_api/deprecation.py:189: LangChainDeprecationWarning: The function `__call__` was deprecated in LangChain 0.1.0 and will be removed in 0.2.0. Use invoke instead.\n",
      "  warn_deprecated(\n"
     ]
    },
    {
     "name": "stdout",
     "output_type": "stream",
     "text": [
      " A.  Pasal 27 ayat (1)\n",
      "\n",
      "\n",
      "Sources:\n",
      "Time:  55.639126777648926\n",
      "==============================================\n",
      "Nomor:  10\n",
      "Setiap orang berhak bebas dari perlakuan yang bersifat diskriminatif atas dasar apapun dan berhak mendapatkan perlindungan terhadap perlakuan yang bersifat diskriminatif itu, ada pada pasal...\\n A.  Pasal 27 ayat (1)\\n B.  Pasal 28C ayat (2)\\n C.  Pasal 28D ayat (1)\\n D.  Pasal 28E ayat (3)\\n E.  Pasal 28I ayat (2)\n"
     ]
    },
    {
     "name": "stderr",
     "output_type": "stream",
     "text": [
      "/opt/conda/lib/python3.10/site-packages/langchain_core/_api/deprecation.py:189: LangChainDeprecationWarning: The function `__call__` was deprecated in LangChain 0.1.0 and will be removed in 0.2.0. Use invoke instead.\n",
      "  warn_deprecated(\n",
      "/opt/conda/lib/python3.10/site-packages/langchain_core/_api/deprecation.py:189: LangChainDeprecationWarning: The function `run` was deprecated in LangChain 0.1.0 and will be removed in 0.2.0. Use invoke instead.\n",
      "  warn_deprecated(\n",
      "/opt/conda/lib/python3.10/site-packages/langchain_core/_api/deprecation.py:189: LangChainDeprecationWarning: The function `__call__` was deprecated in LangChain 0.1.0 and will be removed in 0.2.0. Use invoke instead.\n",
      "  warn_deprecated(\n",
      "/opt/conda/lib/python3.10/site-packages/langchain_core/_api/deprecation.py:189: LangChainDeprecationWarning: The function `__call__` was deprecated in LangChain 0.1.0 and will be removed in 0.2.0. Use invoke instead.\n",
      "  warn_deprecated(\n"
     ]
    },
    {
     "name": "stdout",
     "output_type": "stream",
     "text": [
      " A.  Pasal 27 ayat (1)\n",
      "\n",
      "\n",
      "Sources:\n",
      "Time:  66.7141010761261\n",
      "==============================================\n",
      "Nomor:  11\n",
      "Pemohon dapat menarik kembali permohonannya sebelum atau selama pemeriksaan Mahkamah Konstitusi dilakukan, dan penarikan kembali tersebut mengakibatkan permohonan tidak dapat diajukan kembali, ada di pasal...\\n A.  Pasal 31 Undang-Undang Nomor 24 Tahun 2003 tentang Mahkamah Konstitusi\\n B.  Pasal 32 Undang-Undang Nomor 24 Tahun 2003 tentang Mahkamah Konstitusi\\n C.  Pasal 35 Undang-Undang Nomor 23 Tahun 2003 tentang Mahkamah Konstitusi\\n D.  Pasal 35 Undang-Undang Nomor 24 Tahun 2003 tentang Mahkamah Konstitusi\\n E.  Pasal 35 Undang-Undang Nomor 25 Tahun 2003 tentang Mahkamah Konstitusi\n"
     ]
    },
    {
     "name": "stderr",
     "output_type": "stream",
     "text": [
      "/opt/conda/lib/python3.10/site-packages/langchain_core/_api/deprecation.py:189: LangChainDeprecationWarning: The function `__call__` was deprecated in LangChain 0.1.0 and will be removed in 0.2.0. Use invoke instead.\n",
      "  warn_deprecated(\n",
      "/opt/conda/lib/python3.10/site-packages/langchain_core/_api/deprecation.py:189: LangChainDeprecationWarning: The function `run` was deprecated in LangChain 0.1.0 and will be removed in 0.2.0. Use invoke instead.\n",
      "  warn_deprecated(\n",
      "/opt/conda/lib/python3.10/site-packages/langchain_core/_api/deprecation.py:189: LangChainDeprecationWarning: The function `__call__` was deprecated in LangChain 0.1.0 and will be removed in 0.2.0. Use invoke instead.\n",
      "  warn_deprecated(\n",
      "/opt/conda/lib/python3.10/site-packages/langchain_core/_api/deprecation.py:189: LangChainDeprecationWarning: The function `__call__` was deprecated in LangChain 0.1.0 and will be removed in 0.2.0. Use invoke instead.\n",
      "  warn_deprecated(\n"
     ]
    },
    {
     "name": "stdout",
     "output_type": "stream",
     "text": [
      " D. Pasal 35 Undang-Undang Nomor 24 Tahun 2003 tentang Mahkamah Konstitusi\n",
      "\n",
      "\n",
      "Sources:\n",
      "Time:  112.87431144714355\n",
      "==============================================\n",
      "Nomor:  12\n",
      "Tentang Pemilihan Umum Anggota DPR, DPD, dan DPRD menyebutkan bahwa peserta pemilu dan warga masyarakat melalui saksi peserta pemilu yang hadir dapat mengajukan keberatan terhadap jalannya dan hasil perhitungan suara di TPS, PPS, PPK, KPUD Kota/Kabupaten, KPU Provinsi, dan KPU Pusat apabila ternyata terdapat hal-hal yang tidak sesuai dengan peraturan perundang-undangan, ada pada...\\n A.  Pasal 96 ayat (8), Pasal 95 ayat (3), Pasal 98 ayat (3), Pasal 99 ayat (5), Pasal 100 ayat (5), dan Pasal 101 ayat (6)\\n B.  Pasal 96 ayat (8), Pasal 95 ayat (1), Pasal 98 ayat (3), Pasal 99 ayat (5), Pasal 100 ayat (5), dan Pasal 101 ayat (6)\\n C.  Pasal 96 ayat (8), Pasal 96 ayat (3), Pasal 98 ayat (3), Pasal 99 ayat (5), Pasal 100 ayat (5), dan Pasal 101 ayat (6)\\n D.  Pasal 96 ayat (8), Pasal 97 ayat (9), Pasal 98 ayat (3), Pasal 99 ayat (5), Pasal 100 ayat (5), dan Pasal 101 ayat (6)\\n E.  Pasal 96 ayat (8), Pasal 97 ayat (3), Pasal 98 ayat (3), Pasal 99 ayat (5), Pasal 100 ayat (5), dan Pasal 101 ayat (6)\n"
     ]
    },
    {
     "name": "stderr",
     "output_type": "stream",
     "text": [
      "/opt/conda/lib/python3.10/site-packages/langchain_core/_api/deprecation.py:189: LangChainDeprecationWarning: The function `__call__` was deprecated in LangChain 0.1.0 and will be removed in 0.2.0. Use invoke instead.\n",
      "  warn_deprecated(\n",
      "/opt/conda/lib/python3.10/site-packages/langchain_core/_api/deprecation.py:189: LangChainDeprecationWarning: The function `run` was deprecated in LangChain 0.1.0 and will be removed in 0.2.0. Use invoke instead.\n",
      "  warn_deprecated(\n",
      "/opt/conda/lib/python3.10/site-packages/langchain_core/_api/deprecation.py:189: LangChainDeprecationWarning: The function `__call__` was deprecated in LangChain 0.1.0 and will be removed in 0.2.0. Use invoke instead.\n",
      "  warn_deprecated(\n",
      "/opt/conda/lib/python3.10/site-packages/langchain_core/_api/deprecation.py:189: LangChainDeprecationWarning: The function `__call__` was deprecated in LangChain 0.1.0 and will be removed in 0.2.0. Use invoke instead.\n",
      "  warn_deprecated(\n"
     ]
    },
    {
     "name": "stdout",
     "output_type": "stream",
     "text": [
      " E. Pasal 96 ayat (8), Pasal 97 ayat (3), Pasal 98 ayat (3), Pasal 99 ayat (5), Pasal 100 ayat (5), dan Pasal\n",
      "101 ayat (6)\n",
      "\n",
      "\n",
      "Sources:\n",
      "Time:  188.91824293136597\n",
      "==============================================\n",
      "Nomor:  13\n",
      "Pada pokoknya menyebutkan permohonan hanya dapat dilakukan terhadap Penetapan hasil Pemilihan Umum yang dilakukan secara nasional oleh Komisi Pemilihan Umum yang mempengaruhi terpilihnya calon anggota DPD, Penentuan pasangan calon Presiden dan Wakil Presiden dan Perolehan Kursi Partai Politik, pada...\\n A.  Bahwa pasal 74 ayat (2) Undang-undang nomor 24 Tahun 2003 tentang Mahkamah Konstitusi, Undang-undang nomor 12 Tahun 2003 tentang Pemilihan Umum Anggota DPR, DPD, DPRD\\n B.  Bahwa pasal 73 ayat (2) Undang-undang nomor 24 Tahun 2003 tentang Mahkamah Konstitusi, Undang-undang nomor 12 Tahun 2003 tentang Pemilihan Umum Anggota DPR, DPD, DPRD\\n C.  Bahwa pasal 72 ayat (2) Undang-undang nomor 24 Tahun 2003 tentang Mahkamah Konstitusi, Undang-undang nomor 12 Tahun 2003 tentang Pemilihan Umum Anggota DPR, DPD, DPRD\\n D.  Bahwa pasal 71 ayat (2) Undang-undang nomor 24 Tahun 2003 tentang Mahkamah Konstitusi, Undang-undang nomor 12 Tahun 2003 tentang Pemilihan Umum Anggota DPR, DPD, DPRD\\n E.  Bahwa pasal 70 ayat (2) Undang-undang nomor 24 Tahun 2003 tentang Mahkamah Konstitusi, Undang-undang nomor 12 Tahun 2003 tentang Pemilihan Umum Anggota DPR, DPD, DPRD\n"
     ]
    },
    {
     "name": "stderr",
     "output_type": "stream",
     "text": [
      "/opt/conda/lib/python3.10/site-packages/langchain_core/_api/deprecation.py:189: LangChainDeprecationWarning: The function `__call__` was deprecated in LangChain 0.1.0 and will be removed in 0.2.0. Use invoke instead.\n",
      "  warn_deprecated(\n",
      "/opt/conda/lib/python3.10/site-packages/langchain_core/_api/deprecation.py:189: LangChainDeprecationWarning: The function `run` was deprecated in LangChain 0.1.0 and will be removed in 0.2.0. Use invoke instead.\n",
      "  warn_deprecated(\n",
      "/opt/conda/lib/python3.10/site-packages/langchain_core/_api/deprecation.py:189: LangChainDeprecationWarning: The function `__call__` was deprecated in LangChain 0.1.0 and will be removed in 0.2.0. Use invoke instead.\n",
      "  warn_deprecated(\n",
      "/opt/conda/lib/python3.10/site-packages/langchain_core/_api/deprecation.py:189: LangChainDeprecationWarning: The function `__call__` was deprecated in LangChain 0.1.0 and will be removed in 0.2.0. Use invoke instead.\n",
      "  warn_deprecated(\n"
     ]
    },
    {
     "name": "stdout",
     "output_type": "stream",
     "text": [
      " E. Bahwa pasal 70 ayat (2) Undang-undang nomor 24 Tahun 2003 tentang Mahkamah Konstitusi, Undang-undang nomor\n",
      "12 Tahun 2003 tentang Pemilihan Umum Anggota DPR, DPD, DPRD\n",
      "\n",
      "\n",
      "Sources:\n",
      "Time:  206.78520941734314\n",
      "==============================================\n",
      "Nomor:  14\n",
      "Bahwa seandainya Permohonan pemohon diterima, quod non, pasal 96 ayat (8), pasal 97 ayat (3), pasal 98 ayat (3), pasal 99 ayat (5), pasal 100 ayat (5) dan pasal 101 ayat (6) UU No. 12 tahun 2003 tentang Pemilihan Umum Anggota DPR, DPD, DPRD, berbunyi...\\n A.  Menyebutkan bahwa peserta Pemilu dan warga masyarakat yang mengikuti pemilihan umum harus warga negara Indonesia yang salah secara hukum\\n B.  Menyebutkan bahwa peserta Pemilu dan warga masyarakat melalui saksi peserta pemilu yang hadir dapat mengajukan keberatan terhadap jalannya dan hasil penghitungan suara di TPS, PPS, PPK KPUD Kota/Kabupaten, KPUD Propinsi dan KPU Pusat apabila ternyata terdapat hal-hal yang tidak sesuai dengan peraturan perundang-undangan\\n C.  Menyebutkan bahwa perhitungan suara dilakukan oleh RT/RW sekitar agar lebih baik\\n D.  Menyebutkan bahwa peserta penyedia TPU harus ada saksi dari masing-masing partai yang mengikutkan calon mereka\\n E.  Menyebutkan bahwa peserta harus sesuai dengan aturan\n"
     ]
    },
    {
     "name": "stderr",
     "output_type": "stream",
     "text": [
      "/opt/conda/lib/python3.10/site-packages/langchain_core/_api/deprecation.py:189: LangChainDeprecationWarning: The function `__call__` was deprecated in LangChain 0.1.0 and will be removed in 0.2.0. Use invoke instead.\n",
      "  warn_deprecated(\n",
      "/opt/conda/lib/python3.10/site-packages/langchain_core/_api/deprecation.py:189: LangChainDeprecationWarning: The function `run` was deprecated in LangChain 0.1.0 and will be removed in 0.2.0. Use invoke instead.\n",
      "  warn_deprecated(\n",
      "/opt/conda/lib/python3.10/site-packages/langchain_core/_api/deprecation.py:189: LangChainDeprecationWarning: The function `__call__` was deprecated in LangChain 0.1.0 and will be removed in 0.2.0. Use invoke instead.\n",
      "  warn_deprecated(\n",
      "/opt/conda/lib/python3.10/site-packages/langchain_core/_api/deprecation.py:189: LangChainDeprecationWarning: The function `__call__` was deprecated in LangChain 0.1.0 and will be removed in 0.2.0. Use invoke instead.\n",
      "  warn_deprecated(\n"
     ]
    },
    {
     "name": "stdout",
     "output_type": "stream",
     "text": [
      " D. Menyebutkan bahwa peserta penyedia TPU harus ada saksi dari masing-masing partai yang mengikutkan calon\n",
      "mereka\n",
      "\n",
      "\n",
      "Sources:\n",
      "Time:  160.9913125038147\n",
      "==============================================\n",
      "Nomor:  15\n",
      "Warga negara yang mempunyai hak pilih, pemantau pemilu dan/atau peserta pemilu dapat melaporkan pelanggaran pemilu pada setiap tahapan penyelenggaraan pemilu kepada Pengawas Pemilu (Panwaslu), ada di...\\n A.  Pasal 121 ayat (1) dan ayat (2) UU No. 12 Tahun 2003\\n B.  Pasal 122 ayat (1) dan ayat (2) UU No. 12 Tahun 2003\\n C.  Pasal 127 ayat (1) dan ayat (2) UU No. 12 Tahun 2003\\n D.  Pasal 126 ayat (1) dan ayat (2) UU No. 12 Tahun 2003\\n E.  Pasal 125 ayat (1) dan ayat (2) UU No. 12 Tahun 2003\n"
     ]
    },
    {
     "name": "stderr",
     "output_type": "stream",
     "text": [
      "/opt/conda/lib/python3.10/site-packages/langchain_core/_api/deprecation.py:189: LangChainDeprecationWarning: The function `__call__` was deprecated in LangChain 0.1.0 and will be removed in 0.2.0. Use invoke instead.\n",
      "  warn_deprecated(\n",
      "/opt/conda/lib/python3.10/site-packages/langchain_core/_api/deprecation.py:189: LangChainDeprecationWarning: The function `run` was deprecated in LangChain 0.1.0 and will be removed in 0.2.0. Use invoke instead.\n",
      "  warn_deprecated(\n",
      "/opt/conda/lib/python3.10/site-packages/langchain_core/_api/deprecation.py:189: LangChainDeprecationWarning: The function `__call__` was deprecated in LangChain 0.1.0 and will be removed in 0.2.0. Use invoke instead.\n",
      "  warn_deprecated(\n",
      "/opt/conda/lib/python3.10/site-packages/langchain_core/_api/deprecation.py:189: LangChainDeprecationWarning: The function `__call__` was deprecated in LangChain 0.1.0 and will be removed in 0.2.0. Use invoke instead.\n",
      "  warn_deprecated(\n"
     ]
    },
    {
     "name": "stdout",
     "output_type": "stream",
     "text": [
      " D.  Pasal 126 ayat (1) dan ayat (2) UU No. 12 Tahun 2003\n",
      "\n",
      "\n",
      "Sources:\n",
      "Time:  111.65682792663574\n",
      "==============================================\n",
      "Nomor:  16\n",
      "Laporan yang bersifat sengketa dan tidak mengandung unsur pidana diselesaikan oleh Pengawas Pemilu dan yang berunsur pidana diteruskan ke penyidik dan yang bersifat administratif diteruskan ke KPU, dinyatakan dalam…\\n A.  Pasal 128 dan 130 UU No. 12 tahun 2003\\n B.  Pasal 127 dan 130 UU No. 12 tahun 2003\\n C.  Pasal 126 dan 130 UU No. 12 tahun 2003\\n D.  Pasal 125 dan 130 UU No. 12 tahun 2003\\n E.  Pasal 124 dan 130 UU No. 12 tahun 2003\n"
     ]
    },
    {
     "name": "stderr",
     "output_type": "stream",
     "text": [
      "/opt/conda/lib/python3.10/site-packages/langchain_core/_api/deprecation.py:189: LangChainDeprecationWarning: The function `__call__` was deprecated in LangChain 0.1.0 and will be removed in 0.2.0. Use invoke instead.\n",
      "  warn_deprecated(\n",
      "/opt/conda/lib/python3.10/site-packages/langchain_core/_api/deprecation.py:189: LangChainDeprecationWarning: The function `run` was deprecated in LangChain 0.1.0 and will be removed in 0.2.0. Use invoke instead.\n",
      "  warn_deprecated(\n",
      "/opt/conda/lib/python3.10/site-packages/langchain_core/_api/deprecation.py:189: LangChainDeprecationWarning: The function `__call__` was deprecated in LangChain 0.1.0 and will be removed in 0.2.0. Use invoke instead.\n",
      "  warn_deprecated(\n",
      "/opt/conda/lib/python3.10/site-packages/langchain_core/_api/deprecation.py:189: LangChainDeprecationWarning: The function `__call__` was deprecated in LangChain 0.1.0 and will be removed in 0.2.0. Use invoke instead.\n",
      "  warn_deprecated(\n"
     ]
    },
    {
     "name": "stdout",
     "output_type": "stream",
     "text": [
      " D. Pasal 125 dan 130 UU No. 12 tahun 2003\n",
      "\n",
      "\n",
      "Sources:\n",
      "Time:  97.04903268814087\n",
      "==============================================\n",
      "Nomor:  17\n",
      "Pemohon turut mencalonkan diri sebagai Calon Presiden dan atau Calon Wakil Presiden adalah berdasarkan hak dan kewajiban Pemohon sebagai warga negara Republik Indonesia yang dibenarkan, disahkan, dijamin dan dilindungi oleh, Salah satu dari daftar pasal adalah...\\n A.  Pasal 21 A ayat 1 UUD Negara RI Tahun 1945\\n B.  Pasal 20 A ayat 1 UUD Negara RI Tahun 1945\\n C.  Pembukaan UUD Negara RI Tahun 1945\\n D.  Pasal 10 A ayat 1 UUD Negara RI Tahun 1945\\n E.  Pasal 10 B ayat 1 UUD Negara RI Tahun 1945\n"
     ]
    },
    {
     "name": "stderr",
     "output_type": "stream",
     "text": [
      "/opt/conda/lib/python3.10/site-packages/langchain_core/_api/deprecation.py:189: LangChainDeprecationWarning: The function `__call__` was deprecated in LangChain 0.1.0 and will be removed in 0.2.0. Use invoke instead.\n",
      "  warn_deprecated(\n",
      "/opt/conda/lib/python3.10/site-packages/langchain_core/_api/deprecation.py:189: LangChainDeprecationWarning: The function `run` was deprecated in LangChain 0.1.0 and will be removed in 0.2.0. Use invoke instead.\n",
      "  warn_deprecated(\n",
      "/opt/conda/lib/python3.10/site-packages/langchain_core/_api/deprecation.py:189: LangChainDeprecationWarning: The function `__call__` was deprecated in LangChain 0.1.0 and will be removed in 0.2.0. Use invoke instead.\n",
      "  warn_deprecated(\n",
      "/opt/conda/lib/python3.10/site-packages/langchain_core/_api/deprecation.py:189: LangChainDeprecationWarning: The function `__call__` was deprecated in LangChain 0.1.0 and will be removed in 0.2.0. Use invoke instead.\n",
      "  warn_deprecated(\n"
     ]
    },
    {
     "name": "stdout",
     "output_type": "stream",
     "text": [
      " C. Pembukaan UUD Negara RI Tahun 1945\n",
      "\n",
      "\n",
      "Sources:\n",
      "Time:  95.64359998703003\n",
      "==============================================\n",
      "Nomor:  18\n",
      "Pemohon turut mencalonkan diri sebagai Calon Presiden dan atau Calon Wakil Presiden adalah berdasarkan hak dan kewajiban Pemohon sebagai warga negara Republik Indonesia yang dibenarkan, disahkan, dijamin dan dilindungi oleh, Salah satu dari daftar pasal adalah...\\n A.  Pasal 21 A ayat 1 UUD Negara RI Tahun 1945\\n B.  Pasal 20 A ayat 1 UUD Negara RI Tahun 1945\\n C.  Pasal 10 A ayat 1 UUD Negara RI Tahun 1945\\n D.  Pasal 10 B ayat 1 UUD Negara RI Tahun 1945\\n E.  Pasal 28 J ayat 1 UUD Negara RI Tahun 1944\n"
     ]
    },
    {
     "name": "stderr",
     "output_type": "stream",
     "text": [
      "/opt/conda/lib/python3.10/site-packages/langchain_core/_api/deprecation.py:189: LangChainDeprecationWarning: The function `__call__` was deprecated in LangChain 0.1.0 and will be removed in 0.2.0. Use invoke instead.\n",
      "  warn_deprecated(\n",
      "/opt/conda/lib/python3.10/site-packages/langchain_core/_api/deprecation.py:189: LangChainDeprecationWarning: The function `run` was deprecated in LangChain 0.1.0 and will be removed in 0.2.0. Use invoke instead.\n",
      "  warn_deprecated(\n",
      "/opt/conda/lib/python3.10/site-packages/langchain_core/_api/deprecation.py:189: LangChainDeprecationWarning: The function `__call__` was deprecated in LangChain 0.1.0 and will be removed in 0.2.0. Use invoke instead.\n",
      "  warn_deprecated(\n",
      "/opt/conda/lib/python3.10/site-packages/langchain_core/_api/deprecation.py:189: LangChainDeprecationWarning: The function `__call__` was deprecated in LangChain 0.1.0 and will be removed in 0.2.0. Use invoke instead.\n",
      "  warn_deprecated(\n"
     ]
    },
    {
     "name": "stdout",
     "output_type": "stream",
     "text": [
      " C. Pasal 10 A ayat 1 UUD Negara RI Tahun 1945\n",
      "\n",
      "\n",
      "Sources:\n",
      "Time:  97.52595138549805\n",
      "==============================================\n",
      "Nomor:  19\n",
      "Pemohon turut mencalonkan diri sebagai Calon Presiden dan atau Calon Wakil Presiden adalah berdasarkan hak dan kewajiban Pemohon sebagai warga negara Republik Indonesia yang dibenarkan, disahkan, dijamin dan dilindungi oleh, Salah satu dari daftar pasal adalah...\\n A.  Pasal 28 I ayat 2 UUD Negara RI Tahun 1945\\n B.  Pasal 21 A ayat 1 UUD Negara RI Tahun 1945\\n C.  Pasal 20 A ayat 1 UUD Negara RI Tahun 1945\\n D.  Pasal 10 A ayat 1 UUD Negara RI Tahun 1945\\n E.  Pasal 10 B ayat 1 UUD Negara RI Tahun 1945\n"
     ]
    },
    {
     "name": "stderr",
     "output_type": "stream",
     "text": [
      "/opt/conda/lib/python3.10/site-packages/langchain_core/_api/deprecation.py:189: LangChainDeprecationWarning: The function `__call__` was deprecated in LangChain 0.1.0 and will be removed in 0.2.0. Use invoke instead.\n",
      "  warn_deprecated(\n",
      "/opt/conda/lib/python3.10/site-packages/langchain_core/_api/deprecation.py:189: LangChainDeprecationWarning: The function `run` was deprecated in LangChain 0.1.0 and will be removed in 0.2.0. Use invoke instead.\n",
      "  warn_deprecated(\n",
      "/opt/conda/lib/python3.10/site-packages/langchain_core/_api/deprecation.py:189: LangChainDeprecationWarning: The function `__call__` was deprecated in LangChain 0.1.0 and will be removed in 0.2.0. Use invoke instead.\n",
      "  warn_deprecated(\n",
      "/opt/conda/lib/python3.10/site-packages/langchain_core/_api/deprecation.py:189: LangChainDeprecationWarning: The function `__call__` was deprecated in LangChain 0.1.0 and will be removed in 0.2.0. Use invoke instead.\n",
      "  warn_deprecated(\n"
     ]
    },
    {
     "name": "stdout",
     "output_type": "stream",
     "text": [
      " C. Pasal 20 A ayat 1 UUD Negara RI Tahun 1945\n",
      "\n",
      "\n",
      "Sources:\n",
      "Time:  97.90267705917358\n",
      "==============================================\n",
      "Nomor:  20\n",
      "Pemohon turut mencalonkan diri sebagai Calon Presiden dan atau Calon Wakil Presiden adalah berdasarkan hak dan kewajiban Pemohon sebagai warga negara Republik Indonesia yang dibenarkan, disahkan, dijamin dan dilindungi oleh, Salah satu dari daftar pasal adalah...\\n A.  Pasal 21 A ayat 1 UUD Negara RI Tahun 1945\\n B.  Pasal 28 H ayat 2 UUD Negara RI Tahun 1945\\n C.  Pasal 20 A ayat 1 UUD Negara RI Tahun 1945\\n D.  Pasal 2G A ayat 1 UUD Negara RI Tahun 1945\\n E.  Pasal 2X A ayat 1 UUD Negara RI Tahun 1945\n"
     ]
    },
    {
     "name": "stderr",
     "output_type": "stream",
     "text": [
      "/opt/conda/lib/python3.10/site-packages/langchain_core/_api/deprecation.py:189: LangChainDeprecationWarning: The function `__call__` was deprecated in LangChain 0.1.0 and will be removed in 0.2.0. Use invoke instead.\n",
      "  warn_deprecated(\n",
      "/opt/conda/lib/python3.10/site-packages/langchain_core/_api/deprecation.py:189: LangChainDeprecationWarning: The function `run` was deprecated in LangChain 0.1.0 and will be removed in 0.2.0. Use invoke instead.\n",
      "  warn_deprecated(\n",
      "/opt/conda/lib/python3.10/site-packages/langchain_core/_api/deprecation.py:189: LangChainDeprecationWarning: The function `__call__` was deprecated in LangChain 0.1.0 and will be removed in 0.2.0. Use invoke instead.\n",
      "  warn_deprecated(\n",
      "/opt/conda/lib/python3.10/site-packages/langchain_core/_api/deprecation.py:189: LangChainDeprecationWarning: The function `__call__` was deprecated in LangChain 0.1.0 and will be removed in 0.2.0. Use invoke instead.\n",
      "  warn_deprecated(\n"
     ]
    },
    {
     "name": "stdout",
     "output_type": "stream",
     "text": [
      " B. Pasal 28 H ayat 2 UUD Negara RI Tahun 1945\n",
      "\n",
      "\n",
      "Sources:\n",
      "Time:  96.50854301452637\n",
      "==============================================\n",
      "Nomor:  21\n",
      "Pemohon turut mencalonkan diri sebagai Calon Presiden dan atau Calon Wakil Presiden adalah berdasarkan hak dan kewajiban Pemohon sebagai warga negara Republik Indonesia yang dibenarkan, disahkan, dijamin dan dilindungi oleh, Salah satu dari daftar pasal adalah...\\n A.  Pasal 28 D ayat 1 dan ayat 3 UUD Negara RI Tahun 1945\\n B.  Pasal 20 A ayat 1 UUD Negara RI Tahun 1945\\n C.  Pasal 21 Y ayat 1 UUD Negara RI Tahun 1945\\n D.  Pasal 20 Y ayat 1 UUD Negara RI Tahun 1945\\n E.  Pasal 21 A ayat 1 UUD Negara RI Tahun 1945\n"
     ]
    },
    {
     "name": "stderr",
     "output_type": "stream",
     "text": [
      "/opt/conda/lib/python3.10/site-packages/langchain_core/_api/deprecation.py:189: LangChainDeprecationWarning: The function `__call__` was deprecated in LangChain 0.1.0 and will be removed in 0.2.0. Use invoke instead.\n",
      "  warn_deprecated(\n",
      "/opt/conda/lib/python3.10/site-packages/langchain_core/_api/deprecation.py:189: LangChainDeprecationWarning: The function `run` was deprecated in LangChain 0.1.0 and will be removed in 0.2.0. Use invoke instead.\n",
      "  warn_deprecated(\n",
      "/opt/conda/lib/python3.10/site-packages/langchain_core/_api/deprecation.py:189: LangChainDeprecationWarning: The function `__call__` was deprecated in LangChain 0.1.0 and will be removed in 0.2.0. Use invoke instead.\n",
      "  warn_deprecated(\n",
      "/opt/conda/lib/python3.10/site-packages/langchain_core/_api/deprecation.py:189: LangChainDeprecationWarning: The function `__call__` was deprecated in LangChain 0.1.0 and will be removed in 0.2.0. Use invoke instead.\n",
      "  warn_deprecated(\n"
     ]
    },
    {
     "name": "stdout",
     "output_type": "stream",
     "text": [
      " B. Pasal 20 A ayat 1 UUD Negara RI Tahun 1945\n",
      "\n",
      "\n",
      "Sources:\n",
      "Time:  99.36889719963074\n",
      "==============================================\n",
      "Nomor:  22\n",
      "Pemohon turut mencalonkan diri sebagai Calon Presiden dan atau Calon Wakil Presiden adalah berdasarkan hak dan kewajiban Pemohon sebagai warga negara Republik Indonesia yang dibenarkan, disahkan, dijamin dan dilindungi oleh, Salah satu dari daftar pasal adalah...\\n A.  Pasal 21 A ayat 1 UUD Negara RI Tahun 1945\\n B.  Pasal 21 Z ayat 1 UUD Negara RI Tahun 1945\\n C.  Pasal 21 Y ayat 1 UUD Negara RI Tahun 1945\\n D.  Pasal 20 Y ayat 1 UUD Negara RI Tahun 1945\\n E.  Pasal 28 C ayat 2 UUD Negara RI Tahun 1945\n"
     ]
    },
    {
     "name": "stderr",
     "output_type": "stream",
     "text": [
      "/opt/conda/lib/python3.10/site-packages/langchain_core/_api/deprecation.py:189: LangChainDeprecationWarning: The function `__call__` was deprecated in LangChain 0.1.0 and will be removed in 0.2.0. Use invoke instead.\n",
      "  warn_deprecated(\n",
      "/opt/conda/lib/python3.10/site-packages/langchain_core/_api/deprecation.py:189: LangChainDeprecationWarning: The function `run` was deprecated in LangChain 0.1.0 and will be removed in 0.2.0. Use invoke instead.\n",
      "  warn_deprecated(\n",
      "/opt/conda/lib/python3.10/site-packages/langchain_core/_api/deprecation.py:189: LangChainDeprecationWarning: The function `__call__` was deprecated in LangChain 0.1.0 and will be removed in 0.2.0. Use invoke instead.\n",
      "  warn_deprecated(\n",
      "/opt/conda/lib/python3.10/site-packages/langchain_core/_api/deprecation.py:189: LangChainDeprecationWarning: The function `__call__` was deprecated in LangChain 0.1.0 and will be removed in 0.2.0. Use invoke instead.\n",
      "  warn_deprecated(\n"
     ]
    },
    {
     "name": "stdout",
     "output_type": "stream",
     "text": [
      " A.  Pasal 21 A ayat 1 UUD Negara RI Tahun 1945\n",
      "\n",
      "\n",
      "Sources:\n",
      "Time:  98.42088842391968\n",
      "==============================================\n",
      "Nomor:  23\n",
      "Pemohon turut mencalonkan diri sebagai Calon Presiden dan atau Calon Wakil Presiden adalah berdasarkan hak dan kewajiban Pemohon sebagai warga negara Republik Indonesia yang dibenarkan, disahkan, dijamin dan dilindungi oleh, Salah satu dari daftar pasal adalah...\\n A.  Pasal 21 A ayat 1 UUD Negara RI Tahun 1945\\n B.  Pasal 21 Z ayat 1 UUD Negara RI Tahun 1945\\n C.  Pasal 21 Y ayat 1 UUD Negara RI Tahun 1945\\n D.  Pasal 20 Y ayat 1 UUD Negara RI Tahun 1945\\n E.  Pasal 27 ayat 1 ayat 3 UUD Negara RI Tahun 1945\n"
     ]
    },
    {
     "name": "stderr",
     "output_type": "stream",
     "text": [
      "/opt/conda/lib/python3.10/site-packages/langchain_core/_api/deprecation.py:189: LangChainDeprecationWarning: The function `__call__` was deprecated in LangChain 0.1.0 and will be removed in 0.2.0. Use invoke instead.\n",
      "  warn_deprecated(\n",
      "/opt/conda/lib/python3.10/site-packages/langchain_core/_api/deprecation.py:189: LangChainDeprecationWarning: The function `run` was deprecated in LangChain 0.1.0 and will be removed in 0.2.0. Use invoke instead.\n",
      "  warn_deprecated(\n",
      "/opt/conda/lib/python3.10/site-packages/langchain_core/_api/deprecation.py:189: LangChainDeprecationWarning: The function `__call__` was deprecated in LangChain 0.1.0 and will be removed in 0.2.0. Use invoke instead.\n",
      "  warn_deprecated(\n",
      "/opt/conda/lib/python3.10/site-packages/langchain_core/_api/deprecation.py:189: LangChainDeprecationWarning: The function `__call__` was deprecated in LangChain 0.1.0 and will be removed in 0.2.0. Use invoke instead.\n",
      "  warn_deprecated(\n"
     ]
    },
    {
     "name": "stdout",
     "output_type": "stream",
     "text": [
      " A. Pasal 21 A ayat 1 UUD Negara RI Tahun 1945\n",
      "\n",
      "\n",
      "Sources:\n",
      "Time:  98.8375084400177\n",
      "==============================================\n",
      "Nomor:  24\n",
      "Pemohon turut mencalonkan diri sebagai Calon Presiden dan atau Calon Wakil Presiden adalah berdasarkan hak dan kewajiban Pemohon sebagai warga negara Republik Indonesia yang dibenarkan, disahkan, dijamin dan dilindungi oleh, Salah satu dari daftar pasal adalah...\\n A.  Pasal 21 A ayat 1 UUD Negara RI Tahun 1945\\n B.  Pasal 21 Z ayat 1 UUD Negara RI Tahun 1945\\n C.  Pasal 21 Y ayat 1 UUD Negara RI Tahun 1945\\n D.  Pasal 1 ayat 2 UUD Negara RI Tahun 1945\\n E.  Pasal 20 Y ayat 1 UUD Negara RI Tahun 1945\n"
     ]
    },
    {
     "name": "stderr",
     "output_type": "stream",
     "text": [
      "/opt/conda/lib/python3.10/site-packages/langchain_core/_api/deprecation.py:189: LangChainDeprecationWarning: The function `__call__` was deprecated in LangChain 0.1.0 and will be removed in 0.2.0. Use invoke instead.\n",
      "  warn_deprecated(\n",
      "/opt/conda/lib/python3.10/site-packages/langchain_core/_api/deprecation.py:189: LangChainDeprecationWarning: The function `run` was deprecated in LangChain 0.1.0 and will be removed in 0.2.0. Use invoke instead.\n",
      "  warn_deprecated(\n",
      "/opt/conda/lib/python3.10/site-packages/langchain_core/_api/deprecation.py:189: LangChainDeprecationWarning: The function `__call__` was deprecated in LangChain 0.1.0 and will be removed in 0.2.0. Use invoke instead.\n",
      "  warn_deprecated(\n",
      "/opt/conda/lib/python3.10/site-packages/langchain_core/_api/deprecation.py:189: LangChainDeprecationWarning: The function `__call__` was deprecated in LangChain 0.1.0 and will be removed in 0.2.0. Use invoke instead.\n",
      "  warn_deprecated(\n"
     ]
    },
    {
     "name": "stdout",
     "output_type": "stream",
     "text": [
      " A. Pasal 21 A ayat 1 UUD Negara RI Tahun 1945\n",
      "\n",
      "\n",
      "Sources:\n",
      "Time:  97.8963372707367\n",
      "==============================================\n",
      "Nomor:  25\n",
      "Setiap orang berhak mendapat kemudahan dan perlakuan khusus untuk memperoleh kesempatan dan manfaat yang sama gunamencapai persamaan dan keadilan, ada pada...\\n A.  Undang-undang Nomor 23 tahun 2003 khususnya Pasal 5 ayat (1,2,3 dan 4)\\n B.  Pasal 21 A ayat 1 UUD Negara RI Tahun 1945\\n C.  Pasal 21 Z ayat 1 UUD Negara RI Tahun 1945\\n D.  Pasal 21 Y ayat 1 UUD Negara RI Tahun 1945\\n E.  Pasal 1 ayat 2 UUD Negara RI Tahun 1945\n"
     ]
    },
    {
     "name": "stderr",
     "output_type": "stream",
     "text": [
      "/opt/conda/lib/python3.10/site-packages/langchain_core/_api/deprecation.py:189: LangChainDeprecationWarning: The function `__call__` was deprecated in LangChain 0.1.0 and will be removed in 0.2.0. Use invoke instead.\n",
      "  warn_deprecated(\n",
      "/opt/conda/lib/python3.10/site-packages/langchain_core/_api/deprecation.py:189: LangChainDeprecationWarning: The function `run` was deprecated in LangChain 0.1.0 and will be removed in 0.2.0. Use invoke instead.\n",
      "  warn_deprecated(\n",
      "/opt/conda/lib/python3.10/site-packages/langchain_core/_api/deprecation.py:189: LangChainDeprecationWarning: The function `__call__` was deprecated in LangChain 0.1.0 and will be removed in 0.2.0. Use invoke instead.\n",
      "  warn_deprecated(\n",
      "/opt/conda/lib/python3.10/site-packages/langchain_core/_api/deprecation.py:189: LangChainDeprecationWarning: The function `__call__` was deprecated in LangChain 0.1.0 and will be removed in 0.2.0. Use invoke instead.\n",
      "  warn_deprecated(\n"
     ]
    },
    {
     "name": "stdout",
     "output_type": "stream",
     "text": [
      " A. Undang-undang Nomor 23 tahun 2003 khususnya Pasal 5 ayat (1,2,3 dan 4)\n",
      "\n",
      "\n",
      "Sources:\n",
      "Time:  95.37889432907104\n",
      "==============================================\n",
      "Nomor:  26\n",
      "Setiap orang berhak mendapat kemudahan dan perlakuan khusus untuk memperoleh kesempatan dan manfaat yang sama gunamencapai persamaan dan keadilan, ada pada...\\n A.  Pasal 21 A ayat 1 UUD Negara RI Tahun 1945\\n B.  Pasal 21 Z ayat 1 UUD Negara RI Tahun 1945\\n C.  Pasal 21 Y ayat 1 UUD Negara RI Tahun 1945\\n D.  Pasal 1 ayat 2 UUD Negara RI Tahun 1945\\n E.  Undang-undang Nomor 23 tahun 2003 khususnya Pasal 1 ayat (6)\n"
     ]
    },
    {
     "name": "stderr",
     "output_type": "stream",
     "text": [
      "/opt/conda/lib/python3.10/site-packages/langchain_core/_api/deprecation.py:189: LangChainDeprecationWarning: The function `__call__` was deprecated in LangChain 0.1.0 and will be removed in 0.2.0. Use invoke instead.\n",
      "  warn_deprecated(\n",
      "/opt/conda/lib/python3.10/site-packages/langchain_core/_api/deprecation.py:189: LangChainDeprecationWarning: The function `run` was deprecated in LangChain 0.1.0 and will be removed in 0.2.0. Use invoke instead.\n",
      "  warn_deprecated(\n",
      "/opt/conda/lib/python3.10/site-packages/langchain_core/_api/deprecation.py:189: LangChainDeprecationWarning: The function `__call__` was deprecated in LangChain 0.1.0 and will be removed in 0.2.0. Use invoke instead.\n",
      "  warn_deprecated(\n",
      "/opt/conda/lib/python3.10/site-packages/langchain_core/_api/deprecation.py:189: LangChainDeprecationWarning: The function `__call__` was deprecated in LangChain 0.1.0 and will be removed in 0.2.0. Use invoke instead.\n",
      "  warn_deprecated(\n"
     ]
    },
    {
     "name": "stdout",
     "output_type": "stream",
     "text": [
      " D. Pasal 1 ayat 2 UUD Negara RI Tahun 1945\n",
      "\n",
      "\n",
      "Sources:\n",
      "Time:  89.19385123252869\n",
      "==============================================\n",
      "Nomor:  27\n",
      "Setiap orang berhak mendapat kemudahan dan perlakuan khusus untuk memperoleh kesempatan dan manfaat yang sama gunamencapai persamaan dan keadilan, ada pada...\\n A.  Undang-undang Nomor 23 tahun 2003 khususnya Pasal 6 L\\n B.  Pasal 21 A ayat 1 UUD Negara RI Tahun 1945\\n C.  Pasal 21 Z ayat 1 UUD Negara RI Tahun 1945\\n D.  Pasal 21 Y ayat 1 UUD Negara RI Tahun 1945\\n E.  Pasal 1 ayat 2 UUD Negara RI Tahun 1945\n"
     ]
    },
    {
     "name": "stderr",
     "output_type": "stream",
     "text": [
      "/opt/conda/lib/python3.10/site-packages/langchain_core/_api/deprecation.py:189: LangChainDeprecationWarning: The function `__call__` was deprecated in LangChain 0.1.0 and will be removed in 0.2.0. Use invoke instead.\n",
      "  warn_deprecated(\n",
      "/opt/conda/lib/python3.10/site-packages/langchain_core/_api/deprecation.py:189: LangChainDeprecationWarning: The function `run` was deprecated in LangChain 0.1.0 and will be removed in 0.2.0. Use invoke instead.\n",
      "  warn_deprecated(\n",
      "/opt/conda/lib/python3.10/site-packages/langchain_core/_api/deprecation.py:189: LangChainDeprecationWarning: The function `__call__` was deprecated in LangChain 0.1.0 and will be removed in 0.2.0. Use invoke instead.\n",
      "  warn_deprecated(\n",
      "/opt/conda/lib/python3.10/site-packages/langchain_core/_api/deprecation.py:189: LangChainDeprecationWarning: The function `__call__` was deprecated in LangChain 0.1.0 and will be removed in 0.2.0. Use invoke instead.\n",
      "  warn_deprecated(\n"
     ]
    },
    {
     "name": "stdout",
     "output_type": "stream",
     "text": [
      " A. Undang-undang Nomor 23 tahun 2003 khususnya Pasal 6 L\n",
      "\n",
      "\n",
      "Sources:\n",
      "Time:  89.53103828430176\n",
      "==============================================\n",
      "Nomor:  28\n",
      "Setiap orang berhak mendapat kemudahan dan perlakuan khusus untuk memperoleh kesempatan dan manfaat yang sama gunamencapai persamaan dan keadilan, ada pada...\\n A.  Pasal 21 A ayat 1 UUD Negara RI Tahun 1945\\n B.  Pasal 21 Z ayat 1 UUD Negara RI Tahun 1945\\n C.  Pasal 21 Y ayat 1 UUD Negara RI Tahun 1945\\n D.  Pasal 1 ayat 2 UUD Negara RI Tahun 1945\\n E.  Undang-undang Nomor 23 tahun 2003 khususnya Pasal 28 H ayat (2)\n"
     ]
    },
    {
     "name": "stderr",
     "output_type": "stream",
     "text": [
      "/opt/conda/lib/python3.10/site-packages/langchain_core/_api/deprecation.py:189: LangChainDeprecationWarning: The function `__call__` was deprecated in LangChain 0.1.0 and will be removed in 0.2.0. Use invoke instead.\n",
      "  warn_deprecated(\n",
      "/opt/conda/lib/python3.10/site-packages/langchain_core/_api/deprecation.py:189: LangChainDeprecationWarning: The function `run` was deprecated in LangChain 0.1.0 and will be removed in 0.2.0. Use invoke instead.\n",
      "  warn_deprecated(\n",
      "/opt/conda/lib/python3.10/site-packages/langchain_core/_api/deprecation.py:189: LangChainDeprecationWarning: The function `__call__` was deprecated in LangChain 0.1.0 and will be removed in 0.2.0. Use invoke instead.\n",
      "  warn_deprecated(\n",
      "/opt/conda/lib/python3.10/site-packages/langchain_core/_api/deprecation.py:189: LangChainDeprecationWarning: The function `__call__` was deprecated in LangChain 0.1.0 and will be removed in 0.2.0. Use invoke instead.\n",
      "  warn_deprecated(\n"
     ]
    },
    {
     "name": "stdout",
     "output_type": "stream",
     "text": [
      " D. Pasal 1 ayat 2 UUD Negara RI Tahun 1945\n",
      "\n",
      "\n",
      "Sources:\n",
      "Time:  88.54516577720642\n",
      "==============================================\n",
      "Nomor:  29\n",
      "Setiap orang berhak bebas dari perlakuan yang bersifat diskriminatif atas dasar apapun dan berhak mendapatkan perlindungan terhadap perlakuan yang bersifat diskriminatif itu, ada pada...\\n A.  Undang-undang Nomor 23 Tahun 2003 khususnya Pasal 5 ayat (1,2,3 dan 4)\\n B.  Pasal 21 A ayat 1 UUD Negara RI Tahun 1945\\n C.  Pasal 21 Z ayat 1 UUD Negara RI Tahun 1945\\n D.  Pasal 21 Y ayat 1 UUD Negara RI Tahun 1945\\n E.  Pasal 1 ayat 2 UUD Negara RI Tahun 1945\n"
     ]
    },
    {
     "name": "stderr",
     "output_type": "stream",
     "text": [
      "/opt/conda/lib/python3.10/site-packages/langchain_core/_api/deprecation.py:189: LangChainDeprecationWarning: The function `__call__` was deprecated in LangChain 0.1.0 and will be removed in 0.2.0. Use invoke instead.\n",
      "  warn_deprecated(\n",
      "/opt/conda/lib/python3.10/site-packages/langchain_core/_api/deprecation.py:189: LangChainDeprecationWarning: The function `run` was deprecated in LangChain 0.1.0 and will be removed in 0.2.0. Use invoke instead.\n",
      "  warn_deprecated(\n",
      "/opt/conda/lib/python3.10/site-packages/langchain_core/_api/deprecation.py:189: LangChainDeprecationWarning: The function `__call__` was deprecated in LangChain 0.1.0 and will be removed in 0.2.0. Use invoke instead.\n",
      "  warn_deprecated(\n",
      "/opt/conda/lib/python3.10/site-packages/langchain_core/_api/deprecation.py:189: LangChainDeprecationWarning: The function `__call__` was deprecated in LangChain 0.1.0 and will be removed in 0.2.0. Use invoke instead.\n",
      "  warn_deprecated(\n"
     ]
    },
    {
     "name": "stdout",
     "output_type": "stream",
     "text": [
      " A. Undang-undang Nomor 23 Tahun 2003 khususnya Pasal 5 ayat (1,2,3 dan 4)\n",
      "\n",
      "\n",
      "Sources:\n",
      "Time:  102.43135619163513\n",
      "==============================================\n",
      "Nomor:  30\n",
      "Setiap orang berhak bebas dari perlakuan yang bersifat diskriminatif atas dasar apapun dan berhak mendapatkan perlindungan terhadap perlakuan yang bersifat diskriminatif itu, ada pada...\\n A.  Pasal 21 A ayat 1 UUD Negara RI Tahun 1945\\n B.  Pasal 21 Z ayat 1 UUD Negara RI Tahun 1945\\n C.  Pasal 21 Y ayat 1 UUD Negara RI Tahun 1945\\n D.  Pasal 1 ayat 2 UUD Negara RI Tahun 1945\\n E.  Undang-undang Nomor 23 Tahun 2003 khususnya Pasal 1 ayat (6)\n"
     ]
    },
    {
     "name": "stderr",
     "output_type": "stream",
     "text": [
      "/opt/conda/lib/python3.10/site-packages/langchain_core/_api/deprecation.py:189: LangChainDeprecationWarning: The function `__call__` was deprecated in LangChain 0.1.0 and will be removed in 0.2.0. Use invoke instead.\n",
      "  warn_deprecated(\n",
      "/opt/conda/lib/python3.10/site-packages/langchain_core/_api/deprecation.py:189: LangChainDeprecationWarning: The function `run` was deprecated in LangChain 0.1.0 and will be removed in 0.2.0. Use invoke instead.\n",
      "  warn_deprecated(\n",
      "/opt/conda/lib/python3.10/site-packages/langchain_core/_api/deprecation.py:189: LangChainDeprecationWarning: The function `__call__` was deprecated in LangChain 0.1.0 and will be removed in 0.2.0. Use invoke instead.\n",
      "  warn_deprecated(\n",
      "/opt/conda/lib/python3.10/site-packages/langchain_core/_api/deprecation.py:189: LangChainDeprecationWarning: The function `__call__` was deprecated in LangChain 0.1.0 and will be removed in 0.2.0. Use invoke instead.\n",
      "  warn_deprecated(\n"
     ]
    },
    {
     "name": "stdout",
     "output_type": "stream",
     "text": [
      " D. Pasal 1 ayat 2 UUD Negara RI Tahun 1945\n",
      "\n",
      "\n",
      "Sources:\n",
      "Time:  94.480309009552\n",
      "==============================================\n",
      "Nomor:  31\n",
      "Setiap orang berhak bebas dari perlakuan yang bersifat diskriminatif atas dasar apapun dan berhak mendapatkan perlindungan terhadap perlakuan yang bersifat diskriminatif itu, ada pada...\\n A.  Undang-undang Nomor 23 Tahun 2003 khususnya Pasal 6 I\\n B.  Pasal 21 A ayat 1 UUD Negara RI Tahun 1945\\n C.  Pasal 21 Z ayat 1 UUD Negara RI Tahun 1945\\n D.  Pasal 21 Y ayat 1 UUD Negara RI Tahun 1945\\n E.  Pasal 1 ayat 2 UUD Negara RI Tahun 1945\n"
     ]
    },
    {
     "name": "stderr",
     "output_type": "stream",
     "text": [
      "/opt/conda/lib/python3.10/site-packages/langchain_core/_api/deprecation.py:189: LangChainDeprecationWarning: The function `__call__` was deprecated in LangChain 0.1.0 and will be removed in 0.2.0. Use invoke instead.\n",
      "  warn_deprecated(\n",
      "/opt/conda/lib/python3.10/site-packages/langchain_core/_api/deprecation.py:189: LangChainDeprecationWarning: The function `run` was deprecated in LangChain 0.1.0 and will be removed in 0.2.0. Use invoke instead.\n",
      "  warn_deprecated(\n",
      "/opt/conda/lib/python3.10/site-packages/langchain_core/_api/deprecation.py:189: LangChainDeprecationWarning: The function `__call__` was deprecated in LangChain 0.1.0 and will be removed in 0.2.0. Use invoke instead.\n",
      "  warn_deprecated(\n",
      "/opt/conda/lib/python3.10/site-packages/langchain_core/_api/deprecation.py:189: LangChainDeprecationWarning: The function `__call__` was deprecated in LangChain 0.1.0 and will be removed in 0.2.0. Use invoke instead.\n",
      "  warn_deprecated(\n"
     ]
    },
    {
     "name": "stdout",
     "output_type": "stream",
     "text": [
      " A. Undang-undang Nomor 23 Tahun 2003 khususnya Pasal 6 I\n",
      "\n",
      "\n",
      "Sources:\n",
      "Time:  95.00898766517639\n",
      "==============================================\n",
      "Nomor:  32\n",
      "Setiap orang wajib menghormati hak azasi manusia orang lain dalam tertib kehidupan bermasyarakat, berbangsa dan bernegara, ada pada...\\n A.  Undang-undang Nomor 23 Tahun 2003 khususnya Pasal 5 ayat (1, 2, 3 dan 4)\\n B.  Pasal 21 A ayat 1 UUD Negara RI Tahun 1945\\n C.  Pasal 21 Z ayat 1 UUD Negara RI Tahun 1945\\n D.  Pasal 21 Y ayat 1 UUD Negara RI Tahun 1945\\n E.  Pasal 1 ayat 2 UUD Negara RI Tahun 1945\n"
     ]
    },
    {
     "name": "stderr",
     "output_type": "stream",
     "text": [
      "/opt/conda/lib/python3.10/site-packages/langchain_core/_api/deprecation.py:189: LangChainDeprecationWarning: The function `__call__` was deprecated in LangChain 0.1.0 and will be removed in 0.2.0. Use invoke instead.\n",
      "  warn_deprecated(\n",
      "/opt/conda/lib/python3.10/site-packages/langchain_core/_api/deprecation.py:189: LangChainDeprecationWarning: The function `run` was deprecated in LangChain 0.1.0 and will be removed in 0.2.0. Use invoke instead.\n",
      "  warn_deprecated(\n",
      "/opt/conda/lib/python3.10/site-packages/langchain_core/_api/deprecation.py:189: LangChainDeprecationWarning: The function `__call__` was deprecated in LangChain 0.1.0 and will be removed in 0.2.0. Use invoke instead.\n",
      "  warn_deprecated(\n",
      "/opt/conda/lib/python3.10/site-packages/langchain_core/_api/deprecation.py:189: LangChainDeprecationWarning: The function `__call__` was deprecated in LangChain 0.1.0 and will be removed in 0.2.0. Use invoke instead.\n",
      "  warn_deprecated(\n"
     ]
    },
    {
     "name": "stdout",
     "output_type": "stream",
     "text": [
      " A. Undang-undang Nomor 23 Tahun 2003 khususnya Pasal 5 ayat (1, 2, 3 dan 4)\n",
      "\n",
      "\n",
      "Sources:\n",
      "Time:  93.51352143287659\n",
      "==============================================\n",
      "Nomor:  33\n",
      "Setiap orang wajib menghormati hak azasi manusia orang lain dalam tertib kehidupan bermasyarakat, berbangsa dan bernegara, ada pada...\\n A.  Pasal 21 A ayat 1 UUD Negara RI Tahun 1945\\n B.  Pasal 21 Z ayat 1 UUD Negara RI Tahun 1945\\n C.  Pasal 21 Y ayat 1 UUD Negara RI Tahun 1945\\n D.  Pasal 1 ayat 2 UUD Negara RI Tahun 1945\\n E.  Undang-undang Nomor 23 Tahun 2003 khususnya Pasal 1 ayat (6)\n"
     ]
    },
    {
     "name": "stderr",
     "output_type": "stream",
     "text": [
      "/opt/conda/lib/python3.10/site-packages/langchain_core/_api/deprecation.py:189: LangChainDeprecationWarning: The function `__call__` was deprecated in LangChain 0.1.0 and will be removed in 0.2.0. Use invoke instead.\n",
      "  warn_deprecated(\n",
      "/opt/conda/lib/python3.10/site-packages/langchain_core/_api/deprecation.py:189: LangChainDeprecationWarning: The function `run` was deprecated in LangChain 0.1.0 and will be removed in 0.2.0. Use invoke instead.\n",
      "  warn_deprecated(\n",
      "/opt/conda/lib/python3.10/site-packages/langchain_core/_api/deprecation.py:189: LangChainDeprecationWarning: The function `__call__` was deprecated in LangChain 0.1.0 and will be removed in 0.2.0. Use invoke instead.\n",
      "  warn_deprecated(\n",
      "/opt/conda/lib/python3.10/site-packages/langchain_core/_api/deprecation.py:189: LangChainDeprecationWarning: The function `__call__` was deprecated in LangChain 0.1.0 and will be removed in 0.2.0. Use invoke instead.\n",
      "  warn_deprecated(\n"
     ]
    },
    {
     "name": "stdout",
     "output_type": "stream",
     "text": [
      " D. Pasal 1 ayat 2 UUD Negara RI Tahun 1945\n",
      "\n",
      "\n",
      "Sources:\n",
      "Time:  86.36922907829285\n",
      "==============================================\n",
      "Nomor:  34\n",
      "Setiap orang wajib menghormati hak azasi manusia orang lain dalam tertib kehidupan bermasyarakat, berbangsa dan bernegara, ada pada...\\n A.  Undang-undang Nomor 23 Tahun 2003 khususnya Pasal 6L\\n B.  Pasal 21 A ayat 1 UUD Negara RI Tahun 1945\\n C.  Pasal 21 Z ayat 1 UUD Negara RI Tahun 1945\\n D.  Pasal 21 Y ayat 1 UUD Negara RI Tahun 1945\\n E.  Pasal 1 ayat 2 UUD Negara RI Tahun 1945\n"
     ]
    },
    {
     "name": "stderr",
     "output_type": "stream",
     "text": [
      "/opt/conda/lib/python3.10/site-packages/langchain_core/_api/deprecation.py:189: LangChainDeprecationWarning: The function `__call__` was deprecated in LangChain 0.1.0 and will be removed in 0.2.0. Use invoke instead.\n",
      "  warn_deprecated(\n",
      "/opt/conda/lib/python3.10/site-packages/langchain_core/_api/deprecation.py:189: LangChainDeprecationWarning: The function `run` was deprecated in LangChain 0.1.0 and will be removed in 0.2.0. Use invoke instead.\n",
      "  warn_deprecated(\n",
      "/opt/conda/lib/python3.10/site-packages/langchain_core/_api/deprecation.py:189: LangChainDeprecationWarning: The function `__call__` was deprecated in LangChain 0.1.0 and will be removed in 0.2.0. Use invoke instead.\n",
      "  warn_deprecated(\n",
      "/opt/conda/lib/python3.10/site-packages/langchain_core/_api/deprecation.py:189: LangChainDeprecationWarning: The function `__call__` was deprecated in LangChain 0.1.0 and will be removed in 0.2.0. Use invoke instead.\n",
      "  warn_deprecated(\n"
     ]
    },
    {
     "name": "stdout",
     "output_type": "stream",
     "text": [
      " A. Undang-undang Nomor 23 Tahun 2003 khususnya Pasal 6L\n",
      "\n",
      "\n",
      "Sources:\n",
      "Time:  86.9109239578247\n",
      "==============================================\n",
      "Nomor:  35\n",
      "Setiap orang berhak hidup sejahtera lahir dan batin, bertempat tinggal dan mendapatkan lingkungan hidup yang baik dan sehat serta memperoleh pelayanan kesehatan, pada...\\n A.  Pasal 21 H ayat 1 (Konstitusi/UUD 1945)\\n B.  Pasal 28 H ayat 1 (Konstitusi/UUD 1945)\\n C.  Pasal 28 A ayat 1 (Konstitusi/UUD 1945)\\n D.  Pasal 28 B ayat 1 (Konstitusi/UUD 1945)\\n E.  Pasal 28 C ayat 1 (Konstitusi/UUD 1945)\n"
     ]
    },
    {
     "name": "stderr",
     "output_type": "stream",
     "text": [
      "/opt/conda/lib/python3.10/site-packages/langchain_core/_api/deprecation.py:189: LangChainDeprecationWarning: The function `__call__` was deprecated in LangChain 0.1.0 and will be removed in 0.2.0. Use invoke instead.\n",
      "  warn_deprecated(\n",
      "/opt/conda/lib/python3.10/site-packages/langchain_core/_api/deprecation.py:189: LangChainDeprecationWarning: The function `run` was deprecated in LangChain 0.1.0 and will be removed in 0.2.0. Use invoke instead.\n",
      "  warn_deprecated(\n",
      "/opt/conda/lib/python3.10/site-packages/langchain_core/_api/deprecation.py:189: LangChainDeprecationWarning: The function `__call__` was deprecated in LangChain 0.1.0 and will be removed in 0.2.0. Use invoke instead.\n",
      "  warn_deprecated(\n",
      "/opt/conda/lib/python3.10/site-packages/langchain_core/_api/deprecation.py:189: LangChainDeprecationWarning: The function `__call__` was deprecated in LangChain 0.1.0 and will be removed in 0.2.0. Use invoke instead.\n",
      "  warn_deprecated(\n"
     ]
    },
    {
     "name": "stdout",
     "output_type": "stream",
     "text": [
      " D. Pasal 28 B ayat 1 (Konstitusi/UUD 1945)\n",
      "\n",
      "\n",
      "Sources:\n",
      "Time:  90.58837127685547\n",
      "==============================================\n",
      "Nomor:  36\n",
      "Pada Pasal 51 ayat (1) Undang-undang Nomor 24 Tahun 2003 tentang Mahkamah Konstitusi. Pihak yang menganggap hak dan/atau kewenangan konstitusionalnya dirugikan oleh berlakunya suatu undang-undang adalah...\\n A.  Presiden\\n B.  Pemohon\\n C.  Wakil Presiden\\n D.  Polisi\\n E.  Tentara\n"
     ]
    },
    {
     "name": "stderr",
     "output_type": "stream",
     "text": [
      "/opt/conda/lib/python3.10/site-packages/langchain_core/_api/deprecation.py:189: LangChainDeprecationWarning: The function `__call__` was deprecated in LangChain 0.1.0 and will be removed in 0.2.0. Use invoke instead.\n",
      "  warn_deprecated(\n",
      "/opt/conda/lib/python3.10/site-packages/langchain_core/_api/deprecation.py:189: LangChainDeprecationWarning: The function `run` was deprecated in LangChain 0.1.0 and will be removed in 0.2.0. Use invoke instead.\n",
      "  warn_deprecated(\n",
      "/opt/conda/lib/python3.10/site-packages/langchain_core/_api/deprecation.py:189: LangChainDeprecationWarning: The function `__call__` was deprecated in LangChain 0.1.0 and will be removed in 0.2.0. Use invoke instead.\n",
      "  warn_deprecated(\n",
      "/opt/conda/lib/python3.10/site-packages/langchain_core/_api/deprecation.py:189: LangChainDeprecationWarning: The function `__call__` was deprecated in LangChain 0.1.0 and will be removed in 0.2.0. Use invoke instead.\n",
      "  warn_deprecated(\n"
     ]
    },
    {
     "name": "stdout",
     "output_type": "stream",
     "text": [
      " D. Polisi\n",
      "\n",
      "\n",
      "Sources:\n",
      "Time:  56.720131635665894\n",
      "==============================================\n",
      "Nomor:  37\n",
      "Pasal 51 ayat (1) Undang-undang Nomor 24 Tahun 2003 tentang Mahkamah Konstitusi menyatakan, Pemohon adalah pihak yang menganggap hak dan/atau kewenangan konstitusionalnya dirugikan oleh berlakunya suatu undang-undang, yaitu...\\n A.  perorangan warga negara Indonesia, kesatuan masyarakat hukum adat sepanjang masih hidup dan sesuai dengan perkembangan masyarakat dan prinsip-prinsip Negara Kesatuan Republik Indonesia yang diatur dalam undang-undang, badan hukum publik atau privat, atau lembaga negara\\n B.  Perorangan warga negara Indonesia, mempunyai darah daging, atau lembaga negara\\n C.  perorangan warga negara Indonesia, bekerja didalam pemeritahan, atau lembaga negara\\n D.  perorangan warga negara Indonesia, bisa berbahasa indonesia, badan hukum publik atau privat, atau lembaga negara\\n E.  perorangan warga negara Indonesia, kriminal, badan hukum publik atau privat, atau lembaga negara\n"
     ]
    },
    {
     "name": "stderr",
     "output_type": "stream",
     "text": [
      "/opt/conda/lib/python3.10/site-packages/langchain_core/_api/deprecation.py:189: LangChainDeprecationWarning: The function `__call__` was deprecated in LangChain 0.1.0 and will be removed in 0.2.0. Use invoke instead.\n",
      "  warn_deprecated(\n",
      "/opt/conda/lib/python3.10/site-packages/langchain_core/_api/deprecation.py:189: LangChainDeprecationWarning: The function `run` was deprecated in LangChain 0.1.0 and will be removed in 0.2.0. Use invoke instead.\n",
      "  warn_deprecated(\n",
      "/opt/conda/lib/python3.10/site-packages/langchain_core/_api/deprecation.py:189: LangChainDeprecationWarning: The function `__call__` was deprecated in LangChain 0.1.0 and will be removed in 0.2.0. Use invoke instead.\n",
      "  warn_deprecated(\n",
      "/opt/conda/lib/python3.10/site-packages/langchain_core/_api/deprecation.py:189: LangChainDeprecationWarning: The function `__call__` was deprecated in LangChain 0.1.0 and will be removed in 0.2.0. Use invoke instead.\n",
      "  warn_deprecated(\n"
     ]
    },
    {
     "name": "stdout",
     "output_type": "stream",
     "text": [
      " A\n",
      "\n",
      "\n",
      "Sources:\n",
      "Time:  123.47447633743286\n",
      "==============================================\n",
      "Nomor:  38\n",
      "Setiap orang berhak atas pengakuan, jaminan, perlindungan, dan kepastian hukum yang adil serta perlakuan yang sama di hadapan hukum, bunyi dari…\\n A.  Pasal 28D ayat (1) UUD 1945\\n B.  Pasal 27D ayat (1) UUD 1945\\n C.  Pasal 26D ayat (1) UUD 1945\\n D.  Pasal 25D ayat (1) UUD 1945\\n E.  Pasal 24D ayat (1) UUD 1945\n"
     ]
    },
    {
     "name": "stderr",
     "output_type": "stream",
     "text": [
      "/opt/conda/lib/python3.10/site-packages/langchain_core/_api/deprecation.py:189: LangChainDeprecationWarning: The function `__call__` was deprecated in LangChain 0.1.0 and will be removed in 0.2.0. Use invoke instead.\n",
      "  warn_deprecated(\n",
      "/opt/conda/lib/python3.10/site-packages/langchain_core/_api/deprecation.py:189: LangChainDeprecationWarning: The function `run` was deprecated in LangChain 0.1.0 and will be removed in 0.2.0. Use invoke instead.\n",
      "  warn_deprecated(\n",
      "/opt/conda/lib/python3.10/site-packages/langchain_core/_api/deprecation.py:189: LangChainDeprecationWarning: The function `__call__` was deprecated in LangChain 0.1.0 and will be removed in 0.2.0. Use invoke instead.\n",
      "  warn_deprecated(\n",
      "/opt/conda/lib/python3.10/site-packages/langchain_core/_api/deprecation.py:189: LangChainDeprecationWarning: The function `__call__` was deprecated in LangChain 0.1.0 and will be removed in 0.2.0. Use invoke instead.\n",
      "  warn_deprecated(\n"
     ]
    },
    {
     "name": "stdout",
     "output_type": "stream",
     "text": [
      " A.  Pasal 28D ayat (1) UUD 1945\n",
      "\n",
      "\n",
      "Sources:\n",
      "Time:  77.15894031524658\n",
      "==============================================\n",
      "Nomor:  39\n",
      "Setiap orang berhak atas kebebasan meyakini kepercayaan, menyatakan pikiran dan sikap, sesuai dengan hati nuraninya, dari pasal…\\n A.  Pasal 28F ayat (2) UUD 1945\\n B.  Pasal 28A ayat (2) UUD 1945\\n C.  Pasal 28B ayat (2) UUD 1945\\n D.  Pasal 28C ayat (2) UUD 1945\\n E.  Pasal 28E ayat (2) UUD 1945\n"
     ]
    },
    {
     "name": "stderr",
     "output_type": "stream",
     "text": [
      "/opt/conda/lib/python3.10/site-packages/langchain_core/_api/deprecation.py:189: LangChainDeprecationWarning: The function `__call__` was deprecated in LangChain 0.1.0 and will be removed in 0.2.0. Use invoke instead.\n",
      "  warn_deprecated(\n",
      "/opt/conda/lib/python3.10/site-packages/langchain_core/_api/deprecation.py:189: LangChainDeprecationWarning: The function `run` was deprecated in LangChain 0.1.0 and will be removed in 0.2.0. Use invoke instead.\n",
      "  warn_deprecated(\n",
      "/opt/conda/lib/python3.10/site-packages/langchain_core/_api/deprecation.py:189: LangChainDeprecationWarning: The function `__call__` was deprecated in LangChain 0.1.0 and will be removed in 0.2.0. Use invoke instead.\n",
      "  warn_deprecated(\n",
      "/opt/conda/lib/python3.10/site-packages/langchain_core/_api/deprecation.py:189: LangChainDeprecationWarning: The function `__call__` was deprecated in LangChain 0.1.0 and will be removed in 0.2.0. Use invoke instead.\n",
      "  warn_deprecated(\n"
     ]
    },
    {
     "name": "stdout",
     "output_type": "stream",
     "text": [
      " C. Pasal 28B ayat (2) UUD 1945\n",
      "\n",
      "\n",
      "Sources:\n",
      "Time:  74.00539541244507\n",
      "==============================================\n",
      "Nomor:  40\n",
      "Setiap orang berhak atas kebebasan berserikat, berkumpul dan mengeluarkan pendapat, dari pasal…\\n A.  Pasal 28A ayat (3) UUD 1945\\n B.  Pasal 28E ayat (3) UUD 1945\\n C.  Pasal 28B ayat (3) UUD 1945\\n D.  Pasal 28C ayat (3) UUD 1945\\n E.  Pasal 28D ayat (3) UUD 1945\n"
     ]
    },
    {
     "name": "stderr",
     "output_type": "stream",
     "text": [
      "/opt/conda/lib/python3.10/site-packages/langchain_core/_api/deprecation.py:189: LangChainDeprecationWarning: The function `__call__` was deprecated in LangChain 0.1.0 and will be removed in 0.2.0. Use invoke instead.\n",
      "  warn_deprecated(\n",
      "/opt/conda/lib/python3.10/site-packages/langchain_core/_api/deprecation.py:189: LangChainDeprecationWarning: The function `run` was deprecated in LangChain 0.1.0 and will be removed in 0.2.0. Use invoke instead.\n",
      "  warn_deprecated(\n",
      "/opt/conda/lib/python3.10/site-packages/langchain_core/_api/deprecation.py:189: LangChainDeprecationWarning: The function `__call__` was deprecated in LangChain 0.1.0 and will be removed in 0.2.0. Use invoke instead.\n",
      "  warn_deprecated(\n",
      "/opt/conda/lib/python3.10/site-packages/langchain_core/_api/deprecation.py:189: LangChainDeprecationWarning: The function `__call__` was deprecated in LangChain 0.1.0 and will be removed in 0.2.0. Use invoke instead.\n",
      "  warn_deprecated(\n"
     ]
    },
    {
     "name": "stdout",
     "output_type": "stream",
     "text": [
      " A\n",
      "\n",
      "\n",
      "Sources:\n",
      "Time:  63.742828130722046\n",
      "==============================================\n",
      "Nomor:  41\n",
      "Setiap orang berhak untuk berkomunikasi dan memperoleh informasi untuk mengembangkan pribadi dan lingkungan sosialnya, serta berhak untuk mencari, memperoleh, memiliki, menyimpan, mengolah, dan menyampaikan informasi dengan menggunakan segala jenis saluran yang tersedia, ada pada pasal...\\n A.  Pasal 28B UUD 1945\\n B.  Pasal 28C UUD 1945\\n C.  Pasal 28E UUD 1945\\n D.  Pasal 28E UUD 1945\\n E.  Pasal 28F UUD 1945\n"
     ]
    },
    {
     "name": "stderr",
     "output_type": "stream",
     "text": [
      "/opt/conda/lib/python3.10/site-packages/langchain_core/_api/deprecation.py:189: LangChainDeprecationWarning: The function `__call__` was deprecated in LangChain 0.1.0 and will be removed in 0.2.0. Use invoke instead.\n",
      "  warn_deprecated(\n",
      "/opt/conda/lib/python3.10/site-packages/langchain_core/_api/deprecation.py:189: LangChainDeprecationWarning: The function `run` was deprecated in LangChain 0.1.0 and will be removed in 0.2.0. Use invoke instead.\n",
      "  warn_deprecated(\n",
      "/opt/conda/lib/python3.10/site-packages/langchain_core/_api/deprecation.py:189: LangChainDeprecationWarning: The function `__call__` was deprecated in LangChain 0.1.0 and will be removed in 0.2.0. Use invoke instead.\n",
      "  warn_deprecated(\n",
      "/opt/conda/lib/python3.10/site-packages/langchain_core/_api/deprecation.py:189: LangChainDeprecationWarning: The function `__call__` was deprecated in LangChain 0.1.0 and will be removed in 0.2.0. Use invoke instead.\n",
      "  warn_deprecated(\n"
     ]
    },
    {
     "name": "stdout",
     "output_type": "stream",
     "text": [
      " A.  Pasal 28B UUD 1945\n",
      "\n",
      "\n",
      "Sources:\n",
      "Time:  82.63848686218262\n",
      "==============================================\n",
      "Nomor:  42\n",
      "Setiap orang yang memenuhi unsur sebagaimana dimaksud dalam Pasal 27 ayat (1), ayat (2), ayat (3), atau ayat (4) dipidana dengan pidana penjara paling lama…\\n A.  5 (lima) tahun\\n B.  6 (enam) tahun\\n C.  7 (tujuh) tahun\\n D.  8 (delapan) tahun\\n E.  9 (sembilan) tahun\n"
     ]
    },
    {
     "name": "stderr",
     "output_type": "stream",
     "text": [
      "/opt/conda/lib/python3.10/site-packages/langchain_core/_api/deprecation.py:189: LangChainDeprecationWarning: The function `__call__` was deprecated in LangChain 0.1.0 and will be removed in 0.2.0. Use invoke instead.\n",
      "  warn_deprecated(\n",
      "/opt/conda/lib/python3.10/site-packages/langchain_core/_api/deprecation.py:189: LangChainDeprecationWarning: The function `run` was deprecated in LangChain 0.1.0 and will be removed in 0.2.0. Use invoke instead.\n",
      "  warn_deprecated(\n",
      "/opt/conda/lib/python3.10/site-packages/langchain_core/_api/deprecation.py:189: LangChainDeprecationWarning: The function `__call__` was deprecated in LangChain 0.1.0 and will be removed in 0.2.0. Use invoke instead.\n",
      "  warn_deprecated(\n",
      "/opt/conda/lib/python3.10/site-packages/langchain_core/_api/deprecation.py:189: LangChainDeprecationWarning: The function `__call__` was deprecated in LangChain 0.1.0 and will be removed in 0.2.0. Use invoke instead.\n",
      "  warn_deprecated(\n"
     ]
    },
    {
     "name": "stdout",
     "output_type": "stream",
     "text": [
      " D. 8 TAHUN\n",
      "\n",
      "\n",
      "Sources:\n",
      "Time:  56.71673893928528\n",
      "==============================================\n",
      "Nomor:  43\n",
      "Setiap orang yang memenuhi unsur sebagaimana dimaksud dalam Pasal 27 ayat (1), ayat (2), ayat (3), atau ayat (4) dipidana dengan pidana penjara paling lama 6 (enam) tahun dan/atau denda paling banyak…\\n A.  Rp 2.000.000.000,00 (dua miliar rupiah)\\n B.  Rp 3.000.000.000,00 (tiga miliar rupiah)\\n C.  Rp 1.000.000.000,00 (satu miliar rupiah)\\n D.  Rp 4.000.000.000,00 (empat miliar rupiah)\\n E.  Rp 5.000.000.000,00 (lima miliar rupiah)\n"
     ]
    },
    {
     "name": "stderr",
     "output_type": "stream",
     "text": [
      "/opt/conda/lib/python3.10/site-packages/langchain_core/_api/deprecation.py:189: LangChainDeprecationWarning: The function `__call__` was deprecated in LangChain 0.1.0 and will be removed in 0.2.0. Use invoke instead.\n",
      "  warn_deprecated(\n",
      "/opt/conda/lib/python3.10/site-packages/langchain_core/_api/deprecation.py:189: LangChainDeprecationWarning: The function `run` was deprecated in LangChain 0.1.0 and will be removed in 0.2.0. Use invoke instead.\n",
      "  warn_deprecated(\n",
      "/opt/conda/lib/python3.10/site-packages/langchain_core/_api/deprecation.py:189: LangChainDeprecationWarning: The function `__call__` was deprecated in LangChain 0.1.0 and will be removed in 0.2.0. Use invoke instead.\n",
      "  warn_deprecated(\n",
      "/opt/conda/lib/python3.10/site-packages/langchain_core/_api/deprecation.py:189: LangChainDeprecationWarning: The function `__call__` was deprecated in LangChain 0.1.0 and will be removed in 0.2.0. Use invoke instead.\n",
      "  warn_deprecated(\n"
     ]
    },
    {
     "name": "stdout",
     "output_type": "stream",
     "text": [
      " D.  Rp 4.000.000.000,00 (empat miliar rupiah)\n",
      "\n",
      "\n",
      "Sources:\n",
      "Time:  102.09243822097778\n",
      "==============================================\n",
      "Nomor:  44\n",
      "Undang-Undang Nomor 32 Tahun 2004, sebagaimana tertakhir telah diubah dengan…\\n A.  Undang-Undang Nomor 11 Tahun 2008\\n B.  Undang-Undang Nomor 12 Tahun 2008\\n C.  Undang-Undang Nomor 13 Tahun 2008\\n D.  Undang-Undang Nomor 14 Tahun 2008\\n E.  Undang-Undang Nomor 15 Tahun 2008\n"
     ]
    },
    {
     "name": "stderr",
     "output_type": "stream",
     "text": [
      "/opt/conda/lib/python3.10/site-packages/langchain_core/_api/deprecation.py:189: LangChainDeprecationWarning: The function `__call__` was deprecated in LangChain 0.1.0 and will be removed in 0.2.0. Use invoke instead.\n",
      "  warn_deprecated(\n",
      "/opt/conda/lib/python3.10/site-packages/langchain_core/_api/deprecation.py:189: LangChainDeprecationWarning: The function `run` was deprecated in LangChain 0.1.0 and will be removed in 0.2.0. Use invoke instead.\n",
      "  warn_deprecated(\n",
      "/opt/conda/lib/python3.10/site-packages/langchain_core/_api/deprecation.py:189: LangChainDeprecationWarning: The function `__call__` was deprecated in LangChain 0.1.0 and will be removed in 0.2.0. Use invoke instead.\n",
      "  warn_deprecated(\n",
      "/opt/conda/lib/python3.10/site-packages/langchain_core/_api/deprecation.py:189: LangChainDeprecationWarning: The function `__call__` was deprecated in LangChain 0.1.0 and will be removed in 0.2.0. Use invoke instead.\n",
      "  warn_deprecated(\n"
     ]
    },
    {
     "name": "stdout",
     "output_type": "stream",
     "text": [
      " B.  Undang-Undang Nomor 12 Tahun 2008\n",
      "\n",
      "\n",
      "Sources:\n",
      "Time:  68.77982831001282\n",
      "==============================================\n",
      "Nomor:  45\n",
      "Undang-Undang Nomor 12 Tahun 2008 tentang Perubahan Kedua Atas Undang-Undang Nomor 32 Tahun 2004 tentang Pemerintahan Daerah, dalam Pasal  236C menetapkan...\\n A.  Penanganan sengketa hasil penghitungan suara pemilihan kepala daerah dan wakil kepala daerah oleh Mahkamah Agung dialihkan kepada Mahkamah Konstitusi paling lama 18 (delapan belas) bulan sejak Undang-Undang ini diundangkan\\n B.  Mahkamah Agung berwenang mengadili pada tingkat pertama dan terakhir yang putusannya bersifat final, antara lain, untuk memutus perselisihan tentang hasil pemilihan umum\\n C.  Mahkamah Konstitusi berwenang mengadili pada tingkat pertama dan terakhir yang putusannya bersifat final, antara lain, untuk memutus perselisihan tentang hasil pemilihan umum\\n D.  Kepolisian Negara Indonesia mengadili pada tingkat pertama dan terakhir yang putusannya bersifat final, antara lain, untuk memutus perselisihan tentang hasil pemilihan umum\\n E.  Presiden Republik Indonesia mengadili pada tingkat pertama dan terakhir yang putusannya bersifat final, antara lain, untuk memutus perselisihan tentang hasil pemilihan umum\n"
     ]
    },
    {
     "name": "stderr",
     "output_type": "stream",
     "text": [
      "/opt/conda/lib/python3.10/site-packages/langchain_core/_api/deprecation.py:189: LangChainDeprecationWarning: The function `__call__` was deprecated in LangChain 0.1.0 and will be removed in 0.2.0. Use invoke instead.\n",
      "  warn_deprecated(\n",
      "/opt/conda/lib/python3.10/site-packages/langchain_core/_api/deprecation.py:189: LangChainDeprecationWarning: The function `run` was deprecated in LangChain 0.1.0 and will be removed in 0.2.0. Use invoke instead.\n",
      "  warn_deprecated(\n",
      "/opt/conda/lib/python3.10/site-packages/langchain_core/_api/deprecation.py:189: LangChainDeprecationWarning: The function `__call__` was deprecated in LangChain 0.1.0 and will be removed in 0.2.0. Use invoke instead.\n",
      "  warn_deprecated(\n",
      "/opt/conda/lib/python3.10/site-packages/langchain_core/_api/deprecation.py:189: LangChainDeprecationWarning: The function `__call__` was deprecated in LangChain 0.1.0 and will be removed in 0.2.0. Use invoke instead.\n",
      "  warn_deprecated(\n"
     ]
    },
    {
     "name": "stdout",
     "output_type": "stream",
     "text": [
      " E. Presiden Republik Indonesia mengadili pada tingkat pertama dan terakhir yang putusannya bersifat final,\n",
      "antara lain, untuk memputus perselisihan tentang hasil pemilihan umum\n",
      "\n",
      "\n",
      "Sources:\n",
      "Time:  164.80406403541565\n",
      "==============================================\n",
      "Nomor:  46\n",
      "Gubernur, Bupati, dan walikota masing-masing sebagai kepala pemerintah daerah provinsi, kabupaten, dan kota dipilih secara demokratis, ada pada pasal…\\n A.  UU Dasar 1945 Pasal 18 ayat (4)\\n B.  UU Dasar 1945 Pasal 22E ayat (1)\\n C.  UU Dasar 1945 Pasal 27 ayat (1)\\n D.  UU Dasar 1945 Pasal 28C ayat (2)\\n E.  UU Dasar 1945 Pasal 28D ayat (1)\n"
     ]
    },
    {
     "name": "stderr",
     "output_type": "stream",
     "text": [
      "/opt/conda/lib/python3.10/site-packages/langchain_core/_api/deprecation.py:189: LangChainDeprecationWarning: The function `__call__` was deprecated in LangChain 0.1.0 and will be removed in 0.2.0. Use invoke instead.\n",
      "  warn_deprecated(\n",
      "/opt/conda/lib/python3.10/site-packages/langchain_core/_api/deprecation.py:189: LangChainDeprecationWarning: The function `run` was deprecated in LangChain 0.1.0 and will be removed in 0.2.0. Use invoke instead.\n",
      "  warn_deprecated(\n",
      "/opt/conda/lib/python3.10/site-packages/langchain_core/_api/deprecation.py:189: LangChainDeprecationWarning: The function `__call__` was deprecated in LangChain 0.1.0 and will be removed in 0.2.0. Use invoke instead.\n",
      "  warn_deprecated(\n",
      "/opt/conda/lib/python3.10/site-packages/langchain_core/_api/deprecation.py:189: LangChainDeprecationWarning: The function `__call__` was deprecated in LangChain 0.1.0 and will be removed in 0.2.0. Use invoke instead.\n",
      "  warn_deprecated(\n"
     ]
    },
    {
     "name": "stdout",
     "output_type": "stream",
     "text": [
      " A.  UU Dasar 1945 Pasal 18 ayat (4)\n",
      "\n",
      "\n",
      "Sources:\n",
      "Time:  76.64641666412354\n",
      "==============================================\n",
      "Nomor:  47\n",
      "Pemilihan umum dilaksanakan secara langsung, umum, bebas, rahasia, jujur, dan adil setiap lima tahun sekali, pada pasal…\\n A.  UU Dasar 1945 Pasal 18 ayat (4)\\n B.  UU Dasar 1945 Pasal 22E ayat (1)\\n C.  UU Dasar 1945 Pasal 27 ayat (1)\\n D.  UU Dasar 1945 Pasal 28C ayat (2)\\n E.  UU Dasar 1945 Pasal 28D ayat (1)\n"
     ]
    },
    {
     "name": "stderr",
     "output_type": "stream",
     "text": [
      "/opt/conda/lib/python3.10/site-packages/langchain_core/_api/deprecation.py:189: LangChainDeprecationWarning: The function `__call__` was deprecated in LangChain 0.1.0 and will be removed in 0.2.0. Use invoke instead.\n",
      "  warn_deprecated(\n",
      "/opt/conda/lib/python3.10/site-packages/langchain_core/_api/deprecation.py:189: LangChainDeprecationWarning: The function `run` was deprecated in LangChain 0.1.0 and will be removed in 0.2.0. Use invoke instead.\n",
      "  warn_deprecated(\n",
      "/opt/conda/lib/python3.10/site-packages/langchain_core/_api/deprecation.py:189: LangChainDeprecationWarning: The function `__call__` was deprecated in LangChain 0.1.0 and will be removed in 0.2.0. Use invoke instead.\n",
      "  warn_deprecated(\n",
      "/opt/conda/lib/python3.10/site-packages/langchain_core/_api/deprecation.py:189: LangChainDeprecationWarning: The function `__call__` was deprecated in LangChain 0.1.0 and will be removed in 0.2.0. Use invoke instead.\n",
      "  warn_deprecated(\n"
     ]
    },
    {
     "name": "stdout",
     "output_type": "stream",
     "text": [
      " C.  UU Dasar 1945 Pasal 27 ayat (1)\n",
      "\n",
      "\n",
      "Sources:\n",
      "Time:  75.43267369270325\n",
      "==============================================\n",
      "Nomor:  48\n",
      "Segala warga negara bersamaan kedudukannya didalam hukum dan pemerintahan dan wajib menjunjung hukum dan pemerintahan itu dengan tidak ada kecualinya, pada pasal…\\n A.  UU Dasar 1945 Pasal 18 ayat (4)\\n B.  UU Dasar 1945 Pasal 22E ayat (1)\\n C.  UU Dasar 1945 Pasal 27 ayat (1)\\n D.  UU Dasar 1945 Pasal 28C ayat (2)\\n E.  UU Dasar 1945 Pasal 28D ayat (1)\n"
     ]
    },
    {
     "name": "stderr",
     "output_type": "stream",
     "text": [
      "/opt/conda/lib/python3.10/site-packages/langchain_core/_api/deprecation.py:189: LangChainDeprecationWarning: The function `__call__` was deprecated in LangChain 0.1.0 and will be removed in 0.2.0. Use invoke instead.\n",
      "  warn_deprecated(\n",
      "/opt/conda/lib/python3.10/site-packages/langchain_core/_api/deprecation.py:189: LangChainDeprecationWarning: The function `run` was deprecated in LangChain 0.1.0 and will be removed in 0.2.0. Use invoke instead.\n",
      "  warn_deprecated(\n",
      "/opt/conda/lib/python3.10/site-packages/langchain_core/_api/deprecation.py:189: LangChainDeprecationWarning: The function `__call__` was deprecated in LangChain 0.1.0 and will be removed in 0.2.0. Use invoke instead.\n",
      "  warn_deprecated(\n",
      "/opt/conda/lib/python3.10/site-packages/langchain_core/_api/deprecation.py:189: LangChainDeprecationWarning: The function `__call__` was deprecated in LangChain 0.1.0 and will be removed in 0.2.0. Use invoke instead.\n",
      "  warn_deprecated(\n"
     ]
    },
    {
     "name": "stdout",
     "output_type": "stream",
     "text": [
      " A.  UU Dasar 1945 Pasal 18 ayat (4)\n",
      "\n",
      "\n",
      "Sources:\n",
      "Time:  78.59870886802673\n",
      "==============================================\n",
      "Nomor:  49\n",
      "Setiap orang berhak untuk memajukan dirinya dalam memperjuangkan haknya secara kolektif untuk membangun masyarakat, bangsa dan negaranya, ada pada pasal…\\n A.  UU Dasar 1945 Pasal 18 ayat (4)\\n B.  UU Dasar 1945 Pasal 22E ayat (1)\\n C.  UU Dasar 1945 Pasal 27 ayat (1)\\n D.  UU Dasar 1945 Pasal 28C ayat (2)\\n E.  UU Dasar 1945 Pasal 28D ayat (1)\n"
     ]
    },
    {
     "name": "stderr",
     "output_type": "stream",
     "text": [
      "/opt/conda/lib/python3.10/site-packages/langchain_core/_api/deprecation.py:189: LangChainDeprecationWarning: The function `__call__` was deprecated in LangChain 0.1.0 and will be removed in 0.2.0. Use invoke instead.\n",
      "  warn_deprecated(\n",
      "/opt/conda/lib/python3.10/site-packages/langchain_core/_api/deprecation.py:189: LangChainDeprecationWarning: The function `run` was deprecated in LangChain 0.1.0 and will be removed in 0.2.0. Use invoke instead.\n",
      "  warn_deprecated(\n",
      "/opt/conda/lib/python3.10/site-packages/langchain_core/_api/deprecation.py:189: LangChainDeprecationWarning: The function `__call__` was deprecated in LangChain 0.1.0 and will be removed in 0.2.0. Use invoke instead.\n",
      "  warn_deprecated(\n",
      "/opt/conda/lib/python3.10/site-packages/langchain_core/_api/deprecation.py:189: LangChainDeprecationWarning: The function `__call__` was deprecated in LangChain 0.1.0 and will be removed in 0.2.0. Use invoke instead.\n",
      "  warn_deprecated(\n"
     ]
    },
    {
     "name": "stdout",
     "output_type": "stream",
     "text": [
      " A.  UU Dasar 1945 Pasal 18 ayat (4)\n",
      "\n",
      "\n",
      "Sources:\n",
      "Time:  76.7578957080841\n",
      "==============================================\n",
      "Nomor:  50\n",
      "Setiap orang berhak atas pengakuan, jaminan, perlindungan, dan kepastian hukum yan adil serta perlakuan yang sama dihadapan hukum, ada pada pasal…\\n A.  UU Dasar 1945 Pasal 18 ayat (4)\\n B.  UU Dasar 1945 Pasal 22E ayat (1)\\n C.  UU Dasar 1945 Pasal 27 ayat (1)\\n D.  UU Dasar 1945 Pasal 28C ayat (2)\\n E.  UU Dasar 1945 Pasal 28D ayat (1)\n"
     ]
    },
    {
     "name": "stderr",
     "output_type": "stream",
     "text": [
      "/opt/conda/lib/python3.10/site-packages/langchain_core/_api/deprecation.py:189: LangChainDeprecationWarning: The function `__call__` was deprecated in LangChain 0.1.0 and will be removed in 0.2.0. Use invoke instead.\n",
      "  warn_deprecated(\n",
      "/opt/conda/lib/python3.10/site-packages/langchain_core/_api/deprecation.py:189: LangChainDeprecationWarning: The function `run` was deprecated in LangChain 0.1.0 and will be removed in 0.2.0. Use invoke instead.\n",
      "  warn_deprecated(\n",
      "/opt/conda/lib/python3.10/site-packages/langchain_core/_api/deprecation.py:189: LangChainDeprecationWarning: The function `__call__` was deprecated in LangChain 0.1.0 and will be removed in 0.2.0. Use invoke instead.\n",
      "  warn_deprecated(\n",
      "/opt/conda/lib/python3.10/site-packages/langchain_core/_api/deprecation.py:189: LangChainDeprecationWarning: The function `__call__` was deprecated in LangChain 0.1.0 and will be removed in 0.2.0. Use invoke instead.\n",
      "  warn_deprecated(\n"
     ]
    },
    {
     "name": "stdout",
     "output_type": "stream",
     "text": [
      " A.  UU Dasar 1945 Pasal 18 ayat (4)\n",
      "\n",
      "\n",
      "Sources:\n",
      "Time:  78.46501111984253\n",
      "==============================================\n",
      "Nomor:  51\n",
      "Based on Article 24C paragraph (1) of the 1945 Constitution of the Republic of Indonesia (hereinafter referred to as the 1945 Constitution) states that…\\n A.  The Supreme Court has the authority to adjudicate at the first and final level whose decisions are final, among other things, to decide disputes regarding the results of general elections \\n B.  The Constitutional Court has the authority to adjudicate at the first and final level whose decisions are final, among other things, to decide disputes regarding the results of general elections \\n C.  The Indonesian National Police adjudicates at the first and final level whose decision is final, among other things, to decide disputes regarding the results of the general election\\n D.  Presiden Republik Indonesia mengadili pada tingkat pertama dan terakhir yang putusannya bersifat final, antara lain, untuk memutus perselisihan tentang hasil pemilihan umum\\n E.  The President of the Republic of Indonesia adjudicates at the first and final level whose decision is final, among other things, to decide disputes regarding the results of the general election \n"
     ]
    },
    {
     "name": "stderr",
     "output_type": "stream",
     "text": [
      "/opt/conda/lib/python3.10/site-packages/langchain_core/_api/deprecation.py:189: LangChainDeprecationWarning: The function `__call__` was deprecated in LangChain 0.1.0 and will be removed in 0.2.0. Use invoke instead.\n",
      "  warn_deprecated(\n",
      "/opt/conda/lib/python3.10/site-packages/langchain_core/_api/deprecation.py:189: LangChainDeprecationWarning: The function `run` was deprecated in LangChain 0.1.0 and will be removed in 0.2.0. Use invoke instead.\n",
      "  warn_deprecated(\n",
      "/opt/conda/lib/python3.10/site-packages/langchain_core/_api/deprecation.py:189: LangChainDeprecationWarning: The function `__call__` was deprecated in LangChain 0.1.0 and will be removed in 0.2.0. Use invoke instead.\n",
      "  warn_deprecated(\n",
      "/opt/conda/lib/python3.10/site-packages/langchain_core/_api/deprecation.py:189: LangChainDeprecationWarning: The function `__call__` was deprecated in LangChain 0.1.0 and will be removed in 0.2.0. Use invoke instead.\n",
      "  warn_deprecated(\n"
     ]
    },
    {
     "name": "stdout",
     "output_type": "stream",
     "text": [
      " B. The Constitutional Court has the authority to adjudicate at the first and final level whose decisions are\n",
      "final, among other things, to decide disputes regarding the results of general elections\n",
      "\n",
      "\n",
      "Sources:\n",
      "Time:  108.37926173210144\n",
      "==============================================\n",
      "Nomor:  52\n",
      "Applications are submitted within a maximum period of 3 x 24 (three times twenty four) hours from the announcement of the determination of the vote results for the National DPR and DPRD Member Elections by the KPU. The contents of this statement are in article...\\n A.  Article 70 paragraph (3) of the Constitutional Court Law, Article 111 paragraph (2) of the Election Law, and Article 6 paragraph (1) of PMK Number 2 of 2018\\n B.  Article 74 paragraph (3) of the Constitutional Court Law, Article 474 paragraph (2) of the Election Law, and Article 2 paragraph (1) of PMK Number 2 of 2011\\n C.  Article 74 paragraph (3) of the Constitutional Court Law, Article 474 paragraph (2) of the Election Law, and Article 1 paragraph (1) of PMK Number 2 of 2018\\n D.  Pasal 74 ayat (3) UU MK, Pasal 474 ayat (2) UU Pemilu, dan Pasal 6 ayat (1) PMK Nomor 2 Tahun 2018\\n E.  Article 74 paragraph (3) of the Constitutional Court Law, Article 474 paragraph (2) of the Election Law, and Article 6 paragraph (1) of PMK Number 2 of 2018\n"
     ]
    },
    {
     "name": "stderr",
     "output_type": "stream",
     "text": [
      "/opt/conda/lib/python3.10/site-packages/langchain_core/_api/deprecation.py:189: LangChainDeprecationWarning: The function `__call__` was deprecated in LangChain 0.1.0 and will be removed in 0.2.0. Use invoke instead.\n",
      "  warn_deprecated(\n",
      "/opt/conda/lib/python3.10/site-packages/langchain_core/_api/deprecation.py:189: LangChainDeprecationWarning: The function `run` was deprecated in LangChain 0.1.0 and will be removed in 0.2.0. Use invoke instead.\n",
      "  warn_deprecated(\n",
      "/opt/conda/lib/python3.10/site-packages/langchain_core/_api/deprecation.py:189: LangChainDeprecationWarning: The function `__call__` was deprecated in LangChain 0.1.0 and will be removed in 0.2.0. Use invoke instead.\n",
      "  warn_deprecated(\n",
      "/opt/conda/lib/python3.10/site-packages/langchain_core/_api/deprecation.py:189: LangChainDeprecationWarning: The function `__call__` was deprecated in LangChain 0.1.0 and will be removed in 0.2.0. Use invoke instead.\n",
      "  warn_deprecated(\n"
     ]
    },
    {
     "name": "stdout",
     "output_type": "stream",
     "text": [
      " D\n",
      "\n",
      "\n",
      "Sources:\n",
      "Time:  119.49527025222778\n",
      "==============================================\n",
      "Nomor:  53\n",
      "Article 1 paragraph (3) of the 1945 Constitution which reads…\\n A.  Indonesia is a country of law\\n B.  Indonesia is an Islamic country\\n C.  Indonesia is a liberal country\\n D.  Negara Indonesia adalah negara kepulauan\\n E.  Indonesia is an archipelagic country\n"
     ]
    },
    {
     "name": "stderr",
     "output_type": "stream",
     "text": [
      "/opt/conda/lib/python3.10/site-packages/langchain_core/_api/deprecation.py:189: LangChainDeprecationWarning: The function `__call__` was deprecated in LangChain 0.1.0 and will be removed in 0.2.0. Use invoke instead.\n",
      "  warn_deprecated(\n",
      "/opt/conda/lib/python3.10/site-packages/langchain_core/_api/deprecation.py:189: LangChainDeprecationWarning: The function `run` was deprecated in LangChain 0.1.0 and will be removed in 0.2.0. Use invoke instead.\n",
      "  warn_deprecated(\n",
      "/opt/conda/lib/python3.10/site-packages/langchain_core/_api/deprecation.py:189: LangChainDeprecationWarning: The function `__call__` was deprecated in LangChain 0.1.0 and will be removed in 0.2.0. Use invoke instead.\n",
      "  warn_deprecated(\n",
      "/opt/conda/lib/python3.10/site-packages/langchain_core/_api/deprecation.py:189: LangChainDeprecationWarning: The function `__call__` was deprecated in LangChain 0.1.0 and will be removed in 0.2.0. Use invoke instead.\n",
      "  warn_deprecated(\n"
     ]
    },
    {
     "name": "stdout",
     "output_type": "stream",
     "text": [
      " D. Negara Indonesia adalah negara kepulauan\n",
      "\n",
      "\n",
      "Sources:\n",
      "Time:  44.41124773025513\n",
      "==============================================\n",
      "Nomor:  54\n",
      "Whereas the norm of Article 244 of the KUHP has created uncertainty for the Petitioner and that this uncertainty has harmed his Constitutional Rights as stipulated in…\\n A.  Article 21D paragraph (1) of the 1945 Constitution\\n B.  Article 22D paragraph (1) of the 1945 Constitution\\n C.  Article 23D paragraph (1) of the 1945 Constitution\\n D.  Pasal 24D ayat (1) UUD 1945\\n E.  Article 24D paragraph (1) of the 1945 Constitution\n"
     ]
    },
    {
     "name": "stderr",
     "output_type": "stream",
     "text": [
      "/opt/conda/lib/python3.10/site-packages/langchain_core/_api/deprecation.py:189: LangChainDeprecationWarning: The function `__call__` was deprecated in LangChain 0.1.0 and will be removed in 0.2.0. Use invoke instead.\n",
      "  warn_deprecated(\n",
      "/opt/conda/lib/python3.10/site-packages/langchain_core/_api/deprecation.py:189: LangChainDeprecationWarning: The function `run` was deprecated in LangChain 0.1.0 and will be removed in 0.2.0. Use invoke instead.\n",
      "  warn_deprecated(\n",
      "/opt/conda/lib/python3.10/site-packages/langchain_core/_api/deprecation.py:189: LangChainDeprecationWarning: The function `__call__` was deprecated in LangChain 0.1.0 and will be removed in 0.2.0. Use invoke instead.\n",
      "  warn_deprecated(\n",
      "/opt/conda/lib/python3.10/site-packages/langchain_core/_api/deprecation.py:189: LangChainDeprecationWarning: The function `__call__` was deprecated in LangChain 0.1.0 and will be removed in 0.2.0. Use invoke instead.\n",
      "  warn_deprecated(\n"
     ]
    },
    {
     "name": "stdout",
     "output_type": "stream",
     "text": [
      " E. Article 24D paragraph (1) of the 1945 Constitution\n",
      "\n",
      "\n",
      "Sources:\n",
      "Time:  69.10573244094849\n",
      "==============================================\n",
      "Nomor:  55\n",
      "The formulation of Article 244 of the KUHP reads...\\n A.  Decisions in criminal cases cannot be given by the Supreme Court, they can only be given by the Constitutional Court.\\n B.  Regarding a criminal case decision given at the final level by a court other than the Supreme Court, the defendant or Public Prosecutor may submit a request for a cassation hearing to the Supreme Court against the acquittal decision.\\n C.  Regarding criminal case decisions rendered at the final level by courts other than the Supreme Court, the defendant or Public Prosecutor may submit a request for a cassation hearing to the Supreme Court except for acquittal decisions.\\n D.  Mengenai kedudukan hukum para Pemohon Pemerintah menyerahkansepenuhnya kepada Majelis Hakim untuk menilai dan memutusnya.\\n E.  Regarding the legal status of the Petitioners, the Government has left it entirely up to the Panel of Judges to assess and decide.\n"
     ]
    },
    {
     "name": "stderr",
     "output_type": "stream",
     "text": [
      "/opt/conda/lib/python3.10/site-packages/langchain_core/_api/deprecation.py:189: LangChainDeprecationWarning: The function `__call__` was deprecated in LangChain 0.1.0 and will be removed in 0.2.0. Use invoke instead.\n",
      "  warn_deprecated(\n",
      "/opt/conda/lib/python3.10/site-packages/langchain_core/_api/deprecation.py:189: LangChainDeprecationWarning: The function `run` was deprecated in LangChain 0.1.0 and will be removed in 0.2.0. Use invoke instead.\n",
      "  warn_deprecated(\n",
      "/opt/conda/lib/python3.10/site-packages/langchain_core/_api/deprecation.py:189: LangChainDeprecationWarning: The function `__call__` was deprecated in LangChain 0.1.0 and will be removed in 0.2.0. Use invoke instead.\n",
      "  warn_deprecated(\n",
      "/opt/conda/lib/python3.10/site-packages/langchain_core/_api/deprecation.py:189: LangChainDeprecationWarning: The function `__call__` was deprecated in LangChain 0.1.0 and will be removed in 0.2.0. Use invoke instead.\n",
      "  warn_deprecated(\n"
     ]
    },
    {
     "name": "stdout",
     "output_type": "stream",
     "text": [
      " D\n",
      "\n",
      "\n",
      "Sources:\n",
      "Time:  87.25522112846375\n",
      "==============================================\n",
      "Nomor:  56\n",
      "All citizens are equal under the law and government and are obliged to uphold the law and government without exception, as stated in Article…\\n A.  Article 27 paragraph (1)\\n B.  Article 28C paragraph (2)\\n C.  Article 28D paragraph (1)\\n D.  Article 28E paragraph (3)\\n E.  Article 28I paragraph (2)\n"
     ]
    },
    {
     "name": "stderr",
     "output_type": "stream",
     "text": [
      "/opt/conda/lib/python3.10/site-packages/langchain_core/_api/deprecation.py:189: LangChainDeprecationWarning: The function `__call__` was deprecated in LangChain 0.1.0 and will be removed in 0.2.0. Use invoke instead.\n",
      "  warn_deprecated(\n",
      "/opt/conda/lib/python3.10/site-packages/langchain_core/_api/deprecation.py:189: LangChainDeprecationWarning: The function `run` was deprecated in LangChain 0.1.0 and will be removed in 0.2.0. Use invoke instead.\n",
      "  warn_deprecated(\n",
      "/opt/conda/lib/python3.10/site-packages/langchain_core/_api/deprecation.py:189: LangChainDeprecationWarning: The function `__call__` was deprecated in LangChain 0.1.0 and will be removed in 0.2.0. Use invoke instead.\n",
      "  warn_deprecated(\n",
      "/opt/conda/lib/python3.10/site-packages/langchain_core/_api/deprecation.py:189: LangChainDeprecationWarning: The function `__call__` was deprecated in LangChain 0.1.0 and will be removed in 0.2.0. Use invoke instead.\n",
      "  warn_deprecated(\n"
     ]
    },
    {
     "name": "stdout",
     "output_type": "stream",
     "text": [
      " All citizens are equal under the law and government and are obliged to uphold the law and government without\n",
      "exception, as stated in Article 27 paragraph (1).\n",
      "\n",
      "\n",
      "Sources:\n",
      "Time:  55.40067958831787\n",
      "==============================================\n",
      "Nomor:  57\n",
      "Everyone has the right to advance themselves in fighting for their rights collectively to develop their society, nation and state, as stated in Article…\\n A.  Article 27 paragraph (1)\\n B.  Article 28C paragraph (2)\\n C.  Article 28D paragraph (1)\\n D.  Article 28E paragraph (3)\\n E.  Article 28I paragraph (2)\n"
     ]
    },
    {
     "name": "stderr",
     "output_type": "stream",
     "text": [
      "/opt/conda/lib/python3.10/site-packages/langchain_core/_api/deprecation.py:189: LangChainDeprecationWarning: The function `__call__` was deprecated in LangChain 0.1.0 and will be removed in 0.2.0. Use invoke instead.\n",
      "  warn_deprecated(\n",
      "/opt/conda/lib/python3.10/site-packages/langchain_core/_api/deprecation.py:189: LangChainDeprecationWarning: The function `run` was deprecated in LangChain 0.1.0 and will be removed in 0.2.0. Use invoke instead.\n",
      "  warn_deprecated(\n",
      "/opt/conda/lib/python3.10/site-packages/langchain_core/_api/deprecation.py:189: LangChainDeprecationWarning: The function `__call__` was deprecated in LangChain 0.1.0 and will be removed in 0.2.0. Use invoke instead.\n",
      "  warn_deprecated(\n",
      "/opt/conda/lib/python3.10/site-packages/langchain_core/_api/deprecation.py:189: LangChainDeprecationWarning: The function `__call__` was deprecated in LangChain 0.1.0 and will be removed in 0.2.0. Use invoke instead.\n",
      "  warn_deprecated(\n"
     ]
    },
    {
     "name": "stdout",
     "output_type": "stream",
     "text": [
      " Everyone has the right to advance themselves in fighting for their rights collectively to develop their\n",
      "society, nation and state, as stated in Article 27 paragraph (1).\n",
      "\n",
      "\n",
      "Sources:\n",
      "Time:  55.6438844203949\n",
      "==============================================\n",
      "Nomor:  58\n",
      "Everyone has the right to recognition, guarantees, protection and fair legal certainty as well as equal treatment before the law, as stated in Article…\\n A.  Article 27 paragraph (1)\\n B.  Article 28C paragraph (2)\\n C.  Article 28D paragraph (1)\\n D.  Article 28E paragraph (3)\\n E.  Article 28I paragraph (2)\n"
     ]
    },
    {
     "name": "stderr",
     "output_type": "stream",
     "text": [
      "/opt/conda/lib/python3.10/site-packages/langchain_core/_api/deprecation.py:189: LangChainDeprecationWarning: The function `__call__` was deprecated in LangChain 0.1.0 and will be removed in 0.2.0. Use invoke instead.\n",
      "  warn_deprecated(\n",
      "/opt/conda/lib/python3.10/site-packages/langchain_core/_api/deprecation.py:189: LangChainDeprecationWarning: The function `run` was deprecated in LangChain 0.1.0 and will be removed in 0.2.0. Use invoke instead.\n",
      "  warn_deprecated(\n",
      "/opt/conda/lib/python3.10/site-packages/langchain_core/_api/deprecation.py:189: LangChainDeprecationWarning: The function `__call__` was deprecated in LangChain 0.1.0 and will be removed in 0.2.0. Use invoke instead.\n",
      "  warn_deprecated(\n",
      "/opt/conda/lib/python3.10/site-packages/langchain_core/_api/deprecation.py:189: LangChainDeprecationWarning: The function `__call__` was deprecated in LangChain 0.1.0 and will be removed in 0.2.0. Use invoke instead.\n",
      "  warn_deprecated(\n"
     ]
    },
    {
     "name": "stdout",
     "output_type": "stream",
     "text": [
      " Everyone has the right to recognition, guarantees, protection and fair legal certainty as well as equal\n",
      "treatment before the law, as stated in Article 28C paragraph (2).\n",
      "\n",
      "\n",
      "Sources:\n",
      "Time:  55.82961678504944\n",
      "==============================================\n",
      "Nomor:  59\n",
      "Everyone has the right to freedom of association, assembly and expression of opinion, as stated in Article…\\n A.  Article 27 paragraph (1)\\n B.  Article 28C paragraph (2)\\n C.  Article 28D paragraph (1)\\n D.  Article 28E paragraph (3)\\n E.  Article 28I paragraph (2)\n"
     ]
    },
    {
     "name": "stderr",
     "output_type": "stream",
     "text": [
      "/opt/conda/lib/python3.10/site-packages/langchain_core/_api/deprecation.py:189: LangChainDeprecationWarning: The function `__call__` was deprecated in LangChain 0.1.0 and will be removed in 0.2.0. Use invoke instead.\n",
      "  warn_deprecated(\n",
      "/opt/conda/lib/python3.10/site-packages/langchain_core/_api/deprecation.py:189: LangChainDeprecationWarning: The function `run` was deprecated in LangChain 0.1.0 and will be removed in 0.2.0. Use invoke instead.\n",
      "  warn_deprecated(\n",
      "/opt/conda/lib/python3.10/site-packages/langchain_core/_api/deprecation.py:189: LangChainDeprecationWarning: The function `__call__` was deprecated in LangChain 0.1.0 and will be removed in 0.2.0. Use invoke instead.\n",
      "  warn_deprecated(\n",
      "/opt/conda/lib/python3.10/site-packages/langchain_core/_api/deprecation.py:189: LangChainDeprecationWarning: The function `__call__` was deprecated in LangChain 0.1.0 and will be removed in 0.2.0. Use invoke instead.\n",
      "  warn_deprecated(\n"
     ]
    },
    {
     "name": "stdout",
     "output_type": "stream",
     "text": [
      " Everyone has the right to freedom of association, assembly and expression of opinion, as stated in Article 27\n",
      "paragraph (1).\n",
      "\n",
      "\n",
      "Sources:\n",
      "Time:  50.64149880409241\n",
      "==============================================\n",
      "Nomor:  60\n",
      "Every person has the right to be free from discriminatory treatment on any basis and has the right to receive protection against such discriminatory treatment, as stated in Article…\\n A.  Article 27 paragraph (1)\\n B.  Article 28C paragraph (2)\\n C.  Article 28D paragraph (1)\\n D.  Article 28E paragraph (3)\\n E.  Article 28I paragraph (2)\n"
     ]
    },
    {
     "name": "stderr",
     "output_type": "stream",
     "text": [
      "/opt/conda/lib/python3.10/site-packages/langchain_core/_api/deprecation.py:189: LangChainDeprecationWarning: The function `__call__` was deprecated in LangChain 0.1.0 and will be removed in 0.2.0. Use invoke instead.\n",
      "  warn_deprecated(\n",
      "/opt/conda/lib/python3.10/site-packages/langchain_core/_api/deprecation.py:189: LangChainDeprecationWarning: The function `run` was deprecated in LangChain 0.1.0 and will be removed in 0.2.0. Use invoke instead.\n",
      "  warn_deprecated(\n",
      "/opt/conda/lib/python3.10/site-packages/langchain_core/_api/deprecation.py:189: LangChainDeprecationWarning: The function `__call__` was deprecated in LangChain 0.1.0 and will be removed in 0.2.0. Use invoke instead.\n",
      "  warn_deprecated(\n",
      "/opt/conda/lib/python3.10/site-packages/langchain_core/_api/deprecation.py:189: LangChainDeprecationWarning: The function `__call__` was deprecated in LangChain 0.1.0 and will be removed in 0.2.0. Use invoke instead.\n",
      "  warn_deprecated(\n"
     ]
    },
    {
     "name": "stdout",
     "output_type": "stream",
     "text": [
      " A.  Article 27 paragraph (1)\n",
      "\n",
      "\n",
      "Sources:\n",
      "Time:  50.66504406929016\n",
      "==============================================\n",
      "Nomor:  61\n",
      "The applicant can withdraw his application before or during the Constitutional Court examination, and such withdrawal means that the application cannot be resubmitted, in article…\\n A.  Article 31 of Law Number 24 of 2003 concerning the Constitutional Court\\n B.  Article 32 of Law Number 24 of 2003 concerning the Constitutional Court\\n C.  Article 35 of Law Number 23 of 2003 concerning the Constitutional Court\\n D.  Article 35 of Law Number 24 of 2003 concerning the Constitutional Court\\n E.  Article 35 of Law Number 25 of 2003 concerning the Constitutional Court\n"
     ]
    },
    {
     "name": "stderr",
     "output_type": "stream",
     "text": [
      "/opt/conda/lib/python3.10/site-packages/langchain_core/_api/deprecation.py:189: LangChainDeprecationWarning: The function `__call__` was deprecated in LangChain 0.1.0 and will be removed in 0.2.0. Use invoke instead.\n",
      "  warn_deprecated(\n",
      "/opt/conda/lib/python3.10/site-packages/langchain_core/_api/deprecation.py:189: LangChainDeprecationWarning: The function `run` was deprecated in LangChain 0.1.0 and will be removed in 0.2.0. Use invoke instead.\n",
      "  warn_deprecated(\n",
      "/opt/conda/lib/python3.10/site-packages/langchain_core/_api/deprecation.py:189: LangChainDeprecationWarning: The function `__call__` was deprecated in LangChain 0.1.0 and will be removed in 0.2.0. Use invoke instead.\n",
      "  warn_deprecated(\n",
      "/opt/conda/lib/python3.10/site-packages/langchain_core/_api/deprecation.py:189: LangChainDeprecationWarning: The function `__call__` was deprecated in LangChain 0.1.0 and will be removed in 0.2.0. Use invoke instead.\n",
      "  warn_deprecated(\n"
     ]
    },
    {
     "name": "stdout",
     "output_type": "stream",
     "text": [
      " The applicant can withdraw his application before or during the Constitutional Court examination, and such\n",
      "withdrawal means that the application cannot be resubmitted, in article A.\n",
      "\n",
      "\n",
      "Sources:\n",
      "Time:  75.23424410820007\n",
      "==============================================\n",
      "Nomor:  62\n",
      "Regarding the General Election, Members of the DPR, DPD, and DPRD stated that election participants and members of the public, through witnesses who were present, could submit objections to the course and results of the vote count at the TPS, PPS, PPK, City/Regency KPUD, Provincial KPU, and Central KPU. If it turns out that there are things that are not in accordance with statutory regulations, it is on...\\n A.  Article 96 paragraph (8), Article 95 paragraph (3), Article 98 paragraph (3), Article 99 paragraph (5), Article 100 paragraph (5), and Article 101 paragraph (6)\\n B.  Article 96 paragraph (8), Article 95 paragraph (1), Article 98 paragraph (3), Article 99 paragraph (5), Article 100 paragraph (5), and Article 101 paragraph (6)\\n C.  Article 96 paragraph (8), Article 96 paragraph (3), Article 98 paragraph (3), Article 99 paragraph (5), Article 100 paragraph (5), and Article 101 paragraph (6)\\n D.  Article 96 paragraph (8), Article 97 paragraph (9), Article 98 paragraph (3), Article 99 paragraph (5), Article 100 paragraph (5), and Article 101 paragraph (6)\\n E.  Article 96 paragraph (8), Article 97 paragraph (3), Article 98 paragraph (3), Article 99 paragraph (5), Article 100 paragraph (5), and Article 101 paragraph (6)\n"
     ]
    },
    {
     "name": "stderr",
     "output_type": "stream",
     "text": [
      "/opt/conda/lib/python3.10/site-packages/langchain_core/_api/deprecation.py:189: LangChainDeprecationWarning: The function `__call__` was deprecated in LangChain 0.1.0 and will be removed in 0.2.0. Use invoke instead.\n",
      "  warn_deprecated(\n",
      "/opt/conda/lib/python3.10/site-packages/langchain_core/_api/deprecation.py:189: LangChainDeprecationWarning: The function `run` was deprecated in LangChain 0.1.0 and will be removed in 0.2.0. Use invoke instead.\n",
      "  warn_deprecated(\n",
      "/opt/conda/lib/python3.10/site-packages/langchain_core/_api/deprecation.py:189: LangChainDeprecationWarning: The function `__call__` was deprecated in LangChain 0.1.0 and will be removed in 0.2.0. Use invoke instead.\n",
      "  warn_deprecated(\n",
      "/opt/conda/lib/python3.10/site-packages/langchain_core/_api/deprecation.py:189: LangChainDeprecationWarning: The function `__call__` was deprecated in LangChain 0.1.0 and will be removed in 0.2.0. Use invoke instead.\n",
      "  warn_deprecated(\n"
     ]
    },
    {
     "name": "stdout",
     "output_type": "stream",
     "text": [
      " D. Article 96 paragraph (8), Article 97 paragraph (9), Article 98 paragraph (3), Article 99 paragraph (5),\n",
      "Article 100 paragraph (5), and Article 101 paragraph (6)\n",
      "\n",
      "\n",
      "Sources:\n",
      "Time:  147.65836429595947\n",
      "==============================================\n",
      "Nomor:  63\n",
      "In essence, it states that applications can only be made regarding the determination of the results of the General Election conducted nationally by the General Election Commission which influences the election of DPD member candidates, the determination of the presidential and vice presidential candidate pairs and the acquisition of political party seats, on...\\n A.  Whereas article 74 paragraph (2) of Law number 24 of 2003 concerning the Constitutional Court, Law number 12 of 2003 concerning General Election of Members of the DPR, DPD, DPRD\\n B.  Whereas article 73 paragraph (2) of Law number 24 of 2003 concerning the Constitutional Court, Law number 12 of 2003 concerning General Election of Members of the DPR, DPD, DPRD\\n C.  Whereas article 72 paragraph (2) of Law number 24 of 2003 concerning the Constitutional Court, Law number 12 of 2003 concerning General Election of Members of the DPR, DPD, DPRD\\n D.  Whereas article 71 paragraph (2) of Law number 24 of 2003 concerning the Constitutional Court, Law number 12 of 2003 concerning General Election of Members of the DPR, DPD, DPRD\\n E.  Whereas article 70 paragraph (2) of Law number 24 of 2003 concerning the Constitutional Court, Law number 12 of 2003 concerning General Election of Members of the DPR, DPD, DPRD\n"
     ]
    },
    {
     "name": "stderr",
     "output_type": "stream",
     "text": [
      "/opt/conda/lib/python3.10/site-packages/langchain_core/_api/deprecation.py:189: LangChainDeprecationWarning: The function `__call__` was deprecated in LangChain 0.1.0 and will be removed in 0.2.0. Use invoke instead.\n",
      "  warn_deprecated(\n",
      "/opt/conda/lib/python3.10/site-packages/langchain_core/_api/deprecation.py:189: LangChainDeprecationWarning: The function `run` was deprecated in LangChain 0.1.0 and will be removed in 0.2.0. Use invoke instead.\n",
      "  warn_deprecated(\n",
      "/opt/conda/lib/python3.10/site-packages/langchain_core/_api/deprecation.py:189: LangChainDeprecationWarning: The function `__call__` was deprecated in LangChain 0.1.0 and will be removed in 0.2.0. Use invoke instead.\n",
      "  warn_deprecated(\n",
      "/opt/conda/lib/python3.10/site-packages/langchain_core/_api/deprecation.py:189: LangChainDeprecationWarning: The function `__call__` was deprecated in LangChain 0.1.0 and will be removed in 0.2.0. Use invoke instead.\n",
      "  warn_deprecated(\n"
     ]
    },
    {
     "name": "stdout",
     "output_type": "stream",
     "text": [
      " B\n",
      "\n",
      "\n",
      "Sources:\n",
      "Time:  127.12239933013916\n",
      "==============================================\n",
      "Nomor:  64\n",
      "That if the applicant's application is accepted, quod non, article 96 paragraph (8), article 97 paragraph (3), article 98 paragraph (3), article 99 paragraph (5), article 100 paragraph (5) and article 101 paragraph (6) UU no. 12 of 2003 concerning the General Election of Members of the DPR, DPD, DPRD, reads...\\n A.  Mentioning that election participants and members of the public who take part in general elections must be Indonesian citizens is legally wrong\\n B.  Mentions that election participants and members of the public, through witnesses who are present, can submit objections to the process and results of vote counting at TPS, PPS, PPK, City/Regency KPUD, Provincial KPUD and Central KPU if it turns out that there are things that are not in accordance with statutory regulations.\\n C.  Mentioned that the vote counting was carried out by the surrounding RT/RW to make it better\\n D.  Mention that TPU provider participants must have witnesses from each party who submits their candidate\\n E.  Mentions that participants must comply with the rules\n"
     ]
    },
    {
     "name": "stderr",
     "output_type": "stream",
     "text": [
      "/opt/conda/lib/python3.10/site-packages/langchain_core/_api/deprecation.py:189: LangChainDeprecationWarning: The function `__call__` was deprecated in LangChain 0.1.0 and will be removed in 0.2.0. Use invoke instead.\n",
      "  warn_deprecated(\n",
      "/opt/conda/lib/python3.10/site-packages/langchain_core/_api/deprecation.py:189: LangChainDeprecationWarning: The function `run` was deprecated in LangChain 0.1.0 and will be removed in 0.2.0. Use invoke instead.\n",
      "  warn_deprecated(\n",
      "/opt/conda/lib/python3.10/site-packages/langchain_core/_api/deprecation.py:189: LangChainDeprecationWarning: The function `__call__` was deprecated in LangChain 0.1.0 and will be removed in 0.2.0. Use invoke instead.\n",
      "  warn_deprecated(\n",
      "/opt/conda/lib/python3.10/site-packages/langchain_core/_api/deprecation.py:189: LangChainDeprecationWarning: The function `__call__` was deprecated in LangChain 0.1.0 and will be removed in 0.2.0. Use invoke instead.\n",
      "  warn_deprecated(\n"
     ]
    },
    {
     "name": "stdout",
     "output_type": "stream",
     "text": [
      " B\n",
      "\n",
      "\n",
      "Sources:\n",
      "Time:  98.7935311794281\n",
      "==============================================\n",
      "Nomor:  65\n",
      "Citizens who have the right to vote, election observers and/or election participants can report election violations at any stage of election implementation to the Election Supervisor (Panwaslu), located at…\\n A.  Article 121 paragraph (1) and paragraph (2) of Law no. 12 of 2003\\n B.  Article 122 paragraph (1) and paragraph (2) of Law no. 12 of 2003\\n C.  Article 127 paragraph (1) and paragraph (2) of Law no. 12 of 2003\\n D.  Article 126 paragraph (1) and paragraph (2) of Law no. 12 of 2003\\n E.  Article 125 paragraph (1) and paragraph (2) of Law no. 12 of 2003\n"
     ]
    },
    {
     "name": "stderr",
     "output_type": "stream",
     "text": [
      "/opt/conda/lib/python3.10/site-packages/langchain_core/_api/deprecation.py:189: LangChainDeprecationWarning: The function `__call__` was deprecated in LangChain 0.1.0 and will be removed in 0.2.0. Use invoke instead.\n",
      "  warn_deprecated(\n",
      "/opt/conda/lib/python3.10/site-packages/langchain_core/_api/deprecation.py:189: LangChainDeprecationWarning: The function `run` was deprecated in LangChain 0.1.0 and will be removed in 0.2.0. Use invoke instead.\n",
      "  warn_deprecated(\n",
      "/opt/conda/lib/python3.10/site-packages/langchain_core/_api/deprecation.py:189: LangChainDeprecationWarning: The function `__call__` was deprecated in LangChain 0.1.0 and will be removed in 0.2.0. Use invoke instead.\n",
      "  warn_deprecated(\n",
      "/opt/conda/lib/python3.10/site-packages/langchain_core/_api/deprecation.py:189: LangChainDeprecationWarning: The function `__call__` was deprecated in LangChain 0.1.0 and will be removed in 0.2.0. Use invoke instead.\n",
      "  warn_deprecated(\n"
     ]
    },
    {
     "name": "stdout",
     "output_type": "stream",
     "text": [
      " D. Article 126 paragraph (1) and paragraph (2) of Law no. 12 of 2003\n",
      "\n",
      "\n",
      "Sources:\n",
      "Time:  85.91093707084656\n",
      "==============================================\n",
      "Nomor:  66\n",
      "Reports that are disputed in nature and do not contain criminal elements are resolved by the Election Supervisor and those that contain criminal elements are forwarded to investigators and those that are administrative in nature are forwarded to the KPU, stated in...\\n A.  Articles 128 and 130 of Law no. 12 of 2003\\n B.  Articles 127 and 130 of Law no. 12 of 2003\\n C.  Articles 126 and 130 of Law no. 12 of 2003\\n D.  Articles 125 and 130 of Law no. 12 of 2003\\n E.  Articles 124 and 130 of Law no. 12 of 2003\n"
     ]
    },
    {
     "name": "stderr",
     "output_type": "stream",
     "text": [
      "/opt/conda/lib/python3.10/site-packages/langchain_core/_api/deprecation.py:189: LangChainDeprecationWarning: The function `__call__` was deprecated in LangChain 0.1.0 and will be removed in 0.2.0. Use invoke instead.\n",
      "  warn_deprecated(\n",
      "/opt/conda/lib/python3.10/site-packages/langchain_core/_api/deprecation.py:189: LangChainDeprecationWarning: The function `run` was deprecated in LangChain 0.1.0 and will be removed in 0.2.0. Use invoke instead.\n",
      "  warn_deprecated(\n",
      "/opt/conda/lib/python3.10/site-packages/langchain_core/_api/deprecation.py:189: LangChainDeprecationWarning: The function `__call__` was deprecated in LangChain 0.1.0 and will be removed in 0.2.0. Use invoke instead.\n",
      "  warn_deprecated(\n",
      "/opt/conda/lib/python3.10/site-packages/langchain_core/_api/deprecation.py:189: LangChainDeprecationWarning: The function `__call__` was deprecated in LangChain 0.1.0 and will be removed in 0.2.0. Use invoke instead.\n",
      "  warn_deprecated(\n"
     ]
    },
    {
     "name": "stdout",
     "output_type": "stream",
     "text": [
      " B. Articles 127 and 130 of Law no. 12 of 2003\n",
      "\n",
      "\n",
      "Sources:\n",
      "Time:  84.32594895362854\n",
      "==============================================\n",
      "Nomor:  67\n",
      "The Petitioner's candidacy as a Presidential Candidate and/or Vice Presidential Candidate is based on the Petitioner's rights and obligations as a citizen of the Republic of Indonesia which are justified, ratified, guaranteed and protected by, One of the list of articles is...\\n A.  Article 21 A paragraph 1 of the 1945 Republic of Indonesia Constitution\\n B.  Article 20 A paragraph 1 of the 1945 Republic of Indonesia Constitution\\n C.  Preamble to the 1945 Constitution of the Republic of Indonesia\\n D.  Article 10 A paragraph 1 of the 1945 Republic of Indonesia Constitution\\n E.  Article 10 B paragraph 1 of the 1945 Republic of Indonesia Constitution\n"
     ]
    },
    {
     "name": "stderr",
     "output_type": "stream",
     "text": [
      "/opt/conda/lib/python3.10/site-packages/langchain_core/_api/deprecation.py:189: LangChainDeprecationWarning: The function `__call__` was deprecated in LangChain 0.1.0 and will be removed in 0.2.0. Use invoke instead.\n",
      "  warn_deprecated(\n",
      "/opt/conda/lib/python3.10/site-packages/langchain_core/_api/deprecation.py:189: LangChainDeprecationWarning: The function `run` was deprecated in LangChain 0.1.0 and will be removed in 0.2.0. Use invoke instead.\n",
      "  warn_deprecated(\n",
      "/opt/conda/lib/python3.10/site-packages/langchain_core/_api/deprecation.py:189: LangChainDeprecationWarning: The function `__call__` was deprecated in LangChain 0.1.0 and will be removed in 0.2.0. Use invoke instead.\n",
      "  warn_deprecated(\n",
      "/opt/conda/lib/python3.10/site-packages/langchain_core/_api/deprecation.py:189: LangChainDeprecationWarning: The function `__call__` was deprecated in LangChain 0.1.0 and will be removed in 0.2.0. Use invoke instead.\n",
      "  warn_deprecated(\n"
     ]
    },
    {
     "name": "stdout",
     "output_type": "stream",
     "text": [
      " The Petitioner's candidacy as a Presidential Candidate and/or Vice Presidential Candidate is based on the\n",
      "Petitioner's rights and obligations as a citizen of the Republic of Indonesia which are justified, ratified,\n",
      "guaranteed and protected by... D. Article 10 A paragraph 1 of the 1945 Republic of Indonesia Constitution\n",
      "\n",
      "\n",
      "Sources:\n",
      "Time:  93.88743782043457\n",
      "==============================================\n",
      "Nomor:  68\n",
      "The Petitioner's candidacy as a Presidential Candidate and/or Vice Presidential Candidate is based on the Petitioner's rights and obligations as a citizen of the Republic of Indonesia which are justified, ratified, guaranteed and protected by, One of the list of articles is...\\n A.  Article 21 A paragraph 1 of the 1945 Republic of Indonesia Constitution\\n B.  Article 20 A paragraph 1 of the 1945 Republic of Indonesia Constitution\\n C.  Article 10 A paragraph 1 of the 1945 Republic of Indonesia Constitution\\n D.  Article 10 B paragraph 1 of the 1945 Republic of Indonesia Constitution\\n E.  Article 28 J paragraph 1 of the 1944 Republic of Indonesia Constitution\n"
     ]
    },
    {
     "name": "stderr",
     "output_type": "stream",
     "text": [
      "/opt/conda/lib/python3.10/site-packages/langchain_core/_api/deprecation.py:189: LangChainDeprecationWarning: The function `__call__` was deprecated in LangChain 0.1.0 and will be removed in 0.2.0. Use invoke instead.\n",
      "  warn_deprecated(\n",
      "/opt/conda/lib/python3.10/site-packages/langchain_core/_api/deprecation.py:189: LangChainDeprecationWarning: The function `run` was deprecated in LangChain 0.1.0 and will be removed in 0.2.0. Use invoke instead.\n",
      "  warn_deprecated(\n",
      "/opt/conda/lib/python3.10/site-packages/langchain_core/_api/deprecation.py:189: LangChainDeprecationWarning: The function `__call__` was deprecated in LangChain 0.1.0 and will be removed in 0.2.0. Use invoke instead.\n",
      "  warn_deprecated(\n",
      "/opt/conda/lib/python3.10/site-packages/langchain_core/_api/deprecation.py:189: LangChainDeprecationWarning: The function `__call__` was deprecated in LangChain 0.1.0 and will be removed in 0.2.0. Use invoke instead.\n",
      "  warn_deprecated(\n"
     ]
    },
    {
     "name": "stdout",
     "output_type": "stream",
     "text": [
      " The Petitioner's candidacy as a Presidential Candidate and/or Vice Presidential Candidate is based on the\n",
      "Petitioner's rights and obligations as a citizen of the Republic of Indonesia which are justified, ratified,\n",
      "guaranteed and protected by... A. Article 21 A paragraph 1 of the 1945 Republic of Indonesia Constitution\n",
      "\n",
      "\n",
      "Sources:\n",
      "Time:  94.88065004348755\n",
      "==============================================\n",
      "Nomor:  69\n",
      "The Petitioner's candidacy as a Presidential Candidate and/or Vice Presidential Candidate is based on the Petitioner's rights and obligations as a citizen of the Republic of Indonesia which are justified, ratified, guaranteed and protected by, One of the list of articles is...\\n A.  Article 28 I paragraph 2 of the 1945 Republic of Indonesia Constitution\\n B.  Article 21 A paragraph 1 of the 1945 Republic of Indonesia Constitution\\n C.  Article 20 A paragraph 1 of the 1945 Republic of Indonesia Constitution\\n D.  Article 10 A paragraph 1 of the 1945 Republic of Indonesia Constitution\\n E.  Article 10 B paragraph 1 of the 1945 Republic of Indonesia Constitution\n"
     ]
    },
    {
     "name": "stderr",
     "output_type": "stream",
     "text": [
      "/opt/conda/lib/python3.10/site-packages/langchain_core/_api/deprecation.py:189: LangChainDeprecationWarning: The function `__call__` was deprecated in LangChain 0.1.0 and will be removed in 0.2.0. Use invoke instead.\n",
      "  warn_deprecated(\n",
      "/opt/conda/lib/python3.10/site-packages/langchain_core/_api/deprecation.py:189: LangChainDeprecationWarning: The function `run` was deprecated in LangChain 0.1.0 and will be removed in 0.2.0. Use invoke instead.\n",
      "  warn_deprecated(\n",
      "/opt/conda/lib/python3.10/site-packages/langchain_core/_api/deprecation.py:189: LangChainDeprecationWarning: The function `__call__` was deprecated in LangChain 0.1.0 and will be removed in 0.2.0. Use invoke instead.\n",
      "  warn_deprecated(\n",
      "/opt/conda/lib/python3.10/site-packages/langchain_core/_api/deprecation.py:189: LangChainDeprecationWarning: The function `__call__` was deprecated in LangChain 0.1.0 and will be removed in 0.2.0. Use invoke instead.\n",
      "  warn_deprecated(\n"
     ]
    },
    {
     "name": "stdout",
     "output_type": "stream",
     "text": [
      " The Petitioner's candidacy as a Presidential Candidate and/or Vice Presidential Candidate is based on the\n",
      "Petitioner's rights and obligations as a citizen of the Republic of Indonesia which are justified, ratified,\n",
      "guaranteed and protected by... D. Article 10 A paragraph 1 of the 1945 Republic of Indonesia Constitution\n",
      "\n",
      "\n",
      "Sources:\n",
      "Time:  94.53674507141113\n",
      "==============================================\n",
      "Nomor:  70\n",
      "The Petitioner's candidacy as a Presidential Candidate and/or Vice Presidential Candidate is based on the Petitioner's rights and obligations as a citizen of the Republic of Indonesia which are justified, ratified, guaranteed and protected by, One of the list of articles is...\\n A.  Article 21 A paragraph 1 of the 1945 Republic of Indonesia Constitution\\n B.  Article 28 H paragraph 2 of the 1945 Republic of Indonesia Constitution\\n C.  Article 20 A paragraph 1 of the 1945 Republic of Indonesia Constitution\\n D.  Article 2G A paragraph 1 of the 1945 Republic of Indonesia Constitution\\n E.  Article 2X A paragraph 1 of the 1945 Republic of Indonesia Constitution\n"
     ]
    },
    {
     "name": "stderr",
     "output_type": "stream",
     "text": [
      "/opt/conda/lib/python3.10/site-packages/langchain_core/_api/deprecation.py:189: LangChainDeprecationWarning: The function `__call__` was deprecated in LangChain 0.1.0 and will be removed in 0.2.0. Use invoke instead.\n",
      "  warn_deprecated(\n",
      "/opt/conda/lib/python3.10/site-packages/langchain_core/_api/deprecation.py:189: LangChainDeprecationWarning: The function `run` was deprecated in LangChain 0.1.0 and will be removed in 0.2.0. Use invoke instead.\n",
      "  warn_deprecated(\n",
      "/opt/conda/lib/python3.10/site-packages/langchain_core/_api/deprecation.py:189: LangChainDeprecationWarning: The function `__call__` was deprecated in LangChain 0.1.0 and will be removed in 0.2.0. Use invoke instead.\n",
      "  warn_deprecated(\n",
      "/opt/conda/lib/python3.10/site-packages/langchain_core/_api/deprecation.py:189: LangChainDeprecationWarning: The function `__call__` was deprecated in LangChain 0.1.0 and will be removed in 0.2.0. Use invoke instead.\n",
      "  warn_deprecated(\n"
     ]
    },
    {
     "name": "stdout",
     "output_type": "stream",
     "text": [
      " The Petitioner's candidacy as a Presidential Candidate and/or Vice Presidential Candidate is based on the\n",
      "Petitioner's rights and obligations as a citizen of the Republic of Indonesia which are justified, ratified,\n",
      "guaranteed and protected by...B. Article 28 H paragraph 2 of the 1945 Republic of Indonesia Constitution\n",
      "\n",
      "\n",
      "Sources:\n",
      "Time:  94.70933890342712\n",
      "==============================================\n",
      "Nomor:  71\n",
      "The Petitioner's candidacy as a Presidential Candidate and/or Vice Presidential Candidate is based on the Petitioner's rights and obligations as a citizen of the Republic of Indonesia which are justified, ratified, guaranteed and protected by, One of the list of articles is...\\n A.  Article 28 D paragraph 1 and paragraph 3 of the 1945 Republic of Indonesia Constitution\\n B.  Article 20 A paragraph 1 of the 1945 Republic of Indonesia Constitution\\n C.  Article 21 Y paragraph 1 of the 1945 Republic of Indonesia Constitution\\n D.  Article 20 Y paragraph 1 of the 1945 Republic of Indonesia Constitution\\n E.  Article 21 A paragraph 1 of the 1945 Republic of Indonesia Constitution\n"
     ]
    },
    {
     "name": "stderr",
     "output_type": "stream",
     "text": [
      "/opt/conda/lib/python3.10/site-packages/langchain_core/_api/deprecation.py:189: LangChainDeprecationWarning: The function `__call__` was deprecated in LangChain 0.1.0 and will be removed in 0.2.0. Use invoke instead.\n",
      "  warn_deprecated(\n",
      "/opt/conda/lib/python3.10/site-packages/langchain_core/_api/deprecation.py:189: LangChainDeprecationWarning: The function `run` was deprecated in LangChain 0.1.0 and will be removed in 0.2.0. Use invoke instead.\n",
      "  warn_deprecated(\n",
      "/opt/conda/lib/python3.10/site-packages/langchain_core/_api/deprecation.py:189: LangChainDeprecationWarning: The function `__call__` was deprecated in LangChain 0.1.0 and will be removed in 0.2.0. Use invoke instead.\n",
      "  warn_deprecated(\n",
      "/opt/conda/lib/python3.10/site-packages/langchain_core/_api/deprecation.py:189: LangChainDeprecationWarning: The function `__call__` was deprecated in LangChain 0.1.0 and will be removed in 0.2.0. Use invoke instead.\n",
      "  warn_deprecated(\n"
     ]
    },
    {
     "name": "stdout",
     "output_type": "stream",
     "text": [
      " The Petitioner's candidacy as a Presidential Candidate and/or Vice Presidential Candidate is based on the\n",
      "Petitioner's rights and obligations as a citizen of the Republic of Indonesia which are justified, ratified,\n",
      "guaranteed and protected by Article 28 D paragraph 1 and paragraph 3 of the 1945 Republic of Indonesia\n",
      "Constitution.\n",
      "\n",
      "\n",
      "Sources:\n",
      "Time:  95.79190993309021\n",
      "==============================================\n",
      "Nomor:  72\n",
      "The Petitioner's candidacy as a Presidential Candidate and/or Vice Presidential Candidate is based on the Petitioner's rights and obligations as a citizen of the Republic of Indonesia which are justified, ratified, guaranteed and protected by, One of the list of articles is...\\n A.  Article 21 A paragraph 1 of the 1945 Republic of Indonesia Constitution\\n B.  Article 21 Z paragraph 1 of the 1945 Republic of Indonesia Constitution\\n C.  Article 21 Y paragraph 1 of the 1945 Republic of Indonesia Constitution\\n D.  Article 20 Y paragraph 1 of the 1945 Republic of Indonesia Constitution\\n E.  Article 28 C paragraph 2 of the 1945 Republic of Indonesia Constitution\n"
     ]
    },
    {
     "name": "stderr",
     "output_type": "stream",
     "text": [
      "/opt/conda/lib/python3.10/site-packages/langchain_core/_api/deprecation.py:189: LangChainDeprecationWarning: The function `__call__` was deprecated in LangChain 0.1.0 and will be removed in 0.2.0. Use invoke instead.\n",
      "  warn_deprecated(\n",
      "/opt/conda/lib/python3.10/site-packages/langchain_core/_api/deprecation.py:189: LangChainDeprecationWarning: The function `run` was deprecated in LangChain 0.1.0 and will be removed in 0.2.0. Use invoke instead.\n",
      "  warn_deprecated(\n",
      "/opt/conda/lib/python3.10/site-packages/langchain_core/_api/deprecation.py:189: LangChainDeprecationWarning: The function `__call__` was deprecated in LangChain 0.1.0 and will be removed in 0.2.0. Use invoke instead.\n",
      "  warn_deprecated(\n",
      "/opt/conda/lib/python3.10/site-packages/langchain_core/_api/deprecation.py:189: LangChainDeprecationWarning: The function `__call__` was deprecated in LangChain 0.1.0 and will be removed in 0.2.0. Use invoke instead.\n",
      "  warn_deprecated(\n"
     ]
    },
    {
     "name": "stdout",
     "output_type": "stream",
     "text": [
      " The Petitioner's candidacy as a Presidential Candidate and/or Vice Presidential Candidate is based on the\n",
      "Petitioner's rights and obligations as a citizen of the Republic of Indonesia which are justified, ratified,\n",
      "guaranteed and protected by...\\n A.  Article 21 A paragraph 1 of the 1945 Republic of Indonesia Constitution\n",
      "\n",
      "\n",
      "Sources:\n",
      "Time:  95.5869607925415\n",
      "==============================================\n",
      "Nomor:  73\n",
      "The Petitioner's candidacy as a Presidential Candidate and/or Vice Presidential Candidate is based on the Petitioner's rights and obligations as a citizen of the Republic of Indonesia which are justified, ratified, guaranteed and protected by, One of the list of articles is...\\n A.  Article 21 A paragraph 1 of the 1945 Republic of Indonesia Constitution\\n B.  Article 21 Z paragraph 1 of the 1945 Republic of Indonesia Constitution\\n C.  Article 21 Y paragraph 1 of the 1945 Republic of Indonesia Constitution\\n D.  Article 20 Y paragraph 1 of the 1945 Republic of Indonesia Constitution\\n E.  Article 27 paragraph 1 paragraph 3 of the 1945 Republic of Indonesia Constitution\n"
     ]
    },
    {
     "name": "stderr",
     "output_type": "stream",
     "text": [
      "/opt/conda/lib/python3.10/site-packages/langchain_core/_api/deprecation.py:189: LangChainDeprecationWarning: The function `__call__` was deprecated in LangChain 0.1.0 and will be removed in 0.2.0. Use invoke instead.\n",
      "  warn_deprecated(\n",
      "/opt/conda/lib/python3.10/site-packages/langchain_core/_api/deprecation.py:189: LangChainDeprecationWarning: The function `run` was deprecated in LangChain 0.1.0 and will be removed in 0.2.0. Use invoke instead.\n",
      "  warn_deprecated(\n",
      "/opt/conda/lib/python3.10/site-packages/langchain_core/_api/deprecation.py:189: LangChainDeprecationWarning: The function `__call__` was deprecated in LangChain 0.1.0 and will be removed in 0.2.0. Use invoke instead.\n",
      "  warn_deprecated(\n",
      "/opt/conda/lib/python3.10/site-packages/langchain_core/_api/deprecation.py:189: LangChainDeprecationWarning: The function `__call__` was deprecated in LangChain 0.1.0 and will be removed in 0.2.0. Use invoke instead.\n",
      "  warn_deprecated(\n"
     ]
    },
    {
     "name": "stdout",
     "output_type": "stream",
     "text": [
      " The Petitioner's candidacy as a Presidential Candidate and/or Vice Presidential Candidate is based on the\n",
      "Petitioner's rights and obligations as a citizen of the Republic of Indonesia which are justified, ratified,\n",
      "guaranteed and protected by...\\n A.  Article 21 A paragraph 1 of the 1945 Republic of Indonesia Constitution\n",
      "\n",
      "\n",
      "Sources:\n",
      "Time:  95.99724626541138\n",
      "==============================================\n",
      "Nomor:  74\n",
      "The Petitioner's candidacy as a Presidential Candidate and/or Vice Presidential Candidate is based on the Petitioner's rights and obligations as a citizen of the Republic of Indonesia which are justified, ratified, guaranteed and protected by, One of the list of articles is...\\n A.  Article 21 A paragraph 1 of the 1945 Republic of Indonesia Constitution\\n B.  Article 21 Z paragraph 1 of the 1945 Republic of Indonesia Constitution\\n C.  Article 21 Y paragraph 1 of the 1945 Republic of Indonesia Constitution\\n D.  Article 1 paragraph 2 of the 1945 Republic of Indonesia Constitution\\n E.  Article 20 Y paragraph 1 of the 1945 Republic of Indonesia Constitution\n"
     ]
    },
    {
     "name": "stderr",
     "output_type": "stream",
     "text": [
      "/opt/conda/lib/python3.10/site-packages/langchain_core/_api/deprecation.py:189: LangChainDeprecationWarning: The function `__call__` was deprecated in LangChain 0.1.0 and will be removed in 0.2.0. Use invoke instead.\n",
      "  warn_deprecated(\n",
      "/opt/conda/lib/python3.10/site-packages/langchain_core/_api/deprecation.py:189: LangChainDeprecationWarning: The function `run` was deprecated in LangChain 0.1.0 and will be removed in 0.2.0. Use invoke instead.\n",
      "  warn_deprecated(\n",
      "/opt/conda/lib/python3.10/site-packages/langchain_core/_api/deprecation.py:189: LangChainDeprecationWarning: The function `__call__` was deprecated in LangChain 0.1.0 and will be removed in 0.2.0. Use invoke instead.\n",
      "  warn_deprecated(\n",
      "/opt/conda/lib/python3.10/site-packages/langchain_core/_api/deprecation.py:189: LangChainDeprecationWarning: The function `__call__` was deprecated in LangChain 0.1.0 and will be removed in 0.2.0. Use invoke instead.\n",
      "  warn_deprecated(\n"
     ]
    },
    {
     "name": "stdout",
     "output_type": "stream",
     "text": [
      " The Petitioner's candidacy as a Presidential Candidate and/or Vice Presidential Candidate is based on the\n",
      "Petitioner's rights and obligations as a citizen of the Republic of Indonesia which are justified, ratified,\n",
      "guaranteed and protected by Article 21 A paragraph 1 of the 1945 Republic of Indonesia Constitution.\n",
      "\n",
      "\n",
      "Sources:\n",
      "Time:  93.57777428627014\n",
      "==============================================\n",
      "Nomor:  75\n",
      "Everyone has the right to receive facilities and special treatment to obtain the same opportunities and benefits in order to achieve equality and justice, which is in...\\n A.  Law Number 23 of 2003, especially Article 5 paragraphs (1,2,3 and 4)\\n B.  Article 21 A paragraph 1 of the 1945 Republic of Indonesia Constitution\\n C.  Article 21 Z paragraph 1 of the 1945 Republic of Indonesia Constitution\\n D.  Article 21 Y paragraph 1 of the 1945 Republic of Indonesia Constitution\\n E.  Article 1 paragraph 2 of the 1945 Republic of Indonesia Constitution\n"
     ]
    },
    {
     "name": "stderr",
     "output_type": "stream",
     "text": [
      "/opt/conda/lib/python3.10/site-packages/langchain_core/_api/deprecation.py:189: LangChainDeprecationWarning: The function `__call__` was deprecated in LangChain 0.1.0 and will be removed in 0.2.0. Use invoke instead.\n",
      "  warn_deprecated(\n",
      "/opt/conda/lib/python3.10/site-packages/langchain_core/_api/deprecation.py:189: LangChainDeprecationWarning: The function `run` was deprecated in LangChain 0.1.0 and will be removed in 0.2.0. Use invoke instead.\n",
      "  warn_deprecated(\n",
      "/opt/conda/lib/python3.10/site-packages/langchain_core/_api/deprecation.py:189: LangChainDeprecationWarning: The function `__call__` was deprecated in LangChain 0.1.0 and will be removed in 0.2.0. Use invoke instead.\n",
      "  warn_deprecated(\n",
      "/opt/conda/lib/python3.10/site-packages/langchain_core/_api/deprecation.py:189: LangChainDeprecationWarning: The function `__call__` was deprecated in LangChain 0.1.0 and will be removed in 0.2.0. Use invoke instead.\n",
      "  warn_deprecated(\n"
     ]
    },
    {
     "name": "stdout",
     "output_type": "stream",
     "text": [
      " B.  Article 21 A paragraph 1 of the 1945 Republic of Indonesia Constitution\n",
      "\n",
      "\n",
      "Sources:\n",
      "Time:  69.88361930847168\n",
      "==============================================\n",
      "Nomor:  76\n",
      "Everyone has the right to receive facilities and special treatment to obtain the same opportunities and benefits in order to achieve equality and justice, which is in...\\n A.  Article 21 A paragraph 1 of the 1945 Republic of Indonesia Constitution\\n B.  Article 21 Z paragraph 1 of the 1945 Republic of Indonesia Constitution\\n C.  Article 21 Y paragraph 1 of the 1945 Republic of Indonesia Constitution\\n D.  Article 1 paragraph 2 of the 1945 Republic of Indonesia Constitution\\n E.  Law Number 23 of 2003, especially Article 1 paragraph (6)\n"
     ]
    },
    {
     "name": "stderr",
     "output_type": "stream",
     "text": [
      "/opt/conda/lib/python3.10/site-packages/langchain_core/_api/deprecation.py:189: LangChainDeprecationWarning: The function `__call__` was deprecated in LangChain 0.1.0 and will be removed in 0.2.0. Use invoke instead.\n",
      "  warn_deprecated(\n",
      "/opt/conda/lib/python3.10/site-packages/langchain_core/_api/deprecation.py:189: LangChainDeprecationWarning: The function `run` was deprecated in LangChain 0.1.0 and will be removed in 0.2.0. Use invoke instead.\n",
      "  warn_deprecated(\n",
      "/opt/conda/lib/python3.10/site-packages/langchain_core/_api/deprecation.py:189: LangChainDeprecationWarning: The function `__call__` was deprecated in LangChain 0.1.0 and will be removed in 0.2.0. Use invoke instead.\n",
      "  warn_deprecated(\n",
      "/opt/conda/lib/python3.10/site-packages/langchain_core/_api/deprecation.py:189: LangChainDeprecationWarning: The function `__call__` was deprecated in LangChain 0.1.0 and will be removed in 0.2.0. Use invoke instead.\n",
      "  warn_deprecated(\n"
     ]
    },
    {
     "name": "stdout",
     "output_type": "stream",
     "text": [
      " A.  Article 21 A paragraph 1 of the 1945 Republic of Indonesia Constitution\n",
      "\n",
      "\n",
      "Sources:\n",
      "Time:  67.8456654548645\n",
      "==============================================\n",
      "Nomor:  77\n",
      "Everyone has the right to receive facilities and special treatment to obtain the same opportunities and benefits in order to achieve equality and justice, which is in...\\n A.  Law Number 23 of 2003, especially Article 6 L\\n B.  Article 21 A paragraph 1 of the 1945 Republic of Indonesia Constitution\\n C.  Article 21 Z paragraph 1 of the 1945 Republic of Indonesia Constitution\\n D.  Article 21 Y paragraph 1 of the 1945 Republic of Indonesia Constitution\\n E.  Article 1 paragraph 2 of the 1945 Republic of Indonesia Constitution\n"
     ]
    },
    {
     "name": "stderr",
     "output_type": "stream",
     "text": [
      "/opt/conda/lib/python3.10/site-packages/langchain_core/_api/deprecation.py:189: LangChainDeprecationWarning: The function `__call__` was deprecated in LangChain 0.1.0 and will be removed in 0.2.0. Use invoke instead.\n",
      "  warn_deprecated(\n",
      "/opt/conda/lib/python3.10/site-packages/langchain_core/_api/deprecation.py:189: LangChainDeprecationWarning: The function `run` was deprecated in LangChain 0.1.0 and will be removed in 0.2.0. Use invoke instead.\n",
      "  warn_deprecated(\n",
      "/opt/conda/lib/python3.10/site-packages/langchain_core/_api/deprecation.py:189: LangChainDeprecationWarning: The function `__call__` was deprecated in LangChain 0.1.0 and will be removed in 0.2.0. Use invoke instead.\n",
      "  warn_deprecated(\n",
      "/opt/conda/lib/python3.10/site-packages/langchain_core/_api/deprecation.py:189: LangChainDeprecationWarning: The function `__call__` was deprecated in LangChain 0.1.0 and will be removed in 0.2.0. Use invoke instead.\n",
      "  warn_deprecated(\n"
     ]
    },
    {
     "name": "stdout",
     "output_type": "stream",
     "text": [
      " B.  Article 21 A paragraph 1 of the 1945 Republic of Indonesia Constitution\n",
      "\n",
      "\n",
      "Sources:\n",
      "Time:  66.52376818656921\n",
      "==============================================\n",
      "Nomor:  78\n",
      "Everyone has the right to receive facilities and special treatment to obtain the same opportunities and benefits in order to achieve equality and justice, which is in...\\n A.  Article 21 A paragraph 1 of the 1945 Republic of Indonesia Constitution\\n B.  Article 21 Z paragraph 1 of the 1945 Republic of Indonesia Constitution\\n C.  Article 21 Y paragraph 1 of the 1945 Republic of Indonesia Constitution\\n D.  Article 1 paragraph 2 of the 1945 Republic of Indonesia Constitution\\n E.  Law Number 23 of 2003, especially Article 28 H paragraph (2)\n"
     ]
    },
    {
     "name": "stderr",
     "output_type": "stream",
     "text": [
      "/opt/conda/lib/python3.10/site-packages/langchain_core/_api/deprecation.py:189: LangChainDeprecationWarning: The function `__call__` was deprecated in LangChain 0.1.0 and will be removed in 0.2.0. Use invoke instead.\n",
      "  warn_deprecated(\n",
      "/opt/conda/lib/python3.10/site-packages/langchain_core/_api/deprecation.py:189: LangChainDeprecationWarning: The function `run` was deprecated in LangChain 0.1.0 and will be removed in 0.2.0. Use invoke instead.\n",
      "  warn_deprecated(\n",
      "/opt/conda/lib/python3.10/site-packages/langchain_core/_api/deprecation.py:189: LangChainDeprecationWarning: The function `__call__` was deprecated in LangChain 0.1.0 and will be removed in 0.2.0. Use invoke instead.\n",
      "  warn_deprecated(\n",
      "/opt/conda/lib/python3.10/site-packages/langchain_core/_api/deprecation.py:189: LangChainDeprecationWarning: The function `__call__` was deprecated in LangChain 0.1.0 and will be removed in 0.2.0. Use invoke instead.\n",
      "  warn_deprecated(\n"
     ]
    },
    {
     "name": "stdout",
     "output_type": "stream",
     "text": [
      " A.  Article 21 A paragraph 1 of the 1945 Republic of Indonesia Constitution\n",
      "\n",
      "\n",
      "Sources:\n",
      "Time:  68.61350679397583\n",
      "==============================================\n",
      "Nomor:  79\n",
      "Every person has the right to be free from discriminatory treatment on any basis and has the right to receive protection against such discriminatory treatment, in...\\n A.  Law Number 23 of 2003, especially Article 5 paragraphs (1,2,3 and 4)\\n B.  Article 21 A paragraph 1 of the 1945 Republic of Indonesia Constitution\\n C.  Article 21 Z paragraph 1 of the 1945 Republic of Indonesia Constitution\\n D.  Article 21 Y paragraph 1 of the 1945 Republic of Indonesia Constitution\\n E.  Article 1 paragraph 2 of the 1945 Republic of Indonesia Constitution\n"
     ]
    },
    {
     "name": "stderr",
     "output_type": "stream",
     "text": [
      "/opt/conda/lib/python3.10/site-packages/langchain_core/_api/deprecation.py:189: LangChainDeprecationWarning: The function `__call__` was deprecated in LangChain 0.1.0 and will be removed in 0.2.0. Use invoke instead.\n",
      "  warn_deprecated(\n",
      "/opt/conda/lib/python3.10/site-packages/langchain_core/_api/deprecation.py:189: LangChainDeprecationWarning: The function `run` was deprecated in LangChain 0.1.0 and will be removed in 0.2.0. Use invoke instead.\n",
      "  warn_deprecated(\n",
      "/opt/conda/lib/python3.10/site-packages/langchain_core/_api/deprecation.py:189: LangChainDeprecationWarning: The function `__call__` was deprecated in LangChain 0.1.0 and will be removed in 0.2.0. Use invoke instead.\n",
      "  warn_deprecated(\n",
      "/opt/conda/lib/python3.10/site-packages/langchain_core/_api/deprecation.py:189: LangChainDeprecationWarning: The function `__call__` was deprecated in LangChain 0.1.0 and will be removed in 0.2.0. Use invoke instead.\n",
      "  warn_deprecated(\n"
     ]
    },
    {
     "name": "stdout",
     "output_type": "stream",
     "text": [
      " B. Article 21 A paragraph 1 of the 1945 Republic of Indonesia Constitution\n",
      "\n",
      "\n",
      "Sources:\n",
      "Time:  69.9192476272583\n",
      "==============================================\n",
      "Nomor:  80\n",
      "Every person has the right to be free from discriminatory treatment on any basis and has the right to receive protection against such discriminatory treatment, in...\\n A.  Article 21 A paragraph 1 of the 1945 Republic of Indonesia Constitution\\n B.  Article 21 Z paragraph 1 of the 1945 Republic of Indonesia Constitution\\n C.  Article 21 Y paragraph 1 of the 1945 Republic of Indonesia Constitution\\n D.  Article 1 paragraph 2 of the 1945 Republic of Indonesia Constitution\\n E.  Law Number 23 of 2003, especially Article 1 paragraph (6)\n"
     ]
    },
    {
     "name": "stderr",
     "output_type": "stream",
     "text": [
      "/opt/conda/lib/python3.10/site-packages/langchain_core/_api/deprecation.py:189: LangChainDeprecationWarning: The function `__call__` was deprecated in LangChain 0.1.0 and will be removed in 0.2.0. Use invoke instead.\n",
      "  warn_deprecated(\n",
      "/opt/conda/lib/python3.10/site-packages/langchain_core/_api/deprecation.py:189: LangChainDeprecationWarning: The function `run` was deprecated in LangChain 0.1.0 and will be removed in 0.2.0. Use invoke instead.\n",
      "  warn_deprecated(\n",
      "/opt/conda/lib/python3.10/site-packages/langchain_core/_api/deprecation.py:189: LangChainDeprecationWarning: The function `__call__` was deprecated in LangChain 0.1.0 and will be removed in 0.2.0. Use invoke instead.\n",
      "  warn_deprecated(\n",
      "/opt/conda/lib/python3.10/site-packages/langchain_core/_api/deprecation.py:189: LangChainDeprecationWarning: The function `__call__` was deprecated in LangChain 0.1.0 and will be removed in 0.2.0. Use invoke instead.\n",
      "  warn_deprecated(\n"
     ]
    },
    {
     "name": "stdout",
     "output_type": "stream",
     "text": [
      " A.  Article 21 A paragraph 1 of the 1945 Republic of Indonesia Constitution\n",
      "\n",
      "\n",
      "Sources:\n",
      "Time:  68.7416832447052\n",
      "==============================================\n",
      "Nomor:  81\n",
      "Every person has the right to be free from discriminatory treatment on any basis and has the right to receive protection against such discriminatory treatment, in...\\n A.  Law Number 23 of 2003, especially Article 6 I\\n B.  Article 21 A paragraph 1 of the 1945 Republic of Indonesia Constitution\\n C.  Article 21 Z paragraph 1 of the 1945 Republic of Indonesia Constitution\\n D.  Article 21 Y paragraph 1 of the 1945 Republic of Indonesia Constitution\\n E.  Article 1 paragraph 2 of the 1945 Republic of Indonesia Constitution\n"
     ]
    },
    {
     "name": "stderr",
     "output_type": "stream",
     "text": [
      "/opt/conda/lib/python3.10/site-packages/langchain_core/_api/deprecation.py:189: LangChainDeprecationWarning: The function `__call__` was deprecated in LangChain 0.1.0 and will be removed in 0.2.0. Use invoke instead.\n",
      "  warn_deprecated(\n",
      "/opt/conda/lib/python3.10/site-packages/langchain_core/_api/deprecation.py:189: LangChainDeprecationWarning: The function `run` was deprecated in LangChain 0.1.0 and will be removed in 0.2.0. Use invoke instead.\n",
      "  warn_deprecated(\n",
      "/opt/conda/lib/python3.10/site-packages/langchain_core/_api/deprecation.py:189: LangChainDeprecationWarning: The function `__call__` was deprecated in LangChain 0.1.0 and will be removed in 0.2.0. Use invoke instead.\n",
      "  warn_deprecated(\n",
      "/opt/conda/lib/python3.10/site-packages/langchain_core/_api/deprecation.py:189: LangChainDeprecationWarning: The function `__call__` was deprecated in LangChain 0.1.0 and will be removed in 0.2.0. Use invoke instead.\n",
      "  warn_deprecated(\n"
     ]
    },
    {
     "name": "stdout",
     "output_type": "stream",
     "text": [
      " B.  Article 21 A paragraph 1 of the 1945 Republic of Indonesia Constitution\n",
      "\n",
      "\n",
      "Sources:\n",
      "Time:  69.04209303855896\n",
      "==============================================\n",
      "Nomor:  82\n",
      "Everyone is obliged to respect the human rights of others in the orderly life of society, nation and state, which is...\\n A.  Law Number 23 of 2003, especially Article 5 paragraphs (1, 2, 3 and 4)\\n B.  Article 21 A paragraph 1 of the 1945 Republic of Indonesia Constitution\\n C.  Article 21 Z paragraph 1 of the 1945 Republic of Indonesia Constitution\\n D.  Article 21 Y paragraph 1 of the 1945 Republic of Indonesia Constitution\\n E.  Article 1 paragraph 2 of the 1945 Republic of Indonesia Constitution\n"
     ]
    },
    {
     "name": "stderr",
     "output_type": "stream",
     "text": [
      "/opt/conda/lib/python3.10/site-packages/langchain_core/_api/deprecation.py:189: LangChainDeprecationWarning: The function `__call__` was deprecated in LangChain 0.1.0 and will be removed in 0.2.0. Use invoke instead.\n",
      "  warn_deprecated(\n",
      "/opt/conda/lib/python3.10/site-packages/langchain_core/_api/deprecation.py:189: LangChainDeprecationWarning: The function `run` was deprecated in LangChain 0.1.0 and will be removed in 0.2.0. Use invoke instead.\n",
      "  warn_deprecated(\n",
      "/opt/conda/lib/python3.10/site-packages/langchain_core/_api/deprecation.py:189: LangChainDeprecationWarning: The function `__call__` was deprecated in LangChain 0.1.0 and will be removed in 0.2.0. Use invoke instead.\n",
      "  warn_deprecated(\n",
      "/opt/conda/lib/python3.10/site-packages/langchain_core/_api/deprecation.py:189: LangChainDeprecationWarning: The function `__call__` was deprecated in LangChain 0.1.0 and will be removed in 0.2.0. Use invoke instead.\n",
      "  warn_deprecated(\n"
     ]
    },
    {
     "name": "stdout",
     "output_type": "stream",
     "text": [
      " B.  Article 21 A paragraph 1 of the 1945 Republic of Indonesia Constitution\n",
      "\n",
      "\n",
      "Sources:\n",
      "Time:  69.7064049243927\n",
      "==============================================\n",
      "Nomor:  83\n",
      "Everyone is obliged to respect the human rights of others in the orderly life of society, nation and state, which is...\\n A.  Article 21 A paragraph 1 of the 1945 Republic of Indonesia Constitution\\n B.  Article 21 Z paragraph 1 of the 1945 Republic of Indonesia Constitution\\n C.  Article 21 Y paragraph 1 of the 1945 Republic of Indonesia Constitution\\n D.  Article 1 paragraph 2 of the 1945 Republic of Indonesia Constitution\\n E.  Law Number 23 of 2003, especially Article 1 paragraph (6)\n"
     ]
    },
    {
     "name": "stderr",
     "output_type": "stream",
     "text": [
      "/opt/conda/lib/python3.10/site-packages/langchain_core/_api/deprecation.py:189: LangChainDeprecationWarning: The function `__call__` was deprecated in LangChain 0.1.0 and will be removed in 0.2.0. Use invoke instead.\n",
      "  warn_deprecated(\n",
      "/opt/conda/lib/python3.10/site-packages/langchain_core/_api/deprecation.py:189: LangChainDeprecationWarning: The function `run` was deprecated in LangChain 0.1.0 and will be removed in 0.2.0. Use invoke instead.\n",
      "  warn_deprecated(\n",
      "/opt/conda/lib/python3.10/site-packages/langchain_core/_api/deprecation.py:189: LangChainDeprecationWarning: The function `__call__` was deprecated in LangChain 0.1.0 and will be removed in 0.2.0. Use invoke instead.\n",
      "  warn_deprecated(\n",
      "/opt/conda/lib/python3.10/site-packages/langchain_core/_api/deprecation.py:189: LangChainDeprecationWarning: The function `__call__` was deprecated in LangChain 0.1.0 and will be removed in 0.2.0. Use invoke instead.\n",
      "  warn_deprecated(\n"
     ]
    },
    {
     "name": "stdout",
     "output_type": "stream",
     "text": [
      " A.  Article 21 A paragraph 1 of the 1945 Republic of Indonesia Constitution\n",
      "\n",
      "\n",
      "Sources:\n",
      "Time:  66.83302140235901\n",
      "==============================================\n",
      "Nomor:  84\n",
      "Everyone is obliged to respect the human rights of others in the orderly life of society, nation and state, which is...\\n A.  Law Number 23 of 2003, especially Article 6L\\n B.  Article 21 A paragraph 1 of the 1945 Republic of Indonesia Constitution\\n C.  Article 21 Z paragraph 1 of the 1945 Republic of Indonesia Constitution\\n D.  Article 21 Y paragraph 1 of the 1945 Republic of Indonesia Constitution\\n E.  Article 1 paragraph 2 of the 1945 Republic of Indonesia Constitution\n"
     ]
    },
    {
     "name": "stderr",
     "output_type": "stream",
     "text": [
      "/opt/conda/lib/python3.10/site-packages/langchain_core/_api/deprecation.py:189: LangChainDeprecationWarning: The function `__call__` was deprecated in LangChain 0.1.0 and will be removed in 0.2.0. Use invoke instead.\n",
      "  warn_deprecated(\n",
      "/opt/conda/lib/python3.10/site-packages/langchain_core/_api/deprecation.py:189: LangChainDeprecationWarning: The function `run` was deprecated in LangChain 0.1.0 and will be removed in 0.2.0. Use invoke instead.\n",
      "  warn_deprecated(\n",
      "/opt/conda/lib/python3.10/site-packages/langchain_core/_api/deprecation.py:189: LangChainDeprecationWarning: The function `__call__` was deprecated in LangChain 0.1.0 and will be removed in 0.2.0. Use invoke instead.\n",
      "  warn_deprecated(\n",
      "/opt/conda/lib/python3.10/site-packages/langchain_core/_api/deprecation.py:189: LangChainDeprecationWarning: The function `__call__` was deprecated in LangChain 0.1.0 and will be removed in 0.2.0. Use invoke instead.\n",
      "  warn_deprecated(\n"
     ]
    },
    {
     "name": "stdout",
     "output_type": "stream",
     "text": [
      " B.  Article 21 A paragraph 1 of the 1945 Republic of Indonesia Constitution\n",
      "\n",
      "\n",
      "Sources:\n",
      "Time:  65.91484665870667\n",
      "==============================================\n",
      "Nomor:  85\n",
      "Every person has the right to live in physical and spiritual prosperity, to have a place to live and to have a good and healthy living environment and to receive health services, at...\\n A.  Article 21 H paragraph 1 (Constitution/UUD 1945)\\n B.  Article 28 H paragraph 1 (Constitution/UUD 1945)\\n C.  Article 28 A paragraph 1 (Constitution/UUD 1945)\\n D.  Article 28 B paragraph 1 (Constitution/UUD 1945)\\n E.  Article 28 C paragraph 1 (1945 Constitution/UUD)\n"
     ]
    },
    {
     "name": "stderr",
     "output_type": "stream",
     "text": [
      "/opt/conda/lib/python3.10/site-packages/langchain_core/_api/deprecation.py:189: LangChainDeprecationWarning: The function `__call__` was deprecated in LangChain 0.1.0 and will be removed in 0.2.0. Use invoke instead.\n",
      "  warn_deprecated(\n",
      "/opt/conda/lib/python3.10/site-packages/langchain_core/_api/deprecation.py:189: LangChainDeprecationWarning: The function `run` was deprecated in LangChain 0.1.0 and will be removed in 0.2.0. Use invoke instead.\n",
      "  warn_deprecated(\n",
      "/opt/conda/lib/python3.10/site-packages/langchain_core/_api/deprecation.py:189: LangChainDeprecationWarning: The function `__call__` was deprecated in LangChain 0.1.0 and will be removed in 0.2.0. Use invoke instead.\n",
      "  warn_deprecated(\n",
      "/opt/conda/lib/python3.10/site-packages/langchain_core/_api/deprecation.py:189: LangChainDeprecationWarning: The function `__call__` was deprecated in LangChain 0.1.0 and will be removed in 0.2.0. Use invoke instead.\n",
      "  warn_deprecated(\n"
     ]
    },
    {
     "name": "stdout",
     "output_type": "stream",
     "text": [
      " \\_\\_\\_\\_\\_\\_\\_\\_\\_\\_\\_\\_\\_\\_\\_\\_\\_\\_\\_\\_\\_\\_\\_\\_\\_\\_\\_\\_\\_\\_\\_\\_\\_\\_\\_\\_\\_\\_\\_\\_\\_\\_\\_\\_\\_\\_\\_\\_\\_\\_\\_\\_\\_\\_\\\n",
      "_\\_\\_\\_\\_\\_\\_\\_\\_\\_\\_\\_\\_\\_\\_\\_\\_\\_\\_\\_\\_\\_\\_\\_\\_\\_\\_\\_\\_\\_\\_\\_\\_\\_\\_\\_\\_\\_\\_\\_\\_\\_\\_\\_\\_\\_\\_\\_\\_\\_\\_\\_\\_\\_\\_\\\n",
      "_\\_\\_\\_\\_\\_\\_\\_\\_\\_\\_\\_\\_\\_\\_\\_\\_\\_\\_\\_\\_\\_\\_\\_\\_\\_\\_\\_\\_\\_\\_\\_\\_\\_\\_\\_\\_\\_\\_\\_\\_\\_\\_\\_\\_\\_\\_\\_\\_\\_\\_\\_\\_\\_\\_\\\n",
      "_\\_\\_\\_\\_\\_\\_\\_\\_\\_\\_\\_\\_\\_\\_\\_\\_\\_\\_\\_\\_\\_\\_\\_\\_\\_\\_\\_\\_\\_\\_\\_\\_\\_\\_\\_\\_\\_\\_\\_\\_\\_\\_\\_\\_\\_\\_\\_\\_\\_\\_\\_\\_\\_\\_\\\n",
      "_\\_\\_\\_\\_\\_\\_\\_\\_\\_\\_\\_\\_\\_\\_\\_\\_\\_\\_\\_\\_\\_\\_\\_\\_\\_\\_\\_\\_\\_\\_\\_\\_\\_\\_\\_\\\n",
      "\n",
      "\n",
      "Sources:\n",
      "Time:  146.5521936416626\n",
      "==============================================\n",
      "Nomor:  86\n",
      "In Article 51 paragraph (1) of Law Number 24 of 2003 concerning the Constitutional Court. A party who considers their constitutional rights and/or authority to be impaired by the enactment of a law is...\\n A.  President\\n B.  Applicant\\n C.  vice President\\n D.  Police\\n E.  Soldier\n"
     ]
    },
    {
     "name": "stderr",
     "output_type": "stream",
     "text": [
      "/opt/conda/lib/python3.10/site-packages/langchain_core/_api/deprecation.py:189: LangChainDeprecationWarning: The function `__call__` was deprecated in LangChain 0.1.0 and will be removed in 0.2.0. Use invoke instead.\n",
      "  warn_deprecated(\n",
      "/opt/conda/lib/python3.10/site-packages/langchain_core/_api/deprecation.py:189: LangChainDeprecationWarning: The function `run` was deprecated in LangChain 0.1.0 and will be removed in 0.2.0. Use invoke instead.\n",
      "  warn_deprecated(\n",
      "/opt/conda/lib/python3.10/site-packages/langchain_core/_api/deprecation.py:189: LangChainDeprecationWarning: The function `__call__` was deprecated in LangChain 0.1.0 and will be removed in 0.2.0. Use invoke instead.\n",
      "  warn_deprecated(\n",
      "/opt/conda/lib/python3.10/site-packages/langchain_core/_api/deprecation.py:189: LangChainDeprecationWarning: The function `__call__` was deprecated in LangChain 0.1.0 and will be removed in 0.2.0. Use invoke instead.\n",
      "  warn_deprecated(\n"
     ]
    },
    {
     "name": "stdout",
     "output_type": "stream",
     "text": [
      " B. Applicant\n",
      "\n",
      "\n",
      "Sources:\n",
      "Time:  44.05401635169983\n",
      "==============================================\n",
      "Nomor:  87\n",
      "Article 51 paragraph (1) of Law Number 24 of 2003 concerning the Constitutional Court states, the Petitioner is a party who considers their constitutional rights and/or authority to be impaired by the enactment of a law, namely...\\n A.  individual Indonesian citizens, the unity of the customary law community as long as it is still alive and in accordance with the development of society and the principles of the Unitary State of the Republic of Indonesia as regulated in law, public or private legal entity, or state institutions\\n B.  Individual Indonesian citizens, have flesh and blood, or state institutions\\n C.  individual Indonesian citizens, working in government, or state institutions\\n D.  individual Indonesian citizens, can speak Indonesian,  public or private legal entity, or state institutions\\n E.  individual Indonesian citizens, criminal, public or private legal entity, or state institutions\n"
     ]
    },
    {
     "name": "stderr",
     "output_type": "stream",
     "text": [
      "/opt/conda/lib/python3.10/site-packages/langchain_core/_api/deprecation.py:189: LangChainDeprecationWarning: The function `__call__` was deprecated in LangChain 0.1.0 and will be removed in 0.2.0. Use invoke instead.\n",
      "  warn_deprecated(\n",
      "/opt/conda/lib/python3.10/site-packages/langchain_core/_api/deprecation.py:189: LangChainDeprecationWarning: The function `run` was deprecated in LangChain 0.1.0 and will be removed in 0.2.0. Use invoke instead.\n",
      "  warn_deprecated(\n",
      "/opt/conda/lib/python3.10/site-packages/langchain_core/_api/deprecation.py:189: LangChainDeprecationWarning: The function `__call__` was deprecated in LangChain 0.1.0 and will be removed in 0.2.0. Use invoke instead.\n",
      "  warn_deprecated(\n",
      "/opt/conda/lib/python3.10/site-packages/langchain_core/_api/deprecation.py:189: LangChainDeprecationWarning: The function `__call__` was deprecated in LangChain 0.1.0 and will be removed in 0.2.0. Use invoke instead.\n",
      "  warn_deprecated(\n"
     ]
    },
    {
     "name": "stdout",
     "output_type": "stream",
     "text": [
      " A\n",
      "\n",
      "\n",
      "Sources:\n",
      "Time:  76.2674880027771\n",
      "==============================================\n",
      "Nomor:  88\n",
      "Every person has the right to recognition, guarantees, protection and fair legal certainty as well as equal treatment before the law, reads the...\\n A.  Article 28D paragraph (1) of the 1945 Constitution\\n B.  Article 27D paragraph (1) of the 1945 Constitution\\n C.  Article 26D paragraph (1) of the 1945 Constitution\\n D.  Article 25D paragraph (1) of the 1945 Constitution\\n E.  Article 24D paragraph (1) of the 1945 Constitution\n"
     ]
    },
    {
     "name": "stderr",
     "output_type": "stream",
     "text": [
      "/opt/conda/lib/python3.10/site-packages/langchain_core/_api/deprecation.py:189: LangChainDeprecationWarning: The function `__call__` was deprecated in LangChain 0.1.0 and will be removed in 0.2.0. Use invoke instead.\n",
      "  warn_deprecated(\n",
      "/opt/conda/lib/python3.10/site-packages/langchain_core/_api/deprecation.py:189: LangChainDeprecationWarning: The function `run` was deprecated in LangChain 0.1.0 and will be removed in 0.2.0. Use invoke instead.\n",
      "  warn_deprecated(\n",
      "/opt/conda/lib/python3.10/site-packages/langchain_core/_api/deprecation.py:189: LangChainDeprecationWarning: The function `__call__` was deprecated in LangChain 0.1.0 and will be removed in 0.2.0. Use invoke instead.\n",
      "  warn_deprecated(\n",
      "/opt/conda/lib/python3.10/site-packages/langchain_core/_api/deprecation.py:189: LangChainDeprecationWarning: The function `__call__` was deprecated in LangChain 0.1.0 and will be removed in 0.2.0. Use invoke instead.\n",
      "  warn_deprecated(\n"
     ]
    },
    {
     "name": "stdout",
     "output_type": "stream",
     "text": [
      " C.  Article 26D paragraph (1) of the 1945 Constitution\n",
      "\n",
      "\n",
      "Sources:\n",
      "Time:  64.25520658493042\n",
      "==============================================\n",
      "Nomor:  89\n",
      "Every person has the right to freedom of belief, expression of thoughts and attitudes, in accordance with his conscience, according to article...\\n A.  Article 28F paragraph (2) of the 1945 Constitution\\n B.  Article 28A paragraph (2) of the 1945 Constitution\\n C.  Article 28B paragraph (2) of the 1945 Constitution\\n D.  Article 28C paragraph (2) of the 1945 Constitution\\n E.  Article 28E paragraph (2) of the 1945 Constitution\n"
     ]
    },
    {
     "name": "stderr",
     "output_type": "stream",
     "text": [
      "/opt/conda/lib/python3.10/site-packages/langchain_core/_api/deprecation.py:189: LangChainDeprecationWarning: The function `__call__` was deprecated in LangChain 0.1.0 and will be removed in 0.2.0. Use invoke instead.\n",
      "  warn_deprecated(\n",
      "/opt/conda/lib/python3.10/site-packages/langchain_core/_api/deprecation.py:189: LangChainDeprecationWarning: The function `run` was deprecated in LangChain 0.1.0 and will be removed in 0.2.0. Use invoke instead.\n",
      "  warn_deprecated(\n",
      "/opt/conda/lib/python3.10/site-packages/langchain_core/_api/deprecation.py:189: LangChainDeprecationWarning: The function `__call__` was deprecated in LangChain 0.1.0 and will be removed in 0.2.0. Use invoke instead.\n",
      "  warn_deprecated(\n",
      "/opt/conda/lib/python3.10/site-packages/langchain_core/_api/deprecation.py:189: LangChainDeprecationWarning: The function `__call__` was deprecated in LangChain 0.1.0 and will be removed in 0.2.0. Use invoke instead.\n",
      "  warn_deprecated(\n"
     ]
    },
    {
     "name": "stdout",
     "output_type": "stream",
     "text": [
      " Every person has the right to freedom of belief, expression of thoughts and attitudes, in accordance with his\n",
      "conscience, according to article A.  Article 28F paragraph (2) of the 1945 Constitution\n",
      "\n",
      "\n",
      "Sources:\n",
      "Time:  71.20271301269531\n",
      "==============================================\n",
      "Nomor:  90\n",
      "Everyone has the right to freedom of association, assembly and expression of opinion, from article...\\n A.  Article 28A paragraph (3) of the 1945 Constitution\\n B.  Article 28E paragraph (3) of the 1945 Constitution\\n C.  Article 28B paragraph (3) of the 1945 Constitution\\n D.  Article 28C paragraph (3) of the 1945 Constitution\\n E.  Article 28D paragraph (3) of the 1945 Constitution\n"
     ]
    },
    {
     "name": "stderr",
     "output_type": "stream",
     "text": [
      "/opt/conda/lib/python3.10/site-packages/langchain_core/_api/deprecation.py:189: LangChainDeprecationWarning: The function `__call__` was deprecated in LangChain 0.1.0 and will be removed in 0.2.0. Use invoke instead.\n",
      "  warn_deprecated(\n",
      "/opt/conda/lib/python3.10/site-packages/langchain_core/_api/deprecation.py:189: LangChainDeprecationWarning: The function `run` was deprecated in LangChain 0.1.0 and will be removed in 0.2.0. Use invoke instead.\n",
      "  warn_deprecated(\n",
      "/opt/conda/lib/python3.10/site-packages/langchain_core/_api/deprecation.py:189: LangChainDeprecationWarning: The function `__call__` was deprecated in LangChain 0.1.0 and will be removed in 0.2.0. Use invoke instead.\n",
      "  warn_deprecated(\n",
      "/opt/conda/lib/python3.10/site-packages/langchain_core/_api/deprecation.py:189: LangChainDeprecationWarning: The function `__call__` was deprecated in LangChain 0.1.0 and will be removed in 0.2.0. Use invoke instead.\n",
      "  warn_deprecated(\n"
     ]
    },
    {
     "name": "stdout",
     "output_type": "stream",
     "text": [
      " Everyone has the right to freedom of association, assembly and expression of opinion, from article...\\n A.\n",
      "Article 28A paragraph (3) of the 1945 Constitution\n",
      "\n",
      "\n",
      "Sources:\n",
      "Time:  68.67282271385193\n",
      "==============================================\n",
      "Nomor:  91\n",
      "Everyone has the right to communicate and obtain information to develop their personal and social environment, and has the right to seek, obtain, own, store, process and convey information using all types of available channels, as stated in article...\\n A.  Article 28B of the 1945 Constitution\\n B.  Article 28C of the 1945 Constitution\\n C.  Article 28E of the 1945 Constitution\\n D.  Article 28E of the 1945 Constitution\\n E.  Article 28F of the 1945 Constitution\n"
     ]
    },
    {
     "name": "stderr",
     "output_type": "stream",
     "text": [
      "/opt/conda/lib/python3.10/site-packages/langchain_core/_api/deprecation.py:189: LangChainDeprecationWarning: The function `__call__` was deprecated in LangChain 0.1.0 and will be removed in 0.2.0. Use invoke instead.\n",
      "  warn_deprecated(\n",
      "/opt/conda/lib/python3.10/site-packages/langchain_core/_api/deprecation.py:189: LangChainDeprecationWarning: The function `run` was deprecated in LangChain 0.1.0 and will be removed in 0.2.0. Use invoke instead.\n",
      "  warn_deprecated(\n",
      "/opt/conda/lib/python3.10/site-packages/langchain_core/_api/deprecation.py:189: LangChainDeprecationWarning: The function `__call__` was deprecated in LangChain 0.1.0 and will be removed in 0.2.0. Use invoke instead.\n",
      "  warn_deprecated(\n",
      "/opt/conda/lib/python3.10/site-packages/langchain_core/_api/deprecation.py:189: LangChainDeprecationWarning: The function `__call__` was deprecated in LangChain 0.1.0 and will be removed in 0.2.0. Use invoke instead.\n",
      "  warn_deprecated(\n"
     ]
    },
    {
     "name": "stdout",
     "output_type": "stream",
     "text": [
      " Everyone has the right to communicate and obtain information to develop their personal and social\n",
      "environment, and has the right to seek, obtain, own, store, process and convey information using all types of\n",
      "available channels, as stated in article...\\n A.  Article 28B of the 1945 Constitution\n",
      "\n",
      "\n",
      "Sources:\n",
      "Time:  77.75799703598022\n",
      "==============================================\n",
      "Nomor:  92\n",
      "Every person who meets the elements as intended in Article 27 paragraph (1), paragraph (2), paragraph (3), or paragraph (4) shall be punished with a maximum imprisonment...\\n A.  5 (five) years\\n B.  6 (six) years\\n C.  7 (seven) years\\n D.  8 (eight) years\\n E.  9 (nine) years\n"
     ]
    },
    {
     "name": "stderr",
     "output_type": "stream",
     "text": [
      "/opt/conda/lib/python3.10/site-packages/langchain_core/_api/deprecation.py:189: LangChainDeprecationWarning: The function `__call__` was deprecated in LangChain 0.1.0 and will be removed in 0.2.0. Use invoke instead.\n",
      "  warn_deprecated(\n",
      "/opt/conda/lib/python3.10/site-packages/langchain_core/_api/deprecation.py:189: LangChainDeprecationWarning: The function `run` was deprecated in LangChain 0.1.0 and will be removed in 0.2.0. Use invoke instead.\n",
      "  warn_deprecated(\n",
      "/opt/conda/lib/python3.10/site-packages/langchain_core/_api/deprecation.py:189: LangChainDeprecationWarning: The function `__call__` was deprecated in LangChain 0.1.0 and will be removed in 0.2.0. Use invoke instead.\n",
      "  warn_deprecated(\n",
      "/opt/conda/lib/python3.10/site-packages/langchain_core/_api/deprecation.py:189: LangChainDeprecationWarning: The function `__call__` was deprecated in LangChain 0.1.0 and will be removed in 0.2.0. Use invoke instead.\n",
      "  warn_deprecated(\n"
     ]
    },
    {
     "name": "stdout",
     "output_type": "stream",
     "text": [
      " D. 8 (eight) years\n",
      "\n",
      "\n",
      "Sources:\n",
      "Time:  45.52792549133301\n",
      "==============================================\n",
      "Nomor:  93\n",
      "Every person who meets the elements as intended in Article 27 paragraph (1), paragraph (2), paragraph (3), or paragraph (4) shall be punished with imprisonment for a maximum of 6 (six) years and/or a fine of a maximum...\\n A.  IDR 2,000,000,000.00 (two billion rupiah)\\n B.  IDR 3,000,000,000.00 (three billion rupiah)\\n C.  IDR 1,000,000,000.00 (one billion rupiah)\\n D.  IDR 4,000,000,000.00 (four billion rupiah)\\n E.  IDR 5,000,000,000.00 (five billion rupiah)\n"
     ]
    },
    {
     "name": "stderr",
     "output_type": "stream",
     "text": [
      "/opt/conda/lib/python3.10/site-packages/langchain_core/_api/deprecation.py:189: LangChainDeprecationWarning: The function `__call__` was deprecated in LangChain 0.1.0 and will be removed in 0.2.0. Use invoke instead.\n",
      "  warn_deprecated(\n",
      "/opt/conda/lib/python3.10/site-packages/langchain_core/_api/deprecation.py:189: LangChainDeprecationWarning: The function `run` was deprecated in LangChain 0.1.0 and will be removed in 0.2.0. Use invoke instead.\n",
      "  warn_deprecated(\n",
      "/opt/conda/lib/python3.10/site-packages/langchain_core/_api/deprecation.py:189: LangChainDeprecationWarning: The function `__call__` was deprecated in LangChain 0.1.0 and will be removed in 0.2.0. Use invoke instead.\n",
      "  warn_deprecated(\n",
      "/opt/conda/lib/python3.10/site-packages/langchain_core/_api/deprecation.py:189: LangChainDeprecationWarning: The function `__call__` was deprecated in LangChain 0.1.0 and will be removed in 0.2.0. Use invoke instead.\n",
      "  warn_deprecated(\n"
     ]
    },
    {
     "name": "stdout",
     "output_type": "stream",
     "text": [
      " C. IDR 1,000,000,000.00 (one billion rupiah)\n",
      "\n",
      "\n",
      "Sources:\n",
      "Time:  87.58209156990051\n",
      "==============================================\n",
      "Nomor:  94\n",
      "Law Number 32 of 2004, as most recently amended by...\\n A.  Law Number 11 of 2008\\n B.  Law Number 12 of 2008\\n C.  Law Number 13 of 2008\\n D.  Law Number 14 of 2008\\n E.  Law Number 15 of 2008\n"
     ]
    },
    {
     "name": "stderr",
     "output_type": "stream",
     "text": [
      "/opt/conda/lib/python3.10/site-packages/langchain_core/_api/deprecation.py:189: LangChainDeprecationWarning: The function `__call__` was deprecated in LangChain 0.1.0 and will be removed in 0.2.0. Use invoke instead.\n",
      "  warn_deprecated(\n",
      "/opt/conda/lib/python3.10/site-packages/langchain_core/_api/deprecation.py:189: LangChainDeprecationWarning: The function `run` was deprecated in LangChain 0.1.0 and will be removed in 0.2.0. Use invoke instead.\n",
      "  warn_deprecated(\n",
      "/opt/conda/lib/python3.10/site-packages/langchain_core/_api/deprecation.py:189: LangChainDeprecationWarning: The function `__call__` was deprecated in LangChain 0.1.0 and will be removed in 0.2.0. Use invoke instead.\n",
      "  warn_deprecated(\n",
      "/opt/conda/lib/python3.10/site-packages/langchain_core/_api/deprecation.py:189: LangChainDeprecationWarning: The function `__call__` was deprecated in LangChain 0.1.0 and will be removed in 0.2.0. Use invoke instead.\n",
      "  warn_deprecated(\n"
     ]
    },
    {
     "name": "stdout",
     "output_type": "stream",
     "text": [
      " A.  Law Number 11 of 2008\n",
      "\n",
      "\n",
      "Sources:\n",
      "Time:  50.741700410842896\n",
      "==============================================\n",
      "Nomor:  95\n",
      "Law Number 12 of 2008 concerning the Second Amendment to Law Number 32 of 2004 concerning Regional Government, in Article 236C stipulates...\\n A.  Handling of disputes over the vote counting results of regional head and deputy regional head elections by the Supreme Court shall be transferred to the Constitutional Court no later than 18 (eighteen) months from the promulgation of this Law.\\n B.  The Supreme Court has the authority to adjudicate at the first and final level whose decisions are final, among other things, to decide disputes regarding the results of general elections\\n C.  The Constitutional Court has the authority to adjudicate at the first and final level whose decisions are final, among other things, to decide disputes regarding the results of general elections\\n D.  The Indonesian National Police adjudicates at the first and final level whose decision is final, among other things, to decide disputes regarding the results of the general election\\n E.  The President of the Republic of Indonesia adjudicates at the first and final level whose decision is final, among other things, to decide disputes regarding the results of the general election\n"
     ]
    },
    {
     "name": "stderr",
     "output_type": "stream",
     "text": [
      "/opt/conda/lib/python3.10/site-packages/langchain_core/_api/deprecation.py:189: LangChainDeprecationWarning: The function `__call__` was deprecated in LangChain 0.1.0 and will be removed in 0.2.0. Use invoke instead.\n",
      "  warn_deprecated(\n",
      "/opt/conda/lib/python3.10/site-packages/langchain_core/_api/deprecation.py:189: LangChainDeprecationWarning: The function `run` was deprecated in LangChain 0.1.0 and will be removed in 0.2.0. Use invoke instead.\n",
      "  warn_deprecated(\n",
      "/opt/conda/lib/python3.10/site-packages/langchain_core/_api/deprecation.py:189: LangChainDeprecationWarning: The function `__call__` was deprecated in LangChain 0.1.0 and will be removed in 0.2.0. Use invoke instead.\n",
      "  warn_deprecated(\n",
      "/opt/conda/lib/python3.10/site-packages/langchain_core/_api/deprecation.py:189: LangChainDeprecationWarning: The function `__call__` was deprecated in LangChain 0.1.0 and will be removed in 0.2.0. Use invoke instead.\n",
      "  warn_deprecated(\n"
     ]
    },
    {
     "name": "stdout",
     "output_type": "stream",
     "text": [
      " B\n",
      "\n",
      "\n",
      "Sources:\n",
      "Time:  94.9149923324585\n",
      "==============================================\n",
      "Nomor:  96\n",
      "Governors, regents and mayors, respectively, as heads of provincial, district and city regional governments are elected democratically, as stated in article...\\n A.  1945 Constitution Article 18 paragraph (4)\\n B.  1945 Constitution Article 22E paragraph (1)\\n C.  1945 Constitution Article 27 paragraph (1)\\n D.  1945 Constitution Article 28C paragraph (2)\\n E.  1945 Constitution Article 28D paragraph (1)\n"
     ]
    },
    {
     "name": "stderr",
     "output_type": "stream",
     "text": [
      "/opt/conda/lib/python3.10/site-packages/langchain_core/_api/deprecation.py:189: LangChainDeprecationWarning: The function `__call__` was deprecated in LangChain 0.1.0 and will be removed in 0.2.0. Use invoke instead.\n",
      "  warn_deprecated(\n",
      "/opt/conda/lib/python3.10/site-packages/langchain_core/_api/deprecation.py:189: LangChainDeprecationWarning: The function `run` was deprecated in LangChain 0.1.0 and will be removed in 0.2.0. Use invoke instead.\n",
      "  warn_deprecated(\n",
      "/opt/conda/lib/python3.10/site-packages/langchain_core/_api/deprecation.py:189: LangChainDeprecationWarning: The function `__call__` was deprecated in LangChain 0.1.0 and will be removed in 0.2.0. Use invoke instead.\n",
      "  warn_deprecated(\n",
      "/opt/conda/lib/python3.10/site-packages/langchain_core/_api/deprecation.py:189: LangChainDeprecationWarning: The function `__call__` was deprecated in LangChain 0.1.0 and will be removed in 0.2.0. Use invoke instead.\n",
      "  warn_deprecated(\n"
     ]
    },
    {
     "name": "stdout",
     "output_type": "stream",
     "text": [
      " B.\n",
      "\n",
      "\n",
      "Sources:\n",
      "Time:  51.76839470863342\n",
      "==============================================\n",
      "Nomor:  97\n",
      "General elections are held directly, publicly, freely, secretly, honestly and fairly once every five years, in article...\\n A.  1946 Constitution Article 18 paragraph (4)\\n B.  1946 Constitution Article 22E paragraph (1)\\n C.  1946 Constitution Article 27 paragraph (1)\\n D.  1946 Constitution Article 28C paragraph (2)\\n E.  1946 Constitution Article 28D paragraph (1)\n"
     ]
    },
    {
     "name": "stderr",
     "output_type": "stream",
     "text": [
      "/opt/conda/lib/python3.10/site-packages/langchain_core/_api/deprecation.py:189: LangChainDeprecationWarning: The function `__call__` was deprecated in LangChain 0.1.0 and will be removed in 0.2.0. Use invoke instead.\n",
      "  warn_deprecated(\n",
      "/opt/conda/lib/python3.10/site-packages/langchain_core/_api/deprecation.py:189: LangChainDeprecationWarning: The function `run` was deprecated in LangChain 0.1.0 and will be removed in 0.2.0. Use invoke instead.\n",
      "  warn_deprecated(\n",
      "/opt/conda/lib/python3.10/site-packages/langchain_core/_api/deprecation.py:189: LangChainDeprecationWarning: The function `__call__` was deprecated in LangChain 0.1.0 and will be removed in 0.2.0. Use invoke instead.\n",
      "  warn_deprecated(\n",
      "/opt/conda/lib/python3.10/site-packages/langchain_core/_api/deprecation.py:189: LangChainDeprecationWarning: The function `__call__` was deprecated in LangChain 0.1.0 and will be removed in 0.2.0. Use invoke instead.\n",
      "  warn_deprecated(\n"
     ]
    },
    {
     "name": "stdout",
     "output_type": "stream",
     "text": [
      " B.  1946 Constitution Article 22E paragraph (1)\n",
      "\n",
      "\n",
      "Sources:\n",
      "Time:  56.1143102645874\n",
      "==============================================\n",
      "Nomor:  98\n",
      "All citizens have the same position under the law and government and are obliged to uphold the law and government without exception, in article...\\n A.  1947 Constitution Article 18 paragraph (4)\\n B.  1947 Constitution Article 22E paragraph (1)\\n C.  1947 Constitution Article 27 paragraph (1)\\n D.  1947 Constitution Article 28C paragraph (2)\\n E.  1947 Constitution Article 28D paragraph (1)\n"
     ]
    },
    {
     "name": "stderr",
     "output_type": "stream",
     "text": [
      "/opt/conda/lib/python3.10/site-packages/langchain_core/_api/deprecation.py:189: LangChainDeprecationWarning: The function `__call__` was deprecated in LangChain 0.1.0 and will be removed in 0.2.0. Use invoke instead.\n",
      "  warn_deprecated(\n",
      "/opt/conda/lib/python3.10/site-packages/langchain_core/_api/deprecation.py:189: LangChainDeprecationWarning: The function `run` was deprecated in LangChain 0.1.0 and will be removed in 0.2.0. Use invoke instead.\n",
      "  warn_deprecated(\n",
      "/opt/conda/lib/python3.10/site-packages/langchain_core/_api/deprecation.py:189: LangChainDeprecationWarning: The function `__call__` was deprecated in LangChain 0.1.0 and will be removed in 0.2.0. Use invoke instead.\n",
      "  warn_deprecated(\n",
      "/opt/conda/lib/python3.10/site-packages/langchain_core/_api/deprecation.py:189: LangChainDeprecationWarning: The function `__call__` was deprecated in LangChain 0.1.0 and will be removed in 0.2.0. Use invoke instead.\n",
      "  warn_deprecated(\n"
     ]
    },
    {
     "name": "stdout",
     "output_type": "stream",
     "text": [
      " A.\n",
      "\n",
      "\n",
      "Sources:\n",
      "Time:  52.709139823913574\n",
      "==============================================\n",
      "Nomor:  99\n",
      "Everyone has the right to advance themselves in fighting for their rights collectively to develop their society, nation and state, as stated in article...\\n A.  1948 Constitution Article 18 paragraph (4)\\n B.  1948 Constitution Article 22E paragraph (1)\\n C.  1948 Constitution Article 27 paragraph (1)\\n D.  1948 Constitution Article 28C paragraph (2)\\n E.  1948 Constitution Article 28D paragraph (1)\n"
     ]
    },
    {
     "name": "stderr",
     "output_type": "stream",
     "text": [
      "/opt/conda/lib/python3.10/site-packages/langchain_core/_api/deprecation.py:189: LangChainDeprecationWarning: The function `__call__` was deprecated in LangChain 0.1.0 and will be removed in 0.2.0. Use invoke instead.\n",
      "  warn_deprecated(\n",
      "/opt/conda/lib/python3.10/site-packages/langchain_core/_api/deprecation.py:189: LangChainDeprecationWarning: The function `run` was deprecated in LangChain 0.1.0 and will be removed in 0.2.0. Use invoke instead.\n",
      "  warn_deprecated(\n",
      "/opt/conda/lib/python3.10/site-packages/langchain_core/_api/deprecation.py:189: LangChainDeprecationWarning: The function `__call__` was deprecated in LangChain 0.1.0 and will be removed in 0.2.0. Use invoke instead.\n",
      "  warn_deprecated(\n",
      "/opt/conda/lib/python3.10/site-packages/langchain_core/_api/deprecation.py:189: LangChainDeprecationWarning: The function `__call__` was deprecated in LangChain 0.1.0 and will be removed in 0.2.0. Use invoke instead.\n",
      "  warn_deprecated(\n"
     ]
    },
    {
     "name": "stdout",
     "output_type": "stream",
     "text": [
      " B.\n",
      "\n",
      "\n",
      "Sources:\n",
      "Time:  51.42299461364746\n",
      "==============================================\n",
      "Nomor:  100\n",
      "Every person has the right to recognition, guarantees, protection and fair legal certainty as well as equal treatment before the law, as stated in Article...\\n A.  1949 Constitution Article 18 paragraph (4)\\n B.  1949 Constitution Article 22E paragraph (1)\\n C.  1949 Constitution Article 27 paragraph (1)\\n D.  1949 Constitution Article 28C paragraph (2)\\n E.  1949 Constitution Article 28D paragraph (1)\n"
     ]
    },
    {
     "name": "stderr",
     "output_type": "stream",
     "text": [
      "/opt/conda/lib/python3.10/site-packages/langchain_core/_api/deprecation.py:189: LangChainDeprecationWarning: The function `__call__` was deprecated in LangChain 0.1.0 and will be removed in 0.2.0. Use invoke instead.\n",
      "  warn_deprecated(\n",
      "/opt/conda/lib/python3.10/site-packages/langchain_core/_api/deprecation.py:189: LangChainDeprecationWarning: The function `run` was deprecated in LangChain 0.1.0 and will be removed in 0.2.0. Use invoke instead.\n",
      "  warn_deprecated(\n",
      "/opt/conda/lib/python3.10/site-packages/langchain_core/_api/deprecation.py:189: LangChainDeprecationWarning: The function `__call__` was deprecated in LangChain 0.1.0 and will be removed in 0.2.0. Use invoke instead.\n",
      "  warn_deprecated(\n",
      "/opt/conda/lib/python3.10/site-packages/langchain_core/_api/deprecation.py:189: LangChainDeprecationWarning: The function `__call__` was deprecated in LangChain 0.1.0 and will be removed in 0.2.0. Use invoke instead.\n",
      "  warn_deprecated(\n"
     ]
    },
    {
     "name": "stdout",
     "output_type": "stream",
     "text": [
      " B.  1949 Constitution Article 22E paragraph (1)\n",
      "\n",
      "\n",
      "Sources:\n",
      "Time:  58.07972574234009\n",
      "==============================================\n",
      "CPU times: user 9h 26min 19s, sys: 27.5 s, total: 9h 26min 47s\n",
      "Wall time: 2h 25min 4s\n"
     ]
    }
   ],
   "source": [
    "%%time\n",
    "for x,y in zip(dataset.no,dataset.qa_comb):\n",
    "    llm_time_start = time.time()\n",
    "    print(\"Nomor: \",x)\n",
    "    print(y)\n",
    "    llm_ans(y)\n",
    "    llm_time_end = time.time()\n",
    "    print(\"Time: \",llm_time_end - llm_time_start)\n",
    "    print(\"==============================================\")"
   ]
  },
  {
   "cell_type": "code",
   "execution_count": 20,
   "id": "a4563d1a",
   "metadata": {
    "execution": {
     "iopub.execute_input": "2024-01-06T04:41:22.622306Z",
     "iopub.status.busy": "2024-01-06T04:41:22.622000Z",
     "iopub.status.idle": "2024-01-06T04:41:22.626870Z",
     "shell.execute_reply": "2024-01-06T04:41:22.625996Z"
    },
    "papermill": {
     "duration": 0.06022,
     "end_time": "2024-01-06T04:41:22.628946",
     "exception": false,
     "start_time": "2024-01-06T04:41:22.568726",
     "status": "completed"
    },
    "tags": []
   },
   "outputs": [
    {
     "name": "stdout",
     "output_type": "stream",
     "text": [
      "9037.690846204758\n"
     ]
    }
   ],
   "source": [
    "end = time.time()\n",
    "print(end - start)"
   ]
  }
 ],
 "metadata": {
  "kaggle": {
   "accelerator": "nvidiaTeslaT4",
   "dataSources": [
    {
     "datasetId": 3946974,
     "sourceId": 6867918,
     "sourceType": "datasetVersion"
    },
    {
     "datasetId": 3816174,
     "sourceId": 6613177,
     "sourceType": "datasetVersion"
    }
   ],
   "isGpuEnabled": true,
   "isInternetEnabled": true,
   "language": "python",
   "sourceType": "notebook"
  },
  "kernelspec": {
   "display_name": "Python 3",
   "language": "python",
   "name": "python3"
  },
  "language_info": {
   "codemirror_mode": {
    "name": "ipython",
    "version": 3
   },
   "file_extension": ".py",
   "mimetype": "text/x-python",
   "name": "python",
   "nbconvert_exporter": "python",
   "pygments_lexer": "ipython3",
   "version": "3.10.12"
  },
  "papermill": {
   "default_parameters": {},
   "duration": 9044.824984,
   "end_time": "2024-01-06T04:41:26.065801",
   "environment_variables": {},
   "exception": null,
   "input_path": "__notebook__.ipynb",
   "output_path": "__notebook__.ipynb",
   "parameters": {},
   "start_time": "2024-01-06T02:10:41.240817",
   "version": "2.4.0"
  },
  "widgets": {
   "application/vnd.jupyter.widget-state+json": {
    "state": {
     "0192c2c96d7147979d3f4038ec1201fa": {
      "model_module": "@jupyter-widgets/base",
      "model_module_version": "1.2.0",
      "model_name": "LayoutModel",
      "state": {
       "_model_module": "@jupyter-widgets/base",
       "_model_module_version": "1.2.0",
       "_model_name": "LayoutModel",
       "_view_count": null,
       "_view_module": "@jupyter-widgets/base",
       "_view_module_version": "1.2.0",
       "_view_name": "LayoutView",
       "align_content": null,
       "align_items": null,
       "align_self": null,
       "border": null,
       "bottom": null,
       "display": null,
       "flex": null,
       "flex_flow": null,
       "grid_area": null,
       "grid_auto_columns": null,
       "grid_auto_flow": null,
       "grid_auto_rows": null,
       "grid_column": null,
       "grid_gap": null,
       "grid_row": null,
       "grid_template_areas": null,
       "grid_template_columns": null,
       "grid_template_rows": null,
       "height": null,
       "justify_content": null,
       "justify_items": null,
       "left": null,
       "margin": null,
       "max_height": null,
       "max_width": null,
       "min_height": null,
       "min_width": null,
       "object_fit": null,
       "object_position": null,
       "order": null,
       "overflow": null,
       "overflow_x": null,
       "overflow_y": null,
       "padding": null,
       "right": null,
       "top": null,
       "visibility": null,
       "width": null
      }
     },
     "022667f1dcb14aea9c2d0c808da43884": {
      "model_module": "@jupyter-widgets/base",
      "model_module_version": "1.2.0",
      "model_name": "LayoutModel",
      "state": {
       "_model_module": "@jupyter-widgets/base",
       "_model_module_version": "1.2.0",
       "_model_name": "LayoutModel",
       "_view_count": null,
       "_view_module": "@jupyter-widgets/base",
       "_view_module_version": "1.2.0",
       "_view_name": "LayoutView",
       "align_content": null,
       "align_items": null,
       "align_self": null,
       "border": null,
       "bottom": null,
       "display": null,
       "flex": null,
       "flex_flow": null,
       "grid_area": null,
       "grid_auto_columns": null,
       "grid_auto_flow": null,
       "grid_auto_rows": null,
       "grid_column": null,
       "grid_gap": null,
       "grid_row": null,
       "grid_template_areas": null,
       "grid_template_columns": null,
       "grid_template_rows": null,
       "height": null,
       "justify_content": null,
       "justify_items": null,
       "left": null,
       "margin": null,
       "max_height": null,
       "max_width": null,
       "min_height": null,
       "min_width": null,
       "object_fit": null,
       "object_position": null,
       "order": null,
       "overflow": null,
       "overflow_x": null,
       "overflow_y": null,
       "padding": null,
       "right": null,
       "top": null,
       "visibility": null,
       "width": null
      }
     },
     "09a7e2360e0144d8a52e98a94cb7d3a8": {
      "model_module": "@jupyter-widgets/controls",
      "model_module_version": "1.5.0",
      "model_name": "HTMLModel",
      "state": {
       "_dom_classes": [],
       "_model_module": "@jupyter-widgets/controls",
       "_model_module_version": "1.5.0",
       "_model_name": "HTMLModel",
       "_view_count": null,
       "_view_module": "@jupyter-widgets/controls",
       "_view_module_version": "1.5.0",
       "_view_name": "HTMLView",
       "description": "",
       "description_tooltip": null,
       "layout": "IPY_MODEL_a1b17f3960a1489abb043a10fde7b280",
       "placeholder": "​",
       "style": "IPY_MODEL_f81871461ec441f3b2fedf5de307f40f",
       "value": ".gitattributes: 100%"
      }
     },
     "0a003d225b5a4bb9b190bc532fd3dc3a": {
      "model_module": "@jupyter-widgets/controls",
      "model_module_version": "1.5.0",
      "model_name": "DescriptionStyleModel",
      "state": {
       "_model_module": "@jupyter-widgets/controls",
       "_model_module_version": "1.5.0",
       "_model_name": "DescriptionStyleModel",
       "_view_count": null,
       "_view_module": "@jupyter-widgets/base",
       "_view_module_version": "1.2.0",
       "_view_name": "StyleView",
       "description_width": ""
      }
     },
     "0a5166b359a14e54b9e262c368c4d317": {
      "model_module": "@jupyter-widgets/controls",
      "model_module_version": "1.5.0",
      "model_name": "DescriptionStyleModel",
      "state": {
       "_model_module": "@jupyter-widgets/controls",
       "_model_module_version": "1.5.0",
       "_model_name": "DescriptionStyleModel",
       "_view_count": null,
       "_view_module": "@jupyter-widgets/base",
       "_view_module_version": "1.2.0",
       "_view_name": "StyleView",
       "description_width": ""
      }
     },
     "0a80cd0037b64bc99234d8a4e6177693": {
      "model_module": "@jupyter-widgets/base",
      "model_module_version": "1.2.0",
      "model_name": "LayoutModel",
      "state": {
       "_model_module": "@jupyter-widgets/base",
       "_model_module_version": "1.2.0",
       "_model_name": "LayoutModel",
       "_view_count": null,
       "_view_module": "@jupyter-widgets/base",
       "_view_module_version": "1.2.0",
       "_view_name": "LayoutView",
       "align_content": null,
       "align_items": null,
       "align_self": null,
       "border": null,
       "bottom": null,
       "display": null,
       "flex": null,
       "flex_flow": null,
       "grid_area": null,
       "grid_auto_columns": null,
       "grid_auto_flow": null,
       "grid_auto_rows": null,
       "grid_column": null,
       "grid_gap": null,
       "grid_row": null,
       "grid_template_areas": null,
       "grid_template_columns": null,
       "grid_template_rows": null,
       "height": null,
       "justify_content": null,
       "justify_items": null,
       "left": null,
       "margin": null,
       "max_height": null,
       "max_width": null,
       "min_height": null,
       "min_width": null,
       "object_fit": null,
       "object_position": null,
       "order": null,
       "overflow": null,
       "overflow_x": null,
       "overflow_y": null,
       "padding": null,
       "right": null,
       "top": null,
       "visibility": null,
       "width": null
      }
     },
     "0dad32a4282c4475bae17748b799144f": {
      "model_module": "@jupyter-widgets/controls",
      "model_module_version": "1.5.0",
      "model_name": "DescriptionStyleModel",
      "state": {
       "_model_module": "@jupyter-widgets/controls",
       "_model_module_version": "1.5.0",
       "_model_name": "DescriptionStyleModel",
       "_view_count": null,
       "_view_module": "@jupyter-widgets/base",
       "_view_module_version": "1.2.0",
       "_view_name": "StyleView",
       "description_width": ""
      }
     },
     "0fb7bc3c6cf94bdd82d214a85874d084": {
      "model_module": "@jupyter-widgets/base",
      "model_module_version": "1.2.0",
      "model_name": "LayoutModel",
      "state": {
       "_model_module": "@jupyter-widgets/base",
       "_model_module_version": "1.2.0",
       "_model_name": "LayoutModel",
       "_view_count": null,
       "_view_module": "@jupyter-widgets/base",
       "_view_module_version": "1.2.0",
       "_view_name": "LayoutView",
       "align_content": null,
       "align_items": null,
       "align_self": null,
       "border": null,
       "bottom": null,
       "display": null,
       "flex": null,
       "flex_flow": null,
       "grid_area": null,
       "grid_auto_columns": null,
       "grid_auto_flow": null,
       "grid_auto_rows": null,
       "grid_column": null,
       "grid_gap": null,
       "grid_row": null,
       "grid_template_areas": null,
       "grid_template_columns": null,
       "grid_template_rows": null,
       "height": null,
       "justify_content": null,
       "justify_items": null,
       "left": null,
       "margin": null,
       "max_height": null,
       "max_width": null,
       "min_height": null,
       "min_width": null,
       "object_fit": null,
       "object_position": null,
       "order": null,
       "overflow": null,
       "overflow_x": null,
       "overflow_y": null,
       "padding": null,
       "right": null,
       "top": null,
       "visibility": null,
       "width": null
      }
     },
     "10246ce538d346499af28078fa40208e": {
      "model_module": "@jupyter-widgets/controls",
      "model_module_version": "1.5.0",
      "model_name": "HTMLModel",
      "state": {
       "_dom_classes": [],
       "_model_module": "@jupyter-widgets/controls",
       "_model_module_version": "1.5.0",
       "_model_name": "HTMLModel",
       "_view_count": null,
       "_view_module": "@jupyter-widgets/controls",
       "_view_module_version": "1.5.0",
       "_view_name": "HTMLView",
       "description": "",
       "description_tooltip": null,
       "layout": "IPY_MODEL_8edf8272f85346b2809283943522832e",
       "placeholder": "​",
       "style": "IPY_MODEL_5807239fe0d140fabb1b402033404267",
       "value": " 2.65k/2.65k [00:00&lt;00:00, 226kB/s]"
      }
     },
     "107e5e491880439eb42033870fcfe807": {
      "model_module": "@jupyter-widgets/controls",
      "model_module_version": "1.5.0",
      "model_name": "ProgressStyleModel",
      "state": {
       "_model_module": "@jupyter-widgets/controls",
       "_model_module_version": "1.5.0",
       "_model_name": "ProgressStyleModel",
       "_view_count": null,
       "_view_module": "@jupyter-widgets/base",
       "_view_module_version": "1.2.0",
       "_view_name": "StyleView",
       "bar_color": null,
       "description_width": ""
      }
     },
     "121535098968484585ac1723092a9c82": {
      "model_module": "@jupyter-widgets/controls",
      "model_module_version": "1.5.0",
      "model_name": "HTMLModel",
      "state": {
       "_dom_classes": [],
       "_model_module": "@jupyter-widgets/controls",
       "_model_module_version": "1.5.0",
       "_model_name": "HTMLModel",
       "_view_count": null,
       "_view_module": "@jupyter-widgets/controls",
       "_view_module_version": "1.5.0",
       "_view_name": "HTMLView",
       "description": "",
       "description_tooltip": null,
       "layout": "IPY_MODEL_2e12f2bf77164785a2bad32b4f89cdba",
       "placeholder": "​",
       "style": "IPY_MODEL_b1bbb35df842488bb38a3d2afca388b1",
       "value": "0_Transformer/tokenizer.json: 100%"
      }
     },
     "121a1b53a2a64d519ff4f5580801a478": {
      "model_module": "@jupyter-widgets/controls",
      "model_module_version": "1.5.0",
      "model_name": "HTMLModel",
      "state": {
       "_dom_classes": [],
       "_model_module": "@jupyter-widgets/controls",
       "_model_module_version": "1.5.0",
       "_model_name": "HTMLModel",
       "_view_count": null,
       "_view_module": "@jupyter-widgets/controls",
       "_view_module_version": "1.5.0",
       "_view_name": "HTMLView",
       "description": "",
       "description_tooltip": null,
       "layout": "IPY_MODEL_1b84bd4e205f44728bf0263de5212d91",
       "placeholder": "​",
       "style": "IPY_MODEL_9994dbc77a35408393f6f7bf8d27e807",
       "value": " 125/125 [00:00&lt;00:00, 11.1kB/s]"
      }
     },
     "13127224895b46279ea5ef253bd15b57": {
      "model_module": "@jupyter-widgets/base",
      "model_module_version": "1.2.0",
      "model_name": "LayoutModel",
      "state": {
       "_model_module": "@jupyter-widgets/base",
       "_model_module_version": "1.2.0",
       "_model_name": "LayoutModel",
       "_view_count": null,
       "_view_module": "@jupyter-widgets/base",
       "_view_module_version": "1.2.0",
       "_view_name": "LayoutView",
       "align_content": null,
       "align_items": null,
       "align_self": null,
       "border": null,
       "bottom": null,
       "display": null,
       "flex": null,
       "flex_flow": null,
       "grid_area": null,
       "grid_auto_columns": null,
       "grid_auto_flow": null,
       "grid_auto_rows": null,
       "grid_column": null,
       "grid_gap": null,
       "grid_row": null,
       "grid_template_areas": null,
       "grid_template_columns": null,
       "grid_template_rows": null,
       "height": null,
       "justify_content": null,
       "justify_items": null,
       "left": null,
       "margin": null,
       "max_height": null,
       "max_width": null,
       "min_height": null,
       "min_width": null,
       "object_fit": null,
       "object_position": null,
       "order": null,
       "overflow": null,
       "overflow_x": null,
       "overflow_y": null,
       "padding": null,
       "right": null,
       "top": null,
       "visibility": null,
       "width": null
      }
     },
     "149f0e5e4bb74ec0896f4f4874a6f5c6": {
      "model_module": "@jupyter-widgets/controls",
      "model_module_version": "1.5.0",
      "model_name": "ProgressStyleModel",
      "state": {
       "_model_module": "@jupyter-widgets/controls",
       "_model_module_version": "1.5.0",
       "_model_name": "ProgressStyleModel",
       "_view_count": null,
       "_view_module": "@jupyter-widgets/base",
       "_view_module_version": "1.2.0",
       "_view_name": "StyleView",
       "bar_color": null,
       "description_width": ""
      }
     },
     "14a1a26b2ec34ca1ac642f40412a01dc": {
      "model_module": "@jupyter-widgets/controls",
      "model_module_version": "1.5.0",
      "model_name": "DescriptionStyleModel",
      "state": {
       "_model_module": "@jupyter-widgets/controls",
       "_model_module_version": "1.5.0",
       "_model_name": "DescriptionStyleModel",
       "_view_count": null,
       "_view_module": "@jupyter-widgets/base",
       "_view_module_version": "1.2.0",
       "_view_name": "StyleView",
       "description_width": ""
      }
     },
     "1915c85930c0491ca4d5606508ff7943": {
      "model_module": "@jupyter-widgets/controls",
      "model_module_version": "1.5.0",
      "model_name": "FloatProgressModel",
      "state": {
       "_dom_classes": [],
       "_model_module": "@jupyter-widgets/controls",
       "_model_module_version": "1.5.0",
       "_model_name": "FloatProgressModel",
       "_view_count": null,
       "_view_module": "@jupyter-widgets/controls",
       "_view_module_version": "1.5.0",
       "_view_name": "ProgressView",
       "bar_style": "success",
       "description": "",
       "description_tooltip": null,
       "layout": "IPY_MODEL_660b136a54f04923932162bfb6a0305d",
       "max": 125.0,
       "min": 0.0,
       "orientation": "horizontal",
       "style": "IPY_MODEL_6870c94914464fee958ce174236b8d41",
       "value": 125.0
      }
     },
     "19e9f93bcbfc48ec825354a516b89cfb": {
      "model_module": "@jupyter-widgets/base",
      "model_module_version": "1.2.0",
      "model_name": "LayoutModel",
      "state": {
       "_model_module": "@jupyter-widgets/base",
       "_model_module_version": "1.2.0",
       "_model_name": "LayoutModel",
       "_view_count": null,
       "_view_module": "@jupyter-widgets/base",
       "_view_module_version": "1.2.0",
       "_view_name": "LayoutView",
       "align_content": null,
       "align_items": null,
       "align_self": null,
       "border": null,
       "bottom": null,
       "display": null,
       "flex": null,
       "flex_flow": null,
       "grid_area": null,
       "grid_auto_columns": null,
       "grid_auto_flow": null,
       "grid_auto_rows": null,
       "grid_column": null,
       "grid_gap": null,
       "grid_row": null,
       "grid_template_areas": null,
       "grid_template_columns": null,
       "grid_template_rows": null,
       "height": null,
       "justify_content": null,
       "justify_items": null,
       "left": null,
       "margin": null,
       "max_height": null,
       "max_width": null,
       "min_height": null,
       "min_width": null,
       "object_fit": null,
       "object_position": null,
       "order": null,
       "overflow": null,
       "overflow_x": null,
       "overflow_y": null,
       "padding": null,
       "right": null,
       "top": null,
       "visibility": null,
       "width": null
      }
     },
     "1a50bb01cc7449448ea17626d633af9e": {
      "model_module": "@jupyter-widgets/controls",
      "model_module_version": "1.5.0",
      "model_name": "HBoxModel",
      "state": {
       "_dom_classes": [],
       "_model_module": "@jupyter-widgets/controls",
       "_model_module_version": "1.5.0",
       "_model_name": "HBoxModel",
       "_view_count": null,
       "_view_module": "@jupyter-widgets/controls",
       "_view_module_version": "1.5.0",
       "_view_name": "HBoxView",
       "box_style": "",
       "children": [
        "IPY_MODEL_22de1afc85484d18969c41dddc10de4d",
        "IPY_MODEL_1915c85930c0491ca4d5606508ff7943",
        "IPY_MODEL_121a1b53a2a64d519ff4f5580801a478"
       ],
       "layout": "IPY_MODEL_97b1d3f3e60b46d1a56527a308080cc7"
      }
     },
     "1ac076d73861432da4389be6944aa0a8": {
      "model_module": "@jupyter-widgets/controls",
      "model_module_version": "1.5.0",
      "model_name": "DescriptionStyleModel",
      "state": {
       "_model_module": "@jupyter-widgets/controls",
       "_model_module_version": "1.5.0",
       "_model_name": "DescriptionStyleModel",
       "_view_count": null,
       "_view_module": "@jupyter-widgets/base",
       "_view_module_version": "1.2.0",
       "_view_name": "StyleView",
       "description_width": ""
      }
     },
     "1b84bd4e205f44728bf0263de5212d91": {
      "model_module": "@jupyter-widgets/base",
      "model_module_version": "1.2.0",
      "model_name": "LayoutModel",
      "state": {
       "_model_module": "@jupyter-widgets/base",
       "_model_module_version": "1.2.0",
       "_model_name": "LayoutModel",
       "_view_count": null,
       "_view_module": "@jupyter-widgets/base",
       "_view_module_version": "1.2.0",
       "_view_name": "LayoutView",
       "align_content": null,
       "align_items": null,
       "align_self": null,
       "border": null,
       "bottom": null,
       "display": null,
       "flex": null,
       "flex_flow": null,
       "grid_area": null,
       "grid_auto_columns": null,
       "grid_auto_flow": null,
       "grid_auto_rows": null,
       "grid_column": null,
       "grid_gap": null,
       "grid_row": null,
       "grid_template_areas": null,
       "grid_template_columns": null,
       "grid_template_rows": null,
       "height": null,
       "justify_content": null,
       "justify_items": null,
       "left": null,
       "margin": null,
       "max_height": null,
       "max_width": null,
       "min_height": null,
       "min_width": null,
       "object_fit": null,
       "object_position": null,
       "order": null,
       "overflow": null,
       "overflow_x": null,
       "overflow_y": null,
       "padding": null,
       "right": null,
       "top": null,
       "visibility": null,
       "width": null
      }
     },
     "1c2a98ae78a14aa7944054ee4742ddc6": {
      "model_module": "@jupyter-widgets/controls",
      "model_module_version": "1.5.0",
      "model_name": "FloatProgressModel",
      "state": {
       "_dom_classes": [],
       "_model_module": "@jupyter-widgets/controls",
       "_model_module_version": "1.5.0",
       "_model_name": "FloatProgressModel",
       "_view_count": null,
       "_view_module": "@jupyter-widgets/controls",
       "_view_module_version": "1.5.0",
       "_view_name": "ProgressView",
       "bar_style": "success",
       "description": "",
       "description_tooltip": null,
       "layout": "IPY_MODEL_91199f2ba6b140d3a50d7ba5a98a8229",
       "max": 394.0,
       "min": 0.0,
       "orientation": "horizontal",
       "style": "IPY_MODEL_e51fe33f02364237832443843dddb5c7",
       "value": 394.0
      }
     },
     "1d0772dc82ea4cb99c5f0c1fa9ffa3b5": {
      "model_module": "@jupyter-widgets/controls",
      "model_module_version": "1.5.0",
      "model_name": "HBoxModel",
      "state": {
       "_dom_classes": [],
       "_model_module": "@jupyter-widgets/controls",
       "_model_module_version": "1.5.0",
       "_model_name": "HBoxModel",
       "_view_count": null,
       "_view_module": "@jupyter-widgets/controls",
       "_view_module_version": "1.5.0",
       "_view_name": "HBoxView",
       "box_style": "",
       "children": [
        "IPY_MODEL_c2666b9f191d42658c7e9667cc576b15",
        "IPY_MODEL_84f2ff8725f04400a99497a20558868c",
        "IPY_MODEL_fd09bb7f82ad428e8ef2f6d91c77e136"
       ],
       "layout": "IPY_MODEL_aa63d1b904104a3c9181033cb863488f"
      }
     },
     "22de1afc85484d18969c41dddc10de4d": {
      "model_module": "@jupyter-widgets/controls",
      "model_module_version": "1.5.0",
      "model_name": "HTMLModel",
      "state": {
       "_dom_classes": [],
       "_model_module": "@jupyter-widgets/controls",
       "_model_module_version": "1.5.0",
       "_model_name": "HTMLModel",
       "_view_count": null,
       "_view_module": "@jupyter-widgets/controls",
       "_view_module_version": "1.5.0",
       "_view_name": "HTMLView",
       "description": "",
       "description_tooltip": null,
       "layout": "IPY_MODEL_6004ddc50e964736a23346b29dab00e8",
       "placeholder": "​",
       "style": "IPY_MODEL_a8f34fbf1bd748a691ee7378c8cfef8f",
       "value": "0_Transformer/special_tokens_map.json: 100%"
      }
     },
     "260f405de2ae4cb597e150680a83ef65": {
      "model_module": "@jupyter-widgets/controls",
      "model_module_version": "1.5.0",
      "model_name": "FloatProgressModel",
      "state": {
       "_dom_classes": [],
       "_model_module": "@jupyter-widgets/controls",
       "_model_module_version": "1.5.0",
       "_model_name": "FloatProgressModel",
       "_view_count": null,
       "_view_module": "@jupyter-widgets/controls",
       "_view_module_version": "1.5.0",
       "_view_name": "ProgressView",
       "bar_style": "success",
       "description": "",
       "description_tooltip": null,
       "layout": "IPY_MODEL_adcc6c3e88254ae49b4c48a990ec6ebe",
       "max": 2653.0,
       "min": 0.0,
       "orientation": "horizontal",
       "style": "IPY_MODEL_f8a0fc12f4d74d8c8ee815f36667b3bc",
       "value": 2653.0
      }
     },
     "265cb9334a9b4d15a11e5ddb3c497fc7": {
      "model_module": "@jupyter-widgets/base",
      "model_module_version": "1.2.0",
      "model_name": "LayoutModel",
      "state": {
       "_model_module": "@jupyter-widgets/base",
       "_model_module_version": "1.2.0",
       "_model_name": "LayoutModel",
       "_view_count": null,
       "_view_module": "@jupyter-widgets/base",
       "_view_module_version": "1.2.0",
       "_view_name": "LayoutView",
       "align_content": null,
       "align_items": null,
       "align_self": null,
       "border": null,
       "bottom": null,
       "display": null,
       "flex": null,
       "flex_flow": null,
       "grid_area": null,
       "grid_auto_columns": null,
       "grid_auto_flow": null,
       "grid_auto_rows": null,
       "grid_column": null,
       "grid_gap": null,
       "grid_row": null,
       "grid_template_areas": null,
       "grid_template_columns": null,
       "grid_template_rows": null,
       "height": null,
       "justify_content": null,
       "justify_items": null,
       "left": null,
       "margin": null,
       "max_height": null,
       "max_width": null,
       "min_height": null,
       "min_width": null,
       "object_fit": null,
       "object_position": null,
       "order": null,
       "overflow": null,
       "overflow_x": null,
       "overflow_y": null,
       "padding": null,
       "right": null,
       "top": null,
       "visibility": null,
       "width": null
      }
     },
     "26b81b916ac84b61a8abd03039e8ca03": {
      "model_module": "@jupyter-widgets/base",
      "model_module_version": "1.2.0",
      "model_name": "LayoutModel",
      "state": {
       "_model_module": "@jupyter-widgets/base",
       "_model_module_version": "1.2.0",
       "_model_name": "LayoutModel",
       "_view_count": null,
       "_view_module": "@jupyter-widgets/base",
       "_view_module_version": "1.2.0",
       "_view_name": "LayoutView",
       "align_content": null,
       "align_items": null,
       "align_self": null,
       "border": null,
       "bottom": null,
       "display": null,
       "flex": null,
       "flex_flow": null,
       "grid_area": null,
       "grid_auto_columns": null,
       "grid_auto_flow": null,
       "grid_auto_rows": null,
       "grid_column": null,
       "grid_gap": null,
       "grid_row": null,
       "grid_template_areas": null,
       "grid_template_columns": null,
       "grid_template_rows": null,
       "height": null,
       "justify_content": null,
       "justify_items": null,
       "left": null,
       "margin": null,
       "max_height": null,
       "max_width": null,
       "min_height": null,
       "min_width": null,
       "object_fit": null,
       "object_position": null,
       "order": null,
       "overflow": null,
       "overflow_x": null,
       "overflow_y": null,
       "padding": null,
       "right": null,
       "top": null,
       "visibility": null,
       "width": null
      }
     },
     "26e18aaded03478a8f81d1d87b4bd33f": {
      "model_module": "@jupyter-widgets/controls",
      "model_module_version": "1.5.0",
      "model_name": "HBoxModel",
      "state": {
       "_dom_classes": [],
       "_model_module": "@jupyter-widgets/controls",
       "_model_module_version": "1.5.0",
       "_model_name": "HBoxModel",
       "_view_count": null,
       "_view_module": "@jupyter-widgets/controls",
       "_view_module_version": "1.5.0",
       "_view_name": "HBoxView",
       "box_style": "",
       "children": [
        "IPY_MODEL_381724eab101495eb979d8c6218855b7",
        "IPY_MODEL_c803f71b70464dcfb0a899f3cd4eba68",
        "IPY_MODEL_f03d098433a341eb988854c023d0750b"
       ],
       "layout": "IPY_MODEL_3736edecea96414d92d13d1ee2808b92"
      }
     },
     "27263e8acbd34e11918f3a3f5d18f4ec": {
      "model_module": "@jupyter-widgets/controls",
      "model_module_version": "1.5.0",
      "model_name": "ProgressStyleModel",
      "state": {
       "_model_module": "@jupyter-widgets/controls",
       "_model_module_version": "1.5.0",
       "_model_name": "ProgressStyleModel",
       "_view_count": null,
       "_view_module": "@jupyter-widgets/base",
       "_view_module_version": "1.2.0",
       "_view_name": "StyleView",
       "bar_color": null,
       "description_width": ""
      }
     },
     "286306f7ef1e4247a8a8fbb619474a69": {
      "model_module": "@jupyter-widgets/base",
      "model_module_version": "1.2.0",
      "model_name": "LayoutModel",
      "state": {
       "_model_module": "@jupyter-widgets/base",
       "_model_module_version": "1.2.0",
       "_model_name": "LayoutModel",
       "_view_count": null,
       "_view_module": "@jupyter-widgets/base",
       "_view_module_version": "1.2.0",
       "_view_name": "LayoutView",
       "align_content": null,
       "align_items": null,
       "align_self": null,
       "border": null,
       "bottom": null,
       "display": null,
       "flex": null,
       "flex_flow": null,
       "grid_area": null,
       "grid_auto_columns": null,
       "grid_auto_flow": null,
       "grid_auto_rows": null,
       "grid_column": null,
       "grid_gap": null,
       "grid_row": null,
       "grid_template_areas": null,
       "grid_template_columns": null,
       "grid_template_rows": null,
       "height": null,
       "justify_content": null,
       "justify_items": null,
       "left": null,
       "margin": null,
       "max_height": null,
       "max_width": null,
       "min_height": null,
       "min_width": null,
       "object_fit": null,
       "object_position": null,
       "order": null,
       "overflow": null,
       "overflow_x": null,
       "overflow_y": null,
       "padding": null,
       "right": null,
       "top": null,
       "visibility": null,
       "width": null
      }
     },
     "2aa2310d91b249838f22fdd1dbf74aa8": {
      "model_module": "@jupyter-widgets/controls",
      "model_module_version": "1.5.0",
      "model_name": "HBoxModel",
      "state": {
       "_dom_classes": [],
       "_model_module": "@jupyter-widgets/controls",
       "_model_module_version": "1.5.0",
       "_model_name": "HBoxModel",
       "_view_count": null,
       "_view_module": "@jupyter-widgets/controls",
       "_view_module_version": "1.5.0",
       "_view_name": "HBoxView",
       "box_style": "",
       "children": [
        "IPY_MODEL_121535098968484585ac1723092a9c82",
        "IPY_MODEL_f4c676995815451093088b9d7cf882a6",
        "IPY_MODEL_ee2e997d62394c40831f3cf3c5e10afc"
       ],
       "layout": "IPY_MODEL_df23261a839e4fa5acac47af29aab771"
      }
     },
     "2b5eea366c6c4e02ac2d6e29e7e08d52": {
      "model_module": "@jupyter-widgets/controls",
      "model_module_version": "1.5.0",
      "model_name": "ProgressStyleModel",
      "state": {
       "_model_module": "@jupyter-widgets/controls",
       "_model_module_version": "1.5.0",
       "_model_name": "ProgressStyleModel",
       "_view_count": null,
       "_view_module": "@jupyter-widgets/base",
       "_view_module_version": "1.2.0",
       "_view_name": "StyleView",
       "bar_color": null,
       "description_width": ""
      }
     },
     "2d536843ec8b44d7947d40057271f76c": {
      "model_module": "@jupyter-widgets/base",
      "model_module_version": "1.2.0",
      "model_name": "LayoutModel",
      "state": {
       "_model_module": "@jupyter-widgets/base",
       "_model_module_version": "1.2.0",
       "_model_name": "LayoutModel",
       "_view_count": null,
       "_view_module": "@jupyter-widgets/base",
       "_view_module_version": "1.2.0",
       "_view_name": "LayoutView",
       "align_content": null,
       "align_items": null,
       "align_self": null,
       "border": null,
       "bottom": null,
       "display": null,
       "flex": null,
       "flex_flow": null,
       "grid_area": null,
       "grid_auto_columns": null,
       "grid_auto_flow": null,
       "grid_auto_rows": null,
       "grid_column": null,
       "grid_gap": null,
       "grid_row": null,
       "grid_template_areas": null,
       "grid_template_columns": null,
       "grid_template_rows": null,
       "height": null,
       "justify_content": null,
       "justify_items": null,
       "left": null,
       "margin": null,
       "max_height": null,
       "max_width": null,
       "min_height": null,
       "min_width": null,
       "object_fit": null,
       "object_position": null,
       "order": null,
       "overflow": null,
       "overflow_x": null,
       "overflow_y": null,
       "padding": null,
       "right": null,
       "top": null,
       "visibility": null,
       "width": null
      }
     },
     "2e12f2bf77164785a2bad32b4f89cdba": {
      "model_module": "@jupyter-widgets/base",
      "model_module_version": "1.2.0",
      "model_name": "LayoutModel",
      "state": {
       "_model_module": "@jupyter-widgets/base",
       "_model_module_version": "1.2.0",
       "_model_name": "LayoutModel",
       "_view_count": null,
       "_view_module": "@jupyter-widgets/base",
       "_view_module_version": "1.2.0",
       "_view_name": "LayoutView",
       "align_content": null,
       "align_items": null,
       "align_self": null,
       "border": null,
       "bottom": null,
       "display": null,
       "flex": null,
       "flex_flow": null,
       "grid_area": null,
       "grid_auto_columns": null,
       "grid_auto_flow": null,
       "grid_auto_rows": null,
       "grid_column": null,
       "grid_gap": null,
       "grid_row": null,
       "grid_template_areas": null,
       "grid_template_columns": null,
       "grid_template_rows": null,
       "height": null,
       "justify_content": null,
       "justify_items": null,
       "left": null,
       "margin": null,
       "max_height": null,
       "max_width": null,
       "min_height": null,
       "min_width": null,
       "object_fit": null,
       "object_position": null,
       "order": null,
       "overflow": null,
       "overflow_x": null,
       "overflow_y": null,
       "padding": null,
       "right": null,
       "top": null,
       "visibility": null,
       "width": null
      }
     },
     "2eff0c7939cc4d998de8d8d6798993cf": {
      "model_module": "@jupyter-widgets/base",
      "model_module_version": "1.2.0",
      "model_name": "LayoutModel",
      "state": {
       "_model_module": "@jupyter-widgets/base",
       "_model_module_version": "1.2.0",
       "_model_name": "LayoutModel",
       "_view_count": null,
       "_view_module": "@jupyter-widgets/base",
       "_view_module_version": "1.2.0",
       "_view_name": "LayoutView",
       "align_content": null,
       "align_items": null,
       "align_self": null,
       "border": null,
       "bottom": null,
       "display": null,
       "flex": null,
       "flex_flow": null,
       "grid_area": null,
       "grid_auto_columns": null,
       "grid_auto_flow": null,
       "grid_auto_rows": null,
       "grid_column": null,
       "grid_gap": null,
       "grid_row": null,
       "grid_template_areas": null,
       "grid_template_columns": null,
       "grid_template_rows": null,
       "height": null,
       "justify_content": null,
       "justify_items": null,
       "left": null,
       "margin": null,
       "max_height": null,
       "max_width": null,
       "min_height": null,
       "min_width": null,
       "object_fit": null,
       "object_position": null,
       "order": null,
       "overflow": null,
       "overflow_x": null,
       "overflow_y": null,
       "padding": null,
       "right": null,
       "top": null,
       "visibility": null,
       "width": null
      }
     },
     "33a2085ff0b5465b9b633223d7cbff9a": {
      "model_module": "@jupyter-widgets/base",
      "model_module_version": "1.2.0",
      "model_name": "LayoutModel",
      "state": {
       "_model_module": "@jupyter-widgets/base",
       "_model_module_version": "1.2.0",
       "_model_name": "LayoutModel",
       "_view_count": null,
       "_view_module": "@jupyter-widgets/base",
       "_view_module_version": "1.2.0",
       "_view_name": "LayoutView",
       "align_content": null,
       "align_items": null,
       "align_self": null,
       "border": null,
       "bottom": null,
       "display": null,
       "flex": null,
       "flex_flow": null,
       "grid_area": null,
       "grid_auto_columns": null,
       "grid_auto_flow": null,
       "grid_auto_rows": null,
       "grid_column": null,
       "grid_gap": null,
       "grid_row": null,
       "grid_template_areas": null,
       "grid_template_columns": null,
       "grid_template_rows": null,
       "height": null,
       "justify_content": null,
       "justify_items": null,
       "left": null,
       "margin": null,
       "max_height": null,
       "max_width": null,
       "min_height": null,
       "min_width": null,
       "object_fit": null,
       "object_position": null,
       "order": null,
       "overflow": null,
       "overflow_x": null,
       "overflow_y": null,
       "padding": null,
       "right": null,
       "top": null,
       "visibility": null,
       "width": null
      }
     },
     "349e3bfec6f1480eaf43dbaa6a5ff4d3": {
      "model_module": "@jupyter-widgets/base",
      "model_module_version": "1.2.0",
      "model_name": "LayoutModel",
      "state": {
       "_model_module": "@jupyter-widgets/base",
       "_model_module_version": "1.2.0",
       "_model_name": "LayoutModel",
       "_view_count": null,
       "_view_module": "@jupyter-widgets/base",
       "_view_module_version": "1.2.0",
       "_view_name": "LayoutView",
       "align_content": null,
       "align_items": null,
       "align_self": null,
       "border": null,
       "bottom": null,
       "display": null,
       "flex": null,
       "flex_flow": null,
       "grid_area": null,
       "grid_auto_columns": null,
       "grid_auto_flow": null,
       "grid_auto_rows": null,
       "grid_column": null,
       "grid_gap": null,
       "grid_row": null,
       "grid_template_areas": null,
       "grid_template_columns": null,
       "grid_template_rows": null,
       "height": null,
       "justify_content": null,
       "justify_items": null,
       "left": null,
       "margin": null,
       "max_height": null,
       "max_width": null,
       "min_height": null,
       "min_width": null,
       "object_fit": null,
       "object_position": null,
       "order": null,
       "overflow": null,
       "overflow_x": null,
       "overflow_y": null,
       "padding": null,
       "right": null,
       "top": null,
       "visibility": null,
       "width": null
      }
     },
     "37110d39922444ec9b3675056ee15da8": {
      "model_module": "@jupyter-widgets/controls",
      "model_module_version": "1.5.0",
      "model_name": "DescriptionStyleModel",
      "state": {
       "_model_module": "@jupyter-widgets/controls",
       "_model_module_version": "1.5.0",
       "_model_name": "DescriptionStyleModel",
       "_view_count": null,
       "_view_module": "@jupyter-widgets/base",
       "_view_module_version": "1.2.0",
       "_view_name": "StyleView",
       "description_width": ""
      }
     },
     "3736edecea96414d92d13d1ee2808b92": {
      "model_module": "@jupyter-widgets/base",
      "model_module_version": "1.2.0",
      "model_name": "LayoutModel",
      "state": {
       "_model_module": "@jupyter-widgets/base",
       "_model_module_version": "1.2.0",
       "_model_name": "LayoutModel",
       "_view_count": null,
       "_view_module": "@jupyter-widgets/base",
       "_view_module_version": "1.2.0",
       "_view_name": "LayoutView",
       "align_content": null,
       "align_items": null,
       "align_self": null,
       "border": null,
       "bottom": null,
       "display": null,
       "flex": null,
       "flex_flow": null,
       "grid_area": null,
       "grid_auto_columns": null,
       "grid_auto_flow": null,
       "grid_auto_rows": null,
       "grid_column": null,
       "grid_gap": null,
       "grid_row": null,
       "grid_template_areas": null,
       "grid_template_columns": null,
       "grid_template_rows": null,
       "height": null,
       "justify_content": null,
       "justify_items": null,
       "left": null,
       "margin": null,
       "max_height": null,
       "max_width": null,
       "min_height": null,
       "min_width": null,
       "object_fit": null,
       "object_position": null,
       "order": null,
       "overflow": null,
       "overflow_x": null,
       "overflow_y": null,
       "padding": null,
       "right": null,
       "top": null,
       "visibility": null,
       "width": null
      }
     },
     "381724eab101495eb979d8c6218855b7": {
      "model_module": "@jupyter-widgets/controls",
      "model_module_version": "1.5.0",
      "model_name": "HTMLModel",
      "state": {
       "_dom_classes": [],
       "_model_module": "@jupyter-widgets/controls",
       "_model_module_version": "1.5.0",
       "_model_name": "HTMLModel",
       "_view_count": null,
       "_view_module": "@jupyter-widgets/controls",
       "_view_module_version": "1.5.0",
       "_view_name": "HTMLView",
       "description": "",
       "description_tooltip": null,
       "layout": "IPY_MODEL_b16492e92d1f45b69559d3fa6078dd69",
       "placeholder": "​",
       "style": "IPY_MODEL_ff0af759635b4e89bfa52dc734b8b196",
       "value": "0_Transformer/sentence_bert_config.json: 100%"
      }
     },
     "39b529281bd549cb817038a53ecf5792": {
      "model_module": "@jupyter-widgets/controls",
      "model_module_version": "1.5.0",
      "model_name": "HTMLModel",
      "state": {
       "_dom_classes": [],
       "_model_module": "@jupyter-widgets/controls",
       "_model_module_version": "1.5.0",
       "_model_name": "HTMLModel",
       "_view_count": null,
       "_view_module": "@jupyter-widgets/controls",
       "_view_module_version": "1.5.0",
       "_view_name": "HTMLView",
       "description": "",
       "description_tooltip": null,
       "layout": "IPY_MODEL_0fb7bc3c6cf94bdd82d214a85874d084",
       "placeholder": "​",
       "style": "IPY_MODEL_5ce45d048f064643b952aebeed6e3ac2",
       "value": " 1.10k/1.10k [00:00&lt;00:00, 90.1kB/s]"
      }
     },
     "3abcff3016b6464ba6bdc0e41ed064fa": {
      "model_module": "@jupyter-widgets/base",
      "model_module_version": "1.2.0",
      "model_name": "LayoutModel",
      "state": {
       "_model_module": "@jupyter-widgets/base",
       "_model_module_version": "1.2.0",
       "_model_name": "LayoutModel",
       "_view_count": null,
       "_view_module": "@jupyter-widgets/base",
       "_view_module_version": "1.2.0",
       "_view_name": "LayoutView",
       "align_content": null,
       "align_items": null,
       "align_self": null,
       "border": null,
       "bottom": null,
       "display": null,
       "flex": null,
       "flex_flow": null,
       "grid_area": null,
       "grid_auto_columns": null,
       "grid_auto_flow": null,
       "grid_auto_rows": null,
       "grid_column": null,
       "grid_gap": null,
       "grid_row": null,
       "grid_template_areas": null,
       "grid_template_columns": null,
       "grid_template_rows": null,
       "height": null,
       "justify_content": null,
       "justify_items": null,
       "left": null,
       "margin": null,
       "max_height": null,
       "max_width": null,
       "min_height": null,
       "min_width": null,
       "object_fit": null,
       "object_position": null,
       "order": null,
       "overflow": null,
       "overflow_x": null,
       "overflow_y": null,
       "padding": null,
       "right": null,
       "top": null,
       "visibility": null,
       "width": null
      }
     },
     "3ba76c1799ba45e8855332dc7f876f17": {
      "model_module": "@jupyter-widgets/base",
      "model_module_version": "1.2.0",
      "model_name": "LayoutModel",
      "state": {
       "_model_module": "@jupyter-widgets/base",
       "_model_module_version": "1.2.0",
       "_model_name": "LayoutModel",
       "_view_count": null,
       "_view_module": "@jupyter-widgets/base",
       "_view_module_version": "1.2.0",
       "_view_name": "LayoutView",
       "align_content": null,
       "align_items": null,
       "align_self": null,
       "border": null,
       "bottom": null,
       "display": null,
       "flex": null,
       "flex_flow": null,
       "grid_area": null,
       "grid_auto_columns": null,
       "grid_auto_flow": null,
       "grid_auto_rows": null,
       "grid_column": null,
       "grid_gap": null,
       "grid_row": null,
       "grid_template_areas": null,
       "grid_template_columns": null,
       "grid_template_rows": null,
       "height": null,
       "justify_content": null,
       "justify_items": null,
       "left": null,
       "margin": null,
       "max_height": null,
       "max_width": null,
       "min_height": null,
       "min_width": null,
       "object_fit": null,
       "object_position": null,
       "order": null,
       "overflow": null,
       "overflow_x": null,
       "overflow_y": null,
       "padding": null,
       "right": null,
       "top": null,
       "visibility": null,
       "width": null
      }
     },
     "3ec8400314ba45fbb54506dbae06f509": {
      "model_module": "@jupyter-widgets/controls",
      "model_module_version": "1.5.0",
      "model_name": "DescriptionStyleModel",
      "state": {
       "_model_module": "@jupyter-widgets/controls",
       "_model_module_version": "1.5.0",
       "_model_name": "DescriptionStyleModel",
       "_view_count": null,
       "_view_module": "@jupyter-widgets/base",
       "_view_module_version": "1.2.0",
       "_view_name": "StyleView",
       "description_width": ""
      }
     },
     "3f4a5ea09d6442e099ea5997a2a8e386": {
      "model_module": "@jupyter-widgets/controls",
      "model_module_version": "1.5.0",
      "model_name": "HBoxModel",
      "state": {
       "_dom_classes": [],
       "_model_module": "@jupyter-widgets/controls",
       "_model_module_version": "1.5.0",
       "_model_name": "HBoxModel",
       "_view_count": null,
       "_view_module": "@jupyter-widgets/controls",
       "_view_module_version": "1.5.0",
       "_view_name": "HBoxView",
       "box_style": "",
       "children": [
        "IPY_MODEL_c60ed61aaad145909609ef09fc858460",
        "IPY_MODEL_dc36dd65842c46bea1237c2632efa07d",
        "IPY_MODEL_66b372281ecd4f26ad0c177034391636"
       ],
       "layout": "IPY_MODEL_f1dfdad681d947f3963fdfcea2fc6da6"
      }
     },
     "410fce471e5a4a99af1a361dcb46889e": {
      "model_module": "@jupyter-widgets/controls",
      "model_module_version": "1.5.0",
      "model_name": "FloatProgressModel",
      "state": {
       "_dom_classes": [],
       "_model_module": "@jupyter-widgets/controls",
       "_model_module_version": "1.5.0",
       "_model_name": "FloatProgressModel",
       "_view_count": null,
       "_view_module": "@jupyter-widgets/controls",
       "_view_module_version": "1.5.0",
       "_view_name": "ProgressView",
       "bar_style": "success",
       "description": "",
       "description_tooltip": null,
       "layout": "IPY_MODEL_ddd2411ab76f4299bbae59264418f392",
       "max": 497836589.0,
       "min": 0.0,
       "orientation": "horizontal",
       "style": "IPY_MODEL_27263e8acbd34e11918f3a3f5d18f4ec",
       "value": 497836589.0
      }
     },
     "422fed2b88bc4ec4a343958c3bdc92f1": {
      "model_module": "@jupyter-widgets/base",
      "model_module_version": "1.2.0",
      "model_name": "LayoutModel",
      "state": {
       "_model_module": "@jupyter-widgets/base",
       "_model_module_version": "1.2.0",
       "_model_name": "LayoutModel",
       "_view_count": null,
       "_view_module": "@jupyter-widgets/base",
       "_view_module_version": "1.2.0",
       "_view_name": "LayoutView",
       "align_content": null,
       "align_items": null,
       "align_self": null,
       "border": null,
       "bottom": null,
       "display": null,
       "flex": null,
       "flex_flow": null,
       "grid_area": null,
       "grid_auto_columns": null,
       "grid_auto_flow": null,
       "grid_auto_rows": null,
       "grid_column": null,
       "grid_gap": null,
       "grid_row": null,
       "grid_template_areas": null,
       "grid_template_columns": null,
       "grid_template_rows": null,
       "height": null,
       "justify_content": null,
       "justify_items": null,
       "left": null,
       "margin": null,
       "max_height": null,
       "max_width": null,
       "min_height": null,
       "min_width": null,
       "object_fit": null,
       "object_position": null,
       "order": null,
       "overflow": null,
       "overflow_x": null,
       "overflow_y": null,
       "padding": null,
       "right": null,
       "top": null,
       "visibility": null,
       "width": null
      }
     },
     "4349ddd1f1dc4fc587e7299717a8669f": {
      "model_module": "@jupyter-widgets/controls",
      "model_module_version": "1.5.0",
      "model_name": "DescriptionStyleModel",
      "state": {
       "_model_module": "@jupyter-widgets/controls",
       "_model_module_version": "1.5.0",
       "_model_name": "DescriptionStyleModel",
       "_view_count": null,
       "_view_module": "@jupyter-widgets/base",
       "_view_module_version": "1.2.0",
       "_view_name": "StyleView",
       "description_width": ""
      }
     },
     "48266830b0fb4c23a678af74390b7d19": {
      "model_module": "@jupyter-widgets/controls",
      "model_module_version": "1.5.0",
      "model_name": "DescriptionStyleModel",
      "state": {
       "_model_module": "@jupyter-widgets/controls",
       "_model_module_version": "1.5.0",
       "_model_name": "DescriptionStyleModel",
       "_view_count": null,
       "_view_module": "@jupyter-widgets/base",
       "_view_module_version": "1.2.0",
       "_view_name": "StyleView",
       "description_width": ""
      }
     },
     "5126761ef07e42d39d17ec8dc0085268": {
      "model_module": "@jupyter-widgets/controls",
      "model_module_version": "1.5.0",
      "model_name": "HTMLModel",
      "state": {
       "_dom_classes": [],
       "_model_module": "@jupyter-widgets/controls",
       "_model_module_version": "1.5.0",
       "_model_name": "HTMLModel",
       "_view_count": null,
       "_view_module": "@jupyter-widgets/controls",
       "_view_module_version": "1.5.0",
       "_view_name": "HTMLView",
       "description": "",
       "description_tooltip": null,
       "layout": "IPY_MODEL_89b4572cfedc4c23bd74e741e7fcca45",
       "placeholder": "​",
       "style": "IPY_MODEL_9d549402722141f3a0a681a0ab25ee4f",
       "value": " 354/354 [00:00&lt;00:00, 30.1kB/s]"
      }
     },
     "52be35b08fe44b7bae3a55710dda8752": {
      "model_module": "@jupyter-widgets/base",
      "model_module_version": "1.2.0",
      "model_name": "LayoutModel",
      "state": {
       "_model_module": "@jupyter-widgets/base",
       "_model_module_version": "1.2.0",
       "_model_name": "LayoutModel",
       "_view_count": null,
       "_view_module": "@jupyter-widgets/base",
       "_view_module_version": "1.2.0",
       "_view_name": "LayoutView",
       "align_content": null,
       "align_items": null,
       "align_self": null,
       "border": null,
       "bottom": null,
       "display": null,
       "flex": null,
       "flex_flow": null,
       "grid_area": null,
       "grid_auto_columns": null,
       "grid_auto_flow": null,
       "grid_auto_rows": null,
       "grid_column": null,
       "grid_gap": null,
       "grid_row": null,
       "grid_template_areas": null,
       "grid_template_columns": null,
       "grid_template_rows": null,
       "height": null,
       "justify_content": null,
       "justify_items": null,
       "left": null,
       "margin": null,
       "max_height": null,
       "max_width": null,
       "min_height": null,
       "min_width": null,
       "object_fit": null,
       "object_position": null,
       "order": null,
       "overflow": null,
       "overflow_x": null,
       "overflow_y": null,
       "padding": null,
       "right": null,
       "top": null,
       "visibility": null,
       "width": null
      }
     },
     "5807239fe0d140fabb1b402033404267": {
      "model_module": "@jupyter-widgets/controls",
      "model_module_version": "1.5.0",
      "model_name": "DescriptionStyleModel",
      "state": {
       "_model_module": "@jupyter-widgets/controls",
       "_model_module_version": "1.5.0",
       "_model_name": "DescriptionStyleModel",
       "_view_count": null,
       "_view_module": "@jupyter-widgets/base",
       "_view_module_version": "1.2.0",
       "_view_name": "StyleView",
       "description_width": ""
      }
     },
     "581aca7a20964441bfdab283ab7967af": {
      "model_module": "@jupyter-widgets/base",
      "model_module_version": "1.2.0",
      "model_name": "LayoutModel",
      "state": {
       "_model_module": "@jupyter-widgets/base",
       "_model_module_version": "1.2.0",
       "_model_name": "LayoutModel",
       "_view_count": null,
       "_view_module": "@jupyter-widgets/base",
       "_view_module_version": "1.2.0",
       "_view_name": "LayoutView",
       "align_content": null,
       "align_items": null,
       "align_self": null,
       "border": null,
       "bottom": null,
       "display": null,
       "flex": null,
       "flex_flow": null,
       "grid_area": null,
       "grid_auto_columns": null,
       "grid_auto_flow": null,
       "grid_auto_rows": null,
       "grid_column": null,
       "grid_gap": null,
       "grid_row": null,
       "grid_template_areas": null,
       "grid_template_columns": null,
       "grid_template_rows": null,
       "height": null,
       "justify_content": null,
       "justify_items": null,
       "left": null,
       "margin": null,
       "max_height": null,
       "max_width": null,
       "min_height": null,
       "min_width": null,
       "object_fit": null,
       "object_position": null,
       "order": null,
       "overflow": null,
       "overflow_x": null,
       "overflow_y": null,
       "padding": null,
       "right": null,
       "top": null,
       "visibility": null,
       "width": null
      }
     },
     "5ce45d048f064643b952aebeed6e3ac2": {
      "model_module": "@jupyter-widgets/controls",
      "model_module_version": "1.5.0",
      "model_name": "DescriptionStyleModel",
      "state": {
       "_model_module": "@jupyter-widgets/controls",
       "_model_module_version": "1.5.0",
       "_model_name": "DescriptionStyleModel",
       "_view_count": null,
       "_view_module": "@jupyter-widgets/base",
       "_view_module_version": "1.2.0",
       "_view_name": "StyleView",
       "description_width": ""
      }
     },
     "5fa89d5c6d784b3ea32da899aef1b0ec": {
      "model_module": "@jupyter-widgets/controls",
      "model_module_version": "1.5.0",
      "model_name": "HTMLModel",
      "state": {
       "_dom_classes": [],
       "_model_module": "@jupyter-widgets/controls",
       "_model_module_version": "1.5.0",
       "_model_name": "HTMLModel",
       "_view_count": null,
       "_view_module": "@jupyter-widgets/controls",
       "_view_module_version": "1.5.0",
       "_view_name": "HTMLView",
       "description": "",
       "description_tooltip": null,
       "layout": "IPY_MODEL_3ba76c1799ba45e8855332dc7f876f17",
       "placeholder": "​",
       "style": "IPY_MODEL_bdd22f508c9447a1bb98e9bd21493bf9",
       "value": " 270/270 [00:00&lt;00:00, 22.8kB/s]"
      }
     },
     "5fd0a952a7004ae48e1cf6c8227a3b8a": {
      "model_module": "@jupyter-widgets/controls",
      "model_module_version": "1.5.0",
      "model_name": "ProgressStyleModel",
      "state": {
       "_model_module": "@jupyter-widgets/controls",
       "_model_module_version": "1.5.0",
       "_model_name": "ProgressStyleModel",
       "_view_count": null,
       "_view_module": "@jupyter-widgets/base",
       "_view_module_version": "1.2.0",
       "_view_name": "StyleView",
       "bar_color": null,
       "description_width": ""
      }
     },
     "6004ddc50e964736a23346b29dab00e8": {
      "model_module": "@jupyter-widgets/base",
      "model_module_version": "1.2.0",
      "model_name": "LayoutModel",
      "state": {
       "_model_module": "@jupyter-widgets/base",
       "_model_module_version": "1.2.0",
       "_model_name": "LayoutModel",
       "_view_count": null,
       "_view_module": "@jupyter-widgets/base",
       "_view_module_version": "1.2.0",
       "_view_name": "LayoutView",
       "align_content": null,
       "align_items": null,
       "align_self": null,
       "border": null,
       "bottom": null,
       "display": null,
       "flex": null,
       "flex_flow": null,
       "grid_area": null,
       "grid_auto_columns": null,
       "grid_auto_flow": null,
       "grid_auto_rows": null,
       "grid_column": null,
       "grid_gap": null,
       "grid_row": null,
       "grid_template_areas": null,
       "grid_template_columns": null,
       "grid_template_rows": null,
       "height": null,
       "justify_content": null,
       "justify_items": null,
       "left": null,
       "margin": null,
       "max_height": null,
       "max_width": null,
       "min_height": null,
       "min_width": null,
       "object_fit": null,
       "object_position": null,
       "order": null,
       "overflow": null,
       "overflow_x": null,
       "overflow_y": null,
       "padding": null,
       "right": null,
       "top": null,
       "visibility": null,
       "width": null
      }
     },
     "638a98cf69e0477b8c2f4c55b9ffe6f7": {
      "model_module": "@jupyter-widgets/controls",
      "model_module_version": "1.5.0",
      "model_name": "ProgressStyleModel",
      "state": {
       "_model_module": "@jupyter-widgets/controls",
       "_model_module_version": "1.5.0",
       "_model_name": "ProgressStyleModel",
       "_view_count": null,
       "_view_module": "@jupyter-widgets/base",
       "_view_module_version": "1.2.0",
       "_view_name": "StyleView",
       "bar_color": null,
       "description_width": ""
      }
     },
     "652bd22f50cb4aa4a95624bf9f1cedab": {
      "model_module": "@jupyter-widgets/controls",
      "model_module_version": "1.5.0",
      "model_name": "HBoxModel",
      "state": {
       "_dom_classes": [],
       "_model_module": "@jupyter-widgets/controls",
       "_model_module_version": "1.5.0",
       "_model_name": "HBoxModel",
       "_view_count": null,
       "_view_module": "@jupyter-widgets/controls",
       "_view_module_version": "1.5.0",
       "_view_name": "HBoxView",
       "box_style": "",
       "children": [
        "IPY_MODEL_e413bdfcedc34da7a58b282be39a117b",
        "IPY_MODEL_260f405de2ae4cb597e150680a83ef65",
        "IPY_MODEL_10246ce538d346499af28078fa40208e"
       ],
       "layout": "IPY_MODEL_f44652ebda7549fb83121ed5ff649b5c"
      }
     },
     "660b136a54f04923932162bfb6a0305d": {
      "model_module": "@jupyter-widgets/base",
      "model_module_version": "1.2.0",
      "model_name": "LayoutModel",
      "state": {
       "_model_module": "@jupyter-widgets/base",
       "_model_module_version": "1.2.0",
       "_model_name": "LayoutModel",
       "_view_count": null,
       "_view_module": "@jupyter-widgets/base",
       "_view_module_version": "1.2.0",
       "_view_name": "LayoutView",
       "align_content": null,
       "align_items": null,
       "align_self": null,
       "border": null,
       "bottom": null,
       "display": null,
       "flex": null,
       "flex_flow": null,
       "grid_area": null,
       "grid_auto_columns": null,
       "grid_auto_flow": null,
       "grid_auto_rows": null,
       "grid_column": null,
       "grid_gap": null,
       "grid_row": null,
       "grid_template_areas": null,
       "grid_template_columns": null,
       "grid_template_rows": null,
       "height": null,
       "justify_content": null,
       "justify_items": null,
       "left": null,
       "margin": null,
       "max_height": null,
       "max_width": null,
       "min_height": null,
       "min_width": null,
       "object_fit": null,
       "object_position": null,
       "order": null,
       "overflow": null,
       "overflow_x": null,
       "overflow_y": null,
       "padding": null,
       "right": null,
       "top": null,
       "visibility": null,
       "width": null
      }
     },
     "660d0bf0b78d45e9a21d79eab8add90b": {
      "model_module": "@jupyter-widgets/controls",
      "model_module_version": "1.5.0",
      "model_name": "ProgressStyleModel",
      "state": {
       "_model_module": "@jupyter-widgets/controls",
       "_model_module_version": "1.5.0",
       "_model_name": "ProgressStyleModel",
       "_view_count": null,
       "_view_module": "@jupyter-widgets/base",
       "_view_module_version": "1.2.0",
       "_view_name": "StyleView",
       "bar_color": null,
       "description_width": ""
      }
     },
     "66309f229bc4450da1438f8af46a830e": {
      "model_module": "@jupyter-widgets/base",
      "model_module_version": "1.2.0",
      "model_name": "LayoutModel",
      "state": {
       "_model_module": "@jupyter-widgets/base",
       "_model_module_version": "1.2.0",
       "_model_name": "LayoutModel",
       "_view_count": null,
       "_view_module": "@jupyter-widgets/base",
       "_view_module_version": "1.2.0",
       "_view_name": "LayoutView",
       "align_content": null,
       "align_items": null,
       "align_self": null,
       "border": null,
       "bottom": null,
       "display": null,
       "flex": null,
       "flex_flow": null,
       "grid_area": null,
       "grid_auto_columns": null,
       "grid_auto_flow": null,
       "grid_auto_rows": null,
       "grid_column": null,
       "grid_gap": null,
       "grid_row": null,
       "grid_template_areas": null,
       "grid_template_columns": null,
       "grid_template_rows": null,
       "height": null,
       "justify_content": null,
       "justify_items": null,
       "left": null,
       "margin": null,
       "max_height": null,
       "max_width": null,
       "min_height": null,
       "min_width": null,
       "object_fit": null,
       "object_position": null,
       "order": null,
       "overflow": null,
       "overflow_x": null,
       "overflow_y": null,
       "padding": null,
       "right": null,
       "top": null,
       "visibility": null,
       "width": null
      }
     },
     "66b372281ecd4f26ad0c177034391636": {
      "model_module": "@jupyter-widgets/controls",
      "model_module_version": "1.5.0",
      "model_name": "HTMLModel",
      "state": {
       "_dom_classes": [],
       "_model_module": "@jupyter-widgets/controls",
       "_model_module_version": "1.5.0",
       "_model_name": "HTMLModel",
       "_view_count": null,
       "_view_module": "@jupyter-widgets/controls",
       "_view_module_version": "1.5.0",
       "_view_name": "HTMLView",
       "description": "",
       "description_tooltip": null,
       "layout": "IPY_MODEL_adee38b0ce8f4e03ac4a6ce222a1459a",
       "placeholder": "​",
       "style": "IPY_MODEL_8e90daa97fde435cae6183b5098ab0f6",
       "value": " 114/114 [00:00&lt;00:00, 10.4kB/s]"
      }
     },
     "6870c94914464fee958ce174236b8d41": {
      "model_module": "@jupyter-widgets/controls",
      "model_module_version": "1.5.0",
      "model_name": "ProgressStyleModel",
      "state": {
       "_model_module": "@jupyter-widgets/controls",
       "_model_module_version": "1.5.0",
       "_model_name": "ProgressStyleModel",
       "_view_count": null,
       "_view_module": "@jupyter-widgets/base",
       "_view_module_version": "1.2.0",
       "_view_name": "StyleView",
       "bar_color": null,
       "description_width": ""
      }
     },
     "6885629e1d50405d866d1e3910c8562d": {
      "model_module": "@jupyter-widgets/controls",
      "model_module_version": "1.5.0",
      "model_name": "DescriptionStyleModel",
      "state": {
       "_model_module": "@jupyter-widgets/controls",
       "_model_module_version": "1.5.0",
       "_model_name": "DescriptionStyleModel",
       "_view_count": null,
       "_view_module": "@jupyter-widgets/base",
       "_view_module_version": "1.2.0",
       "_view_name": "StyleView",
       "description_width": ""
      }
     },
     "6c91e36b497d4aeeb13333f3bfdd3fcf": {
      "model_module": "@jupyter-widgets/base",
      "model_module_version": "1.2.0",
      "model_name": "LayoutModel",
      "state": {
       "_model_module": "@jupyter-widgets/base",
       "_model_module_version": "1.2.0",
       "_model_name": "LayoutModel",
       "_view_count": null,
       "_view_module": "@jupyter-widgets/base",
       "_view_module_version": "1.2.0",
       "_view_name": "LayoutView",
       "align_content": null,
       "align_items": null,
       "align_self": null,
       "border": null,
       "bottom": null,
       "display": null,
       "flex": null,
       "flex_flow": null,
       "grid_area": null,
       "grid_auto_columns": null,
       "grid_auto_flow": null,
       "grid_auto_rows": null,
       "grid_column": null,
       "grid_gap": null,
       "grid_row": null,
       "grid_template_areas": null,
       "grid_template_columns": null,
       "grid_template_rows": null,
       "height": null,
       "justify_content": null,
       "justify_items": null,
       "left": null,
       "margin": null,
       "max_height": null,
       "max_width": null,
       "min_height": null,
       "min_width": null,
       "object_fit": null,
       "object_position": null,
       "order": null,
       "overflow": null,
       "overflow_x": null,
       "overflow_y": null,
       "padding": null,
       "right": null,
       "top": null,
       "visibility": null,
       "width": null
      }
     },
     "6ff063f3264d48f7ae96dee318e7d864": {
      "model_module": "@jupyter-widgets/controls",
      "model_module_version": "1.5.0",
      "model_name": "DescriptionStyleModel",
      "state": {
       "_model_module": "@jupyter-widgets/controls",
       "_model_module_version": "1.5.0",
       "_model_name": "DescriptionStyleModel",
       "_view_count": null,
       "_view_module": "@jupyter-widgets/base",
       "_view_module_version": "1.2.0",
       "_view_name": "StyleView",
       "description_width": ""
      }
     },
     "70d26fa9843a401fbdf76dfd2523e72a": {
      "model_module": "@jupyter-widgets/controls",
      "model_module_version": "1.5.0",
      "model_name": "HTMLModel",
      "state": {
       "_dom_classes": [],
       "_model_module": "@jupyter-widgets/controls",
       "_model_module_version": "1.5.0",
       "_model_name": "HTMLModel",
       "_view_count": null,
       "_view_module": "@jupyter-widgets/controls",
       "_view_module_version": "1.5.0",
       "_view_name": "HTMLView",
       "description": "",
       "description_tooltip": null,
       "layout": "IPY_MODEL_2eff0c7939cc4d998de8d8d6798993cf",
       "placeholder": "​",
       "style": "IPY_MODEL_14a1a26b2ec34ca1ac642f40412a01dc",
       "value": "1_Pooling/config.json: 100%"
      }
     },
     "71bb8a65b56241548927f85fd7617d0c": {
      "model_module": "@jupyter-widgets/base",
      "model_module_version": "1.2.0",
      "model_name": "LayoutModel",
      "state": {
       "_model_module": "@jupyter-widgets/base",
       "_model_module_version": "1.2.0",
       "_model_name": "LayoutModel",
       "_view_count": null,
       "_view_module": "@jupyter-widgets/base",
       "_view_module_version": "1.2.0",
       "_view_name": "LayoutView",
       "align_content": null,
       "align_items": null,
       "align_self": null,
       "border": null,
       "bottom": null,
       "display": null,
       "flex": null,
       "flex_flow": null,
       "grid_area": null,
       "grid_auto_columns": null,
       "grid_auto_flow": null,
       "grid_auto_rows": null,
       "grid_column": null,
       "grid_gap": null,
       "grid_row": null,
       "grid_template_areas": null,
       "grid_template_columns": null,
       "grid_template_rows": null,
       "height": null,
       "justify_content": null,
       "justify_items": null,
       "left": null,
       "margin": null,
       "max_height": null,
       "max_width": null,
       "min_height": null,
       "min_width": null,
       "object_fit": null,
       "object_position": null,
       "order": null,
       "overflow": null,
       "overflow_x": null,
       "overflow_y": null,
       "padding": null,
       "right": null,
       "top": null,
       "visibility": null,
       "width": null
      }
     },
     "73fa87327fa64df892ff31c69c576667": {
      "model_module": "@jupyter-widgets/base",
      "model_module_version": "1.2.0",
      "model_name": "LayoutModel",
      "state": {
       "_model_module": "@jupyter-widgets/base",
       "_model_module_version": "1.2.0",
       "_model_name": "LayoutModel",
       "_view_count": null,
       "_view_module": "@jupyter-widgets/base",
       "_view_module_version": "1.2.0",
       "_view_name": "LayoutView",
       "align_content": null,
       "align_items": null,
       "align_self": null,
       "border": null,
       "bottom": null,
       "display": null,
       "flex": null,
       "flex_flow": null,
       "grid_area": null,
       "grid_auto_columns": null,
       "grid_auto_flow": null,
       "grid_auto_rows": null,
       "grid_column": null,
       "grid_gap": null,
       "grid_row": null,
       "grid_template_areas": null,
       "grid_template_columns": null,
       "grid_template_rows": null,
       "height": null,
       "justify_content": null,
       "justify_items": null,
       "left": null,
       "margin": null,
       "max_height": null,
       "max_width": null,
       "min_height": null,
       "min_width": null,
       "object_fit": null,
       "object_position": null,
       "order": null,
       "overflow": null,
       "overflow_x": null,
       "overflow_y": null,
       "padding": null,
       "right": null,
       "top": null,
       "visibility": null,
       "width": null
      }
     },
     "757e49a299c84b628c8bc84bb9c17d01": {
      "model_module": "@jupyter-widgets/controls",
      "model_module_version": "1.5.0",
      "model_name": "FloatProgressModel",
      "state": {
       "_dom_classes": [],
       "_model_module": "@jupyter-widgets/controls",
       "_model_module_version": "1.5.0",
       "_model_name": "FloatProgressModel",
       "_view_count": null,
       "_view_module": "@jupyter-widgets/controls",
       "_view_module_version": "1.5.0",
       "_view_name": "ProgressView",
       "bar_style": "success",
       "description": "",
       "description_tooltip": null,
       "layout": "IPY_MODEL_2d536843ec8b44d7947d40057271f76c",
       "max": 2363583.0,
       "min": 0.0,
       "orientation": "horizontal",
       "style": "IPY_MODEL_fcfcaafee8c345539a7a5b721de0d8ad",
       "value": 2363583.0
      }
     },
     "7796a01295a5411193496ff6b7694ac0": {
      "model_module": "@jupyter-widgets/controls",
      "model_module_version": "1.5.0",
      "model_name": "HBoxModel",
      "state": {
       "_dom_classes": [],
       "_model_module": "@jupyter-widgets/controls",
       "_model_module_version": "1.5.0",
       "_model_name": "HBoxModel",
       "_view_count": null,
       "_view_module": "@jupyter-widgets/controls",
       "_view_module_version": "1.5.0",
       "_view_name": "HBoxView",
       "box_style": "",
       "children": [
        "IPY_MODEL_e4fbf81a3ec54f179580eb427a365ded",
        "IPY_MODEL_a08d8cd8c95e4658b0d3eff02e5e25b3",
        "IPY_MODEL_84b774044d9b4acb8a9e5a0f5b39bef4"
       ],
       "layout": "IPY_MODEL_581aca7a20964441bfdab283ab7967af"
      }
     },
     "7a47967ba6a344b0b6df23311674a3b8": {
      "model_module": "@jupyter-widgets/base",
      "model_module_version": "1.2.0",
      "model_name": "LayoutModel",
      "state": {
       "_model_module": "@jupyter-widgets/base",
       "_model_module_version": "1.2.0",
       "_model_name": "LayoutModel",
       "_view_count": null,
       "_view_module": "@jupyter-widgets/base",
       "_view_module_version": "1.2.0",
       "_view_name": "LayoutView",
       "align_content": null,
       "align_items": null,
       "align_self": null,
       "border": null,
       "bottom": null,
       "display": null,
       "flex": null,
       "flex_flow": null,
       "grid_area": null,
       "grid_auto_columns": null,
       "grid_auto_flow": null,
       "grid_auto_rows": null,
       "grid_column": null,
       "grid_gap": null,
       "grid_row": null,
       "grid_template_areas": null,
       "grid_template_columns": null,
       "grid_template_rows": null,
       "height": null,
       "justify_content": null,
       "justify_items": null,
       "left": null,
       "margin": null,
       "max_height": null,
       "max_width": null,
       "min_height": null,
       "min_width": null,
       "object_fit": null,
       "object_position": null,
       "order": null,
       "overflow": null,
       "overflow_x": null,
       "overflow_y": null,
       "padding": null,
       "right": null,
       "top": null,
       "visibility": null,
       "width": null
      }
     },
     "80b8eed82709413eb3511946e04ce871": {
      "model_module": "@jupyter-widgets/controls",
      "model_module_version": "1.5.0",
      "model_name": "DescriptionStyleModel",
      "state": {
       "_model_module": "@jupyter-widgets/controls",
       "_model_module_version": "1.5.0",
       "_model_name": "DescriptionStyleModel",
       "_view_count": null,
       "_view_module": "@jupyter-widgets/base",
       "_view_module_version": "1.2.0",
       "_view_name": "StyleView",
       "description_width": ""
      }
     },
     "84b774044d9b4acb8a9e5a0f5b39bef4": {
      "model_module": "@jupyter-widgets/controls",
      "model_module_version": "1.5.0",
      "model_name": "HTMLModel",
      "state": {
       "_dom_classes": [],
       "_model_module": "@jupyter-widgets/controls",
       "_model_module_version": "1.5.0",
       "_model_name": "HTMLModel",
       "_view_count": null,
       "_view_module": "@jupyter-widgets/controls",
       "_view_module_version": "1.5.0",
       "_view_name": "HTMLView",
       "description": "",
       "description_tooltip": null,
       "layout": "IPY_MODEL_ba1c31f3ed2a42cc891864e2d6daa652",
       "placeholder": "​",
       "style": "IPY_MODEL_48266830b0fb4c23a678af74390b7d19",
       "value": " 2.82k/2.82k [00:00&lt;00:00, 251kB/s]"
      }
     },
     "84f2ff8725f04400a99497a20558868c": {
      "model_module": "@jupyter-widgets/controls",
      "model_module_version": "1.5.0",
      "model_name": "FloatProgressModel",
      "state": {
       "_dom_classes": [],
       "_model_module": "@jupyter-widgets/controls",
       "_model_module_version": "1.5.0",
       "_model_name": "FloatProgressModel",
       "_view_count": null,
       "_view_module": "@jupyter-widgets/controls",
       "_view_module_version": "1.5.0",
       "_view_name": "ProgressView",
       "bar_style": "success",
       "description": "",
       "description_tooltip": null,
       "layout": "IPY_MODEL_d700df0906004bdbacbdfabfd08cd6c9",
       "max": 229167.0,
       "min": 0.0,
       "orientation": "horizontal",
       "style": "IPY_MODEL_638a98cf69e0477b8c2f4c55b9ffe6f7",
       "value": 229167.0
      }
     },
     "89b4572cfedc4c23bd74e741e7fcca45": {
      "model_module": "@jupyter-widgets/base",
      "model_module_version": "1.2.0",
      "model_name": "LayoutModel",
      "state": {
       "_model_module": "@jupyter-widgets/base",
       "_model_module_version": "1.2.0",
       "_model_name": "LayoutModel",
       "_view_count": null,
       "_view_module": "@jupyter-widgets/base",
       "_view_module_version": "1.2.0",
       "_view_name": "LayoutView",
       "align_content": null,
       "align_items": null,
       "align_self": null,
       "border": null,
       "bottom": null,
       "display": null,
       "flex": null,
       "flex_flow": null,
       "grid_area": null,
       "grid_auto_columns": null,
       "grid_auto_flow": null,
       "grid_auto_rows": null,
       "grid_column": null,
       "grid_gap": null,
       "grid_row": null,
       "grid_template_areas": null,
       "grid_template_columns": null,
       "grid_template_rows": null,
       "height": null,
       "justify_content": null,
       "justify_items": null,
       "left": null,
       "margin": null,
       "max_height": null,
       "max_width": null,
       "min_height": null,
       "min_width": null,
       "object_fit": null,
       "object_position": null,
       "order": null,
       "overflow": null,
       "overflow_x": null,
       "overflow_y": null,
       "padding": null,
       "right": null,
       "top": null,
       "visibility": null,
       "width": null
      }
     },
     "8c12d71e3250454eb2047a26cee526ad": {
      "model_module": "@jupyter-widgets/controls",
      "model_module_version": "1.5.0",
      "model_name": "HBoxModel",
      "state": {
       "_dom_classes": [],
       "_model_module": "@jupyter-widgets/controls",
       "_model_module_version": "1.5.0",
       "_model_name": "HBoxModel",
       "_view_count": null,
       "_view_module": "@jupyter-widgets/controls",
       "_view_module_version": "1.5.0",
       "_view_name": "HBoxView",
       "box_style": "",
       "children": [
        "IPY_MODEL_d100c0e4bf3845ab85dc0a8448566c29",
        "IPY_MODEL_410fce471e5a4a99af1a361dcb46889e",
        "IPY_MODEL_de8de83d227445a4a2d7bddf2f3b9718"
       ],
       "layout": "IPY_MODEL_13127224895b46279ea5ef253bd15b57"
      }
     },
     "8e90daa97fde435cae6183b5098ab0f6": {
      "model_module": "@jupyter-widgets/controls",
      "model_module_version": "1.5.0",
      "model_name": "DescriptionStyleModel",
      "state": {
       "_model_module": "@jupyter-widgets/controls",
       "_model_module_version": "1.5.0",
       "_model_name": "DescriptionStyleModel",
       "_view_count": null,
       "_view_module": "@jupyter-widgets/base",
       "_view_module_version": "1.2.0",
       "_view_name": "StyleView",
       "description_width": ""
      }
     },
     "8edf8272f85346b2809283943522832e": {
      "model_module": "@jupyter-widgets/base",
      "model_module_version": "1.2.0",
      "model_name": "LayoutModel",
      "state": {
       "_model_module": "@jupyter-widgets/base",
       "_model_module_version": "1.2.0",
       "_model_name": "LayoutModel",
       "_view_count": null,
       "_view_module": "@jupyter-widgets/base",
       "_view_module_version": "1.2.0",
       "_view_name": "LayoutView",
       "align_content": null,
       "align_items": null,
       "align_self": null,
       "border": null,
       "bottom": null,
       "display": null,
       "flex": null,
       "flex_flow": null,
       "grid_area": null,
       "grid_auto_columns": null,
       "grid_auto_flow": null,
       "grid_auto_rows": null,
       "grid_column": null,
       "grid_gap": null,
       "grid_row": null,
       "grid_template_areas": null,
       "grid_template_columns": null,
       "grid_template_rows": null,
       "height": null,
       "justify_content": null,
       "justify_items": null,
       "left": null,
       "margin": null,
       "max_height": null,
       "max_width": null,
       "min_height": null,
       "min_width": null,
       "object_fit": null,
       "object_position": null,
       "order": null,
       "overflow": null,
       "overflow_x": null,
       "overflow_y": null,
       "padding": null,
       "right": null,
       "top": null,
       "visibility": null,
       "width": null
      }
     },
     "91199f2ba6b140d3a50d7ba5a98a8229": {
      "model_module": "@jupyter-widgets/base",
      "model_module_version": "1.2.0",
      "model_name": "LayoutModel",
      "state": {
       "_model_module": "@jupyter-widgets/base",
       "_model_module_version": "1.2.0",
       "_model_name": "LayoutModel",
       "_view_count": null,
       "_view_module": "@jupyter-widgets/base",
       "_view_module_version": "1.2.0",
       "_view_name": "LayoutView",
       "align_content": null,
       "align_items": null,
       "align_self": null,
       "border": null,
       "bottom": null,
       "display": null,
       "flex": null,
       "flex_flow": null,
       "grid_area": null,
       "grid_auto_columns": null,
       "grid_auto_flow": null,
       "grid_auto_rows": null,
       "grid_column": null,
       "grid_gap": null,
       "grid_row": null,
       "grid_template_areas": null,
       "grid_template_columns": null,
       "grid_template_rows": null,
       "height": null,
       "justify_content": null,
       "justify_items": null,
       "left": null,
       "margin": null,
       "max_height": null,
       "max_width": null,
       "min_height": null,
       "min_width": null,
       "object_fit": null,
       "object_position": null,
       "order": null,
       "overflow": null,
       "overflow_x": null,
       "overflow_y": null,
       "padding": null,
       "right": null,
       "top": null,
       "visibility": null,
       "width": null
      }
     },
     "9319948651b54fd49af9c4ac63f4afec": {
      "model_module": "@jupyter-widgets/controls",
      "model_module_version": "1.5.0",
      "model_name": "HBoxModel",
      "state": {
       "_dom_classes": [],
       "_model_module": "@jupyter-widgets/controls",
       "_model_module_version": "1.5.0",
       "_model_name": "HBoxModel",
       "_view_count": null,
       "_view_module": "@jupyter-widgets/controls",
       "_view_module_version": "1.5.0",
       "_view_name": "HBoxView",
       "box_style": "",
       "children": [
        "IPY_MODEL_70d26fa9843a401fbdf76dfd2523e72a",
        "IPY_MODEL_9b51d642831b4a48a6c063188411ad80",
        "IPY_MODEL_5fa89d5c6d784b3ea32da899aef1b0ec"
       ],
       "layout": "IPY_MODEL_f1897aceb3334c1997c0babacfff534f"
      }
     },
     "97b1d3f3e60b46d1a56527a308080cc7": {
      "model_module": "@jupyter-widgets/base",
      "model_module_version": "1.2.0",
      "model_name": "LayoutModel",
      "state": {
       "_model_module": "@jupyter-widgets/base",
       "_model_module_version": "1.2.0",
       "_model_name": "LayoutModel",
       "_view_count": null,
       "_view_module": "@jupyter-widgets/base",
       "_view_module_version": "1.2.0",
       "_view_name": "LayoutView",
       "align_content": null,
       "align_items": null,
       "align_self": null,
       "border": null,
       "bottom": null,
       "display": null,
       "flex": null,
       "flex_flow": null,
       "grid_area": null,
       "grid_auto_columns": null,
       "grid_auto_flow": null,
       "grid_auto_rows": null,
       "grid_column": null,
       "grid_gap": null,
       "grid_row": null,
       "grid_template_areas": null,
       "grid_template_columns": null,
       "grid_template_rows": null,
       "height": null,
       "justify_content": null,
       "justify_items": null,
       "left": null,
       "margin": null,
       "max_height": null,
       "max_width": null,
       "min_height": null,
       "min_width": null,
       "object_fit": null,
       "object_position": null,
       "order": null,
       "overflow": null,
       "overflow_x": null,
       "overflow_y": null,
       "padding": null,
       "right": null,
       "top": null,
       "visibility": null,
       "width": null
      }
     },
     "9994dbc77a35408393f6f7bf8d27e807": {
      "model_module": "@jupyter-widgets/controls",
      "model_module_version": "1.5.0",
      "model_name": "DescriptionStyleModel",
      "state": {
       "_model_module": "@jupyter-widgets/controls",
       "_model_module_version": "1.5.0",
       "_model_name": "DescriptionStyleModel",
       "_view_count": null,
       "_view_module": "@jupyter-widgets/base",
       "_view_module_version": "1.2.0",
       "_view_name": "StyleView",
       "description_width": ""
      }
     },
     "9a0977a55c6c45509108a1877f2f9a77": {
      "model_module": "@jupyter-widgets/base",
      "model_module_version": "1.2.0",
      "model_name": "LayoutModel",
      "state": {
       "_model_module": "@jupyter-widgets/base",
       "_model_module_version": "1.2.0",
       "_model_name": "LayoutModel",
       "_view_count": null,
       "_view_module": "@jupyter-widgets/base",
       "_view_module_version": "1.2.0",
       "_view_name": "LayoutView",
       "align_content": null,
       "align_items": null,
       "align_self": null,
       "border": null,
       "bottom": null,
       "display": null,
       "flex": null,
       "flex_flow": null,
       "grid_area": null,
       "grid_auto_columns": null,
       "grid_auto_flow": null,
       "grid_auto_rows": null,
       "grid_column": null,
       "grid_gap": null,
       "grid_row": null,
       "grid_template_areas": null,
       "grid_template_columns": null,
       "grid_template_rows": null,
       "height": null,
       "justify_content": null,
       "justify_items": null,
       "left": null,
       "margin": null,
       "max_height": null,
       "max_width": null,
       "min_height": null,
       "min_width": null,
       "object_fit": null,
       "object_position": null,
       "order": null,
       "overflow": null,
       "overflow_x": null,
       "overflow_y": null,
       "padding": null,
       "right": null,
       "top": null,
       "visibility": null,
       "width": null
      }
     },
     "9b51d642831b4a48a6c063188411ad80": {
      "model_module": "@jupyter-widgets/controls",
      "model_module_version": "1.5.0",
      "model_name": "FloatProgressModel",
      "state": {
       "_dom_classes": [],
       "_model_module": "@jupyter-widgets/controls",
       "_model_module_version": "1.5.0",
       "_model_name": "FloatProgressModel",
       "_view_count": null,
       "_view_module": "@jupyter-widgets/controls",
       "_view_module_version": "1.5.0",
       "_view_name": "ProgressView",
       "bar_style": "success",
       "description": "",
       "description_tooltip": null,
       "layout": "IPY_MODEL_19e9f93bcbfc48ec825354a516b89cfb",
       "max": 270.0,
       "min": 0.0,
       "orientation": "horizontal",
       "style": "IPY_MODEL_107e5e491880439eb42033870fcfe807",
       "value": 270.0
      }
     },
     "9c61653dcc884399960969d3a2cb882b": {
      "model_module": "@jupyter-widgets/controls",
      "model_module_version": "1.5.0",
      "model_name": "DescriptionStyleModel",
      "state": {
       "_model_module": "@jupyter-widgets/controls",
       "_model_module_version": "1.5.0",
       "_model_name": "DescriptionStyleModel",
       "_view_count": null,
       "_view_module": "@jupyter-widgets/base",
       "_view_module_version": "1.2.0",
       "_view_name": "StyleView",
       "description_width": ""
      }
     },
     "9d1298ba591546a69a3777e2059d95ab": {
      "model_module": "@jupyter-widgets/controls",
      "model_module_version": "1.5.0",
      "model_name": "ProgressStyleModel",
      "state": {
       "_model_module": "@jupyter-widgets/controls",
       "_model_module_version": "1.5.0",
       "_model_name": "ProgressStyleModel",
       "_view_count": null,
       "_view_module": "@jupyter-widgets/base",
       "_view_module_version": "1.2.0",
       "_view_name": "StyleView",
       "bar_color": null,
       "description_width": ""
      }
     },
     "9d549402722141f3a0a681a0ab25ee4f": {
      "model_module": "@jupyter-widgets/controls",
      "model_module_version": "1.5.0",
      "model_name": "DescriptionStyleModel",
      "state": {
       "_model_module": "@jupyter-widgets/controls",
       "_model_module_version": "1.5.0",
       "_model_name": "DescriptionStyleModel",
       "_view_count": null,
       "_view_module": "@jupyter-widgets/base",
       "_view_module_version": "1.2.0",
       "_view_name": "StyleView",
       "description_width": ""
      }
     },
     "9dd2f19fc2ea4752af148fb3c8acf8b8": {
      "model_module": "@jupyter-widgets/controls",
      "model_module_version": "1.5.0",
      "model_name": "HTMLModel",
      "state": {
       "_dom_classes": [],
       "_model_module": "@jupyter-widgets/controls",
       "_model_module_version": "1.5.0",
       "_model_name": "HTMLModel",
       "_view_count": null,
       "_view_module": "@jupyter-widgets/controls",
       "_view_module_version": "1.5.0",
       "_view_name": "HTMLView",
       "description": "",
       "description_tooltip": null,
       "layout": "IPY_MODEL_52be35b08fe44b7bae3a55710dda8752",
       "placeholder": "​",
       "style": "IPY_MODEL_6ff063f3264d48f7ae96dee318e7d864",
       "value": " 1.48k/1.48k [00:00&lt;00:00, 119kB/s]"
      }
     },
     "a08d8cd8c95e4658b0d3eff02e5e25b3": {
      "model_module": "@jupyter-widgets/controls",
      "model_module_version": "1.5.0",
      "model_name": "FloatProgressModel",
      "state": {
       "_dom_classes": [],
       "_model_module": "@jupyter-widgets/controls",
       "_model_module_version": "1.5.0",
       "_model_name": "FloatProgressModel",
       "_view_count": null,
       "_view_module": "@jupyter-widgets/controls",
       "_view_module_version": "1.5.0",
       "_view_name": "ProgressView",
       "bar_style": "success",
       "description": "",
       "description_tooltip": null,
       "layout": "IPY_MODEL_73fa87327fa64df892ff31c69c576667",
       "max": 2816.0,
       "min": 0.0,
       "orientation": "horizontal",
       "style": "IPY_MODEL_2b5eea366c6c4e02ac2d6e29e7e08d52",
       "value": 2816.0
      }
     },
     "a1b17f3960a1489abb043a10fde7b280": {
      "model_module": "@jupyter-widgets/base",
      "model_module_version": "1.2.0",
      "model_name": "LayoutModel",
      "state": {
       "_model_module": "@jupyter-widgets/base",
       "_model_module_version": "1.2.0",
       "_model_name": "LayoutModel",
       "_view_count": null,
       "_view_module": "@jupyter-widgets/base",
       "_view_module_version": "1.2.0",
       "_view_name": "LayoutView",
       "align_content": null,
       "align_items": null,
       "align_self": null,
       "border": null,
       "bottom": null,
       "display": null,
       "flex": null,
       "flex_flow": null,
       "grid_area": null,
       "grid_auto_columns": null,
       "grid_auto_flow": null,
       "grid_auto_rows": null,
       "grid_column": null,
       "grid_gap": null,
       "grid_row": null,
       "grid_template_areas": null,
       "grid_template_columns": null,
       "grid_template_rows": null,
       "height": null,
       "justify_content": null,
       "justify_items": null,
       "left": null,
       "margin": null,
       "max_height": null,
       "max_width": null,
       "min_height": null,
       "min_width": null,
       "object_fit": null,
       "object_position": null,
       "order": null,
       "overflow": null,
       "overflow_x": null,
       "overflow_y": null,
       "padding": null,
       "right": null,
       "top": null,
       "visibility": null,
       "width": null
      }
     },
     "a4813f8e002e45c2bb46c793bb4c4b9c": {
      "model_module": "@jupyter-widgets/base",
      "model_module_version": "1.2.0",
      "model_name": "LayoutModel",
      "state": {
       "_model_module": "@jupyter-widgets/base",
       "_model_module_version": "1.2.0",
       "_model_name": "LayoutModel",
       "_view_count": null,
       "_view_module": "@jupyter-widgets/base",
       "_view_module_version": "1.2.0",
       "_view_name": "LayoutView",
       "align_content": null,
       "align_items": null,
       "align_self": null,
       "border": null,
       "bottom": null,
       "display": null,
       "flex": null,
       "flex_flow": null,
       "grid_area": null,
       "grid_auto_columns": null,
       "grid_auto_flow": null,
       "grid_auto_rows": null,
       "grid_column": null,
       "grid_gap": null,
       "grid_row": null,
       "grid_template_areas": null,
       "grid_template_columns": null,
       "grid_template_rows": null,
       "height": null,
       "justify_content": null,
       "justify_items": null,
       "left": null,
       "margin": null,
       "max_height": null,
       "max_width": null,
       "min_height": null,
       "min_width": null,
       "object_fit": null,
       "object_position": null,
       "order": null,
       "overflow": null,
       "overflow_x": null,
       "overflow_y": null,
       "padding": null,
       "right": null,
       "top": null,
       "visibility": null,
       "width": null
      }
     },
     "a8f34fbf1bd748a691ee7378c8cfef8f": {
      "model_module": "@jupyter-widgets/controls",
      "model_module_version": "1.5.0",
      "model_name": "DescriptionStyleModel",
      "state": {
       "_model_module": "@jupyter-widgets/controls",
       "_model_module_version": "1.5.0",
       "_model_name": "DescriptionStyleModel",
       "_view_count": null,
       "_view_module": "@jupyter-widgets/base",
       "_view_module_version": "1.2.0",
       "_view_name": "StyleView",
       "description_width": ""
      }
     },
     "aa63d1b904104a3c9181033cb863488f": {
      "model_module": "@jupyter-widgets/base",
      "model_module_version": "1.2.0",
      "model_name": "LayoutModel",
      "state": {
       "_model_module": "@jupyter-widgets/base",
       "_model_module_version": "1.2.0",
       "_model_name": "LayoutModel",
       "_view_count": null,
       "_view_module": "@jupyter-widgets/base",
       "_view_module_version": "1.2.0",
       "_view_name": "LayoutView",
       "align_content": null,
       "align_items": null,
       "align_self": null,
       "border": null,
       "bottom": null,
       "display": null,
       "flex": null,
       "flex_flow": null,
       "grid_area": null,
       "grid_auto_columns": null,
       "grid_auto_flow": null,
       "grid_auto_rows": null,
       "grid_column": null,
       "grid_gap": null,
       "grid_row": null,
       "grid_template_areas": null,
       "grid_template_columns": null,
       "grid_template_rows": null,
       "height": null,
       "justify_content": null,
       "justify_items": null,
       "left": null,
       "margin": null,
       "max_height": null,
       "max_width": null,
       "min_height": null,
       "min_width": null,
       "object_fit": null,
       "object_position": null,
       "order": null,
       "overflow": null,
       "overflow_x": null,
       "overflow_y": null,
       "padding": null,
       "right": null,
       "top": null,
       "visibility": null,
       "width": null
      }
     },
     "accc228badd84c159a42dfded96cdc1e": {
      "model_module": "@jupyter-widgets/controls",
      "model_module_version": "1.5.0",
      "model_name": "ProgressStyleModel",
      "state": {
       "_model_module": "@jupyter-widgets/controls",
       "_model_module_version": "1.5.0",
       "_model_name": "ProgressStyleModel",
       "_view_count": null,
       "_view_module": "@jupyter-widgets/base",
       "_view_module_version": "1.2.0",
       "_view_name": "StyleView",
       "bar_color": null,
       "description_width": ""
      }
     },
     "adcc6c3e88254ae49b4c48a990ec6ebe": {
      "model_module": "@jupyter-widgets/base",
      "model_module_version": "1.2.0",
      "model_name": "LayoutModel",
      "state": {
       "_model_module": "@jupyter-widgets/base",
       "_model_module_version": "1.2.0",
       "_model_name": "LayoutModel",
       "_view_count": null,
       "_view_module": "@jupyter-widgets/base",
       "_view_module_version": "1.2.0",
       "_view_name": "LayoutView",
       "align_content": null,
       "align_items": null,
       "align_self": null,
       "border": null,
       "bottom": null,
       "display": null,
       "flex": null,
       "flex_flow": null,
       "grid_area": null,
       "grid_auto_columns": null,
       "grid_auto_flow": null,
       "grid_auto_rows": null,
       "grid_column": null,
       "grid_gap": null,
       "grid_row": null,
       "grid_template_areas": null,
       "grid_template_columns": null,
       "grid_template_rows": null,
       "height": null,
       "justify_content": null,
       "justify_items": null,
       "left": null,
       "margin": null,
       "max_height": null,
       "max_width": null,
       "min_height": null,
       "min_width": null,
       "object_fit": null,
       "object_position": null,
       "order": null,
       "overflow": null,
       "overflow_x": null,
       "overflow_y": null,
       "padding": null,
       "right": null,
       "top": null,
       "visibility": null,
       "width": null
      }
     },
     "adee38b0ce8f4e03ac4a6ce222a1459a": {
      "model_module": "@jupyter-widgets/base",
      "model_module_version": "1.2.0",
      "model_name": "LayoutModel",
      "state": {
       "_model_module": "@jupyter-widgets/base",
       "_model_module_version": "1.2.0",
       "_model_name": "LayoutModel",
       "_view_count": null,
       "_view_module": "@jupyter-widgets/base",
       "_view_module_version": "1.2.0",
       "_view_name": "LayoutView",
       "align_content": null,
       "align_items": null,
       "align_self": null,
       "border": null,
       "bottom": null,
       "display": null,
       "flex": null,
       "flex_flow": null,
       "grid_area": null,
       "grid_auto_columns": null,
       "grid_auto_flow": null,
       "grid_auto_rows": null,
       "grid_column": null,
       "grid_gap": null,
       "grid_row": null,
       "grid_template_areas": null,
       "grid_template_columns": null,
       "grid_template_rows": null,
       "height": null,
       "justify_content": null,
       "justify_items": null,
       "left": null,
       "margin": null,
       "max_height": null,
       "max_width": null,
       "min_height": null,
       "min_width": null,
       "object_fit": null,
       "object_position": null,
       "order": null,
       "overflow": null,
       "overflow_x": null,
       "overflow_y": null,
       "padding": null,
       "right": null,
       "top": null,
       "visibility": null,
       "width": null
      }
     },
     "b08a71e3154f497a91228525a3b275c9": {
      "model_module": "@jupyter-widgets/controls",
      "model_module_version": "1.5.0",
      "model_name": "HTMLModel",
      "state": {
       "_dom_classes": [],
       "_model_module": "@jupyter-widgets/controls",
       "_model_module_version": "1.5.0",
       "_model_name": "HTMLModel",
       "_view_count": null,
       "_view_module": "@jupyter-widgets/controls",
       "_view_module_version": "1.5.0",
       "_view_name": "HTMLView",
       "description": "",
       "description_tooltip": null,
       "layout": "IPY_MODEL_265cb9334a9b4d15a11e5ddb3c497fc7",
       "placeholder": "​",
       "style": "IPY_MODEL_cad876f5218f417d8483fbaebaa965c9",
       "value": "pytorch_model.bin: 100%"
      }
     },
     "b16492e92d1f45b69559d3fa6078dd69": {
      "model_module": "@jupyter-widgets/base",
      "model_module_version": "1.2.0",
      "model_name": "LayoutModel",
      "state": {
       "_model_module": "@jupyter-widgets/base",
       "_model_module_version": "1.2.0",
       "_model_name": "LayoutModel",
       "_view_count": null,
       "_view_module": "@jupyter-widgets/base",
       "_view_module_version": "1.2.0",
       "_view_name": "LayoutView",
       "align_content": null,
       "align_items": null,
       "align_self": null,
       "border": null,
       "bottom": null,
       "display": null,
       "flex": null,
       "flex_flow": null,
       "grid_area": null,
       "grid_auto_columns": null,
       "grid_auto_flow": null,
       "grid_auto_rows": null,
       "grid_column": null,
       "grid_gap": null,
       "grid_row": null,
       "grid_template_areas": null,
       "grid_template_columns": null,
       "grid_template_rows": null,
       "height": null,
       "justify_content": null,
       "justify_items": null,
       "left": null,
       "margin": null,
       "max_height": null,
       "max_width": null,
       "min_height": null,
       "min_width": null,
       "object_fit": null,
       "object_position": null,
       "order": null,
       "overflow": null,
       "overflow_x": null,
       "overflow_y": null,
       "padding": null,
       "right": null,
       "top": null,
       "visibility": null,
       "width": null
      }
     },
     "b1bbb35df842488bb38a3d2afca388b1": {
      "model_module": "@jupyter-widgets/controls",
      "model_module_version": "1.5.0",
      "model_name": "DescriptionStyleModel",
      "state": {
       "_model_module": "@jupyter-widgets/controls",
       "_model_module_version": "1.5.0",
       "_model_name": "DescriptionStyleModel",
       "_view_count": null,
       "_view_module": "@jupyter-widgets/base",
       "_view_module_version": "1.2.0",
       "_view_name": "StyleView",
       "description_width": ""
      }
     },
     "b338bb451b464d05b2f3e42e6aecb62e": {
      "model_module": "@jupyter-widgets/controls",
      "model_module_version": "1.5.0",
      "model_name": "DescriptionStyleModel",
      "state": {
       "_model_module": "@jupyter-widgets/controls",
       "_model_module_version": "1.5.0",
       "_model_name": "DescriptionStyleModel",
       "_view_count": null,
       "_view_module": "@jupyter-widgets/base",
       "_view_module_version": "1.2.0",
       "_view_name": "StyleView",
       "description_width": ""
      }
     },
     "b487d2be06bf4e17ad3db0f57b993f73": {
      "model_module": "@jupyter-widgets/controls",
      "model_module_version": "1.5.0",
      "model_name": "DescriptionStyleModel",
      "state": {
       "_model_module": "@jupyter-widgets/controls",
       "_model_module_version": "1.5.0",
       "_model_name": "DescriptionStyleModel",
       "_view_count": null,
       "_view_module": "@jupyter-widgets/base",
       "_view_module_version": "1.2.0",
       "_view_name": "StyleView",
       "description_width": ""
      }
     },
     "b6eb6d1ab7b04ab59071f1a9409bf03a": {
      "model_module": "@jupyter-widgets/controls",
      "model_module_version": "1.5.0",
      "model_name": "HBoxModel",
      "state": {
       "_dom_classes": [],
       "_model_module": "@jupyter-widgets/controls",
       "_model_module_version": "1.5.0",
       "_model_name": "HBoxModel",
       "_view_count": null,
       "_view_module": "@jupyter-widgets/controls",
       "_view_module_version": "1.5.0",
       "_view_name": "HBoxView",
       "box_style": "",
       "children": [
        "IPY_MODEL_c14a636a3cf54109b4ec00a70746feea",
        "IPY_MODEL_1c2a98ae78a14aa7944054ee4742ddc6",
        "IPY_MODEL_d71f2f6492ca41d1b802f22d846b197f"
       ],
       "layout": "IPY_MODEL_f40badb64a9b4ad0b77d82c086d1f64f"
      }
     },
     "ba1c31f3ed2a42cc891864e2d6daa652": {
      "model_module": "@jupyter-widgets/base",
      "model_module_version": "1.2.0",
      "model_name": "LayoutModel",
      "state": {
       "_model_module": "@jupyter-widgets/base",
       "_model_module_version": "1.2.0",
       "_model_name": "LayoutModel",
       "_view_count": null,
       "_view_module": "@jupyter-widgets/base",
       "_view_module_version": "1.2.0",
       "_view_name": "LayoutView",
       "align_content": null,
       "align_items": null,
       "align_self": null,
       "border": null,
       "bottom": null,
       "display": null,
       "flex": null,
       "flex_flow": null,
       "grid_area": null,
       "grid_auto_columns": null,
       "grid_auto_flow": null,
       "grid_auto_rows": null,
       "grid_column": null,
       "grid_gap": null,
       "grid_row": null,
       "grid_template_areas": null,
       "grid_template_columns": null,
       "grid_template_rows": null,
       "height": null,
       "justify_content": null,
       "justify_items": null,
       "left": null,
       "margin": null,
       "max_height": null,
       "max_width": null,
       "min_height": null,
       "min_width": null,
       "object_fit": null,
       "object_position": null,
       "order": null,
       "overflow": null,
       "overflow_x": null,
       "overflow_y": null,
       "padding": null,
       "right": null,
       "top": null,
       "visibility": null,
       "width": null
      }
     },
     "bc4f4f3ed71a4009bc278ad35e7debf3": {
      "model_module": "@jupyter-widgets/base",
      "model_module_version": "1.2.0",
      "model_name": "LayoutModel",
      "state": {
       "_model_module": "@jupyter-widgets/base",
       "_model_module_version": "1.2.0",
       "_model_name": "LayoutModel",
       "_view_count": null,
       "_view_module": "@jupyter-widgets/base",
       "_view_module_version": "1.2.0",
       "_view_name": "LayoutView",
       "align_content": null,
       "align_items": null,
       "align_self": null,
       "border": null,
       "bottom": null,
       "display": null,
       "flex": null,
       "flex_flow": null,
       "grid_area": null,
       "grid_auto_columns": null,
       "grid_auto_flow": null,
       "grid_auto_rows": null,
       "grid_column": null,
       "grid_gap": null,
       "grid_row": null,
       "grid_template_areas": null,
       "grid_template_columns": null,
       "grid_template_rows": null,
       "height": null,
       "justify_content": null,
       "justify_items": null,
       "left": null,
       "margin": null,
       "max_height": null,
       "max_width": null,
       "min_height": null,
       "min_width": null,
       "object_fit": null,
       "object_position": null,
       "order": null,
       "overflow": null,
       "overflow_x": null,
       "overflow_y": null,
       "padding": null,
       "right": null,
       "top": null,
       "visibility": null,
       "width": null
      }
     },
     "bdd22f508c9447a1bb98e9bd21493bf9": {
      "model_module": "@jupyter-widgets/controls",
      "model_module_version": "1.5.0",
      "model_name": "DescriptionStyleModel",
      "state": {
       "_model_module": "@jupyter-widgets/controls",
       "_model_module_version": "1.5.0",
       "_model_name": "DescriptionStyleModel",
       "_view_count": null,
       "_view_module": "@jupyter-widgets/base",
       "_view_module_version": "1.2.0",
       "_view_name": "StyleView",
       "description_width": ""
      }
     },
     "bf01dd732eb74b059b2d09beb06cc92d": {
      "model_module": "@jupyter-widgets/controls",
      "model_module_version": "1.5.0",
      "model_name": "ProgressStyleModel",
      "state": {
       "_model_module": "@jupyter-widgets/controls",
       "_model_module_version": "1.5.0",
       "_model_name": "ProgressStyleModel",
       "_view_count": null,
       "_view_module": "@jupyter-widgets/base",
       "_view_module_version": "1.2.0",
       "_view_name": "StyleView",
       "bar_color": null,
       "description_width": ""
      }
     },
     "bfa9b2a322364d4f80e6f6e7ea3fdf31": {
      "model_module": "@jupyter-widgets/controls",
      "model_module_version": "1.5.0",
      "model_name": "DescriptionStyleModel",
      "state": {
       "_model_module": "@jupyter-widgets/controls",
       "_model_module_version": "1.5.0",
       "_model_name": "DescriptionStyleModel",
       "_view_count": null,
       "_view_module": "@jupyter-widgets/base",
       "_view_module_version": "1.2.0",
       "_view_name": "StyleView",
       "description_width": ""
      }
     },
     "c14a636a3cf54109b4ec00a70746feea": {
      "model_module": "@jupyter-widgets/controls",
      "model_module_version": "1.5.0",
      "model_name": "HTMLModel",
      "state": {
       "_dom_classes": [],
       "_model_module": "@jupyter-widgets/controls",
       "_model_module_version": "1.5.0",
       "_model_name": "HTMLModel",
       "_view_count": null,
       "_view_module": "@jupyter-widgets/controls",
       "_view_module_version": "1.5.0",
       "_view_name": "HTMLView",
       "description": "",
       "description_tooltip": null,
       "layout": "IPY_MODEL_286306f7ef1e4247a8a8fbb619474a69",
       "placeholder": "​",
       "style": "IPY_MODEL_6885629e1d50405d866d1e3910c8562d",
       "value": "0_Transformer/tokenizer_config.json: 100%"
      }
     },
     "c2666b9f191d42658c7e9667cc576b15": {
      "model_module": "@jupyter-widgets/controls",
      "model_module_version": "1.5.0",
      "model_name": "HTMLModel",
      "state": {
       "_dom_classes": [],
       "_model_module": "@jupyter-widgets/controls",
       "_model_module_version": "1.5.0",
       "_model_name": "HTMLModel",
       "_view_count": null,
       "_view_module": "@jupyter-widgets/controls",
       "_view_module_version": "1.5.0",
       "_view_name": "HTMLView",
       "description": "",
       "description_tooltip": null,
       "layout": "IPY_MODEL_422fed2b88bc4ec4a343958c3bdc92f1",
       "placeholder": "​",
       "style": "IPY_MODEL_3ec8400314ba45fbb54506dbae06f509",
       "value": "0_Transformer/vocab.txt: 100%"
      }
     },
     "c60ed61aaad145909609ef09fc858460": {
      "model_module": "@jupyter-widgets/controls",
      "model_module_version": "1.5.0",
      "model_name": "HTMLModel",
      "state": {
       "_dom_classes": [],
       "_model_module": "@jupyter-widgets/controls",
       "_model_module_version": "1.5.0",
       "_model_name": "HTMLModel",
       "_view_count": null,
       "_view_module": "@jupyter-widgets/controls",
       "_view_module_version": "1.5.0",
       "_view_name": "HTMLView",
       "description": "",
       "description_tooltip": null,
       "layout": "IPY_MODEL_6c91e36b497d4aeeb13333f3bfdd3fcf",
       "placeholder": "​",
       "style": "IPY_MODEL_0a003d225b5a4bb9b190bc532fd3dc3a",
       "value": "2_Dense/config.json: 100%"
      }
     },
     "c67f4108d99549408ae47164f0a54ace": {
      "model_module": "@jupyter-widgets/base",
      "model_module_version": "1.2.0",
      "model_name": "LayoutModel",
      "state": {
       "_model_module": "@jupyter-widgets/base",
       "_model_module_version": "1.2.0",
       "_model_name": "LayoutModel",
       "_view_count": null,
       "_view_module": "@jupyter-widgets/base",
       "_view_module_version": "1.2.0",
       "_view_name": "LayoutView",
       "align_content": null,
       "align_items": null,
       "align_self": null,
       "border": null,
       "bottom": null,
       "display": null,
       "flex": null,
       "flex_flow": null,
       "grid_area": null,
       "grid_auto_columns": null,
       "grid_auto_flow": null,
       "grid_auto_rows": null,
       "grid_column": null,
       "grid_gap": null,
       "grid_row": null,
       "grid_template_areas": null,
       "grid_template_columns": null,
       "grid_template_rows": null,
       "height": null,
       "justify_content": null,
       "justify_items": null,
       "left": null,
       "margin": null,
       "max_height": null,
       "max_width": null,
       "min_height": null,
       "min_width": null,
       "object_fit": null,
       "object_position": null,
       "order": null,
       "overflow": null,
       "overflow_x": null,
       "overflow_y": null,
       "padding": null,
       "right": null,
       "top": null,
       "visibility": null,
       "width": null
      }
     },
     "c803f71b70464dcfb0a899f3cd4eba68": {
      "model_module": "@jupyter-widgets/controls",
      "model_module_version": "1.5.0",
      "model_name": "FloatProgressModel",
      "state": {
       "_dom_classes": [],
       "_model_module": "@jupyter-widgets/controls",
       "_model_module_version": "1.5.0",
       "_model_name": "FloatProgressModel",
       "_view_count": null,
       "_view_module": "@jupyter-widgets/controls",
       "_view_module_version": "1.5.0",
       "_view_name": "ProgressView",
       "bar_style": "success",
       "description": "",
       "description_tooltip": null,
       "layout": "IPY_MODEL_c9ba5415fe8e48a48b50c7d8e2c70dbb",
       "max": 52.0,
       "min": 0.0,
       "orientation": "horizontal",
       "style": "IPY_MODEL_5fd0a952a7004ae48e1cf6c8227a3b8a",
       "value": 52.0
      }
     },
     "c8389c9ba58e4ed09f111333a115ef75": {
      "model_module": "@jupyter-widgets/controls",
      "model_module_version": "1.5.0",
      "model_name": "HBoxModel",
      "state": {
       "_dom_classes": [],
       "_model_module": "@jupyter-widgets/controls",
       "_model_module_version": "1.5.0",
       "_model_name": "HBoxModel",
       "_view_count": null,
       "_view_module": "@jupyter-widgets/controls",
       "_view_module_version": "1.5.0",
       "_view_name": "HBoxView",
       "box_style": "",
       "children": [
        "IPY_MODEL_09a7e2360e0144d8a52e98a94cb7d3a8",
        "IPY_MODEL_eb043bfc425c41e789fb030b53a13815",
        "IPY_MODEL_9dd2f19fc2ea4752af148fb3c8acf8b8"
       ],
       "layout": "IPY_MODEL_c67f4108d99549408ae47164f0a54ace"
      }
     },
     "c9ba5415fe8e48a48b50c7d8e2c70dbb": {
      "model_module": "@jupyter-widgets/base",
      "model_module_version": "1.2.0",
      "model_name": "LayoutModel",
      "state": {
       "_model_module": "@jupyter-widgets/base",
       "_model_module_version": "1.2.0",
       "_model_name": "LayoutModel",
       "_view_count": null,
       "_view_module": "@jupyter-widgets/base",
       "_view_module_version": "1.2.0",
       "_view_name": "LayoutView",
       "align_content": null,
       "align_items": null,
       "align_self": null,
       "border": null,
       "bottom": null,
       "display": null,
       "flex": null,
       "flex_flow": null,
       "grid_area": null,
       "grid_auto_columns": null,
       "grid_auto_flow": null,
       "grid_auto_rows": null,
       "grid_column": null,
       "grid_gap": null,
       "grid_row": null,
       "grid_template_areas": null,
       "grid_template_columns": null,
       "grid_template_rows": null,
       "height": null,
       "justify_content": null,
       "justify_items": null,
       "left": null,
       "margin": null,
       "max_height": null,
       "max_width": null,
       "min_height": null,
       "min_width": null,
       "object_fit": null,
       "object_position": null,
       "order": null,
       "overflow": null,
       "overflow_x": null,
       "overflow_y": null,
       "padding": null,
       "right": null,
       "top": null,
       "visibility": null,
       "width": null
      }
     },
     "ca1d1fd45260433c9b0928b50fa9115e": {
      "model_module": "@jupyter-widgets/controls",
      "model_module_version": "1.5.0",
      "model_name": "HTMLModel",
      "state": {
       "_dom_classes": [],
       "_model_module": "@jupyter-widgets/controls",
       "_model_module_version": "1.5.0",
       "_model_name": "HTMLModel",
       "_view_count": null,
       "_view_module": "@jupyter-widgets/controls",
       "_view_module_version": "1.5.0",
       "_view_name": "HTMLView",
       "description": "",
       "description_tooltip": null,
       "layout": "IPY_MODEL_33a2085ff0b5465b9b633223d7cbff9a",
       "placeholder": "​",
       "style": "IPY_MODEL_9c61653dcc884399960969d3a2cb882b",
       "value": " 2.36M/2.36M [00:00&lt;00:00, 29.0MB/s]"
      }
     },
     "cad876f5218f417d8483fbaebaa965c9": {
      "model_module": "@jupyter-widgets/controls",
      "model_module_version": "1.5.0",
      "model_name": "DescriptionStyleModel",
      "state": {
       "_model_module": "@jupyter-widgets/controls",
       "_model_module_version": "1.5.0",
       "_model_name": "DescriptionStyleModel",
       "_view_count": null,
       "_view_module": "@jupyter-widgets/base",
       "_view_module_version": "1.2.0",
       "_view_name": "StyleView",
       "description_width": ""
      }
     },
     "cc930ade17e940e6b9dea7a103aaad7e": {
      "model_module": "@jupyter-widgets/base",
      "model_module_version": "1.2.0",
      "model_name": "LayoutModel",
      "state": {
       "_model_module": "@jupyter-widgets/base",
       "_model_module_version": "1.2.0",
       "_model_name": "LayoutModel",
       "_view_count": null,
       "_view_module": "@jupyter-widgets/base",
       "_view_module_version": "1.2.0",
       "_view_name": "LayoutView",
       "align_content": null,
       "align_items": null,
       "align_self": null,
       "border": null,
       "bottom": null,
       "display": null,
       "flex": null,
       "flex_flow": null,
       "grid_area": null,
       "grid_auto_columns": null,
       "grid_auto_flow": null,
       "grid_auto_rows": null,
       "grid_column": null,
       "grid_gap": null,
       "grid_row": null,
       "grid_template_areas": null,
       "grid_template_columns": null,
       "grid_template_rows": null,
       "height": null,
       "justify_content": null,
       "justify_items": null,
       "left": null,
       "margin": null,
       "max_height": null,
       "max_width": null,
       "min_height": null,
       "min_width": null,
       "object_fit": null,
       "object_position": null,
       "order": null,
       "overflow": null,
       "overflow_x": null,
       "overflow_y": null,
       "padding": null,
       "right": null,
       "top": null,
       "visibility": null,
       "width": null
      }
     },
     "d01fa0eda8e142329db10f6f61c09594": {
      "model_module": "@jupyter-widgets/base",
      "model_module_version": "1.2.0",
      "model_name": "LayoutModel",
      "state": {
       "_model_module": "@jupyter-widgets/base",
       "_model_module_version": "1.2.0",
       "_model_name": "LayoutModel",
       "_view_count": null,
       "_view_module": "@jupyter-widgets/base",
       "_view_module_version": "1.2.0",
       "_view_name": "LayoutView",
       "align_content": null,
       "align_items": null,
       "align_self": null,
       "border": null,
       "bottom": null,
       "display": null,
       "flex": null,
       "flex_flow": null,
       "grid_area": null,
       "grid_auto_columns": null,
       "grid_auto_flow": null,
       "grid_auto_rows": null,
       "grid_column": null,
       "grid_gap": null,
       "grid_row": null,
       "grid_template_areas": null,
       "grid_template_columns": null,
       "grid_template_rows": null,
       "height": null,
       "justify_content": null,
       "justify_items": null,
       "left": null,
       "margin": null,
       "max_height": null,
       "max_width": null,
       "min_height": null,
       "min_width": null,
       "object_fit": null,
       "object_position": null,
       "order": null,
       "overflow": null,
       "overflow_x": null,
       "overflow_y": null,
       "padding": null,
       "right": null,
       "top": null,
       "visibility": null,
       "width": null
      }
     },
     "d100c0e4bf3845ab85dc0a8448566c29": {
      "model_module": "@jupyter-widgets/controls",
      "model_module_version": "1.5.0",
      "model_name": "HTMLModel",
      "state": {
       "_dom_classes": [],
       "_model_module": "@jupyter-widgets/controls",
       "_model_module_version": "1.5.0",
       "_model_name": "HTMLModel",
       "_view_count": null,
       "_view_module": "@jupyter-widgets/controls",
       "_view_module_version": "1.5.0",
       "_view_name": "HTMLView",
       "description": "",
       "description_tooltip": null,
       "layout": "IPY_MODEL_cc930ade17e940e6b9dea7a103aaad7e",
       "placeholder": "​",
       "style": "IPY_MODEL_0a5166b359a14e54b9e262c368c4d317",
       "value": "pytorch_model.bin: 100%"
      }
     },
     "d2734837bd9f4e08879d1959113fe50c": {
      "model_module": "@jupyter-widgets/base",
      "model_module_version": "1.2.0",
      "model_name": "LayoutModel",
      "state": {
       "_model_module": "@jupyter-widgets/base",
       "_model_module_version": "1.2.0",
       "_model_name": "LayoutModel",
       "_view_count": null,
       "_view_module": "@jupyter-widgets/base",
       "_view_module_version": "1.2.0",
       "_view_name": "LayoutView",
       "align_content": null,
       "align_items": null,
       "align_self": null,
       "border": null,
       "bottom": null,
       "display": null,
       "flex": null,
       "flex_flow": null,
       "grid_area": null,
       "grid_auto_columns": null,
       "grid_auto_flow": null,
       "grid_auto_rows": null,
       "grid_column": null,
       "grid_gap": null,
       "grid_row": null,
       "grid_template_areas": null,
       "grid_template_columns": null,
       "grid_template_rows": null,
       "height": null,
       "justify_content": null,
       "justify_items": null,
       "left": null,
       "margin": null,
       "max_height": null,
       "max_width": null,
       "min_height": null,
       "min_width": null,
       "object_fit": null,
       "object_position": null,
       "order": null,
       "overflow": null,
       "overflow_x": null,
       "overflow_y": null,
       "padding": null,
       "right": null,
       "top": null,
       "visibility": null,
       "width": null
      }
     },
     "d700df0906004bdbacbdfabfd08cd6c9": {
      "model_module": "@jupyter-widgets/base",
      "model_module_version": "1.2.0",
      "model_name": "LayoutModel",
      "state": {
       "_model_module": "@jupyter-widgets/base",
       "_model_module_version": "1.2.0",
       "_model_name": "LayoutModel",
       "_view_count": null,
       "_view_module": "@jupyter-widgets/base",
       "_view_module_version": "1.2.0",
       "_view_name": "LayoutView",
       "align_content": null,
       "align_items": null,
       "align_self": null,
       "border": null,
       "bottom": null,
       "display": null,
       "flex": null,
       "flex_flow": null,
       "grid_area": null,
       "grid_auto_columns": null,
       "grid_auto_flow": null,
       "grid_auto_rows": null,
       "grid_column": null,
       "grid_gap": null,
       "grid_row": null,
       "grid_template_areas": null,
       "grid_template_columns": null,
       "grid_template_rows": null,
       "height": null,
       "justify_content": null,
       "justify_items": null,
       "left": null,
       "margin": null,
       "max_height": null,
       "max_width": null,
       "min_height": null,
       "min_width": null,
       "object_fit": null,
       "object_position": null,
       "order": null,
       "overflow": null,
       "overflow_x": null,
       "overflow_y": null,
       "padding": null,
       "right": null,
       "top": null,
       "visibility": null,
       "width": null
      }
     },
     "d71a684b5929450da375b596af438fc9": {
      "model_module": "@jupyter-widgets/base",
      "model_module_version": "1.2.0",
      "model_name": "LayoutModel",
      "state": {
       "_model_module": "@jupyter-widgets/base",
       "_model_module_version": "1.2.0",
       "_model_name": "LayoutModel",
       "_view_count": null,
       "_view_module": "@jupyter-widgets/base",
       "_view_module_version": "1.2.0",
       "_view_name": "LayoutView",
       "align_content": null,
       "align_items": null,
       "align_self": null,
       "border": null,
       "bottom": null,
       "display": null,
       "flex": null,
       "flex_flow": null,
       "grid_area": null,
       "grid_auto_columns": null,
       "grid_auto_flow": null,
       "grid_auto_rows": null,
       "grid_column": null,
       "grid_gap": null,
       "grid_row": null,
       "grid_template_areas": null,
       "grid_template_columns": null,
       "grid_template_rows": null,
       "height": null,
       "justify_content": null,
       "justify_items": null,
       "left": null,
       "margin": null,
       "max_height": null,
       "max_width": null,
       "min_height": null,
       "min_width": null,
       "object_fit": null,
       "object_position": null,
       "order": null,
       "overflow": null,
       "overflow_x": null,
       "overflow_y": null,
       "padding": null,
       "right": null,
       "top": null,
       "visibility": null,
       "width": null
      }
     },
     "d71f2f6492ca41d1b802f22d846b197f": {
      "model_module": "@jupyter-widgets/controls",
      "model_module_version": "1.5.0",
      "model_name": "HTMLModel",
      "state": {
       "_dom_classes": [],
       "_model_module": "@jupyter-widgets/controls",
       "_model_module_version": "1.5.0",
       "_model_name": "HTMLModel",
       "_view_count": null,
       "_view_module": "@jupyter-widgets/controls",
       "_view_module_version": "1.5.0",
       "_view_name": "HTMLView",
       "description": "",
       "description_tooltip": null,
       "layout": "IPY_MODEL_71bb8a65b56241548927f85fd7617d0c",
       "placeholder": "​",
       "style": "IPY_MODEL_4349ddd1f1dc4fc587e7299717a8669f",
       "value": " 394/394 [00:00&lt;00:00, 26.8kB/s]"
      }
     },
     "db9c331f0156405b9ae3bb5bdb917e12": {
      "model_module": "@jupyter-widgets/controls",
      "model_module_version": "1.5.0",
      "model_name": "HTMLModel",
      "state": {
       "_dom_classes": [],
       "_model_module": "@jupyter-widgets/controls",
       "_model_module_version": "1.5.0",
       "_model_name": "HTMLModel",
       "_view_count": null,
       "_view_module": "@jupyter-widgets/controls",
       "_view_module_version": "1.5.0",
       "_view_name": "HTMLView",
       "description": "",
       "description_tooltip": null,
       "layout": "IPY_MODEL_bc4f4f3ed71a4009bc278ad35e7debf3",
       "placeholder": "​",
       "style": "IPY_MODEL_0dad32a4282c4475bae17748b799144f",
       "value": "modules.json: 100%"
      }
     },
     "dc36dd65842c46bea1237c2632efa07d": {
      "model_module": "@jupyter-widgets/controls",
      "model_module_version": "1.5.0",
      "model_name": "FloatProgressModel",
      "state": {
       "_dom_classes": [],
       "_model_module": "@jupyter-widgets/controls",
       "_model_module_version": "1.5.0",
       "_model_name": "FloatProgressModel",
       "_view_count": null,
       "_view_module": "@jupyter-widgets/controls",
       "_view_module_version": "1.5.0",
       "_view_name": "ProgressView",
       "bar_style": "success",
       "description": "",
       "description_tooltip": null,
       "layout": "IPY_MODEL_efec49a1f40d428e8047485939d208d0",
       "max": 114.0,
       "min": 0.0,
       "orientation": "horizontal",
       "style": "IPY_MODEL_fc5ff7351db94c4382a0a6c1690db370",
       "value": 114.0
      }
     },
     "dc528a4fffa4467890b49d2557b2dfbc": {
      "model_module": "@jupyter-widgets/controls",
      "model_module_version": "1.5.0",
      "model_name": "HTMLModel",
      "state": {
       "_dom_classes": [],
       "_model_module": "@jupyter-widgets/controls",
       "_model_module_version": "1.5.0",
       "_model_name": "HTMLModel",
       "_view_count": null,
       "_view_module": "@jupyter-widgets/controls",
       "_view_module_version": "1.5.0",
       "_view_name": "HTMLView",
       "description": "",
       "description_tooltip": null,
       "layout": "IPY_MODEL_fd32ee09393b4d62825b26aaa82a44fb",
       "placeholder": "​",
       "style": "IPY_MODEL_b487d2be06bf4e17ad3db0f57b993f73",
       "value": "0_Transformer/config.json: 100%"
      }
     },
     "dd80b017a9914510942c097357b9ebfc": {
      "model_module": "@jupyter-widgets/base",
      "model_module_version": "1.2.0",
      "model_name": "LayoutModel",
      "state": {
       "_model_module": "@jupyter-widgets/base",
       "_model_module_version": "1.2.0",
       "_model_name": "LayoutModel",
       "_view_count": null,
       "_view_module": "@jupyter-widgets/base",
       "_view_module_version": "1.2.0",
       "_view_name": "LayoutView",
       "align_content": null,
       "align_items": null,
       "align_self": null,
       "border": null,
       "bottom": null,
       "display": null,
       "flex": null,
       "flex_flow": null,
       "grid_area": null,
       "grid_auto_columns": null,
       "grid_auto_flow": null,
       "grid_auto_rows": null,
       "grid_column": null,
       "grid_gap": null,
       "grid_row": null,
       "grid_template_areas": null,
       "grid_template_columns": null,
       "grid_template_rows": null,
       "height": null,
       "justify_content": null,
       "justify_items": null,
       "left": null,
       "margin": null,
       "max_height": null,
       "max_width": null,
       "min_height": null,
       "min_width": null,
       "object_fit": null,
       "object_position": null,
       "order": null,
       "overflow": null,
       "overflow_x": null,
       "overflow_y": null,
       "padding": null,
       "right": null,
       "top": null,
       "visibility": null,
       "width": null
      }
     },
     "dda055fc37e54f98b57d2a9dc926ad93": {
      "model_module": "@jupyter-widgets/base",
      "model_module_version": "1.2.0",
      "model_name": "LayoutModel",
      "state": {
       "_model_module": "@jupyter-widgets/base",
       "_model_module_version": "1.2.0",
       "_model_name": "LayoutModel",
       "_view_count": null,
       "_view_module": "@jupyter-widgets/base",
       "_view_module_version": "1.2.0",
       "_view_name": "LayoutView",
       "align_content": null,
       "align_items": null,
       "align_self": null,
       "border": null,
       "bottom": null,
       "display": null,
       "flex": null,
       "flex_flow": null,
       "grid_area": null,
       "grid_auto_columns": null,
       "grid_auto_flow": null,
       "grid_auto_rows": null,
       "grid_column": null,
       "grid_gap": null,
       "grid_row": null,
       "grid_template_areas": null,
       "grid_template_columns": null,
       "grid_template_rows": null,
       "height": null,
       "justify_content": null,
       "justify_items": null,
       "left": null,
       "margin": null,
       "max_height": null,
       "max_width": null,
       "min_height": null,
       "min_width": null,
       "object_fit": null,
       "object_position": null,
       "order": null,
       "overflow": null,
       "overflow_x": null,
       "overflow_y": null,
       "padding": null,
       "right": null,
       "top": null,
       "visibility": null,
       "width": null
      }
     },
     "ddd2411ab76f4299bbae59264418f392": {
      "model_module": "@jupyter-widgets/base",
      "model_module_version": "1.2.0",
      "model_name": "LayoutModel",
      "state": {
       "_model_module": "@jupyter-widgets/base",
       "_model_module_version": "1.2.0",
       "_model_name": "LayoutModel",
       "_view_count": null,
       "_view_module": "@jupyter-widgets/base",
       "_view_module_version": "1.2.0",
       "_view_name": "LayoutView",
       "align_content": null,
       "align_items": null,
       "align_self": null,
       "border": null,
       "bottom": null,
       "display": null,
       "flex": null,
       "flex_flow": null,
       "grid_area": null,
       "grid_auto_columns": null,
       "grid_auto_flow": null,
       "grid_auto_rows": null,
       "grid_column": null,
       "grid_gap": null,
       "grid_row": null,
       "grid_template_areas": null,
       "grid_template_columns": null,
       "grid_template_rows": null,
       "height": null,
       "justify_content": null,
       "justify_items": null,
       "left": null,
       "margin": null,
       "max_height": null,
       "max_width": null,
       "min_height": null,
       "min_width": null,
       "object_fit": null,
       "object_position": null,
       "order": null,
       "overflow": null,
       "overflow_x": null,
       "overflow_y": null,
       "padding": null,
       "right": null,
       "top": null,
       "visibility": null,
       "width": null
      }
     },
     "de8de83d227445a4a2d7bddf2f3b9718": {
      "model_module": "@jupyter-widgets/controls",
      "model_module_version": "1.5.0",
      "model_name": "HTMLModel",
      "state": {
       "_dom_classes": [],
       "_model_module": "@jupyter-widgets/controls",
       "_model_module_version": "1.5.0",
       "_model_name": "HTMLModel",
       "_view_count": null,
       "_view_module": "@jupyter-widgets/controls",
       "_view_module_version": "1.5.0",
       "_view_name": "HTMLView",
       "description": "",
       "description_tooltip": null,
       "layout": "IPY_MODEL_3abcff3016b6464ba6bdc0e41ed064fa",
       "placeholder": "​",
       "style": "IPY_MODEL_80b8eed82709413eb3511946e04ce871",
       "value": " 498M/498M [00:11&lt;00:00, 48.8MB/s]"
      }
     },
     "df23261a839e4fa5acac47af29aab771": {
      "model_module": "@jupyter-widgets/base",
      "model_module_version": "1.2.0",
      "model_name": "LayoutModel",
      "state": {
       "_model_module": "@jupyter-widgets/base",
       "_model_module_version": "1.2.0",
       "_model_name": "LayoutModel",
       "_view_count": null,
       "_view_module": "@jupyter-widgets/base",
       "_view_module_version": "1.2.0",
       "_view_name": "LayoutView",
       "align_content": null,
       "align_items": null,
       "align_self": null,
       "border": null,
       "bottom": null,
       "display": null,
       "flex": null,
       "flex_flow": null,
       "grid_area": null,
       "grid_auto_columns": null,
       "grid_auto_flow": null,
       "grid_auto_rows": null,
       "grid_column": null,
       "grid_gap": null,
       "grid_row": null,
       "grid_template_areas": null,
       "grid_template_columns": null,
       "grid_template_rows": null,
       "height": null,
       "justify_content": null,
       "justify_items": null,
       "left": null,
       "margin": null,
       "max_height": null,
       "max_width": null,
       "min_height": null,
       "min_width": null,
       "object_fit": null,
       "object_position": null,
       "order": null,
       "overflow": null,
       "overflow_x": null,
       "overflow_y": null,
       "padding": null,
       "right": null,
       "top": null,
       "visibility": null,
       "width": null
      }
     },
     "e17195e567c14a8ea2d68e06b366280e": {
      "model_module": "@jupyter-widgets/controls",
      "model_module_version": "1.5.0",
      "model_name": "HBoxModel",
      "state": {
       "_dom_classes": [],
       "_model_module": "@jupyter-widgets/controls",
       "_model_module_version": "1.5.0",
       "_model_name": "HBoxModel",
       "_view_count": null,
       "_view_module": "@jupyter-widgets/controls",
       "_view_module_version": "1.5.0",
       "_view_name": "HBoxView",
       "box_style": "",
       "children": [
        "IPY_MODEL_b08a71e3154f497a91228525a3b275c9",
        "IPY_MODEL_757e49a299c84b628c8bc84bb9c17d01",
        "IPY_MODEL_ca1d1fd45260433c9b0928b50fa9115e"
       ],
       "layout": "IPY_MODEL_9a0977a55c6c45509108a1877f2f9a77"
      }
     },
     "e413bdfcedc34da7a58b282be39a117b": {
      "model_module": "@jupyter-widgets/controls",
      "model_module_version": "1.5.0",
      "model_name": "HTMLModel",
      "state": {
       "_dom_classes": [],
       "_model_module": "@jupyter-widgets/controls",
       "_model_module_version": "1.5.0",
       "_model_name": "HTMLModel",
       "_view_count": null,
       "_view_module": "@jupyter-widgets/controls",
       "_view_module_version": "1.5.0",
       "_view_name": "HTMLView",
       "description": "",
       "description_tooltip": null,
       "layout": "IPY_MODEL_d01fa0eda8e142329db10f6f61c09594",
       "placeholder": "​",
       "style": "IPY_MODEL_fad4958370d8417fa8ae8e72d1e0c8b3",
       "value": "README.md: 100%"
      }
     },
     "e4fbf81a3ec54f179580eb427a365ded": {
      "model_module": "@jupyter-widgets/controls",
      "model_module_version": "1.5.0",
      "model_name": "HTMLModel",
      "state": {
       "_dom_classes": [],
       "_model_module": "@jupyter-widgets/controls",
       "_model_module_version": "1.5.0",
       "_model_name": "HTMLModel",
       "_view_count": null,
       "_view_module": "@jupyter-widgets/controls",
       "_view_module_version": "1.5.0",
       "_view_name": "HTMLView",
       "description": "",
       "description_tooltip": null,
       "layout": "IPY_MODEL_dda055fc37e54f98b57d2a9dc926ad93",
       "placeholder": "​",
       "style": "IPY_MODEL_37110d39922444ec9b3675056ee15da8",
       "value": "eval/similarity_evaluation_results.csv: 100%"
      }
     },
     "e51fe33f02364237832443843dddb5c7": {
      "model_module": "@jupyter-widgets/controls",
      "model_module_version": "1.5.0",
      "model_name": "ProgressStyleModel",
      "state": {
       "_model_module": "@jupyter-widgets/controls",
       "_model_module_version": "1.5.0",
       "_model_name": "ProgressStyleModel",
       "_view_count": null,
       "_view_module": "@jupyter-widgets/base",
       "_view_module_version": "1.2.0",
       "_view_name": "StyleView",
       "bar_color": null,
       "description_width": ""
      }
     },
     "e7d8b410bfbe44ed99b4d54c16437083": {
      "model_module": "@jupyter-widgets/controls",
      "model_module_version": "1.5.0",
      "model_name": "HBoxModel",
      "state": {
       "_dom_classes": [],
       "_model_module": "@jupyter-widgets/controls",
       "_model_module_version": "1.5.0",
       "_model_name": "HBoxModel",
       "_view_count": null,
       "_view_module": "@jupyter-widgets/controls",
       "_view_module_version": "1.5.0",
       "_view_name": "HBoxView",
       "box_style": "",
       "children": [
        "IPY_MODEL_dc528a4fffa4467890b49d2557b2dfbc",
        "IPY_MODEL_eb2ad6f1eb4c4ce9841aaa3574e48ef3",
        "IPY_MODEL_39b529281bd549cb817038a53ecf5792"
       ],
       "layout": "IPY_MODEL_a4813f8e002e45c2bb46c793bb4c4b9c"
      }
     },
     "ea47dd3adbb24c598c656595d2d2a9c9": {
      "model_module": "@jupyter-widgets/controls",
      "model_module_version": "1.5.0",
      "model_name": "DescriptionStyleModel",
      "state": {
       "_model_module": "@jupyter-widgets/controls",
       "_model_module_version": "1.5.0",
       "_model_name": "DescriptionStyleModel",
       "_view_count": null,
       "_view_module": "@jupyter-widgets/base",
       "_view_module_version": "1.2.0",
       "_view_name": "StyleView",
       "description_width": ""
      }
     },
     "eb043bfc425c41e789fb030b53a13815": {
      "model_module": "@jupyter-widgets/controls",
      "model_module_version": "1.5.0",
      "model_name": "FloatProgressModel",
      "state": {
       "_dom_classes": [],
       "_model_module": "@jupyter-widgets/controls",
       "_model_module_version": "1.5.0",
       "_model_name": "FloatProgressModel",
       "_view_count": null,
       "_view_module": "@jupyter-widgets/controls",
       "_view_module_version": "1.5.0",
       "_view_name": "ProgressView",
       "bar_style": "success",
       "description": "",
       "description_tooltip": null,
       "layout": "IPY_MODEL_66309f229bc4450da1438f8af46a830e",
       "max": 1477.0,
       "min": 0.0,
       "orientation": "horizontal",
       "style": "IPY_MODEL_accc228badd84c159a42dfded96cdc1e",
       "value": 1477.0
      }
     },
     "eb2ad6f1eb4c4ce9841aaa3574e48ef3": {
      "model_module": "@jupyter-widgets/controls",
      "model_module_version": "1.5.0",
      "model_name": "FloatProgressModel",
      "state": {
       "_dom_classes": [],
       "_model_module": "@jupyter-widgets/controls",
       "_model_module_version": "1.5.0",
       "_model_name": "FloatProgressModel",
       "_view_count": null,
       "_view_module": "@jupyter-widgets/controls",
       "_view_module_version": "1.5.0",
       "_view_name": "ProgressView",
       "bar_style": "success",
       "description": "",
       "description_tooltip": null,
       "layout": "IPY_MODEL_d2734837bd9f4e08879d1959113fe50c",
       "max": 1101.0,
       "min": 0.0,
       "orientation": "horizontal",
       "style": "IPY_MODEL_9d1298ba591546a69a3777e2059d95ab",
       "value": 1101.0
      }
     },
     "ee2e997d62394c40831f3cf3c5e10afc": {
      "model_module": "@jupyter-widgets/controls",
      "model_module_version": "1.5.0",
      "model_name": "HTMLModel",
      "state": {
       "_dom_classes": [],
       "_model_module": "@jupyter-widgets/controls",
       "_model_module_version": "1.5.0",
       "_model_name": "HTMLModel",
       "_view_count": null,
       "_view_module": "@jupyter-widgets/controls",
       "_view_module_version": "1.5.0",
       "_view_name": "HTMLView",
       "description": "",
       "description_tooltip": null,
       "layout": "IPY_MODEL_f216b4b9b45a41dda3aad5cd888866d0",
       "placeholder": "​",
       "style": "IPY_MODEL_bfa9b2a322364d4f80e6f6e7ea3fdf31",
       "value": " 709k/709k [00:00&lt;00:00, 10.9MB/s]"
      }
     },
     "efec49a1f40d428e8047485939d208d0": {
      "model_module": "@jupyter-widgets/base",
      "model_module_version": "1.2.0",
      "model_name": "LayoutModel",
      "state": {
       "_model_module": "@jupyter-widgets/base",
       "_model_module_version": "1.2.0",
       "_model_name": "LayoutModel",
       "_view_count": null,
       "_view_module": "@jupyter-widgets/base",
       "_view_module_version": "1.2.0",
       "_view_name": "LayoutView",
       "align_content": null,
       "align_items": null,
       "align_self": null,
       "border": null,
       "bottom": null,
       "display": null,
       "flex": null,
       "flex_flow": null,
       "grid_area": null,
       "grid_auto_columns": null,
       "grid_auto_flow": null,
       "grid_auto_rows": null,
       "grid_column": null,
       "grid_gap": null,
       "grid_row": null,
       "grid_template_areas": null,
       "grid_template_columns": null,
       "grid_template_rows": null,
       "height": null,
       "justify_content": null,
       "justify_items": null,
       "left": null,
       "margin": null,
       "max_height": null,
       "max_width": null,
       "min_height": null,
       "min_width": null,
       "object_fit": null,
       "object_position": null,
       "order": null,
       "overflow": null,
       "overflow_x": null,
       "overflow_y": null,
       "padding": null,
       "right": null,
       "top": null,
       "visibility": null,
       "width": null
      }
     },
     "f03d098433a341eb988854c023d0750b": {
      "model_module": "@jupyter-widgets/controls",
      "model_module_version": "1.5.0",
      "model_name": "HTMLModel",
      "state": {
       "_dom_classes": [],
       "_model_module": "@jupyter-widgets/controls",
       "_model_module_version": "1.5.0",
       "_model_name": "HTMLModel",
       "_view_count": null,
       "_view_module": "@jupyter-widgets/controls",
       "_view_module_version": "1.5.0",
       "_view_name": "HTMLView",
       "description": "",
       "description_tooltip": null,
       "layout": "IPY_MODEL_022667f1dcb14aea9c2d0c808da43884",
       "placeholder": "​",
       "style": "IPY_MODEL_1ac076d73861432da4389be6944aa0a8",
       "value": " 52.0/52.0 [00:00&lt;00:00, 4.76kB/s]"
      }
     },
     "f1897aceb3334c1997c0babacfff534f": {
      "model_module": "@jupyter-widgets/base",
      "model_module_version": "1.2.0",
      "model_name": "LayoutModel",
      "state": {
       "_model_module": "@jupyter-widgets/base",
       "_model_module_version": "1.2.0",
       "_model_name": "LayoutModel",
       "_view_count": null,
       "_view_module": "@jupyter-widgets/base",
       "_view_module_version": "1.2.0",
       "_view_name": "LayoutView",
       "align_content": null,
       "align_items": null,
       "align_self": null,
       "border": null,
       "bottom": null,
       "display": null,
       "flex": null,
       "flex_flow": null,
       "grid_area": null,
       "grid_auto_columns": null,
       "grid_auto_flow": null,
       "grid_auto_rows": null,
       "grid_column": null,
       "grid_gap": null,
       "grid_row": null,
       "grid_template_areas": null,
       "grid_template_columns": null,
       "grid_template_rows": null,
       "height": null,
       "justify_content": null,
       "justify_items": null,
       "left": null,
       "margin": null,
       "max_height": null,
       "max_width": null,
       "min_height": null,
       "min_width": null,
       "object_fit": null,
       "object_position": null,
       "order": null,
       "overflow": null,
       "overflow_x": null,
       "overflow_y": null,
       "padding": null,
       "right": null,
       "top": null,
       "visibility": null,
       "width": null
      }
     },
     "f1b9e408d0af4ede8e27327b67523c0d": {
      "model_module": "@jupyter-widgets/base",
      "model_module_version": "1.2.0",
      "model_name": "LayoutModel",
      "state": {
       "_model_module": "@jupyter-widgets/base",
       "_model_module_version": "1.2.0",
       "_model_name": "LayoutModel",
       "_view_count": null,
       "_view_module": "@jupyter-widgets/base",
       "_view_module_version": "1.2.0",
       "_view_name": "LayoutView",
       "align_content": null,
       "align_items": null,
       "align_self": null,
       "border": null,
       "bottom": null,
       "display": null,
       "flex": null,
       "flex_flow": null,
       "grid_area": null,
       "grid_auto_columns": null,
       "grid_auto_flow": null,
       "grid_auto_rows": null,
       "grid_column": null,
       "grid_gap": null,
       "grid_row": null,
       "grid_template_areas": null,
       "grid_template_columns": null,
       "grid_template_rows": null,
       "height": null,
       "justify_content": null,
       "justify_items": null,
       "left": null,
       "margin": null,
       "max_height": null,
       "max_width": null,
       "min_height": null,
       "min_width": null,
       "object_fit": null,
       "object_position": null,
       "order": null,
       "overflow": null,
       "overflow_x": null,
       "overflow_y": null,
       "padding": null,
       "right": null,
       "top": null,
       "visibility": null,
       "width": null
      }
     },
     "f1dfdad681d947f3963fdfcea2fc6da6": {
      "model_module": "@jupyter-widgets/base",
      "model_module_version": "1.2.0",
      "model_name": "LayoutModel",
      "state": {
       "_model_module": "@jupyter-widgets/base",
       "_model_module_version": "1.2.0",
       "_model_name": "LayoutModel",
       "_view_count": null,
       "_view_module": "@jupyter-widgets/base",
       "_view_module_version": "1.2.0",
       "_view_name": "LayoutView",
       "align_content": null,
       "align_items": null,
       "align_self": null,
       "border": null,
       "bottom": null,
       "display": null,
       "flex": null,
       "flex_flow": null,
       "grid_area": null,
       "grid_auto_columns": null,
       "grid_auto_flow": null,
       "grid_auto_rows": null,
       "grid_column": null,
       "grid_gap": null,
       "grid_row": null,
       "grid_template_areas": null,
       "grid_template_columns": null,
       "grid_template_rows": null,
       "height": null,
       "justify_content": null,
       "justify_items": null,
       "left": null,
       "margin": null,
       "max_height": null,
       "max_width": null,
       "min_height": null,
       "min_width": null,
       "object_fit": null,
       "object_position": null,
       "order": null,
       "overflow": null,
       "overflow_x": null,
       "overflow_y": null,
       "padding": null,
       "right": null,
       "top": null,
       "visibility": null,
       "width": null
      }
     },
     "f216b4b9b45a41dda3aad5cd888866d0": {
      "model_module": "@jupyter-widgets/base",
      "model_module_version": "1.2.0",
      "model_name": "LayoutModel",
      "state": {
       "_model_module": "@jupyter-widgets/base",
       "_model_module_version": "1.2.0",
       "_model_name": "LayoutModel",
       "_view_count": null,
       "_view_module": "@jupyter-widgets/base",
       "_view_module_version": "1.2.0",
       "_view_name": "LayoutView",
       "align_content": null,
       "align_items": null,
       "align_self": null,
       "border": null,
       "bottom": null,
       "display": null,
       "flex": null,
       "flex_flow": null,
       "grid_area": null,
       "grid_auto_columns": null,
       "grid_auto_flow": null,
       "grid_auto_rows": null,
       "grid_column": null,
       "grid_gap": null,
       "grid_row": null,
       "grid_template_areas": null,
       "grid_template_columns": null,
       "grid_template_rows": null,
       "height": null,
       "justify_content": null,
       "justify_items": null,
       "left": null,
       "margin": null,
       "max_height": null,
       "max_width": null,
       "min_height": null,
       "min_width": null,
       "object_fit": null,
       "object_position": null,
       "order": null,
       "overflow": null,
       "overflow_x": null,
       "overflow_y": null,
       "padding": null,
       "right": null,
       "top": null,
       "visibility": null,
       "width": null
      }
     },
     "f40badb64a9b4ad0b77d82c086d1f64f": {
      "model_module": "@jupyter-widgets/base",
      "model_module_version": "1.2.0",
      "model_name": "LayoutModel",
      "state": {
       "_model_module": "@jupyter-widgets/base",
       "_model_module_version": "1.2.0",
       "_model_name": "LayoutModel",
       "_view_count": null,
       "_view_module": "@jupyter-widgets/base",
       "_view_module_version": "1.2.0",
       "_view_name": "LayoutView",
       "align_content": null,
       "align_items": null,
       "align_self": null,
       "border": null,
       "bottom": null,
       "display": null,
       "flex": null,
       "flex_flow": null,
       "grid_area": null,
       "grid_auto_columns": null,
       "grid_auto_flow": null,
       "grid_auto_rows": null,
       "grid_column": null,
       "grid_gap": null,
       "grid_row": null,
       "grid_template_areas": null,
       "grid_template_columns": null,
       "grid_template_rows": null,
       "height": null,
       "justify_content": null,
       "justify_items": null,
       "left": null,
       "margin": null,
       "max_height": null,
       "max_width": null,
       "min_height": null,
       "min_width": null,
       "object_fit": null,
       "object_position": null,
       "order": null,
       "overflow": null,
       "overflow_x": null,
       "overflow_y": null,
       "padding": null,
       "right": null,
       "top": null,
       "visibility": null,
       "width": null
      }
     },
     "f44652ebda7549fb83121ed5ff649b5c": {
      "model_module": "@jupyter-widgets/base",
      "model_module_version": "1.2.0",
      "model_name": "LayoutModel",
      "state": {
       "_model_module": "@jupyter-widgets/base",
       "_model_module_version": "1.2.0",
       "_model_name": "LayoutModel",
       "_view_count": null,
       "_view_module": "@jupyter-widgets/base",
       "_view_module_version": "1.2.0",
       "_view_name": "LayoutView",
       "align_content": null,
       "align_items": null,
       "align_self": null,
       "border": null,
       "bottom": null,
       "display": null,
       "flex": null,
       "flex_flow": null,
       "grid_area": null,
       "grid_auto_columns": null,
       "grid_auto_flow": null,
       "grid_auto_rows": null,
       "grid_column": null,
       "grid_gap": null,
       "grid_row": null,
       "grid_template_areas": null,
       "grid_template_columns": null,
       "grid_template_rows": null,
       "height": null,
       "justify_content": null,
       "justify_items": null,
       "left": null,
       "margin": null,
       "max_height": null,
       "max_width": null,
       "min_height": null,
       "min_width": null,
       "object_fit": null,
       "object_position": null,
       "order": null,
       "overflow": null,
       "overflow_x": null,
       "overflow_y": null,
       "padding": null,
       "right": null,
       "top": null,
       "visibility": null,
       "width": null
      }
     },
     "f496185ffd134fc3a3494bbdc1835fee": {
      "model_module": "@jupyter-widgets/controls",
      "model_module_version": "1.5.0",
      "model_name": "HBoxModel",
      "state": {
       "_dom_classes": [],
       "_model_module": "@jupyter-widgets/controls",
       "_model_module_version": "1.5.0",
       "_model_name": "HBoxModel",
       "_view_count": null,
       "_view_module": "@jupyter-widgets/controls",
       "_view_module_version": "1.5.0",
       "_view_name": "HBoxView",
       "box_style": "",
       "children": [
        "IPY_MODEL_f97cf32138ea442298c48dbacb8996b3",
        "IPY_MODEL_feff828190e6439f81e1878a94f9b160",
        "IPY_MODEL_fa83987142714ed1a98c6da7bd08ac59"
       ],
       "layout": "IPY_MODEL_7a47967ba6a344b0b6df23311674a3b8"
      }
     },
     "f4b2025ad9da43c28f42206aa19e817b": {
      "model_module": "@jupyter-widgets/controls",
      "model_module_version": "1.5.0",
      "model_name": "FloatProgressModel",
      "state": {
       "_dom_classes": [],
       "_model_module": "@jupyter-widgets/controls",
       "_model_module_version": "1.5.0",
       "_model_name": "FloatProgressModel",
       "_view_count": null,
       "_view_module": "@jupyter-widgets/controls",
       "_view_module_version": "1.5.0",
       "_view_name": "ProgressView",
       "bar_style": "success",
       "description": "",
       "description_tooltip": null,
       "layout": "IPY_MODEL_d71a684b5929450da375b596af438fc9",
       "max": 354.0,
       "min": 0.0,
       "orientation": "horizontal",
       "style": "IPY_MODEL_660d0bf0b78d45e9a21d79eab8add90b",
       "value": 354.0
      }
     },
     "f4c676995815451093088b9d7cf882a6": {
      "model_module": "@jupyter-widgets/controls",
      "model_module_version": "1.5.0",
      "model_name": "FloatProgressModel",
      "state": {
       "_dom_classes": [],
       "_model_module": "@jupyter-widgets/controls",
       "_model_module_version": "1.5.0",
       "_model_name": "FloatProgressModel",
       "_view_count": null,
       "_view_module": "@jupyter-widgets/controls",
       "_view_module_version": "1.5.0",
       "_view_name": "ProgressView",
       "bar_style": "success",
       "description": "",
       "description_tooltip": null,
       "layout": "IPY_MODEL_349e3bfec6f1480eaf43dbaa6a5ff4d3",
       "max": 709279.0,
       "min": 0.0,
       "orientation": "horizontal",
       "style": "IPY_MODEL_149f0e5e4bb74ec0896f4f4874a6f5c6",
       "value": 709279.0
      }
     },
     "f81871461ec441f3b2fedf5de307f40f": {
      "model_module": "@jupyter-widgets/controls",
      "model_module_version": "1.5.0",
      "model_name": "DescriptionStyleModel",
      "state": {
       "_model_module": "@jupyter-widgets/controls",
       "_model_module_version": "1.5.0",
       "_model_name": "DescriptionStyleModel",
       "_view_count": null,
       "_view_module": "@jupyter-widgets/base",
       "_view_module_version": "1.2.0",
       "_view_name": "StyleView",
       "description_width": ""
      }
     },
     "f8a0fc12f4d74d8c8ee815f36667b3bc": {
      "model_module": "@jupyter-widgets/controls",
      "model_module_version": "1.5.0",
      "model_name": "ProgressStyleModel",
      "state": {
       "_model_module": "@jupyter-widgets/controls",
       "_model_module_version": "1.5.0",
       "_model_name": "ProgressStyleModel",
       "_view_count": null,
       "_view_module": "@jupyter-widgets/base",
       "_view_module_version": "1.2.0",
       "_view_name": "StyleView",
       "bar_color": null,
       "description_width": ""
      }
     },
     "f97cf32138ea442298c48dbacb8996b3": {
      "model_module": "@jupyter-widgets/controls",
      "model_module_version": "1.5.0",
      "model_name": "HTMLModel",
      "state": {
       "_dom_classes": [],
       "_model_module": "@jupyter-widgets/controls",
       "_model_module_version": "1.5.0",
       "_model_name": "HTMLModel",
       "_view_count": null,
       "_view_module": "@jupyter-widgets/controls",
       "_view_module_version": "1.5.0",
       "_view_name": "HTMLView",
       "description": "",
       "description_tooltip": null,
       "layout": "IPY_MODEL_f1b9e408d0af4ede8e27327b67523c0d",
       "placeholder": "​",
       "style": "IPY_MODEL_b338bb451b464d05b2f3e42e6aecb62e",
       "value": "config_sentence_transformers.json: 100%"
      }
     },
     "f9d87f4dae2e476ea31d4e91dc9a56c9": {
      "model_module": "@jupyter-widgets/controls",
      "model_module_version": "1.5.0",
      "model_name": "DescriptionStyleModel",
      "state": {
       "_model_module": "@jupyter-widgets/controls",
       "_model_module_version": "1.5.0",
       "_model_name": "DescriptionStyleModel",
       "_view_count": null,
       "_view_module": "@jupyter-widgets/base",
       "_view_module_version": "1.2.0",
       "_view_name": "StyleView",
       "description_width": ""
      }
     },
     "fa73f7f77aa0416480b45670a28e1bc3": {
      "model_module": "@jupyter-widgets/controls",
      "model_module_version": "1.5.0",
      "model_name": "HBoxModel",
      "state": {
       "_dom_classes": [],
       "_model_module": "@jupyter-widgets/controls",
       "_model_module_version": "1.5.0",
       "_model_name": "HBoxModel",
       "_view_count": null,
       "_view_module": "@jupyter-widgets/controls",
       "_view_module_version": "1.5.0",
       "_view_name": "HBoxView",
       "box_style": "",
       "children": [
        "IPY_MODEL_db9c331f0156405b9ae3bb5bdb917e12",
        "IPY_MODEL_f4b2025ad9da43c28f42206aa19e817b",
        "IPY_MODEL_5126761ef07e42d39d17ec8dc0085268"
       ],
       "layout": "IPY_MODEL_0a80cd0037b64bc99234d8a4e6177693"
      }
     },
     "fa83987142714ed1a98c6da7bd08ac59": {
      "model_module": "@jupyter-widgets/controls",
      "model_module_version": "1.5.0",
      "model_name": "HTMLModel",
      "state": {
       "_dom_classes": [],
       "_model_module": "@jupyter-widgets/controls",
       "_model_module_version": "1.5.0",
       "_model_name": "HTMLModel",
       "_view_count": null,
       "_view_module": "@jupyter-widgets/controls",
       "_view_module_version": "1.5.0",
       "_view_name": "HTMLView",
       "description": "",
       "description_tooltip": null,
       "layout": "IPY_MODEL_26b81b916ac84b61a8abd03039e8ca03",
       "placeholder": "​",
       "style": "IPY_MODEL_f9d87f4dae2e476ea31d4e91dc9a56c9",
       "value": " 123/123 [00:00&lt;00:00, 11.5kB/s]"
      }
     },
     "fad4958370d8417fa8ae8e72d1e0c8b3": {
      "model_module": "@jupyter-widgets/controls",
      "model_module_version": "1.5.0",
      "model_name": "DescriptionStyleModel",
      "state": {
       "_model_module": "@jupyter-widgets/controls",
       "_model_module_version": "1.5.0",
       "_model_name": "DescriptionStyleModel",
       "_view_count": null,
       "_view_module": "@jupyter-widgets/base",
       "_view_module_version": "1.2.0",
       "_view_name": "StyleView",
       "description_width": ""
      }
     },
     "fc5ff7351db94c4382a0a6c1690db370": {
      "model_module": "@jupyter-widgets/controls",
      "model_module_version": "1.5.0",
      "model_name": "ProgressStyleModel",
      "state": {
       "_model_module": "@jupyter-widgets/controls",
       "_model_module_version": "1.5.0",
       "_model_name": "ProgressStyleModel",
       "_view_count": null,
       "_view_module": "@jupyter-widgets/base",
       "_view_module_version": "1.2.0",
       "_view_name": "StyleView",
       "bar_color": null,
       "description_width": ""
      }
     },
     "fcfcaafee8c345539a7a5b721de0d8ad": {
      "model_module": "@jupyter-widgets/controls",
      "model_module_version": "1.5.0",
      "model_name": "ProgressStyleModel",
      "state": {
       "_model_module": "@jupyter-widgets/controls",
       "_model_module_version": "1.5.0",
       "_model_name": "ProgressStyleModel",
       "_view_count": null,
       "_view_module": "@jupyter-widgets/base",
       "_view_module_version": "1.2.0",
       "_view_name": "StyleView",
       "bar_color": null,
       "description_width": ""
      }
     },
     "fd09bb7f82ad428e8ef2f6d91c77e136": {
      "model_module": "@jupyter-widgets/controls",
      "model_module_version": "1.5.0",
      "model_name": "HTMLModel",
      "state": {
       "_dom_classes": [],
       "_model_module": "@jupyter-widgets/controls",
       "_model_module_version": "1.5.0",
       "_model_name": "HTMLModel",
       "_view_count": null,
       "_view_module": "@jupyter-widgets/controls",
       "_view_module_version": "1.5.0",
       "_view_name": "HTMLView",
       "description": "",
       "description_tooltip": null,
       "layout": "IPY_MODEL_0192c2c96d7147979d3f4038ec1201fa",
       "placeholder": "​",
       "style": "IPY_MODEL_ea47dd3adbb24c598c656595d2d2a9c9",
       "value": " 229k/229k [00:00&lt;00:00, 17.1MB/s]"
      }
     },
     "fd32ee09393b4d62825b26aaa82a44fb": {
      "model_module": "@jupyter-widgets/base",
      "model_module_version": "1.2.0",
      "model_name": "LayoutModel",
      "state": {
       "_model_module": "@jupyter-widgets/base",
       "_model_module_version": "1.2.0",
       "_model_name": "LayoutModel",
       "_view_count": null,
       "_view_module": "@jupyter-widgets/base",
       "_view_module_version": "1.2.0",
       "_view_name": "LayoutView",
       "align_content": null,
       "align_items": null,
       "align_self": null,
       "border": null,
       "bottom": null,
       "display": null,
       "flex": null,
       "flex_flow": null,
       "grid_area": null,
       "grid_auto_columns": null,
       "grid_auto_flow": null,
       "grid_auto_rows": null,
       "grid_column": null,
       "grid_gap": null,
       "grid_row": null,
       "grid_template_areas": null,
       "grid_template_columns": null,
       "grid_template_rows": null,
       "height": null,
       "justify_content": null,
       "justify_items": null,
       "left": null,
       "margin": null,
       "max_height": null,
       "max_width": null,
       "min_height": null,
       "min_width": null,
       "object_fit": null,
       "object_position": null,
       "order": null,
       "overflow": null,
       "overflow_x": null,
       "overflow_y": null,
       "padding": null,
       "right": null,
       "top": null,
       "visibility": null,
       "width": null
      }
     },
     "feff828190e6439f81e1878a94f9b160": {
      "model_module": "@jupyter-widgets/controls",
      "model_module_version": "1.5.0",
      "model_name": "FloatProgressModel",
      "state": {
       "_dom_classes": [],
       "_model_module": "@jupyter-widgets/controls",
       "_model_module_version": "1.5.0",
       "_model_name": "FloatProgressModel",
       "_view_count": null,
       "_view_module": "@jupyter-widgets/controls",
       "_view_module_version": "1.5.0",
       "_view_name": "ProgressView",
       "bar_style": "success",
       "description": "",
       "description_tooltip": null,
       "layout": "IPY_MODEL_dd80b017a9914510942c097357b9ebfc",
       "max": 123.0,
       "min": 0.0,
       "orientation": "horizontal",
       "style": "IPY_MODEL_bf01dd732eb74b059b2d09beb06cc92d",
       "value": 123.0
      }
     },
     "ff0af759635b4e89bfa52dc734b8b196": {
      "model_module": "@jupyter-widgets/controls",
      "model_module_version": "1.5.0",
      "model_name": "DescriptionStyleModel",
      "state": {
       "_model_module": "@jupyter-widgets/controls",
       "_model_module_version": "1.5.0",
       "_model_name": "DescriptionStyleModel",
       "_view_count": null,
       "_view_module": "@jupyter-widgets/base",
       "_view_module_version": "1.2.0",
       "_view_name": "StyleView",
       "description_width": ""
      }
     }
    },
    "version_major": 2,
    "version_minor": 0
   }
  }
 },
 "nbformat": 4,
 "nbformat_minor": 5
}
