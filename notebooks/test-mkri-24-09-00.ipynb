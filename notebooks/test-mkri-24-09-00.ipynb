{
 "cells": [
  {
   "cell_type": "markdown",
   "id": "2a6e47ef",
   "metadata": {
    "papermill": {
     "duration": 0.006595,
     "end_time": "2024-01-07T05:36:01.932446",
     "exception": false,
     "start_time": "2024-01-07T05:36:01.925851",
     "status": "completed"
    },
    "tags": []
   },
   "source": [
    "https://www.kaggle.com/code/rkuo2000/chromadb-langchain-gpt4all\n",
    "\n",
    "https://python.langchain.com/docs/integrations/llms/gpt4all\n",
    "\n",
    "https://github.com/nomic-ai/gpt4all/tree/main/gpt4all-bindings/python\n",
    "\n",
    "https://www.kaggle.com/code/gpreda/test-gpt4all-on-kaggle"
   ]
  },
  {
   "cell_type": "code",
   "execution_count": 1,
   "id": "30af7662",
   "metadata": {
    "execution": {
     "iopub.execute_input": "2024-01-07T05:36:01.945773Z",
     "iopub.status.busy": "2024-01-07T05:36:01.945465Z",
     "iopub.status.idle": "2024-01-07T05:36:01.954825Z",
     "shell.execute_reply": "2024-01-07T05:36:01.954139Z"
    },
    "papermill": {
     "duration": 0.018154,
     "end_time": "2024-01-07T05:36:01.956731",
     "exception": false,
     "start_time": "2024-01-07T05:36:01.938577",
     "status": "completed"
    },
    "tags": []
   },
   "outputs": [],
   "source": [
    "import time\n",
    "start = time.time()"
   ]
  },
  {
   "cell_type": "code",
   "execution_count": 2,
   "id": "e8d4b618",
   "metadata": {
    "execution": {
     "iopub.execute_input": "2024-01-07T05:36:01.969970Z",
     "iopub.status.busy": "2024-01-07T05:36:01.969702Z",
     "iopub.status.idle": "2024-01-07T05:36:02.936355Z",
     "shell.execute_reply": "2024-01-07T05:36:02.935418Z"
    },
    "papermill": {
     "duration": 0.975836,
     "end_time": "2024-01-07T05:36:02.938638",
     "exception": false,
     "start_time": "2024-01-07T05:36:01.962802",
     "status": "completed"
    },
    "tags": []
   },
   "outputs": [
    {
     "name": "stdout",
     "output_type": "stream",
     "text": [
      "GPU 0: Tesla T4 (UUID: GPU-2d00aa17-3f7f-e2a9-a1dc-2d3379a69ac9)\r\n",
      "GPU 1: Tesla T4 (UUID: GPU-bc216860-bd09-f5ea-e30c-bc85babbe083)\r\n"
     ]
    }
   ],
   "source": [
    "! nvidia-smi -L"
   ]
  },
  {
   "cell_type": "code",
   "execution_count": 3,
   "id": "07d5ab2d",
   "metadata": {
    "execution": {
     "iopub.execute_input": "2024-01-07T05:36:02.953222Z",
     "iopub.status.busy": "2024-01-07T05:36:02.952901Z",
     "iopub.status.idle": "2024-01-07T05:38:24.193267Z",
     "shell.execute_reply": "2024-01-07T05:38:24.192069Z"
    },
    "papermill": {
     "duration": 141.255529,
     "end_time": "2024-01-07T05:38:24.200922",
     "exception": false,
     "start_time": "2024-01-07T05:36:02.945393",
     "status": "completed"
    },
    "tags": []
   },
   "outputs": [
    {
     "name": "stdout",
     "output_type": "stream",
     "text": [
      "\u001b[31mERROR: pip's dependency resolver does not currently take into account all the packages that are installed. This behaviour is the source of the following dependency conflicts.\r\n",
      "cudf 23.8.0 requires cupy-cuda11x>=12.0.0, which is not installed.\r\n",
      "cuml 23.8.0 requires cupy-cuda11x>=12.0.0, which is not installed.\r\n",
      "dask-cudf 23.8.0 requires cupy-cuda11x>=12.0.0, which is not installed.\r\n",
      "apache-beam 2.46.0 requires dill<0.3.2,>=0.3.1.1, but you have dill 0.3.7 which is incompatible.\r\n",
      "apache-beam 2.46.0 requires pyarrow<10.0.0,>=3.0.0, but you have pyarrow 11.0.0 which is incompatible.\r\n",
      "cudf 23.8.0 requires pandas<1.6.0dev0,>=1.3, but you have pandas 2.0.2 which is incompatible.\r\n",
      "cudf 23.8.0 requires protobuf<5,>=4.21, but you have protobuf 3.20.3 which is incompatible.\r\n",
      "cuml 23.8.0 requires dask==2023.7.1, but you have dask 2023.9.0 which is incompatible.\r\n",
      "dask-cuda 23.8.0 requires dask==2023.7.1, but you have dask 2023.9.0 which is incompatible.\r\n",
      "dask-cuda 23.8.0 requires pandas<1.6.0dev0,>=1.3, but you have pandas 2.0.2 which is incompatible.\r\n",
      "dask-cudf 23.8.0 requires dask==2023.7.1, but you have dask 2023.9.0 which is incompatible.\r\n",
      "dask-cudf 23.8.0 requires pandas<1.6.0dev0,>=1.3, but you have pandas 2.0.2 which is incompatible.\r\n",
      "distributed 2023.7.1 requires dask==2023.7.1, but you have dask 2023.9.0 which is incompatible.\r\n",
      "google-cloud-bigquery 2.34.4 requires packaging<22.0dev,>=14.3, but you have packaging 23.2 which is incompatible.\r\n",
      "google-cloud-pubsublite 1.8.2 requires overrides<7.0.0,>=6.0.1, but you have overrides 7.4.0 which is incompatible.\r\n",
      "jupyterlab-lsp 4.2.0 requires jupyter-lsp>=2.0.0, but you have jupyter-lsp 1.5.1 which is incompatible.\r\n",
      "kfp 2.0.1 requires google-cloud-storage<3,>=2.2.1, but you have google-cloud-storage 1.44.0 which is incompatible.\r\n",
      "kfp 2.0.1 requires kubernetes<27,>=8.0.0, but you have kubernetes 28.1.0 which is incompatible.\r\n",
      "momepy 0.6.0 requires shapely>=2, but you have shapely 1.8.5.post1 which is incompatible.\r\n",
      "opentelemetry-exporter-otlp 1.18.0 requires opentelemetry-exporter-otlp-proto-grpc==1.18.0, but you have opentelemetry-exporter-otlp-proto-grpc 1.22.0 which is incompatible.\r\n",
      "opentelemetry-exporter-otlp-proto-http 1.18.0 requires opentelemetry-exporter-otlp-proto-common==1.18.0, but you have opentelemetry-exporter-otlp-proto-common 1.22.0 which is incompatible.\r\n",
      "opentelemetry-exporter-otlp-proto-http 1.18.0 requires opentelemetry-proto==1.18.0, but you have opentelemetry-proto 1.22.0 which is incompatible.\r\n",
      "opentelemetry-exporter-otlp-proto-http 1.18.0 requires opentelemetry-sdk~=1.18.0, but you have opentelemetry-sdk 1.22.0 which is incompatible.\r\n",
      "pymc3 3.11.5 requires numpy<1.22.2,>=1.15.0, but you have numpy 1.23.5 which is incompatible.\r\n",
      "pymc3 3.11.5 requires scipy<1.8.0,>=1.7.3, but you have scipy 1.11.2 which is incompatible.\r\n",
      "raft-dask 23.8.0 requires dask==2023.7.1, but you have dask 2023.9.0 which is incompatible.\r\n",
      "ray 2.5.1 requires grpcio<=1.51.3,>=1.42.0; python_version >= \"3.10\" and sys_platform != \"darwin\", but you have grpcio 1.60.0 which is incompatible.\r\n",
      "ydata-profiling 4.3.1 requires scipy<1.11,>=1.4.1, but you have scipy 1.11.2 which is incompatible.\u001b[0m\u001b[31m\r\n",
      "\u001b[0m\u001b[31mERROR: pip's dependency resolver does not currently take into account all the packages that are installed. This behaviour is the source of the following dependency conflicts.\r\n",
      "chromadb 0.4.22 requires grpcio>=1.58.0, but you have grpcio 1.51.3 which is incompatible.\u001b[0m\u001b[31m\r\n",
      "\u001b[0mCPU times: user 1.55 s, sys: 378 ms, total: 1.93 s\n",
      "Wall time: 2min 21s\n"
     ]
    }
   ],
   "source": [
    "%%time\n",
    "\n",
    "! pip install -qq -U langchain tiktoken pypdf chromadb faiss-gpu\n",
    "! pip install -qq -U transformers InstructorEmbedding sentence_transformers\n",
    "! pip install -qq -U bitsandbytes bitsandbytes-cuda117\n",
    "! pip install -qq -U gpt4all"
   ]
  },
  {
   "cell_type": "code",
   "execution_count": 4,
   "id": "e9d219da",
   "metadata": {
    "execution": {
     "iopub.execute_input": "2024-01-07T05:38:24.215023Z",
     "iopub.status.busy": "2024-01-07T05:38:24.214731Z",
     "iopub.status.idle": "2024-01-07T05:38:24.218990Z",
     "shell.execute_reply": "2024-01-07T05:38:24.218180Z"
    },
    "papermill": {
     "duration": 0.013518,
     "end_time": "2024-01-07T05:38:24.220855",
     "exception": false,
     "start_time": "2024-01-07T05:38:24.207337",
     "status": "completed"
    },
    "tags": []
   },
   "outputs": [],
   "source": [
    "#!wget https://gpt4all.io/models/ggml-gpt4all-j-v1.3-groovy.bin models"
   ]
  },
  {
   "cell_type": "code",
   "execution_count": 5,
   "id": "7c18eac2",
   "metadata": {
    "execution": {
     "iopub.execute_input": "2024-01-07T05:38:24.234942Z",
     "iopub.status.busy": "2024-01-07T05:38:24.234666Z",
     "iopub.status.idle": "2024-01-07T05:38:50.028185Z",
     "shell.execute_reply": "2024-01-07T05:38:50.027181Z"
    },
    "papermill": {
     "duration": 25.803212,
     "end_time": "2024-01-07T05:38:50.030325",
     "exception": false,
     "start_time": "2024-01-07T05:38:24.227113",
     "status": "completed"
    },
    "tags": []
   },
   "outputs": [
    {
     "name": "stdout",
     "output_type": "stream",
     "text": [
      "0.1.0\n"
     ]
    }
   ],
   "source": [
    "import warnings\n",
    "warnings.filterwarnings(\"ignore\")\n",
    "\n",
    "import os\n",
    "import textwrap\n",
    "import shutil\n",
    "import pandas as pd\n",
    "import glob\n",
    "\n",
    "import langchain\n",
    "from langchain.llms import HuggingFacePipeline\n",
    "\n",
    "import torch\n",
    "import transformers\n",
    "from transformers import AutoTokenizer, AutoModelForCausalLM\n",
    "from transformers import LlamaTokenizer, LlamaForCausalLM, pipeline\n",
    "\n",
    "#quantization_config = BitsAndBytesConfig(llm_int8_enable_fp32_cpu_offload=True)\n",
    "\n",
    "#os.environ['TRANSFORMERS_CACHE'] = 'cache/'\n",
    "\n",
    "print(langchain.__version__)"
   ]
  },
  {
   "cell_type": "code",
   "execution_count": 6,
   "id": "008664de",
   "metadata": {
    "execution": {
     "iopub.execute_input": "2024-01-07T05:38:50.044829Z",
     "iopub.status.busy": "2024-01-07T05:38:50.044532Z",
     "iopub.status.idle": "2024-01-07T05:38:53.206931Z",
     "shell.execute_reply": "2024-01-07T05:38:53.206178Z"
    },
    "papermill": {
     "duration": 3.17218,
     "end_time": "2024-01-07T05:38:53.209226",
     "exception": false,
     "start_time": "2024-01-07T05:38:50.037046",
     "status": "completed"
    },
    "tags": []
   },
   "outputs": [],
   "source": [
    "### Multi-document retriever\n",
    "from langchain.vectorstores import Chroma, FAISS\n",
    "from langchain.text_splitter import RecursiveCharacterTextSplitter\n",
    "\n",
    "from langchain.chains import RetrievalQA, VectorDBQA\n",
    "from langchain.document_loaders import PyPDFLoader\n",
    "from langchain.document_loaders import DirectoryLoader\n",
    "#from gpt4all import GPT4All\n",
    "from langchain.llms import GPT4All\n",
    "from langchain.prompts import PromptTemplate\n",
    "\n",
    "\n",
    "from InstructorEmbedding import INSTRUCTOR\n",
    "from langchain.embeddings import HuggingFaceInstructEmbeddings"
   ]
  },
  {
   "cell_type": "code",
   "execution_count": 7,
   "id": "a2ab0d17",
   "metadata": {
    "execution": {
     "iopub.execute_input": "2024-01-07T05:38:53.224226Z",
     "iopub.status.busy": "2024-01-07T05:38:53.223483Z",
     "iopub.status.idle": "2024-01-07T05:40:04.713618Z",
     "shell.execute_reply": "2024-01-07T05:40:04.712656Z"
    },
    "papermill": {
     "duration": 71.499975,
     "end_time": "2024-01-07T05:40:04.716098",
     "exception": false,
     "start_time": "2024-01-07T05:38:53.216123",
     "status": "completed"
    },
    "tags": []
   },
   "outputs": [
    {
     "name": "stdout",
     "output_type": "stream",
     "text": [
      "--2024-01-07 05:38:54--  https://gpt4all.io/models/gguf/mistral-7b-instruct-v0.1.Q4_0.gguf\r\n",
      "Resolving gpt4all.io (gpt4all.io)... 104.26.0.159, 104.26.1.159, 172.67.71.169, ...\r\n",
      "Connecting to gpt4all.io (gpt4all.io)|104.26.0.159|:443... connected.\r\n",
      "HTTP request sent, awaiting response... 200 OK\r\n",
      "Length: 4108916384 (3.8G)\r\n",
      "Saving to: ‘mistral-7b-instruct-v0.1.Q4_0.gguf’\r\n",
      "\r\n",
      "mistral-7b-instruct 100%[===================>]   3.83G  29.2MB/s    in 68s     \r\n",
      "\r\n",
      "2024-01-07 05:40:04 (57.5 MB/s) - ‘mistral-7b-instruct-v0.1.Q4_0.gguf’ saved [4108916384/4108916384]\r\n",
      "\r\n"
     ]
    }
   ],
   "source": [
    "!wget https://gpt4all.io/models/gguf/mistral-7b-instruct-v0.1.Q4_0.gguf"
   ]
  },
  {
   "cell_type": "code",
   "execution_count": 8,
   "id": "b24affda",
   "metadata": {
    "execution": {
     "iopub.execute_input": "2024-01-07T05:40:04.770466Z",
     "iopub.status.busy": "2024-01-07T05:40:04.770110Z",
     "iopub.status.idle": "2024-01-07T05:40:07.092140Z",
     "shell.execute_reply": "2024-01-07T05:40:07.091289Z"
    },
    "papermill": {
     "duration": 2.351488,
     "end_time": "2024-01-07T05:40:07.094475",
     "exception": false,
     "start_time": "2024-01-07T05:40:04.742987",
     "status": "completed"
    },
    "tags": []
   },
   "outputs": [],
   "source": [
    "\n",
    "llm = GPT4All(model=\"/kaggle/working/mistral-7b-instruct-v0.1.Q4_0.gguf\")"
   ]
  },
  {
   "cell_type": "code",
   "execution_count": 9,
   "id": "73941234",
   "metadata": {
    "execution": {
     "iopub.execute_input": "2024-01-07T05:40:07.153927Z",
     "iopub.status.busy": "2024-01-07T05:40:07.153201Z",
     "iopub.status.idle": "2024-01-07T05:40:07.157074Z",
     "shell.execute_reply": "2024-01-07T05:40:07.156313Z"
    },
    "papermill": {
     "duration": 0.03287,
     "end_time": "2024-01-07T05:40:07.159106",
     "exception": false,
     "start_time": "2024-01-07T05:40:07.126236",
     "status": "completed"
    },
    "tags": []
   },
   "outputs": [],
   "source": [
    "#print(llm.generate(\"The capital of France is \", max_tokens=1028))"
   ]
  },
  {
   "cell_type": "code",
   "execution_count": 10,
   "id": "66413dcf",
   "metadata": {
    "execution": {
     "iopub.execute_input": "2024-01-07T05:40:07.213365Z",
     "iopub.status.busy": "2024-01-07T05:40:07.212762Z",
     "iopub.status.idle": "2024-01-07T05:40:07.222425Z",
     "shell.execute_reply": "2024-01-07T05:40:07.221516Z"
    },
    "papermill": {
     "duration": 0.038828,
     "end_time": "2024-01-07T05:40:07.224336",
     "exception": false,
     "start_time": "2024-01-07T05:40:07.185508",
     "status": "completed"
    },
    "tags": []
   },
   "outputs": [
    {
     "data": {
      "text/plain": [
       "GPT4All(model='/kaggle/working/mistral-7b-instruct-v0.1.Q4_0.gguf', client=<gpt4all.gpt4all.GPT4All object at 0x786c517fabf0>)"
      ]
     },
     "execution_count": 10,
     "metadata": {},
     "output_type": "execute_result"
    }
   ],
   "source": [
    "llm"
   ]
  },
  {
   "cell_type": "code",
   "execution_count": 11,
   "id": "e2ba08a8",
   "metadata": {
    "execution": {
     "iopub.execute_input": "2024-01-07T05:40:07.442278Z",
     "iopub.status.busy": "2024-01-07T05:40:07.441290Z",
     "iopub.status.idle": "2024-01-07T05:42:07.311099Z",
     "shell.execute_reply": "2024-01-07T05:42:07.310085Z"
    },
    "papermill": {
     "duration": 120.088834,
     "end_time": "2024-01-07T05:42:07.339198",
     "exception": false,
     "start_time": "2024-01-07T05:40:07.250364",
     "status": "completed"
    },
    "tags": []
   },
   "outputs": [
    {
     "data": {
      "text/plain": [
       "'/kaggle/working/mk-vectordb-chroma'"
      ]
     },
     "execution_count": 11,
     "metadata": {},
     "output_type": "execute_result"
    }
   ],
   "source": [
    "shutil.copytree('/kaggle/input/mkvc-9-finalmix/kaggle/working/mk-vectordb-chroma-nine', '/kaggle/working/mk-vectordb-chroma')"
   ]
  },
  {
   "cell_type": "code",
   "execution_count": 12,
   "id": "8df643e2",
   "metadata": {
    "execution": {
     "iopub.execute_input": "2024-01-07T05:42:07.436325Z",
     "iopub.status.busy": "2024-01-07T05:42:07.435963Z",
     "iopub.status.idle": "2024-01-07T05:42:22.475912Z",
     "shell.execute_reply": "2024-01-07T05:42:22.474733Z"
    },
    "papermill": {
     "duration": 15.112256,
     "end_time": "2024-01-07T05:42:22.477958",
     "exception": false,
     "start_time": "2024-01-07T05:42:07.365702",
     "status": "completed"
    },
    "tags": []
   },
   "outputs": [
    {
     "data": {
      "application/vnd.jupyter.widget-view+json": {
       "model_id": "93cd6deb28bd422290ae1378bb542833",
       "version_major": 2,
       "version_minor": 0
      },
      "text/plain": [
       ".gitattributes:   0%|          | 0.00/1.48k [00:00<?, ?B/s]"
      ]
     },
     "metadata": {},
     "output_type": "display_data"
    },
    {
     "data": {
      "application/vnd.jupyter.widget-view+json": {
       "model_id": "9ec4197582a7466cb521798e2e639569",
       "version_major": 2,
       "version_minor": 0
      },
      "text/plain": [
       "1_Pooling/config.json:   0%|          | 0.00/270 [00:00<?, ?B/s]"
      ]
     },
     "metadata": {},
     "output_type": "display_data"
    },
    {
     "data": {
      "application/vnd.jupyter.widget-view+json": {
       "model_id": "531ee62efa5c497a8fb593885e9d92f8",
       "version_major": 2,
       "version_minor": 0
      },
      "text/plain": [
       "README.md:   0%|          | 0.00/4.06k [00:00<?, ?B/s]"
      ]
     },
     "metadata": {},
     "output_type": "display_data"
    },
    {
     "data": {
      "application/vnd.jupyter.widget-view+json": {
       "model_id": "eb0c2d11fa9741bcb446e3728ba95eed",
       "version_major": 2,
       "version_minor": 0
      },
      "text/plain": [
       "config.json:   0%|          | 0.00/1.10k [00:00<?, ?B/s]"
      ]
     },
     "metadata": {},
     "output_type": "display_data"
    },
    {
     "data": {
      "application/vnd.jupyter.widget-view+json": {
       "model_id": "32e666ea6c0046e6b61374c167d102e7",
       "version_major": 2,
       "version_minor": 0
      },
      "text/plain": [
       "config_sentence_transformers.json:   0%|          | 0.00/123 [00:00<?, ?B/s]"
      ]
     },
     "metadata": {},
     "output_type": "display_data"
    },
    {
     "data": {
      "application/vnd.jupyter.widget-view+json": {
       "model_id": "a455dfe4668243dc9d006806f63fd99f",
       "version_major": 2,
       "version_minor": 0
      },
      "text/plain": [
       "eval/similarity_evaluation_results.csv:   0%|          | 0.00/300 [00:00<?, ?B/s]"
      ]
     },
     "metadata": {},
     "output_type": "display_data"
    },
    {
     "data": {
      "application/vnd.jupyter.widget-view+json": {
       "model_id": "119530a1ed57420c914918b64660ea61",
       "version_major": 2,
       "version_minor": 0
      },
      "text/plain": [
       "pytorch_model.bin:   0%|          | 0.00/498M [00:00<?, ?B/s]"
      ]
     },
     "metadata": {},
     "output_type": "display_data"
    },
    {
     "data": {
      "application/vnd.jupyter.widget-view+json": {
       "model_id": "1f5697324a23416c99c4539d471e2126",
       "version_major": 2,
       "version_minor": 0
      },
      "text/plain": [
       "sentence_bert_config.json:   0%|          | 0.00/52.0 [00:00<?, ?B/s]"
      ]
     },
     "metadata": {},
     "output_type": "display_data"
    },
    {
     "data": {
      "application/vnd.jupyter.widget-view+json": {
       "model_id": "a2ee42140c47416f8939666ec8f23914",
       "version_major": 2,
       "version_minor": 0
      },
      "text/plain": [
       "special_tokens_map.json:   0%|          | 0.00/125 [00:00<?, ?B/s]"
      ]
     },
     "metadata": {},
     "output_type": "display_data"
    },
    {
     "data": {
      "application/vnd.jupyter.widget-view+json": {
       "model_id": "2b33ef79db01433b9ab7fb6cfdc767d3",
       "version_major": 2,
       "version_minor": 0
      },
      "text/plain": [
       "tokenizer.json:   0%|          | 0.00/709k [00:00<?, ?B/s]"
      ]
     },
     "metadata": {},
     "output_type": "display_data"
    },
    {
     "data": {
      "application/vnd.jupyter.widget-view+json": {
       "model_id": "f66caf0bc0d64349953c772b447b474b",
       "version_major": 2,
       "version_minor": 0
      },
      "text/plain": [
       "tokenizer_config.json:   0%|          | 0.00/394 [00:00<?, ?B/s]"
      ]
     },
     "metadata": {},
     "output_type": "display_data"
    },
    {
     "data": {
      "application/vnd.jupyter.widget-view+json": {
       "model_id": "9b3f67dca3d745b88a20d8fca666d8f4",
       "version_major": 2,
       "version_minor": 0
      },
      "text/plain": [
       "vocab.txt:   0%|          | 0.00/229k [00:00<?, ?B/s]"
      ]
     },
     "metadata": {},
     "output_type": "display_data"
    },
    {
     "data": {
      "application/vnd.jupyter.widget-view+json": {
       "model_id": "1c7a11bfe30c4086a15612af1a1a86a6",
       "version_major": 2,
       "version_minor": 0
      },
      "text/plain": [
       "modules.json:   0%|          | 0.00/229 [00:00<?, ?B/s]"
      ]
     },
     "metadata": {},
     "output_type": "display_data"
    },
    {
     "name": "stdout",
     "output_type": "stream",
     "text": [
      "load INSTRUCTOR_Transformer\n",
      "max_seq_length  512\n",
      "CPU times: user 1.6 s, sys: 1.52 s, total: 3.12 s\n",
      "Wall time: 15 s\n"
     ]
    }
   ],
   "source": [
    "%%time\n",
    "\n",
    "instructor_embeddings = HuggingFaceInstructEmbeddings(model_name=\"LazarusNLP/simcse-indobert-base\", model_kwargs={\"device\": \"cuda\"})\n",
    "\n",
    "vectordb = Chroma(persist_directory='mk-vectordb-chroma',embedding_function=instructor_embeddings,)\n",
    "#vectordb.persist()"
   ]
  },
  {
   "cell_type": "code",
   "execution_count": 13,
   "id": "7de3f58f",
   "metadata": {
    "execution": {
     "iopub.execute_input": "2024-01-07T05:42:22.536855Z",
     "iopub.status.busy": "2024-01-07T05:42:22.536522Z",
     "iopub.status.idle": "2024-01-07T05:42:22.543557Z",
     "shell.execute_reply": "2024-01-07T05:42:22.542673Z"
    },
    "papermill": {
     "duration": 0.038931,
     "end_time": "2024-01-07T05:42:22.545480",
     "exception": false,
     "start_time": "2024-01-07T05:42:22.506549",
     "status": "completed"
    },
    "tags": []
   },
   "outputs": [
    {
     "name": "stdout",
     "output_type": "stream",
     "text": [
      "CPU times: user 58 µs, sys: 1.07 ms, total: 1.13 ms\n",
      "Wall time: 1.14 ms\n"
     ]
    }
   ],
   "source": [
    "%%time\n",
    "retriever = vectordb.as_retriever(search_kwargs={\"k\": 3})\n",
    "#retriever = vectordb.as_retriever(search_type=\"mmr\", search_kwargs={\"k\": 6, \"lambda_mult\": 0.25})\n",
    "\n",
    "qa_chain = RetrievalQA.from_chain_type(llm=llm, \n",
    "                                       chain_type=\"stuff\", \n",
    "                                       retriever=retriever, \n",
    "                                       return_source_documents=True,\n",
    "                                       verbose=False)"
   ]
  },
  {
   "cell_type": "code",
   "execution_count": 14,
   "id": "8ca15d46",
   "metadata": {
    "execution": {
     "iopub.execute_input": "2024-01-07T05:42:22.604334Z",
     "iopub.status.busy": "2024-01-07T05:42:22.603817Z",
     "iopub.status.idle": "2024-01-07T05:42:22.610784Z",
     "shell.execute_reply": "2024-01-07T05:42:22.609794Z"
    },
    "papermill": {
     "duration": 0.0388,
     "end_time": "2024-01-07T05:42:22.612848",
     "exception": false,
     "start_time": "2024-01-07T05:42:22.574048",
     "status": "completed"
    },
    "tags": []
   },
   "outputs": [
    {
     "data": {
      "text/plain": [
       "RetrievalQA(combine_documents_chain=StuffDocumentsChain(llm_chain=LLMChain(prompt=PromptTemplate(input_variables=['context', 'question'], template=\"Use the following pieces of context to answer the question at the end. If you don't know the answer, just say that you don't know, don't try to make up an answer.\\n\\n{context}\\n\\nQuestion: {question}\\nHelpful Answer:\"), llm=GPT4All(model='/kaggle/working/mistral-7b-instruct-v0.1.Q4_0.gguf', client=<gpt4all.gpt4all.GPT4All object at 0x786c517fabf0>)), document_variable_name='context'), return_source_documents=True, retriever=VectorStoreRetriever(tags=['Chroma', 'HuggingFaceInstructEmbeddings'], vectorstore=<langchain_community.vectorstores.chroma.Chroma object at 0x786c4e49ea70>, search_kwargs={'k': 3}))"
      ]
     },
     "execution_count": 14,
     "metadata": {},
     "output_type": "execute_result"
    }
   ],
   "source": [
    "qa_chain"
   ]
  },
  {
   "cell_type": "code",
   "execution_count": 15,
   "id": "0e63154c",
   "metadata": {
    "execution": {
     "iopub.execute_input": "2024-01-07T05:42:22.674792Z",
     "iopub.status.busy": "2024-01-07T05:42:22.674340Z",
     "iopub.status.idle": "2024-01-07T05:42:22.680553Z",
     "shell.execute_reply": "2024-01-07T05:42:22.679701Z"
    },
    "papermill": {
     "duration": 0.039916,
     "end_time": "2024-01-07T05:42:22.682517",
     "exception": false,
     "start_time": "2024-01-07T05:42:22.642601",
     "status": "completed"
    },
    "tags": []
   },
   "outputs": [],
   "source": [
    "def wrap_text_preserve_newlines(text, width=110):\n",
    "    # Split the input text into lines based on newline characters\n",
    "    lines = text.split('\\n')\n",
    "\n",
    "    # Wrap each line individually\n",
    "    wrapped_lines = [textwrap.fill(line, width=width) for line in lines]\n",
    "\n",
    "    # Join the wrapped lines back together using newline characters\n",
    "    wrapped_text = '\\n'.join(wrapped_lines)\n",
    "\n",
    "    return wrapped_text\n",
    "\n",
    "def process_llm_response(llm_response):\n",
    "    print(wrap_text_preserve_newlines(llm_response['result']))\n",
    "    print('\\n\\nSources:')\n",
    "    for source in llm_response[\"source_documents\"]:\n",
    "        print(source.metadata['source'])"
   ]
  },
  {
   "cell_type": "code",
   "execution_count": 16,
   "id": "94bdc070",
   "metadata": {
    "execution": {
     "iopub.execute_input": "2024-01-07T05:42:22.750728Z",
     "iopub.status.busy": "2024-01-07T05:42:22.750189Z",
     "iopub.status.idle": "2024-01-07T05:42:22.754712Z",
     "shell.execute_reply": "2024-01-07T05:42:22.753945Z"
    },
    "papermill": {
     "duration": 0.036786,
     "end_time": "2024-01-07T05:42:22.756614",
     "exception": false,
     "start_time": "2024-01-07T05:42:22.719828",
     "status": "completed"
    },
    "tags": []
   },
   "outputs": [],
   "source": [
    "def llm_ans(query):\n",
    "    llm_response = qa_chain(query)\n",
    "    ans = process_llm_response(llm_response)\n",
    "    return ans"
   ]
  },
  {
   "cell_type": "code",
   "execution_count": 17,
   "id": "b27acca3",
   "metadata": {
    "execution": {
     "iopub.execute_input": "2024-01-07T05:42:22.817978Z",
     "iopub.status.busy": "2024-01-07T05:42:22.817418Z",
     "iopub.status.idle": "2024-01-07T05:42:22.821153Z",
     "shell.execute_reply": "2024-01-07T05:42:22.820315Z"
    },
    "papermill": {
     "duration": 0.036548,
     "end_time": "2024-01-07T05:42:22.823013",
     "exception": false,
     "start_time": "2024-01-07T05:42:22.786465",
     "status": "completed"
    },
    "tags": []
   },
   "outputs": [],
   "source": [
    "#model"
   ]
  },
  {
   "cell_type": "code",
   "execution_count": 18,
   "id": "1dd4894e",
   "metadata": {
    "execution": {
     "iopub.execute_input": "2024-01-07T05:42:22.885095Z",
     "iopub.status.busy": "2024-01-07T05:42:22.884803Z",
     "iopub.status.idle": "2024-01-07T05:42:22.969991Z",
     "shell.execute_reply": "2024-01-07T05:42:22.969192Z"
    },
    "papermill": {
     "duration": 0.119889,
     "end_time": "2024-01-07T05:42:22.972290",
     "exception": false,
     "start_time": "2024-01-07T05:42:22.852401",
     "status": "completed"
    },
    "tags": []
   },
   "outputs": [
    {
     "data": {
      "text/html": [
       "<div>\n",
       "<style scoped>\n",
       "    .dataframe tbody tr th:only-of-type {\n",
       "        vertical-align: middle;\n",
       "    }\n",
       "\n",
       "    .dataframe tbody tr th {\n",
       "        vertical-align: top;\n",
       "    }\n",
       "\n",
       "    .dataframe thead th {\n",
       "        text-align: right;\n",
       "    }\n",
       "</style>\n",
       "<table border=\"1\" class=\"dataframe\">\n",
       "  <thead>\n",
       "    <tr style=\"text-align: right;\">\n",
       "      <th></th>\n",
       "      <th>no</th>\n",
       "      <th>question</th>\n",
       "      <th>a</th>\n",
       "      <th>b</th>\n",
       "      <th>c</th>\n",
       "      <th>d</th>\n",
       "      <th>e</th>\n",
       "      <th>answer</th>\n",
       "      <th>explained</th>\n",
       "      <th>source</th>\n",
       "      <th>qa_comb</th>\n",
       "    </tr>\n",
       "  </thead>\n",
       "  <tbody>\n",
       "    <tr>\n",
       "      <th>0</th>\n",
       "      <td>1</td>\n",
       "      <td>Berdasarkan Pasal 24C ayat (1) Undang-Undang D...</td>\n",
       "      <td>Mahkamah Agung berwenang mengadili pada tingka...</td>\n",
       "      <td>Mahkamah Konstitusi berwenang mengadili pada t...</td>\n",
       "      <td>Kepolisian Negara Indonesia mengadili pada tin...</td>\n",
       "      <td>Presiden Republik Indonesia mengadili pada tin...</td>\n",
       "      <td>Tentara Negara Indonesia mengadili pada tingka...</td>\n",
       "      <td>b</td>\n",
       "      <td>Mahkamah Konstitusi berwenang mengadili pada t...</td>\n",
       "      <td>3282_putusan_mkri_6516.pdf</td>\n",
       "      <td>Berdasarkan Pasal 24C ayat (1) Undang-Undang D...</td>\n",
       "    </tr>\n",
       "    <tr>\n",
       "      <th>1</th>\n",
       "      <td>2</td>\n",
       "      <td>Permohonan diajukan dalam jangka waktu paling ...</td>\n",
       "      <td>Pasal 70 ayat (3) UU MK, Pasal 111 ayat (2) UU...</td>\n",
       "      <td>Pasal 74 ayat (3) UU MK, Pasal 474 ayat (2) UU...</td>\n",
       "      <td>Pasal 74 ayat (3) UU MK, Pasal 474 ayat (2) UU...</td>\n",
       "      <td>Pasal 74 ayat (3) UU MK, Pasal 474 ayat (2) UU...</td>\n",
       "      <td>Pasal 74 ayat (3) UU MK, Pasal 474 ayat (2) UU...</td>\n",
       "      <td>d</td>\n",
       "      <td>Bahwa berdasarkan Pasal 74 ayat (3) UU MK, Pas...</td>\n",
       "      <td>3270_putusan_mkri_6508.pdf</td>\n",
       "      <td>Permohonan diajukan dalam jangka waktu paling ...</td>\n",
       "    </tr>\n",
       "    <tr>\n",
       "      <th>2</th>\n",
       "      <td>3</td>\n",
       "      <td>Pasal 1 ayat (3) UUD 1945 yang berbunyi…</td>\n",
       "      <td>Negara Indonesia adalah negara Hukum</td>\n",
       "      <td>Negara Indonesia adalah negara Islam</td>\n",
       "      <td>Negara Indonesia adalah negara liberal</td>\n",
       "      <td>Negara Indonesia adalah negara kepulauan</td>\n",
       "      <td>Negara Indonesia adalah negara Kristen</td>\n",
       "      <td>a</td>\n",
       "      <td>Pasal 1 ayat (3) UUD 1945 yang berbunyi \"Negar...</td>\n",
       "      <td>1338_putusan_sidang_114%20PUU%202012%20-%20KUH...</td>\n",
       "      <td>Pasal 1 ayat (3) UUD 1945 yang berbunyi…\\n A. ...</td>\n",
       "    </tr>\n",
       "    <tr>\n",
       "      <th>3</th>\n",
       "      <td>4</td>\n",
       "      <td>Bahwa dengan demikian norma Pasal 244 KUHAP te...</td>\n",
       "      <td>Pasal 21D ayat (1) UUD 1945</td>\n",
       "      <td>Pasal 22D ayat (1) UUD 1945</td>\n",
       "      <td>Pasal 23D ayat (1) UUD 1945</td>\n",
       "      <td>Pasal 24D ayat (1) UUD 1945</td>\n",
       "      <td>Pasal 28D ayat (1) UUD 1945</td>\n",
       "      <td>e</td>\n",
       "      <td>Bahwa dengan demikian norma Pasal 244 KUHAP te...</td>\n",
       "      <td>1338_putusan_sidang_114%2520PUU%25202012%2520-...</td>\n",
       "      <td>Bahwa dengan demikian norma Pasal 244 KUHAP te...</td>\n",
       "    </tr>\n",
       "    <tr>\n",
       "      <th>4</th>\n",
       "      <td>5</td>\n",
       "      <td>Bunyi rumusan Pasal 244 KUHAP...</td>\n",
       "      <td>Keputusan perkara pidana tidak dapat diberikan...</td>\n",
       "      <td>Terhadap putusan perkara pidana yang diberikan...</td>\n",
       "      <td>Terhadap putusan perkara pidana yang diberikan...</td>\n",
       "      <td>Mengenai kedudukan hukum para Pemohon Pemerint...</td>\n",
       "      <td>NaN</td>\n",
       "      <td>c</td>\n",
       "      <td>Bunyi rumusan Pasal 244 KUHAP adalah \"Terhadap...</td>\n",
       "      <td>1338_putusan_sidang_114%2520PUU%25202012%2520-...</td>\n",
       "      <td>Bunyi rumusan Pasal 244 KUHAP...\\n A.  Keputus...</td>\n",
       "    </tr>\n",
       "    <tr>\n",
       "      <th>...</th>\n",
       "      <td>...</td>\n",
       "      <td>...</td>\n",
       "      <td>...</td>\n",
       "      <td>...</td>\n",
       "      <td>...</td>\n",
       "      <td>...</td>\n",
       "      <td>...</td>\n",
       "      <td>...</td>\n",
       "      <td>...</td>\n",
       "      <td>...</td>\n",
       "      <td>...</td>\n",
       "    </tr>\n",
       "    <tr>\n",
       "      <th>95</th>\n",
       "      <td>96</td>\n",
       "      <td>Governors, regents and mayors, respectively, a...</td>\n",
       "      <td>1945 Constitution Article 18 paragraph (4)</td>\n",
       "      <td>1945 Constitution Article 22E paragraph (1)</td>\n",
       "      <td>1945 Constitution Article 27 paragraph (1)</td>\n",
       "      <td>1945 Constitution Article 28C paragraph (2)</td>\n",
       "      <td>1945 Constitution Article 28D paragraph (1)</td>\n",
       "      <td>a</td>\n",
       "      <td>1945 Constitution Article 18 paragraph (4): Go...</td>\n",
       "      <td>526_putusan_sidang_PUTUSAN%2520PUU%2520TOLI-TO...</td>\n",
       "      <td>Governors, regents and mayors, respectively, a...</td>\n",
       "    </tr>\n",
       "    <tr>\n",
       "      <th>96</th>\n",
       "      <td>97</td>\n",
       "      <td>General elections are held directly, publicly,...</td>\n",
       "      <td>1946 Constitution Article 18 paragraph (4)</td>\n",
       "      <td>1946 Constitution Article 22E paragraph (1)</td>\n",
       "      <td>1946 Constitution Article 27 paragraph (1)</td>\n",
       "      <td>1946 Constitution Article 28C paragraph (2)</td>\n",
       "      <td>1946 Constitution Article 28D paragraph (1)</td>\n",
       "      <td>b</td>\n",
       "      <td>1945 Constitution Article 22E paragraph (1): G...</td>\n",
       "      <td>526_putusan_sidang_PUTUSAN%2520PUU%2520TOLI-TO...</td>\n",
       "      <td>General elections are held directly, publicly,...</td>\n",
       "    </tr>\n",
       "    <tr>\n",
       "      <th>97</th>\n",
       "      <td>98</td>\n",
       "      <td>All citizens have the same position under the ...</td>\n",
       "      <td>1947 Constitution Article 18 paragraph (4)</td>\n",
       "      <td>1947 Constitution Article 22E paragraph (1)</td>\n",
       "      <td>1947 Constitution Article 27 paragraph (1)</td>\n",
       "      <td>1947 Constitution Article 28C paragraph (2)</td>\n",
       "      <td>1947 Constitution Article 28D paragraph (1)</td>\n",
       "      <td>c</td>\n",
       "      <td>1945 Constitution Article 27 paragraph (1): Al...</td>\n",
       "      <td>526_putusan_sidang_PUTUSAN%2520PUU%2520TOLI-TO...</td>\n",
       "      <td>All citizens have the same position under the ...</td>\n",
       "    </tr>\n",
       "    <tr>\n",
       "      <th>98</th>\n",
       "      <td>99</td>\n",
       "      <td>Everyone has the right to advance themselves i...</td>\n",
       "      <td>1948 Constitution Article 18 paragraph (4)</td>\n",
       "      <td>1948 Constitution Article 22E paragraph (1)</td>\n",
       "      <td>1948 Constitution Article 27 paragraph (1)</td>\n",
       "      <td>1948 Constitution Article 28C paragraph (2)</td>\n",
       "      <td>1948 Constitution Article 28D paragraph (1)</td>\n",
       "      <td>d</td>\n",
       "      <td>1945 Constitution Article 28C paragraph (2): E...</td>\n",
       "      <td>526_putusan_sidang_PUTUSAN%2520PUU%2520TOLI-TO...</td>\n",
       "      <td>Everyone has the right to advance themselves i...</td>\n",
       "    </tr>\n",
       "    <tr>\n",
       "      <th>99</th>\n",
       "      <td>100</td>\n",
       "      <td>Every person has the right to recognition, gua...</td>\n",
       "      <td>1949 Constitution Article 18 paragraph (4)</td>\n",
       "      <td>1949 Constitution Article 22E paragraph (1)</td>\n",
       "      <td>1949 Constitution Article 27 paragraph (1)</td>\n",
       "      <td>1949 Constitution Article 28C paragraph (2)</td>\n",
       "      <td>1949 Constitution Article 28D paragraph (1)</td>\n",
       "      <td>e</td>\n",
       "      <td>1945 Constitution Article 28D paragraph (1): E...</td>\n",
       "      <td>526_putusan_sidang_PUTUSAN%2520PUU%2520TOLI-TO...</td>\n",
       "      <td>Every person has the right to recognition, gua...</td>\n",
       "    </tr>\n",
       "  </tbody>\n",
       "</table>\n",
       "<p>100 rows × 11 columns</p>\n",
       "</div>"
      ],
      "text/plain": [
       "     no                                           question  \\\n",
       "0     1  Berdasarkan Pasal 24C ayat (1) Undang-Undang D...   \n",
       "1     2  Permohonan diajukan dalam jangka waktu paling ...   \n",
       "2     3           Pasal 1 ayat (3) UUD 1945 yang berbunyi…   \n",
       "3     4  Bahwa dengan demikian norma Pasal 244 KUHAP te...   \n",
       "4     5                   Bunyi rumusan Pasal 244 KUHAP...   \n",
       "..  ...                                                ...   \n",
       "95   96  Governors, regents and mayors, respectively, a...   \n",
       "96   97  General elections are held directly, publicly,...   \n",
       "97   98  All citizens have the same position under the ...   \n",
       "98   99  Everyone has the right to advance themselves i...   \n",
       "99  100  Every person has the right to recognition, gua...   \n",
       "\n",
       "                                                    a  \\\n",
       "0   Mahkamah Agung berwenang mengadili pada tingka...   \n",
       "1   Pasal 70 ayat (3) UU MK, Pasal 111 ayat (2) UU...   \n",
       "2                Negara Indonesia adalah negara Hukum   \n",
       "3                         Pasal 21D ayat (1) UUD 1945   \n",
       "4   Keputusan perkara pidana tidak dapat diberikan...   \n",
       "..                                                ...   \n",
       "95         1945 Constitution Article 18 paragraph (4)   \n",
       "96         1946 Constitution Article 18 paragraph (4)   \n",
       "97         1947 Constitution Article 18 paragraph (4)   \n",
       "98         1948 Constitution Article 18 paragraph (4)   \n",
       "99         1949 Constitution Article 18 paragraph (4)   \n",
       "\n",
       "                                                    b  \\\n",
       "0   Mahkamah Konstitusi berwenang mengadili pada t...   \n",
       "1   Pasal 74 ayat (3) UU MK, Pasal 474 ayat (2) UU...   \n",
       "2                Negara Indonesia adalah negara Islam   \n",
       "3                         Pasal 22D ayat (1) UUD 1945   \n",
       "4   Terhadap putusan perkara pidana yang diberikan...   \n",
       "..                                                ...   \n",
       "95        1945 Constitution Article 22E paragraph (1)   \n",
       "96        1946 Constitution Article 22E paragraph (1)   \n",
       "97        1947 Constitution Article 22E paragraph (1)   \n",
       "98        1948 Constitution Article 22E paragraph (1)   \n",
       "99        1949 Constitution Article 22E paragraph (1)   \n",
       "\n",
       "                                                    c  \\\n",
       "0   Kepolisian Negara Indonesia mengadili pada tin...   \n",
       "1   Pasal 74 ayat (3) UU MK, Pasal 474 ayat (2) UU...   \n",
       "2              Negara Indonesia adalah negara liberal   \n",
       "3                         Pasal 23D ayat (1) UUD 1945   \n",
       "4   Terhadap putusan perkara pidana yang diberikan...   \n",
       "..                                                ...   \n",
       "95         1945 Constitution Article 27 paragraph (1)   \n",
       "96         1946 Constitution Article 27 paragraph (1)   \n",
       "97         1947 Constitution Article 27 paragraph (1)   \n",
       "98         1948 Constitution Article 27 paragraph (1)   \n",
       "99         1949 Constitution Article 27 paragraph (1)   \n",
       "\n",
       "                                                    d  \\\n",
       "0   Presiden Republik Indonesia mengadili pada tin...   \n",
       "1   Pasal 74 ayat (3) UU MK, Pasal 474 ayat (2) UU...   \n",
       "2            Negara Indonesia adalah negara kepulauan   \n",
       "3                         Pasal 24D ayat (1) UUD 1945   \n",
       "4   Mengenai kedudukan hukum para Pemohon Pemerint...   \n",
       "..                                                ...   \n",
       "95        1945 Constitution Article 28C paragraph (2)   \n",
       "96        1946 Constitution Article 28C paragraph (2)   \n",
       "97        1947 Constitution Article 28C paragraph (2)   \n",
       "98        1948 Constitution Article 28C paragraph (2)   \n",
       "99        1949 Constitution Article 28C paragraph (2)   \n",
       "\n",
       "                                                    e answer  \\\n",
       "0   Tentara Negara Indonesia mengadili pada tingka...      b   \n",
       "1   Pasal 74 ayat (3) UU MK, Pasal 474 ayat (2) UU...      d   \n",
       "2              Negara Indonesia adalah negara Kristen      a   \n",
       "3                         Pasal 28D ayat (1) UUD 1945      e   \n",
       "4                                                 NaN      c   \n",
       "..                                                ...    ...   \n",
       "95        1945 Constitution Article 28D paragraph (1)      a   \n",
       "96        1946 Constitution Article 28D paragraph (1)      b   \n",
       "97        1947 Constitution Article 28D paragraph (1)      c   \n",
       "98        1948 Constitution Article 28D paragraph (1)      d   \n",
       "99        1949 Constitution Article 28D paragraph (1)      e   \n",
       "\n",
       "                                            explained  \\\n",
       "0   Mahkamah Konstitusi berwenang mengadili pada t...   \n",
       "1   Bahwa berdasarkan Pasal 74 ayat (3) UU MK, Pas...   \n",
       "2   Pasal 1 ayat (3) UUD 1945 yang berbunyi \"Negar...   \n",
       "3   Bahwa dengan demikian norma Pasal 244 KUHAP te...   \n",
       "4   Bunyi rumusan Pasal 244 KUHAP adalah \"Terhadap...   \n",
       "..                                                ...   \n",
       "95  1945 Constitution Article 18 paragraph (4): Go...   \n",
       "96  1945 Constitution Article 22E paragraph (1): G...   \n",
       "97  1945 Constitution Article 27 paragraph (1): Al...   \n",
       "98  1945 Constitution Article 28C paragraph (2): E...   \n",
       "99  1945 Constitution Article 28D paragraph (1): E...   \n",
       "\n",
       "                                               source  \\\n",
       "0                          3282_putusan_mkri_6516.pdf   \n",
       "1                          3270_putusan_mkri_6508.pdf   \n",
       "2   1338_putusan_sidang_114%20PUU%202012%20-%20KUH...   \n",
       "3   1338_putusan_sidang_114%2520PUU%25202012%2520-...   \n",
       "4   1338_putusan_sidang_114%2520PUU%25202012%2520-...   \n",
       "..                                                ...   \n",
       "95  526_putusan_sidang_PUTUSAN%2520PUU%2520TOLI-TO...   \n",
       "96  526_putusan_sidang_PUTUSAN%2520PUU%2520TOLI-TO...   \n",
       "97  526_putusan_sidang_PUTUSAN%2520PUU%2520TOLI-TO...   \n",
       "98  526_putusan_sidang_PUTUSAN%2520PUU%2520TOLI-TO...   \n",
       "99  526_putusan_sidang_PUTUSAN%2520PUU%2520TOLI-TO...   \n",
       "\n",
       "                                              qa_comb  \n",
       "0   Berdasarkan Pasal 24C ayat (1) Undang-Undang D...  \n",
       "1   Permohonan diajukan dalam jangka waktu paling ...  \n",
       "2   Pasal 1 ayat (3) UUD 1945 yang berbunyi…\\n A. ...  \n",
       "3   Bahwa dengan demikian norma Pasal 244 KUHAP te...  \n",
       "4   Bunyi rumusan Pasal 244 KUHAP...\\n A.  Keputus...  \n",
       "..                                                ...  \n",
       "95  Governors, regents and mayors, respectively, a...  \n",
       "96  General elections are held directly, publicly,...  \n",
       "97  All citizens have the same position under the ...  \n",
       "98  Everyone has the right to advance themselves i...  \n",
       "99  Every person has the right to recognition, gua...  \n",
       "\n",
       "[100 rows x 11 columns]"
      ]
     },
     "execution_count": 18,
     "metadata": {},
     "output_type": "execute_result"
    }
   ],
   "source": [
    "dataset = pd.read_csv('/kaggle/input/mkri-qa-3/dataset.csv',sep=';')\n",
    "dataset"
   ]
  },
  {
   "cell_type": "code",
   "execution_count": 19,
   "id": "c4cd7a8c",
   "metadata": {
    "execution": {
     "iopub.execute_input": "2024-01-07T05:42:23.039412Z",
     "iopub.status.busy": "2024-01-07T05:42:23.039103Z",
     "iopub.status.idle": "2024-01-07T08:09:24.680299Z",
     "shell.execute_reply": "2024-01-07T08:09:24.679382Z"
    },
    "papermill": {
     "duration": 8821.724271,
     "end_time": "2024-01-07T08:09:24.730255",
     "exception": false,
     "start_time": "2024-01-07T05:42:23.005984",
     "status": "completed"
    },
    "tags": []
   },
   "outputs": [
    {
     "name": "stdout",
     "output_type": "stream",
     "text": [
      "Nomor:  1\n",
      "Berdasarkan Pasal 24C ayat (1) Undang-Undang Dasar Negara Republik Indonesia Tahun 1945 (selanjutnya disebut UUD 1945) menyatakan bahwa...\\n A.  Mahkamah Agung berwenang mengadili pada tingkat pertama dan terakhir yang putusannya bersifat final, antara lain, untuk memutus perselisihan tentang hasil pemilihan umum\\n B.  Mahkamah Konstitusi berwenang mengadili pada tingkat pertama dan terakhir yang putusannya bersifat final, antara lain, untuk memutus perselisihan tentang hasil pemilihan umum\\n C.  Kepolisian Negara Indonesia mengadili pada tingkat pertama dan terakhir yang putusannya bersifat final, antara lain, untuk memutus perselisihan tentang hasil pemilihan umum\\n D.  Presiden Republik Indonesia mengadili pada tingkat pertama dan terakhir yang putusannya bersifat final, antara lain, untuk memutus perselisihan tentang hasil pemilihan umum\\n E.  Tentara Negara Indonesia mengadili pada tingkat pertama dan terakhir yang putusannya bersifat final, antara lain, untuk memutus perselisihan tentang hasil pemilihan umum\n"
     ]
    },
    {
     "name": "stderr",
     "output_type": "stream",
     "text": [
      "/opt/conda/lib/python3.10/site-packages/langchain_core/_api/deprecation.py:189: LangChainDeprecationWarning: The function `__call__` was deprecated in LangChain 0.1.0 and will be removed in 0.2.0. Use invoke instead.\n",
      "  warn_deprecated(\n",
      "/opt/conda/lib/python3.10/site-packages/langchain_core/_api/deprecation.py:189: LangChainDeprecationWarning: The function `run` was deprecated in LangChain 0.1.0 and will be removed in 0.2.0. Use invoke instead.\n",
      "  warn_deprecated(\n",
      "/opt/conda/lib/python3.10/site-packages/langchain_core/_api/deprecation.py:189: LangChainDeprecationWarning: The function `__call__` was deprecated in LangChain 0.1.0 and will be removed in 0.2.0. Use invoke instead.\n",
      "  warn_deprecated(\n",
      "/opt/conda/lib/python3.10/site-packages/langchain_core/_api/deprecation.py:189: LangChainDeprecationWarning: The function `__call__` was deprecated in LangChain 0.1.0 and will be removed in 0.2.0. Use invoke instead.\n",
      "  warn_deprecated(\n"
     ]
    },
    {
     "name": "stdout",
     "output_type": "stream",
     "text": [
      " B. Mahkamah Konstitusi berwenang mengadili pada tingkat pertama dan terakhir yang putusannya bersifat final,\n",
      "antara lain, untuk memutus perselisihan tentang hasil pemilihan umum\n",
      "\n",
      "\n",
      "Sources:\n",
      "Time:  170.88789868354797\n",
      "==============================================\n",
      "Nomor:  2\n",
      "Permohonan diajukan dalam jangka waktu paling lama 3 X 24 (tiga kali dua puluh empat) jam sejak diumumkan penetapan perolehan suara hasil Pemilu Anggota DPR dan DPRD secara nasional oleh KPU, Isi dari pernyataan ini ada di pasal…\\n A.  Pasal 70 ayat (3) UU MK, Pasal 111 ayat (2) UU Pemilu, dan Pasal 6 ayat (1) PMK Nomor 2 Tahun 2018\\n B.  Pasal 74 ayat (3) UU MK, Pasal 474 ayat (2) UU Pemilu, dan Pasal 2 ayat (1) PMK Nomor 2 Tahun 2011\\n C.  Pasal 74 ayat (3) UU MK, Pasal 474 ayat (2) UU Pemilu, dan Pasal 1 ayat (1) PMK Nomor 2 Tahun 2018\\n D.  Pasal 74 ayat (3) UU MK, Pasal 474 ayat (2) UU Pemilu, dan Pasal 6 ayat (1) PMK Nomor 2 Tahun 2018\\n E.  Pasal 74 ayat (3) UU MK, Pasal 474 ayat (2) UU Pemilu, dan Pasal 4 ayat (1) PMK Nomor 2 Tahun 2018\n"
     ]
    },
    {
     "name": "stderr",
     "output_type": "stream",
     "text": [
      "/opt/conda/lib/python3.10/site-packages/langchain_core/_api/deprecation.py:189: LangChainDeprecationWarning: The function `__call__` was deprecated in LangChain 0.1.0 and will be removed in 0.2.0. Use invoke instead.\n",
      "  warn_deprecated(\n",
      "/opt/conda/lib/python3.10/site-packages/langchain_core/_api/deprecation.py:189: LangChainDeprecationWarning: The function `run` was deprecated in LangChain 0.1.0 and will be removed in 0.2.0. Use invoke instead.\n",
      "  warn_deprecated(\n",
      "/opt/conda/lib/python3.10/site-packages/langchain_core/_api/deprecation.py:189: LangChainDeprecationWarning: The function `__call__` was deprecated in LangChain 0.1.0 and will be removed in 0.2.0. Use invoke instead.\n",
      "  warn_deprecated(\n",
      "/opt/conda/lib/python3.10/site-packages/langchain_core/_api/deprecation.py:189: LangChainDeprecationWarning: The function `__call__` was deprecated in LangChain 0.1.0 and will be removed in 0.2.0. Use invoke instead.\n",
      "  warn_deprecated(\n"
     ]
    },
    {
     "name": "stdout",
     "output_type": "stream",
     "text": [
      " D. Pasal 74 ayat (3) UU MK, Pasal 474 ayat (2) UU Pemilu, dan Pasal 6 ayat (1) PMK Nomor 2 Tahun 2018\n",
      "\n",
      "\n",
      "Sources:\n",
      "Time:  158.4162299633026\n",
      "==============================================\n",
      "Nomor:  3\n",
      "Pasal 1 ayat (3) UUD 1945 yang berbunyi…\\n A.  Negara Indonesia adalah negara Hukum\\n B.  Negara Indonesia adalah negara Islam\\n C.  Negara Indonesia adalah negara liberal\\n D.  Negara Indonesia adalah negara kepulauan\\n E.  Negara Indonesia adalah negara Kristen\n"
     ]
    },
    {
     "name": "stderr",
     "output_type": "stream",
     "text": [
      "/opt/conda/lib/python3.10/site-packages/langchain_core/_api/deprecation.py:189: LangChainDeprecationWarning: The function `__call__` was deprecated in LangChain 0.1.0 and will be removed in 0.2.0. Use invoke instead.\n",
      "  warn_deprecated(\n",
      "/opt/conda/lib/python3.10/site-packages/langchain_core/_api/deprecation.py:189: LangChainDeprecationWarning: The function `run` was deprecated in LangChain 0.1.0 and will be removed in 0.2.0. Use invoke instead.\n",
      "  warn_deprecated(\n",
      "/opt/conda/lib/python3.10/site-packages/langchain_core/_api/deprecation.py:189: LangChainDeprecationWarning: The function `__call__` was deprecated in LangChain 0.1.0 and will be removed in 0.2.0. Use invoke instead.\n",
      "  warn_deprecated(\n",
      "/opt/conda/lib/python3.10/site-packages/langchain_core/_api/deprecation.py:189: LangChainDeprecationWarning: The function `__call__` was deprecated in LangChain 0.1.0 and will be removed in 0.2.0. Use invoke instead.\n",
      "  warn_deprecated(\n"
     ]
    },
    {
     "name": "stdout",
     "output_type": "stream",
     "text": [
      " A. Negara Indonesia adalah negara Hukum\n",
      "\n",
      "\n",
      "Sources:\n",
      "Time:  51.119627952575684\n",
      "==============================================\n",
      "Nomor:  4\n",
      "Bahwa dengan demikian norma Pasal 244 KUHAP telah menimbulkan ketidak-pastian bagi Pemohon dan bahwa ketidak-pastian ini telah merugikan Hak Konstitusionalnya sebagaimana ditentukan dalam…\\n A.  Pasal 21D ayat (1) UUD 1945\\n B.  Pasal 22D ayat (1) UUD 1945\\n C.  Pasal 23D ayat (1) UUD 1945\\n D.  Pasal 24D ayat (1) UUD 1945\\n E.  Pasal 28D ayat (1) UUD 1945\n"
     ]
    },
    {
     "name": "stderr",
     "output_type": "stream",
     "text": [
      "/opt/conda/lib/python3.10/site-packages/langchain_core/_api/deprecation.py:189: LangChainDeprecationWarning: The function `__call__` was deprecated in LangChain 0.1.0 and will be removed in 0.2.0. Use invoke instead.\n",
      "  warn_deprecated(\n",
      "/opt/conda/lib/python3.10/site-packages/langchain_core/_api/deprecation.py:189: LangChainDeprecationWarning: The function `run` was deprecated in LangChain 0.1.0 and will be removed in 0.2.0. Use invoke instead.\n",
      "  warn_deprecated(\n",
      "/opt/conda/lib/python3.10/site-packages/langchain_core/_api/deprecation.py:189: LangChainDeprecationWarning: The function `__call__` was deprecated in LangChain 0.1.0 and will be removed in 0.2.0. Use invoke instead.\n",
      "  warn_deprecated(\n",
      "/opt/conda/lib/python3.10/site-packages/langchain_core/_api/deprecation.py:189: LangChainDeprecationWarning: The function `__call__` was deprecated in LangChain 0.1.0 and will be removed in 0.2.0. Use invoke instead.\n",
      "  warn_deprecated(\n"
     ]
    },
    {
     "name": "stdout",
     "output_type": "stream",
     "text": [
      " B. Pasal 22D ayat (1) UUD 1945\n",
      "\n",
      "\n",
      "Sources:\n",
      "Time:  80.31763744354248\n",
      "==============================================\n",
      "Nomor:  5\n",
      "Bunyi rumusan Pasal 244 KUHAP...\\n A.  Keputusan perkara pidana tidak dapat diberikan oleh Mahkamah Agung, hanya boleh diberikan oleh Mahkamah Konsitusi.\\n B.  Terhadap putusan perkara pidana yang diberikan pada tingkat terakhir oleh pengadilan lain selain daripada Mahkamah Agung, terdakwa atau Penuntut Umum dapat mengajukan permintaan pemeriksaan kasasi kepada Mahkamah Agung terhadap putusan bebas.\\n C.  Terhadap putusan perkara pidana yang diberikan pada tingkat terakhir oleh pengadilan lain selain daripada Mahkamah Agung, terdakwa atau Penuntut Umum dapat mengajukan permintaan pemeriksaan kasasi kepada Mahkamah Agung kecuali terhadap putusan bebas.\\n D.  Mengenai kedudukan hukum para Pemohon Pemerintah menyerahkansepenuhnya kepada Majelis Hakim untuk menilai dan memutusnya.\\n E.  \n"
     ]
    },
    {
     "name": "stderr",
     "output_type": "stream",
     "text": [
      "/opt/conda/lib/python3.10/site-packages/langchain_core/_api/deprecation.py:189: LangChainDeprecationWarning: The function `__call__` was deprecated in LangChain 0.1.0 and will be removed in 0.2.0. Use invoke instead.\n",
      "  warn_deprecated(\n",
      "/opt/conda/lib/python3.10/site-packages/langchain_core/_api/deprecation.py:189: LangChainDeprecationWarning: The function `run` was deprecated in LangChain 0.1.0 and will be removed in 0.2.0. Use invoke instead.\n",
      "  warn_deprecated(\n",
      "/opt/conda/lib/python3.10/site-packages/langchain_core/_api/deprecation.py:189: LangChainDeprecationWarning: The function `__call__` was deprecated in LangChain 0.1.0 and will be removed in 0.2.0. Use invoke instead.\n",
      "  warn_deprecated(\n",
      "/opt/conda/lib/python3.10/site-packages/langchain_core/_api/deprecation.py:189: LangChainDeprecationWarning: The function `__call__` was deprecated in LangChain 0.1.0 and will be removed in 0.2.0. Use invoke instead.\n",
      "  warn_deprecated(\n"
     ]
    },
    {
     "name": "stdout",
     "output_type": "stream",
     "text": [
      " B. Terhadap putusan perkara pidana yang diberikan pada tingkat terakhir oleh pengadilan lain selain daripada\n",
      "Mahkamah Agung, terdakwa atau Penuntut Umum dapat mengajukan permintaan pemeriksaan kasasi kepada Mahkamah\n",
      "Agung terhadap putusan bebas.\n",
      "\n",
      "\n",
      "Sources:\n",
      "Time:  149.86831164360046\n",
      "==============================================\n",
      "Nomor:  6\n",
      "Segala warga negara bersamaankedudukannya di dalam hukum dan Pemerintahan dan wajib menjunjung hukum dan pemerintahan itu dengan tidak ada kecualinya, ada pada pasal…\\n A.  Pasal 27 ayat (1)\\n B.  Pasal 28C ayat (2)\\n C.  Pasal 28D ayat (1)\\n D.  Pasal 28E ayat (3)\\n E.  Pasal 28I ayat (2)\n"
     ]
    },
    {
     "name": "stderr",
     "output_type": "stream",
     "text": [
      "/opt/conda/lib/python3.10/site-packages/langchain_core/_api/deprecation.py:189: LangChainDeprecationWarning: The function `__call__` was deprecated in LangChain 0.1.0 and will be removed in 0.2.0. Use invoke instead.\n",
      "  warn_deprecated(\n",
      "/opt/conda/lib/python3.10/site-packages/langchain_core/_api/deprecation.py:189: LangChainDeprecationWarning: The function `run` was deprecated in LangChain 0.1.0 and will be removed in 0.2.0. Use invoke instead.\n",
      "  warn_deprecated(\n",
      "/opt/conda/lib/python3.10/site-packages/langchain_core/_api/deprecation.py:189: LangChainDeprecationWarning: The function `__call__` was deprecated in LangChain 0.1.0 and will be removed in 0.2.0. Use invoke instead.\n",
      "  warn_deprecated(\n",
      "/opt/conda/lib/python3.10/site-packages/langchain_core/_api/deprecation.py:189: LangChainDeprecationWarning: The function `__call__` was deprecated in LangChain 0.1.0 and will be removed in 0.2.0. Use invoke instead.\n",
      "  warn_deprecated(\n"
     ]
    },
    {
     "name": "stdout",
     "output_type": "stream",
     "text": [
      " A.  Pasal 27 ayat (1)\n",
      "\n",
      "\n",
      "Sources:\n",
      "Time:  62.62567639350891\n",
      "==============================================\n",
      "Nomor:  7\n",
      "Setiap orang berhak untuk memajukan dirinya dalam memperjuangkan haknya secara kolektif untuk membangun masyarakat, bangsa, dan negaranya, ada pada pasal...\\n A.  Pasal 27 ayat (1)\\n B.  Pasal 28C ayat (2)\\n C.  Pasal 28D ayat (1)\\n D.  Pasal 28E ayat (3)\\n E.  Pasal 28I ayat (2)\n"
     ]
    },
    {
     "name": "stderr",
     "output_type": "stream",
     "text": [
      "/opt/conda/lib/python3.10/site-packages/langchain_core/_api/deprecation.py:189: LangChainDeprecationWarning: The function `__call__` was deprecated in LangChain 0.1.0 and will be removed in 0.2.0. Use invoke instead.\n",
      "  warn_deprecated(\n",
      "/opt/conda/lib/python3.10/site-packages/langchain_core/_api/deprecation.py:189: LangChainDeprecationWarning: The function `run` was deprecated in LangChain 0.1.0 and will be removed in 0.2.0. Use invoke instead.\n",
      "  warn_deprecated(\n",
      "/opt/conda/lib/python3.10/site-packages/langchain_core/_api/deprecation.py:189: LangChainDeprecationWarning: The function `__call__` was deprecated in LangChain 0.1.0 and will be removed in 0.2.0. Use invoke instead.\n",
      "  warn_deprecated(\n",
      "/opt/conda/lib/python3.10/site-packages/langchain_core/_api/deprecation.py:189: LangChainDeprecationWarning: The function `__call__` was deprecated in LangChain 0.1.0 and will be removed in 0.2.0. Use invoke instead.\n",
      "  warn_deprecated(\n"
     ]
    },
    {
     "name": "stdout",
     "output_type": "stream",
     "text": [
      " A.  Pasal 27 ayat (1)\n",
      "\n",
      "\n",
      "Sources:\n",
      "Time:  61.395004987716675\n",
      "==============================================\n",
      "Nomor:  8\n",
      "Setiap orang berhak atas pengakuan, jaminan, perlindungan dan kepastian hukum yang adil serta perlakuan yang sama di hadapan hukum, ada pada pasal…\\n A.  Pasal 27 ayat (1)\\n B.  Pasal 28C ayat (2)\\n C.  Pasal 28D ayat (1)\\n D.  Pasal 28E ayat (3)\\n E.  Pasal 28I ayat (2)\n"
     ]
    },
    {
     "name": "stderr",
     "output_type": "stream",
     "text": [
      "/opt/conda/lib/python3.10/site-packages/langchain_core/_api/deprecation.py:189: LangChainDeprecationWarning: The function `__call__` was deprecated in LangChain 0.1.0 and will be removed in 0.2.0. Use invoke instead.\n",
      "  warn_deprecated(\n",
      "/opt/conda/lib/python3.10/site-packages/langchain_core/_api/deprecation.py:189: LangChainDeprecationWarning: The function `run` was deprecated in LangChain 0.1.0 and will be removed in 0.2.0. Use invoke instead.\n",
      "  warn_deprecated(\n",
      "/opt/conda/lib/python3.10/site-packages/langchain_core/_api/deprecation.py:189: LangChainDeprecationWarning: The function `__call__` was deprecated in LangChain 0.1.0 and will be removed in 0.2.0. Use invoke instead.\n",
      "  warn_deprecated(\n",
      "/opt/conda/lib/python3.10/site-packages/langchain_core/_api/deprecation.py:189: LangChainDeprecationWarning: The function `__call__` was deprecated in LangChain 0.1.0 and will be removed in 0.2.0. Use invoke instead.\n",
      "  warn_deprecated(\n"
     ]
    },
    {
     "name": "stdout",
     "output_type": "stream",
     "text": [
      " A.  Pasal 27 ayat (1)\n",
      "\n",
      "\n",
      "Sources:\n",
      "Time:  61.18771767616272\n",
      "==============================================\n",
      "Nomor:  9\n",
      "Setiap orang berhak atas kebebasan berserikat, berkumpul, dan mengeluarkan pendapat, ada pada pasal…\\n A.  Pasal 27 ayat (1)\\n B.  Pasal 28C ayat (2)\\n C.  Pasal 28D ayat (1)\\n D.  Pasal 28E ayat (3)\\n E.  Pasal 28I ayat (2)\n"
     ]
    },
    {
     "name": "stderr",
     "output_type": "stream",
     "text": [
      "/opt/conda/lib/python3.10/site-packages/langchain_core/_api/deprecation.py:189: LangChainDeprecationWarning: The function `__call__` was deprecated in LangChain 0.1.0 and will be removed in 0.2.0. Use invoke instead.\n",
      "  warn_deprecated(\n",
      "/opt/conda/lib/python3.10/site-packages/langchain_core/_api/deprecation.py:189: LangChainDeprecationWarning: The function `run` was deprecated in LangChain 0.1.0 and will be removed in 0.2.0. Use invoke instead.\n",
      "  warn_deprecated(\n",
      "/opt/conda/lib/python3.10/site-packages/langchain_core/_api/deprecation.py:189: LangChainDeprecationWarning: The function `__call__` was deprecated in LangChain 0.1.0 and will be removed in 0.2.0. Use invoke instead.\n",
      "  warn_deprecated(\n",
      "/opt/conda/lib/python3.10/site-packages/langchain_core/_api/deprecation.py:189: LangChainDeprecationWarning: The function `__call__` was deprecated in LangChain 0.1.0 and will be removed in 0.2.0. Use invoke instead.\n",
      "  warn_deprecated(\n"
     ]
    },
    {
     "name": "stdout",
     "output_type": "stream",
     "text": [
      " A.  Pasal 27 ayat (1)\n",
      "\n",
      "\n",
      "Sources:\n",
      "Time:  57.39983630180359\n",
      "==============================================\n",
      "Nomor:  10\n",
      "Setiap orang berhak bebas dari perlakuan yang bersifat diskriminatif atas dasar apapun dan berhak mendapatkan perlindungan terhadap perlakuan yang bersifat diskriminatif itu, ada pada pasal...\\n A.  Pasal 27 ayat (1)\\n B.  Pasal 28C ayat (2)\\n C.  Pasal 28D ayat (1)\\n D.  Pasal 28E ayat (3)\\n E.  Pasal 28I ayat (2)\n"
     ]
    },
    {
     "name": "stderr",
     "output_type": "stream",
     "text": [
      "/opt/conda/lib/python3.10/site-packages/langchain_core/_api/deprecation.py:189: LangChainDeprecationWarning: The function `__call__` was deprecated in LangChain 0.1.0 and will be removed in 0.2.0. Use invoke instead.\n",
      "  warn_deprecated(\n",
      "/opt/conda/lib/python3.10/site-packages/langchain_core/_api/deprecation.py:189: LangChainDeprecationWarning: The function `run` was deprecated in LangChain 0.1.0 and will be removed in 0.2.0. Use invoke instead.\n",
      "  warn_deprecated(\n",
      "/opt/conda/lib/python3.10/site-packages/langchain_core/_api/deprecation.py:189: LangChainDeprecationWarning: The function `__call__` was deprecated in LangChain 0.1.0 and will be removed in 0.2.0. Use invoke instead.\n",
      "  warn_deprecated(\n",
      "/opt/conda/lib/python3.10/site-packages/langchain_core/_api/deprecation.py:189: LangChainDeprecationWarning: The function `__call__` was deprecated in LangChain 0.1.0 and will be removed in 0.2.0. Use invoke instead.\n",
      "  warn_deprecated(\n"
     ]
    },
    {
     "name": "stdout",
     "output_type": "stream",
     "text": [
      " A.  Pasal 27 ayat (1)\n",
      "\n",
      "\n",
      "Sources:\n",
      "Time:  66.23850083351135\n",
      "==============================================\n",
      "Nomor:  11\n",
      "Pemohon dapat menarik kembali permohonannya sebelum atau selama pemeriksaan Mahkamah Konstitusi dilakukan, dan penarikan kembali tersebut mengakibatkan permohonan tidak dapat diajukan kembali, ada di pasal...\\n A.  Pasal 31 Undang-Undang Nomor 24 Tahun 2003 tentang Mahkamah Konstitusi\\n B.  Pasal 32 Undang-Undang Nomor 24 Tahun 2003 tentang Mahkamah Konstitusi\\n C.  Pasal 35 Undang-Undang Nomor 23 Tahun 2003 tentang Mahkamah Konstitusi\\n D.  Pasal 35 Undang-Undang Nomor 24 Tahun 2003 tentang Mahkamah Konstitusi\\n E.  Pasal 35 Undang-Undang Nomor 25 Tahun 2003 tentang Mahkamah Konstitusi\n"
     ]
    },
    {
     "name": "stderr",
     "output_type": "stream",
     "text": [
      "/opt/conda/lib/python3.10/site-packages/langchain_core/_api/deprecation.py:189: LangChainDeprecationWarning: The function `__call__` was deprecated in LangChain 0.1.0 and will be removed in 0.2.0. Use invoke instead.\n",
      "  warn_deprecated(\n",
      "/opt/conda/lib/python3.10/site-packages/langchain_core/_api/deprecation.py:189: LangChainDeprecationWarning: The function `run` was deprecated in LangChain 0.1.0 and will be removed in 0.2.0. Use invoke instead.\n",
      "  warn_deprecated(\n",
      "/opt/conda/lib/python3.10/site-packages/langchain_core/_api/deprecation.py:189: LangChainDeprecationWarning: The function `__call__` was deprecated in LangChain 0.1.0 and will be removed in 0.2.0. Use invoke instead.\n",
      "  warn_deprecated(\n",
      "/opt/conda/lib/python3.10/site-packages/langchain_core/_api/deprecation.py:189: LangChainDeprecationWarning: The function `__call__` was deprecated in LangChain 0.1.0 and will be removed in 0.2.0. Use invoke instead.\n",
      "  warn_deprecated(\n"
     ]
    },
    {
     "name": "stdout",
     "output_type": "stream",
     "text": [
      " D. Pasal 35 Undang-Undang Nomor 24 Tahun 2003 tentang Mahkamah Konstitusi\n",
      "\n",
      "\n",
      "Sources:\n",
      "Time:  111.66397333145142\n",
      "==============================================\n",
      "Nomor:  12\n",
      "Tentang Pemilihan Umum Anggota DPR, DPD, dan DPRD menyebutkan bahwa peserta pemilu dan warga masyarakat melalui saksi peserta pemilu yang hadir dapat mengajukan keberatan terhadap jalannya dan hasil perhitungan suara di TPS, PPS, PPK, KPUD Kota/Kabupaten, KPU Provinsi, dan KPU Pusat apabila ternyata terdapat hal-hal yang tidak sesuai dengan peraturan perundang-undangan, ada pada...\\n A.  Pasal 96 ayat (8), Pasal 95 ayat (3), Pasal 98 ayat (3), Pasal 99 ayat (5), Pasal 100 ayat (5), dan Pasal 101 ayat (6)\\n B.  Pasal 96 ayat (8), Pasal 95 ayat (1), Pasal 98 ayat (3), Pasal 99 ayat (5), Pasal 100 ayat (5), dan Pasal 101 ayat (6)\\n C.  Pasal 96 ayat (8), Pasal 96 ayat (3), Pasal 98 ayat (3), Pasal 99 ayat (5), Pasal 100 ayat (5), dan Pasal 101 ayat (6)\\n D.  Pasal 96 ayat (8), Pasal 97 ayat (9), Pasal 98 ayat (3), Pasal 99 ayat (5), Pasal 100 ayat (5), dan Pasal 101 ayat (6)\\n E.  Pasal 96 ayat (8), Pasal 97 ayat (3), Pasal 98 ayat (3), Pasal 99 ayat (5), Pasal 100 ayat (5), dan Pasal 101 ayat (6)\n"
     ]
    },
    {
     "name": "stderr",
     "output_type": "stream",
     "text": [
      "/opt/conda/lib/python3.10/site-packages/langchain_core/_api/deprecation.py:189: LangChainDeprecationWarning: The function `__call__` was deprecated in LangChain 0.1.0 and will be removed in 0.2.0. Use invoke instead.\n",
      "  warn_deprecated(\n",
      "/opt/conda/lib/python3.10/site-packages/langchain_core/_api/deprecation.py:189: LangChainDeprecationWarning: The function `run` was deprecated in LangChain 0.1.0 and will be removed in 0.2.0. Use invoke instead.\n",
      "  warn_deprecated(\n",
      "/opt/conda/lib/python3.10/site-packages/langchain_core/_api/deprecation.py:189: LangChainDeprecationWarning: The function `__call__` was deprecated in LangChain 0.1.0 and will be removed in 0.2.0. Use invoke instead.\n",
      "  warn_deprecated(\n",
      "/opt/conda/lib/python3.10/site-packages/langchain_core/_api/deprecation.py:189: LangChainDeprecationWarning: The function `__call__` was deprecated in LangChain 0.1.0 and will be removed in 0.2.0. Use invoke instead.\n",
      "  warn_deprecated(\n"
     ]
    },
    {
     "name": "stdout",
     "output_type": "stream",
     "text": [
      " E. Pasal 96 ayat (8), Pasal 97 ayat (3), Pasal 98 ayat (3), Pasal 99 ayat (5), Pasal 100 ayat (5), dan Pasal\n",
      "101 ayat (6)\n",
      "\n",
      "\n",
      "Sources:\n",
      "Time:  188.12200093269348\n",
      "==============================================\n",
      "Nomor:  13\n",
      "Pada pokoknya menyebutkan permohonan hanya dapat dilakukan terhadap Penetapan hasil Pemilihan Umum yang dilakukan secara nasional oleh Komisi Pemilihan Umum yang mempengaruhi terpilihnya calon anggota DPD, Penentuan pasangan calon Presiden dan Wakil Presiden dan Perolehan Kursi Partai Politik, pada...\\n A.  Bahwa pasal 74 ayat (2) Undang-undang nomor 24 Tahun 2003 tentang Mahkamah Konstitusi, Undang-undang nomor 12 Tahun 2003 tentang Pemilihan Umum Anggota DPR, DPD, DPRD\\n B.  Bahwa pasal 73 ayat (2) Undang-undang nomor 24 Tahun 2003 tentang Mahkamah Konstitusi, Undang-undang nomor 12 Tahun 2003 tentang Pemilihan Umum Anggota DPR, DPD, DPRD\\n C.  Bahwa pasal 72 ayat (2) Undang-undang nomor 24 Tahun 2003 tentang Mahkamah Konstitusi, Undang-undang nomor 12 Tahun 2003 tentang Pemilihan Umum Anggota DPR, DPD, DPRD\\n D.  Bahwa pasal 71 ayat (2) Undang-undang nomor 24 Tahun 2003 tentang Mahkamah Konstitusi, Undang-undang nomor 12 Tahun 2003 tentang Pemilihan Umum Anggota DPR, DPD, DPRD\\n E.  Bahwa pasal 70 ayat (2) Undang-undang nomor 24 Tahun 2003 tentang Mahkamah Konstitusi, Undang-undang nomor 12 Tahun 2003 tentang Pemilihan Umum Anggota DPR, DPD, DPRD\n"
     ]
    },
    {
     "name": "stderr",
     "output_type": "stream",
     "text": [
      "/opt/conda/lib/python3.10/site-packages/langchain_core/_api/deprecation.py:189: LangChainDeprecationWarning: The function `__call__` was deprecated in LangChain 0.1.0 and will be removed in 0.2.0. Use invoke instead.\n",
      "  warn_deprecated(\n",
      "/opt/conda/lib/python3.10/site-packages/langchain_core/_api/deprecation.py:189: LangChainDeprecationWarning: The function `run` was deprecated in LangChain 0.1.0 and will be removed in 0.2.0. Use invoke instead.\n",
      "  warn_deprecated(\n",
      "/opt/conda/lib/python3.10/site-packages/langchain_core/_api/deprecation.py:189: LangChainDeprecationWarning: The function `__call__` was deprecated in LangChain 0.1.0 and will be removed in 0.2.0. Use invoke instead.\n",
      "  warn_deprecated(\n",
      "/opt/conda/lib/python3.10/site-packages/langchain_core/_api/deprecation.py:189: LangChainDeprecationWarning: The function `__call__` was deprecated in LangChain 0.1.0 and will be removed in 0.2.0. Use invoke instead.\n",
      "  warn_deprecated(\n"
     ]
    },
    {
     "name": "stdout",
     "output_type": "stream",
     "text": [
      " E. Bahwa pasal 70 ayat (2) Undang-undang nomor 24 Tahun 2003 tentang Mahkamah Konstitusi, Undang-undang nomor\n",
      "12 Tahun 2003 tentang Pemilihan Umum Anggota DPR, DPD, DPRD\n",
      "\n",
      "\n",
      "Sources:\n",
      "Time:  207.27687335014343\n",
      "==============================================\n",
      "Nomor:  14\n",
      "Bahwa seandainya Permohonan pemohon diterima, quod non, pasal 96 ayat (8), pasal 97 ayat (3), pasal 98 ayat (3), pasal 99 ayat (5), pasal 100 ayat (5) dan pasal 101 ayat (6) UU No. 12 tahun 2003 tentang Pemilihan Umum Anggota DPR, DPD, DPRD, berbunyi...\\n A.  Menyebutkan bahwa peserta Pemilu dan warga masyarakat yang mengikuti pemilihan umum harus warga negara Indonesia yang salah secara hukum\\n B.  Menyebutkan bahwa peserta Pemilu dan warga masyarakat melalui saksi peserta pemilu yang hadir dapat mengajukan keberatan terhadap jalannya dan hasil penghitungan suara di TPS, PPS, PPK KPUD Kota/Kabupaten, KPUD Propinsi dan KPU Pusat apabila ternyata terdapat hal-hal yang tidak sesuai dengan peraturan perundang-undangan\\n C.  Menyebutkan bahwa perhitungan suara dilakukan oleh RT/RW sekitar agar lebih baik\\n D.  Menyebutkan bahwa peserta penyedia TPU harus ada saksi dari masing-masing partai yang mengikutkan calon mereka\\n E.  Menyebutkan bahwa peserta harus sesuai dengan aturan\n"
     ]
    },
    {
     "name": "stderr",
     "output_type": "stream",
     "text": [
      "/opt/conda/lib/python3.10/site-packages/langchain_core/_api/deprecation.py:189: LangChainDeprecationWarning: The function `__call__` was deprecated in LangChain 0.1.0 and will be removed in 0.2.0. Use invoke instead.\n",
      "  warn_deprecated(\n",
      "/opt/conda/lib/python3.10/site-packages/langchain_core/_api/deprecation.py:189: LangChainDeprecationWarning: The function `run` was deprecated in LangChain 0.1.0 and will be removed in 0.2.0. Use invoke instead.\n",
      "  warn_deprecated(\n",
      "/opt/conda/lib/python3.10/site-packages/langchain_core/_api/deprecation.py:189: LangChainDeprecationWarning: The function `__call__` was deprecated in LangChain 0.1.0 and will be removed in 0.2.0. Use invoke instead.\n",
      "  warn_deprecated(\n",
      "/opt/conda/lib/python3.10/site-packages/langchain_core/_api/deprecation.py:189: LangChainDeprecationWarning: The function `__call__` was deprecated in LangChain 0.1.0 and will be removed in 0.2.0. Use invoke instead.\n",
      "  warn_deprecated(\n"
     ]
    },
    {
     "name": "stdout",
     "output_type": "stream",
     "text": [
      " D. Menyebutkan bahwa peserta penyedia TPU harus ada saksi dari masing-masing partai yang mengikutkan calon\n",
      "mereka\n",
      "\n",
      "\n",
      "Sources:\n",
      "Time:  161.16767239570618\n",
      "==============================================\n",
      "Nomor:  15\n",
      "Warga negara yang mempunyai hak pilih, pemantau pemilu dan/atau peserta pemilu dapat melaporkan pelanggaran pemilu pada setiap tahapan penyelenggaraan pemilu kepada Pengawas Pemilu (Panwaslu), ada di...\\n A.  Pasal 121 ayat (1) dan ayat (2) UU No. 12 Tahun 2003\\n B.  Pasal 122 ayat (1) dan ayat (2) UU No. 12 Tahun 2003\\n C.  Pasal 127 ayat (1) dan ayat (2) UU No. 12 Tahun 2003\\n D.  Pasal 126 ayat (1) dan ayat (2) UU No. 12 Tahun 2003\\n E.  Pasal 125 ayat (1) dan ayat (2) UU No. 12 Tahun 2003\n"
     ]
    },
    {
     "name": "stderr",
     "output_type": "stream",
     "text": [
      "/opt/conda/lib/python3.10/site-packages/langchain_core/_api/deprecation.py:189: LangChainDeprecationWarning: The function `__call__` was deprecated in LangChain 0.1.0 and will be removed in 0.2.0. Use invoke instead.\n",
      "  warn_deprecated(\n",
      "/opt/conda/lib/python3.10/site-packages/langchain_core/_api/deprecation.py:189: LangChainDeprecationWarning: The function `run` was deprecated in LangChain 0.1.0 and will be removed in 0.2.0. Use invoke instead.\n",
      "  warn_deprecated(\n",
      "/opt/conda/lib/python3.10/site-packages/langchain_core/_api/deprecation.py:189: LangChainDeprecationWarning: The function `__call__` was deprecated in LangChain 0.1.0 and will be removed in 0.2.0. Use invoke instead.\n",
      "  warn_deprecated(\n",
      "/opt/conda/lib/python3.10/site-packages/langchain_core/_api/deprecation.py:189: LangChainDeprecationWarning: The function `__call__` was deprecated in LangChain 0.1.0 and will be removed in 0.2.0. Use invoke instead.\n",
      "  warn_deprecated(\n"
     ]
    },
    {
     "name": "stdout",
     "output_type": "stream",
     "text": [
      " D.  Pasal 126 ayat (1) dan ayat (2) UU No. 12 Tahun 2003\n",
      "\n",
      "\n",
      "Sources:\n",
      "Time:  109.54335069656372\n",
      "==============================================\n",
      "Nomor:  16\n",
      "Laporan yang bersifat sengketa dan tidak mengandung unsur pidana diselesaikan oleh Pengawas Pemilu dan yang berunsur pidana diteruskan ke penyidik dan yang bersifat administratif diteruskan ke KPU, dinyatakan dalam…\\n A.  Pasal 128 dan 130 UU No. 12 tahun 2003\\n B.  Pasal 127 dan 130 UU No. 12 tahun 2003\\n C.  Pasal 126 dan 130 UU No. 12 tahun 2003\\n D.  Pasal 125 dan 130 UU No. 12 tahun 2003\\n E.  Pasal 124 dan 130 UU No. 12 tahun 2003\n"
     ]
    },
    {
     "name": "stderr",
     "output_type": "stream",
     "text": [
      "/opt/conda/lib/python3.10/site-packages/langchain_core/_api/deprecation.py:189: LangChainDeprecationWarning: The function `__call__` was deprecated in LangChain 0.1.0 and will be removed in 0.2.0. Use invoke instead.\n",
      "  warn_deprecated(\n",
      "/opt/conda/lib/python3.10/site-packages/langchain_core/_api/deprecation.py:189: LangChainDeprecationWarning: The function `run` was deprecated in LangChain 0.1.0 and will be removed in 0.2.0. Use invoke instead.\n",
      "  warn_deprecated(\n",
      "/opt/conda/lib/python3.10/site-packages/langchain_core/_api/deprecation.py:189: LangChainDeprecationWarning: The function `__call__` was deprecated in LangChain 0.1.0 and will be removed in 0.2.0. Use invoke instead.\n",
      "  warn_deprecated(\n",
      "/opt/conda/lib/python3.10/site-packages/langchain_core/_api/deprecation.py:189: LangChainDeprecationWarning: The function `__call__` was deprecated in LangChain 0.1.0 and will be removed in 0.2.0. Use invoke instead.\n",
      "  warn_deprecated(\n"
     ]
    },
    {
     "name": "stdout",
     "output_type": "stream",
     "text": [
      " D. Pasal 125 dan 130 UU No. 12 tahun 2003\n",
      "\n",
      "\n",
      "Sources:\n",
      "Time:  96.98020648956299\n",
      "==============================================\n",
      "Nomor:  17\n",
      "Pemohon turut mencalonkan diri sebagai Calon Presiden dan atau Calon Wakil Presiden adalah berdasarkan hak dan kewajiban Pemohon sebagai warga negara Republik Indonesia yang dibenarkan, disahkan, dijamin dan dilindungi oleh, Salah satu dari daftar pasal adalah...\\n A.  Pasal 21 A ayat 1 UUD Negara RI Tahun 1945\\n B.  Pasal 20 A ayat 1 UUD Negara RI Tahun 1945\\n C.  Pembukaan UUD Negara RI Tahun 1945\\n D.  Pasal 10 A ayat 1 UUD Negara RI Tahun 1945\\n E.  Pasal 10 B ayat 1 UUD Negara RI Tahun 1945\n"
     ]
    },
    {
     "name": "stderr",
     "output_type": "stream",
     "text": [
      "/opt/conda/lib/python3.10/site-packages/langchain_core/_api/deprecation.py:189: LangChainDeprecationWarning: The function `__call__` was deprecated in LangChain 0.1.0 and will be removed in 0.2.0. Use invoke instead.\n",
      "  warn_deprecated(\n",
      "/opt/conda/lib/python3.10/site-packages/langchain_core/_api/deprecation.py:189: LangChainDeprecationWarning: The function `run` was deprecated in LangChain 0.1.0 and will be removed in 0.2.0. Use invoke instead.\n",
      "  warn_deprecated(\n",
      "/opt/conda/lib/python3.10/site-packages/langchain_core/_api/deprecation.py:189: LangChainDeprecationWarning: The function `__call__` was deprecated in LangChain 0.1.0 and will be removed in 0.2.0. Use invoke instead.\n",
      "  warn_deprecated(\n",
      "/opt/conda/lib/python3.10/site-packages/langchain_core/_api/deprecation.py:189: LangChainDeprecationWarning: The function `__call__` was deprecated in LangChain 0.1.0 and will be removed in 0.2.0. Use invoke instead.\n",
      "  warn_deprecated(\n"
     ]
    },
    {
     "name": "stdout",
     "output_type": "stream",
     "text": [
      " C. Pembukaan UUD Negara RI Tahun 1945\n",
      "\n",
      "\n",
      "Sources:\n",
      "Time:  95.41590023040771\n",
      "==============================================\n",
      "Nomor:  18\n",
      "Pemohon turut mencalonkan diri sebagai Calon Presiden dan atau Calon Wakil Presiden adalah berdasarkan hak dan kewajiban Pemohon sebagai warga negara Republik Indonesia yang dibenarkan, disahkan, dijamin dan dilindungi oleh, Salah satu dari daftar pasal adalah...\\n A.  Pasal 21 A ayat 1 UUD Negara RI Tahun 1945\\n B.  Pasal 20 A ayat 1 UUD Negara RI Tahun 1945\\n C.  Pasal 10 A ayat 1 UUD Negara RI Tahun 1945\\n D.  Pasal 10 B ayat 1 UUD Negara RI Tahun 1945\\n E.  Pasal 28 J ayat 1 UUD Negara RI Tahun 1944\n"
     ]
    },
    {
     "name": "stderr",
     "output_type": "stream",
     "text": [
      "/opt/conda/lib/python3.10/site-packages/langchain_core/_api/deprecation.py:189: LangChainDeprecationWarning: The function `__call__` was deprecated in LangChain 0.1.0 and will be removed in 0.2.0. Use invoke instead.\n",
      "  warn_deprecated(\n",
      "/opt/conda/lib/python3.10/site-packages/langchain_core/_api/deprecation.py:189: LangChainDeprecationWarning: The function `run` was deprecated in LangChain 0.1.0 and will be removed in 0.2.0. Use invoke instead.\n",
      "  warn_deprecated(\n",
      "/opt/conda/lib/python3.10/site-packages/langchain_core/_api/deprecation.py:189: LangChainDeprecationWarning: The function `__call__` was deprecated in LangChain 0.1.0 and will be removed in 0.2.0. Use invoke instead.\n",
      "  warn_deprecated(\n",
      "/opt/conda/lib/python3.10/site-packages/langchain_core/_api/deprecation.py:189: LangChainDeprecationWarning: The function `__call__` was deprecated in LangChain 0.1.0 and will be removed in 0.2.0. Use invoke instead.\n",
      "  warn_deprecated(\n"
     ]
    },
    {
     "name": "stdout",
     "output_type": "stream",
     "text": [
      " C. Pasal 10 A ayat 1 UUD Negara RI Tahun 1945\n",
      "\n",
      "\n",
      "Sources:\n",
      "Time:  98.16193628311157\n",
      "==============================================\n",
      "Nomor:  19\n",
      "Pemohon turut mencalonkan diri sebagai Calon Presiden dan atau Calon Wakil Presiden adalah berdasarkan hak dan kewajiban Pemohon sebagai warga negara Republik Indonesia yang dibenarkan, disahkan, dijamin dan dilindungi oleh, Salah satu dari daftar pasal adalah...\\n A.  Pasal 28 I ayat 2 UUD Negara RI Tahun 1945\\n B.  Pasal 21 A ayat 1 UUD Negara RI Tahun 1945\\n C.  Pasal 20 A ayat 1 UUD Negara RI Tahun 1945\\n D.  Pasal 10 A ayat 1 UUD Negara RI Tahun 1945\\n E.  Pasal 10 B ayat 1 UUD Negara RI Tahun 1945\n"
     ]
    },
    {
     "name": "stderr",
     "output_type": "stream",
     "text": [
      "/opt/conda/lib/python3.10/site-packages/langchain_core/_api/deprecation.py:189: LangChainDeprecationWarning: The function `__call__` was deprecated in LangChain 0.1.0 and will be removed in 0.2.0. Use invoke instead.\n",
      "  warn_deprecated(\n",
      "/opt/conda/lib/python3.10/site-packages/langchain_core/_api/deprecation.py:189: LangChainDeprecationWarning: The function `run` was deprecated in LangChain 0.1.0 and will be removed in 0.2.0. Use invoke instead.\n",
      "  warn_deprecated(\n",
      "/opt/conda/lib/python3.10/site-packages/langchain_core/_api/deprecation.py:189: LangChainDeprecationWarning: The function `__call__` was deprecated in LangChain 0.1.0 and will be removed in 0.2.0. Use invoke instead.\n",
      "  warn_deprecated(\n",
      "/opt/conda/lib/python3.10/site-packages/langchain_core/_api/deprecation.py:189: LangChainDeprecationWarning: The function `__call__` was deprecated in LangChain 0.1.0 and will be removed in 0.2.0. Use invoke instead.\n",
      "  warn_deprecated(\n"
     ]
    },
    {
     "name": "stdout",
     "output_type": "stream",
     "text": [
      " C. Pasal 20 A ayat 1 UUD Negara RI Tahun 1945\n",
      "\n",
      "\n",
      "Sources:\n",
      "Time:  98.15222692489624\n",
      "==============================================\n",
      "Nomor:  20\n",
      "Pemohon turut mencalonkan diri sebagai Calon Presiden dan atau Calon Wakil Presiden adalah berdasarkan hak dan kewajiban Pemohon sebagai warga negara Republik Indonesia yang dibenarkan, disahkan, dijamin dan dilindungi oleh, Salah satu dari daftar pasal adalah...\\n A.  Pasal 21 A ayat 1 UUD Negara RI Tahun 1945\\n B.  Pasal 28 H ayat 2 UUD Negara RI Tahun 1945\\n C.  Pasal 20 A ayat 1 UUD Negara RI Tahun 1945\\n D.  Pasal 2G A ayat 1 UUD Negara RI Tahun 1945\\n E.  Pasal 2X A ayat 1 UUD Negara RI Tahun 1945\n"
     ]
    },
    {
     "name": "stderr",
     "output_type": "stream",
     "text": [
      "/opt/conda/lib/python3.10/site-packages/langchain_core/_api/deprecation.py:189: LangChainDeprecationWarning: The function `__call__` was deprecated in LangChain 0.1.0 and will be removed in 0.2.0. Use invoke instead.\n",
      "  warn_deprecated(\n",
      "/opt/conda/lib/python3.10/site-packages/langchain_core/_api/deprecation.py:189: LangChainDeprecationWarning: The function `run` was deprecated in LangChain 0.1.0 and will be removed in 0.2.0. Use invoke instead.\n",
      "  warn_deprecated(\n",
      "/opt/conda/lib/python3.10/site-packages/langchain_core/_api/deprecation.py:189: LangChainDeprecationWarning: The function `__call__` was deprecated in LangChain 0.1.0 and will be removed in 0.2.0. Use invoke instead.\n",
      "  warn_deprecated(\n",
      "/opt/conda/lib/python3.10/site-packages/langchain_core/_api/deprecation.py:189: LangChainDeprecationWarning: The function `__call__` was deprecated in LangChain 0.1.0 and will be removed in 0.2.0. Use invoke instead.\n",
      "  warn_deprecated(\n"
     ]
    },
    {
     "name": "stdout",
     "output_type": "stream",
     "text": [
      " B. Pasal 28 H ayat 2 UUD Negara RI Tahun 1945\n",
      "\n",
      "\n",
      "Sources:\n",
      "Time:  98.34580445289612\n",
      "==============================================\n",
      "Nomor:  21\n",
      "Pemohon turut mencalonkan diri sebagai Calon Presiden dan atau Calon Wakil Presiden adalah berdasarkan hak dan kewajiban Pemohon sebagai warga negara Republik Indonesia yang dibenarkan, disahkan, dijamin dan dilindungi oleh, Salah satu dari daftar pasal adalah...\\n A.  Pasal 28 D ayat 1 dan ayat 3 UUD Negara RI Tahun 1945\\n B.  Pasal 20 A ayat 1 UUD Negara RI Tahun 1945\\n C.  Pasal 21 Y ayat 1 UUD Negara RI Tahun 1945\\n D.  Pasal 20 Y ayat 1 UUD Negara RI Tahun 1945\\n E.  Pasal 21 A ayat 1 UUD Negara RI Tahun 1945\n"
     ]
    },
    {
     "name": "stderr",
     "output_type": "stream",
     "text": [
      "/opt/conda/lib/python3.10/site-packages/langchain_core/_api/deprecation.py:189: LangChainDeprecationWarning: The function `__call__` was deprecated in LangChain 0.1.0 and will be removed in 0.2.0. Use invoke instead.\n",
      "  warn_deprecated(\n",
      "/opt/conda/lib/python3.10/site-packages/langchain_core/_api/deprecation.py:189: LangChainDeprecationWarning: The function `run` was deprecated in LangChain 0.1.0 and will be removed in 0.2.0. Use invoke instead.\n",
      "  warn_deprecated(\n",
      "/opt/conda/lib/python3.10/site-packages/langchain_core/_api/deprecation.py:189: LangChainDeprecationWarning: The function `__call__` was deprecated in LangChain 0.1.0 and will be removed in 0.2.0. Use invoke instead.\n",
      "  warn_deprecated(\n",
      "/opt/conda/lib/python3.10/site-packages/langchain_core/_api/deprecation.py:189: LangChainDeprecationWarning: The function `__call__` was deprecated in LangChain 0.1.0 and will be removed in 0.2.0. Use invoke instead.\n",
      "  warn_deprecated(\n"
     ]
    },
    {
     "name": "stdout",
     "output_type": "stream",
     "text": [
      " B. Pasal 20 A ayat 1 UUD Negara RI Tahun 1945\n",
      "\n",
      "\n",
      "Sources:\n",
      "Time:  101.65571022033691\n",
      "==============================================\n",
      "Nomor:  22\n",
      "Pemohon turut mencalonkan diri sebagai Calon Presiden dan atau Calon Wakil Presiden adalah berdasarkan hak dan kewajiban Pemohon sebagai warga negara Republik Indonesia yang dibenarkan, disahkan, dijamin dan dilindungi oleh, Salah satu dari daftar pasal adalah...\\n A.  Pasal 21 A ayat 1 UUD Negara RI Tahun 1945\\n B.  Pasal 21 Z ayat 1 UUD Negara RI Tahun 1945\\n C.  Pasal 21 Y ayat 1 UUD Negara RI Tahun 1945\\n D.  Pasal 20 Y ayat 1 UUD Negara RI Tahun 1945\\n E.  Pasal 28 C ayat 2 UUD Negara RI Tahun 1945\n"
     ]
    },
    {
     "name": "stderr",
     "output_type": "stream",
     "text": [
      "/opt/conda/lib/python3.10/site-packages/langchain_core/_api/deprecation.py:189: LangChainDeprecationWarning: The function `__call__` was deprecated in LangChain 0.1.0 and will be removed in 0.2.0. Use invoke instead.\n",
      "  warn_deprecated(\n",
      "/opt/conda/lib/python3.10/site-packages/langchain_core/_api/deprecation.py:189: LangChainDeprecationWarning: The function `run` was deprecated in LangChain 0.1.0 and will be removed in 0.2.0. Use invoke instead.\n",
      "  warn_deprecated(\n",
      "/opt/conda/lib/python3.10/site-packages/langchain_core/_api/deprecation.py:189: LangChainDeprecationWarning: The function `__call__` was deprecated in LangChain 0.1.0 and will be removed in 0.2.0. Use invoke instead.\n",
      "  warn_deprecated(\n",
      "/opt/conda/lib/python3.10/site-packages/langchain_core/_api/deprecation.py:189: LangChainDeprecationWarning: The function `__call__` was deprecated in LangChain 0.1.0 and will be removed in 0.2.0. Use invoke instead.\n",
      "  warn_deprecated(\n"
     ]
    },
    {
     "name": "stdout",
     "output_type": "stream",
     "text": [
      " A.  Pasal 21 A ayat 1 UUD Negara RI Tahun 1945\n",
      "\n",
      "\n",
      "Sources:\n",
      "Time:  99.51041436195374\n",
      "==============================================\n",
      "Nomor:  23\n",
      "Pemohon turut mencalonkan diri sebagai Calon Presiden dan atau Calon Wakil Presiden adalah berdasarkan hak dan kewajiban Pemohon sebagai warga negara Republik Indonesia yang dibenarkan, disahkan, dijamin dan dilindungi oleh, Salah satu dari daftar pasal adalah...\\n A.  Pasal 21 A ayat 1 UUD Negara RI Tahun 1945\\n B.  Pasal 21 Z ayat 1 UUD Negara RI Tahun 1945\\n C.  Pasal 21 Y ayat 1 UUD Negara RI Tahun 1945\\n D.  Pasal 20 Y ayat 1 UUD Negara RI Tahun 1945\\n E.  Pasal 27 ayat 1 ayat 3 UUD Negara RI Tahun 1945\n"
     ]
    },
    {
     "name": "stderr",
     "output_type": "stream",
     "text": [
      "/opt/conda/lib/python3.10/site-packages/langchain_core/_api/deprecation.py:189: LangChainDeprecationWarning: The function `__call__` was deprecated in LangChain 0.1.0 and will be removed in 0.2.0. Use invoke instead.\n",
      "  warn_deprecated(\n",
      "/opt/conda/lib/python3.10/site-packages/langchain_core/_api/deprecation.py:189: LangChainDeprecationWarning: The function `run` was deprecated in LangChain 0.1.0 and will be removed in 0.2.0. Use invoke instead.\n",
      "  warn_deprecated(\n",
      "/opt/conda/lib/python3.10/site-packages/langchain_core/_api/deprecation.py:189: LangChainDeprecationWarning: The function `__call__` was deprecated in LangChain 0.1.0 and will be removed in 0.2.0. Use invoke instead.\n",
      "  warn_deprecated(\n",
      "/opt/conda/lib/python3.10/site-packages/langchain_core/_api/deprecation.py:189: LangChainDeprecationWarning: The function `__call__` was deprecated in LangChain 0.1.0 and will be removed in 0.2.0. Use invoke instead.\n",
      "  warn_deprecated(\n"
     ]
    },
    {
     "name": "stdout",
     "output_type": "stream",
     "text": [
      " A. Pasal 21 A ayat 1 UUD Negara RI Tahun 1945\n",
      "\n",
      "\n",
      "Sources:\n",
      "Time:  99.31457543373108\n",
      "==============================================\n",
      "Nomor:  24\n",
      "Pemohon turut mencalonkan diri sebagai Calon Presiden dan atau Calon Wakil Presiden adalah berdasarkan hak dan kewajiban Pemohon sebagai warga negara Republik Indonesia yang dibenarkan, disahkan, dijamin dan dilindungi oleh, Salah satu dari daftar pasal adalah...\\n A.  Pasal 21 A ayat 1 UUD Negara RI Tahun 1945\\n B.  Pasal 21 Z ayat 1 UUD Negara RI Tahun 1945\\n C.  Pasal 21 Y ayat 1 UUD Negara RI Tahun 1945\\n D.  Pasal 1 ayat 2 UUD Negara RI Tahun 1945\\n E.  Pasal 20 Y ayat 1 UUD Negara RI Tahun 1945\n"
     ]
    },
    {
     "name": "stderr",
     "output_type": "stream",
     "text": [
      "/opt/conda/lib/python3.10/site-packages/langchain_core/_api/deprecation.py:189: LangChainDeprecationWarning: The function `__call__` was deprecated in LangChain 0.1.0 and will be removed in 0.2.0. Use invoke instead.\n",
      "  warn_deprecated(\n",
      "/opt/conda/lib/python3.10/site-packages/langchain_core/_api/deprecation.py:189: LangChainDeprecationWarning: The function `run` was deprecated in LangChain 0.1.0 and will be removed in 0.2.0. Use invoke instead.\n",
      "  warn_deprecated(\n",
      "/opt/conda/lib/python3.10/site-packages/langchain_core/_api/deprecation.py:189: LangChainDeprecationWarning: The function `__call__` was deprecated in LangChain 0.1.0 and will be removed in 0.2.0. Use invoke instead.\n",
      "  warn_deprecated(\n",
      "/opt/conda/lib/python3.10/site-packages/langchain_core/_api/deprecation.py:189: LangChainDeprecationWarning: The function `__call__` was deprecated in LangChain 0.1.0 and will be removed in 0.2.0. Use invoke instead.\n",
      "  warn_deprecated(\n"
     ]
    },
    {
     "name": "stdout",
     "output_type": "stream",
     "text": [
      " A. Pasal 21 A ayat 1 UUD Negara RI Tahun 1945\n",
      "\n",
      "\n",
      "Sources:\n",
      "Time:  98.0939154624939\n",
      "==============================================\n",
      "Nomor:  25\n",
      "Setiap orang berhak mendapat kemudahan dan perlakuan khusus untuk memperoleh kesempatan dan manfaat yang sama gunamencapai persamaan dan keadilan, ada pada...\\n A.  Undang-undang Nomor 23 tahun 2003 khususnya Pasal 5 ayat (1,2,3 dan 4)\\n B.  Pasal 21 A ayat 1 UUD Negara RI Tahun 1945\\n C.  Pasal 21 Z ayat 1 UUD Negara RI Tahun 1945\\n D.  Pasal 21 Y ayat 1 UUD Negara RI Tahun 1945\\n E.  Pasal 1 ayat 2 UUD Negara RI Tahun 1945\n"
     ]
    },
    {
     "name": "stderr",
     "output_type": "stream",
     "text": [
      "/opt/conda/lib/python3.10/site-packages/langchain_core/_api/deprecation.py:189: LangChainDeprecationWarning: The function `__call__` was deprecated in LangChain 0.1.0 and will be removed in 0.2.0. Use invoke instead.\n",
      "  warn_deprecated(\n",
      "/opt/conda/lib/python3.10/site-packages/langchain_core/_api/deprecation.py:189: LangChainDeprecationWarning: The function `run` was deprecated in LangChain 0.1.0 and will be removed in 0.2.0. Use invoke instead.\n",
      "  warn_deprecated(\n",
      "/opt/conda/lib/python3.10/site-packages/langchain_core/_api/deprecation.py:189: LangChainDeprecationWarning: The function `__call__` was deprecated in LangChain 0.1.0 and will be removed in 0.2.0. Use invoke instead.\n",
      "  warn_deprecated(\n",
      "/opt/conda/lib/python3.10/site-packages/langchain_core/_api/deprecation.py:189: LangChainDeprecationWarning: The function `__call__` was deprecated in LangChain 0.1.0 and will be removed in 0.2.0. Use invoke instead.\n",
      "  warn_deprecated(\n"
     ]
    },
    {
     "name": "stdout",
     "output_type": "stream",
     "text": [
      " A. Undang-undang Nomor 23 tahun 2003 khususnya Pasal 5 ayat (1,2,3 dan 4)\n",
      "\n",
      "\n",
      "Sources:\n",
      "Time:  96.48721551895142\n",
      "==============================================\n",
      "Nomor:  26\n",
      "Setiap orang berhak mendapat kemudahan dan perlakuan khusus untuk memperoleh kesempatan dan manfaat yang sama gunamencapai persamaan dan keadilan, ada pada...\\n A.  Pasal 21 A ayat 1 UUD Negara RI Tahun 1945\\n B.  Pasal 21 Z ayat 1 UUD Negara RI Tahun 1945\\n C.  Pasal 21 Y ayat 1 UUD Negara RI Tahun 1945\\n D.  Pasal 1 ayat 2 UUD Negara RI Tahun 1945\\n E.  Undang-undang Nomor 23 tahun 2003 khususnya Pasal 1 ayat (6)\n"
     ]
    },
    {
     "name": "stderr",
     "output_type": "stream",
     "text": [
      "/opt/conda/lib/python3.10/site-packages/langchain_core/_api/deprecation.py:189: LangChainDeprecationWarning: The function `__call__` was deprecated in LangChain 0.1.0 and will be removed in 0.2.0. Use invoke instead.\n",
      "  warn_deprecated(\n",
      "/opt/conda/lib/python3.10/site-packages/langchain_core/_api/deprecation.py:189: LangChainDeprecationWarning: The function `run` was deprecated in LangChain 0.1.0 and will be removed in 0.2.0. Use invoke instead.\n",
      "  warn_deprecated(\n",
      "/opt/conda/lib/python3.10/site-packages/langchain_core/_api/deprecation.py:189: LangChainDeprecationWarning: The function `__call__` was deprecated in LangChain 0.1.0 and will be removed in 0.2.0. Use invoke instead.\n",
      "  warn_deprecated(\n",
      "/opt/conda/lib/python3.10/site-packages/langchain_core/_api/deprecation.py:189: LangChainDeprecationWarning: The function `__call__` was deprecated in LangChain 0.1.0 and will be removed in 0.2.0. Use invoke instead.\n",
      "  warn_deprecated(\n"
     ]
    },
    {
     "name": "stdout",
     "output_type": "stream",
     "text": [
      " D. Pasal 1 ayat 2 UUD Negara RI Tahun 1945\n",
      "\n",
      "\n",
      "Sources:\n",
      "Time:  89.09072756767273\n",
      "==============================================\n",
      "Nomor:  27\n",
      "Setiap orang berhak mendapat kemudahan dan perlakuan khusus untuk memperoleh kesempatan dan manfaat yang sama gunamencapai persamaan dan keadilan, ada pada...\\n A.  Undang-undang Nomor 23 tahun 2003 khususnya Pasal 6 L\\n B.  Pasal 21 A ayat 1 UUD Negara RI Tahun 1945\\n C.  Pasal 21 Z ayat 1 UUD Negara RI Tahun 1945\\n D.  Pasal 21 Y ayat 1 UUD Negara RI Tahun 1945\\n E.  Pasal 1 ayat 2 UUD Negara RI Tahun 1945\n"
     ]
    },
    {
     "name": "stderr",
     "output_type": "stream",
     "text": [
      "/opt/conda/lib/python3.10/site-packages/langchain_core/_api/deprecation.py:189: LangChainDeprecationWarning: The function `__call__` was deprecated in LangChain 0.1.0 and will be removed in 0.2.0. Use invoke instead.\n",
      "  warn_deprecated(\n",
      "/opt/conda/lib/python3.10/site-packages/langchain_core/_api/deprecation.py:189: LangChainDeprecationWarning: The function `run` was deprecated in LangChain 0.1.0 and will be removed in 0.2.0. Use invoke instead.\n",
      "  warn_deprecated(\n",
      "/opt/conda/lib/python3.10/site-packages/langchain_core/_api/deprecation.py:189: LangChainDeprecationWarning: The function `__call__` was deprecated in LangChain 0.1.0 and will be removed in 0.2.0. Use invoke instead.\n",
      "  warn_deprecated(\n",
      "/opt/conda/lib/python3.10/site-packages/langchain_core/_api/deprecation.py:189: LangChainDeprecationWarning: The function `__call__` was deprecated in LangChain 0.1.0 and will be removed in 0.2.0. Use invoke instead.\n",
      "  warn_deprecated(\n"
     ]
    },
    {
     "name": "stdout",
     "output_type": "stream",
     "text": [
      " A. Undang-undang Nomor 23 tahun 2003 khususnya Pasal 6 L\n",
      "\n",
      "\n",
      "Sources:\n",
      "Time:  88.00778889656067\n",
      "==============================================\n",
      "Nomor:  28\n",
      "Setiap orang berhak mendapat kemudahan dan perlakuan khusus untuk memperoleh kesempatan dan manfaat yang sama gunamencapai persamaan dan keadilan, ada pada...\\n A.  Pasal 21 A ayat 1 UUD Negara RI Tahun 1945\\n B.  Pasal 21 Z ayat 1 UUD Negara RI Tahun 1945\\n C.  Pasal 21 Y ayat 1 UUD Negara RI Tahun 1945\\n D.  Pasal 1 ayat 2 UUD Negara RI Tahun 1945\\n E.  Undang-undang Nomor 23 tahun 2003 khususnya Pasal 28 H ayat (2)\n"
     ]
    },
    {
     "name": "stderr",
     "output_type": "stream",
     "text": [
      "/opt/conda/lib/python3.10/site-packages/langchain_core/_api/deprecation.py:189: LangChainDeprecationWarning: The function `__call__` was deprecated in LangChain 0.1.0 and will be removed in 0.2.0. Use invoke instead.\n",
      "  warn_deprecated(\n",
      "/opt/conda/lib/python3.10/site-packages/langchain_core/_api/deprecation.py:189: LangChainDeprecationWarning: The function `run` was deprecated in LangChain 0.1.0 and will be removed in 0.2.0. Use invoke instead.\n",
      "  warn_deprecated(\n",
      "/opt/conda/lib/python3.10/site-packages/langchain_core/_api/deprecation.py:189: LangChainDeprecationWarning: The function `__call__` was deprecated in LangChain 0.1.0 and will be removed in 0.2.0. Use invoke instead.\n",
      "  warn_deprecated(\n",
      "/opt/conda/lib/python3.10/site-packages/langchain_core/_api/deprecation.py:189: LangChainDeprecationWarning: The function `__call__` was deprecated in LangChain 0.1.0 and will be removed in 0.2.0. Use invoke instead.\n",
      "  warn_deprecated(\n"
     ]
    },
    {
     "name": "stdout",
     "output_type": "stream",
     "text": [
      " D. Pasal 1 ayat 2 UUD Negara RI Tahun 1945\n",
      "\n",
      "\n",
      "Sources:\n",
      "Time:  89.37130212783813\n",
      "==============================================\n",
      "Nomor:  29\n",
      "Setiap orang berhak bebas dari perlakuan yang bersifat diskriminatif atas dasar apapun dan berhak mendapatkan perlindungan terhadap perlakuan yang bersifat diskriminatif itu, ada pada...\\n A.  Undang-undang Nomor 23 Tahun 2003 khususnya Pasal 5 ayat (1,2,3 dan 4)\\n B.  Pasal 21 A ayat 1 UUD Negara RI Tahun 1945\\n C.  Pasal 21 Z ayat 1 UUD Negara RI Tahun 1945\\n D.  Pasal 21 Y ayat 1 UUD Negara RI Tahun 1945\\n E.  Pasal 1 ayat 2 UUD Negara RI Tahun 1945\n"
     ]
    },
    {
     "name": "stderr",
     "output_type": "stream",
     "text": [
      "/opt/conda/lib/python3.10/site-packages/langchain_core/_api/deprecation.py:189: LangChainDeprecationWarning: The function `__call__` was deprecated in LangChain 0.1.0 and will be removed in 0.2.0. Use invoke instead.\n",
      "  warn_deprecated(\n",
      "/opt/conda/lib/python3.10/site-packages/langchain_core/_api/deprecation.py:189: LangChainDeprecationWarning: The function `run` was deprecated in LangChain 0.1.0 and will be removed in 0.2.0. Use invoke instead.\n",
      "  warn_deprecated(\n",
      "/opt/conda/lib/python3.10/site-packages/langchain_core/_api/deprecation.py:189: LangChainDeprecationWarning: The function `__call__` was deprecated in LangChain 0.1.0 and will be removed in 0.2.0. Use invoke instead.\n",
      "  warn_deprecated(\n",
      "/opt/conda/lib/python3.10/site-packages/langchain_core/_api/deprecation.py:189: LangChainDeprecationWarning: The function `__call__` was deprecated in LangChain 0.1.0 and will be removed in 0.2.0. Use invoke instead.\n",
      "  warn_deprecated(\n"
     ]
    },
    {
     "name": "stdout",
     "output_type": "stream",
     "text": [
      " A. Undang-undang Nomor 23 Tahun 2003 khususnya Pasal 5 ayat (1,2,3 dan 4)\n",
      "\n",
      "\n",
      "Sources:\n",
      "Time:  99.8186514377594\n",
      "==============================================\n",
      "Nomor:  30\n",
      "Setiap orang berhak bebas dari perlakuan yang bersifat diskriminatif atas dasar apapun dan berhak mendapatkan perlindungan terhadap perlakuan yang bersifat diskriminatif itu, ada pada...\\n A.  Pasal 21 A ayat 1 UUD Negara RI Tahun 1945\\n B.  Pasal 21 Z ayat 1 UUD Negara RI Tahun 1945\\n C.  Pasal 21 Y ayat 1 UUD Negara RI Tahun 1945\\n D.  Pasal 1 ayat 2 UUD Negara RI Tahun 1945\\n E.  Undang-undang Nomor 23 Tahun 2003 khususnya Pasal 1 ayat (6)\n"
     ]
    },
    {
     "name": "stderr",
     "output_type": "stream",
     "text": [
      "/opt/conda/lib/python3.10/site-packages/langchain_core/_api/deprecation.py:189: LangChainDeprecationWarning: The function `__call__` was deprecated in LangChain 0.1.0 and will be removed in 0.2.0. Use invoke instead.\n",
      "  warn_deprecated(\n",
      "/opt/conda/lib/python3.10/site-packages/langchain_core/_api/deprecation.py:189: LangChainDeprecationWarning: The function `run` was deprecated in LangChain 0.1.0 and will be removed in 0.2.0. Use invoke instead.\n",
      "  warn_deprecated(\n",
      "/opt/conda/lib/python3.10/site-packages/langchain_core/_api/deprecation.py:189: LangChainDeprecationWarning: The function `__call__` was deprecated in LangChain 0.1.0 and will be removed in 0.2.0. Use invoke instead.\n",
      "  warn_deprecated(\n",
      "/opt/conda/lib/python3.10/site-packages/langchain_core/_api/deprecation.py:189: LangChainDeprecationWarning: The function `__call__` was deprecated in LangChain 0.1.0 and will be removed in 0.2.0. Use invoke instead.\n",
      "  warn_deprecated(\n"
     ]
    },
    {
     "name": "stdout",
     "output_type": "stream",
     "text": [
      " D. Pasal 1 ayat 2 UUD Negara RI Tahun 1945\n",
      "\n",
      "\n",
      "Sources:\n",
      "Time:  93.0511269569397\n",
      "==============================================\n",
      "Nomor:  31\n",
      "Setiap orang berhak bebas dari perlakuan yang bersifat diskriminatif atas dasar apapun dan berhak mendapatkan perlindungan terhadap perlakuan yang bersifat diskriminatif itu, ada pada...\\n A.  Undang-undang Nomor 23 Tahun 2003 khususnya Pasal 6 I\\n B.  Pasal 21 A ayat 1 UUD Negara RI Tahun 1945\\n C.  Pasal 21 Z ayat 1 UUD Negara RI Tahun 1945\\n D.  Pasal 21 Y ayat 1 UUD Negara RI Tahun 1945\\n E.  Pasal 1 ayat 2 UUD Negara RI Tahun 1945\n"
     ]
    },
    {
     "name": "stderr",
     "output_type": "stream",
     "text": [
      "/opt/conda/lib/python3.10/site-packages/langchain_core/_api/deprecation.py:189: LangChainDeprecationWarning: The function `__call__` was deprecated in LangChain 0.1.0 and will be removed in 0.2.0. Use invoke instead.\n",
      "  warn_deprecated(\n",
      "/opt/conda/lib/python3.10/site-packages/langchain_core/_api/deprecation.py:189: LangChainDeprecationWarning: The function `run` was deprecated in LangChain 0.1.0 and will be removed in 0.2.0. Use invoke instead.\n",
      "  warn_deprecated(\n",
      "/opt/conda/lib/python3.10/site-packages/langchain_core/_api/deprecation.py:189: LangChainDeprecationWarning: The function `__call__` was deprecated in LangChain 0.1.0 and will be removed in 0.2.0. Use invoke instead.\n",
      "  warn_deprecated(\n",
      "/opt/conda/lib/python3.10/site-packages/langchain_core/_api/deprecation.py:189: LangChainDeprecationWarning: The function `__call__` was deprecated in LangChain 0.1.0 and will be removed in 0.2.0. Use invoke instead.\n",
      "  warn_deprecated(\n"
     ]
    },
    {
     "name": "stdout",
     "output_type": "stream",
     "text": [
      " A. Undang-undang Nomor 23 Tahun 2003 khususnya Pasal 6 I\n",
      "\n",
      "\n",
      "Sources:\n",
      "Time:  94.73657083511353\n",
      "==============================================\n",
      "Nomor:  32\n",
      "Setiap orang wajib menghormati hak azasi manusia orang lain dalam tertib kehidupan bermasyarakat, berbangsa dan bernegara, ada pada...\\n A.  Undang-undang Nomor 23 Tahun 2003 khususnya Pasal 5 ayat (1, 2, 3 dan 4)\\n B.  Pasal 21 A ayat 1 UUD Negara RI Tahun 1945\\n C.  Pasal 21 Z ayat 1 UUD Negara RI Tahun 1945\\n D.  Pasal 21 Y ayat 1 UUD Negara RI Tahun 1945\\n E.  Pasal 1 ayat 2 UUD Negara RI Tahun 1945\n"
     ]
    },
    {
     "name": "stderr",
     "output_type": "stream",
     "text": [
      "/opt/conda/lib/python3.10/site-packages/langchain_core/_api/deprecation.py:189: LangChainDeprecationWarning: The function `__call__` was deprecated in LangChain 0.1.0 and will be removed in 0.2.0. Use invoke instead.\n",
      "  warn_deprecated(\n",
      "/opt/conda/lib/python3.10/site-packages/langchain_core/_api/deprecation.py:189: LangChainDeprecationWarning: The function `run` was deprecated in LangChain 0.1.0 and will be removed in 0.2.0. Use invoke instead.\n",
      "  warn_deprecated(\n",
      "/opt/conda/lib/python3.10/site-packages/langchain_core/_api/deprecation.py:189: LangChainDeprecationWarning: The function `__call__` was deprecated in LangChain 0.1.0 and will be removed in 0.2.0. Use invoke instead.\n",
      "  warn_deprecated(\n",
      "/opt/conda/lib/python3.10/site-packages/langchain_core/_api/deprecation.py:189: LangChainDeprecationWarning: The function `__call__` was deprecated in LangChain 0.1.0 and will be removed in 0.2.0. Use invoke instead.\n",
      "  warn_deprecated(\n"
     ]
    },
    {
     "name": "stdout",
     "output_type": "stream",
     "text": [
      " A. Undang-undang Nomor 23 Tahun 2003 khususnya Pasal 5 ayat (1, 2, 3 dan 4)\n",
      "\n",
      "\n",
      "Sources:\n",
      "Time:  95.80527758598328\n",
      "==============================================\n",
      "Nomor:  33\n",
      "Setiap orang wajib menghormati hak azasi manusia orang lain dalam tertib kehidupan bermasyarakat, berbangsa dan bernegara, ada pada...\\n A.  Pasal 21 A ayat 1 UUD Negara RI Tahun 1945\\n B.  Pasal 21 Z ayat 1 UUD Negara RI Tahun 1945\\n C.  Pasal 21 Y ayat 1 UUD Negara RI Tahun 1945\\n D.  Pasal 1 ayat 2 UUD Negara RI Tahun 1945\\n E.  Undang-undang Nomor 23 Tahun 2003 khususnya Pasal 1 ayat (6)\n"
     ]
    },
    {
     "name": "stderr",
     "output_type": "stream",
     "text": [
      "/opt/conda/lib/python3.10/site-packages/langchain_core/_api/deprecation.py:189: LangChainDeprecationWarning: The function `__call__` was deprecated in LangChain 0.1.0 and will be removed in 0.2.0. Use invoke instead.\n",
      "  warn_deprecated(\n",
      "/opt/conda/lib/python3.10/site-packages/langchain_core/_api/deprecation.py:189: LangChainDeprecationWarning: The function `run` was deprecated in LangChain 0.1.0 and will be removed in 0.2.0. Use invoke instead.\n",
      "  warn_deprecated(\n",
      "/opt/conda/lib/python3.10/site-packages/langchain_core/_api/deprecation.py:189: LangChainDeprecationWarning: The function `__call__` was deprecated in LangChain 0.1.0 and will be removed in 0.2.0. Use invoke instead.\n",
      "  warn_deprecated(\n",
      "/opt/conda/lib/python3.10/site-packages/langchain_core/_api/deprecation.py:189: LangChainDeprecationWarning: The function `__call__` was deprecated in LangChain 0.1.0 and will be removed in 0.2.0. Use invoke instead.\n",
      "  warn_deprecated(\n"
     ]
    },
    {
     "name": "stdout",
     "output_type": "stream",
     "text": [
      " D. Pasal 1 ayat 2 UUD Negara RI Tahun 1945\n",
      "\n",
      "\n",
      "Sources:\n",
      "Time:  87.26502132415771\n",
      "==============================================\n",
      "Nomor:  34\n",
      "Setiap orang wajib menghormati hak azasi manusia orang lain dalam tertib kehidupan bermasyarakat, berbangsa dan bernegara, ada pada...\\n A.  Undang-undang Nomor 23 Tahun 2003 khususnya Pasal 6L\\n B.  Pasal 21 A ayat 1 UUD Negara RI Tahun 1945\\n C.  Pasal 21 Z ayat 1 UUD Negara RI Tahun 1945\\n D.  Pasal 21 Y ayat 1 UUD Negara RI Tahun 1945\\n E.  Pasal 1 ayat 2 UUD Negara RI Tahun 1945\n"
     ]
    },
    {
     "name": "stderr",
     "output_type": "stream",
     "text": [
      "/opt/conda/lib/python3.10/site-packages/langchain_core/_api/deprecation.py:189: LangChainDeprecationWarning: The function `__call__` was deprecated in LangChain 0.1.0 and will be removed in 0.2.0. Use invoke instead.\n",
      "  warn_deprecated(\n",
      "/opt/conda/lib/python3.10/site-packages/langchain_core/_api/deprecation.py:189: LangChainDeprecationWarning: The function `run` was deprecated in LangChain 0.1.0 and will be removed in 0.2.0. Use invoke instead.\n",
      "  warn_deprecated(\n",
      "/opt/conda/lib/python3.10/site-packages/langchain_core/_api/deprecation.py:189: LangChainDeprecationWarning: The function `__call__` was deprecated in LangChain 0.1.0 and will be removed in 0.2.0. Use invoke instead.\n",
      "  warn_deprecated(\n",
      "/opt/conda/lib/python3.10/site-packages/langchain_core/_api/deprecation.py:189: LangChainDeprecationWarning: The function `__call__` was deprecated in LangChain 0.1.0 and will be removed in 0.2.0. Use invoke instead.\n",
      "  warn_deprecated(\n"
     ]
    },
    {
     "name": "stdout",
     "output_type": "stream",
     "text": [
      " A. Undang-undang Nomor 23 Tahun 2003 khususnya Pasal 6L\n",
      "\n",
      "\n",
      "Sources:\n",
      "Time:  87.83908653259277\n",
      "==============================================\n",
      "Nomor:  35\n",
      "Setiap orang berhak hidup sejahtera lahir dan batin, bertempat tinggal dan mendapatkan lingkungan hidup yang baik dan sehat serta memperoleh pelayanan kesehatan, pada...\\n A.  Pasal 21 H ayat 1 (Konstitusi/UUD 1945)\\n B.  Pasal 28 H ayat 1 (Konstitusi/UUD 1945)\\n C.  Pasal 28 A ayat 1 (Konstitusi/UUD 1945)\\n D.  Pasal 28 B ayat 1 (Konstitusi/UUD 1945)\\n E.  Pasal 28 C ayat 1 (Konstitusi/UUD 1945)\n"
     ]
    },
    {
     "name": "stderr",
     "output_type": "stream",
     "text": [
      "/opt/conda/lib/python3.10/site-packages/langchain_core/_api/deprecation.py:189: LangChainDeprecationWarning: The function `__call__` was deprecated in LangChain 0.1.0 and will be removed in 0.2.0. Use invoke instead.\n",
      "  warn_deprecated(\n",
      "/opt/conda/lib/python3.10/site-packages/langchain_core/_api/deprecation.py:189: LangChainDeprecationWarning: The function `run` was deprecated in LangChain 0.1.0 and will be removed in 0.2.0. Use invoke instead.\n",
      "  warn_deprecated(\n",
      "/opt/conda/lib/python3.10/site-packages/langchain_core/_api/deprecation.py:189: LangChainDeprecationWarning: The function `__call__` was deprecated in LangChain 0.1.0 and will be removed in 0.2.0. Use invoke instead.\n",
      "  warn_deprecated(\n",
      "/opt/conda/lib/python3.10/site-packages/langchain_core/_api/deprecation.py:189: LangChainDeprecationWarning: The function `__call__` was deprecated in LangChain 0.1.0 and will be removed in 0.2.0. Use invoke instead.\n",
      "  warn_deprecated(\n"
     ]
    },
    {
     "name": "stdout",
     "output_type": "stream",
     "text": [
      " D. Pasal 28 B ayat 1 (Konstitusi/UUD 1945)\n",
      "\n",
      "\n",
      "Sources:\n",
      "Time:  91.9421775341034\n",
      "==============================================\n",
      "Nomor:  36\n",
      "Pada Pasal 51 ayat (1) Undang-undang Nomor 24 Tahun 2003 tentang Mahkamah Konstitusi. Pihak yang menganggap hak dan/atau kewenangan konstitusionalnya dirugikan oleh berlakunya suatu undang-undang adalah...\\n A.  Presiden\\n B.  Pemohon\\n C.  Wakil Presiden\\n D.  Polisi\\n E.  Tentara\n"
     ]
    },
    {
     "name": "stderr",
     "output_type": "stream",
     "text": [
      "/opt/conda/lib/python3.10/site-packages/langchain_core/_api/deprecation.py:189: LangChainDeprecationWarning: The function `__call__` was deprecated in LangChain 0.1.0 and will be removed in 0.2.0. Use invoke instead.\n",
      "  warn_deprecated(\n",
      "/opt/conda/lib/python3.10/site-packages/langchain_core/_api/deprecation.py:189: LangChainDeprecationWarning: The function `run` was deprecated in LangChain 0.1.0 and will be removed in 0.2.0. Use invoke instead.\n",
      "  warn_deprecated(\n",
      "/opt/conda/lib/python3.10/site-packages/langchain_core/_api/deprecation.py:189: LangChainDeprecationWarning: The function `__call__` was deprecated in LangChain 0.1.0 and will be removed in 0.2.0. Use invoke instead.\n",
      "  warn_deprecated(\n",
      "/opt/conda/lib/python3.10/site-packages/langchain_core/_api/deprecation.py:189: LangChainDeprecationWarning: The function `__call__` was deprecated in LangChain 0.1.0 and will be removed in 0.2.0. Use invoke instead.\n",
      "  warn_deprecated(\n"
     ]
    },
    {
     "name": "stdout",
     "output_type": "stream",
     "text": [
      " D. Polisi\n",
      "\n",
      "\n",
      "Sources:\n",
      "Time:  57.268110513687134\n",
      "==============================================\n",
      "Nomor:  37\n",
      "Pasal 51 ayat (1) Undang-undang Nomor 24 Tahun 2003 tentang Mahkamah Konstitusi menyatakan, Pemohon adalah pihak yang menganggap hak dan/atau kewenangan konstitusionalnya dirugikan oleh berlakunya suatu undang-undang, yaitu...\\n A.  perorangan warga negara Indonesia, kesatuan masyarakat hukum adat sepanjang masih hidup dan sesuai dengan perkembangan masyarakat dan prinsip-prinsip Negara Kesatuan Republik Indonesia yang diatur dalam undang-undang, badan hukum publik atau privat, atau lembaga negara\\n B.  Perorangan warga negara Indonesia, mempunyai darah daging, atau lembaga negara\\n C.  perorangan warga negara Indonesia, bekerja didalam pemeritahan, atau lembaga negara\\n D.  perorangan warga negara Indonesia, bisa berbahasa indonesia, badan hukum publik atau privat, atau lembaga negara\\n E.  perorangan warga negara Indonesia, kriminal, badan hukum publik atau privat, atau lembaga negara\n"
     ]
    },
    {
     "name": "stderr",
     "output_type": "stream",
     "text": [
      "/opt/conda/lib/python3.10/site-packages/langchain_core/_api/deprecation.py:189: LangChainDeprecationWarning: The function `__call__` was deprecated in LangChain 0.1.0 and will be removed in 0.2.0. Use invoke instead.\n",
      "  warn_deprecated(\n",
      "/opt/conda/lib/python3.10/site-packages/langchain_core/_api/deprecation.py:189: LangChainDeprecationWarning: The function `run` was deprecated in LangChain 0.1.0 and will be removed in 0.2.0. Use invoke instead.\n",
      "  warn_deprecated(\n",
      "/opt/conda/lib/python3.10/site-packages/langchain_core/_api/deprecation.py:189: LangChainDeprecationWarning: The function `__call__` was deprecated in LangChain 0.1.0 and will be removed in 0.2.0. Use invoke instead.\n",
      "  warn_deprecated(\n",
      "/opt/conda/lib/python3.10/site-packages/langchain_core/_api/deprecation.py:189: LangChainDeprecationWarning: The function `__call__` was deprecated in LangChain 0.1.0 and will be removed in 0.2.0. Use invoke instead.\n",
      "  warn_deprecated(\n"
     ]
    },
    {
     "name": "stdout",
     "output_type": "stream",
     "text": [
      " A\n",
      "\n",
      "\n",
      "Sources:\n",
      "Time:  125.26814317703247\n",
      "==============================================\n",
      "Nomor:  38\n",
      "Setiap orang berhak atas pengakuan, jaminan, perlindungan, dan kepastian hukum yang adil serta perlakuan yang sama di hadapan hukum, bunyi dari…\\n A.  Pasal 28D ayat (1) UUD 1945\\n B.  Pasal 27D ayat (1) UUD 1945\\n C.  Pasal 26D ayat (1) UUD 1945\\n D.  Pasal 25D ayat (1) UUD 1945\\n E.  Pasal 24D ayat (1) UUD 1945\n"
     ]
    },
    {
     "name": "stderr",
     "output_type": "stream",
     "text": [
      "/opt/conda/lib/python3.10/site-packages/langchain_core/_api/deprecation.py:189: LangChainDeprecationWarning: The function `__call__` was deprecated in LangChain 0.1.0 and will be removed in 0.2.0. Use invoke instead.\n",
      "  warn_deprecated(\n",
      "/opt/conda/lib/python3.10/site-packages/langchain_core/_api/deprecation.py:189: LangChainDeprecationWarning: The function `run` was deprecated in LangChain 0.1.0 and will be removed in 0.2.0. Use invoke instead.\n",
      "  warn_deprecated(\n",
      "/opt/conda/lib/python3.10/site-packages/langchain_core/_api/deprecation.py:189: LangChainDeprecationWarning: The function `__call__` was deprecated in LangChain 0.1.0 and will be removed in 0.2.0. Use invoke instead.\n",
      "  warn_deprecated(\n",
      "/opt/conda/lib/python3.10/site-packages/langchain_core/_api/deprecation.py:189: LangChainDeprecationWarning: The function `__call__` was deprecated in LangChain 0.1.0 and will be removed in 0.2.0. Use invoke instead.\n",
      "  warn_deprecated(\n"
     ]
    },
    {
     "name": "stdout",
     "output_type": "stream",
     "text": [
      " A.  Pasal 28D ayat (1) UUD 1945\n",
      "\n",
      "\n",
      "Sources:\n",
      "Time:  78.2408537864685\n",
      "==============================================\n",
      "Nomor:  39\n",
      "Setiap orang berhak atas kebebasan meyakini kepercayaan, menyatakan pikiran dan sikap, sesuai dengan hati nuraninya, dari pasal…\\n A.  Pasal 28F ayat (2) UUD 1945\\n B.  Pasal 28A ayat (2) UUD 1945\\n C.  Pasal 28B ayat (2) UUD 1945\\n D.  Pasal 28C ayat (2) UUD 1945\\n E.  Pasal 28E ayat (2) UUD 1945\n"
     ]
    },
    {
     "name": "stderr",
     "output_type": "stream",
     "text": [
      "/opt/conda/lib/python3.10/site-packages/langchain_core/_api/deprecation.py:189: LangChainDeprecationWarning: The function `__call__` was deprecated in LangChain 0.1.0 and will be removed in 0.2.0. Use invoke instead.\n",
      "  warn_deprecated(\n",
      "/opt/conda/lib/python3.10/site-packages/langchain_core/_api/deprecation.py:189: LangChainDeprecationWarning: The function `run` was deprecated in LangChain 0.1.0 and will be removed in 0.2.0. Use invoke instead.\n",
      "  warn_deprecated(\n",
      "/opt/conda/lib/python3.10/site-packages/langchain_core/_api/deprecation.py:189: LangChainDeprecationWarning: The function `__call__` was deprecated in LangChain 0.1.0 and will be removed in 0.2.0. Use invoke instead.\n",
      "  warn_deprecated(\n",
      "/opt/conda/lib/python3.10/site-packages/langchain_core/_api/deprecation.py:189: LangChainDeprecationWarning: The function `__call__` was deprecated in LangChain 0.1.0 and will be removed in 0.2.0. Use invoke instead.\n",
      "  warn_deprecated(\n"
     ]
    },
    {
     "name": "stdout",
     "output_type": "stream",
     "text": [
      " C. Pasal 28B ayat (2) UUD 1945\n",
      "\n",
      "\n",
      "Sources:\n",
      "Time:  75.04925966262817\n",
      "==============================================\n",
      "Nomor:  40\n",
      "Setiap orang berhak atas kebebasan berserikat, berkumpul dan mengeluarkan pendapat, dari pasal…\\n A.  Pasal 28A ayat (3) UUD 1945\\n B.  Pasal 28E ayat (3) UUD 1945\\n C.  Pasal 28B ayat (3) UUD 1945\\n D.  Pasal 28C ayat (3) UUD 1945\\n E.  Pasal 28D ayat (3) UUD 1945\n"
     ]
    },
    {
     "name": "stderr",
     "output_type": "stream",
     "text": [
      "/opt/conda/lib/python3.10/site-packages/langchain_core/_api/deprecation.py:189: LangChainDeprecationWarning: The function `__call__` was deprecated in LangChain 0.1.0 and will be removed in 0.2.0. Use invoke instead.\n",
      "  warn_deprecated(\n",
      "/opt/conda/lib/python3.10/site-packages/langchain_core/_api/deprecation.py:189: LangChainDeprecationWarning: The function `run` was deprecated in LangChain 0.1.0 and will be removed in 0.2.0. Use invoke instead.\n",
      "  warn_deprecated(\n",
      "/opt/conda/lib/python3.10/site-packages/langchain_core/_api/deprecation.py:189: LangChainDeprecationWarning: The function `__call__` was deprecated in LangChain 0.1.0 and will be removed in 0.2.0. Use invoke instead.\n",
      "  warn_deprecated(\n",
      "/opt/conda/lib/python3.10/site-packages/langchain_core/_api/deprecation.py:189: LangChainDeprecationWarning: The function `__call__` was deprecated in LangChain 0.1.0 and will be removed in 0.2.0. Use invoke instead.\n",
      "  warn_deprecated(\n"
     ]
    },
    {
     "name": "stdout",
     "output_type": "stream",
     "text": [
      " A\n",
      "\n",
      "\n",
      "Sources:\n",
      "Time:  64.33121299743652\n",
      "==============================================\n",
      "Nomor:  41\n",
      "Setiap orang berhak untuk berkomunikasi dan memperoleh informasi untuk mengembangkan pribadi dan lingkungan sosialnya, serta berhak untuk mencari, memperoleh, memiliki, menyimpan, mengolah, dan menyampaikan informasi dengan menggunakan segala jenis saluran yang tersedia, ada pada pasal...\\n A.  Pasal 28B UUD 1945\\n B.  Pasal 28C UUD 1945\\n C.  Pasal 28E UUD 1945\\n D.  Pasal 28E UUD 1945\\n E.  Pasal 28F UUD 1945\n"
     ]
    },
    {
     "name": "stderr",
     "output_type": "stream",
     "text": [
      "/opt/conda/lib/python3.10/site-packages/langchain_core/_api/deprecation.py:189: LangChainDeprecationWarning: The function `__call__` was deprecated in LangChain 0.1.0 and will be removed in 0.2.0. Use invoke instead.\n",
      "  warn_deprecated(\n",
      "/opt/conda/lib/python3.10/site-packages/langchain_core/_api/deprecation.py:189: LangChainDeprecationWarning: The function `run` was deprecated in LangChain 0.1.0 and will be removed in 0.2.0. Use invoke instead.\n",
      "  warn_deprecated(\n",
      "/opt/conda/lib/python3.10/site-packages/langchain_core/_api/deprecation.py:189: LangChainDeprecationWarning: The function `__call__` was deprecated in LangChain 0.1.0 and will be removed in 0.2.0. Use invoke instead.\n",
      "  warn_deprecated(\n",
      "/opt/conda/lib/python3.10/site-packages/langchain_core/_api/deprecation.py:189: LangChainDeprecationWarning: The function `__call__` was deprecated in LangChain 0.1.0 and will be removed in 0.2.0. Use invoke instead.\n",
      "  warn_deprecated(\n"
     ]
    },
    {
     "name": "stdout",
     "output_type": "stream",
     "text": [
      " A.  Pasal 28B UUD 1945\n",
      "\n",
      "\n",
      "Sources:\n",
      "Time:  83.26079607009888\n",
      "==============================================\n",
      "Nomor:  42\n",
      "Setiap orang yang memenuhi unsur sebagaimana dimaksud dalam Pasal 27 ayat (1), ayat (2), ayat (3), atau ayat (4) dipidana dengan pidana penjara paling lama…\\n A.  5 (lima) tahun\\n B.  6 (enam) tahun\\n C.  7 (tujuh) tahun\\n D.  8 (delapan) tahun\\n E.  9 (sembilan) tahun\n"
     ]
    },
    {
     "name": "stderr",
     "output_type": "stream",
     "text": [
      "/opt/conda/lib/python3.10/site-packages/langchain_core/_api/deprecation.py:189: LangChainDeprecationWarning: The function `__call__` was deprecated in LangChain 0.1.0 and will be removed in 0.2.0. Use invoke instead.\n",
      "  warn_deprecated(\n",
      "/opt/conda/lib/python3.10/site-packages/langchain_core/_api/deprecation.py:189: LangChainDeprecationWarning: The function `run` was deprecated in LangChain 0.1.0 and will be removed in 0.2.0. Use invoke instead.\n",
      "  warn_deprecated(\n",
      "/opt/conda/lib/python3.10/site-packages/langchain_core/_api/deprecation.py:189: LangChainDeprecationWarning: The function `__call__` was deprecated in LangChain 0.1.0 and will be removed in 0.2.0. Use invoke instead.\n",
      "  warn_deprecated(\n",
      "/opt/conda/lib/python3.10/site-packages/langchain_core/_api/deprecation.py:189: LangChainDeprecationWarning: The function `__call__` was deprecated in LangChain 0.1.0 and will be removed in 0.2.0. Use invoke instead.\n",
      "  warn_deprecated(\n"
     ]
    },
    {
     "name": "stdout",
     "output_type": "stream",
     "text": [
      " D. 8 TAHUN\n",
      "\n",
      "\n",
      "Sources:\n",
      "Time:  59.15683150291443\n",
      "==============================================\n",
      "Nomor:  43\n",
      "Setiap orang yang memenuhi unsur sebagaimana dimaksud dalam Pasal 27 ayat (1), ayat (2), ayat (3), atau ayat (4) dipidana dengan pidana penjara paling lama 6 (enam) tahun dan/atau denda paling banyak…\\n A.  Rp 2.000.000.000,00 (dua miliar rupiah)\\n B.  Rp 3.000.000.000,00 (tiga miliar rupiah)\\n C.  Rp 1.000.000.000,00 (satu miliar rupiah)\\n D.  Rp 4.000.000.000,00 (empat miliar rupiah)\\n E.  Rp 5.000.000.000,00 (lima miliar rupiah)\n"
     ]
    },
    {
     "name": "stderr",
     "output_type": "stream",
     "text": [
      "/opt/conda/lib/python3.10/site-packages/langchain_core/_api/deprecation.py:189: LangChainDeprecationWarning: The function `__call__` was deprecated in LangChain 0.1.0 and will be removed in 0.2.0. Use invoke instead.\n",
      "  warn_deprecated(\n",
      "/opt/conda/lib/python3.10/site-packages/langchain_core/_api/deprecation.py:189: LangChainDeprecationWarning: The function `run` was deprecated in LangChain 0.1.0 and will be removed in 0.2.0. Use invoke instead.\n",
      "  warn_deprecated(\n",
      "/opt/conda/lib/python3.10/site-packages/langchain_core/_api/deprecation.py:189: LangChainDeprecationWarning: The function `__call__` was deprecated in LangChain 0.1.0 and will be removed in 0.2.0. Use invoke instead.\n",
      "  warn_deprecated(\n",
      "/opt/conda/lib/python3.10/site-packages/langchain_core/_api/deprecation.py:189: LangChainDeprecationWarning: The function `__call__` was deprecated in LangChain 0.1.0 and will be removed in 0.2.0. Use invoke instead.\n",
      "  warn_deprecated(\n"
     ]
    },
    {
     "name": "stdout",
     "output_type": "stream",
     "text": [
      " D.  Rp 4.000.000.000,00 (empat miliar rupiah)\n",
      "\n",
      "\n",
      "Sources:\n",
      "Time:  101.71028065681458\n",
      "==============================================\n",
      "Nomor:  44\n",
      "Undang-Undang Nomor 32 Tahun 2004, sebagaimana tertakhir telah diubah dengan…\\n A.  Undang-Undang Nomor 11 Tahun 2008\\n B.  Undang-Undang Nomor 12 Tahun 2008\\n C.  Undang-Undang Nomor 13 Tahun 2008\\n D.  Undang-Undang Nomor 14 Tahun 2008\\n E.  Undang-Undang Nomor 15 Tahun 2008\n"
     ]
    },
    {
     "name": "stderr",
     "output_type": "stream",
     "text": [
      "/opt/conda/lib/python3.10/site-packages/langchain_core/_api/deprecation.py:189: LangChainDeprecationWarning: The function `__call__` was deprecated in LangChain 0.1.0 and will be removed in 0.2.0. Use invoke instead.\n",
      "  warn_deprecated(\n",
      "/opt/conda/lib/python3.10/site-packages/langchain_core/_api/deprecation.py:189: LangChainDeprecationWarning: The function `run` was deprecated in LangChain 0.1.0 and will be removed in 0.2.0. Use invoke instead.\n",
      "  warn_deprecated(\n",
      "/opt/conda/lib/python3.10/site-packages/langchain_core/_api/deprecation.py:189: LangChainDeprecationWarning: The function `__call__` was deprecated in LangChain 0.1.0 and will be removed in 0.2.0. Use invoke instead.\n",
      "  warn_deprecated(\n",
      "/opt/conda/lib/python3.10/site-packages/langchain_core/_api/deprecation.py:189: LangChainDeprecationWarning: The function `__call__` was deprecated in LangChain 0.1.0 and will be removed in 0.2.0. Use invoke instead.\n",
      "  warn_deprecated(\n"
     ]
    },
    {
     "name": "stdout",
     "output_type": "stream",
     "text": [
      " B.  Undang-Undang Nomor 12 Tahun 2008\n",
      "\n",
      "\n",
      "Sources:\n",
      "Time:  69.08173418045044\n",
      "==============================================\n",
      "Nomor:  45\n",
      "Undang-Undang Nomor 12 Tahun 2008 tentang Perubahan Kedua Atas Undang-Undang Nomor 32 Tahun 2004 tentang Pemerintahan Daerah, dalam Pasal  236C menetapkan...\\n A.  Penanganan sengketa hasil penghitungan suara pemilihan kepala daerah dan wakil kepala daerah oleh Mahkamah Agung dialihkan kepada Mahkamah Konstitusi paling lama 18 (delapan belas) bulan sejak Undang-Undang ini diundangkan\\n B.  Mahkamah Agung berwenang mengadili pada tingkat pertama dan terakhir yang putusannya bersifat final, antara lain, untuk memutus perselisihan tentang hasil pemilihan umum\\n C.  Mahkamah Konstitusi berwenang mengadili pada tingkat pertama dan terakhir yang putusannya bersifat final, antara lain, untuk memutus perselisihan tentang hasil pemilihan umum\\n D.  Kepolisian Negara Indonesia mengadili pada tingkat pertama dan terakhir yang putusannya bersifat final, antara lain, untuk memutus perselisihan tentang hasil pemilihan umum\\n E.  Presiden Republik Indonesia mengadili pada tingkat pertama dan terakhir yang putusannya bersifat final, antara lain, untuk memutus perselisihan tentang hasil pemilihan umum\n"
     ]
    },
    {
     "name": "stderr",
     "output_type": "stream",
     "text": [
      "/opt/conda/lib/python3.10/site-packages/langchain_core/_api/deprecation.py:189: LangChainDeprecationWarning: The function `__call__` was deprecated in LangChain 0.1.0 and will be removed in 0.2.0. Use invoke instead.\n",
      "  warn_deprecated(\n",
      "/opt/conda/lib/python3.10/site-packages/langchain_core/_api/deprecation.py:189: LangChainDeprecationWarning: The function `run` was deprecated in LangChain 0.1.0 and will be removed in 0.2.0. Use invoke instead.\n",
      "  warn_deprecated(\n",
      "/opt/conda/lib/python3.10/site-packages/langchain_core/_api/deprecation.py:189: LangChainDeprecationWarning: The function `__call__` was deprecated in LangChain 0.1.0 and will be removed in 0.2.0. Use invoke instead.\n",
      "  warn_deprecated(\n",
      "/opt/conda/lib/python3.10/site-packages/langchain_core/_api/deprecation.py:189: LangChainDeprecationWarning: The function `__call__` was deprecated in LangChain 0.1.0 and will be removed in 0.2.0. Use invoke instead.\n",
      "  warn_deprecated(\n"
     ]
    },
    {
     "name": "stdout",
     "output_type": "stream",
     "text": [
      " E. Presiden Republik Indonesia mengadili pada tingkat pertama dan terakhir yang putusannya bersifat final,\n",
      "antara lain, untuk memputus perselisihan tentang hasil pemilihan umum\n",
      "\n",
      "\n",
      "Sources:\n",
      "Time:  166.90650725364685\n",
      "==============================================\n",
      "Nomor:  46\n",
      "Gubernur, Bupati, dan walikota masing-masing sebagai kepala pemerintah daerah provinsi, kabupaten, dan kota dipilih secara demokratis, ada pada pasal…\\n A.  UU Dasar 1945 Pasal 18 ayat (4)\\n B.  UU Dasar 1945 Pasal 22E ayat (1)\\n C.  UU Dasar 1945 Pasal 27 ayat (1)\\n D.  UU Dasar 1945 Pasal 28C ayat (2)\\n E.  UU Dasar 1945 Pasal 28D ayat (1)\n"
     ]
    },
    {
     "name": "stderr",
     "output_type": "stream",
     "text": [
      "/opt/conda/lib/python3.10/site-packages/langchain_core/_api/deprecation.py:189: LangChainDeprecationWarning: The function `__call__` was deprecated in LangChain 0.1.0 and will be removed in 0.2.0. Use invoke instead.\n",
      "  warn_deprecated(\n",
      "/opt/conda/lib/python3.10/site-packages/langchain_core/_api/deprecation.py:189: LangChainDeprecationWarning: The function `run` was deprecated in LangChain 0.1.0 and will be removed in 0.2.0. Use invoke instead.\n",
      "  warn_deprecated(\n",
      "/opt/conda/lib/python3.10/site-packages/langchain_core/_api/deprecation.py:189: LangChainDeprecationWarning: The function `__call__` was deprecated in LangChain 0.1.0 and will be removed in 0.2.0. Use invoke instead.\n",
      "  warn_deprecated(\n",
      "/opt/conda/lib/python3.10/site-packages/langchain_core/_api/deprecation.py:189: LangChainDeprecationWarning: The function `__call__` was deprecated in LangChain 0.1.0 and will be removed in 0.2.0. Use invoke instead.\n",
      "  warn_deprecated(\n"
     ]
    },
    {
     "name": "stdout",
     "output_type": "stream",
     "text": [
      " A.  UU Dasar 1945 Pasal 18 ayat (4)\n",
      "\n",
      "\n",
      "Sources:\n",
      "Time:  79.33960390090942\n",
      "==============================================\n",
      "Nomor:  47\n",
      "Pemilihan umum dilaksanakan secara langsung, umum, bebas, rahasia, jujur, dan adil setiap lima tahun sekali, pada pasal…\\n A.  UU Dasar 1945 Pasal 18 ayat (4)\\n B.  UU Dasar 1945 Pasal 22E ayat (1)\\n C.  UU Dasar 1945 Pasal 27 ayat (1)\\n D.  UU Dasar 1945 Pasal 28C ayat (2)\\n E.  UU Dasar 1945 Pasal 28D ayat (1)\n"
     ]
    },
    {
     "name": "stderr",
     "output_type": "stream",
     "text": [
      "/opt/conda/lib/python3.10/site-packages/langchain_core/_api/deprecation.py:189: LangChainDeprecationWarning: The function `__call__` was deprecated in LangChain 0.1.0 and will be removed in 0.2.0. Use invoke instead.\n",
      "  warn_deprecated(\n",
      "/opt/conda/lib/python3.10/site-packages/langchain_core/_api/deprecation.py:189: LangChainDeprecationWarning: The function `run` was deprecated in LangChain 0.1.0 and will be removed in 0.2.0. Use invoke instead.\n",
      "  warn_deprecated(\n",
      "/opt/conda/lib/python3.10/site-packages/langchain_core/_api/deprecation.py:189: LangChainDeprecationWarning: The function `__call__` was deprecated in LangChain 0.1.0 and will be removed in 0.2.0. Use invoke instead.\n",
      "  warn_deprecated(\n",
      "/opt/conda/lib/python3.10/site-packages/langchain_core/_api/deprecation.py:189: LangChainDeprecationWarning: The function `__call__` was deprecated in LangChain 0.1.0 and will be removed in 0.2.0. Use invoke instead.\n",
      "  warn_deprecated(\n"
     ]
    },
    {
     "name": "stdout",
     "output_type": "stream",
     "text": [
      " C.  UU Dasar 1945 Pasal 27 ayat (1)\n",
      "\n",
      "\n",
      "Sources:\n",
      "Time:  75.63169074058533\n",
      "==============================================\n",
      "Nomor:  48\n",
      "Segala warga negara bersamaan kedudukannya didalam hukum dan pemerintahan dan wajib menjunjung hukum dan pemerintahan itu dengan tidak ada kecualinya, pada pasal…\\n A.  UU Dasar 1945 Pasal 18 ayat (4)\\n B.  UU Dasar 1945 Pasal 22E ayat (1)\\n C.  UU Dasar 1945 Pasal 27 ayat (1)\\n D.  UU Dasar 1945 Pasal 28C ayat (2)\\n E.  UU Dasar 1945 Pasal 28D ayat (1)\n"
     ]
    },
    {
     "name": "stderr",
     "output_type": "stream",
     "text": [
      "/opt/conda/lib/python3.10/site-packages/langchain_core/_api/deprecation.py:189: LangChainDeprecationWarning: The function `__call__` was deprecated in LangChain 0.1.0 and will be removed in 0.2.0. Use invoke instead.\n",
      "  warn_deprecated(\n",
      "/opt/conda/lib/python3.10/site-packages/langchain_core/_api/deprecation.py:189: LangChainDeprecationWarning: The function `run` was deprecated in LangChain 0.1.0 and will be removed in 0.2.0. Use invoke instead.\n",
      "  warn_deprecated(\n",
      "/opt/conda/lib/python3.10/site-packages/langchain_core/_api/deprecation.py:189: LangChainDeprecationWarning: The function `__call__` was deprecated in LangChain 0.1.0 and will be removed in 0.2.0. Use invoke instead.\n",
      "  warn_deprecated(\n",
      "/opt/conda/lib/python3.10/site-packages/langchain_core/_api/deprecation.py:189: LangChainDeprecationWarning: The function `__call__` was deprecated in LangChain 0.1.0 and will be removed in 0.2.0. Use invoke instead.\n",
      "  warn_deprecated(\n"
     ]
    },
    {
     "name": "stdout",
     "output_type": "stream",
     "text": [
      " A.  UU Dasar 1945 Pasal 18 ayat (4)\n",
      "\n",
      "\n",
      "Sources:\n",
      "Time:  81.69706535339355\n",
      "==============================================\n",
      "Nomor:  49\n",
      "Setiap orang berhak untuk memajukan dirinya dalam memperjuangkan haknya secara kolektif untuk membangun masyarakat, bangsa dan negaranya, ada pada pasal…\\n A.  UU Dasar 1945 Pasal 18 ayat (4)\\n B.  UU Dasar 1945 Pasal 22E ayat (1)\\n C.  UU Dasar 1945 Pasal 27 ayat (1)\\n D.  UU Dasar 1945 Pasal 28C ayat (2)\\n E.  UU Dasar 1945 Pasal 28D ayat (1)\n"
     ]
    },
    {
     "name": "stderr",
     "output_type": "stream",
     "text": [
      "/opt/conda/lib/python3.10/site-packages/langchain_core/_api/deprecation.py:189: LangChainDeprecationWarning: The function `__call__` was deprecated in LangChain 0.1.0 and will be removed in 0.2.0. Use invoke instead.\n",
      "  warn_deprecated(\n",
      "/opt/conda/lib/python3.10/site-packages/langchain_core/_api/deprecation.py:189: LangChainDeprecationWarning: The function `run` was deprecated in LangChain 0.1.0 and will be removed in 0.2.0. Use invoke instead.\n",
      "  warn_deprecated(\n",
      "/opt/conda/lib/python3.10/site-packages/langchain_core/_api/deprecation.py:189: LangChainDeprecationWarning: The function `__call__` was deprecated in LangChain 0.1.0 and will be removed in 0.2.0. Use invoke instead.\n",
      "  warn_deprecated(\n",
      "/opt/conda/lib/python3.10/site-packages/langchain_core/_api/deprecation.py:189: LangChainDeprecationWarning: The function `__call__` was deprecated in LangChain 0.1.0 and will be removed in 0.2.0. Use invoke instead.\n",
      "  warn_deprecated(\n"
     ]
    },
    {
     "name": "stdout",
     "output_type": "stream",
     "text": [
      " A.  UU Dasar 1945 Pasal 18 ayat (4)\n",
      "\n",
      "\n",
      "Sources:\n",
      "Time:  78.013906955719\n",
      "==============================================\n",
      "Nomor:  50\n",
      "Setiap orang berhak atas pengakuan, jaminan, perlindungan, dan kepastian hukum yan adil serta perlakuan yang sama dihadapan hukum, ada pada pasal…\\n A.  UU Dasar 1945 Pasal 18 ayat (4)\\n B.  UU Dasar 1945 Pasal 22E ayat (1)\\n C.  UU Dasar 1945 Pasal 27 ayat (1)\\n D.  UU Dasar 1945 Pasal 28C ayat (2)\\n E.  UU Dasar 1945 Pasal 28D ayat (1)\n"
     ]
    },
    {
     "name": "stderr",
     "output_type": "stream",
     "text": [
      "/opt/conda/lib/python3.10/site-packages/langchain_core/_api/deprecation.py:189: LangChainDeprecationWarning: The function `__call__` was deprecated in LangChain 0.1.0 and will be removed in 0.2.0. Use invoke instead.\n",
      "  warn_deprecated(\n",
      "/opt/conda/lib/python3.10/site-packages/langchain_core/_api/deprecation.py:189: LangChainDeprecationWarning: The function `run` was deprecated in LangChain 0.1.0 and will be removed in 0.2.0. Use invoke instead.\n",
      "  warn_deprecated(\n",
      "/opt/conda/lib/python3.10/site-packages/langchain_core/_api/deprecation.py:189: LangChainDeprecationWarning: The function `__call__` was deprecated in LangChain 0.1.0 and will be removed in 0.2.0. Use invoke instead.\n",
      "  warn_deprecated(\n",
      "/opt/conda/lib/python3.10/site-packages/langchain_core/_api/deprecation.py:189: LangChainDeprecationWarning: The function `__call__` was deprecated in LangChain 0.1.0 and will be removed in 0.2.0. Use invoke instead.\n",
      "  warn_deprecated(\n"
     ]
    },
    {
     "name": "stdout",
     "output_type": "stream",
     "text": [
      " A.  UU Dasar 1945 Pasal 18 ayat (4)\n",
      "\n",
      "\n",
      "Sources:\n",
      "Time:  79.27408337593079\n",
      "==============================================\n",
      "Nomor:  51\n",
      "Based on Article 24C paragraph (1) of the 1945 Constitution of the Republic of Indonesia (hereinafter referred to as the 1945 Constitution) states that…\\n A.  The Supreme Court has the authority to adjudicate at the first and final level whose decisions are final, among other things, to decide disputes regarding the results of general elections \\n B.  The Constitutional Court has the authority to adjudicate at the first and final level whose decisions are final, among other things, to decide disputes regarding the results of general elections \\n C.  The Indonesian National Police adjudicates at the first and final level whose decision is final, among other things, to decide disputes regarding the results of the general election\\n D.  Presiden Republik Indonesia mengadili pada tingkat pertama dan terakhir yang putusannya bersifat final, antara lain, untuk memutus perselisihan tentang hasil pemilihan umum\\n E.  The President of the Republic of Indonesia adjudicates at the first and final level whose decision is final, among other things, to decide disputes regarding the results of the general election \n"
     ]
    },
    {
     "name": "stderr",
     "output_type": "stream",
     "text": [
      "/opt/conda/lib/python3.10/site-packages/langchain_core/_api/deprecation.py:189: LangChainDeprecationWarning: The function `__call__` was deprecated in LangChain 0.1.0 and will be removed in 0.2.0. Use invoke instead.\n",
      "  warn_deprecated(\n",
      "/opt/conda/lib/python3.10/site-packages/langchain_core/_api/deprecation.py:189: LangChainDeprecationWarning: The function `run` was deprecated in LangChain 0.1.0 and will be removed in 0.2.0. Use invoke instead.\n",
      "  warn_deprecated(\n",
      "/opt/conda/lib/python3.10/site-packages/langchain_core/_api/deprecation.py:189: LangChainDeprecationWarning: The function `__call__` was deprecated in LangChain 0.1.0 and will be removed in 0.2.0. Use invoke instead.\n",
      "  warn_deprecated(\n",
      "/opt/conda/lib/python3.10/site-packages/langchain_core/_api/deprecation.py:189: LangChainDeprecationWarning: The function `__call__` was deprecated in LangChain 0.1.0 and will be removed in 0.2.0. Use invoke instead.\n",
      "  warn_deprecated(\n"
     ]
    },
    {
     "name": "stdout",
     "output_type": "stream",
     "text": [
      " B. The Constitutional Court has the authority to adjudicate at the first and final level whose decisions are\n",
      "final, among other things, to decide disputes regarding the results of general elections\n",
      "\n",
      "\n",
      "Sources:\n",
      "Time:  109.58996391296387\n",
      "==============================================\n",
      "Nomor:  52\n",
      "Applications are submitted within a maximum period of 3 x 24 (three times twenty four) hours from the announcement of the determination of the vote results for the National DPR and DPRD Member Elections by the KPU. The contents of this statement are in article...\\n A.  Article 70 paragraph (3) of the Constitutional Court Law, Article 111 paragraph (2) of the Election Law, and Article 6 paragraph (1) of PMK Number 2 of 2018\\n B.  Article 74 paragraph (3) of the Constitutional Court Law, Article 474 paragraph (2) of the Election Law, and Article 2 paragraph (1) of PMK Number 2 of 2011\\n C.  Article 74 paragraph (3) of the Constitutional Court Law, Article 474 paragraph (2) of the Election Law, and Article 1 paragraph (1) of PMK Number 2 of 2018\\n D.  Pasal 74 ayat (3) UU MK, Pasal 474 ayat (2) UU Pemilu, dan Pasal 6 ayat (1) PMK Nomor 2 Tahun 2018\\n E.  Article 74 paragraph (3) of the Constitutional Court Law, Article 474 paragraph (2) of the Election Law, and Article 6 paragraph (1) of PMK Number 2 of 2018\n"
     ]
    },
    {
     "name": "stderr",
     "output_type": "stream",
     "text": [
      "/opt/conda/lib/python3.10/site-packages/langchain_core/_api/deprecation.py:189: LangChainDeprecationWarning: The function `__call__` was deprecated in LangChain 0.1.0 and will be removed in 0.2.0. Use invoke instead.\n",
      "  warn_deprecated(\n",
      "/opt/conda/lib/python3.10/site-packages/langchain_core/_api/deprecation.py:189: LangChainDeprecationWarning: The function `run` was deprecated in LangChain 0.1.0 and will be removed in 0.2.0. Use invoke instead.\n",
      "  warn_deprecated(\n",
      "/opt/conda/lib/python3.10/site-packages/langchain_core/_api/deprecation.py:189: LangChainDeprecationWarning: The function `__call__` was deprecated in LangChain 0.1.0 and will be removed in 0.2.0. Use invoke instead.\n",
      "  warn_deprecated(\n",
      "/opt/conda/lib/python3.10/site-packages/langchain_core/_api/deprecation.py:189: LangChainDeprecationWarning: The function `__call__` was deprecated in LangChain 0.1.0 and will be removed in 0.2.0. Use invoke instead.\n",
      "  warn_deprecated(\n"
     ]
    },
    {
     "name": "stdout",
     "output_type": "stream",
     "text": [
      " D\n",
      "\n",
      "\n",
      "Sources:\n",
      "Time:  121.59732222557068\n",
      "==============================================\n",
      "Nomor:  53\n",
      "Article 1 paragraph (3) of the 1945 Constitution which reads…\\n A.  Indonesia is a country of law\\n B.  Indonesia is an Islamic country\\n C.  Indonesia is a liberal country\\n D.  Negara Indonesia adalah negara kepulauan\\n E.  Indonesia is an archipelagic country\n"
     ]
    },
    {
     "name": "stderr",
     "output_type": "stream",
     "text": [
      "/opt/conda/lib/python3.10/site-packages/langchain_core/_api/deprecation.py:189: LangChainDeprecationWarning: The function `__call__` was deprecated in LangChain 0.1.0 and will be removed in 0.2.0. Use invoke instead.\n",
      "  warn_deprecated(\n",
      "/opt/conda/lib/python3.10/site-packages/langchain_core/_api/deprecation.py:189: LangChainDeprecationWarning: The function `run` was deprecated in LangChain 0.1.0 and will be removed in 0.2.0. Use invoke instead.\n",
      "  warn_deprecated(\n",
      "/opt/conda/lib/python3.10/site-packages/langchain_core/_api/deprecation.py:189: LangChainDeprecationWarning: The function `__call__` was deprecated in LangChain 0.1.0 and will be removed in 0.2.0. Use invoke instead.\n",
      "  warn_deprecated(\n",
      "/opt/conda/lib/python3.10/site-packages/langchain_core/_api/deprecation.py:189: LangChainDeprecationWarning: The function `__call__` was deprecated in LangChain 0.1.0 and will be removed in 0.2.0. Use invoke instead.\n",
      "  warn_deprecated(\n"
     ]
    },
    {
     "name": "stdout",
     "output_type": "stream",
     "text": [
      " D. Negara Indonesia adalah negara kepulauan\n",
      "\n",
      "\n",
      "Sources:\n",
      "Time:  45.12533378601074\n",
      "==============================================\n",
      "Nomor:  54\n",
      "Whereas the norm of Article 244 of the KUHP has created uncertainty for the Petitioner and that this uncertainty has harmed his Constitutional Rights as stipulated in…\\n A.  Article 21D paragraph (1) of the 1945 Constitution\\n B.  Article 22D paragraph (1) of the 1945 Constitution\\n C.  Article 23D paragraph (1) of the 1945 Constitution\\n D.  Pasal 24D ayat (1) UUD 1945\\n E.  Article 24D paragraph (1) of the 1945 Constitution\n"
     ]
    },
    {
     "name": "stderr",
     "output_type": "stream",
     "text": [
      "/opt/conda/lib/python3.10/site-packages/langchain_core/_api/deprecation.py:189: LangChainDeprecationWarning: The function `__call__` was deprecated in LangChain 0.1.0 and will be removed in 0.2.0. Use invoke instead.\n",
      "  warn_deprecated(\n",
      "/opt/conda/lib/python3.10/site-packages/langchain_core/_api/deprecation.py:189: LangChainDeprecationWarning: The function `run` was deprecated in LangChain 0.1.0 and will be removed in 0.2.0. Use invoke instead.\n",
      "  warn_deprecated(\n",
      "/opt/conda/lib/python3.10/site-packages/langchain_core/_api/deprecation.py:189: LangChainDeprecationWarning: The function `__call__` was deprecated in LangChain 0.1.0 and will be removed in 0.2.0. Use invoke instead.\n",
      "  warn_deprecated(\n",
      "/opt/conda/lib/python3.10/site-packages/langchain_core/_api/deprecation.py:189: LangChainDeprecationWarning: The function `__call__` was deprecated in LangChain 0.1.0 and will be removed in 0.2.0. Use invoke instead.\n",
      "  warn_deprecated(\n"
     ]
    },
    {
     "name": "stdout",
     "output_type": "stream",
     "text": [
      " E. Article 24D paragraph (1) of the 1945 Constitution\n",
      "\n",
      "\n",
      "Sources:\n",
      "Time:  68.81943345069885\n",
      "==============================================\n",
      "Nomor:  55\n",
      "The formulation of Article 244 of the KUHP reads...\\n A.  Decisions in criminal cases cannot be given by the Supreme Court, they can only be given by the Constitutional Court.\\n B.  Regarding a criminal case decision given at the final level by a court other than the Supreme Court, the defendant or Public Prosecutor may submit a request for a cassation hearing to the Supreme Court against the acquittal decision.\\n C.  Regarding criminal case decisions rendered at the final level by courts other than the Supreme Court, the defendant or Public Prosecutor may submit a request for a cassation hearing to the Supreme Court except for acquittal decisions.\\n D.  Mengenai kedudukan hukum para Pemohon Pemerintah menyerahkansepenuhnya kepada Majelis Hakim untuk menilai dan memutusnya.\\n E.  Regarding the legal status of the Petitioners, the Government has left it entirely up to the Panel of Judges to assess and decide.\n"
     ]
    },
    {
     "name": "stderr",
     "output_type": "stream",
     "text": [
      "/opt/conda/lib/python3.10/site-packages/langchain_core/_api/deprecation.py:189: LangChainDeprecationWarning: The function `__call__` was deprecated in LangChain 0.1.0 and will be removed in 0.2.0. Use invoke instead.\n",
      "  warn_deprecated(\n",
      "/opt/conda/lib/python3.10/site-packages/langchain_core/_api/deprecation.py:189: LangChainDeprecationWarning: The function `run` was deprecated in LangChain 0.1.0 and will be removed in 0.2.0. Use invoke instead.\n",
      "  warn_deprecated(\n",
      "/opt/conda/lib/python3.10/site-packages/langchain_core/_api/deprecation.py:189: LangChainDeprecationWarning: The function `__call__` was deprecated in LangChain 0.1.0 and will be removed in 0.2.0. Use invoke instead.\n",
      "  warn_deprecated(\n",
      "/opt/conda/lib/python3.10/site-packages/langchain_core/_api/deprecation.py:189: LangChainDeprecationWarning: The function `__call__` was deprecated in LangChain 0.1.0 and will be removed in 0.2.0. Use invoke instead.\n",
      "  warn_deprecated(\n"
     ]
    },
    {
     "name": "stdout",
     "output_type": "stream",
     "text": [
      " D\n",
      "\n",
      "\n",
      "Sources:\n",
      "Time:  90.32434558868408\n",
      "==============================================\n",
      "Nomor:  56\n",
      "All citizens are equal under the law and government and are obliged to uphold the law and government without exception, as stated in Article…\\n A.  Article 27 paragraph (1)\\n B.  Article 28C paragraph (2)\\n C.  Article 28D paragraph (1)\\n D.  Article 28E paragraph (3)\\n E.  Article 28I paragraph (2)\n"
     ]
    },
    {
     "name": "stderr",
     "output_type": "stream",
     "text": [
      "/opt/conda/lib/python3.10/site-packages/langchain_core/_api/deprecation.py:189: LangChainDeprecationWarning: The function `__call__` was deprecated in LangChain 0.1.0 and will be removed in 0.2.0. Use invoke instead.\n",
      "  warn_deprecated(\n",
      "/opt/conda/lib/python3.10/site-packages/langchain_core/_api/deprecation.py:189: LangChainDeprecationWarning: The function `run` was deprecated in LangChain 0.1.0 and will be removed in 0.2.0. Use invoke instead.\n",
      "  warn_deprecated(\n",
      "/opt/conda/lib/python3.10/site-packages/langchain_core/_api/deprecation.py:189: LangChainDeprecationWarning: The function `__call__` was deprecated in LangChain 0.1.0 and will be removed in 0.2.0. Use invoke instead.\n",
      "  warn_deprecated(\n",
      "/opt/conda/lib/python3.10/site-packages/langchain_core/_api/deprecation.py:189: LangChainDeprecationWarning: The function `__call__` was deprecated in LangChain 0.1.0 and will be removed in 0.2.0. Use invoke instead.\n",
      "  warn_deprecated(\n"
     ]
    },
    {
     "name": "stdout",
     "output_type": "stream",
     "text": [
      " All citizens are equal under the law and government and are obliged to uphold the law and government without\n",
      "exception, as stated in Article 27 paragraph (1).\n",
      "\n",
      "\n",
      "Sources:\n",
      "Time:  56.47558236122131\n",
      "==============================================\n",
      "Nomor:  57\n",
      "Everyone has the right to advance themselves in fighting for their rights collectively to develop their society, nation and state, as stated in Article…\\n A.  Article 27 paragraph (1)\\n B.  Article 28C paragraph (2)\\n C.  Article 28D paragraph (1)\\n D.  Article 28E paragraph (3)\\n E.  Article 28I paragraph (2)\n"
     ]
    },
    {
     "name": "stderr",
     "output_type": "stream",
     "text": [
      "/opt/conda/lib/python3.10/site-packages/langchain_core/_api/deprecation.py:189: LangChainDeprecationWarning: The function `__call__` was deprecated in LangChain 0.1.0 and will be removed in 0.2.0. Use invoke instead.\n",
      "  warn_deprecated(\n",
      "/opt/conda/lib/python3.10/site-packages/langchain_core/_api/deprecation.py:189: LangChainDeprecationWarning: The function `run` was deprecated in LangChain 0.1.0 and will be removed in 0.2.0. Use invoke instead.\n",
      "  warn_deprecated(\n",
      "/opt/conda/lib/python3.10/site-packages/langchain_core/_api/deprecation.py:189: LangChainDeprecationWarning: The function `__call__` was deprecated in LangChain 0.1.0 and will be removed in 0.2.0. Use invoke instead.\n",
      "  warn_deprecated(\n",
      "/opt/conda/lib/python3.10/site-packages/langchain_core/_api/deprecation.py:189: LangChainDeprecationWarning: The function `__call__` was deprecated in LangChain 0.1.0 and will be removed in 0.2.0. Use invoke instead.\n",
      "  warn_deprecated(\n"
     ]
    },
    {
     "name": "stdout",
     "output_type": "stream",
     "text": [
      " Everyone has the right to advance themselves in fighting for their rights collectively to develop their\n",
      "society, nation and state, as stated in Article 27 paragraph (1).\n",
      "\n",
      "\n",
      "Sources:\n",
      "Time:  56.8580596446991\n",
      "==============================================\n",
      "Nomor:  58\n",
      "Everyone has the right to recognition, guarantees, protection and fair legal certainty as well as equal treatment before the law, as stated in Article…\\n A.  Article 27 paragraph (1)\\n B.  Article 28C paragraph (2)\\n C.  Article 28D paragraph (1)\\n D.  Article 28E paragraph (3)\\n E.  Article 28I paragraph (2)\n"
     ]
    },
    {
     "name": "stderr",
     "output_type": "stream",
     "text": [
      "/opt/conda/lib/python3.10/site-packages/langchain_core/_api/deprecation.py:189: LangChainDeprecationWarning: The function `__call__` was deprecated in LangChain 0.1.0 and will be removed in 0.2.0. Use invoke instead.\n",
      "  warn_deprecated(\n",
      "/opt/conda/lib/python3.10/site-packages/langchain_core/_api/deprecation.py:189: LangChainDeprecationWarning: The function `run` was deprecated in LangChain 0.1.0 and will be removed in 0.2.0. Use invoke instead.\n",
      "  warn_deprecated(\n",
      "/opt/conda/lib/python3.10/site-packages/langchain_core/_api/deprecation.py:189: LangChainDeprecationWarning: The function `__call__` was deprecated in LangChain 0.1.0 and will be removed in 0.2.0. Use invoke instead.\n",
      "  warn_deprecated(\n",
      "/opt/conda/lib/python3.10/site-packages/langchain_core/_api/deprecation.py:189: LangChainDeprecationWarning: The function `__call__` was deprecated in LangChain 0.1.0 and will be removed in 0.2.0. Use invoke instead.\n",
      "  warn_deprecated(\n"
     ]
    },
    {
     "name": "stdout",
     "output_type": "stream",
     "text": [
      " Everyone has the right to recognition, guarantees, protection and fair legal certainty as well as equal\n",
      "treatment before the law, as stated in Article 28C paragraph (2).\n",
      "\n",
      "\n",
      "Sources:\n",
      "Time:  58.458470582962036\n",
      "==============================================\n",
      "Nomor:  59\n",
      "Everyone has the right to freedom of association, assembly and expression of opinion, as stated in Article…\\n A.  Article 27 paragraph (1)\\n B.  Article 28C paragraph (2)\\n C.  Article 28D paragraph (1)\\n D.  Article 28E paragraph (3)\\n E.  Article 28I paragraph (2)\n"
     ]
    },
    {
     "name": "stderr",
     "output_type": "stream",
     "text": [
      "/opt/conda/lib/python3.10/site-packages/langchain_core/_api/deprecation.py:189: LangChainDeprecationWarning: The function `__call__` was deprecated in LangChain 0.1.0 and will be removed in 0.2.0. Use invoke instead.\n",
      "  warn_deprecated(\n",
      "/opt/conda/lib/python3.10/site-packages/langchain_core/_api/deprecation.py:189: LangChainDeprecationWarning: The function `run` was deprecated in LangChain 0.1.0 and will be removed in 0.2.0. Use invoke instead.\n",
      "  warn_deprecated(\n",
      "/opt/conda/lib/python3.10/site-packages/langchain_core/_api/deprecation.py:189: LangChainDeprecationWarning: The function `__call__` was deprecated in LangChain 0.1.0 and will be removed in 0.2.0. Use invoke instead.\n",
      "  warn_deprecated(\n",
      "/opt/conda/lib/python3.10/site-packages/langchain_core/_api/deprecation.py:189: LangChainDeprecationWarning: The function `__call__` was deprecated in LangChain 0.1.0 and will be removed in 0.2.0. Use invoke instead.\n",
      "  warn_deprecated(\n"
     ]
    },
    {
     "name": "stdout",
     "output_type": "stream",
     "text": [
      " Everyone has the right to freedom of association, assembly and expression of opinion, as stated in Article 27\n",
      "paragraph (1).\n",
      "\n",
      "\n",
      "Sources:\n",
      "Time:  50.68451166152954\n",
      "==============================================\n",
      "Nomor:  60\n",
      "Every person has the right to be free from discriminatory treatment on any basis and has the right to receive protection against such discriminatory treatment, as stated in Article…\\n A.  Article 27 paragraph (1)\\n B.  Article 28C paragraph (2)\\n C.  Article 28D paragraph (1)\\n D.  Article 28E paragraph (3)\\n E.  Article 28I paragraph (2)\n"
     ]
    },
    {
     "name": "stderr",
     "output_type": "stream",
     "text": [
      "/opt/conda/lib/python3.10/site-packages/langchain_core/_api/deprecation.py:189: LangChainDeprecationWarning: The function `__call__` was deprecated in LangChain 0.1.0 and will be removed in 0.2.0. Use invoke instead.\n",
      "  warn_deprecated(\n",
      "/opt/conda/lib/python3.10/site-packages/langchain_core/_api/deprecation.py:189: LangChainDeprecationWarning: The function `run` was deprecated in LangChain 0.1.0 and will be removed in 0.2.0. Use invoke instead.\n",
      "  warn_deprecated(\n",
      "/opt/conda/lib/python3.10/site-packages/langchain_core/_api/deprecation.py:189: LangChainDeprecationWarning: The function `__call__` was deprecated in LangChain 0.1.0 and will be removed in 0.2.0. Use invoke instead.\n",
      "  warn_deprecated(\n",
      "/opt/conda/lib/python3.10/site-packages/langchain_core/_api/deprecation.py:189: LangChainDeprecationWarning: The function `__call__` was deprecated in LangChain 0.1.0 and will be removed in 0.2.0. Use invoke instead.\n",
      "  warn_deprecated(\n"
     ]
    },
    {
     "name": "stdout",
     "output_type": "stream",
     "text": [
      " A.  Article 27 paragraph (1)\n",
      "\n",
      "\n",
      "Sources:\n",
      "Time:  51.47951078414917\n",
      "==============================================\n",
      "Nomor:  61\n",
      "The applicant can withdraw his application before or during the Constitutional Court examination, and such withdrawal means that the application cannot be resubmitted, in article…\\n A.  Article 31 of Law Number 24 of 2003 concerning the Constitutional Court\\n B.  Article 32 of Law Number 24 of 2003 concerning the Constitutional Court\\n C.  Article 35 of Law Number 23 of 2003 concerning the Constitutional Court\\n D.  Article 35 of Law Number 24 of 2003 concerning the Constitutional Court\\n E.  Article 35 of Law Number 25 of 2003 concerning the Constitutional Court\n"
     ]
    },
    {
     "name": "stderr",
     "output_type": "stream",
     "text": [
      "/opt/conda/lib/python3.10/site-packages/langchain_core/_api/deprecation.py:189: LangChainDeprecationWarning: The function `__call__` was deprecated in LangChain 0.1.0 and will be removed in 0.2.0. Use invoke instead.\n",
      "  warn_deprecated(\n",
      "/opt/conda/lib/python3.10/site-packages/langchain_core/_api/deprecation.py:189: LangChainDeprecationWarning: The function `run` was deprecated in LangChain 0.1.0 and will be removed in 0.2.0. Use invoke instead.\n",
      "  warn_deprecated(\n",
      "/opt/conda/lib/python3.10/site-packages/langchain_core/_api/deprecation.py:189: LangChainDeprecationWarning: The function `__call__` was deprecated in LangChain 0.1.0 and will be removed in 0.2.0. Use invoke instead.\n",
      "  warn_deprecated(\n",
      "/opt/conda/lib/python3.10/site-packages/langchain_core/_api/deprecation.py:189: LangChainDeprecationWarning: The function `__call__` was deprecated in LangChain 0.1.0 and will be removed in 0.2.0. Use invoke instead.\n",
      "  warn_deprecated(\n"
     ]
    },
    {
     "name": "stdout",
     "output_type": "stream",
     "text": [
      " The applicant can withdraw his application before or during the Constitutional Court examination, and such\n",
      "withdrawal means that the application cannot be resubmitted, in article A.\n",
      "\n",
      "\n",
      "Sources:\n",
      "Time:  77.22232270240784\n",
      "==============================================\n",
      "Nomor:  62\n",
      "Regarding the General Election, Members of the DPR, DPD, and DPRD stated that election participants and members of the public, through witnesses who were present, could submit objections to the course and results of the vote count at the TPS, PPS, PPK, City/Regency KPUD, Provincial KPU, and Central KPU. If it turns out that there are things that are not in accordance with statutory regulations, it is on...\\n A.  Article 96 paragraph (8), Article 95 paragraph (3), Article 98 paragraph (3), Article 99 paragraph (5), Article 100 paragraph (5), and Article 101 paragraph (6)\\n B.  Article 96 paragraph (8), Article 95 paragraph (1), Article 98 paragraph (3), Article 99 paragraph (5), Article 100 paragraph (5), and Article 101 paragraph (6)\\n C.  Article 96 paragraph (8), Article 96 paragraph (3), Article 98 paragraph (3), Article 99 paragraph (5), Article 100 paragraph (5), and Article 101 paragraph (6)\\n D.  Article 96 paragraph (8), Article 97 paragraph (9), Article 98 paragraph (3), Article 99 paragraph (5), Article 100 paragraph (5), and Article 101 paragraph (6)\\n E.  Article 96 paragraph (8), Article 97 paragraph (3), Article 98 paragraph (3), Article 99 paragraph (5), Article 100 paragraph (5), and Article 101 paragraph (6)\n"
     ]
    },
    {
     "name": "stderr",
     "output_type": "stream",
     "text": [
      "/opt/conda/lib/python3.10/site-packages/langchain_core/_api/deprecation.py:189: LangChainDeprecationWarning: The function `__call__` was deprecated in LangChain 0.1.0 and will be removed in 0.2.0. Use invoke instead.\n",
      "  warn_deprecated(\n",
      "/opt/conda/lib/python3.10/site-packages/langchain_core/_api/deprecation.py:189: LangChainDeprecationWarning: The function `run` was deprecated in LangChain 0.1.0 and will be removed in 0.2.0. Use invoke instead.\n",
      "  warn_deprecated(\n",
      "/opt/conda/lib/python3.10/site-packages/langchain_core/_api/deprecation.py:189: LangChainDeprecationWarning: The function `__call__` was deprecated in LangChain 0.1.0 and will be removed in 0.2.0. Use invoke instead.\n",
      "  warn_deprecated(\n",
      "/opt/conda/lib/python3.10/site-packages/langchain_core/_api/deprecation.py:189: LangChainDeprecationWarning: The function `__call__` was deprecated in LangChain 0.1.0 and will be removed in 0.2.0. Use invoke instead.\n",
      "  warn_deprecated(\n"
     ]
    },
    {
     "name": "stdout",
     "output_type": "stream",
     "text": [
      " D. Article 96 paragraph (8), Article 97 paragraph (9), Article 98 paragraph (3), Article 99 paragraph (5),\n",
      "Article 100 paragraph (5), and Article 101 paragraph (6)\n",
      "\n",
      "\n",
      "Sources:\n",
      "Time:  150.43825554847717\n",
      "==============================================\n",
      "Nomor:  63\n",
      "In essence, it states that applications can only be made regarding the determination of the results of the General Election conducted nationally by the General Election Commission which influences the election of DPD member candidates, the determination of the presidential and vice presidential candidate pairs and the acquisition of political party seats, on...\\n A.  Whereas article 74 paragraph (2) of Law number 24 of 2003 concerning the Constitutional Court, Law number 12 of 2003 concerning General Election of Members of the DPR, DPD, DPRD\\n B.  Whereas article 73 paragraph (2) of Law number 24 of 2003 concerning the Constitutional Court, Law number 12 of 2003 concerning General Election of Members of the DPR, DPD, DPRD\\n C.  Whereas article 72 paragraph (2) of Law number 24 of 2003 concerning the Constitutional Court, Law number 12 of 2003 concerning General Election of Members of the DPR, DPD, DPRD\\n D.  Whereas article 71 paragraph (2) of Law number 24 of 2003 concerning the Constitutional Court, Law number 12 of 2003 concerning General Election of Members of the DPR, DPD, DPRD\\n E.  Whereas article 70 paragraph (2) of Law number 24 of 2003 concerning the Constitutional Court, Law number 12 of 2003 concerning General Election of Members of the DPR, DPD, DPRD\n"
     ]
    },
    {
     "name": "stderr",
     "output_type": "stream",
     "text": [
      "/opt/conda/lib/python3.10/site-packages/langchain_core/_api/deprecation.py:189: LangChainDeprecationWarning: The function `__call__` was deprecated in LangChain 0.1.0 and will be removed in 0.2.0. Use invoke instead.\n",
      "  warn_deprecated(\n",
      "/opt/conda/lib/python3.10/site-packages/langchain_core/_api/deprecation.py:189: LangChainDeprecationWarning: The function `run` was deprecated in LangChain 0.1.0 and will be removed in 0.2.0. Use invoke instead.\n",
      "  warn_deprecated(\n",
      "/opt/conda/lib/python3.10/site-packages/langchain_core/_api/deprecation.py:189: LangChainDeprecationWarning: The function `__call__` was deprecated in LangChain 0.1.0 and will be removed in 0.2.0. Use invoke instead.\n",
      "  warn_deprecated(\n",
      "/opt/conda/lib/python3.10/site-packages/langchain_core/_api/deprecation.py:189: LangChainDeprecationWarning: The function `__call__` was deprecated in LangChain 0.1.0 and will be removed in 0.2.0. Use invoke instead.\n",
      "  warn_deprecated(\n"
     ]
    },
    {
     "name": "stdout",
     "output_type": "stream",
     "text": [
      " B\n",
      "\n",
      "\n",
      "Sources:\n",
      "Time:  129.2683310508728\n",
      "==============================================\n",
      "Nomor:  64\n",
      "That if the applicant's application is accepted, quod non, article 96 paragraph (8), article 97 paragraph (3), article 98 paragraph (3), article 99 paragraph (5), article 100 paragraph (5) and article 101 paragraph (6) UU no. 12 of 2003 concerning the General Election of Members of the DPR, DPD, DPRD, reads...\\n A.  Mentioning that election participants and members of the public who take part in general elections must be Indonesian citizens is legally wrong\\n B.  Mentions that election participants and members of the public, through witnesses who are present, can submit objections to the process and results of vote counting at TPS, PPS, PPK, City/Regency KPUD, Provincial KPUD and Central KPU if it turns out that there are things that are not in accordance with statutory regulations.\\n C.  Mentioned that the vote counting was carried out by the surrounding RT/RW to make it better\\n D.  Mention that TPU provider participants must have witnesses from each party who submits their candidate\\n E.  Mentions that participants must comply with the rules\n"
     ]
    },
    {
     "name": "stderr",
     "output_type": "stream",
     "text": [
      "/opt/conda/lib/python3.10/site-packages/langchain_core/_api/deprecation.py:189: LangChainDeprecationWarning: The function `__call__` was deprecated in LangChain 0.1.0 and will be removed in 0.2.0. Use invoke instead.\n",
      "  warn_deprecated(\n",
      "/opt/conda/lib/python3.10/site-packages/langchain_core/_api/deprecation.py:189: LangChainDeprecationWarning: The function `run` was deprecated in LangChain 0.1.0 and will be removed in 0.2.0. Use invoke instead.\n",
      "  warn_deprecated(\n",
      "/opt/conda/lib/python3.10/site-packages/langchain_core/_api/deprecation.py:189: LangChainDeprecationWarning: The function `__call__` was deprecated in LangChain 0.1.0 and will be removed in 0.2.0. Use invoke instead.\n",
      "  warn_deprecated(\n",
      "/opt/conda/lib/python3.10/site-packages/langchain_core/_api/deprecation.py:189: LangChainDeprecationWarning: The function `__call__` was deprecated in LangChain 0.1.0 and will be removed in 0.2.0. Use invoke instead.\n",
      "  warn_deprecated(\n"
     ]
    },
    {
     "name": "stdout",
     "output_type": "stream",
     "text": [
      " B\n",
      "\n",
      "\n",
      "Sources:\n",
      "Time:  100.74863719940186\n",
      "==============================================\n",
      "Nomor:  65\n",
      "Citizens who have the right to vote, election observers and/or election participants can report election violations at any stage of election implementation to the Election Supervisor (Panwaslu), located at…\\n A.  Article 121 paragraph (1) and paragraph (2) of Law no. 12 of 2003\\n B.  Article 122 paragraph (1) and paragraph (2) of Law no. 12 of 2003\\n C.  Article 127 paragraph (1) and paragraph (2) of Law no. 12 of 2003\\n D.  Article 126 paragraph (1) and paragraph (2) of Law no. 12 of 2003\\n E.  Article 125 paragraph (1) and paragraph (2) of Law no. 12 of 2003\n"
     ]
    },
    {
     "name": "stderr",
     "output_type": "stream",
     "text": [
      "/opt/conda/lib/python3.10/site-packages/langchain_core/_api/deprecation.py:189: LangChainDeprecationWarning: The function `__call__` was deprecated in LangChain 0.1.0 and will be removed in 0.2.0. Use invoke instead.\n",
      "  warn_deprecated(\n",
      "/opt/conda/lib/python3.10/site-packages/langchain_core/_api/deprecation.py:189: LangChainDeprecationWarning: The function `run` was deprecated in LangChain 0.1.0 and will be removed in 0.2.0. Use invoke instead.\n",
      "  warn_deprecated(\n",
      "/opt/conda/lib/python3.10/site-packages/langchain_core/_api/deprecation.py:189: LangChainDeprecationWarning: The function `__call__` was deprecated in LangChain 0.1.0 and will be removed in 0.2.0. Use invoke instead.\n",
      "  warn_deprecated(\n",
      "/opt/conda/lib/python3.10/site-packages/langchain_core/_api/deprecation.py:189: LangChainDeprecationWarning: The function `__call__` was deprecated in LangChain 0.1.0 and will be removed in 0.2.0. Use invoke instead.\n",
      "  warn_deprecated(\n"
     ]
    },
    {
     "name": "stdout",
     "output_type": "stream",
     "text": [
      " D. Article 126 paragraph (1) and paragraph (2) of Law no. 12 of 2003\n",
      "\n",
      "\n",
      "Sources:\n",
      "Time:  89.1907389163971\n",
      "==============================================\n",
      "Nomor:  66\n",
      "Reports that are disputed in nature and do not contain criminal elements are resolved by the Election Supervisor and those that contain criminal elements are forwarded to investigators and those that are administrative in nature are forwarded to the KPU, stated in...\\n A.  Articles 128 and 130 of Law no. 12 of 2003\\n B.  Articles 127 and 130 of Law no. 12 of 2003\\n C.  Articles 126 and 130 of Law no. 12 of 2003\\n D.  Articles 125 and 130 of Law no. 12 of 2003\\n E.  Articles 124 and 130 of Law no. 12 of 2003\n"
     ]
    },
    {
     "name": "stderr",
     "output_type": "stream",
     "text": [
      "/opt/conda/lib/python3.10/site-packages/langchain_core/_api/deprecation.py:189: LangChainDeprecationWarning: The function `__call__` was deprecated in LangChain 0.1.0 and will be removed in 0.2.0. Use invoke instead.\n",
      "  warn_deprecated(\n",
      "/opt/conda/lib/python3.10/site-packages/langchain_core/_api/deprecation.py:189: LangChainDeprecationWarning: The function `run` was deprecated in LangChain 0.1.0 and will be removed in 0.2.0. Use invoke instead.\n",
      "  warn_deprecated(\n",
      "/opt/conda/lib/python3.10/site-packages/langchain_core/_api/deprecation.py:189: LangChainDeprecationWarning: The function `__call__` was deprecated in LangChain 0.1.0 and will be removed in 0.2.0. Use invoke instead.\n",
      "  warn_deprecated(\n",
      "/opt/conda/lib/python3.10/site-packages/langchain_core/_api/deprecation.py:189: LangChainDeprecationWarning: The function `__call__` was deprecated in LangChain 0.1.0 and will be removed in 0.2.0. Use invoke instead.\n",
      "  warn_deprecated(\n"
     ]
    },
    {
     "name": "stdout",
     "output_type": "stream",
     "text": [
      " B. Articles 127 and 130 of Law no. 12 of 2003\n",
      "\n",
      "\n",
      "Sources:\n",
      "Time:  86.64459586143494\n",
      "==============================================\n",
      "Nomor:  67\n",
      "The Petitioner's candidacy as a Presidential Candidate and/or Vice Presidential Candidate is based on the Petitioner's rights and obligations as a citizen of the Republic of Indonesia which are justified, ratified, guaranteed and protected by, One of the list of articles is...\\n A.  Article 21 A paragraph 1 of the 1945 Republic of Indonesia Constitution\\n B.  Article 20 A paragraph 1 of the 1945 Republic of Indonesia Constitution\\n C.  Preamble to the 1945 Constitution of the Republic of Indonesia\\n D.  Article 10 A paragraph 1 of the 1945 Republic of Indonesia Constitution\\n E.  Article 10 B paragraph 1 of the 1945 Republic of Indonesia Constitution\n"
     ]
    },
    {
     "name": "stderr",
     "output_type": "stream",
     "text": [
      "/opt/conda/lib/python3.10/site-packages/langchain_core/_api/deprecation.py:189: LangChainDeprecationWarning: The function `__call__` was deprecated in LangChain 0.1.0 and will be removed in 0.2.0. Use invoke instead.\n",
      "  warn_deprecated(\n",
      "/opt/conda/lib/python3.10/site-packages/langchain_core/_api/deprecation.py:189: LangChainDeprecationWarning: The function `run` was deprecated in LangChain 0.1.0 and will be removed in 0.2.0. Use invoke instead.\n",
      "  warn_deprecated(\n",
      "/opt/conda/lib/python3.10/site-packages/langchain_core/_api/deprecation.py:189: LangChainDeprecationWarning: The function `__call__` was deprecated in LangChain 0.1.0 and will be removed in 0.2.0. Use invoke instead.\n",
      "  warn_deprecated(\n",
      "/opt/conda/lib/python3.10/site-packages/langchain_core/_api/deprecation.py:189: LangChainDeprecationWarning: The function `__call__` was deprecated in LangChain 0.1.0 and will be removed in 0.2.0. Use invoke instead.\n",
      "  warn_deprecated(\n"
     ]
    },
    {
     "name": "stdout",
     "output_type": "stream",
     "text": [
      " The Petitioner's candidacy as a Presidential Candidate and/or Vice Presidential Candidate is based on the\n",
      "Petitioner's rights and obligations as a citizen of the Republic of Indonesia which are justified, ratified,\n",
      "guaranteed and protected by... D. Article 10 A paragraph 1 of the 1945 Republic of Indonesia Constitution\n",
      "\n",
      "\n",
      "Sources:\n",
      "Time:  96.02027463912964\n",
      "==============================================\n",
      "Nomor:  68\n",
      "The Petitioner's candidacy as a Presidential Candidate and/or Vice Presidential Candidate is based on the Petitioner's rights and obligations as a citizen of the Republic of Indonesia which are justified, ratified, guaranteed and protected by, One of the list of articles is...\\n A.  Article 21 A paragraph 1 of the 1945 Republic of Indonesia Constitution\\n B.  Article 20 A paragraph 1 of the 1945 Republic of Indonesia Constitution\\n C.  Article 10 A paragraph 1 of the 1945 Republic of Indonesia Constitution\\n D.  Article 10 B paragraph 1 of the 1945 Republic of Indonesia Constitution\\n E.  Article 28 J paragraph 1 of the 1944 Republic of Indonesia Constitution\n"
     ]
    },
    {
     "name": "stderr",
     "output_type": "stream",
     "text": [
      "/opt/conda/lib/python3.10/site-packages/langchain_core/_api/deprecation.py:189: LangChainDeprecationWarning: The function `__call__` was deprecated in LangChain 0.1.0 and will be removed in 0.2.0. Use invoke instead.\n",
      "  warn_deprecated(\n",
      "/opt/conda/lib/python3.10/site-packages/langchain_core/_api/deprecation.py:189: LangChainDeprecationWarning: The function `run` was deprecated in LangChain 0.1.0 and will be removed in 0.2.0. Use invoke instead.\n",
      "  warn_deprecated(\n",
      "/opt/conda/lib/python3.10/site-packages/langchain_core/_api/deprecation.py:189: LangChainDeprecationWarning: The function `__call__` was deprecated in LangChain 0.1.0 and will be removed in 0.2.0. Use invoke instead.\n",
      "  warn_deprecated(\n",
      "/opt/conda/lib/python3.10/site-packages/langchain_core/_api/deprecation.py:189: LangChainDeprecationWarning: The function `__call__` was deprecated in LangChain 0.1.0 and will be removed in 0.2.0. Use invoke instead.\n",
      "  warn_deprecated(\n"
     ]
    },
    {
     "name": "stdout",
     "output_type": "stream",
     "text": [
      " The Petitioner's candidacy as a Presidential Candidate and/or Vice Presidential Candidate is based on the\n",
      "Petitioner's rights and obligations as a citizen of the Republic of Indonesia which are justified, ratified,\n",
      "guaranteed and protected by... A. Article 21 A paragraph 1 of the 1945 Republic of Indonesia Constitution\n",
      "\n",
      "\n",
      "Sources:\n",
      "Time:  96.90266561508179\n",
      "==============================================\n",
      "Nomor:  69\n",
      "The Petitioner's candidacy as a Presidential Candidate and/or Vice Presidential Candidate is based on the Petitioner's rights and obligations as a citizen of the Republic of Indonesia which are justified, ratified, guaranteed and protected by, One of the list of articles is...\\n A.  Article 28 I paragraph 2 of the 1945 Republic of Indonesia Constitution\\n B.  Article 21 A paragraph 1 of the 1945 Republic of Indonesia Constitution\\n C.  Article 20 A paragraph 1 of the 1945 Republic of Indonesia Constitution\\n D.  Article 10 A paragraph 1 of the 1945 Republic of Indonesia Constitution\\n E.  Article 10 B paragraph 1 of the 1945 Republic of Indonesia Constitution\n"
     ]
    },
    {
     "name": "stderr",
     "output_type": "stream",
     "text": [
      "/opt/conda/lib/python3.10/site-packages/langchain_core/_api/deprecation.py:189: LangChainDeprecationWarning: The function `__call__` was deprecated in LangChain 0.1.0 and will be removed in 0.2.0. Use invoke instead.\n",
      "  warn_deprecated(\n",
      "/opt/conda/lib/python3.10/site-packages/langchain_core/_api/deprecation.py:189: LangChainDeprecationWarning: The function `run` was deprecated in LangChain 0.1.0 and will be removed in 0.2.0. Use invoke instead.\n",
      "  warn_deprecated(\n",
      "/opt/conda/lib/python3.10/site-packages/langchain_core/_api/deprecation.py:189: LangChainDeprecationWarning: The function `__call__` was deprecated in LangChain 0.1.0 and will be removed in 0.2.0. Use invoke instead.\n",
      "  warn_deprecated(\n",
      "/opt/conda/lib/python3.10/site-packages/langchain_core/_api/deprecation.py:189: LangChainDeprecationWarning: The function `__call__` was deprecated in LangChain 0.1.0 and will be removed in 0.2.0. Use invoke instead.\n",
      "  warn_deprecated(\n"
     ]
    },
    {
     "name": "stdout",
     "output_type": "stream",
     "text": [
      " The Petitioner's candidacy as a Presidential Candidate and/or Vice Presidential Candidate is based on the\n",
      "Petitioner's rights and obligations as a citizen of the Republic of Indonesia which are justified, ratified,\n",
      "guaranteed and protected by... D. Article 10 A paragraph 1 of the 1945 Republic of Indonesia Constitution\n",
      "\n",
      "\n",
      "Sources:\n",
      "Time:  96.85272884368896\n",
      "==============================================\n",
      "Nomor:  70\n",
      "The Petitioner's candidacy as a Presidential Candidate and/or Vice Presidential Candidate is based on the Petitioner's rights and obligations as a citizen of the Republic of Indonesia which are justified, ratified, guaranteed and protected by, One of the list of articles is...\\n A.  Article 21 A paragraph 1 of the 1945 Republic of Indonesia Constitution\\n B.  Article 28 H paragraph 2 of the 1945 Republic of Indonesia Constitution\\n C.  Article 20 A paragraph 1 of the 1945 Republic of Indonesia Constitution\\n D.  Article 2G A paragraph 1 of the 1945 Republic of Indonesia Constitution\\n E.  Article 2X A paragraph 1 of the 1945 Republic of Indonesia Constitution\n"
     ]
    },
    {
     "name": "stderr",
     "output_type": "stream",
     "text": [
      "/opt/conda/lib/python3.10/site-packages/langchain_core/_api/deprecation.py:189: LangChainDeprecationWarning: The function `__call__` was deprecated in LangChain 0.1.0 and will be removed in 0.2.0. Use invoke instead.\n",
      "  warn_deprecated(\n",
      "/opt/conda/lib/python3.10/site-packages/langchain_core/_api/deprecation.py:189: LangChainDeprecationWarning: The function `run` was deprecated in LangChain 0.1.0 and will be removed in 0.2.0. Use invoke instead.\n",
      "  warn_deprecated(\n",
      "/opt/conda/lib/python3.10/site-packages/langchain_core/_api/deprecation.py:189: LangChainDeprecationWarning: The function `__call__` was deprecated in LangChain 0.1.0 and will be removed in 0.2.0. Use invoke instead.\n",
      "  warn_deprecated(\n",
      "/opt/conda/lib/python3.10/site-packages/langchain_core/_api/deprecation.py:189: LangChainDeprecationWarning: The function `__call__` was deprecated in LangChain 0.1.0 and will be removed in 0.2.0. Use invoke instead.\n",
      "  warn_deprecated(\n"
     ]
    },
    {
     "name": "stdout",
     "output_type": "stream",
     "text": [
      " The Petitioner's candidacy as a Presidential Candidate and/or Vice Presidential Candidate is based on the\n",
      "Petitioner's rights and obligations as a citizen of the Republic of Indonesia which are justified, ratified,\n",
      "guaranteed and protected by...B. Article 28 H paragraph 2 of the 1945 Republic of Indonesia Constitution\n",
      "\n",
      "\n",
      "Sources:\n",
      "Time:  96.8864312171936\n",
      "==============================================\n",
      "Nomor:  71\n",
      "The Petitioner's candidacy as a Presidential Candidate and/or Vice Presidential Candidate is based on the Petitioner's rights and obligations as a citizen of the Republic of Indonesia which are justified, ratified, guaranteed and protected by, One of the list of articles is...\\n A.  Article 28 D paragraph 1 and paragraph 3 of the 1945 Republic of Indonesia Constitution\\n B.  Article 20 A paragraph 1 of the 1945 Republic of Indonesia Constitution\\n C.  Article 21 Y paragraph 1 of the 1945 Republic of Indonesia Constitution\\n D.  Article 20 Y paragraph 1 of the 1945 Republic of Indonesia Constitution\\n E.  Article 21 A paragraph 1 of the 1945 Republic of Indonesia Constitution\n"
     ]
    },
    {
     "name": "stderr",
     "output_type": "stream",
     "text": [
      "/opt/conda/lib/python3.10/site-packages/langchain_core/_api/deprecation.py:189: LangChainDeprecationWarning: The function `__call__` was deprecated in LangChain 0.1.0 and will be removed in 0.2.0. Use invoke instead.\n",
      "  warn_deprecated(\n",
      "/opt/conda/lib/python3.10/site-packages/langchain_core/_api/deprecation.py:189: LangChainDeprecationWarning: The function `run` was deprecated in LangChain 0.1.0 and will be removed in 0.2.0. Use invoke instead.\n",
      "  warn_deprecated(\n",
      "/opt/conda/lib/python3.10/site-packages/langchain_core/_api/deprecation.py:189: LangChainDeprecationWarning: The function `__call__` was deprecated in LangChain 0.1.0 and will be removed in 0.2.0. Use invoke instead.\n",
      "  warn_deprecated(\n",
      "/opt/conda/lib/python3.10/site-packages/langchain_core/_api/deprecation.py:189: LangChainDeprecationWarning: The function `__call__` was deprecated in LangChain 0.1.0 and will be removed in 0.2.0. Use invoke instead.\n",
      "  warn_deprecated(\n"
     ]
    },
    {
     "name": "stdout",
     "output_type": "stream",
     "text": [
      " The Petitioner's candidacy as a Presidential Candidate and/or Vice Presidential Candidate is based on the\n",
      "Petitioner's rights and obligations as a citizen of the Republic of Indonesia which are justified, ratified,\n",
      "guaranteed and protected by Article 28 D paragraph 1 and paragraph 3 of the 1945 Republic of Indonesia\n",
      "Constitution.\n",
      "\n",
      "\n",
      "Sources:\n",
      "Time:  98.51298570632935\n",
      "==============================================\n",
      "Nomor:  72\n",
      "The Petitioner's candidacy as a Presidential Candidate and/or Vice Presidential Candidate is based on the Petitioner's rights and obligations as a citizen of the Republic of Indonesia which are justified, ratified, guaranteed and protected by, One of the list of articles is...\\n A.  Article 21 A paragraph 1 of the 1945 Republic of Indonesia Constitution\\n B.  Article 21 Z paragraph 1 of the 1945 Republic of Indonesia Constitution\\n C.  Article 21 Y paragraph 1 of the 1945 Republic of Indonesia Constitution\\n D.  Article 20 Y paragraph 1 of the 1945 Republic of Indonesia Constitution\\n E.  Article 28 C paragraph 2 of the 1945 Republic of Indonesia Constitution\n"
     ]
    },
    {
     "name": "stderr",
     "output_type": "stream",
     "text": [
      "/opt/conda/lib/python3.10/site-packages/langchain_core/_api/deprecation.py:189: LangChainDeprecationWarning: The function `__call__` was deprecated in LangChain 0.1.0 and will be removed in 0.2.0. Use invoke instead.\n",
      "  warn_deprecated(\n",
      "/opt/conda/lib/python3.10/site-packages/langchain_core/_api/deprecation.py:189: LangChainDeprecationWarning: The function `run` was deprecated in LangChain 0.1.0 and will be removed in 0.2.0. Use invoke instead.\n",
      "  warn_deprecated(\n",
      "/opt/conda/lib/python3.10/site-packages/langchain_core/_api/deprecation.py:189: LangChainDeprecationWarning: The function `__call__` was deprecated in LangChain 0.1.0 and will be removed in 0.2.0. Use invoke instead.\n",
      "  warn_deprecated(\n",
      "/opt/conda/lib/python3.10/site-packages/langchain_core/_api/deprecation.py:189: LangChainDeprecationWarning: The function `__call__` was deprecated in LangChain 0.1.0 and will be removed in 0.2.0. Use invoke instead.\n",
      "  warn_deprecated(\n"
     ]
    },
    {
     "name": "stdout",
     "output_type": "stream",
     "text": [
      " The Petitioner's candidacy as a Presidential Candidate and/or Vice Presidential Candidate is based on the\n",
      "Petitioner's rights and obligations as a citizen of the Republic of Indonesia which are justified, ratified,\n",
      "guaranteed and protected by...\\n A.  Article 21 A paragraph 1 of the 1945 Republic of Indonesia Constitution\n",
      "\n",
      "\n",
      "Sources:\n",
      "Time:  98.03471279144287\n",
      "==============================================\n",
      "Nomor:  73\n",
      "The Petitioner's candidacy as a Presidential Candidate and/or Vice Presidential Candidate is based on the Petitioner's rights and obligations as a citizen of the Republic of Indonesia which are justified, ratified, guaranteed and protected by, One of the list of articles is...\\n A.  Article 21 A paragraph 1 of the 1945 Republic of Indonesia Constitution\\n B.  Article 21 Z paragraph 1 of the 1945 Republic of Indonesia Constitution\\n C.  Article 21 Y paragraph 1 of the 1945 Republic of Indonesia Constitution\\n D.  Article 20 Y paragraph 1 of the 1945 Republic of Indonesia Constitution\\n E.  Article 27 paragraph 1 paragraph 3 of the 1945 Republic of Indonesia Constitution\n"
     ]
    },
    {
     "name": "stderr",
     "output_type": "stream",
     "text": [
      "/opt/conda/lib/python3.10/site-packages/langchain_core/_api/deprecation.py:189: LangChainDeprecationWarning: The function `__call__` was deprecated in LangChain 0.1.0 and will be removed in 0.2.0. Use invoke instead.\n",
      "  warn_deprecated(\n",
      "/opt/conda/lib/python3.10/site-packages/langchain_core/_api/deprecation.py:189: LangChainDeprecationWarning: The function `run` was deprecated in LangChain 0.1.0 and will be removed in 0.2.0. Use invoke instead.\n",
      "  warn_deprecated(\n",
      "/opt/conda/lib/python3.10/site-packages/langchain_core/_api/deprecation.py:189: LangChainDeprecationWarning: The function `__call__` was deprecated in LangChain 0.1.0 and will be removed in 0.2.0. Use invoke instead.\n",
      "  warn_deprecated(\n",
      "/opt/conda/lib/python3.10/site-packages/langchain_core/_api/deprecation.py:189: LangChainDeprecationWarning: The function `__call__` was deprecated in LangChain 0.1.0 and will be removed in 0.2.0. Use invoke instead.\n",
      "  warn_deprecated(\n"
     ]
    },
    {
     "name": "stdout",
     "output_type": "stream",
     "text": [
      " The Petitioner's candidacy as a Presidential Candidate and/or Vice Presidential Candidate is based on the\n",
      "Petitioner's rights and obligations as a citizen of the Republic of Indonesia which are justified, ratified,\n",
      "guaranteed and protected by...\\n A.  Article 21 A paragraph 1 of the 1945 Republic of Indonesia Constitution\n",
      "\n",
      "\n",
      "Sources:\n",
      "Time:  97.99229001998901\n",
      "==============================================\n",
      "Nomor:  74\n",
      "The Petitioner's candidacy as a Presidential Candidate and/or Vice Presidential Candidate is based on the Petitioner's rights and obligations as a citizen of the Republic of Indonesia which are justified, ratified, guaranteed and protected by, One of the list of articles is...\\n A.  Article 21 A paragraph 1 of the 1945 Republic of Indonesia Constitution\\n B.  Article 21 Z paragraph 1 of the 1945 Republic of Indonesia Constitution\\n C.  Article 21 Y paragraph 1 of the 1945 Republic of Indonesia Constitution\\n D.  Article 1 paragraph 2 of the 1945 Republic of Indonesia Constitution\\n E.  Article 20 Y paragraph 1 of the 1945 Republic of Indonesia Constitution\n"
     ]
    },
    {
     "name": "stderr",
     "output_type": "stream",
     "text": [
      "/opt/conda/lib/python3.10/site-packages/langchain_core/_api/deprecation.py:189: LangChainDeprecationWarning: The function `__call__` was deprecated in LangChain 0.1.0 and will be removed in 0.2.0. Use invoke instead.\n",
      "  warn_deprecated(\n",
      "/opt/conda/lib/python3.10/site-packages/langchain_core/_api/deprecation.py:189: LangChainDeprecationWarning: The function `run` was deprecated in LangChain 0.1.0 and will be removed in 0.2.0. Use invoke instead.\n",
      "  warn_deprecated(\n",
      "/opt/conda/lib/python3.10/site-packages/langchain_core/_api/deprecation.py:189: LangChainDeprecationWarning: The function `__call__` was deprecated in LangChain 0.1.0 and will be removed in 0.2.0. Use invoke instead.\n",
      "  warn_deprecated(\n",
      "/opt/conda/lib/python3.10/site-packages/langchain_core/_api/deprecation.py:189: LangChainDeprecationWarning: The function `__call__` was deprecated in LangChain 0.1.0 and will be removed in 0.2.0. Use invoke instead.\n",
      "  warn_deprecated(\n"
     ]
    },
    {
     "name": "stdout",
     "output_type": "stream",
     "text": [
      " The Petitioner's candidacy as a Presidential Candidate and/or Vice Presidential Candidate is based on the\n",
      "Petitioner's rights and obligations as a citizen of the Republic of Indonesia which are justified, ratified,\n",
      "guaranteed and protected by Article 21 A paragraph 1 of the 1945 Republic of Indonesia Constitution.\n",
      "\n",
      "\n",
      "Sources:\n",
      "Time:  95.02849578857422\n",
      "==============================================\n",
      "Nomor:  75\n",
      "Everyone has the right to receive facilities and special treatment to obtain the same opportunities and benefits in order to achieve equality and justice, which is in...\\n A.  Law Number 23 of 2003, especially Article 5 paragraphs (1,2,3 and 4)\\n B.  Article 21 A paragraph 1 of the 1945 Republic of Indonesia Constitution\\n C.  Article 21 Z paragraph 1 of the 1945 Republic of Indonesia Constitution\\n D.  Article 21 Y paragraph 1 of the 1945 Republic of Indonesia Constitution\\n E.  Article 1 paragraph 2 of the 1945 Republic of Indonesia Constitution\n"
     ]
    },
    {
     "name": "stderr",
     "output_type": "stream",
     "text": [
      "/opt/conda/lib/python3.10/site-packages/langchain_core/_api/deprecation.py:189: LangChainDeprecationWarning: The function `__call__` was deprecated in LangChain 0.1.0 and will be removed in 0.2.0. Use invoke instead.\n",
      "  warn_deprecated(\n",
      "/opt/conda/lib/python3.10/site-packages/langchain_core/_api/deprecation.py:189: LangChainDeprecationWarning: The function `run` was deprecated in LangChain 0.1.0 and will be removed in 0.2.0. Use invoke instead.\n",
      "  warn_deprecated(\n",
      "/opt/conda/lib/python3.10/site-packages/langchain_core/_api/deprecation.py:189: LangChainDeprecationWarning: The function `__call__` was deprecated in LangChain 0.1.0 and will be removed in 0.2.0. Use invoke instead.\n",
      "  warn_deprecated(\n",
      "/opt/conda/lib/python3.10/site-packages/langchain_core/_api/deprecation.py:189: LangChainDeprecationWarning: The function `__call__` was deprecated in LangChain 0.1.0 and will be removed in 0.2.0. Use invoke instead.\n",
      "  warn_deprecated(\n"
     ]
    },
    {
     "name": "stdout",
     "output_type": "stream",
     "text": [
      " B.  Article 21 A paragraph 1 of the 1945 Republic of Indonesia Constitution\n",
      "\n",
      "\n",
      "Sources:\n",
      "Time:  70.98515367507935\n",
      "==============================================\n",
      "Nomor:  76\n",
      "Everyone has the right to receive facilities and special treatment to obtain the same opportunities and benefits in order to achieve equality and justice, which is in...\\n A.  Article 21 A paragraph 1 of the 1945 Republic of Indonesia Constitution\\n B.  Article 21 Z paragraph 1 of the 1945 Republic of Indonesia Constitution\\n C.  Article 21 Y paragraph 1 of the 1945 Republic of Indonesia Constitution\\n D.  Article 1 paragraph 2 of the 1945 Republic of Indonesia Constitution\\n E.  Law Number 23 of 2003, especially Article 1 paragraph (6)\n"
     ]
    },
    {
     "name": "stderr",
     "output_type": "stream",
     "text": [
      "/opt/conda/lib/python3.10/site-packages/langchain_core/_api/deprecation.py:189: LangChainDeprecationWarning: The function `__call__` was deprecated in LangChain 0.1.0 and will be removed in 0.2.0. Use invoke instead.\n",
      "  warn_deprecated(\n",
      "/opt/conda/lib/python3.10/site-packages/langchain_core/_api/deprecation.py:189: LangChainDeprecationWarning: The function `run` was deprecated in LangChain 0.1.0 and will be removed in 0.2.0. Use invoke instead.\n",
      "  warn_deprecated(\n",
      "/opt/conda/lib/python3.10/site-packages/langchain_core/_api/deprecation.py:189: LangChainDeprecationWarning: The function `__call__` was deprecated in LangChain 0.1.0 and will be removed in 0.2.0. Use invoke instead.\n",
      "  warn_deprecated(\n",
      "/opt/conda/lib/python3.10/site-packages/langchain_core/_api/deprecation.py:189: LangChainDeprecationWarning: The function `__call__` was deprecated in LangChain 0.1.0 and will be removed in 0.2.0. Use invoke instead.\n",
      "  warn_deprecated(\n"
     ]
    },
    {
     "name": "stdout",
     "output_type": "stream",
     "text": [
      " A.  Article 21 A paragraph 1 of the 1945 Republic of Indonesia Constitution\n",
      "\n",
      "\n",
      "Sources:\n",
      "Time:  68.99869346618652\n",
      "==============================================\n",
      "Nomor:  77\n",
      "Everyone has the right to receive facilities and special treatment to obtain the same opportunities and benefits in order to achieve equality and justice, which is in...\\n A.  Law Number 23 of 2003, especially Article 6 L\\n B.  Article 21 A paragraph 1 of the 1945 Republic of Indonesia Constitution\\n C.  Article 21 Z paragraph 1 of the 1945 Republic of Indonesia Constitution\\n D.  Article 21 Y paragraph 1 of the 1945 Republic of Indonesia Constitution\\n E.  Article 1 paragraph 2 of the 1945 Republic of Indonesia Constitution\n"
     ]
    },
    {
     "name": "stderr",
     "output_type": "stream",
     "text": [
      "/opt/conda/lib/python3.10/site-packages/langchain_core/_api/deprecation.py:189: LangChainDeprecationWarning: The function `__call__` was deprecated in LangChain 0.1.0 and will be removed in 0.2.0. Use invoke instead.\n",
      "  warn_deprecated(\n",
      "/opt/conda/lib/python3.10/site-packages/langchain_core/_api/deprecation.py:189: LangChainDeprecationWarning: The function `run` was deprecated in LangChain 0.1.0 and will be removed in 0.2.0. Use invoke instead.\n",
      "  warn_deprecated(\n",
      "/opt/conda/lib/python3.10/site-packages/langchain_core/_api/deprecation.py:189: LangChainDeprecationWarning: The function `__call__` was deprecated in LangChain 0.1.0 and will be removed in 0.2.0. Use invoke instead.\n",
      "  warn_deprecated(\n",
      "/opt/conda/lib/python3.10/site-packages/langchain_core/_api/deprecation.py:189: LangChainDeprecationWarning: The function `__call__` was deprecated in LangChain 0.1.0 and will be removed in 0.2.0. Use invoke instead.\n",
      "  warn_deprecated(\n"
     ]
    },
    {
     "name": "stdout",
     "output_type": "stream",
     "text": [
      " B.  Article 21 A paragraph 1 of the 1945 Republic of Indonesia Constitution\n",
      "\n",
      "\n",
      "Sources:\n",
      "Time:  68.76645684242249\n",
      "==============================================\n",
      "Nomor:  78\n",
      "Everyone has the right to receive facilities and special treatment to obtain the same opportunities and benefits in order to achieve equality and justice, which is in...\\n A.  Article 21 A paragraph 1 of the 1945 Republic of Indonesia Constitution\\n B.  Article 21 Z paragraph 1 of the 1945 Republic of Indonesia Constitution\\n C.  Article 21 Y paragraph 1 of the 1945 Republic of Indonesia Constitution\\n D.  Article 1 paragraph 2 of the 1945 Republic of Indonesia Constitution\\n E.  Law Number 23 of 2003, especially Article 28 H paragraph (2)\n"
     ]
    },
    {
     "name": "stderr",
     "output_type": "stream",
     "text": [
      "/opt/conda/lib/python3.10/site-packages/langchain_core/_api/deprecation.py:189: LangChainDeprecationWarning: The function `__call__` was deprecated in LangChain 0.1.0 and will be removed in 0.2.0. Use invoke instead.\n",
      "  warn_deprecated(\n",
      "/opt/conda/lib/python3.10/site-packages/langchain_core/_api/deprecation.py:189: LangChainDeprecationWarning: The function `run` was deprecated in LangChain 0.1.0 and will be removed in 0.2.0. Use invoke instead.\n",
      "  warn_deprecated(\n",
      "/opt/conda/lib/python3.10/site-packages/langchain_core/_api/deprecation.py:189: LangChainDeprecationWarning: The function `__call__` was deprecated in LangChain 0.1.0 and will be removed in 0.2.0. Use invoke instead.\n",
      "  warn_deprecated(\n",
      "/opt/conda/lib/python3.10/site-packages/langchain_core/_api/deprecation.py:189: LangChainDeprecationWarning: The function `__call__` was deprecated in LangChain 0.1.0 and will be removed in 0.2.0. Use invoke instead.\n",
      "  warn_deprecated(\n"
     ]
    },
    {
     "name": "stdout",
     "output_type": "stream",
     "text": [
      " A.  Article 21 A paragraph 1 of the 1945 Republic of Indonesia Constitution\n",
      "\n",
      "\n",
      "Sources:\n",
      "Time:  71.13539981842041\n",
      "==============================================\n",
      "Nomor:  79\n",
      "Every person has the right to be free from discriminatory treatment on any basis and has the right to receive protection against such discriminatory treatment, in...\\n A.  Law Number 23 of 2003, especially Article 5 paragraphs (1,2,3 and 4)\\n B.  Article 21 A paragraph 1 of the 1945 Republic of Indonesia Constitution\\n C.  Article 21 Z paragraph 1 of the 1945 Republic of Indonesia Constitution\\n D.  Article 21 Y paragraph 1 of the 1945 Republic of Indonesia Constitution\\n E.  Article 1 paragraph 2 of the 1945 Republic of Indonesia Constitution\n"
     ]
    },
    {
     "name": "stderr",
     "output_type": "stream",
     "text": [
      "/opt/conda/lib/python3.10/site-packages/langchain_core/_api/deprecation.py:189: LangChainDeprecationWarning: The function `__call__` was deprecated in LangChain 0.1.0 and will be removed in 0.2.0. Use invoke instead.\n",
      "  warn_deprecated(\n",
      "/opt/conda/lib/python3.10/site-packages/langchain_core/_api/deprecation.py:189: LangChainDeprecationWarning: The function `run` was deprecated in LangChain 0.1.0 and will be removed in 0.2.0. Use invoke instead.\n",
      "  warn_deprecated(\n",
      "/opt/conda/lib/python3.10/site-packages/langchain_core/_api/deprecation.py:189: LangChainDeprecationWarning: The function `__call__` was deprecated in LangChain 0.1.0 and will be removed in 0.2.0. Use invoke instead.\n",
      "  warn_deprecated(\n",
      "/opt/conda/lib/python3.10/site-packages/langchain_core/_api/deprecation.py:189: LangChainDeprecationWarning: The function `__call__` was deprecated in LangChain 0.1.0 and will be removed in 0.2.0. Use invoke instead.\n",
      "  warn_deprecated(\n"
     ]
    },
    {
     "name": "stdout",
     "output_type": "stream",
     "text": [
      " B. Article 21 A paragraph 1 of the 1945 Republic of Indonesia Constitution\n",
      "\n",
      "\n",
      "Sources:\n",
      "Time:  72.092777967453\n",
      "==============================================\n",
      "Nomor:  80\n",
      "Every person has the right to be free from discriminatory treatment on any basis and has the right to receive protection against such discriminatory treatment, in...\\n A.  Article 21 A paragraph 1 of the 1945 Republic of Indonesia Constitution\\n B.  Article 21 Z paragraph 1 of the 1945 Republic of Indonesia Constitution\\n C.  Article 21 Y paragraph 1 of the 1945 Republic of Indonesia Constitution\\n D.  Article 1 paragraph 2 of the 1945 Republic of Indonesia Constitution\\n E.  Law Number 23 of 2003, especially Article 1 paragraph (6)\n"
     ]
    },
    {
     "name": "stderr",
     "output_type": "stream",
     "text": [
      "/opt/conda/lib/python3.10/site-packages/langchain_core/_api/deprecation.py:189: LangChainDeprecationWarning: The function `__call__` was deprecated in LangChain 0.1.0 and will be removed in 0.2.0. Use invoke instead.\n",
      "  warn_deprecated(\n",
      "/opt/conda/lib/python3.10/site-packages/langchain_core/_api/deprecation.py:189: LangChainDeprecationWarning: The function `run` was deprecated in LangChain 0.1.0 and will be removed in 0.2.0. Use invoke instead.\n",
      "  warn_deprecated(\n",
      "/opt/conda/lib/python3.10/site-packages/langchain_core/_api/deprecation.py:189: LangChainDeprecationWarning: The function `__call__` was deprecated in LangChain 0.1.0 and will be removed in 0.2.0. Use invoke instead.\n",
      "  warn_deprecated(\n",
      "/opt/conda/lib/python3.10/site-packages/langchain_core/_api/deprecation.py:189: LangChainDeprecationWarning: The function `__call__` was deprecated in LangChain 0.1.0 and will be removed in 0.2.0. Use invoke instead.\n",
      "  warn_deprecated(\n"
     ]
    },
    {
     "name": "stdout",
     "output_type": "stream",
     "text": [
      " A.  Article 21 A paragraph 1 of the 1945 Republic of Indonesia Constitution\n",
      "\n",
      "\n",
      "Sources:\n",
      "Time:  69.99984669685364\n",
      "==============================================\n",
      "Nomor:  81\n",
      "Every person has the right to be free from discriminatory treatment on any basis and has the right to receive protection against such discriminatory treatment, in...\\n A.  Law Number 23 of 2003, especially Article 6 I\\n B.  Article 21 A paragraph 1 of the 1945 Republic of Indonesia Constitution\\n C.  Article 21 Z paragraph 1 of the 1945 Republic of Indonesia Constitution\\n D.  Article 21 Y paragraph 1 of the 1945 Republic of Indonesia Constitution\\n E.  Article 1 paragraph 2 of the 1945 Republic of Indonesia Constitution\n"
     ]
    },
    {
     "name": "stderr",
     "output_type": "stream",
     "text": [
      "/opt/conda/lib/python3.10/site-packages/langchain_core/_api/deprecation.py:189: LangChainDeprecationWarning: The function `__call__` was deprecated in LangChain 0.1.0 and will be removed in 0.2.0. Use invoke instead.\n",
      "  warn_deprecated(\n",
      "/opt/conda/lib/python3.10/site-packages/langchain_core/_api/deprecation.py:189: LangChainDeprecationWarning: The function `run` was deprecated in LangChain 0.1.0 and will be removed in 0.2.0. Use invoke instead.\n",
      "  warn_deprecated(\n",
      "/opt/conda/lib/python3.10/site-packages/langchain_core/_api/deprecation.py:189: LangChainDeprecationWarning: The function `__call__` was deprecated in LangChain 0.1.0 and will be removed in 0.2.0. Use invoke instead.\n",
      "  warn_deprecated(\n",
      "/opt/conda/lib/python3.10/site-packages/langchain_core/_api/deprecation.py:189: LangChainDeprecationWarning: The function `__call__` was deprecated in LangChain 0.1.0 and will be removed in 0.2.0. Use invoke instead.\n",
      "  warn_deprecated(\n"
     ]
    },
    {
     "name": "stdout",
     "output_type": "stream",
     "text": [
      " B.  Article 21 A paragraph 1 of the 1945 Republic of Indonesia Constitution\n",
      "\n",
      "\n",
      "Sources:\n",
      "Time:  69.273122549057\n",
      "==============================================\n",
      "Nomor:  82\n",
      "Everyone is obliged to respect the human rights of others in the orderly life of society, nation and state, which is...\\n A.  Law Number 23 of 2003, especially Article 5 paragraphs (1, 2, 3 and 4)\\n B.  Article 21 A paragraph 1 of the 1945 Republic of Indonesia Constitution\\n C.  Article 21 Z paragraph 1 of the 1945 Republic of Indonesia Constitution\\n D.  Article 21 Y paragraph 1 of the 1945 Republic of Indonesia Constitution\\n E.  Article 1 paragraph 2 of the 1945 Republic of Indonesia Constitution\n"
     ]
    },
    {
     "name": "stderr",
     "output_type": "stream",
     "text": [
      "/opt/conda/lib/python3.10/site-packages/langchain_core/_api/deprecation.py:189: LangChainDeprecationWarning: The function `__call__` was deprecated in LangChain 0.1.0 and will be removed in 0.2.0. Use invoke instead.\n",
      "  warn_deprecated(\n",
      "/opt/conda/lib/python3.10/site-packages/langchain_core/_api/deprecation.py:189: LangChainDeprecationWarning: The function `run` was deprecated in LangChain 0.1.0 and will be removed in 0.2.0. Use invoke instead.\n",
      "  warn_deprecated(\n",
      "/opt/conda/lib/python3.10/site-packages/langchain_core/_api/deprecation.py:189: LangChainDeprecationWarning: The function `__call__` was deprecated in LangChain 0.1.0 and will be removed in 0.2.0. Use invoke instead.\n",
      "  warn_deprecated(\n",
      "/opt/conda/lib/python3.10/site-packages/langchain_core/_api/deprecation.py:189: LangChainDeprecationWarning: The function `__call__` was deprecated in LangChain 0.1.0 and will be removed in 0.2.0. Use invoke instead.\n",
      "  warn_deprecated(\n"
     ]
    },
    {
     "name": "stdout",
     "output_type": "stream",
     "text": [
      " B.  Article 21 A paragraph 1 of the 1945 Republic of Indonesia Constitution\n",
      "\n",
      "\n",
      "Sources:\n",
      "Time:  72.57554960250854\n",
      "==============================================\n",
      "Nomor:  83\n",
      "Everyone is obliged to respect the human rights of others in the orderly life of society, nation and state, which is...\\n A.  Article 21 A paragraph 1 of the 1945 Republic of Indonesia Constitution\\n B.  Article 21 Z paragraph 1 of the 1945 Republic of Indonesia Constitution\\n C.  Article 21 Y paragraph 1 of the 1945 Republic of Indonesia Constitution\\n D.  Article 1 paragraph 2 of the 1945 Republic of Indonesia Constitution\\n E.  Law Number 23 of 2003, especially Article 1 paragraph (6)\n"
     ]
    },
    {
     "name": "stderr",
     "output_type": "stream",
     "text": [
      "/opt/conda/lib/python3.10/site-packages/langchain_core/_api/deprecation.py:189: LangChainDeprecationWarning: The function `__call__` was deprecated in LangChain 0.1.0 and will be removed in 0.2.0. Use invoke instead.\n",
      "  warn_deprecated(\n",
      "/opt/conda/lib/python3.10/site-packages/langchain_core/_api/deprecation.py:189: LangChainDeprecationWarning: The function `run` was deprecated in LangChain 0.1.0 and will be removed in 0.2.0. Use invoke instead.\n",
      "  warn_deprecated(\n",
      "/opt/conda/lib/python3.10/site-packages/langchain_core/_api/deprecation.py:189: LangChainDeprecationWarning: The function `__call__` was deprecated in LangChain 0.1.0 and will be removed in 0.2.0. Use invoke instead.\n",
      "  warn_deprecated(\n",
      "/opt/conda/lib/python3.10/site-packages/langchain_core/_api/deprecation.py:189: LangChainDeprecationWarning: The function `__call__` was deprecated in LangChain 0.1.0 and will be removed in 0.2.0. Use invoke instead.\n",
      "  warn_deprecated(\n"
     ]
    },
    {
     "name": "stdout",
     "output_type": "stream",
     "text": [
      " A.  Article 21 A paragraph 1 of the 1945 Republic of Indonesia Constitution\n",
      "\n",
      "\n",
      "Sources:\n",
      "Time:  68.69545340538025\n",
      "==============================================\n",
      "Nomor:  84\n",
      "Everyone is obliged to respect the human rights of others in the orderly life of society, nation and state, which is...\\n A.  Law Number 23 of 2003, especially Article 6L\\n B.  Article 21 A paragraph 1 of the 1945 Republic of Indonesia Constitution\\n C.  Article 21 Z paragraph 1 of the 1945 Republic of Indonesia Constitution\\n D.  Article 21 Y paragraph 1 of the 1945 Republic of Indonesia Constitution\\n E.  Article 1 paragraph 2 of the 1945 Republic of Indonesia Constitution\n"
     ]
    },
    {
     "name": "stderr",
     "output_type": "stream",
     "text": [
      "/opt/conda/lib/python3.10/site-packages/langchain_core/_api/deprecation.py:189: LangChainDeprecationWarning: The function `__call__` was deprecated in LangChain 0.1.0 and will be removed in 0.2.0. Use invoke instead.\n",
      "  warn_deprecated(\n",
      "/opt/conda/lib/python3.10/site-packages/langchain_core/_api/deprecation.py:189: LangChainDeprecationWarning: The function `run` was deprecated in LangChain 0.1.0 and will be removed in 0.2.0. Use invoke instead.\n",
      "  warn_deprecated(\n",
      "/opt/conda/lib/python3.10/site-packages/langchain_core/_api/deprecation.py:189: LangChainDeprecationWarning: The function `__call__` was deprecated in LangChain 0.1.0 and will be removed in 0.2.0. Use invoke instead.\n",
      "  warn_deprecated(\n",
      "/opt/conda/lib/python3.10/site-packages/langchain_core/_api/deprecation.py:189: LangChainDeprecationWarning: The function `__call__` was deprecated in LangChain 0.1.0 and will be removed in 0.2.0. Use invoke instead.\n",
      "  warn_deprecated(\n"
     ]
    },
    {
     "name": "stdout",
     "output_type": "stream",
     "text": [
      " B.  Article 21 A paragraph 1 of the 1945 Republic of Indonesia Constitution\n",
      "\n",
      "\n",
      "Sources:\n",
      "Time:  67.6758177280426\n",
      "==============================================\n",
      "Nomor:  85\n",
      "Every person has the right to live in physical and spiritual prosperity, to have a place to live and to have a good and healthy living environment and to receive health services, at...\\n A.  Article 21 H paragraph 1 (Constitution/UUD 1945)\\n B.  Article 28 H paragraph 1 (Constitution/UUD 1945)\\n C.  Article 28 A paragraph 1 (Constitution/UUD 1945)\\n D.  Article 28 B paragraph 1 (Constitution/UUD 1945)\\n E.  Article 28 C paragraph 1 (1945 Constitution/UUD)\n"
     ]
    },
    {
     "name": "stderr",
     "output_type": "stream",
     "text": [
      "/opt/conda/lib/python3.10/site-packages/langchain_core/_api/deprecation.py:189: LangChainDeprecationWarning: The function `__call__` was deprecated in LangChain 0.1.0 and will be removed in 0.2.0. Use invoke instead.\n",
      "  warn_deprecated(\n",
      "/opt/conda/lib/python3.10/site-packages/langchain_core/_api/deprecation.py:189: LangChainDeprecationWarning: The function `run` was deprecated in LangChain 0.1.0 and will be removed in 0.2.0. Use invoke instead.\n",
      "  warn_deprecated(\n",
      "/opt/conda/lib/python3.10/site-packages/langchain_core/_api/deprecation.py:189: LangChainDeprecationWarning: The function `__call__` was deprecated in LangChain 0.1.0 and will be removed in 0.2.0. Use invoke instead.\n",
      "  warn_deprecated(\n",
      "/opt/conda/lib/python3.10/site-packages/langchain_core/_api/deprecation.py:189: LangChainDeprecationWarning: The function `__call__` was deprecated in LangChain 0.1.0 and will be removed in 0.2.0. Use invoke instead.\n",
      "  warn_deprecated(\n"
     ]
    },
    {
     "name": "stdout",
     "output_type": "stream",
     "text": [
      " \\_\\_\\_\\_\\_\\_\\_\\_\\_\\_\\_\\_\\_\\_\\_\\_\\_\\_\\_\\_\\_\\_\\_\\_\\_\\_\\_\\_\\_\\_\\_\\_\\_\\_\\_\\_\\_\\_\\_\\_\\_\\_\\_\\_\\_\\_\\_\\_\\_\\_\\_\\_\\_\\_\\\n",
      "_\\_\\_\\_\\_\\_\\_\\_\\_\\_\\_\\_\\_\\_\\_\\_\\_\\_\\_\\_\\_\\_\\_\\_\\_\\_\\_\\_\\_\\_\\_\\_\\_\\_\\_\\_\\_\\_\\_\\_\\_\\_\\_\\_\\_\\_\\_\\_\\_\\_\\_\\_\\_\\_\\_\\\n",
      "_\\_\\_\\_\\_\\_\\_\\_\\_\\_\\_\\_\\_\\_\\_\\_\\_\\_\\_\\_\\_\\_\\_\\_\\_\\_\\_\\_\\_\\_\\_\\_\\_\\_\\_\\_\\_\\_\\_\\_\\_\\_\\_\\_\\_\\_\\_\\_\\_\\_\\_\\_\\_\\_\\_\\\n",
      "_\\_\\_\\_\\_\\_\\_\\_\\_\\_\\_\\_\\_\\_\\_\\_\\_\\_\\_\\_\\_\\_\\_\\_\\_\\_\\_\\_\\_\\_\\_\\_\\_\\_\\_\\_\\_\\_\\_\\_\\_\\_\\_\\_\\_\\_\\_\\_\\_\\_\\_\\_\\_\\_\\_\\\n",
      "_\\_\\_\\_\\_\\_\\_\\_\\_\\_\\_\\_\\_\\_\\_\\_\\_\\_\\_\\_\\_\\_\\_\\_\\_\\_\\_\\_\\_\\_\\_\\_\\_\\_\\_\\_\\\n",
      "\n",
      "\n",
      "Sources:\n",
      "Time:  151.75134015083313\n",
      "==============================================\n",
      "Nomor:  86\n",
      "In Article 51 paragraph (1) of Law Number 24 of 2003 concerning the Constitutional Court. A party who considers their constitutional rights and/or authority to be impaired by the enactment of a law is...\\n A.  President\\n B.  Applicant\\n C.  vice President\\n D.  Police\\n E.  Soldier\n"
     ]
    },
    {
     "name": "stderr",
     "output_type": "stream",
     "text": [
      "/opt/conda/lib/python3.10/site-packages/langchain_core/_api/deprecation.py:189: LangChainDeprecationWarning: The function `__call__` was deprecated in LangChain 0.1.0 and will be removed in 0.2.0. Use invoke instead.\n",
      "  warn_deprecated(\n",
      "/opt/conda/lib/python3.10/site-packages/langchain_core/_api/deprecation.py:189: LangChainDeprecationWarning: The function `run` was deprecated in LangChain 0.1.0 and will be removed in 0.2.0. Use invoke instead.\n",
      "  warn_deprecated(\n",
      "/opt/conda/lib/python3.10/site-packages/langchain_core/_api/deprecation.py:189: LangChainDeprecationWarning: The function `__call__` was deprecated in LangChain 0.1.0 and will be removed in 0.2.0. Use invoke instead.\n",
      "  warn_deprecated(\n",
      "/opt/conda/lib/python3.10/site-packages/langchain_core/_api/deprecation.py:189: LangChainDeprecationWarning: The function `__call__` was deprecated in LangChain 0.1.0 and will be removed in 0.2.0. Use invoke instead.\n",
      "  warn_deprecated(\n"
     ]
    },
    {
     "name": "stdout",
     "output_type": "stream",
     "text": [
      " B. Applicant\n",
      "\n",
      "\n",
      "Sources:\n",
      "Time:  44.177438735961914\n",
      "==============================================\n",
      "Nomor:  87\n",
      "Article 51 paragraph (1) of Law Number 24 of 2003 concerning the Constitutional Court states, the Petitioner is a party who considers their constitutional rights and/or authority to be impaired by the enactment of a law, namely...\\n A.  individual Indonesian citizens, the unity of the customary law community as long as it is still alive and in accordance with the development of society and the principles of the Unitary State of the Republic of Indonesia as regulated in law, public or private legal entity, or state institutions\\n B.  Individual Indonesian citizens, have flesh and blood, or state institutions\\n C.  individual Indonesian citizens, working in government, or state institutions\\n D.  individual Indonesian citizens, can speak Indonesian,  public or private legal entity, or state institutions\\n E.  individual Indonesian citizens, criminal, public or private legal entity, or state institutions\n"
     ]
    },
    {
     "name": "stderr",
     "output_type": "stream",
     "text": [
      "/opt/conda/lib/python3.10/site-packages/langchain_core/_api/deprecation.py:189: LangChainDeprecationWarning: The function `__call__` was deprecated in LangChain 0.1.0 and will be removed in 0.2.0. Use invoke instead.\n",
      "  warn_deprecated(\n",
      "/opt/conda/lib/python3.10/site-packages/langchain_core/_api/deprecation.py:189: LangChainDeprecationWarning: The function `run` was deprecated in LangChain 0.1.0 and will be removed in 0.2.0. Use invoke instead.\n",
      "  warn_deprecated(\n",
      "/opt/conda/lib/python3.10/site-packages/langchain_core/_api/deprecation.py:189: LangChainDeprecationWarning: The function `__call__` was deprecated in LangChain 0.1.0 and will be removed in 0.2.0. Use invoke instead.\n",
      "  warn_deprecated(\n",
      "/opt/conda/lib/python3.10/site-packages/langchain_core/_api/deprecation.py:189: LangChainDeprecationWarning: The function `__call__` was deprecated in LangChain 0.1.0 and will be removed in 0.2.0. Use invoke instead.\n",
      "  warn_deprecated(\n"
     ]
    },
    {
     "name": "stdout",
     "output_type": "stream",
     "text": [
      " A\n",
      "\n",
      "\n",
      "Sources:\n",
      "Time:  79.93251466751099\n",
      "==============================================\n",
      "Nomor:  88\n",
      "Every person has the right to recognition, guarantees, protection and fair legal certainty as well as equal treatment before the law, reads the...\\n A.  Article 28D paragraph (1) of the 1945 Constitution\\n B.  Article 27D paragraph (1) of the 1945 Constitution\\n C.  Article 26D paragraph (1) of the 1945 Constitution\\n D.  Article 25D paragraph (1) of the 1945 Constitution\\n E.  Article 24D paragraph (1) of the 1945 Constitution\n"
     ]
    },
    {
     "name": "stderr",
     "output_type": "stream",
     "text": [
      "/opt/conda/lib/python3.10/site-packages/langchain_core/_api/deprecation.py:189: LangChainDeprecationWarning: The function `__call__` was deprecated in LangChain 0.1.0 and will be removed in 0.2.0. Use invoke instead.\n",
      "  warn_deprecated(\n",
      "/opt/conda/lib/python3.10/site-packages/langchain_core/_api/deprecation.py:189: LangChainDeprecationWarning: The function `run` was deprecated in LangChain 0.1.0 and will be removed in 0.2.0. Use invoke instead.\n",
      "  warn_deprecated(\n",
      "/opt/conda/lib/python3.10/site-packages/langchain_core/_api/deprecation.py:189: LangChainDeprecationWarning: The function `__call__` was deprecated in LangChain 0.1.0 and will be removed in 0.2.0. Use invoke instead.\n",
      "  warn_deprecated(\n",
      "/opt/conda/lib/python3.10/site-packages/langchain_core/_api/deprecation.py:189: LangChainDeprecationWarning: The function `__call__` was deprecated in LangChain 0.1.0 and will be removed in 0.2.0. Use invoke instead.\n",
      "  warn_deprecated(\n"
     ]
    },
    {
     "name": "stdout",
     "output_type": "stream",
     "text": [
      " C.  Article 26D paragraph (1) of the 1945 Constitution\n",
      "\n",
      "\n",
      "Sources:\n",
      "Time:  66.46384501457214\n",
      "==============================================\n",
      "Nomor:  89\n",
      "Every person has the right to freedom of belief, expression of thoughts and attitudes, in accordance with his conscience, according to article...\\n A.  Article 28F paragraph (2) of the 1945 Constitution\\n B.  Article 28A paragraph (2) of the 1945 Constitution\\n C.  Article 28B paragraph (2) of the 1945 Constitution\\n D.  Article 28C paragraph (2) of the 1945 Constitution\\n E.  Article 28E paragraph (2) of the 1945 Constitution\n"
     ]
    },
    {
     "name": "stderr",
     "output_type": "stream",
     "text": [
      "/opt/conda/lib/python3.10/site-packages/langchain_core/_api/deprecation.py:189: LangChainDeprecationWarning: The function `__call__` was deprecated in LangChain 0.1.0 and will be removed in 0.2.0. Use invoke instead.\n",
      "  warn_deprecated(\n",
      "/opt/conda/lib/python3.10/site-packages/langchain_core/_api/deprecation.py:189: LangChainDeprecationWarning: The function `run` was deprecated in LangChain 0.1.0 and will be removed in 0.2.0. Use invoke instead.\n",
      "  warn_deprecated(\n",
      "/opt/conda/lib/python3.10/site-packages/langchain_core/_api/deprecation.py:189: LangChainDeprecationWarning: The function `__call__` was deprecated in LangChain 0.1.0 and will be removed in 0.2.0. Use invoke instead.\n",
      "  warn_deprecated(\n",
      "/opt/conda/lib/python3.10/site-packages/langchain_core/_api/deprecation.py:189: LangChainDeprecationWarning: The function `__call__` was deprecated in LangChain 0.1.0 and will be removed in 0.2.0. Use invoke instead.\n",
      "  warn_deprecated(\n"
     ]
    },
    {
     "name": "stdout",
     "output_type": "stream",
     "text": [
      " Every person has the right to freedom of belief, expression of thoughts and attitudes, in accordance with his\n",
      "conscience, according to article A.  Article 28F paragraph (2) of the 1945 Constitution\n",
      "\n",
      "\n",
      "Sources:\n",
      "Time:  73.71255493164062\n",
      "==============================================\n",
      "Nomor:  90\n",
      "Everyone has the right to freedom of association, assembly and expression of opinion, from article...\\n A.  Article 28A paragraph (3) of the 1945 Constitution\\n B.  Article 28E paragraph (3) of the 1945 Constitution\\n C.  Article 28B paragraph (3) of the 1945 Constitution\\n D.  Article 28C paragraph (3) of the 1945 Constitution\\n E.  Article 28D paragraph (3) of the 1945 Constitution\n"
     ]
    },
    {
     "name": "stderr",
     "output_type": "stream",
     "text": [
      "/opt/conda/lib/python3.10/site-packages/langchain_core/_api/deprecation.py:189: LangChainDeprecationWarning: The function `__call__` was deprecated in LangChain 0.1.0 and will be removed in 0.2.0. Use invoke instead.\n",
      "  warn_deprecated(\n",
      "/opt/conda/lib/python3.10/site-packages/langchain_core/_api/deprecation.py:189: LangChainDeprecationWarning: The function `run` was deprecated in LangChain 0.1.0 and will be removed in 0.2.0. Use invoke instead.\n",
      "  warn_deprecated(\n",
      "/opt/conda/lib/python3.10/site-packages/langchain_core/_api/deprecation.py:189: LangChainDeprecationWarning: The function `__call__` was deprecated in LangChain 0.1.0 and will be removed in 0.2.0. Use invoke instead.\n",
      "  warn_deprecated(\n",
      "/opt/conda/lib/python3.10/site-packages/langchain_core/_api/deprecation.py:189: LangChainDeprecationWarning: The function `__call__` was deprecated in LangChain 0.1.0 and will be removed in 0.2.0. Use invoke instead.\n",
      "  warn_deprecated(\n"
     ]
    },
    {
     "name": "stdout",
     "output_type": "stream",
     "text": [
      " Everyone has the right to freedom of association, assembly and expression of opinion, from article...\\n A.\n",
      "Article 28A paragraph (3) of the 1945 Constitution\n",
      "\n",
      "\n",
      "Sources:\n",
      "Time:  69.33644104003906\n",
      "==============================================\n",
      "Nomor:  91\n",
      "Everyone has the right to communicate and obtain information to develop their personal and social environment, and has the right to seek, obtain, own, store, process and convey information using all types of available channels, as stated in article...\\n A.  Article 28B of the 1945 Constitution\\n B.  Article 28C of the 1945 Constitution\\n C.  Article 28E of the 1945 Constitution\\n D.  Article 28E of the 1945 Constitution\\n E.  Article 28F of the 1945 Constitution\n"
     ]
    },
    {
     "name": "stderr",
     "output_type": "stream",
     "text": [
      "/opt/conda/lib/python3.10/site-packages/langchain_core/_api/deprecation.py:189: LangChainDeprecationWarning: The function `__call__` was deprecated in LangChain 0.1.0 and will be removed in 0.2.0. Use invoke instead.\n",
      "  warn_deprecated(\n",
      "/opt/conda/lib/python3.10/site-packages/langchain_core/_api/deprecation.py:189: LangChainDeprecationWarning: The function `run` was deprecated in LangChain 0.1.0 and will be removed in 0.2.0. Use invoke instead.\n",
      "  warn_deprecated(\n",
      "/opt/conda/lib/python3.10/site-packages/langchain_core/_api/deprecation.py:189: LangChainDeprecationWarning: The function `__call__` was deprecated in LangChain 0.1.0 and will be removed in 0.2.0. Use invoke instead.\n",
      "  warn_deprecated(\n",
      "/opt/conda/lib/python3.10/site-packages/langchain_core/_api/deprecation.py:189: LangChainDeprecationWarning: The function `__call__` was deprecated in LangChain 0.1.0 and will be removed in 0.2.0. Use invoke instead.\n",
      "  warn_deprecated(\n"
     ]
    },
    {
     "name": "stdout",
     "output_type": "stream",
     "text": [
      " Everyone has the right to communicate and obtain information to develop their personal and social\n",
      "environment, and has the right to seek, obtain, own, store, process and convey information using all types of\n",
      "available channels, as stated in article...\\n A.  Article 28B of the 1945 Constitution\n",
      "\n",
      "\n",
      "Sources:\n",
      "Time:  81.20614457130432\n",
      "==============================================\n",
      "Nomor:  92\n",
      "Every person who meets the elements as intended in Article 27 paragraph (1), paragraph (2), paragraph (3), or paragraph (4) shall be punished with a maximum imprisonment...\\n A.  5 (five) years\\n B.  6 (six) years\\n C.  7 (seven) years\\n D.  8 (eight) years\\n E.  9 (nine) years\n"
     ]
    },
    {
     "name": "stderr",
     "output_type": "stream",
     "text": [
      "/opt/conda/lib/python3.10/site-packages/langchain_core/_api/deprecation.py:189: LangChainDeprecationWarning: The function `__call__` was deprecated in LangChain 0.1.0 and will be removed in 0.2.0. Use invoke instead.\n",
      "  warn_deprecated(\n",
      "/opt/conda/lib/python3.10/site-packages/langchain_core/_api/deprecation.py:189: LangChainDeprecationWarning: The function `run` was deprecated in LangChain 0.1.0 and will be removed in 0.2.0. Use invoke instead.\n",
      "  warn_deprecated(\n",
      "/opt/conda/lib/python3.10/site-packages/langchain_core/_api/deprecation.py:189: LangChainDeprecationWarning: The function `__call__` was deprecated in LangChain 0.1.0 and will be removed in 0.2.0. Use invoke instead.\n",
      "  warn_deprecated(\n",
      "/opt/conda/lib/python3.10/site-packages/langchain_core/_api/deprecation.py:189: LangChainDeprecationWarning: The function `__call__` was deprecated in LangChain 0.1.0 and will be removed in 0.2.0. Use invoke instead.\n",
      "  warn_deprecated(\n"
     ]
    },
    {
     "name": "stdout",
     "output_type": "stream",
     "text": [
      " D. 8 (eight) years\n",
      "\n",
      "\n",
      "Sources:\n",
      "Time:  46.98086667060852\n",
      "==============================================\n",
      "Nomor:  93\n",
      "Every person who meets the elements as intended in Article 27 paragraph (1), paragraph (2), paragraph (3), or paragraph (4) shall be punished with imprisonment for a maximum of 6 (six) years and/or a fine of a maximum...\\n A.  IDR 2,000,000,000.00 (two billion rupiah)\\n B.  IDR 3,000,000,000.00 (three billion rupiah)\\n C.  IDR 1,000,000,000.00 (one billion rupiah)\\n D.  IDR 4,000,000,000.00 (four billion rupiah)\\n E.  IDR 5,000,000,000.00 (five billion rupiah)\n"
     ]
    },
    {
     "name": "stderr",
     "output_type": "stream",
     "text": [
      "/opt/conda/lib/python3.10/site-packages/langchain_core/_api/deprecation.py:189: LangChainDeprecationWarning: The function `__call__` was deprecated in LangChain 0.1.0 and will be removed in 0.2.0. Use invoke instead.\n",
      "  warn_deprecated(\n",
      "/opt/conda/lib/python3.10/site-packages/langchain_core/_api/deprecation.py:189: LangChainDeprecationWarning: The function `run` was deprecated in LangChain 0.1.0 and will be removed in 0.2.0. Use invoke instead.\n",
      "  warn_deprecated(\n",
      "/opt/conda/lib/python3.10/site-packages/langchain_core/_api/deprecation.py:189: LangChainDeprecationWarning: The function `__call__` was deprecated in LangChain 0.1.0 and will be removed in 0.2.0. Use invoke instead.\n",
      "  warn_deprecated(\n",
      "/opt/conda/lib/python3.10/site-packages/langchain_core/_api/deprecation.py:189: LangChainDeprecationWarning: The function `__call__` was deprecated in LangChain 0.1.0 and will be removed in 0.2.0. Use invoke instead.\n",
      "  warn_deprecated(\n"
     ]
    },
    {
     "name": "stdout",
     "output_type": "stream",
     "text": [
      " C. IDR 1,000,000,000.00 (one billion rupiah)\n",
      "\n",
      "\n",
      "Sources:\n",
      "Time:  90.15488600730896\n",
      "==============================================\n",
      "Nomor:  94\n",
      "Law Number 32 of 2004, as most recently amended by...\\n A.  Law Number 11 of 2008\\n B.  Law Number 12 of 2008\\n C.  Law Number 13 of 2008\\n D.  Law Number 14 of 2008\\n E.  Law Number 15 of 2008\n"
     ]
    },
    {
     "name": "stderr",
     "output_type": "stream",
     "text": [
      "/opt/conda/lib/python3.10/site-packages/langchain_core/_api/deprecation.py:189: LangChainDeprecationWarning: The function `__call__` was deprecated in LangChain 0.1.0 and will be removed in 0.2.0. Use invoke instead.\n",
      "  warn_deprecated(\n",
      "/opt/conda/lib/python3.10/site-packages/langchain_core/_api/deprecation.py:189: LangChainDeprecationWarning: The function `run` was deprecated in LangChain 0.1.0 and will be removed in 0.2.0. Use invoke instead.\n",
      "  warn_deprecated(\n",
      "/opt/conda/lib/python3.10/site-packages/langchain_core/_api/deprecation.py:189: LangChainDeprecationWarning: The function `__call__` was deprecated in LangChain 0.1.0 and will be removed in 0.2.0. Use invoke instead.\n",
      "  warn_deprecated(\n",
      "/opt/conda/lib/python3.10/site-packages/langchain_core/_api/deprecation.py:189: LangChainDeprecationWarning: The function `__call__` was deprecated in LangChain 0.1.0 and will be removed in 0.2.0. Use invoke instead.\n",
      "  warn_deprecated(\n"
     ]
    },
    {
     "name": "stdout",
     "output_type": "stream",
     "text": [
      " A.  Law Number 11 of 2008\n",
      "\n",
      "\n",
      "Sources:\n",
      "Time:  53.3591148853302\n",
      "==============================================\n",
      "Nomor:  95\n",
      "Law Number 12 of 2008 concerning the Second Amendment to Law Number 32 of 2004 concerning Regional Government, in Article 236C stipulates...\\n A.  Handling of disputes over the vote counting results of regional head and deputy regional head elections by the Supreme Court shall be transferred to the Constitutional Court no later than 18 (eighteen) months from the promulgation of this Law.\\n B.  The Supreme Court has the authority to adjudicate at the first and final level whose decisions are final, among other things, to decide disputes regarding the results of general elections\\n C.  The Constitutional Court has the authority to adjudicate at the first and final level whose decisions are final, among other things, to decide disputes regarding the results of general elections\\n D.  The Indonesian National Police adjudicates at the first and final level whose decision is final, among other things, to decide disputes regarding the results of the general election\\n E.  The President of the Republic of Indonesia adjudicates at the first and final level whose decision is final, among other things, to decide disputes regarding the results of the general election\n"
     ]
    },
    {
     "name": "stderr",
     "output_type": "stream",
     "text": [
      "/opt/conda/lib/python3.10/site-packages/langchain_core/_api/deprecation.py:189: LangChainDeprecationWarning: The function `__call__` was deprecated in LangChain 0.1.0 and will be removed in 0.2.0. Use invoke instead.\n",
      "  warn_deprecated(\n",
      "/opt/conda/lib/python3.10/site-packages/langchain_core/_api/deprecation.py:189: LangChainDeprecationWarning: The function `run` was deprecated in LangChain 0.1.0 and will be removed in 0.2.0. Use invoke instead.\n",
      "  warn_deprecated(\n",
      "/opt/conda/lib/python3.10/site-packages/langchain_core/_api/deprecation.py:189: LangChainDeprecationWarning: The function `__call__` was deprecated in LangChain 0.1.0 and will be removed in 0.2.0. Use invoke instead.\n",
      "  warn_deprecated(\n",
      "/opt/conda/lib/python3.10/site-packages/langchain_core/_api/deprecation.py:189: LangChainDeprecationWarning: The function `__call__` was deprecated in LangChain 0.1.0 and will be removed in 0.2.0. Use invoke instead.\n",
      "  warn_deprecated(\n"
     ]
    },
    {
     "name": "stdout",
     "output_type": "stream",
     "text": [
      " B\n",
      "\n",
      "\n",
      "Sources:\n",
      "Time:  97.39631724357605\n",
      "==============================================\n",
      "Nomor:  96\n",
      "Governors, regents and mayors, respectively, as heads of provincial, district and city regional governments are elected democratically, as stated in article...\\n A.  1945 Constitution Article 18 paragraph (4)\\n B.  1945 Constitution Article 22E paragraph (1)\\n C.  1945 Constitution Article 27 paragraph (1)\\n D.  1945 Constitution Article 28C paragraph (2)\\n E.  1945 Constitution Article 28D paragraph (1)\n"
     ]
    },
    {
     "name": "stderr",
     "output_type": "stream",
     "text": [
      "/opt/conda/lib/python3.10/site-packages/langchain_core/_api/deprecation.py:189: LangChainDeprecationWarning: The function `__call__` was deprecated in LangChain 0.1.0 and will be removed in 0.2.0. Use invoke instead.\n",
      "  warn_deprecated(\n",
      "/opt/conda/lib/python3.10/site-packages/langchain_core/_api/deprecation.py:189: LangChainDeprecationWarning: The function `run` was deprecated in LangChain 0.1.0 and will be removed in 0.2.0. Use invoke instead.\n",
      "  warn_deprecated(\n",
      "/opt/conda/lib/python3.10/site-packages/langchain_core/_api/deprecation.py:189: LangChainDeprecationWarning: The function `__call__` was deprecated in LangChain 0.1.0 and will be removed in 0.2.0. Use invoke instead.\n",
      "  warn_deprecated(\n",
      "/opt/conda/lib/python3.10/site-packages/langchain_core/_api/deprecation.py:189: LangChainDeprecationWarning: The function `__call__` was deprecated in LangChain 0.1.0 and will be removed in 0.2.0. Use invoke instead.\n",
      "  warn_deprecated(\n"
     ]
    },
    {
     "name": "stdout",
     "output_type": "stream",
     "text": [
      " B.\n",
      "\n",
      "\n",
      "Sources:\n",
      "Time:  53.73589015007019\n",
      "==============================================\n",
      "Nomor:  97\n",
      "General elections are held directly, publicly, freely, secretly, honestly and fairly once every five years, in article...\\n A.  1946 Constitution Article 18 paragraph (4)\\n B.  1946 Constitution Article 22E paragraph (1)\\n C.  1946 Constitution Article 27 paragraph (1)\\n D.  1946 Constitution Article 28C paragraph (2)\\n E.  1946 Constitution Article 28D paragraph (1)\n"
     ]
    },
    {
     "name": "stderr",
     "output_type": "stream",
     "text": [
      "/opt/conda/lib/python3.10/site-packages/langchain_core/_api/deprecation.py:189: LangChainDeprecationWarning: The function `__call__` was deprecated in LangChain 0.1.0 and will be removed in 0.2.0. Use invoke instead.\n",
      "  warn_deprecated(\n",
      "/opt/conda/lib/python3.10/site-packages/langchain_core/_api/deprecation.py:189: LangChainDeprecationWarning: The function `run` was deprecated in LangChain 0.1.0 and will be removed in 0.2.0. Use invoke instead.\n",
      "  warn_deprecated(\n",
      "/opt/conda/lib/python3.10/site-packages/langchain_core/_api/deprecation.py:189: LangChainDeprecationWarning: The function `__call__` was deprecated in LangChain 0.1.0 and will be removed in 0.2.0. Use invoke instead.\n",
      "  warn_deprecated(\n",
      "/opt/conda/lib/python3.10/site-packages/langchain_core/_api/deprecation.py:189: LangChainDeprecationWarning: The function `__call__` was deprecated in LangChain 0.1.0 and will be removed in 0.2.0. Use invoke instead.\n",
      "  warn_deprecated(\n"
     ]
    },
    {
     "name": "stdout",
     "output_type": "stream",
     "text": [
      " B.  1946 Constitution Article 22E paragraph (1)\n",
      "\n",
      "\n",
      "Sources:\n",
      "Time:  57.54632902145386\n",
      "==============================================\n",
      "Nomor:  98\n",
      "All citizens have the same position under the law and government and are obliged to uphold the law and government without exception, in article...\\n A.  1947 Constitution Article 18 paragraph (4)\\n B.  1947 Constitution Article 22E paragraph (1)\\n C.  1947 Constitution Article 27 paragraph (1)\\n D.  1947 Constitution Article 28C paragraph (2)\\n E.  1947 Constitution Article 28D paragraph (1)\n"
     ]
    },
    {
     "name": "stderr",
     "output_type": "stream",
     "text": [
      "/opt/conda/lib/python3.10/site-packages/langchain_core/_api/deprecation.py:189: LangChainDeprecationWarning: The function `__call__` was deprecated in LangChain 0.1.0 and will be removed in 0.2.0. Use invoke instead.\n",
      "  warn_deprecated(\n",
      "/opt/conda/lib/python3.10/site-packages/langchain_core/_api/deprecation.py:189: LangChainDeprecationWarning: The function `run` was deprecated in LangChain 0.1.0 and will be removed in 0.2.0. Use invoke instead.\n",
      "  warn_deprecated(\n",
      "/opt/conda/lib/python3.10/site-packages/langchain_core/_api/deprecation.py:189: LangChainDeprecationWarning: The function `__call__` was deprecated in LangChain 0.1.0 and will be removed in 0.2.0. Use invoke instead.\n",
      "  warn_deprecated(\n",
      "/opt/conda/lib/python3.10/site-packages/langchain_core/_api/deprecation.py:189: LangChainDeprecationWarning: The function `__call__` was deprecated in LangChain 0.1.0 and will be removed in 0.2.0. Use invoke instead.\n",
      "  warn_deprecated(\n"
     ]
    },
    {
     "name": "stdout",
     "output_type": "stream",
     "text": [
      " A.\n",
      "\n",
      "\n",
      "Sources:\n",
      "Time:  53.57805562019348\n",
      "==============================================\n",
      "Nomor:  99\n",
      "Everyone has the right to advance themselves in fighting for their rights collectively to develop their society, nation and state, as stated in article...\\n A.  1948 Constitution Article 18 paragraph (4)\\n B.  1948 Constitution Article 22E paragraph (1)\\n C.  1948 Constitution Article 27 paragraph (1)\\n D.  1948 Constitution Article 28C paragraph (2)\\n E.  1948 Constitution Article 28D paragraph (1)\n"
     ]
    },
    {
     "name": "stderr",
     "output_type": "stream",
     "text": [
      "/opt/conda/lib/python3.10/site-packages/langchain_core/_api/deprecation.py:189: LangChainDeprecationWarning: The function `__call__` was deprecated in LangChain 0.1.0 and will be removed in 0.2.0. Use invoke instead.\n",
      "  warn_deprecated(\n",
      "/opt/conda/lib/python3.10/site-packages/langchain_core/_api/deprecation.py:189: LangChainDeprecationWarning: The function `run` was deprecated in LangChain 0.1.0 and will be removed in 0.2.0. Use invoke instead.\n",
      "  warn_deprecated(\n",
      "/opt/conda/lib/python3.10/site-packages/langchain_core/_api/deprecation.py:189: LangChainDeprecationWarning: The function `__call__` was deprecated in LangChain 0.1.0 and will be removed in 0.2.0. Use invoke instead.\n",
      "  warn_deprecated(\n",
      "/opt/conda/lib/python3.10/site-packages/langchain_core/_api/deprecation.py:189: LangChainDeprecationWarning: The function `__call__` was deprecated in LangChain 0.1.0 and will be removed in 0.2.0. Use invoke instead.\n",
      "  warn_deprecated(\n"
     ]
    },
    {
     "name": "stdout",
     "output_type": "stream",
     "text": [
      " B.\n",
      "\n",
      "\n",
      "Sources:\n",
      "Time:  53.37552452087402\n",
      "==============================================\n",
      "Nomor:  100\n",
      "Every person has the right to recognition, guarantees, protection and fair legal certainty as well as equal treatment before the law, as stated in Article...\\n A.  1949 Constitution Article 18 paragraph (4)\\n B.  1949 Constitution Article 22E paragraph (1)\\n C.  1949 Constitution Article 27 paragraph (1)\\n D.  1949 Constitution Article 28C paragraph (2)\\n E.  1949 Constitution Article 28D paragraph (1)\n"
     ]
    },
    {
     "name": "stderr",
     "output_type": "stream",
     "text": [
      "/opt/conda/lib/python3.10/site-packages/langchain_core/_api/deprecation.py:189: LangChainDeprecationWarning: The function `__call__` was deprecated in LangChain 0.1.0 and will be removed in 0.2.0. Use invoke instead.\n",
      "  warn_deprecated(\n",
      "/opt/conda/lib/python3.10/site-packages/langchain_core/_api/deprecation.py:189: LangChainDeprecationWarning: The function `run` was deprecated in LangChain 0.1.0 and will be removed in 0.2.0. Use invoke instead.\n",
      "  warn_deprecated(\n",
      "/opt/conda/lib/python3.10/site-packages/langchain_core/_api/deprecation.py:189: LangChainDeprecationWarning: The function `__call__` was deprecated in LangChain 0.1.0 and will be removed in 0.2.0. Use invoke instead.\n",
      "  warn_deprecated(\n",
      "/opt/conda/lib/python3.10/site-packages/langchain_core/_api/deprecation.py:189: LangChainDeprecationWarning: The function `__call__` was deprecated in LangChain 0.1.0 and will be removed in 0.2.0. Use invoke instead.\n",
      "  warn_deprecated(\n"
     ]
    },
    {
     "name": "stdout",
     "output_type": "stream",
     "text": [
      " B.  1949 Constitution Article 22E paragraph (1)\n",
      "\n",
      "\n",
      "Sources:\n",
      "Time:  59.0638792514801\n",
      "==============================================\n",
      "CPU times: user 9h 33min 33s, sys: 32 s, total: 9h 34min 5s\n",
      "Wall time: 2h 27min 1s\n"
     ]
    }
   ],
   "source": [
    "%%time\n",
    "for x,y in zip(dataset.no,dataset.qa_comb):\n",
    "    llm_time_start = time.time()\n",
    "    print(\"Nomor: \",x)\n",
    "    print(y)\n",
    "    llm_ans(y)\n",
    "    llm_time_end = time.time()\n",
    "    print(\"Time: \",llm_time_end - llm_time_start)\n",
    "    print(\"==============================================\")"
   ]
  },
  {
   "cell_type": "code",
   "execution_count": 20,
   "id": "849ca9de",
   "metadata": {
    "execution": {
     "iopub.execute_input": "2024-01-07T08:09:24.824629Z",
     "iopub.status.busy": "2024-01-07T08:09:24.824318Z",
     "iopub.status.idle": "2024-01-07T08:09:24.829206Z",
     "shell.execute_reply": "2024-01-07T08:09:24.828191Z"
    },
    "papermill": {
     "duration": 0.05471,
     "end_time": "2024-01-07T08:09:24.831095",
     "exception": false,
     "start_time": "2024-01-07T08:09:24.776385",
     "status": "completed"
    },
    "tags": []
   },
   "outputs": [
    {
     "name": "stdout",
     "output_type": "stream",
     "text": [
      "9202.872864723206\n"
     ]
    }
   ],
   "source": [
    "end = time.time()\n",
    "print(end - start)"
   ]
  }
 ],
 "metadata": {
  "kaggle": {
   "accelerator": "nvidiaTeslaT4",
   "dataSources": [
    {
     "datasetId": 3947022,
     "sourceId": 6868021,
     "sourceType": "datasetVersion"
    },
    {
     "datasetId": 3813772,
     "sourceId": 6609450,
     "sourceType": "datasetVersion"
    }
   ],
   "dockerImageVersionId": 30559,
   "isGpuEnabled": true,
   "isInternetEnabled": true,
   "language": "python",
   "sourceType": "notebook"
  },
  "kernelspec": {
   "display_name": "Python 3",
   "language": "python",
   "name": "python3"
  },
  "language_info": {
   "codemirror_mode": {
    "name": "ipython",
    "version": 3
   },
   "file_extension": ".py",
   "mimetype": "text/x-python",
   "name": "python",
   "nbconvert_exporter": "python",
   "pygments_lexer": "ipython3",
   "version": "3.10.12"
  },
  "papermill": {
   "default_parameters": {},
   "duration": 9210.337356,
   "end_time": "2024-01-07T08:09:27.619419",
   "environment_variables": {},
   "exception": null,
   "input_path": "__notebook__.ipynb",
   "output_path": "__notebook__.ipynb",
   "parameters": {},
   "start_time": "2024-01-07T05:35:57.282063",
   "version": "2.4.0"
  },
  "widgets": {
   "application/vnd.jupyter.widget-state+json": {
    "state": {
     "00436952d537465e87146b0b76462d79": {
      "model_module": "@jupyter-widgets/controls",
      "model_module_version": "1.5.0",
      "model_name": "HTMLModel",
      "state": {
       "_dom_classes": [],
       "_model_module": "@jupyter-widgets/controls",
       "_model_module_version": "1.5.0",
       "_model_name": "HTMLModel",
       "_view_count": null,
       "_view_module": "@jupyter-widgets/controls",
       "_view_module_version": "1.5.0",
       "_view_name": "HTMLView",
       "description": "",
       "description_tooltip": null,
       "layout": "IPY_MODEL_279ba8b77b5143adaf5d1bb9285da0ab",
       "placeholder": "​",
       "style": "IPY_MODEL_c2af3013a610415797efd7b5404ddc90",
       "value": " 123/123 [00:00&lt;00:00, 11.2kB/s]"
      }
     },
     "01e0a855210a475ea50fbed5abd09579": {
      "model_module": "@jupyter-widgets/base",
      "model_module_version": "1.2.0",
      "model_name": "LayoutModel",
      "state": {
       "_model_module": "@jupyter-widgets/base",
       "_model_module_version": "1.2.0",
       "_model_name": "LayoutModel",
       "_view_count": null,
       "_view_module": "@jupyter-widgets/base",
       "_view_module_version": "1.2.0",
       "_view_name": "LayoutView",
       "align_content": null,
       "align_items": null,
       "align_self": null,
       "border": null,
       "bottom": null,
       "display": null,
       "flex": null,
       "flex_flow": null,
       "grid_area": null,
       "grid_auto_columns": null,
       "grid_auto_flow": null,
       "grid_auto_rows": null,
       "grid_column": null,
       "grid_gap": null,
       "grid_row": null,
       "grid_template_areas": null,
       "grid_template_columns": null,
       "grid_template_rows": null,
       "height": null,
       "justify_content": null,
       "justify_items": null,
       "left": null,
       "margin": null,
       "max_height": null,
       "max_width": null,
       "min_height": null,
       "min_width": null,
       "object_fit": null,
       "object_position": null,
       "order": null,
       "overflow": null,
       "overflow_x": null,
       "overflow_y": null,
       "padding": null,
       "right": null,
       "top": null,
       "visibility": null,
       "width": null
      }
     },
     "03226d326ae141d5a54c89c793b9a0a1": {
      "model_module": "@jupyter-widgets/controls",
      "model_module_version": "1.5.0",
      "model_name": "HTMLModel",
      "state": {
       "_dom_classes": [],
       "_model_module": "@jupyter-widgets/controls",
       "_model_module_version": "1.5.0",
       "_model_name": "HTMLModel",
       "_view_count": null,
       "_view_module": "@jupyter-widgets/controls",
       "_view_module_version": "1.5.0",
       "_view_name": "HTMLView",
       "description": "",
       "description_tooltip": null,
       "layout": "IPY_MODEL_3360ce837fd246b59f4958a0e39c5f8e",
       "placeholder": "​",
       "style": "IPY_MODEL_23023a44b0f84cd0b44f322e58257538",
       "value": "config.json: 100%"
      }
     },
     "03d3a52aa2a24d9ebbe3111749abaa49": {
      "model_module": "@jupyter-widgets/controls",
      "model_module_version": "1.5.0",
      "model_name": "HTMLModel",
      "state": {
       "_dom_classes": [],
       "_model_module": "@jupyter-widgets/controls",
       "_model_module_version": "1.5.0",
       "_model_name": "HTMLModel",
       "_view_count": null,
       "_view_module": "@jupyter-widgets/controls",
       "_view_module_version": "1.5.0",
       "_view_name": "HTMLView",
       "description": "",
       "description_tooltip": null,
       "layout": "IPY_MODEL_2685b1618f60486091389baaa46f5b16",
       "placeholder": "​",
       "style": "IPY_MODEL_d885403f47be4f459561c1332891eacb",
       "value": "1_Pooling/config.json: 100%"
      }
     },
     "04d338f03271463ea2cffda8eb16f8fd": {
      "model_module": "@jupyter-widgets/controls",
      "model_module_version": "1.5.0",
      "model_name": "DescriptionStyleModel",
      "state": {
       "_model_module": "@jupyter-widgets/controls",
       "_model_module_version": "1.5.0",
       "_model_name": "DescriptionStyleModel",
       "_view_count": null,
       "_view_module": "@jupyter-widgets/base",
       "_view_module_version": "1.2.0",
       "_view_name": "StyleView",
       "description_width": ""
      }
     },
     "053712cd1fd54817a384d9c6615bd7dd": {
      "model_module": "@jupyter-widgets/base",
      "model_module_version": "1.2.0",
      "model_name": "LayoutModel",
      "state": {
       "_model_module": "@jupyter-widgets/base",
       "_model_module_version": "1.2.0",
       "_model_name": "LayoutModel",
       "_view_count": null,
       "_view_module": "@jupyter-widgets/base",
       "_view_module_version": "1.2.0",
       "_view_name": "LayoutView",
       "align_content": null,
       "align_items": null,
       "align_self": null,
       "border": null,
       "bottom": null,
       "display": null,
       "flex": null,
       "flex_flow": null,
       "grid_area": null,
       "grid_auto_columns": null,
       "grid_auto_flow": null,
       "grid_auto_rows": null,
       "grid_column": null,
       "grid_gap": null,
       "grid_row": null,
       "grid_template_areas": null,
       "grid_template_columns": null,
       "grid_template_rows": null,
       "height": null,
       "justify_content": null,
       "justify_items": null,
       "left": null,
       "margin": null,
       "max_height": null,
       "max_width": null,
       "min_height": null,
       "min_width": null,
       "object_fit": null,
       "object_position": null,
       "order": null,
       "overflow": null,
       "overflow_x": null,
       "overflow_y": null,
       "padding": null,
       "right": null,
       "top": null,
       "visibility": null,
       "width": null
      }
     },
     "0c62ee37f7594f99b212cff23b71d5b5": {
      "model_module": "@jupyter-widgets/controls",
      "model_module_version": "1.5.0",
      "model_name": "DescriptionStyleModel",
      "state": {
       "_model_module": "@jupyter-widgets/controls",
       "_model_module_version": "1.5.0",
       "_model_name": "DescriptionStyleModel",
       "_view_count": null,
       "_view_module": "@jupyter-widgets/base",
       "_view_module_version": "1.2.0",
       "_view_name": "StyleView",
       "description_width": ""
      }
     },
     "0cfbb0405bd14fc7bac16c368e78c753": {
      "model_module": "@jupyter-widgets/controls",
      "model_module_version": "1.5.0",
      "model_name": "ProgressStyleModel",
      "state": {
       "_model_module": "@jupyter-widgets/controls",
       "_model_module_version": "1.5.0",
       "_model_name": "ProgressStyleModel",
       "_view_count": null,
       "_view_module": "@jupyter-widgets/base",
       "_view_module_version": "1.2.0",
       "_view_name": "StyleView",
       "bar_color": null,
       "description_width": ""
      }
     },
     "119530a1ed57420c914918b64660ea61": {
      "model_module": "@jupyter-widgets/controls",
      "model_module_version": "1.5.0",
      "model_name": "HBoxModel",
      "state": {
       "_dom_classes": [],
       "_model_module": "@jupyter-widgets/controls",
       "_model_module_version": "1.5.0",
       "_model_name": "HBoxModel",
       "_view_count": null,
       "_view_module": "@jupyter-widgets/controls",
       "_view_module_version": "1.5.0",
       "_view_name": "HBoxView",
       "box_style": "",
       "children": [
        "IPY_MODEL_6829e0c3656b497d9848cc4e947ba183",
        "IPY_MODEL_397ac80aec6b4725b631f2b4ee404ab3",
        "IPY_MODEL_a0b6c3d465cd4d108f780273c325e900"
       ],
       "layout": "IPY_MODEL_5ada2c3866af489b98855b90e1f31f4b"
      }
     },
     "13808ae6cee64434affa6c5998fe5fc7": {
      "model_module": "@jupyter-widgets/controls",
      "model_module_version": "1.5.0",
      "model_name": "DescriptionStyleModel",
      "state": {
       "_model_module": "@jupyter-widgets/controls",
       "_model_module_version": "1.5.0",
       "_model_name": "DescriptionStyleModel",
       "_view_count": null,
       "_view_module": "@jupyter-widgets/base",
       "_view_module_version": "1.2.0",
       "_view_name": "StyleView",
       "description_width": ""
      }
     },
     "1410fb6ab5fe4a38b97e5f344a92f311": {
      "model_module": "@jupyter-widgets/controls",
      "model_module_version": "1.5.0",
      "model_name": "HTMLModel",
      "state": {
       "_dom_classes": [],
       "_model_module": "@jupyter-widgets/controls",
       "_model_module_version": "1.5.0",
       "_model_name": "HTMLModel",
       "_view_count": null,
       "_view_module": "@jupyter-widgets/controls",
       "_view_module_version": "1.5.0",
       "_view_name": "HTMLView",
       "description": "",
       "description_tooltip": null,
       "layout": "IPY_MODEL_d380af7721234487bddd42d7197bbf3b",
       "placeholder": "​",
       "style": "IPY_MODEL_04d338f03271463ea2cffda8eb16f8fd",
       "value": " 229/229 [00:00&lt;00:00, 19.3kB/s]"
      }
     },
     "16064e71daa1485f8daf03d8f5af6e91": {
      "model_module": "@jupyter-widgets/base",
      "model_module_version": "1.2.0",
      "model_name": "LayoutModel",
      "state": {
       "_model_module": "@jupyter-widgets/base",
       "_model_module_version": "1.2.0",
       "_model_name": "LayoutModel",
       "_view_count": null,
       "_view_module": "@jupyter-widgets/base",
       "_view_module_version": "1.2.0",
       "_view_name": "LayoutView",
       "align_content": null,
       "align_items": null,
       "align_self": null,
       "border": null,
       "bottom": null,
       "display": null,
       "flex": null,
       "flex_flow": null,
       "grid_area": null,
       "grid_auto_columns": null,
       "grid_auto_flow": null,
       "grid_auto_rows": null,
       "grid_column": null,
       "grid_gap": null,
       "grid_row": null,
       "grid_template_areas": null,
       "grid_template_columns": null,
       "grid_template_rows": null,
       "height": null,
       "justify_content": null,
       "justify_items": null,
       "left": null,
       "margin": null,
       "max_height": null,
       "max_width": null,
       "min_height": null,
       "min_width": null,
       "object_fit": null,
       "object_position": null,
       "order": null,
       "overflow": null,
       "overflow_x": null,
       "overflow_y": null,
       "padding": null,
       "right": null,
       "top": null,
       "visibility": null,
       "width": null
      }
     },
     "197642f6ab7c4592b1f795f95297e2b2": {
      "model_module": "@jupyter-widgets/base",
      "model_module_version": "1.2.0",
      "model_name": "LayoutModel",
      "state": {
       "_model_module": "@jupyter-widgets/base",
       "_model_module_version": "1.2.0",
       "_model_name": "LayoutModel",
       "_view_count": null,
       "_view_module": "@jupyter-widgets/base",
       "_view_module_version": "1.2.0",
       "_view_name": "LayoutView",
       "align_content": null,
       "align_items": null,
       "align_self": null,
       "border": null,
       "bottom": null,
       "display": null,
       "flex": null,
       "flex_flow": null,
       "grid_area": null,
       "grid_auto_columns": null,
       "grid_auto_flow": null,
       "grid_auto_rows": null,
       "grid_column": null,
       "grid_gap": null,
       "grid_row": null,
       "grid_template_areas": null,
       "grid_template_columns": null,
       "grid_template_rows": null,
       "height": null,
       "justify_content": null,
       "justify_items": null,
       "left": null,
       "margin": null,
       "max_height": null,
       "max_width": null,
       "min_height": null,
       "min_width": null,
       "object_fit": null,
       "object_position": null,
       "order": null,
       "overflow": null,
       "overflow_x": null,
       "overflow_y": null,
       "padding": null,
       "right": null,
       "top": null,
       "visibility": null,
       "width": null
      }
     },
     "1a032129abc94afb815c6a32e6760d56": {
      "model_module": "@jupyter-widgets/controls",
      "model_module_version": "1.5.0",
      "model_name": "ProgressStyleModel",
      "state": {
       "_model_module": "@jupyter-widgets/controls",
       "_model_module_version": "1.5.0",
       "_model_name": "ProgressStyleModel",
       "_view_count": null,
       "_view_module": "@jupyter-widgets/base",
       "_view_module_version": "1.2.0",
       "_view_name": "StyleView",
       "bar_color": null,
       "description_width": ""
      }
     },
     "1ba1f42a61224aad85768a541b62f96b": {
      "model_module": "@jupyter-widgets/base",
      "model_module_version": "1.2.0",
      "model_name": "LayoutModel",
      "state": {
       "_model_module": "@jupyter-widgets/base",
       "_model_module_version": "1.2.0",
       "_model_name": "LayoutModel",
       "_view_count": null,
       "_view_module": "@jupyter-widgets/base",
       "_view_module_version": "1.2.0",
       "_view_name": "LayoutView",
       "align_content": null,
       "align_items": null,
       "align_self": null,
       "border": null,
       "bottom": null,
       "display": null,
       "flex": null,
       "flex_flow": null,
       "grid_area": null,
       "grid_auto_columns": null,
       "grid_auto_flow": null,
       "grid_auto_rows": null,
       "grid_column": null,
       "grid_gap": null,
       "grid_row": null,
       "grid_template_areas": null,
       "grid_template_columns": null,
       "grid_template_rows": null,
       "height": null,
       "justify_content": null,
       "justify_items": null,
       "left": null,
       "margin": null,
       "max_height": null,
       "max_width": null,
       "min_height": null,
       "min_width": null,
       "object_fit": null,
       "object_position": null,
       "order": null,
       "overflow": null,
       "overflow_x": null,
       "overflow_y": null,
       "padding": null,
       "right": null,
       "top": null,
       "visibility": null,
       "width": null
      }
     },
     "1c7a11bfe30c4086a15612af1a1a86a6": {
      "model_module": "@jupyter-widgets/controls",
      "model_module_version": "1.5.0",
      "model_name": "HBoxModel",
      "state": {
       "_dom_classes": [],
       "_model_module": "@jupyter-widgets/controls",
       "_model_module_version": "1.5.0",
       "_model_name": "HBoxModel",
       "_view_count": null,
       "_view_module": "@jupyter-widgets/controls",
       "_view_module_version": "1.5.0",
       "_view_name": "HBoxView",
       "box_style": "",
       "children": [
        "IPY_MODEL_71f1ccad8c5d4a41b74abb101187ae58",
        "IPY_MODEL_c307d8ccb9c449b1b23616e44940efca",
        "IPY_MODEL_1410fb6ab5fe4a38b97e5f344a92f311"
       ],
       "layout": "IPY_MODEL_ac39c4a9f91b42bc8f95db5b512ad8c0"
      }
     },
     "1f4d8d1ed01a4c4ab7eaaf68f14be296": {
      "model_module": "@jupyter-widgets/controls",
      "model_module_version": "1.5.0",
      "model_name": "DescriptionStyleModel",
      "state": {
       "_model_module": "@jupyter-widgets/controls",
       "_model_module_version": "1.5.0",
       "_model_name": "DescriptionStyleModel",
       "_view_count": null,
       "_view_module": "@jupyter-widgets/base",
       "_view_module_version": "1.2.0",
       "_view_name": "StyleView",
       "description_width": ""
      }
     },
     "1f5697324a23416c99c4539d471e2126": {
      "model_module": "@jupyter-widgets/controls",
      "model_module_version": "1.5.0",
      "model_name": "HBoxModel",
      "state": {
       "_dom_classes": [],
       "_model_module": "@jupyter-widgets/controls",
       "_model_module_version": "1.5.0",
       "_model_name": "HBoxModel",
       "_view_count": null,
       "_view_module": "@jupyter-widgets/controls",
       "_view_module_version": "1.5.0",
       "_view_name": "HBoxView",
       "box_style": "",
       "children": [
        "IPY_MODEL_e7dd3f1fa62b4dc5a6c46e1f669996f5",
        "IPY_MODEL_398831b1b0c44aac9ea001c54712c034",
        "IPY_MODEL_3eec3e46be344c509ee7f6608e06a14d"
       ],
       "layout": "IPY_MODEL_4066a546e9c748e7a1350de44f5318c0"
      }
     },
     "1f60178116064e67b19fb81ec28b03b8": {
      "model_module": "@jupyter-widgets/controls",
      "model_module_version": "1.5.0",
      "model_name": "DescriptionStyleModel",
      "state": {
       "_model_module": "@jupyter-widgets/controls",
       "_model_module_version": "1.5.0",
       "_model_name": "DescriptionStyleModel",
       "_view_count": null,
       "_view_module": "@jupyter-widgets/base",
       "_view_module_version": "1.2.0",
       "_view_name": "StyleView",
       "description_width": ""
      }
     },
     "2279c36cf8c547bfaa49e35882df73da": {
      "model_module": "@jupyter-widgets/base",
      "model_module_version": "1.2.0",
      "model_name": "LayoutModel",
      "state": {
       "_model_module": "@jupyter-widgets/base",
       "_model_module_version": "1.2.0",
       "_model_name": "LayoutModel",
       "_view_count": null,
       "_view_module": "@jupyter-widgets/base",
       "_view_module_version": "1.2.0",
       "_view_name": "LayoutView",
       "align_content": null,
       "align_items": null,
       "align_self": null,
       "border": null,
       "bottom": null,
       "display": null,
       "flex": null,
       "flex_flow": null,
       "grid_area": null,
       "grid_auto_columns": null,
       "grid_auto_flow": null,
       "grid_auto_rows": null,
       "grid_column": null,
       "grid_gap": null,
       "grid_row": null,
       "grid_template_areas": null,
       "grid_template_columns": null,
       "grid_template_rows": null,
       "height": null,
       "justify_content": null,
       "justify_items": null,
       "left": null,
       "margin": null,
       "max_height": null,
       "max_width": null,
       "min_height": null,
       "min_width": null,
       "object_fit": null,
       "object_position": null,
       "order": null,
       "overflow": null,
       "overflow_x": null,
       "overflow_y": null,
       "padding": null,
       "right": null,
       "top": null,
       "visibility": null,
       "width": null
      }
     },
     "22904a4d0ac34b0f9ed2325ac1e23e21": {
      "model_module": "@jupyter-widgets/base",
      "model_module_version": "1.2.0",
      "model_name": "LayoutModel",
      "state": {
       "_model_module": "@jupyter-widgets/base",
       "_model_module_version": "1.2.0",
       "_model_name": "LayoutModel",
       "_view_count": null,
       "_view_module": "@jupyter-widgets/base",
       "_view_module_version": "1.2.0",
       "_view_name": "LayoutView",
       "align_content": null,
       "align_items": null,
       "align_self": null,
       "border": null,
       "bottom": null,
       "display": null,
       "flex": null,
       "flex_flow": null,
       "grid_area": null,
       "grid_auto_columns": null,
       "grid_auto_flow": null,
       "grid_auto_rows": null,
       "grid_column": null,
       "grid_gap": null,
       "grid_row": null,
       "grid_template_areas": null,
       "grid_template_columns": null,
       "grid_template_rows": null,
       "height": null,
       "justify_content": null,
       "justify_items": null,
       "left": null,
       "margin": null,
       "max_height": null,
       "max_width": null,
       "min_height": null,
       "min_width": null,
       "object_fit": null,
       "object_position": null,
       "order": null,
       "overflow": null,
       "overflow_x": null,
       "overflow_y": null,
       "padding": null,
       "right": null,
       "top": null,
       "visibility": null,
       "width": null
      }
     },
     "23023a44b0f84cd0b44f322e58257538": {
      "model_module": "@jupyter-widgets/controls",
      "model_module_version": "1.5.0",
      "model_name": "DescriptionStyleModel",
      "state": {
       "_model_module": "@jupyter-widgets/controls",
       "_model_module_version": "1.5.0",
       "_model_name": "DescriptionStyleModel",
       "_view_count": null,
       "_view_module": "@jupyter-widgets/base",
       "_view_module_version": "1.2.0",
       "_view_name": "StyleView",
       "description_width": ""
      }
     },
     "2685b1618f60486091389baaa46f5b16": {
      "model_module": "@jupyter-widgets/base",
      "model_module_version": "1.2.0",
      "model_name": "LayoutModel",
      "state": {
       "_model_module": "@jupyter-widgets/base",
       "_model_module_version": "1.2.0",
       "_model_name": "LayoutModel",
       "_view_count": null,
       "_view_module": "@jupyter-widgets/base",
       "_view_module_version": "1.2.0",
       "_view_name": "LayoutView",
       "align_content": null,
       "align_items": null,
       "align_self": null,
       "border": null,
       "bottom": null,
       "display": null,
       "flex": null,
       "flex_flow": null,
       "grid_area": null,
       "grid_auto_columns": null,
       "grid_auto_flow": null,
       "grid_auto_rows": null,
       "grid_column": null,
       "grid_gap": null,
       "grid_row": null,
       "grid_template_areas": null,
       "grid_template_columns": null,
       "grid_template_rows": null,
       "height": null,
       "justify_content": null,
       "justify_items": null,
       "left": null,
       "margin": null,
       "max_height": null,
       "max_width": null,
       "min_height": null,
       "min_width": null,
       "object_fit": null,
       "object_position": null,
       "order": null,
       "overflow": null,
       "overflow_x": null,
       "overflow_y": null,
       "padding": null,
       "right": null,
       "top": null,
       "visibility": null,
       "width": null
      }
     },
     "26b37a34ada7482da914d64502282f28": {
      "model_module": "@jupyter-widgets/controls",
      "model_module_version": "1.5.0",
      "model_name": "ProgressStyleModel",
      "state": {
       "_model_module": "@jupyter-widgets/controls",
       "_model_module_version": "1.5.0",
       "_model_name": "ProgressStyleModel",
       "_view_count": null,
       "_view_module": "@jupyter-widgets/base",
       "_view_module_version": "1.2.0",
       "_view_name": "StyleView",
       "bar_color": null,
       "description_width": ""
      }
     },
     "26d58076af30416181e6c134d3085a13": {
      "model_module": "@jupyter-widgets/base",
      "model_module_version": "1.2.0",
      "model_name": "LayoutModel",
      "state": {
       "_model_module": "@jupyter-widgets/base",
       "_model_module_version": "1.2.0",
       "_model_name": "LayoutModel",
       "_view_count": null,
       "_view_module": "@jupyter-widgets/base",
       "_view_module_version": "1.2.0",
       "_view_name": "LayoutView",
       "align_content": null,
       "align_items": null,
       "align_self": null,
       "border": null,
       "bottom": null,
       "display": null,
       "flex": null,
       "flex_flow": null,
       "grid_area": null,
       "grid_auto_columns": null,
       "grid_auto_flow": null,
       "grid_auto_rows": null,
       "grid_column": null,
       "grid_gap": null,
       "grid_row": null,
       "grid_template_areas": null,
       "grid_template_columns": null,
       "grid_template_rows": null,
       "height": null,
       "justify_content": null,
       "justify_items": null,
       "left": null,
       "margin": null,
       "max_height": null,
       "max_width": null,
       "min_height": null,
       "min_width": null,
       "object_fit": null,
       "object_position": null,
       "order": null,
       "overflow": null,
       "overflow_x": null,
       "overflow_y": null,
       "padding": null,
       "right": null,
       "top": null,
       "visibility": null,
       "width": null
      }
     },
     "279ba8b77b5143adaf5d1bb9285da0ab": {
      "model_module": "@jupyter-widgets/base",
      "model_module_version": "1.2.0",
      "model_name": "LayoutModel",
      "state": {
       "_model_module": "@jupyter-widgets/base",
       "_model_module_version": "1.2.0",
       "_model_name": "LayoutModel",
       "_view_count": null,
       "_view_module": "@jupyter-widgets/base",
       "_view_module_version": "1.2.0",
       "_view_name": "LayoutView",
       "align_content": null,
       "align_items": null,
       "align_self": null,
       "border": null,
       "bottom": null,
       "display": null,
       "flex": null,
       "flex_flow": null,
       "grid_area": null,
       "grid_auto_columns": null,
       "grid_auto_flow": null,
       "grid_auto_rows": null,
       "grid_column": null,
       "grid_gap": null,
       "grid_row": null,
       "grid_template_areas": null,
       "grid_template_columns": null,
       "grid_template_rows": null,
       "height": null,
       "justify_content": null,
       "justify_items": null,
       "left": null,
       "margin": null,
       "max_height": null,
       "max_width": null,
       "min_height": null,
       "min_width": null,
       "object_fit": null,
       "object_position": null,
       "order": null,
       "overflow": null,
       "overflow_x": null,
       "overflow_y": null,
       "padding": null,
       "right": null,
       "top": null,
       "visibility": null,
       "width": null
      }
     },
     "2a0d531a3f0449f79b8e78ba8b8de7d9": {
      "model_module": "@jupyter-widgets/base",
      "model_module_version": "1.2.0",
      "model_name": "LayoutModel",
      "state": {
       "_model_module": "@jupyter-widgets/base",
       "_model_module_version": "1.2.0",
       "_model_name": "LayoutModel",
       "_view_count": null,
       "_view_module": "@jupyter-widgets/base",
       "_view_module_version": "1.2.0",
       "_view_name": "LayoutView",
       "align_content": null,
       "align_items": null,
       "align_self": null,
       "border": null,
       "bottom": null,
       "display": null,
       "flex": null,
       "flex_flow": null,
       "grid_area": null,
       "grid_auto_columns": null,
       "grid_auto_flow": null,
       "grid_auto_rows": null,
       "grid_column": null,
       "grid_gap": null,
       "grid_row": null,
       "grid_template_areas": null,
       "grid_template_columns": null,
       "grid_template_rows": null,
       "height": null,
       "justify_content": null,
       "justify_items": null,
       "left": null,
       "margin": null,
       "max_height": null,
       "max_width": null,
       "min_height": null,
       "min_width": null,
       "object_fit": null,
       "object_position": null,
       "order": null,
       "overflow": null,
       "overflow_x": null,
       "overflow_y": null,
       "padding": null,
       "right": null,
       "top": null,
       "visibility": null,
       "width": null
      }
     },
     "2b33ef79db01433b9ab7fb6cfdc767d3": {
      "model_module": "@jupyter-widgets/controls",
      "model_module_version": "1.5.0",
      "model_name": "HBoxModel",
      "state": {
       "_dom_classes": [],
       "_model_module": "@jupyter-widgets/controls",
       "_model_module_version": "1.5.0",
       "_model_name": "HBoxModel",
       "_view_count": null,
       "_view_module": "@jupyter-widgets/controls",
       "_view_module_version": "1.5.0",
       "_view_name": "HBoxView",
       "box_style": "",
       "children": [
        "IPY_MODEL_9c59d5ec40f94731afde710a0892b034",
        "IPY_MODEL_51f4196fc14a433e82d33717afe5e9b9",
        "IPY_MODEL_cd13efc1e4814d81be168169f02fed6d"
       ],
       "layout": "IPY_MODEL_41d0ba04abc94bb895cd1d33137fd5ac"
      }
     },
     "2d7e616f26f94873939b0e3b351e6a83": {
      "model_module": "@jupyter-widgets/base",
      "model_module_version": "1.2.0",
      "model_name": "LayoutModel",
      "state": {
       "_model_module": "@jupyter-widgets/base",
       "_model_module_version": "1.2.0",
       "_model_name": "LayoutModel",
       "_view_count": null,
       "_view_module": "@jupyter-widgets/base",
       "_view_module_version": "1.2.0",
       "_view_name": "LayoutView",
       "align_content": null,
       "align_items": null,
       "align_self": null,
       "border": null,
       "bottom": null,
       "display": null,
       "flex": null,
       "flex_flow": null,
       "grid_area": null,
       "grid_auto_columns": null,
       "grid_auto_flow": null,
       "grid_auto_rows": null,
       "grid_column": null,
       "grid_gap": null,
       "grid_row": null,
       "grid_template_areas": null,
       "grid_template_columns": null,
       "grid_template_rows": null,
       "height": null,
       "justify_content": null,
       "justify_items": null,
       "left": null,
       "margin": null,
       "max_height": null,
       "max_width": null,
       "min_height": null,
       "min_width": null,
       "object_fit": null,
       "object_position": null,
       "order": null,
       "overflow": null,
       "overflow_x": null,
       "overflow_y": null,
       "padding": null,
       "right": null,
       "top": null,
       "visibility": null,
       "width": null
      }
     },
     "2ed8fdc2725e43e6bb9a966a19ba11ca": {
      "model_module": "@jupyter-widgets/base",
      "model_module_version": "1.2.0",
      "model_name": "LayoutModel",
      "state": {
       "_model_module": "@jupyter-widgets/base",
       "_model_module_version": "1.2.0",
       "_model_name": "LayoutModel",
       "_view_count": null,
       "_view_module": "@jupyter-widgets/base",
       "_view_module_version": "1.2.0",
       "_view_name": "LayoutView",
       "align_content": null,
       "align_items": null,
       "align_self": null,
       "border": null,
       "bottom": null,
       "display": null,
       "flex": null,
       "flex_flow": null,
       "grid_area": null,
       "grid_auto_columns": null,
       "grid_auto_flow": null,
       "grid_auto_rows": null,
       "grid_column": null,
       "grid_gap": null,
       "grid_row": null,
       "grid_template_areas": null,
       "grid_template_columns": null,
       "grid_template_rows": null,
       "height": null,
       "justify_content": null,
       "justify_items": null,
       "left": null,
       "margin": null,
       "max_height": null,
       "max_width": null,
       "min_height": null,
       "min_width": null,
       "object_fit": null,
       "object_position": null,
       "order": null,
       "overflow": null,
       "overflow_x": null,
       "overflow_y": null,
       "padding": null,
       "right": null,
       "top": null,
       "visibility": null,
       "width": null
      }
     },
     "2fe971c12e3e4d2f9dde01e2b0418665": {
      "model_module": "@jupyter-widgets/controls",
      "model_module_version": "1.5.0",
      "model_name": "HTMLModel",
      "state": {
       "_dom_classes": [],
       "_model_module": "@jupyter-widgets/controls",
       "_model_module_version": "1.5.0",
       "_model_name": "HTMLModel",
       "_view_count": null,
       "_view_module": "@jupyter-widgets/controls",
       "_view_module_version": "1.5.0",
       "_view_name": "HTMLView",
       "description": "",
       "description_tooltip": null,
       "layout": "IPY_MODEL_41542d83d6964544bd69d3e31367cd73",
       "placeholder": "​",
       "style": "IPY_MODEL_e577800712d14f4f8358f12b5d522d13",
       "value": " 125/125 [00:00&lt;00:00, 11.4kB/s]"
      }
     },
     "3178451f564c43d8a68f1d328bff4a14": {
      "model_module": "@jupyter-widgets/controls",
      "model_module_version": "1.5.0",
      "model_name": "ProgressStyleModel",
      "state": {
       "_model_module": "@jupyter-widgets/controls",
       "_model_module_version": "1.5.0",
       "_model_name": "ProgressStyleModel",
       "_view_count": null,
       "_view_module": "@jupyter-widgets/base",
       "_view_module_version": "1.2.0",
       "_view_name": "StyleView",
       "bar_color": null,
       "description_width": ""
      }
     },
     "31ae514e32b048c3a7d4c80bf723fcae": {
      "model_module": "@jupyter-widgets/base",
      "model_module_version": "1.2.0",
      "model_name": "LayoutModel",
      "state": {
       "_model_module": "@jupyter-widgets/base",
       "_model_module_version": "1.2.0",
       "_model_name": "LayoutModel",
       "_view_count": null,
       "_view_module": "@jupyter-widgets/base",
       "_view_module_version": "1.2.0",
       "_view_name": "LayoutView",
       "align_content": null,
       "align_items": null,
       "align_self": null,
       "border": null,
       "bottom": null,
       "display": null,
       "flex": null,
       "flex_flow": null,
       "grid_area": null,
       "grid_auto_columns": null,
       "grid_auto_flow": null,
       "grid_auto_rows": null,
       "grid_column": null,
       "grid_gap": null,
       "grid_row": null,
       "grid_template_areas": null,
       "grid_template_columns": null,
       "grid_template_rows": null,
       "height": null,
       "justify_content": null,
       "justify_items": null,
       "left": null,
       "margin": null,
       "max_height": null,
       "max_width": null,
       "min_height": null,
       "min_width": null,
       "object_fit": null,
       "object_position": null,
       "order": null,
       "overflow": null,
       "overflow_x": null,
       "overflow_y": null,
       "padding": null,
       "right": null,
       "top": null,
       "visibility": null,
       "width": null
      }
     },
     "32e666ea6c0046e6b61374c167d102e7": {
      "model_module": "@jupyter-widgets/controls",
      "model_module_version": "1.5.0",
      "model_name": "HBoxModel",
      "state": {
       "_dom_classes": [],
       "_model_module": "@jupyter-widgets/controls",
       "_model_module_version": "1.5.0",
       "_model_name": "HBoxModel",
       "_view_count": null,
       "_view_module": "@jupyter-widgets/controls",
       "_view_module_version": "1.5.0",
       "_view_name": "HBoxView",
       "box_style": "",
       "children": [
        "IPY_MODEL_dcada218f2fe425089562338f768f970",
        "IPY_MODEL_62d64ec87c9348089d95bcc4e17e5681",
        "IPY_MODEL_00436952d537465e87146b0b76462d79"
       ],
       "layout": "IPY_MODEL_465f591d700341909b2cfb8486513dd9"
      }
     },
     "3360ce837fd246b59f4958a0e39c5f8e": {
      "model_module": "@jupyter-widgets/base",
      "model_module_version": "1.2.0",
      "model_name": "LayoutModel",
      "state": {
       "_model_module": "@jupyter-widgets/base",
       "_model_module_version": "1.2.0",
       "_model_name": "LayoutModel",
       "_view_count": null,
       "_view_module": "@jupyter-widgets/base",
       "_view_module_version": "1.2.0",
       "_view_name": "LayoutView",
       "align_content": null,
       "align_items": null,
       "align_self": null,
       "border": null,
       "bottom": null,
       "display": null,
       "flex": null,
       "flex_flow": null,
       "grid_area": null,
       "grid_auto_columns": null,
       "grid_auto_flow": null,
       "grid_auto_rows": null,
       "grid_column": null,
       "grid_gap": null,
       "grid_row": null,
       "grid_template_areas": null,
       "grid_template_columns": null,
       "grid_template_rows": null,
       "height": null,
       "justify_content": null,
       "justify_items": null,
       "left": null,
       "margin": null,
       "max_height": null,
       "max_width": null,
       "min_height": null,
       "min_width": null,
       "object_fit": null,
       "object_position": null,
       "order": null,
       "overflow": null,
       "overflow_x": null,
       "overflow_y": null,
       "padding": null,
       "right": null,
       "top": null,
       "visibility": null,
       "width": null
      }
     },
     "397ac80aec6b4725b631f2b4ee404ab3": {
      "model_module": "@jupyter-widgets/controls",
      "model_module_version": "1.5.0",
      "model_name": "FloatProgressModel",
      "state": {
       "_dom_classes": [],
       "_model_module": "@jupyter-widgets/controls",
       "_model_module_version": "1.5.0",
       "_model_name": "FloatProgressModel",
       "_view_count": null,
       "_view_module": "@jupyter-widgets/controls",
       "_view_module_version": "1.5.0",
       "_view_name": "ProgressView",
       "bar_style": "success",
       "description": "",
       "description_tooltip": null,
       "layout": "IPY_MODEL_e2830e9d96d64a7d951dead2d5aaf256",
       "max": 497836589.0,
       "min": 0.0,
       "orientation": "horizontal",
       "style": "IPY_MODEL_26b37a34ada7482da914d64502282f28",
       "value": 497836589.0
      }
     },
     "398831b1b0c44aac9ea001c54712c034": {
      "model_module": "@jupyter-widgets/controls",
      "model_module_version": "1.5.0",
      "model_name": "FloatProgressModel",
      "state": {
       "_dom_classes": [],
       "_model_module": "@jupyter-widgets/controls",
       "_model_module_version": "1.5.0",
       "_model_name": "FloatProgressModel",
       "_view_count": null,
       "_view_module": "@jupyter-widgets/controls",
       "_view_module_version": "1.5.0",
       "_view_name": "ProgressView",
       "bar_style": "success",
       "description": "",
       "description_tooltip": null,
       "layout": "IPY_MODEL_a767091dfc4840b69b62b7cbd57b0b5b",
       "max": 52.0,
       "min": 0.0,
       "orientation": "horizontal",
       "style": "IPY_MODEL_4de1141f1f5e4713b908d62f5efbe3ed",
       "value": 52.0
      }
     },
     "3a9eae0f9fdf4e0e8465b170d94d2847": {
      "model_module": "@jupyter-widgets/base",
      "model_module_version": "1.2.0",
      "model_name": "LayoutModel",
      "state": {
       "_model_module": "@jupyter-widgets/base",
       "_model_module_version": "1.2.0",
       "_model_name": "LayoutModel",
       "_view_count": null,
       "_view_module": "@jupyter-widgets/base",
       "_view_module_version": "1.2.0",
       "_view_name": "LayoutView",
       "align_content": null,
       "align_items": null,
       "align_self": null,
       "border": null,
       "bottom": null,
       "display": null,
       "flex": null,
       "flex_flow": null,
       "grid_area": null,
       "grid_auto_columns": null,
       "grid_auto_flow": null,
       "grid_auto_rows": null,
       "grid_column": null,
       "grid_gap": null,
       "grid_row": null,
       "grid_template_areas": null,
       "grid_template_columns": null,
       "grid_template_rows": null,
       "height": null,
       "justify_content": null,
       "justify_items": null,
       "left": null,
       "margin": null,
       "max_height": null,
       "max_width": null,
       "min_height": null,
       "min_width": null,
       "object_fit": null,
       "object_position": null,
       "order": null,
       "overflow": null,
       "overflow_x": null,
       "overflow_y": null,
       "padding": null,
       "right": null,
       "top": null,
       "visibility": null,
       "width": null
      }
     },
     "3bda270a15604f3bb57b58f8960c0168": {
      "model_module": "@jupyter-widgets/controls",
      "model_module_version": "1.5.0",
      "model_name": "HTMLModel",
      "state": {
       "_dom_classes": [],
       "_model_module": "@jupyter-widgets/controls",
       "_model_module_version": "1.5.0",
       "_model_name": "HTMLModel",
       "_view_count": null,
       "_view_module": "@jupyter-widgets/controls",
       "_view_module_version": "1.5.0",
       "_view_name": "HTMLView",
       "description": "",
       "description_tooltip": null,
       "layout": "IPY_MODEL_4a16a87190eb43699a8fe1f1331de022",
       "placeholder": "​",
       "style": "IPY_MODEL_a3752a306eb146b2806feee6c5a491c9",
       "value": "vocab.txt: 100%"
      }
     },
     "3c0f52f375fd4c448b1f1510379d7bcb": {
      "model_module": "@jupyter-widgets/controls",
      "model_module_version": "1.5.0",
      "model_name": "FloatProgressModel",
      "state": {
       "_dom_classes": [],
       "_model_module": "@jupyter-widgets/controls",
       "_model_module_version": "1.5.0",
       "_model_name": "FloatProgressModel",
       "_view_count": null,
       "_view_module": "@jupyter-widgets/controls",
       "_view_module_version": "1.5.0",
       "_view_name": "ProgressView",
       "bar_style": "success",
       "description": "",
       "description_tooltip": null,
       "layout": "IPY_MODEL_a57217abdc724a778fc6da9111d20947",
       "max": 4059.0,
       "min": 0.0,
       "orientation": "horizontal",
       "style": "IPY_MODEL_f5cd13e23d8c4fdeb699be593d655744",
       "value": 4059.0
      }
     },
     "3c23408e19354f86859e27bf457f344a": {
      "model_module": "@jupyter-widgets/controls",
      "model_module_version": "1.5.0",
      "model_name": "DescriptionStyleModel",
      "state": {
       "_model_module": "@jupyter-widgets/controls",
       "_model_module_version": "1.5.0",
       "_model_name": "DescriptionStyleModel",
       "_view_count": null,
       "_view_module": "@jupyter-widgets/base",
       "_view_module_version": "1.2.0",
       "_view_name": "StyleView",
       "description_width": ""
      }
     },
     "3cde4184f35f453aabb61b560ca9705a": {
      "model_module": "@jupyter-widgets/base",
      "model_module_version": "1.2.0",
      "model_name": "LayoutModel",
      "state": {
       "_model_module": "@jupyter-widgets/base",
       "_model_module_version": "1.2.0",
       "_model_name": "LayoutModel",
       "_view_count": null,
       "_view_module": "@jupyter-widgets/base",
       "_view_module_version": "1.2.0",
       "_view_name": "LayoutView",
       "align_content": null,
       "align_items": null,
       "align_self": null,
       "border": null,
       "bottom": null,
       "display": null,
       "flex": null,
       "flex_flow": null,
       "grid_area": null,
       "grid_auto_columns": null,
       "grid_auto_flow": null,
       "grid_auto_rows": null,
       "grid_column": null,
       "grid_gap": null,
       "grid_row": null,
       "grid_template_areas": null,
       "grid_template_columns": null,
       "grid_template_rows": null,
       "height": null,
       "justify_content": null,
       "justify_items": null,
       "left": null,
       "margin": null,
       "max_height": null,
       "max_width": null,
       "min_height": null,
       "min_width": null,
       "object_fit": null,
       "object_position": null,
       "order": null,
       "overflow": null,
       "overflow_x": null,
       "overflow_y": null,
       "padding": null,
       "right": null,
       "top": null,
       "visibility": null,
       "width": null
      }
     },
     "3eec3e46be344c509ee7f6608e06a14d": {
      "model_module": "@jupyter-widgets/controls",
      "model_module_version": "1.5.0",
      "model_name": "HTMLModel",
      "state": {
       "_dom_classes": [],
       "_model_module": "@jupyter-widgets/controls",
       "_model_module_version": "1.5.0",
       "_model_name": "HTMLModel",
       "_view_count": null,
       "_view_module": "@jupyter-widgets/controls",
       "_view_module_version": "1.5.0",
       "_view_name": "HTMLView",
       "description": "",
       "description_tooltip": null,
       "layout": "IPY_MODEL_3a9eae0f9fdf4e0e8465b170d94d2847",
       "placeholder": "​",
       "style": "IPY_MODEL_f1a5481e19ff42b9872a275d3292d4e7",
       "value": " 52.0/52.0 [00:00&lt;00:00, 3.99kB/s]"
      }
     },
     "4066a546e9c748e7a1350de44f5318c0": {
      "model_module": "@jupyter-widgets/base",
      "model_module_version": "1.2.0",
      "model_name": "LayoutModel",
      "state": {
       "_model_module": "@jupyter-widgets/base",
       "_model_module_version": "1.2.0",
       "_model_name": "LayoutModel",
       "_view_count": null,
       "_view_module": "@jupyter-widgets/base",
       "_view_module_version": "1.2.0",
       "_view_name": "LayoutView",
       "align_content": null,
       "align_items": null,
       "align_self": null,
       "border": null,
       "bottom": null,
       "display": null,
       "flex": null,
       "flex_flow": null,
       "grid_area": null,
       "grid_auto_columns": null,
       "grid_auto_flow": null,
       "grid_auto_rows": null,
       "grid_column": null,
       "grid_gap": null,
       "grid_row": null,
       "grid_template_areas": null,
       "grid_template_columns": null,
       "grid_template_rows": null,
       "height": null,
       "justify_content": null,
       "justify_items": null,
       "left": null,
       "margin": null,
       "max_height": null,
       "max_width": null,
       "min_height": null,
       "min_width": null,
       "object_fit": null,
       "object_position": null,
       "order": null,
       "overflow": null,
       "overflow_x": null,
       "overflow_y": null,
       "padding": null,
       "right": null,
       "top": null,
       "visibility": null,
       "width": null
      }
     },
     "4108ee2f59e3429da667983b2c5680d5": {
      "model_module": "@jupyter-widgets/controls",
      "model_module_version": "1.5.0",
      "model_name": "FloatProgressModel",
      "state": {
       "_dom_classes": [],
       "_model_module": "@jupyter-widgets/controls",
       "_model_module_version": "1.5.0",
       "_model_name": "FloatProgressModel",
       "_view_count": null,
       "_view_module": "@jupyter-widgets/controls",
       "_view_module_version": "1.5.0",
       "_view_name": "ProgressView",
       "bar_style": "success",
       "description": "",
       "description_tooltip": null,
       "layout": "IPY_MODEL_634740ed981041679d152bb8f3f92e65",
       "max": 300.0,
       "min": 0.0,
       "orientation": "horizontal",
       "style": "IPY_MODEL_0cfbb0405bd14fc7bac16c368e78c753",
       "value": 300.0
      }
     },
     "41542d83d6964544bd69d3e31367cd73": {
      "model_module": "@jupyter-widgets/base",
      "model_module_version": "1.2.0",
      "model_name": "LayoutModel",
      "state": {
       "_model_module": "@jupyter-widgets/base",
       "_model_module_version": "1.2.0",
       "_model_name": "LayoutModel",
       "_view_count": null,
       "_view_module": "@jupyter-widgets/base",
       "_view_module_version": "1.2.0",
       "_view_name": "LayoutView",
       "align_content": null,
       "align_items": null,
       "align_self": null,
       "border": null,
       "bottom": null,
       "display": null,
       "flex": null,
       "flex_flow": null,
       "grid_area": null,
       "grid_auto_columns": null,
       "grid_auto_flow": null,
       "grid_auto_rows": null,
       "grid_column": null,
       "grid_gap": null,
       "grid_row": null,
       "grid_template_areas": null,
       "grid_template_columns": null,
       "grid_template_rows": null,
       "height": null,
       "justify_content": null,
       "justify_items": null,
       "left": null,
       "margin": null,
       "max_height": null,
       "max_width": null,
       "min_height": null,
       "min_width": null,
       "object_fit": null,
       "object_position": null,
       "order": null,
       "overflow": null,
       "overflow_x": null,
       "overflow_y": null,
       "padding": null,
       "right": null,
       "top": null,
       "visibility": null,
       "width": null
      }
     },
     "41d0ba04abc94bb895cd1d33137fd5ac": {
      "model_module": "@jupyter-widgets/base",
      "model_module_version": "1.2.0",
      "model_name": "LayoutModel",
      "state": {
       "_model_module": "@jupyter-widgets/base",
       "_model_module_version": "1.2.0",
       "_model_name": "LayoutModel",
       "_view_count": null,
       "_view_module": "@jupyter-widgets/base",
       "_view_module_version": "1.2.0",
       "_view_name": "LayoutView",
       "align_content": null,
       "align_items": null,
       "align_self": null,
       "border": null,
       "bottom": null,
       "display": null,
       "flex": null,
       "flex_flow": null,
       "grid_area": null,
       "grid_auto_columns": null,
       "grid_auto_flow": null,
       "grid_auto_rows": null,
       "grid_column": null,
       "grid_gap": null,
       "grid_row": null,
       "grid_template_areas": null,
       "grid_template_columns": null,
       "grid_template_rows": null,
       "height": null,
       "justify_content": null,
       "justify_items": null,
       "left": null,
       "margin": null,
       "max_height": null,
       "max_width": null,
       "min_height": null,
       "min_width": null,
       "object_fit": null,
       "object_position": null,
       "order": null,
       "overflow": null,
       "overflow_x": null,
       "overflow_y": null,
       "padding": null,
       "right": null,
       "top": null,
       "visibility": null,
       "width": null
      }
     },
     "4257b36b2c374f57bd92132bd85a3df8": {
      "model_module": "@jupyter-widgets/base",
      "model_module_version": "1.2.0",
      "model_name": "LayoutModel",
      "state": {
       "_model_module": "@jupyter-widgets/base",
       "_model_module_version": "1.2.0",
       "_model_name": "LayoutModel",
       "_view_count": null,
       "_view_module": "@jupyter-widgets/base",
       "_view_module_version": "1.2.0",
       "_view_name": "LayoutView",
       "align_content": null,
       "align_items": null,
       "align_self": null,
       "border": null,
       "bottom": null,
       "display": null,
       "flex": null,
       "flex_flow": null,
       "grid_area": null,
       "grid_auto_columns": null,
       "grid_auto_flow": null,
       "grid_auto_rows": null,
       "grid_column": null,
       "grid_gap": null,
       "grid_row": null,
       "grid_template_areas": null,
       "grid_template_columns": null,
       "grid_template_rows": null,
       "height": null,
       "justify_content": null,
       "justify_items": null,
       "left": null,
       "margin": null,
       "max_height": null,
       "max_width": null,
       "min_height": null,
       "min_width": null,
       "object_fit": null,
       "object_position": null,
       "order": null,
       "overflow": null,
       "overflow_x": null,
       "overflow_y": null,
       "padding": null,
       "right": null,
       "top": null,
       "visibility": null,
       "width": null
      }
     },
     "4532dcc8be95428889064b75d93ba8d4": {
      "model_module": "@jupyter-widgets/controls",
      "model_module_version": "1.5.0",
      "model_name": "DescriptionStyleModel",
      "state": {
       "_model_module": "@jupyter-widgets/controls",
       "_model_module_version": "1.5.0",
       "_model_name": "DescriptionStyleModel",
       "_view_count": null,
       "_view_module": "@jupyter-widgets/base",
       "_view_module_version": "1.2.0",
       "_view_name": "StyleView",
       "description_width": ""
      }
     },
     "453594b881d547afb8dd975066705762": {
      "model_module": "@jupyter-widgets/controls",
      "model_module_version": "1.5.0",
      "model_name": "HTMLModel",
      "state": {
       "_dom_classes": [],
       "_model_module": "@jupyter-widgets/controls",
       "_model_module_version": "1.5.0",
       "_model_name": "HTMLModel",
       "_view_count": null,
       "_view_module": "@jupyter-widgets/controls",
       "_view_module_version": "1.5.0",
       "_view_name": "HTMLView",
       "description": "",
       "description_tooltip": null,
       "layout": "IPY_MODEL_4257b36b2c374f57bd92132bd85a3df8",
       "placeholder": "​",
       "style": "IPY_MODEL_592b730228c7472a8248c548efecb410",
       "value": " 394/394 [00:00&lt;00:00, 36.5kB/s]"
      }
     },
     "465f591d700341909b2cfb8486513dd9": {
      "model_module": "@jupyter-widgets/base",
      "model_module_version": "1.2.0",
      "model_name": "LayoutModel",
      "state": {
       "_model_module": "@jupyter-widgets/base",
       "_model_module_version": "1.2.0",
       "_model_name": "LayoutModel",
       "_view_count": null,
       "_view_module": "@jupyter-widgets/base",
       "_view_module_version": "1.2.0",
       "_view_name": "LayoutView",
       "align_content": null,
       "align_items": null,
       "align_self": null,
       "border": null,
       "bottom": null,
       "display": null,
       "flex": null,
       "flex_flow": null,
       "grid_area": null,
       "grid_auto_columns": null,
       "grid_auto_flow": null,
       "grid_auto_rows": null,
       "grid_column": null,
       "grid_gap": null,
       "grid_row": null,
       "grid_template_areas": null,
       "grid_template_columns": null,
       "grid_template_rows": null,
       "height": null,
       "justify_content": null,
       "justify_items": null,
       "left": null,
       "margin": null,
       "max_height": null,
       "max_width": null,
       "min_height": null,
       "min_width": null,
       "object_fit": null,
       "object_position": null,
       "order": null,
       "overflow": null,
       "overflow_x": null,
       "overflow_y": null,
       "padding": null,
       "right": null,
       "top": null,
       "visibility": null,
       "width": null
      }
     },
     "4a16a87190eb43699a8fe1f1331de022": {
      "model_module": "@jupyter-widgets/base",
      "model_module_version": "1.2.0",
      "model_name": "LayoutModel",
      "state": {
       "_model_module": "@jupyter-widgets/base",
       "_model_module_version": "1.2.0",
       "_model_name": "LayoutModel",
       "_view_count": null,
       "_view_module": "@jupyter-widgets/base",
       "_view_module_version": "1.2.0",
       "_view_name": "LayoutView",
       "align_content": null,
       "align_items": null,
       "align_self": null,
       "border": null,
       "bottom": null,
       "display": null,
       "flex": null,
       "flex_flow": null,
       "grid_area": null,
       "grid_auto_columns": null,
       "grid_auto_flow": null,
       "grid_auto_rows": null,
       "grid_column": null,
       "grid_gap": null,
       "grid_row": null,
       "grid_template_areas": null,
       "grid_template_columns": null,
       "grid_template_rows": null,
       "height": null,
       "justify_content": null,
       "justify_items": null,
       "left": null,
       "margin": null,
       "max_height": null,
       "max_width": null,
       "min_height": null,
       "min_width": null,
       "object_fit": null,
       "object_position": null,
       "order": null,
       "overflow": null,
       "overflow_x": null,
       "overflow_y": null,
       "padding": null,
       "right": null,
       "top": null,
       "visibility": null,
       "width": null
      }
     },
     "4de1141f1f5e4713b908d62f5efbe3ed": {
      "model_module": "@jupyter-widgets/controls",
      "model_module_version": "1.5.0",
      "model_name": "ProgressStyleModel",
      "state": {
       "_model_module": "@jupyter-widgets/controls",
       "_model_module_version": "1.5.0",
       "_model_name": "ProgressStyleModel",
       "_view_count": null,
       "_view_module": "@jupyter-widgets/base",
       "_view_module_version": "1.2.0",
       "_view_name": "StyleView",
       "bar_color": null,
       "description_width": ""
      }
     },
     "4e1e53a2f0f84d68a7259b25d9ce294c": {
      "model_module": "@jupyter-widgets/controls",
      "model_module_version": "1.5.0",
      "model_name": "HTMLModel",
      "state": {
       "_dom_classes": [],
       "_model_module": "@jupyter-widgets/controls",
       "_model_module_version": "1.5.0",
       "_model_name": "HTMLModel",
       "_view_count": null,
       "_view_module": "@jupyter-widgets/controls",
       "_view_module_version": "1.5.0",
       "_view_name": "HTMLView",
       "description": "",
       "description_tooltip": null,
       "layout": "IPY_MODEL_9f9620e4e199439080a51467a5b5a1b6",
       "placeholder": "​",
       "style": "IPY_MODEL_7a95cff4cb264d999ccd1cb69b13895c",
       "value": " 300/300 [00:00&lt;00:00, 26.9kB/s]"
      }
     },
     "51f4196fc14a433e82d33717afe5e9b9": {
      "model_module": "@jupyter-widgets/controls",
      "model_module_version": "1.5.0",
      "model_name": "FloatProgressModel",
      "state": {
       "_dom_classes": [],
       "_model_module": "@jupyter-widgets/controls",
       "_model_module_version": "1.5.0",
       "_model_name": "FloatProgressModel",
       "_view_count": null,
       "_view_module": "@jupyter-widgets/controls",
       "_view_module_version": "1.5.0",
       "_view_name": "ProgressView",
       "bar_style": "success",
       "description": "",
       "description_tooltip": null,
       "layout": "IPY_MODEL_6ff22552f2c446f9b399cd4952ab36a9",
       "max": 709279.0,
       "min": 0.0,
       "orientation": "horizontal",
       "style": "IPY_MODEL_a2ea0c513a7b4b9b8213ce338d23e2d8",
       "value": 709279.0
      }
     },
     "531ee62efa5c497a8fb593885e9d92f8": {
      "model_module": "@jupyter-widgets/controls",
      "model_module_version": "1.5.0",
      "model_name": "HBoxModel",
      "state": {
       "_dom_classes": [],
       "_model_module": "@jupyter-widgets/controls",
       "_model_module_version": "1.5.0",
       "_model_name": "HBoxModel",
       "_view_count": null,
       "_view_module": "@jupyter-widgets/controls",
       "_view_module_version": "1.5.0",
       "_view_name": "HBoxView",
       "box_style": "",
       "children": [
        "IPY_MODEL_557d465404e249d982415d2e7f3d223c",
        "IPY_MODEL_3c0f52f375fd4c448b1f1510379d7bcb",
        "IPY_MODEL_70e2bf7201044b3d9ca924743cc863d1"
       ],
       "layout": "IPY_MODEL_91343890df7c46cfa637687c191f0e69"
      }
     },
     "557d465404e249d982415d2e7f3d223c": {
      "model_module": "@jupyter-widgets/controls",
      "model_module_version": "1.5.0",
      "model_name": "HTMLModel",
      "state": {
       "_dom_classes": [],
       "_model_module": "@jupyter-widgets/controls",
       "_model_module_version": "1.5.0",
       "_model_name": "HTMLModel",
       "_view_count": null,
       "_view_module": "@jupyter-widgets/controls",
       "_view_module_version": "1.5.0",
       "_view_name": "HTMLView",
       "description": "",
       "description_tooltip": null,
       "layout": "IPY_MODEL_b0df919e8fad45a79fa5c9b9846dd55e",
       "placeholder": "​",
       "style": "IPY_MODEL_0c62ee37f7594f99b212cff23b71d5b5",
       "value": "README.md: 100%"
      }
     },
     "586150be168644c0bc7b61af73f4d64e": {
      "model_module": "@jupyter-widgets/controls",
      "model_module_version": "1.5.0",
      "model_name": "HTMLModel",
      "state": {
       "_dom_classes": [],
       "_model_module": "@jupyter-widgets/controls",
       "_model_module_version": "1.5.0",
       "_model_name": "HTMLModel",
       "_view_count": null,
       "_view_module": "@jupyter-widgets/controls",
       "_view_module_version": "1.5.0",
       "_view_name": "HTMLView",
       "description": "",
       "description_tooltip": null,
       "layout": "IPY_MODEL_3cde4184f35f453aabb61b560ca9705a",
       "placeholder": "​",
       "style": "IPY_MODEL_3c23408e19354f86859e27bf457f344a",
       "value": "special_tokens_map.json: 100%"
      }
     },
     "592b730228c7472a8248c548efecb410": {
      "model_module": "@jupyter-widgets/controls",
      "model_module_version": "1.5.0",
      "model_name": "DescriptionStyleModel",
      "state": {
       "_model_module": "@jupyter-widgets/controls",
       "_model_module_version": "1.5.0",
       "_model_name": "DescriptionStyleModel",
       "_view_count": null,
       "_view_module": "@jupyter-widgets/base",
       "_view_module_version": "1.2.0",
       "_view_name": "StyleView",
       "description_width": ""
      }
     },
     "5a31a5772d1e41cdb824e37658c13237": {
      "model_module": "@jupyter-widgets/controls",
      "model_module_version": "1.5.0",
      "model_name": "DescriptionStyleModel",
      "state": {
       "_model_module": "@jupyter-widgets/controls",
       "_model_module_version": "1.5.0",
       "_model_name": "DescriptionStyleModel",
       "_view_count": null,
       "_view_module": "@jupyter-widgets/base",
       "_view_module_version": "1.2.0",
       "_view_name": "StyleView",
       "description_width": ""
      }
     },
     "5ada2c3866af489b98855b90e1f31f4b": {
      "model_module": "@jupyter-widgets/base",
      "model_module_version": "1.2.0",
      "model_name": "LayoutModel",
      "state": {
       "_model_module": "@jupyter-widgets/base",
       "_model_module_version": "1.2.0",
       "_model_name": "LayoutModel",
       "_view_count": null,
       "_view_module": "@jupyter-widgets/base",
       "_view_module_version": "1.2.0",
       "_view_name": "LayoutView",
       "align_content": null,
       "align_items": null,
       "align_self": null,
       "border": null,
       "bottom": null,
       "display": null,
       "flex": null,
       "flex_flow": null,
       "grid_area": null,
       "grid_auto_columns": null,
       "grid_auto_flow": null,
       "grid_auto_rows": null,
       "grid_column": null,
       "grid_gap": null,
       "grid_row": null,
       "grid_template_areas": null,
       "grid_template_columns": null,
       "grid_template_rows": null,
       "height": null,
       "justify_content": null,
       "justify_items": null,
       "left": null,
       "margin": null,
       "max_height": null,
       "max_width": null,
       "min_height": null,
       "min_width": null,
       "object_fit": null,
       "object_position": null,
       "order": null,
       "overflow": null,
       "overflow_x": null,
       "overflow_y": null,
       "padding": null,
       "right": null,
       "top": null,
       "visibility": null,
       "width": null
      }
     },
     "5bc07ebc841e4dc9b72192ea179b91e5": {
      "model_module": "@jupyter-widgets/controls",
      "model_module_version": "1.5.0",
      "model_name": "ProgressStyleModel",
      "state": {
       "_model_module": "@jupyter-widgets/controls",
       "_model_module_version": "1.5.0",
       "_model_name": "ProgressStyleModel",
       "_view_count": null,
       "_view_module": "@jupyter-widgets/base",
       "_view_module_version": "1.2.0",
       "_view_name": "StyleView",
       "bar_color": null,
       "description_width": ""
      }
     },
     "5dc672365c9b454b8db69ded105e2ec0": {
      "model_module": "@jupyter-widgets/controls",
      "model_module_version": "1.5.0",
      "model_name": "ProgressStyleModel",
      "state": {
       "_model_module": "@jupyter-widgets/controls",
       "_model_module_version": "1.5.0",
       "_model_name": "ProgressStyleModel",
       "_view_count": null,
       "_view_module": "@jupyter-widgets/base",
       "_view_module_version": "1.2.0",
       "_view_name": "StyleView",
       "bar_color": null,
       "description_width": ""
      }
     },
     "5dc836339c824d208833550ecc7e1221": {
      "model_module": "@jupyter-widgets/controls",
      "model_module_version": "1.5.0",
      "model_name": "FloatProgressModel",
      "state": {
       "_dom_classes": [],
       "_model_module": "@jupyter-widgets/controls",
       "_model_module_version": "1.5.0",
       "_model_name": "FloatProgressModel",
       "_view_count": null,
       "_view_module": "@jupyter-widgets/controls",
       "_view_module_version": "1.5.0",
       "_view_name": "ProgressView",
       "bar_style": "success",
       "description": "",
       "description_tooltip": null,
       "layout": "IPY_MODEL_7a159a95a1e34d739968374e5aa3db77",
       "max": 229167.0,
       "min": 0.0,
       "orientation": "horizontal",
       "style": "IPY_MODEL_5bc07ebc841e4dc9b72192ea179b91e5",
       "value": 229167.0
      }
     },
     "5e8c6980db264a56a5c18d76c01954dc": {
      "model_module": "@jupyter-widgets/controls",
      "model_module_version": "1.5.0",
      "model_name": "FloatProgressModel",
      "state": {
       "_dom_classes": [],
       "_model_module": "@jupyter-widgets/controls",
       "_model_module_version": "1.5.0",
       "_model_name": "FloatProgressModel",
       "_view_count": null,
       "_view_module": "@jupyter-widgets/controls",
       "_view_module_version": "1.5.0",
       "_view_name": "ProgressView",
       "bar_style": "success",
       "description": "",
       "description_tooltip": null,
       "layout": "IPY_MODEL_8827ef1c9dbf479f99fe491e1d058eea",
       "max": 394.0,
       "min": 0.0,
       "orientation": "horizontal",
       "style": "IPY_MODEL_5dc672365c9b454b8db69ded105e2ec0",
       "value": 394.0
      }
     },
     "5fdee0290fc9422d8b960a80f3ab6dca": {
      "model_module": "@jupyter-widgets/controls",
      "model_module_version": "1.5.0",
      "model_name": "DescriptionStyleModel",
      "state": {
       "_model_module": "@jupyter-widgets/controls",
       "_model_module_version": "1.5.0",
       "_model_name": "DescriptionStyleModel",
       "_view_count": null,
       "_view_module": "@jupyter-widgets/base",
       "_view_module_version": "1.2.0",
       "_view_name": "StyleView",
       "description_width": ""
      }
     },
     "62d64ec87c9348089d95bcc4e17e5681": {
      "model_module": "@jupyter-widgets/controls",
      "model_module_version": "1.5.0",
      "model_name": "FloatProgressModel",
      "state": {
       "_dom_classes": [],
       "_model_module": "@jupyter-widgets/controls",
       "_model_module_version": "1.5.0",
       "_model_name": "FloatProgressModel",
       "_view_count": null,
       "_view_module": "@jupyter-widgets/controls",
       "_view_module_version": "1.5.0",
       "_view_name": "ProgressView",
       "bar_style": "success",
       "description": "",
       "description_tooltip": null,
       "layout": "IPY_MODEL_a611b80da8b540faa12ee07e32e214e6",
       "max": 123.0,
       "min": 0.0,
       "orientation": "horizontal",
       "style": "IPY_MODEL_a004f2544faf4996b2dc206a1bfd7757",
       "value": 123.0
      }
     },
     "634740ed981041679d152bb8f3f92e65": {
      "model_module": "@jupyter-widgets/base",
      "model_module_version": "1.2.0",
      "model_name": "LayoutModel",
      "state": {
       "_model_module": "@jupyter-widgets/base",
       "_model_module_version": "1.2.0",
       "_model_name": "LayoutModel",
       "_view_count": null,
       "_view_module": "@jupyter-widgets/base",
       "_view_module_version": "1.2.0",
       "_view_name": "LayoutView",
       "align_content": null,
       "align_items": null,
       "align_self": null,
       "border": null,
       "bottom": null,
       "display": null,
       "flex": null,
       "flex_flow": null,
       "grid_area": null,
       "grid_auto_columns": null,
       "grid_auto_flow": null,
       "grid_auto_rows": null,
       "grid_column": null,
       "grid_gap": null,
       "grid_row": null,
       "grid_template_areas": null,
       "grid_template_columns": null,
       "grid_template_rows": null,
       "height": null,
       "justify_content": null,
       "justify_items": null,
       "left": null,
       "margin": null,
       "max_height": null,
       "max_width": null,
       "min_height": null,
       "min_width": null,
       "object_fit": null,
       "object_position": null,
       "order": null,
       "overflow": null,
       "overflow_x": null,
       "overflow_y": null,
       "padding": null,
       "right": null,
       "top": null,
       "visibility": null,
       "width": null
      }
     },
     "6829e0c3656b497d9848cc4e947ba183": {
      "model_module": "@jupyter-widgets/controls",
      "model_module_version": "1.5.0",
      "model_name": "HTMLModel",
      "state": {
       "_dom_classes": [],
       "_model_module": "@jupyter-widgets/controls",
       "_model_module_version": "1.5.0",
       "_model_name": "HTMLModel",
       "_view_count": null,
       "_view_module": "@jupyter-widgets/controls",
       "_view_module_version": "1.5.0",
       "_view_name": "HTMLView",
       "description": "",
       "description_tooltip": null,
       "layout": "IPY_MODEL_2d7e616f26f94873939b0e3b351e6a83",
       "placeholder": "​",
       "style": "IPY_MODEL_1f60178116064e67b19fb81ec28b03b8",
       "value": "pytorch_model.bin: 100%"
      }
     },
     "6a1990a79ac54664b42099684cd43fe2": {
      "model_module": "@jupyter-widgets/base",
      "model_module_version": "1.2.0",
      "model_name": "LayoutModel",
      "state": {
       "_model_module": "@jupyter-widgets/base",
       "_model_module_version": "1.2.0",
       "_model_name": "LayoutModel",
       "_view_count": null,
       "_view_module": "@jupyter-widgets/base",
       "_view_module_version": "1.2.0",
       "_view_name": "LayoutView",
       "align_content": null,
       "align_items": null,
       "align_self": null,
       "border": null,
       "bottom": null,
       "display": null,
       "flex": null,
       "flex_flow": null,
       "grid_area": null,
       "grid_auto_columns": null,
       "grid_auto_flow": null,
       "grid_auto_rows": null,
       "grid_column": null,
       "grid_gap": null,
       "grid_row": null,
       "grid_template_areas": null,
       "grid_template_columns": null,
       "grid_template_rows": null,
       "height": null,
       "justify_content": null,
       "justify_items": null,
       "left": null,
       "margin": null,
       "max_height": null,
       "max_width": null,
       "min_height": null,
       "min_width": null,
       "object_fit": null,
       "object_position": null,
       "order": null,
       "overflow": null,
       "overflow_x": null,
       "overflow_y": null,
       "padding": null,
       "right": null,
       "top": null,
       "visibility": null,
       "width": null
      }
     },
     "6d369be04d904467b07f67391667a983": {
      "model_module": "@jupyter-widgets/base",
      "model_module_version": "1.2.0",
      "model_name": "LayoutModel",
      "state": {
       "_model_module": "@jupyter-widgets/base",
       "_model_module_version": "1.2.0",
       "_model_name": "LayoutModel",
       "_view_count": null,
       "_view_module": "@jupyter-widgets/base",
       "_view_module_version": "1.2.0",
       "_view_name": "LayoutView",
       "align_content": null,
       "align_items": null,
       "align_self": null,
       "border": null,
       "bottom": null,
       "display": null,
       "flex": null,
       "flex_flow": null,
       "grid_area": null,
       "grid_auto_columns": null,
       "grid_auto_flow": null,
       "grid_auto_rows": null,
       "grid_column": null,
       "grid_gap": null,
       "grid_row": null,
       "grid_template_areas": null,
       "grid_template_columns": null,
       "grid_template_rows": null,
       "height": null,
       "justify_content": null,
       "justify_items": null,
       "left": null,
       "margin": null,
       "max_height": null,
       "max_width": null,
       "min_height": null,
       "min_width": null,
       "object_fit": null,
       "object_position": null,
       "order": null,
       "overflow": null,
       "overflow_x": null,
       "overflow_y": null,
       "padding": null,
       "right": null,
       "top": null,
       "visibility": null,
       "width": null
      }
     },
     "6f1e58224e374628831753b883dac363": {
      "model_module": "@jupyter-widgets/controls",
      "model_module_version": "1.5.0",
      "model_name": "HTMLModel",
      "state": {
       "_dom_classes": [],
       "_model_module": "@jupyter-widgets/controls",
       "_model_module_version": "1.5.0",
       "_model_name": "HTMLModel",
       "_view_count": null,
       "_view_module": "@jupyter-widgets/controls",
       "_view_module_version": "1.5.0",
       "_view_name": "HTMLView",
       "description": "",
       "description_tooltip": null,
       "layout": "IPY_MODEL_16064e71daa1485f8daf03d8f5af6e91",
       "placeholder": "​",
       "style": "IPY_MODEL_c8a85fcdc6f047d0a5ec3a77e106026b",
       "value": " 270/270 [00:00&lt;00:00, 24.9kB/s]"
      }
     },
     "6f22862a4a6548d3ad5b702db8b7d830": {
      "model_module": "@jupyter-widgets/controls",
      "model_module_version": "1.5.0",
      "model_name": "DescriptionStyleModel",
      "state": {
       "_model_module": "@jupyter-widgets/controls",
       "_model_module_version": "1.5.0",
       "_model_name": "DescriptionStyleModel",
       "_view_count": null,
       "_view_module": "@jupyter-widgets/base",
       "_view_module_version": "1.2.0",
       "_view_name": "StyleView",
       "description_width": ""
      }
     },
     "6ff22552f2c446f9b399cd4952ab36a9": {
      "model_module": "@jupyter-widgets/base",
      "model_module_version": "1.2.0",
      "model_name": "LayoutModel",
      "state": {
       "_model_module": "@jupyter-widgets/base",
       "_model_module_version": "1.2.0",
       "_model_name": "LayoutModel",
       "_view_count": null,
       "_view_module": "@jupyter-widgets/base",
       "_view_module_version": "1.2.0",
       "_view_name": "LayoutView",
       "align_content": null,
       "align_items": null,
       "align_self": null,
       "border": null,
       "bottom": null,
       "display": null,
       "flex": null,
       "flex_flow": null,
       "grid_area": null,
       "grid_auto_columns": null,
       "grid_auto_flow": null,
       "grid_auto_rows": null,
       "grid_column": null,
       "grid_gap": null,
       "grid_row": null,
       "grid_template_areas": null,
       "grid_template_columns": null,
       "grid_template_rows": null,
       "height": null,
       "justify_content": null,
       "justify_items": null,
       "left": null,
       "margin": null,
       "max_height": null,
       "max_width": null,
       "min_height": null,
       "min_width": null,
       "object_fit": null,
       "object_position": null,
       "order": null,
       "overflow": null,
       "overflow_x": null,
       "overflow_y": null,
       "padding": null,
       "right": null,
       "top": null,
       "visibility": null,
       "width": null
      }
     },
     "70e2bf7201044b3d9ca924743cc863d1": {
      "model_module": "@jupyter-widgets/controls",
      "model_module_version": "1.5.0",
      "model_name": "HTMLModel",
      "state": {
       "_dom_classes": [],
       "_model_module": "@jupyter-widgets/controls",
       "_model_module_version": "1.5.0",
       "_model_name": "HTMLModel",
       "_view_count": null,
       "_view_module": "@jupyter-widgets/controls",
       "_view_module_version": "1.5.0",
       "_view_name": "HTMLView",
       "description": "",
       "description_tooltip": null,
       "layout": "IPY_MODEL_22904a4d0ac34b0f9ed2325ac1e23e21",
       "placeholder": "​",
       "style": "IPY_MODEL_865cd70c2b75490abae2380079fb310e",
       "value": " 4.06k/4.06k [00:00&lt;00:00, 382kB/s]"
      }
     },
     "7183dae3ff7b4908853a4a72ab912857": {
      "model_module": "@jupyter-widgets/base",
      "model_module_version": "1.2.0",
      "model_name": "LayoutModel",
      "state": {
       "_model_module": "@jupyter-widgets/base",
       "_model_module_version": "1.2.0",
       "_model_name": "LayoutModel",
       "_view_count": null,
       "_view_module": "@jupyter-widgets/base",
       "_view_module_version": "1.2.0",
       "_view_name": "LayoutView",
       "align_content": null,
       "align_items": null,
       "align_self": null,
       "border": null,
       "bottom": null,
       "display": null,
       "flex": null,
       "flex_flow": null,
       "grid_area": null,
       "grid_auto_columns": null,
       "grid_auto_flow": null,
       "grid_auto_rows": null,
       "grid_column": null,
       "grid_gap": null,
       "grid_row": null,
       "grid_template_areas": null,
       "grid_template_columns": null,
       "grid_template_rows": null,
       "height": null,
       "justify_content": null,
       "justify_items": null,
       "left": null,
       "margin": null,
       "max_height": null,
       "max_width": null,
       "min_height": null,
       "min_width": null,
       "object_fit": null,
       "object_position": null,
       "order": null,
       "overflow": null,
       "overflow_x": null,
       "overflow_y": null,
       "padding": null,
       "right": null,
       "top": null,
       "visibility": null,
       "width": null
      }
     },
     "71f1ccad8c5d4a41b74abb101187ae58": {
      "model_module": "@jupyter-widgets/controls",
      "model_module_version": "1.5.0",
      "model_name": "HTMLModel",
      "state": {
       "_dom_classes": [],
       "_model_module": "@jupyter-widgets/controls",
       "_model_module_version": "1.5.0",
       "_model_name": "HTMLModel",
       "_view_count": null,
       "_view_module": "@jupyter-widgets/controls",
       "_view_module_version": "1.5.0",
       "_view_name": "HTMLView",
       "description": "",
       "description_tooltip": null,
       "layout": "IPY_MODEL_2ed8fdc2725e43e6bb9a966a19ba11ca",
       "placeholder": "​",
       "style": "IPY_MODEL_4532dcc8be95428889064b75d93ba8d4",
       "value": "modules.json: 100%"
      }
     },
     "74684dc6096c4a28ab71967c19df9900": {
      "model_module": "@jupyter-widgets/controls",
      "model_module_version": "1.5.0",
      "model_name": "FloatProgressModel",
      "state": {
       "_dom_classes": [],
       "_model_module": "@jupyter-widgets/controls",
       "_model_module_version": "1.5.0",
       "_model_name": "FloatProgressModel",
       "_view_count": null,
       "_view_module": "@jupyter-widgets/controls",
       "_view_module_version": "1.5.0",
       "_view_name": "ProgressView",
       "bar_style": "success",
       "description": "",
       "description_tooltip": null,
       "layout": "IPY_MODEL_f4a83f767654451ca47cbe7029e13035",
       "max": 1100.0,
       "min": 0.0,
       "orientation": "horizontal",
       "style": "IPY_MODEL_caca9bdc800841e78eaff678651a08ae",
       "value": 1100.0
      }
     },
     "7a159a95a1e34d739968374e5aa3db77": {
      "model_module": "@jupyter-widgets/base",
      "model_module_version": "1.2.0",
      "model_name": "LayoutModel",
      "state": {
       "_model_module": "@jupyter-widgets/base",
       "_model_module_version": "1.2.0",
       "_model_name": "LayoutModel",
       "_view_count": null,
       "_view_module": "@jupyter-widgets/base",
       "_view_module_version": "1.2.0",
       "_view_name": "LayoutView",
       "align_content": null,
       "align_items": null,
       "align_self": null,
       "border": null,
       "bottom": null,
       "display": null,
       "flex": null,
       "flex_flow": null,
       "grid_area": null,
       "grid_auto_columns": null,
       "grid_auto_flow": null,
       "grid_auto_rows": null,
       "grid_column": null,
       "grid_gap": null,
       "grid_row": null,
       "grid_template_areas": null,
       "grid_template_columns": null,
       "grid_template_rows": null,
       "height": null,
       "justify_content": null,
       "justify_items": null,
       "left": null,
       "margin": null,
       "max_height": null,
       "max_width": null,
       "min_height": null,
       "min_width": null,
       "object_fit": null,
       "object_position": null,
       "order": null,
       "overflow": null,
       "overflow_x": null,
       "overflow_y": null,
       "padding": null,
       "right": null,
       "top": null,
       "visibility": null,
       "width": null
      }
     },
     "7a95cff4cb264d999ccd1cb69b13895c": {
      "model_module": "@jupyter-widgets/controls",
      "model_module_version": "1.5.0",
      "model_name": "DescriptionStyleModel",
      "state": {
       "_model_module": "@jupyter-widgets/controls",
       "_model_module_version": "1.5.0",
       "_model_name": "DescriptionStyleModel",
       "_view_count": null,
       "_view_module": "@jupyter-widgets/base",
       "_view_module_version": "1.2.0",
       "_view_name": "StyleView",
       "description_width": ""
      }
     },
     "8445538a44b6406b8405c3a9e6772c62": {
      "model_module": "@jupyter-widgets/base",
      "model_module_version": "1.2.0",
      "model_name": "LayoutModel",
      "state": {
       "_model_module": "@jupyter-widgets/base",
       "_model_module_version": "1.2.0",
       "_model_name": "LayoutModel",
       "_view_count": null,
       "_view_module": "@jupyter-widgets/base",
       "_view_module_version": "1.2.0",
       "_view_name": "LayoutView",
       "align_content": null,
       "align_items": null,
       "align_self": null,
       "border": null,
       "bottom": null,
       "display": null,
       "flex": null,
       "flex_flow": null,
       "grid_area": null,
       "grid_auto_columns": null,
       "grid_auto_flow": null,
       "grid_auto_rows": null,
       "grid_column": null,
       "grid_gap": null,
       "grid_row": null,
       "grid_template_areas": null,
       "grid_template_columns": null,
       "grid_template_rows": null,
       "height": null,
       "justify_content": null,
       "justify_items": null,
       "left": null,
       "margin": null,
       "max_height": null,
       "max_width": null,
       "min_height": null,
       "min_width": null,
       "object_fit": null,
       "object_position": null,
       "order": null,
       "overflow": null,
       "overflow_x": null,
       "overflow_y": null,
       "padding": null,
       "right": null,
       "top": null,
       "visibility": null,
       "width": null
      }
     },
     "865cd70c2b75490abae2380079fb310e": {
      "model_module": "@jupyter-widgets/controls",
      "model_module_version": "1.5.0",
      "model_name": "DescriptionStyleModel",
      "state": {
       "_model_module": "@jupyter-widgets/controls",
       "_model_module_version": "1.5.0",
       "_model_name": "DescriptionStyleModel",
       "_view_count": null,
       "_view_module": "@jupyter-widgets/base",
       "_view_module_version": "1.2.0",
       "_view_name": "StyleView",
       "description_width": ""
      }
     },
     "8723f533597c45b2815a3c76cd30347a": {
      "model_module": "@jupyter-widgets/controls",
      "model_module_version": "1.5.0",
      "model_name": "HTMLModel",
      "state": {
       "_dom_classes": [],
       "_model_module": "@jupyter-widgets/controls",
       "_model_module_version": "1.5.0",
       "_model_name": "HTMLModel",
       "_view_count": null,
       "_view_module": "@jupyter-widgets/controls",
       "_view_module_version": "1.5.0",
       "_view_name": "HTMLView",
       "description": "",
       "description_tooltip": null,
       "layout": "IPY_MODEL_c15f8f92dd1e4f8d8d41a9d019d5b3e0",
       "placeholder": "​",
       "style": "IPY_MODEL_5fdee0290fc9422d8b960a80f3ab6dca",
       "value": "tokenizer_config.json: 100%"
      }
     },
     "8827ef1c9dbf479f99fe491e1d058eea": {
      "model_module": "@jupyter-widgets/base",
      "model_module_version": "1.2.0",
      "model_name": "LayoutModel",
      "state": {
       "_model_module": "@jupyter-widgets/base",
       "_model_module_version": "1.2.0",
       "_model_name": "LayoutModel",
       "_view_count": null,
       "_view_module": "@jupyter-widgets/base",
       "_view_module_version": "1.2.0",
       "_view_name": "LayoutView",
       "align_content": null,
       "align_items": null,
       "align_self": null,
       "border": null,
       "bottom": null,
       "display": null,
       "flex": null,
       "flex_flow": null,
       "grid_area": null,
       "grid_auto_columns": null,
       "grid_auto_flow": null,
       "grid_auto_rows": null,
       "grid_column": null,
       "grid_gap": null,
       "grid_row": null,
       "grid_template_areas": null,
       "grid_template_columns": null,
       "grid_template_rows": null,
       "height": null,
       "justify_content": null,
       "justify_items": null,
       "left": null,
       "margin": null,
       "max_height": null,
       "max_width": null,
       "min_height": null,
       "min_width": null,
       "object_fit": null,
       "object_position": null,
       "order": null,
       "overflow": null,
       "overflow_x": null,
       "overflow_y": null,
       "padding": null,
       "right": null,
       "top": null,
       "visibility": null,
       "width": null
      }
     },
     "8d468cbd5f28490a9d7bcbb551553154": {
      "model_module": "@jupyter-widgets/base",
      "model_module_version": "1.2.0",
      "model_name": "LayoutModel",
      "state": {
       "_model_module": "@jupyter-widgets/base",
       "_model_module_version": "1.2.0",
       "_model_name": "LayoutModel",
       "_view_count": null,
       "_view_module": "@jupyter-widgets/base",
       "_view_module_version": "1.2.0",
       "_view_name": "LayoutView",
       "align_content": null,
       "align_items": null,
       "align_self": null,
       "border": null,
       "bottom": null,
       "display": null,
       "flex": null,
       "flex_flow": null,
       "grid_area": null,
       "grid_auto_columns": null,
       "grid_auto_flow": null,
       "grid_auto_rows": null,
       "grid_column": null,
       "grid_gap": null,
       "grid_row": null,
       "grid_template_areas": null,
       "grid_template_columns": null,
       "grid_template_rows": null,
       "height": null,
       "justify_content": null,
       "justify_items": null,
       "left": null,
       "margin": null,
       "max_height": null,
       "max_width": null,
       "min_height": null,
       "min_width": null,
       "object_fit": null,
       "object_position": null,
       "order": null,
       "overflow": null,
       "overflow_x": null,
       "overflow_y": null,
       "padding": null,
       "right": null,
       "top": null,
       "visibility": null,
       "width": null
      }
     },
     "8e56b046d4fb48f0bfb3add74ec10b9f": {
      "model_module": "@jupyter-widgets/controls",
      "model_module_version": "1.5.0",
      "model_name": "FloatProgressModel",
      "state": {
       "_dom_classes": [],
       "_model_module": "@jupyter-widgets/controls",
       "_model_module_version": "1.5.0",
       "_model_name": "FloatProgressModel",
       "_view_count": null,
       "_view_module": "@jupyter-widgets/controls",
       "_view_module_version": "1.5.0",
       "_view_name": "ProgressView",
       "bar_style": "success",
       "description": "",
       "description_tooltip": null,
       "layout": "IPY_MODEL_31ae514e32b048c3a7d4c80bf723fcae",
       "max": 125.0,
       "min": 0.0,
       "orientation": "horizontal",
       "style": "IPY_MODEL_eabf6789395342f99c8863035e68a5bf",
       "value": 125.0
      }
     },
     "91343890df7c46cfa637687c191f0e69": {
      "model_module": "@jupyter-widgets/base",
      "model_module_version": "1.2.0",
      "model_name": "LayoutModel",
      "state": {
       "_model_module": "@jupyter-widgets/base",
       "_model_module_version": "1.2.0",
       "_model_name": "LayoutModel",
       "_view_count": null,
       "_view_module": "@jupyter-widgets/base",
       "_view_module_version": "1.2.0",
       "_view_name": "LayoutView",
       "align_content": null,
       "align_items": null,
       "align_self": null,
       "border": null,
       "bottom": null,
       "display": null,
       "flex": null,
       "flex_flow": null,
       "grid_area": null,
       "grid_auto_columns": null,
       "grid_auto_flow": null,
       "grid_auto_rows": null,
       "grid_column": null,
       "grid_gap": null,
       "grid_row": null,
       "grid_template_areas": null,
       "grid_template_columns": null,
       "grid_template_rows": null,
       "height": null,
       "justify_content": null,
       "justify_items": null,
       "left": null,
       "margin": null,
       "max_height": null,
       "max_width": null,
       "min_height": null,
       "min_width": null,
       "object_fit": null,
       "object_position": null,
       "order": null,
       "overflow": null,
       "overflow_x": null,
       "overflow_y": null,
       "padding": null,
       "right": null,
       "top": null,
       "visibility": null,
       "width": null
      }
     },
     "93cd6deb28bd422290ae1378bb542833": {
      "model_module": "@jupyter-widgets/controls",
      "model_module_version": "1.5.0",
      "model_name": "HBoxModel",
      "state": {
       "_dom_classes": [],
       "_model_module": "@jupyter-widgets/controls",
       "_model_module_version": "1.5.0",
       "_model_name": "HBoxModel",
       "_view_count": null,
       "_view_module": "@jupyter-widgets/controls",
       "_view_module_version": "1.5.0",
       "_view_name": "HBoxView",
       "box_style": "",
       "children": [
        "IPY_MODEL_fd287328781a40a79aadbc529b038f15",
        "IPY_MODEL_eb0f638ef5c44497ba89cb44bdb725db",
        "IPY_MODEL_b46964196c6441b7a46903c9ef98b823"
       ],
       "layout": "IPY_MODEL_197642f6ab7c4592b1f795f95297e2b2"
      }
     },
     "9ae61713495040f389ee32f169237573": {
      "model_module": "@jupyter-widgets/controls",
      "model_module_version": "1.5.0",
      "model_name": "DescriptionStyleModel",
      "state": {
       "_model_module": "@jupyter-widgets/controls",
       "_model_module_version": "1.5.0",
       "_model_name": "DescriptionStyleModel",
       "_view_count": null,
       "_view_module": "@jupyter-widgets/base",
       "_view_module_version": "1.2.0",
       "_view_name": "StyleView",
       "description_width": ""
      }
     },
     "9b3f67dca3d745b88a20d8fca666d8f4": {
      "model_module": "@jupyter-widgets/controls",
      "model_module_version": "1.5.0",
      "model_name": "HBoxModel",
      "state": {
       "_dom_classes": [],
       "_model_module": "@jupyter-widgets/controls",
       "_model_module_version": "1.5.0",
       "_model_name": "HBoxModel",
       "_view_count": null,
       "_view_module": "@jupyter-widgets/controls",
       "_view_module_version": "1.5.0",
       "_view_name": "HBoxView",
       "box_style": "",
       "children": [
        "IPY_MODEL_3bda270a15604f3bb57b58f8960c0168",
        "IPY_MODEL_5dc836339c824d208833550ecc7e1221",
        "IPY_MODEL_cec714fd99884bbcac62040468135a65"
       ],
       "layout": "IPY_MODEL_7183dae3ff7b4908853a4a72ab912857"
      }
     },
     "9bb40715b4ef4478a45a7a5afe2a9edb": {
      "model_module": "@jupyter-widgets/base",
      "model_module_version": "1.2.0",
      "model_name": "LayoutModel",
      "state": {
       "_model_module": "@jupyter-widgets/base",
       "_model_module_version": "1.2.0",
       "_model_name": "LayoutModel",
       "_view_count": null,
       "_view_module": "@jupyter-widgets/base",
       "_view_module_version": "1.2.0",
       "_view_name": "LayoutView",
       "align_content": null,
       "align_items": null,
       "align_self": null,
       "border": null,
       "bottom": null,
       "display": null,
       "flex": null,
       "flex_flow": null,
       "grid_area": null,
       "grid_auto_columns": null,
       "grid_auto_flow": null,
       "grid_auto_rows": null,
       "grid_column": null,
       "grid_gap": null,
       "grid_row": null,
       "grid_template_areas": null,
       "grid_template_columns": null,
       "grid_template_rows": null,
       "height": null,
       "justify_content": null,
       "justify_items": null,
       "left": null,
       "margin": null,
       "max_height": null,
       "max_width": null,
       "min_height": null,
       "min_width": null,
       "object_fit": null,
       "object_position": null,
       "order": null,
       "overflow": null,
       "overflow_x": null,
       "overflow_y": null,
       "padding": null,
       "right": null,
       "top": null,
       "visibility": null,
       "width": null
      }
     },
     "9c59d5ec40f94731afde710a0892b034": {
      "model_module": "@jupyter-widgets/controls",
      "model_module_version": "1.5.0",
      "model_name": "HTMLModel",
      "state": {
       "_dom_classes": [],
       "_model_module": "@jupyter-widgets/controls",
       "_model_module_version": "1.5.0",
       "_model_name": "HTMLModel",
       "_view_count": null,
       "_view_module": "@jupyter-widgets/controls",
       "_view_module_version": "1.5.0",
       "_view_name": "HTMLView",
       "description": "",
       "description_tooltip": null,
       "layout": "IPY_MODEL_2279c36cf8c547bfaa49e35882df73da",
       "placeholder": "​",
       "style": "IPY_MODEL_13808ae6cee64434affa6c5998fe5fc7",
       "value": "tokenizer.json: 100%"
      }
     },
     "9ec4197582a7466cb521798e2e639569": {
      "model_module": "@jupyter-widgets/controls",
      "model_module_version": "1.5.0",
      "model_name": "HBoxModel",
      "state": {
       "_dom_classes": [],
       "_model_module": "@jupyter-widgets/controls",
       "_model_module_version": "1.5.0",
       "_model_name": "HBoxModel",
       "_view_count": null,
       "_view_module": "@jupyter-widgets/controls",
       "_view_module_version": "1.5.0",
       "_view_name": "HBoxView",
       "box_style": "",
       "children": [
        "IPY_MODEL_03d3a52aa2a24d9ebbe3111749abaa49",
        "IPY_MODEL_a0119c9d491b44b195762b602fcf2fe0",
        "IPY_MODEL_6f1e58224e374628831753b883dac363"
       ],
       "layout": "IPY_MODEL_9bb40715b4ef4478a45a7a5afe2a9edb"
      }
     },
     "9f9620e4e199439080a51467a5b5a1b6": {
      "model_module": "@jupyter-widgets/base",
      "model_module_version": "1.2.0",
      "model_name": "LayoutModel",
      "state": {
       "_model_module": "@jupyter-widgets/base",
       "_model_module_version": "1.2.0",
       "_model_name": "LayoutModel",
       "_view_count": null,
       "_view_module": "@jupyter-widgets/base",
       "_view_module_version": "1.2.0",
       "_view_name": "LayoutView",
       "align_content": null,
       "align_items": null,
       "align_self": null,
       "border": null,
       "bottom": null,
       "display": null,
       "flex": null,
       "flex_flow": null,
       "grid_area": null,
       "grid_auto_columns": null,
       "grid_auto_flow": null,
       "grid_auto_rows": null,
       "grid_column": null,
       "grid_gap": null,
       "grid_row": null,
       "grid_template_areas": null,
       "grid_template_columns": null,
       "grid_template_rows": null,
       "height": null,
       "justify_content": null,
       "justify_items": null,
       "left": null,
       "margin": null,
       "max_height": null,
       "max_width": null,
       "min_height": null,
       "min_width": null,
       "object_fit": null,
       "object_position": null,
       "order": null,
       "overflow": null,
       "overflow_x": null,
       "overflow_y": null,
       "padding": null,
       "right": null,
       "top": null,
       "visibility": null,
       "width": null
      }
     },
     "a004f2544faf4996b2dc206a1bfd7757": {
      "model_module": "@jupyter-widgets/controls",
      "model_module_version": "1.5.0",
      "model_name": "ProgressStyleModel",
      "state": {
       "_model_module": "@jupyter-widgets/controls",
       "_model_module_version": "1.5.0",
       "_model_name": "ProgressStyleModel",
       "_view_count": null,
       "_view_module": "@jupyter-widgets/base",
       "_view_module_version": "1.2.0",
       "_view_name": "StyleView",
       "bar_color": null,
       "description_width": ""
      }
     },
     "a0119c9d491b44b195762b602fcf2fe0": {
      "model_module": "@jupyter-widgets/controls",
      "model_module_version": "1.5.0",
      "model_name": "FloatProgressModel",
      "state": {
       "_dom_classes": [],
       "_model_module": "@jupyter-widgets/controls",
       "_model_module_version": "1.5.0",
       "_model_name": "FloatProgressModel",
       "_view_count": null,
       "_view_module": "@jupyter-widgets/controls",
       "_view_module_version": "1.5.0",
       "_view_name": "ProgressView",
       "bar_style": "success",
       "description": "",
       "description_tooltip": null,
       "layout": "IPY_MODEL_1ba1f42a61224aad85768a541b62f96b",
       "max": 270.0,
       "min": 0.0,
       "orientation": "horizontal",
       "style": "IPY_MODEL_d8936702a1cc406faa245995b2e93d83",
       "value": 270.0
      }
     },
     "a0b6c3d465cd4d108f780273c325e900": {
      "model_module": "@jupyter-widgets/controls",
      "model_module_version": "1.5.0",
      "model_name": "HTMLModel",
      "state": {
       "_dom_classes": [],
       "_model_module": "@jupyter-widgets/controls",
       "_model_module_version": "1.5.0",
       "_model_name": "HTMLModel",
       "_view_count": null,
       "_view_module": "@jupyter-widgets/controls",
       "_view_module_version": "1.5.0",
       "_view_name": "HTMLView",
       "description": "",
       "description_tooltip": null,
       "layout": "IPY_MODEL_b65cab8504304c378653823a97d38acb",
       "placeholder": "​",
       "style": "IPY_MODEL_1f4d8d1ed01a4c4ab7eaaf68f14be296",
       "value": " 498M/498M [00:10&lt;00:00, 58.4MB/s]"
      }
     },
     "a128d5483ac444ad8442d1570d9debc2": {
      "model_module": "@jupyter-widgets/controls",
      "model_module_version": "1.5.0",
      "model_name": "DescriptionStyleModel",
      "state": {
       "_model_module": "@jupyter-widgets/controls",
       "_model_module_version": "1.5.0",
       "_model_name": "DescriptionStyleModel",
       "_view_count": null,
       "_view_module": "@jupyter-widgets/base",
       "_view_module_version": "1.2.0",
       "_view_name": "StyleView",
       "description_width": ""
      }
     },
     "a2ea0c513a7b4b9b8213ce338d23e2d8": {
      "model_module": "@jupyter-widgets/controls",
      "model_module_version": "1.5.0",
      "model_name": "ProgressStyleModel",
      "state": {
       "_model_module": "@jupyter-widgets/controls",
       "_model_module_version": "1.5.0",
       "_model_name": "ProgressStyleModel",
       "_view_count": null,
       "_view_module": "@jupyter-widgets/base",
       "_view_module_version": "1.2.0",
       "_view_name": "StyleView",
       "bar_color": null,
       "description_width": ""
      }
     },
     "a2ee42140c47416f8939666ec8f23914": {
      "model_module": "@jupyter-widgets/controls",
      "model_module_version": "1.5.0",
      "model_name": "HBoxModel",
      "state": {
       "_dom_classes": [],
       "_model_module": "@jupyter-widgets/controls",
       "_model_module_version": "1.5.0",
       "_model_name": "HBoxModel",
       "_view_count": null,
       "_view_module": "@jupyter-widgets/controls",
       "_view_module_version": "1.5.0",
       "_view_name": "HBoxView",
       "box_style": "",
       "children": [
        "IPY_MODEL_586150be168644c0bc7b61af73f4d64e",
        "IPY_MODEL_8e56b046d4fb48f0bfb3add74ec10b9f",
        "IPY_MODEL_2fe971c12e3e4d2f9dde01e2b0418665"
       ],
       "layout": "IPY_MODEL_b4757841e1cd407982ba06d01c87d25a"
      }
     },
     "a3752a306eb146b2806feee6c5a491c9": {
      "model_module": "@jupyter-widgets/controls",
      "model_module_version": "1.5.0",
      "model_name": "DescriptionStyleModel",
      "state": {
       "_model_module": "@jupyter-widgets/controls",
       "_model_module_version": "1.5.0",
       "_model_name": "DescriptionStyleModel",
       "_view_count": null,
       "_view_module": "@jupyter-widgets/base",
       "_view_module_version": "1.2.0",
       "_view_name": "StyleView",
       "description_width": ""
      }
     },
     "a455dfe4668243dc9d006806f63fd99f": {
      "model_module": "@jupyter-widgets/controls",
      "model_module_version": "1.5.0",
      "model_name": "HBoxModel",
      "state": {
       "_dom_classes": [],
       "_model_module": "@jupyter-widgets/controls",
       "_model_module_version": "1.5.0",
       "_model_name": "HBoxModel",
       "_view_count": null,
       "_view_module": "@jupyter-widgets/controls",
       "_view_module_version": "1.5.0",
       "_view_name": "HBoxView",
       "box_style": "",
       "children": [
        "IPY_MODEL_f037af5ad11b4e8586dec5cd58e6d7b6",
        "IPY_MODEL_4108ee2f59e3429da667983b2c5680d5",
        "IPY_MODEL_4e1e53a2f0f84d68a7259b25d9ce294c"
       ],
       "layout": "IPY_MODEL_2a0d531a3f0449f79b8e78ba8b8de7d9"
      }
     },
     "a57217abdc724a778fc6da9111d20947": {
      "model_module": "@jupyter-widgets/base",
      "model_module_version": "1.2.0",
      "model_name": "LayoutModel",
      "state": {
       "_model_module": "@jupyter-widgets/base",
       "_model_module_version": "1.2.0",
       "_model_name": "LayoutModel",
       "_view_count": null,
       "_view_module": "@jupyter-widgets/base",
       "_view_module_version": "1.2.0",
       "_view_name": "LayoutView",
       "align_content": null,
       "align_items": null,
       "align_self": null,
       "border": null,
       "bottom": null,
       "display": null,
       "flex": null,
       "flex_flow": null,
       "grid_area": null,
       "grid_auto_columns": null,
       "grid_auto_flow": null,
       "grid_auto_rows": null,
       "grid_column": null,
       "grid_gap": null,
       "grid_row": null,
       "grid_template_areas": null,
       "grid_template_columns": null,
       "grid_template_rows": null,
       "height": null,
       "justify_content": null,
       "justify_items": null,
       "left": null,
       "margin": null,
       "max_height": null,
       "max_width": null,
       "min_height": null,
       "min_width": null,
       "object_fit": null,
       "object_position": null,
       "order": null,
       "overflow": null,
       "overflow_x": null,
       "overflow_y": null,
       "padding": null,
       "right": null,
       "top": null,
       "visibility": null,
       "width": null
      }
     },
     "a611b80da8b540faa12ee07e32e214e6": {
      "model_module": "@jupyter-widgets/base",
      "model_module_version": "1.2.0",
      "model_name": "LayoutModel",
      "state": {
       "_model_module": "@jupyter-widgets/base",
       "_model_module_version": "1.2.0",
       "_model_name": "LayoutModel",
       "_view_count": null,
       "_view_module": "@jupyter-widgets/base",
       "_view_module_version": "1.2.0",
       "_view_name": "LayoutView",
       "align_content": null,
       "align_items": null,
       "align_self": null,
       "border": null,
       "bottom": null,
       "display": null,
       "flex": null,
       "flex_flow": null,
       "grid_area": null,
       "grid_auto_columns": null,
       "grid_auto_flow": null,
       "grid_auto_rows": null,
       "grid_column": null,
       "grid_gap": null,
       "grid_row": null,
       "grid_template_areas": null,
       "grid_template_columns": null,
       "grid_template_rows": null,
       "height": null,
       "justify_content": null,
       "justify_items": null,
       "left": null,
       "margin": null,
       "max_height": null,
       "max_width": null,
       "min_height": null,
       "min_width": null,
       "object_fit": null,
       "object_position": null,
       "order": null,
       "overflow": null,
       "overflow_x": null,
       "overflow_y": null,
       "padding": null,
       "right": null,
       "top": null,
       "visibility": null,
       "width": null
      }
     },
     "a767091dfc4840b69b62b7cbd57b0b5b": {
      "model_module": "@jupyter-widgets/base",
      "model_module_version": "1.2.0",
      "model_name": "LayoutModel",
      "state": {
       "_model_module": "@jupyter-widgets/base",
       "_model_module_version": "1.2.0",
       "_model_name": "LayoutModel",
       "_view_count": null,
       "_view_module": "@jupyter-widgets/base",
       "_view_module_version": "1.2.0",
       "_view_name": "LayoutView",
       "align_content": null,
       "align_items": null,
       "align_self": null,
       "border": null,
       "bottom": null,
       "display": null,
       "flex": null,
       "flex_flow": null,
       "grid_area": null,
       "grid_auto_columns": null,
       "grid_auto_flow": null,
       "grid_auto_rows": null,
       "grid_column": null,
       "grid_gap": null,
       "grid_row": null,
       "grid_template_areas": null,
       "grid_template_columns": null,
       "grid_template_rows": null,
       "height": null,
       "justify_content": null,
       "justify_items": null,
       "left": null,
       "margin": null,
       "max_height": null,
       "max_width": null,
       "min_height": null,
       "min_width": null,
       "object_fit": null,
       "object_position": null,
       "order": null,
       "overflow": null,
       "overflow_x": null,
       "overflow_y": null,
       "padding": null,
       "right": null,
       "top": null,
       "visibility": null,
       "width": null
      }
     },
     "ac39c4a9f91b42bc8f95db5b512ad8c0": {
      "model_module": "@jupyter-widgets/base",
      "model_module_version": "1.2.0",
      "model_name": "LayoutModel",
      "state": {
       "_model_module": "@jupyter-widgets/base",
       "_model_module_version": "1.2.0",
       "_model_name": "LayoutModel",
       "_view_count": null,
       "_view_module": "@jupyter-widgets/base",
       "_view_module_version": "1.2.0",
       "_view_name": "LayoutView",
       "align_content": null,
       "align_items": null,
       "align_self": null,
       "border": null,
       "bottom": null,
       "display": null,
       "flex": null,
       "flex_flow": null,
       "grid_area": null,
       "grid_auto_columns": null,
       "grid_auto_flow": null,
       "grid_auto_rows": null,
       "grid_column": null,
       "grid_gap": null,
       "grid_row": null,
       "grid_template_areas": null,
       "grid_template_columns": null,
       "grid_template_rows": null,
       "height": null,
       "justify_content": null,
       "justify_items": null,
       "left": null,
       "margin": null,
       "max_height": null,
       "max_width": null,
       "min_height": null,
       "min_width": null,
       "object_fit": null,
       "object_position": null,
       "order": null,
       "overflow": null,
       "overflow_x": null,
       "overflow_y": null,
       "padding": null,
       "right": null,
       "top": null,
       "visibility": null,
       "width": null
      }
     },
     "b0df919e8fad45a79fa5c9b9846dd55e": {
      "model_module": "@jupyter-widgets/base",
      "model_module_version": "1.2.0",
      "model_name": "LayoutModel",
      "state": {
       "_model_module": "@jupyter-widgets/base",
       "_model_module_version": "1.2.0",
       "_model_name": "LayoutModel",
       "_view_count": null,
       "_view_module": "@jupyter-widgets/base",
       "_view_module_version": "1.2.0",
       "_view_name": "LayoutView",
       "align_content": null,
       "align_items": null,
       "align_self": null,
       "border": null,
       "bottom": null,
       "display": null,
       "flex": null,
       "flex_flow": null,
       "grid_area": null,
       "grid_auto_columns": null,
       "grid_auto_flow": null,
       "grid_auto_rows": null,
       "grid_column": null,
       "grid_gap": null,
       "grid_row": null,
       "grid_template_areas": null,
       "grid_template_columns": null,
       "grid_template_rows": null,
       "height": null,
       "justify_content": null,
       "justify_items": null,
       "left": null,
       "margin": null,
       "max_height": null,
       "max_width": null,
       "min_height": null,
       "min_width": null,
       "object_fit": null,
       "object_position": null,
       "order": null,
       "overflow": null,
       "overflow_x": null,
       "overflow_y": null,
       "padding": null,
       "right": null,
       "top": null,
       "visibility": null,
       "width": null
      }
     },
     "b46964196c6441b7a46903c9ef98b823": {
      "model_module": "@jupyter-widgets/controls",
      "model_module_version": "1.5.0",
      "model_name": "HTMLModel",
      "state": {
       "_dom_classes": [],
       "_model_module": "@jupyter-widgets/controls",
       "_model_module_version": "1.5.0",
       "_model_name": "HTMLModel",
       "_view_count": null,
       "_view_module": "@jupyter-widgets/controls",
       "_view_module_version": "1.5.0",
       "_view_name": "HTMLView",
       "description": "",
       "description_tooltip": null,
       "layout": "IPY_MODEL_8d468cbd5f28490a9d7bcbb551553154",
       "placeholder": "​",
       "style": "IPY_MODEL_dc5d06b03bf246feba7109a1b33ee8ed",
       "value": " 1.48k/1.48k [00:00&lt;00:00, 128kB/s]"
      }
     },
     "b4757841e1cd407982ba06d01c87d25a": {
      "model_module": "@jupyter-widgets/base",
      "model_module_version": "1.2.0",
      "model_name": "LayoutModel",
      "state": {
       "_model_module": "@jupyter-widgets/base",
       "_model_module_version": "1.2.0",
       "_model_name": "LayoutModel",
       "_view_count": null,
       "_view_module": "@jupyter-widgets/base",
       "_view_module_version": "1.2.0",
       "_view_name": "LayoutView",
       "align_content": null,
       "align_items": null,
       "align_self": null,
       "border": null,
       "bottom": null,
       "display": null,
       "flex": null,
       "flex_flow": null,
       "grid_area": null,
       "grid_auto_columns": null,
       "grid_auto_flow": null,
       "grid_auto_rows": null,
       "grid_column": null,
       "grid_gap": null,
       "grid_row": null,
       "grid_template_areas": null,
       "grid_template_columns": null,
       "grid_template_rows": null,
       "height": null,
       "justify_content": null,
       "justify_items": null,
       "left": null,
       "margin": null,
       "max_height": null,
       "max_width": null,
       "min_height": null,
       "min_width": null,
       "object_fit": null,
       "object_position": null,
       "order": null,
       "overflow": null,
       "overflow_x": null,
       "overflow_y": null,
       "padding": null,
       "right": null,
       "top": null,
       "visibility": null,
       "width": null
      }
     },
     "b65cab8504304c378653823a97d38acb": {
      "model_module": "@jupyter-widgets/base",
      "model_module_version": "1.2.0",
      "model_name": "LayoutModel",
      "state": {
       "_model_module": "@jupyter-widgets/base",
       "_model_module_version": "1.2.0",
       "_model_name": "LayoutModel",
       "_view_count": null,
       "_view_module": "@jupyter-widgets/base",
       "_view_module_version": "1.2.0",
       "_view_name": "LayoutView",
       "align_content": null,
       "align_items": null,
       "align_self": null,
       "border": null,
       "bottom": null,
       "display": null,
       "flex": null,
       "flex_flow": null,
       "grid_area": null,
       "grid_auto_columns": null,
       "grid_auto_flow": null,
       "grid_auto_rows": null,
       "grid_column": null,
       "grid_gap": null,
       "grid_row": null,
       "grid_template_areas": null,
       "grid_template_columns": null,
       "grid_template_rows": null,
       "height": null,
       "justify_content": null,
       "justify_items": null,
       "left": null,
       "margin": null,
       "max_height": null,
       "max_width": null,
       "min_height": null,
       "min_width": null,
       "object_fit": null,
       "object_position": null,
       "order": null,
       "overflow": null,
       "overflow_x": null,
       "overflow_y": null,
       "padding": null,
       "right": null,
       "top": null,
       "visibility": null,
       "width": null
      }
     },
     "c15f8f92dd1e4f8d8d41a9d019d5b3e0": {
      "model_module": "@jupyter-widgets/base",
      "model_module_version": "1.2.0",
      "model_name": "LayoutModel",
      "state": {
       "_model_module": "@jupyter-widgets/base",
       "_model_module_version": "1.2.0",
       "_model_name": "LayoutModel",
       "_view_count": null,
       "_view_module": "@jupyter-widgets/base",
       "_view_module_version": "1.2.0",
       "_view_name": "LayoutView",
       "align_content": null,
       "align_items": null,
       "align_self": null,
       "border": null,
       "bottom": null,
       "display": null,
       "flex": null,
       "flex_flow": null,
       "grid_area": null,
       "grid_auto_columns": null,
       "grid_auto_flow": null,
       "grid_auto_rows": null,
       "grid_column": null,
       "grid_gap": null,
       "grid_row": null,
       "grid_template_areas": null,
       "grid_template_columns": null,
       "grid_template_rows": null,
       "height": null,
       "justify_content": null,
       "justify_items": null,
       "left": null,
       "margin": null,
       "max_height": null,
       "max_width": null,
       "min_height": null,
       "min_width": null,
       "object_fit": null,
       "object_position": null,
       "order": null,
       "overflow": null,
       "overflow_x": null,
       "overflow_y": null,
       "padding": null,
       "right": null,
       "top": null,
       "visibility": null,
       "width": null
      }
     },
     "c2af3013a610415797efd7b5404ddc90": {
      "model_module": "@jupyter-widgets/controls",
      "model_module_version": "1.5.0",
      "model_name": "DescriptionStyleModel",
      "state": {
       "_model_module": "@jupyter-widgets/controls",
       "_model_module_version": "1.5.0",
       "_model_name": "DescriptionStyleModel",
       "_view_count": null,
       "_view_module": "@jupyter-widgets/base",
       "_view_module_version": "1.2.0",
       "_view_name": "StyleView",
       "description_width": ""
      }
     },
     "c307d8ccb9c449b1b23616e44940efca": {
      "model_module": "@jupyter-widgets/controls",
      "model_module_version": "1.5.0",
      "model_name": "FloatProgressModel",
      "state": {
       "_dom_classes": [],
       "_model_module": "@jupyter-widgets/controls",
       "_model_module_version": "1.5.0",
       "_model_name": "FloatProgressModel",
       "_view_count": null,
       "_view_module": "@jupyter-widgets/controls",
       "_view_module_version": "1.5.0",
       "_view_name": "ProgressView",
       "bar_style": "success",
       "description": "",
       "description_tooltip": null,
       "layout": "IPY_MODEL_8445538a44b6406b8405c3a9e6772c62",
       "max": 229.0,
       "min": 0.0,
       "orientation": "horizontal",
       "style": "IPY_MODEL_1a032129abc94afb815c6a32e6760d56",
       "value": 229.0
      }
     },
     "c8a85fcdc6f047d0a5ec3a77e106026b": {
      "model_module": "@jupyter-widgets/controls",
      "model_module_version": "1.5.0",
      "model_name": "DescriptionStyleModel",
      "state": {
       "_model_module": "@jupyter-widgets/controls",
       "_model_module_version": "1.5.0",
       "_model_name": "DescriptionStyleModel",
       "_view_count": null,
       "_view_module": "@jupyter-widgets/base",
       "_view_module_version": "1.2.0",
       "_view_name": "StyleView",
       "description_width": ""
      }
     },
     "caca9bdc800841e78eaff678651a08ae": {
      "model_module": "@jupyter-widgets/controls",
      "model_module_version": "1.5.0",
      "model_name": "ProgressStyleModel",
      "state": {
       "_model_module": "@jupyter-widgets/controls",
       "_model_module_version": "1.5.0",
       "_model_name": "ProgressStyleModel",
       "_view_count": null,
       "_view_module": "@jupyter-widgets/base",
       "_view_module_version": "1.2.0",
       "_view_name": "StyleView",
       "bar_color": null,
       "description_width": ""
      }
     },
     "cd13efc1e4814d81be168169f02fed6d": {
      "model_module": "@jupyter-widgets/controls",
      "model_module_version": "1.5.0",
      "model_name": "HTMLModel",
      "state": {
       "_dom_classes": [],
       "_model_module": "@jupyter-widgets/controls",
       "_model_module_version": "1.5.0",
       "_model_name": "HTMLModel",
       "_view_count": null,
       "_view_module": "@jupyter-widgets/controls",
       "_view_module_version": "1.5.0",
       "_view_name": "HTMLView",
       "description": "",
       "description_tooltip": null,
       "layout": "IPY_MODEL_053712cd1fd54817a384d9c6615bd7dd",
       "placeholder": "​",
       "style": "IPY_MODEL_9ae61713495040f389ee32f169237573",
       "value": " 709k/709k [00:00&lt;00:00, 9.65MB/s]"
      }
     },
     "cd206a63c4914b34a75baf17440d7da4": {
      "model_module": "@jupyter-widgets/controls",
      "model_module_version": "1.5.0",
      "model_name": "HTMLModel",
      "state": {
       "_dom_classes": [],
       "_model_module": "@jupyter-widgets/controls",
       "_model_module_version": "1.5.0",
       "_model_name": "HTMLModel",
       "_view_count": null,
       "_view_module": "@jupyter-widgets/controls",
       "_view_module_version": "1.5.0",
       "_view_name": "HTMLView",
       "description": "",
       "description_tooltip": null,
       "layout": "IPY_MODEL_01e0a855210a475ea50fbed5abd09579",
       "placeholder": "​",
       "style": "IPY_MODEL_5a31a5772d1e41cdb824e37658c13237",
       "value": " 1.10k/1.10k [00:00&lt;00:00, 97.2kB/s]"
      }
     },
     "cec714fd99884bbcac62040468135a65": {
      "model_module": "@jupyter-widgets/controls",
      "model_module_version": "1.5.0",
      "model_name": "HTMLModel",
      "state": {
       "_dom_classes": [],
       "_model_module": "@jupyter-widgets/controls",
       "_model_module_version": "1.5.0",
       "_model_name": "HTMLModel",
       "_view_count": null,
       "_view_module": "@jupyter-widgets/controls",
       "_view_module_version": "1.5.0",
       "_view_name": "HTMLView",
       "description": "",
       "description_tooltip": null,
       "layout": "IPY_MODEL_26d58076af30416181e6c134d3085a13",
       "placeholder": "​",
       "style": "IPY_MODEL_e80e2e7109cf4e4a9fa39c29047af1b0",
       "value": " 229k/229k [00:00&lt;00:00, 19.0MB/s]"
      }
     },
     "cf597b75002e47a7834f18dedee84ca3": {
      "model_module": "@jupyter-widgets/base",
      "model_module_version": "1.2.0",
      "model_name": "LayoutModel",
      "state": {
       "_model_module": "@jupyter-widgets/base",
       "_model_module_version": "1.2.0",
       "_model_name": "LayoutModel",
       "_view_count": null,
       "_view_module": "@jupyter-widgets/base",
       "_view_module_version": "1.2.0",
       "_view_name": "LayoutView",
       "align_content": null,
       "align_items": null,
       "align_self": null,
       "border": null,
       "bottom": null,
       "display": null,
       "flex": null,
       "flex_flow": null,
       "grid_area": null,
       "grid_auto_columns": null,
       "grid_auto_flow": null,
       "grid_auto_rows": null,
       "grid_column": null,
       "grid_gap": null,
       "grid_row": null,
       "grid_template_areas": null,
       "grid_template_columns": null,
       "grid_template_rows": null,
       "height": null,
       "justify_content": null,
       "justify_items": null,
       "left": null,
       "margin": null,
       "max_height": null,
       "max_width": null,
       "min_height": null,
       "min_width": null,
       "object_fit": null,
       "object_position": null,
       "order": null,
       "overflow": null,
       "overflow_x": null,
       "overflow_y": null,
       "padding": null,
       "right": null,
       "top": null,
       "visibility": null,
       "width": null
      }
     },
     "d380af7721234487bddd42d7197bbf3b": {
      "model_module": "@jupyter-widgets/base",
      "model_module_version": "1.2.0",
      "model_name": "LayoutModel",
      "state": {
       "_model_module": "@jupyter-widgets/base",
       "_model_module_version": "1.2.0",
       "_model_name": "LayoutModel",
       "_view_count": null,
       "_view_module": "@jupyter-widgets/base",
       "_view_module_version": "1.2.0",
       "_view_name": "LayoutView",
       "align_content": null,
       "align_items": null,
       "align_self": null,
       "border": null,
       "bottom": null,
       "display": null,
       "flex": null,
       "flex_flow": null,
       "grid_area": null,
       "grid_auto_columns": null,
       "grid_auto_flow": null,
       "grid_auto_rows": null,
       "grid_column": null,
       "grid_gap": null,
       "grid_row": null,
       "grid_template_areas": null,
       "grid_template_columns": null,
       "grid_template_rows": null,
       "height": null,
       "justify_content": null,
       "justify_items": null,
       "left": null,
       "margin": null,
       "max_height": null,
       "max_width": null,
       "min_height": null,
       "min_width": null,
       "object_fit": null,
       "object_position": null,
       "order": null,
       "overflow": null,
       "overflow_x": null,
       "overflow_y": null,
       "padding": null,
       "right": null,
       "top": null,
       "visibility": null,
       "width": null
      }
     },
     "d4a22c2433844d059316a5c0aaa7921c": {
      "model_module": "@jupyter-widgets/controls",
      "model_module_version": "1.5.0",
      "model_name": "DescriptionStyleModel",
      "state": {
       "_model_module": "@jupyter-widgets/controls",
       "_model_module_version": "1.5.0",
       "_model_name": "DescriptionStyleModel",
       "_view_count": null,
       "_view_module": "@jupyter-widgets/base",
       "_view_module_version": "1.2.0",
       "_view_name": "StyleView",
       "description_width": ""
      }
     },
     "d885403f47be4f459561c1332891eacb": {
      "model_module": "@jupyter-widgets/controls",
      "model_module_version": "1.5.0",
      "model_name": "DescriptionStyleModel",
      "state": {
       "_model_module": "@jupyter-widgets/controls",
       "_model_module_version": "1.5.0",
       "_model_name": "DescriptionStyleModel",
       "_view_count": null,
       "_view_module": "@jupyter-widgets/base",
       "_view_module_version": "1.2.0",
       "_view_name": "StyleView",
       "description_width": ""
      }
     },
     "d8936702a1cc406faa245995b2e93d83": {
      "model_module": "@jupyter-widgets/controls",
      "model_module_version": "1.5.0",
      "model_name": "ProgressStyleModel",
      "state": {
       "_model_module": "@jupyter-widgets/controls",
       "_model_module_version": "1.5.0",
       "_model_name": "ProgressStyleModel",
       "_view_count": null,
       "_view_module": "@jupyter-widgets/base",
       "_view_module_version": "1.2.0",
       "_view_name": "StyleView",
       "bar_color": null,
       "description_width": ""
      }
     },
     "daa478ad3a4a4d9fb2b35e3c372ab4d9": {
      "model_module": "@jupyter-widgets/base",
      "model_module_version": "1.2.0",
      "model_name": "LayoutModel",
      "state": {
       "_model_module": "@jupyter-widgets/base",
       "_model_module_version": "1.2.0",
       "_model_name": "LayoutModel",
       "_view_count": null,
       "_view_module": "@jupyter-widgets/base",
       "_view_module_version": "1.2.0",
       "_view_name": "LayoutView",
       "align_content": null,
       "align_items": null,
       "align_self": null,
       "border": null,
       "bottom": null,
       "display": null,
       "flex": null,
       "flex_flow": null,
       "grid_area": null,
       "grid_auto_columns": null,
       "grid_auto_flow": null,
       "grid_auto_rows": null,
       "grid_column": null,
       "grid_gap": null,
       "grid_row": null,
       "grid_template_areas": null,
       "grid_template_columns": null,
       "grid_template_rows": null,
       "height": null,
       "justify_content": null,
       "justify_items": null,
       "left": null,
       "margin": null,
       "max_height": null,
       "max_width": null,
       "min_height": null,
       "min_width": null,
       "object_fit": null,
       "object_position": null,
       "order": null,
       "overflow": null,
       "overflow_x": null,
       "overflow_y": null,
       "padding": null,
       "right": null,
       "top": null,
       "visibility": null,
       "width": null
      }
     },
     "dc5d06b03bf246feba7109a1b33ee8ed": {
      "model_module": "@jupyter-widgets/controls",
      "model_module_version": "1.5.0",
      "model_name": "DescriptionStyleModel",
      "state": {
       "_model_module": "@jupyter-widgets/controls",
       "_model_module_version": "1.5.0",
       "_model_name": "DescriptionStyleModel",
       "_view_count": null,
       "_view_module": "@jupyter-widgets/base",
       "_view_module_version": "1.2.0",
       "_view_name": "StyleView",
       "description_width": ""
      }
     },
     "dcada218f2fe425089562338f768f970": {
      "model_module": "@jupyter-widgets/controls",
      "model_module_version": "1.5.0",
      "model_name": "HTMLModel",
      "state": {
       "_dom_classes": [],
       "_model_module": "@jupyter-widgets/controls",
       "_model_module_version": "1.5.0",
       "_model_name": "HTMLModel",
       "_view_count": null,
       "_view_module": "@jupyter-widgets/controls",
       "_view_module_version": "1.5.0",
       "_view_name": "HTMLView",
       "description": "",
       "description_tooltip": null,
       "layout": "IPY_MODEL_6d369be04d904467b07f67391667a983",
       "placeholder": "​",
       "style": "IPY_MODEL_6f22862a4a6548d3ad5b702db8b7d830",
       "value": "config_sentence_transformers.json: 100%"
      }
     },
     "e2830e9d96d64a7d951dead2d5aaf256": {
      "model_module": "@jupyter-widgets/base",
      "model_module_version": "1.2.0",
      "model_name": "LayoutModel",
      "state": {
       "_model_module": "@jupyter-widgets/base",
       "_model_module_version": "1.2.0",
       "_model_name": "LayoutModel",
       "_view_count": null,
       "_view_module": "@jupyter-widgets/base",
       "_view_module_version": "1.2.0",
       "_view_name": "LayoutView",
       "align_content": null,
       "align_items": null,
       "align_self": null,
       "border": null,
       "bottom": null,
       "display": null,
       "flex": null,
       "flex_flow": null,
       "grid_area": null,
       "grid_auto_columns": null,
       "grid_auto_flow": null,
       "grid_auto_rows": null,
       "grid_column": null,
       "grid_gap": null,
       "grid_row": null,
       "grid_template_areas": null,
       "grid_template_columns": null,
       "grid_template_rows": null,
       "height": null,
       "justify_content": null,
       "justify_items": null,
       "left": null,
       "margin": null,
       "max_height": null,
       "max_width": null,
       "min_height": null,
       "min_width": null,
       "object_fit": null,
       "object_position": null,
       "order": null,
       "overflow": null,
       "overflow_x": null,
       "overflow_y": null,
       "padding": null,
       "right": null,
       "top": null,
       "visibility": null,
       "width": null
      }
     },
     "e37662fa19574b4ba520a8dd80e05b1c": {
      "model_module": "@jupyter-widgets/base",
      "model_module_version": "1.2.0",
      "model_name": "LayoutModel",
      "state": {
       "_model_module": "@jupyter-widgets/base",
       "_model_module_version": "1.2.0",
       "_model_name": "LayoutModel",
       "_view_count": null,
       "_view_module": "@jupyter-widgets/base",
       "_view_module_version": "1.2.0",
       "_view_name": "LayoutView",
       "align_content": null,
       "align_items": null,
       "align_self": null,
       "border": null,
       "bottom": null,
       "display": null,
       "flex": null,
       "flex_flow": null,
       "grid_area": null,
       "grid_auto_columns": null,
       "grid_auto_flow": null,
       "grid_auto_rows": null,
       "grid_column": null,
       "grid_gap": null,
       "grid_row": null,
       "grid_template_areas": null,
       "grid_template_columns": null,
       "grid_template_rows": null,
       "height": null,
       "justify_content": null,
       "justify_items": null,
       "left": null,
       "margin": null,
       "max_height": null,
       "max_width": null,
       "min_height": null,
       "min_width": null,
       "object_fit": null,
       "object_position": null,
       "order": null,
       "overflow": null,
       "overflow_x": null,
       "overflow_y": null,
       "padding": null,
       "right": null,
       "top": null,
       "visibility": null,
       "width": null
      }
     },
     "e577800712d14f4f8358f12b5d522d13": {
      "model_module": "@jupyter-widgets/controls",
      "model_module_version": "1.5.0",
      "model_name": "DescriptionStyleModel",
      "state": {
       "_model_module": "@jupyter-widgets/controls",
       "_model_module_version": "1.5.0",
       "_model_name": "DescriptionStyleModel",
       "_view_count": null,
       "_view_module": "@jupyter-widgets/base",
       "_view_module_version": "1.2.0",
       "_view_name": "StyleView",
       "description_width": ""
      }
     },
     "e7dd3f1fa62b4dc5a6c46e1f669996f5": {
      "model_module": "@jupyter-widgets/controls",
      "model_module_version": "1.5.0",
      "model_name": "HTMLModel",
      "state": {
       "_dom_classes": [],
       "_model_module": "@jupyter-widgets/controls",
       "_model_module_version": "1.5.0",
       "_model_name": "HTMLModel",
       "_view_count": null,
       "_view_module": "@jupyter-widgets/controls",
       "_view_module_version": "1.5.0",
       "_view_name": "HTMLView",
       "description": "",
       "description_tooltip": null,
       "layout": "IPY_MODEL_f9751e5e46aa48d1b50f3102a97b8b9c",
       "placeholder": "​",
       "style": "IPY_MODEL_efdf9b30900c4791afcf1b4778540cd2",
       "value": "sentence_bert_config.json: 100%"
      }
     },
     "e80e2e7109cf4e4a9fa39c29047af1b0": {
      "model_module": "@jupyter-widgets/controls",
      "model_module_version": "1.5.0",
      "model_name": "DescriptionStyleModel",
      "state": {
       "_model_module": "@jupyter-widgets/controls",
       "_model_module_version": "1.5.0",
       "_model_name": "DescriptionStyleModel",
       "_view_count": null,
       "_view_module": "@jupyter-widgets/base",
       "_view_module_version": "1.2.0",
       "_view_name": "StyleView",
       "description_width": ""
      }
     },
     "e8df403963714780b2016b74bac43dd4": {
      "model_module": "@jupyter-widgets/base",
      "model_module_version": "1.2.0",
      "model_name": "LayoutModel",
      "state": {
       "_model_module": "@jupyter-widgets/base",
       "_model_module_version": "1.2.0",
       "_model_name": "LayoutModel",
       "_view_count": null,
       "_view_module": "@jupyter-widgets/base",
       "_view_module_version": "1.2.0",
       "_view_name": "LayoutView",
       "align_content": null,
       "align_items": null,
       "align_self": null,
       "border": null,
       "bottom": null,
       "display": null,
       "flex": null,
       "flex_flow": null,
       "grid_area": null,
       "grid_auto_columns": null,
       "grid_auto_flow": null,
       "grid_auto_rows": null,
       "grid_column": null,
       "grid_gap": null,
       "grid_row": null,
       "grid_template_areas": null,
       "grid_template_columns": null,
       "grid_template_rows": null,
       "height": null,
       "justify_content": null,
       "justify_items": null,
       "left": null,
       "margin": null,
       "max_height": null,
       "max_width": null,
       "min_height": null,
       "min_width": null,
       "object_fit": null,
       "object_position": null,
       "order": null,
       "overflow": null,
       "overflow_x": null,
       "overflow_y": null,
       "padding": null,
       "right": null,
       "top": null,
       "visibility": null,
       "width": null
      }
     },
     "eabf6789395342f99c8863035e68a5bf": {
      "model_module": "@jupyter-widgets/controls",
      "model_module_version": "1.5.0",
      "model_name": "ProgressStyleModel",
      "state": {
       "_model_module": "@jupyter-widgets/controls",
       "_model_module_version": "1.5.0",
       "_model_name": "ProgressStyleModel",
       "_view_count": null,
       "_view_module": "@jupyter-widgets/base",
       "_view_module_version": "1.2.0",
       "_view_name": "StyleView",
       "bar_color": null,
       "description_width": ""
      }
     },
     "eb0c2d11fa9741bcb446e3728ba95eed": {
      "model_module": "@jupyter-widgets/controls",
      "model_module_version": "1.5.0",
      "model_name": "HBoxModel",
      "state": {
       "_dom_classes": [],
       "_model_module": "@jupyter-widgets/controls",
       "_model_module_version": "1.5.0",
       "_model_name": "HBoxModel",
       "_view_count": null,
       "_view_module": "@jupyter-widgets/controls",
       "_view_module_version": "1.5.0",
       "_view_name": "HBoxView",
       "box_style": "",
       "children": [
        "IPY_MODEL_03226d326ae141d5a54c89c793b9a0a1",
        "IPY_MODEL_74684dc6096c4a28ab71967c19df9900",
        "IPY_MODEL_cd206a63c4914b34a75baf17440d7da4"
       ],
       "layout": "IPY_MODEL_cf597b75002e47a7834f18dedee84ca3"
      }
     },
     "eb0f638ef5c44497ba89cb44bdb725db": {
      "model_module": "@jupyter-widgets/controls",
      "model_module_version": "1.5.0",
      "model_name": "FloatProgressModel",
      "state": {
       "_dom_classes": [],
       "_model_module": "@jupyter-widgets/controls",
       "_model_module_version": "1.5.0",
       "_model_name": "FloatProgressModel",
       "_view_count": null,
       "_view_module": "@jupyter-widgets/controls",
       "_view_module_version": "1.5.0",
       "_view_name": "ProgressView",
       "bar_style": "success",
       "description": "",
       "description_tooltip": null,
       "layout": "IPY_MODEL_6a1990a79ac54664b42099684cd43fe2",
       "max": 1477.0,
       "min": 0.0,
       "orientation": "horizontal",
       "style": "IPY_MODEL_3178451f564c43d8a68f1d328bff4a14",
       "value": 1477.0
      }
     },
     "efdf9b30900c4791afcf1b4778540cd2": {
      "model_module": "@jupyter-widgets/controls",
      "model_module_version": "1.5.0",
      "model_name": "DescriptionStyleModel",
      "state": {
       "_model_module": "@jupyter-widgets/controls",
       "_model_module_version": "1.5.0",
       "_model_name": "DescriptionStyleModel",
       "_view_count": null,
       "_view_module": "@jupyter-widgets/base",
       "_view_module_version": "1.2.0",
       "_view_name": "StyleView",
       "description_width": ""
      }
     },
     "f037af5ad11b4e8586dec5cd58e6d7b6": {
      "model_module": "@jupyter-widgets/controls",
      "model_module_version": "1.5.0",
      "model_name": "HTMLModel",
      "state": {
       "_dom_classes": [],
       "_model_module": "@jupyter-widgets/controls",
       "_model_module_version": "1.5.0",
       "_model_name": "HTMLModel",
       "_view_count": null,
       "_view_module": "@jupyter-widgets/controls",
       "_view_module_version": "1.5.0",
       "_view_name": "HTMLView",
       "description": "",
       "description_tooltip": null,
       "layout": "IPY_MODEL_daa478ad3a4a4d9fb2b35e3c372ab4d9",
       "placeholder": "​",
       "style": "IPY_MODEL_a128d5483ac444ad8442d1570d9debc2",
       "value": "eval/similarity_evaluation_results.csv: 100%"
      }
     },
     "f1a5481e19ff42b9872a275d3292d4e7": {
      "model_module": "@jupyter-widgets/controls",
      "model_module_version": "1.5.0",
      "model_name": "DescriptionStyleModel",
      "state": {
       "_model_module": "@jupyter-widgets/controls",
       "_model_module_version": "1.5.0",
       "_model_name": "DescriptionStyleModel",
       "_view_count": null,
       "_view_module": "@jupyter-widgets/base",
       "_view_module_version": "1.2.0",
       "_view_name": "StyleView",
       "description_width": ""
      }
     },
     "f4a83f767654451ca47cbe7029e13035": {
      "model_module": "@jupyter-widgets/base",
      "model_module_version": "1.2.0",
      "model_name": "LayoutModel",
      "state": {
       "_model_module": "@jupyter-widgets/base",
       "_model_module_version": "1.2.0",
       "_model_name": "LayoutModel",
       "_view_count": null,
       "_view_module": "@jupyter-widgets/base",
       "_view_module_version": "1.2.0",
       "_view_name": "LayoutView",
       "align_content": null,
       "align_items": null,
       "align_self": null,
       "border": null,
       "bottom": null,
       "display": null,
       "flex": null,
       "flex_flow": null,
       "grid_area": null,
       "grid_auto_columns": null,
       "grid_auto_flow": null,
       "grid_auto_rows": null,
       "grid_column": null,
       "grid_gap": null,
       "grid_row": null,
       "grid_template_areas": null,
       "grid_template_columns": null,
       "grid_template_rows": null,
       "height": null,
       "justify_content": null,
       "justify_items": null,
       "left": null,
       "margin": null,
       "max_height": null,
       "max_width": null,
       "min_height": null,
       "min_width": null,
       "object_fit": null,
       "object_position": null,
       "order": null,
       "overflow": null,
       "overflow_x": null,
       "overflow_y": null,
       "padding": null,
       "right": null,
       "top": null,
       "visibility": null,
       "width": null
      }
     },
     "f5cd13e23d8c4fdeb699be593d655744": {
      "model_module": "@jupyter-widgets/controls",
      "model_module_version": "1.5.0",
      "model_name": "ProgressStyleModel",
      "state": {
       "_model_module": "@jupyter-widgets/controls",
       "_model_module_version": "1.5.0",
       "_model_name": "ProgressStyleModel",
       "_view_count": null,
       "_view_module": "@jupyter-widgets/base",
       "_view_module_version": "1.2.0",
       "_view_name": "StyleView",
       "bar_color": null,
       "description_width": ""
      }
     },
     "f66caf0bc0d64349953c772b447b474b": {
      "model_module": "@jupyter-widgets/controls",
      "model_module_version": "1.5.0",
      "model_name": "HBoxModel",
      "state": {
       "_dom_classes": [],
       "_model_module": "@jupyter-widgets/controls",
       "_model_module_version": "1.5.0",
       "_model_name": "HBoxModel",
       "_view_count": null,
       "_view_module": "@jupyter-widgets/controls",
       "_view_module_version": "1.5.0",
       "_view_name": "HBoxView",
       "box_style": "",
       "children": [
        "IPY_MODEL_8723f533597c45b2815a3c76cd30347a",
        "IPY_MODEL_5e8c6980db264a56a5c18d76c01954dc",
        "IPY_MODEL_453594b881d547afb8dd975066705762"
       ],
       "layout": "IPY_MODEL_e37662fa19574b4ba520a8dd80e05b1c"
      }
     },
     "f9751e5e46aa48d1b50f3102a97b8b9c": {
      "model_module": "@jupyter-widgets/base",
      "model_module_version": "1.2.0",
      "model_name": "LayoutModel",
      "state": {
       "_model_module": "@jupyter-widgets/base",
       "_model_module_version": "1.2.0",
       "_model_name": "LayoutModel",
       "_view_count": null,
       "_view_module": "@jupyter-widgets/base",
       "_view_module_version": "1.2.0",
       "_view_name": "LayoutView",
       "align_content": null,
       "align_items": null,
       "align_self": null,
       "border": null,
       "bottom": null,
       "display": null,
       "flex": null,
       "flex_flow": null,
       "grid_area": null,
       "grid_auto_columns": null,
       "grid_auto_flow": null,
       "grid_auto_rows": null,
       "grid_column": null,
       "grid_gap": null,
       "grid_row": null,
       "grid_template_areas": null,
       "grid_template_columns": null,
       "grid_template_rows": null,
       "height": null,
       "justify_content": null,
       "justify_items": null,
       "left": null,
       "margin": null,
       "max_height": null,
       "max_width": null,
       "min_height": null,
       "min_width": null,
       "object_fit": null,
       "object_position": null,
       "order": null,
       "overflow": null,
       "overflow_x": null,
       "overflow_y": null,
       "padding": null,
       "right": null,
       "top": null,
       "visibility": null,
       "width": null
      }
     },
     "fd287328781a40a79aadbc529b038f15": {
      "model_module": "@jupyter-widgets/controls",
      "model_module_version": "1.5.0",
      "model_name": "HTMLModel",
      "state": {
       "_dom_classes": [],
       "_model_module": "@jupyter-widgets/controls",
       "_model_module_version": "1.5.0",
       "_model_name": "HTMLModel",
       "_view_count": null,
       "_view_module": "@jupyter-widgets/controls",
       "_view_module_version": "1.5.0",
       "_view_name": "HTMLView",
       "description": "",
       "description_tooltip": null,
       "layout": "IPY_MODEL_e8df403963714780b2016b74bac43dd4",
       "placeholder": "​",
       "style": "IPY_MODEL_d4a22c2433844d059316a5c0aaa7921c",
       "value": ".gitattributes: 100%"
      }
     }
    },
    "version_major": 2,
    "version_minor": 0
   }
  }
 },
 "nbformat": 4,
 "nbformat_minor": 5
}
