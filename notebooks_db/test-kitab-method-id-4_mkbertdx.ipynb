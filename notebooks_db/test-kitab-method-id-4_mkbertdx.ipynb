{
 "cells": [
  {
   "cell_type": "markdown",
   "id": "c3a6a7e3",
   "metadata": {
    "papermill": {
     "duration": 0.002583,
     "end_time": "2023-10-17T21:41:57.724056",
     "exception": false,
     "start_time": "2023-10-17T21:41:57.721473",
     "status": "completed"
    },
    "tags": []
   },
   "source": [
    "### https://www.kaggle.com/code/deepak180222/question-answering-using-bloom-7b1-and-chromadb"
   ]
  },
  {
   "cell_type": "code",
   "execution_count": 1,
   "id": "2c40ece8",
   "metadata": {
    "execution": {
     "iopub.execute_input": "2023-10-17T21:41:57.729461Z",
     "iopub.status.busy": "2023-10-17T21:41:57.729257Z",
     "iopub.status.idle": "2023-10-17T21:41:58.680888Z",
     "shell.execute_reply": "2023-10-17T21:41:58.679984Z"
    },
    "papermill": {
     "duration": 0.956209,
     "end_time": "2023-10-17T21:41:58.682678",
     "exception": false,
     "start_time": "2023-10-17T21:41:57.726469",
     "status": "completed"
    },
    "tags": []
   },
   "outputs": [
    {
     "name": "stdout",
     "output_type": "stream",
     "text": [
      "GPU 0: Tesla P100-PCIE-16GB (UUID: GPU-832d9057-a7a9-16eb-7b58-5809b27b22f9)\r\n"
     ]
    }
   ],
   "source": [
    "! nvidia-smi -L"
   ]
  },
  {
   "cell_type": "code",
   "execution_count": 2,
   "id": "171d3e78",
   "metadata": {
    "execution": {
     "iopub.execute_input": "2023-10-17T21:41:58.689183Z",
     "iopub.status.busy": "2023-10-17T21:41:58.688670Z",
     "iopub.status.idle": "2023-10-17T21:42:51.537650Z",
     "shell.execute_reply": "2023-10-17T21:42:51.536513Z"
    },
    "papermill": {
     "duration": 52.854819,
     "end_time": "2023-10-17T21:42:51.540013",
     "exception": false,
     "start_time": "2023-10-17T21:41:58.685194",
     "status": "completed"
    },
    "tags": []
   },
   "outputs": [
    {
     "name": "stdout",
     "output_type": "stream",
     "text": [
      "\u001b[31mERROR: pip's dependency resolver does not currently take into account all the packages that are installed. This behaviour is the source of the following dependency conflicts.\r\n",
      "apache-beam 2.46.0 requires dill<0.3.2,>=0.3.1.1, but you have dill 0.3.7 which is incompatible.\r\n",
      "apache-beam 2.46.0 requires pyarrow<10.0.0,>=3.0.0, but you have pyarrow 11.0.0 which is incompatible.\r\n",
      "google-cloud-pubsublite 1.8.2 requires overrides<7.0.0,>=6.0.1, but you have overrides 7.4.0 which is incompatible.\r\n",
      "jupyterlab-lsp 4.2.0 requires jupyter-lsp>=2.0.0, but you have jupyter-lsp 1.5.1 which is incompatible.\r\n",
      "ray 2.5.1 requires grpcio<=1.51.3,>=1.42.0; python_version >= \"3.10\" and sys_platform != \"darwin\", but you have grpcio 1.59.0 which is incompatible.\u001b[0m\u001b[31m\r\n",
      "\u001b[0m\u001b[31mERROR: pip's dependency resolver does not currently take into account all the packages that are installed. This behaviour is the source of the following dependency conflicts.\r\n",
      "chromadb 0.4.14 requires grpcio>=1.58.0, but you have grpcio 1.51.3 which is incompatible.\u001b[0m\u001b[31m\r\n",
      "\u001b[0mCPU times: user 404 ms, sys: 72.2 ms, total: 476 ms\n",
      "Wall time: 52.8 s\n"
     ]
    }
   ],
   "source": [
    "%%time\n",
    "\n",
    "! pip install -qq -U langchain tiktoken pypdf chromadb faiss-gpu\n",
    "! pip install -qq -U transformers InstructorEmbedding sentence_transformers"
   ]
  },
  {
   "cell_type": "code",
   "execution_count": 3,
   "id": "0d9e1d6c",
   "metadata": {
    "execution": {
     "iopub.execute_input": "2023-10-17T21:42:51.547194Z",
     "iopub.status.busy": "2023-10-17T21:42:51.546864Z",
     "iopub.status.idle": "2023-10-17T21:42:59.220053Z",
     "shell.execute_reply": "2023-10-17T21:42:59.219386Z"
    },
    "papermill": {
     "duration": 7.678715,
     "end_time": "2023-10-17T21:42:59.221838",
     "exception": false,
     "start_time": "2023-10-17T21:42:51.543123",
     "status": "completed"
    },
    "tags": []
   },
   "outputs": [
    {
     "name": "stderr",
     "output_type": "stream",
     "text": [
      "/opt/conda/lib/python3.10/site-packages/InstructorEmbedding/instructor.py:7: TqdmExperimentalWarning: Using `tqdm.autonotebook.tqdm` in notebook mode. Use `tqdm.tqdm` instead to force console mode (e.g. in jupyter console)\n",
      "  from tqdm.autonotebook import trange\n",
      "/opt/conda/lib/python3.10/site-packages/scipy/__init__.py:146: UserWarning: A NumPy version >=1.16.5 and <1.23.0 is required for this version of SciPy (detected version 1.23.5\n",
      "  warnings.warn(f\"A NumPy version >={np_minversion} and <{np_maxversion}\"\n"
     ]
    }
   ],
   "source": [
    "import os\n",
    "import textwrap\n",
    "import glob\n",
    "import shutil\n",
    "\n",
    "import langchain\n",
    "from langchain.llms import HuggingFacePipeline\n",
    "from InstructorEmbedding import INSTRUCTOR\n",
    "from langchain.embeddings import HuggingFaceInstructEmbeddings\n",
    "\n",
    "from langchain.vectorstores import Chroma, FAISS\n",
    "from langchain.text_splitter import RecursiveCharacterTextSplitter\n",
    "\n",
    "from langchain.chains import RetrievalQA, VectorDBQA\n",
    "from langchain.document_loaders import PyPDFLoader\n",
    "from langchain.document_loaders import DirectoryLoader"
   ]
  },
  {
   "cell_type": "code",
   "execution_count": 4,
   "id": "bd715d7a",
   "metadata": {
    "execution": {
     "iopub.execute_input": "2023-10-17T21:42:59.228166Z",
     "iopub.status.busy": "2023-10-17T21:42:59.227840Z",
     "iopub.status.idle": "2023-10-17T21:42:59.231863Z",
     "shell.execute_reply": "2023-10-17T21:42:59.231303Z"
    },
    "papermill": {
     "duration": 0.008803,
     "end_time": "2023-10-17T21:42:59.233350",
     "exception": false,
     "start_time": "2023-10-17T21:42:59.224547",
     "status": "completed"
    },
    "tags": []
   },
   "outputs": [],
   "source": [
    "#os.makedirs('/kaggle/working/mk-vectordb-chroma')"
   ]
  },
  {
   "cell_type": "code",
   "execution_count": 5,
   "id": "462dabbb",
   "metadata": {
    "execution": {
     "iopub.execute_input": "2023-10-17T21:42:59.239139Z",
     "iopub.status.busy": "2023-10-17T21:42:59.238939Z",
     "iopub.status.idle": "2023-10-17T21:42:59.241708Z",
     "shell.execute_reply": "2023-10-17T21:42:59.241019Z"
    },
    "papermill": {
     "duration": 0.007242,
     "end_time": "2023-10-17T21:42:59.243054",
     "exception": false,
     "start_time": "2023-10-17T21:42:59.235812",
     "status": "completed"
    },
    "tags": []
   },
   "outputs": [],
   "source": [
    "#shutil.rmtree('/kaggle/working/mk-vectordb-chroma',ignore_errors=True)"
   ]
  },
  {
   "cell_type": "code",
   "execution_count": 6,
   "id": "57ac2287",
   "metadata": {
    "execution": {
     "iopub.execute_input": "2023-10-17T21:42:59.250182Z",
     "iopub.status.busy": "2023-10-17T21:42:59.249979Z",
     "iopub.status.idle": "2023-10-17T21:42:59.252747Z",
     "shell.execute_reply": "2023-10-17T21:42:59.252086Z"
    },
    "papermill": {
     "duration": 0.008725,
     "end_time": "2023-10-17T21:42:59.254225",
     "exception": false,
     "start_time": "2023-10-17T21:42:59.245500",
     "status": "completed"
    },
    "tags": []
   },
   "outputs": [],
   "source": [
    "#shutil.copytree('/kaggle/input/mkvc-2-part-1/kaggle/working/mk-vectordb-chroma-two', '/kaggle/working/mk-vectordb-chroma-two')"
   ]
  },
  {
   "cell_type": "code",
   "execution_count": 7,
   "id": "fb5b7669",
   "metadata": {
    "execution": {
     "iopub.execute_input": "2023-10-17T21:42:59.260173Z",
     "iopub.status.busy": "2023-10-17T21:42:59.259976Z",
     "iopub.status.idle": "2023-10-17T21:42:59.262646Z",
     "shell.execute_reply": "2023-10-17T21:42:59.262000Z"
    },
    "papermill": {
     "duration": 0.007129,
     "end_time": "2023-10-17T21:42:59.264014",
     "exception": false,
     "start_time": "2023-10-17T21:42:59.256885",
     "status": "completed"
    },
    "tags": []
   },
   "outputs": [],
   "source": [
    "#shutil.rmtree('/kaggle/working/dataset',ignore_errors=True)"
   ]
  },
  {
   "cell_type": "code",
   "execution_count": 8,
   "id": "d47eab7a",
   "metadata": {
    "execution": {
     "iopub.execute_input": "2023-10-17T21:42:59.269977Z",
     "iopub.status.busy": "2023-10-17T21:42:59.269604Z",
     "iopub.status.idle": "2023-10-17T21:42:59.272222Z",
     "shell.execute_reply": "2023-10-17T21:42:59.271642Z"
    },
    "papermill": {
     "duration": 0.006944,
     "end_time": "2023-10-17T21:42:59.273523",
     "exception": false,
     "start_time": "2023-10-17T21:42:59.266579",
     "status": "completed"
    },
    "tags": []
   },
   "outputs": [],
   "source": [
    "#os.makedirs('/kaggle/working/dataset')"
   ]
  },
  {
   "cell_type": "code",
   "execution_count": 9,
   "id": "bc08821e",
   "metadata": {
    "execution": {
     "iopub.execute_input": "2023-10-17T21:42:59.279908Z",
     "iopub.status.busy": "2023-10-17T21:42:59.279394Z",
     "iopub.status.idle": "2023-10-17T21:42:59.282156Z",
     "shell.execute_reply": "2023-10-17T21:42:59.281575Z"
    },
    "papermill": {
     "duration": 0.007231,
     "end_time": "2023-10-17T21:42:59.283483",
     "exception": false,
     "start_time": "2023-10-17T21:42:59.276252",
     "status": "completed"
    },
    "tags": []
   },
   "outputs": [],
   "source": [
    "#os.remove('/kaggle/working/file.zip')"
   ]
  },
  {
   "cell_type": "code",
   "execution_count": 10,
   "id": "4c82e2c6",
   "metadata": {
    "execution": {
     "iopub.execute_input": "2023-10-17T21:42:59.289852Z",
     "iopub.status.busy": "2023-10-17T21:42:59.289211Z",
     "iopub.status.idle": "2023-10-17T21:43:11.837126Z",
     "shell.execute_reply": "2023-10-17T21:43:11.836356Z"
    },
    "papermill": {
     "duration": 12.552678,
     "end_time": "2023-10-17T21:43:11.838765",
     "exception": false,
     "start_time": "2023-10-17T21:42:59.286087",
     "status": "completed"
    },
    "tags": []
   },
   "outputs": [
    {
     "name": "stdout",
     "output_type": "stream",
     "text": [
      "load INSTRUCTOR_Transformer\n",
      "max_seq_length  512\n",
      "CPU times: user 3.62 s, sys: 1.56 s, total: 5.17 s\n",
      "Wall time: 12.5 s\n"
     ]
    }
   ],
   "source": [
    "%%time\n",
    "from sentence_transformers import SentenceTransformer, models\n",
    "#from chromadb import Documents, EmbeddingFunction, Embeddings\n",
    "#instructor_embeddings = HuggingFaceInstructEmbeddings(model_name=\"LazarusNLP/simcse-indobert-lite-base\", model_kwargs={\"device\": \"cuda\"})\n",
    "instructor_embeddings = HuggingFaceInstructEmbeddings(model_name=\"/kaggle/input/mkbertdx\",model_kwargs={\"device\": \"cuda\"})"
   ]
  },
  {
   "cell_type": "code",
   "execution_count": 11,
   "id": "2798151f",
   "metadata": {
    "execution": {
     "iopub.execute_input": "2023-10-17T21:43:11.846162Z",
     "iopub.status.busy": "2023-10-17T21:43:11.845925Z",
     "iopub.status.idle": "2023-10-18T03:39:46.771393Z",
     "shell.execute_reply": "2023-10-18T03:39:46.768278Z"
    },
    "papermill": {
     "duration": 21394.933536,
     "end_time": "2023-10-18T03:39:46.775434",
     "exception": false,
     "start_time": "2023-10-17T21:43:11.841898",
     "status": "completed"
    },
    "tags": []
   },
   "outputs": [
    {
     "name": "stdout",
     "output_type": "stream",
     "text": [
      "1 1  ~  100\n",
      "100\n"
     ]
    },
    {
     "name": "stderr",
     "output_type": "stream",
     "text": [
      "100%|██████████| 100/100 [03:39<00:00,  2.20s/it]\n"
     ]
    },
    {
     "name": "stdout",
     "output_type": "stream",
     "text": [
      "6761\n",
      "16053\n",
      "2 101  ~  200\n",
      "100\n"
     ]
    },
    {
     "name": "stderr",
     "output_type": "stream",
     "text": [
      "100%|██████████| 100/100 [05:13<00:00,  3.14s/it]\n"
     ]
    },
    {
     "name": "stdout",
     "output_type": "stream",
     "text": [
      "8732\n",
      "20912\n",
      "3 201  ~  300\n",
      "100\n"
     ]
    },
    {
     "name": "stderr",
     "output_type": "stream",
     "text": [
      "100%|██████████| 100/100 [04:11<00:00,  2.51s/it]\n"
     ]
    },
    {
     "name": "stdout",
     "output_type": "stream",
     "text": [
      "7405\n",
      "18159\n",
      "4 301  ~  400\n",
      "100\n"
     ]
    },
    {
     "name": "stderr",
     "output_type": "stream",
     "text": [
      "100%|██████████| 100/100 [05:46<00:00,  3.46s/it]\n"
     ]
    },
    {
     "name": "stdout",
     "output_type": "stream",
     "text": [
      "9721\n",
      "22764\n",
      "5 401  ~  500\n",
      "100\n"
     ]
    },
    {
     "name": "stderr",
     "output_type": "stream",
     "text": [
      "100%|██████████| 100/100 [04:15<00:00,  2.55s/it]\n"
     ]
    },
    {
     "name": "stdout",
     "output_type": "stream",
     "text": [
      "7434\n",
      "18162\n",
      "6 501  ~  600\n",
      "100\n"
     ]
    },
    {
     "name": "stderr",
     "output_type": "stream",
     "text": [
      "100%|██████████| 100/100 [04:25<00:00,  2.65s/it]\n"
     ]
    },
    {
     "name": "stdout",
     "output_type": "stream",
     "text": [
      "9379\n",
      "23355\n",
      "7 601  ~  700\n",
      "100\n"
     ]
    },
    {
     "name": "stderr",
     "output_type": "stream",
     "text": [
      "100%|██████████| 100/100 [04:08<00:00,  2.49s/it]\n"
     ]
    },
    {
     "name": "stdout",
     "output_type": "stream",
     "text": [
      "8135\n",
      "20260\n",
      "8 701  ~  800\n",
      "100\n"
     ]
    },
    {
     "name": "stderr",
     "output_type": "stream",
     "text": [
      "  8%|▊         | 8/100 [00:29<05:12,  3.40s/it]/opt/conda/lib/python3.10/site-packages/pypdf/_cmap.py:177: PdfReadWarning: Advanced encoding /SymbolSetEncoding not implemented yet\n",
      "  warnings.warn(\n",
      "100%|██████████| 100/100 [04:23<00:00,  2.63s/it]\n"
     ]
    },
    {
     "name": "stdout",
     "output_type": "stream",
     "text": [
      "8195\n",
      "20113\n",
      "9 801  ~  900\n",
      "100\n"
     ]
    },
    {
     "name": "stderr",
     "output_type": "stream",
     "text": [
      "100%|██████████| 100/100 [10:45<00:00,  6.46s/it]\n"
     ]
    },
    {
     "name": "stdout",
     "output_type": "stream",
     "text": [
      "14198\n",
      "38832\n",
      "10 901  ~  1000\n",
      "100\n"
     ]
    },
    {
     "name": "stderr",
     "output_type": "stream",
     "text": [
      "100%|██████████| 100/100 [04:09<00:00,  2.49s/it]\n"
     ]
    },
    {
     "name": "stdout",
     "output_type": "stream",
     "text": [
      "8287\n",
      "19920\n",
      "11 1001  ~  1100\n",
      "100\n"
     ]
    },
    {
     "name": "stderr",
     "output_type": "stream",
     "text": [
      "100%|██████████| 100/100 [04:26<00:00,  2.66s/it]\n"
     ]
    },
    {
     "name": "stdout",
     "output_type": "stream",
     "text": [
      "8547\n",
      "20033\n",
      "12 1101  ~  1200\n",
      "100\n"
     ]
    },
    {
     "name": "stderr",
     "output_type": "stream",
     "text": [
      "100%|██████████| 100/100 [04:30<00:00,  2.71s/it]\n"
     ]
    },
    {
     "name": "stdout",
     "output_type": "stream",
     "text": [
      "7848\n",
      "19444\n",
      "13 1201  ~  1300\n",
      "100\n"
     ]
    },
    {
     "name": "stderr",
     "output_type": "stream",
     "text": [
      "100%|██████████| 100/100 [05:12<00:00,  3.12s/it]\n"
     ]
    },
    {
     "name": "stdout",
     "output_type": "stream",
     "text": [
      "9787\n",
      "24069\n",
      "14 1301  ~  1400\n",
      "100\n"
     ]
    },
    {
     "name": "stderr",
     "output_type": "stream",
     "text": [
      "100%|██████████| 100/100 [04:57<00:00,  2.98s/it]\n"
     ]
    },
    {
     "name": "stdout",
     "output_type": "stream",
     "text": [
      "8207\n",
      "20316\n",
      "15 1401  ~  1500\n",
      "100\n"
     ]
    },
    {
     "name": "stderr",
     "output_type": "stream",
     "text": [
      "100%|██████████| 100/100 [04:42<00:00,  2.83s/it]\n"
     ]
    },
    {
     "name": "stdout",
     "output_type": "stream",
     "text": [
      "8093\n",
      "19804\n",
      "16 1501  ~  1600\n",
      "100\n"
     ]
    },
    {
     "name": "stderr",
     "output_type": "stream",
     "text": [
      "100%|██████████| 100/100 [04:53<00:00,  2.94s/it]\n"
     ]
    },
    {
     "name": "stdout",
     "output_type": "stream",
     "text": [
      "8256\n",
      "20323\n",
      "17 1601  ~  1700\n",
      "100\n"
     ]
    },
    {
     "name": "stderr",
     "output_type": "stream",
     "text": [
      "100%|██████████| 100/100 [03:51<00:00,  2.31s/it]\n"
     ]
    },
    {
     "name": "stdout",
     "output_type": "stream",
     "text": [
      "7835\n",
      "18720\n",
      "18 1701  ~  1800\n",
      "100\n"
     ]
    },
    {
     "name": "stderr",
     "output_type": "stream",
     "text": [
      "100%|██████████| 100/100 [04:58<00:00,  2.99s/it]\n"
     ]
    },
    {
     "name": "stdout",
     "output_type": "stream",
     "text": [
      "8719\n",
      "21221\n",
      "19 1801  ~  1900\n",
      "100\n"
     ]
    },
    {
     "name": "stderr",
     "output_type": "stream",
     "text": [
      "100%|██████████| 100/100 [03:46<00:00,  2.26s/it]\n"
     ]
    },
    {
     "name": "stdout",
     "output_type": "stream",
     "text": [
      "7426\n",
      "17779\n",
      "20 1901  ~  2000\n",
      "100\n"
     ]
    },
    {
     "name": "stderr",
     "output_type": "stream",
     "text": [
      "100%|██████████| 100/100 [03:39<00:00,  2.20s/it]\n"
     ]
    },
    {
     "name": "stdout",
     "output_type": "stream",
     "text": [
      "7904\n",
      "19475\n",
      "21 2001  ~  2100\n",
      "100\n"
     ]
    },
    {
     "name": "stderr",
     "output_type": "stream",
     "text": [
      "100%|██████████| 100/100 [04:36<00:00,  2.76s/it]\n"
     ]
    },
    {
     "name": "stdout",
     "output_type": "stream",
     "text": [
      "9187\n",
      "22822\n",
      "22 2101  ~  2200\n",
      "100\n"
     ]
    },
    {
     "name": "stderr",
     "output_type": "stream",
     "text": [
      "100%|██████████| 100/100 [05:01<00:00,  3.01s/it]\n"
     ]
    },
    {
     "name": "stdout",
     "output_type": "stream",
     "text": [
      "8111\n",
      "20122\n",
      "23 2201  ~  2300\n",
      "100\n"
     ]
    },
    {
     "name": "stderr",
     "output_type": "stream",
     "text": [
      "100%|██████████| 100/100 [03:43<00:00,  2.23s/it]\n"
     ]
    },
    {
     "name": "stdout",
     "output_type": "stream",
     "text": [
      "7229\n",
      "17314\n",
      "24 2301  ~  2400\n",
      "100\n"
     ]
    },
    {
     "name": "stderr",
     "output_type": "stream",
     "text": [
      "100%|██████████| 100/100 [04:52<00:00,  2.92s/it]\n"
     ]
    },
    {
     "name": "stdout",
     "output_type": "stream",
     "text": [
      "9056\n",
      "20993\n",
      "25 2401  ~  2500\n",
      "100\n"
     ]
    },
    {
     "name": "stderr",
     "output_type": "stream",
     "text": [
      "100%|██████████| 100/100 [03:56<00:00,  2.37s/it]\n"
     ]
    },
    {
     "name": "stdout",
     "output_type": "stream",
     "text": [
      "6711\n",
      "16649\n",
      "26 2501  ~  2600\n",
      "100\n"
     ]
    },
    {
     "name": "stderr",
     "output_type": "stream",
     "text": [
      "100%|██████████| 100/100 [04:25<00:00,  2.66s/it]\n"
     ]
    },
    {
     "name": "stdout",
     "output_type": "stream",
     "text": [
      "7732\n",
      "18778\n",
      "27 2601  ~  2700\n",
      "100\n"
     ]
    },
    {
     "name": "stderr",
     "output_type": "stream",
     "text": [
      "100%|██████████| 100/100 [05:00<00:00,  3.00s/it]\n"
     ]
    },
    {
     "name": "stdout",
     "output_type": "stream",
     "text": [
      "8986\n",
      "22088\n",
      "28 2701  ~  2800\n",
      "100\n"
     ]
    },
    {
     "name": "stderr",
     "output_type": "stream",
     "text": [
      "100%|██████████| 100/100 [04:19<00:00,  2.60s/it]\n"
     ]
    },
    {
     "name": "stdout",
     "output_type": "stream",
     "text": [
      "7606\n",
      "18738\n",
      "29 2801  ~  2900\n",
      "100\n"
     ]
    },
    {
     "name": "stderr",
     "output_type": "stream",
     "text": [
      "100%|██████████| 100/100 [05:53<00:00,  3.54s/it]\n"
     ]
    },
    {
     "name": "stdout",
     "output_type": "stream",
     "text": [
      "8652\n",
      "20603\n",
      "30 2901  ~  3000\n",
      "100\n"
     ]
    },
    {
     "name": "stderr",
     "output_type": "stream",
     "text": [
      "100%|██████████| 100/100 [06:11<00:00,  3.72s/it]\n"
     ]
    },
    {
     "name": "stdout",
     "output_type": "stream",
     "text": [
      "8341\n",
      "19567\n",
      "31 3001  ~  3100\n",
      "100\n"
     ]
    },
    {
     "name": "stderr",
     "output_type": "stream",
     "text": [
      "100%|██████████| 100/100 [04:32<00:00,  2.72s/it]\n"
     ]
    },
    {
     "name": "stdout",
     "output_type": "stream",
     "text": [
      "7591\n",
      "18652\n",
      "32 3101  ~  3200\n",
      "100\n"
     ]
    },
    {
     "name": "stderr",
     "output_type": "stream",
     "text": [
      "100%|██████████| 100/100 [04:53<00:00,  2.93s/it]\n"
     ]
    },
    {
     "name": "stdout",
     "output_type": "stream",
     "text": [
      "7851\n",
      "18961\n",
      "33 3201  ~  3300\n",
      "100\n"
     ]
    },
    {
     "name": "stderr",
     "output_type": "stream",
     "text": [
      "100%|██████████| 100/100 [03:48<00:00,  2.28s/it]\n"
     ]
    },
    {
     "name": "stdout",
     "output_type": "stream",
     "text": [
      "7882\n",
      "19336\n",
      "34 3301  ~  3400\n",
      "100\n"
     ]
    },
    {
     "name": "stderr",
     "output_type": "stream",
     "text": [
      "100%|██████████| 100/100 [04:36<00:00,  2.76s/it]\n"
     ]
    },
    {
     "name": "stdout",
     "output_type": "stream",
     "text": [
      "8353\n",
      "19426\n",
      "35 3401  ~  3500\n",
      "100\n"
     ]
    },
    {
     "name": "stderr",
     "output_type": "stream",
     "text": [
      "100%|██████████| 100/100 [05:48<00:00,  3.48s/it]\n"
     ]
    },
    {
     "name": "stdout",
     "output_type": "stream",
     "text": [
      "9229\n",
      "22392\n",
      "36 3501  ~  3600\n",
      "100\n"
     ]
    },
    {
     "name": "stderr",
     "output_type": "stream",
     "text": [
      "100%|██████████| 100/100 [03:50<00:00,  2.31s/it]\n"
     ]
    },
    {
     "name": "stdout",
     "output_type": "stream",
     "text": [
      "6640\n",
      "15967\n",
      "37 3601  ~  3700\n",
      "100\n"
     ]
    },
    {
     "name": "stderr",
     "output_type": "stream",
     "text": [
      "100%|██████████| 100/100 [06:19<00:00,  3.79s/it]\n"
     ]
    },
    {
     "name": "stdout",
     "output_type": "stream",
     "text": [
      "10930\n",
      "25827\n",
      "38 3701  ~  3800\n",
      "100\n"
     ]
    },
    {
     "name": "stderr",
     "output_type": "stream",
     "text": [
      "100%|██████████| 100/100 [04:50<00:00,  2.91s/it]\n"
     ]
    },
    {
     "name": "stdout",
     "output_type": "stream",
     "text": [
      "8764\n",
      "21540\n",
      "39 3801  ~  3900\n",
      "100\n"
     ]
    },
    {
     "name": "stderr",
     "output_type": "stream",
     "text": [
      "100%|██████████| 100/100 [03:51<00:00,  2.31s/it]\n"
     ]
    },
    {
     "name": "stdout",
     "output_type": "stream",
     "text": [
      "7445\n",
      "17887\n",
      "40 3901  ~  4000\n",
      "94\n"
     ]
    },
    {
     "name": "stderr",
     "output_type": "stream",
     "text": [
      "100%|██████████| 94/94 [03:49<00:00,  2.44s/it]\n"
     ]
    },
    {
     "name": "stdout",
     "output_type": "stream",
     "text": [
      "6862\n",
      "17065\n"
     ]
    }
   ],
   "source": [
    "noke = 0\n",
    "based_ke_from = 0\n",
    "actual_from = 0\n",
    "actual_to = 0\n",
    "\n",
    "for x in range(40):\n",
    "    noke += 1\n",
    "    \n",
    "    actual_from = based_ke_from+1\n",
    "    actual_to = based_ke_from+100 \n",
    "    \n",
    "    print(noke,actual_from,\" ~ \",actual_to)\n",
    "    based_ke_from = actual_to\n",
    "    \n",
    "    shutil.rmtree('/kaggle/working/dataset',ignore_errors=True)\n",
    "    os.makedirs('/kaggle/working/dataset')\n",
    "    \n",
    "    #Pindahkan 100\n",
    "    files = glob.glob(\"/kaggle/input/mkri-fullset/*\")\n",
    "    ke = 0\n",
    "    for file in files:\n",
    "        ke += 1\n",
    "        if ke >= actual_from and ke <= actual_to:\n",
    "            shutil.copy(file, '/kaggle/working/dataset/')\n",
    "            \n",
    "    print(len(glob.glob('/kaggle/working/dataset/*')))\n",
    "    \n",
    "    loader = DirectoryLoader('/kaggle/working/dataset/', \n",
    "                             glob=\"./*.pdf\",\n",
    "                             loader_cls=PyPDFLoader,\n",
    "                             show_progress=True,\n",
    "                             use_multithreading=True)\n",
    "\n",
    "    documents = loader.load()\n",
    "    \n",
    "    ### clean a bit\n",
    "    for i in range(len(documents)):\n",
    "        documents[i].page_content = documents[i].page_content.replace('\\t', ' ')\\\n",
    "                                                             .replace('\\n', ' ')\\\n",
    "                                                             .replace('       ', ' ')\\\n",
    "                                                             .replace('      ', ' ')\\\n",
    "                                                             .replace('     ', ' ')\\\n",
    "                                                             .replace('    ', ' ')\\\n",
    "                                                             .replace('   ', ' ')\\\n",
    "                                                             .replace('  ', ' ')\n",
    "        \n",
    "    print(len(documents))\n",
    "    \n",
    "    #print(documents[30].page_content)\n",
    "    \n",
    "    text_splitter = RecursiveCharacterTextSplitter(chunk_size=1000, chunk_overlap=0)\n",
    "    texts = text_splitter.split_documents(documents)\n",
    "    print(len(texts))\n",
    "    \n",
    "    persist_directory = 'mk-vectordb-chroma-nineteen'\n",
    "\n",
    "    ### create embeddings and DB\n",
    "    vectordb = Chroma.from_documents(documents=texts,\n",
    "                                     embedding=instructor_embeddings,\n",
    "                                     persist_directory=persist_directory,\n",
    "                                     collection_name='mk_docs')\n",
    "\n",
    "\n",
    "    ### persist Chroma database\n",
    "    vectordb.persist()"
   ]
  },
  {
   "cell_type": "code",
   "execution_count": 12,
   "id": "508cb09d",
   "metadata": {
    "execution": {
     "iopub.execute_input": "2023-10-18T03:39:47.196932Z",
     "iopub.status.busy": "2023-10-18T03:39:47.196342Z",
     "iopub.status.idle": "2023-10-18T03:48:35.400021Z",
     "shell.execute_reply": "2023-10-18T03:48:35.398827Z"
    },
    "papermill": {
     "duration": 528.519281,
     "end_time": "2023-10-18T03:48:35.460260",
     "exception": false,
     "start_time": "2023-10-18T03:39:46.940979",
     "status": "completed"
    },
    "tags": []
   },
   "outputs": [
    {
     "name": "stderr",
     "output_type": "stream",
     "text": [
      "huggingface/tokenizers: The current process just got forked, after parallelism has already been used. Disabling parallelism to avoid deadlocks...\n",
      "To disable this warning, you can either:\n",
      "\t- Avoid using `tokenizers` before the fork if possible\n",
      "\t- Explicitly set the environment variable TOKENIZERS_PARALLELISM=(true | false)\n"
     ]
    },
    {
     "name": "stdout",
     "output_type": "stream",
     "text": [
      "  adding: kaggle/working/mk-vectordb-chroma-nineteen/ (stored 0%)\r\n",
      "  adding: kaggle/working/mk-vectordb-chroma-nineteen/134d2b71-ee38-4a19-b67c-cf9e5fa93322/ (stored 0%)\r\n",
      "  adding: kaggle/working/mk-vectordb-chroma-nineteen/134d2b71-ee38-4a19-b67c-cf9e5fa93322/link_lists.bin (deflated 67%)\r\n",
      "  adding: kaggle/working/mk-vectordb-chroma-nineteen/134d2b71-ee38-4a19-b67c-cf9e5fa93322/index_metadata.pickle (deflated 81%)\r\n",
      "  adding: kaggle/working/mk-vectordb-chroma-nineteen/134d2b71-ee38-4a19-b67c-cf9e5fa93322/header.bin (deflated 52%)\r\n",
      "  adding: kaggle/working/mk-vectordb-chroma-nineteen/134d2b71-ee38-4a19-b67c-cf9e5fa93322/length.bin (deflated 73%)\r\n",
      "  adding: kaggle/working/mk-vectordb-chroma-nineteen/134d2b71-ee38-4a19-b67c-cf9e5fa93322/data_level0.bin (deflated 9%)\r\n",
      "  adding: kaggle/working/mk-vectordb-chroma-nineteen/chroma.sqlite3 (deflated 45%)\r\n",
      "CPU times: user 6.34 s, sys: 1 s, total: 7.34 s\n",
      "Wall time: 8min 48s\n"
     ]
    }
   ],
   "source": [
    "%%time\n",
    "\n",
    "!zip -r file.zip /kaggle/working/mk-vectordb-chroma-nineteen"
   ]
  },
  {
   "cell_type": "code",
   "execution_count": 13,
   "id": "e3c0013e",
   "metadata": {
    "execution": {
     "iopub.execute_input": "2023-10-18T03:48:35.786227Z",
     "iopub.status.busy": "2023-10-18T03:48:35.785269Z",
     "iopub.status.idle": "2023-10-18T03:48:35.789784Z",
     "shell.execute_reply": "2023-10-18T03:48:35.789004Z"
    },
    "papermill": {
     "duration": 0.16849,
     "end_time": "2023-10-18T03:48:35.791374",
     "exception": false,
     "start_time": "2023-10-18T03:48:35.622884",
     "status": "completed"
    },
    "tags": []
   },
   "outputs": [],
   "source": [
    "#shutil.rmtree('/kaggle/working/dataset',ignore_errors=True)\n",
    "#os.remove('/kaggle/working/file.zip')"
   ]
  }
 ],
 "metadata": {
  "kernelspec": {
   "display_name": "Python 3",
   "language": "python",
   "name": "python3"
  },
  "language_info": {
   "codemirror_mode": {
    "name": "ipython",
    "version": 3
   },
   "file_extension": ".py",
   "mimetype": "text/x-python",
   "name": "python",
   "nbconvert_exporter": "python",
   "pygments_lexer": "ipython3",
   "version": "3.10.12"
  },
  "papermill": {
   "default_parameters": {},
   "duration": 22004.898664,
   "end_time": "2023-10-18T03:48:39.750272",
   "environment_variables": {},
   "exception": null,
   "input_path": "__notebook__.ipynb",
   "output_path": "__notebook__.ipynb",
   "parameters": {},
   "start_time": "2023-10-17T21:41:54.851608",
   "version": "2.4.0"
  }
 },
 "nbformat": 4,
 "nbformat_minor": 5
}
