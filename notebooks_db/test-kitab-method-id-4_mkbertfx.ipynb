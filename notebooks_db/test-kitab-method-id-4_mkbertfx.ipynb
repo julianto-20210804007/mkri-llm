{
 "cells": [
  {
   "cell_type": "markdown",
   "id": "47399bcd",
   "metadata": {
    "papermill": {
     "duration": 0.003938,
     "end_time": "2023-10-23T06:42:49.544357",
     "exception": false,
     "start_time": "2023-10-23T06:42:49.540419",
     "status": "completed"
    },
    "tags": []
   },
   "source": [
    "### https://www.kaggle.com/code/deepak180222/question-answering-using-bloom-7b1-and-chromadb"
   ]
  },
  {
   "cell_type": "code",
   "execution_count": 1,
   "id": "405bf4bb",
   "metadata": {
    "execution": {
     "iopub.execute_input": "2023-10-23T06:42:49.552907Z",
     "iopub.status.busy": "2023-10-23T06:42:49.552548Z",
     "iopub.status.idle": "2023-10-23T06:42:50.511042Z",
     "shell.execute_reply": "2023-10-23T06:42:50.510069Z"
    },
    "papermill": {
     "duration": 0.965477,
     "end_time": "2023-10-23T06:42:50.513475",
     "exception": false,
     "start_time": "2023-10-23T06:42:49.547998",
     "status": "completed"
    },
    "tags": []
   },
   "outputs": [
    {
     "name": "stdout",
     "output_type": "stream",
     "text": [
      "GPU 0: Tesla P100-PCIE-16GB (UUID: GPU-cce78278-2d3b-2792-b7bf-b8df28299318)\r\n"
     ]
    }
   ],
   "source": [
    "! nvidia-smi -L"
   ]
  },
  {
   "cell_type": "code",
   "execution_count": 2,
   "id": "65d9d382",
   "metadata": {
    "execution": {
     "iopub.execute_input": "2023-10-23T06:42:50.522823Z",
     "iopub.status.busy": "2023-10-23T06:42:50.522489Z",
     "iopub.status.idle": "2023-10-23T06:43:57.770504Z",
     "shell.execute_reply": "2023-10-23T06:43:57.769136Z"
    },
    "papermill": {
     "duration": 67.255438,
     "end_time": "2023-10-23T06:43:57.772904",
     "exception": false,
     "start_time": "2023-10-23T06:42:50.517466",
     "status": "completed"
    },
    "tags": []
   },
   "outputs": [
    {
     "name": "stdout",
     "output_type": "stream",
     "text": [
      "\u001b[31mERROR: pip's dependency resolver does not currently take into account all the packages that are installed. This behaviour is the source of the following dependency conflicts.\r\n",
      "apache-beam 2.46.0 requires dill<0.3.2,>=0.3.1.1, but you have dill 0.3.7 which is incompatible.\r\n",
      "apache-beam 2.46.0 requires pyarrow<10.0.0,>=3.0.0, but you have pyarrow 11.0.0 which is incompatible.\r\n",
      "google-cloud-pubsublite 1.8.2 requires overrides<7.0.0,>=6.0.1, but you have overrides 7.4.0 which is incompatible.\r\n",
      "jupyterlab-lsp 4.2.0 requires jupyter-lsp>=2.0.0, but you have jupyter-lsp 1.5.1 which is incompatible.\r\n",
      "ray 2.5.1 requires grpcio<=1.51.3,>=1.42.0; python_version >= \"3.10\" and sys_platform != \"darwin\", but you have grpcio 1.59.0 which is incompatible.\u001b[0m\u001b[31m\r\n",
      "\u001b[0m\u001b[31mERROR: pip's dependency resolver does not currently take into account all the packages that are installed. This behaviour is the source of the following dependency conflicts.\r\n",
      "chromadb 0.4.14 requires grpcio>=1.58.0, but you have grpcio 1.51.3 which is incompatible.\u001b[0m\u001b[31m\r\n",
      "\u001b[0mCPU times: user 924 ms, sys: 203 ms, total: 1.13 s\n",
      "Wall time: 1min 7s\n"
     ]
    }
   ],
   "source": [
    "%%time\n",
    "\n",
    "! pip install -qq -U langchain tiktoken pypdf chromadb faiss-gpu\n",
    "! pip install -qq -U transformers InstructorEmbedding sentence_transformers"
   ]
  },
  {
   "cell_type": "code",
   "execution_count": 3,
   "id": "8ab81be4",
   "metadata": {
    "execution": {
     "iopub.execute_input": "2023-10-23T06:43:57.782530Z",
     "iopub.status.busy": "2023-10-23T06:43:57.782218Z",
     "iopub.status.idle": "2023-10-23T06:44:05.813378Z",
     "shell.execute_reply": "2023-10-23T06:44:05.812563Z"
    },
    "papermill": {
     "duration": 8.038684,
     "end_time": "2023-10-23T06:44:05.815768",
     "exception": false,
     "start_time": "2023-10-23T06:43:57.777084",
     "status": "completed"
    },
    "tags": []
   },
   "outputs": [
    {
     "name": "stderr",
     "output_type": "stream",
     "text": [
      "/opt/conda/lib/python3.10/site-packages/InstructorEmbedding/instructor.py:7: TqdmExperimentalWarning: Using `tqdm.autonotebook.tqdm` in notebook mode. Use `tqdm.tqdm` instead to force console mode (e.g. in jupyter console)\n",
      "  from tqdm.autonotebook import trange\n",
      "/opt/conda/lib/python3.10/site-packages/scipy/__init__.py:146: UserWarning: A NumPy version >=1.16.5 and <1.23.0 is required for this version of SciPy (detected version 1.23.5\n",
      "  warnings.warn(f\"A NumPy version >={np_minversion} and <{np_maxversion}\"\n"
     ]
    }
   ],
   "source": [
    "import os\n",
    "import textwrap\n",
    "import glob\n",
    "import shutil\n",
    "\n",
    "import langchain\n",
    "from langchain.llms import HuggingFacePipeline\n",
    "from InstructorEmbedding import INSTRUCTOR\n",
    "from langchain.embeddings import HuggingFaceInstructEmbeddings\n",
    "\n",
    "from langchain.vectorstores import Chroma, FAISS\n",
    "from langchain.text_splitter import RecursiveCharacterTextSplitter\n",
    "\n",
    "from langchain.chains import RetrievalQA, VectorDBQA\n",
    "from langchain.document_loaders import PyPDFLoader\n",
    "from langchain.document_loaders import DirectoryLoader"
   ]
  },
  {
   "cell_type": "code",
   "execution_count": 4,
   "id": "40690b0b",
   "metadata": {
    "execution": {
     "iopub.execute_input": "2023-10-23T06:44:05.825705Z",
     "iopub.status.busy": "2023-10-23T06:44:05.825229Z",
     "iopub.status.idle": "2023-10-23T06:44:05.829346Z",
     "shell.execute_reply": "2023-10-23T06:44:05.828455Z"
    },
    "papermill": {
     "duration": 0.010995,
     "end_time": "2023-10-23T06:44:05.831242",
     "exception": false,
     "start_time": "2023-10-23T06:44:05.820247",
     "status": "completed"
    },
    "tags": []
   },
   "outputs": [],
   "source": [
    "#os.makedirs('/kaggle/working/mk-vectordb-chroma')"
   ]
  },
  {
   "cell_type": "code",
   "execution_count": 5,
   "id": "c81689f5",
   "metadata": {
    "execution": {
     "iopub.execute_input": "2023-10-23T06:44:05.840754Z",
     "iopub.status.busy": "2023-10-23T06:44:05.840474Z",
     "iopub.status.idle": "2023-10-23T06:44:05.844556Z",
     "shell.execute_reply": "2023-10-23T06:44:05.843676Z"
    },
    "papermill": {
     "duration": 0.010842,
     "end_time": "2023-10-23T06:44:05.846340",
     "exception": false,
     "start_time": "2023-10-23T06:44:05.835498",
     "status": "completed"
    },
    "tags": []
   },
   "outputs": [],
   "source": [
    "#shutil.rmtree('/kaggle/working/mk-vectordb-chroma',ignore_errors=True)"
   ]
  },
  {
   "cell_type": "code",
   "execution_count": 6,
   "id": "57eadbf3",
   "metadata": {
    "execution": {
     "iopub.execute_input": "2023-10-23T06:44:05.855837Z",
     "iopub.status.busy": "2023-10-23T06:44:05.855574Z",
     "iopub.status.idle": "2023-10-23T06:44:05.859174Z",
     "shell.execute_reply": "2023-10-23T06:44:05.858383Z"
    },
    "papermill": {
     "duration": 0.01042,
     "end_time": "2023-10-23T06:44:05.861015",
     "exception": false,
     "start_time": "2023-10-23T06:44:05.850595",
     "status": "completed"
    },
    "tags": []
   },
   "outputs": [],
   "source": [
    "#shutil.copytree('/kaggle/input/mkvc-2-part-1/kaggle/working/mk-vectordb-chroma-two', '/kaggle/working/mk-vectordb-chroma-two')"
   ]
  },
  {
   "cell_type": "code",
   "execution_count": 7,
   "id": "9523fd01",
   "metadata": {
    "execution": {
     "iopub.execute_input": "2023-10-23T06:44:05.870238Z",
     "iopub.status.busy": "2023-10-23T06:44:05.869977Z",
     "iopub.status.idle": "2023-10-23T06:44:05.873707Z",
     "shell.execute_reply": "2023-10-23T06:44:05.872889Z"
    },
    "papermill": {
     "duration": 0.01043,
     "end_time": "2023-10-23T06:44:05.875543",
     "exception": false,
     "start_time": "2023-10-23T06:44:05.865113",
     "status": "completed"
    },
    "tags": []
   },
   "outputs": [],
   "source": [
    "#shutil.rmtree('/kaggle/working/dataset',ignore_errors=True)"
   ]
  },
  {
   "cell_type": "code",
   "execution_count": 8,
   "id": "72f8fc73",
   "metadata": {
    "execution": {
     "iopub.execute_input": "2023-10-23T06:44:05.885127Z",
     "iopub.status.busy": "2023-10-23T06:44:05.884872Z",
     "iopub.status.idle": "2023-10-23T06:44:05.888576Z",
     "shell.execute_reply": "2023-10-23T06:44:05.887680Z"
    },
    "papermill": {
     "duration": 0.010665,
     "end_time": "2023-10-23T06:44:05.890486",
     "exception": false,
     "start_time": "2023-10-23T06:44:05.879821",
     "status": "completed"
    },
    "tags": []
   },
   "outputs": [],
   "source": [
    "#os.makedirs('/kaggle/working/dataset')"
   ]
  },
  {
   "cell_type": "code",
   "execution_count": 9,
   "id": "ff0e11a8",
   "metadata": {
    "execution": {
     "iopub.execute_input": "2023-10-23T06:44:05.900170Z",
     "iopub.status.busy": "2023-10-23T06:44:05.899879Z",
     "iopub.status.idle": "2023-10-23T06:44:05.903458Z",
     "shell.execute_reply": "2023-10-23T06:44:05.902664Z"
    },
    "papermill": {
     "duration": 0.010434,
     "end_time": "2023-10-23T06:44:05.905274",
     "exception": false,
     "start_time": "2023-10-23T06:44:05.894840",
     "status": "completed"
    },
    "tags": []
   },
   "outputs": [],
   "source": [
    "#os.remove('/kaggle/working/file.zip')"
   ]
  },
  {
   "cell_type": "code",
   "execution_count": 10,
   "id": "c893e26c",
   "metadata": {
    "execution": {
     "iopub.execute_input": "2023-10-23T06:44:05.915074Z",
     "iopub.status.busy": "2023-10-23T06:44:05.914759Z",
     "iopub.status.idle": "2023-10-23T06:44:17.594102Z",
     "shell.execute_reply": "2023-10-23T06:44:17.593005Z"
    },
    "papermill": {
     "duration": 11.686724,
     "end_time": "2023-10-23T06:44:17.596435",
     "exception": false,
     "start_time": "2023-10-23T06:44:05.909711",
     "status": "completed"
    },
    "tags": []
   },
   "outputs": [
    {
     "name": "stdout",
     "output_type": "stream",
     "text": [
      "load INSTRUCTOR_Transformer\n",
      "max_seq_length  512\n",
      "CPU times: user 4.3 s, sys: 1.31 s, total: 5.61 s\n",
      "Wall time: 11.7 s\n"
     ]
    }
   ],
   "source": [
    "%%time\n",
    "from sentence_transformers import SentenceTransformer, models\n",
    "#from chromadb import Documents, EmbeddingFunction, Embeddings\n",
    "#instructor_embeddings = HuggingFaceInstructEmbeddings(model_name=\"LazarusNLP/simcse-indobert-lite-base\", model_kwargs={\"device\": \"cuda\"})\n",
    "instructor_embeddings = HuggingFaceInstructEmbeddings(model_name=\"/kaggle/input/mkbertfx\",model_kwargs={\"device\": \"cuda\"})"
   ]
  },
  {
   "cell_type": "code",
   "execution_count": 11,
   "id": "2e970af5",
   "metadata": {
    "execution": {
     "iopub.execute_input": "2023-10-23T06:44:17.607794Z",
     "iopub.status.busy": "2023-10-23T06:44:17.607493Z",
     "iopub.status.idle": "2023-10-23T15:01:47.325228Z",
     "shell.execute_reply": "2023-10-23T15:01:47.324187Z"
    },
    "papermill": {
     "duration": 29849.725982,
     "end_time": "2023-10-23T15:01:47.327637",
     "exception": false,
     "start_time": "2023-10-23T06:44:17.601655",
     "status": "completed"
    },
    "tags": []
   },
   "outputs": [
    {
     "name": "stdout",
     "output_type": "stream",
     "text": [
      "1 1  ~  100\n",
      "100\n"
     ]
    },
    {
     "name": "stderr",
     "output_type": "stream",
     "text": [
      "100%|██████████| 100/100 [06:37<00:00,  3.98s/it]\n"
     ]
    },
    {
     "name": "stdout",
     "output_type": "stream",
     "text": [
      "6761\n",
      "16053\n",
      "2 101  ~  200\n",
      "100\n"
     ]
    },
    {
     "name": "stderr",
     "output_type": "stream",
     "text": [
      "100%|██████████| 100/100 [09:36<00:00,  5.77s/it]\n"
     ]
    },
    {
     "name": "stdout",
     "output_type": "stream",
     "text": [
      "8732\n",
      "20912\n",
      "3 201  ~  300\n",
      "100\n"
     ]
    },
    {
     "name": "stderr",
     "output_type": "stream",
     "text": [
      "100%|██████████| 100/100 [07:31<00:00,  4.51s/it]\n"
     ]
    },
    {
     "name": "stdout",
     "output_type": "stream",
     "text": [
      "7405\n",
      "18159\n",
      "4 301  ~  400\n",
      "100\n"
     ]
    },
    {
     "name": "stderr",
     "output_type": "stream",
     "text": [
      "100%|██████████| 100/100 [10:18<00:00,  6.19s/it]\n"
     ]
    },
    {
     "name": "stdout",
     "output_type": "stream",
     "text": [
      "9721\n",
      "22764\n",
      "5 401  ~  500\n",
      "100\n"
     ]
    },
    {
     "name": "stderr",
     "output_type": "stream",
     "text": [
      "100%|██████████| 100/100 [07:13<00:00,  4.33s/it]\n"
     ]
    },
    {
     "name": "stdout",
     "output_type": "stream",
     "text": [
      "7434\n",
      "18162\n",
      "6 501  ~  600\n",
      "100\n"
     ]
    },
    {
     "name": "stderr",
     "output_type": "stream",
     "text": [
      "100%|██████████| 100/100 [07:57<00:00,  4.77s/it]\n"
     ]
    },
    {
     "name": "stdout",
     "output_type": "stream",
     "text": [
      "9379\n",
      "23355\n",
      "7 601  ~  700\n",
      "100\n"
     ]
    },
    {
     "name": "stderr",
     "output_type": "stream",
     "text": [
      "100%|██████████| 100/100 [07:27<00:00,  4.47s/it]\n"
     ]
    },
    {
     "name": "stdout",
     "output_type": "stream",
     "text": [
      "8135\n",
      "20260\n",
      "8 701  ~  800\n",
      "100\n"
     ]
    },
    {
     "name": "stderr",
     "output_type": "stream",
     "text": [
      " 85%|████████▌ | 85/100 [06:45<00:56,  3.75s/it]/opt/conda/lib/python3.10/site-packages/pypdf/_cmap.py:177: PdfReadWarning: Advanced encoding /SymbolSetEncoding not implemented yet\n",
      "  warnings.warn(\n",
      "100%|██████████| 100/100 [07:50<00:00,  4.71s/it]\n"
     ]
    },
    {
     "name": "stdout",
     "output_type": "stream",
     "text": [
      "8195\n",
      "20113\n",
      "9 801  ~  900\n",
      "100\n"
     ]
    },
    {
     "name": "stderr",
     "output_type": "stream",
     "text": [
      "100%|██████████| 100/100 [19:18<00:00, 11.58s/it] \n"
     ]
    },
    {
     "name": "stdout",
     "output_type": "stream",
     "text": [
      "14198\n",
      "38832\n",
      "10 901  ~  1000\n",
      "100\n"
     ]
    },
    {
     "name": "stderr",
     "output_type": "stream",
     "text": [
      "100%|██████████| 100/100 [07:29<00:00,  4.50s/it]\n"
     ]
    },
    {
     "name": "stdout",
     "output_type": "stream",
     "text": [
      "8287\n",
      "19920\n",
      "11 1001  ~  1100\n",
      "100\n"
     ]
    },
    {
     "name": "stderr",
     "output_type": "stream",
     "text": [
      "100%|██████████| 100/100 [08:01<00:00,  4.81s/it]\n"
     ]
    },
    {
     "name": "stdout",
     "output_type": "stream",
     "text": [
      "8547\n",
      "20033\n",
      "12 1101  ~  1200\n",
      "100\n"
     ]
    },
    {
     "name": "stderr",
     "output_type": "stream",
     "text": [
      "100%|██████████| 100/100 [08:08<00:00,  4.89s/it]\n"
     ]
    },
    {
     "name": "stdout",
     "output_type": "stream",
     "text": [
      "7848\n",
      "19444\n",
      "13 1201  ~  1300\n",
      "100\n"
     ]
    },
    {
     "name": "stderr",
     "output_type": "stream",
     "text": [
      "100%|██████████| 100/100 [09:23<00:00,  5.63s/it]\n"
     ]
    },
    {
     "name": "stdout",
     "output_type": "stream",
     "text": [
      "9787\n",
      "24069\n",
      "14 1301  ~  1400\n",
      "100\n"
     ]
    },
    {
     "name": "stderr",
     "output_type": "stream",
     "text": [
      "100%|██████████| 100/100 [08:35<00:00,  5.16s/it]\n"
     ]
    },
    {
     "name": "stdout",
     "output_type": "stream",
     "text": [
      "8207\n",
      "20316\n",
      "15 1401  ~  1500\n",
      "100\n"
     ]
    },
    {
     "name": "stderr",
     "output_type": "stream",
     "text": [
      "100%|██████████| 100/100 [08:08<00:00,  4.89s/it]\n"
     ]
    },
    {
     "name": "stdout",
     "output_type": "stream",
     "text": [
      "8093\n",
      "19804\n",
      "16 1501  ~  1600\n",
      "100\n"
     ]
    },
    {
     "name": "stderr",
     "output_type": "stream",
     "text": [
      "100%|██████████| 100/100 [08:29<00:00,  5.09s/it]\n"
     ]
    },
    {
     "name": "stdout",
     "output_type": "stream",
     "text": [
      "8256\n",
      "20323\n",
      "17 1601  ~  1700\n",
      "100\n"
     ]
    },
    {
     "name": "stderr",
     "output_type": "stream",
     "text": [
      "100%|██████████| 100/100 [06:42<00:00,  4.03s/it]\n"
     ]
    },
    {
     "name": "stdout",
     "output_type": "stream",
     "text": [
      "7835\n",
      "18720\n",
      "18 1701  ~  1800\n",
      "100\n"
     ]
    },
    {
     "name": "stderr",
     "output_type": "stream",
     "text": [
      "100%|██████████| 100/100 [08:41<00:00,  5.21s/it]\n"
     ]
    },
    {
     "name": "stdout",
     "output_type": "stream",
     "text": [
      "8719\n",
      "21221\n",
      "19 1801  ~  1900\n",
      "100\n"
     ]
    },
    {
     "name": "stderr",
     "output_type": "stream",
     "text": [
      "100%|██████████| 100/100 [06:39<00:00,  4.00s/it]\n"
     ]
    },
    {
     "name": "stdout",
     "output_type": "stream",
     "text": [
      "7426\n",
      "17779\n",
      "20 1901  ~  2000\n",
      "100\n"
     ]
    },
    {
     "name": "stderr",
     "output_type": "stream",
     "text": [
      "100%|██████████| 100/100 [06:28<00:00,  3.89s/it]\n"
     ]
    },
    {
     "name": "stdout",
     "output_type": "stream",
     "text": [
      "7904\n",
      "19475\n",
      "21 2001  ~  2100\n",
      "100\n"
     ]
    },
    {
     "name": "stderr",
     "output_type": "stream",
     "text": [
      "100%|██████████| 100/100 [07:59<00:00,  4.79s/it]\n"
     ]
    },
    {
     "name": "stdout",
     "output_type": "stream",
     "text": [
      "9187\n",
      "22822\n",
      "22 2101  ~  2200\n",
      "100\n"
     ]
    },
    {
     "name": "stderr",
     "output_type": "stream",
     "text": [
      "100%|██████████| 100/100 [08:40<00:00,  5.20s/it]\n"
     ]
    },
    {
     "name": "stdout",
     "output_type": "stream",
     "text": [
      "8111\n",
      "20122\n",
      "23 2201  ~  2300\n",
      "100\n"
     ]
    },
    {
     "name": "stderr",
     "output_type": "stream",
     "text": [
      "100%|██████████| 100/100 [06:25<00:00,  3.86s/it]\n"
     ]
    },
    {
     "name": "stdout",
     "output_type": "stream",
     "text": [
      "7229\n",
      "17314\n",
      "24 2301  ~  2400\n",
      "100\n"
     ]
    },
    {
     "name": "stderr",
     "output_type": "stream",
     "text": [
      "100%|██████████| 100/100 [08:26<00:00,  5.07s/it]\n"
     ]
    },
    {
     "name": "stdout",
     "output_type": "stream",
     "text": [
      "9056\n",
      "20993\n",
      "25 2401  ~  2500\n",
      "100\n"
     ]
    },
    {
     "name": "stderr",
     "output_type": "stream",
     "text": [
      "100%|██████████| 100/100 [06:45<00:00,  4.05s/it]\n"
     ]
    },
    {
     "name": "stdout",
     "output_type": "stream",
     "text": [
      "6711\n",
      "16649\n",
      "26 2501  ~  2600\n",
      "100\n"
     ]
    },
    {
     "name": "stderr",
     "output_type": "stream",
     "text": [
      "100%|██████████| 100/100 [07:43<00:00,  4.63s/it]\n"
     ]
    },
    {
     "name": "stdout",
     "output_type": "stream",
     "text": [
      "7732\n",
      "18778\n",
      "27 2601  ~  2700\n",
      "100\n"
     ]
    },
    {
     "name": "stderr",
     "output_type": "stream",
     "text": [
      "100%|██████████| 100/100 [08:33<00:00,  5.13s/it]\n"
     ]
    },
    {
     "name": "stdout",
     "output_type": "stream",
     "text": [
      "8986\n",
      "22088\n",
      "28 2701  ~  2800\n",
      "100\n"
     ]
    },
    {
     "name": "stderr",
     "output_type": "stream",
     "text": [
      "100%|██████████| 100/100 [07:21<00:00,  4.42s/it]\n"
     ]
    },
    {
     "name": "stdout",
     "output_type": "stream",
     "text": [
      "7606\n",
      "18738\n",
      "29 2801  ~  2900\n",
      "100\n"
     ]
    },
    {
     "name": "stderr",
     "output_type": "stream",
     "text": [
      "100%|██████████| 100/100 [09:56<00:00,  5.96s/it]\n"
     ]
    },
    {
     "name": "stdout",
     "output_type": "stream",
     "text": [
      "8652\n",
      "20603\n",
      "30 2901  ~  3000\n",
      "100\n"
     ]
    },
    {
     "name": "stderr",
     "output_type": "stream",
     "text": [
      "100%|██████████| 100/100 [10:14<00:00,  6.14s/it]\n"
     ]
    },
    {
     "name": "stdout",
     "output_type": "stream",
     "text": [
      "8341\n",
      "19567\n",
      "31 3001  ~  3100\n",
      "100\n"
     ]
    },
    {
     "name": "stderr",
     "output_type": "stream",
     "text": [
      "100%|██████████| 100/100 [07:52<00:00,  4.73s/it]\n"
     ]
    },
    {
     "name": "stdout",
     "output_type": "stream",
     "text": [
      "7591\n",
      "18652\n",
      "32 3101  ~  3200\n",
      "100\n"
     ]
    },
    {
     "name": "stderr",
     "output_type": "stream",
     "text": [
      "100%|██████████| 100/100 [08:13<00:00,  4.94s/it]\n"
     ]
    },
    {
     "name": "stdout",
     "output_type": "stream",
     "text": [
      "7851\n",
      "18961\n",
      "33 3201  ~  3300\n",
      "100\n"
     ]
    },
    {
     "name": "stderr",
     "output_type": "stream",
     "text": [
      "100%|██████████| 100/100 [06:28<00:00,  3.88s/it]\n"
     ]
    },
    {
     "name": "stdout",
     "output_type": "stream",
     "text": [
      "7882\n",
      "19336\n",
      "34 3301  ~  3400\n",
      "100\n"
     ]
    },
    {
     "name": "stderr",
     "output_type": "stream",
     "text": [
      "100%|██████████| 100/100 [07:51<00:00,  4.72s/it]\n"
     ]
    },
    {
     "name": "stdout",
     "output_type": "stream",
     "text": [
      "8353\n",
      "19426\n",
      "35 3401  ~  3500\n",
      "100\n"
     ]
    },
    {
     "name": "stderr",
     "output_type": "stream",
     "text": [
      "100%|██████████| 100/100 [10:01<00:00,  6.01s/it]\n"
     ]
    },
    {
     "name": "stdout",
     "output_type": "stream",
     "text": [
      "9229\n",
      "22392\n",
      "36 3501  ~  3600\n",
      "100\n"
     ]
    },
    {
     "name": "stderr",
     "output_type": "stream",
     "text": [
      "100%|██████████| 100/100 [06:32<00:00,  3.92s/it]\n"
     ]
    },
    {
     "name": "stdout",
     "output_type": "stream",
     "text": [
      "6640\n",
      "15967\n",
      "37 3601  ~  3700\n",
      "100\n"
     ]
    },
    {
     "name": "stderr",
     "output_type": "stream",
     "text": [
      "100%|██████████| 100/100 [10:49<00:00,  6.49s/it]\n"
     ]
    },
    {
     "name": "stdout",
     "output_type": "stream",
     "text": [
      "10930\n",
      "25827\n",
      "38 3701  ~  3800\n",
      "100\n"
     ]
    },
    {
     "name": "stderr",
     "output_type": "stream",
     "text": [
      "100%|██████████| 100/100 [08:09<00:00,  4.90s/it]\n"
     ]
    },
    {
     "name": "stdout",
     "output_type": "stream",
     "text": [
      "8764\n",
      "21540\n",
      "39 3801  ~  3900\n",
      "100\n"
     ]
    },
    {
     "name": "stderr",
     "output_type": "stream",
     "text": [
      "100%|██████████| 100/100 [06:20<00:00,  3.81s/it]\n"
     ]
    },
    {
     "name": "stdout",
     "output_type": "stream",
     "text": [
      "7445\n",
      "17887\n",
      "40 3901  ~  4000\n",
      "94\n"
     ]
    },
    {
     "name": "stderr",
     "output_type": "stream",
     "text": [
      "100%|██████████| 94/94 [06:40<00:00,  4.26s/it]\n"
     ]
    },
    {
     "name": "stdout",
     "output_type": "stream",
     "text": [
      "6862\n",
      "17065\n"
     ]
    }
   ],
   "source": [
    "noke = 0\n",
    "based_ke_from = 0\n",
    "actual_from = 0\n",
    "actual_to = 0\n",
    "\n",
    "for x in range(40):\n",
    "    noke += 1\n",
    "    \n",
    "    actual_from = based_ke_from+1\n",
    "    actual_to = based_ke_from+100 \n",
    "    \n",
    "    print(noke,actual_from,\" ~ \",actual_to)\n",
    "    based_ke_from = actual_to\n",
    "    \n",
    "    shutil.rmtree('/kaggle/working/dataset',ignore_errors=True)\n",
    "    os.makedirs('/kaggle/working/dataset')\n",
    "    \n",
    "    #Pindahkan 100\n",
    "    files = glob.glob(\"/kaggle/input/mkri-fullset/*\")\n",
    "    ke = 0\n",
    "    for file in files:\n",
    "        ke += 1\n",
    "        if ke >= actual_from and ke <= actual_to:\n",
    "            shutil.copy(file, '/kaggle/working/dataset/')\n",
    "            \n",
    "    print(len(glob.glob('/kaggle/working/dataset/*')))\n",
    "    \n",
    "    loader = DirectoryLoader('/kaggle/working/dataset/', \n",
    "                             glob=\"./*.pdf\",\n",
    "                             loader_cls=PyPDFLoader,\n",
    "                             show_progress=True,\n",
    "                             use_multithreading=True)\n",
    "\n",
    "    documents = loader.load()\n",
    "    \n",
    "    ### clean a bit\n",
    "    for i in range(len(documents)):\n",
    "        documents[i].page_content = documents[i].page_content.replace('\\t', ' ')\\\n",
    "                                                             .replace('\\n', ' ')\\\n",
    "                                                             .replace('       ', ' ')\\\n",
    "                                                             .replace('      ', ' ')\\\n",
    "                                                             .replace('     ', ' ')\\\n",
    "                                                             .replace('    ', ' ')\\\n",
    "                                                             .replace('   ', ' ')\\\n",
    "                                                             .replace('  ', ' ')\n",
    "        \n",
    "    print(len(documents))\n",
    "    \n",
    "    #print(documents[30].page_content)\n",
    "    \n",
    "    text_splitter = RecursiveCharacterTextSplitter(chunk_size=1000, chunk_overlap=0)\n",
    "    texts = text_splitter.split_documents(documents)\n",
    "    print(len(texts))\n",
    "    \n",
    "    persist_directory = 'mk-vectordb-chroma-twenty'\n",
    "\n",
    "    ### create embeddings and DB\n",
    "    vectordb = Chroma.from_documents(documents=texts,\n",
    "                                     embedding=instructor_embeddings,\n",
    "                                     persist_directory=persist_directory,\n",
    "                                     collection_name='mk_docs')\n",
    "\n",
    "\n",
    "    ### persist Chroma database\n",
    "    vectordb.persist()"
   ]
  },
  {
   "cell_type": "code",
   "execution_count": 12,
   "id": "34f2f5e1",
   "metadata": {
    "execution": {
     "iopub.execute_input": "2023-10-23T15:01:47.961119Z",
     "iopub.status.busy": "2023-10-23T15:01:47.960504Z",
     "iopub.status.idle": "2023-10-23T15:10:45.723657Z",
     "shell.execute_reply": "2023-10-23T15:10:45.722237Z"
    },
    "papermill": {
     "duration": 538.086975,
     "end_time": "2023-10-23T15:10:45.725911",
     "exception": false,
     "start_time": "2023-10-23T15:01:47.638936",
     "status": "completed"
    },
    "tags": []
   },
   "outputs": [
    {
     "name": "stderr",
     "output_type": "stream",
     "text": [
      "huggingface/tokenizers: The current process just got forked, after parallelism has already been used. Disabling parallelism to avoid deadlocks...\n",
      "To disable this warning, you can either:\n",
      "\t- Avoid using `tokenizers` before the fork if possible\n",
      "\t- Explicitly set the environment variable TOKENIZERS_PARALLELISM=(true | false)\n"
     ]
    },
    {
     "name": "stdout",
     "output_type": "stream",
     "text": [
      "  adding: kaggle/working/mk-vectordb-chroma-twenty/ (stored 0%)\r\n",
      "  adding: kaggle/working/mk-vectordb-chroma-twenty/chroma.sqlite3 (deflated 45%)\r\n",
      "  adding: kaggle/working/mk-vectordb-chroma-twenty/795e5318-7c71-4aa8-849e-6715cb741e3b/ (stored 0%)\r\n",
      "  adding: kaggle/working/mk-vectordb-chroma-twenty/795e5318-7c71-4aa8-849e-6715cb741e3b/length.bin (deflated 67%)\r\n",
      "  adding: kaggle/working/mk-vectordb-chroma-twenty/795e5318-7c71-4aa8-849e-6715cb741e3b/header.bin (deflated 52%)\r\n",
      "  adding: kaggle/working/mk-vectordb-chroma-twenty/795e5318-7c71-4aa8-849e-6715cb741e3b/data_level0.bin (deflated 9%)\r\n",
      "  adding: kaggle/working/mk-vectordb-chroma-twenty/795e5318-7c71-4aa8-849e-6715cb741e3b/index_metadata.pickle (deflated 81%)\r\n",
      "  adding: kaggle/working/mk-vectordb-chroma-twenty/795e5318-7c71-4aa8-849e-6715cb741e3b/link_lists.bin (deflated 67%)\r\n",
      "CPU times: user 8.57 s, sys: 1.8 s, total: 10.4 s\n",
      "Wall time: 8min 57s\n"
     ]
    }
   ],
   "source": [
    "%%time\n",
    "\n",
    "!zip -r file.zip /kaggle/working/mk-vectordb-chroma-twenty"
   ]
  },
  {
   "cell_type": "code",
   "execution_count": 13,
   "id": "d38be8a7",
   "metadata": {
    "execution": {
     "iopub.execute_input": "2023-10-23T15:10:46.467682Z",
     "iopub.status.busy": "2023-10-23T15:10:46.466676Z",
     "iopub.status.idle": "2023-10-23T15:10:46.471666Z",
     "shell.execute_reply": "2023-10-23T15:10:46.470786Z"
    },
    "papermill": {
     "duration": 0.32694,
     "end_time": "2023-10-23T15:10:46.473744",
     "exception": false,
     "start_time": "2023-10-23T15:10:46.146804",
     "status": "completed"
    },
    "tags": []
   },
   "outputs": [],
   "source": [
    "#shutil.rmtree('/kaggle/working/dataset',ignore_errors=True)\n",
    "#os.remove('/kaggle/working/file.zip')"
   ]
  }
 ],
 "metadata": {
  "kernelspec": {
   "display_name": "Python 3",
   "language": "python",
   "name": "python3"
  },
  "language_info": {
   "codemirror_mode": {
    "name": "ipython",
    "version": 3
   },
   "file_extension": ".py",
   "mimetype": "text/x-python",
   "name": "python",
   "nbconvert_exporter": "python",
   "pygments_lexer": "ipython3",
   "version": "3.10.12"
  },
  "papermill": {
   "default_parameters": {},
   "duration": 30483.861457,
   "end_time": "2023-10-23T15:10:50.091084",
   "environment_variables": {},
   "exception": null,
   "input_path": "__notebook__.ipynb",
   "output_path": "__notebook__.ipynb",
   "parameters": {},
   "start_time": "2023-10-23T06:42:46.229627",
   "version": "2.4.0"
  }
 },
 "nbformat": 4,
 "nbformat_minor": 5
}
